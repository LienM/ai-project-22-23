{
 "cells": [
  {
   "cell_type": "markdown",
   "metadata": {},
   "source": [
    "# Lecture 2\n",
    "This is the work from the assignment we got in lecture 2, where we had to improve the provided base classifier, which had a mean prediction accuracy of 51%.\n",
    "\n",
    "## Summary\n",
    "The following things were done in this notebook:\n",
    "\n",
    "- **Generating negative samples**\n",
    "  - Code was provided\n",
    "\n",
    "- **Feature engineering**\n",
    "  - Engineered features\n",
    "    - `article_popularity`: time-weighted item popularity\n",
    "    - `member_status`: combination of `FN` and `Active`\n",
    "  - Other features that were used in the classifier, which were already available in the dataset:\n",
    "    - `price`\n",
    "    - `sales_channel_id`\n",
    "    - `age`\n",
    "    - `product_group_name`\n",
    "\n",
    "- **Preprocessing**\n",
    "   - Different types of preprocessing done:\n",
    "     - Memory reduction\n",
    "     - Log-transforming `article_popularity`\n",
    "     - One-hot-encoding categorical features `member_status` and `product_group_name` \n",
    "     - Standardized scaling all numerical columns (except `ordered`, as this is the label we try to predict)\n",
    "\n",
    "- **Training, Testing and Scoring**\n",
    "  - Train-test split: 90-10\n",
    "  - Logistic Regression classifier\n",
    "  - Mean accuracy: 77.87%\n",
    "\n",
    "---"
   ]
  },
  {
   "cell_type": "markdown",
   "metadata": {},
   "source": [
    "## Setup"
   ]
  },
  {
   "cell_type": "code",
   "execution_count": 1,
   "metadata": {
    "pycharm": {
     "is_executing": true
    }
   },
   "outputs": [],
   "source": [
    "import random\n",
    "\n",
    "import numpy as np\n",
    "import pandas as pd\n",
    "from sklearn.linear_model import LogisticRegression\n",
    "from sklearn.model_selection import train_test_split\n",
    "from sklearn.metrics import classification_report\n",
    "from sklearn import preprocessing\n",
    "\n",
    "from helpers.utils import DATA_PATH"
   ]
  },
  {
   "cell_type": "code",
   "execution_count": 2,
   "metadata": {
    "pycharm": {
     "is_executing": true
    }
   },
   "outputs": [],
   "source": [
    "sample = False\n",
    "sample_size = 5  # in percent\n",
    "if not sample:\n",
    "    articles = pd.read_csv(f'{DATA_PATH}/articles.csv')\n",
    "    customers = pd.read_csv(f'{DATA_PATH}/customers.csv')\n",
    "    transactions = pd.read_csv(f'{DATA_PATH}/transactions_train.csv')\n",
    "else:\n",
    "    articles = pd.read_csv(f'{DATA_PATH}/articles_sample{sample_size}.csv.gz')\n",
    "    customers = pd.read_csv(f'{DATA_PATH}/customers_sample{sample_size}.csv.gz')\n",
    "    transactions = pd.read_csv(f'{DATA_PATH}/transactions_sample{sample_size}.csv.gz')"
   ]
  },
  {
   "cell_type": "markdown",
   "metadata": {},
   "source": [
    "## The H&M Dataset"
   ]
  },
  {
   "cell_type": "code",
   "execution_count": 3,
   "metadata": {
    "pycharm": {
     "is_executing": true
    }
   },
   "outputs": [
    {
     "name": "stdout",
     "output_type": "stream",
     "text": [
      "<class 'pandas.core.frame.DataFrame'>\n",
      "RangeIndex: 105542 entries, 0 to 105541\n",
      "Data columns (total 25 columns):\n",
      " #   Column                        Non-Null Count   Dtype \n",
      "---  ------                        --------------   ----- \n",
      " 0   article_id                    105542 non-null  int64 \n",
      " 1   product_code                  105542 non-null  int64 \n",
      " 2   prod_name                     105542 non-null  object\n",
      " 3   product_type_no               105542 non-null  int64 \n",
      " 4   product_type_name             105542 non-null  object\n",
      " 5   product_group_name            105542 non-null  object\n",
      " 6   graphical_appearance_no       105542 non-null  int64 \n",
      " 7   graphical_appearance_name     105542 non-null  object\n",
      " 8   colour_group_code             105542 non-null  int64 \n",
      " 9   colour_group_name             105542 non-null  object\n",
      " 10  perceived_colour_value_id     105542 non-null  int64 \n",
      " 11  perceived_colour_value_name   105542 non-null  object\n",
      " 12  perceived_colour_master_id    105542 non-null  int64 \n",
      " 13  perceived_colour_master_name  105542 non-null  object\n",
      " 14  department_no                 105542 non-null  int64 \n",
      " 15  department_name               105542 non-null  object\n",
      " 16  index_code                    105542 non-null  object\n",
      " 17  index_name                    105542 non-null  object\n",
      " 18  index_group_no                105542 non-null  int64 \n",
      " 19  index_group_name              105542 non-null  object\n",
      " 20  section_no                    105542 non-null  int64 \n",
      " 21  section_name                  105542 non-null  object\n",
      " 22  garment_group_no              105542 non-null  int64 \n",
      " 23  garment_group_name            105542 non-null  object\n",
      " 24  detail_desc                   105126 non-null  object\n",
      "dtypes: int64(11), object(14)\n",
      "memory usage: 20.1+ MB\n"
     ]
    }
   ],
   "source": [
    "articles.info()"
   ]
  },
  {
   "cell_type": "code",
   "execution_count": 4,
   "metadata": {
    "pycharm": {
     "is_executing": true
    }
   },
   "outputs": [
    {
     "name": "stdout",
     "output_type": "stream",
     "text": [
      "<class 'pandas.core.frame.DataFrame'>\n",
      "RangeIndex: 1371980 entries, 0 to 1371979\n",
      "Data columns (total 7 columns):\n",
      " #   Column                  Non-Null Count    Dtype  \n",
      "---  ------                  --------------    -----  \n",
      " 0   customer_id             1371980 non-null  object \n",
      " 1   FN                      476930 non-null   float64\n",
      " 2   Active                  464404 non-null   float64\n",
      " 3   club_member_status      1365918 non-null  object \n",
      " 4   fashion_news_frequency  1355971 non-null  object \n",
      " 5   age                     1356119 non-null  float64\n",
      " 6   postal_code             1371980 non-null  object \n",
      "dtypes: float64(3), object(4)\n",
      "memory usage: 73.3+ MB\n"
     ]
    }
   ],
   "source": [
    "customers.info()"
   ]
  },
  {
   "cell_type": "code",
   "execution_count": 5,
   "metadata": {
    "pycharm": {
     "is_executing": true
    }
   },
   "outputs": [
    {
     "name": "stdout",
     "output_type": "stream",
     "text": [
      "<class 'pandas.core.frame.DataFrame'>\n",
      "RangeIndex: 31788324 entries, 0 to 31788323\n",
      "Data columns (total 5 columns):\n",
      " #   Column            Dtype  \n",
      "---  ------            -----  \n",
      " 0   t_dat             object \n",
      " 1   customer_id       object \n",
      " 2   article_id        int64  \n",
      " 3   price             float64\n",
      " 4   sales_channel_id  int64  \n",
      "dtypes: float64(1), int64(2), object(2)\n",
      "memory usage: 1.2+ GB\n"
     ]
    }
   ],
   "source": [
    "transactions.info()"
   ]
  },
  {
   "cell_type": "markdown",
   "metadata": {},
   "source": [
    "## A Simplified Task: Binary Classification\n",
    "\n",
    "The task of predicting which 12 items users are most likely to buy in the next week is difficult to translate to a traditional classification machine learning setting. \n",
    "To obtain the 12 items a user is most likely to buy, we need to make predictions for all items (or the ones selected by a baseline) and select the 12 that have the highest predicted scores.\n",
    "\n",
    "In this assignment, we'll consider a simplified task: Predict whether a user ordered a single item or not, based on the features of the user and the item. \n",
    "We provide a baseline logistic regression model below, but haven't done much feature preprocessing or engineering!\n",
    "Initially, it is always best to focus your efforts on getting your features in the right shape and setting up the right validation scheme and baselines.\n",
    "Once you are sure that your features add value and your validation scheme is correct, then you typically move on to trying more elaborate models."
   ]
  },
  {
   "cell_type": "code",
   "execution_count": 6,
   "metadata": {
    "pycharm": {
     "is_executing": true
    }
   },
   "outputs": [],
   "source": [
    "transactions['ordered'] = 1"
   ]
  },
  {
   "cell_type": "markdown",
   "metadata": {},
   "source": [
    "### Creating Negative Samples"
   ]
  },
  {
   "cell_type": "markdown",
   "metadata": {},
   "source": [
    "The problem setting is an example of a \"PU learning\" problem, i.e. only positives are labeled, everything else is unlabeled (and can be either positive or negative). \n",
    "Of course, we cannot train a classifier with just positive samples: The classifier will just learn that everything is positive.\n",
    "Therefore, we need to manually generate negative samples.\n",
    "\n",
    "Below, we use a simple random negative sampling strategy.\n",
    "We want to create a balanced dataset, meaning that we have just as many positives as negatives.\n",
    "This makes sure that the classifier will not benefit from predicting the positive/negative class more often than the other.\n",
    "Realistically, the amount of positive samples is of course many times smaller than the amount of unlabeled, possibly negative instances.\n",
    "\n",
    "\n",
    "If you want to try your hand at a more complex negative sampling strategy, you may want to check out this blog as a starting point: https://medium.com/mlearning-ai/overview-negative-sampling-on-recommendation-systems-230a051c6cd7.\n",
    "\n"
   ]
  },
  {
   "cell_type": "code",
   "execution_count": 7,
   "metadata": {
    "pycharm": {
     "is_executing": true
    }
   },
   "outputs": [
    {
     "data": {
      "text/html": [
       "<div>\n",
       "<style scoped>\n",
       "    .dataframe tbody tr th:only-of-type {\n",
       "        vertical-align: middle;\n",
       "    }\n",
       "\n",
       "    .dataframe tbody tr th {\n",
       "        vertical-align: top;\n",
       "    }\n",
       "\n",
       "    .dataframe thead th {\n",
       "        text-align: right;\n",
       "    }\n",
       "</style>\n",
       "<table border=\"1\" class=\"dataframe\">\n",
       "  <thead>\n",
       "    <tr style=\"text-align: right;\">\n",
       "      <th></th>\n",
       "      <th>t_dat</th>\n",
       "      <th>customer_id</th>\n",
       "      <th>article_id</th>\n",
       "      <th>price</th>\n",
       "      <th>sales_channel_id</th>\n",
       "      <th>ordered</th>\n",
       "    </tr>\n",
       "  </thead>\n",
       "  <tbody>\n",
       "    <tr>\n",
       "      <th>0</th>\n",
       "      <td>2018-09-20</td>\n",
       "      <td>000058a12d5b43e67d225668fa1f8d618c13dc232df0ca...</td>\n",
       "      <td>663713001</td>\n",
       "      <td>0.050831</td>\n",
       "      <td>2</td>\n",
       "      <td>1</td>\n",
       "    </tr>\n",
       "    <tr>\n",
       "      <th>1</th>\n",
       "      <td>2018-09-20</td>\n",
       "      <td>000058a12d5b43e67d225668fa1f8d618c13dc232df0ca...</td>\n",
       "      <td>541518023</td>\n",
       "      <td>0.030492</td>\n",
       "      <td>2</td>\n",
       "      <td>1</td>\n",
       "    </tr>\n",
       "    <tr>\n",
       "      <th>2</th>\n",
       "      <td>2018-09-20</td>\n",
       "      <td>00007d2de826758b65a93dd24ce629ed66842531df6699...</td>\n",
       "      <td>505221004</td>\n",
       "      <td>0.015237</td>\n",
       "      <td>2</td>\n",
       "      <td>1</td>\n",
       "    </tr>\n",
       "    <tr>\n",
       "      <th>3</th>\n",
       "      <td>2018-09-20</td>\n",
       "      <td>00007d2de826758b65a93dd24ce629ed66842531df6699...</td>\n",
       "      <td>685687003</td>\n",
       "      <td>0.016932</td>\n",
       "      <td>2</td>\n",
       "      <td>1</td>\n",
       "    </tr>\n",
       "    <tr>\n",
       "      <th>4</th>\n",
       "      <td>2018-09-20</td>\n",
       "      <td>00007d2de826758b65a93dd24ce629ed66842531df6699...</td>\n",
       "      <td>685687004</td>\n",
       "      <td>0.016932</td>\n",
       "      <td>2</td>\n",
       "      <td>1</td>\n",
       "    </tr>\n",
       "  </tbody>\n",
       "</table>\n",
       "</div>"
      ],
      "text/plain": [
       "        t_dat                                        customer_id  article_id  \\\n",
       "0  2018-09-20  000058a12d5b43e67d225668fa1f8d618c13dc232df0ca...   663713001   \n",
       "1  2018-09-20  000058a12d5b43e67d225668fa1f8d618c13dc232df0ca...   541518023   \n",
       "2  2018-09-20  00007d2de826758b65a93dd24ce629ed66842531df6699...   505221004   \n",
       "3  2018-09-20  00007d2de826758b65a93dd24ce629ed66842531df6699...   685687003   \n",
       "4  2018-09-20  00007d2de826758b65a93dd24ce629ed66842531df6699...   685687004   \n",
       "\n",
       "      price  sales_channel_id  ordered  \n",
       "0  0.050831                 2        1  \n",
       "1  0.030492                 2        1  \n",
       "2  0.015237                 2        1  \n",
       "3  0.016932                 2        1  \n",
       "4  0.016932                 2        1  "
      ]
     },
     "execution_count": 7,
     "metadata": {},
     "output_type": "execute_result"
    }
   ],
   "source": [
    "transactions.head()"
   ]
  },
  {
   "cell_type": "code",
   "execution_count": 8,
   "metadata": {
    "pycharm": {
     "is_executing": true
    }
   },
   "outputs": [],
   "source": [
    "# What's happening here? \n",
    "# We're creating negative samples. I.e. we're creating transactions that didn't actually occur.\n",
    "# First, we need to know which interactions did occur:\n",
    "positive_pairs = list(map(tuple, transactions[['customer_id', 'article_id']].drop_duplicates().values))"
   ]
  },
  {
   "cell_type": "code",
   "execution_count": 9,
   "metadata": {
    "pycharm": {
     "is_executing": true
    }
   },
   "outputs": [
    {
     "data": {
      "text/html": [
       "<div>\n",
       "<style scoped>\n",
       "    .dataframe tbody tr th:only-of-type {\n",
       "        vertical-align: middle;\n",
       "    }\n",
       "\n",
       "    .dataframe tbody tr th {\n",
       "        vertical-align: top;\n",
       "    }\n",
       "\n",
       "    .dataframe thead th {\n",
       "        text-align: right;\n",
       "    }\n",
       "</style>\n",
       "<table border=\"1\" class=\"dataframe\">\n",
       "  <thead>\n",
       "    <tr style=\"text-align: right;\">\n",
       "      <th></th>\n",
       "      <th>t_dat</th>\n",
       "      <th>customer_id</th>\n",
       "      <th>article_id</th>\n",
       "      <th>price</th>\n",
       "      <th>sales_channel_id</th>\n",
       "      <th>ordered</th>\n",
       "    </tr>\n",
       "  </thead>\n",
       "  <tbody>\n",
       "    <tr>\n",
       "      <th>0</th>\n",
       "      <td>2018-09-20</td>\n",
       "      <td>000058a12d5b43e67d225668fa1f8d618c13dc232df0ca...</td>\n",
       "      <td>663713001</td>\n",
       "      <td>0.050831</td>\n",
       "      <td>2</td>\n",
       "      <td>1</td>\n",
       "    </tr>\n",
       "    <tr>\n",
       "      <th>1</th>\n",
       "      <td>2018-09-20</td>\n",
       "      <td>000058a12d5b43e67d225668fa1f8d618c13dc232df0ca...</td>\n",
       "      <td>541518023</td>\n",
       "      <td>0.030492</td>\n",
       "      <td>2</td>\n",
       "      <td>1</td>\n",
       "    </tr>\n",
       "    <tr>\n",
       "      <th>2</th>\n",
       "      <td>2018-09-20</td>\n",
       "      <td>00007d2de826758b65a93dd24ce629ed66842531df6699...</td>\n",
       "      <td>505221004</td>\n",
       "      <td>0.015237</td>\n",
       "      <td>2</td>\n",
       "      <td>1</td>\n",
       "    </tr>\n",
       "    <tr>\n",
       "      <th>3</th>\n",
       "      <td>2018-09-20</td>\n",
       "      <td>00007d2de826758b65a93dd24ce629ed66842531df6699...</td>\n",
       "      <td>685687003</td>\n",
       "      <td>0.016932</td>\n",
       "      <td>2</td>\n",
       "      <td>1</td>\n",
       "    </tr>\n",
       "    <tr>\n",
       "      <th>4</th>\n",
       "      <td>2018-09-20</td>\n",
       "      <td>00007d2de826758b65a93dd24ce629ed66842531df6699...</td>\n",
       "      <td>685687004</td>\n",
       "      <td>0.016932</td>\n",
       "      <td>2</td>\n",
       "      <td>1</td>\n",
       "    </tr>\n",
       "  </tbody>\n",
       "</table>\n",
       "</div>"
      ],
      "text/plain": [
       "        t_dat                                        customer_id  article_id  \\\n",
       "0  2018-09-20  000058a12d5b43e67d225668fa1f8d618c13dc232df0ca...   663713001   \n",
       "1  2018-09-20  000058a12d5b43e67d225668fa1f8d618c13dc232df0ca...   541518023   \n",
       "2  2018-09-20  00007d2de826758b65a93dd24ce629ed66842531df6699...   505221004   \n",
       "3  2018-09-20  00007d2de826758b65a93dd24ce629ed66842531df6699...   685687003   \n",
       "4  2018-09-20  00007d2de826758b65a93dd24ce629ed66842531df6699...   685687004   \n",
       "\n",
       "      price  sales_channel_id  ordered  \n",
       "0  0.050831                 2        1  \n",
       "1  0.030492                 2        1  \n",
       "2  0.015237                 2        1  \n",
       "3  0.016932                 2        1  \n",
       "4  0.016932                 2        1  "
      ]
     },
     "execution_count": 9,
     "metadata": {},
     "output_type": "execute_result"
    }
   ],
   "source": [
    "# Then we need to know what every synthetic transaction should contain: a date, a customer_id, an article_id, price, sales_channel_id. \n",
    "# We will set ordered = 0, as these transactions didn't really occur.\n",
    "transactions.head()"
   ]
  },
  {
   "cell_type": "code",
   "execution_count": 10,
   "metadata": {
    "pycharm": {
     "is_executing": true
    }
   },
   "outputs": [],
   "source": [
    "# Extract real values\n",
    "real_dates = transactions[\"t_dat\"].unique()\n",
    "real_customers = transactions[\"customer_id\"].unique()\n",
    "real_articles = transactions[\"article_id\"].unique()\n",
    "real_channels = transactions[\"sales_channel_id\"].unique()\n",
    "article_and_price = transactions[[\"article_id\", \"price\"]].drop_duplicates(\"article_id\").set_index(\n",
    "    \"article_id\").squeeze()"
   ]
  },
  {
   "cell_type": "code",
   "execution_count": 11,
   "metadata": {
    "pycharm": {
     "is_executing": true
    }
   },
   "outputs": [
    {
     "name": "stdout",
     "output_type": "stream",
     "text": [
      "31788324\n"
     ]
    }
   ],
   "source": [
    "# How many negatives do we need to sample?\n",
    "num_neg_pos = transactions.shape[0]\n",
    "print(num_neg_pos)"
   ]
  },
  {
   "cell_type": "code",
   "execution_count": 12,
   "metadata": {
    "pycharm": {
     "is_executing": true
    }
   },
   "outputs": [],
   "source": [
    "# Sampling negatives by selecting random users, articles, dates and sales channel:\n",
    "# Note: This is quite naive. Some articles may not even have been available at the date we are sampling.\n",
    "random.seed(42)\n",
    "\n",
    "# Afterwards, we need to remove potential duplicates, so we'll sample too many.\n",
    "num_neg_samples = int(num_neg_pos * 1.1)\n",
    "\n",
    "# Sample each of the independent attributes.\n",
    "neg_dates = np.random.choice(real_dates, size=num_neg_samples)\n",
    "neg_articles = np.random.choice(real_articles, size=num_neg_samples)\n",
    "neg_customers = np.random.choice(real_customers, size=num_neg_samples)\n",
    "neg_channels = np.random.choice(real_channels, size=num_neg_samples)\n",
    "ordered = np.array([0] * num_neg_samples)\n",
    "\n",
    "# Assign to every article a real price.\n",
    "neg_prices = article_and_price[neg_articles].values"
   ]
  },
  {
   "cell_type": "code",
   "execution_count": 13,
   "metadata": {
    "pycharm": {
     "is_executing": true
    }
   },
   "outputs": [],
   "source": [
    "neg_transactions = pd.DataFrame([neg_dates, neg_customers, neg_articles, neg_prices, neg_channels, ordered],\n",
    "                                index=transactions.columns).T"
   ]
  },
  {
   "cell_type": "code",
   "execution_count": 14,
   "metadata": {
    "pycharm": {
     "is_executing": true
    }
   },
   "outputs": [
    {
     "data": {
      "text/html": [
       "<div>\n",
       "<style scoped>\n",
       "    .dataframe tbody tr th:only-of-type {\n",
       "        vertical-align: middle;\n",
       "    }\n",
       "\n",
       "    .dataframe tbody tr th {\n",
       "        vertical-align: top;\n",
       "    }\n",
       "\n",
       "    .dataframe thead th {\n",
       "        text-align: right;\n",
       "    }\n",
       "</style>\n",
       "<table border=\"1\" class=\"dataframe\">\n",
       "  <thead>\n",
       "    <tr style=\"text-align: right;\">\n",
       "      <th></th>\n",
       "      <th>t_dat</th>\n",
       "      <th>customer_id</th>\n",
       "      <th>article_id</th>\n",
       "      <th>price</th>\n",
       "      <th>sales_channel_id</th>\n",
       "      <th>ordered</th>\n",
       "    </tr>\n",
       "  </thead>\n",
       "  <tbody>\n",
       "    <tr>\n",
       "      <th>0</th>\n",
       "      <td>2018-11-03</td>\n",
       "      <td>f23149c8dac37b771b04331b9b330d5f66d9512d2f8545...</td>\n",
       "      <td>783388005</td>\n",
       "      <td>0.022017</td>\n",
       "      <td>2</td>\n",
       "      <td>0</td>\n",
       "    </tr>\n",
       "    <tr>\n",
       "      <th>1</th>\n",
       "      <td>2020-09-13</td>\n",
       "      <td>8215d9b4fc8e8d4a8d8e918320143d3b52ba6f87cbfd9a...</td>\n",
       "      <td>702650001</td>\n",
       "      <td>0.050831</td>\n",
       "      <td>2</td>\n",
       "      <td>0</td>\n",
       "    </tr>\n",
       "    <tr>\n",
       "      <th>2</th>\n",
       "      <td>2019-01-26</td>\n",
       "      <td>c52a233791e9a1de7bacfded0589e56a5f9ca61a6e84e0...</td>\n",
       "      <td>555780001</td>\n",
       "      <td>0.027102</td>\n",
       "      <td>2</td>\n",
       "      <td>0</td>\n",
       "    </tr>\n",
       "    <tr>\n",
       "      <th>3</th>\n",
       "      <td>2019-01-03</td>\n",
       "      <td>513d9bbdd85f143df643a02cfb587e447736dc78503017...</td>\n",
       "      <td>855857001</td>\n",
       "      <td>0.012186</td>\n",
       "      <td>2</td>\n",
       "      <td>0</td>\n",
       "    </tr>\n",
       "    <tr>\n",
       "      <th>4</th>\n",
       "      <td>2019-10-12</td>\n",
       "      <td>d315d4483fa238c7fff86151f9982253d8f35869af332f...</td>\n",
       "      <td>739590037</td>\n",
       "      <td>0.016932</td>\n",
       "      <td>1</td>\n",
       "      <td>0</td>\n",
       "    </tr>\n",
       "  </tbody>\n",
       "</table>\n",
       "</div>"
      ],
      "text/plain": [
       "        t_dat                                        customer_id article_id  \\\n",
       "0  2018-11-03  f23149c8dac37b771b04331b9b330d5f66d9512d2f8545...  783388005   \n",
       "1  2020-09-13  8215d9b4fc8e8d4a8d8e918320143d3b52ba6f87cbfd9a...  702650001   \n",
       "2  2019-01-26  c52a233791e9a1de7bacfded0589e56a5f9ca61a6e84e0...  555780001   \n",
       "3  2019-01-03  513d9bbdd85f143df643a02cfb587e447736dc78503017...  855857001   \n",
       "4  2019-10-12  d315d4483fa238c7fff86151f9982253d8f35869af332f...  739590037   \n",
       "\n",
       "      price sales_channel_id ordered  \n",
       "0  0.022017                2       0  \n",
       "1  0.050831                2       0  \n",
       "2  0.027102                2       0  \n",
       "3  0.012186                2       0  \n",
       "4  0.016932                1       0  "
      ]
     },
     "execution_count": 14,
     "metadata": {},
     "output_type": "execute_result"
    }
   ],
   "source": [
    "# Result:\n",
    "neg_transactions.head()"
   ]
  },
  {
   "cell_type": "code",
   "execution_count": 15,
   "metadata": {
    "pycharm": {
     "is_executing": true
    }
   },
   "outputs": [
    {
     "data": {
      "text/plain": [
       "(34967156, 6)"
      ]
     },
     "execution_count": 15,
     "metadata": {},
     "output_type": "execute_result"
    }
   ],
   "source": [
    "neg_transactions.shape"
   ]
  },
  {
   "cell_type": "code",
   "execution_count": 16,
   "metadata": {
    "pycharm": {
     "is_executing": true
    }
   },
   "outputs": [],
   "source": [
    "# Remove random negative samples that actually coincide with positives\n",
    "df = neg_transactions[\n",
    "    ~neg_transactions.set_index([\"customer_id\", \"article_id\"]).index.isin(positive_pairs)\n",
    "]\n",
    "\n",
    "# Remove any excess\n",
    "chosen_neg_transactions = df.sample(num_neg_pos)"
   ]
  },
  {
   "cell_type": "code",
   "execution_count": 17,
   "metadata": {
    "pycharm": {
     "is_executing": true
    }
   },
   "outputs": [],
   "source": [
    "# Concat the negative samples to the positive samples:\n",
    "transactions = pd.concat([transactions, chosen_neg_transactions])\n",
    "transactions = transactions.merge(customers, how=\"inner\", on='customer_id')\n",
    "transactions = transactions.merge(articles, how=\"inner\", on='article_id')"
   ]
  },
  {
   "cell_type": "code",
   "execution_count": 18,
   "metadata": {
    "pycharm": {
     "is_executing": true
    }
   },
   "outputs": [
    {
     "name": "stdout",
     "output_type": "stream",
     "text": [
      "<class 'pandas.core.frame.DataFrame'>\n",
      "Int64Index: 63576648 entries, 0 to 63576647\n",
      "Data columns (total 36 columns):\n",
      " #   Column                        Dtype  \n",
      "---  ------                        -----  \n",
      " 0   t_dat                         object \n",
      " 1   customer_id                   object \n",
      " 2   article_id                    object \n",
      " 3   price                         object \n",
      " 4   sales_channel_id              object \n",
      " 5   ordered                       object \n",
      " 6   FN                            float64\n",
      " 7   Active                        float64\n",
      " 8   club_member_status            object \n",
      " 9   fashion_news_frequency        object \n",
      " 10  age                           float64\n",
      " 11  postal_code                   object \n",
      " 12  product_code                  int64  \n",
      " 13  prod_name                     object \n",
      " 14  product_type_no               int64  \n",
      " 15  product_type_name             object \n",
      " 16  product_group_name            object \n",
      " 17  graphical_appearance_no       int64  \n",
      " 18  graphical_appearance_name     object \n",
      " 19  colour_group_code             int64  \n",
      " 20  colour_group_name             object \n",
      " 21  perceived_colour_value_id     int64  \n",
      " 22  perceived_colour_value_name   object \n",
      " 23  perceived_colour_master_id    int64  \n",
      " 24  perceived_colour_master_name  object \n",
      " 25  department_no                 int64  \n",
      " 26  department_name               object \n",
      " 27  index_code                    object \n",
      " 28  index_name                    object \n",
      " 29  index_group_no                int64  \n",
      " 30  index_group_name              object \n",
      " 31  section_no                    int64  \n",
      " 32  section_name                  object \n",
      " 33  garment_group_no              int64  \n",
      " 34  garment_group_name            object \n",
      " 35  detail_desc                   object \n",
      "dtypes: float64(3), int64(10), object(23)\n",
      "memory usage: 17.5+ GB\n"
     ]
    }
   ],
   "source": [
    "transactions.info()"
   ]
  },
  {
   "cell_type": "markdown",
   "metadata": {},
   "source": [
    "## Assignment: Feature engineering\n",
    "**TODO:** \n",
    "- In groups (of 2-3 students), think about (a few) features that can be engineered (preprocess and generate new features). Divide the work!\n",
    "- Do these engineered features improve the baseline model?\n",
    "- Add your thoughts & results to a slide deck for discussion next week (again, 1 slide per person).\n"
   ]
  },
  {
   "cell_type": "markdown",
   "metadata": {},
   "source": [
    "### Preprocessing: Round 1\n",
    "We start by eliminating the NaN values from the columns we will use, and also perform some memory reduction techniques to speed up the overall runtime."
   ]
  },
  {
   "cell_type": "code",
   "execution_count": 19,
   "metadata": {
    "pycharm": {
     "is_executing": true
    }
   },
   "outputs": [],
   "source": [
    "# Preprocessing: memory reduction + eliminate NaNs\n",
    "transactions.customer_id = transactions.customer_id.apply(lambda x: int(x[-16:], 16)).astype(np.int64)\n",
    "transactions.article_id = transactions.article_id.astype(np.int32)\n",
    "transactions.t_dat = pd.to_datetime(transactions.t_dat)\n",
    "transactions.price = transactions.price.astype(np.float32)\n",
    "transactions.sales_channel_id = transactions.sales_channel_id.astype(np.int8)\n",
    "transactions.FN = transactions.FN.fillna(0).astype(np.int8)\n",
    "transactions.FN = transactions.FN.astype(np.int8)\n",
    "transactions.Active = transactions.Active.fillna(0).astype(np.int8)\n",
    "transactions.Active = transactions.Active.astype(np.int8)\n",
    "transactions.age = transactions.age.fillna(0).astype(np.int8)\n",
    "transactions.age = transactions.age.astype(np.int8)\n",
    "transactions.ordered = transactions.ordered.astype(np.int8)"
   ]
  },
  {
   "cell_type": "markdown",
   "metadata": {},
   "source": [
    "### Engineered Feature 1: Time-based Weighted Item Popularity\n",
    "For each item, count the amount of times it was purchased in each week, then divide that number by how many weeks ago that was. Finally, for each item, sum all of those weekly values.\n",
    "\n",
    "For each item $i$:\n",
    "\n",
    "$$\\text{Popularity}(i) = \\sum_{w \\in \\text{weeks}}\\frac{\\text{times }i \\text{ purchased in week }w}{\\text{latest\\_week} - w} $$"
   ]
  },
  {
   "cell_type": "code",
   "execution_count": 20,
   "metadata": {},
   "outputs": [],
   "source": [
    "# get last date in transactions from the t_dat column\n",
    "last_date = transactions.t_dat.max()\n",
    "\n",
    "# Engineered feature 1: item popularity, weighted by amount of weeks since last purchase\n",
    "transactions['weeks_ago'] = (last_date - transactions.t_dat).dt.days // 7 + 1\n",
    "\n",
    "# calculate the popularity of each article_id: sum of the number of times it was purchased each week, weighted by weeks_ago\n",
    "popularity = transactions[transactions.ordered == 1].groupby(['article_id', 'weeks_ago']).size().reset_index(\n",
    "    name='purchase_count').groupby('article_id').apply(lambda x: np.sum(x.purchase_count / x.weeks_ago)).reset_index(\n",
    "    name='article_popularity')\n",
    "\n",
    "# merge the popularity into the transactions dataframe\n",
    "transactions = transactions.merge(popularity, how='inner', on='article_id')"
   ]
  },
  {
   "cell_type": "markdown",
   "metadata": {},
   "source": [
    "### Engineered Feature 2: Combine `FN` and `Active`\n",
    "\n",
    "The activity of one's account and whether they receive Fashion News (FN) seem to be two features that are closely related. As we can see from the data, it turns out that there is never an occurrence where `Active == 1 && FN == 0`.\n",
    "\n",
    "For this reason, it seemed interesting to combine these features into one categorical feature called `member_status`, as being active and/or receiving fashion news probably has an impact on one's purchasing behaviour."
   ]
  },
  {
   "cell_type": "code",
   "execution_count": 21,
   "metadata": {},
   "outputs": [],
   "source": [
    "# Engineered feature 2: interaction feature FN and Active\n",
    "# FN and Active are binary features, so each combination of FN and Active can be represented by a single integer\n",
    "transactions['member_status'] = (transactions.Active + transactions.FN * 2).replace(\n",
    "    {0: 'NotActive_NoFN', 1: 'Active_NoFN', 2: 'NotActive_FN', 3: 'Active_FN'})"
   ]
  },
  {
   "cell_type": "markdown",
   "metadata": {},
   "source": [
    "### Summary\n",
    "#### Engineered features\n",
    "- `article_popularity`\n",
    "- `member_status`\n",
    "\n",
    "#### Other features used\n",
    "Other features that might be interesting, which are already available in the dataset:\n",
    "- `price`\n",
    "- `sales_channel_id`\n",
    "- `age`\n",
    "- `product_group_name`"
   ]
  },
  {
   "cell_type": "code",
   "execution_count": 22,
   "metadata": {},
   "outputs": [
    {
     "data": {
      "text/html": [
       "<div>\n",
       "<style scoped>\n",
       "    .dataframe tbody tr th:only-of-type {\n",
       "        vertical-align: middle;\n",
       "    }\n",
       "\n",
       "    .dataframe tbody tr th {\n",
       "        vertical-align: top;\n",
       "    }\n",
       "\n",
       "    .dataframe thead th {\n",
       "        text-align: right;\n",
       "    }\n",
       "</style>\n",
       "<table border=\"1\" class=\"dataframe\">\n",
       "  <thead>\n",
       "    <tr style=\"text-align: right;\">\n",
       "      <th></th>\n",
       "      <th>article_popularity</th>\n",
       "      <th>member_status</th>\n",
       "      <th>price</th>\n",
       "      <th>sales_channel_id</th>\n",
       "      <th>age</th>\n",
       "      <th>product_group_name</th>\n",
       "      <th>ordered</th>\n",
       "    </tr>\n",
       "  </thead>\n",
       "  <tbody>\n",
       "    <tr>\n",
       "      <th>0</th>\n",
       "      <td>6.523932</td>\n",
       "      <td>NotActive_NoFN</td>\n",
       "      <td>0.050831</td>\n",
       "      <td>2</td>\n",
       "      <td>24</td>\n",
       "      <td>Underwear</td>\n",
       "      <td>1</td>\n",
       "    </tr>\n",
       "    <tr>\n",
       "      <th>1</th>\n",
       "      <td>6.523932</td>\n",
       "      <td>NotActive_NoFN</td>\n",
       "      <td>0.050831</td>\n",
       "      <td>2</td>\n",
       "      <td>24</td>\n",
       "      <td>Underwear</td>\n",
       "      <td>1</td>\n",
       "    </tr>\n",
       "    <tr>\n",
       "      <th>2</th>\n",
       "      <td>6.523932</td>\n",
       "      <td>NotActive_NoFN</td>\n",
       "      <td>0.050831</td>\n",
       "      <td>2</td>\n",
       "      <td>54</td>\n",
       "      <td>Underwear</td>\n",
       "      <td>0</td>\n",
       "    </tr>\n",
       "    <tr>\n",
       "      <th>3</th>\n",
       "      <td>6.523932</td>\n",
       "      <td>NotActive_NoFN</td>\n",
       "      <td>0.050831</td>\n",
       "      <td>2</td>\n",
       "      <td>25</td>\n",
       "      <td>Underwear</td>\n",
       "      <td>1</td>\n",
       "    </tr>\n",
       "    <tr>\n",
       "      <th>4</th>\n",
       "      <td>6.523932</td>\n",
       "      <td>NotActive_NoFN</td>\n",
       "      <td>0.050831</td>\n",
       "      <td>2</td>\n",
       "      <td>25</td>\n",
       "      <td>Underwear</td>\n",
       "      <td>1</td>\n",
       "    </tr>\n",
       "  </tbody>\n",
       "</table>\n",
       "</div>"
      ],
      "text/plain": [
       "   article_popularity   member_status     price  sales_channel_id  age  \\\n",
       "0            6.523932  NotActive_NoFN  0.050831                 2   24   \n",
       "1            6.523932  NotActive_NoFN  0.050831                 2   24   \n",
       "2            6.523932  NotActive_NoFN  0.050831                 2   54   \n",
       "3            6.523932  NotActive_NoFN  0.050831                 2   25   \n",
       "4            6.523932  NotActive_NoFN  0.050831                 2   25   \n",
       "\n",
       "  product_group_name  ordered  \n",
       "0          Underwear        1  \n",
       "1          Underwear        1  \n",
       "2          Underwear        0  \n",
       "3          Underwear        1  \n",
       "4          Underwear        1  "
      ]
     },
     "execution_count": 22,
     "metadata": {},
     "output_type": "execute_result"
    }
   ],
   "source": [
    "# Result:\n",
    "# - Engineered features:    article_popularity, member_status\n",
    "# - Other features:         price, sales_channel_id, age, product_group_name\n",
    "transactions_processed = transactions[\n",
    "    ['article_popularity', 'member_status', 'price', 'sales_channel_id', 'age', 'product_group_name', 'ordered']].copy()\n",
    "transactions_processed.head()"
   ]
  },
  {
   "cell_type": "markdown",
   "metadata": {},
   "source": [
    "### Preprocessing: Round 2\n",
    "In this round of preprocessing, we perform log transformation on `article_popularity`, scaling on numerical features and one-hot encoding on categorical features."
   ]
  },
  {
   "cell_type": "markdown",
   "metadata": {},
   "source": [
    "#### Log transformation on `article_popularity`"
   ]
  },
  {
   "cell_type": "code",
   "execution_count": 23,
   "metadata": {},
   "outputs": [
    {
     "data": {
      "text/plain": [
       "array([[<AxesSubplot: title={'center': 'article_popularity'}>]],\n",
       "      dtype=object)"
      ]
     },
     "execution_count": 23,
     "metadata": {},
     "output_type": "execute_result"
    },
    {
     "data": {
      "image/png": "[encoded data removed]",
      "text/plain": [
       "<Figure size 640x480 with 1 Axes>"
      ]
     },
     "metadata": {},
     "output_type": "display_data"
    }
   ],
   "source": [
    "# distribution of article_popularity\n",
    "transactions_processed[(transactions_processed.ordered == 1)].hist(column='article_popularity')"
   ]
  },
  {
   "cell_type": "markdown",
   "metadata": {},
   "source": [
    "The distribution of `article_popularity` values looks exponential, so we perform a log transformation to normalize it."
   ]
  },
  {
   "cell_type": "code",
   "execution_count": 24,
   "metadata": {},
   "outputs": [
    {
     "data": {
      "text/plain": [
       "array([[<AxesSubplot: title={'center': 'article_popularity'}>]],\n",
       "      dtype=object)"
      ]
     },
     "execution_count": 24,
     "metadata": {},
     "output_type": "execute_result"
    },
    {
     "data": {
      "image/png": "[encoded data removed]",
      "text/plain": [
       "<Figure size 640x480 with 1 Axes>"
      ]
     },
     "metadata": {},
     "output_type": "display_data"
    }
   ],
   "source": [
    "# log transform article_popularity\n",
    "transactions_processed['article_popularity'] = np.log(transactions_processed['article_popularity'] + 1)\n",
    "transactions_processed[(transactions_processed.ordered == 1)].hist(column='article_popularity')"
   ]
  },
  {
   "cell_type": "code",
   "execution_count": 25,
   "metadata": {},
   "outputs": [
    {
     "data": {
      "text/html": [
       "<div>\n",
       "<style scoped>\n",
       "    .dataframe tbody tr th:only-of-type {\n",
       "        vertical-align: middle;\n",
       "    }\n",
       "\n",
       "    .dataframe tbody tr th {\n",
       "        vertical-align: top;\n",
       "    }\n",
       "\n",
       "    .dataframe thead th {\n",
       "        text-align: right;\n",
       "    }\n",
       "</style>\n",
       "<table border=\"1\" class=\"dataframe\">\n",
       "  <thead>\n",
       "    <tr style=\"text-align: right;\">\n",
       "      <th></th>\n",
       "      <th>article_popularity</th>\n",
       "      <th>price</th>\n",
       "      <th>age</th>\n",
       "      <th>ordered</th>\n",
       "      <th>member_status_Active_FN</th>\n",
       "      <th>member_status_NotActive_FN</th>\n",
       "      <th>member_status_NotActive_NoFN</th>\n",
       "      <th>sales_channel_id_1</th>\n",
       "      <th>sales_channel_id_2</th>\n",
       "      <th>product_group_name_Accessories</th>\n",
       "      <th>...</th>\n",
       "      <th>product_group_name_Interior textile</th>\n",
       "      <th>product_group_name_Items</th>\n",
       "      <th>product_group_name_Nightwear</th>\n",
       "      <th>product_group_name_Shoes</th>\n",
       "      <th>product_group_name_Socks &amp; Tights</th>\n",
       "      <th>product_group_name_Stationery</th>\n",
       "      <th>product_group_name_Swimwear</th>\n",
       "      <th>product_group_name_Underwear</th>\n",
       "      <th>product_group_name_Underwear/nightwear</th>\n",
       "      <th>product_group_name_Unknown</th>\n",
       "    </tr>\n",
       "  </thead>\n",
       "  <tbody>\n",
       "    <tr>\n",
       "      <th>0</th>\n",
       "      <td>-0.247728</td>\n",
       "      <td>0.845899</td>\n",
       "      <td>-0.853212</td>\n",
       "      <td>1</td>\n",
       "      <td>-0.782092</td>\n",
       "      <td>-0.088386</td>\n",
       "      <td>0.79502</td>\n",
       "      <td>-0.812925</td>\n",
       "      <td>0.812925</td>\n",
       "      <td>-0.29069</td>\n",
       "      <td>...</td>\n",
       "      <td>-0.003862</td>\n",
       "      <td>-0.012548</td>\n",
       "      <td>-0.121196</td>\n",
       "      <td>-0.195264</td>\n",
       "      <td>-0.151317</td>\n",
       "      <td>-0.005182</td>\n",
       "      <td>-0.242479</td>\n",
       "      <td>3.748547</td>\n",
       "      <td>-0.016235</td>\n",
       "      <td>-0.045523</td>\n",
       "    </tr>\n",
       "    <tr>\n",
       "      <th>1</th>\n",
       "      <td>-0.247728</td>\n",
       "      <td>0.845899</td>\n",
       "      <td>-0.853212</td>\n",
       "      <td>1</td>\n",
       "      <td>-0.782092</td>\n",
       "      <td>-0.088386</td>\n",
       "      <td>0.79502</td>\n",
       "      <td>-0.812925</td>\n",
       "      <td>0.812925</td>\n",
       "      <td>-0.29069</td>\n",
       "      <td>...</td>\n",
       "      <td>-0.003862</td>\n",
       "      <td>-0.012548</td>\n",
       "      <td>-0.121196</td>\n",
       "      <td>-0.195264</td>\n",
       "      <td>-0.151317</td>\n",
       "      <td>-0.005182</td>\n",
       "      <td>-0.242479</td>\n",
       "      <td>3.748547</td>\n",
       "      <td>-0.016235</td>\n",
       "      <td>-0.045523</td>\n",
       "    </tr>\n",
       "    <tr>\n",
       "      <th>2</th>\n",
       "      <td>-0.247728</td>\n",
       "      <td>0.845899</td>\n",
       "      <td>1.293020</td>\n",
       "      <td>0</td>\n",
       "      <td>-0.782092</td>\n",
       "      <td>-0.088386</td>\n",
       "      <td>0.79502</td>\n",
       "      <td>-0.812925</td>\n",
       "      <td>0.812925</td>\n",
       "      <td>-0.29069</td>\n",
       "      <td>...</td>\n",
       "      <td>-0.003862</td>\n",
       "      <td>-0.012548</td>\n",
       "      <td>-0.121196</td>\n",
       "      <td>-0.195264</td>\n",
       "      <td>-0.151317</td>\n",
       "      <td>-0.005182</td>\n",
       "      <td>-0.242479</td>\n",
       "      <td>3.748547</td>\n",
       "      <td>-0.016235</td>\n",
       "      <td>-0.045523</td>\n",
       "    </tr>\n",
       "    <tr>\n",
       "      <th>3</th>\n",
       "      <td>-0.247728</td>\n",
       "      <td>0.845899</td>\n",
       "      <td>-0.781671</td>\n",
       "      <td>1</td>\n",
       "      <td>-0.782092</td>\n",
       "      <td>-0.088386</td>\n",
       "      <td>0.79502</td>\n",
       "      <td>-0.812925</td>\n",
       "      <td>0.812925</td>\n",
       "      <td>-0.29069</td>\n",
       "      <td>...</td>\n",
       "      <td>-0.003862</td>\n",
       "      <td>-0.012548</td>\n",
       "      <td>-0.121196</td>\n",
       "      <td>-0.195264</td>\n",
       "      <td>-0.151317</td>\n",
       "      <td>-0.005182</td>\n",
       "      <td>-0.242479</td>\n",
       "      <td>3.748547</td>\n",
       "      <td>-0.016235</td>\n",
       "      <td>-0.045523</td>\n",
       "    </tr>\n",
       "    <tr>\n",
       "      <th>4</th>\n",
       "      <td>-0.247728</td>\n",
       "      <td>0.845899</td>\n",
       "      <td>-0.781671</td>\n",
       "      <td>1</td>\n",
       "      <td>-0.782092</td>\n",
       "      <td>-0.088386</td>\n",
       "      <td>0.79502</td>\n",
       "      <td>-0.812925</td>\n",
       "      <td>0.812925</td>\n",
       "      <td>-0.29069</td>\n",
       "      <td>...</td>\n",
       "      <td>-0.003862</td>\n",
       "      <td>-0.012548</td>\n",
       "      <td>-0.121196</td>\n",
       "      <td>-0.195264</td>\n",
       "      <td>-0.151317</td>\n",
       "      <td>-0.005182</td>\n",
       "      <td>-0.242479</td>\n",
       "      <td>3.748547</td>\n",
       "      <td>-0.016235</td>\n",
       "      <td>-0.045523</td>\n",
       "    </tr>\n",
       "  </tbody>\n",
       "</table>\n",
       "<p>5 rows × 28 columns</p>\n",
       "</div>"
      ],
      "text/plain": [
       "   article_popularity     price       age  ordered  member_status_Active_FN  \\\n",
       "0           -0.247728  0.845899 -0.853212        1                -0.782092   \n",
       "1           -0.247728  0.845899 -0.853212        1                -0.782092   \n",
       "2           -0.247728  0.845899  1.293020        0                -0.782092   \n",
       "3           -0.247728  0.845899 -0.781671        1                -0.782092   \n",
       "4           -0.247728  0.845899 -0.781671        1                -0.782092   \n",
       "\n",
       "   member_status_NotActive_FN  member_status_NotActive_NoFN  \\\n",
       "0                   -0.088386                       0.79502   \n",
       "1                   -0.088386                       0.79502   \n",
       "2                   -0.088386                       0.79502   \n",
       "3                   -0.088386                       0.79502   \n",
       "4                   -0.088386                       0.79502   \n",
       "\n",
       "   sales_channel_id_1  sales_channel_id_2  product_group_name_Accessories  \\\n",
       "0           -0.812925            0.812925                        -0.29069   \n",
       "1           -0.812925            0.812925                        -0.29069   \n",
       "2           -0.812925            0.812925                        -0.29069   \n",
       "3           -0.812925            0.812925                        -0.29069   \n",
       "4           -0.812925            0.812925                        -0.29069   \n",
       "\n",
       "   ...  product_group_name_Interior textile  product_group_name_Items  \\\n",
       "0  ...                            -0.003862                 -0.012548   \n",
       "1  ...                            -0.003862                 -0.012548   \n",
       "2  ...                            -0.003862                 -0.012548   \n",
       "3  ...                            -0.003862                 -0.012548   \n",
       "4  ...                            -0.003862                 -0.012548   \n",
       "\n",
       "   product_group_name_Nightwear  product_group_name_Shoes  \\\n",
       "0                     -0.121196                 -0.195264   \n",
       "1                     -0.121196                 -0.195264   \n",
       "2                     -0.121196                 -0.195264   \n",
       "3                     -0.121196                 -0.195264   \n",
       "4                     -0.121196                 -0.195264   \n",
       "\n",
       "   product_group_name_Socks & Tights  product_group_name_Stationery  \\\n",
       "0                          -0.151317                      -0.005182   \n",
       "1                          -0.151317                      -0.005182   \n",
       "2                          -0.151317                      -0.005182   \n",
       "3                          -0.151317                      -0.005182   \n",
       "4                          -0.151317                      -0.005182   \n",
       "\n",
       "   product_group_name_Swimwear  product_group_name_Underwear  \\\n",
       "0                    -0.242479                      3.748547   \n",
       "1                    -0.242479                      3.748547   \n",
       "2                    -0.242479                      3.748547   \n",
       "3                    -0.242479                      3.748547   \n",
       "4                    -0.242479                      3.748547   \n",
       "\n",
       "   product_group_name_Underwear/nightwear  product_group_name_Unknown  \n",
       "0                               -0.016235                   -0.045523  \n",
       "1                               -0.016235                   -0.045523  \n",
       "2                               -0.016235                   -0.045523  \n",
       "3                               -0.016235                   -0.045523  \n",
       "4                               -0.016235                   -0.045523  \n",
       "\n",
       "[5 rows x 28 columns]"
      ]
     },
     "execution_count": 25,
     "metadata": {},
     "output_type": "execute_result"
    }
   ],
   "source": [
    "# Preprocessing\n",
    "# one-hot encoding of member_status, sales_channel_id and product_group_name\n",
    "transactions_processed = pd.get_dummies(transactions_processed, columns=['member_status', 'sales_channel_id', 'product_group_name'])\n",
    "\n",
    "# scaling numerical features to mean=0, std=1\n",
    "column_names = transactions_processed.columns.tolist()\n",
    "column_names.remove('ordered')\n",
    "\n",
    "scaler = preprocessing.StandardScaler()\n",
    "transactions_processed[column_names] = scaler.fit_transform(transactions_processed[column_names])\n",
    "transactions_processed.head()"
   ]
  },
  {
   "cell_type": "markdown",
   "metadata": {},
   "source": [
    "### Training, Testing and Scoring"
   ]
  },
  {
   "cell_type": "code",
   "execution_count": 26,
   "metadata": {},
   "outputs": [],
   "source": [
    "# Creating a Train / Test Split:\n",
    "X_train, X_test, y_train, y_test = train_test_split(\n",
    "    transactions_processed.drop('ordered', axis=1), \n",
    "    transactions_processed['ordered'], \n",
    "    test_size=0.10, \n",
    "    random_state=42\n",
    ")"
   ]
  },
  {
   "cell_type": "code",
   "execution_count": 27,
   "metadata": {},
   "outputs": [],
   "source": [
    "# train the model\n",
    "baseline = LogisticRegression(random_state=42)\n",
    "baseline = baseline.fit(X_train, y_train)"
   ]
  },
  {
   "cell_type": "code",
   "execution_count": 28,
   "metadata": {},
   "outputs": [
    {
     "name": "stdout",
     "output_type": "stream",
     "text": [
      "Mean Accuracy: 77.87%\n"
     ]
    }
   ],
   "source": [
    "# Mean Accuracy:\n",
    "print(f'Mean Accuracy: {baseline.score(X_test, y_test):.2%}')"
   ]
  },
  {
   "cell_type": "code",
   "execution_count": 29,
   "metadata": {},
   "outputs": [
    {
     "name": "stdout",
     "output_type": "stream",
     "text": [
      "              precision    recall  f1-score   support\n",
      "\n",
      "           0       0.78      0.78      0.78   3178730\n",
      "           1       0.78      0.77      0.78   3178935\n",
      "\n",
      "    accuracy                           0.78   6357665\n",
      "   macro avg       0.78      0.78      0.78   6357665\n",
      "weighted avg       0.78      0.78      0.78   6357665\n",
      "\n"
     ]
    }
   ],
   "source": [
    "# Classification Metrics:\n",
    "predictions = baseline.predict(X_test)\n",
    "print(classification_report(y_test, predictions))"
   ]
  }
 ],
 "metadata": {
  "kernelspec": {
   "display_name": "venv",
   "language": "python",
   "name": "python3"
  },
  "language_info": {
   "codemirror_mode": {
    "name": "ipython",
    "version": 3
   },
   "file_extension": ".py",
   "mimetype": "text/x-python",
   "name": "python",
   "nbconvert_exporter": "python",
   "pygments_lexer": "ipython3",
   "version": "3.10.8 (main, Oct 21 2022, 22:22:30) [Clang 14.0.0 (clang-1400.0.29.202)]"
  },
  "vscode": {
   "interpreter": {
    "hash": "74a760a54f6a6f1fe5478fb54f34250ff707e79a970304340f42c5488d544c75"
   }
  }
 },
 "nbformat": 4,
 "nbformat_minor": 1
}
