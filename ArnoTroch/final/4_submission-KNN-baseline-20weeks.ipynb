{
 "cells": [
  {
   "attachments": {},
   "cell_type": "markdown",
   "id": "f2d35732",
   "metadata": {},
   "source": [
    "# Baseline Ssubmission\n",
    "This notebook generates three simple baselines based on the last 20 weeks of data and makes submission files for them to upload to Kaggle.\n",
    "\n",
    "## Summary\n",
    "There is no candidate generation or ranking, we simply generate items and use them directly in the submission.\n",
    "\n",
    "The baselines used are:\n",
    "- **`Popularity`**\n",
    "  - Simple popularity based on purchase count\n",
    "  - All customers get same 12 most popular items recommended\n",
    "- **`ItemKNN`**\n",
    "  - trained with parameters found in `comparison-KNN.ipynb`\n",
    "  - filled with `Popularity` if there's not enough data for a customer\n",
    "- **`TARSItemKNN`**\n",
    "  - trained with parameters found in `comparison-KNN.ipynb`\n",
    "  - filled with `Popularity` if there's not enough data for a customer\n",
    "\n",
    "Results:\n",
    "\n",
    "  | Baseline      | Private Score | Public Score  |\n",
    "  |:-------------:|:-------------:|:-------------:|\n",
    "  | `Popularity`  | 0.00322       | 0.00308       |\n",
    "  | `ItemKNN`     | 0.00360       | 0.00348       |\n",
    "  | `TARSItemKNN` | 0.00453       | 0.00413       |\n",
    "\n",
    "\n",
    "---"
   ]
  },
  {
   "cell_type": "code",
   "execution_count": 1,
   "id": "5687e28c",
   "metadata": {},
   "outputs": [],
   "source": [
    "import pandas as pd\n",
    "import numpy as np\n",
    "from scipy.sparse import csr_matrix\n",
    "from recpack.preprocessing.preprocessors import DataFramePreprocessor\n",
    "from recpack.preprocessing.filters import MinItemsPerUser, MinUsersPerItem\n",
    "from recpack.algorithms import ItemKNN, TARSItemKNN, Popularity\n",
    "from recpack.matrix import InteractionMatrix\n",
    "\n",
    "from helpers.utils import DATA_PATH, customer_hex_id_to_int\n",
    "from helpers.evaluation import apk\n",
    "from candidates import top_n_idx_sparse, get_top_k_similar_articles_per_user"
   ]
  },
  {
   "cell_type": "code",
   "execution_count": 2,
   "id": "13fc4a82",
   "metadata": {},
   "outputs": [],
   "source": [
    "transactions = pd.read_parquet(f'{DATA_PATH}/transactions_train.parquet')"
   ]
  },
  {
   "cell_type": "code",
   "execution_count": 3,
   "id": "36a4cad3",
   "metadata": {},
   "outputs": [],
   "source": [
    "test_week = transactions.week.max() + 1\n",
    "transactions = transactions[transactions.week > test_week - 20]"
   ]
  },
  {
   "attachments": {},
   "cell_type": "markdown",
   "id": "ccb2c0f2",
   "metadata": {},
   "source": [
    "# Preprocessing + Scenario Setup"
   ]
  },
  {
   "cell_type": "code",
   "execution_count": 4,
   "id": "79fb8fe7",
   "metadata": {},
   "outputs": [
    {
     "data": {
      "application/vnd.jupyter.widget-view+json": {
       "model_id": "013d212da861463db8307a12a6ccd06f",
       "version_major": 2,
       "version_minor": 0
      },
      "text/plain": [
       "  0%|          | 0/3971573 [00:00<?, ?it/s]"
      ]
     },
     "metadata": {},
     "output_type": "display_data"
    },
    {
     "data": {
      "application/vnd.jupyter.widget-view+json": {
       "model_id": "24d589f1195c42b3ba2fb0520550dd3e",
       "version_major": 2,
       "version_minor": 0
      },
      "text/plain": [
       "  0%|          | 0/3971573 [00:00<?, ?it/s]"
      ]
     },
     "metadata": {},
     "output_type": "display_data"
    }
   ],
   "source": [
    "proc = DataFramePreprocessor(item_ix='article_id', user_ix='customer_id', timestamp_ix='week')\n",
    "proc.add_filter(MinUsersPerItem(10, item_ix='article_id', user_ix='customer_id'))\n",
    "proc.add_filter(MinItemsPerUser(10, item_ix='article_id', user_ix='customer_id'))\n",
    "\n",
    "interaction_matrix = proc.process(transactions)"
   ]
  },
  {
   "cell_type": "markdown",
   "id": "56263b7a",
   "metadata": {},
   "source": [
    "# Generating baseline"
   ]
  },
  {
   "cell_type": "markdown",
   "id": "7cc48ce0",
   "metadata": {},
   "source": [
    "### Most popular articles"
   ]
  },
  {
   "cell_type": "code",
   "execution_count": 5,
   "id": "39ecb725",
   "metadata": {},
   "outputs": [
    {
     "name": "stdout",
     "output_type": "stream",
     "text": [
      "2022-12-22 16:51:22,073 - base - recpack - INFO - Fitting Popularity complete - Took 0.423s\n"
     ]
    }
   ],
   "source": [
    "popularity = Popularity(K=12)\n",
    "popularity.fit(interaction_matrix)\n",
    "popular_item_ids = [id for id, _ in popularity.sorted_scores_[:12]]"
   ]
  },
  {
   "cell_type": "markdown",
   "id": "7921aea7",
   "metadata": {},
   "source": [
    "# Item similarity"
   ]
  },
  {
   "cell_type": "markdown",
   "id": "764d5533",
   "metadata": {},
   "source": [
    "### ItemKNN"
   ]
  },
  {
   "cell_type": "code",
   "execution_count": 6,
   "id": "65faab2f",
   "metadata": {},
   "outputs": [
    {
     "name": "stdout",
     "output_type": "stream",
     "text": [
      "2022-12-22 16:51:25,563 - base - recpack - INFO - Fitting ItemKNN complete - Took 3.47s\n"
     ]
    }
   ],
   "source": [
    "knn = ItemKNN(K=90, normalize_X=False, normalize_sim=True, similarity='cosine')\n",
    "knn.fit(interaction_matrix)\n",
    "prediction_matrix_knn = knn.predict(interaction_matrix)"
   ]
  },
  {
   "cell_type": "code",
   "execution_count": 7,
   "id": "9278b398",
   "metadata": {},
   "outputs": [],
   "source": [
    "similarity_recommendations_knn = get_top_k_similar_articles_per_user(prediction_matrix_knn, interaction_matrix, k=12)"
   ]
  },
  {
   "cell_type": "markdown",
   "id": "39dc1054",
   "metadata": {},
   "source": [
    "### TARSItemKNN"
   ]
  },
  {
   "cell_type": "code",
   "execution_count": 8,
   "id": "7d83ba6d",
   "metadata": {},
   "outputs": [
    {
     "name": "stdout",
     "output_type": "stream",
     "text": [
      "2022-12-22 16:52:12,240 - base - recpack - INFO - Fitting TARSItemKNN complete - Took 18.4s\n"
     ]
    }
   ],
   "source": [
    "tknn = TARSItemKNN(K=580, fit_decay=0.1, predict_decay=1/3, similarity='cosine')\n",
    "tknn.fit(interaction_matrix)\n",
    "prediction_matrix_tknn = tknn.predict(interaction_matrix)"
   ]
  },
  {
   "cell_type": "code",
   "execution_count": 9,
   "id": "0ee91504",
   "metadata": {},
   "outputs": [],
   "source": [
    "similarity_recommendations_tknn = get_top_k_similar_articles_per_user(prediction_matrix_tknn, interaction_matrix, k=12)"
   ]
  },
  {
   "cell_type": "markdown",
   "id": "abb34139",
   "metadata": {},
   "source": [
    "# Calculate predictions"
   ]
  },
  {
   "cell_type": "code",
   "execution_count": 10,
   "id": "823f8bc0",
   "metadata": {},
   "outputs": [],
   "source": [
    "# popularity\n",
    "popular_article_ids = [interaction_matrix._df[interaction_matrix._df['iid'] == pop_iid]['article_id'].values[0] for pop_iid in popular_item_ids]\n",
    "# ItemKNN\n",
    "c_id2predicted_article_ids_knn = similarity_recommendations_knn.groupby('customer_id')['article_id'].apply(list).to_dict()\n",
    "# TARSItemKNN\n",
    "c_id2predicted_article_ids_tknn = similarity_recommendations_tknn.groupby('customer_id')['article_id'].apply(list).to_dict()"
   ]
  },
  {
   "cell_type": "markdown",
   "id": "2e576d90",
   "metadata": {},
   "source": [
    "# Create submission"
   ]
  },
  {
   "cell_type": "markdown",
   "id": "34dc15e3",
   "metadata": {},
   "source": [
    "### Popular items only"
   ]
  },
  {
   "cell_type": "code",
   "execution_count": 11,
   "id": "eb1c56d0",
   "metadata": {},
   "outputs": [],
   "source": [
    "sub = pd.read_csv(f'{DATA_PATH}/sample_submission.csv')"
   ]
  },
  {
   "cell_type": "code",
   "execution_count": 12,
   "id": "03d79b1f",
   "metadata": {},
   "outputs": [],
   "source": [
    "preds = []\n",
    "for c_id in customer_hex_id_to_int(sub.customer_id):\n",
    "    pred = popular_article_ids\n",
    "    preds.append(pred[:12])"
   ]
  },
  {
   "cell_type": "code",
   "execution_count": 13,
   "id": "e4ed109f",
   "metadata": {},
   "outputs": [],
   "source": [
    "preds = [' '.join(['0' + str(p) for p in ps]) for ps in preds]\n",
    "sub.prediction = preds"
   ]
  },
  {
   "cell_type": "code",
   "execution_count": 14,
   "id": "245ce774",
   "metadata": {},
   "outputs": [],
   "source": [
    "sub_name = 'submission_Popularity_baseline'\n",
    "sub.to_csv(f'{DATA_PATH}/subs/{sub_name}.csv.gz', index=False)"
   ]
  },
  {
   "cell_type": "markdown",
   "id": "6fe0e7f8",
   "metadata": {},
   "source": [
    "### ItemKNN"
   ]
  },
  {
   "cell_type": "code",
   "execution_count": 15,
   "id": "eb1c56d0",
   "metadata": {},
   "outputs": [],
   "source": [
    "sub = pd.read_csv(f'{DATA_PATH}/sample_submission.csv')"
   ]
  },
  {
   "cell_type": "code",
   "execution_count": 16,
   "id": "03d79b1f",
   "metadata": {},
   "outputs": [],
   "source": [
    "preds = []\n",
    "for c_id in customer_hex_id_to_int(sub.customer_id):\n",
    "    pred = c_id2predicted_article_ids_knn.get(c_id, [])\n",
    "    pred = pred + popular_article_ids\n",
    "    preds.append(pred[:12])"
   ]
  },
  {
   "cell_type": "code",
   "execution_count": 17,
   "id": "e4ed109f",
   "metadata": {},
   "outputs": [],
   "source": [
    "preds = [' '.join(['0' + str(p) for p in ps]) for ps in preds]\n",
    "sub.prediction = preds"
   ]
  },
  {
   "cell_type": "code",
   "execution_count": 18,
   "id": "245ce774",
   "metadata": {},
   "outputs": [],
   "source": [
    "sub_name = 'submission_ItemKNN_baseline'\n",
    "sub.to_csv(f'{DATA_PATH}/subs/{sub_name}.csv.gz', index=False)"
   ]
  },
  {
   "cell_type": "markdown",
   "id": "85d2a9d1",
   "metadata": {},
   "source": [
    "### TARSItemKNN"
   ]
  },
  {
   "cell_type": "code",
   "execution_count": 19,
   "id": "eb1c56d0",
   "metadata": {},
   "outputs": [],
   "source": [
    "sub = pd.read_csv(f'{DATA_PATH}/sample_submission.csv')"
   ]
  },
  {
   "cell_type": "code",
   "execution_count": 20,
   "id": "03d79b1f",
   "metadata": {},
   "outputs": [],
   "source": [
    "preds = []\n",
    "for c_id in customer_hex_id_to_int(sub.customer_id):\n",
    "    pred = c_id2predicted_article_ids_tknn.get(c_id, [])\n",
    "    pred = pred + popular_article_ids\n",
    "    preds.append(pred[:12])"
   ]
  },
  {
   "cell_type": "code",
   "execution_count": 21,
   "id": "e4ed109f",
   "metadata": {},
   "outputs": [],
   "source": [
    "preds = [' '.join(['0' + str(p) for p in ps]) for ps in preds]\n",
    "sub.prediction = preds"
   ]
  },
  {
   "cell_type": "code",
   "execution_count": 22,
   "id": "245ce774",
   "metadata": {},
   "outputs": [],
   "source": [
    "sub_name = 'submission_TARSItemKNN_baseline'\n",
    "sub.to_csv(f'{DATA_PATH}/subs/{sub_name}.csv.gz', index=False)"
   ]
  }
 ],
 "metadata": {
  "kernelspec": {
   "display_name": "venv",
   "language": "python",
   "name": "python3"
  },
  "language_info": {
   "codemirror_mode": {
    "name": "ipython",
    "version": 3
   },
   "file_extension": ".py",
   "mimetype": "text/x-python",
   "name": "python",
   "nbconvert_exporter": "python",
   "pygments_lexer": "ipython3",
   "version": "3.10.8 (main, Oct 21 2022, 22:22:30) [Clang 14.0.0 (clang-1400.0.29.202)]"
  },
  "vscode": {
   "interpreter": {
    "hash": "74a760a54f6a6f1fe5478fb54f34250ff707e79a970304340f42c5488d544c75"
   }
  }
 },
 "nbformat": 4,
 "nbformat_minor": 5
}
