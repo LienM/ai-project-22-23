{
 "cells": [
  {
   "cell_type": "markdown",
   "metadata": {},
   "source": [
    "## Setup"
   ]
  },
  {
   "cell_type": "code",
   "execution_count": 1,
   "metadata": {
    "pycharm": {
     "is_executing": true
    }
   },
   "outputs": [],
   "source": [
    "import numpy as np\n",
    "import pandas as pd\n",
    "import random\n",
    "from sklearn.linear_model import LogisticRegression\n",
    "from sklearn.model_selection import train_test_split\n",
    "from sklearn.metrics import classification_report\n",
    "from sklearn import preprocessing"
   ]
  },
  {
   "cell_type": "code",
   "execution_count": 2,
   "metadata": {
    "pycharm": {
     "is_executing": true
    }
   },
   "outputs": [],
   "source": [
    "articles = pd.read_csv('../data/articles.csv')\n",
    "customers = pd.read_csv('../data/customers.csv')\n",
    "sample_submisison = pd.read_csv('../data/sample_submission.csv')\n",
    "transactions = pd.read_csv('../data/transactions_train.csv')"
   ]
  },
  {
   "cell_type": "markdown",
   "metadata": {},
   "source": [
    "## The H&M Dataset"
   ]
  },
  {
   "cell_type": "code",
   "execution_count": 3,
   "metadata": {
    "pycharm": {
     "is_executing": true
    }
   },
   "outputs": [
    {
     "name": "stdout",
     "output_type": "stream",
     "text": [
      "<class 'pandas.core.frame.DataFrame'>\n",
      "RangeIndex: 105542 entries, 0 to 105541\n",
      "Data columns (total 25 columns):\n",
      " #   Column                        Non-Null Count   Dtype \n",
      "---  ------                        --------------   ----- \n",
      " 0   article_id                    105542 non-null  int64 \n",
      " 1   product_code                  105542 non-null  int64 \n",
      " 2   prod_name                     105542 non-null  object\n",
      " 3   product_type_no               105542 non-null  int64 \n",
      " 4   product_type_name             105542 non-null  object\n",
      " 5   product_group_name            105542 non-null  object\n",
      " 6   graphical_appearance_no       105542 non-null  int64 \n",
      " 7   graphical_appearance_name     105542 non-null  object\n",
      " 8   colour_group_code             105542 non-null  int64 \n",
      " 9   colour_group_name             105542 non-null  object\n",
      " 10  perceived_colour_value_id     105542 non-null  int64 \n",
      " 11  perceived_colour_value_name   105542 non-null  object\n",
      " 12  perceived_colour_master_id    105542 non-null  int64 \n",
      " 13  perceived_colour_master_name  105542 non-null  object\n",
      " 14  department_no                 105542 non-null  int64 \n",
      " 15  department_name               105542 non-null  object\n",
      " 16  index_code                    105542 non-null  object\n",
      " 17  index_name                    105542 non-null  object\n",
      " 18  index_group_no                105542 non-null  int64 \n",
      " 19  index_group_name              105542 non-null  object\n",
      " 20  section_no                    105542 non-null  int64 \n",
      " 21  section_name                  105542 non-null  object\n",
      " 22  garment_group_no              105542 non-null  int64 \n",
      " 23  garment_group_name            105542 non-null  object\n",
      " 24  detail_desc                   105126 non-null  object\n",
      "dtypes: int64(11), object(14)\n",
      "memory usage: 20.1+ MB\n"
     ]
    }
   ],
   "source": [
    "articles.info()"
   ]
  },
  {
   "cell_type": "code",
   "execution_count": 4,
   "metadata": {
    "pycharm": {
     "is_executing": true
    }
   },
   "outputs": [
    {
     "name": "stdout",
     "output_type": "stream",
     "text": [
      "<class 'pandas.core.frame.DataFrame'>\n",
      "RangeIndex: 1371980 entries, 0 to 1371979\n",
      "Data columns (total 7 columns):\n",
      " #   Column                  Non-Null Count    Dtype  \n",
      "---  ------                  --------------    -----  \n",
      " 0   customer_id             1371980 non-null  object \n",
      " 1   FN                      476930 non-null   float64\n",
      " 2   Active                  464404 non-null   float64\n",
      " 3   club_member_status      1365918 non-null  object \n",
      " 4   fashion_news_frequency  1355971 non-null  object \n",
      " 5   age                     1356119 non-null  float64\n",
      " 6   postal_code             1371980 non-null  object \n",
      "dtypes: float64(3), object(4)\n",
      "memory usage: 73.3+ MB\n"
     ]
    }
   ],
   "source": [
    "customers.info()"
   ]
  },
  {
   "cell_type": "code",
   "execution_count": 5,
   "metadata": {
    "pycharm": {
     "is_executing": true
    }
   },
   "outputs": [
    {
     "name": "stdout",
     "output_type": "stream",
     "text": [
      "<class 'pandas.core.frame.DataFrame'>\n",
      "RangeIndex: 31788324 entries, 0 to 31788323\n",
      "Data columns (total 5 columns):\n",
      " #   Column            Dtype  \n",
      "---  ------            -----  \n",
      " 0   t_dat             object \n",
      " 1   customer_id       object \n",
      " 2   article_id        int64  \n",
      " 3   price             float64\n",
      " 4   sales_channel_id  int64  \n",
      "dtypes: float64(1), int64(2), object(2)\n",
      "memory usage: 1.2+ GB\n"
     ]
    }
   ],
   "source": [
    "transactions.info()"
   ]
  },
  {
   "cell_type": "code",
   "execution_count": 6,
   "metadata": {
    "pycharm": {
     "is_executing": true
    }
   },
   "outputs": [],
   "source": [
    "# X = transactions.merge(customers, how='inner', on='customer_id')\n",
    "# X = X.merge(articles, how='inner', on='article_id')"
   ]
  },
  {
   "cell_type": "markdown",
   "metadata": {},
   "source": [
    "### Creating Samples \n",
    "If you would rather work with samples instead of the whole dataset (while prototyping your code). You can use the code below:"
   ]
  },
  {
   "cell_type": "code",
   "execution_count": 7,
   "metadata": {
    "pycharm": {
     "is_executing": true
    }
   },
   "outputs": [
    {
     "name": "stdout",
     "output_type": "stream",
     "text": [
      "0.001\n",
      "0.01\n",
      "0.05\n"
     ]
    }
   ],
   "source": [
    "# Adapted from: https://www.kaggle.com/code/paweljankiewicz/hm-create-dataset-samples\n",
    "# This extracts three sampled datasets, containing 0.1%, 1% and 5% of all users and their transactions, and the associated articles.\n",
    "for sample_repr, sample in [(\"01\", 0.001), (\"1\", 0.01), (\"5\", 0.05)]:\n",
    "    print(sample)\n",
    "    customers_sample = customers.sample(int(customers.shape[0] * sample), replace=False)\n",
    "    customers_sample_ids = set(customers_sample[\"customer_id\"])\n",
    "    transactions_sample = transactions[transactions[\"customer_id\"].isin(customers_sample_ids)]\n",
    "    articles_sample_ids = set(transactions_sample[\"article_id\"])\n",
    "    articles_sample = articles[articles[\"article_id\"].isin(articles_sample_ids)]\n",
    "    customers_sample.to_csv(f\"../data/customers_sample{sample_repr}.csv.gz\", index=False)\n",
    "    transactions_sample.to_csv(f\"../data/transactions_sample{sample_repr}.csv.gz\", index=False)\n",
    "    articles_sample.to_csv(f\"../data/articles_sample{sample_repr}.csv.gz\", index=False)"
   ]
  },
  {
   "cell_type": "code",
   "execution_count": 2,
   "metadata": {
    "pycharm": {
     "is_executing": true
    }
   },
   "outputs": [],
   "source": [
    "articles_sample = pd.read_csv('../data/articles_sample5.csv.gz')\n",
    "customers_sample = pd.read_csv('../data/customers_sample5.csv.gz')\n",
    "transactions_sample = pd.read_csv('../data/transactions_sample5.csv.gz')"
   ]
  },
  {
   "cell_type": "code",
   "execution_count": 3,
   "metadata": {
    "pycharm": {
     "is_executing": true
    }
   },
   "outputs": [
    {
     "name": "stdout",
     "output_type": "stream",
     "text": [
      "<class 'pandas.core.frame.DataFrame'>\n",
      "RangeIndex: 68599 entries, 0 to 68598\n",
      "Data columns (total 7 columns):\n",
      " #   Column                  Non-Null Count  Dtype  \n",
      "---  ------                  --------------  -----  \n",
      " 0   customer_id             68599 non-null  object \n",
      " 1   FN                      23779 non-null  float64\n",
      " 2   Active                  23151 non-null  float64\n",
      " 3   club_member_status      68317 non-null  object \n",
      " 4   fashion_news_frequency  67840 non-null  object \n",
      " 5   age                     67831 non-null  float64\n",
      " 6   postal_code             68599 non-null  object \n",
      "dtypes: float64(3), object(4)\n",
      "memory usage: 3.7+ MB\n"
     ]
    }
   ],
   "source": [
    "customers_sample.info()"
   ]
  },
  {
   "cell_type": "code",
   "execution_count": 4,
   "metadata": {
    "pycharm": {
     "is_executing": true
    }
   },
   "outputs": [
    {
     "name": "stdout",
     "output_type": "stream",
     "text": [
      "<class 'pandas.core.frame.DataFrame'>\n",
      "RangeIndex: 1586952 entries, 0 to 1586951\n",
      "Data columns (total 5 columns):\n",
      " #   Column            Non-Null Count    Dtype  \n",
      "---  ------            --------------    -----  \n",
      " 0   t_dat             1586952 non-null  object \n",
      " 1   customer_id       1586952 non-null  object \n",
      " 2   article_id        1586952 non-null  int64  \n",
      " 3   price             1586952 non-null  float64\n",
      " 4   sales_channel_id  1586952 non-null  int64  \n",
      "dtypes: float64(1), int64(2), object(2)\n",
      "memory usage: 60.5+ MB\n"
     ]
    }
   ],
   "source": [
    "transactions_sample.info()"
   ]
  },
  {
   "cell_type": "markdown",
   "metadata": {},
   "source": [
    "## A Simplified Task: Binary Classification\n",
    "\n",
    "The task of predicting which 12 items users are most likely to buy in the next week is difficult to translate to a traditional classification machine learning setting. \n",
    "To obtain the 12 items a user is most likely to buy, we need to make predictions for all items (or the ones selected by a baseline) and select the 12 that have the highest predicted scores.\n",
    "\n",
    "In this assignment, we'll consider a simplified task: Predict whether a user ordered a single item or not, based on the features of the user and the item. \n",
    "We provide a baseline logistic regression model below, but haven't done much feature preprocessing or engineering!\n",
    "Initially, it is always best to focus your efforts on getting your features in the right shape and setting up the right validation scheme and baselines.\n",
    "Once you are sure that your features add value and your validation scheme is correct, then you typically move on to trying more elaborate models."
   ]
  },
  {
   "cell_type": "markdown",
   "metadata": {},
   "source": [
    "### Creating the Dataset"
   ]
  },
  {
   "cell_type": "code",
   "execution_count": 5,
   "metadata": {
    "pycharm": {
     "is_executing": true
    }
   },
   "outputs": [],
   "source": [
    "# If you'd rather use a sample. Uncomment the following code:\n",
    "transactions = transactions_sample\n",
    "customers = customers_sample\n",
    "articles = articles_sample"
   ]
  },
  {
   "cell_type": "code",
   "execution_count": 6,
   "metadata": {
    "pycharm": {
     "is_executing": true
    }
   },
   "outputs": [],
   "source": [
    "transactions['ordered'] = 1"
   ]
  },
  {
   "cell_type": "markdown",
   "metadata": {},
   "source": [
    "The problem setting is an example of a \"PU learning\" problem, i.e. only positives are labeled, everything else is unlabeled (and can be either positive or negative). \n",
    "Of course, we cannot train a classifier with just positive samples: The classifier will just learn that everything is positive.\n",
    "Therefore, we need to manually generate negative samples.\n",
    "\n",
    "Below, we use a simple random negative sampling strategy.\n",
    "We want to create a balanced dataset, meaning that we have just as many positives as negatives.\n",
    "This makes sure that the classifier will not benefit from predicting the positive/negative class more often than the other.\n",
    "Realistically, the amount of positive samples is of course many times smaller than the amount of unlabeled, possibly negative instances.\n",
    "\n",
    "\n",
    "If you want to try your hand at a more complex negative sampling strategy, you may want to check out this blog as a starting point: https://medium.com/mlearning-ai/overview-negative-sampling-on-recommendation-systems-230a051c6cd7.\n",
    "\n"
   ]
  },
  {
   "cell_type": "code",
   "execution_count": 7,
   "metadata": {
    "pycharm": {
     "is_executing": true
    }
   },
   "outputs": [
    {
     "data": {
      "text/html": [
       "<div>\n",
       "<style scoped>\n",
       "    .dataframe tbody tr th:only-of-type {\n",
       "        vertical-align: middle;\n",
       "    }\n",
       "\n",
       "    .dataframe tbody tr th {\n",
       "        vertical-align: top;\n",
       "    }\n",
       "\n",
       "    .dataframe thead th {\n",
       "        text-align: right;\n",
       "    }\n",
       "</style>\n",
       "<table border=\"1\" class=\"dataframe\">\n",
       "  <thead>\n",
       "    <tr style=\"text-align: right;\">\n",
       "      <th></th>\n",
       "      <th>t_dat</th>\n",
       "      <th>customer_id</th>\n",
       "      <th>article_id</th>\n",
       "      <th>price</th>\n",
       "      <th>sales_channel_id</th>\n",
       "      <th>ordered</th>\n",
       "    </tr>\n",
       "  </thead>\n",
       "  <tbody>\n",
       "    <tr>\n",
       "      <th>0</th>\n",
       "      <td>2018-09-20</td>\n",
       "      <td>00083cda041544b2fbb0e0d2905ad17da7cf1007526fb4...</td>\n",
       "      <td>688873012</td>\n",
       "      <td>0.030492</td>\n",
       "      <td>1</td>\n",
       "      <td>1</td>\n",
       "    </tr>\n",
       "    <tr>\n",
       "      <th>1</th>\n",
       "      <td>2018-09-20</td>\n",
       "      <td>00083cda041544b2fbb0e0d2905ad17da7cf1007526fb4...</td>\n",
       "      <td>501323011</td>\n",
       "      <td>0.053373</td>\n",
       "      <td>1</td>\n",
       "      <td>1</td>\n",
       "    </tr>\n",
       "    <tr>\n",
       "      <th>2</th>\n",
       "      <td>2018-09-20</td>\n",
       "      <td>00083cda041544b2fbb0e0d2905ad17da7cf1007526fb4...</td>\n",
       "      <td>598859003</td>\n",
       "      <td>0.045746</td>\n",
       "      <td>2</td>\n",
       "      <td>1</td>\n",
       "    </tr>\n",
       "    <tr>\n",
       "      <th>3</th>\n",
       "      <td>2018-09-20</td>\n",
       "      <td>00083cda041544b2fbb0e0d2905ad17da7cf1007526fb4...</td>\n",
       "      <td>688873020</td>\n",
       "      <td>0.030492</td>\n",
       "      <td>1</td>\n",
       "      <td>1</td>\n",
       "    </tr>\n",
       "    <tr>\n",
       "      <th>4</th>\n",
       "      <td>2018-09-20</td>\n",
       "      <td>00083cda041544b2fbb0e0d2905ad17da7cf1007526fb4...</td>\n",
       "      <td>688873011</td>\n",
       "      <td>0.030492</td>\n",
       "      <td>1</td>\n",
       "      <td>1</td>\n",
       "    </tr>\n",
       "  </tbody>\n",
       "</table>\n",
       "</div>"
      ],
      "text/plain": [
       "        t_dat                                        customer_id  article_id  \\\n",
       "0  2018-09-20  00083cda041544b2fbb0e0d2905ad17da7cf1007526fb4...   688873012   \n",
       "1  2018-09-20  00083cda041544b2fbb0e0d2905ad17da7cf1007526fb4...   501323011   \n",
       "2  2018-09-20  00083cda041544b2fbb0e0d2905ad17da7cf1007526fb4...   598859003   \n",
       "3  2018-09-20  00083cda041544b2fbb0e0d2905ad17da7cf1007526fb4...   688873020   \n",
       "4  2018-09-20  00083cda041544b2fbb0e0d2905ad17da7cf1007526fb4...   688873011   \n",
       "\n",
       "      price  sales_channel_id  ordered  \n",
       "0  0.030492                 1        1  \n",
       "1  0.053373                 1        1  \n",
       "2  0.045746                 2        1  \n",
       "3  0.030492                 1        1  \n",
       "4  0.030492                 1        1  "
      ]
     },
     "execution_count": 7,
     "metadata": {},
     "output_type": "execute_result"
    }
   ],
   "source": [
    "transactions.head()"
   ]
  },
  {
   "cell_type": "code",
   "execution_count": 8,
   "metadata": {
    "pycharm": {
     "is_executing": true
    }
   },
   "outputs": [],
   "source": [
    "# What's happening here? \n",
    "# We're creating negative samples. I.e. we're creating transactions that didn't actually occur.\n",
    "# First, we need to know which interactions did occur:\n",
    "positive_pairs = list(map(tuple, transactions[['customer_id', 'article_id']].drop_duplicates().values))"
   ]
  },
  {
   "cell_type": "code",
   "execution_count": 9,
   "metadata": {
    "pycharm": {
     "is_executing": true
    }
   },
   "outputs": [
    {
     "data": {
      "text/html": [
       "<div>\n",
       "<style scoped>\n",
       "    .dataframe tbody tr th:only-of-type {\n",
       "        vertical-align: middle;\n",
       "    }\n",
       "\n",
       "    .dataframe tbody tr th {\n",
       "        vertical-align: top;\n",
       "    }\n",
       "\n",
       "    .dataframe thead th {\n",
       "        text-align: right;\n",
       "    }\n",
       "</style>\n",
       "<table border=\"1\" class=\"dataframe\">\n",
       "  <thead>\n",
       "    <tr style=\"text-align: right;\">\n",
       "      <th></th>\n",
       "      <th>t_dat</th>\n",
       "      <th>customer_id</th>\n",
       "      <th>article_id</th>\n",
       "      <th>price</th>\n",
       "      <th>sales_channel_id</th>\n",
       "      <th>ordered</th>\n",
       "    </tr>\n",
       "  </thead>\n",
       "  <tbody>\n",
       "    <tr>\n",
       "      <th>0</th>\n",
       "      <td>2018-09-20</td>\n",
       "      <td>00083cda041544b2fbb0e0d2905ad17da7cf1007526fb4...</td>\n",
       "      <td>688873012</td>\n",
       "      <td>0.030492</td>\n",
       "      <td>1</td>\n",
       "      <td>1</td>\n",
       "    </tr>\n",
       "    <tr>\n",
       "      <th>1</th>\n",
       "      <td>2018-09-20</td>\n",
       "      <td>00083cda041544b2fbb0e0d2905ad17da7cf1007526fb4...</td>\n",
       "      <td>501323011</td>\n",
       "      <td>0.053373</td>\n",
       "      <td>1</td>\n",
       "      <td>1</td>\n",
       "    </tr>\n",
       "    <tr>\n",
       "      <th>2</th>\n",
       "      <td>2018-09-20</td>\n",
       "      <td>00083cda041544b2fbb0e0d2905ad17da7cf1007526fb4...</td>\n",
       "      <td>598859003</td>\n",
       "      <td>0.045746</td>\n",
       "      <td>2</td>\n",
       "      <td>1</td>\n",
       "    </tr>\n",
       "    <tr>\n",
       "      <th>3</th>\n",
       "      <td>2018-09-20</td>\n",
       "      <td>00083cda041544b2fbb0e0d2905ad17da7cf1007526fb4...</td>\n",
       "      <td>688873020</td>\n",
       "      <td>0.030492</td>\n",
       "      <td>1</td>\n",
       "      <td>1</td>\n",
       "    </tr>\n",
       "    <tr>\n",
       "      <th>4</th>\n",
       "      <td>2018-09-20</td>\n",
       "      <td>00083cda041544b2fbb0e0d2905ad17da7cf1007526fb4...</td>\n",
       "      <td>688873011</td>\n",
       "      <td>0.030492</td>\n",
       "      <td>1</td>\n",
       "      <td>1</td>\n",
       "    </tr>\n",
       "  </tbody>\n",
       "</table>\n",
       "</div>"
      ],
      "text/plain": [
       "        t_dat                                        customer_id  article_id  \\\n",
       "0  2018-09-20  00083cda041544b2fbb0e0d2905ad17da7cf1007526fb4...   688873012   \n",
       "1  2018-09-20  00083cda041544b2fbb0e0d2905ad17da7cf1007526fb4...   501323011   \n",
       "2  2018-09-20  00083cda041544b2fbb0e0d2905ad17da7cf1007526fb4...   598859003   \n",
       "3  2018-09-20  00083cda041544b2fbb0e0d2905ad17da7cf1007526fb4...   688873020   \n",
       "4  2018-09-20  00083cda041544b2fbb0e0d2905ad17da7cf1007526fb4...   688873011   \n",
       "\n",
       "      price  sales_channel_id  ordered  \n",
       "0  0.030492                 1        1  \n",
       "1  0.053373                 1        1  \n",
       "2  0.045746                 2        1  \n",
       "3  0.030492                 1        1  \n",
       "4  0.030492                 1        1  "
      ]
     },
     "execution_count": 9,
     "metadata": {},
     "output_type": "execute_result"
    }
   ],
   "source": [
    "# Then we need to know what every synthetic transaction should contain: a date, a customer_id, an article_id, price, sales_channel_id. We will set ordered = 0, as these transactions didn't really occur.\n",
    "transactions.head()"
   ]
  },
  {
   "cell_type": "code",
   "execution_count": 10,
   "metadata": {
    "pycharm": {
     "is_executing": true
    }
   },
   "outputs": [],
   "source": [
    "# Extract real values\n",
    "real_dates = transactions[\"t_dat\"].unique()\n",
    "real_customers = transactions[\"customer_id\"].unique()\n",
    "real_articles = transactions[\"article_id\"].unique()\n",
    "real_channels = transactions[\"sales_channel_id\"].unique()\n",
    "article_and_price = transactions[[\"article_id\", \"price\"]].drop_duplicates(\"article_id\").set_index(\n",
    "    \"article_id\").squeeze()"
   ]
  },
  {
   "cell_type": "code",
   "execution_count": 11,
   "metadata": {
    "pycharm": {
     "is_executing": true
    }
   },
   "outputs": [
    {
     "name": "stdout",
     "output_type": "stream",
     "text": [
      "1586952\n"
     ]
    }
   ],
   "source": [
    "# How many negatives do we need to sample?\n",
    "num_neg_pos = transactions.shape[0]\n",
    "print(num_neg_pos)"
   ]
  },
  {
   "cell_type": "code",
   "execution_count": 12,
   "metadata": {
    "pycharm": {
     "is_executing": true
    }
   },
   "outputs": [],
   "source": [
    "# Sampling negatives by selecting random users, articles, dates and sales channel:\n",
    "# Note: This is quite naive. Some articles may not even have been available at the date we are sampling.\n",
    "random.seed(42)\n",
    "\n",
    "# Afterwards, we need to remove potential duplicates, so we'll sample too many.\n",
    "num_neg_samples = int(num_neg_pos * 1.1)\n",
    "\n",
    "# Sample each of the independent attributes.\n",
    "neg_dates = np.random.choice(real_dates, size=num_neg_samples)\n",
    "neg_articles = np.random.choice(real_articles, size=num_neg_samples)\n",
    "neg_customers = np.random.choice(real_customers, size=num_neg_samples)\n",
    "neg_channels = np.random.choice(real_channels, size=num_neg_samples)\n",
    "ordered = np.array([0] * num_neg_samples)\n",
    "# Assign to every article a real price.\n",
    "neg_prices = article_and_price[neg_articles].values"
   ]
  },
  {
   "cell_type": "code",
   "execution_count": 13,
   "metadata": {
    "pycharm": {
     "is_executing": true
    }
   },
   "outputs": [],
   "source": [
    "neg_transactions = pd.DataFrame([neg_dates, neg_customers, neg_articles, neg_prices, neg_channels, ordered],\n",
    "                                index=transactions.columns).T"
   ]
  },
  {
   "cell_type": "code",
   "execution_count": 14,
   "metadata": {
    "pycharm": {
     "is_executing": true
    }
   },
   "outputs": [
    {
     "data": {
      "text/html": [
       "<div>\n",
       "<style scoped>\n",
       "    .dataframe tbody tr th:only-of-type {\n",
       "        vertical-align: middle;\n",
       "    }\n",
       "\n",
       "    .dataframe tbody tr th {\n",
       "        vertical-align: top;\n",
       "    }\n",
       "\n",
       "    .dataframe thead th {\n",
       "        text-align: right;\n",
       "    }\n",
       "</style>\n",
       "<table border=\"1\" class=\"dataframe\">\n",
       "  <thead>\n",
       "    <tr style=\"text-align: right;\">\n",
       "      <th></th>\n",
       "      <th>t_dat</th>\n",
       "      <th>customer_id</th>\n",
       "      <th>article_id</th>\n",
       "      <th>price</th>\n",
       "      <th>sales_channel_id</th>\n",
       "      <th>ordered</th>\n",
       "    </tr>\n",
       "  </thead>\n",
       "  <tbody>\n",
       "    <tr>\n",
       "      <th>0</th>\n",
       "      <td>2018-10-08</td>\n",
       "      <td>e7a16fe8f4a98882366ec38e4dc94d182fe68e38c58010...</td>\n",
       "      <td>911870002</td>\n",
       "      <td>0.033881</td>\n",
       "      <td>1</td>\n",
       "      <td>0</td>\n",
       "    </tr>\n",
       "    <tr>\n",
       "      <th>1</th>\n",
       "      <td>2018-10-12</td>\n",
       "      <td>d1e4a23c7bb1feef94c40c7e04e7f8f41ec5621c9bd981...</td>\n",
       "      <td>781592002</td>\n",
       "      <td>0.025407</td>\n",
       "      <td>1</td>\n",
       "      <td>0</td>\n",
       "    </tr>\n",
       "    <tr>\n",
       "      <th>2</th>\n",
       "      <td>2020-06-27</td>\n",
       "      <td>8465294b1cab4463b4f66a86a5068a2467033b43f22a18...</td>\n",
       "      <td>665044010</td>\n",
       "      <td>0.024949</td>\n",
       "      <td>2</td>\n",
       "      <td>0</td>\n",
       "    </tr>\n",
       "    <tr>\n",
       "      <th>3</th>\n",
       "      <td>2020-09-08</td>\n",
       "      <td>6e55950cab053b4953dee5d08f83fa8fc25b81040011a2...</td>\n",
       "      <td>659146001</td>\n",
       "      <td>0.042356</td>\n",
       "      <td>1</td>\n",
       "      <td>0</td>\n",
       "    </tr>\n",
       "    <tr>\n",
       "      <th>4</th>\n",
       "      <td>2019-10-08</td>\n",
       "      <td>b5b5a6c677c61ea2ee6410870154d1b35a716c6964c7f4...</td>\n",
       "      <td>771325001</td>\n",
       "      <td>0.013542</td>\n",
       "      <td>1</td>\n",
       "      <td>0</td>\n",
       "    </tr>\n",
       "  </tbody>\n",
       "</table>\n",
       "</div>"
      ],
      "text/plain": [
       "        t_dat                                        customer_id article_id  \\\n",
       "0  2018-10-08  e7a16fe8f4a98882366ec38e4dc94d182fe68e38c58010...  911870002   \n",
       "1  2018-10-12  d1e4a23c7bb1feef94c40c7e04e7f8f41ec5621c9bd981...  781592002   \n",
       "2  2020-06-27  8465294b1cab4463b4f66a86a5068a2467033b43f22a18...  665044010   \n",
       "3  2020-09-08  6e55950cab053b4953dee5d08f83fa8fc25b81040011a2...  659146001   \n",
       "4  2019-10-08  b5b5a6c677c61ea2ee6410870154d1b35a716c6964c7f4...  771325001   \n",
       "\n",
       "      price sales_channel_id ordered  \n",
       "0  0.033881                1       0  \n",
       "1  0.025407                1       0  \n",
       "2  0.024949                2       0  \n",
       "3  0.042356                1       0  \n",
       "4  0.013542                1       0  "
      ]
     },
     "execution_count": 14,
     "metadata": {},
     "output_type": "execute_result"
    }
   ],
   "source": [
    "# Result:\n",
    "neg_transactions.head()"
   ]
  },
  {
   "cell_type": "code",
   "execution_count": 15,
   "metadata": {
    "pycharm": {
     "is_executing": true
    }
   },
   "outputs": [
    {
     "data": {
      "text/plain": [
       "(1745647, 6)"
      ]
     },
     "execution_count": 15,
     "metadata": {},
     "output_type": "execute_result"
    }
   ],
   "source": [
    "neg_transactions.shape"
   ]
  },
  {
   "cell_type": "code",
   "execution_count": 16,
   "metadata": {
    "pycharm": {
     "is_executing": true
    }
   },
   "outputs": [],
   "source": [
    "# Remove random negative samples that actually coincide with positives\n",
    "df = neg_transactions[\n",
    "    ~neg_transactions.set_index([\"customer_id\", \"article_id\"]).index.isin(positive_pairs)\n",
    "]\n",
    "\n",
    "# Remove any excess\n",
    "chosen_neg_transactions = df.sample(num_neg_pos)"
   ]
  },
  {
   "cell_type": "code",
   "execution_count": 17,
   "metadata": {
    "pycharm": {
     "is_executing": true
    }
   },
   "outputs": [],
   "source": [
    "# Concat the negative samples to the positive samples:\n",
    "transactions = pd.concat([transactions, chosen_neg_transactions])\n",
    "transactions = transactions.merge(customers, how=\"inner\", on='customer_id')\n",
    "transactions = transactions.merge(articles, how=\"inner\", on='article_id')"
   ]
  },
  {
   "cell_type": "code",
   "execution_count": 18,
   "metadata": {
    "pycharm": {
     "is_executing": true
    }
   },
   "outputs": [
    {
     "name": "stdout",
     "output_type": "stream",
     "text": [
      "<class 'pandas.core.frame.DataFrame'>\n",
      "Int64Index: 3173904 entries, 0 to 3173903\n",
      "Data columns (total 36 columns):\n",
      " #   Column                        Dtype  \n",
      "---  ------                        -----  \n",
      " 0   t_dat                         object \n",
      " 1   customer_id                   object \n",
      " 2   article_id                    object \n",
      " 3   price                         object \n",
      " 4   sales_channel_id              object \n",
      " 5   ordered                       object \n",
      " 6   FN                            float64\n",
      " 7   Active                        float64\n",
      " 8   club_member_status            object \n",
      " 9   fashion_news_frequency        object \n",
      " 10  age                           float64\n",
      " 11  postal_code                   object \n",
      " 12  product_code                  int64  \n",
      " 13  prod_name                     object \n",
      " 14  product_type_no               int64  \n",
      " 15  product_type_name             object \n",
      " 16  product_group_name            object \n",
      " 17  graphical_appearance_no       int64  \n",
      " 18  graphical_appearance_name     object \n",
      " 19  colour_group_code             int64  \n",
      " 20  colour_group_name             object \n",
      " 21  perceived_colour_value_id     int64  \n",
      " 22  perceived_colour_value_name   object \n",
      " 23  perceived_colour_master_id    int64  \n",
      " 24  perceived_colour_master_name  object \n",
      " 25  department_no                 int64  \n",
      " 26  department_name               object \n",
      " 27  index_code                    object \n",
      " 28  index_name                    object \n",
      " 29  index_group_no                int64  \n",
      " 30  index_group_name              object \n",
      " 31  section_no                    int64  \n",
      " 32  section_name                  object \n",
      " 33  garment_group_no              int64  \n",
      " 34  garment_group_name            object \n",
      " 35  detail_desc                   object \n",
      "dtypes: float64(3), int64(10), object(23)\n",
      "memory usage: 896.0+ MB\n"
     ]
    }
   ],
   "source": [
    "transactions.info()"
   ]
  },
  {
   "cell_type": "markdown",
   "metadata": {},
   "source": [
    "### Basic Preprocessing\n",
    "Some very basic preprocessing."
   ]
  },
  {
   "cell_type": "code",
   "execution_count": 19,
   "metadata": {
    "pycharm": {
     "is_executing": true
    }
   },
   "outputs": [
    {
     "data": {
      "text/html": [
       "<div>\n",
       "<style scoped>\n",
       "    .dataframe tbody tr th:only-of-type {\n",
       "        vertical-align: middle;\n",
       "    }\n",
       "\n",
       "    .dataframe tbody tr th {\n",
       "        vertical-align: top;\n",
       "    }\n",
       "\n",
       "    .dataframe thead th {\n",
       "        text-align: right;\n",
       "    }\n",
       "</style>\n",
       "<table border=\"1\" class=\"dataframe\">\n",
       "  <thead>\n",
       "    <tr style=\"text-align: right;\">\n",
       "      <th></th>\n",
       "      <th>customer_id</th>\n",
       "      <th>age</th>\n",
       "      <th>article_id</th>\n",
       "      <th>sales_channel_id</th>\n",
       "      <th>price</th>\n",
       "      <th>ordered</th>\n",
       "    </tr>\n",
       "  </thead>\n",
       "  <tbody>\n",
       "    <tr>\n",
       "      <th>0</th>\n",
       "      <td>00083cda041544b2fbb0e0d2905ad17da7cf1007526fb4...</td>\n",
       "      <td>29.0</td>\n",
       "      <td>688873012</td>\n",
       "      <td>1</td>\n",
       "      <td>0.030492</td>\n",
       "      <td>1</td>\n",
       "    </tr>\n",
       "    <tr>\n",
       "      <th>1</th>\n",
       "      <td>34c320e4468ee6b34d35be66c33f71494ca000ecc40a9b...</td>\n",
       "      <td>61.0</td>\n",
       "      <td>688873012</td>\n",
       "      <td>1</td>\n",
       "      <td>0.027102</td>\n",
       "      <td>1</td>\n",
       "    </tr>\n",
       "    <tr>\n",
       "      <th>2</th>\n",
       "      <td>d2451afdc6f826ecfac66c91f5726149fef36b13bb33f4...</td>\n",
       "      <td>23.0</td>\n",
       "      <td>688873012</td>\n",
       "      <td>1</td>\n",
       "      <td>0.033881</td>\n",
       "      <td>1</td>\n",
       "    </tr>\n",
       "    <tr>\n",
       "      <th>3</th>\n",
       "      <td>c39de019ec60dc44f5b3c560abcc5794c4a61ee41e6593...</td>\n",
       "      <td>48.0</td>\n",
       "      <td>688873012</td>\n",
       "      <td>2</td>\n",
       "      <td>0.033881</td>\n",
       "      <td>1</td>\n",
       "    </tr>\n",
       "    <tr>\n",
       "      <th>4</th>\n",
       "      <td>d60bc9e949d928114442a96c37560a96b061a838ac7df0...</td>\n",
       "      <td>22.0</td>\n",
       "      <td>688873012</td>\n",
       "      <td>2</td>\n",
       "      <td>0.030492</td>\n",
       "      <td>0</td>\n",
       "    </tr>\n",
       "  </tbody>\n",
       "</table>\n",
       "</div>"
      ],
      "text/plain": [
       "                                         customer_id   age article_id  \\\n",
       "0  00083cda041544b2fbb0e0d2905ad17da7cf1007526fb4...  29.0  688873012   \n",
       "1  34c320e4468ee6b34d35be66c33f71494ca000ecc40a9b...  61.0  688873012   \n",
       "2  d2451afdc6f826ecfac66c91f5726149fef36b13bb33f4...  23.0  688873012   \n",
       "3  c39de019ec60dc44f5b3c560abcc5794c4a61ee41e6593...  48.0  688873012   \n",
       "4  d60bc9e949d928114442a96c37560a96b061a838ac7df0...  22.0  688873012   \n",
       "\n",
       "  sales_channel_id     price ordered  \n",
       "0                1  0.030492       1  \n",
       "1                1  0.027102       1  \n",
       "2                1  0.033881       1  \n",
       "3                2  0.033881       1  \n",
       "4                2  0.030492       0  "
      ]
     },
     "execution_count": 19,
     "metadata": {},
     "output_type": "execute_result"
    }
   ],
   "source": [
    "# I'm dropping a lot of columns, use them in your engineering tasks!\n",
    "transactions_processed = transactions[\n",
    "    ['customer_id', 'age', 'article_id', 'sales_channel_id', 'price', 'ordered']].copy()\n",
    "transactions_processed.head()"
   ]
  },
  {
   "cell_type": "code",
   "execution_count": 20,
   "metadata": {
    "pycharm": {
     "is_executing": true
    }
   },
   "outputs": [],
   "source": [
    "# Does it make sense to label encode?\n",
    "# Label encoding the customer and article IDs:\n",
    "customer_encoder = preprocessing.LabelEncoder()\n",
    "article_encoder = preprocessing.LabelEncoder()"
   ]
  },
  {
   "cell_type": "code",
   "execution_count": 21,
   "metadata": {
    "pycharm": {
     "is_executing": true
    }
   },
   "outputs": [],
   "source": [
    "transactions_processed['customer_id'] = customer_encoder.fit_transform(transactions_processed['customer_id'])\n",
    "transactions_processed['article_id'] = article_encoder.fit_transform(transactions_processed['article_id'])"
   ]
  },
  {
   "cell_type": "code",
   "execution_count": 22,
   "metadata": {
    "pycharm": {
     "is_executing": true
    }
   },
   "outputs": [
    {
     "data": {
      "text/plain": [
       "array(['0000d6c053fc8f9389d4565051f12402d5774aa4a9d2e5c2d5cd5f5f3c9a4488'],\n",
       "      dtype=object)"
      ]
     },
     "execution_count": 22,
     "metadata": {},
     "output_type": "execute_result"
    }
   ],
   "source": [
    "# If you want to go back to the original encoding:\n",
    "customer_encoder.inverse_transform([2])"
   ]
  },
  {
   "cell_type": "code",
   "execution_count": 23,
   "metadata": {
    "pycharm": {
     "is_executing": true
    }
   },
   "outputs": [
    {
     "data": {
      "text/html": [
       "<div>\n",
       "<style scoped>\n",
       "    .dataframe tbody tr th:only-of-type {\n",
       "        vertical-align: middle;\n",
       "    }\n",
       "\n",
       "    .dataframe tbody tr th {\n",
       "        vertical-align: top;\n",
       "    }\n",
       "\n",
       "    .dataframe thead th {\n",
       "        text-align: right;\n",
       "    }\n",
       "</style>\n",
       "<table border=\"1\" class=\"dataframe\">\n",
       "  <thead>\n",
       "    <tr style=\"text-align: right;\">\n",
       "      <th></th>\n",
       "      <th>customer_id</th>\n",
       "      <th>age</th>\n",
       "      <th>article_id</th>\n",
       "      <th>sales_channel_id</th>\n",
       "      <th>price</th>\n",
       "      <th>ordered</th>\n",
       "    </tr>\n",
       "  </thead>\n",
       "  <tbody>\n",
       "    <tr>\n",
       "      <th>0</th>\n",
       "      <td>12</td>\n",
       "      <td>29.0</td>\n",
       "      <td>32492</td>\n",
       "      <td>1</td>\n",
       "      <td>0.030492</td>\n",
       "      <td>1</td>\n",
       "    </tr>\n",
       "    <tr>\n",
       "      <th>1</th>\n",
       "      <td>13845</td>\n",
       "      <td>61.0</td>\n",
       "      <td>32492</td>\n",
       "      <td>1</td>\n",
       "      <td>0.027102</td>\n",
       "      <td>1</td>\n",
       "    </tr>\n",
       "    <tr>\n",
       "      <th>2</th>\n",
       "      <td>55864</td>\n",
       "      <td>23.0</td>\n",
       "      <td>32492</td>\n",
       "      <td>1</td>\n",
       "      <td>0.033881</td>\n",
       "      <td>1</td>\n",
       "    </tr>\n",
       "    <tr>\n",
       "      <th>3</th>\n",
       "      <td>51917</td>\n",
       "      <td>48.0</td>\n",
       "      <td>32492</td>\n",
       "      <td>2</td>\n",
       "      <td>0.033881</td>\n",
       "      <td>1</td>\n",
       "    </tr>\n",
       "    <tr>\n",
       "      <th>4</th>\n",
       "      <td>56888</td>\n",
       "      <td>22.0</td>\n",
       "      <td>32492</td>\n",
       "      <td>2</td>\n",
       "      <td>0.030492</td>\n",
       "      <td>0</td>\n",
       "    </tr>\n",
       "  </tbody>\n",
       "</table>\n",
       "</div>"
      ],
      "text/plain": [
       "   customer_id   age  article_id sales_channel_id     price ordered\n",
       "0           12  29.0       32492                1  0.030492       1\n",
       "1        13845  61.0       32492                1  0.027102       1\n",
       "2        55864  23.0       32492                1  0.033881       1\n",
       "3        51917  48.0       32492                2  0.033881       1\n",
       "4        56888  22.0       32492                2  0.030492       0"
      ]
     },
     "execution_count": 23,
     "metadata": {},
     "output_type": "execute_result"
    }
   ],
   "source": [
    "transactions_processed.head()"
   ]
  },
  {
   "cell_type": "code",
   "execution_count": 24,
   "metadata": {
    "pycharm": {
     "is_executing": true
    }
   },
   "outputs": [
    {
     "data": {
      "text/plain": [
       "False"
      ]
     },
     "execution_count": 24,
     "metadata": {},
     "output_type": "execute_result"
    }
   ],
   "source": [
    "# Can you come up with a NaN strategy that makes sense for each column in the dataset?\n",
    "# Imputing all NaN values with zeros:\n",
    "transactions_processed = transactions_processed.fillna(0)\n",
    "transactions_processed.isnull().values.any()"
   ]
  },
  {
   "cell_type": "code",
   "execution_count": 25,
   "metadata": {
    "pycharm": {
     "is_executing": true
    }
   },
   "outputs": [],
   "source": [
    "# Does it make sense to one-hot encode?\n",
    "# One-hot-encoding sales_channel_id:\n",
    "transactions_processed = pd.get_dummies(transactions_processed, columns=['sales_channel_id'])"
   ]
  },
  {
   "cell_type": "code",
   "execution_count": 26,
   "metadata": {
    "pycharm": {
     "is_executing": true
    }
   },
   "outputs": [
    {
     "data": {
      "text/html": [
       "<div>\n",
       "<style scoped>\n",
       "    .dataframe tbody tr th:only-of-type {\n",
       "        vertical-align: middle;\n",
       "    }\n",
       "\n",
       "    .dataframe tbody tr th {\n",
       "        vertical-align: top;\n",
       "    }\n",
       "\n",
       "    .dataframe thead th {\n",
       "        text-align: right;\n",
       "    }\n",
       "</style>\n",
       "<table border=\"1\" class=\"dataframe\">\n",
       "  <thead>\n",
       "    <tr style=\"text-align: right;\">\n",
       "      <th></th>\n",
       "      <th>customer_id</th>\n",
       "      <th>age</th>\n",
       "      <th>article_id</th>\n",
       "      <th>price</th>\n",
       "      <th>ordered</th>\n",
       "      <th>sales_channel_id_1</th>\n",
       "      <th>sales_channel_id_2</th>\n",
       "    </tr>\n",
       "  </thead>\n",
       "  <tbody>\n",
       "    <tr>\n",
       "      <th>0</th>\n",
       "      <td>12</td>\n",
       "      <td>29.0</td>\n",
       "      <td>32492</td>\n",
       "      <td>0.030492</td>\n",
       "      <td>1</td>\n",
       "      <td>1</td>\n",
       "      <td>0</td>\n",
       "    </tr>\n",
       "    <tr>\n",
       "      <th>1</th>\n",
       "      <td>13845</td>\n",
       "      <td>61.0</td>\n",
       "      <td>32492</td>\n",
       "      <td>0.027102</td>\n",
       "      <td>1</td>\n",
       "      <td>1</td>\n",
       "      <td>0</td>\n",
       "    </tr>\n",
       "    <tr>\n",
       "      <th>2</th>\n",
       "      <td>55864</td>\n",
       "      <td>23.0</td>\n",
       "      <td>32492</td>\n",
       "      <td>0.033881</td>\n",
       "      <td>1</td>\n",
       "      <td>1</td>\n",
       "      <td>0</td>\n",
       "    </tr>\n",
       "    <tr>\n",
       "      <th>3</th>\n",
       "      <td>51917</td>\n",
       "      <td>48.0</td>\n",
       "      <td>32492</td>\n",
       "      <td>0.033881</td>\n",
       "      <td>1</td>\n",
       "      <td>0</td>\n",
       "      <td>1</td>\n",
       "    </tr>\n",
       "    <tr>\n",
       "      <th>4</th>\n",
       "      <td>56888</td>\n",
       "      <td>22.0</td>\n",
       "      <td>32492</td>\n",
       "      <td>0.030492</td>\n",
       "      <td>0</td>\n",
       "      <td>0</td>\n",
       "      <td>1</td>\n",
       "    </tr>\n",
       "  </tbody>\n",
       "</table>\n",
       "</div>"
      ],
      "text/plain": [
       "   customer_id   age  article_id     price  ordered  sales_channel_id_1  \\\n",
       "0           12  29.0       32492  0.030492        1                   1   \n",
       "1        13845  61.0       32492  0.027102        1                   1   \n",
       "2        55864  23.0       32492  0.033881        1                   1   \n",
       "3        51917  48.0       32492  0.033881        1                   0   \n",
       "4        56888  22.0       32492  0.030492        0                   0   \n",
       "\n",
       "   sales_channel_id_2  \n",
       "0                   0  \n",
       "1                   0  \n",
       "2                   0  \n",
       "3                   1  \n",
       "4                   1  "
      ]
     },
     "execution_count": 26,
     "metadata": {},
     "output_type": "execute_result"
    }
   ],
   "source": [
    "transactions_processed.head()"
   ]
  },
  {
   "cell_type": "code",
   "execution_count": 27,
   "metadata": {
    "pycharm": {
     "is_executing": true
    }
   },
   "outputs": [],
   "source": [
    "# Creating a Train / Test Split:\n",
    "X_train, X_test, y_train, y_test = train_test_split(transactions_processed.drop('ordered', axis=1),\n",
    "                                                    transactions_processed['ordered'], test_size=0.10, random_state=42)"
   ]
  },
  {
   "cell_type": "code",
   "execution_count": 28,
   "metadata": {
    "pycharm": {
     "is_executing": true
    }
   },
   "outputs": [
    {
     "data": {
      "text/html": [
       "<div>\n",
       "<style scoped>\n",
       "    .dataframe tbody tr th:only-of-type {\n",
       "        vertical-align: middle;\n",
       "    }\n",
       "\n",
       "    .dataframe tbody tr th {\n",
       "        vertical-align: top;\n",
       "    }\n",
       "\n",
       "    .dataframe thead th {\n",
       "        text-align: right;\n",
       "    }\n",
       "</style>\n",
       "<table border=\"1\" class=\"dataframe\">\n",
       "  <thead>\n",
       "    <tr style=\"text-align: right;\">\n",
       "      <th></th>\n",
       "      <th>customer_id</th>\n",
       "      <th>age</th>\n",
       "      <th>article_id</th>\n",
       "      <th>price</th>\n",
       "      <th>sales_channel_id_1</th>\n",
       "      <th>sales_channel_id_2</th>\n",
       "    </tr>\n",
       "  </thead>\n",
       "  <tbody>\n",
       "    <tr>\n",
       "      <th>842747</th>\n",
       "      <td>58596</td>\n",
       "      <td>62.0</td>\n",
       "      <td>37938</td>\n",
       "      <td>0.067780</td>\n",
       "      <td>0</td>\n",
       "      <td>1</td>\n",
       "    </tr>\n",
       "    <tr>\n",
       "      <th>1655719</th>\n",
       "      <td>446</td>\n",
       "      <td>28.0</td>\n",
       "      <td>20844</td>\n",
       "      <td>0.032186</td>\n",
       "      <td>1</td>\n",
       "      <td>0</td>\n",
       "    </tr>\n",
       "    <tr>\n",
       "      <th>2053896</th>\n",
       "      <td>20916</td>\n",
       "      <td>66.0</td>\n",
       "      <td>58766</td>\n",
       "      <td>0.019814</td>\n",
       "      <td>1</td>\n",
       "      <td>0</td>\n",
       "    </tr>\n",
       "    <tr>\n",
       "      <th>730068</th>\n",
       "      <td>19439</td>\n",
       "      <td>23.0</td>\n",
       "      <td>30926</td>\n",
       "      <td>0.004390</td>\n",
       "      <td>1</td>\n",
       "      <td>0</td>\n",
       "    </tr>\n",
       "    <tr>\n",
       "      <th>1629721</th>\n",
       "      <td>44310</td>\n",
       "      <td>31.0</td>\n",
       "      <td>36749</td>\n",
       "      <td>0.042356</td>\n",
       "      <td>1</td>\n",
       "      <td>0</td>\n",
       "    </tr>\n",
       "  </tbody>\n",
       "</table>\n",
       "</div>"
      ],
      "text/plain": [
       "         customer_id   age  article_id     price  sales_channel_id_1  \\\n",
       "842747         58596  62.0       37938  0.067780                   0   \n",
       "1655719          446  28.0       20844  0.032186                   1   \n",
       "2053896        20916  66.0       58766  0.019814                   1   \n",
       "730068         19439  23.0       30926  0.004390                   1   \n",
       "1629721        44310  31.0       36749  0.042356                   1   \n",
       "\n",
       "         sales_channel_id_2  \n",
       "842747                    1  \n",
       "1655719                   0  \n",
       "2053896                   0  \n",
       "730068                    0  \n",
       "1629721                   0  "
      ]
     },
     "execution_count": 28,
     "metadata": {},
     "output_type": "execute_result"
    }
   ],
   "source": [
    "X_train.head()"
   ]
  },
  {
   "cell_type": "code",
   "execution_count": 29,
   "metadata": {
    "pycharm": {
     "is_executing": true
    }
   },
   "outputs": [
    {
     "data": {
      "text/plain": [
       "842747     0\n",
       "1655719    0\n",
       "2053896    1\n",
       "730068     1\n",
       "1629721    0\n",
       "Name: ordered, dtype: int64"
      ]
     },
     "execution_count": 29,
     "metadata": {},
     "output_type": "execute_result"
    }
   ],
   "source": [
    "y_train.head()"
   ]
  },
  {
   "cell_type": "markdown",
   "metadata": {},
   "source": [
    "## Baseline Model"
   ]
  },
  {
   "cell_type": "code",
   "execution_count": 30,
   "metadata": {
    "pycharm": {
     "is_executing": true
    }
   },
   "outputs": [],
   "source": [
    "# Will take a few minutes to run, if you're using the whole dataset:\n",
    "baseline = LogisticRegression(random_state=42)\n",
    "baseline = baseline.fit(X_train, y_train)"
   ]
  },
  {
   "cell_type": "code",
   "execution_count": 31,
   "metadata": {
    "pycharm": {
     "is_executing": true
    }
   },
   "outputs": [
    {
     "data": {
      "text/plain": [
       "array([[0.41331869, 0.58668131],\n",
       "       [0.40434182, 0.59565818],\n",
       "       [0.39988911, 0.60011089],\n",
       "       ...,\n",
       "       [0.41692822, 0.58307178],\n",
       "       [0.61666041, 0.38333959],\n",
       "       [0.63219341, 0.36780659]])"
      ]
     },
     "execution_count": 31,
     "metadata": {},
     "output_type": "execute_result"
    }
   ],
   "source": [
    "baseline.predict_proba(X_test)"
   ]
  },
  {
   "cell_type": "code",
   "execution_count": 32,
   "metadata": {
    "pycharm": {
     "is_executing": true
    },
    "scrolled": true
   },
   "outputs": [
    {
     "data": {
      "text/plain": [
       "3150148    0\n",
       "1972720    1\n",
       "943935     0\n",
       "951059     1\n",
       "1815404    1\n",
       "          ..\n",
       "3030022    0\n",
       "2826848    0\n",
       "915960     1\n",
       "2050412    0\n",
       "2526560    0\n",
       "Name: ordered, Length: 317391, dtype: int64"
      ]
     },
     "execution_count": 32,
     "metadata": {},
     "output_type": "execute_result"
    }
   ],
   "source": [
    "y_test"
   ]
  },
  {
   "cell_type": "code",
   "execution_count": 33,
   "metadata": {
    "pycharm": {
     "is_executing": true
    }
   },
   "outputs": [
    {
     "data": {
      "text/plain": [
       "0.6009118090935156"
      ]
     },
     "execution_count": 33,
     "metadata": {},
     "output_type": "execute_result"
    }
   ],
   "source": [
    "# Mean Accuracy:\n",
    "baseline.score(X_test, y_test)\n",
    "# As you can seen, the accuracy is ~0.51. In other words, the classifier predicts correctly 51% of the time whether a customer did or din't buy an item.\n",
    "# Can you improve this baseline logistic regression model by doing better preprocessing and generating new features?\n",
    "# Also think about my steps! Did it make sense to include the article and customer ids? (And things like that)"
   ]
  },
  {
   "cell_type": "code",
   "execution_count": 34,
   "metadata": {
    "pycharm": {
     "is_executing": true
    }
   },
   "outputs": [
    {
     "name": "stdout",
     "output_type": "stream",
     "text": [
      "              precision    recall  f1-score   support\n",
      "\n",
      "           0       0.63      0.50      0.56    158301\n",
      "           1       0.58      0.70      0.64    159090\n",
      "\n",
      "    accuracy                           0.60    317391\n",
      "   macro avg       0.61      0.60      0.60    317391\n",
      "weighted avg       0.60      0.60      0.60    317391\n",
      "\n"
     ]
    }
   ],
   "source": [
    "# Classification Metrics:\n",
    "predictions = baseline.predict(X_test)\n",
    "print(classification_report(y_test, predictions))"
   ]
  },
  {
   "cell_type": "code",
   "execution_count": 35,
   "metadata": {
    "pycharm": {
     "is_executing": true
    }
   },
   "outputs": [
    {
     "data": {
      "text/plain": [
       "array([1, 1, 1, ..., 1, 0, 0])"
      ]
     },
     "execution_count": 35,
     "metadata": {},
     "output_type": "execute_result"
    }
   ],
   "source": [
    "predictions"
   ]
  },
  {
   "cell_type": "markdown",
   "metadata": {},
   "source": [
    "## Assignment: Feature engineering\n",
    "**TODO:** \n",
    "- In groups (of 2-3 students), think about (a few) features that can be engineered (preprocess and generate new features). Divide the work!\n",
    "- Do these engineered features improve the baseline model?\n",
    "- Add your thoughts & results to a slide deck for discussion next week (again, 1 slide per person).\n"
   ]
  },
  {
   "cell_type": "markdown",
   "metadata": {},
   "source": [
    "### Preprocessing: Round 1\n",
    "We start by eliminating the NaN values from the columns we will use, and also perform some memory reduction techniques to speed up the overall runtime."
   ]
  },
  {
   "cell_type": "code",
   "execution_count": 36,
   "metadata": {
    "pycharm": {
     "is_executing": true
    }
   },
   "outputs": [
    {
     "name": "stdout",
     "output_type": "stream",
     "text": [
      "<class 'pandas.core.frame.DataFrame'>\n",
      "Int64Index: 3173904 entries, 0 to 3173903\n",
      "Data columns (total 36 columns):\n",
      " #   Column                        Dtype         \n",
      "---  ------                        -----         \n",
      " 0   t_dat                         datetime64[ns]\n",
      " 1   customer_id                   int64         \n",
      " 2   article_id                    int32         \n",
      " 3   price                         float32       \n",
      " 4   sales_channel_id              int8          \n",
      " 5   ordered                       int8          \n",
      " 6   FN                            int8          \n",
      " 7   Active                        int8          \n",
      " 8   club_member_status            object        \n",
      " 9   fashion_news_frequency        object        \n",
      " 10  age                           int8          \n",
      " 11  postal_code                   object        \n",
      " 12  product_code                  int64         \n",
      " 13  prod_name                     object        \n",
      " 14  product_type_no               int64         \n",
      " 15  product_type_name             object        \n",
      " 16  product_group_name            object        \n",
      " 17  graphical_appearance_no       int64         \n",
      " 18  graphical_appearance_name     object        \n",
      " 19  colour_group_code             int64         \n",
      " 20  colour_group_name             object        \n",
      " 21  perceived_colour_value_id     int64         \n",
      " 22  perceived_colour_value_name   object        \n",
      " 23  perceived_colour_master_id    int64         \n",
      " 24  perceived_colour_master_name  object        \n",
      " 25  department_no                 int64         \n",
      " 26  department_name               object        \n",
      " 27  index_code                    object        \n",
      " 28  index_name                    object        \n",
      " 29  index_group_no                int64         \n",
      " 30  index_group_name              object        \n",
      " 31  section_no                    int64         \n",
      " 32  section_name                  object        \n",
      " 33  garment_group_no              int64         \n",
      " 34  garment_group_name            object        \n",
      " 35  detail_desc                   object        \n",
      "dtypes: datetime64[ns](1), float32(1), int32(1), int64(11), int8(5), object(17)\n",
      "memory usage: 765.8+ MB\n"
     ]
    }
   ],
   "source": [
    "# Preprocessing: memory reduction + eliminate NaNs\n",
    "transactions.customer_id = transactions.customer_id.apply(lambda x: int(x[-16:], 16)).astype(np.int64)\n",
    "transactions.article_id = transactions.article_id.astype(np.int32)\n",
    "transactions.t_dat = pd.to_datetime(transactions.t_dat)\n",
    "transactions.price = transactions.price.astype(np.float32)\n",
    "transactions.sales_channel_id = transactions.sales_channel_id.astype(np.int8)\n",
    "transactions.FN = transactions.FN.fillna(0).astype(np.int8)\n",
    "transactions.FN = transactions.FN.astype(np.int8)\n",
    "transactions.Active = transactions.Active.fillna(0).astype(np.int8)\n",
    "transactions.Active = transactions.Active.astype(np.int8)\n",
    "transactions.age = transactions.age.fillna(0).astype(np.int8)\n",
    "transactions.age = transactions.age.astype(np.int8)\n",
    "transactions.ordered = transactions.ordered.astype(np.int8)\n",
    "transactions.info()"
   ]
  },
  {
   "cell_type": "markdown",
   "metadata": {},
   "source": [
    "### Engineered Feature 1: Time-based Weighted Item Popularity\n",
    "For each item, count the amount of times it was purchased in each week, then divide that number by how many weeks ago that was. Finally, for each item, sum all of those weekly values.\n",
    "\n",
    "For each item $i$:\n",
    "\n",
    "$$\\text{Popularity}(i) = \\sum_{w \\in \\text{weeks}}\\frac{\\text{times }i \\text{ purchased in week }w}{\\text{latest_week} - w} $$"
   ]
  },
  {
   "cell_type": "code",
   "execution_count": 37,
   "metadata": {},
   "outputs": [],
   "source": [
    "# get last date in transactions from the t_dat column\n",
    "last_date = transactions.t_dat.max()\n",
    "\n",
    "# Engineered feature 1: item popularity, weighted by amount of weeks since last purchase\n",
    "transactions['weeks_ago'] = (last_date - transactions.t_dat).dt.days // 7 + 1\n",
    "\n",
    "# calculate the popularity of each article_id: sum of the number of times it was purchased each week, weighted by weeks_ago\n",
    "popularity = transactions[transactions.ordered == 1].groupby(['article_id', 'weeks_ago']).size().reset_index(\n",
    "    name='purchase_count').groupby('article_id').apply(lambda x: np.sum(x.purchase_count / x.weeks_ago)).reset_index(\n",
    "    name='article_popularity')\n",
    "\n",
    "# merge the popularity into the transactions dataframe\n",
    "transactions = transactions.merge(popularity, how='inner', on='article_id')"
   ]
  },
  {
   "cell_type": "markdown",
   "metadata": {},
   "source": [
    "### Engineered Feature 2: Combine `FN` and `Active`\n",
    "\n",
    "The activity of one's account and whether they receive Fashion News (FN) seem to be two features that are closely related. As we can see from the data, it turns out that there is never an occurrence where `Active == 1 && FN == 0`.\n",
    "\n",
    "For this reason, it seemed interesting to combine these features into one categorical feature called `member_status`, as being active and/or receiving fashion news probably has an impact on one's purchasing behaviour."
   ]
  },
  {
   "cell_type": "code",
   "execution_count": 38,
   "metadata": {},
   "outputs": [],
   "source": [
    "# Engineered feature 2: interaction feature FN and Active\n",
    "# FN and Active are binary features, so each combination of FN and Active can be represented by a single integer\n",
    "transactions['member_status'] = (transactions.Active + transactions.FN * 2).replace(\n",
    "    {0: 'NotActive_NoFN', 1: 'Active_NoFN', 2: 'NotActive_FN', 3: 'Active_FN'})"
   ]
  },
  {
   "cell_type": "markdown",
   "metadata": {},
   "source": [
    "### Summary\n",
    "#### Engineered features\n",
    "- `article_popularity`\n",
    "- `member_status`\n",
    "\n",
    "#### Other features used\n",
    "Other features that might be interesting, which are already available in the dataset:\n",
    "- `price`\n",
    "- `sales_channel_id`\n",
    "- `age`\n",
    "- `product_group_name`"
   ]
  },
  {
   "cell_type": "code",
   "execution_count": 39,
   "metadata": {},
   "outputs": [
    {
     "data": {
      "text/html": [
       "<div>\n",
       "<style scoped>\n",
       "    .dataframe tbody tr th:only-of-type {\n",
       "        vertical-align: middle;\n",
       "    }\n",
       "\n",
       "    .dataframe tbody tr th {\n",
       "        vertical-align: top;\n",
       "    }\n",
       "\n",
       "    .dataframe thead th {\n",
       "        text-align: right;\n",
       "    }\n",
       "</style>\n",
       "<table border=\"1\" class=\"dataframe\">\n",
       "  <thead>\n",
       "    <tr style=\"text-align: right;\">\n",
       "      <th></th>\n",
       "      <th>article_popularity</th>\n",
       "      <th>member_status</th>\n",
       "      <th>price</th>\n",
       "      <th>sales_channel_id</th>\n",
       "      <th>age</th>\n",
       "      <th>product_group_name</th>\n",
       "      <th>ordered</th>\n",
       "    </tr>\n",
       "  </thead>\n",
       "  <tbody>\n",
       "    <tr>\n",
       "      <th>0</th>\n",
       "      <td>0.630716</td>\n",
       "      <td>NotActive_NoFN</td>\n",
       "      <td>0.030492</td>\n",
       "      <td>1</td>\n",
       "      <td>29</td>\n",
       "      <td>Garment Upper body</td>\n",
       "      <td>1</td>\n",
       "    </tr>\n",
       "    <tr>\n",
       "      <th>1</th>\n",
       "      <td>0.630716</td>\n",
       "      <td>Active_FN</td>\n",
       "      <td>0.027102</td>\n",
       "      <td>1</td>\n",
       "      <td>61</td>\n",
       "      <td>Garment Upper body</td>\n",
       "      <td>1</td>\n",
       "    </tr>\n",
       "    <tr>\n",
       "      <th>2</th>\n",
       "      <td>0.630716</td>\n",
       "      <td>NotActive_NoFN</td>\n",
       "      <td>0.033881</td>\n",
       "      <td>1</td>\n",
       "      <td>23</td>\n",
       "      <td>Garment Upper body</td>\n",
       "      <td>1</td>\n",
       "    </tr>\n",
       "    <tr>\n",
       "      <th>3</th>\n",
       "      <td>0.630716</td>\n",
       "      <td>NotActive_NoFN</td>\n",
       "      <td>0.033881</td>\n",
       "      <td>2</td>\n",
       "      <td>48</td>\n",
       "      <td>Garment Upper body</td>\n",
       "      <td>1</td>\n",
       "    </tr>\n",
       "    <tr>\n",
       "      <th>4</th>\n",
       "      <td>0.630716</td>\n",
       "      <td>NotActive_NoFN</td>\n",
       "      <td>0.030492</td>\n",
       "      <td>2</td>\n",
       "      <td>22</td>\n",
       "      <td>Garment Upper body</td>\n",
       "      <td>0</td>\n",
       "    </tr>\n",
       "  </tbody>\n",
       "</table>\n",
       "</div>"
      ],
      "text/plain": [
       "   article_popularity   member_status     price  sales_channel_id  age  \\\n",
       "0            0.630716  NotActive_NoFN  0.030492                 1   29   \n",
       "1            0.630716       Active_FN  0.027102                 1   61   \n",
       "2            0.630716  NotActive_NoFN  0.033881                 1   23   \n",
       "3            0.630716  NotActive_NoFN  0.033881                 2   48   \n",
       "4            0.630716  NotActive_NoFN  0.030492                 2   22   \n",
       "\n",
       "   product_group_name  ordered  \n",
       "0  Garment Upper body        1  \n",
       "1  Garment Upper body        1  \n",
       "2  Garment Upper body        1  \n",
       "3  Garment Upper body        1  \n",
       "4  Garment Upper body        0  "
      ]
     },
     "execution_count": 39,
     "metadata": {},
     "output_type": "execute_result"
    }
   ],
   "source": [
    "# Result:\n",
    "# - Engineered features:    article_popularity, member_status\n",
    "# - Other features:         price, sales_channel_id, age, product_group_name\n",
    "transactions_processed = transactions[\n",
    "    ['article_popularity', 'member_status', 'price', 'sales_channel_id', 'age', 'product_group_name', 'ordered']].copy()\n",
    "transactions_processed.head()"
   ]
  },
  {
   "cell_type": "markdown",
   "metadata": {},
   "source": [
    "### Preprocessing Round 2\n",
    "In this round of preprocessing, we perform log transformation on `article_popularity`, scaling on numerical features and one-hot encoding on categorical features.\n",
    "\n",
    "#### Log transformation on `article_popularity`\n",
    "The distribution of `article_popularity` values is exponential, so we perform a log transformation to normalize it."
   ]
  },
  {
   "cell_type": "code",
   "execution_count": 40,
   "metadata": {},
   "outputs": [
    {
     "data": {
      "text/plain": [
       "array([[<AxesSubplot: title={'center': 'article_popularity'}>]],\n",
       "      dtype=object)"
      ]
     },
     "execution_count": 40,
     "metadata": {},
     "output_type": "execute_result"
    },
    {
     "data": {
      "image/png": "[encoded data removed]",
      "text/plain": [
       "<Figure size 640x480 with 1 Axes>"
      ]
     },
     "metadata": {},
     "output_type": "display_data"
    }
   ],
   "source": [
    "# distribution of article_popularity\n",
    "transactions_processed[(transactions_processed.ordered == 1)].hist(column='article_popularity')"
   ]
  },
  {
   "cell_type": "code",
   "execution_count": 41,
   "metadata": {},
   "outputs": [
    {
     "data": {
      "text/plain": [
       "array([[<AxesSubplot: title={'center': 'article_popularity'}>]],\n",
       "      dtype=object)"
      ]
     },
     "execution_count": 41,
     "metadata": {},
     "output_type": "execute_result"
    },
    {
     "data": {
      "image/png": "[encoded data removed]",
      "text/plain": [
       "<Figure size 640x480 with 1 Axes>"
      ]
     },
     "metadata": {},
     "output_type": "display_data"
    }
   ],
   "source": [
    "# log transform article_popularity\n",
    "transactions_processed['article_popularity'] = np.log(transactions_processed['article_popularity'] + 1)\n",
    "transactions_processed[(transactions_processed.ordered == 1)].hist(column='article_popularity')"
   ]
  },
  {
   "cell_type": "code",
   "execution_count": 42,
   "metadata": {},
   "outputs": [
    {
     "data": {
      "text/html": [
       "<div>\n",
       "<style scoped>\n",
       "    .dataframe tbody tr th:only-of-type {\n",
       "        vertical-align: middle;\n",
       "    }\n",
       "\n",
       "    .dataframe tbody tr th {\n",
       "        vertical-align: top;\n",
       "    }\n",
       "\n",
       "    .dataframe thead th {\n",
       "        text-align: right;\n",
       "    }\n",
       "</style>\n",
       "<table border=\"1\" class=\"dataframe\">\n",
       "  <thead>\n",
       "    <tr style=\"text-align: right;\">\n",
       "      <th></th>\n",
       "      <th>article_popularity</th>\n",
       "      <th>price</th>\n",
       "      <th>age</th>\n",
       "      <th>ordered</th>\n",
       "      <th>member_status_Active_FN</th>\n",
       "      <th>member_status_NotActive_FN</th>\n",
       "      <th>member_status_NotActive_NoFN</th>\n",
       "      <th>sales_channel_id_1</th>\n",
       "      <th>sales_channel_id_2</th>\n",
       "      <th>product_group_name_Accessories</th>\n",
       "      <th>...</th>\n",
       "      <th>product_group_name_Interior textile</th>\n",
       "      <th>product_group_name_Items</th>\n",
       "      <th>product_group_name_Nightwear</th>\n",
       "      <th>product_group_name_Shoes</th>\n",
       "      <th>product_group_name_Socks &amp; Tights</th>\n",
       "      <th>product_group_name_Stationery</th>\n",
       "      <th>product_group_name_Swimwear</th>\n",
       "      <th>product_group_name_Underwear</th>\n",
       "      <th>product_group_name_Underwear/nightwear</th>\n",
       "      <th>product_group_name_Unknown</th>\n",
       "    </tr>\n",
       "  </thead>\n",
       "  <tbody>\n",
       "    <tr>\n",
       "      <th>0</th>\n",
       "      <td>-0.350797</td>\n",
       "      <td>0.011914</td>\n",
       "      <td>-0.492371</td>\n",
       "      <td>1</td>\n",
       "      <td>-0.782567</td>\n",
       "      <td>-0.088573</td>\n",
       "      <td>0.795554</td>\n",
       "      <td>1.229695</td>\n",
       "      <td>-1.229695</td>\n",
       "      <td>-0.287684</td>\n",
       "      <td>...</td>\n",
       "      <td>-0.003848</td>\n",
       "      <td>-0.01332</td>\n",
       "      <td>-0.118992</td>\n",
       "      <td>-0.186983</td>\n",
       "      <td>-0.147107</td>\n",
       "      <td>-0.003681</td>\n",
       "      <td>-0.245872</td>\n",
       "      <td>-0.272141</td>\n",
       "      <td>-0.010426</td>\n",
       "      <td>-0.046964</td>\n",
       "    </tr>\n",
       "    <tr>\n",
       "      <th>1</th>\n",
       "      <td>-0.350797</td>\n",
       "      <td>-0.128565</td>\n",
       "      <td>1.802273</td>\n",
       "      <td>1</td>\n",
       "      <td>1.277846</td>\n",
       "      <td>-0.088573</td>\n",
       "      <td>-1.256986</td>\n",
       "      <td>1.229695</td>\n",
       "      <td>-1.229695</td>\n",
       "      <td>-0.287684</td>\n",
       "      <td>...</td>\n",
       "      <td>-0.003848</td>\n",
       "      <td>-0.01332</td>\n",
       "      <td>-0.118992</td>\n",
       "      <td>-0.186983</td>\n",
       "      <td>-0.147107</td>\n",
       "      <td>-0.003681</td>\n",
       "      <td>-0.245872</td>\n",
       "      <td>-0.272141</td>\n",
       "      <td>-0.010426</td>\n",
       "      <td>-0.046964</td>\n",
       "    </tr>\n",
       "    <tr>\n",
       "      <th>2</th>\n",
       "      <td>-0.350797</td>\n",
       "      <td>0.152392</td>\n",
       "      <td>-0.922617</td>\n",
       "      <td>1</td>\n",
       "      <td>-0.782567</td>\n",
       "      <td>-0.088573</td>\n",
       "      <td>0.795554</td>\n",
       "      <td>1.229695</td>\n",
       "      <td>-1.229695</td>\n",
       "      <td>-0.287684</td>\n",
       "      <td>...</td>\n",
       "      <td>-0.003848</td>\n",
       "      <td>-0.01332</td>\n",
       "      <td>-0.118992</td>\n",
       "      <td>-0.186983</td>\n",
       "      <td>-0.147107</td>\n",
       "      <td>-0.003681</td>\n",
       "      <td>-0.245872</td>\n",
       "      <td>-0.272141</td>\n",
       "      <td>-0.010426</td>\n",
       "      <td>-0.046964</td>\n",
       "    </tr>\n",
       "    <tr>\n",
       "      <th>3</th>\n",
       "      <td>-0.350797</td>\n",
       "      <td>0.152392</td>\n",
       "      <td>0.870074</td>\n",
       "      <td>1</td>\n",
       "      <td>-0.782567</td>\n",
       "      <td>-0.088573</td>\n",
       "      <td>0.795554</td>\n",
       "      <td>-0.813210</td>\n",
       "      <td>0.813210</td>\n",
       "      <td>-0.287684</td>\n",
       "      <td>...</td>\n",
       "      <td>-0.003848</td>\n",
       "      <td>-0.01332</td>\n",
       "      <td>-0.118992</td>\n",
       "      <td>-0.186983</td>\n",
       "      <td>-0.147107</td>\n",
       "      <td>-0.003681</td>\n",
       "      <td>-0.245872</td>\n",
       "      <td>-0.272141</td>\n",
       "      <td>-0.010426</td>\n",
       "      <td>-0.046964</td>\n",
       "    </tr>\n",
       "    <tr>\n",
       "      <th>4</th>\n",
       "      <td>-0.350797</td>\n",
       "      <td>0.011914</td>\n",
       "      <td>-0.994325</td>\n",
       "      <td>0</td>\n",
       "      <td>-0.782567</td>\n",
       "      <td>-0.088573</td>\n",
       "      <td>0.795554</td>\n",
       "      <td>-0.813210</td>\n",
       "      <td>0.813210</td>\n",
       "      <td>-0.287684</td>\n",
       "      <td>...</td>\n",
       "      <td>-0.003848</td>\n",
       "      <td>-0.01332</td>\n",
       "      <td>-0.118992</td>\n",
       "      <td>-0.186983</td>\n",
       "      <td>-0.147107</td>\n",
       "      <td>-0.003681</td>\n",
       "      <td>-0.245872</td>\n",
       "      <td>-0.272141</td>\n",
       "      <td>-0.010426</td>\n",
       "      <td>-0.046964</td>\n",
       "    </tr>\n",
       "  </tbody>\n",
       "</table>\n",
       "<p>5 rows × 27 columns</p>\n",
       "</div>"
      ],
      "text/plain": [
       "   article_popularity     price       age  ordered  member_status_Active_FN  \\\n",
       "0           -0.350797  0.011914 -0.492371        1                -0.782567   \n",
       "1           -0.350797 -0.128565  1.802273        1                 1.277846   \n",
       "2           -0.350797  0.152392 -0.922617        1                -0.782567   \n",
       "3           -0.350797  0.152392  0.870074        1                -0.782567   \n",
       "4           -0.350797  0.011914 -0.994325        0                -0.782567   \n",
       "\n",
       "   member_status_NotActive_FN  member_status_NotActive_NoFN  \\\n",
       "0                   -0.088573                      0.795554   \n",
       "1                   -0.088573                     -1.256986   \n",
       "2                   -0.088573                      0.795554   \n",
       "3                   -0.088573                      0.795554   \n",
       "4                   -0.088573                      0.795554   \n",
       "\n",
       "   sales_channel_id_1  sales_channel_id_2  product_group_name_Accessories  \\\n",
       "0            1.229695           -1.229695                       -0.287684   \n",
       "1            1.229695           -1.229695                       -0.287684   \n",
       "2            1.229695           -1.229695                       -0.287684   \n",
       "3           -0.813210            0.813210                       -0.287684   \n",
       "4           -0.813210            0.813210                       -0.287684   \n",
       "\n",
       "   ...  product_group_name_Interior textile  product_group_name_Items  \\\n",
       "0  ...                            -0.003848                  -0.01332   \n",
       "1  ...                            -0.003848                  -0.01332   \n",
       "2  ...                            -0.003848                  -0.01332   \n",
       "3  ...                            -0.003848                  -0.01332   \n",
       "4  ...                            -0.003848                  -0.01332   \n",
       "\n",
       "   product_group_name_Nightwear  product_group_name_Shoes  \\\n",
       "0                     -0.118992                 -0.186983   \n",
       "1                     -0.118992                 -0.186983   \n",
       "2                     -0.118992                 -0.186983   \n",
       "3                     -0.118992                 -0.186983   \n",
       "4                     -0.118992                 -0.186983   \n",
       "\n",
       "   product_group_name_Socks & Tights  product_group_name_Stationery  \\\n",
       "0                          -0.147107                      -0.003681   \n",
       "1                          -0.147107                      -0.003681   \n",
       "2                          -0.147107                      -0.003681   \n",
       "3                          -0.147107                      -0.003681   \n",
       "4                          -0.147107                      -0.003681   \n",
       "\n",
       "   product_group_name_Swimwear  product_group_name_Underwear  \\\n",
       "0                    -0.245872                     -0.272141   \n",
       "1                    -0.245872                     -0.272141   \n",
       "2                    -0.245872                     -0.272141   \n",
       "3                    -0.245872                     -0.272141   \n",
       "4                    -0.245872                     -0.272141   \n",
       "\n",
       "   product_group_name_Underwear/nightwear  product_group_name_Unknown  \n",
       "0                               -0.010426                   -0.046964  \n",
       "1                               -0.010426                   -0.046964  \n",
       "2                               -0.010426                   -0.046964  \n",
       "3                               -0.010426                   -0.046964  \n",
       "4                               -0.010426                   -0.046964  \n",
       "\n",
       "[5 rows x 27 columns]"
      ]
     },
     "execution_count": 42,
     "metadata": {},
     "output_type": "execute_result"
    }
   ],
   "source": [
    "# Preprocessing\n",
    "# one-hot encoding of member_status, sales_channel_id and product_group_name\n",
    "transactions_processed = pd.get_dummies(transactions_processed, columns=['member_status', 'sales_channel_id', 'product_group_name'])\n",
    "\n",
    "# scaling numerical features to mean=0, std=1\n",
    "column_names = transactions_processed.columns.tolist()\n",
    "column_names.remove('ordered')\n",
    "\n",
    "scaler = preprocessing.StandardScaler()\n",
    "transactions_processed[column_names] = scaler.fit_transform(transactions_processed[column_names])\n",
    "transactions_processed.head()"
   ]
  },
  {
   "cell_type": "markdown",
   "metadata": {},
   "source": [
    "### Training, Testing and Scoring"
   ]
  },
  {
   "cell_type": "code",
   "execution_count": 43,
   "metadata": {},
   "outputs": [
    {
     "data": {
      "text/plain": [
       "0.7302822071199246"
      ]
     },
     "execution_count": 43,
     "metadata": {},
     "output_type": "execute_result"
    }
   ],
   "source": [
    "# Creating a Train / Test Split:\n",
    "X_train, X_test, y_train, y_test = train_test_split(transactions_processed.drop('ordered', axis=1), transactions_processed['ordered'], test_size=0.10, random_state=42)\n",
    "\n",
    "# train the model\n",
    "baseline = LogisticRegression(random_state=42)\n",
    "baseline = baseline.fit(X_train, y_train)\n",
    "\n",
    "# Mean Accuracy:\n",
    "baseline.score(X_test, y_test)"
   ]
  },
  {
   "cell_type": "code",
   "execution_count": 44,
   "metadata": {},
   "outputs": [
    {
     "name": "stdout",
     "output_type": "stream",
     "text": [
      "              precision    recall  f1-score   support\n",
      "\n",
      "           0       0.70      0.80      0.75    158301\n",
      "           1       0.77      0.66      0.71    159090\n",
      "\n",
      "    accuracy                           0.73    317391\n",
      "   macro avg       0.73      0.73      0.73    317391\n",
      "weighted avg       0.73      0.73      0.73    317391\n",
      "\n"
     ]
    }
   ],
   "source": [
    "# Classification Metrics:\n",
    "predictions = baseline.predict(X_test)\n",
    "print(classification_report(y_test, predictions))"
   ]
  }
 ],
 "metadata": {
  "kernelspec": {
   "display_name": "Python 3 (ipykernel)",
   "language": "python",
   "name": "python3"
  },
  "language_info": {
   "codemirror_mode": {
    "name": "ipython",
    "version": 3
   },
   "file_extension": ".py",
   "mimetype": "text/x-python",
   "name": "python",
   "nbconvert_exporter": "python",
   "pygments_lexer": "ipython3",
   "version": "3.10.7"
  },
  "vscode": {
   "interpreter": {
    "hash": "aee8b7b246df8f9039afb4144a1f6fd8d2ca17a180786b69acc140d282b71a49"
   }
  }
 },
 "nbformat": 4,
 "nbformat_minor": 1
}
