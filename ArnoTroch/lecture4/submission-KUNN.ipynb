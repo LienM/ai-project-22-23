{
 "cells": [
  {
   "cell_type": "code",
   "execution_count": 1,
   "id": "5687e28c",
   "metadata": {},
   "outputs": [
    {
     "name": "stderr",
     "output_type": "stream",
     "text": [
      "/Users/arnotroch/Documents/AIP/ai-project-22-23/venv/lib/python3.10/site-packages/tqdm/auto.py:22: TqdmWarning: IProgress not found. Please update jupyter and ipywidgets. See https://ipywidgets.readthedocs.io/en/stable/user_install.html\n",
      "  from .autonotebook import tqdm as notebook_tqdm\n"
     ]
    }
   ],
   "source": [
    "import numpy as np\n",
    "import pandas as pd\n",
    "from recpack.preprocessing.preprocessors import DataFramePreprocessor\n",
    "from recpack.preprocessing.filters import MinItemsPerUser, MinUsersPerItem\n",
    "from recpack.algorithms import KUNN\n",
    "from utils import DATA_PATH, customer_hex_id_to_int\n",
    "# This file builds on the code in https://github.com/radekosmulski/personalized_fashion_recs/blob/main/03c_Basic_Model_Submission.ipynb"
   ]
  },
  {
   "cell_type": "code",
   "execution_count": 2,
   "id": "13fc4a82",
   "metadata": {},
   "outputs": [],
   "source": [
    "transactions = pd.read_parquet(f'{DATA_PATH}/transactions_train.parquet')\n",
    "customers = pd.read_parquet(f'{DATA_PATH}/customers.parquet')\n",
    "articles = pd.read_parquet(f'{DATA_PATH}/articles.parquet')"
   ]
  },
  {
   "cell_type": "code",
   "execution_count": 3,
   "id": "36a4cad3",
   "metadata": {},
   "outputs": [],
   "source": [
    "test_week = transactions.week.max() + 1\n",
    "unused_transactions = transactions[(transactions.week > transactions.week.max() - 20) & (transactions.week <= transactions.week.max() - 10)][['article_id', 'customer_id', 'week']]\n",
    "transactions = transactions[transactions.week > transactions.week.max() - 10]"
   ]
  },
  {
   "cell_type": "markdown",
   "id": "00b47374",
   "metadata": {},
   "source": [
    "# Make new features"
   ]
  },
  {
   "cell_type": "markdown",
   "id": "d6cb1f58",
   "metadata": {},
   "source": [
    "## Member status (combine `Active` and `FN`)"
   ]
  },
  {
   "cell_type": "code",
   "execution_count": 4,
   "id": "1bb8efd6",
   "metadata": {},
   "outputs": [],
   "source": [
    "\"\"\"\n",
    "A   FN      Result\n",
    "-1  -1      -3\n",
    "-1   1       1\n",
    " 1  -1      -1    \n",
    " 1   1       3\n",
    "------------------\n",
    "Result      Meaning             Mapping\n",
    "-3          NotActive_NoFN      0\n",
    " 1          NotActive_FN        1\n",
    "-1          Active_NoFN         2\n",
    " 3          Active_FN           3\n",
    "\"\"\"\n",
    "customers['member_status'] = (customers.Active + customers.FN * 2)\\\n",
    "    .replace({-3: 0, -1: 2, 1: 1, 3: 3})"
   ]
  },
  {
   "cell_type": "markdown",
   "id": "2f58e238",
   "metadata": {},
   "source": [
    "## Time-weighted article popularity"
   ]
  },
  {
   "cell_type": "code",
   "execution_count": 5,
   "id": "dc753fe5",
   "metadata": {},
   "outputs": [],
   "source": [
    "last_date = transactions.t_dat.max()\n",
    "\n",
    "# Engineered feature 1: item popularity, weighted by amount of weeks since last purchase\n",
    "transactions['weeks_ago'] = (last_date - transactions.t_dat).dt.days // 7 + 1\n",
    "\n",
    "# calculate the popularity of each article_id: sum of the number of times it was purchased each week, weighted by weeks_ago\n",
    "popularity = transactions\\\n",
    "    .groupby(['article_id', 'weeks_ago']).size()\\\n",
    "    .reset_index(name='purchase_count')\\\n",
    "    .groupby('article_id')\\\n",
    "    .apply(lambda x: np.sum(x.purchase_count / x.weeks_ago))\\\n",
    "    .reset_index(name='article_popularity')\n",
    "\n",
    "transactions = transactions.merge(popularity, how='inner', on='article_id')\n",
    "transactions.drop(columns=['weeks_ago'], inplace=True)"
   ]
  },
  {
   "cell_type": "markdown",
   "id": "56263b7a",
   "metadata": {},
   "source": [
    "# Generating candidates"
   ]
  },
  {
   "cell_type": "markdown",
   "id": "dbd43fcd",
   "metadata": {},
   "source": [
    "### Last purchase candidates"
   ]
  },
  {
   "cell_type": "code",
   "execution_count": 6,
   "id": "ca3b5729",
   "metadata": {},
   "outputs": [
    {
     "name": "stdout",
     "output_type": "stream",
     "text": [
      "CPU times: user 8.06 s, sys: 123 ms, total: 8.18 s\n",
      "Wall time: 8.19 s\n"
     ]
    }
   ],
   "source": [
    "%%time\n",
    "\n",
    "c2weeks = transactions.groupby('customer_id')['week'].unique()"
   ]
  },
  {
   "cell_type": "code",
   "execution_count": 7,
   "id": "c7fadf05",
   "metadata": {},
   "outputs": [
    {
     "name": "stdout",
     "output_type": "stream",
     "text": [
      "CPU times: user 242 ms, sys: 20.7 ms, total: 263 ms\n",
      "Wall time: 262 ms\n"
     ]
    }
   ],
   "source": [
    "%%time\n",
    "\n",
    "c2weeks2shifted_weeks = {}\n",
    "\n",
    "for c_id, weeks in c2weeks.items():\n",
    "    c2weeks2shifted_weeks[c_id] = {}\n",
    "    for i in range(weeks.shape[0]-1):\n",
    "        c2weeks2shifted_weeks[c_id][weeks[i]] = weeks[i+1]\n",
    "    c2weeks2shifted_weeks[c_id][weeks[-1]] = test_week"
   ]
  },
  {
   "cell_type": "code",
   "execution_count": 8,
   "id": "ba2972df",
   "metadata": {},
   "outputs": [],
   "source": [
    "candidates_last_purchase = transactions.copy()"
   ]
  },
  {
   "cell_type": "code",
   "execution_count": 9,
   "id": "b16858ca",
   "metadata": {},
   "outputs": [
    {
     "name": "stdout",
     "output_type": "stream",
     "text": [
      "CPU times: user 8.63 s, sys: 76.4 ms, total: 8.7 s\n",
      "Wall time: 8.73 s\n"
     ]
    }
   ],
   "source": [
    "%%time\n",
    "\n",
    "weeks = []\n",
    "for i, (c_id, week) in enumerate(zip(transactions['customer_id'], transactions['week'])):\n",
    "    weeks.append(c2weeks2shifted_weeks[c_id][week])\n",
    "    \n",
    "candidates_last_purchase.week=weeks"
   ]
  },
  {
   "cell_type": "markdown",
   "id": "4077cf9c",
   "metadata": {},
   "source": [
    "### Bestsellers candidates"
   ]
  },
  {
   "cell_type": "code",
   "execution_count": 10,
   "id": "8b794ef9",
   "metadata": {},
   "outputs": [],
   "source": [
    "mean_price = transactions \\\n",
    "    .groupby(['week', 'article_id'])['price'].mean()"
   ]
  },
  {
   "cell_type": "code",
   "execution_count": 11,
   "id": "5a8af89f",
   "metadata": {},
   "outputs": [],
   "source": [
    "sales = transactions \\\n",
    "    .groupby('week')['article_id'].value_counts() \\\n",
    "    .groupby('week').rank(method='dense', ascending=False) \\\n",
    "    .groupby('week').head(12).rename('bestseller_rank').astype('int8')"
   ]
  },
  {
   "cell_type": "code",
   "execution_count": 12,
   "id": "2493627e",
   "metadata": {},
   "outputs": [],
   "source": [
    "bestsellers_previous_week = pd.merge(sales, mean_price, on=['week', 'article_id']).reset_index()\n",
    "bestsellers_previous_week.week += 1"
   ]
  },
  {
   "cell_type": "code",
   "execution_count": 13,
   "id": "1e5fad4d",
   "metadata": {},
   "outputs": [],
   "source": [
    "unique_transactions = transactions \\\n",
    "    .groupby(['week', 'customer_id']) \\\n",
    "    .head(1) \\\n",
    "    .drop(columns=['article_id', 'price']) \\\n",
    "    .copy()"
   ]
  },
  {
   "cell_type": "code",
   "execution_count": 14,
   "id": "9fd13379",
   "metadata": {},
   "outputs": [],
   "source": [
    "candidates_bestsellers = pd.merge(\n",
    "    unique_transactions,\n",
    "    bestsellers_previous_week,\n",
    "    on='week',\n",
    ")"
   ]
  },
  {
   "cell_type": "code",
   "execution_count": 15,
   "id": "22bba3fb",
   "metadata": {},
   "outputs": [
    {
     "data": {
      "text/plain": [
       "(437365, 5)"
      ]
     },
     "execution_count": 15,
     "metadata": {},
     "output_type": "execute_result"
    }
   ],
   "source": [
    "test_set_transactions = unique_transactions.drop_duplicates('customer_id').reset_index(drop=True)\n",
    "test_set_transactions.week = test_week\n",
    "test_set_transactions.shape"
   ]
  },
  {
   "cell_type": "code",
   "execution_count": 16,
   "id": "7c201014",
   "metadata": {},
   "outputs": [],
   "source": [
    "candidates_bestsellers_test_week = pd.merge(\n",
    "    test_set_transactions,\n",
    "    bestsellers_previous_week,\n",
    "    on='week'\n",
    ")"
   ]
  },
  {
   "cell_type": "code",
   "execution_count": 17,
   "id": "06c37a38",
   "metadata": {},
   "outputs": [],
   "source": [
    "candidates_bestsellers = pd.concat([candidates_bestsellers, candidates_bestsellers_test_week])\n",
    "candidates_bestsellers.drop(columns='bestseller_rank', inplace=True)"
   ]
  },
  {
   "cell_type": "markdown",
   "id": "ca3d56b8",
   "metadata": {},
   "source": [
    "### Item/user similarity"
   ]
  },
  {
   "cell_type": "code",
   "execution_count": 18,
   "id": "94e46835",
   "metadata": {},
   "outputs": [
    {
     "name": "stderr",
     "output_type": "stream",
     "text": [
      "100%|██████████| 420382/420382 [00:00<00:00, 878425.49it/s]\n",
      "100%|██████████| 420382/420382 [00:00<00:00, 765780.30it/s]\n"
     ]
    }
   ],
   "source": [
    "proc = DataFramePreprocessor(item_ix='article_id', user_ix='customer_id', timestamp_ix='week')\n",
    "proc.add_filter(MinUsersPerItem(20, item_ix='article_id', user_ix='customer_id'))\n",
    "proc.add_filter(MinItemsPerUser(20, item_ix='article_id', user_ix='customer_id'))\n",
    "\n",
    "interaction_matrix = proc.process(transactions[[\"customer_id\", \"article_id\", \"week\"]])"
   ]
  },
  {
   "cell_type": "code",
   "execution_count": 19,
   "id": "a5fb94ed",
   "metadata": {},
   "outputs": [
    {
     "name": "stdout",
     "output_type": "stream",
     "text": [
      "2022-11-13 17:48:47,934 - base - recpack - INFO - Fitting KUNN complete - Took 0.373s\n"
     ]
    },
    {
     "data": {
      "text/html": [
       "<style>#sk-container-id-1 {color: black;background-color: white;}#sk-container-id-1 pre{padding: 0;}#sk-container-id-1 div.sk-toggleable {background-color: white;}#sk-container-id-1 label.sk-toggleable__label {cursor: pointer;display: block;width: 100%;margin-bottom: 0;padding: 0.3em;box-sizing: border-box;text-align: center;}#sk-container-id-1 label.sk-toggleable__label-arrow:before {content: \"▸\";float: left;margin-right: 0.25em;color: #696969;}#sk-container-id-1 label.sk-toggleable__label-arrow:hover:before {color: black;}#sk-container-id-1 div.sk-estimator:hover label.sk-toggleable__label-arrow:before {color: black;}#sk-container-id-1 div.sk-toggleable__content {max-height: 0;max-width: 0;overflow: hidden;text-align: left;background-color: #f0f8ff;}#sk-container-id-1 div.sk-toggleable__content pre {margin: 0.2em;color: black;border-radius: 0.25em;background-color: #f0f8ff;}#sk-container-id-1 input.sk-toggleable__control:checked~div.sk-toggleable__content {max-height: 200px;max-width: 100%;overflow: auto;}#sk-container-id-1 input.sk-toggleable__control:checked~label.sk-toggleable__label-arrow:before {content: \"▾\";}#sk-container-id-1 div.sk-estimator input.sk-toggleable__control:checked~label.sk-toggleable__label {background-color: #d4ebff;}#sk-container-id-1 div.sk-label input.sk-toggleable__control:checked~label.sk-toggleable__label {background-color: #d4ebff;}#sk-container-id-1 input.sk-hidden--visually {border: 0;clip: rect(1px 1px 1px 1px);clip: rect(1px, 1px, 1px, 1px);height: 1px;margin: -1px;overflow: hidden;padding: 0;position: absolute;width: 1px;}#sk-container-id-1 div.sk-estimator {font-family: monospace;background-color: #f0f8ff;border: 1px dotted black;border-radius: 0.25em;box-sizing: border-box;margin-bottom: 0.5em;}#sk-container-id-1 div.sk-estimator:hover {background-color: #d4ebff;}#sk-container-id-1 div.sk-parallel-item::after {content: \"\";width: 100%;border-bottom: 1px solid gray;flex-grow: 1;}#sk-container-id-1 div.sk-label:hover label.sk-toggleable__label {background-color: #d4ebff;}#sk-container-id-1 div.sk-serial::before {content: \"\";position: absolute;border-left: 1px solid gray;box-sizing: border-box;top: 0;bottom: 0;left: 50%;z-index: 0;}#sk-container-id-1 div.sk-serial {display: flex;flex-direction: column;align-items: center;background-color: white;padding-right: 0.2em;padding-left: 0.2em;position: relative;}#sk-container-id-1 div.sk-item {position: relative;z-index: 1;}#sk-container-id-1 div.sk-parallel {display: flex;align-items: stretch;justify-content: center;background-color: white;position: relative;}#sk-container-id-1 div.sk-item::before, #sk-container-id-1 div.sk-parallel-item::before {content: \"\";position: absolute;border-left: 1px solid gray;box-sizing: border-box;top: 0;bottom: 0;left: 50%;z-index: -1;}#sk-container-id-1 div.sk-parallel-item {display: flex;flex-direction: column;z-index: 1;position: relative;background-color: white;}#sk-container-id-1 div.sk-parallel-item:first-child::after {align-self: flex-end;width: 50%;}#sk-container-id-1 div.sk-parallel-item:last-child::after {align-self: flex-start;width: 50%;}#sk-container-id-1 div.sk-parallel-item:only-child::after {width: 0;}#sk-container-id-1 div.sk-dashed-wrapped {border: 1px dashed gray;margin: 0 0.4em 0.5em 0.4em;box-sizing: border-box;padding-bottom: 0.4em;background-color: white;}#sk-container-id-1 div.sk-label label {font-family: monospace;font-weight: bold;display: inline-block;line-height: 1.2em;}#sk-container-id-1 div.sk-label-container {text-align: center;}#sk-container-id-1 div.sk-container {/* jupyter's `normalize.less` sets `[hidden] { display: none; }` but bootstrap.min.css set `[hidden] { display: none !important; }` so we also need the `!important` here to be able to override the default hidden behavior on the sphinx rendered scikit-learn.org. See: https://github.com/scikit-learn/scikit-learn/issues/21755 */display: inline-block !important;position: relative;}#sk-container-id-1 div.sk-text-repr-fallback {display: none;}</style><div id=\"sk-container-id-1\" class=\"sk-top-container\"><div class=\"sk-text-repr-fallback\"><pre>KUNN</pre><b>In a Jupyter environment, please rerun this cell to show the HTML representation or trust the notebook. <br />On GitHub, the HTML representation is unable to render, please try loading this page with nbviewer.org.</b></div><div class=\"sk-container\" hidden><div class=\"sk-item\"><div class=\"sk-estimator sk-toggleable\"><input class=\"sk-toggleable__control sk-hidden--visually\" id=\"sk-estimator-id-1\" type=\"checkbox\" checked><label for=\"sk-estimator-id-1\" class=\"sk-toggleable__label sk-toggleable__label-arrow\">KUNN</label><div class=\"sk-toggleable__content\"><pre>KUNN</pre></div></div></div></div></div>"
      ],
      "text/plain": [
       "KUNN(Ki=10, Ku=10)"
      ]
     },
     "execution_count": 19,
     "metadata": {},
     "output_type": "execute_result"
    }
   ],
   "source": [
    "kunn = KUNN(Ku=10, Ki=10)\n",
    "kunn.fit(interaction_matrix)"
   ]
  },
  {
   "cell_type": "code",
   "execution_count": 20,
   "id": "ce1961c6",
   "metadata": {},
   "outputs": [],
   "source": [
    "predictions = kunn.predict(interaction_matrix)"
   ]
  },
  {
   "cell_type": "code",
   "execution_count": 21,
   "id": "f8354bd2",
   "metadata": {},
   "outputs": [],
   "source": [
    "def top_n_idx_sparse(matrix, n):\n",
    "    \"\"\"Return index of top n values in each row of a sparse matrix.\n",
    "    source: https://stackoverflow.com/questions/49207275/finding-the-top-n-values-in-a-row-of-a-scipy-sparse-matrix\n",
    "    \"\"\"\n",
    "    '''Return index of top n values in each row of a sparse matrix'''\n",
    "    top_n_idx = []\n",
    "    for le, ri in zip(matrix.indptr[:-1], matrix.indptr[1:]):\n",
    "        n_row_pick = min(n, ri - le)\n",
    "        top_n_idx.append(matrix.indices[le + np.argpartition(matrix.data[le:ri], -n_row_pick)[-n_row_pick:]].tolist())\n",
    "    return top_n_idx"
   ]
  },
  {
   "cell_type": "code",
   "execution_count": 22,
   "id": "d928d23b",
   "metadata": {},
   "outputs": [],
   "source": [
    "# get top 10 item indices for each user\n",
    "pred_indices = top_n_idx_sparse(predictions, 10)"
   ]
  },
  {
   "cell_type": "code",
   "execution_count": 23,
   "id": "5b17833e",
   "metadata": {},
   "outputs": [],
   "source": [
    "# # maps uid (user_id) value vack to customer_id\n",
    "uid_cid_map = interaction_matrix._df[[\"uid\", \"customer_id\"]].drop_duplicates().set_index(\"uid\").to_dict()[\"customer_id\"]\n",
    "# maps iid (item_id) value vack to article_id\n",
    "iid_aid_map = interaction_matrix._df[[\"iid\", \"article_id\"]].drop_duplicates().set_index(\"iid\").to_dict()[\"article_id\"]"
   ]
  },
  {
   "cell_type": "code",
   "execution_count": 24,
   "id": "2125813f",
   "metadata": {},
   "outputs": [
    {
     "data": {
      "text/html": [
       "<div>\n",
       "<style scoped>\n",
       "    .dataframe tbody tr th:only-of-type {\n",
       "        vertical-align: middle;\n",
       "    }\n",
       "\n",
       "    .dataframe tbody tr th {\n",
       "        vertical-align: top;\n",
       "    }\n",
       "\n",
       "    .dataframe thead th {\n",
       "        text-align: right;\n",
       "    }\n",
       "</style>\n",
       "<table border=\"1\" class=\"dataframe\">\n",
       "  <thead>\n",
       "    <tr style=\"text-align: right;\">\n",
       "      <th></th>\n",
       "      <th>customer_id</th>\n",
       "      <th>article_id</th>\n",
       "      <th>week</th>\n",
       "    </tr>\n",
       "  </thead>\n",
       "  <tbody>\n",
       "    <tr>\n",
       "      <th>0</th>\n",
       "      <td>3286895746334673872</td>\n",
       "      <td>909924002</td>\n",
       "      <td>105</td>\n",
       "    </tr>\n",
       "    <tr>\n",
       "      <th>1</th>\n",
       "      <td>3286895746334673872</td>\n",
       "      <td>944506001</td>\n",
       "      <td>105</td>\n",
       "    </tr>\n",
       "    <tr>\n",
       "      <th>2</th>\n",
       "      <td>3286895746334673872</td>\n",
       "      <td>887681002</td>\n",
       "      <td>105</td>\n",
       "    </tr>\n",
       "    <tr>\n",
       "      <th>3</th>\n",
       "      <td>3286895746334673872</td>\n",
       "      <td>774043005</td>\n",
       "      <td>105</td>\n",
       "    </tr>\n",
       "    <tr>\n",
       "      <th>4</th>\n",
       "      <td>3286895746334673872</td>\n",
       "      <td>854826002</td>\n",
       "      <td>105</td>\n",
       "    </tr>\n",
       "  </tbody>\n",
       "</table>\n",
       "</div>"
      ],
      "text/plain": [
       "           customer_id  article_id  week\n",
       "0  3286895746334673872   909924002   105\n",
       "1  3286895746334673872   944506001   105\n",
       "2  3286895746334673872   887681002   105\n",
       "3  3286895746334673872   774043005   105\n",
       "4  3286895746334673872   854826002   105"
      ]
     },
     "execution_count": 24,
     "metadata": {},
     "output_type": "execute_result"
    }
   ],
   "source": [
    "pred_customers = []\n",
    "pred_articles = []\n",
    "for i, row in enumerate(pred_indices):\n",
    "    for item_id in row:\n",
    "        pred_customers.append(uid_cid_map[i])\n",
    "        pred_articles.append(iid_aid_map[item_id])\n",
    "\n",
    "similarity_items = pd.DataFrame({\"customer_id\": pred_customers, \"article_id\": pred_articles})\n",
    "similarity_items[\"week\"] = test_week\n",
    "similarity_items.head()"
   ]
  },
  {
   "cell_type": "code",
   "execution_count": 29,
   "id": "f39692b2",
   "metadata": {},
   "outputs": [
    {
     "data": {
      "text/html": [
       "<div>\n",
       "<style scoped>\n",
       "    .dataframe tbody tr th:only-of-type {\n",
       "        vertical-align: middle;\n",
       "    }\n",
       "\n",
       "    .dataframe tbody tr th {\n",
       "        vertical-align: top;\n",
       "    }\n",
       "\n",
       "    .dataframe thead th {\n",
       "        text-align: right;\n",
       "    }\n",
       "</style>\n",
       "<table border=\"1\" class=\"dataframe\">\n",
       "  <thead>\n",
       "    <tr style=\"text-align: right;\">\n",
       "      <th></th>\n",
       "      <th>t_dat</th>\n",
       "      <th>customer_id</th>\n",
       "      <th>sales_channel_id</th>\n",
       "      <th>week</th>\n",
       "      <th>article_popularity</th>\n",
       "    </tr>\n",
       "  </thead>\n",
       "  <tbody>\n",
       "    <tr>\n",
       "      <th>0</th>\n",
       "      <td>2020-07-15</td>\n",
       "      <td>272412481300040</td>\n",
       "      <td>1</td>\n",
       "      <td>105</td>\n",
       "      <td>252.978175</td>\n",
       "    </tr>\n",
       "    <tr>\n",
       "      <th>1</th>\n",
       "      <td>2020-07-15</td>\n",
       "      <td>251373156213565105</td>\n",
       "      <td>2</td>\n",
       "      <td>105</td>\n",
       "      <td>252.978175</td>\n",
       "    </tr>\n",
       "    <tr>\n",
       "      <th>2</th>\n",
       "      <td>2020-07-15</td>\n",
       "      <td>401724781178962911</td>\n",
       "      <td>1</td>\n",
       "      <td>105</td>\n",
       "      <td>252.978175</td>\n",
       "    </tr>\n",
       "    <tr>\n",
       "      <th>3</th>\n",
       "      <td>2020-07-15</td>\n",
       "      <td>664658955429565460</td>\n",
       "      <td>1</td>\n",
       "      <td>105</td>\n",
       "      <td>252.978175</td>\n",
       "    </tr>\n",
       "    <tr>\n",
       "      <th>4</th>\n",
       "      <td>2020-07-15</td>\n",
       "      <td>1535663517786086475</td>\n",
       "      <td>2</td>\n",
       "      <td>105</td>\n",
       "      <td>252.978175</td>\n",
       "    </tr>\n",
       "  </tbody>\n",
       "</table>\n",
       "</div>"
      ],
      "text/plain": [
       "       t_dat          customer_id  sales_channel_id  week  article_popularity\n",
       "0 2020-07-15      272412481300040                 1   105          252.978175\n",
       "1 2020-07-15   251373156213565105                 2   105          252.978175\n",
       "2 2020-07-15   401724781178962911                 1   105          252.978175\n",
       "3 2020-07-15   664658955429565460                 1   105          252.978175\n",
       "4 2020-07-15  1535663517786086475                 2   105          252.978175"
      ]
     },
     "execution_count": 29,
     "metadata": {},
     "output_type": "execute_result"
    }
   ],
   "source": [
    "test_set_transactions.head()"
   ]
  },
  {
   "cell_type": "code",
   "execution_count": 31,
   "id": "dd70fc26",
   "metadata": {},
   "outputs": [
    {
     "data": {
      "text/html": [
       "<div>\n",
       "<style scoped>\n",
       "    .dataframe tbody tr th:only-of-type {\n",
       "        vertical-align: middle;\n",
       "    }\n",
       "\n",
       "    .dataframe tbody tr th {\n",
       "        vertical-align: top;\n",
       "    }\n",
       "\n",
       "    .dataframe thead th {\n",
       "        text-align: right;\n",
       "    }\n",
       "</style>\n",
       "<table border=\"1\" class=\"dataframe\">\n",
       "  <thead>\n",
       "    <tr style=\"text-align: right;\">\n",
       "      <th></th>\n",
       "      <th>customer_id</th>\n",
       "      <th>article_id</th>\n",
       "      <th>week</th>\n",
       "      <th>t_dat</th>\n",
       "      <th>sales_channel_id</th>\n",
       "      <th>article_popularity</th>\n",
       "    </tr>\n",
       "  </thead>\n",
       "  <tbody>\n",
       "    <tr>\n",
       "      <th>0</th>\n",
       "      <td>3286895746334673872</td>\n",
       "      <td>909924002</td>\n",
       "      <td>105</td>\n",
       "      <td>2020-07-15</td>\n",
       "      <td>2</td>\n",
       "      <td>252.978175</td>\n",
       "    </tr>\n",
       "    <tr>\n",
       "      <th>1</th>\n",
       "      <td>3286895746334673872</td>\n",
       "      <td>944506001</td>\n",
       "      <td>105</td>\n",
       "      <td>2020-07-15</td>\n",
       "      <td>2</td>\n",
       "      <td>252.978175</td>\n",
       "    </tr>\n",
       "    <tr>\n",
       "      <th>2</th>\n",
       "      <td>3286895746334673872</td>\n",
       "      <td>887681002</td>\n",
       "      <td>105</td>\n",
       "      <td>2020-07-15</td>\n",
       "      <td>2</td>\n",
       "      <td>252.978175</td>\n",
       "    </tr>\n",
       "    <tr>\n",
       "      <th>3</th>\n",
       "      <td>3286895746334673872</td>\n",
       "      <td>774043005</td>\n",
       "      <td>105</td>\n",
       "      <td>2020-07-15</td>\n",
       "      <td>2</td>\n",
       "      <td>252.978175</td>\n",
       "    </tr>\n",
       "    <tr>\n",
       "      <th>4</th>\n",
       "      <td>3286895746334673872</td>\n",
       "      <td>854826002</td>\n",
       "      <td>105</td>\n",
       "      <td>2020-07-15</td>\n",
       "      <td>2</td>\n",
       "      <td>252.978175</td>\n",
       "    </tr>\n",
       "  </tbody>\n",
       "</table>\n",
       "</div>"
      ],
      "text/plain": [
       "           customer_id  article_id  week      t_dat  sales_channel_id  \\\n",
       "0  3286895746334673872   909924002   105 2020-07-15                 2   \n",
       "1  3286895746334673872   944506001   105 2020-07-15                 2   \n",
       "2  3286895746334673872   887681002   105 2020-07-15                 2   \n",
       "3  3286895746334673872   774043005   105 2020-07-15                 2   \n",
       "4  3286895746334673872   854826002   105 2020-07-15                 2   \n",
       "\n",
       "   article_popularity  \n",
       "0          252.978175  \n",
       "1          252.978175  \n",
       "2          252.978175  \n",
       "3          252.978175  \n",
       "4          252.978175  "
      ]
     },
     "execution_count": 31,
     "metadata": {},
     "output_type": "execute_result"
    }
   ],
   "source": [
    "similarity_candidates = pd.merge(\n",
    "    similarity_items,\n",
    "    test_set_transactions,\n",
    "    on=[\"week\", \"customer_id\"],\n",
    "    how=\"left\",\n",
    ")\n",
    "similarity_candidates.head()"
   ]
  },
  {
   "cell_type": "markdown",
   "id": "22588375",
   "metadata": {},
   "source": [
    "# Combining transactions and candidates / negative examples"
   ]
  },
  {
   "cell_type": "code",
   "execution_count": 36,
   "id": "41e61192",
   "metadata": {},
   "outputs": [],
   "source": [
    "transactions['purchased'] = 1"
   ]
  },
  {
   "cell_type": "code",
   "execution_count": null,
   "id": "41e61192",
   "metadata": {},
   "outputs": [],
   "source": [
    "transactions['purchased'] = 1"
   ]
  },
  {
   "cell_type": "code",
   "execution_count": 37,
   "id": "76eb070c",
   "metadata": {},
   "outputs": [],
   "source": [
    "data = pd.concat([transactions, candidates_last_purchase, candidates_bestsellers, similarity_candidates])\n",
    "data.purchased.fillna(0, inplace=True)"
   ]
  },
  {
   "cell_type": "code",
   "execution_count": 38,
   "id": "52aeb093",
   "metadata": {},
   "outputs": [],
   "source": [
    "data.drop_duplicates(['customer_id', 'article_id', 'week'], inplace=True)"
   ]
  },
  {
   "cell_type": "code",
   "execution_count": 39,
   "id": "a239024d",
   "metadata": {},
   "outputs": [
    {
     "data": {
      "text/plain": [
       "0.13518841083268948"
      ]
     },
     "execution_count": 39,
     "metadata": {},
     "output_type": "execute_result"
    }
   ],
   "source": [
    "data.purchased.mean()"
   ]
  },
  {
   "cell_type": "markdown",
   "id": "ac183274",
   "metadata": {},
   "source": [
    "### Add bestseller information"
   ]
  },
  {
   "cell_type": "code",
   "execution_count": 40,
   "id": "f28957eb",
   "metadata": {},
   "outputs": [],
   "source": [
    "data = pd.merge(\n",
    "    data,\n",
    "    bestsellers_previous_week[['week', 'article_id', 'bestseller_rank']],\n",
    "    on=['week', 'article_id'],\n",
    "    how='left'\n",
    ")"
   ]
  },
  {
   "cell_type": "code",
   "execution_count": 41,
   "id": "3e7d3d8a",
   "metadata": {},
   "outputs": [],
   "source": [
    "data = data[data.week != data.week.min()]\n",
    "data.bestseller_rank.fillna(999, inplace=True)"
   ]
  },
  {
   "cell_type": "code",
   "execution_count": 42,
   "id": "b5fdc9dc",
   "metadata": {},
   "outputs": [],
   "source": [
    "data = pd.merge(data, articles, on='article_id', how='left')\n",
    "data = pd.merge(data, customers, on='customer_id', how='left')"
   ]
  },
  {
   "cell_type": "code",
   "execution_count": 43,
   "id": "9e3a737a",
   "metadata": {},
   "outputs": [],
   "source": [
    "data.sort_values(['week', 'customer_id'], inplace=True)\n",
    "data.reset_index(drop=True, inplace=True)"
   ]
  },
  {
   "cell_type": "code",
   "execution_count": 44,
   "id": "d83b869d",
   "metadata": {},
   "outputs": [],
   "source": [
    "train = data[data.week != test_week]\n",
    "test = data[data.week==test_week].drop_duplicates(['customer_id', 'article_id', 'sales_channel_id']).copy()"
   ]
  },
  {
   "cell_type": "code",
   "execution_count": 45,
   "id": "71d57fc8",
   "metadata": {},
   "outputs": [],
   "source": [
    "train_baskets = train.groupby(['week', 'customer_id'])['article_id'].count().values"
   ]
  },
  {
   "cell_type": "code",
   "execution_count": 46,
   "id": "c4c65da2",
   "metadata": {},
   "outputs": [],
   "source": [
    "columns_to_use = ['article_id', 'product_type_no', 'graphical_appearance_no', 'colour_group_code', 'perceived_colour_value_id',\n",
    "'perceived_colour_master_id', 'department_no', 'index_code',\n",
    "'index_group_no', 'section_no', 'garment_group_no', 'member_status', 'article_popularity',\n",
    "'club_member_status', 'fashion_news_frequency', 'age', 'postal_code', 'bestseller_rank']"
   ]
  },
  {
   "cell_type": "code",
   "execution_count": 47,
   "id": "562146df",
   "metadata": {},
   "outputs": [
    {
     "name": "stdout",
     "output_type": "stream",
     "text": [
      "CPU times: user 124 ms, sys: 275 ms, total: 399 ms\n",
      "Wall time: 595 ms\n"
     ]
    }
   ],
   "source": [
    "%%time\n",
    "\n",
    "train_X = train[columns_to_use]\n",
    "train_y = train['purchased']\n",
    "\n",
    "test_X = test[columns_to_use]"
   ]
  },
  {
   "cell_type": "markdown",
   "id": "a8b26b0a",
   "metadata": {},
   "source": [
    "# Model training"
   ]
  },
  {
   "cell_type": "code",
   "execution_count": 48,
   "id": "17079af7",
   "metadata": {},
   "outputs": [],
   "source": [
    "from lightgbm.sklearn import LGBMRanker"
   ]
  },
  {
   "cell_type": "code",
   "execution_count": 49,
   "id": "00b6186e",
   "metadata": {},
   "outputs": [],
   "source": [
    "ranker = LGBMRanker(\n",
    "    objective=\"lambdarank\",\n",
    "    metric=\"ndcg\",\n",
    "    boosting_type=\"dart\",\n",
    "    n_estimators=1,\n",
    "    importance_type='gain',\n",
    "    verbose=10\n",
    ")"
   ]
  },
  {
   "cell_type": "code",
   "execution_count": 50,
   "id": "31408339",
   "metadata": {},
   "outputs": [
    {
     "name": "stdout",
     "output_type": "stream",
     "text": [
      "[LightGBM] [Debug] Dataset::GetMultiBinFromSparseFeatures: sparse rate 0.850065\n",
      "[LightGBM] [Debug] Dataset::GetMultiBinFromAllFeatures: sparse rate 0.183398\n",
      "[LightGBM] [Debug] init for col-wise cost 0.133471 seconds, init for row-wise cost 0.218139 seconds\n",
      "[LightGBM] [Warning] Auto-choosing row-wise multi-threading, the overhead of testing was 0.253675 seconds.\n",
      "You can set `force_row_wise=true` to remove the overhead.\n",
      "And if memory is not enough, you can set `force_col_wise=true`.\n",
      "[LightGBM] [Debug] Using Dense Multi-Val Bin\n",
      "[LightGBM] [Info] Total Bins 1397\n",
      "[LightGBM] [Info] Number of data points in the train set: 11383971, number of used features: 18\n",
      "[LightGBM] [Debug] Trained a tree with leaves = 31 and depth = 11\n",
      "CPU times: user 8.65 s, sys: 1.7 s, total: 10.4 s\n",
      "Wall time: 4.8 s\n"
     ]
    }
   ],
   "source": [
    "%%time\n",
    "\n",
    "ranker = ranker.fit(\n",
    "    train_X,\n",
    "    train_y,\n",
    "    group=train_baskets,\n",
    ")"
   ]
  },
  {
   "cell_type": "code",
   "execution_count": 51,
   "id": "b7396bfb",
   "metadata": {},
   "outputs": [
    {
     "name": "stdout",
     "output_type": "stream",
     "text": [
      "bestseller_rank 0.9816601479090191\n",
      "article_popularity 0.012186790204185673\n",
      "article_id 0.003454411979686151\n",
      "product_type_no 0.000702214256630729\n",
      "colour_group_code 0.0006936667475777567\n",
      "section_no 0.0003966379234883029\n",
      "perceived_colour_master_id 0.0003263479064362502\n",
      "garment_group_no 0.00019612022128237137\n",
      "perceived_colour_value_id 0.00019554148792473323\n",
      "graphical_appearance_no 0.00018812136376886016\n",
      "fashion_news_frequency 0.0\n",
      "club_member_status 0.0\n",
      "age 0.0\n",
      "member_status 0.0\n",
      "postal_code 0.0\n",
      "index_code 0.0\n",
      "department_no 0.0\n",
      "index_group_no 0.0\n"
     ]
    }
   ],
   "source": [
    "for i in ranker.feature_importances_.argsort()[::-1]:\n",
    "    print(columns_to_use[i], ranker.feature_importances_[i]/ranker.feature_importances_.sum())"
   ]
  },
  {
   "cell_type": "markdown",
   "id": "abb34139",
   "metadata": {},
   "source": [
    "# Calculate predictions"
   ]
  },
  {
   "cell_type": "code",
   "execution_count": 52,
   "id": "9fa10874",
   "metadata": {},
   "outputs": [
    {
     "name": "stdout",
     "output_type": "stream",
     "text": [
      "CPU times: user 1e+03 ns, sys: 1e+03 ns, total: 2 µs\n",
      "Wall time: 3.1 µs\n"
     ]
    }
   ],
   "source": [
    "%time\n",
    "\n",
    "test['preds'] = ranker.predict(test_X)\n",
    "\n",
    "c_id2predicted_article_ids = test \\\n",
    "    .sort_values(['customer_id', 'preds'], ascending=False) \\\n",
    "    .groupby('customer_id')['article_id'].apply(list).to_dict()\n",
    "\n",
    "bestsellers_last_week = \\\n",
    "    bestsellers_previous_week[bestsellers_previous_week.week == bestsellers_previous_week.week.max()]['article_id'].tolist()"
   ]
  },
  {
   "cell_type": "markdown",
   "id": "2e576d90",
   "metadata": {},
   "source": [
    "# Create submission"
   ]
  },
  {
   "cell_type": "code",
   "execution_count": 53,
   "id": "eb1c56d0",
   "metadata": {},
   "outputs": [],
   "source": [
    "sub = pd.read_csv(f'{DATA_PATH}/sample_submission.csv')"
   ]
  },
  {
   "cell_type": "code",
   "execution_count": 54,
   "id": "03d79b1f",
   "metadata": {},
   "outputs": [
    {
     "name": "stdout",
     "output_type": "stream",
     "text": [
      "CPU times: user 2.06 s, sys: 71.1 ms, total: 2.13 s\n",
      "Wall time: 2.13 s\n"
     ]
    }
   ],
   "source": [
    "%%time\n",
    "preds = []\n",
    "for c_id in customer_hex_id_to_int(sub.customer_id):\n",
    "    pred = c_id2predicted_article_ids.get(c_id, [])\n",
    "    pred = pred + bestsellers_last_week\n",
    "    preds.append(pred[:12])"
   ]
  },
  {
   "cell_type": "code",
   "execution_count": 55,
   "id": "e4ed109f",
   "metadata": {},
   "outputs": [],
   "source": [
    "preds = [' '.join(['0' + str(p) for p in ps]) for ps in preds]\n",
    "sub.prediction = preds"
   ]
  },
  {
   "cell_type": "code",
   "execution_count": 56,
   "id": "245ce774",
   "metadata": {},
   "outputs": [],
   "source": [
    "sub_name = 'submission_lgbm_1'\n",
    "sub.to_csv(f'{DATA_PATH}/subs/{sub_name}.csv.gz', index=False)"
   ]
  }
 ],
 "metadata": {
  "kernelspec": {
   "display_name": "Python 3.10.8 ('venv': venv)",
   "language": "python",
   "name": "python3"
  },
  "language_info": {
   "codemirror_mode": {
    "name": "ipython",
    "version": 3
   },
   "file_extension": ".py",
   "mimetype": "text/x-python",
   "name": "python",
   "nbconvert_exporter": "python",
   "pygments_lexer": "ipython3",
   "version": "3.10.8"
  },
  "vscode": {
   "interpreter": {
    "hash": "cb76f6fb9cefb4ce395c63b53ca0fc61c280bfa44c4aea4ac470b086d5108ff0"
   }
  }
 },
 "nbformat": 4,
 "nbformat_minor": 5
}
