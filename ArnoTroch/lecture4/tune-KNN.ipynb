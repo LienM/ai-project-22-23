{
 "cells": [
  {
   "cell_type": "code",
   "execution_count": 1,
   "metadata": {},
   "outputs": [],
   "source": [
    "import pandas as pd\n",
    "import numpy as np\n",
    "from datetime import timedelta\n",
    "from recpack.preprocessing.preprocessors import DataFramePreprocessor\n",
    "from recpack.preprocessing.filters import MinItemsPerUser, MinUsersPerItem\n",
    "from recpack.scenarios import Timed\n",
    "from recpack.pipelines import PipelineBuilder\n",
    "\n",
    "DATA_PATH = '../../data'"
   ]
  },
  {
   "cell_type": "code",
   "execution_count": 2,
   "metadata": {},
   "outputs": [],
   "source": [
    "df = pd.read_csv(f'{DATA_PATH}/transactions_train.csv', parse_dates=['t_dat'])\n",
    "df['ts'] = (pd.to_datetime(df['t_dat']).astype(np.int64) // 10**9).astype(np.int32)\n",
    "df = df[['article_id', 'customer_id', 'ts', 't_dat']]"
   ]
  },
  {
   "cell_type": "markdown",
   "metadata": {},
   "source": [
    "# Candidate Generation: hyperparameter tuning"
   ]
  },
  {
   "cell_type": "code",
   "execution_count": 3,
   "metadata": {},
   "outputs": [
    {
     "data": {
      "application/vnd.jupyter.widget-view+json": {
       "model_id": "a98dbd3de195453daba1405a4b3ca8f6",
       "version_major": 2,
       "version_minor": 0
      },
      "text/plain": [
       "  0%|          | 0/15795409 [00:00<?, ?it/s]"
      ]
     },
     "metadata": {},
     "output_type": "display_data"
    },
    {
     "data": {
      "application/vnd.jupyter.widget-view+json": {
       "model_id": "f11d1f6077a7414990d841f74dd2780e",
       "version_major": 2,
       "version_minor": 0
      },
      "text/plain": [
       "  0%|          | 0/15795409 [00:00<?, ?it/s]"
      ]
     },
     "metadata": {},
     "output_type": "display_data"
    }
   ],
   "source": [
    "proc = DataFramePreprocessor(item_ix='article_id', user_ix='customer_id', timestamp_ix='ts')\n",
    "proc.add_filter(MinUsersPerItem(5, item_ix='article_id', user_ix='customer_id'))\n",
    "proc.add_filter(MinItemsPerUser(50, item_ix='article_id', user_ix='customer_id'))\n",
    "\n",
    "interaction_matrix = proc.process(df)"
   ]
  },
  {
   "cell_type": "code",
   "execution_count": 4,
   "metadata": {},
   "outputs": [],
   "source": [
    "two_weeks_ago = (df[\"t_dat\"].max() - timedelta(weeks=2)).timestamp()\n",
    "four_weeks_ago = (df[\"t_dat\"].max() - timedelta(weeks=4)).timestamp()\n",
    "\n",
    "scenario = Timed(t=two_weeks_ago, t_validation=four_weeks_ago, delta_out=None, delta_in=None, validation=True)\n",
    "scenario.split(interaction_matrix)"
   ]
  },
  {
   "cell_type": "code",
   "execution_count": 5,
   "metadata": {},
   "outputs": [],
   "source": [
    "builder = PipelineBuilder()\n",
    "builder.set_data_from_scenario(scenario)\n",
    "builder.add_algorithm('Popularity')\n",
    "builder.add_algorithm('ItemKNN', grid={\n",
    "    'K': [10, 20, 30, 40],\n",
    "    'similarity': ['cosine'],\n",
    "})\n",
    "builder.set_optimisation_metric('CoverageK', K=12)\n",
    "builder.add_metric('CoverageK', K=[10, 20, 30, 40])"
   ]
  },
  {
   "cell_type": "code",
   "execution_count": 6,
   "metadata": {},
   "outputs": [
    {
     "data": {
      "application/vnd.jupyter.widget-view+json": {
       "model_id": "c40a355529ea402692209aa68ff67bf1",
       "version_major": 2,
       "version_minor": 0
      },
      "text/plain": [
       "  0%|          | 0/2 [00:00<?, ?it/s]"
      ]
     },
     "metadata": {},
     "output_type": "display_data"
    },
    {
     "name": "stdout",
     "output_type": "stream",
     "text": [
      "2022-11-10 16:12:39,004 - base - recpack - INFO - Fitting Popularity complete - Took 1.92s\n"
     ]
    },
    {
     "name": "stderr",
     "output_type": "stream",
     "text": [
      "/Users/arnotroch/Documents/AIP/ai-project-22-23/venv/lib/python3.10/site-packages/scipy/sparse/_index.py:146: SparseEfficiencyWarning: Changing the sparsity structure of a csr_matrix is expensive. lil_matrix is more efficient.\n",
      "  self._set_arrayXarray(i, j, x)\n"
     ]
    },
    {
     "name": "stdout",
     "output_type": "stream",
     "text": [
      "2022-11-10 16:14:13,598 - base - recpack - INFO - Fitting ItemKNN complete - Took 89.2s\n"
     ]
    },
    {
     "name": "stderr",
     "output_type": "stream",
     "text": [
      "/Users/arnotroch/Documents/AIP/ai-project-22-23/venv/lib/python3.10/site-packages/recpack/algorithms/base.py:271: UserWarning: ItemKNN missing similar items for 2336 items.\n",
      "  warnings.warn(f\"{self.name} missing similar items for {missing} items.\")\n",
      "/Users/arnotroch/Documents/AIP/ai-project-22-23/venv/lib/python3.10/site-packages/scipy/sparse/_index.py:146: SparseEfficiencyWarning: Changing the sparsity structure of a csr_matrix is expensive. lil_matrix is more efficient.\n",
      "  self._set_arrayXarray(i, j, x)\n"
     ]
    },
    {
     "name": "stdout",
     "output_type": "stream",
     "text": [
      "2022-11-10 16:15:28,311 - base - recpack - INFO - Fitting ItemKNN complete - Took 70.6s\n"
     ]
    },
    {
     "name": "stderr",
     "output_type": "stream",
     "text": [
      "/Users/arnotroch/Documents/AIP/ai-project-22-23/venv/lib/python3.10/site-packages/recpack/algorithms/base.py:271: UserWarning: ItemKNN missing similar items for 2336 items.\n",
      "  warnings.warn(f\"{self.name} missing similar items for {missing} items.\")\n",
      "/Users/arnotroch/Documents/AIP/ai-project-22-23/venv/lib/python3.10/site-packages/scipy/sparse/_index.py:146: SparseEfficiencyWarning: Changing the sparsity structure of a csr_matrix is expensive. lil_matrix is more efficient.\n",
      "  self._set_arrayXarray(i, j, x)\n"
     ]
    },
    {
     "name": "stdout",
     "output_type": "stream",
     "text": [
      "2022-11-10 16:16:45,841 - base - recpack - INFO - Fitting ItemKNN complete - Took 70.4s\n"
     ]
    },
    {
     "name": "stderr",
     "output_type": "stream",
     "text": [
      "/Users/arnotroch/Documents/AIP/ai-project-22-23/venv/lib/python3.10/site-packages/recpack/algorithms/base.py:271: UserWarning: ItemKNN missing similar items for 2336 items.\n",
      "  warnings.warn(f\"{self.name} missing similar items for {missing} items.\")\n",
      "/Users/arnotroch/Documents/AIP/ai-project-22-23/venv/lib/python3.10/site-packages/scipy/sparse/_index.py:146: SparseEfficiencyWarning: Changing the sparsity structure of a csr_matrix is expensive. lil_matrix is more efficient.\n",
      "  self._set_arrayXarray(i, j, x)\n"
     ]
    },
    {
     "name": "stdout",
     "output_type": "stream",
     "text": [
      "2022-11-10 16:18:13,646 - base - recpack - INFO - Fitting ItemKNN complete - Took 77.7s\n"
     ]
    },
    {
     "name": "stderr",
     "output_type": "stream",
     "text": [
      "/Users/arnotroch/Documents/AIP/ai-project-22-23/venv/lib/python3.10/site-packages/recpack/algorithms/base.py:271: UserWarning: ItemKNN missing similar items for 2336 items.\n",
      "  warnings.warn(f\"{self.name} missing similar items for {missing} items.\")\n",
      "/Users/arnotroch/Documents/AIP/ai-project-22-23/venv/lib/python3.10/site-packages/scipy/sparse/_index.py:146: SparseEfficiencyWarning: Changing the sparsity structure of a csr_matrix is expensive. lil_matrix is more efficient.\n",
      "  self._set_arrayXarray(i, j, x)\n"
     ]
    },
    {
     "name": "stdout",
     "output_type": "stream",
     "text": [
      "2022-11-10 16:19:35,417 - base - recpack - INFO - Fitting ItemKNN complete - Took 68.5s\n"
     ]
    },
    {
     "name": "stderr",
     "output_type": "stream",
     "text": [
      "/Users/arnotroch/Documents/AIP/ai-project-22-23/venv/lib/python3.10/site-packages/recpack/algorithms/base.py:271: UserWarning: ItemKNN missing similar items for 981 items.\n",
      "  warnings.warn(f\"{self.name} missing similar items for {missing} items.\")\n"
     ]
    }
   ],
   "source": [
    "pipeline = builder.build()\n",
    "pipeline.run()"
   ]
  },
  {
   "cell_type": "code",
   "execution_count": 7,
   "metadata": {},
   "outputs": [
    {
     "data": {
      "text/html": [
       "<div>\n",
       "<style scoped>\n",
       "    .dataframe tbody tr th:only-of-type {\n",
       "        vertical-align: middle;\n",
       "    }\n",
       "\n",
       "    .dataframe tbody tr th {\n",
       "        vertical-align: top;\n",
       "    }\n",
       "\n",
       "    .dataframe thead th {\n",
       "        text-align: right;\n",
       "    }\n",
       "</style>\n",
       "<table border=\"1\" class=\"dataframe\">\n",
       "  <thead>\n",
       "    <tr style=\"text-align: right;\">\n",
       "      <th></th>\n",
       "      <th>coveragek_10</th>\n",
       "      <th>coveragek_20</th>\n",
       "      <th>coveragek_30</th>\n",
       "      <th>coveragek_40</th>\n",
       "    </tr>\n",
       "  </thead>\n",
       "  <tbody>\n",
       "    <tr>\n",
       "      <th>Popularity(K=200)</th>\n",
       "      <td>0.000242</td>\n",
       "      <td>0.000385</td>\n",
       "      <td>0.000539</td>\n",
       "      <td>0.000682</td>\n",
       "    </tr>\n",
       "    <tr>\n",
       "      <th>ItemKNN(K=10,normalize_X=False,normalize_sim=False,pop_discount=None,similarity=cosine)</th>\n",
       "      <td>0.248823</td>\n",
       "      <td>0.376760</td>\n",
       "      <td>0.470455</td>\n",
       "      <td>0.541623</td>\n",
       "    </tr>\n",
       "  </tbody>\n",
       "</table>\n",
       "</div>"
      ],
      "text/plain": [
       "                                                    coveragek_10  \\\n",
       "Popularity(K=200)                                       0.000242   \n",
       "ItemKNN(K=10,normalize_X=False,normalize_sim=Fa...      0.248823   \n",
       "\n",
       "                                                    coveragek_20  \\\n",
       "Popularity(K=200)                                       0.000385   \n",
       "ItemKNN(K=10,normalize_X=False,normalize_sim=Fa...      0.376760   \n",
       "\n",
       "                                                    coveragek_30  coveragek_40  \n",
       "Popularity(K=200)                                       0.000539      0.000682  \n",
       "ItemKNN(K=10,normalize_X=False,normalize_sim=Fa...      0.470455      0.541623  "
      ]
     },
     "execution_count": 7,
     "metadata": {},
     "output_type": "execute_result"
    }
   ],
   "source": [
    "pipeline.get_metrics()"
   ]
  },
  {
   "cell_type": "code",
   "execution_count": 8,
   "metadata": {},
   "outputs": [
    {
     "data": {
      "text/html": [
       "<div>\n",
       "<style scoped>\n",
       "    .dataframe tbody tr th:only-of-type {\n",
       "        vertical-align: middle;\n",
       "    }\n",
       "\n",
       "    .dataframe tbody tr th {\n",
       "        vertical-align: top;\n",
       "    }\n",
       "\n",
       "    .dataframe thead th {\n",
       "        text-align: right;\n",
       "    }\n",
       "</style>\n",
       "<table border=\"1\" class=\"dataframe\">\n",
       "  <thead>\n",
       "    <tr style=\"text-align: right;\">\n",
       "      <th></th>\n",
       "      <th>identifier</th>\n",
       "      <th>params</th>\n",
       "      <th>coveragek_12</th>\n",
       "    </tr>\n",
       "  </thead>\n",
       "  <tbody>\n",
       "    <tr>\n",
       "      <th>0</th>\n",
       "      <td>ItemKNN(K=10,normalize_X=False,normalize_sim=F...</td>\n",
       "      <td>{'K': 10, 'similarity': 'cosine'}</td>\n",
       "      <td>0.282317</td>\n",
       "    </tr>\n",
       "    <tr>\n",
       "      <th>1</th>\n",
       "      <td>ItemKNN(K=20,normalize_X=False,normalize_sim=F...</td>\n",
       "      <td>{'K': 20, 'similarity': 'cosine'}</td>\n",
       "      <td>0.271878</td>\n",
       "    </tr>\n",
       "    <tr>\n",
       "      <th>2</th>\n",
       "      <td>ItemKNN(K=30,normalize_X=False,normalize_sim=F...</td>\n",
       "      <td>{'K': 30, 'similarity': 'cosine'}</td>\n",
       "      <td>0.261143</td>\n",
       "    </tr>\n",
       "    <tr>\n",
       "      <th>3</th>\n",
       "      <td>ItemKNN(K=40,normalize_X=False,normalize_sim=F...</td>\n",
       "      <td>{'K': 40, 'similarity': 'cosine'}</td>\n",
       "      <td>0.251694</td>\n",
       "    </tr>\n",
       "  </tbody>\n",
       "</table>\n",
       "</div>"
      ],
      "text/plain": [
       "                                          identifier  \\\n",
       "0  ItemKNN(K=10,normalize_X=False,normalize_sim=F...   \n",
       "1  ItemKNN(K=20,normalize_X=False,normalize_sim=F...   \n",
       "2  ItemKNN(K=30,normalize_X=False,normalize_sim=F...   \n",
       "3  ItemKNN(K=40,normalize_X=False,normalize_sim=F...   \n",
       "\n",
       "                              params  coveragek_12  \n",
       "0  {'K': 10, 'similarity': 'cosine'}      0.282317  \n",
       "1  {'K': 20, 'similarity': 'cosine'}      0.271878  \n",
       "2  {'K': 30, 'similarity': 'cosine'}      0.261143  \n",
       "3  {'K': 40, 'similarity': 'cosine'}      0.251694  "
      ]
     },
     "execution_count": 8,
     "metadata": {},
     "output_type": "execute_result"
    }
   ],
   "source": [
    "pipeline.optimisation_results"
   ]
  }
 ],
 "metadata": {
  "kernelspec": {
   "display_name": "Python 3 (ipykernel)",
   "language": "python",
   "name": "python3"
  },
  "language_info": {
   "codemirror_mode": {
    "name": "ipython",
    "version": 3
   },
   "file_extension": ".py",
   "mimetype": "text/x-python",
   "name": "python",
   "nbconvert_exporter": "python",
   "pygments_lexer": "ipython3",
   "version": "3.10.8"
  },
  "vscode": {
   "interpreter": {
    "hash": "cb76f6fb9cefb4ce395c63b53ca0fc61c280bfa44c4aea4ac470b086d5108ff0"
   }
  }
 },
 "nbformat": 4,
 "nbformat_minor": 2
}
