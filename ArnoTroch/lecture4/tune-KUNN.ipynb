{
 "cells": [
  {
   "cell_type": "code",
   "execution_count": 9,
   "metadata": {},
   "outputs": [],
   "source": [
    "import pandas as pd\n",
    "import numpy as np\n",
    "from datetime import timedelta\n",
    "from recpack.preprocessing.preprocessors import DataFramePreprocessor\n",
    "from recpack.preprocessing.filters import MinItemsPerUser, MinUsersPerItem\n",
    "from recpack.scenarios import Timed\n",
    "from recpack.pipelines import PipelineBuilder\n",
    "DATA_PATH = \"../data\""
   ]
  },
  {
   "cell_type": "code",
   "execution_count": 10,
   "metadata": {},
   "outputs": [],
   "source": [
    "df = pd.read_parquet(f'{DATA_PATH}/transactions_train.parquet')\n",
    "df['ts'] = (pd.to_datetime(df['t_dat']).astype(np.int64) // 10**9).astype(np.int32)\n",
    "\n",
    "test_week = df.week.max() + 1\n",
    "df = df[df.week > df.week.max() - 10]\n",
    "df = df[['article_id', 'customer_id', 'ts', 't_dat']]"
   ]
  },
  {
   "cell_type": "markdown",
   "metadata": {},
   "source": [
    "# Candidate Generation: hyperparameter tuning"
   ]
  },
  {
   "cell_type": "code",
   "execution_count": 11,
   "metadata": {},
   "outputs": [
    {
     "data": {
      "application/vnd.jupyter.widget-view+json": {
       "model_id": "04babb4a7c4b44318774672329ae3255",
       "version_major": 2,
       "version_minor": 0
      },
      "text/plain": [
       "  0%|          | 0/420382 [00:00<?, ?it/s]"
      ]
     },
     "metadata": {},
     "output_type": "display_data"
    },
    {
     "data": {
      "application/vnd.jupyter.widget-view+json": {
       "model_id": "896cc51ae2b7442ca81c0d747328f9e9",
       "version_major": 2,
       "version_minor": 0
      },
      "text/plain": [
       "  0%|          | 0/420382 [00:00<?, ?it/s]"
      ]
     },
     "metadata": {},
     "output_type": "display_data"
    },
    {
     "data": {
      "application/vnd.jupyter.widget-view+json": {
       "model_id": "b903d844724c446c96f7fc1de58450e2",
       "version_major": 2,
       "version_minor": 0
      },
      "text/plain": [
       "  0%|          | 0/420382 [00:00<?, ?it/s]"
      ]
     },
     "metadata": {},
     "output_type": "display_data"
    },
    {
     "data": {
      "application/vnd.jupyter.widget-view+json": {
       "model_id": "12ef0ff935ed4566a02d55f0fdd14344",
       "version_major": 2,
       "version_minor": 0
      },
      "text/plain": [
       "  0%|          | 0/420382 [00:00<?, ?it/s]"
      ]
     },
     "metadata": {},
     "output_type": "display_data"
    }
   ],
   "source": [
    "proc = DataFramePreprocessor(item_ix='article_id', user_ix='customer_id', timestamp_ix='ts')\n",
    "proc.add_filter(MinUsersPerItem(10, item_ix='article_id', user_ix='customer_id'))\n",
    "proc.add_filter(MinItemsPerUser(10, item_ix='article_id', user_ix='customer_id'))\n",
    "\n",
    "interaction_matrix = proc.process(df)"
   ]
  },
  {
   "cell_type": "code",
   "execution_count": 12,
   "metadata": {},
   "outputs": [],
   "source": [
    "two_weeks_ago = (df[\"t_dat\"].max() - timedelta(weeks=2)).timestamp()\n",
    "four_weeks_ago = (df[\"t_dat\"].max() - timedelta(weeks=4)).timestamp()\n",
    "\n",
    "scenario = Timed(t=two_weeks_ago, t_validation=four_weeks_ago, delta_out=None, delta_in=None, validation=True)\n",
    "scenario.split(interaction_matrix)"
   ]
  },
  {
   "cell_type": "code",
   "execution_count": 13,
   "metadata": {},
   "outputs": [],
   "source": [
    "builder = PipelineBuilder()\n",
    "builder.set_data_from_scenario(scenario)\n",
    "builder.add_algorithm('Popularity')\n",
    "builder.add_algorithm('KUNN', grid={\n",
    "    'Ku': [10, 20, 30, 40],\n",
    "    'Ki': [10, 20, 30, 40],\n",
    "})\n",
    "builder.set_optimisation_metric('CoverageK', K=12)\n",
    "builder.add_metric('CoverageK', K=[10, 20, 30, 40])"
   ]
  },
  {
   "cell_type": "code",
   "execution_count": null,
   "metadata": {},
   "outputs": [],
   "source": [
    "pipeline = builder.build()\n",
    "pipeline.run()"
   ]
  },
  {
   "cell_type": "code",
   "execution_count": 15,
   "metadata": {},
   "outputs": [
    {
     "data": {
      "text/html": [
       "<div>\n",
       "<style scoped>\n",
       "    .dataframe tbody tr th:only-of-type {\n",
       "        vertical-align: middle;\n",
       "    }\n",
       "\n",
       "    .dataframe tbody tr th {\n",
       "        vertical-align: top;\n",
       "    }\n",
       "\n",
       "    .dataframe thead th {\n",
       "        text-align: right;\n",
       "    }\n",
       "</style>\n",
       "<table border=\"1\" class=\"dataframe\">\n",
       "  <thead>\n",
       "    <tr style=\"text-align: right;\">\n",
       "      <th></th>\n",
       "      <th>coveragek_10</th>\n",
       "      <th>coveragek_20</th>\n",
       "      <th>coveragek_30</th>\n",
       "      <th>coveragek_40</th>\n",
       "    </tr>\n",
       "  </thead>\n",
       "  <tbody>\n",
       "    <tr>\n",
       "      <th>Popularity(K=200)</th>\n",
       "      <td>0.001141</td>\n",
       "      <td>0.001879</td>\n",
       "      <td>0.002684</td>\n",
       "      <td>0.003422</td>\n",
       "    </tr>\n",
       "    <tr>\n",
       "      <th>KUNN(Ki=10,Ku=10)</th>\n",
       "      <td>0.792511</td>\n",
       "      <td>0.916588</td>\n",
       "      <td>0.943632</td>\n",
       "      <td>0.950409</td>\n",
       "    </tr>\n",
       "  </tbody>\n",
       "</table>\n",
       "</div>"
      ],
      "text/plain": [
       "                   coveragek_10  coveragek_20  coveragek_30  coveragek_40\n",
       "Popularity(K=200)      0.001141      0.001879      0.002684      0.003422\n",
       "KUNN(Ki=10,Ku=10)      0.792511      0.916588      0.943632      0.950409"
      ]
     },
     "execution_count": 7,
     "metadata": {},
     "output_type": "execute_result"
    },
    {
     "data": {
      "text/html": [
       "<div>\n",
       "<style scoped>\n",
       "    .dataframe tbody tr th:only-of-type {\n",
       "        vertical-align: middle;\n",
       "    }\n",
       "\n",
       "    .dataframe tbody tr th {\n",
       "        vertical-align: top;\n",
       "    }\n",
       "\n",
       "    .dataframe thead th {\n",
       "        text-align: right;\n",
       "    }\n",
       "</style>\n",
       "<table border=\"1\" class=\"dataframe\">\n",
       "  <thead>\n",
       "    <tr style=\"text-align: right;\">\n",
       "      <th></th>\n",
       "      <th>coveragek_10</th>\n",
       "      <th>coveragek_20</th>\n",
       "      <th>coveragek_30</th>\n",
       "      <th>coveragek_40</th>\n",
       "    </tr>\n",
       "  </thead>\n",
       "  <tbody>\n",
       "    <tr>\n",
       "      <th>Popularity(K=200)</th>\n",
       "      <td>0.001141</td>\n",
       "      <td>0.001879</td>\n",
       "      <td>0.002684</td>\n",
       "      <td>0.003422</td>\n",
       "    </tr>\n",
       "    <tr>\n",
       "      <th>KUNN(Ki=10,Ku=10)</th>\n",
       "      <td>0.792511</td>\n",
       "      <td>0.916588</td>\n",
       "      <td>0.943632</td>\n",
       "      <td>0.950409</td>\n",
       "    </tr>\n",
       "  </tbody>\n",
       "</table>\n",
       "</div>"
      ],
      "text/plain": [
       "                   coveragek_10  coveragek_20  coveragek_30  coveragek_40\n",
       "Popularity(K=200)      0.001141      0.001879      0.002684      0.003422\n",
       "KUNN(Ki=10,Ku=10)      0.792511      0.916588      0.943632      0.950409"
      ]
     },
     "execution_count": 15,
     "metadata": {},
     "output_type": "execute_result"
    }
   ],
   "source": [
    "pipeline.get_metrics()"
   ]
  },
  {
   "cell_type": "code",
   "execution_count": 16,
   "metadata": {},
   "outputs": [
    {
     "data": {
      "text/html": [
       "<div>\n",
       "<style scoped>\n",
       "    .dataframe tbody tr th:only-of-type {\n",
       "        vertical-align: middle;\n",
       "    }\n",
       "\n",
       "    .dataframe tbody tr th {\n",
       "        vertical-align: top;\n",
       "    }\n",
       "\n",
       "    .dataframe thead th {\n",
       "        text-align: right;\n",
       "    }\n",
       "</style>\n",
       "<table border=\"1\" class=\"dataframe\">\n",
       "  <thead>\n",
       "    <tr style=\"text-align: right;\">\n",
       "      <th></th>\n",
       "      <th>identifier</th>\n",
       "      <th>params</th>\n",
       "      <th>coveragek_12</th>\n",
       "    </tr>\n",
       "  </thead>\n",
       "  <tbody>\n",
       "    <tr>\n",
       "      <th>0</th>\n",
       "      <td>KUNN(Ki=10,Ku=10)</td>\n",
       "      <td>{'Ki': 10, 'Ku': 10}</td>\n",
       "      <td>0.800899</td>\n",
       "    </tr>\n",
       "    <tr>\n",
       "      <th>1</th>\n",
       "      <td>KUNN(Ki=10,Ku=20)</td>\n",
       "      <td>{'Ki': 10, 'Ku': 20}</td>\n",
       "      <td>0.785264</td>\n",
       "    </tr>\n",
       "    <tr>\n",
       "      <th>2</th>\n",
       "      <td>KUNN(Ki=10,Ku=30)</td>\n",
       "      <td>{'Ki': 10, 'Ku': 30}</td>\n",
       "      <td>0.772916</td>\n",
       "    </tr>\n",
       "    <tr>\n",
       "      <th>3</th>\n",
       "      <td>KUNN(Ki=10,Ku=40)</td>\n",
       "      <td>{'Ki': 10, 'Ku': 40}</td>\n",
       "      <td>0.765736</td>\n",
       "    </tr>\n",
       "    <tr>\n",
       "      <th>4</th>\n",
       "      <td>KUNN(Ki=20,Ku=10)</td>\n",
       "      <td>{'Ki': 20, 'Ku': 10}</td>\n",
       "      <td>0.782647</td>\n",
       "    </tr>\n",
       "    <tr>\n",
       "      <th>5</th>\n",
       "      <td>KUNN(Ki=20,Ku=20)</td>\n",
       "      <td>{'Ki': 20, 'Ku': 20}</td>\n",
       "      <td>0.755335</td>\n",
       "    </tr>\n",
       "    <tr>\n",
       "      <th>6</th>\n",
       "      <td>KUNN(Ki=20,Ku=30)</td>\n",
       "      <td>{'Ki': 20, 'Ku': 30}</td>\n",
       "      <td>0.745001</td>\n",
       "    </tr>\n",
       "    <tr>\n",
       "      <th>7</th>\n",
       "      <td>KUNN(Ki=20,Ku=40)</td>\n",
       "      <td>{'Ki': 20, 'Ku': 40}</td>\n",
       "      <td>0.737686</td>\n",
       "    </tr>\n",
       "    <tr>\n",
       "      <th>8</th>\n",
       "      <td>KUNN(Ki=30,Ku=10)</td>\n",
       "      <td>{'Ki': 30, 'Ku': 10}</td>\n",
       "      <td>0.777949</td>\n",
       "    </tr>\n",
       "    <tr>\n",
       "      <th>9</th>\n",
       "      <td>KUNN(Ki=30,Ku=20)</td>\n",
       "      <td>{'Ki': 30, 'Ku': 20}</td>\n",
       "      <td>0.747282</td>\n",
       "    </tr>\n",
       "    <tr>\n",
       "      <th>10</th>\n",
       "      <td>KUNN(Ki=30,Ku=30)</td>\n",
       "      <td>{'Ki': 30, 'Ku': 30}</td>\n",
       "      <td>0.735405</td>\n",
       "    </tr>\n",
       "    <tr>\n",
       "      <th>11</th>\n",
       "      <td>KUNN(Ki=30,Ku=40)</td>\n",
       "      <td>{'Ki': 30, 'Ku': 40}</td>\n",
       "      <td>0.728895</td>\n",
       "    </tr>\n",
       "    <tr>\n",
       "      <th>12</th>\n",
       "      <td>KUNN(Ki=40,Ku=10)</td>\n",
       "      <td>{'Ki': 40, 'Ku': 10}</td>\n",
       "      <td>0.773587</td>\n",
       "    </tr>\n",
       "    <tr>\n",
       "      <th>13</th>\n",
       "      <td>KUNN(Ki=40,Ku=20)</td>\n",
       "      <td>{'Ki': 40, 'Ku': 20}</td>\n",
       "      <td>0.745672</td>\n",
       "    </tr>\n",
       "    <tr>\n",
       "      <th>14</th>\n",
       "      <td>KUNN(Ki=40,Ku=30)</td>\n",
       "      <td>{'Ki': 40, 'Ku': 30}</td>\n",
       "      <td>0.733459</td>\n",
       "    </tr>\n",
       "    <tr>\n",
       "      <th>15</th>\n",
       "      <td>KUNN(Ki=40,Ku=40)</td>\n",
       "      <td>{'Ki': 40, 'Ku': 40}</td>\n",
       "      <td>0.727017</td>\n",
       "    </tr>\n",
       "  </tbody>\n",
       "</table>\n",
       "</div>"
      ],
      "text/plain": [
       "           identifier                params  coveragek_12\n",
       "0   KUNN(Ki=10,Ku=10)  {'Ki': 10, 'Ku': 10}      0.800899\n",
       "1   KUNN(Ki=10,Ku=20)  {'Ki': 10, 'Ku': 20}      0.785264\n",
       "2   KUNN(Ki=10,Ku=30)  {'Ki': 10, 'Ku': 30}      0.772916\n",
       "3   KUNN(Ki=10,Ku=40)  {'Ki': 10, 'Ku': 40}      0.765736\n",
       "4   KUNN(Ki=20,Ku=10)  {'Ki': 20, 'Ku': 10}      0.782647\n",
       "5   KUNN(Ki=20,Ku=20)  {'Ki': 20, 'Ku': 20}      0.755335\n",
       "6   KUNN(Ki=20,Ku=30)  {'Ki': 20, 'Ku': 30}      0.745001\n",
       "7   KUNN(Ki=20,Ku=40)  {'Ki': 20, 'Ku': 40}      0.737686\n",
       "8   KUNN(Ki=30,Ku=10)  {'Ki': 30, 'Ku': 10}      0.777949\n",
       "9   KUNN(Ki=30,Ku=20)  {'Ki': 30, 'Ku': 20}      0.747282\n",
       "10  KUNN(Ki=30,Ku=30)  {'Ki': 30, 'Ku': 30}      0.735405\n",
       "11  KUNN(Ki=30,Ku=40)  {'Ki': 30, 'Ku': 40}      0.728895\n",
       "12  KUNN(Ki=40,Ku=10)  {'Ki': 40, 'Ku': 10}      0.773587\n",
       "13  KUNN(Ki=40,Ku=20)  {'Ki': 40, 'Ku': 20}      0.745672\n",
       "14  KUNN(Ki=40,Ku=30)  {'Ki': 40, 'Ku': 30}      0.733459\n",
       "15  KUNN(Ki=40,Ku=40)  {'Ki': 40, 'Ku': 40}      0.727017"
      ]
     },
     "execution_count": 8,
     "metadata": {},
     "output_type": "execute_result"
    },
    {
     "data": {
      "text/html": [
       "<div>\n",
       "<style scoped>\n",
       "    .dataframe tbody tr th:only-of-type {\n",
       "        vertical-align: middle;\n",
       "    }\n",
       "\n",
       "    .dataframe tbody tr th {\n",
       "        vertical-align: top;\n",
       "    }\n",
       "\n",
       "    .dataframe thead th {\n",
       "        text-align: right;\n",
       "    }\n",
       "</style>\n",
       "<table border=\"1\" class=\"dataframe\">\n",
       "  <thead>\n",
       "    <tr style=\"text-align: right;\">\n",
       "      <th></th>\n",
       "      <th>identifier</th>\n",
       "      <th>params</th>\n",
       "      <th>coveragek_12</th>\n",
       "    </tr>\n",
       "  </thead>\n",
       "  <tbody>\n",
       "    <tr>\n",
       "      <th>0</th>\n",
       "      <td>KUNN(Ki=10,Ku=10)</td>\n",
       "      <td>{'Ki': 10, 'Ku': 10}</td>\n",
       "      <td>0.800899</td>\n",
       "    </tr>\n",
       "    <tr>\n",
       "      <th>1</th>\n",
       "      <td>KUNN(Ki=10,Ku=20)</td>\n",
       "      <td>{'Ki': 10, 'Ku': 20}</td>\n",
       "      <td>0.785264</td>\n",
       "    </tr>\n",
       "    <tr>\n",
       "      <th>2</th>\n",
       "      <td>KUNN(Ki=10,Ku=30)</td>\n",
       "      <td>{'Ki': 10, 'Ku': 30}</td>\n",
       "      <td>0.772916</td>\n",
       "    </tr>\n",
       "    <tr>\n",
       "      <th>3</th>\n",
       "      <td>KUNN(Ki=10,Ku=40)</td>\n",
       "      <td>{'Ki': 10, 'Ku': 40}</td>\n",
       "      <td>0.765736</td>\n",
       "    </tr>\n",
       "    <tr>\n",
       "      <th>4</th>\n",
       "      <td>KUNN(Ki=20,Ku=10)</td>\n",
       "      <td>{'Ki': 20, 'Ku': 10}</td>\n",
       "      <td>0.782647</td>\n",
       "    </tr>\n",
       "    <tr>\n",
       "      <th>5</th>\n",
       "      <td>KUNN(Ki=20,Ku=20)</td>\n",
       "      <td>{'Ki': 20, 'Ku': 20}</td>\n",
       "      <td>0.755335</td>\n",
       "    </tr>\n",
       "    <tr>\n",
       "      <th>6</th>\n",
       "      <td>KUNN(Ki=20,Ku=30)</td>\n",
       "      <td>{'Ki': 20, 'Ku': 30}</td>\n",
       "      <td>0.745001</td>\n",
       "    </tr>\n",
       "    <tr>\n",
       "      <th>7</th>\n",
       "      <td>KUNN(Ki=20,Ku=40)</td>\n",
       "      <td>{'Ki': 20, 'Ku': 40}</td>\n",
       "      <td>0.737686</td>\n",
       "    </tr>\n",
       "    <tr>\n",
       "      <th>8</th>\n",
       "      <td>KUNN(Ki=30,Ku=10)</td>\n",
       "      <td>{'Ki': 30, 'Ku': 10}</td>\n",
       "      <td>0.777949</td>\n",
       "    </tr>\n",
       "    <tr>\n",
       "      <th>9</th>\n",
       "      <td>KUNN(Ki=30,Ku=20)</td>\n",
       "      <td>{'Ki': 30, 'Ku': 20}</td>\n",
       "      <td>0.747282</td>\n",
       "    </tr>\n",
       "    <tr>\n",
       "      <th>10</th>\n",
       "      <td>KUNN(Ki=30,Ku=30)</td>\n",
       "      <td>{'Ki': 30, 'Ku': 30}</td>\n",
       "      <td>0.735405</td>\n",
       "    </tr>\n",
       "    <tr>\n",
       "      <th>11</th>\n",
       "      <td>KUNN(Ki=30,Ku=40)</td>\n",
       "      <td>{'Ki': 30, 'Ku': 40}</td>\n",
       "      <td>0.728895</td>\n",
       "    </tr>\n",
       "    <tr>\n",
       "      <th>12</th>\n",
       "      <td>KUNN(Ki=40,Ku=10)</td>\n",
       "      <td>{'Ki': 40, 'Ku': 10}</td>\n",
       "      <td>0.773587</td>\n",
       "    </tr>\n",
       "    <tr>\n",
       "      <th>13</th>\n",
       "      <td>KUNN(Ki=40,Ku=20)</td>\n",
       "      <td>{'Ki': 40, 'Ku': 20}</td>\n",
       "      <td>0.745672</td>\n",
       "    </tr>\n",
       "    <tr>\n",
       "      <th>14</th>\n",
       "      <td>KUNN(Ki=40,Ku=30)</td>\n",
       "      <td>{'Ki': 40, 'Ku': 30}</td>\n",
       "      <td>0.733459</td>\n",
       "    </tr>\n",
       "    <tr>\n",
       "      <th>15</th>\n",
       "      <td>KUNN(Ki=40,Ku=40)</td>\n",
       "      <td>{'Ki': 40, 'Ku': 40}</td>\n",
       "      <td>0.727017</td>\n",
       "    </tr>\n",
       "  </tbody>\n",
       "</table>\n",
       "</div>"
      ],
      "text/plain": [
       "           identifier                params  coveragek_12\n",
       "0   KUNN(Ki=10,Ku=10)  {'Ki': 10, 'Ku': 10}      0.800899\n",
       "1   KUNN(Ki=10,Ku=20)  {'Ki': 10, 'Ku': 20}      0.785264\n",
       "2   KUNN(Ki=10,Ku=30)  {'Ki': 10, 'Ku': 30}      0.772916\n",
       "3   KUNN(Ki=10,Ku=40)  {'Ki': 10, 'Ku': 40}      0.765736\n",
       "4   KUNN(Ki=20,Ku=10)  {'Ki': 20, 'Ku': 10}      0.782647\n",
       "5   KUNN(Ki=20,Ku=20)  {'Ki': 20, 'Ku': 20}      0.755335\n",
       "6   KUNN(Ki=20,Ku=30)  {'Ki': 20, 'Ku': 30}      0.745001\n",
       "7   KUNN(Ki=20,Ku=40)  {'Ki': 20, 'Ku': 40}      0.737686\n",
       "8   KUNN(Ki=30,Ku=10)  {'Ki': 30, 'Ku': 10}      0.777949\n",
       "9   KUNN(Ki=30,Ku=20)  {'Ki': 30, 'Ku': 20}      0.747282\n",
       "10  KUNN(Ki=30,Ku=30)  {'Ki': 30, 'Ku': 30}      0.735405\n",
       "11  KUNN(Ki=30,Ku=40)  {'Ki': 30, 'Ku': 40}      0.728895\n",
       "12  KUNN(Ki=40,Ku=10)  {'Ki': 40, 'Ku': 10}      0.773587\n",
       "13  KUNN(Ki=40,Ku=20)  {'Ki': 40, 'Ku': 20}      0.745672\n",
       "14  KUNN(Ki=40,Ku=30)  {'Ki': 40, 'Ku': 30}      0.733459\n",
       "15  KUNN(Ki=40,Ku=40)  {'Ki': 40, 'Ku': 40}      0.727017"
      ]
     },
     "execution_count": 16,
     "metadata": {},
     "output_type": "execute_result"
    }
   ],
   "source": [
    "pipeline.optimisation_results"
   ]
  }
 ],
 "metadata": {
  "kernelspec": {
   "display_name": "Python 3 (ipykernel)",
   "language": "python",
   "name": "python3"
  },
  "language_info": {
   "codemirror_mode": {
    "name": "ipython",
    "version": 3
   },
   "file_extension": ".py",
   "mimetype": "text/x-python",
   "name": "python",
   "nbconvert_exporter": "python",
   "pygments_lexer": "ipython3",
   "version": "3.10.8"
  },
  "vscode": {
   "interpreter": {
    "hash": "cb76f6fb9cefb4ce395c63b53ca0fc61c280bfa44c4aea4ac470b086d5108ff0"
   }
  }
 },
 "nbformat": 4,
 "nbformat_minor": 2
}
