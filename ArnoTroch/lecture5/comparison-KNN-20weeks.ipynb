{
 "cells": [
  {
   "cell_type": "code",
   "execution_count": 1,
   "metadata": {},
   "outputs": [],
   "source": [
    "import numpy as np\n",
    "import pandas as pd\n",
    "from recpack.preprocessing.preprocessors import DataFramePreprocessor\n",
    "from recpack.preprocessing.filters import MinItemsPerUser, MinUsersPerItem\n",
    "from recpack.scenarios import Timed\n",
    "from recpack.pipelines import PipelineBuilder\n",
    "\n",
    "# import utils file from previous lecture\n",
    "import sys\n",
    "sys.path.append('../lecture4')\n",
    "from utils import DATA_PATH, customer_hex_id_to_int"
   ]
  },
  {
   "cell_type": "code",
   "execution_count": 2,
   "metadata": {},
   "outputs": [],
   "source": [
    "transactions = pd.read_parquet(f'{DATA_PATH}/transactions_train.parquet')\n",
    "# customers = pd.read_parquet(f'{DATA_PATH}/customers.parquet')\n",
    "# articles = pd.read_parquet(f'{DATA_PATH}/articles.parquet')"
   ]
  },
  {
   "cell_type": "code",
   "execution_count": 3,
   "metadata": {},
   "outputs": [],
   "source": [
    "test_week = transactions.week.max()\n",
    "transactions = transactions[transactions.week > test_week - 20]"
   ]
  },
  {
   "cell_type": "code",
   "execution_count": 4,
   "metadata": {},
   "outputs": [
    {
     "name": "stdout",
     "output_type": "stream",
     "text": [
      "Unique customers: 659008\n",
      "Unique articles: 48548\n"
     ]
    }
   ],
   "source": [
    "# print the amount of unique customers and articles\n",
    "print(f'Unique customers: {transactions[\"customer_id\"].nunique()}')\n",
    "print(f'Unique articles: {transactions[\"article_id\"].nunique()}')"
   ]
  },
  {
   "cell_type": "markdown",
   "metadata": {},
   "source": [
    "## Preprocessing"
   ]
  },
  {
   "cell_type": "code",
   "execution_count": 5,
   "metadata": {},
   "outputs": [
    {
     "data": {
      "application/vnd.jupyter.widget-view+json": {
       "model_id": "d06c29e42b2a40ea85addacee5a9136c",
       "version_major": 2,
       "version_minor": 0
      },
      "text/plain": [
       "  0%|          | 0/2223746 [00:00<?, ?it/s]"
      ]
     },
     "metadata": {},
     "output_type": "display_data"
    },
    {
     "data": {
      "application/vnd.jupyter.widget-view+json": {
       "model_id": "b6186d4806ff41c3af5ab6e740bb1855",
       "version_major": 2,
       "version_minor": 0
      },
      "text/plain": [
       "  0%|          | 0/2223746 [00:00<?, ?it/s]"
      ]
     },
     "metadata": {},
     "output_type": "display_data"
    }
   ],
   "source": [
    "proc = DataFramePreprocessor(item_ix='article_id', user_ix='customer_id', timestamp_ix='week')\n",
    "proc.add_filter(MinUsersPerItem(20, item_ix='article_id', user_ix='customer_id'))\n",
    "proc.add_filter(MinItemsPerUser(20, item_ix='article_id', user_ix='customer_id'))\n",
    "\n",
    "interaction_matrix = proc.process(transactions)"
   ]
  },
  {
   "cell_type": "code",
   "execution_count": 6,
   "metadata": {},
   "outputs": [],
   "source": [
    "scenario = Timed(t=test_week, t_validation=test_week - 1, delta_out=None, delta_in=None, validation=True)\n",
    "scenario.split(interaction_matrix)"
   ]
  },
  {
   "cell_type": "code",
   "execution_count": 7,
   "metadata": {},
   "outputs": [],
   "source": [
    "builder = PipelineBuilder()\n",
    "builder.set_data_from_scenario(scenario)\n",
    "\n",
    "# [30, 400] => best: ItemKNN(K=80,normalize_X=False,normalize_sim=True,pop_discount=None,similarity=cosine), Recall12=0.013781\n",
    "builder.add_algorithm('ItemKNN', grid={\n",
    "    'K': [k for k in range(50, 100, 10)],  \n",
    "    'similarity': ['cosine'],\n",
    "    'normalize_X': [True, False],\n",
    "    'normalize_sim': [True]\n",
    "})\n",
    "\n",
    "# [50, 800] => best: TARSItemKNN(K=720,fit_decay=0.05,predict_decay=0.3333333333333333,similarity=cosine), Recall12=0.026913\n",
    "builder.add_algorithm('TARSItemKNN', grid={\n",
    "    'K': [k for k in range(700, 800, 20)], \n",
    "    'similarity': ['cosine'],\n",
    "    'fit_decay': [1/20],\n",
    "    'predict_decay': [1/3],\n",
    "})\n",
    "\n",
    "builder.add_metric('PrecisionK', K=[12, 20, 30, 40])\n",
    "builder.add_metric('RecallK', K=[12, 20, 30, 40])\n",
    "\n",
    "builder.set_optimisation_metric('RecallK', K=12)"
   ]
  },
  {
   "cell_type": "code",
   "execution_count": 8,
   "metadata": {},
   "outputs": [
    {
     "data": {
      "application/vnd.jupyter.widget-view+json": {
       "model_id": "0544283317d6440ebfa3b8fbae6336b4",
       "version_major": 2,
       "version_minor": 0
      },
      "text/plain": [
       "  0%|          | 0/2 [00:00<?, ?it/s]"
      ]
     },
     "metadata": {},
     "output_type": "display_data"
    },
    {
     "name": "stdout",
     "output_type": "stream",
     "text": [
      "2022-11-22 11:31:00,748 - base - recpack - INFO - Fitting ItemKNN complete - Took 2.23s\n",
      "2022-11-22 11:31:05,655 - base - recpack - INFO - Fitting ItemKNN complete - Took 2.88s\n",
      "2022-11-22 11:31:09,554 - base - recpack - INFO - Fitting ItemKNN complete - Took 2.18s\n",
      "2022-11-22 11:31:14,179 - base - recpack - INFO - Fitting ItemKNN complete - Took 2.46s\n",
      "2022-11-22 11:31:19,610 - base - recpack - INFO - Fitting ItemKNN complete - Took 3.39s\n",
      "2022-11-22 11:31:24,880 - base - recpack - INFO - Fitting ItemKNN complete - Took 2.44s\n",
      "2022-11-22 11:31:30,662 - base - recpack - INFO - Fitting ItemKNN complete - Took 2.51s\n",
      "2022-11-22 11:31:36,092 - base - recpack - INFO - Fitting ItemKNN complete - Took 2.54s\n",
      "2022-11-22 11:31:41,589 - base - recpack - INFO - Fitting ItemKNN complete - Took 2.68s\n",
      "2022-11-22 11:31:47,483 - base - recpack - INFO - Fitting ItemKNN complete - Took 2.73s\n",
      "2022-11-22 11:31:53,161 - base - recpack - INFO - Fitting ItemKNN complete - Took 2.68s\n",
      "2022-11-22 11:32:19,828 - base - recpack - INFO - Fitting TARSItemKNN complete - Took 20.1s\n",
      "2022-11-22 11:33:00,798 - base - recpack - INFO - Fitting TARSItemKNN complete - Took 21.1s\n",
      "2022-11-22 11:33:45,841 - base - recpack - INFO - Fitting TARSItemKNN complete - Took 23.0s\n",
      "2022-11-22 11:34:32,346 - base - recpack - INFO - Fitting TARSItemKNN complete - Took 23.8s\n",
      "2022-11-22 11:35:16,730 - base - recpack - INFO - Fitting TARSItemKNN complete - Took 23.2s\n",
      "2022-11-22 11:35:59,170 - base - recpack - INFO - Fitting TARSItemKNN complete - Took 21.1s\n"
     ]
    }
   ],
   "source": [
    "import warnings\n",
    "from scipy.sparse import SparseEfficiencyWarning\n",
    "warnings.simplefilter(\"ignore\", UserWarning)\n",
    "warnings.simplefilter(\"ignore\", SparseEfficiencyWarning)\n",
    "\n",
    "pipeline = builder.build()\n",
    "pipeline.run()"
   ]
  },
  {
   "cell_type": "code",
   "execution_count": 9,
   "metadata": {},
   "outputs": [
    {
     "data": {
      "text/html": [
       "<div>\n",
       "<style scoped>\n",
       "    .dataframe tbody tr th:only-of-type {\n",
       "        vertical-align: middle;\n",
       "    }\n",
       "\n",
       "    .dataframe tbody tr th {\n",
       "        vertical-align: top;\n",
       "    }\n",
       "\n",
       "    .dataframe thead th {\n",
       "        text-align: right;\n",
       "    }\n",
       "</style>\n",
       "<table border=\"1\" class=\"dataframe\">\n",
       "  <thead>\n",
       "    <tr style=\"text-align: right;\">\n",
       "      <th></th>\n",
       "      <th>identifier</th>\n",
       "      <th>params</th>\n",
       "      <th>recallk_12</th>\n",
       "    </tr>\n",
       "  </thead>\n",
       "  <tbody>\n",
       "    <tr>\n",
       "      <th>0</th>\n",
       "      <td>ItemKNN(K=50,normalize_X=True,normalize_sim=Tr...</td>\n",
       "      <td>{'K': 50, 'normalize_X': True, 'normalize_sim'...</td>\n",
       "      <td>0.012669</td>\n",
       "    </tr>\n",
       "    <tr>\n",
       "      <th>1</th>\n",
       "      <td>ItemKNN(K=50,normalize_X=False,normalize_sim=T...</td>\n",
       "      <td>{'K': 50, 'normalize_X': False, 'normalize_sim...</td>\n",
       "      <td>0.014281</td>\n",
       "    </tr>\n",
       "    <tr>\n",
       "      <th>2</th>\n",
       "      <td>ItemKNN(K=60,normalize_X=True,normalize_sim=Tr...</td>\n",
       "      <td>{'K': 60, 'normalize_X': True, 'normalize_sim'...</td>\n",
       "      <td>0.012623</td>\n",
       "    </tr>\n",
       "    <tr>\n",
       "      <th>3</th>\n",
       "      <td>ItemKNN(K=60,normalize_X=False,normalize_sim=T...</td>\n",
       "      <td>{'K': 60, 'normalize_X': False, 'normalize_sim...</td>\n",
       "      <td>0.013894</td>\n",
       "    </tr>\n",
       "    <tr>\n",
       "      <th>4</th>\n",
       "      <td>ItemKNN(K=70,normalize_X=True,normalize_sim=Tr...</td>\n",
       "      <td>{'K': 70, 'normalize_X': True, 'normalize_sim'...</td>\n",
       "      <td>0.012633</td>\n",
       "    </tr>\n",
       "    <tr>\n",
       "      <th>5</th>\n",
       "      <td>ItemKNN(K=70,normalize_X=False,normalize_sim=T...</td>\n",
       "      <td>{'K': 70, 'normalize_X': False, 'normalize_sim...</td>\n",
       "      <td>0.014195</td>\n",
       "    </tr>\n",
       "    <tr>\n",
       "      <th>6</th>\n",
       "      <td>ItemKNN(K=80,normalize_X=True,normalize_sim=Tr...</td>\n",
       "      <td>{'K': 80, 'normalize_X': True, 'normalize_sim'...</td>\n",
       "      <td>0.012375</td>\n",
       "    </tr>\n",
       "    <tr>\n",
       "      <th>7</th>\n",
       "      <td>ItemKNN(K=80,normalize_X=False,normalize_sim=T...</td>\n",
       "      <td>{'K': 80, 'normalize_X': False, 'normalize_sim...</td>\n",
       "      <td>0.014299</td>\n",
       "    </tr>\n",
       "    <tr>\n",
       "      <th>8</th>\n",
       "      <td>ItemKNN(K=90,normalize_X=True,normalize_sim=Tr...</td>\n",
       "      <td>{'K': 90, 'normalize_X': True, 'normalize_sim'...</td>\n",
       "      <td>0.012451</td>\n",
       "    </tr>\n",
       "    <tr>\n",
       "      <th>9</th>\n",
       "      <td>ItemKNN(K=90,normalize_X=False,normalize_sim=T...</td>\n",
       "      <td>{'K': 90, 'normalize_X': False, 'normalize_sim...</td>\n",
       "      <td>0.014236</td>\n",
       "    </tr>\n",
       "    <tr>\n",
       "      <th>10</th>\n",
       "      <td>TARSItemKNN(K=700,fit_decay=0.05,predict_decay...</td>\n",
       "      <td>{'K': 700, 'fit_decay': 0.05, 'predict_decay':...</td>\n",
       "      <td>0.024197</td>\n",
       "    </tr>\n",
       "    <tr>\n",
       "      <th>11</th>\n",
       "      <td>TARSItemKNN(K=720,fit_decay=0.05,predict_decay...</td>\n",
       "      <td>{'K': 720, 'fit_decay': 0.05, 'predict_decay':...</td>\n",
       "      <td>0.024209</td>\n",
       "    </tr>\n",
       "    <tr>\n",
       "      <th>12</th>\n",
       "      <td>TARSItemKNN(K=740,fit_decay=0.05,predict_decay...</td>\n",
       "      <td>{'K': 740, 'fit_decay': 0.05, 'predict_decay':...</td>\n",
       "      <td>0.024159</td>\n",
       "    </tr>\n",
       "    <tr>\n",
       "      <th>13</th>\n",
       "      <td>TARSItemKNN(K=760,fit_decay=0.05,predict_decay...</td>\n",
       "      <td>{'K': 760, 'fit_decay': 0.05, 'predict_decay':...</td>\n",
       "      <td>0.024198</td>\n",
       "    </tr>\n",
       "    <tr>\n",
       "      <th>14</th>\n",
       "      <td>TARSItemKNN(K=780,fit_decay=0.05,predict_decay...</td>\n",
       "      <td>{'K': 780, 'fit_decay': 0.05, 'predict_decay':...</td>\n",
       "      <td>0.024200</td>\n",
       "    </tr>\n",
       "  </tbody>\n",
       "</table>\n",
       "</div>"
      ],
      "text/plain": [
       "                                           identifier  \\\n",
       "0   ItemKNN(K=50,normalize_X=True,normalize_sim=Tr...   \n",
       "1   ItemKNN(K=50,normalize_X=False,normalize_sim=T...   \n",
       "2   ItemKNN(K=60,normalize_X=True,normalize_sim=Tr...   \n",
       "3   ItemKNN(K=60,normalize_X=False,normalize_sim=T...   \n",
       "4   ItemKNN(K=70,normalize_X=True,normalize_sim=Tr...   \n",
       "5   ItemKNN(K=70,normalize_X=False,normalize_sim=T...   \n",
       "6   ItemKNN(K=80,normalize_X=True,normalize_sim=Tr...   \n",
       "7   ItemKNN(K=80,normalize_X=False,normalize_sim=T...   \n",
       "8   ItemKNN(K=90,normalize_X=True,normalize_sim=Tr...   \n",
       "9   ItemKNN(K=90,normalize_X=False,normalize_sim=T...   \n",
       "10  TARSItemKNN(K=700,fit_decay=0.05,predict_decay...   \n",
       "11  TARSItemKNN(K=720,fit_decay=0.05,predict_decay...   \n",
       "12  TARSItemKNN(K=740,fit_decay=0.05,predict_decay...   \n",
       "13  TARSItemKNN(K=760,fit_decay=0.05,predict_decay...   \n",
       "14  TARSItemKNN(K=780,fit_decay=0.05,predict_decay...   \n",
       "\n",
       "                                               params  recallk_12  \n",
       "0   {'K': 50, 'normalize_X': True, 'normalize_sim'...    0.012669  \n",
       "1   {'K': 50, 'normalize_X': False, 'normalize_sim...    0.014281  \n",
       "2   {'K': 60, 'normalize_X': True, 'normalize_sim'...    0.012623  \n",
       "3   {'K': 60, 'normalize_X': False, 'normalize_sim...    0.013894  \n",
       "4   {'K': 70, 'normalize_X': True, 'normalize_sim'...    0.012633  \n",
       "5   {'K': 70, 'normalize_X': False, 'normalize_sim...    0.014195  \n",
       "6   {'K': 80, 'normalize_X': True, 'normalize_sim'...    0.012375  \n",
       "7   {'K': 80, 'normalize_X': False, 'normalize_sim...    0.014299  \n",
       "8   {'K': 90, 'normalize_X': True, 'normalize_sim'...    0.012451  \n",
       "9   {'K': 90, 'normalize_X': False, 'normalize_sim...    0.014236  \n",
       "10  {'K': 700, 'fit_decay': 0.05, 'predict_decay':...    0.024197  \n",
       "11  {'K': 720, 'fit_decay': 0.05, 'predict_decay':...    0.024209  \n",
       "12  {'K': 740, 'fit_decay': 0.05, 'predict_decay':...    0.024159  \n",
       "13  {'K': 760, 'fit_decay': 0.05, 'predict_decay':...    0.024198  \n",
       "14  {'K': 780, 'fit_decay': 0.05, 'predict_decay':...    0.024200  "
      ]
     },
     "execution_count": 9,
     "metadata": {},
     "output_type": "execute_result"
    }
   ],
   "source": [
    "pipeline.optimisation_results"
   ]
  },
  {
   "cell_type": "code",
   "execution_count": 10,
   "metadata": {},
   "outputs": [
    {
     "data": {
      "text/html": [
       "<div>\n",
       "<style scoped>\n",
       "    .dataframe tbody tr th:only-of-type {\n",
       "        vertical-align: middle;\n",
       "    }\n",
       "\n",
       "    .dataframe tbody tr th {\n",
       "        vertical-align: top;\n",
       "    }\n",
       "\n",
       "    .dataframe thead th {\n",
       "        text-align: right;\n",
       "    }\n",
       "</style>\n",
       "<table border=\"1\" class=\"dataframe\">\n",
       "  <thead>\n",
       "    <tr style=\"text-align: right;\">\n",
       "      <th></th>\n",
       "      <th>precisionk_12</th>\n",
       "      <th>precisionk_20</th>\n",
       "      <th>precisionk_30</th>\n",
       "      <th>precisionk_40</th>\n",
       "      <th>recallk_12</th>\n",
       "      <th>recallk_20</th>\n",
       "      <th>recallk_30</th>\n",
       "      <th>recallk_40</th>\n",
       "    </tr>\n",
       "  </thead>\n",
       "  <tbody>\n",
       "    <tr>\n",
       "      <th>ItemKNN(K=80,normalize_X=False,normalize_sim=True,pop_discount=None,similarity=cosine)</th>\n",
       "      <td>0.004519</td>\n",
       "      <td>0.003898</td>\n",
       "      <td>0.003540</td>\n",
       "      <td>0.003270</td>\n",
       "      <td>0.013781</td>\n",
       "      <td>0.020367</td>\n",
       "      <td>0.027977</td>\n",
       "      <td>0.034636</td>\n",
       "    </tr>\n",
       "    <tr>\n",
       "      <th>TARSItemKNN(K=720,fit_decay=0.05,predict_decay=0.3333333333333333,similarity=cosine)</th>\n",
       "      <td>0.007849</td>\n",
       "      <td>0.006455</td>\n",
       "      <td>0.005455</td>\n",
       "      <td>0.004818</td>\n",
       "      <td>0.026913</td>\n",
       "      <td>0.036027</td>\n",
       "      <td>0.044954</td>\n",
       "      <td>0.051914</td>\n",
       "    </tr>\n",
       "  </tbody>\n",
       "</table>\n",
       "</div>"
      ],
      "text/plain": [
       "                                                    precisionk_12  \\\n",
       "ItemKNN(K=80,normalize_X=False,normalize_sim=Tr...       0.004519   \n",
       "TARSItemKNN(K=720,fit_decay=0.05,predict_decay=...       0.007849   \n",
       "\n",
       "                                                    precisionk_20  \\\n",
       "ItemKNN(K=80,normalize_X=False,normalize_sim=Tr...       0.003898   \n",
       "TARSItemKNN(K=720,fit_decay=0.05,predict_decay=...       0.006455   \n",
       "\n",
       "                                                    precisionk_30  \\\n",
       "ItemKNN(K=80,normalize_X=False,normalize_sim=Tr...       0.003540   \n",
       "TARSItemKNN(K=720,fit_decay=0.05,predict_decay=...       0.005455   \n",
       "\n",
       "                                                    precisionk_40  recallk_12  \\\n",
       "ItemKNN(K=80,normalize_X=False,normalize_sim=Tr...       0.003270    0.013781   \n",
       "TARSItemKNN(K=720,fit_decay=0.05,predict_decay=...       0.004818    0.026913   \n",
       "\n",
       "                                                    recallk_20  recallk_30  \\\n",
       "ItemKNN(K=80,normalize_X=False,normalize_sim=Tr...    0.020367    0.027977   \n",
       "TARSItemKNN(K=720,fit_decay=0.05,predict_decay=...    0.036027    0.044954   \n",
       "\n",
       "                                                    recallk_40  \n",
       "ItemKNN(K=80,normalize_X=False,normalize_sim=Tr...    0.034636  \n",
       "TARSItemKNN(K=720,fit_decay=0.05,predict_decay=...    0.051914  "
      ]
     },
     "execution_count": 10,
     "metadata": {},
     "output_type": "execute_result"
    }
   ],
   "source": [
    "pipeline.get_metrics()"
   ]
  }
 ],
 "metadata": {
  "kernelspec": {
   "display_name": "Python 3 (ipykernel)",
   "language": "python",
   "name": "python3"
  },
  "language_info": {
   "codemirror_mode": {
    "name": "ipython",
    "version": 3
   },
   "file_extension": ".py",
   "mimetype": "text/x-python",
   "name": "python",
   "nbconvert_exporter": "python",
   "pygments_lexer": "ipython3",
   "version": "3.10.8"
  },
  "orig_nbformat": 4,
  "vscode": {
   "interpreter": {
    "hash": "cb76f6fb9cefb4ce395c63b53ca0fc61c280bfa44c4aea4ac470b086d5108ff0"
   }
  }
 },
 "nbformat": 4,
 "nbformat_minor": 2
}
