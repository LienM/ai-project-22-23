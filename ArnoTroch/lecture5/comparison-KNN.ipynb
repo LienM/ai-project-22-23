{
 "cells": [
  {
   "cell_type": "code",
   "execution_count": 1,
   "metadata": {},
   "outputs": [],
   "source": [
    "import numpy as np\n",
    "import pandas as pd\n",
    "from recpack.preprocessing.preprocessors import DataFramePreprocessor\n",
    "from recpack.preprocessing.filters import MinItemsPerUser, MinUsersPerItem\n",
    "from recpack.scenarios import Timed\n",
    "from recpack.pipelines import PipelineBuilder\n",
    "from recpack.algorithms import ItemKNN, KUNN\n",
    "from recpack.metrics import RecallK, PrecisionK, NDCGK\n",
    "\n",
    "# import utils file from previous lecture\n",
    "import sys\n",
    "sys.path.append('../lecture4')\n",
    "from utils import DATA_PATH, customer_hex_id_to_int"
   ]
  },
  {
   "cell_type": "code",
   "execution_count": 2,
   "metadata": {},
   "outputs": [],
   "source": [
    "transactions = pd.read_parquet(f'{DATA_PATH}/transactions_train.parquet')\n",
    "# customers = pd.read_parquet(f'{DATA_PATH}/customers.parquet')\n",
    "# articles = pd.read_parquet(f'{DATA_PATH}/articles.parquet')"
   ]
  },
  {
   "cell_type": "code",
   "execution_count": 3,
   "metadata": {},
   "outputs": [],
   "source": [
    "test_week = transactions.week.max()\n",
    "transactions = transactions[transactions.week > test_week - 10]"
   ]
  },
  {
   "cell_type": "code",
   "execution_count": 4,
   "metadata": {},
   "outputs": [
    {
     "name": "stdout",
     "output_type": "stream",
     "text": [
      "Unique customers: 437365\n",
      "Unique articles: 38331\n"
     ]
    }
   ],
   "source": [
    "# print the amount of unique customers and articles\n",
    "print(f'Unique customers: {transactions[\"customer_id\"].nunique()}')\n",
    "print(f'Unique articles: {transactions[\"article_id\"].nunique()}')"
   ]
  },
  {
   "cell_type": "markdown",
   "metadata": {},
   "source": [
    "## Preprocessing"
   ]
  },
  {
   "cell_type": "code",
   "execution_count": 5,
   "metadata": {},
   "outputs": [
    {
     "data": {
      "application/vnd.jupyter.widget-view+json": {
       "model_id": "fa8ac28eb4ae43218fef9fee9e8b0b26",
       "version_major": 2,
       "version_minor": 0
      },
      "text/plain": [
       "  0%|          | 0/1228106 [00:00<?, ?it/s]"
      ]
     },
     "metadata": {},
     "output_type": "display_data"
    },
    {
     "data": {
      "application/vnd.jupyter.widget-view+json": {
       "model_id": "dd5405fd80844f3b8de9fdf9d9a50e28",
       "version_major": 2,
       "version_minor": 0
      },
      "text/plain": [
       "  0%|          | 0/1228106 [00:00<?, ?it/s]"
      ]
     },
     "metadata": {},
     "output_type": "display_data"
    }
   ],
   "source": [
    "proc = DataFramePreprocessor(item_ix='article_id', user_ix='customer_id', timestamp_ix='week')\n",
    "proc.add_filter(MinUsersPerItem(10, item_ix='article_id', user_ix='customer_id'))\n",
    "proc.add_filter(MinItemsPerUser(10, item_ix='article_id', user_ix='customer_id'))\n",
    "\n",
    "interaction_matrix = proc.process(transactions)"
   ]
  },
  {
   "cell_type": "code",
   "execution_count": 6,
   "metadata": {},
   "outputs": [],
   "source": [
    "scenario = Timed(t=test_week, t_validation=test_week - 1, delta_out=None, delta_in=None, validation=True)\n",
    "scenario.split(interaction_matrix)"
   ]
  },
  {
   "cell_type": "code",
   "execution_count": 7,
   "metadata": {},
   "outputs": [],
   "source": [
    "builder = PipelineBuilder()\n",
    "builder.set_data_from_scenario(scenario)\n",
    "\n",
    "# [50, 600] => best: ItemKNN(K=90,normalize_X=False,normalize_sim=True,pop_discount=None,similarity=cosine), Recall12=0.024356\n",
    "builder.add_algorithm('ItemKNN', grid={\n",
    "    'K': [k for k in range(50, 150, 10)],  \n",
    "    'similarity': ['cosine'],\n",
    "    'normalize_X': [True, False],\n",
    "    'normalize_sim': [True]\n",
    "})\n",
    "\n",
    "# [50, 600] => best: TARSItemKNN(K=580,fit_decay=0.1,predict_decay=0.3333333333333333,similarity=cosine), Recall12=0.028117\n",
    "builder.add_algorithm('TARSItemKNN', grid={\n",
    "    'K': [k for k in range(570, 680, 10)], \n",
    "    'similarity': ['cosine'],\n",
    "    'fit_decay': [1/2, 1/5, 1/10],\n",
    "    'predict_decay': [1/3, 1/5, 1/10],\n",
    "})\n",
    "\n",
    "builder.add_metric('PrecisionK', K=[12, 20, 30, 40])\n",
    "builder.add_metric('RecallK', K=[12, 20, 30, 40])\n",
    "\n",
    "builder.set_optimisation_metric('RecallK', K=12)"
   ]
  },
  {
   "cell_type": "code",
   "execution_count": 8,
   "metadata": {},
   "outputs": [
    {
     "data": {
      "application/vnd.jupyter.widget-view+json": {
       "model_id": "bf9285eb75fd4f3ab1212d07fa451151",
       "version_major": 2,
       "version_minor": 0
      },
      "text/plain": [
       "  0%|          | 0/2 [00:00<?, ?it/s]"
      ]
     },
     "metadata": {},
     "output_type": "display_data"
    },
    {
     "name": "stdout",
     "output_type": "stream",
     "text": [
      "2022-11-22 08:44:12,974 - base - recpack - INFO - Fitting ItemKNN complete - Took 0.873s\n",
      "2022-11-22 08:44:14,781 - base - recpack - INFO - Fitting ItemKNN complete - Took 0.883s\n",
      "2022-11-22 08:44:16,693 - base - recpack - INFO - Fitting ItemKNN complete - Took 0.96s\n",
      "2022-11-22 08:44:18,764 - base - recpack - INFO - Fitting ItemKNN complete - Took 0.979s\n",
      "2022-11-22 08:44:20,874 - base - recpack - INFO - Fitting ItemKNN complete - Took 1.05s\n",
      "2022-11-22 08:44:23,233 - base - recpack - INFO - Fitting ItemKNN complete - Took 1.08s\n",
      "2022-11-22 08:44:25,539 - base - recpack - INFO - Fitting ItemKNN complete - Took 1.13s\n",
      "2022-11-22 08:44:28,202 - base - recpack - INFO - Fitting ItemKNN complete - Took 1.21s\n",
      "2022-11-22 08:44:30,856 - base - recpack - INFO - Fitting ItemKNN complete - Took 1.28s\n",
      "2022-11-22 08:44:33,674 - base - recpack - INFO - Fitting ItemKNN complete - Took 1.31s\n",
      "2022-11-22 08:44:36,631 - base - recpack - INFO - Fitting ItemKNN complete - Took 1.38s\n",
      "2022-11-22 08:44:39,670 - base - recpack - INFO - Fitting ItemKNN complete - Took 1.36s\n",
      "2022-11-22 08:44:42,769 - base - recpack - INFO - Fitting ItemKNN complete - Took 1.47s\n",
      "2022-11-22 08:44:46,085 - base - recpack - INFO - Fitting ItemKNN complete - Took 1.48s\n",
      "2022-11-22 08:44:49,407 - base - recpack - INFO - Fitting ItemKNN complete - Took 1.57s\n",
      "2022-11-22 08:44:53,074 - base - recpack - INFO - Fitting ItemKNN complete - Took 1.65s\n",
      "2022-11-22 08:44:56,718 - base - recpack - INFO - Fitting ItemKNN complete - Took 1.71s\n",
      "2022-11-22 08:45:00,568 - base - recpack - INFO - Fitting ItemKNN complete - Took 1.71s\n",
      "2022-11-22 08:45:04,489 - base - recpack - INFO - Fitting ItemKNN complete - Took 1.85s\n",
      "2022-11-22 08:45:08,573 - base - recpack - INFO - Fitting ItemKNN complete - Took 1.83s\n",
      "2022-11-22 08:45:12,133 - base - recpack - INFO - Fitting ItemKNN complete - Took 1.36s\n",
      "2022-11-22 08:45:24,707 - base - recpack - INFO - Fitting TARSItemKNN complete - Took 7.72s\n",
      "2022-11-22 08:45:38,950 - base - recpack - INFO - Fitting TARSItemKNN complete - Took 7.66s\n",
      "2022-11-22 08:45:53,417 - base - recpack - INFO - Fitting TARSItemKNN complete - Took 7.77s\n",
      "2022-11-22 08:46:07,726 - base - recpack - INFO - Fitting TARSItemKNN complete - Took 7.8s\n",
      "2022-11-22 08:46:22,257 - base - recpack - INFO - Fitting TARSItemKNN complete - Took 7.76s\n",
      "2022-11-22 08:46:36,831 - base - recpack - INFO - Fitting TARSItemKNN complete - Took 7.81s\n",
      "2022-11-22 08:46:51,401 - base - recpack - INFO - Fitting TARSItemKNN complete - Took 7.86s\n",
      "2022-11-22 08:47:06,115 - base - recpack - INFO - Fitting TARSItemKNN complete - Took 7.9s\n",
      "2022-11-22 08:47:20,839 - base - recpack - INFO - Fitting TARSItemKNN complete - Took 7.84s\n",
      "2022-11-22 08:47:35,452 - base - recpack - INFO - Fitting TARSItemKNN complete - Took 7.85s\n",
      "2022-11-22 08:47:49,552 - base - recpack - INFO - Fitting TARSItemKNN complete - Took 7.67s\n",
      "2022-11-22 08:48:03,735 - base - recpack - INFO - Fitting TARSItemKNN complete - Took 7.69s\n",
      "2022-11-22 08:48:17,960 - base - recpack - INFO - Fitting TARSItemKNN complete - Took 7.76s\n",
      "2022-11-22 08:48:32,355 - base - recpack - INFO - Fitting TARSItemKNN complete - Took 7.76s\n",
      "2022-11-22 08:48:46,793 - base - recpack - INFO - Fitting TARSItemKNN complete - Took 7.76s\n",
      "2022-11-22 08:49:01,237 - base - recpack - INFO - Fitting TARSItemKNN complete - Took 7.8s\n",
      "2022-11-22 08:49:15,692 - base - recpack - INFO - Fitting TARSItemKNN complete - Took 7.81s\n",
      "2022-11-22 08:49:30,267 - base - recpack - INFO - Fitting TARSItemKNN complete - Took 7.81s\n",
      "2022-11-22 08:49:44,825 - base - recpack - INFO - Fitting TARSItemKNN complete - Took 7.86s\n",
      "2022-11-22 08:49:59,217 - base - recpack - INFO - Fitting TARSItemKNN complete - Took 7.84s\n",
      "2022-11-22 08:50:13,534 - base - recpack - INFO - Fitting TARSItemKNN complete - Took 7.83s\n",
      "2022-11-22 08:50:27,927 - base - recpack - INFO - Fitting TARSItemKNN complete - Took 7.91s\n",
      "2022-11-22 08:50:42,544 - base - recpack - INFO - Fitting TARSItemKNN complete - Took 7.91s\n",
      "2022-11-22 08:50:57,197 - base - recpack - INFO - Fitting TARSItemKNN complete - Took 7.91s\n",
      "2022-11-22 08:51:11,942 - base - recpack - INFO - Fitting TARSItemKNN complete - Took 7.95s\n",
      "2022-11-22 08:51:26,746 - base - recpack - INFO - Fitting TARSItemKNN complete - Took 7.96s\n",
      "2022-11-22 08:51:41,489 - base - recpack - INFO - Fitting TARSItemKNN complete - Took 7.97s\n",
      "2022-11-22 08:51:56,336 - base - recpack - INFO - Fitting TARSItemKNN complete - Took 7.99s\n",
      "2022-11-22 08:52:10,828 - base - recpack - INFO - Fitting TARSItemKNN complete - Took 7.99s\n",
      "2022-11-22 08:52:25,442 - base - recpack - INFO - Fitting TARSItemKNN complete - Took 8.0s\n",
      "2022-11-22 08:52:40,166 - base - recpack - INFO - Fitting TARSItemKNN complete - Took 8.12s\n",
      "2022-11-22 08:52:55,135 - base - recpack - INFO - Fitting TARSItemKNN complete - Took 8.12s\n",
      "2022-11-22 08:53:10,192 - base - recpack - INFO - Fitting TARSItemKNN complete - Took 8.13s\n",
      "2022-11-22 08:53:25,229 - base - recpack - INFO - Fitting TARSItemKNN complete - Took 8.13s\n",
      "2022-11-22 08:53:40,222 - base - recpack - INFO - Fitting TARSItemKNN complete - Took 8.13s\n",
      "2022-11-22 08:53:55,480 - base - recpack - INFO - Fitting TARSItemKNN complete - Took 8.3s\n",
      "2022-11-22 08:54:10,564 - base - recpack - INFO - Fitting TARSItemKNN complete - Took 8.15s\n",
      "2022-11-22 08:54:25,799 - base - recpack - INFO - Fitting TARSItemKNN complete - Took 8.18s\n",
      "2022-11-22 08:54:40,980 - base - recpack - INFO - Fitting TARSItemKNN complete - Took 8.36s\n",
      "2022-11-22 08:54:55,965 - base - recpack - INFO - Fitting TARSItemKNN complete - Took 8.17s\n",
      "2022-11-22 08:55:10,940 - base - recpack - INFO - Fitting TARSItemKNN complete - Took 8.15s\n",
      "2022-11-22 08:55:25,892 - base - recpack - INFO - Fitting TARSItemKNN complete - Took 8.13s\n",
      "2022-11-22 08:55:41,135 - base - recpack - INFO - Fitting TARSItemKNN complete - Took 8.4s\n",
      "2022-11-22 08:55:57,054 - base - recpack - INFO - Fitting TARSItemKNN complete - Took 8.39s\n",
      "2022-11-22 08:56:12,273 - base - recpack - INFO - Fitting TARSItemKNN complete - Took 8.26s\n",
      "2022-11-22 08:56:27,507 - base - recpack - INFO - Fitting TARSItemKNN complete - Took 8.27s\n",
      "2022-11-22 08:56:42,578 - base - recpack - INFO - Fitting TARSItemKNN complete - Took 8.3s\n",
      "2022-11-22 08:56:57,517 - base - recpack - INFO - Fitting TARSItemKNN complete - Took 8.28s\n",
      "2022-11-22 08:57:12,657 - base - recpack - INFO - Fitting TARSItemKNN complete - Took 8.37s\n",
      "2022-11-22 08:57:28,020 - base - recpack - INFO - Fitting TARSItemKNN complete - Took 8.38s\n",
      "2022-11-22 08:57:43,486 - base - recpack - INFO - Fitting TARSItemKNN complete - Took 8.44s\n",
      "2022-11-22 08:57:59,094 - base - recpack - INFO - Fitting TARSItemKNN complete - Took 8.53s\n",
      "2022-11-22 08:58:14,706 - base - recpack - INFO - Fitting TARSItemKNN complete - Took 8.41s\n",
      "2022-11-22 08:58:30,510 - base - recpack - INFO - Fitting TARSItemKNN complete - Took 8.49s\n",
      "2022-11-22 08:58:46,089 - base - recpack - INFO - Fitting TARSItemKNN complete - Took 8.43s\n",
      "2022-11-22 08:59:01,343 - base - recpack - INFO - Fitting TARSItemKNN complete - Took 8.46s\n",
      "2022-11-22 08:59:16,959 - base - recpack - INFO - Fitting TARSItemKNN complete - Took 8.64s\n",
      "2022-11-22 08:59:32,708 - base - recpack - INFO - Fitting TARSItemKNN complete - Took 8.7s\n",
      "2022-11-22 08:59:48,721 - base - recpack - INFO - Fitting TARSItemKNN complete - Took 8.6s\n",
      "2022-11-22 09:00:04,579 - base - recpack - INFO - Fitting TARSItemKNN complete - Took 8.62s\n",
      "2022-11-22 09:00:20,648 - base - recpack - INFO - Fitting TARSItemKNN complete - Took 8.61s\n",
      "2022-11-22 09:00:36,664 - base - recpack - INFO - Fitting TARSItemKNN complete - Took 8.71s\n",
      "2022-11-22 09:00:52,685 - base - recpack - INFO - Fitting TARSItemKNN complete - Took 8.68s\n",
      "2022-11-22 09:01:08,729 - base - recpack - INFO - Fitting TARSItemKNN complete - Took 8.61s\n",
      "2022-11-22 09:01:24,351 - base - recpack - INFO - Fitting TARSItemKNN complete - Took 8.65s\n",
      "2022-11-22 09:01:39,995 - base - recpack - INFO - Fitting TARSItemKNN complete - Took 8.72s\n",
      "2022-11-22 09:01:56,393 - base - recpack - INFO - Fitting TARSItemKNN complete - Took 9.01s\n",
      "2022-11-22 09:02:13,113 - base - recpack - INFO - Fitting TARSItemKNN complete - Took 8.76s\n",
      "2022-11-22 09:02:29,189 - base - recpack - INFO - Fitting TARSItemKNN complete - Took 8.63s\n",
      "2022-11-22 09:02:45,121 - base - recpack - INFO - Fitting TARSItemKNN complete - Took 8.81s\n",
      "2022-11-22 09:03:01,188 - base - recpack - INFO - Fitting TARSItemKNN complete - Took 8.87s\n",
      "2022-11-22 09:03:17,169 - base - recpack - INFO - Fitting TARSItemKNN complete - Took 8.73s\n",
      "2022-11-22 09:03:34,114 - base - recpack - INFO - Fitting TARSItemKNN complete - Took 8.82s\n",
      "2022-11-22 09:03:49,866 - base - recpack - INFO - Fitting TARSItemKNN complete - Took 8.74s\n",
      "2022-11-22 09:04:05,512 - base - recpack - INFO - Fitting TARSItemKNN complete - Took 8.73s\n",
      "2022-11-22 09:04:21,182 - base - recpack - INFO - Fitting TARSItemKNN complete - Took 8.79s\n",
      "2022-11-22 09:04:37,107 - base - recpack - INFO - Fitting TARSItemKNN complete - Took 8.79s\n",
      "2022-11-22 09:04:53,005 - base - recpack - INFO - Fitting TARSItemKNN complete - Took 8.8s\n",
      "2022-11-22 09:05:09,396 - base - recpack - INFO - Fitting TARSItemKNN complete - Took 8.99s\n",
      "2022-11-22 09:05:25,559 - base - recpack - INFO - Fitting TARSItemKNN complete - Took 8.88s\n",
      "2022-11-22 09:05:41,677 - base - recpack - INFO - Fitting TARSItemKNN complete - Took 8.92s\n",
      "2022-11-22 09:05:58,029 - base - recpack - INFO - Fitting TARSItemKNN complete - Took 8.89s\n",
      "2022-11-22 09:06:14,227 - base - recpack - INFO - Fitting TARSItemKNN complete - Took 8.87s\n",
      "2022-11-22 09:06:30,127 - base - recpack - INFO - Fitting TARSItemKNN complete - Took 8.87s\n",
      "2022-11-22 09:06:46,431 - base - recpack - INFO - Fitting TARSItemKNN complete - Took 9.22s\n",
      "2022-11-22 09:07:03,235 - base - recpack - INFO - Fitting TARSItemKNN complete - Took 9.02s\n",
      "2022-11-22 09:07:19,650 - base - recpack - INFO - Fitting TARSItemKNN complete - Took 8.92s\n",
      "2022-11-22 09:07:36,046 - base - recpack - INFO - Fitting TARSItemKNN complete - Took 9.12s\n",
      "2022-11-22 09:07:52,776 - base - recpack - INFO - Fitting TARSItemKNN complete - Took 9.1s\n",
      "2022-11-22 09:08:09,590 - base - recpack - INFO - Fitting TARSItemKNN complete - Took 9.07s\n",
      "2022-11-22 09:08:26,821 - base - recpack - INFO - Fitting TARSItemKNN complete - Took 9.12s\n",
      "2022-11-22 09:08:43,375 - base - recpack - INFO - Fitting TARSItemKNN complete - Took 9.2s\n",
      "2022-11-22 09:08:59,554 - base - recpack - INFO - Fitting TARSItemKNN complete - Took 9.09s\n",
      "2022-11-22 09:09:15,981 - base - recpack - INFO - Fitting TARSItemKNN complete - Took 9.19s\n",
      "2022-11-22 09:09:32,736 - base - recpack - INFO - Fitting TARSItemKNN complete - Took 9.2s\n",
      "2022-11-22 09:09:49,489 - base - recpack - INFO - Fitting TARSItemKNN complete - Took 9.2s\n",
      "2022-11-22 09:10:06,462 - base - recpack - INFO - Fitting TARSItemKNN complete - Took 9.28s\n",
      "2022-11-22 09:10:23,779 - base - recpack - INFO - Fitting TARSItemKNN complete - Took 9.28s\n",
      "2022-11-22 09:10:40,506 - base - recpack - INFO - Fitting TARSItemKNN complete - Took 9.26s\n",
      "2022-11-22 09:10:56,711 - base - recpack - INFO - Fitting TARSItemKNN complete - Took 8.72s\n"
     ]
    }
   ],
   "source": [
    "import warnings\n",
    "from scipy.sparse import SparseEfficiencyWarning\n",
    "warnings.simplefilter(\"ignore\", UserWarning)\n",
    "warnings.simplefilter(\"ignore\", SparseEfficiencyWarning)\n",
    "\n",
    "pipeline = builder.build()\n",
    "pipeline.run()"
   ]
  },
  {
   "cell_type": "code",
   "execution_count": 9,
   "metadata": {},
   "outputs": [
    {
     "data": {
      "text/html": [
       "<div>\n",
       "<style scoped>\n",
       "    .dataframe tbody tr th:only-of-type {\n",
       "        vertical-align: middle;\n",
       "    }\n",
       "\n",
       "    .dataframe tbody tr th {\n",
       "        vertical-align: top;\n",
       "    }\n",
       "\n",
       "    .dataframe thead th {\n",
       "        text-align: right;\n",
       "    }\n",
       "</style>\n",
       "<table border=\"1\" class=\"dataframe\">\n",
       "  <thead>\n",
       "    <tr style=\"text-align: right;\">\n",
       "      <th></th>\n",
       "      <th>identifier</th>\n",
       "      <th>params</th>\n",
       "      <th>recallk_12</th>\n",
       "    </tr>\n",
       "  </thead>\n",
       "  <tbody>\n",
       "    <tr>\n",
       "      <th>0</th>\n",
       "      <td>ItemKNN(K=50,normalize_X=True,normalize_sim=Tr...</td>\n",
       "      <td>{'K': 50, 'normalize_X': True, 'normalize_sim'...</td>\n",
       "      <td>0.015098</td>\n",
       "    </tr>\n",
       "    <tr>\n",
       "      <th>1</th>\n",
       "      <td>ItemKNN(K=50,normalize_X=False,normalize_sim=T...</td>\n",
       "      <td>{'K': 50, 'normalize_X': False, 'normalize_sim...</td>\n",
       "      <td>0.022547</td>\n",
       "    </tr>\n",
       "    <tr>\n",
       "      <th>2</th>\n",
       "      <td>ItemKNN(K=60,normalize_X=True,normalize_sim=Tr...</td>\n",
       "      <td>{'K': 60, 'normalize_X': True, 'normalize_sim'...</td>\n",
       "      <td>0.015055</td>\n",
       "    </tr>\n",
       "    <tr>\n",
       "      <th>3</th>\n",
       "      <td>ItemKNN(K=60,normalize_X=False,normalize_sim=T...</td>\n",
       "      <td>{'K': 60, 'normalize_X': False, 'normalize_sim...</td>\n",
       "      <td>0.022636</td>\n",
       "    </tr>\n",
       "    <tr>\n",
       "      <th>4</th>\n",
       "      <td>ItemKNN(K=70,normalize_X=True,normalize_sim=Tr...</td>\n",
       "      <td>{'K': 70, 'normalize_X': True, 'normalize_sim'...</td>\n",
       "      <td>0.014897</td>\n",
       "    </tr>\n",
       "    <tr>\n",
       "      <th>...</th>\n",
       "      <td>...</td>\n",
       "      <td>...</td>\n",
       "      <td>...</td>\n",
       "    </tr>\n",
       "    <tr>\n",
       "      <th>114</th>\n",
       "      <td>TARSItemKNN(K=670,fit_decay=0.2,predict_decay=...</td>\n",
       "      <td>{'K': 670, 'fit_decay': 0.2, 'predict_decay': ...</td>\n",
       "      <td>0.024195</td>\n",
       "    </tr>\n",
       "    <tr>\n",
       "      <th>115</th>\n",
       "      <td>TARSItemKNN(K=670,fit_decay=0.2,predict_decay=...</td>\n",
       "      <td>{'K': 670, 'fit_decay': 0.2, 'predict_decay': ...</td>\n",
       "      <td>0.023652</td>\n",
       "    </tr>\n",
       "    <tr>\n",
       "      <th>116</th>\n",
       "      <td>TARSItemKNN(K=670,fit_decay=0.1,predict_decay=...</td>\n",
       "      <td>{'K': 670, 'fit_decay': 0.1, 'predict_decay': ...</td>\n",
       "      <td>0.025925</td>\n",
       "    </tr>\n",
       "    <tr>\n",
       "      <th>117</th>\n",
       "      <td>TARSItemKNN(K=670,fit_decay=0.1,predict_decay=...</td>\n",
       "      <td>{'K': 670, 'fit_decay': 0.1, 'predict_decay': ...</td>\n",
       "      <td>0.025667</td>\n",
       "    </tr>\n",
       "    <tr>\n",
       "      <th>118</th>\n",
       "      <td>TARSItemKNN(K=670,fit_decay=0.1,predict_decay=...</td>\n",
       "      <td>{'K': 670, 'fit_decay': 0.1, 'predict_decay': ...</td>\n",
       "      <td>0.024689</td>\n",
       "    </tr>\n",
       "  </tbody>\n",
       "</table>\n",
       "<p>119 rows × 3 columns</p>\n",
       "</div>"
      ],
      "text/plain": [
       "                                            identifier  \\\n",
       "0    ItemKNN(K=50,normalize_X=True,normalize_sim=Tr...   \n",
       "1    ItemKNN(K=50,normalize_X=False,normalize_sim=T...   \n",
       "2    ItemKNN(K=60,normalize_X=True,normalize_sim=Tr...   \n",
       "3    ItemKNN(K=60,normalize_X=False,normalize_sim=T...   \n",
       "4    ItemKNN(K=70,normalize_X=True,normalize_sim=Tr...   \n",
       "..                                                 ...   \n",
       "114  TARSItemKNN(K=670,fit_decay=0.2,predict_decay=...   \n",
       "115  TARSItemKNN(K=670,fit_decay=0.2,predict_decay=...   \n",
       "116  TARSItemKNN(K=670,fit_decay=0.1,predict_decay=...   \n",
       "117  TARSItemKNN(K=670,fit_decay=0.1,predict_decay=...   \n",
       "118  TARSItemKNN(K=670,fit_decay=0.1,predict_decay=...   \n",
       "\n",
       "                                                params  recallk_12  \n",
       "0    {'K': 50, 'normalize_X': True, 'normalize_sim'...    0.015098  \n",
       "1    {'K': 50, 'normalize_X': False, 'normalize_sim...    0.022547  \n",
       "2    {'K': 60, 'normalize_X': True, 'normalize_sim'...    0.015055  \n",
       "3    {'K': 60, 'normalize_X': False, 'normalize_sim...    0.022636  \n",
       "4    {'K': 70, 'normalize_X': True, 'normalize_sim'...    0.014897  \n",
       "..                                                 ...         ...  \n",
       "114  {'K': 670, 'fit_decay': 0.2, 'predict_decay': ...    0.024195  \n",
       "115  {'K': 670, 'fit_decay': 0.2, 'predict_decay': ...    0.023652  \n",
       "116  {'K': 670, 'fit_decay': 0.1, 'predict_decay': ...    0.025925  \n",
       "117  {'K': 670, 'fit_decay': 0.1, 'predict_decay': ...    0.025667  \n",
       "118  {'K': 670, 'fit_decay': 0.1, 'predict_decay': ...    0.024689  \n",
       "\n",
       "[119 rows x 3 columns]"
      ]
     },
     "execution_count": 9,
     "metadata": {},
     "output_type": "execute_result"
    }
   ],
   "source": [
    "pipeline.optimisation_results"
   ]
  },
  {
   "cell_type": "code",
   "execution_count": 10,
   "metadata": {},
   "outputs": [
    {
     "data": {
      "text/html": [
       "<div>\n",
       "<style scoped>\n",
       "    .dataframe tbody tr th:only-of-type {\n",
       "        vertical-align: middle;\n",
       "    }\n",
       "\n",
       "    .dataframe tbody tr th {\n",
       "        vertical-align: top;\n",
       "    }\n",
       "\n",
       "    .dataframe thead th {\n",
       "        text-align: right;\n",
       "    }\n",
       "</style>\n",
       "<table border=\"1\" class=\"dataframe\">\n",
       "  <thead>\n",
       "    <tr style=\"text-align: right;\">\n",
       "      <th></th>\n",
       "      <th>precisionk_12</th>\n",
       "      <th>precisionk_20</th>\n",
       "      <th>precisionk_30</th>\n",
       "      <th>precisionk_40</th>\n",
       "      <th>recallk_12</th>\n",
       "      <th>recallk_20</th>\n",
       "      <th>recallk_30</th>\n",
       "      <th>recallk_40</th>\n",
       "    </tr>\n",
       "  </thead>\n",
       "  <tbody>\n",
       "    <tr>\n",
       "      <th>ItemKNN(K=90,normalize_X=False,normalize_sim=True,pop_discount=None,similarity=cosine)</th>\n",
       "      <td>0.007474</td>\n",
       "      <td>0.006124</td>\n",
       "      <td>0.005108</td>\n",
       "      <td>0.004458</td>\n",
       "      <td>0.024356</td>\n",
       "      <td>0.033519</td>\n",
       "      <td>0.040821</td>\n",
       "      <td>0.047116</td>\n",
       "    </tr>\n",
       "    <tr>\n",
       "      <th>TARSItemKNN(K=580,fit_decay=0.1,predict_decay=0.3333333333333333,similarity=cosine)</th>\n",
       "      <td>0.008380</td>\n",
       "      <td>0.006710</td>\n",
       "      <td>0.005677</td>\n",
       "      <td>0.005007</td>\n",
       "      <td>0.028117</td>\n",
       "      <td>0.036982</td>\n",
       "      <td>0.045927</td>\n",
       "      <td>0.053186</td>\n",
       "    </tr>\n",
       "  </tbody>\n",
       "</table>\n",
       "</div>"
      ],
      "text/plain": [
       "                                                    precisionk_12  \\\n",
       "ItemKNN(K=90,normalize_X=False,normalize_sim=Tr...       0.007474   \n",
       "TARSItemKNN(K=580,fit_decay=0.1,predict_decay=0...       0.008380   \n",
       "\n",
       "                                                    precisionk_20  \\\n",
       "ItemKNN(K=90,normalize_X=False,normalize_sim=Tr...       0.006124   \n",
       "TARSItemKNN(K=580,fit_decay=0.1,predict_decay=0...       0.006710   \n",
       "\n",
       "                                                    precisionk_30  \\\n",
       "ItemKNN(K=90,normalize_X=False,normalize_sim=Tr...       0.005108   \n",
       "TARSItemKNN(K=580,fit_decay=0.1,predict_decay=0...       0.005677   \n",
       "\n",
       "                                                    precisionk_40  recallk_12  \\\n",
       "ItemKNN(K=90,normalize_X=False,normalize_sim=Tr...       0.004458    0.024356   \n",
       "TARSItemKNN(K=580,fit_decay=0.1,predict_decay=0...       0.005007    0.028117   \n",
       "\n",
       "                                                    recallk_20  recallk_30  \\\n",
       "ItemKNN(K=90,normalize_X=False,normalize_sim=Tr...    0.033519    0.040821   \n",
       "TARSItemKNN(K=580,fit_decay=0.1,predict_decay=0...    0.036982    0.045927   \n",
       "\n",
       "                                                    recallk_40  \n",
       "ItemKNN(K=90,normalize_X=False,normalize_sim=Tr...    0.047116  \n",
       "TARSItemKNN(K=580,fit_decay=0.1,predict_decay=0...    0.053186  "
      ]
     },
     "execution_count": 10,
     "metadata": {},
     "output_type": "execute_result"
    }
   ],
   "source": [
    "pipeline.get_metrics()"
   ]
  }
 ],
 "metadata": {
  "kernelspec": {
   "display_name": "Python 3 (ipykernel)",
   "language": "python",
   "name": "python3"
  },
  "language_info": {
   "codemirror_mode": {
    "name": "ipython",
    "version": 3
   },
   "file_extension": ".py",
   "mimetype": "text/x-python",
   "name": "python",
   "nbconvert_exporter": "python",
   "pygments_lexer": "ipython3",
   "version": "3.10.8"
  },
  "orig_nbformat": 4,
  "vscode": {
   "interpreter": {
    "hash": "cb76f6fb9cefb4ce395c63b53ca0fc61c280bfa44c4aea4ac470b086d5108ff0"
   }
  }
 },
 "nbformat": 4,
 "nbformat_minor": 2
}
