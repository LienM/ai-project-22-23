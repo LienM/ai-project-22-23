{
 "cells": [
  {
   "cell_type": "code",
   "execution_count": 1,
   "id": "5687e28c",
   "metadata": {},
   "outputs": [],
   "source": [
    "import pandas as pd\n",
    "import numpy as np\n",
    "from scipy.sparse import csr_matrix\n",
    "from recpack.preprocessing.preprocessors import DataFramePreprocessor\n",
    "from recpack.preprocessing.filters import MinItemsPerUser, MinUsersPerItem\n",
    "from recpack.algorithms import ItemKNN, TARSItemKNN, Popularity\n",
    "from recpack.matrix import InteractionMatrix\n",
    "\n",
    "# import utils file from previous lecture\n",
    "import sys\n",
    "sys.path.append('../lecture4')\n",
    "from utils import DATA_PATH\n",
    "from evaluation import apk"
   ]
  },
  {
   "cell_type": "code",
   "execution_count": 2,
   "id": "13fc4a82",
   "metadata": {},
   "outputs": [],
   "source": [
    "transactions = pd.read_parquet(f'{DATA_PATH}/transactions_train.parquet')\n",
    "# customers = pd.read_parquet(f'{DATA_PATH}/customers.parquet')\n",
    "# articles = pd.read_parquet(f'{DATA_PATH}/articles.parquet')"
   ]
  },
  {
   "cell_type": "code",
   "execution_count": 3,
   "id": "36a4cad3",
   "metadata": {},
   "outputs": [],
   "source": [
    "test_week = transactions.week.max()\n",
    "transactions = transactions[transactions.week != transactions.week.max()]\n",
    "transactions = transactions[transactions.week > transactions.week.max() - 20]"
   ]
  },
  {
   "cell_type": "markdown",
   "id": "ccb2c0f2",
   "metadata": {},
   "source": [
    "# Preprocessing + set up scenario"
   ]
  },
  {
   "cell_type": "code",
   "execution_count": 4,
   "id": "79fb8fe7",
   "metadata": {},
   "outputs": [
    {
     "data": {
      "application/vnd.jupyter.widget-view+json": {
       "model_id": "c8eba583eb8c4ff0ac3fc3630335f878",
       "version_major": 2,
       "version_minor": 0
      },
      "text/plain": [
       "  0%|          | 0/2204063 [00:00<?, ?it/s]"
      ]
     },
     "metadata": {},
     "output_type": "display_data"
    },
    {
     "data": {
      "application/vnd.jupyter.widget-view+json": {
       "model_id": "fb4a82da9ae349629c183310770d1aa7",
       "version_major": 2,
       "version_minor": 0
      },
      "text/plain": [
       "  0%|          | 0/2204063 [00:00<?, ?it/s]"
      ]
     },
     "metadata": {},
     "output_type": "display_data"
    }
   ],
   "source": [
    "proc = DataFramePreprocessor(item_ix='article_id', user_ix='customer_id', timestamp_ix='week')\n",
    "proc.add_filter(MinUsersPerItem(20, item_ix='article_id', user_ix='customer_id'))\n",
    "proc.add_filter(MinItemsPerUser(20, item_ix='article_id', user_ix='customer_id'))\n",
    "\n",
    "interaction_matrix = proc.process(transactions)"
   ]
  },
  {
   "cell_type": "markdown",
   "id": "56263b7a",
   "metadata": {},
   "source": [
    "# Generating baseline"
   ]
  },
  {
   "cell_type": "markdown",
   "id": "7cc48ce0",
   "metadata": {},
   "source": [
    "### Most popular articles"
   ]
  },
  {
   "cell_type": "code",
   "execution_count": 5,
   "id": "39ecb725",
   "metadata": {},
   "outputs": [
    {
     "name": "stdout",
     "output_type": "stream",
     "text": [
      "2022-11-22 11:38:04,352 - base - recpack - INFO - Fitting Popularity complete - Took 0.236s\n"
     ]
    }
   ],
   "source": [
    "popularity = Popularity(K=12)\n",
    "popularity.fit(interaction_matrix)\n",
    "popular_item_ids = [id for id, _ in popularity.sorted_scores_[:12]]"
   ]
  },
  {
   "cell_type": "code",
   "execution_count": 6,
   "id": "f97929bb",
   "metadata": {},
   "outputs": [],
   "source": [
    "# map popular_item_ids to article ids\n",
    "popular_article_ids = [interaction_matrix._df[interaction_matrix._df['iid'] == pop_iid]['article_id'].values[0] for pop_iid in popular_item_ids]"
   ]
  },
  {
   "cell_type": "markdown",
   "id": "7921aea7",
   "metadata": {},
   "source": [
    "# Item similarity"
   ]
  },
  {
   "cell_type": "markdown",
   "id": "d11d81c1",
   "metadata": {},
   "source": [
    "#### helpers"
   ]
  },
  {
   "cell_type": "code",
   "execution_count": 7,
   "id": "600e23a9",
   "metadata": {},
   "outputs": [],
   "source": [
    "def top_n_idx_sparse(matrix: csr_matrix, n: int) -> list[list]:\n",
    "    \"\"\"Return index of top n values in each row of a sparse matrix.\n",
    "    source: https://stackoverflow.com/questions/49207275/finding-the-top-n-values-in-a-row-of-a-scipy-sparse-matrix\n",
    "    \"\"\"\n",
    "    top_n_idx = []\n",
    "    for le, ri in zip(matrix.indptr[:-1], matrix.indptr[1:]):\n",
    "        n_row_pick = min(n, ri - le)\n",
    "        top_n_idx.append(matrix.indices[le + np.argpartition(matrix.data[le:ri], -n_row_pick)[-n_row_pick:]].tolist())\n",
    "    return top_n_idx\n",
    "\n",
    "def get_top_k_similar_articles_per_user(prediction_matrix: csr_matrix, interaction_matrix: InteractionMatrix, k: int) -> pd.DataFrame:\n",
    "    \"\"\"given a prediction matrix and a transaction matrix, return a dataframe with the top k similar articles per user\n",
    "    \"\"\"\n",
    "    # use interaction_matrix._df to map back to original customer and article ids\n",
    "    uid_cid_map = interaction_matrix._df[[\"uid\", \"customer_id\"]].drop_duplicates().set_index(\"uid\").to_dict()[\"customer_id\"]\n",
    "    iid_aid_map = interaction_matrix._df[[\"iid\", \"article_id\"]].drop_duplicates().set_index(\"iid\").to_dict()[\"article_id\"]\n",
    "\n",
    "    # get column indices of top k articles per user\n",
    "    top_k_idx = top_n_idx_sparse(prediction_matrix, k)\n",
    "\n",
    "    similar_customers = []\n",
    "    similar_articles = []\n",
    "\n",
    "    for i, row in enumerate(top_k_idx):\n",
    "        user_predictions = [iid_aid_map[iid] for iid in row]\n",
    "        similar_customers.extend([uid_cid_map[i]] * len(user_predictions))\n",
    "        similar_articles.extend(user_predictions)\n",
    "        \n",
    "    assert len(similar_customers) == len(similar_articles), \"lengths of lists should be equal\"\n",
    "    return pd.DataFrame({\"customer_id\": similar_customers, \"article_id\": similar_articles})"
   ]
  },
  {
   "cell_type": "markdown",
   "id": "764d5533",
   "metadata": {},
   "source": [
    "### ItemKNN"
   ]
  },
  {
   "cell_type": "code",
   "execution_count": 8,
   "id": "65faab2f",
   "metadata": {},
   "outputs": [
    {
     "name": "stdout",
     "output_type": "stream",
     "text": [
      "2022-11-22 11:38:07,032 - base - recpack - INFO - Fitting ItemKNN complete - Took 2.59s\n"
     ]
    }
   ],
   "source": [
    "knn = ItemKNN(K=80, normalize_X=False, normalize_sim=True, similarity='cosine')\n",
    "knn.fit(interaction_matrix)\n",
    "prediction_matrix_knn = knn.predict(interaction_matrix)"
   ]
  },
  {
   "cell_type": "code",
   "execution_count": 9,
   "id": "9278b398",
   "metadata": {},
   "outputs": [],
   "source": [
    "similarity_recommendations_knn = get_top_k_similar_articles_per_user(prediction_matrix_knn, interaction_matrix, k=12)"
   ]
  },
  {
   "cell_type": "markdown",
   "id": "39dc1054",
   "metadata": {},
   "source": [
    "### TARSItemKNN"
   ]
  },
  {
   "cell_type": "code",
   "execution_count": 10,
   "id": "7d83ba6d",
   "metadata": {},
   "outputs": [
    {
     "name": "stdout",
     "output_type": "stream",
     "text": [
      "2022-11-22 11:38:36,194 - base - recpack - INFO - Fitting TARSItemKNN complete - Took 21.6s\n"
     ]
    }
   ],
   "source": [
    "tknn = TARSItemKNN(K=720, fit_decay=0.05, predict_decay=1/3, similarity='cosine')\n",
    "tknn.fit(interaction_matrix)\n",
    "prediction_matrix_tknn = tknn.predict(interaction_matrix)"
   ]
  },
  {
   "cell_type": "code",
   "execution_count": 11,
   "id": "0ee91504",
   "metadata": {},
   "outputs": [],
   "source": [
    "similarity_recommendations_tknn = get_top_k_similar_articles_per_user(prediction_matrix_tknn, interaction_matrix, k=12)"
   ]
  },
  {
   "cell_type": "markdown",
   "id": "abb34139",
   "metadata": {},
   "source": [
    "# Calculate predictions"
   ]
  },
  {
   "cell_type": "code",
   "execution_count": 12,
   "id": "823f8bc0",
   "metadata": {},
   "outputs": [],
   "source": [
    "c_id2predicted_article_ids_knn = similarity_recommendations_knn.groupby('customer_id')['article_id'].apply(list).to_dict()\n",
    "c_id2predicted_article_ids_tknn = similarity_recommendations_tknn.groupby('customer_id')['article_id'].apply(list).to_dict()"
   ]
  },
  {
   "cell_type": "markdown",
   "id": "dd686e54",
   "metadata": {},
   "source": [
    "# Evaluate results"
   ]
  },
  {
   "cell_type": "code",
   "execution_count": 13,
   "id": "66b8f89a",
   "metadata": {},
   "outputs": [],
   "source": [
    "val_week_purchases_by_cust = pd.read_pickle(f'{DATA_PATH}/val_week_purchases_by_cust.pkl')"
   ]
  },
  {
   "cell_type": "markdown",
   "id": "6b2e827e",
   "metadata": {},
   "source": [
    "### Popular items only"
   ]
  },
  {
   "cell_type": "code",
   "execution_count": 14,
   "id": "54c1d507",
   "metadata": {},
   "outputs": [
    {
     "data": {
      "text/plain": [
       "0.0017595673731281495"
      ]
     },
     "execution_count": 14,
     "metadata": {},
     "output_type": "execute_result"
    }
   ],
   "source": [
    "apks = []\n",
    "\n",
    "for c_id, gt in val_week_purchases_by_cust.items():\n",
    "    pred = popular_article_ids\n",
    "    apks.append(apk(gt, pred[:12]))\n",
    "\n",
    "np.mean(apks)"
   ]
  },
  {
   "cell_type": "markdown",
   "id": "6b2e827e",
   "metadata": {},
   "source": [
    "### ItemKNN filled by popular items"
   ]
  },
  {
   "cell_type": "code",
   "execution_count": 15,
   "id": "54c1d507",
   "metadata": {},
   "outputs": [
    {
     "data": {
      "text/plain": [
       "0.0023098116121576797"
      ]
     },
     "execution_count": 15,
     "metadata": {},
     "output_type": "execute_result"
    }
   ],
   "source": [
    "apks = []\n",
    "\n",
    "for c_id, gt in val_week_purchases_by_cust.items():\n",
    "    pred = c_id2predicted_article_ids_knn.get(c_id, [])\n",
    "    pred = pred + popular_article_ids\n",
    "    apks.append(apk(gt, pred[:12]))\n",
    "\n",
    "np.mean(apks)"
   ]
  },
  {
   "cell_type": "markdown",
   "id": "6b2e827e",
   "metadata": {},
   "source": [
    "### TARSItemKNN filled by popular items"
   ]
  },
  {
   "cell_type": "code",
   "execution_count": 16,
   "id": "54c1d507",
   "metadata": {},
   "outputs": [
    {
     "data": {
      "text/plain": [
       "0.003283552859668022"
      ]
     },
     "execution_count": 16,
     "metadata": {},
     "output_type": "execute_result"
    }
   ],
   "source": [
    "apks = []\n",
    "\n",
    "for c_id, gt in val_week_purchases_by_cust.items():\n",
    "    pred = c_id2predicted_article_ids_tknn.get(c_id, [])\n",
    "    pred = pred + popular_article_ids\n",
    "    apks.append(apk(gt, pred[:12]))\n",
    "\n",
    "np.mean(apks)"
   ]
  }
 ],
 "metadata": {
  "kernelspec": {
   "display_name": "Python 3.10.8 ('venv': venv)",
   "language": "python",
   "name": "python3"
  },
  "language_info": {
   "codemirror_mode": {
    "name": "ipython",
    "version": 3
   },
   "file_extension": ".py",
   "mimetype": "text/x-python",
   "name": "python",
   "nbconvert_exporter": "python",
   "pygments_lexer": "ipython3",
   "version": "3.10.8"
  },
  "vscode": {
   "interpreter": {
    "hash": "cb76f6fb9cefb4ce395c63b53ca0fc61c280bfa44c4aea4ac470b086d5108ff0"
   }
  }
 },
 "nbformat": 4,
 "nbformat_minor": 5
}
