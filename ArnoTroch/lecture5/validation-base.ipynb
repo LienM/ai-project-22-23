{
 "cells": [
  {
   "cell_type": "code",
   "execution_count": 1,
   "id": "5687e28c",
   "metadata": {},
   "outputs": [],
   "source": [
    "import pandas as pd\n",
    "import numpy as np\n",
    "# import utils file from previous lecture\n",
    "import sys\n",
    "sys.path.append('../lecture4')\n",
    "from utils import DATA_PATH\n",
    "from evaluation import apk\n",
    "\n",
    "# This file builds on the code in https://github.com/radekosmulski/personalized_fashion_recs/blob/main/03a_Basic_Model_Local_Validation.ipynb"
   ]
  },
  {
   "cell_type": "code",
   "execution_count": 2,
   "id": "13fc4a82",
   "metadata": {},
   "outputs": [],
   "source": [
    "transactions = pd.read_parquet(f'{DATA_PATH}/transactions_train.parquet')\n",
    "customers = pd.read_parquet(f'{DATA_PATH}/customers.parquet')\n",
    "articles = pd.read_parquet(f'{DATA_PATH}/articles.parquet')"
   ]
  },
  {
   "cell_type": "code",
   "execution_count": 3,
   "id": "36a4cad3",
   "metadata": {},
   "outputs": [],
   "source": [
    "test_week = transactions.week.max()\n",
    "transactions = transactions[transactions.week != transactions.week.max()]\n",
    "transactions = transactions[transactions.week > transactions.week.max() - 10]"
   ]
  },
  {
   "cell_type": "markdown",
   "id": "56263b7a",
   "metadata": {},
   "source": [
    "# Generating candidates"
   ]
  },
  {
   "cell_type": "markdown",
   "id": "dbd43fcd",
   "metadata": {},
   "source": [
    "### Last purchase candidates"
   ]
  },
  {
   "cell_type": "code",
   "execution_count": 4,
   "id": "ca3b5729",
   "metadata": {},
   "outputs": [
    {
     "name": "stdout",
     "output_type": "stream",
     "text": [
      "CPU times: user 7.93 s, sys: 93.7 ms, total: 8.02 s\n",
      "Wall time: 8 s\n"
     ]
    }
   ],
   "source": [
    "%%time\n",
    "\n",
    "c2weeks = transactions.groupby('customer_id')['week'].unique()"
   ]
  },
  {
   "cell_type": "code",
   "execution_count": 5,
   "id": "c7fadf05",
   "metadata": {},
   "outputs": [
    {
     "name": "stdout",
     "output_type": "stream",
     "text": [
      "CPU times: user 270 ms, sys: 24.8 ms, total: 295 ms\n",
      "Wall time: 297 ms\n"
     ]
    }
   ],
   "source": [
    "%%time\n",
    "\n",
    "c2weeks2shifted_weeks = {}\n",
    "\n",
    "for c_id, weeks in c2weeks.items():\n",
    "    c2weeks2shifted_weeks[c_id] = {}\n",
    "    for i in range(weeks.shape[0]-1):\n",
    "        c2weeks2shifted_weeks[c_id][weeks[i]] = weeks[i+1]\n",
    "    c2weeks2shifted_weeks[c_id][weeks[-1]] = test_week"
   ]
  },
  {
   "cell_type": "code",
   "execution_count": 6,
   "id": "ba2972df",
   "metadata": {},
   "outputs": [],
   "source": [
    "candidates_last_purchase = transactions.copy()"
   ]
  },
  {
   "cell_type": "code",
   "execution_count": 7,
   "id": "b16858ca",
   "metadata": {},
   "outputs": [
    {
     "name": "stdout",
     "output_type": "stream",
     "text": [
      "CPU times: user 8.96 s, sys: 72 ms, total: 9.03 s\n",
      "Wall time: 9.03 s\n"
     ]
    }
   ],
   "source": [
    "%%time\n",
    "\n",
    "weeks = []\n",
    "for i, (c_id, week) in enumerate(zip(transactions['customer_id'], transactions['week'])):\n",
    "    weeks.append(c2weeks2shifted_weeks[c_id][week])\n",
    "    \n",
    "candidates_last_purchase.week=weeks"
   ]
  },
  {
   "cell_type": "markdown",
   "id": "4077cf9c",
   "metadata": {},
   "source": [
    "### Bestsellers candidates"
   ]
  },
  {
   "cell_type": "code",
   "execution_count": 8,
   "id": "8b794ef9",
   "metadata": {},
   "outputs": [],
   "source": [
    "mean_price = transactions \\\n",
    "    .groupby(['week', 'article_id'])['price'].mean()"
   ]
  },
  {
   "cell_type": "code",
   "execution_count": 9,
   "id": "5a8af89f",
   "metadata": {},
   "outputs": [],
   "source": [
    "sales = transactions \\\n",
    "    .groupby('week')['article_id'].value_counts() \\\n",
    "    .groupby('week').rank(method='dense', ascending=False) \\\n",
    "    .groupby('week').head(12).rename('bestseller_rank').astype('int8')"
   ]
  },
  {
   "cell_type": "code",
   "execution_count": 10,
   "id": "2493627e",
   "metadata": {},
   "outputs": [
    {
     "data": {
      "text/html": [
       "<div>\n",
       "<style scoped>\n",
       "    .dataframe tbody tr th:only-of-type {\n",
       "        vertical-align: middle;\n",
       "    }\n",
       "\n",
       "    .dataframe tbody tr th {\n",
       "        vertical-align: top;\n",
       "    }\n",
       "\n",
       "    .dataframe thead th {\n",
       "        text-align: right;\n",
       "    }\n",
       "</style>\n",
       "<table border=\"1\" class=\"dataframe\">\n",
       "  <thead>\n",
       "    <tr style=\"text-align: right;\">\n",
       "      <th></th>\n",
       "      <th>week</th>\n",
       "      <th>article_id</th>\n",
       "      <th>bestseller_rank</th>\n",
       "      <th>price</th>\n",
       "    </tr>\n",
       "  </thead>\n",
       "  <tbody>\n",
       "    <tr>\n",
       "      <th>0</th>\n",
       "      <td>95</td>\n",
       "      <td>806388001</td>\n",
       "      <td>1</td>\n",
       "      <td>0.013301</td>\n",
       "    </tr>\n",
       "    <tr>\n",
       "      <th>1</th>\n",
       "      <td>95</td>\n",
       "      <td>730683021</td>\n",
       "      <td>2</td>\n",
       "      <td>0.025643</td>\n",
       "    </tr>\n",
       "    <tr>\n",
       "      <th>2</th>\n",
       "      <td>95</td>\n",
       "      <td>610776002</td>\n",
       "      <td>3</td>\n",
       "      <td>0.008303</td>\n",
       "    </tr>\n",
       "    <tr>\n",
       "      <th>3</th>\n",
       "      <td>95</td>\n",
       "      <td>805308002</td>\n",
       "      <td>4</td>\n",
       "      <td>0.013609</td>\n",
       "    </tr>\n",
       "    <tr>\n",
       "      <th>4</th>\n",
       "      <td>95</td>\n",
       "      <td>866383006</td>\n",
       "      <td>5</td>\n",
       "      <td>0.024971</td>\n",
       "    </tr>\n",
       "  </tbody>\n",
       "</table>\n",
       "</div>"
      ],
      "text/plain": [
       "   week  article_id  bestseller_rank     price\n",
       "0    95   806388001                1  0.013301\n",
       "1    95   730683021                2  0.025643\n",
       "2    95   610776002                3  0.008303\n",
       "3    95   805308002                4  0.013609\n",
       "4    95   866383006                5  0.024971"
      ]
     },
     "execution_count": 10,
     "metadata": {},
     "output_type": "execute_result"
    }
   ],
   "source": [
    "bestsellers_previous_week = pd.merge(sales, mean_price, on=['week', 'article_id']).reset_index()\n",
    "bestsellers_previous_week.week += 1\n",
    "bestsellers_previous_week.head()"
   ]
  },
  {
   "cell_type": "code",
   "execution_count": 45,
   "id": "1e5fad4d",
   "metadata": {},
   "outputs": [],
   "source": [
    "unique_transactions = transactions \\\n",
    "    .groupby(['week', 'customer_id']) \\\n",
    "    .head(1) \\\n",
    "    .drop(columns=['article_id', 'price']) \\\n",
    "    .copy()"
   ]
  },
  {
   "cell_type": "code",
   "execution_count": 46,
   "id": "9fd13379",
   "metadata": {},
   "outputs": [],
   "source": [
    "candidates_bestsellers = pd.merge(\n",
    "    unique_transactions,\n",
    "    bestsellers_previous_week,\n",
    "    on='week',\n",
    ")"
   ]
  },
  {
   "cell_type": "code",
   "execution_count": 47,
   "id": "22bba3fb",
   "metadata": {},
   "outputs": [],
   "source": [
    "test_set_transactions = unique_transactions.drop_duplicates('customer_id').reset_index(drop=True)\n",
    "test_set_transactions.week = test_week"
   ]
  },
  {
   "cell_type": "code",
   "execution_count": 48,
   "id": "7c201014",
   "metadata": {},
   "outputs": [],
   "source": [
    "candidates_bestsellers_test_week = pd.merge(\n",
    "    test_set_transactions,\n",
    "    bestsellers_previous_week,\n",
    "    on='week'\n",
    ")"
   ]
  },
  {
   "cell_type": "code",
   "execution_count": 49,
   "id": "06c37a38",
   "metadata": {},
   "outputs": [],
   "source": [
    "candidates_bestsellers = pd.concat([candidates_bestsellers, candidates_bestsellers_test_week])\n",
    "candidates_bestsellers.drop(columns='bestseller_rank', inplace=True)"
   ]
  },
  {
   "cell_type": "markdown",
   "id": "22588375",
   "metadata": {},
   "source": [
    "# Combining transactions and candidates / negative examples"
   ]
  },
  {
   "cell_type": "code",
   "execution_count": 50,
   "id": "41e61192",
   "metadata": {},
   "outputs": [],
   "source": [
    "transactions['purchased'] = 1"
   ]
  },
  {
   "cell_type": "code",
   "execution_count": 51,
   "id": "76eb070c",
   "metadata": {},
   "outputs": [
    {
     "data": {
      "text/plain": [
       "0.14683737277719777"
      ]
     },
     "execution_count": 51,
     "metadata": {},
     "output_type": "execute_result"
    }
   ],
   "source": [
    "data = pd.concat([transactions, candidates_last_purchase, candidates_bestsellers])\n",
    "data.purchased.fillna(0, inplace=True)\n",
    "\n",
    "data.purchased.mean()"
   ]
  },
  {
   "cell_type": "code",
   "execution_count": 52,
   "id": "69aa9ec4",
   "metadata": {},
   "outputs": [],
   "source": [
    "data.drop_duplicates(['customer_id', 'article_id', 'week'], inplace=True)"
   ]
  },
  {
   "cell_type": "markdown",
   "id": "ac183274",
   "metadata": {},
   "source": [
    "### Add bestseller information"
   ]
  },
  {
   "cell_type": "code",
   "execution_count": 53,
   "id": "f28957eb",
   "metadata": {},
   "outputs": [],
   "source": [
    "data = pd.merge(\n",
    "    data,\n",
    "    bestsellers_previous_week[['week', 'article_id', 'bestseller_rank']],\n",
    "    on=['week', 'article_id'],\n",
    "    how='left'\n",
    ")"
   ]
  },
  {
   "cell_type": "code",
   "execution_count": 54,
   "id": "3e7d3d8a",
   "metadata": {},
   "outputs": [],
   "source": [
    "data = data[data.week != data.week.min()]\n",
    "data.bestseller_rank.fillna(999, inplace=True)"
   ]
  },
  {
   "cell_type": "code",
   "execution_count": 55,
   "id": "b5fdc9dc",
   "metadata": {},
   "outputs": [],
   "source": [
    "data = pd.merge(data, articles, on='article_id', how='left')\n",
    "data = pd.merge(data, customers, on='customer_id', how='left')"
   ]
  },
  {
   "cell_type": "code",
   "execution_count": 56,
   "id": "9e3a737a",
   "metadata": {},
   "outputs": [],
   "source": [
    "data.sort_values(['week', 'customer_id'], inplace=True)\n",
    "data.reset_index(drop=True, inplace=True)"
   ]
  },
  {
   "cell_type": "code",
   "execution_count": 57,
   "id": "d83b869d",
   "metadata": {},
   "outputs": [],
   "source": [
    "train = data[data.week != test_week]\n",
    "test = data[data.week==test_week].drop_duplicates(['customer_id', 'article_id', 'sales_channel_id']).copy()"
   ]
  },
  {
   "cell_type": "code",
   "execution_count": 58,
   "id": "71d57fc8",
   "metadata": {},
   "outputs": [],
   "source": [
    "train_baskets = train.groupby(['week', 'customer_id'])['article_id'].count().values"
   ]
  },
  {
   "cell_type": "code",
   "execution_count": 59,
   "id": "c4c65da2",
   "metadata": {},
   "outputs": [],
   "source": [
    "columns_to_use = ['article_id', 'product_type_no', 'graphical_appearance_no', 'colour_group_code', 'perceived_colour_value_id',\n",
    "'perceived_colour_master_id', 'department_no', 'index_code',\n",
    "'index_group_no', 'section_no', 'garment_group_no', 'FN', 'Active',\n",
    "'club_member_status', 'fashion_news_frequency', 'age', 'postal_code', 'bestseller_rank']"
   ]
  },
  {
   "cell_type": "code",
   "execution_count": 60,
   "id": "562146df",
   "metadata": {},
   "outputs": [
    {
     "name": "stdout",
     "output_type": "stream",
     "text": [
      "CPU times: user 107 ms, sys: 141 ms, total: 248 ms\n",
      "Wall time: 247 ms\n"
     ]
    }
   ],
   "source": [
    "%%time\n",
    "\n",
    "train_X = train[columns_to_use]\n",
    "train_y = train['purchased']\n",
    "\n",
    "test_X = test[columns_to_use]"
   ]
  },
  {
   "cell_type": "code",
   "execution_count": 61,
   "id": "a7179494",
   "metadata": {},
   "outputs": [
    {
     "data": {
      "text/plain": [
       "0    1.0\n",
       "1    1.0\n",
       "2    0.0\n",
       "3    0.0\n",
       "4    0.0\n",
       "Name: purchased, dtype: float64"
      ]
     },
     "execution_count": 61,
     "metadata": {},
     "output_type": "execute_result"
    }
   ],
   "source": [
    "train_y.head()"
   ]
  },
  {
   "cell_type": "markdown",
   "id": "a8b26b0a",
   "metadata": {},
   "source": [
    "# Model training"
   ]
  },
  {
   "cell_type": "code",
   "execution_count": 62,
   "id": "17079af7",
   "metadata": {},
   "outputs": [],
   "source": [
    "from lightgbm.sklearn import LGBMRanker"
   ]
  },
  {
   "cell_type": "code",
   "execution_count": 63,
   "id": "00b6186e",
   "metadata": {},
   "outputs": [],
   "source": [
    "ranker = LGBMRanker(\n",
    "    objective=\"lambdarank\",\n",
    "    num_leaves=200,\n",
    "    metric=\"ndcg\",\n",
    "    boosting_type=\"dart\",\n",
    "    n_estimators=100,\n",
    "    importance_type='gain',\n",
    "    verbose=10,\n",
    ")"
   ]
  },
  {
   "cell_type": "code",
   "execution_count": 64,
   "id": "31408339",
   "metadata": {},
   "outputs": [
    {
     "name": "stdout",
     "output_type": "stream",
     "text": [
      "[LightGBM] [Debug] Dataset::GetMultiBinFromSparseFeatures: sparse rate 0.844955\n",
      "[LightGBM] [Debug] Dataset::GetMultiBinFromAllFeatures: sparse rate 0.151118\n",
      "[LightGBM] [Debug] init for col-wise cost 0.049665 seconds, init for row-wise cost 0.199860 seconds\n",
      "[LightGBM] [Warning] Auto-choosing row-wise multi-threading, the overhead of testing was 0.167785 seconds.\n",
      "You can set `force_row_wise=true` to remove the overhead.\n",
      "And if memory is not enough, you can set `force_col_wise=true`.\n",
      "[LightGBM] [Debug] Using Dense Multi-Val Bin\n",
      "[LightGBM] [Info] Total Bins 1149\n",
      "[LightGBM] [Info] Number of data points in the train set: 11557594, number of used features: 18\n",
      "[LightGBM] [Debug] Trained a tree with leaves = 200 and depth = 19\n",
      "[LightGBM] [Debug] Trained a tree with leaves = 200 and depth = 16\n",
      "[LightGBM] [Debug] Trained a tree with leaves = 200 and depth = 18\n",
      "[LightGBM] [Debug] Trained a tree with leaves = 200 and depth = 17\n",
      "[LightGBM] [Debug] Trained a tree with leaves = 200 and depth = 19\n",
      "[LightGBM] [Debug] Trained a tree with leaves = 200 and depth = 17\n",
      "[LightGBM] [Debug] Trained a tree with leaves = 200 and depth = 17\n",
      "[LightGBM] [Debug] Trained a tree with leaves = 200 and depth = 18\n",
      "[LightGBM] [Debug] Trained a tree with leaves = 200 and depth = 17\n",
      "[LightGBM] [Debug] Trained a tree with leaves = 200 and depth = 20\n",
      "[LightGBM] [Debug] Trained a tree with leaves = 200 and depth = 19\n",
      "[LightGBM] [Debug] Trained a tree with leaves = 200 and depth = 18\n",
      "[LightGBM] [Debug] Trained a tree with leaves = 200 and depth = 23\n",
      "[LightGBM] [Debug] Trained a tree with leaves = 200 and depth = 16\n",
      "[LightGBM] [Debug] Trained a tree with leaves = 200 and depth = 18\n",
      "[LightGBM] [Debug] Trained a tree with leaves = 200 and depth = 20\n",
      "[LightGBM] [Debug] Trained a tree with leaves = 200 and depth = 19\n",
      "[LightGBM] [Debug] Trained a tree with leaves = 200 and depth = 18\n",
      "[LightGBM] [Debug] Trained a tree with leaves = 200 and depth = 22\n",
      "[LightGBM] [Debug] Trained a tree with leaves = 200 and depth = 20\n",
      "[LightGBM] [Debug] Trained a tree with leaves = 200 and depth = 19\n",
      "[LightGBM] [Debug] Trained a tree with leaves = 200 and depth = 19\n",
      "[LightGBM] [Debug] Trained a tree with leaves = 200 and depth = 23\n",
      "[LightGBM] [Debug] Trained a tree with leaves = 200 and depth = 19\n",
      "[LightGBM] [Debug] Trained a tree with leaves = 200 and depth = 20\n",
      "[LightGBM] [Debug] Trained a tree with leaves = 200 and depth = 17\n",
      "[LightGBM] [Debug] Trained a tree with leaves = 200 and depth = 22\n",
      "[LightGBM] [Debug] Trained a tree with leaves = 200 and depth = 21\n",
      "[LightGBM] [Debug] Trained a tree with leaves = 200 and depth = 18\n",
      "[LightGBM] [Debug] Trained a tree with leaves = 200 and depth = 18\n",
      "[LightGBM] [Debug] Trained a tree with leaves = 200 and depth = 25\n",
      "[LightGBM] [Debug] Trained a tree with leaves = 200 and depth = 22\n",
      "[LightGBM] [Debug] Trained a tree with leaves = 200 and depth = 22\n",
      "[LightGBM] [Debug] Trained a tree with leaves = 200 and depth = 19\n",
      "[LightGBM] [Debug] Trained a tree with leaves = 200 and depth = 20\n",
      "[LightGBM] [Debug] Trained a tree with leaves = 200 and depth = 15\n",
      "[LightGBM] [Debug] Trained a tree with leaves = 200 and depth = 18\n",
      "[LightGBM] [Debug] Trained a tree with leaves = 200 and depth = 25\n",
      "[LightGBM] [Debug] Trained a tree with leaves = 200 and depth = 21\n",
      "[LightGBM] [Debug] Trained a tree with leaves = 200 and depth = 23\n",
      "[LightGBM] [Debug] Trained a tree with leaves = 200 and depth = 17\n",
      "[LightGBM] [Debug] Trained a tree with leaves = 200 and depth = 20\n",
      "[LightGBM] [Debug] Trained a tree with leaves = 200 and depth = 17\n",
      "[LightGBM] [Debug] Trained a tree with leaves = 200 and depth = 19\n",
      "[LightGBM] [Debug] Trained a tree with leaves = 200 and depth = 19\n",
      "[LightGBM] [Debug] Trained a tree with leaves = 200 and depth = 17\n",
      "[LightGBM] [Debug] Trained a tree with leaves = 200 and depth = 16\n",
      "[LightGBM] [Debug] Trained a tree with leaves = 200 and depth = 22\n",
      "[LightGBM] [Debug] Trained a tree with leaves = 200 and depth = 21\n",
      "[LightGBM] [Debug] Trained a tree with leaves = 200 and depth = 16\n",
      "[LightGBM] [Debug] Trained a tree with leaves = 200 and depth = 23\n",
      "[LightGBM] [Debug] Trained a tree with leaves = 200 and depth = 21\n",
      "[LightGBM] [Debug] Trained a tree with leaves = 200 and depth = 20\n",
      "[LightGBM] [Debug] Trained a tree with leaves = 200 and depth = 19\n",
      "[LightGBM] [Debug] Trained a tree with leaves = 200 and depth = 21\n",
      "[LightGBM] [Debug] Trained a tree with leaves = 200 and depth = 24\n",
      "[LightGBM] [Debug] Trained a tree with leaves = 200 and depth = 26\n",
      "[LightGBM] [Debug] Trained a tree with leaves = 200 and depth = 20\n",
      "[LightGBM] [Debug] Trained a tree with leaves = 200 and depth = 18\n",
      "[LightGBM] [Debug] Trained a tree with leaves = 200 and depth = 17\n",
      "[LightGBM] [Debug] Trained a tree with leaves = 200 and depth = 21\n",
      "[LightGBM] [Debug] Trained a tree with leaves = 200 and depth = 21\n",
      "[LightGBM] [Debug] Trained a tree with leaves = 200 and depth = 25\n",
      "[LightGBM] [Debug] Trained a tree with leaves = 200 and depth = 16\n",
      "[LightGBM] [Debug] Trained a tree with leaves = 200 and depth = 16\n",
      "[LightGBM] [Debug] Trained a tree with leaves = 200 and depth = 19\n",
      "[LightGBM] [Debug] Trained a tree with leaves = 200 and depth = 24\n",
      "[LightGBM] [Debug] Trained a tree with leaves = 200 and depth = 21\n",
      "[LightGBM] [Debug] Trained a tree with leaves = 200 and depth = 18\n",
      "[LightGBM] [Debug] Trained a tree with leaves = 200 and depth = 18\n",
      "[LightGBM] [Debug] Trained a tree with leaves = 200 and depth = 18\n",
      "[LightGBM] [Debug] Trained a tree with leaves = 200 and depth = 18\n",
      "[LightGBM] [Debug] Trained a tree with leaves = 200 and depth = 28\n",
      "[LightGBM] [Debug] Trained a tree with leaves = 200 and depth = 18\n",
      "[LightGBM] [Debug] Trained a tree with leaves = 200 and depth = 20\n",
      "[LightGBM] [Debug] Trained a tree with leaves = 200 and depth = 21\n",
      "[LightGBM] [Debug] Trained a tree with leaves = 200 and depth = 22\n",
      "[LightGBM] [Debug] Trained a tree with leaves = 200 and depth = 19\n",
      "[LightGBM] [Debug] Trained a tree with leaves = 200 and depth = 21\n",
      "[LightGBM] [Debug] Trained a tree with leaves = 200 and depth = 24\n",
      "[LightGBM] [Debug] Trained a tree with leaves = 200 and depth = 18\n",
      "[LightGBM] [Debug] Trained a tree with leaves = 200 and depth = 23\n",
      "[LightGBM] [Debug] Trained a tree with leaves = 200 and depth = 18\n",
      "[LightGBM] [Debug] Trained a tree with leaves = 200 and depth = 21\n",
      "[LightGBM] [Debug] Trained a tree with leaves = 200 and depth = 19\n",
      "[LightGBM] [Debug] Trained a tree with leaves = 200 and depth = 18\n",
      "[LightGBM] [Debug] Trained a tree with leaves = 200 and depth = 17\n",
      "[LightGBM] [Debug] Trained a tree with leaves = 200 and depth = 19\n",
      "[LightGBM] [Debug] Trained a tree with leaves = 200 and depth = 18\n",
      "[LightGBM] [Debug] Trained a tree with leaves = 200 and depth = 18\n",
      "[LightGBM] [Debug] Trained a tree with leaves = 200 and depth = 19\n",
      "[LightGBM] [Debug] Trained a tree with leaves = 200 and depth = 26\n",
      "[LightGBM] [Debug] Trained a tree with leaves = 200 and depth = 20\n",
      "[LightGBM] [Debug] Trained a tree with leaves = 200 and depth = 17\n",
      "[LightGBM] [Debug] Trained a tree with leaves = 200 and depth = 17\n",
      "[LightGBM] [Debug] Trained a tree with leaves = 200 and depth = 17\n",
      "[LightGBM] [Debug] Trained a tree with leaves = 200 and depth = 18\n",
      "[LightGBM] [Debug] Trained a tree with leaves = 200 and depth = 20\n",
      "[LightGBM] [Debug] Trained a tree with leaves = 200 and depth = 18\n",
      "[LightGBM] [Debug] Trained a tree with leaves = 200 and depth = 16\n",
      "CPU times: user 9min 20s, sys: 8.55 s, total: 9min 29s\n",
      "Wall time: 1min 41s\n"
     ]
    }
   ],
   "source": [
    "%%time\n",
    "\n",
    "ranker = ranker.fit(\n",
    "    train_X,\n",
    "    train_y,\n",
    "    group=train_baskets,\n",
    ")"
   ]
  },
  {
   "cell_type": "code",
   "execution_count": 65,
   "id": "c77ba5fc",
   "metadata": {},
   "outputs": [
    {
     "name": "stdout",
     "output_type": "stream",
     "text": [
      "bestseller_rank 0.9376861493387726\n",
      "article_id 0.02177341244641252\n",
      "product_type_no 0.01025941808456561\n",
      "department_no 0.007932840748007937\n",
      "garment_group_no 0.004583792064670282\n",
      "colour_group_code 0.0040037332457556534\n",
      "graphical_appearance_no 0.002800727487572376\n",
      "section_no 0.0024967487904410174\n",
      "perceived_colour_value_id 0.0023000001772138087\n",
      "perceived_colour_master_id 0.002241744761084165\n",
      "age 0.0014257376163587592\n",
      "index_code 0.0008015751875014689\n",
      "index_group_no 0.000561076141218755\n",
      "club_member_status 0.0005071431459506904\n",
      "postal_code 0.00041600993534005054\n",
      "Active 0.0001224149128857914\n",
      "fashion_news_frequency 6.177883894921548e-05\n",
      "FN 2.569707729928902e-05\n"
     ]
    }
   ],
   "source": [
    "for i in ranker.feature_importances_.argsort()[::-1]:\n",
    "    print(columns_to_use[i], ranker.feature_importances_[i]/ranker.feature_importances_.sum())"
   ]
  },
  {
   "cell_type": "markdown",
   "id": "abb34139",
   "metadata": {},
   "source": [
    "# Calculate predictions"
   ]
  },
  {
   "cell_type": "code",
   "execution_count": 66,
   "id": "823f8bc0",
   "metadata": {},
   "outputs": [
    {
     "name": "stdout",
     "output_type": "stream",
     "text": [
      "CPU times: user 1e+03 ns, sys: 1e+03 ns, total: 2 µs\n",
      "Wall time: 1.91 µs\n"
     ]
    }
   ],
   "source": [
    "%time\n",
    "\n",
    "test['preds'] = ranker.predict(test_X)\n",
    "\n",
    "c_id2predicted_article_ids = test \\\n",
    "    .sort_values(['customer_id', 'preds'], ascending=False) \\\n",
    "    .groupby('customer_id')['article_id'].apply(list).to_dict()\n",
    "\n",
    "bestsellers_last_week = \\\n",
    "    bestsellers_previous_week[bestsellers_previous_week.week == bestsellers_previous_week.week.max()]['article_id'].tolist()"
   ]
  },
  {
   "cell_type": "markdown",
   "id": "dd686e54",
   "metadata": {},
   "source": [
    "# Evaluate results"
   ]
  },
  {
   "cell_type": "code",
   "execution_count": 67,
   "id": "66b8f89a",
   "metadata": {},
   "outputs": [],
   "source": [
    "val_week_purchases_by_cust = pd.read_pickle(f'{DATA_PATH}/val_week_purchases_by_cust.pkl')"
   ]
  },
  {
   "cell_type": "code",
   "execution_count": 68,
   "id": "54c1d507",
   "metadata": {},
   "outputs": [
    {
     "data": {
      "text/plain": [
       "0.02376389969599154"
      ]
     },
     "execution_count": 68,
     "metadata": {},
     "output_type": "execute_result"
    }
   ],
   "source": [
    "apks = []\n",
    "\n",
    "for c_id, gt in val_week_purchases_by_cust.items():\n",
    "    pred = c_id2predicted_article_ids.get(c_id, [])\n",
    "    pred = pred + bestsellers_last_week\n",
    "    apks.append(apk(gt, pred[:12]))\n",
    "\n",
    "np.mean(apks) # 0.023166716930571193"
   ]
  }
 ],
 "metadata": {
  "kernelspec": {
   "display_name": "Python 3.10.8 ('venv': venv)",
   "language": "python",
   "name": "python3"
  },
  "language_info": {
   "codemirror_mode": {
    "name": "ipython",
    "version": 3
   },
   "file_extension": ".py",
   "mimetype": "text/x-python",
   "name": "python",
   "nbconvert_exporter": "python",
   "pygments_lexer": "ipython3",
   "version": "3.10.8"
  },
  "vscode": {
   "interpreter": {
    "hash": "cb76f6fb9cefb4ce395c63b53ca0fc61c280bfa44c4aea4ac470b086d5108ff0"
   }
  }
 },
 "nbformat": 4,
 "nbformat_minor": 5
}
