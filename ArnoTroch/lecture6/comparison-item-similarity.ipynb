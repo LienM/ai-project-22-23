{
 "cells": [
  {
   "cell_type": "markdown",
   "metadata": {},
   "source": [
    "# Item Similarity: Comparison\n",
    "\n",
    "In this notebook, the goal is to compare different item similarity algorithms from the recpack library in terms of recall, so we can choose the best performing algorithm for candidate generation. \n",
    "\n",
    "We expand the notebook from last week by incorporating feedback on last week's notebook. Bjorn suggested to try out the `TimedLastItemPrediction` scenario instead of `Timed`, and see whether the score improves."
   ]
  },
  {
   "cell_type": "code",
   "execution_count": 2,
   "metadata": {},
   "outputs": [],
   "source": [
    "import numpy as np\n",
    "import pandas as pd\n",
    "from recpack.preprocessing.preprocessors import DataFramePreprocessor\n",
    "from recpack.preprocessing.filters import MinItemsPerUser, MinUsersPerItem\n",
    "from recpack.scenarios import Timed, TimedLastItemPrediction\n",
    "from recpack.pipelines import PipelineBuilder\n",
    "\n",
    "# import utils file from previous lecture\n",
    "import sys\n",
    "sys.path.append('../lecture4')\n",
    "from utils import DATA_PATH, customer_hex_id_to_int"
   ]
  },
  {
   "cell_type": "code",
   "execution_count": 3,
   "metadata": {},
   "outputs": [],
   "source": [
    "transactions = pd.read_parquet(f'{DATA_PATH}/transactions_train.parquet')\n",
    "# customers = pd.read_parquet(f'{DATA_PATH}/customers.parquet')\n",
    "# articles = pd.read_parquet(f'{DATA_PATH}/articles.parquet')"
   ]
  },
  {
   "cell_type": "code",
   "execution_count": 4,
   "metadata": {},
   "outputs": [],
   "source": [
    "test_week = transactions.week.max()\n",
    "transactions = transactions[transactions.week > test_week - 10]"
   ]
  },
  {
   "cell_type": "code",
   "execution_count": 13,
   "metadata": {},
   "outputs": [
    {
     "name": "stdout",
     "output_type": "stream",
     "text": [
      "Unique customers: 437365\n",
      "Unique articles: 38331\n"
     ]
    }
   ],
   "source": [
    "# print the amount of unique customers and articles\n",
    "print(f'Unique customers: {transactions[\"customer_id\"].nunique()}')\n",
    "print(f'Unique articles: {transactions[\"article_id\"].nunique()}')"
   ]
  },
  {
   "cell_type": "markdown",
   "metadata": {},
   "source": [
    "# Results from last week: `ItemKNN` and `TARSItemKNN`\n",
    "\n",
    "To make it easier to compare to last week's results, I simply run the best `ItemKNN` and `TARSItemKNN` algorithm from last week in the `Timed` scenario, so we can see the results here."
   ]
  },
  {
   "cell_type": "markdown",
   "metadata": {},
   "source": [
    "## Preprocessing"
   ]
  },
  {
   "cell_type": "code",
   "execution_count": 5,
   "metadata": {},
   "outputs": [
    {
     "data": {
      "application/vnd.jupyter.widget-view+json": {
       "model_id": "3f549d686a424b338c56821320aa3773",
       "version_major": 2,
       "version_minor": 0
      },
      "text/plain": [
       "  0%|          | 0/1228106 [00:00<?, ?it/s]"
      ]
     },
     "metadata": {},
     "output_type": "display_data"
    },
    {
     "data": {
      "application/vnd.jupyter.widget-view+json": {
       "model_id": "b62271cdac4946cb9e1716ea99b93c3e",
       "version_major": 2,
       "version_minor": 0
      },
      "text/plain": [
       "  0%|          | 0/1228106 [00:00<?, ?it/s]"
      ]
     },
     "metadata": {},
     "output_type": "display_data"
    }
   ],
   "source": [
    "proc = DataFramePreprocessor(item_ix='article_id', user_ix='customer_id', timestamp_ix='week')\n",
    "proc.add_filter(MinUsersPerItem(10, item_ix='article_id', user_ix='customer_id'))\n",
    "proc.add_filter(MinItemsPerUser(10, item_ix='article_id', user_ix='customer_id'))\n",
    "\n",
    "interaction_matrix = proc.process(transactions)"
   ]
  },
  {
   "cell_type": "code",
   "execution_count": 15,
   "metadata": {},
   "outputs": [],
   "source": [
    "# train on everything < test_week, test on test_week\n",
    "scenario = Timed(t=test_week, delta_out=None, delta_in=None, validation=False)\n",
    "scenario.split(interaction_matrix)"
   ]
  },
  {
   "cell_type": "code",
   "execution_count": 16,
   "metadata": {},
   "outputs": [],
   "source": [
    "builder = PipelineBuilder()\n",
    "builder.set_data_from_scenario(scenario)\n",
    "\n",
    "builder.add_algorithm('ItemKNN', params={\n",
    "    'K': 90,  \n",
    "    'similarity': 'cosine',\n",
    "    'normalize_X': False,\n",
    "    'normalize_sim': True\n",
    "})\n",
    "\n",
    "builder.add_algorithm('TARSItemKNN', params={\n",
    "    'K': 580, \n",
    "    'similarity': 'cosine',\n",
    "    'fit_decay': 1/10,\n",
    "    'predict_decay': 1/3,\n",
    "})\n",
    "\n",
    "builder.add_metric('PrecisionK', K=[12, 20, 30, 40])\n",
    "builder.add_metric('RecallK', K=[12, 20, 30, 40])\n",
    "\n",
    "builder.set_optimisation_metric('RecallK', K=12)"
   ]
  },
  {
   "cell_type": "code",
   "execution_count": 17,
   "metadata": {},
   "outputs": [
    {
     "data": {
      "application/vnd.jupyter.widget-view+json": {
       "model_id": "66a904f6b0b147a9b5642c58b5d0c7db",
       "version_major": 2,
       "version_minor": 0
      },
      "text/plain": [
       "  0%|          | 0/2 [00:00<?, ?it/s]"
      ]
     },
     "metadata": {},
     "output_type": "display_data"
    },
    {
     "name": "stdout",
     "output_type": "stream",
     "text": [
      "2022-11-26 15:50:16,723 - base - recpack - INFO - Fitting ItemKNN complete - Took 1.46s\n",
      "2022-11-26 15:50:30,642 - base - recpack - INFO - Fitting TARSItemKNN complete - Took 8.96s\n"
     ]
    }
   ],
   "source": [
    "import warnings\n",
    "from scipy.sparse import SparseEfficiencyWarning\n",
    "warnings.simplefilter(\"ignore\", UserWarning)\n",
    "warnings.simplefilter(\"ignore\", SparseEfficiencyWarning)\n",
    "\n",
    "pipeline = builder.build()\n",
    "pipeline.run()"
   ]
  },
  {
   "cell_type": "code",
   "execution_count": 18,
   "metadata": {},
   "outputs": [
    {
     "data": {
      "text/html": [
       "<div>\n",
       "<style scoped>\n",
       "    .dataframe tbody tr th:only-of-type {\n",
       "        vertical-align: middle;\n",
       "    }\n",
       "\n",
       "    .dataframe tbody tr th {\n",
       "        vertical-align: top;\n",
       "    }\n",
       "\n",
       "    .dataframe thead th {\n",
       "        text-align: right;\n",
       "    }\n",
       "</style>\n",
       "<table border=\"1\" class=\"dataframe\">\n",
       "  <thead>\n",
       "    <tr style=\"text-align: right;\">\n",
       "      <th></th>\n",
       "      <th>precisionk_12</th>\n",
       "      <th>precisionk_20</th>\n",
       "      <th>precisionk_30</th>\n",
       "      <th>precisionk_40</th>\n",
       "      <th>recallk_12</th>\n",
       "      <th>recallk_20</th>\n",
       "      <th>recallk_30</th>\n",
       "      <th>recallk_40</th>\n",
       "    </tr>\n",
       "  </thead>\n",
       "  <tbody>\n",
       "    <tr>\n",
       "      <th>ItemKNN(K=90,normalize_X=False,normalize_sim=True,pop_discount=None,similarity=cosine)</th>\n",
       "      <td>0.007474</td>\n",
       "      <td>0.006124</td>\n",
       "      <td>0.005108</td>\n",
       "      <td>0.004458</td>\n",
       "      <td>0.024356</td>\n",
       "      <td>0.033519</td>\n",
       "      <td>0.040821</td>\n",
       "      <td>0.047116</td>\n",
       "    </tr>\n",
       "    <tr>\n",
       "      <th>TARSItemKNN(K=580,fit_decay=0.1,predict_decay=0.3333333333333333,similarity=cosine)</th>\n",
       "      <td>0.008380</td>\n",
       "      <td>0.006710</td>\n",
       "      <td>0.005677</td>\n",
       "      <td>0.005007</td>\n",
       "      <td>0.028117</td>\n",
       "      <td>0.036982</td>\n",
       "      <td>0.045927</td>\n",
       "      <td>0.053186</td>\n",
       "    </tr>\n",
       "  </tbody>\n",
       "</table>\n",
       "</div>"
      ],
      "text/plain": [
       "                                                    precisionk_12  \\\n",
       "ItemKNN(K=90,normalize_X=False,normalize_sim=Tr...       0.007474   \n",
       "TARSItemKNN(K=580,fit_decay=0.1,predict_decay=0...       0.008380   \n",
       "\n",
       "                                                    precisionk_20  \\\n",
       "ItemKNN(K=90,normalize_X=False,normalize_sim=Tr...       0.006124   \n",
       "TARSItemKNN(K=580,fit_decay=0.1,predict_decay=0...       0.006710   \n",
       "\n",
       "                                                    precisionk_30  \\\n",
       "ItemKNN(K=90,normalize_X=False,normalize_sim=Tr...       0.005108   \n",
       "TARSItemKNN(K=580,fit_decay=0.1,predict_decay=0...       0.005677   \n",
       "\n",
       "                                                    precisionk_40  recallk_12  \\\n",
       "ItemKNN(K=90,normalize_X=False,normalize_sim=Tr...       0.004458    0.024356   \n",
       "TARSItemKNN(K=580,fit_decay=0.1,predict_decay=0...       0.005007    0.028117   \n",
       "\n",
       "                                                    recallk_20  recallk_30  \\\n",
       "ItemKNN(K=90,normalize_X=False,normalize_sim=Tr...    0.033519    0.040821   \n",
       "TARSItemKNN(K=580,fit_decay=0.1,predict_decay=0...    0.036982    0.045927   \n",
       "\n",
       "                                                    recallk_40  \n",
       "ItemKNN(K=90,normalize_X=False,normalize_sim=Tr...    0.047116  \n",
       "TARSItemKNN(K=580,fit_decay=0.1,predict_decay=0...    0.053186  "
      ]
     },
     "execution_count": 18,
     "metadata": {},
     "output_type": "execute_result"
    }
   ],
   "source": [
    "pipeline.get_metrics()"
   ]
  },
  {
   "cell_type": "markdown",
   "metadata": {},
   "source": [
    "## Try `TimedLastItemPrediction` scenario"
   ]
  },
  {
   "cell_type": "code",
   "execution_count": 23,
   "metadata": {},
   "outputs": [
    {
     "name": "stderr",
     "output_type": "stream",
     "text": [
      "/Users/arnotroch/Documents/AIP/ai-project-22-23/venv/lib/python3.10/site-packages/recpack/scenarios/splitters.py:187: FutureWarning: Using the level keyword in DataFrame and Series aggregations is deprecated and will be removed in a future version. Use groupby instead. df.median(level=1) should use df.groupby(level=1).median().\n",
      "  max_ts_per_user = data.timestamps.max(level=0)\n"
     ]
    },
    {
     "data": {
      "application/vnd.jupyter.widget-view+json": {
       "model_id": "d0ed6ea793774d9180824232af28f045",
       "version_major": 2,
       "version_minor": 0
      },
      "text/plain": [
       "0it [00:00, ?it/s]"
      ]
     },
     "metadata": {},
     "output_type": "display_data"
    },
    {
     "data": {
      "application/vnd.jupyter.widget-view+json": {
       "model_id": "9706fa171a10468e859da13874c67334",
       "version_major": 2,
       "version_minor": 0
      },
      "text/plain": [
       "0it [00:00, ?it/s]"
      ]
     },
     "metadata": {},
     "output_type": "display_data"
    },
    {
     "name": "stderr",
     "output_type": "stream",
     "text": [
      "/Users/arnotroch/Documents/AIP/ai-project-22-23/venv/lib/python3.10/site-packages/recpack/scenarios/splitters.py:187: FutureWarning: Using the level keyword in DataFrame and Series aggregations is deprecated and will be removed in a future version. Use groupby instead. df.median(level=1) should use df.groupby(level=1).median().\n",
      "  max_ts_per_user = data.timestamps.max(level=0)\n"
     ]
    },
    {
     "data": {
      "application/vnd.jupyter.widget-view+json": {
       "model_id": "7d892e0c1aae4dc9b4acbe7b6509a5be",
       "version_major": 2,
       "version_minor": 0
      },
      "text/plain": [
       "0it [00:00, ?it/s]"
      ]
     },
     "metadata": {},
     "output_type": "display_data"
    },
    {
     "data": {
      "application/vnd.jupyter.widget-view+json": {
       "model_id": "1f0b0a2e4a6d41f18c486c19a5e9a08a",
       "version_major": 2,
       "version_minor": 0
      },
      "text/plain": [
       "0it [00:00, ?it/s]"
      ]
     },
     "metadata": {},
     "output_type": "display_data"
    }
   ],
   "source": [
    "# train on everything < test_week - 1, validate on test_week - 1, test on test_week\n",
    "scenario = TimedLastItemPrediction(t=test_week, t_validation=test_week - 1, validation=True)\n",
    "scenario.split(interaction_matrix)"
   ]
  },
  {
   "cell_type": "code",
   "execution_count": 24,
   "metadata": {},
   "outputs": [],
   "source": [
    "builder = PipelineBuilder()\n",
    "builder.set_data_from_scenario(scenario)\n",
    "\n",
    "# [50, 600] => best: ItemKNN(K=90,normalize_X=False,normalize_sim=True,pop_discount=None,similarity=cosine), Recall12=0.024356\n",
    "builder.add_algorithm('ItemKNN', grid={\n",
    "    'K': [k for k in range(50, 150, 10)],  \n",
    "    'similarity': ['cosine'],\n",
    "    'normalize_X': [True, False],\n",
    "    'normalize_sim': [True]\n",
    "})\n",
    "\n",
    "# [50, 600] => best: TARSItemKNN(K=580,fit_decay=0.1,predict_decay=0.3333333333333333,similarity=cosine), Recall12=0.028117\n",
    "builder.add_algorithm('TARSItemKNN', grid={\n",
    "    'K': [k for k in range(570, 680, 10)], \n",
    "    'similarity': ['cosine'],\n",
    "    'fit_decay': [1/2, 1/5, 1/10],\n",
    "    'predict_decay': [1/3, 1/5, 1/10],\n",
    "})\n",
    "\n",
    "\n",
    "builder.add_metric('PrecisionK', K=[12, 20, 30, 40])\n",
    "builder.add_metric('RecallK', K=[12, 20, 30, 40])\n",
    "\n",
    "builder.set_optimisation_metric('RecallK', K=12)"
   ]
  },
  {
   "cell_type": "code",
   "execution_count": 25,
   "metadata": {},
   "outputs": [
    {
     "data": {
      "application/vnd.jupyter.widget-view+json": {
       "model_id": "c277541ad8424692900f84b685da7369",
       "version_major": 2,
       "version_minor": 0
      },
      "text/plain": [
       "  0%|          | 0/2 [00:00<?, ?it/s]"
      ]
     },
     "metadata": {},
     "output_type": "display_data"
    },
    {
     "name": "stdout",
     "output_type": "stream",
     "text": [
      "2022-11-26 16:01:05,776 - base - recpack - INFO - Fitting ItemKNN complete - Took 0.88s\n",
      "2022-11-26 16:01:07,874 - base - recpack - INFO - Fitting ItemKNN complete - Took 0.9s\n",
      "2022-11-26 16:01:10,167 - base - recpack - INFO - Fitting ItemKNN complete - Took 0.95s\n",
      "2022-11-26 16:01:12,521 - base - recpack - INFO - Fitting ItemKNN complete - Took 0.981s\n",
      "2022-11-26 16:01:14,937 - base - recpack - INFO - Fitting ItemKNN complete - Took 1.07s\n",
      "2022-11-26 16:01:17,664 - base - recpack - INFO - Fitting ItemKNN complete - Took 1.09s\n",
      "2022-11-26 16:01:20,344 - base - recpack - INFO - Fitting ItemKNN complete - Took 1.15s\n",
      "2022-11-26 16:01:23,267 - base - recpack - INFO - Fitting ItemKNN complete - Took 1.17s\n",
      "2022-11-26 16:01:26,271 - base - recpack - INFO - Fitting ItemKNN complete - Took 1.25s\n",
      "2022-11-26 16:01:29,442 - base - recpack - INFO - Fitting ItemKNN complete - Took 1.26s\n",
      "2022-11-26 16:01:32,692 - base - recpack - INFO - Fitting ItemKNN complete - Took 1.39s\n",
      "2022-11-26 16:01:36,262 - base - recpack - INFO - Fitting ItemKNN complete - Took 1.39s\n",
      "2022-11-26 16:01:39,790 - base - recpack - INFO - Fitting ItemKNN complete - Took 1.48s\n",
      "2022-11-26 16:01:43,614 - base - recpack - INFO - Fitting ItemKNN complete - Took 1.51s\n",
      "2022-11-26 16:01:47,550 - base - recpack - INFO - Fitting ItemKNN complete - Took 1.62s\n",
      "2022-11-26 16:01:51,636 - base - recpack - INFO - Fitting ItemKNN complete - Took 1.64s\n",
      "2022-11-26 16:01:55,728 - base - recpack - INFO - Fitting ItemKNN complete - Took 1.68s\n",
      "2022-11-26 16:02:00,153 - base - recpack - INFO - Fitting ItemKNN complete - Took 1.7s\n",
      "2022-11-26 16:02:04,558 - base - recpack - INFO - Fitting ItemKNN complete - Took 1.79s\n",
      "2022-11-26 16:02:09,207 - base - recpack - INFO - Fitting ItemKNN complete - Took 1.81s\n",
      "2022-11-26 16:02:13,053 - base - recpack - INFO - Fitting ItemKNN complete - Took 0.966s\n",
      "2022-11-26 16:02:24,775 - base - recpack - INFO - Fitting TARSItemKNN complete - Took 7.65s\n",
      "2022-11-26 16:02:40,534 - base - recpack - INFO - Fitting TARSItemKNN complete - Took 7.59s\n",
      "2022-11-26 16:02:57,056 - base - recpack - INFO - Fitting TARSItemKNN complete - Took 7.55s\n",
      "2022-11-26 16:03:12,891 - base - recpack - INFO - Fitting TARSItemKNN complete - Took 7.61s\n",
      "2022-11-26 16:03:29,925 - base - recpack - INFO - Fitting TARSItemKNN complete - Took 7.7s\n",
      "2022-11-26 16:03:46,050 - base - recpack - INFO - Fitting TARSItemKNN complete - Took 7.73s\n",
      "2022-11-26 16:04:02,653 - base - recpack - INFO - Fitting TARSItemKNN complete - Took 7.83s\n",
      "2022-11-26 16:04:19,239 - base - recpack - INFO - Fitting TARSItemKNN complete - Took 7.65s\n",
      "2022-11-26 16:04:36,035 - base - recpack - INFO - Fitting TARSItemKNN complete - Took 7.64s\n",
      "2022-11-26 16:04:52,835 - base - recpack - INFO - Fitting TARSItemKNN complete - Took 7.67s\n",
      "2022-11-26 16:05:08,655 - base - recpack - INFO - Fitting TARSItemKNN complete - Took 7.64s\n",
      "2022-11-26 16:05:24,319 - base - recpack - INFO - Fitting TARSItemKNN complete - Took 7.78s\n",
      "2022-11-26 16:05:41,211 - base - recpack - INFO - Fitting TARSItemKNN complete - Took 8.0s\n",
      "2022-11-26 16:05:58,960 - base - recpack - INFO - Fitting TARSItemKNN complete - Took 8.11s\n",
      "2022-11-26 16:06:16,635 - base - recpack - INFO - Fitting TARSItemKNN complete - Took 7.94s\n",
      "2022-11-26 16:06:34,215 - base - recpack - INFO - Fitting TARSItemKNN complete - Took 7.98s\n",
      "2022-11-26 16:06:51,592 - base - recpack - INFO - Fitting TARSItemKNN complete - Took 7.88s\n",
      "2022-11-26 16:07:08,733 - base - recpack - INFO - Fitting TARSItemKNN complete - Took 7.95s\n",
      "2022-11-26 16:07:25,886 - base - recpack - INFO - Fitting TARSItemKNN complete - Took 7.85s\n",
      "2022-11-26 16:07:42,510 - base - recpack - INFO - Fitting TARSItemKNN complete - Took 8.01s\n",
      "2022-11-26 16:07:59,134 - base - recpack - INFO - Fitting TARSItemKNN complete - Took 7.9s\n",
      "2022-11-26 16:08:15,798 - base - recpack - INFO - Fitting TARSItemKNN complete - Took 7.92s\n",
      "2022-11-26 16:08:32,839 - base - recpack - INFO - Fitting TARSItemKNN complete - Took 7.88s\n",
      "2022-11-26 16:08:50,059 - base - recpack - INFO - Fitting TARSItemKNN complete - Took 7.87s\n",
      "2022-11-26 16:09:07,147 - base - recpack - INFO - Fitting TARSItemKNN complete - Took 7.95s\n",
      "2022-11-26 16:09:24,434 - base - recpack - INFO - Fitting TARSItemKNN complete - Took 7.93s\n",
      "2022-11-26 16:09:41,140 - base - recpack - INFO - Fitting TARSItemKNN complete - Took 7.92s\n",
      "2022-11-26 16:09:58,516 - base - recpack - INFO - Fitting TARSItemKNN complete - Took 8.08s\n",
      "2022-11-26 16:10:15,433 - base - recpack - INFO - Fitting TARSItemKNN complete - Took 8.02s\n",
      "2022-11-26 16:10:32,418 - base - recpack - INFO - Fitting TARSItemKNN complete - Took 7.93s\n",
      "2022-11-26 16:10:49,949 - base - recpack - INFO - Fitting TARSItemKNN complete - Took 8.05s\n",
      "2022-11-26 16:11:07,362 - base - recpack - INFO - Fitting TARSItemKNN complete - Took 8.09s\n",
      "2022-11-26 16:11:24,218 - base - recpack - INFO - Fitting TARSItemKNN complete - Took 8.09s\n",
      "2022-11-26 16:11:41,616 - base - recpack - INFO - Fitting TARSItemKNN complete - Took 8.11s\n",
      "2022-11-26 16:11:58,943 - base - recpack - INFO - Fitting TARSItemKNN complete - Took 8.11s\n",
      "2022-11-26 16:12:16,429 - base - recpack - INFO - Fitting TARSItemKNN complete - Took 8.11s\n",
      "2022-11-26 16:12:33,977 - base - recpack - INFO - Fitting TARSItemKNN complete - Took 8.13s\n",
      "2022-11-26 16:12:51,037 - base - recpack - INFO - Fitting TARSItemKNN complete - Took 8.18s\n",
      "2022-11-26 16:13:08,183 - base - recpack - INFO - Fitting TARSItemKNN complete - Took 8.11s\n",
      "2022-11-26 16:13:24,728 - base - recpack - INFO - Fitting TARSItemKNN complete - Took 8.2s\n",
      "2022-11-26 16:13:41,950 - base - recpack - INFO - Fitting TARSItemKNN complete - Took 8.19s\n",
      "2022-11-26 16:13:59,539 - base - recpack - INFO - Fitting TARSItemKNN complete - Took 8.2s\n",
      "2022-11-26 16:14:17,184 - base - recpack - INFO - Fitting TARSItemKNN complete - Took 8.27s\n",
      "2022-11-26 16:14:34,768 - base - recpack - INFO - Fitting TARSItemKNN complete - Took 8.24s\n",
      "2022-11-26 16:14:52,233 - base - recpack - INFO - Fitting TARSItemKNN complete - Took 8.24s\n",
      "2022-11-26 16:15:10,009 - base - recpack - INFO - Fitting TARSItemKNN complete - Took 8.26s\n",
      "2022-11-26 16:15:26,882 - base - recpack - INFO - Fitting TARSItemKNN complete - Took 8.27s\n",
      "2022-11-26 16:15:43,449 - base - recpack - INFO - Fitting TARSItemKNN complete - Took 8.32s\n",
      "2022-11-26 16:16:00,454 - base - recpack - INFO - Fitting TARSItemKNN complete - Took 8.36s\n",
      "2022-11-26 16:16:18,119 - base - recpack - INFO - Fitting TARSItemKNN complete - Took 8.34s\n",
      "2022-11-26 16:16:35,913 - base - recpack - INFO - Fitting TARSItemKNN complete - Took 8.35s\n",
      "2022-11-26 16:16:53,785 - base - recpack - INFO - Fitting TARSItemKNN complete - Took 8.42s\n",
      "2022-11-26 16:17:11,543 - base - recpack - INFO - Fitting TARSItemKNN complete - Took 8.42s\n",
      "2022-11-26 16:17:29,425 - base - recpack - INFO - Fitting TARSItemKNN complete - Took 8.41s\n",
      "2022-11-26 16:17:47,679 - base - recpack - INFO - Fitting TARSItemKNN complete - Took 8.4s\n",
      "2022-11-26 16:18:04,840 - base - recpack - INFO - Fitting TARSItemKNN complete - Took 8.45s\n",
      "2022-11-26 16:18:21,622 - base - recpack - INFO - Fitting TARSItemKNN complete - Took 8.42s\n",
      "2022-11-26 16:18:38,968 - base - recpack - INFO - Fitting TARSItemKNN complete - Took 8.48s\n",
      "2022-11-26 16:18:56,850 - base - recpack - INFO - Fitting TARSItemKNN complete - Took 8.5s\n",
      "2022-11-26 16:19:14,962 - base - recpack - INFO - Fitting TARSItemKNN complete - Took 8.49s\n",
      "2022-11-26 16:19:32,805 - base - recpack - INFO - Fitting TARSItemKNN complete - Took 8.56s\n",
      "2022-11-26 16:19:50,773 - base - recpack - INFO - Fitting TARSItemKNN complete - Took 8.53s\n",
      "2022-11-26 16:20:08,908 - base - recpack - INFO - Fitting TARSItemKNN complete - Took 8.54s\n",
      "2022-11-26 16:20:27,162 - base - recpack - INFO - Fitting TARSItemKNN complete - Took 8.53s\n",
      "2022-11-26 16:20:44,689 - base - recpack - INFO - Fitting TARSItemKNN complete - Took 8.58s\n",
      "2022-11-26 16:21:01,989 - base - recpack - INFO - Fitting TARSItemKNN complete - Took 8.56s\n",
      "2022-11-26 16:21:19,825 - base - recpack - INFO - Fitting TARSItemKNN complete - Took 8.61s\n",
      "2022-11-26 16:21:37,942 - base - recpack - INFO - Fitting TARSItemKNN complete - Took 8.62s\n",
      "2022-11-26 16:21:55,859 - base - recpack - INFO - Fitting TARSItemKNN complete - Took 8.62s\n",
      "2022-11-26 16:22:14,120 - base - recpack - INFO - Fitting TARSItemKNN complete - Took 8.7s\n",
      "2022-11-26 16:22:32,600 - base - recpack - INFO - Fitting TARSItemKNN complete - Took 8.68s\n",
      "2022-11-26 16:22:50,731 - base - recpack - INFO - Fitting TARSItemKNN complete - Took 8.68s\n",
      "2022-11-26 16:23:08,990 - base - recpack - INFO - Fitting TARSItemKNN complete - Took 8.69s\n",
      "2022-11-26 16:23:26,442 - base - recpack - INFO - Fitting TARSItemKNN complete - Took 8.68s\n",
      "2022-11-26 16:23:44,168 - base - recpack - INFO - Fitting TARSItemKNN complete - Took 8.72s\n",
      "2022-11-26 16:24:02,117 - base - recpack - INFO - Fitting TARSItemKNN complete - Took 8.79s\n",
      "2022-11-26 16:24:20,597 - base - recpack - INFO - Fitting TARSItemKNN complete - Took 8.78s\n",
      "2022-11-26 16:24:38,968 - base - recpack - INFO - Fitting TARSItemKNN complete - Took 8.79s\n",
      "2022-11-26 16:24:57,474 - base - recpack - INFO - Fitting TARSItemKNN complete - Took 8.85s\n",
      "2022-11-26 16:25:16,544 - base - recpack - INFO - Fitting TARSItemKNN complete - Took 8.85s\n",
      "2022-11-26 16:25:34,805 - base - recpack - INFO - Fitting TARSItemKNN complete - Took 8.85s\n",
      "2022-11-26 16:25:53,929 - base - recpack - INFO - Fitting TARSItemKNN complete - Took 8.97s\n",
      "2022-11-26 16:26:12,809 - base - recpack - INFO - Fitting TARSItemKNN complete - Took 9.01s\n",
      "2022-11-26 16:26:30,946 - base - recpack - INFO - Fitting TARSItemKNN complete - Took 8.87s\n",
      "2022-11-26 16:26:49,159 - base - recpack - INFO - Fitting TARSItemKNN complete - Took 8.94s\n",
      "2022-11-26 16:27:08,125 - base - recpack - INFO - Fitting TARSItemKNN complete - Took 8.95s\n",
      "2022-11-26 16:27:26,871 - base - recpack - INFO - Fitting TARSItemKNN complete - Took 9.14s\n",
      "2022-11-26 16:27:46,304 - base - recpack - INFO - Fitting TARSItemKNN complete - Took 9.05s\n",
      "2022-11-26 16:28:04,828 - base - recpack - INFO - Fitting TARSItemKNN complete - Took 8.99s\n",
      "2022-11-26 16:28:23,864 - base - recpack - INFO - Fitting TARSItemKNN complete - Took 8.99s\n",
      "2022-11-26 16:28:42,217 - base - recpack - INFO - Fitting TARSItemKNN complete - Took 9.02s\n",
      "2022-11-26 16:29:00,284 - base - recpack - INFO - Fitting TARSItemKNN complete - Took 9.01s\n",
      "2022-11-26 16:29:18,380 - base - recpack - INFO - Fitting TARSItemKNN complete - Took 9.02s\n",
      "2022-11-26 16:29:36,558 - base - recpack - INFO - Fitting TARSItemKNN complete - Took 9.11s\n",
      "2022-11-26 16:29:55,523 - base - recpack - INFO - Fitting TARSItemKNN complete - Took 9.35s\n",
      "2022-11-26 16:30:15,141 - base - recpack - INFO - Fitting TARSItemKNN complete - Took 9.27s\n",
      "2022-11-26 16:30:34,254 - base - recpack - INFO - Fitting TARSItemKNN complete - Took 9.17s\n",
      "2022-11-26 16:30:53,341 - base - recpack - INFO - Fitting TARSItemKNN complete - Took 9.15s\n",
      "2022-11-26 16:31:12,293 - base - recpack - INFO - Fitting TARSItemKNN complete - Took 9.16s\n",
      "2022-11-26 16:31:31,929 - base - recpack - INFO - Fitting TARSItemKNN complete - Took 9.12s\n"
     ]
    }
   ],
   "source": [
    "import warnings\n",
    "from scipy.sparse import SparseEfficiencyWarning\n",
    "warnings.simplefilter(\"ignore\", UserWarning)\n",
    "warnings.simplefilter(\"ignore\", SparseEfficiencyWarning)\n",
    "\n",
    "pipeline = builder.build()\n",
    "pipeline.run()"
   ]
  },
  {
   "cell_type": "code",
   "execution_count": 27,
   "metadata": {},
   "outputs": [
    {
     "data": {
      "text/html": [
       "<div>\n",
       "<style scoped>\n",
       "    .dataframe tbody tr th:only-of-type {\n",
       "        vertical-align: middle;\n",
       "    }\n",
       "\n",
       "    .dataframe tbody tr th {\n",
       "        vertical-align: top;\n",
       "    }\n",
       "\n",
       "    .dataframe thead th {\n",
       "        text-align: right;\n",
       "    }\n",
       "</style>\n",
       "<table border=\"1\" class=\"dataframe\">\n",
       "  <thead>\n",
       "    <tr style=\"text-align: right;\">\n",
       "      <th></th>\n",
       "      <th>identifier</th>\n",
       "      <th>params</th>\n",
       "      <th>recallk_12</th>\n",
       "    </tr>\n",
       "  </thead>\n",
       "  <tbody>\n",
       "    <tr>\n",
       "      <th>0</th>\n",
       "      <td>ItemKNN(K=50,normalize_X=True,normalize_sim=Tr...</td>\n",
       "      <td>{'K': 50, 'normalize_X': True, 'normalize_sim'...</td>\n",
       "      <td>0.056492</td>\n",
       "    </tr>\n",
       "    <tr>\n",
       "      <th>1</th>\n",
       "      <td>ItemKNN(K=50,normalize_X=False,normalize_sim=T...</td>\n",
       "      <td>{'K': 50, 'normalize_X': False, 'normalize_sim...</td>\n",
       "      <td>0.076311</td>\n",
       "    </tr>\n",
       "    <tr>\n",
       "      <th>2</th>\n",
       "      <td>ItemKNN(K=60,normalize_X=True,normalize_sim=Tr...</td>\n",
       "      <td>{'K': 60, 'normalize_X': True, 'normalize_sim'...</td>\n",
       "      <td>0.056344</td>\n",
       "    </tr>\n",
       "    <tr>\n",
       "      <th>3</th>\n",
       "      <td>ItemKNN(K=60,normalize_X=False,normalize_sim=T...</td>\n",
       "      <td>{'K': 60, 'normalize_X': False, 'normalize_sim...</td>\n",
       "      <td>0.076014</td>\n",
       "    </tr>\n",
       "    <tr>\n",
       "      <th>4</th>\n",
       "      <td>ItemKNN(K=70,normalize_X=True,normalize_sim=Tr...</td>\n",
       "      <td>{'K': 70, 'normalize_X': True, 'normalize_sim'...</td>\n",
       "      <td>0.056294</td>\n",
       "    </tr>\n",
       "    <tr>\n",
       "      <th>...</th>\n",
       "      <td>...</td>\n",
       "      <td>...</td>\n",
       "      <td>...</td>\n",
       "    </tr>\n",
       "    <tr>\n",
       "      <th>114</th>\n",
       "      <td>TARSItemKNN(K=670,fit_decay=0.2,predict_decay=...</td>\n",
       "      <td>{'K': 670, 'fit_decay': 0.2, 'predict_decay': ...</td>\n",
       "      <td>0.091731</td>\n",
       "    </tr>\n",
       "    <tr>\n",
       "      <th>115</th>\n",
       "      <td>TARSItemKNN(K=670,fit_decay=0.2,predict_decay=...</td>\n",
       "      <td>{'K': 670, 'fit_decay': 0.2, 'predict_decay': ...</td>\n",
       "      <td>0.083576</td>\n",
       "    </tr>\n",
       "    <tr>\n",
       "      <th>116</th>\n",
       "      <td>TARSItemKNN(K=670,fit_decay=0.1,predict_decay=...</td>\n",
       "      <td>{'K': 670, 'fit_decay': 0.1, 'predict_decay': ...</td>\n",
       "      <td>0.099244</td>\n",
       "    </tr>\n",
       "    <tr>\n",
       "      <th>117</th>\n",
       "      <td>TARSItemKNN(K=670,fit_decay=0.1,predict_decay=...</td>\n",
       "      <td>{'K': 670, 'fit_decay': 0.1, 'predict_decay': ...</td>\n",
       "      <td>0.094894</td>\n",
       "    </tr>\n",
       "    <tr>\n",
       "      <th>118</th>\n",
       "      <td>TARSItemKNN(K=670,fit_decay=0.1,predict_decay=...</td>\n",
       "      <td>{'K': 670, 'fit_decay': 0.1, 'predict_decay': ...</td>\n",
       "      <td>0.088173</td>\n",
       "    </tr>\n",
       "  </tbody>\n",
       "</table>\n",
       "<p>119 rows × 3 columns</p>\n",
       "</div>"
      ],
      "text/plain": [
       "                                            identifier  \\\n",
       "0    ItemKNN(K=50,normalize_X=True,normalize_sim=Tr...   \n",
       "1    ItemKNN(K=50,normalize_X=False,normalize_sim=T...   \n",
       "2    ItemKNN(K=60,normalize_X=True,normalize_sim=Tr...   \n",
       "3    ItemKNN(K=60,normalize_X=False,normalize_sim=T...   \n",
       "4    ItemKNN(K=70,normalize_X=True,normalize_sim=Tr...   \n",
       "..                                                 ...   \n",
       "114  TARSItemKNN(K=670,fit_decay=0.2,predict_decay=...   \n",
       "115  TARSItemKNN(K=670,fit_decay=0.2,predict_decay=...   \n",
       "116  TARSItemKNN(K=670,fit_decay=0.1,predict_decay=...   \n",
       "117  TARSItemKNN(K=670,fit_decay=0.1,predict_decay=...   \n",
       "118  TARSItemKNN(K=670,fit_decay=0.1,predict_decay=...   \n",
       "\n",
       "                                                params  recallk_12  \n",
       "0    {'K': 50, 'normalize_X': True, 'normalize_sim'...    0.056492  \n",
       "1    {'K': 50, 'normalize_X': False, 'normalize_sim...    0.076311  \n",
       "2    {'K': 60, 'normalize_X': True, 'normalize_sim'...    0.056344  \n",
       "3    {'K': 60, 'normalize_X': False, 'normalize_sim...    0.076014  \n",
       "4    {'K': 70, 'normalize_X': True, 'normalize_sim'...    0.056294  \n",
       "..                                                 ...         ...  \n",
       "114  {'K': 670, 'fit_decay': 0.2, 'predict_decay': ...    0.091731  \n",
       "115  {'K': 670, 'fit_decay': 0.2, 'predict_decay': ...    0.083576  \n",
       "116  {'K': 670, 'fit_decay': 0.1, 'predict_decay': ...    0.099244  \n",
       "117  {'K': 670, 'fit_decay': 0.1, 'predict_decay': ...    0.094894  \n",
       "118  {'K': 670, 'fit_decay': 0.1, 'predict_decay': ...    0.088173  \n",
       "\n",
       "[119 rows x 3 columns]"
      ]
     },
     "execution_count": 27,
     "metadata": {},
     "output_type": "execute_result"
    }
   ],
   "source": [
    "pipeline.optimisation_results"
   ]
  },
  {
   "cell_type": "code",
   "execution_count": 28,
   "metadata": {},
   "outputs": [
    {
     "data": {
      "text/html": [
       "<div>\n",
       "<style scoped>\n",
       "    .dataframe tbody tr th:only-of-type {\n",
       "        vertical-align: middle;\n",
       "    }\n",
       "\n",
       "    .dataframe tbody tr th {\n",
       "        vertical-align: top;\n",
       "    }\n",
       "\n",
       "    .dataframe thead th {\n",
       "        text-align: right;\n",
       "    }\n",
       "</style>\n",
       "<table border=\"1\" class=\"dataframe\">\n",
       "  <thead>\n",
       "    <tr style=\"text-align: right;\">\n",
       "      <th></th>\n",
       "      <th>precisionk_12</th>\n",
       "      <th>precisionk_20</th>\n",
       "      <th>precisionk_30</th>\n",
       "      <th>precisionk_40</th>\n",
       "      <th>recallk_12</th>\n",
       "      <th>recallk_20</th>\n",
       "      <th>recallk_30</th>\n",
       "      <th>recallk_40</th>\n",
       "    </tr>\n",
       "  </thead>\n",
       "  <tbody>\n",
       "    <tr>\n",
       "      <th>ItemKNN(K=50,normalize_X=False,normalize_sim=True,pop_discount=None,similarity=cosine)</th>\n",
       "      <td>0.006263</td>\n",
       "      <td>0.004779</td>\n",
       "      <td>0.003736</td>\n",
       "      <td>0.003153</td>\n",
       "      <td>0.075152</td>\n",
       "      <td>0.095571</td>\n",
       "      <td>0.112066</td>\n",
       "      <td>0.126120</td>\n",
       "    </tr>\n",
       "    <tr>\n",
       "      <th>TARSItemKNN(K=610,fit_decay=0.1,predict_decay=0.3333333333333333,similarity=cosine)</th>\n",
       "      <td>0.008543</td>\n",
       "      <td>0.006171</td>\n",
       "      <td>0.004791</td>\n",
       "      <td>0.003918</td>\n",
       "      <td>0.102519</td>\n",
       "      <td>0.123416</td>\n",
       "      <td>0.143728</td>\n",
       "      <td>0.156722</td>\n",
       "    </tr>\n",
       "  </tbody>\n",
       "</table>\n",
       "</div>"
      ],
      "text/plain": [
       "                                                    precisionk_12  \\\n",
       "ItemKNN(K=50,normalize_X=False,normalize_sim=Tr...       0.006263   \n",
       "TARSItemKNN(K=610,fit_decay=0.1,predict_decay=0...       0.008543   \n",
       "\n",
       "                                                    precisionk_20  \\\n",
       "ItemKNN(K=50,normalize_X=False,normalize_sim=Tr...       0.004779   \n",
       "TARSItemKNN(K=610,fit_decay=0.1,predict_decay=0...       0.006171   \n",
       "\n",
       "                                                    precisionk_30  \\\n",
       "ItemKNN(K=50,normalize_X=False,normalize_sim=Tr...       0.003736   \n",
       "TARSItemKNN(K=610,fit_decay=0.1,predict_decay=0...       0.004791   \n",
       "\n",
       "                                                    precisionk_40  recallk_12  \\\n",
       "ItemKNN(K=50,normalize_X=False,normalize_sim=Tr...       0.003153    0.075152   \n",
       "TARSItemKNN(K=610,fit_decay=0.1,predict_decay=0...       0.003918    0.102519   \n",
       "\n",
       "                                                    recallk_20  recallk_30  \\\n",
       "ItemKNN(K=50,normalize_X=False,normalize_sim=Tr...    0.095571    0.112066   \n",
       "TARSItemKNN(K=610,fit_decay=0.1,predict_decay=0...    0.123416    0.143728   \n",
       "\n",
       "                                                    recallk_40  \n",
       "ItemKNN(K=50,normalize_X=False,normalize_sim=Tr...    0.126120  \n",
       "TARSItemKNN(K=610,fit_decay=0.1,predict_decay=0...    0.156722  "
      ]
     },
     "execution_count": 28,
     "metadata": {},
     "output_type": "execute_result"
    }
   ],
   "source": [
    "pipeline.get_metrics()"
   ]
  },
  {
   "cell_type": "markdown",
   "metadata": {},
   "source": [
    "### Conclusion"
   ]
  },
  {
   "cell_type": "markdown",
   "metadata": {},
   "source": [
    "The recall@12 is significantly better in the `TimedLastItemPrediction` scenario compared to the `Timed` scenario. However, I was not sure whether this scenario was applicable to our use case, so I went to the recpack documentation on `TimedLastItemPrediction`, which says the following:\n",
    "\n",
    "*\"Predict users’ last interaction, given information about historical interactions. ... The scenario splits the data such that the last interaction of a user is the target for prediction, while the earlier ones are used for training and as history.\"*\n",
    "\n",
    "From this description, it seems to me that this scenario is not well-suited for what we are trying to achieve. The goal in the H&M recommendation problem requires us to predict all interactions a user makes in week $t + 1$, given their interaction history up until week $t$. However, the `TimedLastItemPrediction` scenario targets only a single user interaction for prediction, namely the last interaction that a user performs."
   ]
  }
 ],
 "metadata": {
  "kernelspec": {
   "display_name": "Python 3 (ipykernel)",
   "language": "python",
   "name": "python3"
  },
  "language_info": {
   "codemirror_mode": {
    "name": "ipython",
    "version": 3
   },
   "file_extension": ".py",
   "mimetype": "text/x-python",
   "name": "python",
   "nbconvert_exporter": "python",
   "pygments_lexer": "ipython3",
   "version": "3.10.8"
  },
  "orig_nbformat": 4,
  "vscode": {
   "interpreter": {
    "hash": "cb76f6fb9cefb4ce395c63b53ca0fc61c280bfa44c4aea4ac470b086d5108ff0"
   }
  }
 },
 "nbformat": 4,
 "nbformat_minor": 2
}
