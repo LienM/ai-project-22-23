{
 "cells": [
  {
   "cell_type": "code",
   "execution_count": 1,
   "id": "5687e28c",
   "metadata": {},
   "outputs": [],
   "source": [
    "import pandas as pd\n",
    "import numpy as np\n",
    "from scipy.sparse import csr_matrix\n",
    "from recpack.preprocessing.preprocessors import DataFramePreprocessor\n",
    "from recpack.preprocessing.filters import MinItemsPerUser, MinUsersPerItem\n",
    "from recpack.algorithms import TARSItemKNN, ItemKNN\n",
    "from recpack.scenarios import Timed\n",
    "from recpack.matrix import InteractionMatrix\n",
    "\n",
    "# import utils file from previous lecture\n",
    "import sys\n",
    "sys.path.append('../lecture4')\n",
    "from utils import DATA_PATH\n",
    "from evaluation import apk\n",
    "\n",
    "# This file builds on the code in https://github.com/radekosmulski/personalized_fashion_recs/blob/main/03a_Basic_Model_Local_Validation.ipynb"
   ]
  },
  {
   "cell_type": "code",
   "execution_count": 2,
   "id": "13fc4a82",
   "metadata": {},
   "outputs": [],
   "source": [
    "sample = False\n",
    "\n",
    "if sample:\n",
    "    transactions = pd.read_parquet(f'{DATA_PATH}/transactions_train_sample_0.05.parquet')\n",
    "    customers = pd.read_parquet(f'{DATA_PATH}/customers_sample_0.05.parquet')\n",
    "    articles = pd.read_parquet(f'{DATA_PATH}/articles_train_sample_0.05.parquet')\n",
    "else:\n",
    "    transactions = pd.read_parquet(f'{DATA_PATH}/transactions_train.parquet')\n",
    "    customers = pd.read_parquet(f'{DATA_PATH}/customers.parquet')\n",
    "    articles = pd.read_parquet(f'{DATA_PATH}/articles.parquet')"
   ]
  },
  {
   "cell_type": "code",
   "execution_count": 3,
   "id": "36a4cad3",
   "metadata": {},
   "outputs": [],
   "source": [
    "test_week = transactions.week.max()\n",
    "transactions = transactions[transactions.week != transactions.week.max()]\n",
    "transactions = transactions[transactions.week > transactions.week.max() - 10]"
   ]
  },
  {
   "cell_type": "markdown",
   "id": "56263b7a",
   "metadata": {},
   "source": [
    "# Generating candidates"
   ]
  },
  {
   "cell_type": "markdown",
   "id": "dbd43fcd",
   "metadata": {},
   "source": [
    "### Last purchase candidates"
   ]
  },
  {
   "cell_type": "code",
   "execution_count": 4,
   "id": "ca3b5729",
   "metadata": {},
   "outputs": [
    {
     "name": "stdout",
     "output_type": "stream",
     "text": [
      "CPU times: user 8.06 s, sys: 148 ms, total: 8.21 s\n",
      "Wall time: 8.25 s\n"
     ]
    }
   ],
   "source": [
    "%%time\n",
    "\n",
    "c2weeks = transactions.groupby('customer_id')['week'].unique()"
   ]
  },
  {
   "cell_type": "code",
   "execution_count": 5,
   "id": "c7fadf05",
   "metadata": {},
   "outputs": [
    {
     "name": "stdout",
     "output_type": "stream",
     "text": [
      "CPU times: user 244 ms, sys: 24.5 ms, total: 268 ms\n",
      "Wall time: 268 ms\n"
     ]
    }
   ],
   "source": [
    "%%time\n",
    "\n",
    "c2weeks2shifted_weeks = {}\n",
    "\n",
    "for c_id, weeks in c2weeks.items():\n",
    "    c2weeks2shifted_weeks[c_id] = {}\n",
    "    for i in range(weeks.shape[0]-1):\n",
    "        c2weeks2shifted_weeks[c_id][weeks[i]] = weeks[i+1]\n",
    "    c2weeks2shifted_weeks[c_id][weeks[-1]] = test_week"
   ]
  },
  {
   "cell_type": "code",
   "execution_count": 6,
   "id": "ba2972df",
   "metadata": {},
   "outputs": [],
   "source": [
    "candidates_last_purchase = transactions.copy()"
   ]
  },
  {
   "cell_type": "code",
   "execution_count": 7,
   "id": "b16858ca",
   "metadata": {},
   "outputs": [
    {
     "name": "stdout",
     "output_type": "stream",
     "text": [
      "CPU times: user 9.06 s, sys: 192 ms, total: 9.25 s\n",
      "Wall time: 9.25 s\n"
     ]
    }
   ],
   "source": [
    "%%time\n",
    "\n",
    "weeks = []\n",
    "for i, (c_id, week) in enumerate(zip(transactions['customer_id'], transactions['week'])):\n",
    "    weeks.append(c2weeks2shifted_weeks[c_id][week])\n",
    "    \n",
    "candidates_last_purchase.week=weeks"
   ]
  },
  {
   "cell_type": "markdown",
   "id": "4077cf9c",
   "metadata": {},
   "source": [
    "### Bestsellers candidates"
   ]
  },
  {
   "cell_type": "code",
   "execution_count": 8,
   "id": "8b794ef9",
   "metadata": {},
   "outputs": [],
   "source": [
    "mean_price = transactions \\\n",
    "    .groupby(['week', 'article_id'])['price'].mean()"
   ]
  },
  {
   "cell_type": "code",
   "execution_count": 9,
   "id": "5a8af89f",
   "metadata": {},
   "outputs": [],
   "source": [
    "sales = transactions \\\n",
    "    .groupby('week')['article_id'].value_counts() \\\n",
    "    .groupby('week').rank(method='dense', ascending=False) \\\n",
    "    .groupby('week').head(12).rename('bestseller_rank').astype('int8')"
   ]
  },
  {
   "cell_type": "code",
   "execution_count": 10,
   "id": "2493627e",
   "metadata": {},
   "outputs": [],
   "source": [
    "bestsellers_previous_week = pd.merge(sales, mean_price, on=['week', 'article_id']).reset_index()\n",
    "bestsellers_previous_week.week += 1"
   ]
  },
  {
   "cell_type": "code",
   "execution_count": 11,
   "id": "1e5fad4d",
   "metadata": {},
   "outputs": [],
   "source": [
    "unique_transactions = transactions \\\n",
    "    .groupby(['week', 'customer_id']) \\\n",
    "    .head(1) \\\n",
    "    .drop(columns=['article_id', 'price']) \\\n",
    "    .copy()"
   ]
  },
  {
   "cell_type": "code",
   "execution_count": 12,
   "id": "9fd13379",
   "metadata": {},
   "outputs": [],
   "source": [
    "candidates_bestsellers = pd.merge(\n",
    "    unique_transactions,\n",
    "    bestsellers_previous_week,\n",
    "    on='week',\n",
    ")"
   ]
  },
  {
   "cell_type": "code",
   "execution_count": 13,
   "id": "22bba3fb",
   "metadata": {},
   "outputs": [],
   "source": [
    "test_set_transactions = unique_transactions.drop_duplicates('customer_id').reset_index(drop=True)\n",
    "test_set_transactions.week = test_week"
   ]
  },
  {
   "cell_type": "code",
   "execution_count": 14,
   "id": "7c201014",
   "metadata": {},
   "outputs": [
    {
     "data": {
      "text/html": [
       "<div>\n",
       "<style scoped>\n",
       "    .dataframe tbody tr th:only-of-type {\n",
       "        vertical-align: middle;\n",
       "    }\n",
       "\n",
       "    .dataframe tbody tr th {\n",
       "        vertical-align: top;\n",
       "    }\n",
       "\n",
       "    .dataframe thead th {\n",
       "        text-align: right;\n",
       "    }\n",
       "</style>\n",
       "<table border=\"1\" class=\"dataframe\">\n",
       "  <thead>\n",
       "    <tr style=\"text-align: right;\">\n",
       "      <th></th>\n",
       "      <th>t_dat</th>\n",
       "      <th>customer_id</th>\n",
       "      <th>sales_channel_id</th>\n",
       "      <th>week</th>\n",
       "      <th>article_id</th>\n",
       "      <th>bestseller_rank</th>\n",
       "      <th>price</th>\n",
       "    </tr>\n",
       "  </thead>\n",
       "  <tbody>\n",
       "    <tr>\n",
       "      <th>0</th>\n",
       "      <td>2020-07-08</td>\n",
       "      <td>857913002275398</td>\n",
       "      <td>1</td>\n",
       "      <td>104</td>\n",
       "      <td>909370001</td>\n",
       "      <td>1</td>\n",
       "      <td>0.032947</td>\n",
       "    </tr>\n",
       "    <tr>\n",
       "      <th>1</th>\n",
       "      <td>2020-07-08</td>\n",
       "      <td>857913002275398</td>\n",
       "      <td>1</td>\n",
       "      <td>104</td>\n",
       "      <td>865799006</td>\n",
       "      <td>2</td>\n",
       "      <td>0.033340</td>\n",
       "    </tr>\n",
       "    <tr>\n",
       "      <th>2</th>\n",
       "      <td>2020-07-08</td>\n",
       "      <td>857913002275398</td>\n",
       "      <td>1</td>\n",
       "      <td>104</td>\n",
       "      <td>918522001</td>\n",
       "      <td>3</td>\n",
       "      <td>0.041416</td>\n",
       "    </tr>\n",
       "    <tr>\n",
       "      <th>3</th>\n",
       "      <td>2020-07-08</td>\n",
       "      <td>857913002275398</td>\n",
       "      <td>1</td>\n",
       "      <td>104</td>\n",
       "      <td>924243001</td>\n",
       "      <td>4</td>\n",
       "      <td>0.041549</td>\n",
       "    </tr>\n",
       "    <tr>\n",
       "      <th>4</th>\n",
       "      <td>2020-07-08</td>\n",
       "      <td>857913002275398</td>\n",
       "      <td>1</td>\n",
       "      <td>104</td>\n",
       "      <td>448509014</td>\n",
       "      <td>5</td>\n",
       "      <td>0.041604</td>\n",
       "    </tr>\n",
       "  </tbody>\n",
       "</table>\n",
       "</div>"
      ],
      "text/plain": [
       "       t_dat      customer_id  sales_channel_id  week  article_id  \\\n",
       "0 2020-07-08  857913002275398                 1   104   909370001   \n",
       "1 2020-07-08  857913002275398                 1   104   865799006   \n",
       "2 2020-07-08  857913002275398                 1   104   918522001   \n",
       "3 2020-07-08  857913002275398                 1   104   924243001   \n",
       "4 2020-07-08  857913002275398                 1   104   448509014   \n",
       "\n",
       "   bestseller_rank     price  \n",
       "0                1  0.032947  \n",
       "1                2  0.033340  \n",
       "2                3  0.041416  \n",
       "3                4  0.041549  \n",
       "4                5  0.041604  "
      ]
     },
     "execution_count": 14,
     "metadata": {},
     "output_type": "execute_result"
    }
   ],
   "source": [
    "candidates_bestsellers_test_week = pd.merge(\n",
    "    test_set_transactions,\n",
    "    bestsellers_previous_week,\n",
    "    on='week'\n",
    ")\n",
    "candidates_bestsellers_test_week.head()"
   ]
  },
  {
   "cell_type": "code",
   "execution_count": 15,
   "id": "06c37a38",
   "metadata": {},
   "outputs": [
    {
     "data": {
      "text/html": [
       "<div>\n",
       "<style scoped>\n",
       "    .dataframe tbody tr th:only-of-type {\n",
       "        vertical-align: middle;\n",
       "    }\n",
       "\n",
       "    .dataframe tbody tr th {\n",
       "        vertical-align: top;\n",
       "    }\n",
       "\n",
       "    .dataframe thead th {\n",
       "        text-align: right;\n",
       "    }\n",
       "</style>\n",
       "<table border=\"1\" class=\"dataframe\">\n",
       "  <thead>\n",
       "    <tr style=\"text-align: right;\">\n",
       "      <th></th>\n",
       "      <th>t_dat</th>\n",
       "      <th>customer_id</th>\n",
       "      <th>sales_channel_id</th>\n",
       "      <th>week</th>\n",
       "      <th>article_id</th>\n",
       "      <th>price</th>\n",
       "    </tr>\n",
       "  </thead>\n",
       "  <tbody>\n",
       "    <tr>\n",
       "      <th>0</th>\n",
       "      <td>2020-07-15</td>\n",
       "      <td>272412481300040</td>\n",
       "      <td>1</td>\n",
       "      <td>95</td>\n",
       "      <td>806388001</td>\n",
       "      <td>0.013301</td>\n",
       "    </tr>\n",
       "    <tr>\n",
       "      <th>1</th>\n",
       "      <td>2020-07-15</td>\n",
       "      <td>272412481300040</td>\n",
       "      <td>1</td>\n",
       "      <td>95</td>\n",
       "      <td>730683021</td>\n",
       "      <td>0.025643</td>\n",
       "    </tr>\n",
       "    <tr>\n",
       "      <th>2</th>\n",
       "      <td>2020-07-15</td>\n",
       "      <td>272412481300040</td>\n",
       "      <td>1</td>\n",
       "      <td>95</td>\n",
       "      <td>610776002</td>\n",
       "      <td>0.008303</td>\n",
       "    </tr>\n",
       "    <tr>\n",
       "      <th>3</th>\n",
       "      <td>2020-07-15</td>\n",
       "      <td>272412481300040</td>\n",
       "      <td>1</td>\n",
       "      <td>95</td>\n",
       "      <td>805308002</td>\n",
       "      <td>0.013609</td>\n",
       "    </tr>\n",
       "    <tr>\n",
       "      <th>4</th>\n",
       "      <td>2020-07-15</td>\n",
       "      <td>272412481300040</td>\n",
       "      <td>1</td>\n",
       "      <td>95</td>\n",
       "      <td>866383006</td>\n",
       "      <td>0.024971</td>\n",
       "    </tr>\n",
       "  </tbody>\n",
       "</table>\n",
       "</div>"
      ],
      "text/plain": [
       "       t_dat      customer_id  sales_channel_id  week  article_id     price\n",
       "0 2020-07-15  272412481300040                 1    95   806388001  0.013301\n",
       "1 2020-07-15  272412481300040                 1    95   730683021  0.025643\n",
       "2 2020-07-15  272412481300040                 1    95   610776002  0.008303\n",
       "3 2020-07-15  272412481300040                 1    95   805308002  0.013609\n",
       "4 2020-07-15  272412481300040                 1    95   866383006  0.024971"
      ]
     },
     "execution_count": 15,
     "metadata": {},
     "output_type": "execute_result"
    }
   ],
   "source": [
    "candidates_bestsellers = pd.concat([candidates_bestsellers, candidates_bestsellers_test_week])\n",
    "candidates_bestsellers.drop(columns='bestseller_rank', inplace=True)\n",
    "candidates_bestsellers.head()"
   ]
  },
  {
   "cell_type": "markdown",
   "id": "5554873c",
   "metadata": {},
   "source": [
    "### K most similar items"
   ]
  },
  {
   "cell_type": "code",
   "execution_count": 16,
   "id": "3f41b044",
   "metadata": {},
   "outputs": [
    {
     "data": {
      "application/vnd.jupyter.widget-view+json": {
       "model_id": "0baa5ddf5e5143c4a8964f6caf9c2144",
       "version_major": 2,
       "version_minor": 0
      },
      "text/plain": [
       "  0%|          | 0/1264753 [00:00<?, ?it/s]"
      ]
     },
     "metadata": {},
     "output_type": "display_data"
    },
    {
     "data": {
      "application/vnd.jupyter.widget-view+json": {
       "model_id": "dbb50825a11e4c7c8734635ad524e5e7",
       "version_major": 2,
       "version_minor": 0
      },
      "text/plain": [
       "  0%|          | 0/1264753 [00:00<?, ?it/s]"
      ]
     },
     "metadata": {},
     "output_type": "display_data"
    }
   ],
   "source": [
    "proc = DataFramePreprocessor(item_ix='article_id', user_ix='customer_id', timestamp_ix='week')\n",
    "proc.add_filter(MinUsersPerItem(10, item_ix='article_id', user_ix='customer_id'))\n",
    "proc.add_filter(MinItemsPerUser(10, item_ix='article_id', user_ix='customer_id'))\n",
    "\n",
    "transaction_matrix = proc.process(transactions)"
   ]
  },
  {
   "cell_type": "code",
   "execution_count": 17,
   "id": "da0b2825",
   "metadata": {},
   "outputs": [
    {
     "name": "stdout",
     "output_type": "stream",
     "text": [
      "2022-11-27 12:24:52,750 - base - recpack - INFO - Fitting TARSItemKNN complete - Took 9.96s\n"
     ]
    },
    {
     "data": {
      "text/html": [
       "<style>#sk-container-id-1 {color: black;background-color: white;}#sk-container-id-1 pre{padding: 0;}#sk-container-id-1 div.sk-toggleable {background-color: white;}#sk-container-id-1 label.sk-toggleable__label {cursor: pointer;display: block;width: 100%;margin-bottom: 0;padding: 0.3em;box-sizing: border-box;text-align: center;}#sk-container-id-1 label.sk-toggleable__label-arrow:before {content: \"▸\";float: left;margin-right: 0.25em;color: #696969;}#sk-container-id-1 label.sk-toggleable__label-arrow:hover:before {color: black;}#sk-container-id-1 div.sk-estimator:hover label.sk-toggleable__label-arrow:before {color: black;}#sk-container-id-1 div.sk-toggleable__content {max-height: 0;max-width: 0;overflow: hidden;text-align: left;background-color: #f0f8ff;}#sk-container-id-1 div.sk-toggleable__content pre {margin: 0.2em;color: black;border-radius: 0.25em;background-color: #f0f8ff;}#sk-container-id-1 input.sk-toggleable__control:checked~div.sk-toggleable__content {max-height: 200px;max-width: 100%;overflow: auto;}#sk-container-id-1 input.sk-toggleable__control:checked~label.sk-toggleable__label-arrow:before {content: \"▾\";}#sk-container-id-1 div.sk-estimator input.sk-toggleable__control:checked~label.sk-toggleable__label {background-color: #d4ebff;}#sk-container-id-1 div.sk-label input.sk-toggleable__control:checked~label.sk-toggleable__label {background-color: #d4ebff;}#sk-container-id-1 input.sk-hidden--visually {border: 0;clip: rect(1px 1px 1px 1px);clip: rect(1px, 1px, 1px, 1px);height: 1px;margin: -1px;overflow: hidden;padding: 0;position: absolute;width: 1px;}#sk-container-id-1 div.sk-estimator {font-family: monospace;background-color: #f0f8ff;border: 1px dotted black;border-radius: 0.25em;box-sizing: border-box;margin-bottom: 0.5em;}#sk-container-id-1 div.sk-estimator:hover {background-color: #d4ebff;}#sk-container-id-1 div.sk-parallel-item::after {content: \"\";width: 100%;border-bottom: 1px solid gray;flex-grow: 1;}#sk-container-id-1 div.sk-label:hover label.sk-toggleable__label {background-color: #d4ebff;}#sk-container-id-1 div.sk-serial::before {content: \"\";position: absolute;border-left: 1px solid gray;box-sizing: border-box;top: 0;bottom: 0;left: 50%;z-index: 0;}#sk-container-id-1 div.sk-serial {display: flex;flex-direction: column;align-items: center;background-color: white;padding-right: 0.2em;padding-left: 0.2em;position: relative;}#sk-container-id-1 div.sk-item {position: relative;z-index: 1;}#sk-container-id-1 div.sk-parallel {display: flex;align-items: stretch;justify-content: center;background-color: white;position: relative;}#sk-container-id-1 div.sk-item::before, #sk-container-id-1 div.sk-parallel-item::before {content: \"\";position: absolute;border-left: 1px solid gray;box-sizing: border-box;top: 0;bottom: 0;left: 50%;z-index: -1;}#sk-container-id-1 div.sk-parallel-item {display: flex;flex-direction: column;z-index: 1;position: relative;background-color: white;}#sk-container-id-1 div.sk-parallel-item:first-child::after {align-self: flex-end;width: 50%;}#sk-container-id-1 div.sk-parallel-item:last-child::after {align-self: flex-start;width: 50%;}#sk-container-id-1 div.sk-parallel-item:only-child::after {width: 0;}#sk-container-id-1 div.sk-dashed-wrapped {border: 1px dashed gray;margin: 0 0.4em 0.5em 0.4em;box-sizing: border-box;padding-bottom: 0.4em;background-color: white;}#sk-container-id-1 div.sk-label label {font-family: monospace;font-weight: bold;display: inline-block;line-height: 1.2em;}#sk-container-id-1 div.sk-label-container {text-align: center;}#sk-container-id-1 div.sk-container {/* jupyter's `normalize.less` sets `[hidden] { display: none; }` but bootstrap.min.css set `[hidden] { display: none !important; }` so we also need the `!important` here to be able to override the default hidden behavior on the sphinx rendered scikit-learn.org. See: https://github.com/scikit-learn/scikit-learn/issues/21755 */display: inline-block !important;position: relative;}#sk-container-id-1 div.sk-text-repr-fallback {display: none;}</style><div id=\"sk-container-id-1\" class=\"sk-top-container\"><div class=\"sk-text-repr-fallback\"><pre>TARSItemKNN</pre><b>In a Jupyter environment, please rerun this cell to show the HTML representation or trust the notebook. <br />On GitHub, the HTML representation is unable to render, please try loading this page with nbviewer.org.</b></div><div class=\"sk-container\" hidden><div class=\"sk-item\"><div class=\"sk-estimator sk-toggleable\"><input class=\"sk-toggleable__control sk-hidden--visually\" id=\"sk-estimator-id-1\" type=\"checkbox\" checked><label for=\"sk-estimator-id-1\" class=\"sk-toggleable__label sk-toggleable__label-arrow\">TARSItemKNN</label><div class=\"sk-toggleable__content\"><pre>TARSItemKNN</pre></div></div></div></div></div>"
      ],
      "text/plain": [
       "TARSItemKNN(K=580, fit_decay=0.1, predict_decay=0.3333333333333333)"
      ]
     },
     "execution_count": 17,
     "metadata": {},
     "output_type": "execute_result"
    }
   ],
   "source": [
    "knn = TARSItemKNN(K=580, fit_decay=0.1, predict_decay=1/3, similarity='cosine')\n",
    "# knn = ItemKNN(K=90,normalize_X=False,normalize_sim=True,pop_discount=None,similarity='cosine') \n",
    "knn.fit(transaction_matrix)"
   ]
  },
  {
   "cell_type": "code",
   "execution_count": 18,
   "id": "9202c0d2",
   "metadata": {},
   "outputs": [],
   "source": [
    "prediction_matrix = knn.predict(transaction_matrix)"
   ]
  },
  {
   "cell_type": "code",
   "execution_count": 19,
   "id": "51ccb79f",
   "metadata": {},
   "outputs": [],
   "source": [
    "def not_bought_by_user(interaction_matrix: csr_matrix) -> csr_matrix:\n",
    "    \"\"\"given a csr_matrix, set all values > 0 to 0, and all values == 0 to 1\n",
    "    \"\"\"\n",
    "    return csr_matrix(np.ones(interaction_matrix.shape) - (interaction_matrix >= 1), dtype=int)"
   ]
  },
  {
   "cell_type": "code",
   "execution_count": 20,
   "id": "6e921347",
   "metadata": {},
   "outputs": [],
   "source": [
    "# only keep predictions for items that the user has not bought yet\n",
    "not_bought_matrix = not_bought_by_user(transaction_matrix.values)"
   ]
  },
  {
   "cell_type": "code",
   "execution_count": 21,
   "id": "8d62c14c",
   "metadata": {},
   "outputs": [],
   "source": [
    "similar_unbought_items_matrix = prediction_matrix.multiply(not_bought_matrix)"
   ]
  },
  {
   "cell_type": "code",
   "execution_count": 22,
   "id": "ef66a036",
   "metadata": {},
   "outputs": [],
   "source": [
    "def top_n_idx_sparse(matrix: csr_matrix, n: int):\n",
    "    \"\"\"Return index of top n values in each row of a sparse matrix.\n",
    "    source: https://stackoverflow.com/questions/49207275/finding-the-top-n-values-in-a-row-of-a-scipy-sparse-matrix\n",
    "    \"\"\"\n",
    "    top_n_idx = []\n",
    "    for le, ri in zip(matrix.indptr[:-1], matrix.indptr[1:]):\n",
    "        n_row_pick = min(n, ri - le)\n",
    "        top_n_idx.append(matrix.indices[le + np.argpartition(matrix.data[le:ri], -n_row_pick)[-n_row_pick:]].tolist())\n",
    "    \n",
    "    # Get the values corresponding to the indices\n",
    "    top_n_values = []\n",
    "    for row_idx, col_idxs in enumerate(top_n_idx):\n",
    "        top_n_values.append(matrix[row_idx, col_idxs].toarray().tolist()[0])\n",
    "        assert(len(top_n_values[row_idx]) == len(top_n_idx[row_idx]))\n",
    "    return top_n_idx, top_n_values\n",
    "\n",
    "def get_top_k_similar_articles_per_user(prediction_matrix: csr_matrix, interaction_matrix: InteractionMatrix, k: int) -> pd.DataFrame:\n",
    "    \"\"\"given a prediction matrix and a transaction matrix, return a dataframe with the top k similar articles per user\n",
    "    \"\"\"\n",
    "    # use interaction_matrix._df to map back to original customer and article ids\n",
    "    uid_cid_map = interaction_matrix._df[[\"uid\", \"customer_id\"]].drop_duplicates().set_index(\"uid\").to_dict()[\"customer_id\"]\n",
    "    iid_aid_map = interaction_matrix._df[[\"iid\", \"article_id\"]].drop_duplicates().set_index(\"iid\").to_dict()[\"article_id\"]\n",
    "\n",
    "    # get column indices of top k articles per user\n",
    "    top_k_idx, top_k_values = top_n_idx_sparse(prediction_matrix, k)\n",
    "\n",
    "    similar_customers = []\n",
    "    similar_articles = []\n",
    "    similarity_scores = []\n",
    "\n",
    "    for i, row in enumerate(top_k_idx):\n",
    "        user_predictions = [iid_aid_map[iid] for iid in row]\n",
    "        similar_customers.extend([uid_cid_map[i]] * len(user_predictions))\n",
    "        similar_articles.extend(user_predictions)\n",
    "        similarity_scores.extend(top_k_values[i])\n",
    "\n",
    "        \n",
    "    assert len(similar_customers) == len(similar_articles) == len(similarity_scores), \"lengths of lists should be equal\"\n",
    "    return pd.DataFrame({\"customer_id\": similar_customers, \"article_id\": similar_articles, \"similarity\": similarity_scores})"
   ]
  },
  {
   "cell_type": "code",
   "execution_count": 23,
   "id": "f4257093",
   "metadata": {},
   "outputs": [],
   "source": [
    "similar_items = get_top_k_similar_articles_per_user(prediction_matrix, transaction_matrix, k=12)"
   ]
  },
  {
   "cell_type": "code",
   "execution_count": 24,
   "id": "67ec71e9",
   "metadata": {},
   "outputs": [
    {
     "data": {
      "text/html": [
       "<div>\n",
       "<style scoped>\n",
       "    .dataframe tbody tr th:only-of-type {\n",
       "        vertical-align: middle;\n",
       "    }\n",
       "\n",
       "    .dataframe tbody tr th {\n",
       "        vertical-align: top;\n",
       "    }\n",
       "\n",
       "    .dataframe thead th {\n",
       "        text-align: right;\n",
       "    }\n",
       "</style>\n",
       "<table border=\"1\" class=\"dataframe\">\n",
       "  <thead>\n",
       "    <tr style=\"text-align: right;\">\n",
       "      <th></th>\n",
       "      <th>t_dat</th>\n",
       "      <th>customer_id</th>\n",
       "      <th>sales_channel_id</th>\n",
       "      <th>week</th>\n",
       "    </tr>\n",
       "  </thead>\n",
       "  <tbody>\n",
       "    <tr>\n",
       "      <th>0</th>\n",
       "      <td>2020-07-08</td>\n",
       "      <td>857913002275398</td>\n",
       "      <td>1</td>\n",
       "      <td>104</td>\n",
       "    </tr>\n",
       "    <tr>\n",
       "      <th>1</th>\n",
       "      <td>2020-07-08</td>\n",
       "      <td>1658289241058394</td>\n",
       "      <td>1</td>\n",
       "      <td>104</td>\n",
       "    </tr>\n",
       "    <tr>\n",
       "      <th>2</th>\n",
       "      <td>2020-07-08</td>\n",
       "      <td>3828854365940846</td>\n",
       "      <td>1</td>\n",
       "      <td>104</td>\n",
       "    </tr>\n",
       "    <tr>\n",
       "      <th>3</th>\n",
       "      <td>2020-07-08</td>\n",
       "      <td>4195624216542755</td>\n",
       "      <td>1</td>\n",
       "      <td>104</td>\n",
       "    </tr>\n",
       "    <tr>\n",
       "      <th>4</th>\n",
       "      <td>2020-07-08</td>\n",
       "      <td>4233235614030232</td>\n",
       "      <td>2</td>\n",
       "      <td>104</td>\n",
       "    </tr>\n",
       "  </tbody>\n",
       "</table>\n",
       "</div>"
      ],
      "text/plain": [
       "       t_dat       customer_id  sales_channel_id  week\n",
       "0 2020-07-08   857913002275398                 1   104\n",
       "1 2020-07-08  1658289241058394                 1   104\n",
       "2 2020-07-08  3828854365940846                 1   104\n",
       "3 2020-07-08  4195624216542755                 1   104\n",
       "4 2020-07-08  4233235614030232                 2   104"
      ]
     },
     "execution_count": 24,
     "metadata": {},
     "output_type": "execute_result"
    }
   ],
   "source": [
    "test_set_transactions.head()"
   ]
  },
  {
   "cell_type": "code",
   "execution_count": 25,
   "id": "76af8920",
   "metadata": {},
   "outputs": [
    {
     "data": {
      "text/html": [
       "<div>\n",
       "<style scoped>\n",
       "    .dataframe tbody tr th:only-of-type {\n",
       "        vertical-align: middle;\n",
       "    }\n",
       "\n",
       "    .dataframe tbody tr th {\n",
       "        vertical-align: top;\n",
       "    }\n",
       "\n",
       "    .dataframe thead th {\n",
       "        text-align: right;\n",
       "    }\n",
       "</style>\n",
       "<table border=\"1\" class=\"dataframe\">\n",
       "  <thead>\n",
       "    <tr style=\"text-align: right;\">\n",
       "      <th></th>\n",
       "      <th>customer_id</th>\n",
       "      <th>article_id</th>\n",
       "      <th>t_dat</th>\n",
       "      <th>sales_channel_id</th>\n",
       "      <th>week</th>\n",
       "    </tr>\n",
       "  </thead>\n",
       "  <tbody>\n",
       "    <tr>\n",
       "      <th>0</th>\n",
       "      <td>857913002275398</td>\n",
       "      <td>599580038</td>\n",
       "      <td>2020-07-08</td>\n",
       "      <td>1</td>\n",
       "      <td>104</td>\n",
       "    </tr>\n",
       "    <tr>\n",
       "      <th>1</th>\n",
       "      <td>857913002275398</td>\n",
       "      <td>730863043</td>\n",
       "      <td>2020-07-08</td>\n",
       "      <td>1</td>\n",
       "      <td>104</td>\n",
       "    </tr>\n",
       "    <tr>\n",
       "      <th>2</th>\n",
       "      <td>857913002275398</td>\n",
       "      <td>636207014</td>\n",
       "      <td>2020-07-08</td>\n",
       "      <td>1</td>\n",
       "      <td>104</td>\n",
       "    </tr>\n",
       "    <tr>\n",
       "      <th>3</th>\n",
       "      <td>857913002275398</td>\n",
       "      <td>720504010</td>\n",
       "      <td>2020-07-08</td>\n",
       "      <td>1</td>\n",
       "      <td>104</td>\n",
       "    </tr>\n",
       "    <tr>\n",
       "      <th>4</th>\n",
       "      <td>857913002275398</td>\n",
       "      <td>865595002</td>\n",
       "      <td>2020-07-08</td>\n",
       "      <td>1</td>\n",
       "      <td>104</td>\n",
       "    </tr>\n",
       "  </tbody>\n",
       "</table>\n",
       "</div>"
      ],
      "text/plain": [
       "       customer_id  article_id      t_dat  sales_channel_id  week\n",
       "0  857913002275398   599580038 2020-07-08                 1   104\n",
       "1  857913002275398   730863043 2020-07-08                 1   104\n",
       "2  857913002275398   636207014 2020-07-08                 1   104\n",
       "3  857913002275398   720504010 2020-07-08                 1   104\n",
       "4  857913002275398   865595002 2020-07-08                 1   104"
      ]
     },
     "execution_count": 25,
     "metadata": {},
     "output_type": "execute_result"
    }
   ],
   "source": [
    "candidates_similar_items = pd.merge(\n",
    "    similar_items,\n",
    "    test_set_transactions,\n",
    "    on='customer_id',\n",
    "    how='left'\n",
    ")\n",
    "\n",
    "candidates_similar_items.drop(columns='similarity', inplace=True)\n",
    "candidates_similar_items.head()"
   ]
  },
  {
   "cell_type": "code",
   "execution_count": 26,
   "id": "70929304",
   "metadata": {},
   "outputs": [
    {
     "data": {
      "text/html": [
       "<div>\n",
       "<style scoped>\n",
       "    .dataframe tbody tr th:only-of-type {\n",
       "        vertical-align: middle;\n",
       "    }\n",
       "\n",
       "    .dataframe tbody tr th {\n",
       "        vertical-align: top;\n",
       "    }\n",
       "\n",
       "    .dataframe thead th {\n",
       "        text-align: right;\n",
       "    }\n",
       "</style>\n",
       "<table border=\"1\" class=\"dataframe\">\n",
       "  <thead>\n",
       "    <tr style=\"text-align: right;\">\n",
       "      <th></th>\n",
       "      <th>article_id</th>\n",
       "      <th>price</th>\n",
       "    </tr>\n",
       "  </thead>\n",
       "  <tbody>\n",
       "    <tr>\n",
       "      <th>0</th>\n",
       "      <td>108775015</td>\n",
       "      <td>0.002068</td>\n",
       "    </tr>\n",
       "    <tr>\n",
       "      <th>1</th>\n",
       "      <td>108775044</td>\n",
       "      <td>0.008458</td>\n",
       "    </tr>\n",
       "    <tr>\n",
       "      <th>2</th>\n",
       "      <td>110065001</td>\n",
       "      <td>0.006763</td>\n",
       "    </tr>\n",
       "    <tr>\n",
       "      <th>3</th>\n",
       "      <td>110065002</td>\n",
       "      <td>0.005186</td>\n",
       "    </tr>\n",
       "    <tr>\n",
       "      <th>4</th>\n",
       "      <td>110065011</td>\n",
       "      <td>0.011847</td>\n",
       "    </tr>\n",
       "  </tbody>\n",
       "</table>\n",
       "</div>"
      ],
      "text/plain": [
       "   article_id     price\n",
       "0   108775015  0.002068\n",
       "1   108775044  0.008458\n",
       "2   110065001  0.006763\n",
       "3   110065002  0.005186\n",
       "4   110065011  0.011847"
      ]
     },
     "execution_count": 26,
     "metadata": {},
     "output_type": "execute_result"
    }
   ],
   "source": [
    "# get the last price of all article_id's\n",
    "last_price = transactions \\\n",
    "    .groupby(['article_id', 'week']) \\\n",
    "    .price \\\n",
    "    .last() \\\n",
    "    .reset_index() \\\n",
    "    .groupby('article_id') \\\n",
    "    .price \\\n",
    "    .last() \\\n",
    "    .reset_index()\n",
    "    \n",
    "last_price.head()"
   ]
  },
  {
   "cell_type": "code",
   "execution_count": 27,
   "id": "c81fbb75",
   "metadata": {},
   "outputs": [
    {
     "data": {
      "text/html": [
       "<div>\n",
       "<style scoped>\n",
       "    .dataframe tbody tr th:only-of-type {\n",
       "        vertical-align: middle;\n",
       "    }\n",
       "\n",
       "    .dataframe tbody tr th {\n",
       "        vertical-align: top;\n",
       "    }\n",
       "\n",
       "    .dataframe thead th {\n",
       "        text-align: right;\n",
       "    }\n",
       "</style>\n",
       "<table border=\"1\" class=\"dataframe\">\n",
       "  <thead>\n",
       "    <tr style=\"text-align: right;\">\n",
       "      <th></th>\n",
       "      <th>customer_id</th>\n",
       "      <th>article_id</th>\n",
       "      <th>t_dat</th>\n",
       "      <th>sales_channel_id</th>\n",
       "      <th>week</th>\n",
       "      <th>price</th>\n",
       "    </tr>\n",
       "  </thead>\n",
       "  <tbody>\n",
       "    <tr>\n",
       "      <th>0</th>\n",
       "      <td>857913002275398</td>\n",
       "      <td>599580038</td>\n",
       "      <td>2020-07-08</td>\n",
       "      <td>1</td>\n",
       "      <td>104</td>\n",
       "      <td>0.016932</td>\n",
       "    </tr>\n",
       "    <tr>\n",
       "      <th>1</th>\n",
       "      <td>857913002275398</td>\n",
       "      <td>730863043</td>\n",
       "      <td>2020-07-08</td>\n",
       "      <td>1</td>\n",
       "      <td>104</td>\n",
       "      <td>0.049932</td>\n",
       "    </tr>\n",
       "    <tr>\n",
       "      <th>2</th>\n",
       "      <td>857913002275398</td>\n",
       "      <td>636207014</td>\n",
       "      <td>2020-07-08</td>\n",
       "      <td>1</td>\n",
       "      <td>104</td>\n",
       "      <td>0.033881</td>\n",
       "    </tr>\n",
       "    <tr>\n",
       "      <th>3</th>\n",
       "      <td>857913002275398</td>\n",
       "      <td>720504010</td>\n",
       "      <td>2020-07-08</td>\n",
       "      <td>1</td>\n",
       "      <td>104</td>\n",
       "      <td>0.033881</td>\n",
       "    </tr>\n",
       "    <tr>\n",
       "      <th>4</th>\n",
       "      <td>857913002275398</td>\n",
       "      <td>865595002</td>\n",
       "      <td>2020-07-08</td>\n",
       "      <td>1</td>\n",
       "      <td>104</td>\n",
       "      <td>0.015356</td>\n",
       "    </tr>\n",
       "  </tbody>\n",
       "</table>\n",
       "</div>"
      ],
      "text/plain": [
       "       customer_id  article_id      t_dat  sales_channel_id  week     price\n",
       "0  857913002275398   599580038 2020-07-08                 1   104  0.016932\n",
       "1  857913002275398   730863043 2020-07-08                 1   104  0.049932\n",
       "2  857913002275398   636207014 2020-07-08                 1   104  0.033881\n",
       "3  857913002275398   720504010 2020-07-08                 1   104  0.033881\n",
       "4  857913002275398   865595002 2020-07-08                 1   104  0.015356"
      ]
     },
     "execution_count": 27,
     "metadata": {},
     "output_type": "execute_result"
    }
   ],
   "source": [
    "candidates_similar_items = pd.merge(\n",
    "    candidates_similar_items,\n",
    "    last_price,\n",
    "    on='article_id',\n",
    "    how='left'\n",
    ")\n",
    "\n",
    "candidates_similar_items.head()"
   ]
  },
  {
   "cell_type": "markdown",
   "id": "636b1cf6",
   "metadata": {},
   "source": [
    "### Time-weighted popularity candidates"
   ]
  },
  {
   "cell_type": "code",
   "execution_count": 28,
   "id": "9bd4a2c7",
   "metadata": {},
   "outputs": [
    {
     "data": {
      "text/html": [
       "<div>\n",
       "<style scoped>\n",
       "    .dataframe tbody tr th:only-of-type {\n",
       "        vertical-align: middle;\n",
       "    }\n",
       "\n",
       "    .dataframe tbody tr th {\n",
       "        vertical-align: top;\n",
       "    }\n",
       "\n",
       "    .dataframe thead th {\n",
       "        text-align: right;\n",
       "    }\n",
       "</style>\n",
       "<table border=\"1\" class=\"dataframe\">\n",
       "  <thead>\n",
       "    <tr style=\"text-align: right;\">\n",
       "      <th></th>\n",
       "      <th>article_id</th>\n",
       "      <th>week</th>\n",
       "      <th>weekly_purchase_count</th>\n",
       "    </tr>\n",
       "  </thead>\n",
       "  <tbody>\n",
       "    <tr>\n",
       "      <th>0</th>\n",
       "      <td>108775015</td>\n",
       "      <td>95</td>\n",
       "      <td>2</td>\n",
       "    </tr>\n",
       "    <tr>\n",
       "      <th>1</th>\n",
       "      <td>108775015</td>\n",
       "      <td>96</td>\n",
       "      <td>1</td>\n",
       "    </tr>\n",
       "    <tr>\n",
       "      <th>2</th>\n",
       "      <td>108775044</td>\n",
       "      <td>94</td>\n",
       "      <td>17</td>\n",
       "    </tr>\n",
       "    <tr>\n",
       "      <th>3</th>\n",
       "      <td>108775044</td>\n",
       "      <td>95</td>\n",
       "      <td>3</td>\n",
       "    </tr>\n",
       "    <tr>\n",
       "      <th>4</th>\n",
       "      <td>108775044</td>\n",
       "      <td>96</td>\n",
       "      <td>8</td>\n",
       "    </tr>\n",
       "  </tbody>\n",
       "</table>\n",
       "</div>"
      ],
      "text/plain": [
       "   article_id  week  weekly_purchase_count\n",
       "0   108775015    95                      2\n",
       "1   108775015    96                      1\n",
       "2   108775044    94                     17\n",
       "3   108775044    95                      3\n",
       "4   108775044    96                      8"
      ]
     },
     "execution_count": 28,
     "metadata": {},
     "output_type": "execute_result"
    }
   ],
   "source": [
    "popularity = transactions\\\n",
    "    .groupby(['article_id', 'week']).size().reset_index(name='weekly_purchase_count')\\\n",
    "\n",
    "popularity.head()"
   ]
  },
  {
   "cell_type": "code",
   "execution_count": 29,
   "id": "b1563c79",
   "metadata": {},
   "outputs": [],
   "source": [
    "weekly_popularity = []\n",
    "def func(row):\n",
    "    weeks_before = popularity[(row.article_id == popularity.article_id) & (row.week > popularity.week)]\n",
    "    # get last row of weeks_before\n",
    "    previous_week_popularity = 0\n",
    "    if weeks_before.shape[0] > 0:\n",
    "        previous_week_popularity = weekly_popularity[-1]\n",
    "    return previous_week_popularity / 2.0 + float(row.weekly_purchase_count)"
   ]
  },
  {
   "cell_type": "code",
   "execution_count": 30,
   "id": "fa863b3a",
   "metadata": {},
   "outputs": [],
   "source": [
    "# iterate over all rows\n",
    "for i, row in popularity.iterrows():\n",
    "    weekly_popularity.append(func(row))\n",
    "popularity['weekly_popularity'] = weekly_popularity"
   ]
  },
  {
   "cell_type": "code",
   "execution_count": 31,
   "id": "3aff460b",
   "metadata": {},
   "outputs": [],
   "source": [
    "popular_articles_per_week = popularity.sort_values(['week', 'weekly_popularity'], ascending=False)\\\n",
    "    .groupby('week').head(20).reset_index(drop=True)"
   ]
  },
  {
   "cell_type": "code",
   "execution_count": 32,
   "id": "7c5887ca",
   "metadata": {},
   "outputs": [],
   "source": [
    "popular_articles_previous_week = pd.merge(popular_articles_per_week, mean_price, on=['week', 'article_id']).reset_index(drop=True)\n",
    "# make a new column to rank the weekly_popularity\n",
    "popular_articles_previous_week['last_week_popularity_rank'] = popular_articles_previous_week.groupby('week')['weekly_popularity'].rank(ascending=False).astype(np.int32)\n",
    "popular_articles_previous_week.week += 1"
   ]
  },
  {
   "cell_type": "code",
   "execution_count": 33,
   "id": "1ea26caa",
   "metadata": {},
   "outputs": [],
   "source": [
    "unique_transactions = transactions \\\n",
    "    .groupby(['week', 'customer_id']) \\\n",
    "    .head(1) \\\n",
    "    .drop(columns=['article_id', 'price']) \\\n",
    "    .copy()"
   ]
  },
  {
   "cell_type": "code",
   "execution_count": 34,
   "id": "679eb6d6",
   "metadata": {},
   "outputs": [],
   "source": [
    "candidates_most_popular = pd.merge(\n",
    "    unique_transactions,\n",
    "    popular_articles_previous_week,\n",
    "    on='week',\n",
    ")"
   ]
  },
  {
   "cell_type": "code",
   "execution_count": 35,
   "id": "cc788991",
   "metadata": {},
   "outputs": [],
   "source": [
    "test_set_transactions = unique_transactions.drop_duplicates('customer_id').reset_index(drop=True)\n",
    "test_set_transactions.week = test_week"
   ]
  },
  {
   "cell_type": "code",
   "execution_count": 36,
   "id": "545e1b56",
   "metadata": {},
   "outputs": [
    {
     "data": {
      "text/html": [
       "<div>\n",
       "<style scoped>\n",
       "    .dataframe tbody tr th:only-of-type {\n",
       "        vertical-align: middle;\n",
       "    }\n",
       "\n",
       "    .dataframe tbody tr th {\n",
       "        vertical-align: top;\n",
       "    }\n",
       "\n",
       "    .dataframe thead th {\n",
       "        text-align: right;\n",
       "    }\n",
       "</style>\n",
       "<table border=\"1\" class=\"dataframe\">\n",
       "  <thead>\n",
       "    <tr style=\"text-align: right;\">\n",
       "      <th></th>\n",
       "      <th>t_dat</th>\n",
       "      <th>customer_id</th>\n",
       "      <th>sales_channel_id</th>\n",
       "      <th>week</th>\n",
       "      <th>article_id</th>\n",
       "      <th>weekly_purchase_count</th>\n",
       "      <th>weekly_popularity</th>\n",
       "      <th>price</th>\n",
       "      <th>last_week_popularity_rank</th>\n",
       "    </tr>\n",
       "  </thead>\n",
       "  <tbody>\n",
       "    <tr>\n",
       "      <th>0</th>\n",
       "      <td>2020-07-08</td>\n",
       "      <td>857913002275398</td>\n",
       "      <td>1</td>\n",
       "      <td>104</td>\n",
       "      <td>909370001</td>\n",
       "      <td>1283</td>\n",
       "      <td>1307.000000</td>\n",
       "      <td>0.032947</td>\n",
       "      <td>1</td>\n",
       "    </tr>\n",
       "    <tr>\n",
       "      <th>1</th>\n",
       "      <td>2020-07-08</td>\n",
       "      <td>857913002275398</td>\n",
       "      <td>1</td>\n",
       "      <td>104</td>\n",
       "      <td>751471001</td>\n",
       "      <td>607</td>\n",
       "      <td>1295.238281</td>\n",
       "      <td>0.033268</td>\n",
       "      <td>2</td>\n",
       "    </tr>\n",
       "    <tr>\n",
       "      <th>2</th>\n",
       "      <td>2020-07-08</td>\n",
       "      <td>857913002275398</td>\n",
       "      <td>1</td>\n",
       "      <td>104</td>\n",
       "      <td>918292001</td>\n",
       "      <td>546</td>\n",
       "      <td>1104.414062</td>\n",
       "      <td>0.041424</td>\n",
       "      <td>3</td>\n",
       "    </tr>\n",
       "    <tr>\n",
       "      <th>3</th>\n",
       "      <td>2020-07-08</td>\n",
       "      <td>857913002275398</td>\n",
       "      <td>1</td>\n",
       "      <td>104</td>\n",
       "      <td>915526001</td>\n",
       "      <td>443</td>\n",
       "      <td>1090.375000</td>\n",
       "      <td>0.033136</td>\n",
       "      <td>4</td>\n",
       "    </tr>\n",
       "    <tr>\n",
       "      <th>4</th>\n",
       "      <td>2020-07-08</td>\n",
       "      <td>857913002275398</td>\n",
       "      <td>1</td>\n",
       "      <td>104</td>\n",
       "      <td>706016001</td>\n",
       "      <td>453</td>\n",
       "      <td>1083.681641</td>\n",
       "      <td>0.033259</td>\n",
       "      <td>5</td>\n",
       "    </tr>\n",
       "  </tbody>\n",
       "</table>\n",
       "</div>"
      ],
      "text/plain": [
       "       t_dat      customer_id  sales_channel_id  week  article_id  \\\n",
       "0 2020-07-08  857913002275398                 1   104   909370001   \n",
       "1 2020-07-08  857913002275398                 1   104   751471001   \n",
       "2 2020-07-08  857913002275398                 1   104   918292001   \n",
       "3 2020-07-08  857913002275398                 1   104   915526001   \n",
       "4 2020-07-08  857913002275398                 1   104   706016001   \n",
       "\n",
       "   weekly_purchase_count  weekly_popularity     price  \\\n",
       "0                   1283        1307.000000  0.032947   \n",
       "1                    607        1295.238281  0.033268   \n",
       "2                    546        1104.414062  0.041424   \n",
       "3                    443        1090.375000  0.033136   \n",
       "4                    453        1083.681641  0.033259   \n",
       "\n",
       "   last_week_popularity_rank  \n",
       "0                          1  \n",
       "1                          2  \n",
       "2                          3  \n",
       "3                          4  \n",
       "4                          5  "
      ]
     },
     "execution_count": 36,
     "metadata": {},
     "output_type": "execute_result"
    }
   ],
   "source": [
    "candidates_most_popular_test_week = pd.merge(\n",
    "    test_set_transactions,\n",
    "    popular_articles_previous_week,\n",
    "    on='week'\n",
    ")\n",
    "candidates_most_popular_test_week.head()"
   ]
  },
  {
   "cell_type": "code",
   "execution_count": 37,
   "id": "5320bc8e",
   "metadata": {},
   "outputs": [
    {
     "data": {
      "text/html": [
       "<div>\n",
       "<style scoped>\n",
       "    .dataframe tbody tr th:only-of-type {\n",
       "        vertical-align: middle;\n",
       "    }\n",
       "\n",
       "    .dataframe tbody tr th {\n",
       "        vertical-align: top;\n",
       "    }\n",
       "\n",
       "    .dataframe thead th {\n",
       "        text-align: right;\n",
       "    }\n",
       "</style>\n",
       "<table border=\"1\" class=\"dataframe\">\n",
       "  <thead>\n",
       "    <tr style=\"text-align: right;\">\n",
       "      <th></th>\n",
       "      <th>t_dat</th>\n",
       "      <th>customer_id</th>\n",
       "      <th>sales_channel_id</th>\n",
       "      <th>week</th>\n",
       "      <th>article_id</th>\n",
       "      <th>price</th>\n",
       "    </tr>\n",
       "  </thead>\n",
       "  <tbody>\n",
       "    <tr>\n",
       "      <th>0</th>\n",
       "      <td>2020-07-15</td>\n",
       "      <td>272412481300040</td>\n",
       "      <td>1</td>\n",
       "      <td>95</td>\n",
       "      <td>806388001</td>\n",
       "      <td>0.013301</td>\n",
       "    </tr>\n",
       "    <tr>\n",
       "      <th>1</th>\n",
       "      <td>2020-07-15</td>\n",
       "      <td>272412481300040</td>\n",
       "      <td>1</td>\n",
       "      <td>95</td>\n",
       "      <td>730683021</td>\n",
       "      <td>0.025643</td>\n",
       "    </tr>\n",
       "    <tr>\n",
       "      <th>2</th>\n",
       "      <td>2020-07-15</td>\n",
       "      <td>272412481300040</td>\n",
       "      <td>1</td>\n",
       "      <td>95</td>\n",
       "      <td>610776002</td>\n",
       "      <td>0.008303</td>\n",
       "    </tr>\n",
       "    <tr>\n",
       "      <th>3</th>\n",
       "      <td>2020-07-15</td>\n",
       "      <td>272412481300040</td>\n",
       "      <td>1</td>\n",
       "      <td>95</td>\n",
       "      <td>805308002</td>\n",
       "      <td>0.013609</td>\n",
       "    </tr>\n",
       "    <tr>\n",
       "      <th>4</th>\n",
       "      <td>2020-07-15</td>\n",
       "      <td>272412481300040</td>\n",
       "      <td>1</td>\n",
       "      <td>95</td>\n",
       "      <td>866383006</td>\n",
       "      <td>0.024971</td>\n",
       "    </tr>\n",
       "  </tbody>\n",
       "</table>\n",
       "</div>"
      ],
      "text/plain": [
       "       t_dat      customer_id  sales_channel_id  week  article_id     price\n",
       "0 2020-07-15  272412481300040                 1    95   806388001  0.013301\n",
       "1 2020-07-15  272412481300040                 1    95   730683021  0.025643\n",
       "2 2020-07-15  272412481300040                 1    95   610776002  0.008303\n",
       "3 2020-07-15  272412481300040                 1    95   805308002  0.013609\n",
       "4 2020-07-15  272412481300040                 1    95   866383006  0.024971"
      ]
     },
     "execution_count": 37,
     "metadata": {},
     "output_type": "execute_result"
    }
   ],
   "source": [
    "candidates_most_popular = pd.concat([candidates_most_popular, candidates_most_popular_test_week])\n",
    "candidates_most_popular.drop(columns=['weekly_purchase_count', 'weekly_popularity', 'last_week_popularity_rank'], inplace=True)\n",
    "candidates_most_popular.head()"
   ]
  },
  {
   "cell_type": "markdown",
   "id": "22588375",
   "metadata": {},
   "source": [
    "# Combining transactions and candidates / negative examples"
   ]
  },
  {
   "cell_type": "code",
   "execution_count": 38,
   "id": "41e61192",
   "metadata": {},
   "outputs": [],
   "source": [
    "transactions['purchased'] = 1"
   ]
  },
  {
   "cell_type": "code",
   "execution_count": 39,
   "id": "76eb070c",
   "metadata": {},
   "outputs": [
    {
     "data": {
      "text/plain": [
       "0.06744294605535182"
      ]
     },
     "execution_count": 39,
     "metadata": {},
     "output_type": "execute_result"
    }
   ],
   "source": [
    "data = pd.concat([transactions, candidates_last_purchase, candidates_bestsellers, candidates_most_popular])\n",
    "data.purchased.fillna(0, inplace=True)\n",
    "\n",
    "data.purchased.mean()"
   ]
  },
  {
   "cell_type": "code",
   "execution_count": 40,
   "id": "69aa9ec4",
   "metadata": {},
   "outputs": [],
   "source": [
    "data.drop_duplicates(['customer_id', 'article_id', 'week'], inplace=True)"
   ]
  },
  {
   "cell_type": "markdown",
   "id": "ac183274",
   "metadata": {},
   "source": [
    "### Add bestseller information"
   ]
  },
  {
   "cell_type": "code",
   "execution_count": 41,
   "id": "f28957eb",
   "metadata": {},
   "outputs": [],
   "source": [
    "data = pd.merge(\n",
    "    data,\n",
    "    bestsellers_previous_week[['week', 'article_id', 'bestseller_rank']],\n",
    "    on=['week', 'article_id'],\n",
    "    how='left'\n",
    ")"
   ]
  },
  {
   "cell_type": "code",
   "execution_count": 42,
   "id": "3e7d3d8a",
   "metadata": {},
   "outputs": [],
   "source": [
    "data = data[data.week != data.week.min()]"
   ]
  },
  {
   "cell_type": "markdown",
   "id": "5c42d0ac",
   "metadata": {},
   "source": [
    "### Add item similarity information"
   ]
  },
  {
   "cell_type": "code",
   "execution_count": 43,
   "id": "ce43b27e",
   "metadata": {},
   "outputs": [],
   "source": [
    "data = pd.merge(\n",
    "    data, \n",
    "    similar_items[['customer_id', 'article_id', 'similarity']], \n",
    "    on=['customer_id', 'article_id'], \n",
    "    how='left'\n",
    ")"
   ]
  },
  {
   "cell_type": "markdown",
   "id": "e53028df",
   "metadata": {},
   "source": [
    "### Add item popularity information"
   ]
  },
  {
   "cell_type": "code",
   "execution_count": 44,
   "id": "dbc5cded",
   "metadata": {},
   "outputs": [],
   "source": [
    "data = pd.merge(\n",
    "    data,\n",
    "    popular_articles_previous_week[['week', 'article_id', 'weekly_purchase_count', 'weekly_popularity', 'last_week_popularity_rank']],\n",
    "    on=['week', 'article_id'],\n",
    "    how='left'\n",
    ")"
   ]
  },
  {
   "cell_type": "code",
   "execution_count": 45,
   "id": "4d941ff7",
   "metadata": {},
   "outputs": [
    {
     "data": {
      "text/html": [
       "<div>\n",
       "<style scoped>\n",
       "    .dataframe tbody tr th:only-of-type {\n",
       "        vertical-align: middle;\n",
       "    }\n",
       "\n",
       "    .dataframe tbody tr th {\n",
       "        vertical-align: top;\n",
       "    }\n",
       "\n",
       "    .dataframe thead th {\n",
       "        text-align: right;\n",
       "    }\n",
       "</style>\n",
       "<table border=\"1\" class=\"dataframe\">\n",
       "  <thead>\n",
       "    <tr style=\"text-align: right;\">\n",
       "      <th></th>\n",
       "      <th>t_dat</th>\n",
       "      <th>customer_id</th>\n",
       "      <th>article_id</th>\n",
       "      <th>price</th>\n",
       "      <th>sales_channel_id</th>\n",
       "      <th>week</th>\n",
       "      <th>purchased</th>\n",
       "      <th>bestseller_rank</th>\n",
       "      <th>similarity</th>\n",
       "      <th>weekly_purchase_count</th>\n",
       "      <th>...</th>\n",
       "      <th>section_name</th>\n",
       "      <th>garment_group_no</th>\n",
       "      <th>garment_group_name</th>\n",
       "      <th>detail_desc</th>\n",
       "      <th>FN</th>\n",
       "      <th>Active</th>\n",
       "      <th>club_member_status</th>\n",
       "      <th>fashion_news_frequency</th>\n",
       "      <th>age</th>\n",
       "      <th>postal_code</th>\n",
       "    </tr>\n",
       "  </thead>\n",
       "  <tbody>\n",
       "    <tr>\n",
       "      <th>0</th>\n",
       "      <td>2020-07-15</td>\n",
       "      <td>272412481300040</td>\n",
       "      <td>778064028</td>\n",
       "      <td>0.008458</td>\n",
       "      <td>1</td>\n",
       "      <td>95</td>\n",
       "      <td>1.0</td>\n",
       "      <td>12.0</td>\n",
       "      <td>1.0</td>\n",
       "      <td>350.0</td>\n",
       "      <td>...</td>\n",
       "      <td>30</td>\n",
       "      <td>1002</td>\n",
       "      <td>2</td>\n",
       "      <td>309</td>\n",
       "      <td>1</td>\n",
       "      <td>1</td>\n",
       "      <td>0</td>\n",
       "      <td>1</td>\n",
       "      <td>48</td>\n",
       "      <td>333369</td>\n",
       "    </tr>\n",
       "    <tr>\n",
       "      <th>1</th>\n",
       "      <td>2020-07-15</td>\n",
       "      <td>272412481300040</td>\n",
       "      <td>816592008</td>\n",
       "      <td>0.016932</td>\n",
       "      <td>1</td>\n",
       "      <td>95</td>\n",
       "      <td>1.0</td>\n",
       "      <td>13.0</td>\n",
       "      <td>1.0</td>\n",
       "      <td>0.0</td>\n",
       "      <td>...</td>\n",
       "      <td>1</td>\n",
       "      <td>1005</td>\n",
       "      <td>0</td>\n",
       "      <td>14172</td>\n",
       "      <td>1</td>\n",
       "      <td>1</td>\n",
       "      <td>0</td>\n",
       "      <td>1</td>\n",
       "      <td>48</td>\n",
       "      <td>333369</td>\n",
       "    </tr>\n",
       "    <tr>\n",
       "      <th>2</th>\n",
       "      <td>2020-07-15</td>\n",
       "      <td>272412481300040</td>\n",
       "      <td>621381021</td>\n",
       "      <td>0.033881</td>\n",
       "      <td>1</td>\n",
       "      <td>95</td>\n",
       "      <td>1.0</td>\n",
       "      <td>13.0</td>\n",
       "      <td>1.0</td>\n",
       "      <td>0.0</td>\n",
       "      <td>...</td>\n",
       "      <td>1</td>\n",
       "      <td>1009</td>\n",
       "      <td>5</td>\n",
       "      <td>388</td>\n",
       "      <td>1</td>\n",
       "      <td>1</td>\n",
       "      <td>0</td>\n",
       "      <td>1</td>\n",
       "      <td>48</td>\n",
       "      <td>333369</td>\n",
       "    </tr>\n",
       "    <tr>\n",
       "      <th>3</th>\n",
       "      <td>2020-07-15</td>\n",
       "      <td>272412481300040</td>\n",
       "      <td>817477003</td>\n",
       "      <td>0.025407</td>\n",
       "      <td>1</td>\n",
       "      <td>95</td>\n",
       "      <td>1.0</td>\n",
       "      <td>13.0</td>\n",
       "      <td>1.0</td>\n",
       "      <td>0.0</td>\n",
       "      <td>...</td>\n",
       "      <td>0</td>\n",
       "      <td>1025</td>\n",
       "      <td>16</td>\n",
       "      <td>4602</td>\n",
       "      <td>1</td>\n",
       "      <td>1</td>\n",
       "      <td>0</td>\n",
       "      <td>1</td>\n",
       "      <td>48</td>\n",
       "      <td>333369</td>\n",
       "    </tr>\n",
       "    <tr>\n",
       "      <th>4</th>\n",
       "      <td>2020-07-15</td>\n",
       "      <td>272412481300040</td>\n",
       "      <td>899088002</td>\n",
       "      <td>0.025407</td>\n",
       "      <td>1</td>\n",
       "      <td>95</td>\n",
       "      <td>1.0</td>\n",
       "      <td>13.0</td>\n",
       "      <td>1.0</td>\n",
       "      <td>0.0</td>\n",
       "      <td>...</td>\n",
       "      <td>1</td>\n",
       "      <td>1012</td>\n",
       "      <td>18</td>\n",
       "      <td>26119</td>\n",
       "      <td>1</td>\n",
       "      <td>1</td>\n",
       "      <td>0</td>\n",
       "      <td>1</td>\n",
       "      <td>48</td>\n",
       "      <td>333369</td>\n",
       "    </tr>\n",
       "  </tbody>\n",
       "</table>\n",
       "<p>5 rows × 42 columns</p>\n",
       "</div>"
      ],
      "text/plain": [
       "       t_dat      customer_id  article_id     price  sales_channel_id  week  \\\n",
       "0 2020-07-15  272412481300040   778064028  0.008458                 1    95   \n",
       "1 2020-07-15  272412481300040   816592008  0.016932                 1    95   \n",
       "2 2020-07-15  272412481300040   621381021  0.033881                 1    95   \n",
       "3 2020-07-15  272412481300040   817477003  0.025407                 1    95   \n",
       "4 2020-07-15  272412481300040   899088002  0.025407                 1    95   \n",
       "\n",
       "   purchased  bestseller_rank  similarity  weekly_purchase_count  ...  \\\n",
       "0        1.0             12.0         1.0                  350.0  ...   \n",
       "1        1.0             13.0         1.0                    0.0  ...   \n",
       "2        1.0             13.0         1.0                    0.0  ...   \n",
       "3        1.0             13.0         1.0                    0.0  ...   \n",
       "4        1.0             13.0         1.0                    0.0  ...   \n",
       "\n",
       "   section_name  garment_group_no  garment_group_name  detail_desc  FN  \\\n",
       "0            30              1002                   2          309   1   \n",
       "1             1              1005                   0        14172   1   \n",
       "2             1              1009                   5          388   1   \n",
       "3             0              1025                  16         4602   1   \n",
       "4             1              1012                  18        26119   1   \n",
       "\n",
       "   Active  club_member_status  fashion_news_frequency  age  postal_code  \n",
       "0       1                   0                       1   48       333369  \n",
       "1       1                   0                       1   48       333369  \n",
       "2       1                   0                       1   48       333369  \n",
       "3       1                   0                       1   48       333369  \n",
       "4       1                   0                       1   48       333369  \n",
       "\n",
       "[5 rows x 42 columns]"
      ]
     },
     "execution_count": 45,
     "metadata": {},
     "output_type": "execute_result"
    }
   ],
   "source": [
    "data = pd.merge(data, articles, on='article_id', how='left')\n",
    "data = pd.merge(data, customers, on='customer_id', how='left')\n",
    "\n",
    "data['weekly_purchase_count'].fillna(0, inplace=True)\n",
    "data['weekly_popularity'].fillna(0, inplace=True)\n",
    "data['similarity'].fillna(data['purchased'], inplace=True)\n",
    "data['bestseller_rank'].fillna(data.bestseller_rank.max() + 1, inplace=True)\n",
    "data['last_week_popularity_rank'].fillna(data.last_week_popularity_rank.max() + 1, inplace=True)\n",
    "data.head()"
   ]
  },
  {
   "cell_type": "markdown",
   "id": "c518aee3",
   "metadata": {},
   "source": [
    "### preprocessing"
   ]
  },
  {
   "cell_type": "code",
   "execution_count": 46,
   "id": "c1a758e4",
   "metadata": {},
   "outputs": [],
   "source": [
    "from sklearn.preprocessing import StandardScaler, LabelEncoder\n",
    "scaler = StandardScaler()\n",
    "columns_to_scale = ['product_type_no', 'graphical_appearance_no', 'colour_group_code', 'perceived_colour_value_id',\n",
    "'perceived_colour_master_id', 'department_no', 'index_code',\n",
    "'index_group_no', 'section_no', 'garment_group_no', 'FN', 'Active',\n",
    "'club_member_status', 'fashion_news_frequency', 'age', 'postal_code', 'last_week_popularity_rank', 'similarity']\n",
    "data[columns_to_scale] = scaler.fit_transform(data[columns_to_scale])"
   ]
  },
  {
   "cell_type": "code",
   "execution_count": 47,
   "id": "9e3a737a",
   "metadata": {},
   "outputs": [],
   "source": [
    "data.sort_values(['week', 'customer_id'], inplace=True)\n",
    "data.reset_index(drop=True, inplace=True)"
   ]
  },
  {
   "cell_type": "code",
   "execution_count": 48,
   "id": "d83b869d",
   "metadata": {},
   "outputs": [],
   "source": [
    "train = data[data.week != test_week]\n",
    "test = data[data.week==test_week].drop_duplicates(['customer_id', 'article_id', 'sales_channel_id']).copy()"
   ]
  },
  {
   "cell_type": "code",
   "execution_count": 49,
   "id": "71d57fc8",
   "metadata": {},
   "outputs": [],
   "source": [
    "train_baskets = train.groupby(['week', 'customer_id'])['article_id'].count().values"
   ]
  },
  {
   "cell_type": "code",
   "execution_count": 50,
   "id": "c4c65da2",
   "metadata": {},
   "outputs": [],
   "source": [
    "columns_to_use = ['article_id', 'product_type_no', 'graphical_appearance_no', 'colour_group_code', 'perceived_colour_value_id',\n",
    "'perceived_colour_master_id', 'department_no', 'index_code',\n",
    "'index_group_no', 'section_no', 'garment_group_no', 'FN', 'Active',\n",
    "'club_member_status', 'fashion_news_frequency', 'age', 'postal_code', 'last_week_popularity_rank', 'similarity']"
   ]
  },
  {
   "cell_type": "code",
   "execution_count": 51,
   "id": "562146df",
   "metadata": {},
   "outputs": [
    {
     "name": "stdout",
     "output_type": "stream",
     "text": [
      "CPU times: user 331 ms, sys: 1.35 s, total: 1.68 s\n",
      "Wall time: 2.46 s\n"
     ]
    }
   ],
   "source": [
    "%%time\n",
    "\n",
    "train_X = train[columns_to_use]\n",
    "train_y = train['purchased']\n",
    "\n",
    "test_X = test[columns_to_use]"
   ]
  },
  {
   "cell_type": "code",
   "execution_count": 52,
   "id": "a7179494",
   "metadata": {},
   "outputs": [
    {
     "data": {
      "text/plain": [
       "0    1.0\n",
       "1    1.0\n",
       "2    0.0\n",
       "3    0.0\n",
       "4    0.0\n",
       "Name: purchased, dtype: float64"
      ]
     },
     "execution_count": 52,
     "metadata": {},
     "output_type": "execute_result"
    }
   ],
   "source": [
    "train_y.head()"
   ]
  },
  {
   "cell_type": "markdown",
   "id": "a8b26b0a",
   "metadata": {},
   "source": [
    "# Model training"
   ]
  },
  {
   "cell_type": "code",
   "execution_count": 53,
   "id": "17079af7",
   "metadata": {},
   "outputs": [],
   "source": [
    "from lightgbm.sklearn import LGBMRanker"
   ]
  },
  {
   "cell_type": "code",
   "execution_count": 54,
   "id": "00b6186e",
   "metadata": {},
   "outputs": [],
   "source": [
    "ranker = LGBMRanker(\n",
    "    objective=\"lambdarank\",\n",
    "    num_leaves=200,\n",
    "    metric=\"ndcg\",\n",
    "    boosting_type=\"dart\",\n",
    "    n_estimators=100,\n",
    "    importance_type='gain',\n",
    "    verbose=10,\n",
    ")"
   ]
  },
  {
   "cell_type": "code",
   "execution_count": 55,
   "id": "31408339",
   "metadata": {},
   "outputs": [
    {
     "name": "stdout",
     "output_type": "stream",
     "text": [
      "[LightGBM] [Debug] Dataset::GetMultiBinFromSparseFeatures: sparse rate 0.861320\n",
      "[LightGBM] [Debug] Dataset::GetMultiBinFromAllFeatures: sparse rate 0.135998\n",
      "[LightGBM] [Debug] init for col-wise cost 0.282695 seconds, init for row-wise cost 0.369977 seconds\n",
      "[LightGBM] [Warning] Auto-choosing row-wise multi-threading, the overhead of testing was 0.473732 seconds.\n",
      "You can set `force_row_wise=true` to remove the overhead.\n",
      "And if memory is not enough, you can set `force_col_wise=true`.\n",
      "[LightGBM] [Debug] Using Dense Multi-Val Bin\n",
      "[LightGBM] [Info] Total Bins 1384\n",
      "[LightGBM] [Info] Number of data points in the train set: 18511355, number of used features: 19\n",
      "[LightGBM] [Debug] Trained a tree with leaves = 200 and depth = 25\n",
      "[LightGBM] [Debug] Trained a tree with leaves = 200 and depth = 18\n",
      "[LightGBM] [Debug] Trained a tree with leaves = 200 and depth = 20\n",
      "[LightGBM] [Debug] Trained a tree with leaves = 200 and depth = 22\n",
      "[LightGBM] [Debug] Trained a tree with leaves = 200 and depth = 21\n",
      "[LightGBM] [Debug] Trained a tree with leaves = 200 and depth = 19\n",
      "[LightGBM] [Debug] Trained a tree with leaves = 200 and depth = 22\n",
      "[LightGBM] [Debug] Trained a tree with leaves = 200 and depth = 21\n",
      "[LightGBM] [Debug] Trained a tree with leaves = 200 and depth = 24\n",
      "[LightGBM] [Debug] Trained a tree with leaves = 200 and depth = 29\n",
      "[LightGBM] [Debug] Trained a tree with leaves = 200 and depth = 20\n",
      "[LightGBM] [Debug] Trained a tree with leaves = 200 and depth = 23\n",
      "[LightGBM] [Debug] Trained a tree with leaves = 200 and depth = 23\n",
      "[LightGBM] [Debug] Trained a tree with leaves = 200 and depth = 21\n",
      "[LightGBM] [Debug] Trained a tree with leaves = 200 and depth = 23\n",
      "[LightGBM] [Debug] Trained a tree with leaves = 200 and depth = 26\n",
      "[LightGBM] [Debug] Trained a tree with leaves = 200 and depth = 24\n",
      "[LightGBM] [Debug] Trained a tree with leaves = 200 and depth = 27\n",
      "[LightGBM] [Debug] Trained a tree with leaves = 200 and depth = 23\n",
      "[LightGBM] [Debug] Trained a tree with leaves = 200 and depth = 20\n",
      "[LightGBM] [Debug] Trained a tree with leaves = 200 and depth = 32\n",
      "[LightGBM] [Debug] Trained a tree with leaves = 200 and depth = 22\n",
      "[LightGBM] [Debug] Trained a tree with leaves = 200 and depth = 27\n",
      "[LightGBM] [Debug] Trained a tree with leaves = 200 and depth = 24\n",
      "[LightGBM] [Debug] Trained a tree with leaves = 200 and depth = 26\n",
      "[LightGBM] [Debug] Trained a tree with leaves = 200 and depth = 22\n",
      "[LightGBM] [Debug] Trained a tree with leaves = 200 and depth = 21\n",
      "[LightGBM] [Debug] Trained a tree with leaves = 200 and depth = 23\n",
      "[LightGBM] [Debug] Trained a tree with leaves = 200 and depth = 20\n",
      "[LightGBM] [Debug] Trained a tree with leaves = 200 and depth = 22\n",
      "[LightGBM] [Debug] Trained a tree with leaves = 200 and depth = 25\n",
      "[LightGBM] [Debug] Trained a tree with leaves = 200 and depth = 25\n",
      "[LightGBM] [Debug] Trained a tree with leaves = 200 and depth = 25\n",
      "[LightGBM] [Debug] Trained a tree with leaves = 200 and depth = 23\n",
      "[LightGBM] [Debug] Trained a tree with leaves = 200 and depth = 19\n",
      "[LightGBM] [Debug] Trained a tree with leaves = 200 and depth = 24\n",
      "[LightGBM] [Debug] Trained a tree with leaves = 200 and depth = 24\n",
      "[LightGBM] [Debug] Trained a tree with leaves = 200 and depth = 26\n",
      "[LightGBM] [Debug] Trained a tree with leaves = 200 and depth = 23\n",
      "[LightGBM] [Debug] Trained a tree with leaves = 200 and depth = 26\n",
      "[LightGBM] [Debug] Trained a tree with leaves = 200 and depth = 24\n",
      "[LightGBM] [Debug] Trained a tree with leaves = 200 and depth = 21\n",
      "[LightGBM] [Debug] Trained a tree with leaves = 200 and depth = 26\n",
      "[LightGBM] [Debug] Trained a tree with leaves = 200 and depth = 23\n",
      "[LightGBM] [Debug] Trained a tree with leaves = 200 and depth = 25\n",
      "[LightGBM] [Debug] Trained a tree with leaves = 200 and depth = 23\n",
      "[LightGBM] [Debug] Trained a tree with leaves = 200 and depth = 24\n",
      "[LightGBM] [Debug] Trained a tree with leaves = 200 and depth = 21\n",
      "[LightGBM] [Debug] Trained a tree with leaves = 200 and depth = 31\n",
      "[LightGBM] [Debug] Trained a tree with leaves = 200 and depth = 26\n",
      "[LightGBM] [Debug] Trained a tree with leaves = 200 and depth = 26\n",
      "[LightGBM] [Debug] Trained a tree with leaves = 200 and depth = 26\n",
      "[LightGBM] [Debug] Trained a tree with leaves = 200 and depth = 22\n",
      "[LightGBM] [Debug] Trained a tree with leaves = 200 and depth = 23\n",
      "[LightGBM] [Debug] Trained a tree with leaves = 200 and depth = 22\n",
      "[LightGBM] [Debug] Trained a tree with leaves = 200 and depth = 22\n",
      "[LightGBM] [Debug] Trained a tree with leaves = 200 and depth = 22\n",
      "[LightGBM] [Debug] Trained a tree with leaves = 200 and depth = 24\n",
      "[LightGBM] [Debug] Trained a tree with leaves = 200 and depth = 28\n",
      "[LightGBM] [Debug] Trained a tree with leaves = 200 and depth = 22\n",
      "[LightGBM] [Debug] Trained a tree with leaves = 200 and depth = 26\n",
      "[LightGBM] [Debug] Trained a tree with leaves = 200 and depth = 25\n",
      "[LightGBM] [Debug] Trained a tree with leaves = 200 and depth = 24\n",
      "[LightGBM] [Debug] Trained a tree with leaves = 200 and depth = 24\n",
      "[LightGBM] [Debug] Trained a tree with leaves = 200 and depth = 21\n",
      "[LightGBM] [Debug] Trained a tree with leaves = 200 and depth = 31\n",
      "[LightGBM] [Debug] Trained a tree with leaves = 200 and depth = 24\n",
      "[LightGBM] [Debug] Trained a tree with leaves = 200 and depth = 25\n",
      "[LightGBM] [Debug] Trained a tree with leaves = 200 and depth = 23\n",
      "[LightGBM] [Debug] Trained a tree with leaves = 200 and depth = 22\n",
      "[LightGBM] [Debug] Trained a tree with leaves = 200 and depth = 26\n",
      "[LightGBM] [Debug] Trained a tree with leaves = 200 and depth = 21\n",
      "[LightGBM] [Debug] Trained a tree with leaves = 200 and depth = 22\n",
      "[LightGBM] [Debug] Trained a tree with leaves = 200 and depth = 23\n",
      "[LightGBM] [Debug] Trained a tree with leaves = 200 and depth = 24\n",
      "[LightGBM] [Debug] Trained a tree with leaves = 200 and depth = 19\n",
      "[LightGBM] [Debug] Trained a tree with leaves = 200 and depth = 26\n",
      "[LightGBM] [Debug] Trained a tree with leaves = 200 and depth = 25\n",
      "[LightGBM] [Debug] Trained a tree with leaves = 200 and depth = 25\n",
      "[LightGBM] [Debug] Trained a tree with leaves = 200 and depth = 27\n",
      "[LightGBM] [Debug] Trained a tree with leaves = 200 and depth = 25\n",
      "[LightGBM] [Debug] Trained a tree with leaves = 200 and depth = 22\n",
      "[LightGBM] [Debug] Trained a tree with leaves = 200 and depth = 24\n",
      "[LightGBM] [Debug] Trained a tree with leaves = 200 and depth = 19\n",
      "[LightGBM] [Debug] Trained a tree with leaves = 200 and depth = 22\n",
      "[LightGBM] [Debug] Trained a tree with leaves = 200 and depth = 23\n",
      "[LightGBM] [Debug] Trained a tree with leaves = 200 and depth = 25\n",
      "[LightGBM] [Debug] Trained a tree with leaves = 200 and depth = 23\n",
      "[LightGBM] [Debug] Trained a tree with leaves = 200 and depth = 22\n",
      "[LightGBM] [Debug] Trained a tree with leaves = 200 and depth = 22\n",
      "[LightGBM] [Debug] Trained a tree with leaves = 200 and depth = 19\n",
      "[LightGBM] [Debug] Trained a tree with leaves = 200 and depth = 22\n",
      "[LightGBM] [Debug] Trained a tree with leaves = 200 and depth = 27\n",
      "[LightGBM] [Debug] Trained a tree with leaves = 200 and depth = 23\n",
      "[LightGBM] [Debug] Trained a tree with leaves = 200 and depth = 21\n",
      "[LightGBM] [Debug] Trained a tree with leaves = 200 and depth = 28\n",
      "[LightGBM] [Debug] Trained a tree with leaves = 200 and depth = 22\n",
      "[LightGBM] [Debug] Trained a tree with leaves = 200 and depth = 21\n",
      "[LightGBM] [Debug] Trained a tree with leaves = 200 and depth = 20\n",
      "[LightGBM] [Debug] Trained a tree with leaves = 200 and depth = 28\n",
      "CPU times: user 4min, sys: 8.83 s, total: 4min 9s\n",
      "Wall time: 51 s\n"
     ]
    }
   ],
   "source": [
    "%%time\n",
    "\n",
    "ranker = ranker.fit(\n",
    "    train_X,\n",
    "    train_y,\n",
    "    group=train_baskets,\n",
    ")"
   ]
  },
  {
   "cell_type": "code",
   "execution_count": 56,
   "id": "c77ba5fc",
   "metadata": {},
   "outputs": [
    {
     "name": "stdout",
     "output_type": "stream",
     "text": [
      "similarity 0.9958198118462323\n",
      "last_week_popularity_rank 0.0012963570821060701\n",
      "article_id 0.0006485888334290512\n",
      "postal_code 0.00041835886509345956\n",
      "department_no 0.000319005900066112\n",
      "age 0.0002890126308965154\n",
      "product_type_no 0.0002865680608572314\n",
      "colour_group_code 0.00020152152871903025\n",
      "section_no 0.00014035838326053942\n",
      "graphical_appearance_no 0.0001373528446523842\n",
      "garment_group_no 0.0001321620491119065\n",
      "perceived_colour_master_id 0.00011260027395852463\n",
      "perceived_colour_value_id 8.671319529346187e-05\n",
      "index_code 4.8447382664786874e-05\n",
      "index_group_no 2.257590173382204e-05\n",
      "Active 1.455980387376809e-05\n",
      "FN 1.436058388091965e-05\n",
      "fashion_news_frequency 8.329390776861297e-06\n",
      "club_member_status 3.3154433933105026e-06\n"
     ]
    }
   ],
   "source": [
    "for i in ranker.feature_importances_.argsort()[::-1]:\n",
    "    print(columns_to_use[i], ranker.feature_importances_[i]/ranker.feature_importances_.sum())"
   ]
  },
  {
   "cell_type": "markdown",
   "id": "abb34139",
   "metadata": {},
   "source": [
    "# Calculate predictions"
   ]
  },
  {
   "cell_type": "code",
   "execution_count": 57,
   "id": "823f8bc0",
   "metadata": {},
   "outputs": [
    {
     "name": "stdout",
     "output_type": "stream",
     "text": [
      "CPU times: user 1e+03 ns, sys: 0 ns, total: 1e+03 ns\n",
      "Wall time: 2.86 µs\n"
     ]
    }
   ],
   "source": [
    "%time\n",
    "\n",
    "test['preds'] = ranker.predict(test_X)\n",
    "\n",
    "c_id2predicted_article_ids = test \\\n",
    "    .sort_values(['customer_id', 'preds'], ascending=False) \\\n",
    "    .groupby('customer_id')['article_id'].apply(list).to_dict()\n",
    "\n",
    "bestsellers_last_week = \\\n",
    "    bestsellers_previous_week[bestsellers_previous_week.week == bestsellers_previous_week.week.max()]['article_id'].tolist()"
   ]
  },
  {
   "cell_type": "markdown",
   "id": "dd686e54",
   "metadata": {},
   "source": [
    "# Evaluate results"
   ]
  },
  {
   "cell_type": "code",
   "execution_count": 58,
   "id": "66b8f89a",
   "metadata": {},
   "outputs": [],
   "source": [
    "if sample:\n",
    "    val_week_purchases_by_cust = pd.read_pickle(f'{DATA_PATH}/val_week_purchases_by_cust_sample_0.05.pkl')\n",
    "else:\n",
    "    val_week_purchases_by_cust = pd.read_pickle(f'{DATA_PATH}/val_week_purchases_by_cust.pkl')"
   ]
  },
  {
   "cell_type": "code",
   "execution_count": 59,
   "id": "54c1d507",
   "metadata": {},
   "outputs": [
    {
     "data": {
      "text/plain": [
       "0.023125142916277073"
      ]
     },
     "execution_count": 59,
     "metadata": {},
     "output_type": "execute_result"
    }
   ],
   "source": [
    "\"\"\"\n",
    "[transactions, candidates_last_purchase, candidates_similar_unbought_items]: 0.022571337170999257\n",
    "[transactions, candidates_last_purchase, candidates_similar_unbought_items]: 0.022603068026213192 (preprocessing)\n",
    "[transactions, candidates_last_purchase, candidates_similar_unbought_items]: 0.022460058520452002 (preprocessing, 'weekly_purchase_count', 'weekly_popularity', no 'bestseller_rank')\n",
    "[transactions, candidates_last_purchase, candidates_similar_unbought_items, candidates_most_popular]: 0.010322612374701558\n",
    "no\n",
    "\"\"\"\n",
    "apks = []\n",
    "\n",
    "for c_id, gt in val_week_purchases_by_cust.items():\n",
    "    pred = c_id2predicted_article_ids.get(c_id, [])\n",
    "    pred = pred + bestsellers_last_week\n",
    "    apks.append(apk(gt, pred[:12]))\n",
    "\n",
    "np.mean(apks) # 0.024427225394874404"
   ]
  }
 ],
 "metadata": {
  "kernelspec": {
   "display_name": "Python 3.10.8 ('venv': venv)",
   "language": "python",
   "name": "python3"
  },
  "language_info": {
   "codemirror_mode": {
    "name": "ipython",
    "version": 3
   },
   "file_extension": ".py",
   "mimetype": "text/x-python",
   "name": "python",
   "nbconvert_exporter": "python",
   "pygments_lexer": "ipython3",
   "version": "3.10.8"
  },
  "vscode": {
   "interpreter": {
    "hash": "cb76f6fb9cefb4ce395c63b53ca0fc61c280bfa44c4aea4ac470b086d5108ff0"
   }
  }
 },
 "nbformat": 4,
 "nbformat_minor": 5
}
