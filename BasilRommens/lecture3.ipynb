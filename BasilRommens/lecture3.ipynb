{
 "cells": [
  {
   "cell_type": "code",
   "execution_count": 1,
   "outputs": [],
   "source": [
    "import numpy as np\n",
    "import pandas as pd\n",
    "import random\n",
    "from sklearn.linear_model import LogisticRegression\n",
    "from sklearn.model_selection import train_test_split\n",
    "from sklearn.metrics import classification_report\n",
    "from sklearn import preprocessing"
   ],
   "metadata": {
    "collapsed": false
   }
  },
  {
   "cell_type": "code",
   "execution_count": 2,
   "outputs": [],
   "source": [
    "articles = pd.read_csv('../data/articles.csv')\n",
    "customers = pd.read_csv('../data/customers.csv')\n",
    "# sample_submisison = pd.read_csv('../data/sample_submission.csv')\n",
    "# transactions = pd.read_csv('../data/temp.csv')"
   ],
   "metadata": {
    "collapsed": false
   }
  },
  {
   "cell_type": "code",
   "execution_count": 9,
   "outputs": [
    {
     "name": "stdout",
     "output_type": "stream",
     "text": [
      "Index(['article_id', 'product_code', 'prod_name', 'product_type_no',\n",
      "       'product_type_name', 'product_group_name', 'graphical_appearance_no',\n",
      "       'graphical_appearance_name', 'colour_group_code', 'colour_group_name',\n",
      "       'perceived_colour_value_id', 'perceived_colour_value_name',\n",
      "       'perceived_colour_master_id', 'perceived_colour_master_name',\n",
      "       'department_no', 'department_name', 'index_code', 'index_name',\n",
      "       'index_group_no', 'index_group_name', 'section_no', 'section_name',\n",
      "       'garment_group_no', 'garment_group_name', 'detail_desc'],\n",
      "      dtype='object')\n",
      "article_id\n",
      "count    1.055420e+05\n",
      "mean     6.984246e+08\n",
      "std      1.284624e+08\n",
      "min      1.087750e+08\n",
      "25%      6.169925e+08\n",
      "50%      7.022130e+08\n",
      "75%      7.967030e+08\n",
      "max      9.594610e+08\n",
      "Name: article_id, dtype: float64\n",
      "0\n",
      "True\n",
      "product_code\n",
      "count    105542.000000\n",
      "mean     698424.563378\n",
      "std      128462.384432\n",
      "min      108775.000000\n",
      "25%      616992.500000\n",
      "50%      702213.000000\n",
      "75%      796703.000000\n",
      "max      959461.000000\n",
      "Name: product_code, dtype: float64\n",
      "0\n",
      "False\n",
      "prod_name\n",
      "count              105542\n",
      "unique              45875\n",
      "top       Dragonfly dress\n",
      "freq                   98\n",
      "Name: prod_name, dtype: object\n",
      "0\n",
      "False\n",
      "product_type_no\n",
      "count    105542.000000\n",
      "mean        234.861875\n",
      "std          75.049308\n",
      "min          -1.000000\n",
      "25%         252.000000\n",
      "50%         259.000000\n",
      "75%         272.000000\n",
      "max         762.000000\n",
      "Name: product_type_no, dtype: float64\n",
      "0\n",
      "False\n",
      "product_type_name\n",
      "count       105542\n",
      "unique         131\n",
      "top       Trousers\n",
      "freq         11169\n",
      "Name: product_type_name, dtype: object\n",
      "0\n",
      "False\n",
      "product_group_name\n",
      "count                 105542\n",
      "unique                    19\n",
      "top       Garment Upper body\n",
      "freq                   42741\n",
      "Name: product_group_name, dtype: object\n",
      "0\n",
      "False\n",
      "graphical_appearance_no\n",
      "count    1.055420e+05\n",
      "mean     1.009515e+06\n",
      "std      2.241359e+04\n",
      "min     -1.000000e+00\n",
      "25%      1.010008e+06\n",
      "50%      1.010016e+06\n",
      "75%      1.010016e+06\n",
      "max      1.010029e+06\n",
      "Name: graphical_appearance_no, dtype: float64\n",
      "0\n",
      "False\n",
      "graphical_appearance_name\n",
      "count     105542\n",
      "unique        30\n",
      "top        Solid\n",
      "freq       49747\n",
      "Name: graphical_appearance_name, dtype: object\n",
      "0\n",
      "False\n",
      "colour_group_code\n",
      "count    105542.000000\n",
      "mean         32.233822\n",
      "std          28.086154\n",
      "min          -1.000000\n",
      "25%           9.000000\n",
      "50%          14.000000\n",
      "75%          52.000000\n",
      "max          93.000000\n",
      "Name: colour_group_code, dtype: float64\n",
      "0\n",
      "False\n",
      "colour_group_name\n",
      "count     105542\n",
      "unique        50\n",
      "top        Black\n",
      "freq       22670\n",
      "Name: colour_group_name, dtype: object\n",
      "0\n",
      "False\n",
      "perceived_colour_value_id\n",
      "count    105542.000000\n",
      "mean          3.206183\n",
      "std           1.563839\n",
      "min          -1.000000\n",
      "25%           2.000000\n",
      "50%           4.000000\n",
      "75%           4.000000\n",
      "max           7.000000\n",
      "Name: perceived_colour_value_id, dtype: float64\n",
      "0\n",
      "False\n",
      "perceived_colour_value_name\n",
      "count     105542\n",
      "unique         8\n",
      "top         Dark\n",
      "freq       42706\n",
      "Name: perceived_colour_value_name, dtype: object\n",
      "0\n",
      "False\n",
      "perceived_colour_master_id\n",
      "count    105542.000000\n",
      "mean          7.807972\n",
      "std           5.376727\n",
      "min          -1.000000\n",
      "25%           4.000000\n",
      "50%           5.000000\n",
      "75%          11.000000\n",
      "max          20.000000\n",
      "Name: perceived_colour_master_id, dtype: float64\n",
      "0\n",
      "False\n",
      "perceived_colour_master_name\n",
      "count     105542\n",
      "unique        20\n",
      "top        Black\n",
      "freq       22585\n",
      "Name: perceived_colour_master_name, dtype: object\n",
      "0\n",
      "False\n",
      "department_no\n",
      "count    105542.000000\n",
      "mean       4532.777833\n",
      "std        2712.692011\n",
      "min        1201.000000\n",
      "25%        1676.000000\n",
      "50%        4222.000000\n",
      "75%        7389.000000\n",
      "max        9989.000000\n",
      "Name: department_no, dtype: float64\n",
      "0\n",
      "False\n",
      "department_name\n",
      "count     105542\n",
      "unique       250\n",
      "top       Jersey\n",
      "freq        4604\n",
      "Name: department_name, dtype: object\n",
      "0\n",
      "False\n",
      "index_code\n",
      "count     105542\n",
      "unique        10\n",
      "top            A\n",
      "freq       26001\n",
      "Name: index_code, dtype: object\n",
      "0\n",
      "False\n",
      "index_name\n",
      "count         105542\n",
      "unique            10\n",
      "top       Ladieswear\n",
      "freq           26001\n",
      "Name: index_name, dtype: object\n",
      "0\n",
      "False\n",
      "index_group_no\n",
      "count    105542.000000\n",
      "mean          3.171534\n",
      "std           4.353234\n",
      "min           1.000000\n",
      "25%           1.000000\n",
      "50%           2.000000\n",
      "75%           4.000000\n",
      "max          26.000000\n",
      "Name: index_group_no, dtype: float64\n",
      "0\n",
      "False\n",
      "index_group_name\n",
      "count         105542\n",
      "unique             5\n",
      "top       Ladieswear\n",
      "freq           39737\n",
      "Name: index_group_name, dtype: object\n",
      "0\n",
      "False\n",
      "section_no\n",
      "count    105542.000000\n",
      "mean         42.664219\n",
      "std          23.260105\n",
      "min           2.000000\n",
      "25%          20.000000\n",
      "50%          46.000000\n",
      "75%          61.000000\n",
      "max          97.000000\n",
      "Name: section_no, dtype: float64\n",
      "0\n",
      "False\n",
      "section_name\n",
      "count                         105542\n",
      "unique                            56\n",
      "top       Womens Everyday Collection\n",
      "freq                            7295\n",
      "Name: section_name, dtype: object\n",
      "0\n",
      "False\n",
      "garment_group_no\n",
      "count    105542.000000\n",
      "mean       1010.438290\n",
      "std           6.731023\n",
      "min        1001.000000\n",
      "25%        1005.000000\n",
      "50%        1009.000000\n",
      "75%        1017.000000\n",
      "max        1025.000000\n",
      "Name: garment_group_no, dtype: float64\n",
      "0\n",
      "False\n",
      "garment_group_name\n",
      "count           105542\n",
      "unique              21\n",
      "top       Jersey Fancy\n",
      "freq             21445\n",
      "Name: garment_group_name, dtype: object\n",
      "0\n",
      "False\n",
      "detail_desc\n",
      "count                                105126\n",
      "unique                                43404\n",
      "top       T-shirt in printed cotton jersey.\n",
      "freq                                    159\n",
      "Name: detail_desc, dtype: object\n",
      "416\n",
      "False\n"
     ]
    }
   ],
   "source": [
    "print(articles.columns)\n",
    "for col in articles.columns:\n",
    "    print(col)\n",
    "    print(articles[col].describe())\n",
    "    print(articles[col].isna().sum())\n",
    "    print(len(articles[col].unique()) == len(articles[col].tolist()))"
   ],
   "metadata": {
    "collapsed": false
   }
  },
  {
   "cell_type": "code",
   "execution_count": 25,
   "outputs": [
    {
     "name": "stdout",
     "output_type": "stream",
     "text": [
      "        perceived_colour_value_id perceived_colour_value_name\n",
      "0                               4                        Dark\n",
      "1                               3                       Light\n",
      "2                               1                 Dusty Light\n",
      "3                               4                        Dark\n",
      "4                               3                       Light\n",
      "...                           ...                         ...\n",
      "105537                          4                        Dark\n",
      "105538                          4                        Dark\n",
      "105539                          4                        Dark\n",
      "105540                          4                        Dark\n",
      "105541                          1                 Dusty Light\n",
      "\n",
      "[105542 rows x 2 columns]\n"
     ]
    },
    {
     "data": {
      "text/plain": "       perceived_colour_value_id perceived_colour_value_name\n0                              4                        Dark\n1                              3                       Light\n2                              1                 Dusty Light\n7                              2                Medium Dusty\n32                             5                      Bright\n60                             7                      Medium\n257                            6                   Undefined\n21238                         -1                     Unknown",
      "text/html": "<div>\n<style scoped>\n    .dataframe tbody tr th:only-of-type {\n        vertical-align: middle;\n    }\n\n    .dataframe tbody tr th {\n        vertical-align: top;\n    }\n\n    .dataframe thead th {\n        text-align: right;\n    }\n</style>\n<table border=\"1\" class=\"dataframe\">\n  <thead>\n    <tr style=\"text-align: right;\">\n      <th></th>\n      <th>perceived_colour_value_id</th>\n      <th>perceived_colour_value_name</th>\n    </tr>\n  </thead>\n  <tbody>\n    <tr>\n      <th>0</th>\n      <td>4</td>\n      <td>Dark</td>\n    </tr>\n    <tr>\n      <th>1</th>\n      <td>3</td>\n      <td>Light</td>\n    </tr>\n    <tr>\n      <th>2</th>\n      <td>1</td>\n      <td>Dusty Light</td>\n    </tr>\n    <tr>\n      <th>7</th>\n      <td>2</td>\n      <td>Medium Dusty</td>\n    </tr>\n    <tr>\n      <th>32</th>\n      <td>5</td>\n      <td>Bright</td>\n    </tr>\n    <tr>\n      <th>60</th>\n      <td>7</td>\n      <td>Medium</td>\n    </tr>\n    <tr>\n      <th>257</th>\n      <td>6</td>\n      <td>Undefined</td>\n    </tr>\n    <tr>\n      <th>21238</th>\n      <td>-1</td>\n      <td>Unknown</td>\n    </tr>\n  </tbody>\n</table>\n</div>"
     },
     "execution_count": 25,
     "metadata": {},
     "output_type": "execute_result"
    }
   ],
   "source": [
    "# figure out whether the pairs are uniuqe for the values\n",
    "print(articles[['perceived_colour_value_id', 'perceived_colour_value_name']])\n",
    "df = articles[['perceived_colour_value_id', 'perceived_colour_value_name']]\n",
    "df.drop_duplicates()"
   ],
   "metadata": {
    "collapsed": false
   }
  },
  {
   "cell_type": "code",
   "execution_count": 26,
   "outputs": [
    {
     "name": "stdout",
     "output_type": "stream",
     "text": [
      "        perceived_colour_master_id perceived_colour_master_name\n",
      "0                                5                        Black\n",
      "1                                9                        White\n",
      "2                                9                        White\n",
      "3                                5                        Black\n",
      "4                                9                        White\n",
      "...                            ...                          ...\n",
      "105537                           5                        Black\n",
      "105538                           5                        Black\n",
      "105539                           5                        Black\n",
      "105540                           5                        Black\n",
      "105541                           9                        White\n",
      "\n",
      "[105542 rows x 2 columns]\n"
     ]
    },
    {
     "data": {
      "text/plain": "       perceived_colour_master_id perceived_colour_master_name\n0                               5                        Black\n1                               9                        White\n5                              11                        Beige\n11                             12                         Grey\n12                              2                         Blue\n20                              4                         Pink\n22                              6                 Lilac Purple\n25                             18                          Red\n29                              1                         Mole\n30                              3                       Orange\n31                             15                        Metal\n61                             13                        Brown\n90                              7                    Turquoise\n94                              8                       Yellow\n100                            20                  Khaki green\n166                            19                        Green\n257                            14                    undefined\n1095                           -1                      Unknown\n34968                          10              Yellowish Green\n35980                          16                 Bluish Green",
      "text/html": "<div>\n<style scoped>\n    .dataframe tbody tr th:only-of-type {\n        vertical-align: middle;\n    }\n\n    .dataframe tbody tr th {\n        vertical-align: top;\n    }\n\n    .dataframe thead th {\n        text-align: right;\n    }\n</style>\n<table border=\"1\" class=\"dataframe\">\n  <thead>\n    <tr style=\"text-align: right;\">\n      <th></th>\n      <th>perceived_colour_master_id</th>\n      <th>perceived_colour_master_name</th>\n    </tr>\n  </thead>\n  <tbody>\n    <tr>\n      <th>0</th>\n      <td>5</td>\n      <td>Black</td>\n    </tr>\n    <tr>\n      <th>1</th>\n      <td>9</td>\n      <td>White</td>\n    </tr>\n    <tr>\n      <th>5</th>\n      <td>11</td>\n      <td>Beige</td>\n    </tr>\n    <tr>\n      <th>11</th>\n      <td>12</td>\n      <td>Grey</td>\n    </tr>\n    <tr>\n      <th>12</th>\n      <td>2</td>\n      <td>Blue</td>\n    </tr>\n    <tr>\n      <th>20</th>\n      <td>4</td>\n      <td>Pink</td>\n    </tr>\n    <tr>\n      <th>22</th>\n      <td>6</td>\n      <td>Lilac Purple</td>\n    </tr>\n    <tr>\n      <th>25</th>\n      <td>18</td>\n      <td>Red</td>\n    </tr>\n    <tr>\n      <th>29</th>\n      <td>1</td>\n      <td>Mole</td>\n    </tr>\n    <tr>\n      <th>30</th>\n      <td>3</td>\n      <td>Orange</td>\n    </tr>\n    <tr>\n      <th>31</th>\n      <td>15</td>\n      <td>Metal</td>\n    </tr>\n    <tr>\n      <th>61</th>\n      <td>13</td>\n      <td>Brown</td>\n    </tr>\n    <tr>\n      <th>90</th>\n      <td>7</td>\n      <td>Turquoise</td>\n    </tr>\n    <tr>\n      <th>94</th>\n      <td>8</td>\n      <td>Yellow</td>\n    </tr>\n    <tr>\n      <th>100</th>\n      <td>20</td>\n      <td>Khaki green</td>\n    </tr>\n    <tr>\n      <th>166</th>\n      <td>19</td>\n      <td>Green</td>\n    </tr>\n    <tr>\n      <th>257</th>\n      <td>14</td>\n      <td>undefined</td>\n    </tr>\n    <tr>\n      <th>1095</th>\n      <td>-1</td>\n      <td>Unknown</td>\n    </tr>\n    <tr>\n      <th>34968</th>\n      <td>10</td>\n      <td>Yellowish Green</td>\n    </tr>\n    <tr>\n      <th>35980</th>\n      <td>16</td>\n      <td>Bluish Green</td>\n    </tr>\n  </tbody>\n</table>\n</div>"
     },
     "execution_count": 26,
     "metadata": {},
     "output_type": "execute_result"
    }
   ],
   "source": [
    "# figure out whether the pairs are unique for the values\n",
    "print(articles[['perceived_colour_master_id', 'perceived_colour_master_name']])\n",
    "df = articles[['perceived_colour_master_id', 'perceived_colour_master_name']]\n",
    "df.drop_duplicates()"
   ],
   "metadata": {
    "collapsed": false
   }
  },
  {
   "cell_type": "code",
   "execution_count": 29,
   "outputs": [
    {
     "name": "stdout",
     "output_type": "stream",
     "text": [
      "['Dark' 'Light' 'Dusty Light' 'Medium Dusty' 'Bright' 'Medium' 'Undefined'\n",
      " 'Unknown']\n",
      "['Black' 'White' 'Beige' 'Grey' 'Blue' 'Pink' 'Lilac Purple' 'Red' 'Mole'\n",
      " 'Orange' 'Metal' 'Brown' 'Turquoise' 'Yellow' 'Khaki green' 'Green'\n",
      " 'undefined' 'Unknown' 'Yellowish Green' 'Bluish Green']\n"
     ]
    }
   ],
   "source": [
    "print(articles['perceived_colour_value_name'].unique())\n",
    "print(articles['perceived_colour_master_name'].unique())"
   ],
   "metadata": {
    "collapsed": false
   }
  },
  {
   "cell_type": "code",
   "execution_count": 27,
   "outputs": [
    {
     "data": {
      "text/plain": "<AxesSubplot:xlabel='perceived_colour_value_name'>"
     },
     "execution_count": 27,
     "metadata": {},
     "output_type": "execute_result"
    },
    {
     "data": {
      "text/plain": "<Figure size 432x288 with 1 Axes>",
      "image/png": "[encoded data removed]"
     },
     "metadata": {
      "needs_background": "light"
     },
     "output_type": "display_data"
    }
   ],
   "source": [
    "articles[['perceived_colour_value_name']].value_counts().plot.bar()"
   ],
   "metadata": {
    "collapsed": false
   }
  },
  {
   "cell_type": "code",
   "execution_count": 28,
   "outputs": [
    {
     "data": {
      "text/plain": "<AxesSubplot:xlabel='perceived_colour_master_name'>"
     },
     "execution_count": 28,
     "metadata": {},
     "output_type": "execute_result"
    },
    {
     "data": {
      "text/plain": "<Figure size 432x288 with 1 Axes>",
      "image/png": "[encoded data removed]"
     },
     "metadata": {
      "needs_background": "light"
     },
     "output_type": "display_data"
    }
   ],
   "source": [
    "articles[['perceived_colour_master_name']].value_counts().plot.bar()"
   ],
   "metadata": {
    "collapsed": false
   }
  },
  {
   "cell_type": "code",
   "execution_count": 32,
   "outputs": [
    {
     "data": {
      "text/plain": "      colour_group_name perceived_colour_master_name\n29        Greyish Beige                         Mole\n234               Beige                         Mole\n275          Dark Beige                         Mole\n421                Pink                         Mole\n3281     Greenish Khaki                         Mole\n3585         Light Grey                         Mole\n4387        Light Beige                         Mole\n6163    Yellowish Brown                         Mole\n9798          Dark Pink                         Mole\n21567              Grey                         Mole\n58437         Dark Grey                         Mole",
      "text/html": "<div>\n<style scoped>\n    .dataframe tbody tr th:only-of-type {\n        vertical-align: middle;\n    }\n\n    .dataframe tbody tr th {\n        vertical-align: top;\n    }\n\n    .dataframe thead th {\n        text-align: right;\n    }\n</style>\n<table border=\"1\" class=\"dataframe\">\n  <thead>\n    <tr style=\"text-align: right;\">\n      <th></th>\n      <th>colour_group_name</th>\n      <th>perceived_colour_master_name</th>\n    </tr>\n  </thead>\n  <tbody>\n    <tr>\n      <th>29</th>\n      <td>Greyish Beige</td>\n      <td>Mole</td>\n    </tr>\n    <tr>\n      <th>234</th>\n      <td>Beige</td>\n      <td>Mole</td>\n    </tr>\n    <tr>\n      <th>275</th>\n      <td>Dark Beige</td>\n      <td>Mole</td>\n    </tr>\n    <tr>\n      <th>421</th>\n      <td>Pink</td>\n      <td>Mole</td>\n    </tr>\n    <tr>\n      <th>3281</th>\n      <td>Greenish Khaki</td>\n      <td>Mole</td>\n    </tr>\n    <tr>\n      <th>3585</th>\n      <td>Light Grey</td>\n      <td>Mole</td>\n    </tr>\n    <tr>\n      <th>4387</th>\n      <td>Light Beige</td>\n      <td>Mole</td>\n    </tr>\n    <tr>\n      <th>6163</th>\n      <td>Yellowish Brown</td>\n      <td>Mole</td>\n    </tr>\n    <tr>\n      <th>9798</th>\n      <td>Dark Pink</td>\n      <td>Mole</td>\n    </tr>\n    <tr>\n      <th>21567</th>\n      <td>Grey</td>\n      <td>Mole</td>\n    </tr>\n    <tr>\n      <th>58437</th>\n      <td>Dark Grey</td>\n      <td>Mole</td>\n    </tr>\n  </tbody>\n</table>\n</div>"
     },
     "execution_count": 32,
     "metadata": {},
     "output_type": "execute_result"
    }
   ],
   "source": [
    "# The quest for mole\n",
    "df = articles[['colour_group_name', 'perceived_colour_master_name']]\n",
    "df = df.drop_duplicates()\n",
    "df[df['perceived_colour_master_name'] == 'Mole']"
   ],
   "metadata": {
    "collapsed": false
   }
  },
  {
   "cell_type": "code",
   "execution_count": 33,
   "outputs": [
    {
     "data": {
      "text/plain": "     colour_group_name perceived_colour_master_name\n31              Silver                        Metal\n32                Gold                        Metal\n1685     Bronze/Copper                        Metal",
      "text/html": "<div>\n<style scoped>\n    .dataframe tbody tr th:only-of-type {\n        vertical-align: middle;\n    }\n\n    .dataframe tbody tr th {\n        vertical-align: top;\n    }\n\n    .dataframe thead th {\n        text-align: right;\n    }\n</style>\n<table border=\"1\" class=\"dataframe\">\n  <thead>\n    <tr style=\"text-align: right;\">\n      <th></th>\n      <th>colour_group_name</th>\n      <th>perceived_colour_master_name</th>\n    </tr>\n  </thead>\n  <tbody>\n    <tr>\n      <th>31</th>\n      <td>Silver</td>\n      <td>Metal</td>\n    </tr>\n    <tr>\n      <th>32</th>\n      <td>Gold</td>\n      <td>Metal</td>\n    </tr>\n    <tr>\n      <th>1685</th>\n      <td>Bronze/Copper</td>\n      <td>Metal</td>\n    </tr>\n  </tbody>\n</table>\n</div>"
     },
     "execution_count": 33,
     "metadata": {},
     "output_type": "execute_result"
    }
   ],
   "source": [
    "# metal colour\n",
    "df = articles[['colour_group_name', 'perceived_colour_master_name']]\n",
    "df = df.drop_duplicates()\n",
    "df[df['perceived_colour_master_name'] == 'Metal']"
   ],
   "metadata": {
    "collapsed": false
   }
  },
  {
   "cell_type": "code",
   "execution_count": 35,
   "outputs": [
    {
     "name": "stdout",
     "output_type": "stream",
     "text": [
      "[592986010, 662344003, 665665001, 694968001, 694968004, 696114001, 696114002, 696124001, 696124002, 696500001, 696508002, 696512002, 711483004, 713577001, 719216001, 719216002, 719243001, 719243002, 719244001, 719244003, 719250001, 719250002, 719258001, 719259001, 721472001, 727667002, 730292001, 743295001]\n",
      "[212042036, 299733008, 373506027, 411413008, 442992005, 478426002, 478426004, 487050005, 515459004, 520175013, 522398055, 522398056, 533399001, 535716001, 540555001, 545589001, 546788001, 546967001, 547104005, 548563001, 553536001, 553881032, 554208003, 554823006, 561796002, 567291001, 567813002, 567968001, 567968002, 567968003, 568060004, 570968002, 571765001, 573085029, 575542004, 575542005, 582535001, 583539001, 584928001, 584989001, 586892003, 588184003, 590080001, 591087002, 596329007, 597569002, 598344002, 598807002, 606125001, 608071001, 608334001, 608776011, 609256001, 610927001, 611644001, 615178007, 616129002, 623278001, 623865001, 624679001, 629656001, 635068001, 637194001, 638048001, 639209002, 640605004, 640995001, 643166001, 649263001, 651514001, 651882002, 652745001, 657323005, 658223002, 660686001, 663851002, 668213001, 671022001, 671502001, 672092001, 679203001, 680715001, 683001001, 692565001, 699554001, 706465002, 706465003, 728156018, 733803003, 736672001, 736672002, 752811002, 752811003, 752811004, 779351004, 781135004, 821731001, 835168001, 835653002, 840567002, 875922001, 885873001, 890639001, 905091001, 917606003]\n"
     ]
    }
   ],
   "source": [
    "# unknown v undefined\n",
    "df = articles[['perceived_colour_value_name', 'article_id']]\n",
    "unknown_df = df[df['perceived_colour_value_name'] == 'Unknown']\n",
    "undefined_df = df[df['perceived_colour_value_name'] == 'Undefined']\n",
    "print(unknown_df['article_id'].tolist())\n",
    "print(undefined_df['article_id'].tolist())"
   ],
   "metadata": {
    "collapsed": false
   }
  }
 ],
 "metadata": {
  "kernelspec": {
   "display_name": "Python 3",
   "language": "python",
   "name": "python3"
  },
  "language_info": {
   "codemirror_mode": {
    "name": "ipython",
    "version": 2
   },
   "file_extension": ".py",
   "mimetype": "text/x-python",
   "name": "python",
   "nbconvert_exporter": "python",
   "pygments_lexer": "ipython2",
   "version": "2.7.6"
  }
 },
 "nbformat": 4,
 "nbformat_minor": 0
}
