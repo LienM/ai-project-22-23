{
 "cells": [
  {
   "cell_type": "markdown",
   "metadata": {},
   "source": [
    "# Association & Sequential Rules algorithms: Validation & Comparison"
   ]
  },
  {
   "cell_type": "markdown",
   "metadata": {},
   "source": [
    "In this notebook, we will show how to validate the RecPack algorithms using RecPack Pipeline. Metrics will be used here to compare the algorithms."
   ]
  },
  {
   "cell_type": "code",
   "execution_count": 1,
   "metadata": {},
   "outputs": [],
   "source": [
    "import numpy as np\n",
    "import pandas as pd\n",
    "from recpack.preprocessing.preprocessors import DataFramePreprocessor\n",
    "from recpack.preprocessing.filters import MinItemsPerUser, MinUsersPerItem\n",
    "from recpack.scenarios import Timed, TimedLastItemPrediction\n",
    "from recpack.pipelines import PipelineBuilder"
   ]
  },
  {
   "cell_type": "code",
   "execution_count": 2,
   "metadata": {},
   "outputs": [],
   "source": [
    "transactions = pd.read_feather('transactions_train_preproc.feather')"
   ]
  },
  {
   "cell_type": "code",
   "execution_count": 3,
   "metadata": {},
   "outputs": [
    {
     "data": {
      "text/html": [
       "<div>\n",
       "<style scoped>\n",
       "    .dataframe tbody tr th:only-of-type {\n",
       "        vertical-align: middle;\n",
       "    }\n",
       "\n",
       "    .dataframe tbody tr th {\n",
       "        vertical-align: top;\n",
       "    }\n",
       "\n",
       "    .dataframe thead th {\n",
       "        text-align: right;\n",
       "    }\n",
       "</style>\n",
       "<table border=\"1\" class=\"dataframe\">\n",
       "  <thead>\n",
       "    <tr style=\"text-align: right;\">\n",
       "      <th></th>\n",
       "      <th>index</th>\n",
       "      <th>t_dat</th>\n",
       "      <th>customer_id</th>\n",
       "      <th>article_id</th>\n",
       "      <th>price</th>\n",
       "      <th>sales_channel_id</th>\n",
       "      <th>week</th>\n",
       "    </tr>\n",
       "  </thead>\n",
       "  <tbody>\n",
       "    <tr>\n",
       "      <th>0</th>\n",
       "      <td>25784</td>\n",
       "      <td>2018-09-20</td>\n",
       "      <td>1728846800780188</td>\n",
       "      <td>519773001</td>\n",
       "      <td>0.028458</td>\n",
       "      <td>2</td>\n",
       "      <td>0</td>\n",
       "    </tr>\n",
       "    <tr>\n",
       "      <th>1</th>\n",
       "      <td>25785</td>\n",
       "      <td>2018-09-20</td>\n",
       "      <td>1728846800780188</td>\n",
       "      <td>578472001</td>\n",
       "      <td>0.032525</td>\n",
       "      <td>2</td>\n",
       "      <td>0</td>\n",
       "    </tr>\n",
       "    <tr>\n",
       "      <th>2</th>\n",
       "      <td>5389</td>\n",
       "      <td>2018-09-20</td>\n",
       "      <td>2076973761519164</td>\n",
       "      <td>661795002</td>\n",
       "      <td>0.167797</td>\n",
       "      <td>2</td>\n",
       "      <td>0</td>\n",
       "    </tr>\n",
       "    <tr>\n",
       "      <th>3</th>\n",
       "      <td>5390</td>\n",
       "      <td>2018-09-20</td>\n",
       "      <td>2076973761519164</td>\n",
       "      <td>684080003</td>\n",
       "      <td>0.101678</td>\n",
       "      <td>2</td>\n",
       "      <td>0</td>\n",
       "    </tr>\n",
       "    <tr>\n",
       "      <th>4</th>\n",
       "      <td>47429</td>\n",
       "      <td>2018-09-20</td>\n",
       "      <td>2918879973994241</td>\n",
       "      <td>662980001</td>\n",
       "      <td>0.033881</td>\n",
       "      <td>1</td>\n",
       "      <td>0</td>\n",
       "    </tr>\n",
       "    <tr>\n",
       "      <th>...</th>\n",
       "      <td>...</td>\n",
       "      <td>...</td>\n",
       "      <td>...</td>\n",
       "      <td>...</td>\n",
       "      <td>...</td>\n",
       "      <td>...</td>\n",
       "      <td>...</td>\n",
       "    </tr>\n",
       "    <tr>\n",
       "      <th>31788319</th>\n",
       "      <td>31774722</td>\n",
       "      <td>2020-09-22</td>\n",
       "      <td>18439937050817258297</td>\n",
       "      <td>891591003</td>\n",
       "      <td>0.084729</td>\n",
       "      <td>2</td>\n",
       "      <td>104</td>\n",
       "    </tr>\n",
       "    <tr>\n",
       "      <th>31788320</th>\n",
       "      <td>31774723</td>\n",
       "      <td>2020-09-22</td>\n",
       "      <td>18439937050817258297</td>\n",
       "      <td>869706005</td>\n",
       "      <td>0.084729</td>\n",
       "      <td>2</td>\n",
       "      <td>104</td>\n",
       "    </tr>\n",
       "    <tr>\n",
       "      <th>31788321</th>\n",
       "      <td>31779097</td>\n",
       "      <td>2020-09-22</td>\n",
       "      <td>18440902715633436014</td>\n",
       "      <td>918894002</td>\n",
       "      <td>0.016932</td>\n",
       "      <td>1</td>\n",
       "      <td>104</td>\n",
       "    </tr>\n",
       "    <tr>\n",
       "      <th>31788322</th>\n",
       "      <td>31779098</td>\n",
       "      <td>2020-09-22</td>\n",
       "      <td>18440902715633436014</td>\n",
       "      <td>761269001</td>\n",
       "      <td>0.016932</td>\n",
       "      <td>1</td>\n",
       "      <td>104</td>\n",
       "    </tr>\n",
       "    <tr>\n",
       "      <th>31788323</th>\n",
       "      <td>31780475</td>\n",
       "      <td>2020-09-22</td>\n",
       "      <td>18443633011701112574</td>\n",
       "      <td>914868002</td>\n",
       "      <td>0.033881</td>\n",
       "      <td>1</td>\n",
       "      <td>104</td>\n",
       "    </tr>\n",
       "  </tbody>\n",
       "</table>\n",
       "<p>31788324 rows × 7 columns</p>\n",
       "</div>"
      ],
      "text/plain": [
       "             index      t_dat           customer_id  article_id     price  \\\n",
       "0            25784 2018-09-20      1728846800780188   519773001  0.028458   \n",
       "1            25785 2018-09-20      1728846800780188   578472001  0.032525   \n",
       "2             5389 2018-09-20      2076973761519164   661795002  0.167797   \n",
       "3             5390 2018-09-20      2076973761519164   684080003  0.101678   \n",
       "4            47429 2018-09-20      2918879973994241   662980001  0.033881   \n",
       "...            ...        ...                   ...         ...       ...   \n",
       "31788319  31774722 2020-09-22  18439937050817258297   891591003  0.084729   \n",
       "31788320  31774723 2020-09-22  18439937050817258297   869706005  0.084729   \n",
       "31788321  31779097 2020-09-22  18440902715633436014   918894002  0.016932   \n",
       "31788322  31779098 2020-09-22  18440902715633436014   761269001  0.016932   \n",
       "31788323  31780475 2020-09-22  18443633011701112574   914868002  0.033881   \n",
       "\n",
       "          sales_channel_id  week  \n",
       "0                        2     0  \n",
       "1                        2     0  \n",
       "2                        2     0  \n",
       "3                        2     0  \n",
       "4                        1     0  \n",
       "...                    ...   ...  \n",
       "31788319                 2   104  \n",
       "31788320                 2   104  \n",
       "31788321                 1   104  \n",
       "31788322                 1   104  \n",
       "31788323                 1   104  \n",
       "\n",
       "[31788324 rows x 7 columns]"
      ]
     },
     "execution_count": 3,
     "metadata": {},
     "output_type": "execute_result"
    }
   ],
   "source": [
    "transactions"
   ]
  },
  {
   "cell_type": "code",
   "execution_count": 4,
   "metadata": {},
   "outputs": [],
   "source": [
    "test_week = transactions.week.max()\n",
    "transactions = transactions[transactions.week > test_week - 10]"
   ]
  },
  {
   "cell_type": "markdown",
   "metadata": {},
   "source": [
    "# Checking the results of the algorithms:"
   ]
  },
  {
   "cell_type": "markdown",
   "metadata": {},
   "source": [
    "## `TimedLastItemPrediction` scenario"
   ]
  },
  {
   "cell_type": "markdown",
   "metadata": {},
   "source": [
    "### Preprocessing"
   ]
  },
  {
   "cell_type": "code",
   "execution_count": 6,
   "metadata": {},
   "outputs": [
    {
     "data": {
      "application/vnd.jupyter.widget-view+json": {
       "model_id": "1e84c013ab9f44658ddca1e82239d150",
       "version_major": 2,
       "version_minor": 0
      },
      "text/plain": [
       "  0%|          | 0/1228106 [00:00<?, ?it/s]"
      ]
     },
     "metadata": {},
     "output_type": "display_data"
    },
    {
     "data": {
      "application/vnd.jupyter.widget-view+json": {
       "model_id": "054453f5734944b6b518573ac78f999a",
       "version_major": 2,
       "version_minor": 0
      },
      "text/plain": [
       "  0%|          | 0/1228106 [00:00<?, ?it/s]"
      ]
     },
     "metadata": {},
     "output_type": "display_data"
    }
   ],
   "source": [
    "proc = DataFramePreprocessor(item_ix='article_id', user_ix='customer_id', timestamp_ix='week')\n",
    "proc.add_filter(MinUsersPerItem(10, item_ix='article_id', user_ix='customer_id'))\n",
    "proc.add_filter(MinItemsPerUser(10, item_ix='article_id', user_ix='customer_id'))\n",
    "\n",
    "interaction_matrix = proc.process(transactions)"
   ]
  },
  {
   "cell_type": "code",
   "execution_count": 7,
   "metadata": {},
   "outputs": [
    {
     "data": {
      "text/plain": [
       "(array([126710., 131222., 145802., 133000., 122952., 114875., 122603.,\n",
       "        113551., 113942., 103449.]),\n",
       " array([ 95. ,  95.9,  96.8,  97.7,  98.6,  99.5, 100.4, 101.3, 102.2,\n",
       "        103.1, 104. ]),\n",
       " <BarContainer object of 10 artists>)"
      ]
     },
     "execution_count": 7,
     "metadata": {},
     "output_type": "execute_result"
    },
    {
     "data": {
      "image/png": "[encoded data removed]",
      "text/plain": [
       "<Figure size 640x480 with 1 Axes>"
      ]
     },
     "metadata": {},
     "output_type": "display_data"
    }
   ],
   "source": [
    "import matplotlib.pyplot as plt\n",
    "plt.hist(interaction_matrix.timestamps.values)"
   ]
  },
  {
   "cell_type": "code",
   "execution_count": 10,
   "metadata": {},
   "outputs": [
    {
     "name": "stdout",
     "output_type": "stream",
     "text": [
      "101 99\n"
     ]
    }
   ],
   "source": [
    "t_70 = interaction_matrix.timestamps.values[int(0.7 * len(interaction_matrix.timestamps.values))]\n",
    "t_validate_70 = interaction_matrix.timestamps.values[int(0.7 * 0.7 * len(interaction_matrix.timestamps.values))]\n",
    "print(t_70, t_validate_70)"
   ]
  },
  {
   "cell_type": "code",
   "execution_count": 18,
   "metadata": {},
   "outputs": [
    {
     "name": "stderr",
     "output_type": "stream",
     "text": [
      "/home/jupyter/recpack/scenarios/splitters.py:187: FutureWarning: Using the level keyword in DataFrame and Series aggregations is deprecated and will be removed in a future version. Use groupby instead. df.median(level=1) should use df.groupby(level=1).median().\n",
      "  max_ts_per_user = data.timestamps.max(level=0)\n"
     ]
    },
    {
     "data": {
      "application/vnd.jupyter.widget-view+json": {
       "model_id": "b9c40b62fde24332a174c5dde0af9044",
       "version_major": 2,
       "version_minor": 0
      },
      "text/plain": [
       "0it [00:00, ?it/s]"
      ]
     },
     "metadata": {},
     "output_type": "display_data"
    },
    {
     "data": {
      "application/vnd.jupyter.widget-view+json": {
       "model_id": "459948e40a20463ca59aa8b1964a131b",
       "version_major": 2,
       "version_minor": 0
      },
      "text/plain": [
       "0it [00:00, ?it/s]"
      ]
     },
     "metadata": {},
     "output_type": "display_data"
    },
    {
     "name": "stderr",
     "output_type": "stream",
     "text": [
      "/home/jupyter/recpack/matrix/interaction_matrix.py:407: UserWarning: No interaction IDs given, returning empty InteractionMatrix.\n",
      "  warnings.warn(\"No interaction IDs given, returning empty InteractionMatrix.\")\n"
     ]
    },
    {
     "data": {
      "application/vnd.jupyter.widget-view+json": {
       "model_id": "ef47846c19a74b85be79f0feed3c7cfa",
       "version_major": 2,
       "version_minor": 0
      },
      "text/plain": [
       "0it [00:00, ?it/s]"
      ]
     },
     "metadata": {},
     "output_type": "display_data"
    },
    {
     "data": {
      "application/vnd.jupyter.widget-view+json": {
       "model_id": "3293a337d77141c79bf6a745e038714c",
       "version_major": 2,
       "version_minor": 0
      },
      "text/plain": [
       "0it [00:00, ?it/s]"
      ]
     },
     "metadata": {},
     "output_type": "display_data"
    }
   ],
   "source": [
    "scenario = TimedLastItemPrediction(t=t_80, t_validation=t_validate_80, validation=True)\n",
    "scenario.split(interaction_matrix)"
   ]
  },
  {
   "cell_type": "code",
   "execution_count": 11,
   "metadata": {},
   "outputs": [],
   "source": [
    "import pandas\n",
    "import numpy as np\n",
    "from scipy.sparse import csr_matrix\n",
    "from recpack.algorithms.base import TopKItemSimilarityMatrixAlgorithm\n",
    "from recpack.algorithms.util import invert\n",
    "from recpack.matrix import InteractionMatrix, to_binary\n",
    "from recpack.util import get_top_K_values, get_top_K_ranks\n",
    "\n",
    "\n",
    "#def last_item_recommendations(X: InteractionMatrix):\n",
    "    \n",
    "#    return get_top_K_ranks(X.last_timestamps_matrix, K=1)\n",
    "\n",
    "\n",
    "class AssociationRules(TopKItemSimilarityMatrixAlgorithm):\n",
    "    def __init__(self, K=200):\n",
    "        super().__init__(K)\n",
    "\n",
    "    def _fit(self, X: csr_matrix):\n",
    "        \"\"\"\n",
    "        Trains the predictor.\n",
    "\n",
    "        \"\"\"\n",
    "        X_binary = to_binary(X)\n",
    "        X_T_binary = csr_matrix(X_binary.transpose())\n",
    "\n",
    "        # CO_matrix = X_T_binary @ X_binary\n",
    "\n",
    "        CO_matrix = csr_matrix(X_T_binary @ X_binary)\n",
    "\n",
    "        # Here we get the best rules\n",
    "        CO_matrix = get_top_K_values(CO_matrix, self.K)\n",
    "\n",
    "        # Normalization of CO_matrix\n",
    "        CO_array = CO_matrix.toarray()\n",
    "\n",
    "        diag = np.diagonal(CO_array)\n",
    "        sim_matrix = CO_array/diag[:, None]\n",
    "        similarity = csr_matrix(sim_matrix)\n",
    "        # similarity = get_top_K_values(similarity, self.K)\n",
    "\n",
    "        self.similarity_matrix_ = similarity\n",
    "\n",
    "    #def _transform_predict_input(self, X):\n",
    "    #    X = last_item_recommendations(X)\n",
    "    #    return X"
   ]
  },
  {
   "cell_type": "code",
   "execution_count": 12,
   "metadata": {},
   "outputs": [],
   "source": [
    "import pandas\n",
    "import numpy as np\n",
    "from scipy.sparse import csr_matrix\n",
    "from recpack.algorithms.base import TopKItemSimilarityMatrixAlgorithm\n",
    "from recpack.algorithms.util import invert\n",
    "from recpack.matrix import InteractionMatrix, to_binary\n",
    "from recpack.util import get_top_K_values, get_top_K_ranks\n",
    "\n",
    "def last_item_recommendations(X: InteractionMatrix):\n",
    "    \n",
    "    return get_top_K_ranks(X.last_timestamps_matrix, K=1)\n",
    "\n",
    "class AssociationRulesExtensionLastItem(AssociationRules):\n",
    "    def __init__(self, K=200):\n",
    "        super().__init__(K)\n",
    "\n",
    "    def _transform_predict_input(self, X):\n",
    "        X = last_item_recommendations(X)\n",
    "        return X"
   ]
  },
  {
   "cell_type": "code",
   "execution_count": 13,
   "metadata": {},
   "outputs": [],
   "source": [
    "import pandas\n",
    "import numpy as np\n",
    "from scipy.sparse import csr_matrix\n",
    "from recpack.algorithms.base import TopKItemSimilarityMatrixAlgorithm\n",
    "from recpack.algorithms.util import invert\n",
    "from recpack.matrix import InteractionMatrix, to_binary\n",
    "from recpack.util import get_top_K_values, get_top_K_ranks\n",
    "\n",
    "class AssociationRulesExtension(AssociationRules):\n",
    "    def __init__(self, K=200, k_items = 200):\n",
    "        super().__init__(K)\n",
    "        self.k_items = k_items\n",
    "\n",
    "    def _transform_predict_input(self, X):\n",
    "        X = invert(get_top_K_ranks(X.last_timestamps_matrix, K=self.k_items))\n",
    "        return X"
   ]
  },
  {
   "cell_type": "code",
   "execution_count": 14,
   "metadata": {},
   "outputs": [],
   "source": [
    "from asyncio.format_helpers import _format_callback_source\n",
    "import pandas as pd\n",
    "import numpy as np\n",
    "from collections import Counter\n",
    "from itertools import chain\n",
    "from scipy.sparse import csr_matrix, lil_matrix\n",
    "from recpack.algorithms.base import ItemSimilarityMatrixAlgorithm\n",
    "from recpack.algorithms.util import invert\n",
    "from recpack.matrix import InteractionMatrix, Matrix, to_csr_matrix\n",
    "from recpack.matrix.interaction_matrix import InteractionMatrix\n",
    "from recpack.util import to_binary\n",
    "\n",
    "\n",
    "#def last_item_recommendations(X: InteractionMatrix):\n",
    "    \n",
    "#    return get_top_K_ranks(X.last_timestamps_matrix, K=1)\n",
    "\n",
    "\n",
    "class SequentialRules(ItemSimilarityMatrixAlgorithm):\n",
    "    def __init__(self, max_steps=20):\n",
    "        self.max_steps = max_steps\n",
    "\n",
    "    def _transform_fit_input(self, X: Matrix) -> InteractionMatrix:\n",
    "        # X_interaction_matrix = isinstance(X, InteractionMatrix)\n",
    "        if isinstance(X, InteractionMatrix) == False:\n",
    "            raise ValueError(f\"Interaction Matrix\")\n",
    "        elif X.has_timestamps == False:\n",
    "            raise ValueError(f\"requires timestamp information\")\n",
    "        else:\n",
    "            return X\n",
    "\n",
    "    def _fit(self, X: InteractionMatrix):\n",
    "        a = list(X.sorted_item_history)\n",
    "        sim_matrix = lil_matrix((X.shape[1], X.shape[1]))\n",
    "        for user, items_per_user in X.sorted_item_history:\n",
    "            for i in range(0, len(items_per_user) - 1):\n",
    "                for n_steps, j in enumerate(\n",
    "                    range(i + 1, min(len(items_per_user), i + self.max_steps + 1)),\n",
    "                    start=1,\n",
    "                ):\n",
    "                    LHS = items_per_user[i]\n",
    "                    RHS = items_per_user[j]\n",
    "                    sim_matrix[LHS, RHS] += 1 / n_steps\n",
    "        support = csr_matrix(X.values.sum(axis=0))\n",
    "\n",
    "        sim_matrix = sim_matrix.multiply(invert(support).T)\n",
    "        self.similarity_matrix_ = sim_matrix.tocsr()\n",
    "\n",
    "    #def _transform_predict_input(self, X):\n",
    "    #    X = last_item_recommendations(X)\n",
    "    #    return X"
   ]
  },
  {
   "cell_type": "code",
   "execution_count": 15,
   "metadata": {},
   "outputs": [],
   "source": [
    "from asyncio.format_helpers import _format_callback_source\n",
    "import pandas as pd\n",
    "import numpy as np\n",
    "from collections import Counter\n",
    "from itertools import chain\n",
    "from scipy.sparse import csr_matrix, lil_matrix\n",
    "from recpack.algorithms.base import ItemSimilarityMatrixAlgorithm\n",
    "from recpack.algorithms.util import invert\n",
    "from recpack.matrix import InteractionMatrix, Matrix, to_csr_matrix\n",
    "from recpack.matrix.interaction_matrix import InteractionMatrix\n",
    "from recpack.util import to_binary, get_top_K_ranks\n",
    "\n",
    "def last_item_recommendations(X: InteractionMatrix):\n",
    "    \n",
    "    return get_top_K_ranks(X.last_timestamps_matrix, K=1)\n",
    "\n",
    "class SequentialRulesExtensionLastItem(SequentialRules):\n",
    "    def __init__(self, max_steps=20):\n",
    "        super().__init__(max_steps)\n",
    "\n",
    "    def _transform_predict_input(self, X):\n",
    "        X = last_item_recommendations(X)\n",
    "        return X"
   ]
  },
  {
   "cell_type": "code",
   "execution_count": 16,
   "metadata": {},
   "outputs": [],
   "source": [
    "from asyncio.format_helpers import _format_callback_source\n",
    "import pandas as pd\n",
    "import numpy as np\n",
    "from collections import Counter\n",
    "from itertools import chain\n",
    "from scipy.sparse import csr_matrix, lil_matrix\n",
    "from recpack.algorithms.base import ItemSimilarityMatrixAlgorithm\n",
    "from recpack.algorithms.util import invert\n",
    "from recpack.matrix import InteractionMatrix, Matrix, to_csr_matrix\n",
    "from recpack.matrix.interaction_matrix import InteractionMatrix\n",
    "from recpack.util import to_binary, get_top_K_ranks\n",
    "\n",
    "\n",
    "class SequentialRulesExtension(SequentialRules):\n",
    "    def __init__(self, max_steps=20, k_items = 200):\n",
    "        super().__init__(max_steps)\n",
    "        self.k_items = k_items\n",
    "\n",
    "    def _transform_predict_input(self, X):\n",
    "        X = invert(get_top_K_ranks(X.last_timestamps_matrix, K=self.k_items))\n",
    "        return X"
   ]
  },
  {
   "cell_type": "code",
   "execution_count": 17,
   "metadata": {},
   "outputs": [],
   "source": [
    "from recpack.pipelines import ALGORITHM_REGISTRY, PipelineBuilder, pipeline_builder\n",
    "\n",
    "ALGORITHM_REGISTRY.register('AssociationRules', AssociationRules)\n",
    "ALGORITHM_REGISTRY.register('SequentialRules', SequentialRules)\n",
    "ALGORITHM_REGISTRY.register('AssociationRulesExLast', AssociationRulesExtensionLastItem)\n",
    "ALGORITHM_REGISTRY.register('SequentialRulesExLast', SequentialRulesExtensionLastItem)\n",
    "ALGORITHM_REGISTRY.register('AssociationRulesEx', AssociationRulesExtension)\n",
    "ALGORITHM_REGISTRY.register('SequentialRulesEx', SequentialRulesExtension)"
   ]
  },
  {
   "cell_type": "code",
   "execution_count": 19,
   "metadata": {},
   "outputs": [],
   "source": [
    "builder = PipelineBuilder()\n",
    "builder.set_data_from_scenario(scenario)\n",
    "\n",
    "builder.add_algorithm('AssociationRules', grid={\n",
    "    'K': [100, 200, 500, 1000, 2000, 5000]  \n",
    "})\n",
    "\n",
    "builder.add_algorithm('SequentialRules', grid={\n",
    "    'max_steps': [10, 20, 30, 50, 100]\n",
    "})\n",
    "\n",
    "builder.add_algorithm('AssociationRulesExLast', grid={\n",
    "    'K': [100, 200, 500, 1000, 2000, 5000]  \n",
    "})\n",
    "\n",
    "builder.add_algorithm('SequentialRulesExLast', grid={\n",
    "    'max_steps': [10, 20, 30, 50, 100]\n",
    "})\n",
    "\n",
    "builder.add_algorithm('AssociationRulesEx', grid={\n",
    "    'K': [100, 200, 500, 1000, 2000, 5000],\n",
    "    'k_items': [100, 200, 500, 1000, 2000, 5000]\n",
    "})\n",
    "\n",
    "builder.add_algorithm('SequentialRulesEx', grid={\n",
    "    'max_steps': [10, 20, 30, 50, 100],\n",
    "    'k_items': [100, 200, 500, 1000, 2000, 5000]\n",
    "})\n",
    "\n",
    "\n",
    "\n",
    "builder.add_metric('PrecisionK', K=[12, 20, 30, 40])\n",
    "builder.add_metric('RecallK', K=[12, 20, 30, 40])\n",
    "builder.add_metric('CoverageK', K=[12, 20, 30, 40])\n",
    "\n",
    "builder.set_optimisation_metric('RecallK', K=12)"
   ]
  },
  {
   "cell_type": "code",
   "execution_count": 20,
   "metadata": {},
   "outputs": [
    {
     "data": {
      "application/vnd.jupyter.widget-view+json": {
       "model_id": "033dc585799444d78f9d85f25d942fd7",
       "version_major": 2,
       "version_minor": 0
      },
      "text/plain": [
       "  0%|          | 0/6 [00:00<?, ?it/s]"
      ]
     },
     "metadata": {},
     "output_type": "display_data"
    },
    {
     "name": "stderr",
     "output_type": "stream",
     "text": [
      "/opt/conda/lib/python3.7/site-packages/ipykernel_launcher.py:38: RuntimeWarning: invalid value encountered in true_divide\n"
     ]
    },
    {
     "name": "stdout",
     "output_type": "stream",
     "text": [
      "2022-12-18 10:45:17,971 - base - recpack - INFO - Fitting AssociationRules complete - Took 17.8s\n",
      "2022-12-18 10:46:08,674 - base - recpack - INFO - Fitting AssociationRules complete - Took 18.5s\n",
      "2022-12-18 10:47:04,878 - base - recpack - INFO - Fitting AssociationRules complete - Took 20.5s\n",
      "2022-12-18 10:48:07,975 - base - recpack - INFO - Fitting AssociationRules complete - Took 22.0s\n",
      "2022-12-18 10:49:20,775 - base - recpack - INFO - Fitting AssociationRules complete - Took 24.4s\n",
      "2022-12-18 10:50:36,606 - base - recpack - INFO - Fitting AssociationRules complete - Took 24.5s\n",
      "2022-12-18 10:51:43,724 - base - recpack - INFO - Fitting AssociationRules complete - Took 14.7s\n"
     ]
    },
    {
     "name": "stderr",
     "output_type": "stream",
     "text": [
      "/opt/conda/lib/python3.7/site-packages/scipy/sparse/_index.py:125: SparseEfficiencyWarning: Changing the sparsity structure of a csr_matrix is expensive. lil_matrix is more efficient.\n",
      "  self._set_arrayXarray(i, j, x)\n"
     ]
    },
    {
     "name": "stdout",
     "output_type": "stream",
     "text": [
      "2022-12-18 10:55:35,644 - base - recpack - INFO - Fitting SequentialRules complete - Took 78.0s\n"
     ]
    },
    {
     "name": "stderr",
     "output_type": "stream",
     "text": [
      "/home/jupyter/recpack/algorithms/base.py:271: UserWarning: SequentialRules missing similar items for 3319 items.\n",
      "  warnings.warn(f\"{self.name} missing similar items for {missing} items.\")\n",
      "/home/jupyter/recpack/algorithms/base.py:119: UserWarning: SequentialRules failed to recommend any items for 33 users\n",
      "  warnings.warn(f\"{self.name} failed to recommend any items \" f\"for {len(missing)} users\")\n"
     ]
    },
    {
     "name": "stdout",
     "output_type": "stream",
     "text": [
      "2022-12-18 10:57:15,350 - base - recpack - INFO - Fitting SequentialRules complete - Took 84.4s\n",
      "2022-12-18 10:58:55,988 - base - recpack - INFO - Fitting SequentialRules complete - Took 83.3s\n",
      "2022-12-18 11:00:38,453 - base - recpack - INFO - Fitting SequentialRules complete - Took 83.6s\n",
      "2022-12-18 11:02:21,851 - base - recpack - INFO - Fitting SequentialRules complete - Took 85.7s\n",
      "2022-12-18 11:04:28,106 - base - recpack - INFO - Fitting SequentialRules complete - Took 1.08e+02s\n"
     ]
    },
    {
     "name": "stderr",
     "output_type": "stream",
     "text": [
      "/home/jupyter/recpack/algorithms/base.py:271: UserWarning: SequentialRules missing similar items for 1891 items.\n",
      "  warnings.warn(f\"{self.name} missing similar items for {missing} items.\")\n",
      "/home/jupyter/recpack/algorithms/base.py:119: UserWarning: SequentialRules failed to recommend any items for 9 users\n",
      "  warnings.warn(f\"{self.name} failed to recommend any items \" f\"for {len(missing)} users\")\n"
     ]
    },
    {
     "name": "stdout",
     "output_type": "stream",
     "text": [
      "2022-12-18 11:06:26,778 - base - recpack - INFO - Fitting AssociationRulesExtensionLastItem complete - Took 17.6s\n",
      "2022-12-18 11:07:15,067 - base - recpack - INFO - Fitting AssociationRulesExtensionLastItem complete - Took 19.1s\n",
      "2022-12-18 11:08:05,960 - base - recpack - INFO - Fitting AssociationRulesExtensionLastItem complete - Took 21.5s\n",
      "2022-12-18 11:08:58,718 - base - recpack - INFO - Fitting AssociationRulesExtensionLastItem complete - Took 22.4s\n",
      "2022-12-18 11:09:54,123 - base - recpack - INFO - Fitting AssociationRulesExtensionLastItem complete - Took 23.8s\n",
      "2022-12-18 11:10:50,733 - base - recpack - INFO - Fitting AssociationRulesExtensionLastItem complete - Took 24.1s\n",
      "2022-12-18 11:11:37,131 - base - recpack - INFO - Fitting AssociationRulesExtensionLastItem complete - Took 14.3s\n",
      "2022-12-18 11:14:59,925 - base - recpack - INFO - Fitting SequentialRulesExtensionLastItem complete - Took 77.7s\n"
     ]
    },
    {
     "name": "stderr",
     "output_type": "stream",
     "text": [
      "/home/jupyter/recpack/algorithms/base.py:271: UserWarning: SequentialRulesExtensionLastItem missing similar items for 3319 items.\n",
      "  warnings.warn(f\"{self.name} missing similar items for {missing} items.\")\n",
      "/home/jupyter/recpack/algorithms/base.py:119: UserWarning: SequentialRulesExtensionLastItem failed to recommend any items for 8283 users\n",
      "  warnings.warn(f\"{self.name} failed to recommend any items \" f\"for {len(missing)} users\")\n"
     ]
    },
    {
     "name": "stdout",
     "output_type": "stream",
     "text": [
      "2022-12-18 11:16:25,765 - base - recpack - INFO - Fitting SequentialRulesExtensionLastItem complete - Took 82.5s\n",
      "2022-12-18 11:17:52,814 - base - recpack - INFO - Fitting SequentialRulesExtensionLastItem complete - Took 84.4s\n",
      "2022-12-18 11:19:19,903 - base - recpack - INFO - Fitting SequentialRulesExtensionLastItem complete - Took 84.4s\n",
      "2022-12-18 11:20:45,872 - base - recpack - INFO - Fitting SequentialRulesExtensionLastItem complete - Took 83.4s\n",
      "2022-12-18 11:22:42,824 - base - recpack - INFO - Fitting SequentialRulesExtensionLastItem complete - Took 1.14e+02s\n"
     ]
    },
    {
     "name": "stderr",
     "output_type": "stream",
     "text": [
      "/home/jupyter/recpack/algorithms/base.py:271: UserWarning: SequentialRulesExtensionLastItem missing similar items for 1891 items.\n",
      "  warnings.warn(f\"{self.name} missing similar items for {missing} items.\")\n",
      "/home/jupyter/recpack/algorithms/base.py:119: UserWarning: SequentialRulesExtensionLastItem failed to recommend any items for 21342 users\n",
      "  warnings.warn(f\"{self.name} failed to recommend any items \" f\"for {len(missing)} users\")\n"
     ]
    },
    {
     "name": "stdout",
     "output_type": "stream",
     "text": [
      "2022-12-18 11:23:19,625 - base - recpack - INFO - Fitting AssociationRulesExtension complete - Took 18.4s\n",
      "2022-12-18 11:24:13,061 - base - recpack - INFO - Fitting AssociationRulesExtension complete - Took 18.5s\n",
      "2022-12-18 11:25:06,821 - base - recpack - INFO - Fitting AssociationRulesExtension complete - Took 18.9s\n",
      "2022-12-18 11:25:59,320 - base - recpack - INFO - Fitting AssociationRulesExtension complete - Took 17.5s\n",
      "2022-12-18 11:26:53,133 - base - recpack - INFO - Fitting AssociationRulesExtension complete - Took 17.4s\n",
      "2022-12-18 11:27:46,110 - base - recpack - INFO - Fitting AssociationRulesExtension complete - Took 17.5s\n",
      "2022-12-18 11:28:41,165 - base - recpack - INFO - Fitting AssociationRulesExtension complete - Took 18.7s\n",
      "2022-12-18 11:29:38,109 - base - recpack - INFO - Fitting AssociationRulesExtension complete - Took 18.4s\n",
      "2022-12-18 11:30:34,874 - base - recpack - INFO - Fitting AssociationRulesExtension complete - Took 18.5s\n",
      "2022-12-18 11:31:32,142 - base - recpack - INFO - Fitting AssociationRulesExtension complete - Took 19.0s\n",
      "2022-12-18 11:32:32,726 - base - recpack - INFO - Fitting AssociationRulesExtension complete - Took 19.3s\n",
      "2022-12-18 11:33:33,821 - base - recpack - INFO - Fitting AssociationRulesExtension complete - Took 19.7s\n",
      "2022-12-18 11:34:37,578 - base - recpack - INFO - Fitting AssociationRulesExtension complete - Took 22.1s\n",
      "2022-12-18 11:35:45,572 - base - recpack - INFO - Fitting AssociationRulesExtension complete - Took 21.6s\n",
      "2022-12-18 11:36:53,012 - base - recpack - INFO - Fitting AssociationRulesExtension complete - Took 21.4s\n",
      "2022-12-18 11:37:57,071 - base - recpack - INFO - Fitting AssociationRulesExtension complete - Took 20.5s\n",
      "2022-12-18 11:39:01,418 - base - recpack - INFO - Fitting AssociationRulesExtension complete - Took 20.6s\n",
      "2022-12-18 11:40:08,667 - base - recpack - INFO - Fitting AssociationRulesExtension complete - Took 22.2s\n",
      "2022-12-18 11:41:14,809 - base - recpack - INFO - Fitting AssociationRulesExtension complete - Took 23.1s\n",
      "2022-12-18 11:42:25,850 - base - recpack - INFO - Fitting AssociationRulesExtension complete - Took 23.2s\n",
      "2022-12-18 11:43:36,599 - base - recpack - INFO - Fitting AssociationRulesExtension complete - Took 22.4s\n",
      "2022-12-18 11:44:47,617 - base - recpack - INFO - Fitting AssociationRulesExtension complete - Took 22.6s\n",
      "2022-12-18 11:45:58,250 - base - recpack - INFO - Fitting AssociationRulesExtension complete - Took 22.4s\n",
      "2022-12-18 11:47:09,212 - base - recpack - INFO - Fitting AssociationRulesExtension complete - Took 22.7s\n",
      "2022-12-18 11:48:21,428 - base - recpack - INFO - Fitting AssociationRulesExtension complete - Took 24.6s\n",
      "2022-12-18 11:49:36,533 - base - recpack - INFO - Fitting AssociationRulesExtension complete - Took 23.6s\n",
      "2022-12-18 11:50:51,645 - base - recpack - INFO - Fitting AssociationRulesExtension complete - Took 23.5s\n",
      "2022-12-18 11:52:06,927 - base - recpack - INFO - Fitting AssociationRulesExtension complete - Took 24.4s\n",
      "2022-12-18 11:53:22,050 - base - recpack - INFO - Fitting AssociationRulesExtension complete - Took 24.6s\n",
      "2022-12-18 11:54:37,226 - base - recpack - INFO - Fitting AssociationRulesExtension complete - Took 23.6s\n",
      "2022-12-18 11:55:52,476 - base - recpack - INFO - Fitting AssociationRulesExtension complete - Took 23.9s\n",
      "2022-12-18 11:57:08,785 - base - recpack - INFO - Fitting AssociationRulesExtension complete - Took 24.7s\n",
      "2022-12-18 11:58:24,320 - base - recpack - INFO - Fitting AssociationRulesExtension complete - Took 24.6s\n",
      "2022-12-18 11:59:40,035 - base - recpack - INFO - Fitting AssociationRulesExtension complete - Took 24.1s\n",
      "2022-12-18 12:00:55,754 - base - recpack - INFO - Fitting AssociationRulesExtension complete - Took 23.9s\n",
      "2022-12-18 12:02:12,241 - base - recpack - INFO - Fitting AssociationRulesExtension complete - Took 24.8s\n",
      "2022-12-18 12:03:18,173 - base - recpack - INFO - Fitting AssociationRulesExtension complete - Took 14.4s\n",
      "2022-12-18 12:07:02,079 - base - recpack - INFO - Fitting SequentialRulesExtension complete - Took 75.9s\n"
     ]
    },
    {
     "name": "stderr",
     "output_type": "stream",
     "text": [
      "/home/jupyter/recpack/algorithms/base.py:271: UserWarning: SequentialRulesExtension missing similar items for 3319 items.\n",
      "  warnings.warn(f\"{self.name} missing similar items for {missing} items.\")\n",
      "/home/jupyter/recpack/algorithms/base.py:119: UserWarning: SequentialRulesExtension failed to recommend any items for 33 users\n",
      "  warnings.warn(f\"{self.name} failed to recommend any items \" f\"for {len(missing)} users\")\n"
     ]
    },
    {
     "name": "stdout",
     "output_type": "stream",
     "text": [
      "2022-12-18 12:08:39,598 - base - recpack - INFO - Fitting SequentialRulesExtension complete - Took 81.0s\n",
      "2022-12-18 12:10:20,166 - base - recpack - INFO - Fitting SequentialRulesExtension complete - Took 82.5s\n",
      "2022-12-18 12:12:02,804 - base - recpack - INFO - Fitting SequentialRulesExtension complete - Took 84.2s\n",
      "2022-12-18 12:13:45,165 - base - recpack - INFO - Fitting SequentialRulesExtension complete - Took 83.1s\n",
      "2022-12-18 12:15:21,402 - base - recpack - INFO - Fitting SequentialRulesExtension complete - Took 77.1s\n",
      "2022-12-18 12:16:58,877 - base - recpack - INFO - Fitting SequentialRulesExtension complete - Took 81.2s\n",
      "2022-12-18 12:18:41,370 - base - recpack - INFO - Fitting SequentialRulesExtension complete - Took 83.8s\n",
      "2022-12-18 12:20:25,105 - base - recpack - INFO - Fitting SequentialRulesExtension complete - Took 85.2s\n",
      "2022-12-18 12:22:09,019 - base - recpack - INFO - Fitting SequentialRulesExtension complete - Took 85.3s\n",
      "2022-12-18 12:23:44,811 - base - recpack - INFO - Fitting SequentialRulesExtension complete - Took 77.1s\n",
      "2022-12-18 12:25:23,201 - base - recpack - INFO - Fitting SequentialRulesExtension complete - Took 82.3s\n",
      "2022-12-18 12:27:03,914 - base - recpack - INFO - Fitting SequentialRulesExtension complete - Took 82.7s\n",
      "2022-12-18 12:28:45,148 - base - recpack - INFO - Fitting SequentialRulesExtension complete - Took 82.7s\n",
      "2022-12-18 12:30:28,802 - base - recpack - INFO - Fitting SequentialRulesExtension complete - Took 84.6s\n",
      "2022-12-18 12:32:04,591 - base - recpack - INFO - Fitting SequentialRulesExtension complete - Took 77.0s\n",
      "2022-12-18 12:33:41,110 - base - recpack - INFO - Fitting SequentialRulesExtension complete - Took 80.4s\n",
      "2022-12-18 12:35:19,074 - base - recpack - INFO - Fitting SequentialRulesExtension complete - Took 80.2s\n",
      "2022-12-18 12:36:58,730 - base - recpack - INFO - Fitting SequentialRulesExtension complete - Took 81.4s\n",
      "2022-12-18 12:38:38,941 - base - recpack - INFO - Fitting SequentialRulesExtension complete - Took 81.5s\n",
      "2022-12-18 12:40:12,276 - base - recpack - INFO - Fitting SequentialRulesExtension complete - Took 74.7s\n",
      "2022-12-18 12:41:47,085 - base - recpack - INFO - Fitting SequentialRulesExtension complete - Took 78.8s\n",
      "2022-12-18 12:43:25,878 - base - recpack - INFO - Fitting SequentialRulesExtension complete - Took 80.4s\n",
      "2022-12-18 12:45:06,912 - base - recpack - INFO - Fitting SequentialRulesExtension complete - Took 82.7s\n",
      "2022-12-18 12:46:47,348 - base - recpack - INFO - Fitting SequentialRulesExtension complete - Took 81.8s\n",
      "2022-12-18 12:48:21,545 - base - recpack - INFO - Fitting SequentialRulesExtension complete - Took 75.3s\n",
      "2022-12-18 12:49:56,598 - base - recpack - INFO - Fitting SequentialRulesExtension complete - Took 79.0s\n",
      "2022-12-18 12:51:35,606 - base - recpack - INFO - Fitting SequentialRulesExtension complete - Took 80.6s\n",
      "2022-12-18 12:53:16,050 - base - recpack - INFO - Fitting SequentialRulesExtension complete - Took 82.1s\n",
      "2022-12-18 12:54:57,216 - base - recpack - INFO - Fitting SequentialRulesExtension complete - Took 82.3s\n",
      "2022-12-18 12:57:07,589 - base - recpack - INFO - Fitting SequentialRulesExtension complete - Took 1.12e+02s\n"
     ]
    },
    {
     "name": "stderr",
     "output_type": "stream",
     "text": [
      "/home/jupyter/recpack/algorithms/base.py:271: UserWarning: SequentialRulesExtension missing similar items for 1891 items.\n",
      "  warnings.warn(f\"{self.name} missing similar items for {missing} items.\")\n",
      "/home/jupyter/recpack/algorithms/base.py:119: UserWarning: SequentialRulesExtension failed to recommend any items for 9 users\n",
      "  warnings.warn(f\"{self.name} failed to recommend any items \" f\"for {len(missing)} users\")\n"
     ]
    }
   ],
   "source": [
    "pipeline = builder.build()\n",
    "pipeline.run()"
   ]
  },
  {
   "cell_type": "code",
   "execution_count": 21,
   "metadata": {},
   "outputs": [
    {
     "data": {
      "text/html": [
       "<div>\n",
       "<style scoped>\n",
       "    .dataframe tbody tr th:only-of-type {\n",
       "        vertical-align: middle;\n",
       "    }\n",
       "\n",
       "    .dataframe tbody tr th {\n",
       "        vertical-align: top;\n",
       "    }\n",
       "\n",
       "    .dataframe thead th {\n",
       "        text-align: right;\n",
       "    }\n",
       "</style>\n",
       "<table border=\"1\" class=\"dataframe\">\n",
       "  <thead>\n",
       "    <tr style=\"text-align: right;\">\n",
       "      <th></th>\n",
       "      <th>identifier</th>\n",
       "      <th>params</th>\n",
       "      <th>recallk_12</th>\n",
       "    </tr>\n",
       "  </thead>\n",
       "  <tbody>\n",
       "    <tr>\n",
       "      <th>0</th>\n",
       "      <td>AssociationRules(K=100)</td>\n",
       "      <td>{'K': 100}</td>\n",
       "      <td>0.061589</td>\n",
       "    </tr>\n",
       "    <tr>\n",
       "      <th>1</th>\n",
       "      <td>AssociationRules(K=200)</td>\n",
       "      <td>{'K': 200}</td>\n",
       "      <td>0.061318</td>\n",
       "    </tr>\n",
       "    <tr>\n",
       "      <th>2</th>\n",
       "      <td>AssociationRules(K=500)</td>\n",
       "      <td>{'K': 500}</td>\n",
       "      <td>0.060777</td>\n",
       "    </tr>\n",
       "    <tr>\n",
       "      <th>3</th>\n",
       "      <td>AssociationRules(K=1000)</td>\n",
       "      <td>{'K': 1000}</td>\n",
       "      <td>0.060566</td>\n",
       "    </tr>\n",
       "    <tr>\n",
       "      <th>4</th>\n",
       "      <td>AssociationRules(K=2000)</td>\n",
       "      <td>{'K': 2000}</td>\n",
       "      <td>0.060536</td>\n",
       "    </tr>\n",
       "    <tr>\n",
       "      <th>...</th>\n",
       "      <td>...</td>\n",
       "      <td>...</td>\n",
       "      <td>...</td>\n",
       "    </tr>\n",
       "    <tr>\n",
       "      <th>83</th>\n",
       "      <td>SequentialRulesExtension(k_items=5000,max_step...</td>\n",
       "      <td>{'k_items': 5000, 'max_steps': 10}</td>\n",
       "      <td>0.064389</td>\n",
       "    </tr>\n",
       "    <tr>\n",
       "      <th>84</th>\n",
       "      <td>SequentialRulesExtension(k_items=5000,max_step...</td>\n",
       "      <td>{'k_items': 5000, 'max_steps': 20}</td>\n",
       "      <td>0.064931</td>\n",
       "    </tr>\n",
       "    <tr>\n",
       "      <th>85</th>\n",
       "      <td>SequentialRulesExtension(k_items=5000,max_step...</td>\n",
       "      <td>{'k_items': 5000, 'max_steps': 30}</td>\n",
       "      <td>0.064931</td>\n",
       "    </tr>\n",
       "    <tr>\n",
       "      <th>86</th>\n",
       "      <td>SequentialRulesExtension(k_items=5000,max_step...</td>\n",
       "      <td>{'k_items': 5000, 'max_steps': 50}</td>\n",
       "      <td>0.064901</td>\n",
       "    </tr>\n",
       "    <tr>\n",
       "      <th>87</th>\n",
       "      <td>SequentialRulesExtension(k_items=5000,max_step...</td>\n",
       "      <td>{'k_items': 5000, 'max_steps': 100}</td>\n",
       "      <td>0.064961</td>\n",
       "    </tr>\n",
       "  </tbody>\n",
       "</table>\n",
       "<p>88 rows × 3 columns</p>\n",
       "</div>"
      ],
      "text/plain": [
       "                                           identifier  \\\n",
       "0                             AssociationRules(K=100)   \n",
       "1                             AssociationRules(K=200)   \n",
       "2                             AssociationRules(K=500)   \n",
       "3                            AssociationRules(K=1000)   \n",
       "4                            AssociationRules(K=2000)   \n",
       "..                                                ...   \n",
       "83  SequentialRulesExtension(k_items=5000,max_step...   \n",
       "84  SequentialRulesExtension(k_items=5000,max_step...   \n",
       "85  SequentialRulesExtension(k_items=5000,max_step...   \n",
       "86  SequentialRulesExtension(k_items=5000,max_step...   \n",
       "87  SequentialRulesExtension(k_items=5000,max_step...   \n",
       "\n",
       "                                 params  recallk_12  \n",
       "0                            {'K': 100}    0.061589  \n",
       "1                            {'K': 200}    0.061318  \n",
       "2                            {'K': 500}    0.060777  \n",
       "3                           {'K': 1000}    0.060566  \n",
       "4                           {'K': 2000}    0.060536  \n",
       "..                                  ...         ...  \n",
       "83   {'k_items': 5000, 'max_steps': 10}    0.064389  \n",
       "84   {'k_items': 5000, 'max_steps': 20}    0.064931  \n",
       "85   {'k_items': 5000, 'max_steps': 30}    0.064931  \n",
       "86   {'k_items': 5000, 'max_steps': 50}    0.064901  \n",
       "87  {'k_items': 5000, 'max_steps': 100}    0.064961  \n",
       "\n",
       "[88 rows x 3 columns]"
      ]
     },
     "execution_count": 21,
     "metadata": {},
     "output_type": "execute_result"
    }
   ],
   "source": [
    "pipeline.optimisation_results"
   ]
  },
  {
   "cell_type": "code",
   "execution_count": 22,
   "metadata": {},
   "outputs": [
    {
     "data": {
      "text/html": [
       "<div>\n",
       "<style scoped>\n",
       "    .dataframe tbody tr th:only-of-type {\n",
       "        vertical-align: middle;\n",
       "    }\n",
       "\n",
       "    .dataframe tbody tr th {\n",
       "        vertical-align: top;\n",
       "    }\n",
       "\n",
       "    .dataframe thead th {\n",
       "        text-align: right;\n",
       "    }\n",
       "</style>\n",
       "<table border=\"1\" class=\"dataframe\">\n",
       "  <thead>\n",
       "    <tr style=\"text-align: right;\">\n",
       "      <th></th>\n",
       "      <th>AssociationRules(K=100)</th>\n",
       "      <th>SequentialRules(max_steps=20)</th>\n",
       "      <th>AssociationRulesExtensionLastItem(K=100)</th>\n",
       "      <th>SequentialRulesExtensionLastItem(k_items=200,max_steps=100)</th>\n",
       "      <th>AssociationRulesExtension(K=100,k_items=100)</th>\n",
       "      <th>SequentialRulesExtension(k_items=100,max_steps=100)</th>\n",
       "    </tr>\n",
       "  </thead>\n",
       "  <tbody>\n",
       "    <tr>\n",
       "      <th>precisionk_12</th>\n",
       "      <td>0.002460</td>\n",
       "      <td>0.003358</td>\n",
       "      <td>0.002751</td>\n",
       "      <td>0.002204</td>\n",
       "      <td>0.003057</td>\n",
       "      <td>0.004096</td>\n",
       "    </tr>\n",
       "    <tr>\n",
       "      <th>precisionk_20</th>\n",
       "      <td>0.001850</td>\n",
       "      <td>0.002685</td>\n",
       "      <td>0.001877</td>\n",
       "      <td>0.001540</td>\n",
       "      <td>0.002199</td>\n",
       "      <td>0.003138</td>\n",
       "    </tr>\n",
       "    <tr>\n",
       "      <th>precisionk_30</th>\n",
       "      <td>0.001478</td>\n",
       "      <td>0.002207</td>\n",
       "      <td>0.001392</td>\n",
       "      <td>0.001152</td>\n",
       "      <td>0.001668</td>\n",
       "      <td>0.002560</td>\n",
       "    </tr>\n",
       "    <tr>\n",
       "      <th>precisionk_40</th>\n",
       "      <td>0.001270</td>\n",
       "      <td>0.001890</td>\n",
       "      <td>0.001128</td>\n",
       "      <td>0.000946</td>\n",
       "      <td>0.001391</td>\n",
       "      <td>0.002197</td>\n",
       "    </tr>\n",
       "    <tr>\n",
       "      <th>recallk_12</th>\n",
       "      <td>0.029516</td>\n",
       "      <td>0.040301</td>\n",
       "      <td>0.033009</td>\n",
       "      <td>0.026452</td>\n",
       "      <td>0.036686</td>\n",
       "      <td>0.049146</td>\n",
       "    </tr>\n",
       "    <tr>\n",
       "      <th>recallk_20</th>\n",
       "      <td>0.036992</td>\n",
       "      <td>0.053701</td>\n",
       "      <td>0.037544</td>\n",
       "      <td>0.030803</td>\n",
       "      <td>0.043978</td>\n",
       "      <td>0.062750</td>\n",
       "    </tr>\n",
       "    <tr>\n",
       "      <th>recallk_30</th>\n",
       "      <td>0.044346</td>\n",
       "      <td>0.066223</td>\n",
       "      <td>0.041772</td>\n",
       "      <td>0.034562</td>\n",
       "      <td>0.050045</td>\n",
       "      <td>0.076804</td>\n",
       "    </tr>\n",
       "    <tr>\n",
       "      <th>recallk_40</th>\n",
       "      <td>0.050780</td>\n",
       "      <td>0.075598</td>\n",
       "      <td>0.045122</td>\n",
       "      <td>0.037830</td>\n",
       "      <td>0.055642</td>\n",
       "      <td>0.087875</td>\n",
       "    </tr>\n",
       "    <tr>\n",
       "      <th>coveragek_12</th>\n",
       "      <td>0.571130</td>\n",
       "      <td>0.733903</td>\n",
       "      <td>0.565481</td>\n",
       "      <td>0.711305</td>\n",
       "      <td>0.581921</td>\n",
       "      <td>0.751616</td>\n",
       "    </tr>\n",
       "    <tr>\n",
       "      <th>coveragek_20</th>\n",
       "      <td>0.670280</td>\n",
       "      <td>0.794625</td>\n",
       "      <td>0.635415</td>\n",
       "      <td>0.790910</td>\n",
       "      <td>0.679646</td>\n",
       "      <td>0.820634</td>\n",
       "    </tr>\n",
       "    <tr>\n",
       "      <th>coveragek_30</th>\n",
       "      <td>0.748562</td>\n",
       "      <td>0.828218</td>\n",
       "      <td>0.692981</td>\n",
       "      <td>0.837634</td>\n",
       "      <td>0.757113</td>\n",
       "      <td>0.854227</td>\n",
       "    </tr>\n",
       "    <tr>\n",
       "      <th>coveragek_40</th>\n",
       "      <td>0.797628</td>\n",
       "      <td>0.847967</td>\n",
       "      <td>0.735278</td>\n",
       "      <td>0.858655</td>\n",
       "      <td>0.806332</td>\n",
       "      <td>0.871176</td>\n",
       "    </tr>\n",
       "  </tbody>\n",
       "</table>\n",
       "</div>"
      ],
      "text/plain": [
       "               AssociationRules(K=100)  SequentialRules(max_steps=20)  \\\n",
       "precisionk_12                 0.002460                       0.003358   \n",
       "precisionk_20                 0.001850                       0.002685   \n",
       "precisionk_30                 0.001478                       0.002207   \n",
       "precisionk_40                 0.001270                       0.001890   \n",
       "recallk_12                    0.029516                       0.040301   \n",
       "recallk_20                    0.036992                       0.053701   \n",
       "recallk_30                    0.044346                       0.066223   \n",
       "recallk_40                    0.050780                       0.075598   \n",
       "coveragek_12                  0.571130                       0.733903   \n",
       "coveragek_20                  0.670280                       0.794625   \n",
       "coveragek_30                  0.748562                       0.828218   \n",
       "coveragek_40                  0.797628                       0.847967   \n",
       "\n",
       "               AssociationRulesExtensionLastItem(K=100)  \\\n",
       "precisionk_12                                  0.002751   \n",
       "precisionk_20                                  0.001877   \n",
       "precisionk_30                                  0.001392   \n",
       "precisionk_40                                  0.001128   \n",
       "recallk_12                                     0.033009   \n",
       "recallk_20                                     0.037544   \n",
       "recallk_30                                     0.041772   \n",
       "recallk_40                                     0.045122   \n",
       "coveragek_12                                   0.565481   \n",
       "coveragek_20                                   0.635415   \n",
       "coveragek_30                                   0.692981   \n",
       "coveragek_40                                   0.735278   \n",
       "\n",
       "               SequentialRulesExtensionLastItem(k_items=200,max_steps=100)  \\\n",
       "precisionk_12                                           0.002204             \n",
       "precisionk_20                                           0.001540             \n",
       "precisionk_30                                           0.001152             \n",
       "precisionk_40                                           0.000946             \n",
       "recallk_12                                              0.026452             \n",
       "recallk_20                                              0.030803             \n",
       "recallk_30                                              0.034562             \n",
       "recallk_40                                              0.037830             \n",
       "coveragek_12                                            0.711305             \n",
       "coveragek_20                                            0.790910             \n",
       "coveragek_30                                            0.837634             \n",
       "coveragek_40                                            0.858655             \n",
       "\n",
       "               AssociationRulesExtension(K=100,k_items=100)  \\\n",
       "precisionk_12                                      0.003057   \n",
       "precisionk_20                                      0.002199   \n",
       "precisionk_30                                      0.001668   \n",
       "precisionk_40                                      0.001391   \n",
       "recallk_12                                         0.036686   \n",
       "recallk_20                                         0.043978   \n",
       "recallk_30                                         0.050045   \n",
       "recallk_40                                         0.055642   \n",
       "coveragek_12                                       0.581921   \n",
       "coveragek_20                                       0.679646   \n",
       "coveragek_30                                       0.757113   \n",
       "coveragek_40                                       0.806332   \n",
       "\n",
       "               SequentialRulesExtension(k_items=100,max_steps=100)  \n",
       "precisionk_12                                           0.004096    \n",
       "precisionk_20                                           0.003138    \n",
       "precisionk_30                                           0.002560    \n",
       "precisionk_40                                           0.002197    \n",
       "recallk_12                                              0.049146    \n",
       "recallk_20                                              0.062750    \n",
       "recallk_30                                              0.076804    \n",
       "recallk_40                                              0.087875    \n",
       "coveragek_12                                            0.751616    \n",
       "coveragek_20                                            0.820634    \n",
       "coveragek_30                                            0.854227    \n",
       "coveragek_40                                            0.871176    "
      ]
     },
     "execution_count": 22,
     "metadata": {},
     "output_type": "execute_result"
    }
   ],
   "source": [
    "pd.DataFrame.from_dict(pipeline.get_metrics()).T"
   ]
  }
 ],
 "metadata": {
  "kernelspec": {
   "display_name": "Python 3 (ipykernel) (Local)",
   "language": "python",
   "name": "local-python3"
  },
  "language_info": {
   "codemirror_mode": {
    "name": "ipython",
    "version": 3
   },
   "file_extension": ".py",
   "mimetype": "text/x-python",
   "name": "python",
   "nbconvert_exporter": "python",
   "pygments_lexer": "ipython3",
   "version": "3.7.12"
  },
  "vscode": {
   "interpreter": {
    "hash": "cb76f6fb9cefb4ce395c63b53ca0fc61c280bfa44c4aea4ac470b086d5108ff0"
   }
  }
 },
 "nbformat": 4,
 "nbformat_minor": 4
}
