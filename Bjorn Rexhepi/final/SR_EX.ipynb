{
 "cells": [
  {
   "cell_type": "markdown",
   "metadata": {
    "id": "1l2yyEXP3Or3"
   },
   "source": [
    "# Artificial Intelligence Project: Bjorn Rexhepi"
   ]
  },
  {
   "cell_type": "markdown",
   "metadata": {},
   "source": [
    "This Notebook will present all the work that is done for the AI Project. The notebook includes all the necessary implementations that are done for creating a submission file for Kaggle. The goal is to be able to generate the best possible candidates for recommendation, in order to achieve good scores in Kaggle (URL: https://www.kaggle.com/competitions/h-and-m-personalized-fashion-recommendations/submissions). The dataset that will be used for this project is the dataset of H&M Personalized Fashion Recommendations (https://www.kaggle.com/competitions/h-and-m-personalized-fashion-recommendations/submissions). The source when this notebook was based on (https://github.com/radekosmulski/personalized_fashion_recs)."
   ]
  },
  {
   "cell_type": "markdown",
   "metadata": {
    "id": "RaYwCQRK3Or6"
   },
   "source": [
    "## 1. Setup"
   ]
  },
  {
   "cell_type": "markdown",
   "metadata": {},
   "source": [
    "This section will include how we will setup the dataset in the notebook environment and applying the necessary imports."
   ]
  },
  {
   "cell_type": "code",
   "execution_count": 4,
   "metadata": {
    "id": "hxalIXhq3Or7",
    "pycharm": {
     "is_executing": true
    }
   },
   "outputs": [],
   "source": [
    "import numpy as np \n",
    "import pandas as pd\n",
    "import random\n",
    "from sklearn.linear_model import LogisticRegression\n",
    "from sklearn.model_selection import train_test_split\n",
    "from sklearn.metrics import classification_report\n",
    "from sklearn import preprocessing\n",
    "from sklearn.preprocessing import LabelEncoder\n",
    "import string\n",
    "import seaborn as sns\n",
    "import matplotlib.pyplot as plt"
   ]
  },
  {
   "cell_type": "markdown",
   "metadata": {
    "id": "7ygcxEzJZSlK"
   },
   "source": [
    "In order to achieve a better perfomance in RAM and running time, we convert the CSV datasets into Feather format.\n",
    "\n",
    "**Hint: If you have Feather files of the given datasets, it is recommended to avoid the conversion step of CSV files to Feather files of the cell below.**"
   ]
  },
  {
   "cell_type": "code",
   "execution_count": null,
   "metadata": {},
   "outputs": [],
   "source": [
    "transactions = pd.read_csv('transactions_train.csv')\n",
    "articles = pd.read_csv('articles.csv')\n",
    "customers = pd.read_csv('customers.csv')\n",
    "transactions.to_feather('transactions_train.feather')\n",
    "articles.to_feather('articles.feather')\n",
    "customers.to_feather('customers.feather')"
   ]
  },
  {
   "cell_type": "code",
   "execution_count": 5,
   "metadata": {
    "id": "86J5e7mzZSlN"
   },
   "outputs": [],
   "source": [
    "articles = pd.read_feather('articles.feather')\n",
    "customers = pd.read_feather('customers.feather')\n",
    "transactions = pd.read_feather('transactions_train.feather')"
   ]
  },
  {
   "cell_type": "code",
   "execution_count": 3,
   "metadata": {},
   "outputs": [
    {
     "name": "stdout",
     "output_type": "stream",
     "text": [
      "--2022-12-16 19:44:26--  https://raw.githubusercontent.com/benhamner/Metrics/master/Python/ml_metrics/average_precision.py\n",
      "Resolving raw.githubusercontent.com (raw.githubusercontent.com)... 185.199.111.133, 185.199.108.133, 185.199.110.133, ...\n",
      "Connecting to raw.githubusercontent.com (raw.githubusercontent.com)|185.199.111.133|:443... connected.\n",
      "HTTP request sent, awaiting response... 200 OK\n",
      "Length: 1654 (1.6K) [text/plain]\n",
      "Saving to: ‘average_precision.py.1’\n",
      "\n",
      "average_precision.p 100%[===================>]   1.62K  --.-KB/s    in 0s      \n",
      "\n",
      "2022-12-16 19:44:26 (17.2 MB/s) - ‘average_precision.py.1’ saved [1654/1654]\n",
      "\n"
     ]
    }
   ],
   "source": [
    "!wget https://raw.githubusercontent.com/benhamner/Metrics/master/Python/ml_metrics/average_precision.py"
   ]
  },
  {
   "cell_type": "markdown",
   "metadata": {},
   "source": [
    "## 2. Preprocessing"
   ]
  },
  {
   "cell_type": "markdown",
   "metadata": {},
   "source": [
    "The preprocessor step is done, due to the fact to save memory usage and trying to achieve good scores in kaggle, by also applying some feature engineering in the datasets."
   ]
  },
  {
   "cell_type": "code",
   "execution_count": 6,
   "metadata": {},
   "outputs": [],
   "source": [
    "# helper functions from:\n",
    "# https://github.com/radekosmulski/personalized_fashion_recs/blob/main/01_Solution_warmup.ipynb\n",
    "from sklearn.base import BaseEstimator, TransformerMixin\n",
    "import numpy as np\n",
    "\n",
    "# https://www.kaggle.com/c/h-and-m-personalized-fashion-recommendations/discussion/308635\n",
    "def customer_hex_id_to_int(series):\n",
    "    return series.str[-16:].apply(hex_id_to_int)\n",
    "\n",
    "def hex_id_to_int(str):\n",
    "    return int(str[-16:], 16)\n",
    "\n",
    "def article_id_str_to_int(series):\n",
    "    return series.astype('int32')\n",
    "\n",
    "def article_id_int_to_str(series):\n",
    "    return '0' + series.astype('str')\n",
    "\n",
    "class Categorize(BaseEstimator, TransformerMixin):\n",
    "    def __init__(self, min_examples=0):\n",
    "        self.min_examples = min_examples\n",
    "        self.categories = []\n",
    "        \n",
    "    def fit(self, X):\n",
    "        for i in range(X.shape[1]):\n",
    "            vc = X.iloc[:, i].value_counts()\n",
    "            self.categories.append(vc[vc > self.min_examples].index.tolist())\n",
    "        return self\n",
    "\n",
    "    def transform(self, X):\n",
    "        data = {X.columns[i]: pd.Categorical(X.iloc[:, i], categories=self.categories[i]).codes for i in range(X.shape[1])}\n",
    "        return pd.DataFrame(data=data)"
   ]
  },
  {
   "cell_type": "markdown",
   "metadata": {
    "id": "gj5t03-GZSlQ"
   },
   "source": [
    "### 2.1 Preprocessing the transaction dataset\n",
    "The weeks are determined as a feature engineering for simplicity in generating the candidates later (especially in the case when we consider the last week.)"
   ]
  },
  {
   "cell_type": "code",
   "execution_count": 7,
   "metadata": {
    "id": "5YXbX9GHZSlR"
   },
   "outputs": [],
   "source": [
    "transactions['customer_id'] = customer_hex_id_to_int(transactions['customer_id'])\n",
    "transactions.t_dat = pd.to_datetime(transactions.t_dat, format='%Y-%m-%d')\n",
    "transactions['week'] = (104 - (transactions.t_dat.max() - transactions.t_dat).dt.days // 7).astype(np.int8)\n",
    "transactions.article_id = article_id_str_to_int(transactions.article_id)\n",
    "articles.article_id = article_id_str_to_int(articles.article_id)\n",
    "\n",
    "transactions.week = transactions.week.astype('int8')\n",
    "transactions.sales_channel_id = transactions.sales_channel_id.astype('int8')\n",
    "transactions.price = transactions.price.astype('float32')"
   ]
  },
  {
   "cell_type": "code",
   "execution_count": 8,
   "metadata": {
    "id": "VSzrzY9h50jh"
   },
   "outputs": [
    {
     "name": "stdout",
     "output_type": "stream",
     "text": [
      "<class 'pandas.core.frame.DataFrame'>\n",
      "RangeIndex: 31788324 entries, 0 to 31788323\n",
      "Data columns (total 5 columns):\n",
      " #   Column            Dtype  \n",
      "---  ------            -----  \n",
      " 0   customer_id       uint64 \n",
      " 1   article_id        int32  \n",
      " 2   price             float32\n",
      " 3   sales_channel_id  int8   \n",
      " 4   week              int8   \n",
      "dtypes: float32(1), int32(1), int8(2), uint64(1)\n",
      "memory usage: 545.7 MB\n"
     ]
    }
   ],
   "source": [
    "transactions.drop(columns='t_dat').info(memory_usage='deep')"
   ]
  },
  {
   "cell_type": "code",
   "execution_count": 9,
   "metadata": {
    "colab": {
     "base_uri": "https://localhost:8080/",
     "height": 424
    },
    "id": "ukGBzFoZ2HIR",
    "outputId": "1e6abd7b-caf8-499f-d3b9-d04ea9832605"
   },
   "outputs": [
    {
     "data": {
      "text/html": [
       "<div>\n",
       "<style scoped>\n",
       "    .dataframe tbody tr th:only-of-type {\n",
       "        vertical-align: middle;\n",
       "    }\n",
       "\n",
       "    .dataframe tbody tr th {\n",
       "        vertical-align: top;\n",
       "    }\n",
       "\n",
       "    .dataframe thead th {\n",
       "        text-align: right;\n",
       "    }\n",
       "</style>\n",
       "<table border=\"1\" class=\"dataframe\">\n",
       "  <thead>\n",
       "    <tr style=\"text-align: right;\">\n",
       "      <th></th>\n",
       "      <th>t_dat</th>\n",
       "      <th>customer_id</th>\n",
       "      <th>article_id</th>\n",
       "      <th>price</th>\n",
       "      <th>sales_channel_id</th>\n",
       "      <th>week</th>\n",
       "    </tr>\n",
       "  </thead>\n",
       "  <tbody>\n",
       "    <tr>\n",
       "      <th>0</th>\n",
       "      <td>2018-09-20</td>\n",
       "      <td>18439897732908966680</td>\n",
       "      <td>663713001</td>\n",
       "      <td>0.050831</td>\n",
       "      <td>2</td>\n",
       "      <td>0</td>\n",
       "    </tr>\n",
       "    <tr>\n",
       "      <th>1</th>\n",
       "      <td>2018-09-20</td>\n",
       "      <td>18439897732908966680</td>\n",
       "      <td>541518023</td>\n",
       "      <td>0.030492</td>\n",
       "      <td>2</td>\n",
       "      <td>0</td>\n",
       "    </tr>\n",
       "    <tr>\n",
       "      <th>2</th>\n",
       "      <td>2018-09-20</td>\n",
       "      <td>10112112306570742978</td>\n",
       "      <td>505221004</td>\n",
       "      <td>0.015237</td>\n",
       "      <td>2</td>\n",
       "      <td>0</td>\n",
       "    </tr>\n",
       "    <tr>\n",
       "      <th>3</th>\n",
       "      <td>2018-09-20</td>\n",
       "      <td>10112112306570742978</td>\n",
       "      <td>685687003</td>\n",
       "      <td>0.016932</td>\n",
       "      <td>2</td>\n",
       "      <td>0</td>\n",
       "    </tr>\n",
       "    <tr>\n",
       "      <th>4</th>\n",
       "      <td>2018-09-20</td>\n",
       "      <td>10112112306570742978</td>\n",
       "      <td>685687004</td>\n",
       "      <td>0.016932</td>\n",
       "      <td>2</td>\n",
       "      <td>0</td>\n",
       "    </tr>\n",
       "    <tr>\n",
       "      <th>...</th>\n",
       "      <td>...</td>\n",
       "      <td>...</td>\n",
       "      <td>...</td>\n",
       "      <td>...</td>\n",
       "      <td>...</td>\n",
       "      <td>...</td>\n",
       "    </tr>\n",
       "    <tr>\n",
       "      <th>31788319</th>\n",
       "      <td>2020-09-22</td>\n",
       "      <td>4685485978980270934</td>\n",
       "      <td>929511001</td>\n",
       "      <td>0.059305</td>\n",
       "      <td>2</td>\n",
       "      <td>104</td>\n",
       "    </tr>\n",
       "    <tr>\n",
       "      <th>31788320</th>\n",
       "      <td>2020-09-22</td>\n",
       "      <td>4685485978980270934</td>\n",
       "      <td>891322004</td>\n",
       "      <td>0.042356</td>\n",
       "      <td>2</td>\n",
       "      <td>104</td>\n",
       "    </tr>\n",
       "    <tr>\n",
       "      <th>31788321</th>\n",
       "      <td>2020-09-22</td>\n",
       "      <td>3959348689921271969</td>\n",
       "      <td>918325001</td>\n",
       "      <td>0.043203</td>\n",
       "      <td>1</td>\n",
       "      <td>104</td>\n",
       "    </tr>\n",
       "    <tr>\n",
       "      <th>31788322</th>\n",
       "      <td>2020-09-22</td>\n",
       "      <td>9807404028332039951</td>\n",
       "      <td>833459002</td>\n",
       "      <td>0.006763</td>\n",
       "      <td>1</td>\n",
       "      <td>104</td>\n",
       "    </tr>\n",
       "    <tr>\n",
       "      <th>31788323</th>\n",
       "      <td>2020-09-22</td>\n",
       "      <td>3235222691137941515</td>\n",
       "      <td>898573003</td>\n",
       "      <td>0.033881</td>\n",
       "      <td>2</td>\n",
       "      <td>104</td>\n",
       "    </tr>\n",
       "  </tbody>\n",
       "</table>\n",
       "<p>31788324 rows × 6 columns</p>\n",
       "</div>"
      ],
      "text/plain": [
       "              t_dat           customer_id  article_id     price  \\\n",
       "0        2018-09-20  18439897732908966680   663713001  0.050831   \n",
       "1        2018-09-20  18439897732908966680   541518023  0.030492   \n",
       "2        2018-09-20  10112112306570742978   505221004  0.015237   \n",
       "3        2018-09-20  10112112306570742978   685687003  0.016932   \n",
       "4        2018-09-20  10112112306570742978   685687004  0.016932   \n",
       "...             ...                   ...         ...       ...   \n",
       "31788319 2020-09-22   4685485978980270934   929511001  0.059305   \n",
       "31788320 2020-09-22   4685485978980270934   891322004  0.042356   \n",
       "31788321 2020-09-22   3959348689921271969   918325001  0.043203   \n",
       "31788322 2020-09-22   9807404028332039951   833459002  0.006763   \n",
       "31788323 2020-09-22   3235222691137941515   898573003  0.033881   \n",
       "\n",
       "          sales_channel_id  week  \n",
       "0                        2     0  \n",
       "1                        2     0  \n",
       "2                        2     0  \n",
       "3                        2     0  \n",
       "4                        2     0  \n",
       "...                    ...   ...  \n",
       "31788319                 2   104  \n",
       "31788320                 2   104  \n",
       "31788321                 1   104  \n",
       "31788322                 1   104  \n",
       "31788323                 2   104  \n",
       "\n",
       "[31788324 rows x 6 columns]"
      ]
     },
     "execution_count": 9,
     "metadata": {},
     "output_type": "execute_result"
    }
   ],
   "source": [
    "transactions"
   ]
  },
  {
   "cell_type": "markdown",
   "metadata": {
    "id": "1-LTMZrKZSlS"
   },
   "source": [
    "### 2.2 Preprocessing the article dataset"
   ]
  },
  {
   "cell_type": "code",
   "execution_count": 10,
   "metadata": {
    "id": "3Hjs9nv1ZSlS",
    "scrolled": true
   },
   "outputs": [],
   "source": [
    "for col in articles.columns:\n",
    "    if articles[col].dtype == 'object':\n",
    "        articles[col] = Categorize().fit_transform(articles[[col]])[col]"
   ]
  },
  {
   "cell_type": "code",
   "execution_count": 11,
   "metadata": {
    "id": "YbTfyfy1IAXk"
   },
   "outputs": [],
   "source": [
    "for col in articles.columns:\n",
    "    if articles[col].dtype == 'int64':\n",
    "        articles[col] = articles[col].astype('int32')"
   ]
  },
  {
   "cell_type": "code",
   "execution_count": 12,
   "metadata": {
    "colab": {
     "base_uri": "https://localhost:8080/",
     "height": 488
    },
    "id": "WlIKGIUUj-xF",
    "outputId": "d04029a2-68f4-4038-a8ec-3a9402e027dd"
   },
   "outputs": [
    {
     "data": {
      "text/html": [
       "<div>\n",
       "<style scoped>\n",
       "    .dataframe tbody tr th:only-of-type {\n",
       "        vertical-align: middle;\n",
       "    }\n",
       "\n",
       "    .dataframe tbody tr th {\n",
       "        vertical-align: top;\n",
       "    }\n",
       "\n",
       "    .dataframe thead th {\n",
       "        text-align: right;\n",
       "    }\n",
       "</style>\n",
       "<table border=\"1\" class=\"dataframe\">\n",
       "  <thead>\n",
       "    <tr style=\"text-align: right;\">\n",
       "      <th></th>\n",
       "      <th>article_id</th>\n",
       "      <th>product_code</th>\n",
       "      <th>prod_name</th>\n",
       "      <th>product_type_no</th>\n",
       "      <th>product_type_name</th>\n",
       "      <th>product_group_name</th>\n",
       "      <th>graphical_appearance_no</th>\n",
       "      <th>graphical_appearance_name</th>\n",
       "      <th>colour_group_code</th>\n",
       "      <th>colour_group_name</th>\n",
       "      <th>...</th>\n",
       "      <th>department_name</th>\n",
       "      <th>index_code</th>\n",
       "      <th>index_name</th>\n",
       "      <th>index_group_no</th>\n",
       "      <th>index_group_name</th>\n",
       "      <th>section_no</th>\n",
       "      <th>section_name</th>\n",
       "      <th>garment_group_no</th>\n",
       "      <th>garment_group_name</th>\n",
       "      <th>detail_desc</th>\n",
       "    </tr>\n",
       "  </thead>\n",
       "  <tbody>\n",
       "    <tr>\n",
       "      <th>0</th>\n",
       "      <td>108775015</td>\n",
       "      <td>108775</td>\n",
       "      <td>12855</td>\n",
       "      <td>253</td>\n",
       "      <td>9</td>\n",
       "      <td>0</td>\n",
       "      <td>1010016</td>\n",
       "      <td>0</td>\n",
       "      <td>9</td>\n",
       "      <td>0</td>\n",
       "      <td>...</td>\n",
       "      <td>10</td>\n",
       "      <td>0</td>\n",
       "      <td>0</td>\n",
       "      <td>1</td>\n",
       "      <td>0</td>\n",
       "      <td>16</td>\n",
       "      <td>30</td>\n",
       "      <td>1002</td>\n",
       "      <td>2</td>\n",
       "      <td>8834</td>\n",
       "    </tr>\n",
       "    <tr>\n",
       "      <th>1</th>\n",
       "      <td>108775044</td>\n",
       "      <td>108775</td>\n",
       "      <td>12855</td>\n",
       "      <td>253</td>\n",
       "      <td>9</td>\n",
       "      <td>0</td>\n",
       "      <td>1010016</td>\n",
       "      <td>0</td>\n",
       "      <td>10</td>\n",
       "      <td>2</td>\n",
       "      <td>...</td>\n",
       "      <td>10</td>\n",
       "      <td>0</td>\n",
       "      <td>0</td>\n",
       "      <td>1</td>\n",
       "      <td>0</td>\n",
       "      <td>16</td>\n",
       "      <td>30</td>\n",
       "      <td>1002</td>\n",
       "      <td>2</td>\n",
       "      <td>8834</td>\n",
       "    </tr>\n",
       "    <tr>\n",
       "      <th>2</th>\n",
       "      <td>108775051</td>\n",
       "      <td>108775</td>\n",
       "      <td>44846</td>\n",
       "      <td>253</td>\n",
       "      <td>9</td>\n",
       "      <td>0</td>\n",
       "      <td>1010017</td>\n",
       "      <td>3</td>\n",
       "      <td>11</td>\n",
       "      <td>11</td>\n",
       "      <td>...</td>\n",
       "      <td>10</td>\n",
       "      <td>0</td>\n",
       "      <td>0</td>\n",
       "      <td>1</td>\n",
       "      <td>0</td>\n",
       "      <td>16</td>\n",
       "      <td>30</td>\n",
       "      <td>1002</td>\n",
       "      <td>2</td>\n",
       "      <td>8834</td>\n",
       "    </tr>\n",
       "    <tr>\n",
       "      <th>3</th>\n",
       "      <td>110065001</td>\n",
       "      <td>110065</td>\n",
       "      <td>8159</td>\n",
       "      <td>306</td>\n",
       "      <td>13</td>\n",
       "      <td>4</td>\n",
       "      <td>1010016</td>\n",
       "      <td>0</td>\n",
       "      <td>9</td>\n",
       "      <td>0</td>\n",
       "      <td>...</td>\n",
       "      <td>131</td>\n",
       "      <td>7</td>\n",
       "      <td>7</td>\n",
       "      <td>1</td>\n",
       "      <td>0</td>\n",
       "      <td>61</td>\n",
       "      <td>5</td>\n",
       "      <td>1017</td>\n",
       "      <td>4</td>\n",
       "      <td>8243</td>\n",
       "    </tr>\n",
       "    <tr>\n",
       "      <th>4</th>\n",
       "      <td>110065002</td>\n",
       "      <td>110065</td>\n",
       "      <td>8159</td>\n",
       "      <td>306</td>\n",
       "      <td>13</td>\n",
       "      <td>4</td>\n",
       "      <td>1010016</td>\n",
       "      <td>0</td>\n",
       "      <td>10</td>\n",
       "      <td>2</td>\n",
       "      <td>...</td>\n",
       "      <td>131</td>\n",
       "      <td>7</td>\n",
       "      <td>7</td>\n",
       "      <td>1</td>\n",
       "      <td>0</td>\n",
       "      <td>61</td>\n",
       "      <td>5</td>\n",
       "      <td>1017</td>\n",
       "      <td>4</td>\n",
       "      <td>8243</td>\n",
       "    </tr>\n",
       "    <tr>\n",
       "      <th>...</th>\n",
       "      <td>...</td>\n",
       "      <td>...</td>\n",
       "      <td>...</td>\n",
       "      <td>...</td>\n",
       "      <td>...</td>\n",
       "      <td>...</td>\n",
       "      <td>...</td>\n",
       "      <td>...</td>\n",
       "      <td>...</td>\n",
       "      <td>...</td>\n",
       "      <td>...</td>\n",
       "      <td>...</td>\n",
       "      <td>...</td>\n",
       "      <td>...</td>\n",
       "      <td>...</td>\n",
       "      <td>...</td>\n",
       "      <td>...</td>\n",
       "      <td>...</td>\n",
       "      <td>...</td>\n",
       "      <td>...</td>\n",
       "      <td>...</td>\n",
       "    </tr>\n",
       "    <tr>\n",
       "      <th>105537</th>\n",
       "      <td>953450001</td>\n",
       "      <td>953450</td>\n",
       "      <td>24043</td>\n",
       "      <td>302</td>\n",
       "      <td>14</td>\n",
       "      <td>7</td>\n",
       "      <td>1010014</td>\n",
       "      <td>6</td>\n",
       "      <td>9</td>\n",
       "      <td>0</td>\n",
       "      <td>...</td>\n",
       "      <td>153</td>\n",
       "      <td>2</td>\n",
       "      <td>2</td>\n",
       "      <td>3</td>\n",
       "      <td>3</td>\n",
       "      <td>26</td>\n",
       "      <td>16</td>\n",
       "      <td>1021</td>\n",
       "      <td>13</td>\n",
       "      <td>28026</td>\n",
       "    </tr>\n",
       "    <tr>\n",
       "      <th>105538</th>\n",
       "      <td>953763001</td>\n",
       "      <td>953763</td>\n",
       "      <td>24027</td>\n",
       "      <td>253</td>\n",
       "      <td>9</td>\n",
       "      <td>0</td>\n",
       "      <td>1010016</td>\n",
       "      <td>0</td>\n",
       "      <td>9</td>\n",
       "      <td>0</td>\n",
       "      <td>...</td>\n",
       "      <td>0</td>\n",
       "      <td>0</td>\n",
       "      <td>0</td>\n",
       "      <td>1</td>\n",
       "      <td>0</td>\n",
       "      <td>2</td>\n",
       "      <td>15</td>\n",
       "      <td>1005</td>\n",
       "      <td>0</td>\n",
       "      <td>28025</td>\n",
       "    </tr>\n",
       "    <tr>\n",
       "      <th>105539</th>\n",
       "      <td>956217002</td>\n",
       "      <td>956217</td>\n",
       "      <td>24040</td>\n",
       "      <td>265</td>\n",
       "      <td>1</td>\n",
       "      <td>2</td>\n",
       "      <td>1010016</td>\n",
       "      <td>0</td>\n",
       "      <td>9</td>\n",
       "      <td>0</td>\n",
       "      <td>...</td>\n",
       "      <td>0</td>\n",
       "      <td>0</td>\n",
       "      <td>0</td>\n",
       "      <td>1</td>\n",
       "      <td>0</td>\n",
       "      <td>18</td>\n",
       "      <td>12</td>\n",
       "      <td>1005</td>\n",
       "      <td>0</td>\n",
       "      <td>28024</td>\n",
       "    </tr>\n",
       "    <tr>\n",
       "      <th>105540</th>\n",
       "      <td>957375001</td>\n",
       "      <td>957375</td>\n",
       "      <td>24041</td>\n",
       "      <td>72</td>\n",
       "      <td>48</td>\n",
       "      <td>3</td>\n",
       "      <td>1010016</td>\n",
       "      <td>0</td>\n",
       "      <td>9</td>\n",
       "      <td>0</td>\n",
       "      <td>...</td>\n",
       "      <td>29</td>\n",
       "      <td>1</td>\n",
       "      <td>1</td>\n",
       "      <td>2</td>\n",
       "      <td>2</td>\n",
       "      <td>52</td>\n",
       "      <td>25</td>\n",
       "      <td>1019</td>\n",
       "      <td>1</td>\n",
       "      <td>28023</td>\n",
       "    </tr>\n",
       "    <tr>\n",
       "      <th>105541</th>\n",
       "      <td>959461001</td>\n",
       "      <td>959461</td>\n",
       "      <td>45874</td>\n",
       "      <td>265</td>\n",
       "      <td>1</td>\n",
       "      <td>2</td>\n",
       "      <td>1010016</td>\n",
       "      <td>0</td>\n",
       "      <td>11</td>\n",
       "      <td>11</td>\n",
       "      <td>...</td>\n",
       "      <td>0</td>\n",
       "      <td>0</td>\n",
       "      <td>0</td>\n",
       "      <td>1</td>\n",
       "      <td>0</td>\n",
       "      <td>18</td>\n",
       "      <td>12</td>\n",
       "      <td>1005</td>\n",
       "      <td>0</td>\n",
       "      <td>43403</td>\n",
       "    </tr>\n",
       "  </tbody>\n",
       "</table>\n",
       "<p>105542 rows × 25 columns</p>\n",
       "</div>"
      ],
      "text/plain": [
       "        article_id  product_code  prod_name  product_type_no  \\\n",
       "0        108775015        108775      12855              253   \n",
       "1        108775044        108775      12855              253   \n",
       "2        108775051        108775      44846              253   \n",
       "3        110065001        110065       8159              306   \n",
       "4        110065002        110065       8159              306   \n",
       "...            ...           ...        ...              ...   \n",
       "105537   953450001        953450      24043              302   \n",
       "105538   953763001        953763      24027              253   \n",
       "105539   956217002        956217      24040              265   \n",
       "105540   957375001        957375      24041               72   \n",
       "105541   959461001        959461      45874              265   \n",
       "\n",
       "        product_type_name  product_group_name  graphical_appearance_no  \\\n",
       "0                       9                   0                  1010016   \n",
       "1                       9                   0                  1010016   \n",
       "2                       9                   0                  1010017   \n",
       "3                      13                   4                  1010016   \n",
       "4                      13                   4                  1010016   \n",
       "...                   ...                 ...                      ...   \n",
       "105537                 14                   7                  1010014   \n",
       "105538                  9                   0                  1010016   \n",
       "105539                  1                   2                  1010016   \n",
       "105540                 48                   3                  1010016   \n",
       "105541                  1                   2                  1010016   \n",
       "\n",
       "        graphical_appearance_name  colour_group_code  colour_group_name  ...  \\\n",
       "0                               0                  9                  0  ...   \n",
       "1                               0                 10                  2  ...   \n",
       "2                               3                 11                 11  ...   \n",
       "3                               0                  9                  0  ...   \n",
       "4                               0                 10                  2  ...   \n",
       "...                           ...                ...                ...  ...   \n",
       "105537                          6                  9                  0  ...   \n",
       "105538                          0                  9                  0  ...   \n",
       "105539                          0                  9                  0  ...   \n",
       "105540                          0                  9                  0  ...   \n",
       "105541                          0                 11                 11  ...   \n",
       "\n",
       "        department_name  index_code  index_name  index_group_no  \\\n",
       "0                    10           0           0               1   \n",
       "1                    10           0           0               1   \n",
       "2                    10           0           0               1   \n",
       "3                   131           7           7               1   \n",
       "4                   131           7           7               1   \n",
       "...                 ...         ...         ...             ...   \n",
       "105537              153           2           2               3   \n",
       "105538                0           0           0               1   \n",
       "105539                0           0           0               1   \n",
       "105540               29           1           1               2   \n",
       "105541                0           0           0               1   \n",
       "\n",
       "        index_group_name  section_no  section_name  garment_group_no  \\\n",
       "0                      0          16            30              1002   \n",
       "1                      0          16            30              1002   \n",
       "2                      0          16            30              1002   \n",
       "3                      0          61             5              1017   \n",
       "4                      0          61             5              1017   \n",
       "...                  ...         ...           ...               ...   \n",
       "105537                 3          26            16              1021   \n",
       "105538                 0           2            15              1005   \n",
       "105539                 0          18            12              1005   \n",
       "105540                 2          52            25              1019   \n",
       "105541                 0          18            12              1005   \n",
       "\n",
       "        garment_group_name  detail_desc  \n",
       "0                        2         8834  \n",
       "1                        2         8834  \n",
       "2                        2         8834  \n",
       "3                        4         8243  \n",
       "4                        4         8243  \n",
       "...                    ...          ...  \n",
       "105537                  13        28026  \n",
       "105538                   0        28025  \n",
       "105539                   0        28024  \n",
       "105540                   1        28023  \n",
       "105541                   0        43403  \n",
       "\n",
       "[105542 rows x 25 columns]"
      ]
     },
     "execution_count": 12,
     "metadata": {},
     "output_type": "execute_result"
    }
   ],
   "source": [
    "articles"
   ]
  },
  {
   "cell_type": "markdown",
   "metadata": {
    "id": "KvsMnHaUZSlU"
   },
   "source": [
    "### 2.3 Preprocess of customer dataset"
   ]
  },
  {
   "cell_type": "code",
   "execution_count": 13,
   "metadata": {
    "id": "5JfRPbFSZSlU"
   },
   "outputs": [],
   "source": [
    "customers.customer_id = customer_hex_id_to_int(customers.customer_id)\n",
    "for col in ['FN', 'Active', 'age']:\n",
    "    customers[col].fillna(-1, inplace=True)\n",
    "    customers[col] = customers[col].astype('int8')\n",
    "customers.club_member_status = Categorize().fit_transform(customers[['club_member_status']]).club_member_status\n",
    "customers.postal_code = Categorize().fit_transform(customers[['postal_code']]).postal_code\n",
    "customers.fashion_news_frequency = Categorize().fit_transform(customers[['fashion_news_frequency']]).fashion_news_frequency"
   ]
  },
  {
   "cell_type": "code",
   "execution_count": 14,
   "metadata": {
    "colab": {
     "base_uri": "https://localhost:8080/",
     "height": 424
    },
    "id": "-iGiL5O2ZSlU",
    "outputId": "090c997a-32a8-4266-97fe-aa3b7ea7b8c6"
   },
   "outputs": [
    {
     "data": {
      "text/html": [
       "<div>\n",
       "<style scoped>\n",
       "    .dataframe tbody tr th:only-of-type {\n",
       "        vertical-align: middle;\n",
       "    }\n",
       "\n",
       "    .dataframe tbody tr th {\n",
       "        vertical-align: top;\n",
       "    }\n",
       "\n",
       "    .dataframe thead th {\n",
       "        text-align: right;\n",
       "    }\n",
       "</style>\n",
       "<table border=\"1\" class=\"dataframe\">\n",
       "  <thead>\n",
       "    <tr style=\"text-align: right;\">\n",
       "      <th></th>\n",
       "      <th>customer_id</th>\n",
       "      <th>FN</th>\n",
       "      <th>Active</th>\n",
       "      <th>club_member_status</th>\n",
       "      <th>fashion_news_frequency</th>\n",
       "      <th>age</th>\n",
       "      <th>postal_code</th>\n",
       "    </tr>\n",
       "  </thead>\n",
       "  <tbody>\n",
       "    <tr>\n",
       "      <th>0</th>\n",
       "      <td>6883939031699146327</td>\n",
       "      <td>-1</td>\n",
       "      <td>-1</td>\n",
       "      <td>0</td>\n",
       "      <td>0</td>\n",
       "      <td>49</td>\n",
       "      <td>6305</td>\n",
       "    </tr>\n",
       "    <tr>\n",
       "      <th>1</th>\n",
       "      <td>11246327431398957306</td>\n",
       "      <td>-1</td>\n",
       "      <td>-1</td>\n",
       "      <td>0</td>\n",
       "      <td>0</td>\n",
       "      <td>25</td>\n",
       "      <td>33726</td>\n",
       "    </tr>\n",
       "    <tr>\n",
       "      <th>2</th>\n",
       "      <td>18439897732908966680</td>\n",
       "      <td>-1</td>\n",
       "      <td>-1</td>\n",
       "      <td>0</td>\n",
       "      <td>0</td>\n",
       "      <td>24</td>\n",
       "      <td>3247</td>\n",
       "    </tr>\n",
       "    <tr>\n",
       "      <th>3</th>\n",
       "      <td>18352672461570950206</td>\n",
       "      <td>-1</td>\n",
       "      <td>-1</td>\n",
       "      <td>0</td>\n",
       "      <td>0</td>\n",
       "      <td>54</td>\n",
       "      <td>168643</td>\n",
       "    </tr>\n",
       "    <tr>\n",
       "      <th>4</th>\n",
       "      <td>18162778555210377306</td>\n",
       "      <td>1</td>\n",
       "      <td>1</td>\n",
       "      <td>0</td>\n",
       "      <td>1</td>\n",
       "      <td>52</td>\n",
       "      <td>168645</td>\n",
       "    </tr>\n",
       "    <tr>\n",
       "      <th>...</th>\n",
       "      <td>...</td>\n",
       "      <td>...</td>\n",
       "      <td>...</td>\n",
       "      <td>...</td>\n",
       "      <td>...</td>\n",
       "      <td>...</td>\n",
       "      <td>...</td>\n",
       "    </tr>\n",
       "    <tr>\n",
       "      <th>1371975</th>\n",
       "      <td>7551062398649767985</td>\n",
       "      <td>-1</td>\n",
       "      <td>-1</td>\n",
       "      <td>0</td>\n",
       "      <td>0</td>\n",
       "      <td>24</td>\n",
       "      <td>50351</td>\n",
       "    </tr>\n",
       "    <tr>\n",
       "      <th>1371976</th>\n",
       "      <td>9305341941720086711</td>\n",
       "      <td>-1</td>\n",
       "      <td>-1</td>\n",
       "      <td>0</td>\n",
       "      <td>0</td>\n",
       "      <td>21</td>\n",
       "      <td>80169</td>\n",
       "    </tr>\n",
       "    <tr>\n",
       "      <th>1371977</th>\n",
       "      <td>10160427316885688932</td>\n",
       "      <td>1</td>\n",
       "      <td>1</td>\n",
       "      <td>0</td>\n",
       "      <td>1</td>\n",
       "      <td>21</td>\n",
       "      <td>106737</td>\n",
       "    </tr>\n",
       "    <tr>\n",
       "      <th>1371978</th>\n",
       "      <td>2551401172826382186</td>\n",
       "      <td>1</td>\n",
       "      <td>1</td>\n",
       "      <td>0</td>\n",
       "      <td>1</td>\n",
       "      <td>18</td>\n",
       "      <td>111894</td>\n",
       "    </tr>\n",
       "    <tr>\n",
       "      <th>1371979</th>\n",
       "      <td>16929951892735599169</td>\n",
       "      <td>-1</td>\n",
       "      <td>-1</td>\n",
       "      <td>1</td>\n",
       "      <td>0</td>\n",
       "      <td>65</td>\n",
       "      <td>352898</td>\n",
       "    </tr>\n",
       "  </tbody>\n",
       "</table>\n",
       "<p>1371980 rows × 7 columns</p>\n",
       "</div>"
      ],
      "text/plain": [
       "                  customer_id  FN  Active  club_member_status  \\\n",
       "0         6883939031699146327  -1      -1                   0   \n",
       "1        11246327431398957306  -1      -1                   0   \n",
       "2        18439897732908966680  -1      -1                   0   \n",
       "3        18352672461570950206  -1      -1                   0   \n",
       "4        18162778555210377306   1       1                   0   \n",
       "...                       ...  ..     ...                 ...   \n",
       "1371975   7551062398649767985  -1      -1                   0   \n",
       "1371976   9305341941720086711  -1      -1                   0   \n",
       "1371977  10160427316885688932   1       1                   0   \n",
       "1371978   2551401172826382186   1       1                   0   \n",
       "1371979  16929951892735599169  -1      -1                   1   \n",
       "\n",
       "         fashion_news_frequency  age  postal_code  \n",
       "0                             0   49         6305  \n",
       "1                             0   25        33726  \n",
       "2                             0   24         3247  \n",
       "3                             0   54       168643  \n",
       "4                             1   52       168645  \n",
       "...                         ...  ...          ...  \n",
       "1371975                       0   24        50351  \n",
       "1371976                       0   21        80169  \n",
       "1371977                       1   21       106737  \n",
       "1371978                       1   18       111894  \n",
       "1371979                       0   65       352898  \n",
       "\n",
       "[1371980 rows x 7 columns]"
      ]
     },
     "execution_count": 14,
     "metadata": {},
     "output_type": "execute_result"
    }
   ],
   "source": [
    "customers"
   ]
  },
  {
   "cell_type": "code",
   "execution_count": 15,
   "metadata": {},
   "outputs": [],
   "source": [
    "transactions.sort_values(['t_dat', 'customer_id'], inplace=True)"
   ]
  },
  {
   "cell_type": "code",
   "execution_count": 16,
   "metadata": {},
   "outputs": [],
   "source": [
    "# This line of code is used to generate the preprocessed dataset of transactions, in order to be used for the validation step.\n",
    "#transactions.reset_index().to_feather('transactions_train_preproc.feather')"
   ]
  },
  {
   "cell_type": "markdown",
   "metadata": {},
   "source": [
    "## 3. Defining the last 10 weeks."
   ]
  },
  {
   "cell_type": "markdown",
   "metadata": {},
   "source": [
    "Here we determine the weeks that we are interested to generate candidates. The last weeks are most interesting to be considered, as we are more interested in the last behaviour of the users to make good recommendations."
   ]
  },
  {
   "cell_type": "code",
   "execution_count": 17,
   "metadata": {
    "id": "YwJqnFsarbiq"
   },
   "outputs": [],
   "source": [
    "test_week = transactions.week.max() + 1\n",
    "transactions = transactions[transactions.week > transactions.week.max() - 10]"
   ]
  },
  {
   "cell_type": "code",
   "execution_count": 18,
   "metadata": {
    "colab": {
     "base_uri": "https://localhost:8080/",
     "height": 424
    },
    "id": "GLb7jjdMrk7Q",
    "outputId": "5240404a-af8f-4e6f-fa4f-ae2856d61370"
   },
   "outputs": [
    {
     "data": {
      "text/html": [
       "<div>\n",
       "<style scoped>\n",
       "    .dataframe tbody tr th:only-of-type {\n",
       "        vertical-align: middle;\n",
       "    }\n",
       "\n",
       "    .dataframe tbody tr th {\n",
       "        vertical-align: top;\n",
       "    }\n",
       "\n",
       "    .dataframe thead th {\n",
       "        text-align: right;\n",
       "    }\n",
       "</style>\n",
       "<table border=\"1\" class=\"dataframe\">\n",
       "  <thead>\n",
       "    <tr style=\"text-align: right;\">\n",
       "      <th></th>\n",
       "      <th>t_dat</th>\n",
       "      <th>customer_id</th>\n",
       "      <th>article_id</th>\n",
       "      <th>price</th>\n",
       "      <th>sales_channel_id</th>\n",
       "      <th>week</th>\n",
       "    </tr>\n",
       "  </thead>\n",
       "  <tbody>\n",
       "    <tr>\n",
       "      <th>29030503</th>\n",
       "      <td>2020-07-15</td>\n",
       "      <td>272412481300040</td>\n",
       "      <td>778064028</td>\n",
       "      <td>0.008458</td>\n",
       "      <td>1</td>\n",
       "      <td>95</td>\n",
       "    </tr>\n",
       "    <tr>\n",
       "      <th>29030504</th>\n",
       "      <td>2020-07-15</td>\n",
       "      <td>272412481300040</td>\n",
       "      <td>816592008</td>\n",
       "      <td>0.016932</td>\n",
       "      <td>1</td>\n",
       "      <td>95</td>\n",
       "    </tr>\n",
       "    <tr>\n",
       "      <th>29030505</th>\n",
       "      <td>2020-07-15</td>\n",
       "      <td>272412481300040</td>\n",
       "      <td>621381021</td>\n",
       "      <td>0.033881</td>\n",
       "      <td>1</td>\n",
       "      <td>95</td>\n",
       "    </tr>\n",
       "    <tr>\n",
       "      <th>29030506</th>\n",
       "      <td>2020-07-15</td>\n",
       "      <td>272412481300040</td>\n",
       "      <td>817477003</td>\n",
       "      <td>0.025407</td>\n",
       "      <td>1</td>\n",
       "      <td>95</td>\n",
       "    </tr>\n",
       "    <tr>\n",
       "      <th>29030507</th>\n",
       "      <td>2020-07-15</td>\n",
       "      <td>272412481300040</td>\n",
       "      <td>899088002</td>\n",
       "      <td>0.025407</td>\n",
       "      <td>1</td>\n",
       "      <td>95</td>\n",
       "    </tr>\n",
       "    <tr>\n",
       "      <th>...</th>\n",
       "      <td>...</td>\n",
       "      <td>...</td>\n",
       "      <td>...</td>\n",
       "      <td>...</td>\n",
       "      <td>...</td>\n",
       "      <td>...</td>\n",
       "    </tr>\n",
       "    <tr>\n",
       "      <th>31774722</th>\n",
       "      <td>2020-09-22</td>\n",
       "      <td>18439937050817258297</td>\n",
       "      <td>891591003</td>\n",
       "      <td>0.084729</td>\n",
       "      <td>2</td>\n",
       "      <td>104</td>\n",
       "    </tr>\n",
       "    <tr>\n",
       "      <th>31774723</th>\n",
       "      <td>2020-09-22</td>\n",
       "      <td>18439937050817258297</td>\n",
       "      <td>869706005</td>\n",
       "      <td>0.084729</td>\n",
       "      <td>2</td>\n",
       "      <td>104</td>\n",
       "    </tr>\n",
       "    <tr>\n",
       "      <th>31779097</th>\n",
       "      <td>2020-09-22</td>\n",
       "      <td>18440902715633436014</td>\n",
       "      <td>918894002</td>\n",
       "      <td>0.016932</td>\n",
       "      <td>1</td>\n",
       "      <td>104</td>\n",
       "    </tr>\n",
       "    <tr>\n",
       "      <th>31779098</th>\n",
       "      <td>2020-09-22</td>\n",
       "      <td>18440902715633436014</td>\n",
       "      <td>761269001</td>\n",
       "      <td>0.016932</td>\n",
       "      <td>1</td>\n",
       "      <td>104</td>\n",
       "    </tr>\n",
       "    <tr>\n",
       "      <th>31780475</th>\n",
       "      <td>2020-09-22</td>\n",
       "      <td>18443633011701112574</td>\n",
       "      <td>914868002</td>\n",
       "      <td>0.033881</td>\n",
       "      <td>1</td>\n",
       "      <td>104</td>\n",
       "    </tr>\n",
       "  </tbody>\n",
       "</table>\n",
       "<p>2762872 rows × 6 columns</p>\n",
       "</div>"
      ],
      "text/plain": [
       "              t_dat           customer_id  article_id     price  \\\n",
       "29030503 2020-07-15       272412481300040   778064028  0.008458   \n",
       "29030504 2020-07-15       272412481300040   816592008  0.016932   \n",
       "29030505 2020-07-15       272412481300040   621381021  0.033881   \n",
       "29030506 2020-07-15       272412481300040   817477003  0.025407   \n",
       "29030507 2020-07-15       272412481300040   899088002  0.025407   \n",
       "...             ...                   ...         ...       ...   \n",
       "31774722 2020-09-22  18439937050817258297   891591003  0.084729   \n",
       "31774723 2020-09-22  18439937050817258297   869706005  0.084729   \n",
       "31779097 2020-09-22  18440902715633436014   918894002  0.016932   \n",
       "31779098 2020-09-22  18440902715633436014   761269001  0.016932   \n",
       "31780475 2020-09-22  18443633011701112574   914868002  0.033881   \n",
       "\n",
       "          sales_channel_id  week  \n",
       "29030503                 1    95  \n",
       "29030504                 1    95  \n",
       "29030505                 1    95  \n",
       "29030506                 1    95  \n",
       "29030507                 1    95  \n",
       "...                    ...   ...  \n",
       "31774722                 2   104  \n",
       "31774723                 2   104  \n",
       "31779097                 1   104  \n",
       "31779098                 1   104  \n",
       "31780475                 1   104  \n",
       "\n",
       "[2762872 rows x 6 columns]"
      ]
     },
     "execution_count": 18,
     "metadata": {},
     "output_type": "execute_result"
    }
   ],
   "source": [
    "transactions"
   ]
  },
  {
   "cell_type": "code",
   "execution_count": 19,
   "metadata": {},
   "outputs": [],
   "source": [
    "transaction_weeks = transactions"
   ]
  },
  {
   "cell_type": "code",
   "execution_count": 20,
   "metadata": {},
   "outputs": [
    {
     "name": "stderr",
     "output_type": "stream",
     "text": [
      "/opt/conda/lib/python3.7/site-packages/pandas/util/_decorators.py:311: SettingWithCopyWarning: \n",
      "A value is trying to be set on a copy of a slice from a DataFrame\n",
      "\n",
      "See the caveats in the documentation: https://pandas.pydata.org/pandas-docs/stable/user_guide/indexing.html#returning-a-view-versus-a-copy\n",
      "  return func(*args, **kwargs)\n"
     ]
    }
   ],
   "source": [
    "transaction_weeks.sort_values(['week'], inplace=True)"
   ]
  },
  {
   "cell_type": "code",
   "execution_count": 21,
   "metadata": {},
   "outputs": [
    {
     "data": {
      "text/html": [
       "<div>\n",
       "<style scoped>\n",
       "    .dataframe tbody tr th:only-of-type {\n",
       "        vertical-align: middle;\n",
       "    }\n",
       "\n",
       "    .dataframe tbody tr th {\n",
       "        vertical-align: top;\n",
       "    }\n",
       "\n",
       "    .dataframe thead th {\n",
       "        text-align: right;\n",
       "    }\n",
       "</style>\n",
       "<table border=\"1\" class=\"dataframe\">\n",
       "  <thead>\n",
       "    <tr style=\"text-align: right;\">\n",
       "      <th></th>\n",
       "      <th>t_dat</th>\n",
       "      <th>customer_id</th>\n",
       "      <th>article_id</th>\n",
       "      <th>price</th>\n",
       "      <th>sales_channel_id</th>\n",
       "      <th>week</th>\n",
       "    </tr>\n",
       "  </thead>\n",
       "  <tbody>\n",
       "    <tr>\n",
       "      <th>29030503</th>\n",
       "      <td>2020-07-15</td>\n",
       "      <td>272412481300040</td>\n",
       "      <td>778064028</td>\n",
       "      <td>0.008458</td>\n",
       "      <td>1</td>\n",
       "      <td>95</td>\n",
       "    </tr>\n",
       "    <tr>\n",
       "      <th>29203250</th>\n",
       "      <td>2020-07-19</td>\n",
       "      <td>10077993995051345471</td>\n",
       "      <td>879248008</td>\n",
       "      <td>0.016932</td>\n",
       "      <td>1</td>\n",
       "      <td>95</td>\n",
       "    </tr>\n",
       "    <tr>\n",
       "      <th>29203251</th>\n",
       "      <td>2020-07-19</td>\n",
       "      <td>10077993995051345471</td>\n",
       "      <td>699923098</td>\n",
       "      <td>0.007390</td>\n",
       "      <td>1</td>\n",
       "      <td>95</td>\n",
       "    </tr>\n",
       "    <tr>\n",
       "      <th>29203252</th>\n",
       "      <td>2020-07-19</td>\n",
       "      <td>10077993995051345471</td>\n",
       "      <td>774043004</td>\n",
       "      <td>0.011847</td>\n",
       "      <td>1</td>\n",
       "      <td>95</td>\n",
       "    </tr>\n",
       "    <tr>\n",
       "      <th>29203253</th>\n",
       "      <td>2020-07-19</td>\n",
       "      <td>10077993995051345471</td>\n",
       "      <td>699923092</td>\n",
       "      <td>0.008881</td>\n",
       "      <td>1</td>\n",
       "      <td>95</td>\n",
       "    </tr>\n",
       "    <tr>\n",
       "      <th>...</th>\n",
       "      <td>...</td>\n",
       "      <td>...</td>\n",
       "      <td>...</td>\n",
       "      <td>...</td>\n",
       "      <td>...</td>\n",
       "      <td>...</td>\n",
       "    </tr>\n",
       "    <tr>\n",
       "      <th>31623645</th>\n",
       "      <td>2020-09-18</td>\n",
       "      <td>5773606447362668780</td>\n",
       "      <td>873279005</td>\n",
       "      <td>0.042356</td>\n",
       "      <td>2</td>\n",
       "      <td>104</td>\n",
       "    </tr>\n",
       "    <tr>\n",
       "      <th>31623646</th>\n",
       "      <td>2020-09-18</td>\n",
       "      <td>5773606447362668780</td>\n",
       "      <td>909592001</td>\n",
       "      <td>0.013542</td>\n",
       "      <td>2</td>\n",
       "      <td>104</td>\n",
       "    </tr>\n",
       "    <tr>\n",
       "      <th>31623647</th>\n",
       "      <td>2020-09-18</td>\n",
       "      <td>5773606447362668780</td>\n",
       "      <td>909592002</td>\n",
       "      <td>0.013542</td>\n",
       "      <td>2</td>\n",
       "      <td>104</td>\n",
       "    </tr>\n",
       "    <tr>\n",
       "      <th>31616842</th>\n",
       "      <td>2020-09-18</td>\n",
       "      <td>5767640456585089046</td>\n",
       "      <td>908491005</td>\n",
       "      <td>0.025407</td>\n",
       "      <td>2</td>\n",
       "      <td>104</td>\n",
       "    </tr>\n",
       "    <tr>\n",
       "      <th>31780475</th>\n",
       "      <td>2020-09-22</td>\n",
       "      <td>18443633011701112574</td>\n",
       "      <td>914868002</td>\n",
       "      <td>0.033881</td>\n",
       "      <td>1</td>\n",
       "      <td>104</td>\n",
       "    </tr>\n",
       "  </tbody>\n",
       "</table>\n",
       "<p>2762872 rows × 6 columns</p>\n",
       "</div>"
      ],
      "text/plain": [
       "              t_dat           customer_id  article_id     price  \\\n",
       "29030503 2020-07-15       272412481300040   778064028  0.008458   \n",
       "29203250 2020-07-19  10077993995051345471   879248008  0.016932   \n",
       "29203251 2020-07-19  10077993995051345471   699923098  0.007390   \n",
       "29203252 2020-07-19  10077993995051345471   774043004  0.011847   \n",
       "29203253 2020-07-19  10077993995051345471   699923092  0.008881   \n",
       "...             ...                   ...         ...       ...   \n",
       "31623645 2020-09-18   5773606447362668780   873279005  0.042356   \n",
       "31623646 2020-09-18   5773606447362668780   909592001  0.013542   \n",
       "31623647 2020-09-18   5773606447362668780   909592002  0.013542   \n",
       "31616842 2020-09-18   5767640456585089046   908491005  0.025407   \n",
       "31780475 2020-09-22  18443633011701112574   914868002  0.033881   \n",
       "\n",
       "          sales_channel_id  week  \n",
       "29030503                 1    95  \n",
       "29203250                 1    95  \n",
       "29203251                 1    95  \n",
       "29203252                 1    95  \n",
       "29203253                 1    95  \n",
       "...                    ...   ...  \n",
       "31623645                 2   104  \n",
       "31623646                 2   104  \n",
       "31623647                 2   104  \n",
       "31616842                 2   104  \n",
       "31780475                 1   104  \n",
       "\n",
       "[2762872 rows x 6 columns]"
      ]
     },
     "execution_count": 21,
     "metadata": {},
     "output_type": "execute_result"
    }
   ],
   "source": [
    "transaction_weeks"
   ]
  },
  {
   "cell_type": "markdown",
   "metadata": {},
   "source": [
    "In this graph, we show which of the weeks had the highest number of transactions, so we can understand which part can be useful as a training data later on."
   ]
  },
  {
   "cell_type": "code",
   "execution_count": 22,
   "metadata": {},
   "outputs": [
    {
     "data": {
      "text/plain": [
       "<AxesSubplot:>"
      ]
     },
     "execution_count": 22,
     "metadata": {},
     "output_type": "execute_result"
    },
    {
     "data": {
      "image/png": "[encoded data removed]",
      "text/plain": [
       "<Figure size 640x480 with 1 Axes>"
      ]
     },
     "metadata": {},
     "output_type": "display_data"
    }
   ],
   "source": [
    "transaction_weeks['week'].value_counts().sort_index().plot.bar()"
   ]
  },
  {
   "cell_type": "markdown",
   "metadata": {
    "id": "BlcBfM5JmjeP"
   },
   "source": [
    "## 4. Candidate Generation"
   ]
  },
  {
   "cell_type": "markdown",
   "metadata": {},
   "source": [
    "This step contains the process of generating the candidates, by applying some feature engineering."
   ]
  },
  {
   "cell_type": "markdown",
   "metadata": {},
   "source": [
    "### 4.1 Last purchase candidates"
   ]
  },
  {
   "cell_type": "code",
   "execution_count": 23,
   "metadata": {
    "id": "6A2YjkD5roCh"
   },
   "outputs": [],
   "source": [
    "c2weeks = transactions.groupby('customer_id')['week'].unique()\n",
    "c2weeks2shifted_weeks = {}\n",
    "\n",
    "for c_id, weeks in c2weeks.items():\n",
    "    c2weeks2shifted_weeks[c_id] = {}\n",
    "    for i in range(weeks.shape[0]-1):\n",
    "        c2weeks2shifted_weeks[c_id][weeks[i]] = weeks[i+1]\n",
    "    c2weeks2shifted_weeks[c_id][weeks[-1]] = test_week\n",
    "candidates_last_purchase = transactions.copy()\n",
    "weeks = []\n",
    "for i, (c_id, week) in enumerate(zip(transactions['customer_id'], transactions['week'])):\n",
    "    weeks.append(c2weeks2shifted_weeks[c_id][week])\n",
    "    \n",
    "candidates_last_purchase.week=weeks"
   ]
  },
  {
   "cell_type": "markdown",
   "metadata": {
    "id": "KAoGyyLws4da"
   },
   "source": [
    "### 4.2 Bestseller candidates\n"
   ]
  },
  {
   "cell_type": "code",
   "execution_count": 24,
   "metadata": {
    "id": "npoFZMSUs3zk"
   },
   "outputs": [],
   "source": [
    "mean_price = transactions \\\n",
    "    .groupby(['week', 'article_id'])['price'].mean()\n",
    "sales = transactions \\\n",
    "    .groupby('week')['article_id'].value_counts() \\\n",
    "    .groupby('week').rank(method='dense', ascending=False) \\\n",
    "    .groupby('week').head(12).rename('bestseller_rank').astype('int8')\n",
    "bestsellers_previous_week = pd.merge(sales, mean_price, on=['week', 'article_id']).reset_index()\n",
    "bestsellers_previous_week.week += 1\n",
    "unique_transactions = transactions \\\n",
    "    .groupby(['week', 'customer_id']) \\\n",
    "    .head(1) \\\n",
    "    .drop(columns=['article_id', 'price']) \\\n",
    "    .copy()\n",
    "candidates_bestsellers = pd.merge(\n",
    "    unique_transactions,\n",
    "    bestsellers_previous_week,\n",
    "    on='week',\n",
    ")\n",
    "test_set_transactions = unique_transactions.drop_duplicates('customer_id').reset_index(drop=True)\n",
    "test_set_transactions.week = test_week\n",
    "candidates_bestsellers_test_week = pd.merge(\n",
    "    test_set_transactions,\n",
    "    bestsellers_previous_week,\n",
    "    on='week'\n",
    ")\n",
    "candidates_bestsellers = pd.concat([candidates_bestsellers, candidates_bestsellers_test_week])\n",
    "candidates_bestsellers.drop(columns='bestseller_rank', inplace=True)"
   ]
  },
  {
   "cell_type": "code",
   "execution_count": 25,
   "metadata": {
    "colab": {
     "base_uri": "https://localhost:8080/",
     "height": 206
    },
    "id": "M0VLUKgEtYyH",
    "outputId": "d729b902-e948-4cf4-c48c-db496e0e34a3"
   },
   "outputs": [
    {
     "data": {
      "text/html": [
       "<div>\n",
       "<style scoped>\n",
       "    .dataframe tbody tr th:only-of-type {\n",
       "        vertical-align: middle;\n",
       "    }\n",
       "\n",
       "    .dataframe tbody tr th {\n",
       "        vertical-align: top;\n",
       "    }\n",
       "\n",
       "    .dataframe thead th {\n",
       "        text-align: right;\n",
       "    }\n",
       "</style>\n",
       "<table border=\"1\" class=\"dataframe\">\n",
       "  <thead>\n",
       "    <tr style=\"text-align: right;\">\n",
       "      <th></th>\n",
       "      <th>t_dat</th>\n",
       "      <th>customer_id</th>\n",
       "      <th>sales_channel_id</th>\n",
       "      <th>week</th>\n",
       "      <th>article_id</th>\n",
       "      <th>price</th>\n",
       "    </tr>\n",
       "  </thead>\n",
       "  <tbody>\n",
       "    <tr>\n",
       "      <th>0</th>\n",
       "      <td>2020-07-26</td>\n",
       "      <td>11268931311315930183</td>\n",
       "      <td>2</td>\n",
       "      <td>96</td>\n",
       "      <td>760084003</td>\n",
       "      <td>0.025094</td>\n",
       "    </tr>\n",
       "    <tr>\n",
       "      <th>1</th>\n",
       "      <td>2020-07-26</td>\n",
       "      <td>11268931311315930183</td>\n",
       "      <td>2</td>\n",
       "      <td>96</td>\n",
       "      <td>866731001</td>\n",
       "      <td>0.024919</td>\n",
       "    </tr>\n",
       "    <tr>\n",
       "      <th>2</th>\n",
       "      <td>2020-07-26</td>\n",
       "      <td>11268931311315930183</td>\n",
       "      <td>2</td>\n",
       "      <td>96</td>\n",
       "      <td>600886001</td>\n",
       "      <td>0.022980</td>\n",
       "    </tr>\n",
       "    <tr>\n",
       "      <th>3</th>\n",
       "      <td>2020-07-26</td>\n",
       "      <td>11268931311315930183</td>\n",
       "      <td>2</td>\n",
       "      <td>96</td>\n",
       "      <td>706016001</td>\n",
       "      <td>0.033197</td>\n",
       "    </tr>\n",
       "    <tr>\n",
       "      <th>4</th>\n",
       "      <td>2020-07-26</td>\n",
       "      <td>11268931311315930183</td>\n",
       "      <td>2</td>\n",
       "      <td>96</td>\n",
       "      <td>372860002</td>\n",
       "      <td>0.013193</td>\n",
       "    </tr>\n",
       "  </tbody>\n",
       "</table>\n",
       "</div>"
      ],
      "text/plain": [
       "       t_dat           customer_id  sales_channel_id  week  article_id  \\\n",
       "0 2020-07-26  11268931311315930183                 2    96   760084003   \n",
       "1 2020-07-26  11268931311315930183                 2    96   866731001   \n",
       "2 2020-07-26  11268931311315930183                 2    96   600886001   \n",
       "3 2020-07-26  11268931311315930183                 2    96   706016001   \n",
       "4 2020-07-26  11268931311315930183                 2    96   372860002   \n",
       "\n",
       "      price  \n",
       "0  0.025094  \n",
       "1  0.024919  \n",
       "2  0.022980  \n",
       "3  0.033197  \n",
       "4  0.013193  "
      ]
     },
     "execution_count": 25,
     "metadata": {},
     "output_type": "execute_result"
    }
   ],
   "source": [
    "candidates_bestsellers.head()"
   ]
  },
  {
   "cell_type": "markdown",
   "metadata": {
    "tags": []
   },
   "source": [
    "### 4.3 RecPack algorithms"
   ]
  },
  {
   "cell_type": "markdown",
   "metadata": {},
   "source": [
    "In this section, the RecPack algorithms will be used to generate the candidates with the highest scores (confidence score for AR & SR)."
   ]
  },
  {
   "cell_type": "code",
   "execution_count": 26,
   "metadata": {
    "id": "f9h5Ad2hhHFK"
   },
   "outputs": [],
   "source": [
    "from recpack.preprocessing.preprocessors import DataFramePreprocessor\n",
    "from recpack.preprocessing.filters import MinItemsPerUser, MinUsersPerItem\n",
    "from recpack.scenarios import Timed\n",
    "from recpack.pipelines import PipelineBuilder"
   ]
  },
  {
   "cell_type": "markdown",
   "metadata": {
    "id": "ZJBijP0Km3IU"
   },
   "source": [
    "#### 4.3.1 Preprocessing the data with RecPack and creating the interaction matrix"
   ]
  },
  {
   "cell_type": "code",
   "execution_count": 27,
   "metadata": {
    "colab": {
     "base_uri": "https://localhost:8080/",
     "height": 81,
     "referenced_widgets": [
      "566762b7890a446c962bbf4556f1e802",
      "a477ef18f5644c728ed0d6b31b0b0987",
      "9e8a51abd9cf465bab2611ef093324c5",
      "3203c781b40445ef8b2648705f535c0d",
      "8d52f7d4670942a2bdfce98952069161",
      "2941c6f1da4c413fa7dfd1309670b924",
      "2b08a43fff0e42398bd56cebf19de4bc",
      "c74c7352ab69480ebf69b6c186679dad",
      "116e45741cb14e08972ba26f1a974b8e",
      "06e5eda478f2407bb21f6f5622f22521",
      "9018c9198b6f45bbbcdbb69a57770f8f",
      "70ca32fc20b54fd5b0f12338d2945bef",
      "9dee0c5f1d11450682275e398cb93c40",
      "83eff4131aca47afa915e6ea3235f5bc",
      "524d82c19c3a49cbbe8adde3c63f4fd8",
      "cfef6896aad74be08f3af96823549e91",
      "fbc00df17afb40879f732193542fb529",
      "089202bbd0474151a2dd37c6aec68fc1",
      "f96f7b5403a14ba9a7a6976ffc475f5f",
      "e071aceaa47b4a5aba3dcd27bc8f4038",
      "f11958ae10bf4802844b033449df3691",
      "8adefda711d948bf927d6069507ae0fa"
     ]
    },
    "id": "q301DpU3zmc-",
    "outputId": "74318fba-7df8-4faa-eba4-a363431c3eab"
   },
   "outputs": [
    {
     "data": {
      "application/vnd.jupyter.widget-view+json": {
       "model_id": "336dc64ff18343e4999b7ec78b7edbff",
       "version_major": 2,
       "version_minor": 0
      },
      "text/plain": [
       "  0%|          | 0/1228106 [00:00<?, ?it/s]"
      ]
     },
     "metadata": {},
     "output_type": "display_data"
    },
    {
     "data": {
      "application/vnd.jupyter.widget-view+json": {
       "model_id": "aa10e54f94ca488d998d7f3e040fd743",
       "version_major": 2,
       "version_minor": 0
      },
      "text/plain": [
       "  0%|          | 0/1228106 [00:00<?, ?it/s]"
      ]
     },
     "metadata": {},
     "output_type": "display_data"
    }
   ],
   "source": [
    "proc = DataFramePreprocessor(item_ix='article_id', user_ix='customer_id', timestamp_ix='week')\n",
    "proc.add_filter(MinUsersPerItem(10, item_ix='article_id', user_ix='customer_id'))\n",
    "proc.add_filter(MinItemsPerUser(10, item_ix='article_id', user_ix='customer_id'))\n",
    "\n",
    "interaction_matrix = proc.process(transactions)"
   ]
  },
  {
   "cell_type": "markdown",
   "metadata": {
    "id": "M20MRvvwnAm9"
   },
   "source": [
    "#### 4.3.2 Association Rules algorithm"
   ]
  },
  {
   "cell_type": "code",
   "execution_count": 28,
   "metadata": {
    "id": "5Xma2CEfch4f"
   },
   "outputs": [],
   "source": [
    "import pandas\n",
    "import numpy as np\n",
    "from scipy.sparse import csr_matrix\n",
    "from recpack.algorithms.base import TopKItemSimilarityMatrixAlgorithm\n",
    "from recpack.algorithms.util import invert\n",
    "from recpack.matrix import InteractionMatrix, to_binary\n",
    "from recpack.util import get_top_K_values, get_top_K_ranks\n",
    "\n",
    "\n",
    "#def last_item_recommendations(X: InteractionMatrix):\n",
    "    \n",
    "#    return get_top_K_ranks(X.last_timestamps_matrix, K=1)\n",
    "\n",
    "\n",
    "class AssociationRules(TopKItemSimilarityMatrixAlgorithm):\n",
    "    def __init__(self, K=200):\n",
    "        super().__init__(K)\n",
    "\n",
    "    def _fit(self, X: csr_matrix):\n",
    "        \"\"\"\n",
    "        Trains the predictor.\n",
    "\n",
    "        \"\"\"\n",
    "        X_binary = to_binary(X)\n",
    "        X_T_binary = csr_matrix(X_binary.transpose())\n",
    "\n",
    "        # CO_matrix = X_T_binary @ X_binary\n",
    "\n",
    "        CO_matrix = csr_matrix(X_T_binary @ X_binary)\n",
    "\n",
    "        # Here we get the best rules\n",
    "        CO_matrix = get_top_K_values(CO_matrix, self.K)\n",
    "        \n",
    "        # Normalization of CO_matrix\n",
    "        CO_array = CO_matrix.toarray()\n",
    "        \n",
    "        diag = np.diagonal(CO_array)\n",
    "        sim_matrix = CO_array/diag[:, None]\n",
    "        # Top 10 rules for statistics!\n",
    "        arr = sim_matrix\n",
    "        np.fill_diagonal(arr,0)\n",
    "        top_n = 10\n",
    "        # Highest Similairity Values\n",
    "        arr1d = arr.flatten()\n",
    "        arr1d.sort()\n",
    "        rslt = arr1d[-top_n : ]\n",
    "        print(rslt, '\\n')\n",
    "        # LHS and RHS of top 10 rules\n",
    "        idx = np.argpartition(arr, arr.size - top_n, axis=None)[-top_n:]\n",
    "        result = np.column_stack(np.unravel_index(idx, arr.shape))\n",
    "        print(result)\n",
    "        similarity = csr_matrix(sim_matrix)\n",
    "        # similarity = get_top_K_values(similarity, self.K)\n",
    "\n",
    "        self.similarity_matrix_ = similarity\n",
    "\n",
    "    #def _transform_predict_input(self, X):\n",
    "    #    X = last_item_recommendations(X)\n",
    "    #    return X"
   ]
  },
  {
   "cell_type": "markdown",
   "metadata": {},
   "source": [
    "#### 4.3.3 Association Rules predicting only last item extension algorithm"
   ]
  },
  {
   "cell_type": "code",
   "execution_count": 29,
   "metadata": {},
   "outputs": [],
   "source": [
    "import pandas\n",
    "import numpy as np\n",
    "from scipy.sparse import csr_matrix\n",
    "from recpack.algorithms.base import TopKItemSimilarityMatrixAlgorithm\n",
    "from recpack.algorithms.util import invert\n",
    "from recpack.matrix import InteractionMatrix, to_binary\n",
    "from recpack.util import get_top_K_values, get_top_K_ranks\n",
    "\n",
    "def last_item_recommendations(X: InteractionMatrix):\n",
    "    \n",
    "    return get_top_K_ranks(X.last_timestamps_matrix, K=1)\n",
    "\n",
    "class AssociationRulesExtensionLastItem(AssociationRules):\n",
    "    def __init__(self, K=200):\n",
    "        super().__init__(K)\n",
    "\n",
    "    def _transform_predict_input(self, X):\n",
    "        X = last_item_recommendations(X)\n",
    "        return X"
   ]
  },
  {
   "cell_type": "markdown",
   "metadata": {},
   "source": [
    "#### 4.3.4 Association Rules predicting the **k** recent purchased items extension algorithm"
   ]
  },
  {
   "cell_type": "code",
   "execution_count": 30,
   "metadata": {
    "id": "Lx1N3ZuPZ1e2"
   },
   "outputs": [],
   "source": [
    "import pandas\n",
    "import numpy as np\n",
    "from scipy.sparse import csr_matrix\n",
    "from recpack.algorithms.base import TopKItemSimilarityMatrixAlgorithm\n",
    "from recpack.algorithms.util import invert\n",
    "from recpack.matrix import InteractionMatrix, to_binary\n",
    "from recpack.util import get_top_K_values, get_top_K_ranks\n",
    "\n",
    "class AssociationRulesExtension(AssociationRules):\n",
    "    def __init__(self, K=200, k_items = 200):\n",
    "        super().__init__(K)\n",
    "        self.k_items = k_items\n",
    "\n",
    "    def _transform_predict_input(self, X):\n",
    "        X = invert(get_top_K_ranks(X.last_timestamps_matrix, K=self.k_items))\n",
    "        return X\n"
   ]
  },
  {
   "cell_type": "markdown",
   "metadata": {
    "id": "e-82vo8OnEMI"
   },
   "source": [
    "#### 4.3.5 Sequential Rules algorithm"
   ]
  },
  {
   "cell_type": "code",
   "execution_count": 31,
   "metadata": {
    "id": "1BybQhG6ctAE"
   },
   "outputs": [],
   "source": [
    "from asyncio.format_helpers import _format_callback_source\n",
    "import pandas as pd\n",
    "import numpy as np\n",
    "from collections import Counter\n",
    "from itertools import chain\n",
    "from scipy.sparse import csr_matrix, lil_matrix\n",
    "from recpack.algorithms.base import ItemSimilarityMatrixAlgorithm\n",
    "from recpack.algorithms.util import invert\n",
    "from recpack.matrix import InteractionMatrix, Matrix, to_csr_matrix\n",
    "from recpack.matrix.interaction_matrix import InteractionMatrix\n",
    "from recpack.util import to_binary\n",
    "\n",
    "\n",
    "#def last_item_recommendations(X: InteractionMatrix):\n",
    "    \n",
    "#    return get_top_K_ranks(X.last_timestamps_matrix, K=1)\n",
    "\n",
    "\n",
    "class SequentialRules(ItemSimilarityMatrixAlgorithm):\n",
    "    def __init__(self, max_steps=20):\n",
    "        self.max_steps = max_steps\n",
    "\n",
    "    def _transform_fit_input(self, X: Matrix) -> InteractionMatrix:\n",
    "        # X_interaction_matrix = isinstance(X, InteractionMatrix)\n",
    "        if isinstance(X, InteractionMatrix) == False:\n",
    "            raise ValueError(f\"Interaction Matrix\")\n",
    "        elif X.has_timestamps == False:\n",
    "            raise ValueError(f\"requires timestamp information\")\n",
    "        else:\n",
    "            return X\n",
    "\n",
    "    def _fit(self, X: InteractionMatrix):\n",
    "        a = list(X.sorted_item_history)\n",
    "        sim_matrix = lil_matrix((X.shape[1], X.shape[1]))\n",
    "        for user, items_per_user in X.sorted_item_history:\n",
    "            for i in range(0, len(items_per_user) - 1):\n",
    "                for n_steps, j in enumerate(\n",
    "                    range(i + 1, min(len(items_per_user), i + self.max_steps + 1)),\n",
    "                    start=1,\n",
    "                ):\n",
    "                    LHS = items_per_user[i]\n",
    "                    RHS = items_per_user[j]\n",
    "                    sim_matrix[LHS, RHS] += 1 / n_steps\n",
    "        support = csr_matrix(X.values.sum(axis=0))\n",
    "\n",
    "        sim_matrix = sim_matrix.multiply(invert(support).T)\n",
    "        # Top 10 rules for statistics!\n",
    "        #print(sim_matrix)\n",
    "        arr = sim_matrix.toarray()\n",
    "        np.fill_diagonal(arr,0)\n",
    "        top_n = 10\n",
    "        # Highest Similairity Values\n",
    "        arr1d = arr.flatten()\n",
    "        arr1d.sort()\n",
    "        rslt = arr1d[-top_n : ]\n",
    "        print(rslt, '\\n')\n",
    "        # LHS and RHS of top 10 rules\n",
    "        idx = np.argpartition(arr, arr.size - top_n, axis=None)[-top_n:]\n",
    "        result = np.column_stack(np.unravel_index(idx, arr.shape))\n",
    "        print(result)\n",
    "        self.similarity_matrix_ = sim_matrix.tocsr()\n",
    "\n",
    "    #def _transform_predict_input(self, X):\n",
    "    #    X = last_item_recommendations(X)\n",
    "    #    return X\n"
   ]
  },
  {
   "cell_type": "markdown",
   "metadata": {},
   "source": [
    "#### 4.3.6 Sequential Rules predicting only last item extension algorithm"
   ]
  },
  {
   "cell_type": "code",
   "execution_count": 32,
   "metadata": {},
   "outputs": [],
   "source": [
    "from asyncio.format_helpers import _format_callback_source\n",
    "import pandas as pd\n",
    "import numpy as np\n",
    "from collections import Counter\n",
    "from itertools import chain\n",
    "from scipy.sparse import csr_matrix, lil_matrix\n",
    "from recpack.algorithms.base import ItemSimilarityMatrixAlgorithm\n",
    "from recpack.algorithms.util import invert\n",
    "from recpack.matrix import InteractionMatrix, Matrix, to_csr_matrix\n",
    "from recpack.matrix.interaction_matrix import InteractionMatrix\n",
    "from recpack.util import to_binary, get_top_K_ranks\n",
    "\n",
    "def last_item_recommendations(X: InteractionMatrix):\n",
    "    \n",
    "    return get_top_K_ranks(X.last_timestamps_matrix, K=1)\n",
    "\n",
    "class SequentialRulesExtensionLastItem(SequentialRules):\n",
    "    def __init__(self, max_steps=20, k_items = 200):\n",
    "        super().__init__(max_steps)\n",
    "        self.k_items = k_items\n",
    "\n",
    "    def _transform_predict_input(self, X):\n",
    "        X = last_item_recommendations(X)\n",
    "        return X"
   ]
  },
  {
   "cell_type": "markdown",
   "metadata": {},
   "source": [
    "#### 4.3.7 Sequential Rules predicting the **k** recent purchased items extension algorithm"
   ]
  },
  {
   "cell_type": "code",
   "execution_count": 33,
   "metadata": {},
   "outputs": [],
   "source": [
    "from asyncio.format_helpers import _format_callback_source\n",
    "import pandas as pd\n",
    "import numpy as np\n",
    "from collections import Counter\n",
    "from itertools import chain\n",
    "from scipy.sparse import csr_matrix, lil_matrix\n",
    "from recpack.algorithms.base import ItemSimilarityMatrixAlgorithm\n",
    "from recpack.algorithms.util import invert\n",
    "from recpack.matrix import InteractionMatrix, Matrix, to_csr_matrix\n",
    "from recpack.matrix.interaction_matrix import InteractionMatrix\n",
    "from recpack.util import to_binary, get_top_K_ranks\n",
    "\n",
    "\n",
    "class SequentialRulesExtension(SequentialRules):\n",
    "    def __init__(self, max_steps=20, k_items = 200):\n",
    "        super().__init__(max_steps)\n",
    "        self.k_items = k_items\n",
    "\n",
    "    def _transform_predict_input(self, X):\n",
    "        X = invert(get_top_K_ranks(X.last_timestamps_matrix, K=self.k_items))\n",
    "        return X"
   ]
  },
  {
   "cell_type": "markdown",
   "metadata": {
    "id": "Dce7Ooy-nJV6"
   },
   "source": [
    "#### 4.3.8 Registering the new implemented algorithms."
   ]
  },
  {
   "cell_type": "code",
   "execution_count": 34,
   "metadata": {
    "id": "WzMT87XPc5ru"
   },
   "outputs": [],
   "source": [
    "from recpack.pipelines import ALGORITHM_REGISTRY, PipelineBuilder, pipeline_builder\n",
    "\n",
    "ALGORITHM_REGISTRY.register('AssociationRules', AssociationRules)\n",
    "ALGORITHM_REGISTRY.register('SequentialRules', SequentialRules)\n",
    "ALGORITHM_REGISTRY.register('AssociationRulesExLast', AssociationRulesExtensionLastItem)\n",
    "ALGORITHM_REGISTRY.register('SequentialRulesExLast', SequentialRulesExtensionLastItem)\n",
    "ALGORITHM_REGISTRY.register('AssociationRulesEx', AssociationRulesExtension)\n",
    "ALGORITHM_REGISTRY.register('SequentialRulesEx', SequentialRulesExtension)"
   ]
  },
  {
   "cell_type": "markdown",
   "metadata": {
    "id": "Kmn2AMWSnxUq"
   },
   "source": [
    "#### 4.3.9 Generating the confidence scores from AR algorithms"
   ]
  },
  {
   "cell_type": "markdown",
   "metadata": {},
   "source": [
    "In this section, the confidence scores will be generated from the AR algorithms. Each version of it will be in seperated versions."
   ]
  },
  {
   "cell_type": "markdown",
   "metadata": {},
   "source": [
    "**Association Rules** (You can change the parameters before running it)"
   ]
  },
  {
   "cell_type": "code",
   "execution_count": 35,
   "metadata": {},
   "outputs": [],
   "source": [
    "#ar = AssociationRules(K=100)\n",
    "#ar.fit(interaction_matrix)"
   ]
  },
  {
   "cell_type": "code",
   "execution_count": 36,
   "metadata": {},
   "outputs": [],
   "source": [
    "#pred_ar = ar.predict(interaction_matrix)"
   ]
  },
  {
   "cell_type": "markdown",
   "metadata": {},
   "source": [
    "**Association Rules Extension (k most recent items)**"
   ]
  },
  {
   "cell_type": "code",
   "execution_count": 37,
   "metadata": {
    "colab": {
     "base_uri": "https://localhost:8080/",
     "height": 109
    },
    "id": "Gcd7EqbQekwi",
    "outputId": "379a4fec-534a-431e-c322-3b623d301794"
   },
   "outputs": [],
   "source": [
    "#are = AssociationRulesExtension(K=100, k_items=200)\n",
    "#are.fit(interaction_matrix)"
   ]
  },
  {
   "cell_type": "code",
   "execution_count": 38,
   "metadata": {
    "id": "JLTZYxEue0Zv"
   },
   "outputs": [],
   "source": [
    "#pred_are = are.predict(interaction_matrix)"
   ]
  },
  {
   "cell_type": "markdown",
   "metadata": {},
   "source": [
    "**Association Rules Extension last item**"
   ]
  },
  {
   "cell_type": "code",
   "execution_count": 39,
   "metadata": {},
   "outputs": [],
   "source": [
    "#arl = AssociationRulesExtensionLastItem(K=100)\n",
    "#arl.fit(interaction_matrix)"
   ]
  },
  {
   "cell_type": "code",
   "execution_count": 40,
   "metadata": {},
   "outputs": [],
   "source": [
    "#pred_arl = arl.predict(interaction_matrix)"
   ]
  },
  {
   "cell_type": "markdown",
   "metadata": {
    "id": "IzXAoC_Yn2jn"
   },
   "source": [
    "#### 4.3.10 Generating the confidence scores from SR algorithms"
   ]
  },
  {
   "cell_type": "markdown",
   "metadata": {},
   "source": [
    "**Sequential Rules**"
   ]
  },
  {
   "cell_type": "code",
   "execution_count": 41,
   "metadata": {
    "colab": {
     "base_uri": "https://localhost:8080/"
    },
    "id": "lI0AHiwpg_-w",
    "outputId": "ac93cffa-d50b-4438-aa7d-b9b239a228d4"
   },
   "outputs": [],
   "source": [
    "#sr = SequentialRules(max_steps=20)\n",
    "#sr.fit(interaction_matrix)"
   ]
  },
  {
   "cell_type": "code",
   "execution_count": 42,
   "metadata": {
    "colab": {
     "base_uri": "https://localhost:8080/"
    },
    "id": "5hlGJ2mghKlK",
    "outputId": "0cf11671-8467-4b8c-ece7-874a6831f7d1"
   },
   "outputs": [],
   "source": [
    "#pred_sr = sr.predict(interaction_matrix)"
   ]
  },
  {
   "cell_type": "markdown",
   "metadata": {},
   "source": [
    "**Sequential Rules Extension (k most recent items)**"
   ]
  },
  {
   "cell_type": "code",
   "execution_count": 43,
   "metadata": {},
   "outputs": [
    {
     "name": "stderr",
     "output_type": "stream",
     "text": [
      "/opt/conda/lib/python3.7/site-packages/scipy/sparse/_index.py:125: SparseEfficiencyWarning: Changing the sparsity structure of a csr_matrix is expensive. lil_matrix is more efficient.\n",
      "  self._set_arrayXarray(i, j, x)\n"
     ]
    },
    {
     "name": "stdout",
     "output_type": "stream",
     "text": [
      "[1.         1.         1.         1.         1.         1.\n",
      " 1.         1.05934343 1.175      1.5       ] \n",
      "\n",
      "[[10856  6619]\n",
      " [14899  9610]\n",
      " [ 6803  6804]\n",
      " [17090 13159]\n",
      " [ 7150  1249]\n",
      " [16248 16145]\n",
      " [ 8899   879]\n",
      " [17113 12968]\n",
      " [18117 17274]\n",
      " [19471  5225]]\n",
      "2022-12-23 13:23:45,857 - base - recpack - INFO - Fitting SequentialRulesExtension complete - Took 2.41e+02s\n"
     ]
    },
    {
     "name": "stderr",
     "output_type": "stream",
     "text": [
      "/home/jupyter/recpack/algorithms/base.py:271: UserWarning: SequentialRulesExtension missing similar items for 4 items.\n",
      "  warnings.warn(f\"{self.name} missing similar items for {missing} items.\")\n"
     ]
    },
    {
     "data": {
      "text/plain": [
       "SequentialRulesExtension(k_items=100)"
      ]
     },
     "execution_count": 43,
     "metadata": {},
     "output_type": "execute_result"
    }
   ],
   "source": [
    "sre = SequentialRulesExtension(max_steps=20, k_items=100)\n",
    "sre.fit(interaction_matrix)"
   ]
  },
  {
   "cell_type": "code",
   "execution_count": 44,
   "metadata": {},
   "outputs": [],
   "source": [
    "pred_sre = sre.predict(interaction_matrix)"
   ]
  },
  {
   "cell_type": "markdown",
   "metadata": {},
   "source": [
    "**Sequential Rules Extension last item**"
   ]
  },
  {
   "cell_type": "code",
   "execution_count": 45,
   "metadata": {},
   "outputs": [],
   "source": [
    "#srl = SequentialRulesExtensionLastItem(max_steps=20)\n",
    "#srl.fit(interaction_matrix)"
   ]
  },
  {
   "cell_type": "code",
   "execution_count": 46,
   "metadata": {},
   "outputs": [],
   "source": [
    "#pred_srl = srl.predict(interaction_matrix)"
   ]
  },
  {
   "cell_type": "markdown",
   "metadata": {},
   "source": [
    "### 4.4 Generating the confidence scores from the prediction done from each of the algorithms."
   ]
  },
  {
   "cell_type": "code",
   "execution_count": 47,
   "metadata": {
    "id": "PXPPTSivM-TQ"
   },
   "outputs": [],
   "source": [
    "def top_n_idx_sparse(matrix: csr_matrix, n: int):\n",
    "    \"\"\"Return index of top n values in each row of a sparse matrix.\n",
    "    source: https://stackoverflow.com/questions/49207275/finding-the-top-n-values-in-a-row-of-a-scipy-sparse-matrix\n",
    "    \"\"\"\n",
    "    top_n_idx = []\n",
    "    for le, ri in zip(matrix.indptr[:-1], matrix.indptr[1:]):\n",
    "        n_row_pick = min(n, ri - le)\n",
    "        if n_row_pick == n:\n",
    "          top_n_idx.append(matrix.indices[le + np.argpartition(matrix.data[le:ri], -n_row_pick)[-n_row_pick:]].tolist())\n",
    "    \n",
    "    # Get the values corresponding to the indices\n",
    "    top_n_values = []\n",
    "    for row_idx, col_idxs in enumerate(top_n_idx):\n",
    "        top_n_values.append(matrix[row_idx, col_idxs].toarray().tolist()[0])\n",
    "        assert(len(top_n_values[row_idx]) == len(top_n_idx[row_idx]))\n",
    "    return top_n_idx, top_n_values"
   ]
  },
  {
   "cell_type": "code",
   "execution_count": 48,
   "metadata": {
    "id": "Z1xvAxCTQdWA"
   },
   "outputs": [],
   "source": [
    "#top_k_idx, top_k_values = top_n_idx_sparse(pred_ar, 12)\n",
    "#top_k_idx, top_k_values = top_n_idx_sparse(pred_are, 12)\n",
    "#top_k_idx, top_k_values = top_n_idx_sparse(pred_arl, 12)\n",
    "#top_k_idx, top_k_values = top_n_idx_sparse(pred_sr, 12)\n",
    "top_k_idx, top_k_values = top_n_idx_sparse(pred_sre, 12)\n",
    "#top_k_idx, top_k_values = top_n_idx_sparse(pred_srl, 12)"
   ]
  },
  {
   "cell_type": "code",
   "execution_count": 49,
   "metadata": {
    "id": "e8wgFXVcSsph"
   },
   "outputs": [],
   "source": [
    "# source of support: https://github.com/LienM/ai-project-22-23/blob/main/ArnoTroch/lecture6/submission-KNN-similarity-feature.ipynb\n",
    "uid_cid_map = interaction_matrix._df[[\"uid\", \"customer_id\"]].drop_duplicates().set_index(\"uid\").to_dict()[\"customer_id\"]\n",
    "iid_aid_map = interaction_matrix._df[[\"iid\", \"article_id\"]].drop_duplicates().set_index(\"iid\").to_dict()[\"article_id\"]\n",
    "\n",
    "sr_customers = []\n",
    "sr_articles = []\n",
    "sr_scores = []\n",
    "\n",
    "for i, row in enumerate(top_k_idx):\n",
    "        user_predictions = [iid_aid_map[iid] for iid in row]\n",
    "        sr_customers.extend([uid_cid_map[i]] * len(user_predictions))\n",
    "        sr_articles.extend(user_predictions)\n",
    "        sr_scores.extend(top_k_values[i])\n",
    "sr_items = pd.DataFrame({\"customer_id\": sr_customers, \"article_id\": sr_articles, \"sr_prediction\": sr_scores})"
   ]
  },
  {
   "cell_type": "code",
   "execution_count": 50,
   "metadata": {
    "colab": {
     "base_uri": "https://localhost:8080/",
     "height": 424
    },
    "id": "8DEunCR-a-XJ",
    "outputId": "5c43744e-6ca5-41fb-a69d-7e648ba7d08a"
   },
   "outputs": [
    {
     "data": {
      "text/html": [
       "<div>\n",
       "<style scoped>\n",
       "    .dataframe tbody tr th:only-of-type {\n",
       "        vertical-align: middle;\n",
       "    }\n",
       "\n",
       "    .dataframe tbody tr th {\n",
       "        vertical-align: top;\n",
       "    }\n",
       "\n",
       "    .dataframe thead th {\n",
       "        text-align: right;\n",
       "    }\n",
       "</style>\n",
       "<table border=\"1\" class=\"dataframe\">\n",
       "  <thead>\n",
       "    <tr style=\"text-align: right;\">\n",
       "      <th></th>\n",
       "      <th>customer_id</th>\n",
       "      <th>article_id</th>\n",
       "      <th>sr_prediction</th>\n",
       "    </tr>\n",
       "  </thead>\n",
       "  <tbody>\n",
       "    <tr>\n",
       "      <th>0</th>\n",
       "      <td>272412481300040</td>\n",
       "      <td>908729002</td>\n",
       "      <td>0.023843</td>\n",
       "    </tr>\n",
       "    <tr>\n",
       "      <th>1</th>\n",
       "      <td>272412481300040</td>\n",
       "      <td>909357001</td>\n",
       "      <td>0.023998</td>\n",
       "    </tr>\n",
       "    <tr>\n",
       "      <th>2</th>\n",
       "      <td>272412481300040</td>\n",
       "      <td>850176003</td>\n",
       "      <td>0.044303</td>\n",
       "    </tr>\n",
       "    <tr>\n",
       "      <th>3</th>\n",
       "      <td>272412481300040</td>\n",
       "      <td>921906005</td>\n",
       "      <td>0.188091</td>\n",
       "    </tr>\n",
       "    <tr>\n",
       "      <th>4</th>\n",
       "      <td>272412481300040</td>\n",
       "      <td>854619003</td>\n",
       "      <td>0.059961</td>\n",
       "    </tr>\n",
       "    <tr>\n",
       "      <th>...</th>\n",
       "      <td>...</td>\n",
       "      <td>...</td>\n",
       "      <td>...</td>\n",
       "    </tr>\n",
       "    <tr>\n",
       "      <th>786439</th>\n",
       "      <td>6009256864929410070</td>\n",
       "      <td>921909001</td>\n",
       "      <td>0.119447</td>\n",
       "    </tr>\n",
       "    <tr>\n",
       "      <th>786440</th>\n",
       "      <td>6009256864929410070</td>\n",
       "      <td>868638003</td>\n",
       "      <td>0.196237</td>\n",
       "    </tr>\n",
       "    <tr>\n",
       "      <th>786441</th>\n",
       "      <td>6009256864929410070</td>\n",
       "      <td>825624003</td>\n",
       "      <td>0.112238</td>\n",
       "    </tr>\n",
       "    <tr>\n",
       "      <th>786442</th>\n",
       "      <td>6009256864929410070</td>\n",
       "      <td>903420001</td>\n",
       "      <td>0.231009</td>\n",
       "    </tr>\n",
       "    <tr>\n",
       "      <th>786443</th>\n",
       "      <td>6009256864929410070</td>\n",
       "      <td>918240001</td>\n",
       "      <td>0.142857</td>\n",
       "    </tr>\n",
       "  </tbody>\n",
       "</table>\n",
       "<p>786444 rows × 3 columns</p>\n",
       "</div>"
      ],
      "text/plain": [
       "                customer_id  article_id  sr_prediction\n",
       "0           272412481300040   908729002       0.023843\n",
       "1           272412481300040   909357001       0.023998\n",
       "2           272412481300040   850176003       0.044303\n",
       "3           272412481300040   921906005       0.188091\n",
       "4           272412481300040   854619003       0.059961\n",
       "...                     ...         ...            ...\n",
       "786439  6009256864929410070   921909001       0.119447\n",
       "786440  6009256864929410070   868638003       0.196237\n",
       "786441  6009256864929410070   825624003       0.112238\n",
       "786442  6009256864929410070   903420001       0.231009\n",
       "786443  6009256864929410070   918240001       0.142857\n",
       "\n",
       "[786444 rows x 3 columns]"
      ]
     },
     "execution_count": 50,
     "metadata": {},
     "output_type": "execute_result"
    }
   ],
   "source": [
    "sr_items"
   ]
  },
  {
   "cell_type": "code",
   "execution_count": 51,
   "metadata": {
    "id": "o4xkfThoa5qh"
   },
   "outputs": [],
   "source": [
    "candidates_similar_items = pd.merge(\n",
    "    sr_items,\n",
    "    test_set_transactions,\n",
    "    on='customer_id',\n",
    "    how='left'\n",
    ")\n",
    "\n",
    "candidates_similar_items.drop(columns='sr_prediction', inplace=True)\n",
    "last_price = transactions \\\n",
    "    .groupby(['article_id', 'week']) \\\n",
    "    .price \\\n",
    "    .last() \\\n",
    "    .reset_index() \\\n",
    "    .groupby('article_id') \\\n",
    "    .price \\\n",
    "    .last() \\\n",
    "    .reset_index()\n",
    "\n",
    "candidates_similar_items = pd.merge(\n",
    "    candidates_similar_items,\n",
    "    last_price,\n",
    "    on='article_id',\n",
    "    how='left'\n",
    ")"
   ]
  },
  {
   "cell_type": "markdown",
   "metadata": {},
   "source": [
    "### 4.5 Time weighted popularity candidates"
   ]
  },
  {
   "cell_type": "markdown",
   "metadata": {},
   "source": [
    "This feature engineering was based from Arno Troch work: https://github.com/LienM/ai-project-22-23/blob/main/ArnoTroch/lecture6/submission-KNN-similarity-feature.ipynb"
   ]
  },
  {
   "cell_type": "code",
   "execution_count": 52,
   "metadata": {
    "id": "MJm7w96Mcue5"
   },
   "outputs": [],
   "source": [
    "popularity = transactions\\\n",
    "    .groupby(['article_id', 'week']).size().reset_index(name='weekly_purchase_count')\n",
    "weekly_popularity = []\n",
    "def func(row):\n",
    "    weeks_before = popularity[(row.article_id == popularity.article_id) & (row.week > popularity.week)]\n",
    "    # get last row of weeks_before\n",
    "    previous_week_popularity = 0\n",
    "    if weeks_before.shape[0] > 0:\n",
    "        previous_week_popularity = weekly_popularity[-1]\n",
    "    return previous_week_popularity / 2.0 + float(row.weekly_purchase_count)\n",
    "# iterate over all rows\n",
    "for i, row in popularity.iterrows():\n",
    "    weekly_popularity.append(func(row))\n",
    "popularity['weekly_popularity'] = weekly_popularity\n",
    "popular_articles_per_week = popularity.sort_values(['week', 'weekly_popularity'], ascending=False)\\\n",
    "    .groupby('week').head(20).reset_index(drop=True)\n",
    "popular_articles_previous_week = pd.merge(popular_articles_per_week, mean_price, on=['week', 'article_id']).reset_index(drop=True)\n",
    "# make a new column to rank the weekly_popularity\n",
    "popular_articles_previous_week['last_week_popularity_rank'] = popular_articles_previous_week.groupby('week')['weekly_popularity'].rank(ascending=False).astype(np.int32)\n",
    "popular_articles_previous_week.week += 1"
   ]
  },
  {
   "cell_type": "code",
   "execution_count": 53,
   "metadata": {},
   "outputs": [
    {
     "data": {
      "text/html": [
       "<div>\n",
       "<style scoped>\n",
       "    .dataframe tbody tr th:only-of-type {\n",
       "        vertical-align: middle;\n",
       "    }\n",
       "\n",
       "    .dataframe tbody tr th {\n",
       "        vertical-align: top;\n",
       "    }\n",
       "\n",
       "    .dataframe thead th {\n",
       "        text-align: right;\n",
       "    }\n",
       "</style>\n",
       "<table border=\"1\" class=\"dataframe\">\n",
       "  <thead>\n",
       "    <tr style=\"text-align: right;\">\n",
       "      <th></th>\n",
       "      <th>t_dat</th>\n",
       "      <th>customer_id</th>\n",
       "      <th>sales_channel_id</th>\n",
       "      <th>week</th>\n",
       "      <th>article_id</th>\n",
       "      <th>weekly_purchase_count</th>\n",
       "      <th>weekly_popularity</th>\n",
       "      <th>price</th>\n",
       "      <th>last_week_popularity_rank</th>\n",
       "    </tr>\n",
       "  </thead>\n",
       "  <tbody>\n",
       "    <tr>\n",
       "      <th>0</th>\n",
       "      <td>2020-07-15</td>\n",
       "      <td>272412481300040</td>\n",
       "      <td>1</td>\n",
       "      <td>105</td>\n",
       "      <td>924243001</td>\n",
       "      <td>852</td>\n",
       "      <td>1236.875000</td>\n",
       "      <td>0.041535</td>\n",
       "      <td>1</td>\n",
       "    </tr>\n",
       "    <tr>\n",
       "      <th>1</th>\n",
       "      <td>2020-07-15</td>\n",
       "      <td>272412481300040</td>\n",
       "      <td>1</td>\n",
       "      <td>105</td>\n",
       "      <td>909370001</td>\n",
       "      <td>537</td>\n",
       "      <td>1190.500000</td>\n",
       "      <td>0.032640</td>\n",
       "      <td>2</td>\n",
       "    </tr>\n",
       "    <tr>\n",
       "      <th>2</th>\n",
       "      <td>2020-07-15</td>\n",
       "      <td>272412481300040</td>\n",
       "      <td>1</td>\n",
       "      <td>105</td>\n",
       "      <td>751471001</td>\n",
       "      <td>526</td>\n",
       "      <td>1173.253906</td>\n",
       "      <td>0.033423</td>\n",
       "      <td>3</td>\n",
       "    </tr>\n",
       "    <tr>\n",
       "      <th>3</th>\n",
       "      <td>2020-07-15</td>\n",
       "      <td>272412481300040</td>\n",
       "      <td>1</td>\n",
       "      <td>105</td>\n",
       "      <td>918522001</td>\n",
       "      <td>609</td>\n",
       "      <td>1064.500000</td>\n",
       "      <td>0.041435</td>\n",
       "      <td>4</td>\n",
       "    </tr>\n",
       "    <tr>\n",
       "      <th>4</th>\n",
       "      <td>2020-07-15</td>\n",
       "      <td>272412481300040</td>\n",
       "      <td>1</td>\n",
       "      <td>105</td>\n",
       "      <td>448509014</td>\n",
       "      <td>490</td>\n",
       "      <td>1004.210938</td>\n",
       "      <td>0.041630</td>\n",
       "      <td>5</td>\n",
       "    </tr>\n",
       "  </tbody>\n",
       "</table>\n",
       "</div>"
      ],
      "text/plain": [
       "       t_dat      customer_id  sales_channel_id  week  article_id  \\\n",
       "0 2020-07-15  272412481300040                 1   105   924243001   \n",
       "1 2020-07-15  272412481300040                 1   105   909370001   \n",
       "2 2020-07-15  272412481300040                 1   105   751471001   \n",
       "3 2020-07-15  272412481300040                 1   105   918522001   \n",
       "4 2020-07-15  272412481300040                 1   105   448509014   \n",
       "\n",
       "   weekly_purchase_count  weekly_popularity     price  \\\n",
       "0                    852        1236.875000  0.041535   \n",
       "1                    537        1190.500000  0.032640   \n",
       "2                    526        1173.253906  0.033423   \n",
       "3                    609        1064.500000  0.041435   \n",
       "4                    490        1004.210938  0.041630   \n",
       "\n",
       "   last_week_popularity_rank  \n",
       "0                          1  \n",
       "1                          2  \n",
       "2                          3  \n",
       "3                          4  \n",
       "4                          5  "
      ]
     },
     "execution_count": 53,
     "metadata": {},
     "output_type": "execute_result"
    }
   ],
   "source": [
    "unique_transactions = transactions \\\n",
    "    .groupby(['week', 'customer_id']) \\\n",
    "    .head(1) \\\n",
    "    .drop(columns=['article_id', 'price']) \\\n",
    "    .copy()\n",
    "candidates_most_popular = pd.merge(\n",
    "    unique_transactions,\n",
    "    popular_articles_previous_week,\n",
    "    on='week',\n",
    ")\n",
    "test_set_transactions = unique_transactions.drop_duplicates('customer_id').reset_index(drop=True)\n",
    "test_set_transactions.week = test_week\n",
    "candidates_most_popular_test_week = pd.merge(\n",
    "    test_set_transactions,\n",
    "    popular_articles_previous_week,\n",
    "    on='week'\n",
    ")\n",
    "candidates_most_popular_test_week.head()"
   ]
  },
  {
   "cell_type": "code",
   "execution_count": 54,
   "metadata": {},
   "outputs": [
    {
     "data": {
      "text/html": [
       "<div>\n",
       "<style scoped>\n",
       "    .dataframe tbody tr th:only-of-type {\n",
       "        vertical-align: middle;\n",
       "    }\n",
       "\n",
       "    .dataframe tbody tr th {\n",
       "        vertical-align: top;\n",
       "    }\n",
       "\n",
       "    .dataframe thead th {\n",
       "        text-align: right;\n",
       "    }\n",
       "</style>\n",
       "<table border=\"1\" class=\"dataframe\">\n",
       "  <thead>\n",
       "    <tr style=\"text-align: right;\">\n",
       "      <th></th>\n",
       "      <th>t_dat</th>\n",
       "      <th>customer_id</th>\n",
       "      <th>sales_channel_id</th>\n",
       "      <th>week</th>\n",
       "      <th>article_id</th>\n",
       "      <th>price</th>\n",
       "    </tr>\n",
       "  </thead>\n",
       "  <tbody>\n",
       "    <tr>\n",
       "      <th>0</th>\n",
       "      <td>2020-07-26</td>\n",
       "      <td>11268931311315930183</td>\n",
       "      <td>2</td>\n",
       "      <td>96</td>\n",
       "      <td>760084003</td>\n",
       "      <td>0.025094</td>\n",
       "    </tr>\n",
       "    <tr>\n",
       "      <th>1</th>\n",
       "      <td>2020-07-26</td>\n",
       "      <td>11268931311315930183</td>\n",
       "      <td>2</td>\n",
       "      <td>96</td>\n",
       "      <td>866731001</td>\n",
       "      <td>0.024919</td>\n",
       "    </tr>\n",
       "    <tr>\n",
       "      <th>2</th>\n",
       "      <td>2020-07-26</td>\n",
       "      <td>11268931311315930183</td>\n",
       "      <td>2</td>\n",
       "      <td>96</td>\n",
       "      <td>600886001</td>\n",
       "      <td>0.022980</td>\n",
       "    </tr>\n",
       "    <tr>\n",
       "      <th>3</th>\n",
       "      <td>2020-07-26</td>\n",
       "      <td>11268931311315930183</td>\n",
       "      <td>2</td>\n",
       "      <td>96</td>\n",
       "      <td>706016001</td>\n",
       "      <td>0.033197</td>\n",
       "    </tr>\n",
       "    <tr>\n",
       "      <th>4</th>\n",
       "      <td>2020-07-26</td>\n",
       "      <td>11268931311315930183</td>\n",
       "      <td>2</td>\n",
       "      <td>96</td>\n",
       "      <td>372860002</td>\n",
       "      <td>0.013193</td>\n",
       "    </tr>\n",
       "  </tbody>\n",
       "</table>\n",
       "</div>"
      ],
      "text/plain": [
       "       t_dat           customer_id  sales_channel_id  week  article_id  \\\n",
       "0 2020-07-26  11268931311315930183                 2    96   760084003   \n",
       "1 2020-07-26  11268931311315930183                 2    96   866731001   \n",
       "2 2020-07-26  11268931311315930183                 2    96   600886001   \n",
       "3 2020-07-26  11268931311315930183                 2    96   706016001   \n",
       "4 2020-07-26  11268931311315930183                 2    96   372860002   \n",
       "\n",
       "      price  \n",
       "0  0.025094  \n",
       "1  0.024919  \n",
       "2  0.022980  \n",
       "3  0.033197  \n",
       "4  0.013193  "
      ]
     },
     "execution_count": 54,
     "metadata": {},
     "output_type": "execute_result"
    }
   ],
   "source": [
    "candidates_most_popular = pd.concat([candidates_most_popular, candidates_most_popular_test_week])\n",
    "candidates_most_popular.drop(columns=['weekly_purchase_count', 'weekly_popularity', 'last_week_popularity_rank'], inplace=True)\n",
    "candidates_most_popular.head()"
   ]
  },
  {
   "cell_type": "markdown",
   "metadata": {},
   "source": [
    "## 5. Combining transactions and candidates / negative examples"
   ]
  },
  {
   "cell_type": "markdown",
   "metadata": {},
   "source": [
    "**Note:** When combining the transactions with the candidates, in this notebook we present two ways of combinations.\n",
    "\n",
    "      1. Candidates with the highest confidence score.\n",
    "      2. Last week besteller popularity rank with the most popular items.\n",
    "\n",
    "As there are many algorithms to test out, based on the previous experiments, only the second one generated the best results. The procedure to follow the first one will be the same."
   ]
  },
  {
   "cell_type": "code",
   "execution_count": 55,
   "metadata": {
    "colab": {
     "base_uri": "https://localhost:8080/"
    },
    "id": "TIJKmn-7d0s7",
    "outputId": "3a7084d4-6604-4e99-d258-0eb58e2a0ff4"
   },
   "outputs": [
    {
     "name": "stderr",
     "output_type": "stream",
     "text": [
      "/opt/conda/lib/python3.7/site-packages/ipykernel_launcher.py:1: SettingWithCopyWarning: \n",
      "A value is trying to be set on a copy of a slice from a DataFrame.\n",
      "Try using .loc[row_indexer,col_indexer] = value instead\n",
      "\n",
      "See the caveats in the documentation: https://pandas.pydata.org/pandas-docs/stable/user_guide/indexing.html#returning-a-view-versus-a-copy\n",
      "  \"\"\"Entry point for launching an IPython kernel.\n"
     ]
    },
    {
     "data": {
      "text/plain": [
       "0.06700912511083817"
      ]
     },
     "execution_count": 55,
     "metadata": {},
     "output_type": "execute_result"
    }
   ],
   "source": [
    "transactions['purchased'] = 1\n",
    "#data = pd.concat([transactions, candidates_last_purchase, candidates_similar_items])\n",
    "data = pd.concat([transactions, candidates_last_purchase, candidates_bestsellers, candidates_most_popular])\n",
    "data.purchased.fillna(0, inplace=True)\n",
    "\n",
    "data.purchased.mean()"
   ]
  },
  {
   "cell_type": "code",
   "execution_count": 56,
   "metadata": {
    "id": "VDRbRNQ4e9WU"
   },
   "outputs": [],
   "source": [
    "data.drop_duplicates(['customer_id', 'article_id', 'week'], inplace=True)"
   ]
  },
  {
   "cell_type": "markdown",
   "metadata": {},
   "source": [
    "### 5.1 Adding besteller information"
   ]
  },
  {
   "cell_type": "code",
   "execution_count": 57,
   "metadata": {
    "id": "cjguFPE7fAGZ"
   },
   "outputs": [],
   "source": [
    "data = pd.merge(\n",
    "    data,\n",
    "    bestsellers_previous_week[['week', 'article_id', 'bestseller_rank']],\n",
    "    on=['week', 'article_id'],\n",
    "    how='left'\n",
    ")\n",
    "data = data[data.week != data.week.min()]"
   ]
  },
  {
   "cell_type": "markdown",
   "metadata": {},
   "source": [
    "### 5.2 Adding AR (SR if we run SR) items information"
   ]
  },
  {
   "cell_type": "code",
   "execution_count": 58,
   "metadata": {
    "id": "jQMei-jpfEwG"
   },
   "outputs": [],
   "source": [
    "data = pd.merge(\n",
    "    data, \n",
    "    sr_items[['customer_id', 'article_id', 'sr_prediction']], \n",
    "    on=['customer_id', 'article_id'], \n",
    "    how='left'\n",
    ")"
   ]
  },
  {
   "cell_type": "markdown",
   "metadata": {},
   "source": [
    "### 5.3 Adding popularity information"
   ]
  },
  {
   "cell_type": "code",
   "execution_count": 59,
   "metadata": {
    "id": "Il6a4cKPfITs"
   },
   "outputs": [],
   "source": [
    "data = pd.merge(\n",
    "    data,\n",
    "    popular_articles_previous_week[['week', 'article_id', 'weekly_purchase_count', 'weekly_popularity', 'last_week_popularity_rank']],\n",
    "    on=['week', 'article_id'],\n",
    "    how='left'\n",
    ")"
   ]
  },
  {
   "cell_type": "code",
   "execution_count": 60,
   "metadata": {
    "colab": {
     "base_uri": "https://localhost:8080/",
     "height": 386
    },
    "id": "3EMpxU_FfOkM",
    "outputId": "9f85767a-c2ae-4d59-c8d0-d738ebd29ce2"
   },
   "outputs": [
    {
     "data": {
      "text/html": [
       "<div>\n",
       "<style scoped>\n",
       "    .dataframe tbody tr th:only-of-type {\n",
       "        vertical-align: middle;\n",
       "    }\n",
       "\n",
       "    .dataframe tbody tr th {\n",
       "        vertical-align: top;\n",
       "    }\n",
       "\n",
       "    .dataframe thead th {\n",
       "        text-align: right;\n",
       "    }\n",
       "</style>\n",
       "<table border=\"1\" class=\"dataframe\">\n",
       "  <thead>\n",
       "    <tr style=\"text-align: right;\">\n",
       "      <th></th>\n",
       "      <th>t_dat</th>\n",
       "      <th>customer_id</th>\n",
       "      <th>article_id</th>\n",
       "      <th>price</th>\n",
       "      <th>sales_channel_id</th>\n",
       "      <th>week</th>\n",
       "      <th>purchased</th>\n",
       "      <th>bestseller_rank</th>\n",
       "      <th>sr_prediction</th>\n",
       "      <th>weekly_purchase_count</th>\n",
       "      <th>...</th>\n",
       "      <th>section_name</th>\n",
       "      <th>garment_group_no</th>\n",
       "      <th>garment_group_name</th>\n",
       "      <th>detail_desc</th>\n",
       "      <th>FN</th>\n",
       "      <th>Active</th>\n",
       "      <th>club_member_status</th>\n",
       "      <th>fashion_news_frequency</th>\n",
       "      <th>age</th>\n",
       "      <th>postal_code</th>\n",
       "    </tr>\n",
       "  </thead>\n",
       "  <tbody>\n",
       "    <tr>\n",
       "      <th>0</th>\n",
       "      <td>2020-07-26</td>\n",
       "      <td>11268931311315930183</td>\n",
       "      <td>624486064</td>\n",
       "      <td>0.013542</td>\n",
       "      <td>2</td>\n",
       "      <td>96</td>\n",
       "      <td>1.0</td>\n",
       "      <td>13.0</td>\n",
       "      <td>1.0</td>\n",
       "      <td>0.0</td>\n",
       "      <td>...</td>\n",
       "      <td>27</td>\n",
       "      <td>1002</td>\n",
       "      <td>2</td>\n",
       "      <td>86</td>\n",
       "      <td>-1</td>\n",
       "      <td>-1</td>\n",
       "      <td>0</td>\n",
       "      <td>0</td>\n",
       "      <td>29</td>\n",
       "      <td>22417</td>\n",
       "    </tr>\n",
       "    <tr>\n",
       "      <th>1</th>\n",
       "      <td>2020-07-26</td>\n",
       "      <td>11269630911187963830</td>\n",
       "      <td>854305001</td>\n",
       "      <td>0.067780</td>\n",
       "      <td>2</td>\n",
       "      <td>96</td>\n",
       "      <td>1.0</td>\n",
       "      <td>13.0</td>\n",
       "      <td>1.0</td>\n",
       "      <td>0.0</td>\n",
       "      <td>...</td>\n",
       "      <td>20</td>\n",
       "      <td>1020</td>\n",
       "      <td>7</td>\n",
       "      <td>15975</td>\n",
       "      <td>-1</td>\n",
       "      <td>-1</td>\n",
       "      <td>0</td>\n",
       "      <td>0</td>\n",
       "      <td>51</td>\n",
       "      <td>22034</td>\n",
       "    </tr>\n",
       "    <tr>\n",
       "      <th>2</th>\n",
       "      <td>2020-07-26</td>\n",
       "      <td>11261591757361345977</td>\n",
       "      <td>720504004</td>\n",
       "      <td>0.033881</td>\n",
       "      <td>2</td>\n",
       "      <td>96</td>\n",
       "      <td>1.0</td>\n",
       "      <td>13.0</td>\n",
       "      <td>1.0</td>\n",
       "      <td>0.0</td>\n",
       "      <td>...</td>\n",
       "      <td>46</td>\n",
       "      <td>1016</td>\n",
       "      <td>11</td>\n",
       "      <td>95</td>\n",
       "      <td>1</td>\n",
       "      <td>1</td>\n",
       "      <td>0</td>\n",
       "      <td>1</td>\n",
       "      <td>52</td>\n",
       "      <td>185988</td>\n",
       "    </tr>\n",
       "    <tr>\n",
       "      <th>3</th>\n",
       "      <td>2020-07-26</td>\n",
       "      <td>11275517746704404193</td>\n",
       "      <td>816908001</td>\n",
       "      <td>0.033881</td>\n",
       "      <td>2</td>\n",
       "      <td>96</td>\n",
       "      <td>1.0</td>\n",
       "      <td>13.0</td>\n",
       "      <td>1.0</td>\n",
       "      <td>0.0</td>\n",
       "      <td>...</td>\n",
       "      <td>37</td>\n",
       "      <td>1016</td>\n",
       "      <td>11</td>\n",
       "      <td>23357</td>\n",
       "      <td>1</td>\n",
       "      <td>1</td>\n",
       "      <td>0</td>\n",
       "      <td>1</td>\n",
       "      <td>54</td>\n",
       "      <td>198</td>\n",
       "    </tr>\n",
       "    <tr>\n",
       "      <th>4</th>\n",
       "      <td>2020-07-26</td>\n",
       "      <td>11275517746704404193</td>\n",
       "      <td>825533001</td>\n",
       "      <td>0.024390</td>\n",
       "      <td>2</td>\n",
       "      <td>96</td>\n",
       "      <td>1.0</td>\n",
       "      <td>13.0</td>\n",
       "      <td>1.0</td>\n",
       "      <td>0.0</td>\n",
       "      <td>...</td>\n",
       "      <td>37</td>\n",
       "      <td>1016</td>\n",
       "      <td>11</td>\n",
       "      <td>25571</td>\n",
       "      <td>1</td>\n",
       "      <td>1</td>\n",
       "      <td>0</td>\n",
       "      <td>1</td>\n",
       "      <td>54</td>\n",
       "      <td>198</td>\n",
       "    </tr>\n",
       "  </tbody>\n",
       "</table>\n",
       "<p>5 rows × 42 columns</p>\n",
       "</div>"
      ],
      "text/plain": [
       "       t_dat           customer_id  article_id     price  sales_channel_id  \\\n",
       "0 2020-07-26  11268931311315930183   624486064  0.013542                 2   \n",
       "1 2020-07-26  11269630911187963830   854305001  0.067780                 2   \n",
       "2 2020-07-26  11261591757361345977   720504004  0.033881                 2   \n",
       "3 2020-07-26  11275517746704404193   816908001  0.033881                 2   \n",
       "4 2020-07-26  11275517746704404193   825533001  0.024390                 2   \n",
       "\n",
       "   week  purchased  bestseller_rank  sr_prediction  weekly_purchase_count  \\\n",
       "0    96        1.0             13.0            1.0                    0.0   \n",
       "1    96        1.0             13.0            1.0                    0.0   \n",
       "2    96        1.0             13.0            1.0                    0.0   \n",
       "3    96        1.0             13.0            1.0                    0.0   \n",
       "4    96        1.0             13.0            1.0                    0.0   \n",
       "\n",
       "   ...  section_name  garment_group_no  garment_group_name  detail_desc  FN  \\\n",
       "0  ...            27              1002                   2           86  -1   \n",
       "1  ...            20              1020                   7        15975  -1   \n",
       "2  ...            46              1016                  11           95   1   \n",
       "3  ...            37              1016                  11        23357   1   \n",
       "4  ...            37              1016                  11        25571   1   \n",
       "\n",
       "   Active  club_member_status  fashion_news_frequency  age  postal_code  \n",
       "0      -1                   0                       0   29        22417  \n",
       "1      -1                   0                       0   51        22034  \n",
       "2       1                   0                       1   52       185988  \n",
       "3       1                   0                       1   54          198  \n",
       "4       1                   0                       1   54          198  \n",
       "\n",
       "[5 rows x 42 columns]"
      ]
     },
     "execution_count": 60,
     "metadata": {},
     "output_type": "execute_result"
    }
   ],
   "source": [
    "data = pd.merge(data, articles, on='article_id', how='left')\n",
    "data = pd.merge(data, customers, on='customer_id', how='left')\n",
    "\n",
    "data['weekly_purchase_count'].fillna(0, inplace=True)\n",
    "data['weekly_popularity'].fillna(0, inplace=True)\n",
    "data['sr_prediction'].fillna(data['purchased'], inplace=True)\n",
    "data['bestseller_rank'].fillna(data.bestseller_rank.max() + 1, inplace=True)\n",
    "data['last_week_popularity_rank'].fillna(data.last_week_popularity_rank.max() + 1, inplace=True)\n",
    "data.head()"
   ]
  },
  {
   "cell_type": "markdown",
   "metadata": {},
   "source": [
    "### 5.4 Preprocessing step"
   ]
  },
  {
   "cell_type": "code",
   "execution_count": 61,
   "metadata": {
    "id": "o1CntWfuhUL3"
   },
   "outputs": [],
   "source": [
    "from sklearn.preprocessing import StandardScaler, LabelEncoder\n",
    "scaler = StandardScaler()\n",
    "columns_to_scale = ['product_type_no', 'graphical_appearance_no', 'colour_group_code', 'perceived_colour_value_id',\n",
    "'perceived_colour_master_id', 'department_no', 'index_code',\n",
    "'index_group_no', 'section_no', 'garment_group_no', 'FN', 'Active',\n",
    "'club_member_status', 'fashion_news_frequency', 'age', 'postal_code', 'last_week_popularity_rank', 'sr_prediction']\n",
    "data[columns_to_scale] = scaler.fit_transform(data[columns_to_scale])\n",
    "data.sort_values(['week', 'customer_id'], inplace=True)\n",
    "data.reset_index(drop=True, inplace=True)\n",
    "train = data[data.week != test_week]\n",
    "test = data[data.week==test_week].drop_duplicates(['customer_id', 'article_id', 'sales_channel_id']).copy()\n",
    "train_baskets = train.groupby(['week', 'customer_id'])['article_id'].count().values\n",
    "columns_to_use = ['article_id', 'product_type_no', 'graphical_appearance_no', 'colour_group_code', 'perceived_colour_value_id',\n",
    "'perceived_colour_master_id', 'department_no', 'index_code',\n",
    "'index_group_no', 'section_no', 'garment_group_no', 'FN', 'Active',\n",
    "'club_member_status', 'fashion_news_frequency', 'age', 'postal_code', 'last_week_popularity_rank', 'sr_prediction']"
   ]
  },
  {
   "cell_type": "code",
   "execution_count": 62,
   "metadata": {
    "id": "q7tVrEkTlFJS"
   },
   "outputs": [],
   "source": [
    "train_X = train[columns_to_use]\n",
    "train_y = train['purchased']\n",
    "\n",
    "test_X = test[columns_to_use]"
   ]
  },
  {
   "cell_type": "markdown",
   "metadata": {},
   "source": [
    "## 6. Model Training"
   ]
  },
  {
   "cell_type": "code",
   "execution_count": 63,
   "metadata": {
    "id": "EyInvC5elNIw"
   },
   "outputs": [
    {
     "name": "stdout",
     "output_type": "stream",
     "text": [
      "[LightGBM] [Debug] Dataset::GetMultiBinFromSparseFeatures: sparse rate 0.858157\n",
      "[LightGBM] [Debug] Dataset::GetMultiBinFromAllFeatures: sparse rate 0.135498\n",
      "[LightGBM] [Debug] init for col-wise cost 0.413779 seconds, init for row-wise cost 0.845700 seconds\n",
      "[LightGBM] [Warning] Auto-choosing row-wise multi-threading, the overhead of testing was 0.644160 seconds.\n",
      "You can set `force_row_wise=true` to remove the overhead.\n",
      "And if memory is not enough, you can set `force_col_wise=true`.\n",
      "[LightGBM] [Debug] Using Dense Multi-Val Bin\n",
      "[LightGBM] [Info] Total Bins 1388\n",
      "[LightGBM] [Info] Number of data points in the train set: 18461334, number of used features: 19\n",
      "[LightGBM] [Debug] Trained a tree with leaves = 200 and depth = 16\n",
      "[LightGBM] [Debug] Trained a tree with leaves = 200 and depth = 14\n",
      "[LightGBM] [Debug] Trained a tree with leaves = 200 and depth = 15\n",
      "[LightGBM] [Debug] Trained a tree with leaves = 200 and depth = 16\n",
      "[LightGBM] [Debug] Trained a tree with leaves = 200 and depth = 15\n",
      "[LightGBM] [Debug] Trained a tree with leaves = 200 and depth = 16\n",
      "[LightGBM] [Debug] Trained a tree with leaves = 200 and depth = 17\n",
      "[LightGBM] [Debug] Trained a tree with leaves = 200 and depth = 15\n",
      "[LightGBM] [Debug] Trained a tree with leaves = 200 and depth = 15\n",
      "[LightGBM] [Debug] Trained a tree with leaves = 200 and depth = 17\n",
      "[LightGBM] [Debug] Trained a tree with leaves = 200 and depth = 19\n",
      "[LightGBM] [Debug] Trained a tree with leaves = 200 and depth = 17\n",
      "[LightGBM] [Debug] Trained a tree with leaves = 200 and depth = 18\n",
      "[LightGBM] [Debug] Trained a tree with leaves = 200 and depth = 18\n",
      "[LightGBM] [Debug] Trained a tree with leaves = 200 and depth = 15\n",
      "[LightGBM] [Debug] Trained a tree with leaves = 200 and depth = 18\n",
      "[LightGBM] [Debug] Trained a tree with leaves = 200 and depth = 15\n",
      "[LightGBM] [Debug] Trained a tree with leaves = 200 and depth = 19\n",
      "[LightGBM] [Debug] Trained a tree with leaves = 200 and depth = 17\n",
      "[LightGBM] [Debug] Trained a tree with leaves = 200 and depth = 21\n",
      "[LightGBM] [Debug] Trained a tree with leaves = 200 and depth = 17\n",
      "[LightGBM] [Debug] Trained a tree with leaves = 200 and depth = 18\n",
      "[LightGBM] [Debug] Trained a tree with leaves = 200 and depth = 16\n",
      "[LightGBM] [Debug] Trained a tree with leaves = 200 and depth = 17\n",
      "[LightGBM] [Debug] Trained a tree with leaves = 200 and depth = 17\n",
      "[LightGBM] [Debug] Trained a tree with leaves = 200 and depth = 26\n",
      "[LightGBM] [Debug] Trained a tree with leaves = 200 and depth = 20\n",
      "[LightGBM] [Debug] Trained a tree with leaves = 200 and depth = 19\n",
      "[LightGBM] [Debug] Trained a tree with leaves = 200 and depth = 17\n",
      "[LightGBM] [Debug] Trained a tree with leaves = 200 and depth = 16\n",
      "[LightGBM] [Debug] Trained a tree with leaves = 200 and depth = 19\n",
      "[LightGBM] [Debug] Trained a tree with leaves = 200 and depth = 19\n",
      "[LightGBM] [Debug] Trained a tree with leaves = 200 and depth = 19\n",
      "[LightGBM] [Debug] Trained a tree with leaves = 200 and depth = 17\n",
      "[LightGBM] [Debug] Trained a tree with leaves = 200 and depth = 19\n",
      "[LightGBM] [Debug] Trained a tree with leaves = 200 and depth = 17\n",
      "[LightGBM] [Debug] Trained a tree with leaves = 200 and depth = 17\n",
      "[LightGBM] [Debug] Trained a tree with leaves = 200 and depth = 19\n",
      "[LightGBM] [Debug] Trained a tree with leaves = 200 and depth = 19\n",
      "[LightGBM] [Debug] Trained a tree with leaves = 200 and depth = 21\n",
      "[LightGBM] [Debug] Trained a tree with leaves = 200 and depth = 18\n",
      "[LightGBM] [Debug] Trained a tree with leaves = 200 and depth = 19\n",
      "[LightGBM] [Debug] Trained a tree with leaves = 200 and depth = 21\n",
      "[LightGBM] [Debug] Trained a tree with leaves = 200 and depth = 18\n",
      "[LightGBM] [Debug] Trained a tree with leaves = 200 and depth = 16\n",
      "[LightGBM] [Debug] Trained a tree with leaves = 200 and depth = 19\n",
      "[LightGBM] [Debug] Trained a tree with leaves = 200 and depth = 18\n",
      "[LightGBM] [Debug] Trained a tree with leaves = 200 and depth = 20\n",
      "[LightGBM] [Debug] Trained a tree with leaves = 200 and depth = 19\n",
      "[LightGBM] [Debug] Trained a tree with leaves = 200 and depth = 18\n",
      "[LightGBM] [Debug] Trained a tree with leaves = 200 and depth = 17\n",
      "[LightGBM] [Debug] Trained a tree with leaves = 200 and depth = 20\n",
      "[LightGBM] [Debug] Trained a tree with leaves = 200 and depth = 22\n",
      "[LightGBM] [Debug] Trained a tree with leaves = 200 and depth = 17\n",
      "[LightGBM] [Debug] Trained a tree with leaves = 200 and depth = 22\n",
      "[LightGBM] [Debug] Trained a tree with leaves = 200 and depth = 18\n",
      "[LightGBM] [Debug] Trained a tree with leaves = 200 and depth = 21\n",
      "[LightGBM] [Debug] Trained a tree with leaves = 200 and depth = 22\n",
      "[LightGBM] [Debug] Trained a tree with leaves = 200 and depth = 14\n",
      "[LightGBM] [Debug] Trained a tree with leaves = 200 and depth = 19\n",
      "[LightGBM] [Debug] Trained a tree with leaves = 200 and depth = 18\n",
      "[LightGBM] [Debug] Trained a tree with leaves = 200 and depth = 18\n",
      "[LightGBM] [Debug] Trained a tree with leaves = 200 and depth = 20\n",
      "[LightGBM] [Debug] Trained a tree with leaves = 200 and depth = 20\n",
      "[LightGBM] [Debug] Trained a tree with leaves = 200 and depth = 21\n",
      "[LightGBM] [Debug] Trained a tree with leaves = 200 and depth = 17\n",
      "[LightGBM] [Debug] Trained a tree with leaves = 200 and depth = 20\n",
      "[LightGBM] [Debug] Trained a tree with leaves = 200 and depth = 18\n",
      "[LightGBM] [Debug] Trained a tree with leaves = 200 and depth = 23\n",
      "[LightGBM] [Debug] Trained a tree with leaves = 200 and depth = 19\n",
      "[LightGBM] [Debug] Trained a tree with leaves = 200 and depth = 17\n",
      "[LightGBM] [Debug] Trained a tree with leaves = 200 and depth = 17\n",
      "[LightGBM] [Debug] Trained a tree with leaves = 200 and depth = 20\n",
      "[LightGBM] [Debug] Trained a tree with leaves = 200 and depth = 17\n",
      "[LightGBM] [Debug] Trained a tree with leaves = 200 and depth = 19\n",
      "[LightGBM] [Debug] Trained a tree with leaves = 200 and depth = 19\n",
      "[LightGBM] [Debug] Trained a tree with leaves = 200 and depth = 19\n",
      "[LightGBM] [Debug] Trained a tree with leaves = 200 and depth = 17\n",
      "[LightGBM] [Debug] Trained a tree with leaves = 200 and depth = 18\n",
      "[LightGBM] [Debug] Trained a tree with leaves = 200 and depth = 20\n",
      "[LightGBM] [Debug] Trained a tree with leaves = 200 and depth = 19\n",
      "[LightGBM] [Debug] Trained a tree with leaves = 200 and depth = 22\n",
      "[LightGBM] [Debug] Trained a tree with leaves = 200 and depth = 18\n",
      "[LightGBM] [Debug] Trained a tree with leaves = 200 and depth = 19\n",
      "[LightGBM] [Debug] Trained a tree with leaves = 200 and depth = 21\n",
      "[LightGBM] [Debug] Trained a tree with leaves = 200 and depth = 17\n",
      "[LightGBM] [Debug] Trained a tree with leaves = 200 and depth = 19\n",
      "[LightGBM] [Debug] Trained a tree with leaves = 200 and depth = 21\n",
      "[LightGBM] [Debug] Trained a tree with leaves = 200 and depth = 20\n",
      "[LightGBM] [Debug] Trained a tree with leaves = 200 and depth = 20\n",
      "[LightGBM] [Debug] Trained a tree with leaves = 200 and depth = 18\n",
      "[LightGBM] [Debug] Trained a tree with leaves = 200 and depth = 23\n",
      "[LightGBM] [Debug] Trained a tree with leaves = 200 and depth = 20\n",
      "[LightGBM] [Debug] Trained a tree with leaves = 200 and depth = 19\n",
      "[LightGBM] [Debug] Trained a tree with leaves = 200 and depth = 18\n",
      "[LightGBM] [Debug] Trained a tree with leaves = 200 and depth = 19\n",
      "[LightGBM] [Debug] Trained a tree with leaves = 200 and depth = 20\n",
      "[LightGBM] [Debug] Trained a tree with leaves = 200 and depth = 20\n",
      "[LightGBM] [Debug] Trained a tree with leaves = 200 and depth = 21\n",
      "[LightGBM] [Debug] Trained a tree with leaves = 200 and depth = 21\n"
     ]
    }
   ],
   "source": [
    "from lightgbm.sklearn import LGBMRanker\n",
    "ranker = LGBMRanker(\n",
    "    objective=\"lambdarank\",\n",
    "    num_leaves=200,\n",
    "    metric=\"ndcg\",\n",
    "    boosting_type=\"dart\",\n",
    "    n_estimators=100,\n",
    "    importance_type='gain',\n",
    "    verbose=10,\n",
    ")\n",
    "\n",
    "ranker = ranker.fit(\n",
    "    train_X,\n",
    "    train_y,\n",
    "    group=train_baskets,\n",
    ")"
   ]
  },
  {
   "cell_type": "code",
   "execution_count": 64,
   "metadata": {
    "colab": {
     "base_uri": "https://localhost:8080/"
    },
    "id": "aTc8gBSXlTj_",
    "outputId": "915dae46-5d11-42c2-fe91-a8de11ee0305"
   },
   "outputs": [
    {
     "name": "stdout",
     "output_type": "stream",
     "text": [
      "sr_prediction 0.9922907190300218\n",
      "last_week_popularity_rank 0.0031548695490057044\n",
      "article_id 0.0010514141910338394\n",
      "department_no 0.0008443196881798013\n",
      "product_type_no 0.0006851708014688439\n",
      "colour_group_code 0.0003746481932520576\n",
      "garment_group_no 0.00029170530588920244\n",
      "section_no 0.0002901976691868278\n",
      "graphical_appearance_no 0.00022600056787867891\n",
      "perceived_colour_master_id 0.0002035718357024699\n",
      "postal_code 0.0001642853400688933\n",
      "age 0.0001488989738856507\n",
      "perceived_colour_value_id 0.00012873791485893928\n",
      "index_code 9.074981111667801e-05\n",
      "index_group_no 4.11595203075951e-05\n",
      "FN 4.865044445518244e-06\n",
      "Active 3.919402170443539e-06\n",
      "fashion_news_frequency 3.4755415916672246e-06\n",
      "club_member_status 1.291619935440677e-06\n"
     ]
    }
   ],
   "source": [
    "for i in ranker.feature_importances_.argsort()[::-1]:\n",
    "    print(columns_to_use[i], ranker.feature_importances_[i]/ranker.feature_importances_.sum())"
   ]
  },
  {
   "cell_type": "markdown",
   "metadata": {},
   "source": [
    "## 7. Calculate Predictions"
   ]
  },
  {
   "cell_type": "code",
   "execution_count": 65,
   "metadata": {
    "id": "Y5nA2BJwlnrT"
   },
   "outputs": [],
   "source": [
    "test['preds'] = ranker.predict(test_X)\n",
    "\n",
    "c_id2predicted_article_ids = test \\\n",
    "    .sort_values(['customer_id', 'preds'], ascending=False) \\\n",
    "    .groupby('customer_id')['article_id'].apply(list).to_dict()\n",
    "\n",
    "bestsellers_last_week = \\\n",
    "    bestsellers_previous_week[bestsellers_previous_week.week == bestsellers_previous_week.week.max()]['article_id'].tolist()"
   ]
  },
  {
   "cell_type": "markdown",
   "metadata": {},
   "source": [
    "## 8. Create submissions"
   ]
  },
  {
   "cell_type": "code",
   "execution_count": 151,
   "metadata": {
    "id": "yYL-Z_6RmxUn"
   },
   "outputs": [],
   "source": [
    "sub = pd.read_csv('sample_submission.csv')"
   ]
  },
  {
   "cell_type": "code",
   "execution_count": 152,
   "metadata": {
    "id": "WQvEDZcDnlUp"
   },
   "outputs": [],
   "source": [
    "preds = []\n",
    "for c_id in customer_hex_id_to_int(sub.customer_id):\n",
    "    predd = c_id2predicted_article_ids.get(c_id, [])\n",
    "    predd = predd + bestsellers_last_week\n",
    "    preds.append(predd[:12])"
   ]
  },
  {
   "cell_type": "code",
   "execution_count": 153,
   "metadata": {
    "id": "yFBfIQ2PoEmK"
   },
   "outputs": [],
   "source": [
    "preds = [' '.join(['0' + str(p) for p in ps]) for ps in preds]\n",
    "sub.prediction = preds"
   ]
  },
  {
   "cell_type": "code",
   "execution_count": 154,
   "metadata": {
    "id": "BbMZQRumoZDH"
   },
   "outputs": [],
   "source": [
    "sub.to_csv('submission_ar_ex_k100_ki_200.csv.gz', index=False)"
   ]
  },
  {
   "cell_type": "markdown",
   "metadata": {},
   "source": [
    "## 9. Evaluating the validation of the model"
   ]
  },
  {
   "cell_type": "code",
   "execution_count": 66,
   "metadata": {},
   "outputs": [],
   "source": [
    "from collections import defaultdict\n",
    "\n",
    "val_week_purchases_by_cust = defaultdict(list)\n",
    "\n",
    "val_week_purchases_by_cust.update(\n",
    "    transactions[transactions.week == transactions.week.max()] \\\n",
    "        .groupby('customer_id')['article_id'] \\\n",
    "        .apply(list) \\\n",
    "        .to_dict()\n",
    ")\n",
    "\n",
    "pd.to_pickle(dict(val_week_purchases_by_cust), 'val_week_purchases_by_cust.pkl')\n",
    "\n",
    "sample_sub = pd.read_csv('sample_submission.csv')\n",
    "valid_gt = customer_hex_id_to_int(sample_sub.customer_id) \\\n",
    "    .map(val_week_purchases_by_cust) \\\n",
    "    .apply(lambda xx: ' '.join('0' + str(x) for x in xx))\n",
    "\n",
    "sample_sub.prediction = valid_gt\n",
    "sample_sub.to_parquet('validation_ground_truth.parquet', index=False)"
   ]
  },
  {
   "cell_type": "code",
   "execution_count": 67,
   "metadata": {},
   "outputs": [],
   "source": [
    "from average_precision import apk\n",
    "\n",
    "def calculate_apk(list_of_preds, list_of_gts):\n",
    "    # for fast validation this can be changed to operate on dicts of {'cust_id_int': [art_id_int, ...]}\n",
    "    # using 'data/val_week_purchases_by_cust.pkl'\n",
    "    apks = []\n",
    "    for preds, gt in zip(list_of_preds, list_of_gts):\n",
    "        apks.append(apk(gt, preds, k=12))\n",
    "    return np.mean(apks)\n",
    "\n",
    "def eval_sub(sub_csv, skip_cust_with_no_purchases=True):\n",
    "    sub=pd.read_csv(sub_csv)\n",
    "    validation_set=pd.read_parquet('data/validation_ground_truth.parquet')\n",
    "\n",
    "    apks = []\n",
    "\n",
    "    no_purchases_pattern = []\n",
    "    for pred, gt in zip(sub.prediction.str.split(), validation_set.prediction.str.split()):\n",
    "        if skip_cust_with_no_purchases and (gt == no_purchases_pattern): continue\n",
    "        apks.append(apk(gt, pred, k=12))\n",
    "    return np.mean(apks)"
   ]
  },
  {
   "cell_type": "code",
   "execution_count": 68,
   "metadata": {
    "id": "EbqlPAJTob9s"
   },
   "outputs": [
    {
     "data": {
      "text/plain": [
       "0.046851296625409634"
      ]
     },
     "execution_count": 68,
     "metadata": {},
     "output_type": "execute_result"
    }
   ],
   "source": [
    "apks = []\n",
    "\n",
    "for c_id, gt in val_week_purchases_by_cust.items():\n",
    "    pred = c_id2predicted_article_ids.get(c_id, [])\n",
    "    pred = pred + bestsellers_last_week\n",
    "    apks.append(apk(gt, pred[:12]))\n",
    "\n",
    "np.mean(apks)"
   ]
  },
  {
   "cell_type": "code",
   "execution_count": 2,
   "metadata": {},
   "outputs": [],
   "source": [
    "\n",
    "\n",
    "#0.04646316466464862 - SR_EX, m=20, ki=500, best_seller\n",
    "#0.03983189892009947 - SR, m=100, sr_cand\n",
    "#0.04662638568461804 - SR, m=100, best_seller\n",
    "#0.03625735550211291 - AR, k=500, ar_cand\n",
    "#0.03984894802352050 - SR, m=20, sr_cand\n",
    "#0.035727969452068235- AR, k=100, ar_cand\n",
    "#0.04662715038646773 - SR, m=20, best_seller\n",
    "#0.04272341816934913 - AR, k=100, best_seller\n",
    "#0.04319576456946244 - AR, k=500, best_seller\n",
    "#0.03638221089133672 - AR_EXL, k=100, arcand\n",
    "#0.03728892873638925 - SR_EXL, m=30, arcand\n",
    "#0.026080221407136228 - AR_EXL, k=100, bestseller\n",
    "#0.03579298333440158 - AR_EXL, k=2000, arcand\n",
    "#0.04276218941101030 - AR_EX, k=100, ki=100\n",
    "#0.026645830162531175 - SR_EXL, m=30\n",
    "#0.04276007935901461 - AR_EX, k=100, ki=200\n",
    "#0.02667878279996387 - SR_EXL, m=100\n",
    "#0.04686452183462344 - SR_EX, k=100, m=100"
   ]
  },
  {
   "cell_type": "markdown",
   "metadata": {},
   "source": [
    "## 10. Plot of the MAP@12 validation scores for AR & SR (the most important ones to define the differences among the algorithms and )"
   ]
  },
  {
   "cell_type": "code",
   "execution_count": 161,
   "metadata": {},
   "outputs": [
    {
     "data": {
      "image/png": "[encoded data removed]",
      "text/plain": [
       "<Figure size 1400x500 with 1 Axes>"
      ]
     },
     "metadata": {},
     "output_type": "display_data"
    }
   ],
   "source": [
    "#https://www.geeksforgeeks.org/bar-plot-in-matplotlib/\n",
    "import numpy as np\n",
    "import matplotlib.pyplot as plt\n",
    "  \n",
    "#creating the dataset\n",
    "data = {'SR_EX_m20_ki500_b':0.046463, 'SR100_c':0.039831, 'SR100_b':0.046626,\n",
    "        'AR500_c':0.036257, 'AR500_b':0.043195, 'AR_EXL100_b':0.026080, 'SR_EXL30_b':0.026645,\n",
    "        'AR_EX_k100_ki100_b':0.042762}\n",
    "courses = list(data.keys())\n",
    "values = list(data.values())\n",
    "  \n",
    "fig = plt.figure(figsize = (14, 5))\n",
    " \n",
    "# creating the bar plot\n",
    "plt.bar(courses, values,\n",
    "        width = 0.4)\n",
    " \n",
    "plt.xlabel(\"AR & SR Algorithms\")\n",
    "plt.ylabel(\"MAP@12\")\n",
    "plt.title(\"MAP@12 Scores for Validation of AR & SR\")\n",
    "plt.show()"
   ]
  }
 ],
 "metadata": {
  "colab": {
   "collapsed_sections": [
    "VRKIhfOemoIm"
   ],
   "machine_shape": "hm",
   "provenance": []
  },
  "gpuClass": "standard",
  "kernelspec": {
   "display_name": "Python 3 (ipykernel) (Local)",
   "language": "python",
   "name": "local-python3"
  },
  "language_info": {
   "codemirror_mode": {
    "name": "ipython",
    "version": 3
   },
   "file_extension": ".py",
   "mimetype": "text/x-python",
   "name": "python",
   "nbconvert_exporter": "python",
   "pygments_lexer": "ipython3",
   "version": "3.7.12"
  },
  "vscode": {
   "interpreter": {
    "hash": "aee8b7b246df8f9039afb4144a1f6fd8d2ca17a180786b69acc140d282b71a49"
   }
  },
  "widgets": {
   "application/vnd.jupyter.widget-state+json": {
    "06e5eda478f2407bb21f6f5622f22521": {
     "model_module": "@jupyter-widgets/base",
     "model_module_version": "1.2.0",
     "model_name": "LayoutModel",
     "state": {
      "_model_module": "@jupyter-widgets/base",
      "_model_module_version": "1.2.0",
      "_model_name": "LayoutModel",
      "_view_count": null,
      "_view_module": "@jupyter-widgets/base",
      "_view_module_version": "1.2.0",
      "_view_name": "LayoutView",
      "align_content": null,
      "align_items": null,
      "align_self": null,
      "border": null,
      "bottom": null,
      "display": null,
      "flex": null,
      "flex_flow": null,
      "grid_area": null,
      "grid_auto_columns": null,
      "grid_auto_flow": null,
      "grid_auto_rows": null,
      "grid_column": null,
      "grid_gap": null,
      "grid_row": null,
      "grid_template_areas": null,
      "grid_template_columns": null,
      "grid_template_rows": null,
      "height": null,
      "justify_content": null,
      "justify_items": null,
      "left": null,
      "margin": null,
      "max_height": null,
      "max_width": null,
      "min_height": null,
      "min_width": null,
      "object_fit": null,
      "object_position": null,
      "order": null,
      "overflow": null,
      "overflow_x": null,
      "overflow_y": null,
      "padding": null,
      "right": null,
      "top": null,
      "visibility": null,
      "width": null
     }
    },
    "089202bbd0474151a2dd37c6aec68fc1": {
     "model_module": "@jupyter-widgets/controls",
     "model_module_version": "1.5.0",
     "model_name": "DescriptionStyleModel",
     "state": {
      "_model_module": "@jupyter-widgets/controls",
      "_model_module_version": "1.5.0",
      "_model_name": "DescriptionStyleModel",
      "_view_count": null,
      "_view_module": "@jupyter-widgets/base",
      "_view_module_version": "1.2.0",
      "_view_name": "StyleView",
      "description_width": ""
     }
    },
    "116e45741cb14e08972ba26f1a974b8e": {
     "model_module": "@jupyter-widgets/controls",
     "model_module_version": "1.5.0",
     "model_name": "ProgressStyleModel",
     "state": {
      "_model_module": "@jupyter-widgets/controls",
      "_model_module_version": "1.5.0",
      "_model_name": "ProgressStyleModel",
      "_view_count": null,
      "_view_module": "@jupyter-widgets/base",
      "_view_module_version": "1.2.0",
      "_view_name": "StyleView",
      "bar_color": null,
      "description_width": ""
     }
    },
    "2941c6f1da4c413fa7dfd1309670b924": {
     "model_module": "@jupyter-widgets/base",
     "model_module_version": "1.2.0",
     "model_name": "LayoutModel",
     "state": {
      "_model_module": "@jupyter-widgets/base",
      "_model_module_version": "1.2.0",
      "_model_name": "LayoutModel",
      "_view_count": null,
      "_view_module": "@jupyter-widgets/base",
      "_view_module_version": "1.2.0",
      "_view_name": "LayoutView",
      "align_content": null,
      "align_items": null,
      "align_self": null,
      "border": null,
      "bottom": null,
      "display": null,
      "flex": null,
      "flex_flow": null,
      "grid_area": null,
      "grid_auto_columns": null,
      "grid_auto_flow": null,
      "grid_auto_rows": null,
      "grid_column": null,
      "grid_gap": null,
      "grid_row": null,
      "grid_template_areas": null,
      "grid_template_columns": null,
      "grid_template_rows": null,
      "height": null,
      "justify_content": null,
      "justify_items": null,
      "left": null,
      "margin": null,
      "max_height": null,
      "max_width": null,
      "min_height": null,
      "min_width": null,
      "object_fit": null,
      "object_position": null,
      "order": null,
      "overflow": null,
      "overflow_x": null,
      "overflow_y": null,
      "padding": null,
      "right": null,
      "top": null,
      "visibility": null,
      "width": null
     }
    },
    "2b08a43fff0e42398bd56cebf19de4bc": {
     "model_module": "@jupyter-widgets/controls",
     "model_module_version": "1.5.0",
     "model_name": "DescriptionStyleModel",
     "state": {
      "_model_module": "@jupyter-widgets/controls",
      "_model_module_version": "1.5.0",
      "_model_name": "DescriptionStyleModel",
      "_view_count": null,
      "_view_module": "@jupyter-widgets/base",
      "_view_module_version": "1.2.0",
      "_view_name": "StyleView",
      "description_width": ""
     }
    },
    "3203c781b40445ef8b2648705f535c0d": {
     "model_module": "@jupyter-widgets/controls",
     "model_module_version": "1.5.0",
     "model_name": "HTMLModel",
     "state": {
      "_dom_classes": [],
      "_model_module": "@jupyter-widgets/controls",
      "_model_module_version": "1.5.0",
      "_model_name": "HTMLModel",
      "_view_count": null,
      "_view_module": "@jupyter-widgets/controls",
      "_view_module_version": "1.5.0",
      "_view_name": "HTMLView",
      "description": "",
      "description_tooltip": null,
      "layout": "IPY_MODEL_06e5eda478f2407bb21f6f5622f22521",
      "placeholder": "​",
      "style": "IPY_MODEL_9018c9198b6f45bbbcdbb69a57770f8f",
      "value": " 1595800/1595800 [00:06&lt;00:00, 251703.00it/s]"
     }
    },
    "524d82c19c3a49cbbe8adde3c63f4fd8": {
     "model_module": "@jupyter-widgets/controls",
     "model_module_version": "1.5.0",
     "model_name": "HTMLModel",
     "state": {
      "_dom_classes": [],
      "_model_module": "@jupyter-widgets/controls",
      "_model_module_version": "1.5.0",
      "_model_name": "HTMLModel",
      "_view_count": null,
      "_view_module": "@jupyter-widgets/controls",
      "_view_module_version": "1.5.0",
      "_view_name": "HTMLView",
      "description": "",
      "description_tooltip": null,
      "layout": "IPY_MODEL_f11958ae10bf4802844b033449df3691",
      "placeholder": "​",
      "style": "IPY_MODEL_8adefda711d948bf927d6069507ae0fa",
      "value": " 1595800/1595800 [00:06&lt;00:00, 263610.25it/s]"
     }
    },
    "566762b7890a446c962bbf4556f1e802": {
     "model_module": "@jupyter-widgets/controls",
     "model_module_version": "1.5.0",
     "model_name": "HBoxModel",
     "state": {
      "_dom_classes": [],
      "_model_module": "@jupyter-widgets/controls",
      "_model_module_version": "1.5.0",
      "_model_name": "HBoxModel",
      "_view_count": null,
      "_view_module": "@jupyter-widgets/controls",
      "_view_module_version": "1.5.0",
      "_view_name": "HBoxView",
      "box_style": "",
      "children": [
       "IPY_MODEL_a477ef18f5644c728ed0d6b31b0b0987",
       "IPY_MODEL_9e8a51abd9cf465bab2611ef093324c5",
       "IPY_MODEL_3203c781b40445ef8b2648705f535c0d"
      ],
      "layout": "IPY_MODEL_8d52f7d4670942a2bdfce98952069161"
     }
    },
    "70ca32fc20b54fd5b0f12338d2945bef": {
     "model_module": "@jupyter-widgets/controls",
     "model_module_version": "1.5.0",
     "model_name": "HBoxModel",
     "state": {
      "_dom_classes": [],
      "_model_module": "@jupyter-widgets/controls",
      "_model_module_version": "1.5.0",
      "_model_name": "HBoxModel",
      "_view_count": null,
      "_view_module": "@jupyter-widgets/controls",
      "_view_module_version": "1.5.0",
      "_view_name": "HBoxView",
      "box_style": "",
      "children": [
       "IPY_MODEL_9dee0c5f1d11450682275e398cb93c40",
       "IPY_MODEL_83eff4131aca47afa915e6ea3235f5bc",
       "IPY_MODEL_524d82c19c3a49cbbe8adde3c63f4fd8"
      ],
      "layout": "IPY_MODEL_cfef6896aad74be08f3af96823549e91"
     }
    },
    "83eff4131aca47afa915e6ea3235f5bc": {
     "model_module": "@jupyter-widgets/controls",
     "model_module_version": "1.5.0",
     "model_name": "FloatProgressModel",
     "state": {
      "_dom_classes": [],
      "_model_module": "@jupyter-widgets/controls",
      "_model_module_version": "1.5.0",
      "_model_name": "FloatProgressModel",
      "_view_count": null,
      "_view_module": "@jupyter-widgets/controls",
      "_view_module_version": "1.5.0",
      "_view_name": "ProgressView",
      "bar_style": "success",
      "description": "",
      "description_tooltip": null,
      "layout": "IPY_MODEL_f96f7b5403a14ba9a7a6976ffc475f5f",
      "max": 1595800,
      "min": 0,
      "orientation": "horizontal",
      "style": "IPY_MODEL_e071aceaa47b4a5aba3dcd27bc8f4038",
      "value": 1595800
     }
    },
    "8adefda711d948bf927d6069507ae0fa": {
     "model_module": "@jupyter-widgets/controls",
     "model_module_version": "1.5.0",
     "model_name": "DescriptionStyleModel",
     "state": {
      "_model_module": "@jupyter-widgets/controls",
      "_model_module_version": "1.5.0",
      "_model_name": "DescriptionStyleModel",
      "_view_count": null,
      "_view_module": "@jupyter-widgets/base",
      "_view_module_version": "1.2.0",
      "_view_name": "StyleView",
      "description_width": ""
     }
    },
    "8d52f7d4670942a2bdfce98952069161": {
     "model_module": "@jupyter-widgets/base",
     "model_module_version": "1.2.0",
     "model_name": "LayoutModel",
     "state": {
      "_model_module": "@jupyter-widgets/base",
      "_model_module_version": "1.2.0",
      "_model_name": "LayoutModel",
      "_view_count": null,
      "_view_module": "@jupyter-widgets/base",
      "_view_module_version": "1.2.0",
      "_view_name": "LayoutView",
      "align_content": null,
      "align_items": null,
      "align_self": null,
      "border": null,
      "bottom": null,
      "display": null,
      "flex": null,
      "flex_flow": null,
      "grid_area": null,
      "grid_auto_columns": null,
      "grid_auto_flow": null,
      "grid_auto_rows": null,
      "grid_column": null,
      "grid_gap": null,
      "grid_row": null,
      "grid_template_areas": null,
      "grid_template_columns": null,
      "grid_template_rows": null,
      "height": null,
      "justify_content": null,
      "justify_items": null,
      "left": null,
      "margin": null,
      "max_height": null,
      "max_width": null,
      "min_height": null,
      "min_width": null,
      "object_fit": null,
      "object_position": null,
      "order": null,
      "overflow": null,
      "overflow_x": null,
      "overflow_y": null,
      "padding": null,
      "right": null,
      "top": null,
      "visibility": null,
      "width": null
     }
    },
    "9018c9198b6f45bbbcdbb69a57770f8f": {
     "model_module": "@jupyter-widgets/controls",
     "model_module_version": "1.5.0",
     "model_name": "DescriptionStyleModel",
     "state": {
      "_model_module": "@jupyter-widgets/controls",
      "_model_module_version": "1.5.0",
      "_model_name": "DescriptionStyleModel",
      "_view_count": null,
      "_view_module": "@jupyter-widgets/base",
      "_view_module_version": "1.2.0",
      "_view_name": "StyleView",
      "description_width": ""
     }
    },
    "9dee0c5f1d11450682275e398cb93c40": {
     "model_module": "@jupyter-widgets/controls",
     "model_module_version": "1.5.0",
     "model_name": "HTMLModel",
     "state": {
      "_dom_classes": [],
      "_model_module": "@jupyter-widgets/controls",
      "_model_module_version": "1.5.0",
      "_model_name": "HTMLModel",
      "_view_count": null,
      "_view_module": "@jupyter-widgets/controls",
      "_view_module_version": "1.5.0",
      "_view_name": "HTMLView",
      "description": "",
      "description_tooltip": null,
      "layout": "IPY_MODEL_fbc00df17afb40879f732193542fb529",
      "placeholder": "​",
      "style": "IPY_MODEL_089202bbd0474151a2dd37c6aec68fc1",
      "value": "100%"
     }
    },
    "9e8a51abd9cf465bab2611ef093324c5": {
     "model_module": "@jupyter-widgets/controls",
     "model_module_version": "1.5.0",
     "model_name": "FloatProgressModel",
     "state": {
      "_dom_classes": [],
      "_model_module": "@jupyter-widgets/controls",
      "_model_module_version": "1.5.0",
      "_model_name": "FloatProgressModel",
      "_view_count": null,
      "_view_module": "@jupyter-widgets/controls",
      "_view_module_version": "1.5.0",
      "_view_name": "ProgressView",
      "bar_style": "success",
      "description": "",
      "description_tooltip": null,
      "layout": "IPY_MODEL_c74c7352ab69480ebf69b6c186679dad",
      "max": 1595800,
      "min": 0,
      "orientation": "horizontal",
      "style": "IPY_MODEL_116e45741cb14e08972ba26f1a974b8e",
      "value": 1595800
     }
    },
    "a477ef18f5644c728ed0d6b31b0b0987": {
     "model_module": "@jupyter-widgets/controls",
     "model_module_version": "1.5.0",
     "model_name": "HTMLModel",
     "state": {
      "_dom_classes": [],
      "_model_module": "@jupyter-widgets/controls",
      "_model_module_version": "1.5.0",
      "_model_name": "HTMLModel",
      "_view_count": null,
      "_view_module": "@jupyter-widgets/controls",
      "_view_module_version": "1.5.0",
      "_view_name": "HTMLView",
      "description": "",
      "description_tooltip": null,
      "layout": "IPY_MODEL_2941c6f1da4c413fa7dfd1309670b924",
      "placeholder": "​",
      "style": "IPY_MODEL_2b08a43fff0e42398bd56cebf19de4bc",
      "value": "100%"
     }
    },
    "c74c7352ab69480ebf69b6c186679dad": {
     "model_module": "@jupyter-widgets/base",
     "model_module_version": "1.2.0",
     "model_name": "LayoutModel",
     "state": {
      "_model_module": "@jupyter-widgets/base",
      "_model_module_version": "1.2.0",
      "_model_name": "LayoutModel",
      "_view_count": null,
      "_view_module": "@jupyter-widgets/base",
      "_view_module_version": "1.2.0",
      "_view_name": "LayoutView",
      "align_content": null,
      "align_items": null,
      "align_self": null,
      "border": null,
      "bottom": null,
      "display": null,
      "flex": null,
      "flex_flow": null,
      "grid_area": null,
      "grid_auto_columns": null,
      "grid_auto_flow": null,
      "grid_auto_rows": null,
      "grid_column": null,
      "grid_gap": null,
      "grid_row": null,
      "grid_template_areas": null,
      "grid_template_columns": null,
      "grid_template_rows": null,
      "height": null,
      "justify_content": null,
      "justify_items": null,
      "left": null,
      "margin": null,
      "max_height": null,
      "max_width": null,
      "min_height": null,
      "min_width": null,
      "object_fit": null,
      "object_position": null,
      "order": null,
      "overflow": null,
      "overflow_x": null,
      "overflow_y": null,
      "padding": null,
      "right": null,
      "top": null,
      "visibility": null,
      "width": null
     }
    },
    "cfef6896aad74be08f3af96823549e91": {
     "model_module": "@jupyter-widgets/base",
     "model_module_version": "1.2.0",
     "model_name": "LayoutModel",
     "state": {
      "_model_module": "@jupyter-widgets/base",
      "_model_module_version": "1.2.0",
      "_model_name": "LayoutModel",
      "_view_count": null,
      "_view_module": "@jupyter-widgets/base",
      "_view_module_version": "1.2.0",
      "_view_name": "LayoutView",
      "align_content": null,
      "align_items": null,
      "align_self": null,
      "border": null,
      "bottom": null,
      "display": null,
      "flex": null,
      "flex_flow": null,
      "grid_area": null,
      "grid_auto_columns": null,
      "grid_auto_flow": null,
      "grid_auto_rows": null,
      "grid_column": null,
      "grid_gap": null,
      "grid_row": null,
      "grid_template_areas": null,
      "grid_template_columns": null,
      "grid_template_rows": null,
      "height": null,
      "justify_content": null,
      "justify_items": null,
      "left": null,
      "margin": null,
      "max_height": null,
      "max_width": null,
      "min_height": null,
      "min_width": null,
      "object_fit": null,
      "object_position": null,
      "order": null,
      "overflow": null,
      "overflow_x": null,
      "overflow_y": null,
      "padding": null,
      "right": null,
      "top": null,
      "visibility": null,
      "width": null
     }
    },
    "e071aceaa47b4a5aba3dcd27bc8f4038": {
     "model_module": "@jupyter-widgets/controls",
     "model_module_version": "1.5.0",
     "model_name": "ProgressStyleModel",
     "state": {
      "_model_module": "@jupyter-widgets/controls",
      "_model_module_version": "1.5.0",
      "_model_name": "ProgressStyleModel",
      "_view_count": null,
      "_view_module": "@jupyter-widgets/base",
      "_view_module_version": "1.2.0",
      "_view_name": "StyleView",
      "bar_color": null,
      "description_width": ""
     }
    },
    "f11958ae10bf4802844b033449df3691": {
     "model_module": "@jupyter-widgets/base",
     "model_module_version": "1.2.0",
     "model_name": "LayoutModel",
     "state": {
      "_model_module": "@jupyter-widgets/base",
      "_model_module_version": "1.2.0",
      "_model_name": "LayoutModel",
      "_view_count": null,
      "_view_module": "@jupyter-widgets/base",
      "_view_module_version": "1.2.0",
      "_view_name": "LayoutView",
      "align_content": null,
      "align_items": null,
      "align_self": null,
      "border": null,
      "bottom": null,
      "display": null,
      "flex": null,
      "flex_flow": null,
      "grid_area": null,
      "grid_auto_columns": null,
      "grid_auto_flow": null,
      "grid_auto_rows": null,
      "grid_column": null,
      "grid_gap": null,
      "grid_row": null,
      "grid_template_areas": null,
      "grid_template_columns": null,
      "grid_template_rows": null,
      "height": null,
      "justify_content": null,
      "justify_items": null,
      "left": null,
      "margin": null,
      "max_height": null,
      "max_width": null,
      "min_height": null,
      "min_width": null,
      "object_fit": null,
      "object_position": null,
      "order": null,
      "overflow": null,
      "overflow_x": null,
      "overflow_y": null,
      "padding": null,
      "right": null,
      "top": null,
      "visibility": null,
      "width": null
     }
    },
    "f96f7b5403a14ba9a7a6976ffc475f5f": {
     "model_module": "@jupyter-widgets/base",
     "model_module_version": "1.2.0",
     "model_name": "LayoutModel",
     "state": {
      "_model_module": "@jupyter-widgets/base",
      "_model_module_version": "1.2.0",
      "_model_name": "LayoutModel",
      "_view_count": null,
      "_view_module": "@jupyter-widgets/base",
      "_view_module_version": "1.2.0",
      "_view_name": "LayoutView",
      "align_content": null,
      "align_items": null,
      "align_self": null,
      "border": null,
      "bottom": null,
      "display": null,
      "flex": null,
      "flex_flow": null,
      "grid_area": null,
      "grid_auto_columns": null,
      "grid_auto_flow": null,
      "grid_auto_rows": null,
      "grid_column": null,
      "grid_gap": null,
      "grid_row": null,
      "grid_template_areas": null,
      "grid_template_columns": null,
      "grid_template_rows": null,
      "height": null,
      "justify_content": null,
      "justify_items": null,
      "left": null,
      "margin": null,
      "max_height": null,
      "max_width": null,
      "min_height": null,
      "min_width": null,
      "object_fit": null,
      "object_position": null,
      "order": null,
      "overflow": null,
      "overflow_x": null,
      "overflow_y": null,
      "padding": null,
      "right": null,
      "top": null,
      "visibility": null,
      "width": null
     }
    },
    "fbc00df17afb40879f732193542fb529": {
     "model_module": "@jupyter-widgets/base",
     "model_module_version": "1.2.0",
     "model_name": "LayoutModel",
     "state": {
      "_model_module": "@jupyter-widgets/base",
      "_model_module_version": "1.2.0",
      "_model_name": "LayoutModel",
      "_view_count": null,
      "_view_module": "@jupyter-widgets/base",
      "_view_module_version": "1.2.0",
      "_view_name": "LayoutView",
      "align_content": null,
      "align_items": null,
      "align_self": null,
      "border": null,
      "bottom": null,
      "display": null,
      "flex": null,
      "flex_flow": null,
      "grid_area": null,
      "grid_auto_columns": null,
      "grid_auto_flow": null,
      "grid_auto_rows": null,
      "grid_column": null,
      "grid_gap": null,
      "grid_row": null,
      "grid_template_areas": null,
      "grid_template_columns": null,
      "grid_template_rows": null,
      "height": null,
      "justify_content": null,
      "justify_items": null,
      "left": null,
      "margin": null,
      "max_height": null,
      "max_width": null,
      "min_height": null,
      "min_width": null,
      "object_fit": null,
      "object_position": null,
      "order": null,
      "overflow": null,
      "overflow_x": null,
      "overflow_y": null,
      "padding": null,
      "right": null,
      "top": null,
      "visibility": null,
      "width": null
     }
    }
   }
  }
 },
 "nbformat": 4,
 "nbformat_minor": 4
}
