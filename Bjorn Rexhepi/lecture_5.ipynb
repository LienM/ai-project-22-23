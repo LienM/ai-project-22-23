{
  "cells": [
    {
      "cell_type": "markdown",
      "metadata": {
        "id": "1l2yyEXP3Or3"
      },
      "source": [
        "# Lecture 5: Experiments with RecPack Algorithms"
      ]
    },
    {
      "cell_type": "markdown",
      "metadata": {
        "id": "RaYwCQRK3Or6"
      },
      "source": [
        "## Setup"
      ]
    },
    {
      "cell_type": "code",
      "source": [
        "from google.colab import drive\n",
        "drive.mount('/content/drive')"
      ],
      "metadata": {
        "colab": {
          "base_uri": "https://localhost:8080/"
        },
        "id": "wgznOlNzb0PI",
        "outputId": "33964bb4-49b2-46f9-8387-0c7a2254b031"
      },
      "execution_count": 1,
      "outputs": [
        {
          "output_type": "stream",
          "name": "stdout",
          "text": [
            "Mounted at /content/drive\n"
          ]
        }
      ]
    },
    {
      "cell_type": "code",
      "source": [
        "!cp -r /content/drive/MyDrive/recpack /content"
      ],
      "metadata": {
        "id": "6RY4D3kOMWL9"
      },
      "execution_count": 2,
      "outputs": []
    },
    {
      "cell_type": "code",
      "source": [
        "!unzip /content/drive/MyDrive/transactions_train.zip\n",
        "!unzip /content/drive/MyDrive/articles.zip\n",
        "!unzip /content/drive/MyDrive/customers.zip"
      ],
      "metadata": {
        "colab": {
          "base_uri": "https://localhost:8080/"
        },
        "id": "lZxyQ9yGcCOY",
        "outputId": "928bb4be-0881-49b3-a456-64c3f17709c8"
      },
      "execution_count": 3,
      "outputs": [
        {
          "output_type": "stream",
          "name": "stdout",
          "text": [
            "Archive:  /content/drive/MyDrive/transactions_train.zip\n",
            "  inflating: transactions_train.feather  \n",
            "Archive:  /content/drive/MyDrive/articles.zip\n",
            "  inflating: articles.feather        \n",
            "Archive:  /content/drive/MyDrive/customers.zip\n",
            "  inflating: customers.feather       \n"
          ]
        }
      ]
    },
    {
      "cell_type": "code",
      "execution_count": 4,
      "metadata": {
        "id": "hxalIXhq3Or7",
        "pycharm": {
          "is_executing": true
        }
      },
      "outputs": [],
      "source": [
        "import numpy as np \n",
        "import pandas as pd\n",
        "import random\n",
        "from sklearn.linear_model import LogisticRegression\n",
        "from sklearn.model_selection import train_test_split\n",
        "from sklearn.metrics import classification_report\n",
        "from sklearn import preprocessing\n",
        "from sklearn.preprocessing import LabelEncoder\n",
        "import string\n",
        "import seaborn as sns"
      ]
    },
    {
      "cell_type": "markdown",
      "metadata": {
        "id": "7ygcxEzJZSlK"
      },
      "source": [
        "### In order to achieve a better perfomance in RAM and running time, we convert the CSV datasets into Feather format."
      ]
    },
    {
      "cell_type": "code",
      "execution_count": null,
      "metadata": {
        "id": "i3mb5daI3Or7",
        "pycharm": {
          "is_executing": true
        }
      },
      "outputs": [],
      "source": [
        "#https://medium.com/@rajkrakesh/feather-vs-csv-829472196832\n",
        "transactions = pd.read_csv('transactions_train.csv.zip').to_feather('transactions_train.feather')"
      ]
    },
    {
      "cell_type": "code",
      "execution_count": null,
      "metadata": {
        "id": "mmdBdcZFZSlM"
      },
      "outputs": [],
      "source": [
        "articles = pd.read_csv('articles.csv.zip')\n",
        "customers = pd.read_csv('customers.csv.zip')"
      ]
    },
    {
      "cell_type": "code",
      "execution_count": null,
      "metadata": {
        "id": "BbmsX41iZSlM"
      },
      "outputs": [],
      "source": [
        "articles.to_feather('articles.feather')"
      ]
    },
    {
      "cell_type": "code",
      "execution_count": null,
      "metadata": {
        "id": "dl6ntEmdZSlN"
      },
      "outputs": [],
      "source": [
        "customers.to_feather('customers.feather')"
      ]
    },
    {
      "cell_type": "code",
      "execution_count": 6,
      "metadata": {
        "id": "86J5e7mzZSlN"
      },
      "outputs": [],
      "source": [
        "articles = pd.read_feather('articles.feather')\n",
        "customers = pd.read_feather('customers.feather')\n",
        "transactions = pd.read_feather('transactions_train.feather')"
      ]
    },
    {
      "cell_type": "markdown",
      "metadata": {
        "id": "gj5t03-GZSlQ"
      },
      "source": [
        "### Preprocessing the transaction dataset\n"
      ]
    },
    {
      "cell_type": "code",
      "execution_count": 7,
      "metadata": {
        "id": "5YXbX9GHZSlR"
      },
      "outputs": [],
      "source": [
        "#def customer_id_to_int(x): return int(x[-16:], 16)\n",
        "\n",
        "#transactions['customer_id'] = transactions['customer_id'].apply(customer_id_to_int).astype('int32')\n",
        "transactions['article_id'] = transactions['article_id'].astype('int32')"
      ]
    },
    {
      "cell_type": "code",
      "source": [
        "transactions['t_dat'] = pd.to_datetime(transactions['t_dat'])\n",
        "#transactions['article_id'] = transactions['article_id'].astype('int32')\n",
        "#transactions['customer_id'] = transactions['customer_id'].apply(customer_id_to_int).astype('int32')\n",
        "transactions.sales_channel_id = transactions.sales_channel_id.astype('int8')\n",
        "transactions.price = transactions.price.astype('float32')"
      ],
      "metadata": {
        "id": "VSzrzY9h50jh"
      },
      "execution_count": 8,
      "outputs": []
    },
    {
      "cell_type": "code",
      "source": [
        "transactions['week'] = 104 - (transactions.t_dat.max() - transactions.t_dat).dt.days // 7\n",
        "transactions.week = transactions.week.astype('int8')\n",
        "\n",
        "last_month = transactions['week'].max() - 8\n",
        "transactions = transactions.loc[transactions[\"week\"] >= last_month]\n",
        "transactions"
      ],
      "metadata": {
        "colab": {
          "base_uri": "https://localhost:8080/",
          "height": 424
        },
        "id": "ukGBzFoZ2HIR",
        "outputId": "be8f3fd6-ccc9-412e-a1df-cab9863844dc"
      },
      "execution_count": 9,
      "outputs": [
        {
          "output_type": "execute_result",
          "data": {
            "text/plain": [
              "              t_dat                                        customer_id  \\\n",
              "29314980 2020-07-22  0000c97821eb48d0e590fd309133f0a6c08f7750f64ccc...   \n",
              "29314981 2020-07-22  0000c97821eb48d0e590fd309133f0a6c08f7750f64ccc...   \n",
              "29314982 2020-07-22  0000c97821eb48d0e590fd309133f0a6c08f7750f64ccc...   \n",
              "29314983 2020-07-22  0000c97821eb48d0e590fd309133f0a6c08f7750f64ccc...   \n",
              "29314984 2020-07-22  00061a04f030bdf3665b09829192ca8c13c4de6dd9ae9d...   \n",
              "...             ...                                                ...   \n",
              "31788319 2020-09-22  fff2282977442e327b45d8c89afde25617d00124d0f999...   \n",
              "31788320 2020-09-22  fff2282977442e327b45d8c89afde25617d00124d0f999...   \n",
              "31788321 2020-09-22  fff380805474b287b05cb2a7507b9a013482f7dd0bce0e...   \n",
              "31788322 2020-09-22  fff4d3a8b1f3b60af93e78c30a7cb4cf75edaf2590d3e5...   \n",
              "31788323 2020-09-22  fffef3b6b73545df065b521e19f64bf6fe93bfd450ab20...   \n",
              "\n",
              "          article_id     price  sales_channel_id  week  \n",
              "29314980   778064038  0.008458                 2    96  \n",
              "29314981   817166007  0.006763                 2    96  \n",
              "29314982   840360002  0.008458                 2    96  \n",
              "29314983   817166003  0.008458                 2    96  \n",
              "29314984   624486001  0.012729                 2    96  \n",
              "...              ...       ...               ...   ...  \n",
              "31788319   929511001  0.059305                 2   104  \n",
              "31788320   891322004  0.042356                 2   104  \n",
              "31788321   918325001  0.043203                 1   104  \n",
              "31788322   833459002  0.006763                 1   104  \n",
              "31788323   898573003  0.033881                 2   104  \n",
              "\n",
              "[2473344 rows x 6 columns]"
            ],
            "text/html": [
              "\n",
              "  <div id=\"df-f32a26a3-2318-406d-8d34-2491738f20fe\">\n",
              "    <div class=\"colab-df-container\">\n",
              "      <div>\n",
              "<style scoped>\n",
              "    .dataframe tbody tr th:only-of-type {\n",
              "        vertical-align: middle;\n",
              "    }\n",
              "\n",
              "    .dataframe tbody tr th {\n",
              "        vertical-align: top;\n",
              "    }\n",
              "\n",
              "    .dataframe thead th {\n",
              "        text-align: right;\n",
              "    }\n",
              "</style>\n",
              "<table border=\"1\" class=\"dataframe\">\n",
              "  <thead>\n",
              "    <tr style=\"text-align: right;\">\n",
              "      <th></th>\n",
              "      <th>t_dat</th>\n",
              "      <th>customer_id</th>\n",
              "      <th>article_id</th>\n",
              "      <th>price</th>\n",
              "      <th>sales_channel_id</th>\n",
              "      <th>week</th>\n",
              "    </tr>\n",
              "  </thead>\n",
              "  <tbody>\n",
              "    <tr>\n",
              "      <th>29314980</th>\n",
              "      <td>2020-07-22</td>\n",
              "      <td>0000c97821eb48d0e590fd309133f0a6c08f7750f64ccc...</td>\n",
              "      <td>778064038</td>\n",
              "      <td>0.008458</td>\n",
              "      <td>2</td>\n",
              "      <td>96</td>\n",
              "    </tr>\n",
              "    <tr>\n",
              "      <th>29314981</th>\n",
              "      <td>2020-07-22</td>\n",
              "      <td>0000c97821eb48d0e590fd309133f0a6c08f7750f64ccc...</td>\n",
              "      <td>817166007</td>\n",
              "      <td>0.006763</td>\n",
              "      <td>2</td>\n",
              "      <td>96</td>\n",
              "    </tr>\n",
              "    <tr>\n",
              "      <th>29314982</th>\n",
              "      <td>2020-07-22</td>\n",
              "      <td>0000c97821eb48d0e590fd309133f0a6c08f7750f64ccc...</td>\n",
              "      <td>840360002</td>\n",
              "      <td>0.008458</td>\n",
              "      <td>2</td>\n",
              "      <td>96</td>\n",
              "    </tr>\n",
              "    <tr>\n",
              "      <th>29314983</th>\n",
              "      <td>2020-07-22</td>\n",
              "      <td>0000c97821eb48d0e590fd309133f0a6c08f7750f64ccc...</td>\n",
              "      <td>817166003</td>\n",
              "      <td>0.008458</td>\n",
              "      <td>2</td>\n",
              "      <td>96</td>\n",
              "    </tr>\n",
              "    <tr>\n",
              "      <th>29314984</th>\n",
              "      <td>2020-07-22</td>\n",
              "      <td>00061a04f030bdf3665b09829192ca8c13c4de6dd9ae9d...</td>\n",
              "      <td>624486001</td>\n",
              "      <td>0.012729</td>\n",
              "      <td>2</td>\n",
              "      <td>96</td>\n",
              "    </tr>\n",
              "    <tr>\n",
              "      <th>...</th>\n",
              "      <td>...</td>\n",
              "      <td>...</td>\n",
              "      <td>...</td>\n",
              "      <td>...</td>\n",
              "      <td>...</td>\n",
              "      <td>...</td>\n",
              "    </tr>\n",
              "    <tr>\n",
              "      <th>31788319</th>\n",
              "      <td>2020-09-22</td>\n",
              "      <td>fff2282977442e327b45d8c89afde25617d00124d0f999...</td>\n",
              "      <td>929511001</td>\n",
              "      <td>0.059305</td>\n",
              "      <td>2</td>\n",
              "      <td>104</td>\n",
              "    </tr>\n",
              "    <tr>\n",
              "      <th>31788320</th>\n",
              "      <td>2020-09-22</td>\n",
              "      <td>fff2282977442e327b45d8c89afde25617d00124d0f999...</td>\n",
              "      <td>891322004</td>\n",
              "      <td>0.042356</td>\n",
              "      <td>2</td>\n",
              "      <td>104</td>\n",
              "    </tr>\n",
              "    <tr>\n",
              "      <th>31788321</th>\n",
              "      <td>2020-09-22</td>\n",
              "      <td>fff380805474b287b05cb2a7507b9a013482f7dd0bce0e...</td>\n",
              "      <td>918325001</td>\n",
              "      <td>0.043203</td>\n",
              "      <td>1</td>\n",
              "      <td>104</td>\n",
              "    </tr>\n",
              "    <tr>\n",
              "      <th>31788322</th>\n",
              "      <td>2020-09-22</td>\n",
              "      <td>fff4d3a8b1f3b60af93e78c30a7cb4cf75edaf2590d3e5...</td>\n",
              "      <td>833459002</td>\n",
              "      <td>0.006763</td>\n",
              "      <td>1</td>\n",
              "      <td>104</td>\n",
              "    </tr>\n",
              "    <tr>\n",
              "      <th>31788323</th>\n",
              "      <td>2020-09-22</td>\n",
              "      <td>fffef3b6b73545df065b521e19f64bf6fe93bfd450ab20...</td>\n",
              "      <td>898573003</td>\n",
              "      <td>0.033881</td>\n",
              "      <td>2</td>\n",
              "      <td>104</td>\n",
              "    </tr>\n",
              "  </tbody>\n",
              "</table>\n",
              "<p>2473344 rows × 6 columns</p>\n",
              "</div>\n",
              "      <button class=\"colab-df-convert\" onclick=\"convertToInteractive('df-f32a26a3-2318-406d-8d34-2491738f20fe')\"\n",
              "              title=\"Convert this dataframe to an interactive table.\"\n",
              "              style=\"display:none;\">\n",
              "        \n",
              "  <svg xmlns=\"http://www.w3.org/2000/svg\" height=\"24px\"viewBox=\"0 0 24 24\"\n",
              "       width=\"24px\">\n",
              "    <path d=\"M0 0h24v24H0V0z\" fill=\"none\"/>\n",
              "    <path d=\"M18.56 5.44l.94 2.06.94-2.06 2.06-.94-2.06-.94-.94-2.06-.94 2.06-2.06.94zm-11 1L8.5 8.5l.94-2.06 2.06-.94-2.06-.94L8.5 2.5l-.94 2.06-2.06.94zm10 10l.94 2.06.94-2.06 2.06-.94-2.06-.94-.94-2.06-.94 2.06-2.06.94z\"/><path d=\"M17.41 7.96l-1.37-1.37c-.4-.4-.92-.59-1.43-.59-.52 0-1.04.2-1.43.59L10.3 9.45l-7.72 7.72c-.78.78-.78 2.05 0 2.83L4 21.41c.39.39.9.59 1.41.59.51 0 1.02-.2 1.41-.59l7.78-7.78 2.81-2.81c.8-.78.8-2.07 0-2.86zM5.41 20L4 18.59l7.72-7.72 1.47 1.35L5.41 20z\"/>\n",
              "  </svg>\n",
              "      </button>\n",
              "      \n",
              "  <style>\n",
              "    .colab-df-container {\n",
              "      display:flex;\n",
              "      flex-wrap:wrap;\n",
              "      gap: 12px;\n",
              "    }\n",
              "\n",
              "    .colab-df-convert {\n",
              "      background-color: #E8F0FE;\n",
              "      border: none;\n",
              "      border-radius: 50%;\n",
              "      cursor: pointer;\n",
              "      display: none;\n",
              "      fill: #1967D2;\n",
              "      height: 32px;\n",
              "      padding: 0 0 0 0;\n",
              "      width: 32px;\n",
              "    }\n",
              "\n",
              "    .colab-df-convert:hover {\n",
              "      background-color: #E2EBFA;\n",
              "      box-shadow: 0px 1px 2px rgba(60, 64, 67, 0.3), 0px 1px 3px 1px rgba(60, 64, 67, 0.15);\n",
              "      fill: #174EA6;\n",
              "    }\n",
              "\n",
              "    [theme=dark] .colab-df-convert {\n",
              "      background-color: #3B4455;\n",
              "      fill: #D2E3FC;\n",
              "    }\n",
              "\n",
              "    [theme=dark] .colab-df-convert:hover {\n",
              "      background-color: #434B5C;\n",
              "      box-shadow: 0px 1px 3px 1px rgba(0, 0, 0, 0.15);\n",
              "      filter: drop-shadow(0px 1px 2px rgba(0, 0, 0, 0.3));\n",
              "      fill: #FFFFFF;\n",
              "    }\n",
              "  </style>\n",
              "\n",
              "      <script>\n",
              "        const buttonEl =\n",
              "          document.querySelector('#df-f32a26a3-2318-406d-8d34-2491738f20fe button.colab-df-convert');\n",
              "        buttonEl.style.display =\n",
              "          google.colab.kernel.accessAllowed ? 'block' : 'none';\n",
              "\n",
              "        async function convertToInteractive(key) {\n",
              "          const element = document.querySelector('#df-f32a26a3-2318-406d-8d34-2491738f20fe');\n",
              "          const dataTable =\n",
              "            await google.colab.kernel.invokeFunction('convertToInteractive',\n",
              "                                                     [key], {});\n",
              "          if (!dataTable) return;\n",
              "\n",
              "          const docLinkHtml = 'Like what you see? Visit the ' +\n",
              "            '<a target=\"_blank\" href=https://colab.research.google.com/notebooks/data_table.ipynb>data table notebook</a>'\n",
              "            + ' to learn more about interactive tables.';\n",
              "          element.innerHTML = '';\n",
              "          dataTable['output_type'] = 'display_data';\n",
              "          await google.colab.output.renderOutput(dataTable, element);\n",
              "          const docLink = document.createElement('div');\n",
              "          docLink.innerHTML = docLinkHtml;\n",
              "          element.appendChild(docLink);\n",
              "        }\n",
              "      </script>\n",
              "    </div>\n",
              "  </div>\n",
              "  "
            ]
          },
          "metadata": {},
          "execution_count": 9
        }
      ]
    },
    {
      "cell_type": "markdown",
      "metadata": {
        "id": "1-LTMZrKZSlS"
      },
      "source": [
        "### Preprocessing the article dataset"
      ]
    },
    {
      "cell_type": "code",
      "execution_count": 10,
      "metadata": {
        "scrolled": true,
        "id": "3Hjs9nv1ZSlS"
      },
      "outputs": [],
      "source": [
        "articles['article_id'] = articles['article_id'].astype('int32')\n",
        "articles['product_code'] = articles['product_code'].astype('int8')\n",
        "#articles['prod_name'] = articles['prod_name'].apply(preprocess_text)\n",
        "#articles['product_group_name'] = pd.factorize(articles['product_group_name'])[0].astype('int8')\n",
        "articles['product_type_no'] = articles['product_type_no'].astype('int8')\n",
        "articles['graphical_appearance_no'] = pd.factorize(articles['graphical_appearance_no'])[0].astype('int8')\n",
        "articles['colour_group_code'] = articles['colour_group_code'].astype('int8')\n",
        "articles['perceived_colour_value_id'] = articles['perceived_colour_value_id'].astype('int8')\n",
        "articles['perceived_colour_master_id'] = articles['perceived_colour_master_id'].astype('int8')\n",
        "articles['department_no'] = articles['department_no'].astype('int8')\n",
        "articles['index_code'] = pd.factorize(articles['department_no'])[0].astype('int8')\n",
        "articles['index_group_no'] = articles['index_group_no'].astype('int8')\n",
        "articles['section_no'] = articles['section_no'].astype('int8')\n",
        "articles['garment_group_no'] = articles['garment_group_no'].astype('int16')"
      ]
    },
    {
      "cell_type": "markdown",
      "metadata": {
        "id": "KvsMnHaUZSlU"
      },
      "source": [
        "### Preprocess of customer dataset"
      ]
    },
    {
      "cell_type": "code",
      "execution_count": 11,
      "metadata": {
        "id": "5JfRPbFSZSlU"
      },
      "outputs": [],
      "source": [
        "customers.fillna({\"FN\": 0, \"Active\": 0}, inplace=True)\n",
        "\n",
        "#def customer_id_to_int(x): return int(x[-16:], 16)\n",
        "#customers['customer_id'] = customers['customer_id'].apply(customer_id_to_int).astype('int32')"
      ]
    },
    {
      "cell_type": "code",
      "execution_count": 12,
      "metadata": {
        "colab": {
          "base_uri": "https://localhost:8080/",
          "height": 424
        },
        "id": "-iGiL5O2ZSlU",
        "outputId": "903b35ea-56b1-41c4-95fd-0b2dd62ac91b"
      },
      "outputs": [
        {
          "output_type": "execute_result",
          "data": {
            "text/plain": [
              "                                               customer_id  FN  Active  \\\n",
              "0        00000dbacae5abe5e23885899a1fa44253a17956c6d1c3...   0       0   \n",
              "1        0000423b00ade91418cceaf3b26c6af3dd342b51fd051e...   0       0   \n",
              "2        000058a12d5b43e67d225668fa1f8d618c13dc232df0ca...   0       0   \n",
              "3        00005ca1c9ed5f5146b52ac8639a40ca9d57aeff4d1bd2...   0       0   \n",
              "4        00006413d8573cd20ed7128e53b7b13819fe5cfc2d801f...   1       1   \n",
              "...                                                    ...  ..     ...   \n",
              "1371975  ffffbbf78b6eaac697a8a5dfbfd2bfa8113ee5b403e474...   0       0   \n",
              "1371976  ffffcd5046a6143d29a04fb8c424ce494a76e5cdf4fab5...   0       0   \n",
              "1371977  ffffcf35913a0bee60e8741cb2b4e78b8a98ee5ff2e6a1...   1       1   \n",
              "1371978  ffffd7744cebcf3aca44ae7049d2a94b87074c3d4ffe38...   1       1   \n",
              "1371979  ffffd9ac14e89946416d80e791d064701994755c3ab686...   0       0   \n",
              "\n",
              "         club_member_status  fashion_news_frequency   age  postal_code  \n",
              "0                         0                       0  49.0            0  \n",
              "1                         0                       0  25.0            1  \n",
              "2                         0                       0  24.0            2  \n",
              "3                         0                       0  54.0            3  \n",
              "4                         0                       1  52.0            4  \n",
              "...                     ...                     ...   ...          ...  \n",
              "1371975                   0                       0  24.0        62927  \n",
              "1371976                   0                       0  21.0         6316  \n",
              "1371977                   0                       1  21.0       273671  \n",
              "1371978                   0                       1  18.0       218323  \n",
              "1371979                   1                       0  65.0       352898  \n",
              "\n",
              "[1371980 rows x 7 columns]"
            ],
            "text/html": [
              "\n",
              "  <div id=\"df-4392281c-49a9-4ec1-85ed-8b55f5f38677\">\n",
              "    <div class=\"colab-df-container\">\n",
              "      <div>\n",
              "<style scoped>\n",
              "    .dataframe tbody tr th:only-of-type {\n",
              "        vertical-align: middle;\n",
              "    }\n",
              "\n",
              "    .dataframe tbody tr th {\n",
              "        vertical-align: top;\n",
              "    }\n",
              "\n",
              "    .dataframe thead th {\n",
              "        text-align: right;\n",
              "    }\n",
              "</style>\n",
              "<table border=\"1\" class=\"dataframe\">\n",
              "  <thead>\n",
              "    <tr style=\"text-align: right;\">\n",
              "      <th></th>\n",
              "      <th>customer_id</th>\n",
              "      <th>FN</th>\n",
              "      <th>Active</th>\n",
              "      <th>club_member_status</th>\n",
              "      <th>fashion_news_frequency</th>\n",
              "      <th>age</th>\n",
              "      <th>postal_code</th>\n",
              "    </tr>\n",
              "  </thead>\n",
              "  <tbody>\n",
              "    <tr>\n",
              "      <th>0</th>\n",
              "      <td>00000dbacae5abe5e23885899a1fa44253a17956c6d1c3...</td>\n",
              "      <td>0</td>\n",
              "      <td>0</td>\n",
              "      <td>0</td>\n",
              "      <td>0</td>\n",
              "      <td>49.0</td>\n",
              "      <td>0</td>\n",
              "    </tr>\n",
              "    <tr>\n",
              "      <th>1</th>\n",
              "      <td>0000423b00ade91418cceaf3b26c6af3dd342b51fd051e...</td>\n",
              "      <td>0</td>\n",
              "      <td>0</td>\n",
              "      <td>0</td>\n",
              "      <td>0</td>\n",
              "      <td>25.0</td>\n",
              "      <td>1</td>\n",
              "    </tr>\n",
              "    <tr>\n",
              "      <th>2</th>\n",
              "      <td>000058a12d5b43e67d225668fa1f8d618c13dc232df0ca...</td>\n",
              "      <td>0</td>\n",
              "      <td>0</td>\n",
              "      <td>0</td>\n",
              "      <td>0</td>\n",
              "      <td>24.0</td>\n",
              "      <td>2</td>\n",
              "    </tr>\n",
              "    <tr>\n",
              "      <th>3</th>\n",
              "      <td>00005ca1c9ed5f5146b52ac8639a40ca9d57aeff4d1bd2...</td>\n",
              "      <td>0</td>\n",
              "      <td>0</td>\n",
              "      <td>0</td>\n",
              "      <td>0</td>\n",
              "      <td>54.0</td>\n",
              "      <td>3</td>\n",
              "    </tr>\n",
              "    <tr>\n",
              "      <th>4</th>\n",
              "      <td>00006413d8573cd20ed7128e53b7b13819fe5cfc2d801f...</td>\n",
              "      <td>1</td>\n",
              "      <td>1</td>\n",
              "      <td>0</td>\n",
              "      <td>1</td>\n",
              "      <td>52.0</td>\n",
              "      <td>4</td>\n",
              "    </tr>\n",
              "    <tr>\n",
              "      <th>...</th>\n",
              "      <td>...</td>\n",
              "      <td>...</td>\n",
              "      <td>...</td>\n",
              "      <td>...</td>\n",
              "      <td>...</td>\n",
              "      <td>...</td>\n",
              "      <td>...</td>\n",
              "    </tr>\n",
              "    <tr>\n",
              "      <th>1371975</th>\n",
              "      <td>ffffbbf78b6eaac697a8a5dfbfd2bfa8113ee5b403e474...</td>\n",
              "      <td>0</td>\n",
              "      <td>0</td>\n",
              "      <td>0</td>\n",
              "      <td>0</td>\n",
              "      <td>24.0</td>\n",
              "      <td>62927</td>\n",
              "    </tr>\n",
              "    <tr>\n",
              "      <th>1371976</th>\n",
              "      <td>ffffcd5046a6143d29a04fb8c424ce494a76e5cdf4fab5...</td>\n",
              "      <td>0</td>\n",
              "      <td>0</td>\n",
              "      <td>0</td>\n",
              "      <td>0</td>\n",
              "      <td>21.0</td>\n",
              "      <td>6316</td>\n",
              "    </tr>\n",
              "    <tr>\n",
              "      <th>1371977</th>\n",
              "      <td>ffffcf35913a0bee60e8741cb2b4e78b8a98ee5ff2e6a1...</td>\n",
              "      <td>1</td>\n",
              "      <td>1</td>\n",
              "      <td>0</td>\n",
              "      <td>1</td>\n",
              "      <td>21.0</td>\n",
              "      <td>273671</td>\n",
              "    </tr>\n",
              "    <tr>\n",
              "      <th>1371978</th>\n",
              "      <td>ffffd7744cebcf3aca44ae7049d2a94b87074c3d4ffe38...</td>\n",
              "      <td>1</td>\n",
              "      <td>1</td>\n",
              "      <td>0</td>\n",
              "      <td>1</td>\n",
              "      <td>18.0</td>\n",
              "      <td>218323</td>\n",
              "    </tr>\n",
              "    <tr>\n",
              "      <th>1371979</th>\n",
              "      <td>ffffd9ac14e89946416d80e791d064701994755c3ab686...</td>\n",
              "      <td>0</td>\n",
              "      <td>0</td>\n",
              "      <td>1</td>\n",
              "      <td>0</td>\n",
              "      <td>65.0</td>\n",
              "      <td>352898</td>\n",
              "    </tr>\n",
              "  </tbody>\n",
              "</table>\n",
              "<p>1371980 rows × 7 columns</p>\n",
              "</div>\n",
              "      <button class=\"colab-df-convert\" onclick=\"convertToInteractive('df-4392281c-49a9-4ec1-85ed-8b55f5f38677')\"\n",
              "              title=\"Convert this dataframe to an interactive table.\"\n",
              "              style=\"display:none;\">\n",
              "        \n",
              "  <svg xmlns=\"http://www.w3.org/2000/svg\" height=\"24px\"viewBox=\"0 0 24 24\"\n",
              "       width=\"24px\">\n",
              "    <path d=\"M0 0h24v24H0V0z\" fill=\"none\"/>\n",
              "    <path d=\"M18.56 5.44l.94 2.06.94-2.06 2.06-.94-2.06-.94-.94-2.06-.94 2.06-2.06.94zm-11 1L8.5 8.5l.94-2.06 2.06-.94-2.06-.94L8.5 2.5l-.94 2.06-2.06.94zm10 10l.94 2.06.94-2.06 2.06-.94-2.06-.94-.94-2.06-.94 2.06-2.06.94z\"/><path d=\"M17.41 7.96l-1.37-1.37c-.4-.4-.92-.59-1.43-.59-.52 0-1.04.2-1.43.59L10.3 9.45l-7.72 7.72c-.78.78-.78 2.05 0 2.83L4 21.41c.39.39.9.59 1.41.59.51 0 1.02-.2 1.41-.59l7.78-7.78 2.81-2.81c.8-.78.8-2.07 0-2.86zM5.41 20L4 18.59l7.72-7.72 1.47 1.35L5.41 20z\"/>\n",
              "  </svg>\n",
              "      </button>\n",
              "      \n",
              "  <style>\n",
              "    .colab-df-container {\n",
              "      display:flex;\n",
              "      flex-wrap:wrap;\n",
              "      gap: 12px;\n",
              "    }\n",
              "\n",
              "    .colab-df-convert {\n",
              "      background-color: #E8F0FE;\n",
              "      border: none;\n",
              "      border-radius: 50%;\n",
              "      cursor: pointer;\n",
              "      display: none;\n",
              "      fill: #1967D2;\n",
              "      height: 32px;\n",
              "      padding: 0 0 0 0;\n",
              "      width: 32px;\n",
              "    }\n",
              "\n",
              "    .colab-df-convert:hover {\n",
              "      background-color: #E2EBFA;\n",
              "      box-shadow: 0px 1px 2px rgba(60, 64, 67, 0.3), 0px 1px 3px 1px rgba(60, 64, 67, 0.15);\n",
              "      fill: #174EA6;\n",
              "    }\n",
              "\n",
              "    [theme=dark] .colab-df-convert {\n",
              "      background-color: #3B4455;\n",
              "      fill: #D2E3FC;\n",
              "    }\n",
              "\n",
              "    [theme=dark] .colab-df-convert:hover {\n",
              "      background-color: #434B5C;\n",
              "      box-shadow: 0px 1px 3px 1px rgba(0, 0, 0, 0.15);\n",
              "      filter: drop-shadow(0px 1px 2px rgba(0, 0, 0, 0.3));\n",
              "      fill: #FFFFFF;\n",
              "    }\n",
              "  </style>\n",
              "\n",
              "      <script>\n",
              "        const buttonEl =\n",
              "          document.querySelector('#df-4392281c-49a9-4ec1-85ed-8b55f5f38677 button.colab-df-convert');\n",
              "        buttonEl.style.display =\n",
              "          google.colab.kernel.accessAllowed ? 'block' : 'none';\n",
              "\n",
              "        async function convertToInteractive(key) {\n",
              "          const element = document.querySelector('#df-4392281c-49a9-4ec1-85ed-8b55f5f38677');\n",
              "          const dataTable =\n",
              "            await google.colab.kernel.invokeFunction('convertToInteractive',\n",
              "                                                     [key], {});\n",
              "          if (!dataTable) return;\n",
              "\n",
              "          const docLinkHtml = 'Like what you see? Visit the ' +\n",
              "            '<a target=\"_blank\" href=https://colab.research.google.com/notebooks/data_table.ipynb>data table notebook</a>'\n",
              "            + ' to learn more about interactive tables.';\n",
              "          element.innerHTML = '';\n",
              "          dataTable['output_type'] = 'display_data';\n",
              "          await google.colab.output.renderOutput(dataTable, element);\n",
              "          const docLink = document.createElement('div');\n",
              "          docLink.innerHTML = docLinkHtml;\n",
              "          element.appendChild(docLink);\n",
              "        }\n",
              "      </script>\n",
              "    </div>\n",
              "  </div>\n",
              "  "
            ]
          },
          "metadata": {},
          "execution_count": 12
        }
      ],
      "source": [
        "customers[\"FN\"] = customers[\"FN\"].astype('int8')\n",
        "customers[\"Active\"] = customers[\"Active\"].astype('int8')\n",
        "customers['age'].fillna(int((customers['age'].mean())), inplace=True)\n",
        "customers[\"fashion_news_frequency\"] = pd.factorize(customers[\"fashion_news_frequency\"])[0].astype('int8')\n",
        "customers[\"club_member_status\"] = pd.factorize(customers[\"club_member_status\"])[0].astype('int8')\n",
        "customers['postal_code'] = pd.factorize(customers['postal_code'])[0].astype('int32')\n",
        "customers"
      ]
    },
    {
      "cell_type": "markdown",
      "source": [
        "# Merging articles and customers dataset with transaction."
      ],
      "metadata": {
        "id": "bbhBYApAmbzo"
      }
    },
    {
      "cell_type": "code",
      "source": [
        "transactions.sort_values(['week', 'customer_id'], inplace=True)"
      ],
      "metadata": {
        "id": "pwnH-JGyfTeb"
      },
      "execution_count": 13,
      "outputs": []
    },
    {
      "cell_type": "code",
      "source": [
        "transactions.drop_duplicates(inplace=True)\n",
        "transactions_merge = transactions.merge(articles, how=\"inner\", on='article_id')\n",
        "transactions_merge = transactions.merge(customers, how=\"inner\", on='customer_id')\n",
        "transactions_processed = transactions_merge[['t_dat','customer_id','age','article_id', 'price', 'week']].copy()\n",
        "transactions_processed.head()"
      ],
      "metadata": {
        "colab": {
          "base_uri": "https://localhost:8080/",
          "height": 206
        },
        "id": "mw6iWd4UaYZX",
        "outputId": "1b1647d2-200a-45ef-cd79-3e733e47554d"
      },
      "execution_count": 15,
      "outputs": [
        {
          "output_type": "execute_result",
          "data": {
            "text/plain": [
              "       t_dat                                        customer_id   age  \\\n",
              "0 2020-07-22  0000c97821eb48d0e590fd309133f0a6c08f7750f64ccc...  49.0   \n",
              "1 2020-07-22  0000c97821eb48d0e590fd309133f0a6c08f7750f64ccc...  49.0   \n",
              "2 2020-07-22  0000c97821eb48d0e590fd309133f0a6c08f7750f64ccc...  49.0   \n",
              "3 2020-07-22  0000c97821eb48d0e590fd309133f0a6c08f7750f64ccc...  49.0   \n",
              "4 2020-07-28  0001076e215991bad544dd3e7312f78d9f576a1cc3ddc4...  22.0   \n",
              "\n",
              "   article_id     price  week  \n",
              "0   778064038  0.008458    96  \n",
              "1   817166007  0.006763    96  \n",
              "2   840360002  0.008458    96  \n",
              "3   817166003  0.008458    96  \n",
              "4   658298001  0.022017    96  "
            ],
            "text/html": [
              "\n",
              "  <div id=\"df-d79f6b10-f0cc-4d0b-87e9-675fc1a838e9\">\n",
              "    <div class=\"colab-df-container\">\n",
              "      <div>\n",
              "<style scoped>\n",
              "    .dataframe tbody tr th:only-of-type {\n",
              "        vertical-align: middle;\n",
              "    }\n",
              "\n",
              "    .dataframe tbody tr th {\n",
              "        vertical-align: top;\n",
              "    }\n",
              "\n",
              "    .dataframe thead th {\n",
              "        text-align: right;\n",
              "    }\n",
              "</style>\n",
              "<table border=\"1\" class=\"dataframe\">\n",
              "  <thead>\n",
              "    <tr style=\"text-align: right;\">\n",
              "      <th></th>\n",
              "      <th>t_dat</th>\n",
              "      <th>customer_id</th>\n",
              "      <th>age</th>\n",
              "      <th>article_id</th>\n",
              "      <th>price</th>\n",
              "      <th>week</th>\n",
              "    </tr>\n",
              "  </thead>\n",
              "  <tbody>\n",
              "    <tr>\n",
              "      <th>0</th>\n",
              "      <td>2020-07-22</td>\n",
              "      <td>0000c97821eb48d0e590fd309133f0a6c08f7750f64ccc...</td>\n",
              "      <td>49.0</td>\n",
              "      <td>778064038</td>\n",
              "      <td>0.008458</td>\n",
              "      <td>96</td>\n",
              "    </tr>\n",
              "    <tr>\n",
              "      <th>1</th>\n",
              "      <td>2020-07-22</td>\n",
              "      <td>0000c97821eb48d0e590fd309133f0a6c08f7750f64ccc...</td>\n",
              "      <td>49.0</td>\n",
              "      <td>817166007</td>\n",
              "      <td>0.006763</td>\n",
              "      <td>96</td>\n",
              "    </tr>\n",
              "    <tr>\n",
              "      <th>2</th>\n",
              "      <td>2020-07-22</td>\n",
              "      <td>0000c97821eb48d0e590fd309133f0a6c08f7750f64ccc...</td>\n",
              "      <td>49.0</td>\n",
              "      <td>840360002</td>\n",
              "      <td>0.008458</td>\n",
              "      <td>96</td>\n",
              "    </tr>\n",
              "    <tr>\n",
              "      <th>3</th>\n",
              "      <td>2020-07-22</td>\n",
              "      <td>0000c97821eb48d0e590fd309133f0a6c08f7750f64ccc...</td>\n",
              "      <td>49.0</td>\n",
              "      <td>817166003</td>\n",
              "      <td>0.008458</td>\n",
              "      <td>96</td>\n",
              "    </tr>\n",
              "    <tr>\n",
              "      <th>4</th>\n",
              "      <td>2020-07-28</td>\n",
              "      <td>0001076e215991bad544dd3e7312f78d9f576a1cc3ddc4...</td>\n",
              "      <td>22.0</td>\n",
              "      <td>658298001</td>\n",
              "      <td>0.022017</td>\n",
              "      <td>96</td>\n",
              "    </tr>\n",
              "  </tbody>\n",
              "</table>\n",
              "</div>\n",
              "      <button class=\"colab-df-convert\" onclick=\"convertToInteractive('df-d79f6b10-f0cc-4d0b-87e9-675fc1a838e9')\"\n",
              "              title=\"Convert this dataframe to an interactive table.\"\n",
              "              style=\"display:none;\">\n",
              "        \n",
              "  <svg xmlns=\"http://www.w3.org/2000/svg\" height=\"24px\"viewBox=\"0 0 24 24\"\n",
              "       width=\"24px\">\n",
              "    <path d=\"M0 0h24v24H0V0z\" fill=\"none\"/>\n",
              "    <path d=\"M18.56 5.44l.94 2.06.94-2.06 2.06-.94-2.06-.94-.94-2.06-.94 2.06-2.06.94zm-11 1L8.5 8.5l.94-2.06 2.06-.94-2.06-.94L8.5 2.5l-.94 2.06-2.06.94zm10 10l.94 2.06.94-2.06 2.06-.94-2.06-.94-.94-2.06-.94 2.06-2.06.94z\"/><path d=\"M17.41 7.96l-1.37-1.37c-.4-.4-.92-.59-1.43-.59-.52 0-1.04.2-1.43.59L10.3 9.45l-7.72 7.72c-.78.78-.78 2.05 0 2.83L4 21.41c.39.39.9.59 1.41.59.51 0 1.02-.2 1.41-.59l7.78-7.78 2.81-2.81c.8-.78.8-2.07 0-2.86zM5.41 20L4 18.59l7.72-7.72 1.47 1.35L5.41 20z\"/>\n",
              "  </svg>\n",
              "      </button>\n",
              "      \n",
              "  <style>\n",
              "    .colab-df-container {\n",
              "      display:flex;\n",
              "      flex-wrap:wrap;\n",
              "      gap: 12px;\n",
              "    }\n",
              "\n",
              "    .colab-df-convert {\n",
              "      background-color: #E8F0FE;\n",
              "      border: none;\n",
              "      border-radius: 50%;\n",
              "      cursor: pointer;\n",
              "      display: none;\n",
              "      fill: #1967D2;\n",
              "      height: 32px;\n",
              "      padding: 0 0 0 0;\n",
              "      width: 32px;\n",
              "    }\n",
              "\n",
              "    .colab-df-convert:hover {\n",
              "      background-color: #E2EBFA;\n",
              "      box-shadow: 0px 1px 2px rgba(60, 64, 67, 0.3), 0px 1px 3px 1px rgba(60, 64, 67, 0.15);\n",
              "      fill: #174EA6;\n",
              "    }\n",
              "\n",
              "    [theme=dark] .colab-df-convert {\n",
              "      background-color: #3B4455;\n",
              "      fill: #D2E3FC;\n",
              "    }\n",
              "\n",
              "    [theme=dark] .colab-df-convert:hover {\n",
              "      background-color: #434B5C;\n",
              "      box-shadow: 0px 1px 3px 1px rgba(0, 0, 0, 0.15);\n",
              "      filter: drop-shadow(0px 1px 2px rgba(0, 0, 0, 0.3));\n",
              "      fill: #FFFFFF;\n",
              "    }\n",
              "  </style>\n",
              "\n",
              "      <script>\n",
              "        const buttonEl =\n",
              "          document.querySelector('#df-d79f6b10-f0cc-4d0b-87e9-675fc1a838e9 button.colab-df-convert');\n",
              "        buttonEl.style.display =\n",
              "          google.colab.kernel.accessAllowed ? 'block' : 'none';\n",
              "\n",
              "        async function convertToInteractive(key) {\n",
              "          const element = document.querySelector('#df-d79f6b10-f0cc-4d0b-87e9-675fc1a838e9');\n",
              "          const dataTable =\n",
              "            await google.colab.kernel.invokeFunction('convertToInteractive',\n",
              "                                                     [key], {});\n",
              "          if (!dataTable) return;\n",
              "\n",
              "          const docLinkHtml = 'Like what you see? Visit the ' +\n",
              "            '<a target=\"_blank\" href=https://colab.research.google.com/notebooks/data_table.ipynb>data table notebook</a>'\n",
              "            + ' to learn more about interactive tables.';\n",
              "          element.innerHTML = '';\n",
              "          dataTable['output_type'] = 'display_data';\n",
              "          await google.colab.output.renderOutput(dataTable, element);\n",
              "          const docLink = document.createElement('div');\n",
              "          docLink.innerHTML = docLinkHtml;\n",
              "          element.appendChild(docLink);\n",
              "        }\n",
              "      </script>\n",
              "    </div>\n",
              "  </div>\n",
              "  "
            ]
          },
          "metadata": {},
          "execution_count": 15
        }
      ]
    },
    {
      "cell_type": "code",
      "source": [
        "transactions_processed = transactions_processed.dropna()"
      ],
      "metadata": {
        "id": "gJsvp5fi-Vc3"
      },
      "execution_count": 16,
      "outputs": []
    },
    {
      "cell_type": "markdown",
      "source": [
        "# Candidate Generation"
      ],
      "metadata": {
        "id": "BlcBfM5JmjeP"
      }
    },
    {
      "cell_type": "code",
      "source": [
        "c = customers['customer_id'].unique().tolist()"
      ],
      "metadata": {
        "id": "vsgcs5wvIYZ-"
      },
      "execution_count": 17,
      "outputs": []
    },
    {
      "cell_type": "code",
      "source": [
        "from recpack.preprocessing.preprocessors import DataFramePreprocessor\n",
        "from recpack.preprocessing.filters import MinItemsPerUser, MinUsersPerItem\n",
        "from recpack.scenarios import Timed\n",
        "from recpack.pipelines import PipelineBuilder"
      ],
      "metadata": {
        "id": "f9h5Ad2hhHFK"
      },
      "execution_count": 18,
      "outputs": []
    },
    {
      "cell_type": "markdown",
      "source": [
        "# Calculating the popularity for each of the articles"
      ],
      "metadata": {
        "id": "VRKIhfOemoIm"
      }
    },
    {
      "cell_type": "code",
      "source": [
        "# source: https://github.com/LienM/ai-project-22-23/blob/main/ArnoTroch/lecture4/submission-KNN.ipynb\n",
        "popularity = transactions_processed.groupby(['article_id', 'week']).size().reset_index(name='purchase_count').groupby(\n",
        "    'article_id').apply(lambda x: np.sum(x.purchase_count / x.week)).reset_index(name='article_popularity')\n",
        "\n",
        "# top 12\n",
        "most_popular_articles = popularity.nlargest(12, 'article_popularity')['article_id'].tolist()\n"
      ],
      "metadata": {
        "id": "zteuEd_U72G7"
      },
      "execution_count": 19,
      "outputs": []
    },
    {
      "cell_type": "markdown",
      "source": [
        "# Creating the interaction matrix with RecPack"
      ],
      "metadata": {
        "id": "ZJBijP0Km3IU"
      }
    },
    {
      "cell_type": "code",
      "source": [
        "proc = DataFramePreprocessor(item_ix='article_id', user_ix='customer_id', timestamp_ix='week')\n",
        "proc.add_filter(MinUsersPerItem(5, item_ix='article_id', user_ix='customer_id'))\n",
        "proc.add_filter(MinItemsPerUser(50, item_ix='article_id', user_ix='customer_id'))\n",
        "\n",
        "interaction_matrix = proc.process(transactions_processed[['article_id', 'customer_id', 'week']])"
      ],
      "metadata": {
        "colab": {
          "base_uri": "https://localhost:8080/",
          "height": 81,
          "referenced_widgets": [
            "5aa63b884fd447b1b3c0965f2a61245a",
            "449a46dad9ee41f7b795fae52a51ae01",
            "f6d2c9bb7de64719a41c1bebc6fbf514",
            "de3787288be249b8906ff876f0655d5e",
            "f9b96c3a193a457b8fb6cb0eeb987930",
            "79aae45a15aa4a3a8a8a7b075b8eece4",
            "2b2e74d26ad74beb9525c193eac144c3",
            "ca5a17763df543c8b944410ca2e07fc4",
            "03da5ce9df9e401890e5cd7e9c4f1036",
            "de2951d9a9fd41c8a4fe3e2fd2a7ae84",
            "223a58c7151642df8cddd944ba19c662",
            "3e17a45820cf45ee91f85faf69ce5284",
            "f0d9d4b2055e4d9fbbb7d5f8e9349524",
            "b1d0c9826f154be2b41e95693d894d05",
            "582e287f0a4544288c7a743f227556b4",
            "2e3ffbd079024fb2bbefea42fb2760dd",
            "1b48b871fe0342b49b0d693e1c49a890",
            "d11fb83ed71b49da91b1231f3fa477fe",
            "9099cc47d8664d34946a8c6cd9ec1d62",
            "069da834404e4a118968d7118445be73",
            "44316456a5604ca9adfaf837206fe3f9",
            "f2c9c86d88cc4cfe9b587940d06aec30"
          ]
        },
        "id": "q301DpU3zmc-",
        "outputId": "22ea9ecc-c51b-4a7d-e560-ee8412a05a71"
      },
      "execution_count": 20,
      "outputs": [
        {
          "output_type": "display_data",
          "data": {
            "text/plain": [
              "  0%|          | 0/36285 [00:00<?, ?it/s]"
            ],
            "application/vnd.jupyter.widget-view+json": {
              "version_major": 2,
              "version_minor": 0,
              "model_id": "5aa63b884fd447b1b3c0965f2a61245a"
            }
          },
          "metadata": {}
        },
        {
          "output_type": "display_data",
          "data": {
            "text/plain": [
              "  0%|          | 0/36285 [00:00<?, ?it/s]"
            ],
            "application/vnd.jupyter.widget-view+json": {
              "version_major": 2,
              "version_minor": 0,
              "model_id": "3e17a45820cf45ee91f85faf69ce5284"
            }
          },
          "metadata": {}
        }
      ]
    },
    {
      "cell_type": "markdown",
      "source": [
        "# Association Rules algorithm"
      ],
      "metadata": {
        "id": "M20MRvvwnAm9"
      }
    },
    {
      "cell_type": "code",
      "source": [
        "import pandas\n",
        "import numpy as np\n",
        "from scipy.sparse import csr_matrix\n",
        "from recpack.algorithms.base import TopKItemSimilarityMatrixAlgorithm\n",
        "from recpack.matrix import InteractionMatrix, to_binary\n",
        "from recpack.util import get_top_K_values, get_top_K_ranks\n",
        "\n",
        "\n",
        "def last_item_recommendations(X: InteractionMatrix):\n",
        "    \n",
        "    return get_top_K_ranks(X.last_timestamps_matrix, K=1)\n",
        "\n",
        "\n",
        "class AssociationRules(TopKItemSimilarityMatrixAlgorithm):\n",
        "    def __init__(self, K=200):\n",
        "        super().__init__(K)\n",
        "\n",
        "    def _fit(self, X: csr_matrix):\n",
        "        \"\"\"\n",
        "        Trains the predictor.\n",
        "\n",
        "        \"\"\"\n",
        "        X_binary = to_binary(X)\n",
        "        X_T_binary = csr_matrix(X_binary.transpose())\n",
        "\n",
        "        # CO_matrix = X_T_binary @ X_binary\n",
        "\n",
        "        CO_matrix = csr_matrix(X_T_binary @ X_binary)\n",
        "\n",
        "        # Here we get the best rules\n",
        "        CO_matrix = get_top_K_values(CO_matrix, self.K)\n",
        "\n",
        "        # Normalization of CO_matrix\n",
        "        CO_array = CO_matrix.toarray()\n",
        "\n",
        "        diag = np.diagonal(CO_array)\n",
        "        sim_matrix = CO_array/diag[:, None]\n",
        "        similarity = csr_matrix(sim_matrix)\n",
        "        # similarity = get_top_K_values(similarity, self.K)\n",
        "\n",
        "        self.similarity_matrix_ = similarity\n",
        "\n",
        "    def _transform_predict_input(self, X):\n",
        "        X = last_item_recommendations(X)\n",
        "        return X"
      ],
      "metadata": {
        "id": "5Xma2CEfch4f"
      },
      "execution_count": 29,
      "outputs": []
    },
    {
      "cell_type": "markdown",
      "source": [
        "# Sequential Rules algorithm"
      ],
      "metadata": {
        "id": "e-82vo8OnEMI"
      }
    },
    {
      "cell_type": "code",
      "source": [
        "from asyncio.format_helpers import _format_callback_source\n",
        "import pandas as pd\n",
        "import numpy as np\n",
        "from collections import Counter\n",
        "from itertools import chain\n",
        "from scipy.sparse import csr_matrix, lil_matrix\n",
        "from recpack.algorithms.base import ItemSimilarityMatrixAlgorithm\n",
        "from recpack.algorithms.util import invert\n",
        "from recpack.matrix import InteractionMatrix, Matrix, to_csr_matrix\n",
        "from recpack.matrix.interaction_matrix import InteractionMatrix\n",
        "from recpack.util import to_binary\n",
        "\n",
        "\n",
        "def last_item_recommendations(X: InteractionMatrix):\n",
        "    \n",
        "    return get_top_K_ranks(X.last_timestamps_matrix, K=1)\n",
        "\n",
        "\n",
        "class SequentialRules(ItemSimilarityMatrixAlgorithm):\n",
        "    def __init__(self, max_steps=20):\n",
        "        self.max_steps = max_steps\n",
        "\n",
        "    def _transform_fit_input(self, X: Matrix) -> InteractionMatrix:\n",
        "        # X_interaction_matrix = isinstance(X, InteractionMatrix)\n",
        "        if isinstance(X, InteractionMatrix) == False:\n",
        "            raise ValueError(f\"Interaction Matrix\")\n",
        "        elif X.has_timestamps == False:\n",
        "            raise ValueError(f\"requires timestamp information\")\n",
        "        else:\n",
        "            return X\n",
        "\n",
        "    def _fit(self, X: InteractionMatrix):\n",
        "        a = list(X.sorted_item_history)\n",
        "        sim_matrix = lil_matrix((X.shape[1], X.shape[1]))\n",
        "        for user, items_per_user in X.sorted_item_history:\n",
        "            for i in range(0, len(items_per_user) - 1):\n",
        "                for n_steps, j in enumerate(\n",
        "                    range(i + 1, min(len(items_per_user), i + self.max_steps + 1)),\n",
        "                    start=1,\n",
        "                ):\n",
        "                    LHS = items_per_user[i]\n",
        "                    RHS = items_per_user[j]\n",
        "                    sim_matrix[LHS, RHS] += 1 / n_steps\n",
        "        support = csr_matrix(X.values.sum(axis=0))\n",
        "\n",
        "        sim_matrix = sim_matrix.multiply(invert(support).T)\n",
        "        self.similarity_matrix_ = sim_matrix.tocsr()\n",
        "\n",
        "    def _transform_predict_input(self, X):\n",
        "        X = last_item_recommendations(X)\n",
        "        return X\n"
      ],
      "metadata": {
        "id": "1BybQhG6ctAE"
      },
      "execution_count": 30,
      "outputs": []
    },
    {
      "cell_type": "markdown",
      "source": [
        "# Registering both implemented algorithms."
      ],
      "metadata": {
        "id": "Dce7Ooy-nJV6"
      }
    },
    {
      "cell_type": "code",
      "source": [
        "from recpack.pipelines import ALGORITHM_REGISTRY, PipelineBuilder, pipeline_builder\n",
        "\n",
        "ALGORITHM_REGISTRY.register('Association_Rules', AssociationRules)\n",
        "ALGORITHM_REGISTRY.register('Sequential_Rules', SequentialRules)"
      ],
      "metadata": {
        "id": "WzMT87XPc5ru"
      },
      "execution_count": 32,
      "outputs": []
    },
    {
      "cell_type": "markdown",
      "source": [
        "# Defining the best split, by using scenarios in RecPack"
      ],
      "metadata": {
        "id": "CjT2GVmXnO3D"
      }
    },
    {
      "cell_type": "code",
      "source": [
        "import matplotlib.pyplot as plt\n",
        "plt.hist(interaction_matrix.timestamps.values)"
      ],
      "metadata": {
        "colab": {
          "base_uri": "https://localhost:8080/",
          "height": 352
        },
        "id": "TBpNWW3nzuhg",
        "outputId": "a116d0a8-3b92-4770-b310-205781a8ce65"
      },
      "execution_count": 24,
      "outputs": [
        {
          "output_type": "execute_result",
          "data": {
            "text/plain": [
              "(array([4228., 4921., 4520., 4369.,    0., 3887., 3666., 3747., 3608.,\n",
              "        3339.]),\n",
              " array([ 96. ,  96.8,  97.6,  98.4,  99.2, 100. , 100.8, 101.6, 102.4,\n",
              "        103.2, 104. ]),\n",
              " <a list of 10 Patch objects>)"
            ]
          },
          "metadata": {},
          "execution_count": 24
        },
        {
          "output_type": "display_data",
          "data": {
            "text/plain": [
              "<Figure size 432x288 with 1 Axes>"
            ],
            "image/png": "[encoded data removed]"
          },
          "metadata": {
            "needs_background": "light"
          }
        }
      ]
    },
    {
      "cell_type": "code",
      "source": [
        "scenario = Timed(t=101, t_validation=99, delta_out=None, delta_in=None, validation=True) # weeks calculated with calculator.\n",
        "scenario.split(interaction_matrix)"
      ],
      "metadata": {
        "id": "naknpMdS1K18"
      },
      "execution_count": 33,
      "outputs": []
    },
    {
      "cell_type": "markdown",
      "source": [
        "# Building a Pipeline from RecPack to run and generate the results of the algorithms."
      ],
      "metadata": {
        "id": "rk4LG8YHndha"
      }
    },
    {
      "cell_type": "code",
      "source": [
        "builder = PipelineBuilder()\n",
        "builder.set_data_from_scenario(scenario)\n",
        "builder.add_algorithm('Popularity')\n",
        "builder.add_algorithm('ItemKNN', grid={\n",
        "    'K': [10, 20, 30, 40],\n",
        "    'similarity': ['cosine'],\n",
        "})\n",
        "builder.add_algorithm('Association_Rules', grid={'K': [100, 200, 300]})\n",
        "builder.add_algorithm('Sequential_Rules', grid={'max_steps': [20, 30, 40]})\n",
        "builder.set_optimisation_metric('CoverageK', K=12)\n",
        "builder.set_optimisation_metric('NDCGK', K=12)\n",
        "builder.add_metric('CoverageK', K=[10, 20, 30, 40])\n",
        "builder.add_metric('NDCGK', [10, 20, 30, 40])"
      ],
      "metadata": {
        "id": "_MAw5n2y1TIh"
      },
      "execution_count": 34,
      "outputs": []
    },
    {
      "cell_type": "code",
      "source": [
        "pipeline = builder.build()\n",
        "pipeline.run()"
      ],
      "metadata": {
        "colab": {
          "base_uri": "https://localhost:8080/",
          "height": 708,
          "referenced_widgets": [
            "e355ec58ecf44cbfbaa79100a0d7b4fc",
            "3e8e9b89cb8f40f39666aaf003997c38",
            "f8bfba4019e4452ebee232781e6ab920",
            "5b4f88d695aa470d9af3d1f56f82e23d",
            "cfa393459ba14a4fa4ce91451e5a83b5",
            "c15cc12560f9473eaeea170980c07c3e",
            "e827f34042034db48c86bf4ca206972e",
            "0e29a727c036435baaf07ed580b9ec87",
            "663cc36613ca4ec3ac4ee5696805e50b",
            "ee4ea89b3a894b6a9c2b9f4962d295fc",
            "3a0d653ebaaf4b608dc40d4ec59ce990"
          ]
        },
        "id": "4xpIttA21YSG",
        "outputId": "533bac8c-1c9a-4f30-b769-79df09716f48"
      },
      "execution_count": 35,
      "outputs": [
        {
          "output_type": "display_data",
          "data": {
            "text/plain": [
              "  0%|          | 0/4 [00:00<?, ?it/s]"
            ],
            "application/vnd.jupyter.widget-view+json": {
              "version_major": 2,
              "version_minor": 0,
              "model_id": "e355ec58ecf44cbfbaa79100a0d7b4fc"
            }
          },
          "metadata": {}
        },
        {
          "output_type": "stream",
          "name": "stdout",
          "text": [
            "2022-11-22 22:32:28,433 - base - recpack - INFO - Fitting Popularity complete - Took 0.0122s\n"
          ]
        },
        {
          "output_type": "stream",
          "name": "stderr",
          "text": [
            "INFO:recpack:Fitting Popularity complete - Took 0.0122s\n"
          ]
        },
        {
          "output_type": "stream",
          "name": "stdout",
          "text": [
            "2022-11-22 22:32:28,940 - base - recpack - INFO - Fitting ItemKNN complete - Took 0.279s\n"
          ]
        },
        {
          "output_type": "stream",
          "name": "stderr",
          "text": [
            "INFO:recpack:Fitting ItemKNN complete - Took 0.279s\n"
          ]
        },
        {
          "output_type": "stream",
          "name": "stdout",
          "text": [
            "2022-11-22 22:32:29,316 - base - recpack - INFO - Fitting ItemKNN complete - Took 0.337s\n"
          ]
        },
        {
          "output_type": "stream",
          "name": "stderr",
          "text": [
            "INFO:recpack:Fitting ItemKNN complete - Took 0.337s\n"
          ]
        },
        {
          "output_type": "stream",
          "name": "stdout",
          "text": [
            "2022-11-22 22:32:29,741 - base - recpack - INFO - Fitting ItemKNN complete - Took 0.376s\n"
          ]
        },
        {
          "output_type": "stream",
          "name": "stderr",
          "text": [
            "INFO:recpack:Fitting ItemKNN complete - Took 0.376s\n"
          ]
        },
        {
          "output_type": "stream",
          "name": "stdout",
          "text": [
            "2022-11-22 22:32:30,222 - base - recpack - INFO - Fitting ItemKNN complete - Took 0.42s\n"
          ]
        },
        {
          "output_type": "stream",
          "name": "stderr",
          "text": [
            "INFO:recpack:Fitting ItemKNN complete - Took 0.42s\n"
          ]
        },
        {
          "output_type": "stream",
          "name": "stdout",
          "text": [
            "2022-11-22 22:32:30,704 - base - recpack - INFO - Fitting ItemKNN complete - Took 0.415s\n"
          ]
        },
        {
          "output_type": "stream",
          "name": "stderr",
          "text": [
            "INFO:recpack:Fitting ItemKNN complete - Took 0.415s\n",
            "/usr/local/lib/python3.7/dist-packages/ipykernel_launcher.py:37: RuntimeWarning: divide by zero encountered in true_divide\n",
            "/usr/local/lib/python3.7/dist-packages/ipykernel_launcher.py:37: RuntimeWarning: invalid value encountered in true_divide\n"
          ]
        },
        {
          "output_type": "stream",
          "name": "stdout",
          "text": [
            "2022-11-22 22:32:38,810 - base - recpack - INFO - Fitting AssociationRules complete - Took 7.86s\n"
          ]
        },
        {
          "output_type": "stream",
          "name": "stderr",
          "text": [
            "INFO:recpack:Fitting AssociationRules complete - Took 7.86s\n"
          ]
        },
        {
          "output_type": "stream",
          "name": "stdout",
          "text": [
            "2022-11-22 22:32:51,734 - base - recpack - INFO - Fitting AssociationRules complete - Took 7.89s\n"
          ]
        },
        {
          "output_type": "stream",
          "name": "stderr",
          "text": [
            "INFO:recpack:Fitting AssociationRules complete - Took 7.89s\n"
          ]
        },
        {
          "output_type": "stream",
          "name": "stdout",
          "text": [
            "2022-11-22 22:33:04,555 - base - recpack - INFO - Fitting AssociationRules complete - Took 7.83s\n"
          ]
        },
        {
          "output_type": "stream",
          "name": "stderr",
          "text": [
            "INFO:recpack:Fitting AssociationRules complete - Took 7.83s\n"
          ]
        },
        {
          "output_type": "stream",
          "name": "stdout",
          "text": [
            "2022-11-22 22:33:14,949 - base - recpack - INFO - Fitting AssociationRules complete - Took 5.4s\n"
          ]
        },
        {
          "output_type": "stream",
          "name": "stderr",
          "text": [
            "INFO:recpack:Fitting AssociationRules complete - Took 5.4s\n"
          ]
        },
        {
          "output_type": "stream",
          "name": "stdout",
          "text": [
            "2022-11-22 22:33:19,671 - base - recpack - INFO - Fitting SequentialRules complete - Took 1.58s\n"
          ]
        },
        {
          "output_type": "stream",
          "name": "stderr",
          "text": [
            "/content/recpack/algorithms/base.py:271: UserWarning: SequentialRules missing similar items for 5077 items.\n",
            "  warnings.warn(f\"{self.name} missing similar items for {missing} items.\")\n",
            "INFO:recpack:Fitting SequentialRules complete - Took 1.58s\n",
            "/content/recpack/algorithms/base.py:119: UserWarning: SequentialRules failed to recommend any items for 66 users\n",
            "  warnings.warn(f\"{self.name} failed to recommend any items \" f\"for {len(missing)} users\")\n"
          ]
        },
        {
          "output_type": "stream",
          "name": "stdout",
          "text": [
            "2022-11-22 22:33:21,529 - base - recpack - INFO - Fitting SequentialRules complete - Took 1.81s\n"
          ]
        },
        {
          "output_type": "stream",
          "name": "stderr",
          "text": [
            "INFO:recpack:Fitting SequentialRules complete - Took 1.81s\n"
          ]
        },
        {
          "output_type": "stream",
          "name": "stdout",
          "text": [
            "2022-11-22 22:33:23,706 - base - recpack - INFO - Fitting SequentialRules complete - Took 2.13s\n"
          ]
        },
        {
          "output_type": "stream",
          "name": "stderr",
          "text": [
            "INFO:recpack:Fitting SequentialRules complete - Took 2.13s\n"
          ]
        },
        {
          "output_type": "stream",
          "name": "stdout",
          "text": [
            "2022-11-22 22:33:26,371 - base - recpack - INFO - Fitting SequentialRules complete - Took 2.6s\n"
          ]
        },
        {
          "output_type": "stream",
          "name": "stderr",
          "text": [
            "/content/recpack/algorithms/base.py:271: UserWarning: SequentialRules missing similar items for 3023 items.\n",
            "  warnings.warn(f\"{self.name} missing similar items for {missing} items.\")\n",
            "INFO:recpack:Fitting SequentialRules complete - Took 2.6s\n",
            "/content/recpack/algorithms/base.py:119: UserWarning: SequentialRules failed to recommend any items for 74 users\n",
            "  warnings.warn(f\"{self.name} failed to recommend any items \" f\"for {len(missing)} users\")\n"
          ]
        }
      ]
    },
    {
      "cell_type": "markdown",
      "source": [
        "# Results"
      ],
      "metadata": {
        "id": "phBDz_1inmch"
      }
    },
    {
      "cell_type": "code",
      "source": [
        "pipeline.get_metrics()"
      ],
      "metadata": {
        "colab": {
          "base_uri": "https://localhost:8080/",
          "height": 239
        },
        "id": "q0peefE-1ecD",
        "outputId": "0fe835e5-c28a-4c8e-b4b1-deb39c066d52"
      },
      "execution_count": 36,
      "outputs": [
        {
          "output_type": "execute_result",
          "data": {
            "text/plain": [
              "                                                    coveragek_10  \\\n",
              "Popularity(K=200)                                       0.001338   \n",
              "ItemKNN(K=30,normalize_X=False,normalize_sim=Fa...      0.225087   \n",
              "AssociationRules(K=100)                                 0.126684   \n",
              "SequentialRules(max_steps=20)                           0.153627   \n",
              "\n",
              "                                                    coveragek_20  \\\n",
              "Popularity(K=200)                                       0.002409   \n",
              "ItemKNN(K=30,normalize_X=False,normalize_sim=Fa...      0.315461   \n",
              "AssociationRules(K=100)                                 0.204835   \n",
              "SequentialRules(max_steps=20)                           0.240075   \n",
              "\n",
              "                                                    coveragek_30  \\\n",
              "Popularity(K=200)                                       0.003747   \n",
              "ItemKNN(K=30,normalize_X=False,normalize_sim=Fa...      0.374788   \n",
              "AssociationRules(K=100)                                 0.258007   \n",
              "SequentialRules(max_steps=20)                           0.283968   \n",
              "\n",
              "                                                    coveragek_40  ndcgk_10  \\\n",
              "Popularity(K=200)                                       0.005085  0.010067   \n",
              "ItemKNN(K=30,normalize_X=False,normalize_sim=Fa...      0.412615  0.003145   \n",
              "AssociationRules(K=100)                                 0.310197  0.004176   \n",
              "SequentialRules(max_steps=20)                           0.314747  0.003751   \n",
              "\n",
              "                                                    ndcgk_20  ndcgk_30  \\\n",
              "Popularity(K=200)                                   0.010245  0.010552   \n",
              "ItemKNN(K=30,normalize_X=False,normalize_sim=Fa...  0.002838  0.002684   \n",
              "AssociationRules(K=100)                             0.003277  0.003594   \n",
              "SequentialRules(max_steps=20)                       0.003805  0.003683   \n",
              "\n",
              "                                                    ndcgk_40  \n",
              "Popularity(K=200)                                   0.012586  \n",
              "ItemKNN(K=30,normalize_X=False,normalize_sim=Fa...  0.003380  \n",
              "AssociationRules(K=100)                             0.003622  \n",
              "SequentialRules(max_steps=20)                       0.003747  "
            ],
            "text/html": [
              "\n",
              "  <div id=\"df-e79aa90f-0334-4da1-aa91-2e66c90dbd56\">\n",
              "    <div class=\"colab-df-container\">\n",
              "      <div>\n",
              "<style scoped>\n",
              "    .dataframe tbody tr th:only-of-type {\n",
              "        vertical-align: middle;\n",
              "    }\n",
              "\n",
              "    .dataframe tbody tr th {\n",
              "        vertical-align: top;\n",
              "    }\n",
              "\n",
              "    .dataframe thead th {\n",
              "        text-align: right;\n",
              "    }\n",
              "</style>\n",
              "<table border=\"1\" class=\"dataframe\">\n",
              "  <thead>\n",
              "    <tr style=\"text-align: right;\">\n",
              "      <th></th>\n",
              "      <th>coveragek_10</th>\n",
              "      <th>coveragek_20</th>\n",
              "      <th>coveragek_30</th>\n",
              "      <th>coveragek_40</th>\n",
              "      <th>ndcgk_10</th>\n",
              "      <th>ndcgk_20</th>\n",
              "      <th>ndcgk_30</th>\n",
              "      <th>ndcgk_40</th>\n",
              "    </tr>\n",
              "  </thead>\n",
              "  <tbody>\n",
              "    <tr>\n",
              "      <th>Popularity(K=200)</th>\n",
              "      <td>0.001338</td>\n",
              "      <td>0.002409</td>\n",
              "      <td>0.003747</td>\n",
              "      <td>0.005085</td>\n",
              "      <td>0.010067</td>\n",
              "      <td>0.010245</td>\n",
              "      <td>0.010552</td>\n",
              "      <td>0.012586</td>\n",
              "    </tr>\n",
              "    <tr>\n",
              "      <th>ItemKNN(K=30,normalize_X=False,normalize_sim=False,pop_discount=None,similarity=cosine)</th>\n",
              "      <td>0.225087</td>\n",
              "      <td>0.315461</td>\n",
              "      <td>0.374788</td>\n",
              "      <td>0.412615</td>\n",
              "      <td>0.003145</td>\n",
              "      <td>0.002838</td>\n",
              "      <td>0.002684</td>\n",
              "      <td>0.003380</td>\n",
              "    </tr>\n",
              "    <tr>\n",
              "      <th>AssociationRules(K=100)</th>\n",
              "      <td>0.126684</td>\n",
              "      <td>0.204835</td>\n",
              "      <td>0.258007</td>\n",
              "      <td>0.310197</td>\n",
              "      <td>0.004176</td>\n",
              "      <td>0.003277</td>\n",
              "      <td>0.003594</td>\n",
              "      <td>0.003622</td>\n",
              "    </tr>\n",
              "    <tr>\n",
              "      <th>SequentialRules(max_steps=20)</th>\n",
              "      <td>0.153627</td>\n",
              "      <td>0.240075</td>\n",
              "      <td>0.283968</td>\n",
              "      <td>0.314747</td>\n",
              "      <td>0.003751</td>\n",
              "      <td>0.003805</td>\n",
              "      <td>0.003683</td>\n",
              "      <td>0.003747</td>\n",
              "    </tr>\n",
              "  </tbody>\n",
              "</table>\n",
              "</div>\n",
              "      <button class=\"colab-df-convert\" onclick=\"convertToInteractive('df-e79aa90f-0334-4da1-aa91-2e66c90dbd56')\"\n",
              "              title=\"Convert this dataframe to an interactive table.\"\n",
              "              style=\"display:none;\">\n",
              "        \n",
              "  <svg xmlns=\"http://www.w3.org/2000/svg\" height=\"24px\"viewBox=\"0 0 24 24\"\n",
              "       width=\"24px\">\n",
              "    <path d=\"M0 0h24v24H0V0z\" fill=\"none\"/>\n",
              "    <path d=\"M18.56 5.44l.94 2.06.94-2.06 2.06-.94-2.06-.94-.94-2.06-.94 2.06-2.06.94zm-11 1L8.5 8.5l.94-2.06 2.06-.94-2.06-.94L8.5 2.5l-.94 2.06-2.06.94zm10 10l.94 2.06.94-2.06 2.06-.94-2.06-.94-.94-2.06-.94 2.06-2.06.94z\"/><path d=\"M17.41 7.96l-1.37-1.37c-.4-.4-.92-.59-1.43-.59-.52 0-1.04.2-1.43.59L10.3 9.45l-7.72 7.72c-.78.78-.78 2.05 0 2.83L4 21.41c.39.39.9.59 1.41.59.51 0 1.02-.2 1.41-.59l7.78-7.78 2.81-2.81c.8-.78.8-2.07 0-2.86zM5.41 20L4 18.59l7.72-7.72 1.47 1.35L5.41 20z\"/>\n",
              "  </svg>\n",
              "      </button>\n",
              "      \n",
              "  <style>\n",
              "    .colab-df-container {\n",
              "      display:flex;\n",
              "      flex-wrap:wrap;\n",
              "      gap: 12px;\n",
              "    }\n",
              "\n",
              "    .colab-df-convert {\n",
              "      background-color: #E8F0FE;\n",
              "      border: none;\n",
              "      border-radius: 50%;\n",
              "      cursor: pointer;\n",
              "      display: none;\n",
              "      fill: #1967D2;\n",
              "      height: 32px;\n",
              "      padding: 0 0 0 0;\n",
              "      width: 32px;\n",
              "    }\n",
              "\n",
              "    .colab-df-convert:hover {\n",
              "      background-color: #E2EBFA;\n",
              "      box-shadow: 0px 1px 2px rgba(60, 64, 67, 0.3), 0px 1px 3px 1px rgba(60, 64, 67, 0.15);\n",
              "      fill: #174EA6;\n",
              "    }\n",
              "\n",
              "    [theme=dark] .colab-df-convert {\n",
              "      background-color: #3B4455;\n",
              "      fill: #D2E3FC;\n",
              "    }\n",
              "\n",
              "    [theme=dark] .colab-df-convert:hover {\n",
              "      background-color: #434B5C;\n",
              "      box-shadow: 0px 1px 3px 1px rgba(0, 0, 0, 0.15);\n",
              "      filter: drop-shadow(0px 1px 2px rgba(0, 0, 0, 0.3));\n",
              "      fill: #FFFFFF;\n",
              "    }\n",
              "  </style>\n",
              "\n",
              "      <script>\n",
              "        const buttonEl =\n",
              "          document.querySelector('#df-e79aa90f-0334-4da1-aa91-2e66c90dbd56 button.colab-df-convert');\n",
              "        buttonEl.style.display =\n",
              "          google.colab.kernel.accessAllowed ? 'block' : 'none';\n",
              "\n",
              "        async function convertToInteractive(key) {\n",
              "          const element = document.querySelector('#df-e79aa90f-0334-4da1-aa91-2e66c90dbd56');\n",
              "          const dataTable =\n",
              "            await google.colab.kernel.invokeFunction('convertToInteractive',\n",
              "                                                     [key], {});\n",
              "          if (!dataTable) return;\n",
              "\n",
              "          const docLinkHtml = 'Like what you see? Visit the ' +\n",
              "            '<a target=\"_blank\" href=https://colab.research.google.com/notebooks/data_table.ipynb>data table notebook</a>'\n",
              "            + ' to learn more about interactive tables.';\n",
              "          element.innerHTML = '';\n",
              "          dataTable['output_type'] = 'display_data';\n",
              "          await google.colab.output.renderOutput(dataTable, element);\n",
              "          const docLink = document.createElement('div');\n",
              "          docLink.innerHTML = docLinkHtml;\n",
              "          element.appendChild(docLink);\n",
              "        }\n",
              "      </script>\n",
              "    </div>\n",
              "  </div>\n",
              "  "
            ]
          },
          "metadata": {},
          "execution_count": 36
        }
      ]
    },
    {
      "cell_type": "markdown",
      "source": [
        "# ItemKNN used to generate candidates"
      ],
      "metadata": {
        "id": "G6Mn_HuCnpzb"
      }
    },
    {
      "cell_type": "code",
      "source": [
        "from recpack.algorithms import ItemKNN\n",
        "knn = ItemKNN(K=20, similarity='cosine')\n",
        "knn.fit(interaction_matrix)"
      ],
      "metadata": {
        "colab": {
          "base_uri": "https://localhost:8080/"
        },
        "id": "bpEiVPxS7q8p",
        "outputId": "d4fdea52-dd1e-42cf-fa8f-beb383fe5aad"
      },
      "execution_count": 164,
      "outputs": [
        {
          "output_type": "stream",
          "name": "stdout",
          "text": [
            "2022-11-22 22:16:30,119 - base - recpack - INFO - Fitting ItemKNN complete - Took 76.5s\n"
          ]
        },
        {
          "output_type": "stream",
          "name": "stderr",
          "text": [
            "INFO:recpack:Fitting ItemKNN complete - Took 76.5s\n"
          ]
        },
        {
          "output_type": "execute_result",
          "data": {
            "text/plain": [
              "ItemKNN(K=20)"
            ]
          },
          "metadata": {},
          "execution_count": 164
        }
      ]
    },
    {
      "cell_type": "code",
      "source": [
        "predictions = knn.predict(interaction_matrix)"
      ],
      "metadata": {
        "id": "fw-rIbNg7ujY"
      },
      "execution_count": 165,
      "outputs": []
    },
    {
      "cell_type": "markdown",
      "source": [
        "# Association Rules used to generate candidates"
      ],
      "metadata": {
        "id": "Kmn2AMWSnxUq"
      }
    },
    {
      "cell_type": "code",
      "source": [
        "ar = AssociationRules(K=100)\n",
        "ar.fit(interaction_matrix)"
      ],
      "metadata": {
        "colab": {
          "base_uri": "https://localhost:8080/"
        },
        "id": "Gcd7EqbQekwi",
        "outputId": "12de5b59-7445-49d2-9f89-3270d0f84960"
      },
      "execution_count": 37,
      "outputs": [
        {
          "output_type": "stream",
          "name": "stderr",
          "text": [
            "/usr/local/lib/python3.7/dist-packages/ipykernel_launcher.py:37: RuntimeWarning: divide by zero encountered in true_divide\n",
            "/usr/local/lib/python3.7/dist-packages/ipykernel_launcher.py:37: RuntimeWarning: invalid value encountered in true_divide\n"
          ]
        },
        {
          "output_type": "stream",
          "name": "stdout",
          "text": [
            "2022-11-22 22:35:17,854 - base - recpack - INFO - Fitting AssociationRules complete - Took 2.94s\n"
          ]
        },
        {
          "output_type": "stream",
          "name": "stderr",
          "text": [
            "INFO:recpack:Fitting AssociationRules complete - Took 2.94s\n"
          ]
        },
        {
          "output_type": "execute_result",
          "data": {
            "text/plain": [
              "AssociationRules(K=100)"
            ]
          },
          "metadata": {},
          "execution_count": 37
        }
      ]
    },
    {
      "cell_type": "code",
      "source": [
        "pred = ar.predict(interaction_matrix)"
      ],
      "metadata": {
        "id": "JLTZYxEue0Zv"
      },
      "execution_count": 38,
      "outputs": []
    },
    {
      "cell_type": "markdown",
      "source": [
        "# Sequential Rules used to generate candidates"
      ],
      "metadata": {
        "id": "IzXAoC_Yn2jn"
      }
    },
    {
      "cell_type": "code",
      "source": [
        "sr = SequentialRules(max_steps=20)\n",
        "sr.fit(interaction_matrix)"
      ],
      "metadata": {
        "colab": {
          "base_uri": "https://localhost:8080/"
        },
        "id": "lI0AHiwpg_-w",
        "outputId": "ac93cffa-d50b-4438-aa7d-b9b239a228d4"
      },
      "execution_count": 43,
      "outputs": [
        {
          "output_type": "stream",
          "name": "stdout",
          "text": [
            "2022-11-22 22:45:36,801 - base - recpack - INFO - Fitting SequentialRules complete - Took 4.61s\n"
          ]
        },
        {
          "output_type": "stream",
          "name": "stderr",
          "text": [
            "/usr/local/lib/python3.7/dist-packages/scipy/sparse/_index.py:125: SparseEfficiencyWarning: Changing the sparsity structure of a csr_matrix is expensive. lil_matrix is more efficient.\n",
            "  self._set_arrayXarray(i, j, x)\n",
            "/content/recpack/algorithms/base.py:271: UserWarning: SequentialRules missing similar items for 76 items.\n",
            "  warnings.warn(f\"{self.name} missing similar items for {missing} items.\")\n",
            "INFO:recpack:Fitting SequentialRules complete - Took 4.61s\n"
          ]
        },
        {
          "output_type": "execute_result",
          "data": {
            "text/plain": [
              "SequentialRules()"
            ]
          },
          "metadata": {},
          "execution_count": 43
        }
      ]
    },
    {
      "cell_type": "code",
      "source": [
        "pred_sr = sr.predict(interaction_matrix)"
      ],
      "metadata": {
        "colab": {
          "base_uri": "https://localhost:8080/"
        },
        "id": "5hlGJ2mghKlK",
        "outputId": "0cf11671-8467-4b8c-ece7-874a6831f7d1"
      },
      "execution_count": 44,
      "outputs": [
        {
          "output_type": "stream",
          "name": "stderr",
          "text": [
            "/content/recpack/algorithms/base.py:271: UserWarning: SequentialRules missing similar items for 76 items.\n",
            "  warnings.warn(f\"{self.name} missing similar items for {missing} items.\")\n",
            "/content/recpack/algorithms/base.py:119: UserWarning: SequentialRules failed to recommend any items for 76 users\n",
            "  warnings.warn(f\"{self.name} failed to recommend any items \" f\"for {len(missing)} users\")\n"
          ]
        }
      ]
    },
    {
      "cell_type": "code",
      "source": [
        "def top_n_idx_sparse(matrix, n):\n",
        "    \"\"\"\n",
        "    source: https://stackoverflow.com/questions/49207275/finding-the-top-n-values-in-a-row-of-a-scipy-sparse-matrix\n",
        "    \"\"\"\n",
        "    '''Return index of top n values in each row of a sparse matrix'''\n",
        "    top_n_idx = []\n",
        "    for le, ri in zip(matrix.indptr[:-1], matrix.indptr[1:]):\n",
        "        n_row_pick = min(n, ri - le)\n",
        "        if n_row_pick == n:\n",
        "          top_n_idx.append(matrix.indices[le + np.argpartition(matrix.data[le:ri], -n_row_pick)[-n_row_pick:]].tolist())\n",
        "    return top_n_idx"
      ],
      "metadata": {
        "id": "oaQMjfT27xKx"
      },
      "execution_count": 56,
      "outputs": []
    },
    {
      "cell_type": "code",
      "source": [
        "# https://github.com/LienM/ai-project-22-23/blob/main/ArnoTroch/lecture4/submission-KNN.ipynb\n",
        "pred_indices = top_n_idx_sparse(pred_sr, 12)\n",
        "# create a dict with customer_id as key and an empty list as value\n",
        "prediction_dict = {customer_id: most_popular_articles for customer_id in c}\n",
        "\n",
        "# use interaction_matrix._df to map back to original customer and article ids\n",
        "uid_cid_map = interaction_matrix._df[[\"uid\", \"customer_id\"]].drop_duplicates().set_index(\"uid\").to_dict()[\"customer_id\"]\n",
        "iid_aid_map = interaction_matrix._df[[\"iid\", \"article_id\"]].drop_duplicates().set_index(\"iid\").to_dict()[\"article_id\"]"
      ],
      "metadata": {
        "id": "WEGRHGpz8ndx"
      },
      "execution_count": 57,
      "outputs": []
    },
    {
      "cell_type": "code",
      "source": [
        "# https://github.com/LienM/ai-project-22-23/blob/main/ArnoTroch/lecture4/submission-KNN.ipynb\n",
        "for i, row in enumerate(pred_indices):\n",
        "    user_predictions = [iid_aid_map[iid] for iid in row]\n",
        "    if len(user_predictions) < 12:\n",
        "        # add all most popular articles that are not already in the list\n",
        "        user_predictions.extend([aid for aid in most_popular_articles if aid not in user_predictions])[:12]\n",
        "    prediction_dict[uid_cid_map[i]] = user_predictions\n",
        "# create a dataframe with the predictions\n",
        "df_pred = pd.DataFrame({\n",
        "    'customer_id': list(prediction_dict.keys()), \n",
        "    'prediction': list(\" \".join([\"0\" + str(article) for article in articles]) for articles in prediction_dict.values())\n",
        "})\n",
        "#df_pred = df_pred.drop(df_pred.index[range(7)])\n",
        "df_pred"
      ],
      "metadata": {
        "colab": {
          "base_uri": "https://localhost:8080/",
          "height": 424
        },
        "id": "6adDImSj9JwZ",
        "outputId": "5ae2f949-7770-4d68-cbb9-9edfd678aaf9"
      },
      "execution_count": 59,
      "outputs": [
        {
          "output_type": "execute_result",
          "data": {
            "text/plain": [
              "                                               customer_id  \\\n",
              "0        00000dbacae5abe5e23885899a1fa44253a17956c6d1c3...   \n",
              "1        0000423b00ade91418cceaf3b26c6af3dd342b51fd051e...   \n",
              "2        000058a12d5b43e67d225668fa1f8d618c13dc232df0ca...   \n",
              "3        00005ca1c9ed5f5146b52ac8639a40ca9d57aeff4d1bd2...   \n",
              "4        00006413d8573cd20ed7128e53b7b13819fe5cfc2d801f...   \n",
              "...                                                    ...   \n",
              "1371975  ffffbbf78b6eaac697a8a5dfbfd2bfa8113ee5b403e474...   \n",
              "1371976  ffffcd5046a6143d29a04fb8c424ce494a76e5cdf4fab5...   \n",
              "1371977  ffffcf35913a0bee60e8741cb2b4e78b8a98ee5ff2e6a1...   \n",
              "1371978  ffffd7744cebcf3aca44ae7049d2a94b87074c3d4ffe38...   \n",
              "1371979  ffffd9ac14e89946416d80e791d064701994755c3ab686...   \n",
              "\n",
              "                                                prediction  \n",
              "0        0751471001 0706016001 0918292001 0372860002 07...  \n",
              "1        0751471001 0706016001 0918292001 0372860002 07...  \n",
              "2        0751471001 0706016001 0918292001 0372860002 07...  \n",
              "3        0751471001 0706016001 0918292001 0372860002 07...  \n",
              "4        0751471001 0706016001 0918292001 0372860002 07...  \n",
              "...                                                    ...  \n",
              "1371975  0751471001 0706016001 0918292001 0372860002 07...  \n",
              "1371976  0751471001 0706016001 0918292001 0372860002 07...  \n",
              "1371977  0751471001 0706016001 0918292001 0372860002 07...  \n",
              "1371978  0751471001 0706016001 0918292001 0372860002 07...  \n",
              "1371979  0751471001 0706016001 0918292001 0372860002 07...  \n",
              "\n",
              "[1371980 rows x 2 columns]"
            ],
            "text/html": [
              "\n",
              "  <div id=\"df-c8827772-fb0f-47d3-9495-7203ffcdbf29\">\n",
              "    <div class=\"colab-df-container\">\n",
              "      <div>\n",
              "<style scoped>\n",
              "    .dataframe tbody tr th:only-of-type {\n",
              "        vertical-align: middle;\n",
              "    }\n",
              "\n",
              "    .dataframe tbody tr th {\n",
              "        vertical-align: top;\n",
              "    }\n",
              "\n",
              "    .dataframe thead th {\n",
              "        text-align: right;\n",
              "    }\n",
              "</style>\n",
              "<table border=\"1\" class=\"dataframe\">\n",
              "  <thead>\n",
              "    <tr style=\"text-align: right;\">\n",
              "      <th></th>\n",
              "      <th>customer_id</th>\n",
              "      <th>prediction</th>\n",
              "    </tr>\n",
              "  </thead>\n",
              "  <tbody>\n",
              "    <tr>\n",
              "      <th>0</th>\n",
              "      <td>00000dbacae5abe5e23885899a1fa44253a17956c6d1c3...</td>\n",
              "      <td>0751471001 0706016001 0918292001 0372860002 07...</td>\n",
              "    </tr>\n",
              "    <tr>\n",
              "      <th>1</th>\n",
              "      <td>0000423b00ade91418cceaf3b26c6af3dd342b51fd051e...</td>\n",
              "      <td>0751471001 0706016001 0918292001 0372860002 07...</td>\n",
              "    </tr>\n",
              "    <tr>\n",
              "      <th>2</th>\n",
              "      <td>000058a12d5b43e67d225668fa1f8d618c13dc232df0ca...</td>\n",
              "      <td>0751471001 0706016001 0918292001 0372860002 07...</td>\n",
              "    </tr>\n",
              "    <tr>\n",
              "      <th>3</th>\n",
              "      <td>00005ca1c9ed5f5146b52ac8639a40ca9d57aeff4d1bd2...</td>\n",
              "      <td>0751471001 0706016001 0918292001 0372860002 07...</td>\n",
              "    </tr>\n",
              "    <tr>\n",
              "      <th>4</th>\n",
              "      <td>00006413d8573cd20ed7128e53b7b13819fe5cfc2d801f...</td>\n",
              "      <td>0751471001 0706016001 0918292001 0372860002 07...</td>\n",
              "    </tr>\n",
              "    <tr>\n",
              "      <th>...</th>\n",
              "      <td>...</td>\n",
              "      <td>...</td>\n",
              "    </tr>\n",
              "    <tr>\n",
              "      <th>1371975</th>\n",
              "      <td>ffffbbf78b6eaac697a8a5dfbfd2bfa8113ee5b403e474...</td>\n",
              "      <td>0751471001 0706016001 0918292001 0372860002 07...</td>\n",
              "    </tr>\n",
              "    <tr>\n",
              "      <th>1371976</th>\n",
              "      <td>ffffcd5046a6143d29a04fb8c424ce494a76e5cdf4fab5...</td>\n",
              "      <td>0751471001 0706016001 0918292001 0372860002 07...</td>\n",
              "    </tr>\n",
              "    <tr>\n",
              "      <th>1371977</th>\n",
              "      <td>ffffcf35913a0bee60e8741cb2b4e78b8a98ee5ff2e6a1...</td>\n",
              "      <td>0751471001 0706016001 0918292001 0372860002 07...</td>\n",
              "    </tr>\n",
              "    <tr>\n",
              "      <th>1371978</th>\n",
              "      <td>ffffd7744cebcf3aca44ae7049d2a94b87074c3d4ffe38...</td>\n",
              "      <td>0751471001 0706016001 0918292001 0372860002 07...</td>\n",
              "    </tr>\n",
              "    <tr>\n",
              "      <th>1371979</th>\n",
              "      <td>ffffd9ac14e89946416d80e791d064701994755c3ab686...</td>\n",
              "      <td>0751471001 0706016001 0918292001 0372860002 07...</td>\n",
              "    </tr>\n",
              "  </tbody>\n",
              "</table>\n",
              "<p>1371980 rows × 2 columns</p>\n",
              "</div>\n",
              "      <button class=\"colab-df-convert\" onclick=\"convertToInteractive('df-c8827772-fb0f-47d3-9495-7203ffcdbf29')\"\n",
              "              title=\"Convert this dataframe to an interactive table.\"\n",
              "              style=\"display:none;\">\n",
              "        \n",
              "  <svg xmlns=\"http://www.w3.org/2000/svg\" height=\"24px\"viewBox=\"0 0 24 24\"\n",
              "       width=\"24px\">\n",
              "    <path d=\"M0 0h24v24H0V0z\" fill=\"none\"/>\n",
              "    <path d=\"M18.56 5.44l.94 2.06.94-2.06 2.06-.94-2.06-.94-.94-2.06-.94 2.06-2.06.94zm-11 1L8.5 8.5l.94-2.06 2.06-.94-2.06-.94L8.5 2.5l-.94 2.06-2.06.94zm10 10l.94 2.06.94-2.06 2.06-.94-2.06-.94-.94-2.06-.94 2.06-2.06.94z\"/><path d=\"M17.41 7.96l-1.37-1.37c-.4-.4-.92-.59-1.43-.59-.52 0-1.04.2-1.43.59L10.3 9.45l-7.72 7.72c-.78.78-.78 2.05 0 2.83L4 21.41c.39.39.9.59 1.41.59.51 0 1.02-.2 1.41-.59l7.78-7.78 2.81-2.81c.8-.78.8-2.07 0-2.86zM5.41 20L4 18.59l7.72-7.72 1.47 1.35L5.41 20z\"/>\n",
              "  </svg>\n",
              "      </button>\n",
              "      \n",
              "  <style>\n",
              "    .colab-df-container {\n",
              "      display:flex;\n",
              "      flex-wrap:wrap;\n",
              "      gap: 12px;\n",
              "    }\n",
              "\n",
              "    .colab-df-convert {\n",
              "      background-color: #E8F0FE;\n",
              "      border: none;\n",
              "      border-radius: 50%;\n",
              "      cursor: pointer;\n",
              "      display: none;\n",
              "      fill: #1967D2;\n",
              "      height: 32px;\n",
              "      padding: 0 0 0 0;\n",
              "      width: 32px;\n",
              "    }\n",
              "\n",
              "    .colab-df-convert:hover {\n",
              "      background-color: #E2EBFA;\n",
              "      box-shadow: 0px 1px 2px rgba(60, 64, 67, 0.3), 0px 1px 3px 1px rgba(60, 64, 67, 0.15);\n",
              "      fill: #174EA6;\n",
              "    }\n",
              "\n",
              "    [theme=dark] .colab-df-convert {\n",
              "      background-color: #3B4455;\n",
              "      fill: #D2E3FC;\n",
              "    }\n",
              "\n",
              "    [theme=dark] .colab-df-convert:hover {\n",
              "      background-color: #434B5C;\n",
              "      box-shadow: 0px 1px 3px 1px rgba(0, 0, 0, 0.15);\n",
              "      filter: drop-shadow(0px 1px 2px rgba(0, 0, 0, 0.3));\n",
              "      fill: #FFFFFF;\n",
              "    }\n",
              "  </style>\n",
              "\n",
              "      <script>\n",
              "        const buttonEl =\n",
              "          document.querySelector('#df-c8827772-fb0f-47d3-9495-7203ffcdbf29 button.colab-df-convert');\n",
              "        buttonEl.style.display =\n",
              "          google.colab.kernel.accessAllowed ? 'block' : 'none';\n",
              "\n",
              "        async function convertToInteractive(key) {\n",
              "          const element = document.querySelector('#df-c8827772-fb0f-47d3-9495-7203ffcdbf29');\n",
              "          const dataTable =\n",
              "            await google.colab.kernel.invokeFunction('convertToInteractive',\n",
              "                                                     [key], {});\n",
              "          if (!dataTable) return;\n",
              "\n",
              "          const docLinkHtml = 'Like what you see? Visit the ' +\n",
              "            '<a target=\"_blank\" href=https://colab.research.google.com/notebooks/data_table.ipynb>data table notebook</a>'\n",
              "            + ' to learn more about interactive tables.';\n",
              "          element.innerHTML = '';\n",
              "          dataTable['output_type'] = 'display_data';\n",
              "          await google.colab.output.renderOutput(dataTable, element);\n",
              "          const docLink = document.createElement('div');\n",
              "          docLink.innerHTML = docLinkHtml;\n",
              "          element.appendChild(docLink);\n",
              "        }\n",
              "      </script>\n",
              "    </div>\n",
              "  </div>\n",
              "  "
            ]
          },
          "metadata": {},
          "execution_count": 59
        }
      ]
    },
    {
      "cell_type": "code",
      "source": [
        "df_pred.to_csv('submission_sr.zip', index=False)"
      ],
      "metadata": {
        "id": "GgtF_6xXGlOf"
      },
      "execution_count": 60,
      "outputs": []
    },
    {
      "cell_type": "code",
      "source": [],
      "metadata": {
        "id": "o4xkfThoa5qh"
      },
      "execution_count": null,
      "outputs": []
    }
  ],
  "metadata": {
    "colab": {
      "provenance": [],
      "machine_shape": "hm"
    },
    "kernelspec": {
      "display_name": "Python 3",
      "language": "python",
      "name": "python3"
    },
    "language_info": {
      "codemirror_mode": {
        "name": "ipython",
        "version": 3
      },
      "file_extension": ".py",
      "mimetype": "text/x-python",
      "name": "python",
      "nbconvert_exporter": "python",
      "pygments_lexer": "ipython3",
      "version": "3.8.8"
    },
    "vscode": {
      "interpreter": {
        "hash": "aee8b7b246df8f9039afb4144a1f6fd8d2ca17a180786b69acc140d282b71a49"
      }
    },
    "gpuClass": "standard",
    "widgets": {
      "application/vnd.jupyter.widget-state+json": {
        "5aa63b884fd447b1b3c0965f2a61245a": {
          "model_module": "@jupyter-widgets/controls",
          "model_name": "HBoxModel",
          "model_module_version": "1.5.0",
          "state": {
            "_dom_classes": [],
            "_model_module": "@jupyter-widgets/controls",
            "_model_module_version": "1.5.0",
            "_model_name": "HBoxModel",
            "_view_count": null,
            "_view_module": "@jupyter-widgets/controls",
            "_view_module_version": "1.5.0",
            "_view_name": "HBoxView",
            "box_style": "",
            "children": [
              "IPY_MODEL_449a46dad9ee41f7b795fae52a51ae01",
              "IPY_MODEL_f6d2c9bb7de64719a41c1bebc6fbf514",
              "IPY_MODEL_de3787288be249b8906ff876f0655d5e"
            ],
            "layout": "IPY_MODEL_f9b96c3a193a457b8fb6cb0eeb987930"
          }
        },
        "449a46dad9ee41f7b795fae52a51ae01": {
          "model_module": "@jupyter-widgets/controls",
          "model_name": "HTMLModel",
          "model_module_version": "1.5.0",
          "state": {
            "_dom_classes": [],
            "_model_module": "@jupyter-widgets/controls",
            "_model_module_version": "1.5.0",
            "_model_name": "HTMLModel",
            "_view_count": null,
            "_view_module": "@jupyter-widgets/controls",
            "_view_module_version": "1.5.0",
            "_view_name": "HTMLView",
            "description": "",
            "description_tooltip": null,
            "layout": "IPY_MODEL_79aae45a15aa4a3a8a8a7b075b8eece4",
            "placeholder": "​",
            "style": "IPY_MODEL_2b2e74d26ad74beb9525c193eac144c3",
            "value": "100%"
          }
        },
        "f6d2c9bb7de64719a41c1bebc6fbf514": {
          "model_module": "@jupyter-widgets/controls",
          "model_name": "FloatProgressModel",
          "model_module_version": "1.5.0",
          "state": {
            "_dom_classes": [],
            "_model_module": "@jupyter-widgets/controls",
            "_model_module_version": "1.5.0",
            "_model_name": "FloatProgressModel",
            "_view_count": null,
            "_view_module": "@jupyter-widgets/controls",
            "_view_module_version": "1.5.0",
            "_view_name": "ProgressView",
            "bar_style": "success",
            "description": "",
            "description_tooltip": null,
            "layout": "IPY_MODEL_ca5a17763df543c8b944410ca2e07fc4",
            "max": 36285,
            "min": 0,
            "orientation": "horizontal",
            "style": "IPY_MODEL_03da5ce9df9e401890e5cd7e9c4f1036",
            "value": 36285
          }
        },
        "de3787288be249b8906ff876f0655d5e": {
          "model_module": "@jupyter-widgets/controls",
          "model_name": "HTMLModel",
          "model_module_version": "1.5.0",
          "state": {
            "_dom_classes": [],
            "_model_module": "@jupyter-widgets/controls",
            "_model_module_version": "1.5.0",
            "_model_name": "HTMLModel",
            "_view_count": null,
            "_view_module": "@jupyter-widgets/controls",
            "_view_module_version": "1.5.0",
            "_view_name": "HTMLView",
            "description": "",
            "description_tooltip": null,
            "layout": "IPY_MODEL_de2951d9a9fd41c8a4fe3e2fd2a7ae84",
            "placeholder": "​",
            "style": "IPY_MODEL_223a58c7151642df8cddd944ba19c662",
            "value": " 36285/36285 [00:00&lt;00:00, 180407.16it/s]"
          }
        },
        "f9b96c3a193a457b8fb6cb0eeb987930": {
          "model_module": "@jupyter-widgets/base",
          "model_name": "LayoutModel",
          "model_module_version": "1.2.0",
          "state": {
            "_model_module": "@jupyter-widgets/base",
            "_model_module_version": "1.2.0",
            "_model_name": "LayoutModel",
            "_view_count": null,
            "_view_module": "@jupyter-widgets/base",
            "_view_module_version": "1.2.0",
            "_view_name": "LayoutView",
            "align_content": null,
            "align_items": null,
            "align_self": null,
            "border": null,
            "bottom": null,
            "display": null,
            "flex": null,
            "flex_flow": null,
            "grid_area": null,
            "grid_auto_columns": null,
            "grid_auto_flow": null,
            "grid_auto_rows": null,
            "grid_column": null,
            "grid_gap": null,
            "grid_row": null,
            "grid_template_areas": null,
            "grid_template_columns": null,
            "grid_template_rows": null,
            "height": null,
            "justify_content": null,
            "justify_items": null,
            "left": null,
            "margin": null,
            "max_height": null,
            "max_width": null,
            "min_height": null,
            "min_width": null,
            "object_fit": null,
            "object_position": null,
            "order": null,
            "overflow": null,
            "overflow_x": null,
            "overflow_y": null,
            "padding": null,
            "right": null,
            "top": null,
            "visibility": null,
            "width": null
          }
        },
        "79aae45a15aa4a3a8a8a7b075b8eece4": {
          "model_module": "@jupyter-widgets/base",
          "model_name": "LayoutModel",
          "model_module_version": "1.2.0",
          "state": {
            "_model_module": "@jupyter-widgets/base",
            "_model_module_version": "1.2.0",
            "_model_name": "LayoutModel",
            "_view_count": null,
            "_view_module": "@jupyter-widgets/base",
            "_view_module_version": "1.2.0",
            "_view_name": "LayoutView",
            "align_content": null,
            "align_items": null,
            "align_self": null,
            "border": null,
            "bottom": null,
            "display": null,
            "flex": null,
            "flex_flow": null,
            "grid_area": null,
            "grid_auto_columns": null,
            "grid_auto_flow": null,
            "grid_auto_rows": null,
            "grid_column": null,
            "grid_gap": null,
            "grid_row": null,
            "grid_template_areas": null,
            "grid_template_columns": null,
            "grid_template_rows": null,
            "height": null,
            "justify_content": null,
            "justify_items": null,
            "left": null,
            "margin": null,
            "max_height": null,
            "max_width": null,
            "min_height": null,
            "min_width": null,
            "object_fit": null,
            "object_position": null,
            "order": null,
            "overflow": null,
            "overflow_x": null,
            "overflow_y": null,
            "padding": null,
            "right": null,
            "top": null,
            "visibility": null,
            "width": null
          }
        },
        "2b2e74d26ad74beb9525c193eac144c3": {
          "model_module": "@jupyter-widgets/controls",
          "model_name": "DescriptionStyleModel",
          "model_module_version": "1.5.0",
          "state": {
            "_model_module": "@jupyter-widgets/controls",
            "_model_module_version": "1.5.0",
            "_model_name": "DescriptionStyleModel",
            "_view_count": null,
            "_view_module": "@jupyter-widgets/base",
            "_view_module_version": "1.2.0",
            "_view_name": "StyleView",
            "description_width": ""
          }
        },
        "ca5a17763df543c8b944410ca2e07fc4": {
          "model_module": "@jupyter-widgets/base",
          "model_name": "LayoutModel",
          "model_module_version": "1.2.0",
          "state": {
            "_model_module": "@jupyter-widgets/base",
            "_model_module_version": "1.2.0",
            "_model_name": "LayoutModel",
            "_view_count": null,
            "_view_module": "@jupyter-widgets/base",
            "_view_module_version": "1.2.0",
            "_view_name": "LayoutView",
            "align_content": null,
            "align_items": null,
            "align_self": null,
            "border": null,
            "bottom": null,
            "display": null,
            "flex": null,
            "flex_flow": null,
            "grid_area": null,
            "grid_auto_columns": null,
            "grid_auto_flow": null,
            "grid_auto_rows": null,
            "grid_column": null,
            "grid_gap": null,
            "grid_row": null,
            "grid_template_areas": null,
            "grid_template_columns": null,
            "grid_template_rows": null,
            "height": null,
            "justify_content": null,
            "justify_items": null,
            "left": null,
            "margin": null,
            "max_height": null,
            "max_width": null,
            "min_height": null,
            "min_width": null,
            "object_fit": null,
            "object_position": null,
            "order": null,
            "overflow": null,
            "overflow_x": null,
            "overflow_y": null,
            "padding": null,
            "right": null,
            "top": null,
            "visibility": null,
            "width": null
          }
        },
        "03da5ce9df9e401890e5cd7e9c4f1036": {
          "model_module": "@jupyter-widgets/controls",
          "model_name": "ProgressStyleModel",
          "model_module_version": "1.5.0",
          "state": {
            "_model_module": "@jupyter-widgets/controls",
            "_model_module_version": "1.5.0",
            "_model_name": "ProgressStyleModel",
            "_view_count": null,
            "_view_module": "@jupyter-widgets/base",
            "_view_module_version": "1.2.0",
            "_view_name": "StyleView",
            "bar_color": null,
            "description_width": ""
          }
        },
        "de2951d9a9fd41c8a4fe3e2fd2a7ae84": {
          "model_module": "@jupyter-widgets/base",
          "model_name": "LayoutModel",
          "model_module_version": "1.2.0",
          "state": {
            "_model_module": "@jupyter-widgets/base",
            "_model_module_version": "1.2.0",
            "_model_name": "LayoutModel",
            "_view_count": null,
            "_view_module": "@jupyter-widgets/base",
            "_view_module_version": "1.2.0",
            "_view_name": "LayoutView",
            "align_content": null,
            "align_items": null,
            "align_self": null,
            "border": null,
            "bottom": null,
            "display": null,
            "flex": null,
            "flex_flow": null,
            "grid_area": null,
            "grid_auto_columns": null,
            "grid_auto_flow": null,
            "grid_auto_rows": null,
            "grid_column": null,
            "grid_gap": null,
            "grid_row": null,
            "grid_template_areas": null,
            "grid_template_columns": null,
            "grid_template_rows": null,
            "height": null,
            "justify_content": null,
            "justify_items": null,
            "left": null,
            "margin": null,
            "max_height": null,
            "max_width": null,
            "min_height": null,
            "min_width": null,
            "object_fit": null,
            "object_position": null,
            "order": null,
            "overflow": null,
            "overflow_x": null,
            "overflow_y": null,
            "padding": null,
            "right": null,
            "top": null,
            "visibility": null,
            "width": null
          }
        },
        "223a58c7151642df8cddd944ba19c662": {
          "model_module": "@jupyter-widgets/controls",
          "model_name": "DescriptionStyleModel",
          "model_module_version": "1.5.0",
          "state": {
            "_model_module": "@jupyter-widgets/controls",
            "_model_module_version": "1.5.0",
            "_model_name": "DescriptionStyleModel",
            "_view_count": null,
            "_view_module": "@jupyter-widgets/base",
            "_view_module_version": "1.2.0",
            "_view_name": "StyleView",
            "description_width": ""
          }
        },
        "3e17a45820cf45ee91f85faf69ce5284": {
          "model_module": "@jupyter-widgets/controls",
          "model_name": "HBoxModel",
          "model_module_version": "1.5.0",
          "state": {
            "_dom_classes": [],
            "_model_module": "@jupyter-widgets/controls",
            "_model_module_version": "1.5.0",
            "_model_name": "HBoxModel",
            "_view_count": null,
            "_view_module": "@jupyter-widgets/controls",
            "_view_module_version": "1.5.0",
            "_view_name": "HBoxView",
            "box_style": "",
            "children": [
              "IPY_MODEL_f0d9d4b2055e4d9fbbb7d5f8e9349524",
              "IPY_MODEL_b1d0c9826f154be2b41e95693d894d05",
              "IPY_MODEL_582e287f0a4544288c7a743f227556b4"
            ],
            "layout": "IPY_MODEL_2e3ffbd079024fb2bbefea42fb2760dd"
          }
        },
        "f0d9d4b2055e4d9fbbb7d5f8e9349524": {
          "model_module": "@jupyter-widgets/controls",
          "model_name": "HTMLModel",
          "model_module_version": "1.5.0",
          "state": {
            "_dom_classes": [],
            "_model_module": "@jupyter-widgets/controls",
            "_model_module_version": "1.5.0",
            "_model_name": "HTMLModel",
            "_view_count": null,
            "_view_module": "@jupyter-widgets/controls",
            "_view_module_version": "1.5.0",
            "_view_name": "HTMLView",
            "description": "",
            "description_tooltip": null,
            "layout": "IPY_MODEL_1b48b871fe0342b49b0d693e1c49a890",
            "placeholder": "​",
            "style": "IPY_MODEL_d11fb83ed71b49da91b1231f3fa477fe",
            "value": "100%"
          }
        },
        "b1d0c9826f154be2b41e95693d894d05": {
          "model_module": "@jupyter-widgets/controls",
          "model_name": "FloatProgressModel",
          "model_module_version": "1.5.0",
          "state": {
            "_dom_classes": [],
            "_model_module": "@jupyter-widgets/controls",
            "_model_module_version": "1.5.0",
            "_model_name": "FloatProgressModel",
            "_view_count": null,
            "_view_module": "@jupyter-widgets/controls",
            "_view_module_version": "1.5.0",
            "_view_name": "ProgressView",
            "bar_style": "success",
            "description": "",
            "description_tooltip": null,
            "layout": "IPY_MODEL_9099cc47d8664d34946a8c6cd9ec1d62",
            "max": 36285,
            "min": 0,
            "orientation": "horizontal",
            "style": "IPY_MODEL_069da834404e4a118968d7118445be73",
            "value": 36285
          }
        },
        "582e287f0a4544288c7a743f227556b4": {
          "model_module": "@jupyter-widgets/controls",
          "model_name": "HTMLModel",
          "model_module_version": "1.5.0",
          "state": {
            "_dom_classes": [],
            "_model_module": "@jupyter-widgets/controls",
            "_model_module_version": "1.5.0",
            "_model_name": "HTMLModel",
            "_view_count": null,
            "_view_module": "@jupyter-widgets/controls",
            "_view_module_version": "1.5.0",
            "_view_name": "HTMLView",
            "description": "",
            "description_tooltip": null,
            "layout": "IPY_MODEL_44316456a5604ca9adfaf837206fe3f9",
            "placeholder": "​",
            "style": "IPY_MODEL_f2c9c86d88cc4cfe9b587940d06aec30",
            "value": " 36285/36285 [00:00&lt;00:00, 369860.80it/s]"
          }
        },
        "2e3ffbd079024fb2bbefea42fb2760dd": {
          "model_module": "@jupyter-widgets/base",
          "model_name": "LayoutModel",
          "model_module_version": "1.2.0",
          "state": {
            "_model_module": "@jupyter-widgets/base",
            "_model_module_version": "1.2.0",
            "_model_name": "LayoutModel",
            "_view_count": null,
            "_view_module": "@jupyter-widgets/base",
            "_view_module_version": "1.2.0",
            "_view_name": "LayoutView",
            "align_content": null,
            "align_items": null,
            "align_self": null,
            "border": null,
            "bottom": null,
            "display": null,
            "flex": null,
            "flex_flow": null,
            "grid_area": null,
            "grid_auto_columns": null,
            "grid_auto_flow": null,
            "grid_auto_rows": null,
            "grid_column": null,
            "grid_gap": null,
            "grid_row": null,
            "grid_template_areas": null,
            "grid_template_columns": null,
            "grid_template_rows": null,
            "height": null,
            "justify_content": null,
            "justify_items": null,
            "left": null,
            "margin": null,
            "max_height": null,
            "max_width": null,
            "min_height": null,
            "min_width": null,
            "object_fit": null,
            "object_position": null,
            "order": null,
            "overflow": null,
            "overflow_x": null,
            "overflow_y": null,
            "padding": null,
            "right": null,
            "top": null,
            "visibility": null,
            "width": null
          }
        },
        "1b48b871fe0342b49b0d693e1c49a890": {
          "model_module": "@jupyter-widgets/base",
          "model_name": "LayoutModel",
          "model_module_version": "1.2.0",
          "state": {
            "_model_module": "@jupyter-widgets/base",
            "_model_module_version": "1.2.0",
            "_model_name": "LayoutModel",
            "_view_count": null,
            "_view_module": "@jupyter-widgets/base",
            "_view_module_version": "1.2.0",
            "_view_name": "LayoutView",
            "align_content": null,
            "align_items": null,
            "align_self": null,
            "border": null,
            "bottom": null,
            "display": null,
            "flex": null,
            "flex_flow": null,
            "grid_area": null,
            "grid_auto_columns": null,
            "grid_auto_flow": null,
            "grid_auto_rows": null,
            "grid_column": null,
            "grid_gap": null,
            "grid_row": null,
            "grid_template_areas": null,
            "grid_template_columns": null,
            "grid_template_rows": null,
            "height": null,
            "justify_content": null,
            "justify_items": null,
            "left": null,
            "margin": null,
            "max_height": null,
            "max_width": null,
            "min_height": null,
            "min_width": null,
            "object_fit": null,
            "object_position": null,
            "order": null,
            "overflow": null,
            "overflow_x": null,
            "overflow_y": null,
            "padding": null,
            "right": null,
            "top": null,
            "visibility": null,
            "width": null
          }
        },
        "d11fb83ed71b49da91b1231f3fa477fe": {
          "model_module": "@jupyter-widgets/controls",
          "model_name": "DescriptionStyleModel",
          "model_module_version": "1.5.0",
          "state": {
            "_model_module": "@jupyter-widgets/controls",
            "_model_module_version": "1.5.0",
            "_model_name": "DescriptionStyleModel",
            "_view_count": null,
            "_view_module": "@jupyter-widgets/base",
            "_view_module_version": "1.2.0",
            "_view_name": "StyleView",
            "description_width": ""
          }
        },
        "9099cc47d8664d34946a8c6cd9ec1d62": {
          "model_module": "@jupyter-widgets/base",
          "model_name": "LayoutModel",
          "model_module_version": "1.2.0",
          "state": {
            "_model_module": "@jupyter-widgets/base",
            "_model_module_version": "1.2.0",
            "_model_name": "LayoutModel",
            "_view_count": null,
            "_view_module": "@jupyter-widgets/base",
            "_view_module_version": "1.2.0",
            "_view_name": "LayoutView",
            "align_content": null,
            "align_items": null,
            "align_self": null,
            "border": null,
            "bottom": null,
            "display": null,
            "flex": null,
            "flex_flow": null,
            "grid_area": null,
            "grid_auto_columns": null,
            "grid_auto_flow": null,
            "grid_auto_rows": null,
            "grid_column": null,
            "grid_gap": null,
            "grid_row": null,
            "grid_template_areas": null,
            "grid_template_columns": null,
            "grid_template_rows": null,
            "height": null,
            "justify_content": null,
            "justify_items": null,
            "left": null,
            "margin": null,
            "max_height": null,
            "max_width": null,
            "min_height": null,
            "min_width": null,
            "object_fit": null,
            "object_position": null,
            "order": null,
            "overflow": null,
            "overflow_x": null,
            "overflow_y": null,
            "padding": null,
            "right": null,
            "top": null,
            "visibility": null,
            "width": null
          }
        },
        "069da834404e4a118968d7118445be73": {
          "model_module": "@jupyter-widgets/controls",
          "model_name": "ProgressStyleModel",
          "model_module_version": "1.5.0",
          "state": {
            "_model_module": "@jupyter-widgets/controls",
            "_model_module_version": "1.5.0",
            "_model_name": "ProgressStyleModel",
            "_view_count": null,
            "_view_module": "@jupyter-widgets/base",
            "_view_module_version": "1.2.0",
            "_view_name": "StyleView",
            "bar_color": null,
            "description_width": ""
          }
        },
        "44316456a5604ca9adfaf837206fe3f9": {
          "model_module": "@jupyter-widgets/base",
          "model_name": "LayoutModel",
          "model_module_version": "1.2.0",
          "state": {
            "_model_module": "@jupyter-widgets/base",
            "_model_module_version": "1.2.0",
            "_model_name": "LayoutModel",
            "_view_count": null,
            "_view_module": "@jupyter-widgets/base",
            "_view_module_version": "1.2.0",
            "_view_name": "LayoutView",
            "align_content": null,
            "align_items": null,
            "align_self": null,
            "border": null,
            "bottom": null,
            "display": null,
            "flex": null,
            "flex_flow": null,
            "grid_area": null,
            "grid_auto_columns": null,
            "grid_auto_flow": null,
            "grid_auto_rows": null,
            "grid_column": null,
            "grid_gap": null,
            "grid_row": null,
            "grid_template_areas": null,
            "grid_template_columns": null,
            "grid_template_rows": null,
            "height": null,
            "justify_content": null,
            "justify_items": null,
            "left": null,
            "margin": null,
            "max_height": null,
            "max_width": null,
            "min_height": null,
            "min_width": null,
            "object_fit": null,
            "object_position": null,
            "order": null,
            "overflow": null,
            "overflow_x": null,
            "overflow_y": null,
            "padding": null,
            "right": null,
            "top": null,
            "visibility": null,
            "width": null
          }
        },
        "f2c9c86d88cc4cfe9b587940d06aec30": {
          "model_module": "@jupyter-widgets/controls",
          "model_name": "DescriptionStyleModel",
          "model_module_version": "1.5.0",
          "state": {
            "_model_module": "@jupyter-widgets/controls",
            "_model_module_version": "1.5.0",
            "_model_name": "DescriptionStyleModel",
            "_view_count": null,
            "_view_module": "@jupyter-widgets/base",
            "_view_module_version": "1.2.0",
            "_view_name": "StyleView",
            "description_width": ""
          }
        },
        "e355ec58ecf44cbfbaa79100a0d7b4fc": {
          "model_module": "@jupyter-widgets/controls",
          "model_name": "HBoxModel",
          "model_module_version": "1.5.0",
          "state": {
            "_dom_classes": [],
            "_model_module": "@jupyter-widgets/controls",
            "_model_module_version": "1.5.0",
            "_model_name": "HBoxModel",
            "_view_count": null,
            "_view_module": "@jupyter-widgets/controls",
            "_view_module_version": "1.5.0",
            "_view_name": "HBoxView",
            "box_style": "",
            "children": [
              "IPY_MODEL_3e8e9b89cb8f40f39666aaf003997c38",
              "IPY_MODEL_f8bfba4019e4452ebee232781e6ab920",
              "IPY_MODEL_5b4f88d695aa470d9af3d1f56f82e23d"
            ],
            "layout": "IPY_MODEL_cfa393459ba14a4fa4ce91451e5a83b5"
          }
        },
        "3e8e9b89cb8f40f39666aaf003997c38": {
          "model_module": "@jupyter-widgets/controls",
          "model_name": "HTMLModel",
          "model_module_version": "1.5.0",
          "state": {
            "_dom_classes": [],
            "_model_module": "@jupyter-widgets/controls",
            "_model_module_version": "1.5.0",
            "_model_name": "HTMLModel",
            "_view_count": null,
            "_view_module": "@jupyter-widgets/controls",
            "_view_module_version": "1.5.0",
            "_view_name": "HTMLView",
            "description": "",
            "description_tooltip": null,
            "layout": "IPY_MODEL_c15cc12560f9473eaeea170980c07c3e",
            "placeholder": "​",
            "style": "IPY_MODEL_e827f34042034db48c86bf4ca206972e",
            "value": "100%"
          }
        },
        "f8bfba4019e4452ebee232781e6ab920": {
          "model_module": "@jupyter-widgets/controls",
          "model_name": "FloatProgressModel",
          "model_module_version": "1.5.0",
          "state": {
            "_dom_classes": [],
            "_model_module": "@jupyter-widgets/controls",
            "_model_module_version": "1.5.0",
            "_model_name": "FloatProgressModel",
            "_view_count": null,
            "_view_module": "@jupyter-widgets/controls",
            "_view_module_version": "1.5.0",
            "_view_name": "ProgressView",
            "bar_style": "success",
            "description": "",
            "description_tooltip": null,
            "layout": "IPY_MODEL_0e29a727c036435baaf07ed580b9ec87",
            "max": 4,
            "min": 0,
            "orientation": "horizontal",
            "style": "IPY_MODEL_663cc36613ca4ec3ac4ee5696805e50b",
            "value": 4
          }
        },
        "5b4f88d695aa470d9af3d1f56f82e23d": {
          "model_module": "@jupyter-widgets/controls",
          "model_name": "HTMLModel",
          "model_module_version": "1.5.0",
          "state": {
            "_dom_classes": [],
            "_model_module": "@jupyter-widgets/controls",
            "_model_module_version": "1.5.0",
            "_model_name": "HTMLModel",
            "_view_count": null,
            "_view_module": "@jupyter-widgets/controls",
            "_view_module_version": "1.5.0",
            "_view_name": "HTMLView",
            "description": "",
            "description_tooltip": null,
            "layout": "IPY_MODEL_ee4ea89b3a894b6a9c2b9f4962d295fc",
            "placeholder": "​",
            "style": "IPY_MODEL_3a0d653ebaaf4b608dc40d4ec59ce990",
            "value": " 4/4 [00:58&lt;00:00, 16.84s/it]"
          }
        },
        "cfa393459ba14a4fa4ce91451e5a83b5": {
          "model_module": "@jupyter-widgets/base",
          "model_name": "LayoutModel",
          "model_module_version": "1.2.0",
          "state": {
            "_model_module": "@jupyter-widgets/base",
            "_model_module_version": "1.2.0",
            "_model_name": "LayoutModel",
            "_view_count": null,
            "_view_module": "@jupyter-widgets/base",
            "_view_module_version": "1.2.0",
            "_view_name": "LayoutView",
            "align_content": null,
            "align_items": null,
            "align_self": null,
            "border": null,
            "bottom": null,
            "display": null,
            "flex": null,
            "flex_flow": null,
            "grid_area": null,
            "grid_auto_columns": null,
            "grid_auto_flow": null,
            "grid_auto_rows": null,
            "grid_column": null,
            "grid_gap": null,
            "grid_row": null,
            "grid_template_areas": null,
            "grid_template_columns": null,
            "grid_template_rows": null,
            "height": null,
            "justify_content": null,
            "justify_items": null,
            "left": null,
            "margin": null,
            "max_height": null,
            "max_width": null,
            "min_height": null,
            "min_width": null,
            "object_fit": null,
            "object_position": null,
            "order": null,
            "overflow": null,
            "overflow_x": null,
            "overflow_y": null,
            "padding": null,
            "right": null,
            "top": null,
            "visibility": null,
            "width": null
          }
        },
        "c15cc12560f9473eaeea170980c07c3e": {
          "model_module": "@jupyter-widgets/base",
          "model_name": "LayoutModel",
          "model_module_version": "1.2.0",
          "state": {
            "_model_module": "@jupyter-widgets/base",
            "_model_module_version": "1.2.0",
            "_model_name": "LayoutModel",
            "_view_count": null,
            "_view_module": "@jupyter-widgets/base",
            "_view_module_version": "1.2.0",
            "_view_name": "LayoutView",
            "align_content": null,
            "align_items": null,
            "align_self": null,
            "border": null,
            "bottom": null,
            "display": null,
            "flex": null,
            "flex_flow": null,
            "grid_area": null,
            "grid_auto_columns": null,
            "grid_auto_flow": null,
            "grid_auto_rows": null,
            "grid_column": null,
            "grid_gap": null,
            "grid_row": null,
            "grid_template_areas": null,
            "grid_template_columns": null,
            "grid_template_rows": null,
            "height": null,
            "justify_content": null,
            "justify_items": null,
            "left": null,
            "margin": null,
            "max_height": null,
            "max_width": null,
            "min_height": null,
            "min_width": null,
            "object_fit": null,
            "object_position": null,
            "order": null,
            "overflow": null,
            "overflow_x": null,
            "overflow_y": null,
            "padding": null,
            "right": null,
            "top": null,
            "visibility": null,
            "width": null
          }
        },
        "e827f34042034db48c86bf4ca206972e": {
          "model_module": "@jupyter-widgets/controls",
          "model_name": "DescriptionStyleModel",
          "model_module_version": "1.5.0",
          "state": {
            "_model_module": "@jupyter-widgets/controls",
            "_model_module_version": "1.5.0",
            "_model_name": "DescriptionStyleModel",
            "_view_count": null,
            "_view_module": "@jupyter-widgets/base",
            "_view_module_version": "1.2.0",
            "_view_name": "StyleView",
            "description_width": ""
          }
        },
        "0e29a727c036435baaf07ed580b9ec87": {
          "model_module": "@jupyter-widgets/base",
          "model_name": "LayoutModel",
          "model_module_version": "1.2.0",
          "state": {
            "_model_module": "@jupyter-widgets/base",
            "_model_module_version": "1.2.0",
            "_model_name": "LayoutModel",
            "_view_count": null,
            "_view_module": "@jupyter-widgets/base",
            "_view_module_version": "1.2.0",
            "_view_name": "LayoutView",
            "align_content": null,
            "align_items": null,
            "align_self": null,
            "border": null,
            "bottom": null,
            "display": null,
            "flex": null,
            "flex_flow": null,
            "grid_area": null,
            "grid_auto_columns": null,
            "grid_auto_flow": null,
            "grid_auto_rows": null,
            "grid_column": null,
            "grid_gap": null,
            "grid_row": null,
            "grid_template_areas": null,
            "grid_template_columns": null,
            "grid_template_rows": null,
            "height": null,
            "justify_content": null,
            "justify_items": null,
            "left": null,
            "margin": null,
            "max_height": null,
            "max_width": null,
            "min_height": null,
            "min_width": null,
            "object_fit": null,
            "object_position": null,
            "order": null,
            "overflow": null,
            "overflow_x": null,
            "overflow_y": null,
            "padding": null,
            "right": null,
            "top": null,
            "visibility": null,
            "width": null
          }
        },
        "663cc36613ca4ec3ac4ee5696805e50b": {
          "model_module": "@jupyter-widgets/controls",
          "model_name": "ProgressStyleModel",
          "model_module_version": "1.5.0",
          "state": {
            "_model_module": "@jupyter-widgets/controls",
            "_model_module_version": "1.5.0",
            "_model_name": "ProgressStyleModel",
            "_view_count": null,
            "_view_module": "@jupyter-widgets/base",
            "_view_module_version": "1.2.0",
            "_view_name": "StyleView",
            "bar_color": null,
            "description_width": ""
          }
        },
        "ee4ea89b3a894b6a9c2b9f4962d295fc": {
          "model_module": "@jupyter-widgets/base",
          "model_name": "LayoutModel",
          "model_module_version": "1.2.0",
          "state": {
            "_model_module": "@jupyter-widgets/base",
            "_model_module_version": "1.2.0",
            "_model_name": "LayoutModel",
            "_view_count": null,
            "_view_module": "@jupyter-widgets/base",
            "_view_module_version": "1.2.0",
            "_view_name": "LayoutView",
            "align_content": null,
            "align_items": null,
            "align_self": null,
            "border": null,
            "bottom": null,
            "display": null,
            "flex": null,
            "flex_flow": null,
            "grid_area": null,
            "grid_auto_columns": null,
            "grid_auto_flow": null,
            "grid_auto_rows": null,
            "grid_column": null,
            "grid_gap": null,
            "grid_row": null,
            "grid_template_areas": null,
            "grid_template_columns": null,
            "grid_template_rows": null,
            "height": null,
            "justify_content": null,
            "justify_items": null,
            "left": null,
            "margin": null,
            "max_height": null,
            "max_width": null,
            "min_height": null,
            "min_width": null,
            "object_fit": null,
            "object_position": null,
            "order": null,
            "overflow": null,
            "overflow_x": null,
            "overflow_y": null,
            "padding": null,
            "right": null,
            "top": null,
            "visibility": null,
            "width": null
          }
        },
        "3a0d653ebaaf4b608dc40d4ec59ce990": {
          "model_module": "@jupyter-widgets/controls",
          "model_name": "DescriptionStyleModel",
          "model_module_version": "1.5.0",
          "state": {
            "_model_module": "@jupyter-widgets/controls",
            "_model_module_version": "1.5.0",
            "_model_name": "DescriptionStyleModel",
            "_view_count": null,
            "_view_module": "@jupyter-widgets/base",
            "_view_module_version": "1.2.0",
            "_view_name": "StyleView",
            "description_width": ""
          }
        }
      }
    }
  },
  "nbformat": 4,
  "nbformat_minor": 0
}