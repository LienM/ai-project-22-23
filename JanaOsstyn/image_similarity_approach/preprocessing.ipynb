{
 "cells": [
  {
   "cell_type": "markdown",
   "source": [
    "# Preprocessing\n",
    "Preparing the data for embedding creation, similarity calculation and recommendation."
   ],
   "metadata": {
    "collapsed": false,
    "pycharm": {
     "name": "#%% md\n"
    }
   }
  },
  {
   "cell_type": "code",
   "execution_count": 8,
   "outputs": [],
   "source": [
    "import json\n",
    "import os\n",
    "import pandas as pd\n",
    "from functions import idp"
   ],
   "metadata": {
    "collapsed": false,
    "pycharm": {
     "name": "#%%\n"
    }
   }
  },
  {
   "cell_type": "markdown",
   "source": [
    "## What preprocessing is required\n",
    "- **Transactions**: the transactions dataframe is very large (3 178 8324 records). In general, only the number of transactions is needed.\n",
    "- **Articles**: articles are important components in the prediction. An `image_name` and `popularity` column are added to the frame. A subframe with the 100 most popular articles is exported.\n",
    "- **Customers**: customers have a purchase history which is extracted from the transactions dataframe."
   ],
   "metadata": {
    "collapsed": false,
    "pycharm": {
     "name": "#%% md\n"
    }
   }
  },
  {
   "cell_type": "code",
   "execution_count": 9,
   "outputs": [],
   "source": [
    "# transactions\n",
    "transactions_df = pd.read_feather(idp('transactions_train.feather'))\n",
    "transactions_df['article_id'] = '0' + transactions_df['article_id']\n",
    "nr_transactions = transactions_df.shape[0]"
   ],
   "metadata": {
    "collapsed": false,
    "pycharm": {
     "name": "#%%\n"
    }
   }
  },
  {
   "cell_type": "code",
   "execution_count": 10,
   "outputs": [
    {
     "name": "stdout",
     "output_type": "stream",
     "text": [
      "(105542, 26)\n",
      "(105542, 27)\n"
     ]
    },
    {
     "data": {
      "text/plain": "   article_id  product_code          prod_name  product_type_no  \\\n0  0108775015        108775          Strap top              253   \n1  0108775044        108775          Strap top              253   \n2  0108775051        108775      Strap top (1)              253   \n3  0110065001        110065  OP T-shirt (Idro)              306   \n4  0110065002        110065  OP T-shirt (Idro)              306   \n\n  product_type_name  product_group_name  graphical_appearance_no  \\\n0          Vest top  Garment Upper body                        0   \n1          Vest top  Garment Upper body                        0   \n2          Vest top  Garment Upper body                        1   \n3               Bra           Underwear                        0   \n4               Bra           Underwear                        0   \n\n  graphical_appearance_name  colour_group_code colour_group_name  ...  \\\n0                     Solid                  9             Black  ...   \n1                     Solid                 10             White  ...   \n2                    Stripe                 11         Off White  ...   \n3                     Solid                  9             Black  ...   \n4                     Solid                 10             White  ...   \n\n         index_name index_group_no  index_group_name section_no  \\\n0        Ladieswear              1        Ladieswear         16   \n1        Ladieswear              1        Ladieswear         16   \n2        Ladieswear              1        Ladieswear         16   \n3  Lingeries/Tights              1        Ladieswear         61   \n4  Lingeries/Tights              1        Ladieswear         61   \n\n             section_name garment_group_no  garment_group_name  \\\n0  Womens Everyday Basics             1002        Jersey Basic   \n1  Womens Everyday Basics             1002        Jersey Basic   \n2  Womens Everyday Basics             1002        Jersey Basic   \n3         Womens Lingerie             1017   Under-, Nightwear   \n4         Womens Lingerie             1017   Under-, Nightwear   \n\n                                         detail_desc          image_name  \\\n0            Jersey top with narrow shoulder straps.  010/0108775015.jpg   \n1            Jersey top with narrow shoulder straps.  010/0108775044.jpg   \n2            Jersey top with narrow shoulder straps.  010/0108775051.jpg   \n3  Microfibre T-shirt bra with underwired, moulde...  011/0110065001.jpg   \n4  Microfibre T-shirt bra with underwired, moulde...  011/0110065002.jpg   \n\n  popularity  \n0   0.215583  \n1   0.144172  \n2   0.004275  \n3   0.020761  \n4   0.010718  \n\n[5 rows x 27 columns]",
      "text/html": "<div>\n<style scoped>\n    .dataframe tbody tr th:only-of-type {\n        vertical-align: middle;\n    }\n\n    .dataframe tbody tr th {\n        vertical-align: top;\n    }\n\n    .dataframe thead th {\n        text-align: right;\n    }\n</style>\n<table border=\"1\" class=\"dataframe\">\n  <thead>\n    <tr style=\"text-align: right;\">\n      <th></th>\n      <th>article_id</th>\n      <th>product_code</th>\n      <th>prod_name</th>\n      <th>product_type_no</th>\n      <th>product_type_name</th>\n      <th>product_group_name</th>\n      <th>graphical_appearance_no</th>\n      <th>graphical_appearance_name</th>\n      <th>colour_group_code</th>\n      <th>colour_group_name</th>\n      <th>...</th>\n      <th>index_name</th>\n      <th>index_group_no</th>\n      <th>index_group_name</th>\n      <th>section_no</th>\n      <th>section_name</th>\n      <th>garment_group_no</th>\n      <th>garment_group_name</th>\n      <th>detail_desc</th>\n      <th>image_name</th>\n      <th>popularity</th>\n    </tr>\n  </thead>\n  <tbody>\n    <tr>\n      <th>0</th>\n      <td>0108775015</td>\n      <td>108775</td>\n      <td>Strap top</td>\n      <td>253</td>\n      <td>Vest top</td>\n      <td>Garment Upper body</td>\n      <td>0</td>\n      <td>Solid</td>\n      <td>9</td>\n      <td>Black</td>\n      <td>...</td>\n      <td>Ladieswear</td>\n      <td>1</td>\n      <td>Ladieswear</td>\n      <td>16</td>\n      <td>Womens Everyday Basics</td>\n      <td>1002</td>\n      <td>Jersey Basic</td>\n      <td>Jersey top with narrow shoulder straps.</td>\n      <td>010/0108775015.jpg</td>\n      <td>0.215583</td>\n    </tr>\n    <tr>\n      <th>1</th>\n      <td>0108775044</td>\n      <td>108775</td>\n      <td>Strap top</td>\n      <td>253</td>\n      <td>Vest top</td>\n      <td>Garment Upper body</td>\n      <td>0</td>\n      <td>Solid</td>\n      <td>10</td>\n      <td>White</td>\n      <td>...</td>\n      <td>Ladieswear</td>\n      <td>1</td>\n      <td>Ladieswear</td>\n      <td>16</td>\n      <td>Womens Everyday Basics</td>\n      <td>1002</td>\n      <td>Jersey Basic</td>\n      <td>Jersey top with narrow shoulder straps.</td>\n      <td>010/0108775044.jpg</td>\n      <td>0.144172</td>\n    </tr>\n    <tr>\n      <th>2</th>\n      <td>0108775051</td>\n      <td>108775</td>\n      <td>Strap top (1)</td>\n      <td>253</td>\n      <td>Vest top</td>\n      <td>Garment Upper body</td>\n      <td>1</td>\n      <td>Stripe</td>\n      <td>11</td>\n      <td>Off White</td>\n      <td>...</td>\n      <td>Ladieswear</td>\n      <td>1</td>\n      <td>Ladieswear</td>\n      <td>16</td>\n      <td>Womens Everyday Basics</td>\n      <td>1002</td>\n      <td>Jersey Basic</td>\n      <td>Jersey top with narrow shoulder straps.</td>\n      <td>010/0108775051.jpg</td>\n      <td>0.004275</td>\n    </tr>\n    <tr>\n      <th>3</th>\n      <td>0110065001</td>\n      <td>110065</td>\n      <td>OP T-shirt (Idro)</td>\n      <td>306</td>\n      <td>Bra</td>\n      <td>Underwear</td>\n      <td>0</td>\n      <td>Solid</td>\n      <td>9</td>\n      <td>Black</td>\n      <td>...</td>\n      <td>Lingeries/Tights</td>\n      <td>1</td>\n      <td>Ladieswear</td>\n      <td>61</td>\n      <td>Womens Lingerie</td>\n      <td>1017</td>\n      <td>Under-, Nightwear</td>\n      <td>Microfibre T-shirt bra with underwired, moulde...</td>\n      <td>011/0110065001.jpg</td>\n      <td>0.020761</td>\n    </tr>\n    <tr>\n      <th>4</th>\n      <td>0110065002</td>\n      <td>110065</td>\n      <td>OP T-shirt (Idro)</td>\n      <td>306</td>\n      <td>Bra</td>\n      <td>Underwear</td>\n      <td>0</td>\n      <td>Solid</td>\n      <td>10</td>\n      <td>White</td>\n      <td>...</td>\n      <td>Lingeries/Tights</td>\n      <td>1</td>\n      <td>Ladieswear</td>\n      <td>61</td>\n      <td>Womens Lingerie</td>\n      <td>1017</td>\n      <td>Under-, Nightwear</td>\n      <td>Microfibre T-shirt bra with underwired, moulde...</td>\n      <td>011/0110065002.jpg</td>\n      <td>0.010718</td>\n    </tr>\n  </tbody>\n</table>\n<p>5 rows × 27 columns</p>\n</div>"
     },
     "execution_count": 10,
     "metadata": {},
     "output_type": "execute_result"
    }
   ],
   "source": [
    "# articles\n",
    "article_df = pd.read_feather(idp('articles.feather'))\n",
    "article_df['article_id'] = '0' + article_df['article_id']\n",
    "article_df['image_name'] = article_df.apply(lambda row: f'{row[\"article_id\"][:3]}/{row[\"article_id\"]}.jpg', axis=1)\n",
    "article_df['image_name'] = article_df['image_name'].apply(lambda file_name: file_name if os.path.isfile(idp(f'images/{file_name}')) else 'does not exist')\n",
    "article_ids_without_image = article_df[article_df['image_name'] == 'does not exist']['article_id'].values.tolist()\n",
    "article_df = article_df.reset_index(drop=True)\n",
    "print(article_df.shape)\n",
    "\n",
    "popularity_df = pd.DataFrame(transactions_df['article_id'].value_counts())\n",
    "popularity_df = popularity_df.reset_index()\n",
    "popularity_df = popularity_df.rename(columns={'index': 'article_id', 'article_id': 'popularity'})\n",
    "popularity_df['popularity'] = popularity_df['popularity'] / nr_transactions\n",
    "popularity_df['popularity'] = popularity_df['popularity'] / popularity_df['popularity'].max()\n",
    "article_df = article_df.merge(popularity_df, on='article_id', how='outer')      # outer join to not exclude articles that are never purchased\n",
    "article_df['popularity'] = article_df['popularity'].fillna(0.0)                 # non-purchased articles are not popular at all, so assign popularity 0\n",
    "print(article_df.shape)\n",
    "\n",
    "article_df.to_feather(idp('articles_processed.feather'))\n",
    "nr_articles = article_df.shape[0]\n",
    "article_df.head()"
   ],
   "metadata": {
    "collapsed": false,
    "pycharm": {
     "name": "#%%\n"
    }
   }
  },
  {
   "cell_type": "code",
   "execution_count": 11,
   "outputs": [],
   "source": [
    "# extract the 100 most popular articles\n",
    "most_popular_article_df = article_df.sort_values(by='popularity', ascending=False).head(100)"
   ],
   "metadata": {
    "collapsed": false,
    "pycharm": {
     "name": "#%%\n"
    }
   }
  },
  {
   "cell_type": "code",
   "execution_count": 12,
   "outputs": [
    {
     "data": {
      "text/plain": "                                         customer_id  \\\n0  00000dbacae5abe5e23885899a1fa44253a17956c6d1c3...   \n1  0000423b00ade91418cceaf3b26c6af3dd342b51fd051e...   \n2  000058a12d5b43e67d225668fa1f8d618c13dc232df0ca...   \n3  00005ca1c9ed5f5146b52ac8639a40ca9d57aeff4d1bd2...   \n4  00006413d8573cd20ed7128e53b7b13819fe5cfc2d801f...   \n\n                                    purchase_history  \n0  0625548001 0176209023 0627759010 0697138006 05...  \n1  0583558001 0639677008 0640244003 0521269001 06...  \n2  0663713001 0541518023 0663713001 0578020002 07...  \n3                              0742079001 0732413001  \n4  0634249005 0677049001 0698286003 0707704003 03...  ",
      "text/html": "<div>\n<style scoped>\n    .dataframe tbody tr th:only-of-type {\n        vertical-align: middle;\n    }\n\n    .dataframe tbody tr th {\n        vertical-align: top;\n    }\n\n    .dataframe thead th {\n        text-align: right;\n    }\n</style>\n<table border=\"1\" class=\"dataframe\">\n  <thead>\n    <tr style=\"text-align: right;\">\n      <th></th>\n      <th>customer_id</th>\n      <th>purchase_history</th>\n    </tr>\n  </thead>\n  <tbody>\n    <tr>\n      <th>0</th>\n      <td>00000dbacae5abe5e23885899a1fa44253a17956c6d1c3...</td>\n      <td>0625548001 0176209023 0627759010 0697138006 05...</td>\n    </tr>\n    <tr>\n      <th>1</th>\n      <td>0000423b00ade91418cceaf3b26c6af3dd342b51fd051e...</td>\n      <td>0583558001 0639677008 0640244003 0521269001 06...</td>\n    </tr>\n    <tr>\n      <th>2</th>\n      <td>000058a12d5b43e67d225668fa1f8d618c13dc232df0ca...</td>\n      <td>0663713001 0541518023 0663713001 0578020002 07...</td>\n    </tr>\n    <tr>\n      <th>3</th>\n      <td>00005ca1c9ed5f5146b52ac8639a40ca9d57aeff4d1bd2...</td>\n      <td>0742079001 0732413001</td>\n    </tr>\n    <tr>\n      <th>4</th>\n      <td>00006413d8573cd20ed7128e53b7b13819fe5cfc2d801f...</td>\n      <td>0634249005 0677049001 0698286003 0707704003 03...</td>\n    </tr>\n  </tbody>\n</table>\n</div>"
     },
     "execution_count": 12,
     "metadata": {},
     "output_type": "execute_result"
    }
   ],
   "source": [
    "# customers\n",
    "customer_df = pd.read_feather(idp('customers.feather'))\n",
    "customer_id_df = pd.DataFrame(customer_df['customer_id'].copy())\n",
    "\n",
    "# create a customer transaction dataframe\n",
    "# STEP 1: fetch transactions from the transactions dataframe\n",
    "customer_transactions_df = transactions_df.groupby(['customer_id'], as_index=False).agg({'article_id': ' '.join})\n",
    "customer_transactions_df = customer_transactions_df.rename(columns={'article_id': 'purchase_history'})\n",
    "# STEP 2: determine all customers that did not have any transaction\n",
    "no_purchase_customers_df = customer_id_df[~customer_id_df['customer_id'].isin(customer_transactions_df['customer_id'])].copy()\n",
    "no_purchase_customers_df['purchase_history'] = ''\n",
    "# STEP 3: join both dataframes to cover all customers\n",
    "customer_transactions_df = pd.concat([customer_transactions_df, no_purchase_customers_df], ignore_index=True)\n",
    "customer_transactions_df.to_feather(idp('customer_transactions_processed.feather'))\n",
    "\n",
    "nr_customers = customer_df.shape[0]\n",
    "customer_transactions_df.head()"
   ],
   "metadata": {
    "collapsed": false,
    "pycharm": {
     "name": "#%%\n"
    }
   }
  },
  {
   "cell_type": "code",
   "execution_count": 13,
   "outputs": [],
   "source": [
    "# dictionary with nr of rows in each frame\n",
    "json.dump({'transactions': nr_transactions, 'articles': nr_articles, 'customers': nr_customers}, open(idp('nr_rows_per_frame.json'), 'w'))"
   ],
   "metadata": {
    "collapsed": false,
    "pycharm": {
     "name": "#%%\n"
    }
   }
  },
  {
   "cell_type": "code",
   "execution_count": 14,
   "outputs": [],
   "source": [
    "%reset -f"
   ],
   "metadata": {
    "collapsed": false,
    "pycharm": {
     "name": "#%%\n"
    }
   }
  }
 ],
 "metadata": {
  "kernelspec": {
   "display_name": "Python 3",
   "language": "python",
   "name": "python3"
  },
  "language_info": {
   "codemirror_mode": {
    "name": "ipython",
    "version": 2
   },
   "file_extension": ".py",
   "mimetype": "text/x-python",
   "name": "python",
   "nbconvert_exporter": "python",
   "pygments_lexer": "ipython2",
   "version": "2.7.6"
  }
 },
 "nbformat": 4,
 "nbformat_minor": 0
}