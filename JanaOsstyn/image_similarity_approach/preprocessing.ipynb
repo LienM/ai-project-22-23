{
 "cells": [
  {
   "cell_type": "markdown",
   "source": [
    "# Preprocessing\n",
    "Preparing the data for embedding creation, similarity calculation and recommendation."
   ],
   "metadata": {
    "collapsed": false,
    "pycharm": {
     "name": "#%% md\n"
    }
   }
  },
  {
   "cell_type": "code",
   "execution_count": 8,
   "outputs": [],
   "source": [
    "import os\n",
    "import pandas as pd\n",
    "from functions import idp, odp"
   ],
   "metadata": {
    "collapsed": false,
    "pycharm": {
     "name": "#%%\n"
    }
   }
  },
  {
   "cell_type": "markdown",
   "source": [
    "## What preprocessing is required\n",
    "Direct frame manipulation:\n",
    "- **Transactions**: the transactions dataframe is very large (3 178 8324 records). In general, only the number of transactions is needed.\n",
    "- **Articles**: articles are important components in the prediction. An `image_name` and `popularity` column are added to the frame.\n",
    "- **Customers**: customers have a purchase history which is extracted from the transactions dataframe.\n",
    "\n",
    "More advanced frame manipulation:\n",
    "- **Cold start**: need backup recommendations for users with no or only a few purchases"
   ],
   "metadata": {
    "collapsed": false,
    "pycharm": {
     "name": "#%% md\n"
    }
   }
  },
  {
   "cell_type": "markdown",
   "source": [
    "## Transactions\n",
    "Loading the transactions dataframe is only with purpose of some manipulations on articles or customers."
   ],
   "metadata": {
    "collapsed": false,
    "pycharm": {
     "name": "#%% md\n"
    }
   }
  },
  {
   "cell_type": "code",
   "execution_count": 9,
   "outputs": [],
   "source": [
    "# transactions\n",
    "transactions_df = pd.read_feather(idp('transactions_train.feather'))\n",
    "transactions_df['article_id'] = '0' + transactions_df['article_id']\n",
    "nr_transactions = transactions_df.shape[0]"
   ],
   "metadata": {
    "collapsed": false,
    "pycharm": {
     "name": "#%%\n"
    }
   }
  },
  {
   "cell_type": "markdown",
   "source": [
    "## Articles\n",
    "Two important aspects:\n",
    "- Add `image_name` column to the dataframe\n",
    "- Add `popularity` column to the dataframe"
   ],
   "metadata": {
    "collapsed": false,
    "pycharm": {
     "name": "#%% md\n"
    }
   }
  },
  {
   "cell_type": "code",
   "execution_count": 10,
   "outputs": [
    {
     "name": "stdout",
     "output_type": "stream",
     "text": [
      "(105542, 26)\n",
      "(105542, 27)\n"
     ]
    },
    {
     "data": {
      "text/plain": "   article_id  product_code          prod_name  product_type_no  \\\n0  0108775015        108775          Strap top              253   \n1  0108775044        108775          Strap top              253   \n2  0108775051        108775      Strap top (1)              253   \n3  0110065001        110065  OP T-shirt (Idro)              306   \n4  0110065002        110065  OP T-shirt (Idro)              306   \n\n  product_type_name  product_group_name  graphical_appearance_no  \\\n0          Vest top  Garment Upper body                        0   \n1          Vest top  Garment Upper body                        0   \n2          Vest top  Garment Upper body                        1   \n3               Bra           Underwear                        0   \n4               Bra           Underwear                        0   \n\n  graphical_appearance_name  colour_group_code colour_group_name  ...  \\\n0                     Solid                  9             Black  ...   \n1                     Solid                 10             White  ...   \n2                    Stripe                 11         Off White  ...   \n3                     Solid                  9             Black  ...   \n4                     Solid                 10             White  ...   \n\n         index_name index_group_no  index_group_name section_no  \\\n0        Ladieswear              1        Ladieswear         16   \n1        Ladieswear              1        Ladieswear         16   \n2        Ladieswear              1        Ladieswear         16   \n3  Lingeries/Tights              1        Ladieswear         61   \n4  Lingeries/Tights              1        Ladieswear         61   \n\n             section_name garment_group_no  garment_group_name  \\\n0  Womens Everyday Basics             1002        Jersey Basic   \n1  Womens Everyday Basics             1002        Jersey Basic   \n2  Womens Everyday Basics             1002        Jersey Basic   \n3         Womens Lingerie             1017   Under-, Nightwear   \n4         Womens Lingerie             1017   Under-, Nightwear   \n\n                                         detail_desc          image_name  \\\n0            Jersey top with narrow shoulder straps.  010/0108775015.jpg   \n1            Jersey top with narrow shoulder straps.  010/0108775044.jpg   \n2            Jersey top with narrow shoulder straps.  010/0108775051.jpg   \n3  Microfibre T-shirt bra with underwired, moulde...  011/0110065001.jpg   \n4  Microfibre T-shirt bra with underwired, moulde...  011/0110065002.jpg   \n\n  popularity  \n0   0.215583  \n1   0.144172  \n2   0.004275  \n3   0.020761  \n4   0.010718  \n\n[5 rows x 27 columns]",
      "text/html": "<div>\n<style scoped>\n    .dataframe tbody tr th:only-of-type {\n        vertical-align: middle;\n    }\n\n    .dataframe tbody tr th {\n        vertical-align: top;\n    }\n\n    .dataframe thead th {\n        text-align: right;\n    }\n</style>\n<table border=\"1\" class=\"dataframe\">\n  <thead>\n    <tr style=\"text-align: right;\">\n      <th></th>\n      <th>article_id</th>\n      <th>product_code</th>\n      <th>prod_name</th>\n      <th>product_type_no</th>\n      <th>product_type_name</th>\n      <th>product_group_name</th>\n      <th>graphical_appearance_no</th>\n      <th>graphical_appearance_name</th>\n      <th>colour_group_code</th>\n      <th>colour_group_name</th>\n      <th>...</th>\n      <th>index_name</th>\n      <th>index_group_no</th>\n      <th>index_group_name</th>\n      <th>section_no</th>\n      <th>section_name</th>\n      <th>garment_group_no</th>\n      <th>garment_group_name</th>\n      <th>detail_desc</th>\n      <th>image_name</th>\n      <th>popularity</th>\n    </tr>\n  </thead>\n  <tbody>\n    <tr>\n      <th>0</th>\n      <td>0108775015</td>\n      <td>108775</td>\n      <td>Strap top</td>\n      <td>253</td>\n      <td>Vest top</td>\n      <td>Garment Upper body</td>\n      <td>0</td>\n      <td>Solid</td>\n      <td>9</td>\n      <td>Black</td>\n      <td>...</td>\n      <td>Ladieswear</td>\n      <td>1</td>\n      <td>Ladieswear</td>\n      <td>16</td>\n      <td>Womens Everyday Basics</td>\n      <td>1002</td>\n      <td>Jersey Basic</td>\n      <td>Jersey top with narrow shoulder straps.</td>\n      <td>010/0108775015.jpg</td>\n      <td>0.215583</td>\n    </tr>\n    <tr>\n      <th>1</th>\n      <td>0108775044</td>\n      <td>108775</td>\n      <td>Strap top</td>\n      <td>253</td>\n      <td>Vest top</td>\n      <td>Garment Upper body</td>\n      <td>0</td>\n      <td>Solid</td>\n      <td>10</td>\n      <td>White</td>\n      <td>...</td>\n      <td>Ladieswear</td>\n      <td>1</td>\n      <td>Ladieswear</td>\n      <td>16</td>\n      <td>Womens Everyday Basics</td>\n      <td>1002</td>\n      <td>Jersey Basic</td>\n      <td>Jersey top with narrow shoulder straps.</td>\n      <td>010/0108775044.jpg</td>\n      <td>0.144172</td>\n    </tr>\n    <tr>\n      <th>2</th>\n      <td>0108775051</td>\n      <td>108775</td>\n      <td>Strap top (1)</td>\n      <td>253</td>\n      <td>Vest top</td>\n      <td>Garment Upper body</td>\n      <td>1</td>\n      <td>Stripe</td>\n      <td>11</td>\n      <td>Off White</td>\n      <td>...</td>\n      <td>Ladieswear</td>\n      <td>1</td>\n      <td>Ladieswear</td>\n      <td>16</td>\n      <td>Womens Everyday Basics</td>\n      <td>1002</td>\n      <td>Jersey Basic</td>\n      <td>Jersey top with narrow shoulder straps.</td>\n      <td>010/0108775051.jpg</td>\n      <td>0.004275</td>\n    </tr>\n    <tr>\n      <th>3</th>\n      <td>0110065001</td>\n      <td>110065</td>\n      <td>OP T-shirt (Idro)</td>\n      <td>306</td>\n      <td>Bra</td>\n      <td>Underwear</td>\n      <td>0</td>\n      <td>Solid</td>\n      <td>9</td>\n      <td>Black</td>\n      <td>...</td>\n      <td>Lingeries/Tights</td>\n      <td>1</td>\n      <td>Ladieswear</td>\n      <td>61</td>\n      <td>Womens Lingerie</td>\n      <td>1017</td>\n      <td>Under-, Nightwear</td>\n      <td>Microfibre T-shirt bra with underwired, moulde...</td>\n      <td>011/0110065001.jpg</td>\n      <td>0.020761</td>\n    </tr>\n    <tr>\n      <th>4</th>\n      <td>0110065002</td>\n      <td>110065</td>\n      <td>OP T-shirt (Idro)</td>\n      <td>306</td>\n      <td>Bra</td>\n      <td>Underwear</td>\n      <td>0</td>\n      <td>Solid</td>\n      <td>10</td>\n      <td>White</td>\n      <td>...</td>\n      <td>Lingeries/Tights</td>\n      <td>1</td>\n      <td>Ladieswear</td>\n      <td>61</td>\n      <td>Womens Lingerie</td>\n      <td>1017</td>\n      <td>Under-, Nightwear</td>\n      <td>Microfibre T-shirt bra with underwired, moulde...</td>\n      <td>011/0110065002.jpg</td>\n      <td>0.010718</td>\n    </tr>\n  </tbody>\n</table>\n<p>5 rows × 27 columns</p>\n</div>"
     },
     "execution_count": 10,
     "metadata": {},
     "output_type": "execute_result"
    }
   ],
   "source": [
    "# articles\n",
    "article_df = pd.read_feather(idp('articles.feather'))\n",
    "article_df['article_id'] = '0' + article_df['article_id']\n",
    "article_df['image_name'] = article_df.apply(lambda row: f'{row[\"article_id\"][:3]}/{row[\"article_id\"]}.jpg', axis=1)\n",
    "article_df['image_name'] = article_df['image_name'].apply(lambda file_name: file_name if os.path.isfile(idp(f'images/{file_name}')) else 'does not exist')\n",
    "article_ids_without_image = article_df[article_df['image_name'] == 'does not exist']['article_id'].values.tolist()\n",
    "article_df = article_df.reset_index(drop=True)\n",
    "print(article_df.shape)\n",
    "\n",
    "popularity_df = pd.DataFrame(transactions_df['article_id'].value_counts())\n",
    "popularity_df = popularity_df.reset_index()\n",
    "popularity_df = popularity_df.rename(columns={'index': 'article_id', 'article_id': 'popularity'})\n",
    "popularity_df['popularity'] = popularity_df['popularity'] / nr_transactions\n",
    "popularity_df['popularity'] = popularity_df['popularity'] / popularity_df['popularity'].max()\n",
    "article_df = article_df.merge(popularity_df, on='article_id', how='outer')      # outer join to not exclude articles that are never purchased\n",
    "article_df['popularity'] = article_df['popularity'].fillna(0.0)                 # non-purchased articles are not popular at all, so assign popularity 0\n",
    "print(article_df.shape)\n",
    "\n",
    "article_df.to_feather(idp('articles_processed.feather'))\n",
    "nr_articles = article_df.shape[0]\n",
    "article_df.head()"
   ],
   "metadata": {
    "collapsed": false,
    "pycharm": {
     "name": "#%%\n"
    }
   }
  },
  {
   "cell_type": "markdown",
   "source": [
    "## Customers\n",
    "Extract purchase history"
   ],
   "metadata": {
    "collapsed": false,
    "pycharm": {
     "name": "#%% md\n"
    }
   }
  },
  {
   "cell_type": "code",
   "execution_count": 12,
   "outputs": [
    {
     "data": {
      "text/plain": "                                         customer_id  \\\n0  00000dbacae5abe5e23885899a1fa44253a17956c6d1c3...   \n1  0000423b00ade91418cceaf3b26c6af3dd342b51fd051e...   \n2  000058a12d5b43e67d225668fa1f8d618c13dc232df0ca...   \n3  00005ca1c9ed5f5146b52ac8639a40ca9d57aeff4d1bd2...   \n4  00006413d8573cd20ed7128e53b7b13819fe5cfc2d801f...   \n\n                                    purchase_history  \n0  0625548001 0176209023 0627759010 0697138006 05...  \n1  0583558001 0639677008 0640244003 0521269001 06...  \n2  0663713001 0541518023 0663713001 0578020002 07...  \n3                              0742079001 0732413001  \n4  0634249005 0677049001 0698286003 0707704003 03...  ",
      "text/html": "<div>\n<style scoped>\n    .dataframe tbody tr th:only-of-type {\n        vertical-align: middle;\n    }\n\n    .dataframe tbody tr th {\n        vertical-align: top;\n    }\n\n    .dataframe thead th {\n        text-align: right;\n    }\n</style>\n<table border=\"1\" class=\"dataframe\">\n  <thead>\n    <tr style=\"text-align: right;\">\n      <th></th>\n      <th>customer_id</th>\n      <th>purchase_history</th>\n    </tr>\n  </thead>\n  <tbody>\n    <tr>\n      <th>0</th>\n      <td>00000dbacae5abe5e23885899a1fa44253a17956c6d1c3...</td>\n      <td>0625548001 0176209023 0627759010 0697138006 05...</td>\n    </tr>\n    <tr>\n      <th>1</th>\n      <td>0000423b00ade91418cceaf3b26c6af3dd342b51fd051e...</td>\n      <td>0583558001 0639677008 0640244003 0521269001 06...</td>\n    </tr>\n    <tr>\n      <th>2</th>\n      <td>000058a12d5b43e67d225668fa1f8d618c13dc232df0ca...</td>\n      <td>0663713001 0541518023 0663713001 0578020002 07...</td>\n    </tr>\n    <tr>\n      <th>3</th>\n      <td>00005ca1c9ed5f5146b52ac8639a40ca9d57aeff4d1bd2...</td>\n      <td>0742079001 0732413001</td>\n    </tr>\n    <tr>\n      <th>4</th>\n      <td>00006413d8573cd20ed7128e53b7b13819fe5cfc2d801f...</td>\n      <td>0634249005 0677049001 0698286003 0707704003 03...</td>\n    </tr>\n  </tbody>\n</table>\n</div>"
     },
     "execution_count": 12,
     "metadata": {},
     "output_type": "execute_result"
    }
   ],
   "source": [
    "# customers\n",
    "customer_df = pd.read_feather(idp('customers.feather'))\n",
    "customer_id_df = pd.DataFrame(customer_df['customer_id'].copy())\n",
    "\n",
    "# create a customer transaction dataframe\n",
    "# STEP 1: fetch transactions from the transactions dataframe\n",
    "customer_transactions_df = transactions_df.groupby(['customer_id'], as_index=False).agg({'article_id': ' '.join})\n",
    "customer_transactions_df = customer_transactions_df.rename(columns={'article_id': 'purchase_history'})\n",
    "# STEP 2: determine all customers that did not have any transaction\n",
    "no_purchase_customers_df = customer_id_df[~customer_id_df['customer_id'].isin(customer_transactions_df['customer_id'])].copy()\n",
    "no_purchase_customers_df['purchase_history'] = ''\n",
    "# STEP 3: join both dataframes to cover all customers\n",
    "customer_transactions_df = pd.concat([customer_transactions_df, no_purchase_customers_df], ignore_index=True)\n",
    "# STEP 4: fill NaN ages with the mean age\n",
    "customer_transactions_df['age'] = customer_transactions_df['age'].fillna(round(customer_transactions_df['age'].mean())).astype(int)\n",
    "# STEP 5: reverse the history such that the most recent purchase comes first\n",
    "customer_transactions_df['purchase_history'] = customer_transactions_df['purchase_history'].apply(lambda x: ' '.join(reversed(x.split(' '))))\n",
    "\n",
    "customer_transactions_df.to_feather(idp('customer_transactions_processed.feather'))\n",
    "\n",
    "nr_customers = customer_df.shape[0]\n",
    "customer_transactions_df.head()"
   ],
   "metadata": {
    "collapsed": false,
    "pycharm": {
     "name": "#%%\n"
    }
   }
  },
  {
   "cell_type": "markdown",
   "source": [
    "## Cold start\n",
    "For a cold start, I decided not to recommend just the popular items of the last 4 weeks, but the popular items within a window of 5 around the current age of a customer. Thus, customers with age 33 that need additional recommendations will get the most popular items within the age window 31 - 35 in the last 4 weeks. Items from last week have more weights than items in the weeks before."
   ],
   "metadata": {
    "collapsed": false,
    "pycharm": {
     "name": "#%% md\n"
    }
   }
  },
  {
   "cell_type": "code",
   "execution_count": null,
   "outputs": [],
   "source": [
    "# some constants\n",
    "NR_RECENT_WEEKS = 4\n",
    "WINDOW = 5"
   ],
   "metadata": {
    "collapsed": false,
    "pycharm": {
     "name": "#%%\n"
    }
   }
  },
  {
   "cell_type": "code",
   "execution_count": null,
   "outputs": [],
   "source": [
    "# step 1: read in the transactions dataframe and find the transactions made in the last NR_RECENT_WEEKS weeks\n",
    "transaction_df = pd.read_feather(idp('transactions_train.feather'))\n",
    "transaction_df = transaction_df.drop(columns=['price', 'sales_channel_id'])\n",
    "transaction_df['article_id'] = '0' + transaction_df['article_id'].astype(str)\n",
    "recent_transaction_df = transaction_df[transaction_df['week'] > transaction_df['week'].max() - NR_RECENT_WEEKS]\n",
    "print(f'{round(100 * recent_transaction_df.shape[0] / transaction_df.shape[0], 2)}% of the transactions took place in the last {NR_RECENT_WEEKS} week(s)')"
   ],
   "metadata": {
    "collapsed": false,
    "pycharm": {
     "name": "#%%\n"
    }
   }
  },
  {
   "cell_type": "code",
   "execution_count": null,
   "outputs": [],
   "source": [
    "# step 2: we need to couple ages to the subset of transactions these ages must come from the customers\n",
    "customer_df = pd.read_feather(idp('customers.feather'))\n",
    "customer_df = customer_df.drop(\n",
    "    columns=['FN', 'Active', 'club_member_status', 'fashion_news_frequency', 'postal_code']\n",
    ")\n",
    "customer_df['age'] = customer_df['age'].fillna(round(customer_df['age'].mean()))\n",
    "customer_df['age'] = customer_df['age'].astype(int)\n",
    "recent_transaction_df = recent_transaction_df.merge(customer_df, how='left', on='customer_id')"
   ],
   "metadata": {
    "collapsed": false,
    "pycharm": {
     "name": "#%%\n"
    }
   }
  },
  {
   "cell_type": "code",
   "execution_count": null,
   "outputs": [],
   "source": [
    "# step 3: we need the popularity for each article purchased in the last NR_RECENT_WEEKS weeks\n",
    "popularity_df = pd.DataFrame(recent_transaction_df['article_id'].value_counts())\n",
    "popularity_df = popularity_df.reset_index()\n",
    "popularity_df = popularity_df.rename(columns={'index': 'article_id', 'article_id': 'popularity'})\n",
    "popularity_df['popularity'] = popularity_df['popularity'] / recent_transaction_df.shape[0]\n",
    "popularity_df['popularity'] = popularity_df['popularity'] / popularity_df['popularity'].max()"
   ],
   "metadata": {
    "collapsed": false,
    "pycharm": {
     "name": "#%%\n"
    }
   }
  },
  {
   "cell_type": "code",
   "execution_count": null,
   "outputs": [],
   "source": [
    "# step 4: ideally, articles purchased in the last week are more likely to get bought next week than articles purchased 2 weeks ago,\n",
    "# thus multiply the popularity of an article by a factor defined by the week the item is bought in 1 for last week, 0.9 for the week before,...\n",
    "recent_transaction_df = recent_transaction_df.merge(popularity_df, how='left', on='article_id')\n",
    "recent_transaction_df['week_factor'] = \\\n",
    "    1 - ((NR_RECENT_WEEKS - (recent_transaction_df['week'] - recent_transaction_df['week'].min() + 1)) * 0.1)\n",
    "recent_transaction_df['popularity'] *= recent_transaction_df['week_factor']\n",
    "recent_transaction_df = recent_transaction_df.drop(columns=['customer_id', 'week', 'week_factor'])"
   ],
   "metadata": {
    "collapsed": false,
    "pycharm": {
     "name": "#%%\n"
    }
   }
  },
  {
   "cell_type": "code",
   "execution_count": null,
   "outputs": [],
   "source": [
    "# step 5\n",
    "def get_popular_articles_for_age(window_min_age, window_max_age):\n",
    "    \"\"\"\n",
    "    Function that returns the 12 most popular articles for a given age window within the last NR_RECENT_WEEKS weeks.\n",
    "    In case the age window is too small to obtain 12 unique articles, the window is enlarged by 2 and the process is\n",
    "    repeated. In case the age window goes beyond the minimum age or above the maximum age, the window is shifted such\n",
    "    that it only covers ages occurring in the dataset while having the same window size as before.\n",
    "    :param window_min_age: the lower bound of the age window\n",
    "    :param window_max_age: the upper bound of the age window\n",
    "    :return: a list with the 12 most popular articles for the given age window\n",
    "    \"\"\"\n",
    "    subset_df = pd.DataFrame()\n",
    "    while subset_df.shape[0] < 12:\n",
    "        if window_min_age < recent_transaction_df['age'].min():\n",
    "            diff = recent_transaction_df['age'].min() - window_min_age\n",
    "            window_min_age = recent_transaction_df['age'].min()\n",
    "            window_max_age += diff\n",
    "        elif window_max_age > recent_transaction_df['age'].max():\n",
    "            diff = window_max_age - recent_transaction_df['age'].max()\n",
    "            window_max_age = recent_transaction_df['age'].max()\n",
    "            window_min_age -= diff\n",
    "        subset_df = recent_transaction_df[recent_transaction_df['age'].isin(range(window_min_age, window_max_age + 1))]\n",
    "        subset_df = subset_df.sort_values(by='popularity', ascending=False)\n",
    "        subset_df = subset_df.drop_duplicates(subset=['article_id'], keep='first')\n",
    "        subset_df = subset_df.reset_index()\n",
    "        window_min_age -= 1\n",
    "        window_max_age -= 1\n",
    "    return subset_df.loc[:11]['article_id'].tolist()\n",
    "\n",
    "# loop over all ages and get recommendations based on the age window defined by age - X --> age + X, where\n",
    "# the total size of the window is equal to WINDOW (in practice, the value of X can be derived by WINDOW // 2)\n",
    "results = []\n",
    "for age in range(recent_transaction_df['age'].min(), recent_transaction_df['age'].max() + 1):\n",
    "    article_ids = get_popular_articles_for_age(\n",
    "        window_min_age=age - WINDOW // 2,\n",
    "        window_max_age=age + WINDOW // 2\n",
    "    )\n",
    "    results.append(article_ids)"
   ],
   "metadata": {
    "collapsed": false,
    "pycharm": {
     "name": "#%%\n"
    }
   }
  },
  {
   "cell_type": "code",
   "execution_count": null,
   "outputs": [],
   "source": [
    "# step 6: finally, create a dataframe for the recommendations and store the frame\n",
    "age_recommendation_df = pd.DataFrame({\n",
    "    'age': range(recent_transaction_df['age'].min(), recent_transaction_df['age'].max() + 1)\n",
    "})\n",
    "columns = list(zip(*results))\n",
    "for i in range(12):\n",
    "    age_recommendation_df[f'recommendation_{i + 1}'] = columns[i]\n",
    "age_recommendation_df.to_feather(odp('cold_start_recommendations.feather'))"
   ],
   "metadata": {
    "collapsed": false,
    "pycharm": {
     "name": "#%%\n"
    }
   }
  },
  {
   "cell_type": "code",
   "execution_count": 14,
   "outputs": [],
   "source": [
    "%reset -f"
   ],
   "metadata": {
    "collapsed": false,
    "pycharm": {
     "name": "#%%\n"
    }
   }
  }
 ],
 "metadata": {
  "kernelspec": {
   "display_name": "Python 3",
   "language": "python",
   "name": "python3"
  },
  "language_info": {
   "codemirror_mode": {
    "name": "ipython",
    "version": 2
   },
   "file_extension": ".py",
   "mimetype": "text/x-python",
   "name": "python",
   "nbconvert_exporter": "python",
   "pygments_lexer": "ipython2",
   "version": "2.7.6"
  }
 },
 "nbformat": 4,
 "nbformat_minor": 0
}