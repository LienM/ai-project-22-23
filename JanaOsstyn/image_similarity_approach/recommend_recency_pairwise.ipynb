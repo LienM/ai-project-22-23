{
 "cells": [
  {
   "cell_type": "markdown",
   "metadata": {
    "collapsed": true,
    "pycharm": {
     "name": "#%% md\n"
    }
   },
   "source": [
    "# Recommendation - recency, pairwise\n",
    "Get the 12 most recently purchased (unique) articles (with an image), and recommend for each of these 12 articles an article that is similar. If there are no 12 (unique) purchases for a user, the 12 most popular items are used to supplement such that in total 12 recommendations are obtained."
   ]
  },
  {
   "cell_type": "code",
   "execution_count": null,
   "outputs": [],
   "source": [
    "import threading\n",
    "from functions import *"
   ],
   "metadata": {
    "collapsed": false,
    "pycharm": {
     "name": "#%%\n"
    }
   }
  },
  {
   "cell_type": "code",
   "execution_count": null,
   "outputs": [],
   "source": [
    "NR_ROWS_PER_THREAD = 6000                                                   # nr of customers to process in each thread\n",
    "SIMILARITY_ARTICLE_ID_FILE = ''                                             # input file (containing the similar article ids)\n",
    "SIMILARITY_LEVEL = 1                                                        # how similar should the pairwise match be (0 = same, 1 = most similar,...)\n",
    "OUTPUT_FILE_NAME = f'submission_recency_pairwise_{SIMILARITY_LEVEL}.csv'    # name of the submission file\n",
    "VALIDATE_CUSTOMER = 3                                                       # the index of a customer to validate"
   ],
   "metadata": {
    "collapsed": false,
    "pycharm": {
     "name": "#%%\n"
    }
   }
  },
  {
   "cell_type": "code",
   "execution_count": null,
   "outputs": [],
   "source": [
    "article_df = pd.read_feather(idp(filename='articles_processed.feather'))\n",
    "no_image_article_ids = article_df[article_df['image_name'] == 'does not exist']['article_id'].values.tolist()\n",
    "most_popular_article_ids = article_df.sort_values(by='popularity', ascending=False).head(12)['article_id'].values.tolist()\n",
    "\n",
    "customers_transactions_df = pd.read_feather(idp(filename='customers_transactions_processed.feather'))\n",
    "nr_customers = customers_transactions_df.shape[0]"
   ],
   "metadata": {
    "collapsed": false,
    "pycharm": {
     "name": "#%%\n"
    }
   }
  },
  {
   "cell_type": "markdown",
   "source": [
    "## Submission creation pipeline\n",
    "The pipeline uses multithreading to reduce the execution time."
   ],
   "metadata": {
    "collapsed": false,
    "pycharm": {
     "name": "#%% md\n"
    }
   }
  },
  {
   "cell_type": "code",
   "execution_count": null,
   "outputs": [],
   "source": [
    "def get_recommendations_recency_pairwise(customer_purchase_hist, similar_article_dict, popular_article_list):\n",
    "    \"\"\"\n",
    "    Get the recommendations for a single customer based on its purchase history, by looking at the 12 most recent purchases and finding the i-th most similar article to each of these 12 purchased articles. Supplement the recommendations with the most popular items (important in case the customers had < 12 purchases). For this function, it is not important what i we have (for the i-th most similar), because this information is already encoded in the similar_article_dict.\n",
    "    :param customer_purchase_hist: a string with space-separated article_ids, representing the purchase history (first = least recently purchased, last = most recently purchased)\n",
    "    :param similar_article_dict: a dictionary mapping each article to a tuple with 1 article_id that is considered as the i-th most similar article\n",
    "    :param popular_article_list: a list of the 12 most popular article (ids)\n",
    "    :return: a string with 12 recommendations\n",
    "    \"\"\"\n",
    "    customer_purchase_hist = list(dict.fromkeys(\n",
    "        [c for c in article_str_to_list(article_id_str=customer_purchase_hist) if c not in no_image_article_ids]\n",
    "    ))[-12:]\n",
    "    recommended_articles = list(dict.fromkeys([similar_article_dict[history][0] for history in customer_purchase_hist] + popular_article_list))\n",
    "    return article_list_to_str(article_id_list=recommended_articles[:12])\n",
    "\n",
    "def create_recency_pairwise_recommendations_thread_function(min_row_ind, max_row_ind, thread_nr, similar_article_dict, similarity_level):\n",
    "    \"\"\"\n",
    "    Apply the get_recommendations_recency_pairwise function to a batch of customers (defined by min_row_ind and max_row_ind).\n",
    "    Write the result to a temporary partial submission file.\n",
    "    :param min_row_ind: smallest row index in the range to retrieve\n",
    "    :param max_row_ind: largest row index in the range to retrieve\n",
    "    :param thread_nr: nr of the thread\n",
    "    :param similar_article_dict: dictionary mapping articles to their i-th similar article\n",
    "    :param similarity_level: the similarity level i\n",
    "    \"\"\"\n",
    "\n",
    "    print(f\"[=>    ] Started              : Thread {thread_nr} ({min_row_ind} --> {max_row_ind})\")\n",
    "    part_of_df = customers_transactions_df.iloc[min_row_ind:max_row_ind].copy()\n",
    "    part_of_df['prediction'] = part_of_df['purchase_history'].apply(\n",
    "        lambda hist: get_recommendations_recency_pairwise(\n",
    "            customer_purchase_hist=hist, similar_article_dict=similar_article_dict, popular_article_list=most_popular_article_ids\n",
    "        )\n",
    "    )\n",
    "    part_of_submission = part_of_df[['customer_id', 'prediction']]\n",
    "    part_of_submission.to_csv(submission_odp(filename=f'submission_{thread_nr}.csv', creation=True), index=False)\n",
    "    print(f\"[=====>] Finished             : Thread {thread_nr} ({min_row_ind} --> {max_row_ind})\")\n",
    "    return\n",
    "\n",
    "def run_threaded_recency_pairwise_recommendations():\n",
    "    \"\"\"\n",
    "    Find recommendations for all customers in the dataset\n",
    "    :return: the number of threads\n",
    "    \"\"\"\n",
    "\n",
    "    min_row_ind, max_row_ind = 0, NR_ROWS_PER_THREAD     # lower and upperbound of rows to extract within a thread\n",
    "    thread_nr = 1                                        # only for progress printing\n",
    "    threads = list()\n",
    "\n",
    "    similar_article_dict = get_similar_article_dict(\n",
    "        similarity_df_article_ids=pd.read_feather(odp(filename=SIMILARITY_ARTICLE_ID_FILE)),\n",
    "        similarity_levels=[SIMILARITY_LEVEL]\n",
    "    )\n",
    "\n",
    "    # create threads\n",
    "    while nr_customers > min_row_ind:\n",
    "        print(\"Main    : created and started thread %d\", thread_nr)\n",
    "        # create and start thread\n",
    "        thread = threading.Thread(\n",
    "            target=create_recency_pairwise_recommendations_thread_function,\n",
    "            args=(min_row_ind, max_row_ind, thread_nr, similar_article_dict, SIMILARITY_LEVEL)\n",
    "        )\n",
    "        threads.append(thread)\n",
    "        thread.start()\n",
    "        # update parameters\n",
    "        min_row_ind, max_row_ind = max_row_ind, min(nr_customers, max_row_ind + NR_ROWS_PER_THREAD)\n",
    "        thread_nr += 1\n",
    "\n",
    "    # join threads\n",
    "    for thread_index, thread in enumerate(threads):\n",
    "        print(\"Main    : next thread to join: %d.\", thread_index + 1)\n",
    "        thread.join()\n",
    "        print(\"Main    : thread %d done\", thread_index + 1)\n",
    "\n",
    "    return thread_nr -  1"
   ],
   "metadata": {
    "collapsed": false,
    "pycharm": {
     "name": "#%%\n"
    }
   }
  },
  {
   "cell_type": "code",
   "execution_count": null,
   "outputs": [],
   "source": [
    "%%time\n",
    "\n",
    "nr_threads = run_threaded_recency_pairwise_recommendations()"
   ],
   "metadata": {
    "collapsed": false,
    "pycharm": {
     "name": "#%%\n"
    }
   }
  },
  {
   "cell_type": "code",
   "execution_count": null,
   "outputs": [],
   "source": [
    "%%time\n",
    "\n",
    "join_partial_submissions(\n",
    "    base_file_name=submission_odp(filename=f'submission_*.csv', creation=True),\n",
    "    trgt_file_name=submission_odp(OUTPUT_FILE_NAME),\n",
    "    nr_files=nr_threads\n",
    ")"
   ],
   "metadata": {
    "collapsed": false,
    "pycharm": {
     "name": "#%%\n"
    }
   }
  },
  {
   "cell_type": "code",
   "execution_count": null,
   "outputs": [],
   "source": [
    "remove_directory_if_exists(directory=odp(filename='submission_creation'))"
   ],
   "metadata": {
    "collapsed": false,
    "pycharm": {
     "name": "#%%\n"
    }
   }
  },
  {
   "cell_type": "markdown",
   "source": [
    "## Subjective validation\n",
    "Check the format of the submission file and visually assess the recommendations."
   ],
   "metadata": {
    "collapsed": false,
    "pycharm": {
     "name": "#%% md\n"
    }
   }
  },
  {
   "cell_type": "code",
   "execution_count": null,
   "outputs": [],
   "source": [
    "%%time\n",
    "\n",
    "# check whether the submission file is valid\n",
    "check_submission(\n",
    "    filename=submission_odp(filename=OUTPUT_FILE_NAME),\n",
    "    nr_customers=nr_customers\n",
    ")"
   ],
   "metadata": {
    "collapsed": false,
    "pycharm": {
     "name": "#%%\n"
    }
   }
  },
  {
   "cell_type": "code",
   "execution_count": null,
   "outputs": [],
   "source": [
    "%%time\n",
    "\n",
    "# randomly show any customer case\n",
    "random_show_customer_case(\n",
    "    filename=submission_odp(filename=OUTPUT_FILE_NAME),\n",
    "    customer_transactions_df=customers_transactions_df\n",
    ")"
   ],
   "metadata": {
    "collapsed": false,
    "pycharm": {
     "name": "#%%\n"
    }
   }
  },
  {
   "cell_type": "code",
   "execution_count": null,
   "outputs": [],
   "source": [
    "%%time\n",
    "\n",
    "# show the customer at index VALIDATE_CUSTOMER\n",
    "show_customer_case(\n",
    "    customer_id=VALIDATE_CUSTOMER,\n",
    "    filename=submission_odp(filename=OUTPUT_FILE_NAME),\n",
    "    customer_transactions_df=customers_transactions_df\n",
    ")"
   ],
   "metadata": {
    "collapsed": false,
    "pycharm": {
     "name": "#%%\n"
    }
   }
  },
  {
   "cell_type": "code",
   "execution_count": null,
   "outputs": [],
   "source": [
    "%reset -f"
   ],
   "metadata": {
    "collapsed": false,
    "pycharm": {
     "name": "#%%\n"
    }
   }
  }
 ],
 "metadata": {
  "kernelspec": {
   "display_name": "Python 3",
   "language": "python",
   "name": "python3"
  },
  "language_info": {
   "codemirror_mode": {
    "name": "ipython",
    "version": 2
   },
   "file_extension": ".py",
   "mimetype": "text/x-python",
   "name": "python",
   "nbconvert_exporter": "python",
   "pygments_lexer": "ipython2",
   "version": "2.7.6"
  }
 },
 "nbformat": 4,
 "nbformat_minor": 0
}