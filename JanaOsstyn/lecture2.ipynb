{
 "cells": [
  {
   "cell_type": "markdown",
   "metadata": {},
   "source": [
    "# Lecture 2: Introduction to Feature Engineering"
   ]
  },
  {
   "cell_type": "markdown",
   "metadata": {},
   "source": [
    "## Setup"
   ]
  },
  {
   "cell_type": "code",
   "execution_count": 42,
   "metadata": {},
   "outputs": [],
   "source": [
    "import numpy as np \n",
    "import pandas as pd\n",
    "import random\n",
    "from sklearn.linear_model import LogisticRegression\n",
    "from sklearn.model_selection import train_test_split\n",
    "from sklearn.metrics import classification_report\n",
    "from sklearn import preprocessing"
   ]
  },
  {
   "cell_type": "code",
   "execution_count": 43,
   "metadata": {},
   "outputs": [],
   "source": [
    "articles = pd.read_csv('../data/articles.csv')\n",
    "customers = pd.read_csv('../data/customers.csv')\n",
    "sample_submisison = pd.read_csv('../data/sample_submission.csv')\n",
    "transactions = pd.read_csv('../data/transactions_train.csv')"
   ]
  },
  {
   "cell_type": "markdown",
   "metadata": {},
   "source": [
    "## The H&M Dataset"
   ]
  },
  {
   "cell_type": "code",
   "execution_count": 44,
   "metadata": {},
   "outputs": [
    {
     "name": "stdout",
     "output_type": "stream",
     "text": [
      "<class 'pandas.core.frame.DataFrame'>\n",
      "RangeIndex: 105542 entries, 0 to 105541\n",
      "Data columns (total 25 columns):\n",
      " #   Column                        Non-Null Count   Dtype \n",
      "---  ------                        --------------   ----- \n",
      " 0   article_id                    105542 non-null  int64 \n",
      " 1   product_code                  105542 non-null  int64 \n",
      " 2   prod_name                     105542 non-null  object\n",
      " 3   product_type_no               105542 non-null  int64 \n",
      " 4   product_type_name             105542 non-null  object\n",
      " 5   product_group_name            105542 non-null  object\n",
      " 6   graphical_appearance_no       105542 non-null  int64 \n",
      " 7   graphical_appearance_name     105542 non-null  object\n",
      " 8   colour_group_code             105542 non-null  int64 \n",
      " 9   colour_group_name             105542 non-null  object\n",
      " 10  perceived_colour_value_id     105542 non-null  int64 \n",
      " 11  perceived_colour_value_name   105542 non-null  object\n",
      " 12  perceived_colour_master_id    105542 non-null  int64 \n",
      " 13  perceived_colour_master_name  105542 non-null  object\n",
      " 14  department_no                 105542 non-null  int64 \n",
      " 15  department_name               105542 non-null  object\n",
      " 16  index_code                    105542 non-null  object\n",
      " 17  index_name                    105542 non-null  object\n",
      " 18  index_group_no                105542 non-null  int64 \n",
      " 19  index_group_name              105542 non-null  object\n",
      " 20  section_no                    105542 non-null  int64 \n",
      " 21  section_name                  105542 non-null  object\n",
      " 22  garment_group_no              105542 non-null  int64 \n",
      " 23  garment_group_name            105542 non-null  object\n",
      " 24  detail_desc                   105126 non-null  object\n",
      "dtypes: int64(11), object(14)\n",
      "memory usage: 20.1+ MB\n"
     ]
    }
   ],
   "source": [
    "articles.info()"
   ]
  },
  {
   "cell_type": "code",
   "execution_count": 45,
   "metadata": {},
   "outputs": [
    {
     "name": "stdout",
     "output_type": "stream",
     "text": [
      "<class 'pandas.core.frame.DataFrame'>\n",
      "RangeIndex: 1371980 entries, 0 to 1371979\n",
      "Data columns (total 7 columns):\n",
      " #   Column                  Non-Null Count    Dtype  \n",
      "---  ------                  --------------    -----  \n",
      " 0   customer_id             1371980 non-null  object \n",
      " 1   FN                      476930 non-null   float64\n",
      " 2   Active                  464404 non-null   float64\n",
      " 3   club_member_status      1365918 non-null  object \n",
      " 4   fashion_news_frequency  1355971 non-null  object \n",
      " 5   age                     1356119 non-null  float64\n",
      " 6   postal_code             1371980 non-null  object \n",
      "dtypes: float64(3), object(4)\n",
      "memory usage: 73.3+ MB\n"
     ]
    }
   ],
   "source": [
    "customers.info()"
   ]
  },
  {
   "cell_type": "code",
   "execution_count": 46,
   "metadata": {},
   "outputs": [
    {
     "name": "stdout",
     "output_type": "stream",
     "text": [
      "<class 'pandas.core.frame.DataFrame'>\n",
      "RangeIndex: 31788324 entries, 0 to 31788323\n",
      "Data columns (total 5 columns):\n",
      " #   Column            Dtype  \n",
      "---  ------            -----  \n",
      " 0   t_dat             object \n",
      " 1   customer_id       object \n",
      " 2   article_id        int64  \n",
      " 3   price             float64\n",
      " 4   sales_channel_id  int64  \n",
      "dtypes: float64(1), int64(2), object(2)\n",
      "memory usage: 1.2+ GB\n"
     ]
    }
   ],
   "source": [
    "transactions.info()"
   ]
  },
  {
   "cell_type": "code",
   "execution_count": 47,
   "metadata": {},
   "outputs": [],
   "source": [
    "# X = transactions.merge(customers, how='inner', on='customer_id')\n",
    "# X = X.merge(articles, how='inner', on='article_id')"
   ]
  },
  {
   "cell_type": "markdown",
   "metadata": {},
   "source": [
    "### Creating Samples \n",
    "If you would rather work with samples instead of the whole dataset (while prototyping your code). You can use the code below:"
   ]
  },
  {
   "cell_type": "code",
   "execution_count": 48,
   "metadata": {},
   "outputs": [],
   "source": [
    "# Adapted from: https://www.kaggle.com/code/paweljankiewicz/hm-create-dataset-samples\n",
    "# This extracts three sampled datasets, containing 0.1%, 1% and 5% of all users and their transactions, and the associated articles.\n",
    "for sample_repr, sample in [(\"01\", 0.001), (\"1\", 0.01), (\"5\", 0.05)]:\n",
    "    break\n",
    "    print(sample)\n",
    "    customers_sample = customers.sample(int(customers.shape[0]*sample), replace=False)\n",
    "    customers_sample_ids = set(customers_sample[\"customer_id\"])\n",
    "    transactions_sample = transactions[transactions[\"customer_id\"].isin(customers_sample_ids)]\n",
    "    articles_sample_ids = set(transactions_sample[\"article_id\"])\n",
    "    articles_sample = articles[articles[\"article_id\"].isin(articles_sample_ids)]\n",
    "    customers_sample.to_csv(f\"../data/customers_sample{sample_repr}.csv.gz\", index=False)\n",
    "    transactions_sample.to_csv(f\"../data/transactions_sample{sample_repr}.csv.gz\", index=False)\n",
    "    articles_sample.to_csv(f\"../data/articles_sample{sample_repr}.csv.gz\", index=False)"
   ]
  },
  {
   "cell_type": "code",
   "execution_count": 49,
   "metadata": {},
   "outputs": [],
   "source": [
    "articles_sample = pd.read_csv('../data/articles_sample1.csv.gz')\n",
    "customers_sample = pd.read_csv('../data/customers_sample1.csv.gz')\n",
    "transactions_sample = pd.read_csv('../data/transactions_sample1.csv.gz')"
   ]
  },
  {
   "cell_type": "code",
   "execution_count": 50,
   "metadata": {},
   "outputs": [
    {
     "name": "stdout",
     "output_type": "stream",
     "text": [
      "<class 'pandas.core.frame.DataFrame'>\n",
      "RangeIndex: 13719 entries, 0 to 13718\n",
      "Data columns (total 7 columns):\n",
      " #   Column                  Non-Null Count  Dtype  \n",
      "---  ------                  --------------  -----  \n",
      " 0   customer_id             13719 non-null  object \n",
      " 1   FN                      4781 non-null   float64\n",
      " 2   Active                  4680 non-null   float64\n",
      " 3   club_member_status      13658 non-null  object \n",
      " 4   fashion_news_frequency  13574 non-null  object \n",
      " 5   age                     13559 non-null  float64\n",
      " 6   postal_code             13719 non-null  object \n",
      "dtypes: float64(3), object(4)\n",
      "memory usage: 750.4+ KB\n"
     ]
    }
   ],
   "source": [
    "customers_sample.info()"
   ]
  },
  {
   "cell_type": "code",
   "execution_count": 51,
   "metadata": {},
   "outputs": [
    {
     "name": "stdout",
     "output_type": "stream",
     "text": [
      "<class 'pandas.core.frame.DataFrame'>\n",
      "RangeIndex: 312405 entries, 0 to 312404\n",
      "Data columns (total 5 columns):\n",
      " #   Column            Non-Null Count   Dtype  \n",
      "---  ------            --------------   -----  \n",
      " 0   t_dat             312405 non-null  object \n",
      " 1   customer_id       312405 non-null  object \n",
      " 2   article_id        312405 non-null  int64  \n",
      " 3   price             312405 non-null  float64\n",
      " 4   sales_channel_id  312405 non-null  int64  \n",
      "dtypes: float64(1), int64(2), object(2)\n",
      "memory usage: 11.9+ MB\n"
     ]
    }
   ],
   "source": [
    "transactions_sample.info()"
   ]
  },
  {
   "cell_type": "markdown",
   "metadata": {},
   "source": [
    "## A Simplified Task: Binary Classification\n",
    "\n",
    "The task of predicting which 12 items users are most likely to buy in the next week is difficult to translate to a traditional classification machine learning setting. \n",
    "To obtain the 12 items a user is most likely to buy, we need to make predictions for all items (or the ones selected by a baseline) and select the 12 that have the highest predicted scores.\n",
    "\n",
    "In this assignment, we'll consider a simplified task: Predict whether a user ordered a single item or not, based on the features of the user and the item. \n",
    "We provide a baseline logistic regression model below, but haven't done much feature preprocessing or engineering!\n",
    "Initially, it is always best to focus your efforts on getting your features in the right shape and setting up the right validation scheme and baselines.\n",
    "Once you are sure that your features add value and your validation scheme is correct, then you typically move on to trying more elaborate models."
   ]
  },
  {
   "cell_type": "markdown",
   "metadata": {},
   "source": [
    "### Creating the Dataset"
   ]
  },
  {
   "cell_type": "code",
   "execution_count": 52,
   "metadata": {},
   "outputs": [],
   "source": [
    "# If you'd rather use a sample. Uncomment the following code:\n",
    "transactions = transactions_sample\n",
    "customers = customers_sample\n",
    "articles = articles_sample"
   ]
  },
  {
   "cell_type": "code",
   "execution_count": 53,
   "metadata": {},
   "outputs": [],
   "source": [
    "transactions['ordered'] = 1"
   ]
  },
  {
   "cell_type": "markdown",
   "metadata": {},
   "source": [
    "The problem setting is an example of a \"PU learning\" problem, i.e. only positives are labeled, everything else is unlabeled (and can be either positive or negative). \n",
    "Of course, we cannot train a classifier with just positive samples: The classifier will just learn that everything is positive.\n",
    "Therefore, we need to manually generate negative samples.\n",
    "\n",
    "Below, we use a simple random negative sampling strategy.\n",
    "We want to create a balanced dataset, meaning that we have just as many positives as negatives.\n",
    "This makes sure that the classifier will not benefit from predicting the positive/negative class more often than the other.\n",
    "Realistically, the amount of positive samples is of course many times smaller than the amount of unlabeled, possibly negative instances.\n",
    "\n",
    "\n",
    "If you want to try your hand at a more complex negative sampling strategy, you may want to check out this blog as a starting point: https://medium.com/mlearning-ai/overview-negative-sampling-on-recommendation-systems-230a051c6cd7.\n",
    "\n"
   ]
  },
  {
   "cell_type": "code",
   "execution_count": 54,
   "metadata": {},
   "outputs": [
    {
     "data": {
      "text/plain": "        t_dat                                        customer_id  article_id  \\\n0  2018-09-20  000058a12d5b43e67d225668fa1f8d618c13dc232df0ca...   663713001   \n1  2018-09-20  000058a12d5b43e67d225668fa1f8d618c13dc232df0ca...   541518023   \n2  2018-09-20  0137b87739a796f65396d8483173f66318039d19a2583f...   577992001   \n3  2018-09-20  023807eac529e635ef40b48d61685876c7487d129eb238...   524825006   \n4  2018-09-20  023807eac529e635ef40b48d61685876c7487d129eb238...   524825006   \n\n      price  sales_channel_id  ordered  \n0  0.050831                 2        1  \n1  0.030492                 2        1  \n2  0.011254                 2        1  \n3  0.023712                 2        1  \n4  0.023712                 2        1  ",
      "text/html": "<div>\n<style scoped>\n    .dataframe tbody tr th:only-of-type {\n        vertical-align: middle;\n    }\n\n    .dataframe tbody tr th {\n        vertical-align: top;\n    }\n\n    .dataframe thead th {\n        text-align: right;\n    }\n</style>\n<table border=\"1\" class=\"dataframe\">\n  <thead>\n    <tr style=\"text-align: right;\">\n      <th></th>\n      <th>t_dat</th>\n      <th>customer_id</th>\n      <th>article_id</th>\n      <th>price</th>\n      <th>sales_channel_id</th>\n      <th>ordered</th>\n    </tr>\n  </thead>\n  <tbody>\n    <tr>\n      <th>0</th>\n      <td>2018-09-20</td>\n      <td>000058a12d5b43e67d225668fa1f8d618c13dc232df0ca...</td>\n      <td>663713001</td>\n      <td>0.050831</td>\n      <td>2</td>\n      <td>1</td>\n    </tr>\n    <tr>\n      <th>1</th>\n      <td>2018-09-20</td>\n      <td>000058a12d5b43e67d225668fa1f8d618c13dc232df0ca...</td>\n      <td>541518023</td>\n      <td>0.030492</td>\n      <td>2</td>\n      <td>1</td>\n    </tr>\n    <tr>\n      <th>2</th>\n      <td>2018-09-20</td>\n      <td>0137b87739a796f65396d8483173f66318039d19a2583f...</td>\n      <td>577992001</td>\n      <td>0.011254</td>\n      <td>2</td>\n      <td>1</td>\n    </tr>\n    <tr>\n      <th>3</th>\n      <td>2018-09-20</td>\n      <td>023807eac529e635ef40b48d61685876c7487d129eb238...</td>\n      <td>524825006</td>\n      <td>0.023712</td>\n      <td>2</td>\n      <td>1</td>\n    </tr>\n    <tr>\n      <th>4</th>\n      <td>2018-09-20</td>\n      <td>023807eac529e635ef40b48d61685876c7487d129eb238...</td>\n      <td>524825006</td>\n      <td>0.023712</td>\n      <td>2</td>\n      <td>1</td>\n    </tr>\n  </tbody>\n</table>\n</div>"
     },
     "execution_count": 54,
     "metadata": {},
     "output_type": "execute_result"
    }
   ],
   "source": [
    "transactions.head()"
   ]
  },
  {
   "cell_type": "code",
   "execution_count": 55,
   "metadata": {},
   "outputs": [],
   "source": [
    "# What's happening here? \n",
    "# We're creating negative samples. I.e. we're creating transactions that didn't actually occur.\n",
    "# First, we need to know which interactions did occur:\n",
    "positive_pairs = list(map(tuple, transactions[['customer_id', 'article_id']].drop_duplicates().values))"
   ]
  },
  {
   "cell_type": "code",
   "execution_count": 56,
   "metadata": {},
   "outputs": [
    {
     "data": {
      "text/plain": "        t_dat                                        customer_id  article_id  \\\n0  2018-09-20  000058a12d5b43e67d225668fa1f8d618c13dc232df0ca...   663713001   \n1  2018-09-20  000058a12d5b43e67d225668fa1f8d618c13dc232df0ca...   541518023   \n2  2018-09-20  0137b87739a796f65396d8483173f66318039d19a2583f...   577992001   \n3  2018-09-20  023807eac529e635ef40b48d61685876c7487d129eb238...   524825006   \n4  2018-09-20  023807eac529e635ef40b48d61685876c7487d129eb238...   524825006   \n\n      price  sales_channel_id  ordered  \n0  0.050831                 2        1  \n1  0.030492                 2        1  \n2  0.011254                 2        1  \n3  0.023712                 2        1  \n4  0.023712                 2        1  ",
      "text/html": "<div>\n<style scoped>\n    .dataframe tbody tr th:only-of-type {\n        vertical-align: middle;\n    }\n\n    .dataframe tbody tr th {\n        vertical-align: top;\n    }\n\n    .dataframe thead th {\n        text-align: right;\n    }\n</style>\n<table border=\"1\" class=\"dataframe\">\n  <thead>\n    <tr style=\"text-align: right;\">\n      <th></th>\n      <th>t_dat</th>\n      <th>customer_id</th>\n      <th>article_id</th>\n      <th>price</th>\n      <th>sales_channel_id</th>\n      <th>ordered</th>\n    </tr>\n  </thead>\n  <tbody>\n    <tr>\n      <th>0</th>\n      <td>2018-09-20</td>\n      <td>000058a12d5b43e67d225668fa1f8d618c13dc232df0ca...</td>\n      <td>663713001</td>\n      <td>0.050831</td>\n      <td>2</td>\n      <td>1</td>\n    </tr>\n    <tr>\n      <th>1</th>\n      <td>2018-09-20</td>\n      <td>000058a12d5b43e67d225668fa1f8d618c13dc232df0ca...</td>\n      <td>541518023</td>\n      <td>0.030492</td>\n      <td>2</td>\n      <td>1</td>\n    </tr>\n    <tr>\n      <th>2</th>\n      <td>2018-09-20</td>\n      <td>0137b87739a796f65396d8483173f66318039d19a2583f...</td>\n      <td>577992001</td>\n      <td>0.011254</td>\n      <td>2</td>\n      <td>1</td>\n    </tr>\n    <tr>\n      <th>3</th>\n      <td>2018-09-20</td>\n      <td>023807eac529e635ef40b48d61685876c7487d129eb238...</td>\n      <td>524825006</td>\n      <td>0.023712</td>\n      <td>2</td>\n      <td>1</td>\n    </tr>\n    <tr>\n      <th>4</th>\n      <td>2018-09-20</td>\n      <td>023807eac529e635ef40b48d61685876c7487d129eb238...</td>\n      <td>524825006</td>\n      <td>0.023712</td>\n      <td>2</td>\n      <td>1</td>\n    </tr>\n  </tbody>\n</table>\n</div>"
     },
     "execution_count": 56,
     "metadata": {},
     "output_type": "execute_result"
    }
   ],
   "source": [
    "# Then we need to know what every synthetic transaction should contain: a date, a customer_id, an article_id, price, sales_channel_id. We will set ordered = 0, as these transactions didn't really occur.\n",
    "transactions.head()"
   ]
  },
  {
   "cell_type": "code",
   "execution_count": 57,
   "metadata": {},
   "outputs": [],
   "source": [
    "# Extract real values\n",
    "real_dates = transactions[\"t_dat\"].unique()\n",
    "real_customers = transactions[\"customer_id\"].unique()\n",
    "real_articles = transactions[\"article_id\"].unique()\n",
    "real_channels = transactions[\"sales_channel_id\"].unique()\n",
    "article_and_price = transactions[[\"article_id\",\"price\"]].drop_duplicates(\"article_id\").set_index(\"article_id\").squeeze()"
   ]
  },
  {
   "cell_type": "code",
   "execution_count": 58,
   "metadata": {},
   "outputs": [
    {
     "name": "stdout",
     "output_type": "stream",
     "text": [
      "312405\n"
     ]
    }
   ],
   "source": [
    "# How many negatives do we need to sample?\n",
    "num_neg_pos = transactions.shape[0]\n",
    "print(num_neg_pos)"
   ]
  },
  {
   "cell_type": "code",
   "execution_count": 59,
   "metadata": {},
   "outputs": [],
   "source": [
    "# Sampling negatives by selecting random users, articles, dates and sales channel:\n",
    "# Note: This is quite naive. Some articles may not even have been available at the date we are sampling.\n",
    "random.seed(42)\n",
    "\n",
    "# Afterwards, we need to remove potential duplicates, so we'll sample too many.\n",
    "num_neg_samples = int(num_neg_pos * 1.1)\n",
    "\n",
    "# Sample each of the independent attributes.\n",
    "neg_dates = np.random.choice(real_dates, size=num_neg_samples)\n",
    "neg_articles = np.random.choice(real_articles, size=num_neg_samples)\n",
    "neg_customers = np.random.choice(real_customers, size=num_neg_samples)\n",
    "neg_channels = np.random.choice(real_channels, size=num_neg_samples)\n",
    "ordered = np.array([0] * num_neg_samples)\n",
    "# Assign to every article a real price.\n",
    "neg_prices = article_and_price[neg_articles].values"
   ]
  },
  {
   "cell_type": "code",
   "execution_count": 60,
   "metadata": {},
   "outputs": [],
   "source": [
    "neg_transactions = pd.DataFrame([neg_dates, neg_customers, neg_articles, neg_prices, neg_channels, ordered], index=transactions.columns).T"
   ]
  },
  {
   "cell_type": "code",
   "execution_count": 61,
   "metadata": {},
   "outputs": [
    {
     "data": {
      "text/plain": "        t_dat                                        customer_id article_id  \\\n0  2018-10-03  9aac1f83aea5da3cf70762ae96815147688002519a4a0f...  770315020   \n1  2019-02-26  8c331ca8e900be944ec1f71ece181bce3f4667963c7e82...  626887003   \n2  2020-08-02  93a220587363727c45ebe210604908205544412bcb6e73...  878629003   \n3  2019-01-08  62ca22c014275d8b5fe7b5aee291b427303ad7747aa117...  677885019   \n4  2019-08-07  415efde87c0f423ffa59eae284a98dfca4fbf6875dfb9e...  824764012   \n\n      price sales_channel_id ordered  \n0  0.016932                1       0  \n1  0.022017                1       0  \n2  0.016932                2       0  \n3  0.003373                2       0  \n4  0.025407                2       0  ",
      "text/html": "<div>\n<style scoped>\n    .dataframe tbody tr th:only-of-type {\n        vertical-align: middle;\n    }\n\n    .dataframe tbody tr th {\n        vertical-align: top;\n    }\n\n    .dataframe thead th {\n        text-align: right;\n    }\n</style>\n<table border=\"1\" class=\"dataframe\">\n  <thead>\n    <tr style=\"text-align: right;\">\n      <th></th>\n      <th>t_dat</th>\n      <th>customer_id</th>\n      <th>article_id</th>\n      <th>price</th>\n      <th>sales_channel_id</th>\n      <th>ordered</th>\n    </tr>\n  </thead>\n  <tbody>\n    <tr>\n      <th>0</th>\n      <td>2018-10-03</td>\n      <td>9aac1f83aea5da3cf70762ae96815147688002519a4a0f...</td>\n      <td>770315020</td>\n      <td>0.016932</td>\n      <td>1</td>\n      <td>0</td>\n    </tr>\n    <tr>\n      <th>1</th>\n      <td>2019-02-26</td>\n      <td>8c331ca8e900be944ec1f71ece181bce3f4667963c7e82...</td>\n      <td>626887003</td>\n      <td>0.022017</td>\n      <td>1</td>\n      <td>0</td>\n    </tr>\n    <tr>\n      <th>2</th>\n      <td>2020-08-02</td>\n      <td>93a220587363727c45ebe210604908205544412bcb6e73...</td>\n      <td>878629003</td>\n      <td>0.016932</td>\n      <td>2</td>\n      <td>0</td>\n    </tr>\n    <tr>\n      <th>3</th>\n      <td>2019-01-08</td>\n      <td>62ca22c014275d8b5fe7b5aee291b427303ad7747aa117...</td>\n      <td>677885019</td>\n      <td>0.003373</td>\n      <td>2</td>\n      <td>0</td>\n    </tr>\n    <tr>\n      <th>4</th>\n      <td>2019-08-07</td>\n      <td>415efde87c0f423ffa59eae284a98dfca4fbf6875dfb9e...</td>\n      <td>824764012</td>\n      <td>0.025407</td>\n      <td>2</td>\n      <td>0</td>\n    </tr>\n  </tbody>\n</table>\n</div>"
     },
     "execution_count": 61,
     "metadata": {},
     "output_type": "execute_result"
    }
   ],
   "source": [
    "# Result:\n",
    "neg_transactions.head()"
   ]
  },
  {
   "cell_type": "code",
   "execution_count": 62,
   "metadata": {},
   "outputs": [
    {
     "data": {
      "text/plain": "(343645, 6)"
     },
     "execution_count": 62,
     "metadata": {},
     "output_type": "execute_result"
    }
   ],
   "source": [
    "neg_transactions.shape"
   ]
  },
  {
   "cell_type": "code",
   "execution_count": 63,
   "metadata": {},
   "outputs": [],
   "source": [
    "# Remove random negative samples that actually coincide with positives\n",
    "df = neg_transactions[\n",
    "    ~neg_transactions.set_index([\"customer_id\", \"article_id\"]).index.isin(positive_pairs)\n",
    "]\n",
    "\n",
    "# Remove any excess\n",
    "chosen_neg_transactions = df.sample(num_neg_pos)"
   ]
  },
  {
   "cell_type": "code",
   "execution_count": 64,
   "metadata": {},
   "outputs": [],
   "source": [
    "# Concat the negative samples to the positive samples:\n",
    "transactions = pd.concat([transactions, chosen_neg_transactions])\n",
    "transactions = transactions.merge(customers, how=\"inner\", on='customer_id')\n",
    "transactions = transactions.merge(articles, how=\"inner\", on='article_id')"
   ]
  },
  {
   "cell_type": "code",
   "execution_count": 65,
   "metadata": {},
   "outputs": [
    {
     "name": "stdout",
     "output_type": "stream",
     "text": [
      "<class 'pandas.core.frame.DataFrame'>\n",
      "Int64Index: 624810 entries, 0 to 624809\n",
      "Data columns (total 36 columns):\n",
      " #   Column                        Non-Null Count   Dtype  \n",
      "---  ------                        --------------   -----  \n",
      " 0   t_dat                         624810 non-null  object \n",
      " 1   customer_id                   624810 non-null  object \n",
      " 2   article_id                    624810 non-null  object \n",
      " 3   price                         624810 non-null  object \n",
      " 4   sales_channel_id              624810 non-null  object \n",
      " 5   ordered                       624810 non-null  object \n",
      " 6   FN                            241239 non-null  float64\n",
      " 7   Active                        237581 non-null  float64\n",
      " 8   club_member_status            622759 non-null  object \n",
      " 9   fashion_news_frequency        620320 non-null  object \n",
      " 10  age                           619882 non-null  float64\n",
      " 11  postal_code                   624810 non-null  object \n",
      " 12  product_code                  624810 non-null  int64  \n",
      " 13  prod_name                     624810 non-null  object \n",
      " 14  product_type_no               624810 non-null  int64  \n",
      " 15  product_type_name             624810 non-null  object \n",
      " 16  product_group_name            624810 non-null  object \n",
      " 17  graphical_appearance_no       624810 non-null  int64  \n",
      " 18  graphical_appearance_name     624810 non-null  object \n",
      " 19  colour_group_code             624810 non-null  int64  \n",
      " 20  colour_group_name             624810 non-null  object \n",
      " 21  perceived_colour_value_id     624810 non-null  int64  \n",
      " 22  perceived_colour_value_name   624810 non-null  object \n",
      " 23  perceived_colour_master_id    624810 non-null  int64  \n",
      " 24  perceived_colour_master_name  624810 non-null  object \n",
      " 25  department_no                 624810 non-null  int64  \n",
      " 26  department_name               624810 non-null  object \n",
      " 27  index_code                    624810 non-null  object \n",
      " 28  index_name                    624810 non-null  object \n",
      " 29  index_group_no                624810 non-null  int64  \n",
      " 30  index_group_name              624810 non-null  object \n",
      " 31  section_no                    624810 non-null  int64  \n",
      " 32  section_name                  624810 non-null  object \n",
      " 33  garment_group_no              624810 non-null  int64  \n",
      " 34  garment_group_name            624810 non-null  object \n",
      " 35  detail_desc                   622603 non-null  object \n",
      "dtypes: float64(3), int64(10), object(23)\n",
      "memory usage: 176.4+ MB\n"
     ]
    }
   ],
   "source": [
    "transactions.info()"
   ]
  },
  {
   "cell_type": "markdown",
   "metadata": {},
   "source": [
    "### Basic Preprocessing\n",
    "Some very basic preprocessing."
   ]
  },
  {
   "cell_type": "code",
   "execution_count": 66,
   "metadata": {},
   "outputs": [
    {
     "data": {
      "text/plain": "                                         customer_id   age article_id  \\\n0  000058a12d5b43e67d225668fa1f8d618c13dc232df0ca...  24.0  663713001   \n1  000058a12d5b43e67d225668fa1f8d618c13dc232df0ca...  24.0  663713001   \n2  4ef5967ff17bf474bffebe5b16bd54878e1d4105f7b4ed...  37.0  663713001   \n3  b1fc3f8a8b0b3f8ae55539720164c4a41ef82b03ef1e06...  23.0  663713001   \n4  34c2e199bd667e43ad0c1d0910afe85fe8e315e13c5503...  20.0  663713001   \n\n  sales_channel_id     price ordered  section_no  product_type_no  \\\n0                2  0.050831       1          61              283   \n1                2  0.050831       1          61              283   \n2                2  0.050831       1          61              283   \n3                1  0.050831       0          61              283   \n4                1  0.050831       1          61              283   \n\n   garment_group_no  \n0              1017  \n1              1017  \n2              1017  \n3              1017  \n4              1017  ",
      "text/html": "<div>\n<style scoped>\n    .dataframe tbody tr th:only-of-type {\n        vertical-align: middle;\n    }\n\n    .dataframe tbody tr th {\n        vertical-align: top;\n    }\n\n    .dataframe thead th {\n        text-align: right;\n    }\n</style>\n<table border=\"1\" class=\"dataframe\">\n  <thead>\n    <tr style=\"text-align: right;\">\n      <th></th>\n      <th>customer_id</th>\n      <th>age</th>\n      <th>article_id</th>\n      <th>sales_channel_id</th>\n      <th>price</th>\n      <th>ordered</th>\n      <th>section_no</th>\n      <th>product_type_no</th>\n      <th>garment_group_no</th>\n    </tr>\n  </thead>\n  <tbody>\n    <tr>\n      <th>0</th>\n      <td>000058a12d5b43e67d225668fa1f8d618c13dc232df0ca...</td>\n      <td>24.0</td>\n      <td>663713001</td>\n      <td>2</td>\n      <td>0.050831</td>\n      <td>1</td>\n      <td>61</td>\n      <td>283</td>\n      <td>1017</td>\n    </tr>\n    <tr>\n      <th>1</th>\n      <td>000058a12d5b43e67d225668fa1f8d618c13dc232df0ca...</td>\n      <td>24.0</td>\n      <td>663713001</td>\n      <td>2</td>\n      <td>0.050831</td>\n      <td>1</td>\n      <td>61</td>\n      <td>283</td>\n      <td>1017</td>\n    </tr>\n    <tr>\n      <th>2</th>\n      <td>4ef5967ff17bf474bffebe5b16bd54878e1d4105f7b4ed...</td>\n      <td>37.0</td>\n      <td>663713001</td>\n      <td>2</td>\n      <td>0.050831</td>\n      <td>1</td>\n      <td>61</td>\n      <td>283</td>\n      <td>1017</td>\n    </tr>\n    <tr>\n      <th>3</th>\n      <td>b1fc3f8a8b0b3f8ae55539720164c4a41ef82b03ef1e06...</td>\n      <td>23.0</td>\n      <td>663713001</td>\n      <td>1</td>\n      <td>0.050831</td>\n      <td>0</td>\n      <td>61</td>\n      <td>283</td>\n      <td>1017</td>\n    </tr>\n    <tr>\n      <th>4</th>\n      <td>34c2e199bd667e43ad0c1d0910afe85fe8e315e13c5503...</td>\n      <td>20.0</td>\n      <td>663713001</td>\n      <td>1</td>\n      <td>0.050831</td>\n      <td>1</td>\n      <td>61</td>\n      <td>283</td>\n      <td>1017</td>\n    </tr>\n  </tbody>\n</table>\n</div>"
     },
     "execution_count": 66,
     "metadata": {},
     "output_type": "execute_result"
    }
   ],
   "source": [
    "# I'm dropping a lot of columns, use them in your engineering tasks!\n",
    "transactions_processed = transactions[['customer_id', 'age', 'article_id', 'sales_channel_id', 'price', 'ordered', 'section_no', 'product_type_no', 'garment_group_no']].copy()\n",
    "transactions_processed.head()"
   ]
  },
  {
   "cell_type": "code",
   "execution_count": 67,
   "metadata": {},
   "outputs": [],
   "source": [
    "# Does it make sense to label encode?\n",
    "# Label encoding the customer and article IDs:\n",
    "customer_encoder = preprocessing.LabelEncoder()\n",
    "article_encoder = preprocessing.LabelEncoder()\n",
    "section_no_encoder = preprocessing.LabelEncoder()\n",
    "product_type_no_encoder = preprocessing.LabelEncoder()\n",
    "garment_group_no_encoder = preprocessing.LabelEncoder()"
   ]
  },
  {
   "cell_type": "code",
   "execution_count": 68,
   "metadata": {},
   "outputs": [],
   "source": [
    "# Important: comment / uncomment the ones that should be label-encoded\n",
    "transactions_processed['customer_id'] = customer_encoder.fit_transform(transactions_processed['customer_id'])\n",
    "transactions_processed['article_id'] = article_encoder.fit_transform(transactions_processed['article_id'])\n",
    "# transactions_processed['section_no'] = section_no_encoder.fit_transform(transactions_processed['section_no'])\n",
    "# transactions_processed['product_type_no'] = product_type_no_encoder.fit_transform(transactions_processed['product_type_no'])\n",
    "# transactions_processed['garment_group_no'] = garment_group_no_encoder.fit_transform(transactions_processed['garment_group_no'])\n",
    "\n",
    "# Additionally: comment / uncomment the columns that are not going to be used\n",
    "transactions_processed.drop(['section_no'], axis=1, inplace=True)\n",
    "transactions_processed.drop(['product_type_no'], axis=1, inplace=True)\n",
    "# transactions_processed.drop(['garment_group_no'], axis=1, inplace=True)"
   ]
  },
  {
   "cell_type": "code",
   "execution_count": 69,
   "metadata": {},
   "outputs": [
    {
     "data": {
      "text/plain": "array(['0005476832b9770a320d94de5518f78587ed4aa848b2a7c7407f12f251fcd5aa'],\n      dtype=object)"
     },
     "execution_count": 69,
     "metadata": {},
     "output_type": "execute_result"
    }
   ],
   "source": [
    "# If you want to go back to the original encoding:\n",
    "customer_encoder.inverse_transform([2])"
   ]
  },
  {
   "cell_type": "code",
   "execution_count": 70,
   "metadata": {},
   "outputs": [
    {
     "data": {
      "text/plain": "   customer_id   age  article_id sales_channel_id     price ordered  \\\n0            0  24.0       16192                2  0.050831       1   \n1            0  24.0       16192                2  0.050831       1   \n2         4175  37.0       16192                2  0.050831       1   \n3         9409  23.0       16192                1  0.050831       0   \n4         2784  20.0       16192                1  0.050831       1   \n\n   garment_group_no  \n0              1017  \n1              1017  \n2              1017  \n3              1017  \n4              1017  ",
      "text/html": "<div>\n<style scoped>\n    .dataframe tbody tr th:only-of-type {\n        vertical-align: middle;\n    }\n\n    .dataframe tbody tr th {\n        vertical-align: top;\n    }\n\n    .dataframe thead th {\n        text-align: right;\n    }\n</style>\n<table border=\"1\" class=\"dataframe\">\n  <thead>\n    <tr style=\"text-align: right;\">\n      <th></th>\n      <th>customer_id</th>\n      <th>age</th>\n      <th>article_id</th>\n      <th>sales_channel_id</th>\n      <th>price</th>\n      <th>ordered</th>\n      <th>garment_group_no</th>\n    </tr>\n  </thead>\n  <tbody>\n    <tr>\n      <th>0</th>\n      <td>0</td>\n      <td>24.0</td>\n      <td>16192</td>\n      <td>2</td>\n      <td>0.050831</td>\n      <td>1</td>\n      <td>1017</td>\n    </tr>\n    <tr>\n      <th>1</th>\n      <td>0</td>\n      <td>24.0</td>\n      <td>16192</td>\n      <td>2</td>\n      <td>0.050831</td>\n      <td>1</td>\n      <td>1017</td>\n    </tr>\n    <tr>\n      <th>2</th>\n      <td>4175</td>\n      <td>37.0</td>\n      <td>16192</td>\n      <td>2</td>\n      <td>0.050831</td>\n      <td>1</td>\n      <td>1017</td>\n    </tr>\n    <tr>\n      <th>3</th>\n      <td>9409</td>\n      <td>23.0</td>\n      <td>16192</td>\n      <td>1</td>\n      <td>0.050831</td>\n      <td>0</td>\n      <td>1017</td>\n    </tr>\n    <tr>\n      <th>4</th>\n      <td>2784</td>\n      <td>20.0</td>\n      <td>16192</td>\n      <td>1</td>\n      <td>0.050831</td>\n      <td>1</td>\n      <td>1017</td>\n    </tr>\n  </tbody>\n</table>\n</div>"
     },
     "execution_count": 70,
     "metadata": {},
     "output_type": "execute_result"
    }
   ],
   "source": [
    "transactions_processed.head()"
   ]
  },
  {
   "cell_type": "code",
   "execution_count": 71,
   "metadata": {},
   "outputs": [
    {
     "data": {
      "text/plain": "False"
     },
     "execution_count": 71,
     "metadata": {},
     "output_type": "execute_result"
    }
   ],
   "source": [
    "# Can you come up with a NaN strategy that makes sense for each column in the dataset?\n",
    "# Imputing all NaN values with zeros:\n",
    "transactions_processed = transactions_processed.fillna(0)\n",
    "transactions_processed.isnull().values.any()"
   ]
  },
  {
   "cell_type": "code",
   "execution_count": 72,
   "metadata": {},
   "outputs": [],
   "source": [
    "# Does it make sense to one-hot encode?\n",
    "# One-hot-encoding sales_channel_id:\n",
    "# Important: comment / uncomment the ones that should be one-hot encoded\n",
    "transactions_processed = pd.get_dummies(transactions_processed, columns=['sales_channel_id'])\n",
    "# transactions_processed = pd.get_dummies(transactions_processed, columns=['section_no'])\n",
    "# transactions_processed = pd.get_dummies(transactions_processed, columns=['product_type_no'])\n",
    "transactions_processed = pd.get_dummies(transactions_processed, columns=['garment_group_no'])"
   ]
  },
  {
   "cell_type": "code",
   "execution_count": 73,
   "metadata": {},
   "outputs": [
    {
     "data": {
      "text/plain": "   customer_id   age  article_id     price  ordered  sales_channel_id_1  \\\n0            0  24.0       16192  0.050831        1                   0   \n1            0  24.0       16192  0.050831        1                   0   \n2         4175  37.0       16192  0.050831        1                   0   \n3         9409  23.0       16192  0.050831        0                   1   \n4         2784  20.0       16192  0.050831        1                   1   \n\n   sales_channel_id_2  garment_group_no_1001  garment_group_no_1002  \\\n0                   1                      0                      0   \n1                   1                      0                      0   \n2                   1                      0                      0   \n3                   0                      0                      0   \n4                   0                      0                      0   \n\n   garment_group_no_1003  ...  garment_group_no_1013  garment_group_no_1014  \\\n0                      0  ...                      0                      0   \n1                      0  ...                      0                      0   \n2                      0  ...                      0                      0   \n3                      0  ...                      0                      0   \n4                      0  ...                      0                      0   \n\n   garment_group_no_1016  garment_group_no_1017  garment_group_no_1018  \\\n0                      0                      1                      0   \n1                      0                      1                      0   \n2                      0                      1                      0   \n3                      0                      1                      0   \n4                      0                      1                      0   \n\n   garment_group_no_1019  garment_group_no_1020  garment_group_no_1021  \\\n0                      0                      0                      0   \n1                      0                      0                      0   \n2                      0                      0                      0   \n3                      0                      0                      0   \n4                      0                      0                      0   \n\n   garment_group_no_1023  garment_group_no_1025  \n0                      0                      0  \n1                      0                      0  \n2                      0                      0  \n3                      0                      0  \n4                      0                      0  \n\n[5 rows x 28 columns]",
      "text/html": "<div>\n<style scoped>\n    .dataframe tbody tr th:only-of-type {\n        vertical-align: middle;\n    }\n\n    .dataframe tbody tr th {\n        vertical-align: top;\n    }\n\n    .dataframe thead th {\n        text-align: right;\n    }\n</style>\n<table border=\"1\" class=\"dataframe\">\n  <thead>\n    <tr style=\"text-align: right;\">\n      <th></th>\n      <th>customer_id</th>\n      <th>age</th>\n      <th>article_id</th>\n      <th>price</th>\n      <th>ordered</th>\n      <th>sales_channel_id_1</th>\n      <th>sales_channel_id_2</th>\n      <th>garment_group_no_1001</th>\n      <th>garment_group_no_1002</th>\n      <th>garment_group_no_1003</th>\n      <th>...</th>\n      <th>garment_group_no_1013</th>\n      <th>garment_group_no_1014</th>\n      <th>garment_group_no_1016</th>\n      <th>garment_group_no_1017</th>\n      <th>garment_group_no_1018</th>\n      <th>garment_group_no_1019</th>\n      <th>garment_group_no_1020</th>\n      <th>garment_group_no_1021</th>\n      <th>garment_group_no_1023</th>\n      <th>garment_group_no_1025</th>\n    </tr>\n  </thead>\n  <tbody>\n    <tr>\n      <th>0</th>\n      <td>0</td>\n      <td>24.0</td>\n      <td>16192</td>\n      <td>0.050831</td>\n      <td>1</td>\n      <td>0</td>\n      <td>1</td>\n      <td>0</td>\n      <td>0</td>\n      <td>0</td>\n      <td>...</td>\n      <td>0</td>\n      <td>0</td>\n      <td>0</td>\n      <td>1</td>\n      <td>0</td>\n      <td>0</td>\n      <td>0</td>\n      <td>0</td>\n      <td>0</td>\n      <td>0</td>\n    </tr>\n    <tr>\n      <th>1</th>\n      <td>0</td>\n      <td>24.0</td>\n      <td>16192</td>\n      <td>0.050831</td>\n      <td>1</td>\n      <td>0</td>\n      <td>1</td>\n      <td>0</td>\n      <td>0</td>\n      <td>0</td>\n      <td>...</td>\n      <td>0</td>\n      <td>0</td>\n      <td>0</td>\n      <td>1</td>\n      <td>0</td>\n      <td>0</td>\n      <td>0</td>\n      <td>0</td>\n      <td>0</td>\n      <td>0</td>\n    </tr>\n    <tr>\n      <th>2</th>\n      <td>4175</td>\n      <td>37.0</td>\n      <td>16192</td>\n      <td>0.050831</td>\n      <td>1</td>\n      <td>0</td>\n      <td>1</td>\n      <td>0</td>\n      <td>0</td>\n      <td>0</td>\n      <td>...</td>\n      <td>0</td>\n      <td>0</td>\n      <td>0</td>\n      <td>1</td>\n      <td>0</td>\n      <td>0</td>\n      <td>0</td>\n      <td>0</td>\n      <td>0</td>\n      <td>0</td>\n    </tr>\n    <tr>\n      <th>3</th>\n      <td>9409</td>\n      <td>23.0</td>\n      <td>16192</td>\n      <td>0.050831</td>\n      <td>0</td>\n      <td>1</td>\n      <td>0</td>\n      <td>0</td>\n      <td>0</td>\n      <td>0</td>\n      <td>...</td>\n      <td>0</td>\n      <td>0</td>\n      <td>0</td>\n      <td>1</td>\n      <td>0</td>\n      <td>0</td>\n      <td>0</td>\n      <td>0</td>\n      <td>0</td>\n      <td>0</td>\n    </tr>\n    <tr>\n      <th>4</th>\n      <td>2784</td>\n      <td>20.0</td>\n      <td>16192</td>\n      <td>0.050831</td>\n      <td>1</td>\n      <td>1</td>\n      <td>0</td>\n      <td>0</td>\n      <td>0</td>\n      <td>0</td>\n      <td>...</td>\n      <td>0</td>\n      <td>0</td>\n      <td>0</td>\n      <td>1</td>\n      <td>0</td>\n      <td>0</td>\n      <td>0</td>\n      <td>0</td>\n      <td>0</td>\n      <td>0</td>\n    </tr>\n  </tbody>\n</table>\n<p>5 rows × 28 columns</p>\n</div>"
     },
     "execution_count": 73,
     "metadata": {},
     "output_type": "execute_result"
    }
   ],
   "source": [
    "transactions_processed.head()"
   ]
  },
  {
   "cell_type": "code",
   "execution_count": 74,
   "metadata": {},
   "outputs": [],
   "source": [
    "# Creating a Train / Test Split:\n",
    "X_train, X_test, y_train, y_test = train_test_split(transactions_processed.drop('ordered', axis=1), transactions_processed['ordered'], test_size=0.10, random_state=42)"
   ]
  },
  {
   "cell_type": "code",
   "execution_count": 75,
   "metadata": {},
   "outputs": [
    {
     "data": {
      "text/plain": "        customer_id   age  article_id     price  sales_channel_id_1  \\\n529657        12352  23.0       20523  0.025407                   1   \n530797         2215  23.0       28470  0.016932                   0   \n274095         5024  64.0       12250  0.024525                   0   \n96800          8411  49.0        6617  0.033881                   0   \n81298         13149  43.0       33678  0.030492                   0   \n\n        sales_channel_id_2  garment_group_no_1001  garment_group_no_1002  \\\n529657                   0                      0                      0   \n530797                   1                      0                      0   \n274095                   1                      0                      0   \n96800                    1                      0                      0   \n81298                    1                      0                      0   \n\n        garment_group_no_1003  garment_group_no_1005  ...  \\\n529657                      0                      0  ...   \n530797                      0                      0  ...   \n274095                      0                      1  ...   \n96800                       0                      0  ...   \n81298                       1                      0  ...   \n\n        garment_group_no_1013  garment_group_no_1014  garment_group_no_1016  \\\n529657                      0                      0                      0   \n530797                      0                      0                      0   \n274095                      0                      0                      0   \n96800                       0                      0                      0   \n81298                       0                      0                      0   \n\n        garment_group_no_1017  garment_group_no_1018  garment_group_no_1019  \\\n529657                      0                      0                      0   \n530797                      1                      0                      0   \n274095                      0                      0                      0   \n96800                       0                      0                      0   \n81298                       0                      0                      0   \n\n        garment_group_no_1020  garment_group_no_1021  garment_group_no_1023  \\\n529657                      0                      0                      0   \n530797                      0                      0                      0   \n274095                      0                      0                      0   \n96800                       0                      0                      0   \n81298                       0                      0                      0   \n\n        garment_group_no_1025  \n529657                      0  \n530797                      0  \n274095                      0  \n96800                       0  \n81298                       0  \n\n[5 rows x 27 columns]",
      "text/html": "<div>\n<style scoped>\n    .dataframe tbody tr th:only-of-type {\n        vertical-align: middle;\n    }\n\n    .dataframe tbody tr th {\n        vertical-align: top;\n    }\n\n    .dataframe thead th {\n        text-align: right;\n    }\n</style>\n<table border=\"1\" class=\"dataframe\">\n  <thead>\n    <tr style=\"text-align: right;\">\n      <th></th>\n      <th>customer_id</th>\n      <th>age</th>\n      <th>article_id</th>\n      <th>price</th>\n      <th>sales_channel_id_1</th>\n      <th>sales_channel_id_2</th>\n      <th>garment_group_no_1001</th>\n      <th>garment_group_no_1002</th>\n      <th>garment_group_no_1003</th>\n      <th>garment_group_no_1005</th>\n      <th>...</th>\n      <th>garment_group_no_1013</th>\n      <th>garment_group_no_1014</th>\n      <th>garment_group_no_1016</th>\n      <th>garment_group_no_1017</th>\n      <th>garment_group_no_1018</th>\n      <th>garment_group_no_1019</th>\n      <th>garment_group_no_1020</th>\n      <th>garment_group_no_1021</th>\n      <th>garment_group_no_1023</th>\n      <th>garment_group_no_1025</th>\n    </tr>\n  </thead>\n  <tbody>\n    <tr>\n      <th>529657</th>\n      <td>12352</td>\n      <td>23.0</td>\n      <td>20523</td>\n      <td>0.025407</td>\n      <td>1</td>\n      <td>0</td>\n      <td>0</td>\n      <td>0</td>\n      <td>0</td>\n      <td>0</td>\n      <td>...</td>\n      <td>0</td>\n      <td>0</td>\n      <td>0</td>\n      <td>0</td>\n      <td>0</td>\n      <td>0</td>\n      <td>0</td>\n      <td>0</td>\n      <td>0</td>\n      <td>0</td>\n    </tr>\n    <tr>\n      <th>530797</th>\n      <td>2215</td>\n      <td>23.0</td>\n      <td>28470</td>\n      <td>0.016932</td>\n      <td>0</td>\n      <td>1</td>\n      <td>0</td>\n      <td>0</td>\n      <td>0</td>\n      <td>0</td>\n      <td>...</td>\n      <td>0</td>\n      <td>0</td>\n      <td>0</td>\n      <td>1</td>\n      <td>0</td>\n      <td>0</td>\n      <td>0</td>\n      <td>0</td>\n      <td>0</td>\n      <td>0</td>\n    </tr>\n    <tr>\n      <th>274095</th>\n      <td>5024</td>\n      <td>64.0</td>\n      <td>12250</td>\n      <td>0.024525</td>\n      <td>0</td>\n      <td>1</td>\n      <td>0</td>\n      <td>0</td>\n      <td>0</td>\n      <td>1</td>\n      <td>...</td>\n      <td>0</td>\n      <td>0</td>\n      <td>0</td>\n      <td>0</td>\n      <td>0</td>\n      <td>0</td>\n      <td>0</td>\n      <td>0</td>\n      <td>0</td>\n      <td>0</td>\n    </tr>\n    <tr>\n      <th>96800</th>\n      <td>8411</td>\n      <td>49.0</td>\n      <td>6617</td>\n      <td>0.033881</td>\n      <td>0</td>\n      <td>1</td>\n      <td>0</td>\n      <td>0</td>\n      <td>0</td>\n      <td>0</td>\n      <td>...</td>\n      <td>0</td>\n      <td>0</td>\n      <td>0</td>\n      <td>0</td>\n      <td>0</td>\n      <td>0</td>\n      <td>0</td>\n      <td>0</td>\n      <td>0</td>\n      <td>0</td>\n    </tr>\n    <tr>\n      <th>81298</th>\n      <td>13149</td>\n      <td>43.0</td>\n      <td>33678</td>\n      <td>0.030492</td>\n      <td>0</td>\n      <td>1</td>\n      <td>0</td>\n      <td>0</td>\n      <td>1</td>\n      <td>0</td>\n      <td>...</td>\n      <td>0</td>\n      <td>0</td>\n      <td>0</td>\n      <td>0</td>\n      <td>0</td>\n      <td>0</td>\n      <td>0</td>\n      <td>0</td>\n      <td>0</td>\n      <td>0</td>\n    </tr>\n  </tbody>\n</table>\n<p>5 rows × 27 columns</p>\n</div>"
     },
     "execution_count": 75,
     "metadata": {},
     "output_type": "execute_result"
    }
   ],
   "source": [
    "X_train.head()"
   ]
  },
  {
   "cell_type": "code",
   "execution_count": 76,
   "metadata": {},
   "outputs": [
    {
     "data": {
      "text/plain": "529657    1\n530797    1\n274095    0\n96800     1\n81298     1\nName: ordered, dtype: int64"
     },
     "execution_count": 76,
     "metadata": {},
     "output_type": "execute_result"
    }
   ],
   "source": [
    "y_train.head()"
   ]
  },
  {
   "cell_type": "markdown",
   "metadata": {},
   "source": [
    "## Baseline Model"
   ]
  },
  {
   "cell_type": "code",
   "execution_count": 77,
   "metadata": {},
   "outputs": [],
   "source": [
    "# Will take a few minutes to run, if you're using the whole dataset:\n",
    "baseline = LogisticRegression(random_state=42)\n",
    "baseline = baseline.fit(X_train, y_train)"
   ]
  },
  {
   "cell_type": "code",
   "execution_count": 78,
   "metadata": {},
   "outputs": [
    {
     "data": {
      "text/plain": "array([[0.44265649, 0.55734351],\n       [0.42770108, 0.57229892],\n       [0.38102396, 0.61897604],\n       ...,\n       [0.40224831, 0.59775169],\n       [0.42779364, 0.57220636],\n       [0.39887692, 0.60112308]])"
     },
     "execution_count": 78,
     "metadata": {},
     "output_type": "execute_result"
    }
   ],
   "source": [
    "baseline.predict_proba(X_test)"
   ]
  },
  {
   "cell_type": "code",
   "execution_count": 79,
   "metadata": {
    "scrolled": true
   },
   "outputs": [
    {
     "data": {
      "text/plain": "94036     1\n584831    0\n602078    0\n275287    1\n602429    0\n         ..\n276099    0\n168323    1\n534506    1\n577216    0\n43626     1\nName: ordered, Length: 62481, dtype: int64"
     },
     "execution_count": 79,
     "metadata": {},
     "output_type": "execute_result"
    }
   ],
   "source": [
    "y_test"
   ]
  },
  {
   "cell_type": "code",
   "execution_count": 80,
   "metadata": {},
   "outputs": [
    {
     "data": {
      "text/plain": "0.5982138570125318"
     },
     "execution_count": 80,
     "metadata": {},
     "output_type": "execute_result"
    }
   ],
   "source": [
    "# Mean Accuracy:\n",
    "baseline.score(X_test, y_test)\n",
    "# As you can seen, the accuracy is ~0.51. In other words, the classifier predicts correctly 51% of the time whether a customer did or din't buy an item.\n",
    "# Can you improve this baseline logistic regression model by doing better preprocessing and generating new features?\n",
    "# Also think about my steps! Did it make sense to include the article and customer ids? (And things like that)"
   ]
  },
  {
   "cell_type": "code",
   "execution_count": 81,
   "metadata": {},
   "outputs": [
    {
     "name": "stdout",
     "output_type": "stream",
     "text": [
      "              precision    recall  f1-score   support\n",
      "\n",
      "           0       0.62      0.50      0.55     31139\n",
      "           1       0.58      0.70      0.64     31342\n",
      "\n",
      "    accuracy                           0.60     62481\n",
      "   macro avg       0.60      0.60      0.59     62481\n",
      "weighted avg       0.60      0.60      0.59     62481\n",
      "\n"
     ]
    }
   ],
   "source": [
    "# Classification Metrics:\n",
    "predictions = baseline.predict(X_test)\n",
    "print(classification_report(y_test, predictions))"
   ]
  },
  {
   "cell_type": "code",
   "execution_count": 82,
   "metadata": {},
   "outputs": [
    {
     "data": {
      "text/plain": "array([1, 1, 1, ..., 1, 1, 1])"
     },
     "execution_count": 82,
     "metadata": {},
     "output_type": "execute_result"
    }
   ],
   "source": [
    "predictions"
   ]
  },
  {
   "cell_type": "markdown",
   "metadata": {
    "pycharm": {
     "name": "#%% md\n"
    }
   },
   "source": [
    "## Assignment: Feature engineering\n",
    "**TODO:** \n",
    "- In groups (of 2-3 students), think about (a few) features that can be engineered (preprocess and generate new features). Divide the work!\n",
    "- Do these engineered features improve the baseline model?\n",
    "- Add your thoughts & results to a slide deck for discussion next week (again, 1 slide per person).\n"
   ]
  }
 ],
 "metadata": {
  "kernelspec": {
   "display_name": "Python 3 (ipykernel)",
   "language": "python",
   "name": "python3"
  },
  "language_info": {
   "codemirror_mode": {
    "name": "ipython",
    "version": 3
   },
   "file_extension": ".py",
   "mimetype": "text/x-python",
   "name": "python",
   "nbconvert_exporter": "python",
   "pygments_lexer": "ipython3",
   "version": "3.9.6"
  },
  "vscode": {
   "interpreter": {
    "hash": "aee8b7b246df8f9039afb4144a1f6fd8d2ca17a180786b69acc140d282b71a49"
   }
  }
 },
 "nbformat": 4,
 "nbformat_minor": 1
}