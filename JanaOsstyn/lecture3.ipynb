{
 "cells": [
  {
   "cell_type": "markdown",
   "metadata": {
    "collapsed": true,
    "pycharm": {
     "name": "#%% md\n"
    }
   },
   "source": [
    "# Exploratory Data Analysis (EDA)"
   ]
  },
  {
   "cell_type": "code",
   "execution_count": 1,
   "outputs": [],
   "source": [
    "import numpy as np\n",
    "import pandas as pd\n",
    "import random\n",
    "from sklearn.linear_model import LogisticRegression\n",
    "from sklearn.model_selection import train_test_split\n",
    "from sklearn.metrics import classification_report\n",
    "from sklearn import preprocessing"
   ],
   "metadata": {
    "collapsed": false,
    "pycharm": {
     "name": "#%%\n"
    }
   }
  },
  {
   "cell_type": "code",
   "execution_count": 2,
   "outputs": [],
   "source": [
    "articles = pd.read_csv('../data/articles.csv')\n",
    "customers = pd.read_csv('../data/customers.csv')\n",
    "sample_submisison = pd.read_csv('../data/sample_submission.csv')\n",
    "transactions = pd.read_csv('../data/transactions_train.csv')"
   ],
   "metadata": {
    "collapsed": false,
    "pycharm": {
     "name": "#%%\n"
    }
   }
  },
  {
   "cell_type": "markdown",
   "source": [
    "## Articles\n",
    "Start with EDA on article.csv"
   ],
   "metadata": {
    "collapsed": false,
    "pycharm": {
     "name": "#%% md\n"
    }
   }
  },
  {
   "cell_type": "code",
   "execution_count": 7,
   "outputs": [
    {
     "name": "stdout",
     "output_type": "stream",
     "text": [
      "<class 'pandas.core.frame.DataFrame'>\n",
      "RangeIndex: 105542 entries, 0 to 105541\n",
      "Data columns (total 25 columns):\n",
      " #   Column                        Non-Null Count   Dtype \n",
      "---  ------                        --------------   ----- \n",
      " 0   article_id                    105542 non-null  int64 \n",
      " 1   product_code                  105542 non-null  int64 \n",
      " 2   prod_name                     105542 non-null  object\n",
      " 3   product_type_no               105542 non-null  int64 \n",
      " 4   product_type_name             105542 non-null  object\n",
      " 5   product_group_name            105542 non-null  object\n",
      " 6   graphical_appearance_no       105542 non-null  int64 \n",
      " 7   graphical_appearance_name     105542 non-null  object\n",
      " 8   colour_group_code             105542 non-null  int64 \n",
      " 9   colour_group_name             105542 non-null  object\n",
      " 10  perceived_colour_value_id     105542 non-null  int64 \n",
      " 11  perceived_colour_value_name   105542 non-null  object\n",
      " 12  perceived_colour_master_id    105542 non-null  int64 \n",
      " 13  perceived_colour_master_name  105542 non-null  object\n",
      " 14  department_no                 105542 non-null  int64 \n",
      " 15  department_name               105542 non-null  object\n",
      " 16  index_code                    105542 non-null  object\n",
      " 17  index_name                    105542 non-null  object\n",
      " 18  index_group_no                105542 non-null  int64 \n",
      " 19  index_group_name              105542 non-null  object\n",
      " 20  section_no                    105542 non-null  int64 \n",
      " 21  section_name                  105542 non-null  object\n",
      " 22  garment_group_no              105542 non-null  int64 \n",
      " 23  garment_group_name            105542 non-null  object\n",
      " 24  detail_desc                   105126 non-null  object\n",
      "dtypes: int64(11), object(14)\n",
      "memory usage: 20.1+ MB\n"
     ]
    }
   ],
   "source": [
    "# visualize\n",
    "articles.info()"
   ],
   "metadata": {
    "collapsed": false,
    "pycharm": {
     "name": "#%%\n"
    }
   }
  },
  {
   "cell_type": "markdown",
   "source": [
    "### Missing values"
   ],
   "metadata": {
    "collapsed": false,
    "pycharm": {
     "name": "#%% md\n"
    }
   }
  },
  {
   "cell_type": "code",
   "execution_count": 3,
   "outputs": [
    {
     "name": "stdout",
     "output_type": "stream",
     "text": [
      "Total articles: 105542\n",
      "0.0% have no article_id\n",
      "0.0% have no product_code\n",
      "0.0% have no prod_name\n",
      "0.0% have no product_type_no\n",
      "0.0% have no product_type_name\n",
      "0.0% have no product_group_name\n",
      "0.0% have no graphical_appearance_no\n",
      "0.0% have no graphical_appearance_name\n",
      "0.0% have no colour_group_code\n",
      "0.0% have no colour_group_name\n",
      "0.0% have no perceived_colour_value_id\n",
      "0.0% have no perceived_colour_value_name\n",
      "0.0% have no perceived_colour_master_id\n",
      "0.0% have no perceived_colour_master_name\n",
      "0.0% have no department_no\n",
      "0.0% have no department_name\n",
      "0.0% have no index_code\n",
      "0.0% have no index_name\n",
      "0.0% have no index_group_no\n",
      "0.0% have no index_group_name\n",
      "0.0% have no section_no\n",
      "0.0% have no section_name\n",
      "0.0% have no garment_group_no\n",
      "0.0% have no garment_group_name\n",
      "0.3941558810710428% have no detail_desc\n"
     ]
    }
   ],
   "source": [
    "total_articles = articles.shape[0]\n",
    "print('Total articles:', total_articles)\n",
    "for column in articles.columns.to_list():\n",
    "    print(f'{(articles[column].isna().sum() / total_articles) * 100}% have no {column}')\n",
    "# conclusion: no missing values except in te detail_desc column: 0.004% of all values are missing\n",
    "# --> Negotiable"
   ],
   "metadata": {
    "collapsed": false,
    "pycharm": {
     "name": "#%%\n"
    }
   }
  },
  {
   "cell_type": "markdown",
   "source": [
    "### Intuitive sense\n",
    "For article: only for name attributes"
   ],
   "metadata": {
    "collapsed": false,
    "pycharm": {
     "name": "#%% md\n"
    }
   }
  },
  {
   "cell_type": "code",
   "execution_count": 50,
   "outputs": [],
   "source": [
    "def count_unknown_undefined(col):\n",
    "    unknown_undefined = ['unknown', 'Unknown', 'undefined', 'Undefined']\n",
    "    result = []\n",
    "    for value in unknown_undefined:\n",
    "        if value in articles[col].value_counts().index:\n",
    "            result.append(str(articles[col].value_counts()[value]))\n",
    "        else:\n",
    "            result.append(str(0))\n",
    "    result = [\": \".join(value) for value in zip(unknown_undefined, result)]\n",
    "    return \", \".join(result)"
   ],
   "metadata": {
    "collapsed": false,
    "pycharm": {
     "name": "#%%\n"
    }
   }
  },
  {
   "cell_type": "code",
   "execution_count": 18,
   "outputs": [
    {
     "data": {
      "text/plain": "count              105542\nunique              45875\ntop       Dragonfly dress\nfreq                   98\nName: prod_name, dtype: object"
     },
     "execution_count": 18,
     "metadata": {},
     "output_type": "execute_result"
    }
   ],
   "source": [
    "articles['prod_name'].describe()"
   ],
   "metadata": {
    "collapsed": false,
    "pycharm": {
     "name": "#%%\n"
    }
   }
  },
  {
   "cell_type": "code",
   "execution_count": 16,
   "outputs": [
    {
     "data": {
      "text/plain": "array(['Strap top', 'Strap top (1)', 'OP T-shirt (Idro)', ...,\n       'Cartwheel dress', 'CLAIRE HAIR CLAW', 'Lounge dress'],\n      dtype=object)"
     },
     "execution_count": 16,
     "metadata": {},
     "output_type": "execute_result"
    }
   ],
   "source": [
    "articles['prod_name'].unique()"
   ],
   "metadata": {
    "collapsed": false,
    "pycharm": {
     "name": "#%%\n"
    }
   }
  },
  {
   "cell_type": "code",
   "execution_count": 37,
   "outputs": [
    {
     "name": "stdout",
     "output_type": "stream",
     "text": [
      "unknown: 0, Unknown: 0, undefined: 0, Undefined: 0\n"
     ]
    }
   ],
   "source": [
    "print(count_unknown_undefined(col=\"prod_name\"))"
   ],
   "metadata": {
    "collapsed": false,
    "pycharm": {
     "name": "#%%\n"
    }
   }
  },
  {
   "cell_type": "code",
   "execution_count": 19,
   "outputs": [
    {
     "data": {
      "text/plain": "count       105542\nunique         131\ntop       Trousers\nfreq         11169\nName: product_type_name, dtype: object"
     },
     "execution_count": 19,
     "metadata": {},
     "output_type": "execute_result"
    }
   ],
   "source": [
    "articles['product_type_name'].describe()"
   ],
   "metadata": {
    "collapsed": false,
    "pycharm": {
     "name": "#%%\n"
    }
   }
  },
  {
   "cell_type": "code",
   "execution_count": 15,
   "outputs": [
    {
     "data": {
      "text/plain": "array(['Vest top', 'Bra', 'Underwear Tights', 'Socks', 'Leggings/Tights',\n       'Sweater', 'Top', 'Trousers', 'Hair clip', 'Umbrella',\n       'Pyjama jumpsuit/playsuit', 'Bodysuit', 'Hair string', 'Unknown',\n       'Hoodie', 'Sleep Bag', 'Hair/alice band', 'Belt', 'Boots',\n       'Bikini top', 'Swimwear bottom', 'Underwear bottom', 'Swimsuit',\n       'Skirt', 'T-shirt', 'Dress', 'Hat/beanie', 'Kids Underwear top',\n       'Shorts', 'Shirt', 'Cap/peaked', 'Pyjama set', 'Sneakers',\n       'Sunglasses', 'Cardigan', 'Gloves', 'Earring', 'Bag', 'Blazer',\n       'Other shoe', 'Jumpsuit/Playsuit', 'Sandals', 'Jacket', 'Costumes',\n       'Robe', 'Scarf', 'Coat', 'Other accessories', 'Polo shirt',\n       'Slippers', 'Night gown', 'Alice band', 'Straw hat', 'Hat/brim',\n       'Tailored Waistcoat', 'Necklace', 'Ballerinas', 'Tie',\n       'Pyjama bottom', 'Felt hat', 'Bracelet', 'Blouse',\n       'Outdoor overall', 'Watch', 'Underwear body', 'Beanie', 'Giftbox',\n       'Sleeping sack', 'Dungarees', 'Outdoor trousers', 'Wallet',\n       'Swimwear set', 'Swimwear top', 'Flat shoe', 'Garment Set', 'Ring',\n       'Waterbottle', 'Wedge', 'Long John', 'Outdoor Waistcoat', 'Pumps',\n       'Flip flop', 'Braces', 'Bootie', 'Fine cosmetics',\n       'Heeled sandals', 'Nipple covers', 'Chem. cosmetics', 'Soft Toys',\n       'Hair ties', 'Underwear corset', 'Bra extender', 'Underdress',\n       'Underwear set', 'Sarong', 'Leg warmers', 'Blanket', 'Hairband',\n       'Tote bag', 'Weekend/Gym bag', 'Cushion', 'Backpack', 'Earrings',\n       'Bucket hat', 'Flat shoes', 'Heels', 'Cap', 'Shoulder bag',\n       'Side table', 'Accessories set', 'Headband', 'Baby Bib',\n       'Keychain', 'Dog Wear', 'Washing bag', 'Sewing kit',\n       'Cross-body bag', 'Moccasins', 'Towel', 'Wood balls',\n       'Zipper head', 'Mobile case', 'Pre-walkers', 'Toy', 'Marker pen',\n       'Bumbag', 'Dog wear', 'Eyeglasses', 'Wireless earphone case',\n       'Stain remover spray', 'Clothing mist'], dtype=object)"
     },
     "execution_count": 15,
     "metadata": {},
     "output_type": "execute_result"
    }
   ],
   "source": [
    "articles['product_type_name'].unique()\n",
    "# TODO: compare with garment_name, section_name, garment_group_name"
   ],
   "metadata": {
    "collapsed": false,
    "pycharm": {
     "name": "#%%\n"
    }
   }
  },
  {
   "cell_type": "code",
   "execution_count": 38,
   "outputs": [
    {
     "name": "stdout",
     "output_type": "stream",
     "text": [
      "unknown: 0, Unknown: 121, undefined: 0, Undefined: 0\n"
     ]
    }
   ],
   "source": [
    "print(count_unknown_undefined(col=\"product_type_name\"))"
   ],
   "metadata": {
    "collapsed": false,
    "pycharm": {
     "name": "#%%\n"
    }
   }
  },
  {
   "cell_type": "code",
   "execution_count": 21,
   "outputs": [
    {
     "data": {
      "text/plain": "count                 105542\nunique                    19\ntop       Garment Upper body\nfreq                   42741\nName: product_group_name, dtype: object"
     },
     "execution_count": 21,
     "metadata": {},
     "output_type": "execute_result"
    }
   ],
   "source": [
    "articles['product_group_name'].describe()"
   ],
   "metadata": {
    "collapsed": false,
    "pycharm": {
     "name": "#%%\n"
    }
   }
  },
  {
   "cell_type": "code",
   "execution_count": 14,
   "outputs": [
    {
     "data": {
      "text/plain": "array(['Garment Upper body', 'Underwear', 'Socks & Tights',\n       'Garment Lower body', 'Accessories', 'Items', 'Nightwear',\n       'Unknown', 'Underwear/nightwear', 'Shoes', 'Swimwear',\n       'Garment Full body', 'Cosmetic', 'Interior textile', 'Bags',\n       'Furniture', 'Garment and Shoe care', 'Fun', 'Stationery'],\n      dtype=object)"
     },
     "execution_count": 14,
     "metadata": {},
     "output_type": "execute_result"
    }
   ],
   "source": [
    "articles['product_group_name'].unique()\n",
    "# compare to section number?"
   ],
   "metadata": {
    "collapsed": false,
    "pycharm": {
     "name": "#%%\n"
    }
   }
  },
  {
   "cell_type": "code",
   "execution_count": 39,
   "outputs": [
    {
     "name": "stdout",
     "output_type": "stream",
     "text": [
      "unknown: 0, Unknown: 121, undefined: 0, Undefined: 0\n"
     ]
    }
   ],
   "source": [
    "print(count_unknown_undefined(col=\"product_group_name\"))"
   ],
   "metadata": {
    "collapsed": false,
    "pycharm": {
     "name": "#%%\n"
    }
   }
  },
  {
   "cell_type": "code",
   "execution_count": 22,
   "outputs": [
    {
     "data": {
      "text/plain": "count     105542\nunique        30\ntop        Solid\nfreq       49747\nName: graphical_appearance_name, dtype: object"
     },
     "execution_count": 22,
     "metadata": {},
     "output_type": "execute_result"
    }
   ],
   "source": [
    "articles['graphical_appearance_name'].describe()"
   ],
   "metadata": {
    "collapsed": false,
    "pycharm": {
     "name": "#%%\n"
    }
   }
  },
  {
   "cell_type": "code",
   "execution_count": 13,
   "outputs": [
    {
     "data": {
      "text/plain": "array(['Solid', 'Stripe', 'All over pattern', 'Melange', 'Transparent',\n       'Metallic', 'Application/3D', 'Denim', 'Colour blocking', 'Dot',\n       'Other structure', 'Contrast', 'Treatment', 'Check', 'Chambray',\n       'Front print', 'Glittering/Metallic', 'Mixed solid/pattern',\n       'Placement print', 'Other pattern', 'Neps', 'Embroidery', 'Lace',\n       'Jacquard', 'Unknown', 'Argyle', 'Slub', 'Mesh', 'Sequin',\n       'Hologram'], dtype=object)"
     },
     "execution_count": 13,
     "metadata": {},
     "output_type": "execute_result"
    }
   ],
   "source": [
    "articles['graphical_appearance_name'].unique()"
   ],
   "metadata": {
    "collapsed": false,
    "pycharm": {
     "name": "#%%\n"
    }
   }
  },
  {
   "cell_type": "code",
   "execution_count": 40,
   "outputs": [
    {
     "name": "stdout",
     "output_type": "stream",
     "text": [
      "unknown: 0, Unknown: 52, undefined: 0, Undefined: 0\n"
     ]
    }
   ],
   "source": [
    "print(count_unknown_undefined(col=\"graphical_appearance_name\"))"
   ],
   "metadata": {
    "collapsed": false,
    "pycharm": {
     "name": "#%%\n"
    }
   }
  },
  {
   "cell_type": "code",
   "execution_count": 23,
   "outputs": [
    {
     "data": {
      "text/plain": "count     105542\nunique        50\ntop        Black\nfreq       22670\nName: colour_group_name, dtype: object"
     },
     "execution_count": 23,
     "metadata": {},
     "output_type": "execute_result"
    }
   ],
   "source": [
    "articles['colour_group_name'].describe()"
   ],
   "metadata": {
    "collapsed": false,
    "pycharm": {
     "name": "#%%\n"
    }
   }
  },
  {
   "cell_type": "code",
   "execution_count": 41,
   "outputs": [
    {
     "data": {
      "text/plain": "array(['Black', 'White', 'Off White', 'Light Beige', 'Beige', 'Grey',\n       'Light Blue', 'Light Grey', 'Dark Blue', 'Dark Grey', 'Pink',\n       'Dark Red', 'Greyish Beige', 'Light Orange', 'Silver', 'Gold',\n       'Light Pink', 'Dark Pink', 'Yellowish Brown', 'Blue',\n       'Light Turquoise', 'Yellow', 'Greenish Khaki', 'Dark Yellow',\n       'Other Pink', 'Dark Purple', 'Red', 'Transparent', 'Dark Green',\n       'Other Red', 'Turquoise', 'Dark Orange', 'Other', 'Orange',\n       'Dark Beige', 'Other Yellow', 'Light Green', 'Other Orange',\n       'Purple', 'Light Red', 'Light Yellow', 'Green', 'Light Purple',\n       'Dark Turquoise', 'Other Purple', 'Bronze/Copper',\n       'Other Turquoise', 'Other Green', 'Other Blue', 'Unknown'],\n      dtype=object)"
     },
     "execution_count": 41,
     "metadata": {},
     "output_type": "execute_result"
    }
   ],
   "source": [
    "articles['colour_group_name'].unique()"
   ],
   "metadata": {
    "collapsed": false,
    "pycharm": {
     "name": "#%%\n"
    }
   }
  },
  {
   "cell_type": "code",
   "execution_count": 35,
   "outputs": [
    {
     "name": "stdout",
     "output_type": "stream",
     "text": [
      "unknown: 0, Unknown: 28, undefined: 0, Undefined: 0\n"
     ]
    }
   ],
   "source": [
    "print(count_unknown_undefined(col='colour_group_name'))"
   ],
   "metadata": {
    "collapsed": false,
    "pycharm": {
     "name": "#%%\n"
    }
   }
  },
  {
   "cell_type": "code",
   "execution_count": 24,
   "outputs": [
    {
     "data": {
      "text/plain": "count     105542\nunique         8\ntop         Dark\nfreq       42706\nName: perceived_colour_value_name, dtype: object"
     },
     "execution_count": 24,
     "metadata": {},
     "output_type": "execute_result"
    }
   ],
   "source": [
    "articles['perceived_colour_value_name'].describe()"
   ],
   "metadata": {
    "collapsed": false,
    "pycharm": {
     "name": "#%%\n"
    }
   }
  },
  {
   "cell_type": "code",
   "execution_count": 32,
   "outputs": [
    {
     "data": {
      "text/plain": "<AxesSubplot:>"
     },
     "execution_count": 32,
     "metadata": {},
     "output_type": "execute_result"
    },
    {
     "data": {
      "text/plain": "<Figure size 640x480 with 1 Axes>",
      "image/png": "[encoded data removed]"
     },
     "metadata": {},
     "output_type": "display_data"
    }
   ],
   "source": [
    "articles['perceived_colour_value_name'].value_counts().plot.bar()\n",
    "# unknown - undefined?"
   ],
   "metadata": {
    "collapsed": false,
    "pycharm": {
     "name": "#%%\n"
    }
   }
  },
  {
   "cell_type": "code",
   "execution_count": 43,
   "outputs": [
    {
     "name": "stdout",
     "output_type": "stream",
     "text": [
      "unknown: 0, Unknown: 28, undefined: 0, Undefined: 105\n"
     ]
    }
   ],
   "source": [
    "print(count_unknown_undefined(col='perceived_colour_value_name'))"
   ],
   "metadata": {
    "collapsed": false,
    "pycharm": {
     "name": "#%%\n"
    }
   }
  },
  {
   "cell_type": "code",
   "execution_count": 25,
   "outputs": [
    {
     "data": {
      "text/plain": "count     105542\nunique        20\ntop        Black\nfreq       22585\nName: perceived_colour_master_name, dtype: object"
     },
     "execution_count": 25,
     "metadata": {},
     "output_type": "execute_result"
    }
   ],
   "source": [
    "articles['perceived_colour_master_name'].describe()"
   ],
   "metadata": {
    "collapsed": false,
    "pycharm": {
     "name": "#%%\n"
    }
   }
  },
  {
   "cell_type": "code",
   "execution_count": 7,
   "outputs": [
    {
     "data": {
      "text/plain": "array(['Black', 'White', 'Beige', 'Grey', 'Blue', 'Pink', 'Lilac Purple',\n       'Red', 'Mole', 'Orange', 'Metal', 'Brown', 'Turquoise', 'Yellow',\n       'Khaki green', 'Green', 'undefined', 'Unknown', 'Yellowish Green',\n       'Bluish Green'], dtype=object)"
     },
     "execution_count": 7,
     "metadata": {},
     "output_type": "execute_result"
    }
   ],
   "source": [
    "articles['perceived_colour_master_name'].unique()\n",
    "# undefined vs unknown"
   ],
   "metadata": {
    "collapsed": false,
    "pycharm": {
     "name": "#%%\n"
    }
   }
  },
  {
   "cell_type": "code",
   "execution_count": 44,
   "outputs": [
    {
     "name": "stdout",
     "output_type": "stream",
     "text": [
      "unknown: 0, Unknown: 685, undefined: 105, Undefined: 0\n"
     ]
    }
   ],
   "source": [
    "print(count_unknown_undefined(col='perceived_colour_master_name'))"
   ],
   "metadata": {
    "collapsed": false,
    "pycharm": {
     "name": "#%%\n"
    }
   }
  },
  {
   "cell_type": "code",
   "execution_count": 26,
   "outputs": [
    {
     "data": {
      "text/plain": "count     105542\nunique       250\ntop       Jersey\nfreq        4604\nName: department_name, dtype: object"
     },
     "execution_count": 26,
     "metadata": {},
     "output_type": "execute_result"
    }
   ],
   "source": [
    "articles['department_name'].describe()"
   ],
   "metadata": {
    "collapsed": false,
    "pycharm": {
     "name": "#%%\n"
    }
   }
  },
  {
   "cell_type": "code",
   "execution_count": 6,
   "outputs": [
    {
     "data": {
      "text/plain": "array(['Jersey Basic', 'Clean Lingerie', 'Tights basic', 'Baby basics',\n       'Casual Lingerie', 'Jersey', 'EQ & Special Collections',\n       'Hair Accessories', 'Other items', 'Baby Nightwear',\n       'Men Sport Woven', 'Men Sport Bottoms', 'Kids Boy Denim',\n       'Shopbasket Socks', 'Socks', 'UW', 'Young Girl Jersey Basic',\n       'Jacket Street', 'Belts', 'Divided Shoes', 'Swimwear',\n       'Underwear Jersey', 'Basic 1', 'Tops Knitwear DS', 'Men Sport Acc',\n       'Kids Boy Jersey Basic', 'Young Girl UW/NW', 'Shirt', 'Nightwear',\n       'Trouser', 'Small Accessories', 'Sunglasses', 'Gloves/Hats',\n       'Knit & Woven', 'Basics', 'Accessories', 'Jewellery',\n       'Jersey Fancy DS', 'Trousers DS', 'Bags', 'Blazer S&T', 'Knitwear',\n       'Woven bottoms', 'Shorts', 'Dresses DS', 'Expressive Lingerie',\n       'Kids Girl UW/NW', 'Young Boy Jersey Basic', 'Kids Girl S&T',\n       'Young Girl S&T', 'Shoes / Boots inactive from s5', 'Nursing',\n       'Jersey Fancy', 'Shoes', 'Functional Lingerie', 'Men Sport Tops',\n       'Other Accessories', 'Young Boy Trouser', 'Outdoor/Blazers DS',\n       'Mama Lingerie', 'Socks Bin', 'Denim Other Garments',\n       'Everyday Waredrobe Denim', 'Trousers', 'Denim Trousers',\n       'Outdoor/Blazers', 'Young Boy Denim', 'Scarves', 'Dresses',\n       'Skirts', 'Kids Girl Jersey Basic', 'Baby Socks',\n       'Trousers & Skirt', 'Young Boy Shirt', 'Kids Girl Big Acc',\n       'Young Girl Denim', 'Flats', 'Baby Toys/Acc', 'Projects Dresses',\n       'Denim shorts', 'Jersey inactive from s1', 'Promotion/Other/Offer',\n       'Bags & Items', 'Small Bags', 'Trouser S&T', 'Shirt S&T',\n       'Woven Tops', 'Denim trousers', 'Young Girl Knitwear', 'Outwear',\n       'Knitwear inactive from s1', 'Projects Woven Tops',\n       'Projects Jersey & Knitwear',\n       'Denim wardrobe H&M man inactive from S.6', 'Baby Boy Outdoor',\n       'Premium Quality', 'Woven inactive from s1', 'Tops woven DS',\n       'Newborn', 'Skirt', 'Jersey License', 'Jewellery Extended',\n       'Light Basic Jersey', 'Suit Extended inactive from s1',\n       'Young Boy UW/NW', 'Tops Knitwear', 'Kids Boy Socks',\n       'Young Boy Socks', 'Outdoor inactive from s1',\n       'Kids Girl Swimwear', 'Young Girl Swimwear', 'Ladies Sport Bras',\n       'Ladies Sport Bottoms', 'Jersey fancy', 'Blazer', 'Baby Boy Woven',\n       'Kids Boy Swimwear', 'Young boy Swimwear',\n       'Kids Dress-up/Football', 'Sneakers small girl inactive from s2',\n       'Tops Woven', 'Blouse', 'Shorts DS', 'Boots', 'Kids Boy Big Acc',\n       'Boys Small Acc & Bags', 'Woven top', 'Young Girl Dresses',\n       'Knitwear Basic', 'Sneakers', 'Dress', 'Baby Girl Woven',\n       'Baby Girl Jersey Fancy', 'Jacket Casual', 'Kids Boy UW/NW',\n       'Ladies Sport Acc', 'Kids Girl Jersey Fancy', 'Baby Exclusive',\n       'Young Boy Shorts', 'EQ Divided Basics', 'Shorts & Skirts',\n       'Promotion/ Other /Offer', 'Kids Boy Trouser', 'Tops Fancy Jersey',\n       'Kids Girl Knitwear', 'Kids Boy Jersey Fancy', 'Heels',\n       'Woven Premium', 'Blouse & Dress', 'Kids Girl Trouser',\n       'Kids Girl Dresses', 'Projects Woven Bottoms',\n       'Conscious Exclusive', 'Shoes Other', 'Kids Girl Outdoor',\n       'Skirts DS', 'Young Girl Jersey Fancy', 'Young Boy Outdoor',\n       'Young Girl Outdoor', 'Woven Occasion', 'Kids Boy Outdoor',\n       'Young Boy Jersey Fancy', 'Kids Boy Shoes', 'Ladies Sport Woven',\n       'Bottoms Girls', 'Tops Girls', 'Young Girl Big Acc',\n       'Young Boy Shoes', 'Young Boy Knitwear', 'Suit', 'Kids Girl Shoes',\n       'Jacket Smart', 'Projects', 'Kids Boy Knitwear',\n       'Woven bottoms inactive from S.7', 'Jersey/Knitwear Premium',\n       'Sneakers big girl inactive from s2', 'Suit jacket',\n       'Kids Boy Shirt', 'Jacket', 'Kids Girl Denim',\n       'Young Girl Trouser', 'Girls Small Acc/Bags',\n       'Shirt Extended inactive from s1', 'Tops Boys',\n       'Baby Girl Knitwear', 'Baby Shoes', 'Jackets', 'Jersey Occasion',\n       'Young Boy Big Acc', 'Kids Girl License', 'Baby Boy Jersey Fancy',\n       'Bottoms Boys', 'Local relevance', 'Dress-up Boys',\n       'Small Acc. Jewellery & Other', 'Baby Boy Knitwear',\n       'Equatorial Assortment', 'Loungewear', 'Studio Collection',\n       'Woven', 'Outwear & Blazers',\n       'Underwear Jersey Fancy inactive from s1', 'Special Collection',\n       'Take Care External', 'Equatorial', 'Divided+',\n       'OL Extended Sizes', 'Campaigns', 'Underwear Woven',\n       'Heavy Basic Jersey', 'EQ H&M Man', 'Young Girl Shoes', 'AK Other',\n       'Kids Boy Shorts', 'Bottoms', 'Shopbasket Lingerie',\n       'Kids Boy License', 'Baby Girl Outdoor',\n       'Promotion / Other / Offer', 'Divided+ inactive from s.1',\n       'Tops & Bottoms Other', 'Take care', 'Girls Local Relevance',\n       'AK Dresses & Outdoor', 'Limited Edition',\n       'AK Tops Jersey & Woven', 'AK Tops Knitwear', 'Divided Swimwear',\n       'AK Bottoms', 'Girls Projects', 'On Demand', 'Test Ladies',\n       'Socks Wall', 'Jersey inactive from S.6', 'Boys Local Relevance',\n       'License', 'Price Items', 'Asia Assortment', 'Accessories Boys',\n       'Read & React', 'EQ Ladies Denim', 'Small Accessories Extended',\n       'Baby Boy Local Relevance', 'Kids Girl Exclusive',\n       'Baby Girl Local Relevance', 'EQ Divided Blue',\n       'Kids Boy Exclusive', 'Accessories Other', 'Blanks'], dtype=object)"
     },
     "execution_count": 6,
     "metadata": {},
     "output_type": "execute_result"
    }
   ],
   "source": [
    "articles['department_name'].unique()\n",
    "# some \"inactive from s-\" included"
   ],
   "metadata": {
    "collapsed": false,
    "pycharm": {
     "name": "#%%\n"
    }
   }
  },
  {
   "cell_type": "code",
   "execution_count": 45,
   "outputs": [
    {
     "name": "stdout",
     "output_type": "stream",
     "text": [
      "unknown: 0, Unknown: 0, undefined: 0, Undefined: 0\n"
     ]
    }
   ],
   "source": [
    "print(count_unknown_undefined(col='department_name'))"
   ],
   "metadata": {
    "collapsed": false,
    "pycharm": {
     "name": "#%%\n"
    }
   }
  },
  {
   "cell_type": "code",
   "execution_count": 27,
   "outputs": [
    {
     "data": {
      "text/plain": "count         105542\nunique            10\ntop       Ladieswear\nfreq           26001\nName: index_name, dtype: object"
     },
     "execution_count": 27,
     "metadata": {},
     "output_type": "execute_result"
    }
   ],
   "source": [
    "articles['index_name'].describe()"
   ],
   "metadata": {
    "collapsed": false,
    "pycharm": {
     "name": "#%%\n"
    }
   }
  },
  {
   "cell_type": "code",
   "execution_count": 33,
   "outputs": [
    {
     "data": {
      "text/plain": "<AxesSubplot:>"
     },
     "execution_count": 33,
     "metadata": {},
     "output_type": "execute_result"
    },
    {
     "data": {
      "text/plain": "<Figure size 640x480 with 1 Axes>",
      "image/png": "[encoded data removed]"
     },
     "metadata": {},
     "output_type": "display_data"
    }
   ],
   "source": [
    "articles['index_name'].value_counts().plot.bar()"
   ],
   "metadata": {
    "collapsed": false,
    "pycharm": {
     "name": "#%%\n"
    }
   }
  },
  {
   "cell_type": "code",
   "execution_count": 46,
   "outputs": [
    {
     "name": "stdout",
     "output_type": "stream",
     "text": [
      "unknown: 0, Unknown: 0, undefined: 0, Undefined: 0\n"
     ]
    }
   ],
   "source": [
    "print(count_unknown_undefined(col='index_name'))"
   ],
   "metadata": {
    "collapsed": false,
    "pycharm": {
     "name": "#%%\n"
    }
   }
  },
  {
   "cell_type": "code",
   "execution_count": 28,
   "outputs": [
    {
     "data": {
      "text/plain": "count         105542\nunique             5\ntop       Ladieswear\nfreq           39737\nName: index_group_name, dtype: object"
     },
     "execution_count": 28,
     "metadata": {},
     "output_type": "execute_result"
    }
   ],
   "source": [
    "articles['index_group_name'].describe()"
   ],
   "metadata": {
    "collapsed": false,
    "pycharm": {
     "name": "#%%\n"
    }
   }
  },
  {
   "cell_type": "code",
   "execution_count": 34,
   "outputs": [
    {
     "data": {
      "text/plain": "<AxesSubplot:>"
     },
     "execution_count": 34,
     "metadata": {},
     "output_type": "execute_result"
    },
    {
     "data": {
      "text/plain": "<Figure size 640x480 with 1 Axes>",
      "image/png": "[encoded data removed]"
     },
     "metadata": {},
     "output_type": "display_data"
    }
   ],
   "source": [
    "articles['index_group_name'].value_counts().plot.bar()"
   ],
   "metadata": {
    "collapsed": false,
    "pycharm": {
     "name": "#%%\n"
    }
   }
  },
  {
   "cell_type": "code",
   "execution_count": 40,
   "outputs": [],
   "source": [
    "articles['index_name_group_name'] = articles.apply(lambda row: row.index_name + ' | ' + row.index_group_name, axis=1)"
   ],
   "metadata": {
    "collapsed": false,
    "pycharm": {
     "name": "#%%\n"
    }
   }
  },
  {
   "cell_type": "code",
   "execution_count": 41,
   "outputs": [
    {
     "data": {
      "text/plain": "<AxesSubplot:>"
     },
     "execution_count": 41,
     "metadata": {},
     "output_type": "execute_result"
    },
    {
     "data": {
      "text/plain": "<Figure size 640x480 with 1 Axes>",
      "image/png": "[encoded data removed]"
     },
     "metadata": {},
     "output_type": "display_data"
    }
   ],
   "source": [
    "articles['index_name_group_name'].value_counts().plot.bar()"
   ],
   "metadata": {
    "collapsed": false,
    "pycharm": {
     "name": "#%%\n"
    }
   }
  },
  {
   "cell_type": "code",
   "execution_count": 47,
   "outputs": [
    {
     "name": "stdout",
     "output_type": "stream",
     "text": [
      "unknown: 0, Unknown: 0, undefined: 0, Undefined: 0\n"
     ]
    }
   ],
   "source": [
    "print(count_unknown_undefined(col='index_group_name'))"
   ],
   "metadata": {
    "collapsed": false,
    "pycharm": {
     "name": "#%%\n"
    }
   }
  },
  {
   "cell_type": "code",
   "execution_count": 29,
   "outputs": [
    {
     "data": {
      "text/plain": "count                         105542\nunique                            56\ntop       Womens Everyday Collection\nfreq                            7295\nName: section_name, dtype: object"
     },
     "execution_count": 29,
     "metadata": {},
     "output_type": "execute_result"
    }
   ],
   "source": [
    "articles['section_name'].describe()"
   ],
   "metadata": {
    "collapsed": false,
    "pycharm": {
     "name": "#%%\n"
    }
   }
  },
  {
   "cell_type": "code",
   "execution_count": 4,
   "outputs": [
    {
     "data": {
      "text/plain": "array(['Womens Everyday Basics', 'Womens Lingerie',\n       'Womens Nightwear, Socks & Tigh', 'Baby Essentials & Complements',\n       'Men Underwear', 'Mama', 'Womens Small accessories',\n       'Men H&M Sport', 'Kids Boy', 'Divided Basics',\n       'Girls Underwear & Basics', 'Mens Outerwear',\n       'Womens Big accessories', 'Divided Accessories',\n       'Womens Swimwear, beachwear', 'Divided Selected',\n       'Boys Underwear & Basics', 'Contemporary Street',\n       'Contemporary Casual', 'Men Accessories', 'Men Suits & Tailoring',\n       'Womens Everyday Collection', 'Men Shoes', 'Young Boy', 'H&M+',\n       'Divided Collection', 'Ladies Denim', 'Contemporary Smart',\n       'Womens Trend', 'Kids Outerwear', 'Young Girl', 'Womens Shoes',\n       'Womens Tailoring', 'Divided Projects', 'Denim Men', 'Men Other',\n       'Womens Jackets', 'Men Other 2', 'Baby Boy', 'Womens Casual',\n       'Kids Accessories, Swimwear & D', 'Ladies H&M Sport',\n       'Kids & Baby Shoes', 'Baby Girl', 'Kids Girl',\n       'Divided Complements Other', 'Womens Premium',\n       'Special Collections', 'Kids Sports', 'Men Project', 'Men Edition',\n       'Collaborations', 'Divided Asia keys', 'EQ Divided',\n       'Kids Local Relevance', 'Ladies Other'], dtype=object)"
     },
     "execution_count": 4,
     "metadata": {},
     "output_type": "execute_result"
    }
   ],
   "source": [
    "articles['section_name'].unique()"
   ],
   "metadata": {
    "collapsed": false,
    "pycharm": {
     "name": "#%%\n"
    }
   }
  },
  {
   "cell_type": "code",
   "execution_count": 69,
   "outputs": [
    {
     "name": "stdout",
     "output_type": "stream",
     "text": [
      "unknown: 0, Unknown: 0, undefined: 0, Undefined: 0\n"
     ]
    }
   ],
   "source": [
    "print(count_unknown_undefined(col='section_name'))"
   ],
   "metadata": {
    "collapsed": false,
    "pycharm": {
     "name": "#%%\n"
    }
   }
  },
  {
   "cell_type": "code",
   "execution_count": 87,
   "outputs": [
    {
     "name": "stdout",
     "output_type": "stream",
     "text": [
      "Baby/Children\n",
      "\t Baby Sizes 50-98\n",
      "\t\t Baby Essentials & Complements, Baby Girl, Baby Boy, Kids & Baby Shoes, Kids Local Relevance\n",
      "\t Children Sizes 92-140\n",
      "\t\t Kids Girl, Kids Boy, Girls Underwear & Basics, Boys Underwear & Basics, Kids Outerwear, Kids Local Relevance\n",
      "\t Children Sizes 134-170\n",
      "\t\t Young Girl, Young Boy, Girls Underwear & Basics, Boys Underwear & Basics, Kids Outerwear\n",
      "\t Children Accessories, Swimwear\n",
      "\t\t Kids Accessories, Swimwear & D, Kids & Baby Shoes, Kids Outerwear\n",
      "Divided\n",
      "\t Divided\n",
      "\t\t Divided Collection, Divided Projects, Divided Accessories, Divided Basics, Divided Selected, Ladies Denim, Divided Asia keys, Divided Complements Other, EQ Divided\n",
      "Ladieswear\n",
      "\t Ladieswear\n",
      "\t\t Womens Everyday Collection, Womens Tailoring, Womens Casual, Womens Trend, H&M+, Mama, Womens Everyday Basics, Womens Premium, Womens Jackets, Special Collections, Collaborations, Womens Nightwear, Socks & Tigh, Ladies Denim, Ladies Other\n",
      "\t Lingeries/Tights\n",
      "\t\t Womens Lingerie, Womens Swimwear, beachwear, Womens Nightwear, Socks & Tigh\n",
      "\t Ladies Accessories\n",
      "\t\t Womens Small accessories, Womens Shoes, Womens Big accessories\n",
      "Menswear\n",
      "\t Menswear\n",
      "\t\t Men Underwear, Contemporary Smart, Contemporary Casual, Contemporary Street, Men Suits & Tailoring, Men Accessories, Men Shoes, Mens Outerwear, Denim Men, Men Edition, Men Project, Men Other 2, Men Other\n",
      "Sport\n",
      "\t Sport\n",
      "\t\t Ladies H&M Sport, Men H&M Sport, Kids Sports\n"
     ]
    }
   ],
   "source": [
    "articles['index_name_group_name'] = articles.apply(lambda row: row.index_group_name + ' | ' + row.index_name + ' | ' + row.section_name, axis=1)\n",
    "result = articles['index_name_group_name'].value_counts()\n",
    "result = result.index.tolist()\n",
    "result = [x.split(' | ') for x in  result]\n",
    "index_group_names = list(set([x[0] for x in result]))\n",
    "dictionary = {\n",
    "    key: {} for key in index_group_names\n",
    "}\n",
    "for element in result:\n",
    "    if element[1] not in dictionary[element[0]].keys():\n",
    "        dictionary[element[0]][element[1]] = [element[2]]\n",
    "    else:\n",
    "        dictionary[element[0]][element[1]].append(element[2])\n",
    "\n",
    "for index_group_name in dictionary.keys():\n",
    "    print(index_group_name)\n",
    "    for index_name in dictionary[index_group_name].keys():\n",
    "        print('\\t', index_name)\n",
    "        print('\\t\\t', \", \".join(dictionary[index_group_name][index_name]))"
   ],
   "metadata": {
    "collapsed": false,
    "pycharm": {
     "name": "#%%\n"
    }
   }
  },
  {
   "cell_type": "code",
   "execution_count": 30,
   "outputs": [
    {
     "data": {
      "text/plain": "count           105542\nunique              21\ntop       Jersey Fancy\nfreq             21445\nName: garment_group_name, dtype: object"
     },
     "execution_count": 30,
     "metadata": {},
     "output_type": "execute_result"
    }
   ],
   "source": [
    "articles['garment_group_name'].describe()"
   ],
   "metadata": {
    "collapsed": false,
    "pycharm": {
     "name": "#%%\n"
    }
   }
  },
  {
   "cell_type": "code",
   "execution_count": 3,
   "outputs": [
    {
     "data": {
      "text/plain": "array(['Jersey Basic', 'Under-, Nightwear', 'Socks and Tights',\n       'Jersey Fancy', 'Accessories', 'Trousers Denim', 'Outdoor',\n       'Shoes', 'Swimwear', 'Knitwear', 'Shirts', 'Trousers', 'Dressed',\n       'Shorts', 'Dresses Ladies', 'Skirts', 'Special Offers', 'Blouses',\n       'Unknown', 'Woven/Jersey/Knitted mix Baby', 'Dresses/Skirts girls'],\n      dtype=object)"
     },
     "execution_count": 3,
     "metadata": {},
     "output_type": "execute_result"
    }
   ],
   "source": [
    "articles['garment_group_name'].unique()"
   ],
   "metadata": {
    "collapsed": false,
    "pycharm": {
     "name": "#%%\n"
    }
   }
  },
  {
   "cell_type": "code",
   "execution_count": 49,
   "outputs": [
    {
     "name": "stdout",
     "output_type": "stream",
     "text": [
      "unknown: 0, Unknown: 3873, undefined: 0, Undefined: 0\n"
     ]
    }
   ],
   "source": [
    "print(count_unknown_undefined(col='garment_group_name'))"
   ],
   "metadata": {
    "collapsed": false,
    "pycharm": {
     "name": "#%%\n"
    }
   }
  },
  {
   "cell_type": "code",
   "execution_count": 57,
   "outputs": [
    {
     "data": {
      "text/plain": "121"
     },
     "execution_count": 57,
     "metadata": {},
     "output_type": "execute_result"
    }
   ],
   "source": [
    "len(articles[(articles['product_type_name'] == 'Unknown') | (articles['product_group_name'] == 'Unknown')].index)"
   ],
   "metadata": {
    "collapsed": false,
    "pycharm": {
     "name": "#%%\n"
    }
   }
  },
  {
   "cell_type": "code",
   "execution_count": 58,
   "outputs": [
    {
     "data": {
      "text/plain": "28"
     },
     "execution_count": 58,
     "metadata": {},
     "output_type": "execute_result"
    }
   ],
   "source": [
    "len(articles[(articles['colour_group_name'] == 'Unknown') | (articles['perceived_colour_value_name'] == 'Unknown')].index)"
   ],
   "metadata": {
    "collapsed": false,
    "pycharm": {
     "name": "#%%\n"
    }
   }
  },
  {
   "cell_type": "code",
   "execution_count": 59,
   "outputs": [
    {
     "data": {
      "text/plain": "105"
     },
     "execution_count": 59,
     "metadata": {},
     "output_type": "execute_result"
    }
   ],
   "source": [
    "len(articles[(articles['perceived_colour_value_name'] == 'Undefined') | (articles['perceived_colour_master_name'] == 'Undefined')].index)"
   ],
   "metadata": {
    "collapsed": false,
    "pycharm": {
     "name": "#%%\n"
    }
   }
  },
  {
   "cell_type": "code",
   "execution_count": 91,
   "outputs": [
    {
     "name": "stdout",
     "output_type": "stream",
     "text": [
      "unique article id's: 105542, total_articles: 105542\n"
     ]
    }
   ],
   "source": [
    "print(f'unique article id\\'s: {articles[\"article_id\"].unique().shape[0]}, total_articles: {total_articles}')"
   ],
   "metadata": {
    "collapsed": false,
    "pycharm": {
     "name": "#%%\n"
    }
   }
  },
  {
   "cell_type": "code",
   "execution_count": 119,
   "outputs": [],
   "source": [
    "def print_link_info(column1, column2):\n",
    "    subset = articles[[column1, column2]].copy()\n",
    "    subset = subset.drop_duplicates()\n",
    "    result1 = subset[column1].value_counts()\n",
    "    result1.value_counts()\n",
    "    result2 = subset[column2].value_counts()\n",
    "    result2.value_counts()\n",
    "    print(column1)\n",
    "    print(result1.value_counts())\n",
    "    print()\n",
    "    print(column2)\n",
    "    print(result2.value_counts())"
   ],
   "metadata": {
    "collapsed": false,
    "pycharm": {
     "name": "#%%\n"
    }
   }
  },
  {
   "cell_type": "code",
   "execution_count": 120,
   "outputs": [
    {
     "name": "stdout",
     "output_type": "stream",
     "text": [
      "product_code\n",
      "1    45048\n",
      "2     1842\n",
      "3      268\n",
      "4       54\n",
      "5       12\n",
      "Name: product_code, dtype: int64\n",
      "\n",
      "prod_name\n",
      "1    42803\n",
      "2     2472\n",
      "3      419\n",
      "4      128\n",
      "5       32\n",
      "6       13\n",
      "7        6\n",
      "8        2\n",
      "Name: prod_name, dtype: int64\n"
     ]
    }
   ],
   "source": [
    "print_link_info(column1='product_code', column2='prod_name')"
   ],
   "metadata": {
    "collapsed": false,
    "pycharm": {
     "name": "#%%\n"
    }
   }
  },
  {
   "cell_type": "code",
   "execution_count": 121,
   "outputs": [
    {
     "name": "stdout",
     "output_type": "stream",
     "text": [
      "product_type_no\n",
      "1    132\n",
      "Name: product_type_no, dtype: int64\n",
      "\n",
      "product_type_name\n",
      "1    130\n",
      "2      1\n",
      "Name: product_type_name, dtype: int64\n"
     ]
    }
   ],
   "source": [
    "print_link_info(column1='product_type_no', column2='product_type_name')"
   ],
   "metadata": {
    "collapsed": false,
    "pycharm": {
     "name": "#%%\n"
    }
   }
  },
  {
   "cell_type": "code",
   "execution_count": 123,
   "outputs": [
    {
     "name": "stdout",
     "output_type": "stream",
     "text": [
      "graphical_appearance_no\n",
      "1    30\n",
      "Name: graphical_appearance_no, dtype: int64\n",
      "\n",
      "graphical_appearance_name\n",
      "1    30\n",
      "Name: graphical_appearance_name, dtype: int64\n"
     ]
    }
   ],
   "source": [
    "print_link_info(column1='graphical_appearance_no', column2='graphical_appearance_name')"
   ],
   "metadata": {
    "collapsed": false,
    "pycharm": {
     "name": "#%%\n"
    }
   }
  },
  {
   "cell_type": "code",
   "execution_count": 124,
   "outputs": [
    {
     "name": "stdout",
     "output_type": "stream",
     "text": [
      "colour_group_code\n",
      "1    50\n",
      "Name: colour_group_code, dtype: int64\n",
      "\n",
      "colour_group_name\n",
      "1    50\n",
      "Name: colour_group_name, dtype: int64\n"
     ]
    }
   ],
   "source": [
    "print_link_info(column1='colour_group_code', column2='colour_group_name')"
   ],
   "metadata": {
    "collapsed": false,
    "pycharm": {
     "name": "#%%\n"
    }
   }
  },
  {
   "cell_type": "code",
   "execution_count": 125,
   "outputs": [
    {
     "name": "stdout",
     "output_type": "stream",
     "text": [
      "perceived_colour_value_id\n",
      "1    8\n",
      "Name: perceived_colour_value_id, dtype: int64\n",
      "\n",
      "perceived_colour_value_name\n",
      "1    8\n",
      "Name: perceived_colour_value_name, dtype: int64\n"
     ]
    }
   ],
   "source": [
    "print_link_info(column1='perceived_colour_value_id', column2='perceived_colour_value_name')"
   ],
   "metadata": {
    "collapsed": false,
    "pycharm": {
     "name": "#%%\n"
    }
   }
  },
  {
   "cell_type": "code",
   "execution_count": 126,
   "outputs": [
    {
     "name": "stdout",
     "output_type": "stream",
     "text": [
      "perceived_colour_master_id\n",
      "1    20\n",
      "Name: perceived_colour_master_id, dtype: int64\n",
      "\n",
      "perceived_colour_master_name\n",
      "1    20\n",
      "Name: perceived_colour_master_name, dtype: int64\n"
     ]
    }
   ],
   "source": [
    "print_link_info(column1='perceived_colour_master_id', column2='perceived_colour_master_name')"
   ],
   "metadata": {
    "collapsed": false,
    "pycharm": {
     "name": "#%%\n"
    }
   }
  },
  {
   "cell_type": "code",
   "execution_count": 127,
   "outputs": [
    {
     "name": "stdout",
     "output_type": "stream",
     "text": [
      "department_no\n",
      "1    299\n",
      "Name: department_no, dtype: int64\n",
      "\n",
      "department_name\n",
      "1     228\n",
      "2      13\n",
      "3       3\n",
      "5       2\n",
      "4       2\n",
      "11      1\n",
      "7       1\n",
      "Name: department_name, dtype: int64\n"
     ]
    }
   ],
   "source": [
    "print_link_info(column1='department_no', column2='department_name')"
   ],
   "metadata": {
    "collapsed": false,
    "pycharm": {
     "name": "#%%\n"
    }
   }
  },
  {
   "cell_type": "code",
   "execution_count": 130,
   "outputs": [
    {
     "name": "stdout",
     "output_type": "stream",
     "text": [
      "index_code\n",
      "1    10\n",
      "Name: index_code, dtype: int64\n",
      "\n",
      "index_name\n",
      "1    10\n",
      "Name: index_name, dtype: int64\n"
     ]
    }
   ],
   "source": [
    "print_link_info(column1='index_code', column2='index_name')"
   ],
   "metadata": {
    "collapsed": false,
    "pycharm": {
     "name": "#%%\n"
    }
   }
  },
  {
   "cell_type": "code",
   "execution_count": 129,
   "outputs": [
    {
     "name": "stdout",
     "output_type": "stream",
     "text": [
      "index_group_no\n",
      "1    5\n",
      "Name: index_group_no, dtype: int64\n",
      "\n",
      "index_group_name\n",
      "1    5\n",
      "Name: index_group_name, dtype: int64\n"
     ]
    }
   ],
   "source": [
    "print_link_info(column1='index_group_no', column2='index_group_name')"
   ],
   "metadata": {
    "collapsed": false,
    "pycharm": {
     "name": "#%%\n"
    }
   }
  },
  {
   "cell_type": "code",
   "execution_count": 131,
   "outputs": [
    {
     "name": "stdout",
     "output_type": "stream",
     "text": [
      "section_no\n",
      "1    57\n",
      "Name: section_no, dtype: int64\n",
      "\n",
      "section_name\n",
      "1    55\n",
      "2     1\n",
      "Name: section_name, dtype: int64\n"
     ]
    }
   ],
   "source": [
    "print_link_info(column1='section_no', column2='section_name')"
   ],
   "metadata": {
    "collapsed": false,
    "pycharm": {
     "name": "#%%\n"
    }
   }
  },
  {
   "cell_type": "code",
   "execution_count": 132,
   "outputs": [
    {
     "name": "stdout",
     "output_type": "stream",
     "text": [
      "garment_group_no\n",
      "1    21\n",
      "Name: garment_group_no, dtype: int64\n",
      "\n",
      "garment_group_name\n",
      "1    21\n",
      "Name: garment_group_name, dtype: int64\n"
     ]
    }
   ],
   "source": [
    "print_link_info(column1='garment_group_no', column2='garment_group_name')"
   ],
   "metadata": {
    "collapsed": false,
    "pycharm": {
     "name": "#%%\n"
    }
   }
  },
  {
   "cell_type": "markdown",
   "source": [
    "## Customers\n",
    "Continue with EDA on customer.csv"
   ],
   "metadata": {
    "collapsed": false
   }
  },
  {
   "cell_type": "code",
   "execution_count": 133,
   "outputs": [
    {
     "name": "stdout",
     "output_type": "stream",
     "text": [
      "<class 'pandas.core.frame.DataFrame'>\n",
      "RangeIndex: 1371980 entries, 0 to 1371979\n",
      "Data columns (total 7 columns):\n",
      " #   Column                  Non-Null Count    Dtype  \n",
      "---  ------                  --------------    -----  \n",
      " 0   customer_id             1371980 non-null  object \n",
      " 1   FN                      476930 non-null   float64\n",
      " 2   Active                  464404 non-null   float64\n",
      " 3   club_member_status      1365918 non-null  object \n",
      " 4   fashion_news_frequency  1355971 non-null  object \n",
      " 5   age                     1356119 non-null  float64\n",
      " 6   postal_code             1371980 non-null  object \n",
      "dtypes: float64(3), object(4)\n",
      "memory usage: 73.3+ MB\n"
     ]
    }
   ],
   "source": [
    "customers.info()"
   ],
   "metadata": {
    "collapsed": false,
    "pycharm": {
     "name": "#%%\n"
    }
   }
  },
  {
   "cell_type": "code",
   "execution_count": 4,
   "outputs": [
    {
     "name": "stdout",
     "output_type": "stream",
     "text": [
      "Total customers: 1371980\n",
      "0.0% have no customer_id\n",
      "65.23783145526903% have no FN\n",
      "66.15081852505138% have no Active\n",
      "0.44184317555649494% have no club_member_status\n",
      "1.1668537442236768% have no fashion_news_frequency\n",
      "1.1560664149623172% have no age\n",
      "0.0% have no postal_code\n"
     ]
    }
   ],
   "source": [
    "total_customers = customers.shape[0]\n",
    "print('Total customers:', total_customers)\n",
    "for column in customers.columns.to_list():\n",
    "    print(f'{(customers[column].isna().sum() / total_customers) * 100}% have no {column}')"
   ],
   "metadata": {
    "collapsed": false,
    "pycharm": {
     "name": "#%%\n"
    }
   }
  },
  {
   "cell_type": "code",
   "execution_count": 20,
   "outputs": [
    {
     "data": {
      "text/plain": "count     1365918\nunique          3\ntop        ACTIVE\nfreq      1272491\nName: club_member_status, dtype: object"
     },
     "execution_count": 20,
     "metadata": {},
     "output_type": "execute_result"
    }
   ],
   "source": [
    "customers['club_member_status'].describe()"
   ],
   "metadata": {
    "collapsed": false,
    "pycharm": {
     "name": "#%%\n"
    }
   }
  },
  {
   "cell_type": "code",
   "execution_count": 24,
   "outputs": [
    {
     "data": {
      "text/plain": "<AxesSubplot:>"
     },
     "execution_count": 24,
     "metadata": {},
     "output_type": "execute_result"
    },
    {
     "data": {
      "text/plain": "<Figure size 640x480 with 1 Axes>",
      "image/png": "[encoded data removed]"
     },
     "metadata": {},
     "output_type": "display_data"
    }
   ],
   "source": [
    "customers['club_member_status'].value_counts().plot.bar()"
   ],
   "metadata": {
    "collapsed": false,
    "pycharm": {
     "name": "#%%\n"
    }
   }
  },
  {
   "cell_type": "code",
   "execution_count": 13,
   "outputs": [],
   "source": [
    "def count_unknown_undefined_customers(col):\n",
    "    unknown_undefined = ['unknown', 'Unknown', 'undefined', 'Undefined']\n",
    "    result = []\n",
    "    for value in unknown_undefined:\n",
    "        if value in customers[col].value_counts().index:\n",
    "            result.append(str(customers[col].value_counts()[value]))\n",
    "        else:\n",
    "            result.append(str(0))\n",
    "    result = [\": \".join(value) for value in zip(unknown_undefined, result)]\n",
    "    return \", \".join(result)"
   ],
   "metadata": {
    "collapsed": false,
    "pycharm": {
     "name": "#%%\n"
    }
   }
  },
  {
   "cell_type": "code",
   "execution_count": 151,
   "outputs": [
    {
     "name": "stdout",
     "output_type": "stream",
     "text": [
      "unknown: 0, Unknown: 0, undefined: 0, Undefined: 0\n"
     ]
    }
   ],
   "source": [
    "print(count_unknown_undefined_customers(col='club_member_status'))"
   ],
   "metadata": {
    "collapsed": false,
    "pycharm": {
     "name": "#%%\n"
    }
   }
  },
  {
   "cell_type": "code",
   "execution_count": 22,
   "outputs": [
    {
     "data": {
      "text/plain": "count     1355971\nunique          4\ntop          NONE\nfreq       877711\nName: fashion_news_frequency, dtype: object"
     },
     "execution_count": 22,
     "metadata": {},
     "output_type": "execute_result"
    }
   ],
   "source": [
    "customers['fashion_news_frequency'].describe()"
   ],
   "metadata": {
    "collapsed": false,
    "pycharm": {
     "name": "#%%\n"
    }
   }
  },
  {
   "cell_type": "code",
   "execution_count": 26,
   "outputs": [
    {
     "data": {
      "text/plain": "<AxesSubplot:>"
     },
     "execution_count": 26,
     "metadata": {},
     "output_type": "execute_result"
    },
    {
     "data": {
      "text/plain": "<Figure size 640x480 with 1 Axes>",
      "image/png": "[encoded data removed]"
     },
     "metadata": {},
     "output_type": "display_data"
    }
   ],
   "source": [
    "customers['fashion_news_frequency'].value_counts().plot.bar()\n",
    "# NONE vs None"
   ],
   "metadata": {
    "collapsed": false,
    "pycharm": {
     "name": "#%%\n"
    }
   }
  },
  {
   "cell_type": "code",
   "execution_count": 152,
   "outputs": [
    {
     "name": "stdout",
     "output_type": "stream",
     "text": [
      "unknown: 0, Unknown: 0, undefined: 0, Undefined: 0\n"
     ]
    }
   ],
   "source": [
    "print(count_unknown_undefined_customers(col='fashion_news_frequency'))"
   ],
   "metadata": {
    "collapsed": false,
    "pycharm": {
     "name": "#%%\n"
    }
   }
  },
  {
   "cell_type": "code",
   "execution_count": 159,
   "outputs": [
    {
     "data": {
      "text/plain": "count    1.356119e+06\nmean     3.638696e+01\nstd      1.431363e+01\nmin      1.600000e+01\n25%      2.400000e+01\n50%      3.200000e+01\n75%      4.900000e+01\nmax      9.900000e+01\nName: age, dtype: float64"
     },
     "execution_count": 159,
     "metadata": {},
     "output_type": "execute_result"
    }
   ],
   "source": [
    "customers['age'].describe()\n",
    "# 16 to 99, mean 36, standard deviation 14"
   ],
   "metadata": {
    "collapsed": false,
    "pycharm": {
     "name": "#%%\n"
    }
   }
  },
  {
   "cell_type": "code",
   "execution_count": 158,
   "outputs": [
    {
     "data": {
      "text/plain": "85"
     },
     "execution_count": 158,
     "metadata": {},
     "output_type": "execute_result"
    }
   ],
   "source": [
    "len(customers['age'].unique().tolist())"
   ],
   "metadata": {
    "collapsed": false,
    "pycharm": {
     "name": "#%%\n"
    }
   }
  },
  {
   "cell_type": "code",
   "execution_count": 23,
   "outputs": [
    {
     "data": {
      "text/plain": "<AxesSubplot:>"
     },
     "execution_count": 23,
     "metadata": {},
     "output_type": "execute_result"
    },
    {
     "data": {
      "text/plain": "<Figure size 640x480 with 1 Axes>",
      "image/png": "[encoded data removed]"
     },
     "metadata": {},
     "output_type": "display_data"
    }
   ],
   "source": [
    "value_counts = customers['age'].value_counts()\n",
    "for i in range(int(min(customers[\"age\"]))):\n",
    "    value_counts[float(i)] = 0\n",
    "value_counts.sort_index().plot.bar(xticks=[0, 10, 20, 30, 40, 50, 60, 70, 80, 90, 100])"
   ],
   "metadata": {
    "collapsed": false,
    "pycharm": {
     "name": "#%%\n"
    }
   }
  },
  {
   "cell_type": "code",
   "execution_count": 160,
   "outputs": [
    {
     "name": "stdout",
     "output_type": "stream",
     "text": [
      "unknown: 0, Unknown: 0, undefined: 0, Undefined: 0\n"
     ]
    }
   ],
   "source": [
    "print(count_unknown_undefined_customers(col='age'))"
   ],
   "metadata": {
    "collapsed": false,
    "pycharm": {
     "name": "#%%\n"
    }
   }
  },
  {
   "cell_type": "code",
   "execution_count": 33,
   "outputs": [
    {
     "data": {
      "text/plain": "count                                               1371980\nunique                                               352899\ntop       2c29ae653a9282cce4151bd87643c907644e09541abc28...\nfreq                                                 120303\nName: postal_code, dtype: object"
     },
     "execution_count": 33,
     "metadata": {},
     "output_type": "execute_result"
    }
   ],
   "source": [
    "customers['postal_code'].describe()"
   ],
   "metadata": {
    "collapsed": false,
    "pycharm": {
     "name": "#%%\n"
    }
   }
  },
  {
   "cell_type": "code",
   "execution_count": 34,
   "outputs": [
    {
     "data": {
      "text/plain": "array(['52043ee2162cf5aa7ee79974281641c6f11a68d276429a91f8ca0d4b6efa8100',\n       '2973abc54daa8a5f8ccfe9362140c63247c5eee03f1d93f4c830291c32bc3057',\n       '64f17e6a330a85798e4998f62d0930d14db8db1c054af6c9090f7dd3e38380dc',\n       ...,\n       'c9d6890a6a194925f2c7712bde35b4ea973971cbe27c993ee907fe6d97a3ab0c',\n       'c9e32043e0338a51dfd94705cfd8f75eb98c2ec34730497c9726b21e59ee4572',\n       '0a1a03306fb2f62164c2a439b38c0caa64b40deaae868799ccb93ac69444b79d'],\n      dtype=object)"
     },
     "execution_count": 34,
     "metadata": {},
     "output_type": "execute_result"
    }
   ],
   "source": [
    "customers['postal_code'].unique()\n",
    "# postal code encoded ??"
   ],
   "metadata": {
    "collapsed": false,
    "pycharm": {
     "name": "#%%\n"
    }
   }
  },
  {
   "cell_type": "code",
   "execution_count": 161,
   "outputs": [
    {
     "name": "stdout",
     "output_type": "stream",
     "text": [
      "unknown: 0, Unknown: 0, undefined: 0, Undefined: 0\n"
     ]
    }
   ],
   "source": [
    "print(count_unknown_undefined_customers(col='postal_code'))"
   ],
   "metadata": {
    "collapsed": false,
    "pycharm": {
     "name": "#%%\n"
    }
   }
  },
  {
   "cell_type": "code",
   "execution_count": 11,
   "outputs": [
    {
     "data": {
      "text/plain": "0          NaN\n1          NaN\n2          NaN\n3          NaN\n4          1.0\n          ... \n1371975    NaN\n1371976    NaN\n1371977    1.0\n1371978    1.0\n1371979    NaN\nName: FN, Length: 1371980, dtype: float64"
     },
     "execution_count": 11,
     "metadata": {},
     "output_type": "execute_result"
    }
   ],
   "source": [
    "customers['FN']"
   ],
   "metadata": {
    "collapsed": false,
    "pycharm": {
     "name": "#%%\n"
    }
   }
  },
  {
   "cell_type": "code",
   "execution_count": 15,
   "outputs": [
    {
     "data": {
      "text/plain": "1"
     },
     "execution_count": 15,
     "metadata": {},
     "output_type": "execute_result"
    }
   ],
   "source": [
    "customers['FN'].nunique()"
   ],
   "metadata": {
    "collapsed": false,
    "pycharm": {
     "name": "#%%\n"
    }
   }
  },
  {
   "cell_type": "code",
   "execution_count": 14,
   "outputs": [
    {
     "name": "stdout",
     "output_type": "stream",
     "text": [
      "unknown: 0, Unknown: 0, undefined: 0, Undefined: 0\n"
     ]
    }
   ],
   "source": [
    "print(count_unknown_undefined_customers(col='FN'))"
   ],
   "metadata": {
    "collapsed": false,
    "pycharm": {
     "name": "#%%\n"
    }
   }
  },
  {
   "cell_type": "code",
   "execution_count": 16,
   "outputs": [
    {
     "data": {
      "text/plain": "0          NaN\n1          NaN\n2          NaN\n3          NaN\n4          1.0\n          ... \n1371975    NaN\n1371976    NaN\n1371977    1.0\n1371978    1.0\n1371979    NaN\nName: Active, Length: 1371980, dtype: float64"
     },
     "execution_count": 16,
     "metadata": {},
     "output_type": "execute_result"
    }
   ],
   "source": [
    "customers['Active']"
   ],
   "metadata": {
    "collapsed": false,
    "pycharm": {
     "name": "#%%\n"
    }
   }
  },
  {
   "cell_type": "code",
   "execution_count": 17,
   "outputs": [
    {
     "data": {
      "text/plain": "1"
     },
     "execution_count": 17,
     "metadata": {},
     "output_type": "execute_result"
    }
   ],
   "source": [
    "customers['Active'].nunique()"
   ],
   "metadata": {
    "collapsed": false,
    "pycharm": {
     "name": "#%%\n"
    }
   }
  },
  {
   "cell_type": "code",
   "execution_count": 18,
   "outputs": [
    {
     "name": "stdout",
     "output_type": "stream",
     "text": [
      "unknown: 0, Unknown: 0, undefined: 0, Undefined: 0\n"
     ]
    }
   ],
   "source": [
    "print(count_unknown_undefined_customers(col='Active'))"
   ],
   "metadata": {
    "collapsed": false,
    "pycharm": {
     "name": "#%%\n"
    }
   }
  },
  {
   "cell_type": "code",
   "execution_count": 43,
   "outputs": [
    {
     "name": "stdout",
     "output_type": "stream",
     "text": [
      "unique customer id's: 1371980, total_customers: 1371980\n"
     ]
    }
   ],
   "source": [
    "print(f'unique customer id\\'s: {customers[\"customer_id\"].unique().shape[0]}, total_customers: {total_customers}')"
   ],
   "metadata": {
    "collapsed": false,
    "pycharm": {
     "name": "#%%\n"
    }
   }
  },
  {
   "cell_type": "markdown",
   "source": [
    "## Transactions"
   ],
   "metadata": {
    "collapsed": false,
    "pycharm": {
     "name": "#%% md\n"
    }
   }
  },
  {
   "cell_type": "code",
   "execution_count": 5,
   "outputs": [
    {
     "name": "stdout",
     "output_type": "stream",
     "text": [
      "<class 'pandas.core.frame.DataFrame'>\n",
      "RangeIndex: 31788324 entries, 0 to 31788323\n",
      "Data columns (total 5 columns):\n",
      " #   Column            Dtype  \n",
      "---  ------            -----  \n",
      " 0   t_dat             object \n",
      " 1   customer_id       object \n",
      " 2   article_id        int64  \n",
      " 3   price             float64\n",
      " 4   sales_channel_id  int64  \n",
      "dtypes: float64(1), int64(2), object(2)\n",
      "memory usage: 1.2+ GB\n"
     ]
    }
   ],
   "source": [
    "transactions.info()"
   ],
   "metadata": {
    "collapsed": false,
    "pycharm": {
     "name": "#%%\n"
    }
   }
  },
  {
   "cell_type": "code",
   "execution_count": 22,
   "outputs": [
    {
     "name": "stdout",
     "output_type": "stream",
     "text": [
      "Total transactions: 31788324\n",
      "0.0% have no t_dat\n",
      "0.0% have no customer_id\n",
      "0.0% have no article_id\n",
      "0.0% have no price\n",
      "0.0% have no sales_channel_id\n"
     ]
    }
   ],
   "source": [
    "total_transactions = transactions.shape[0]\n",
    "print('Total transactions:', total_transactions)\n",
    "for column in transactions.columns.to_list():\n",
    "    print(f'{(transactions[column].isna().sum() / total_transactions)*100}% have no {column}')"
   ],
   "metadata": {
    "collapsed": false,
    "pycharm": {
     "name": "#%%\n"
    }
   }
  },
  {
   "cell_type": "code",
   "execution_count": 7,
   "outputs": [
    {
     "data": {
      "text/plain": "count       31788324\nunique           734\ntop       2019-09-28\nfreq          198622\nName: t_dat, dtype: object"
     },
     "execution_count": 7,
     "metadata": {},
     "output_type": "execute_result"
    }
   ],
   "source": [
    "transactions['t_dat'].describe()"
   ],
   "metadata": {
    "collapsed": false,
    "pycharm": {
     "name": "#%%\n"
    }
   }
  },
  {
   "cell_type": "code",
   "execution_count": 8,
   "outputs": [
    {
     "data": {
      "text/plain": "'2018-09-20'"
     },
     "execution_count": 8,
     "metadata": {},
     "output_type": "execute_result"
    }
   ],
   "source": [
    "transactions['t_dat'].min()"
   ],
   "metadata": {
    "collapsed": false,
    "pycharm": {
     "name": "#%%\n"
    }
   }
  },
  {
   "cell_type": "code",
   "execution_count": 9,
   "outputs": [
    {
     "data": {
      "text/plain": "'2020-09-22'"
     },
     "execution_count": 9,
     "metadata": {},
     "output_type": "execute_result"
    }
   ],
   "source": [
    "transactions['t_dat'].max()"
   ],
   "metadata": {
    "collapsed": false,
    "pycharm": {
     "name": "#%%\n"
    }
   }
  },
  {
   "cell_type": "code",
   "execution_count": 16,
   "outputs": [
    {
     "data": {
      "text/plain": "<AxesSubplot:>"
     },
     "execution_count": 16,
     "metadata": {},
     "output_type": "execute_result"
    },
    {
     "data": {
      "text/plain": "<Figure size 640x480 with 1 Axes>",
      "image/png": "[encoded data removed]"
     },
     "metadata": {},
     "output_type": "display_data"
    }
   ],
   "source": [
    "value_counts = transactions['t_dat'].value_counts()\n",
    "# for i in range(int(min(transactions[\"age\"]))):\n",
    "#     value_counts[float(i)] = 0\n",
    "value_counts.sort_index().plot.bar(xticks=[])"
   ],
   "metadata": {
    "collapsed": false,
    "pycharm": {
     "name": "#%%\n"
    }
   }
  },
  {
   "cell_type": "code",
   "execution_count": 19,
   "outputs": [
    {
     "data": {
      "text/plain": "2019-09-28    198622\n2020-04-11    162799\n2019-11-29    160875\n2018-11-23    142018\n2018-09-29    141700\n               ...  \n2019-01-01     18145\n2018-09-22     17635\n2018-12-25     14799\n2019-12-25     13637\n2020-01-01     12760\nName: t_dat, Length: 734, dtype: int64"
     },
     "execution_count": 19,
     "metadata": {},
     "output_type": "execute_result"
    }
   ],
   "source": [
    "value_counts.sort_values(ascending=False)"
   ],
   "metadata": {
    "collapsed": false,
    "pycharm": {
     "name": "#%%\n"
    }
   }
  },
  {
   "cell_type": "code",
   "execution_count": 35,
   "outputs": [],
   "source": [
    "def count_unknown_undefined_transactions(col):\n",
    "    unknown_undefined = ['unknown', 'Unknown', 'undefined', 'Undefined', 'none', 'None']\n",
    "    result = []\n",
    "    for value in unknown_undefined:\n",
    "        if value in transactions[col].value_counts().index:\n",
    "            result.append(str(transactions[col].value_counts()[value]))\n",
    "        else:\n",
    "            result.append(str(0))\n",
    "    result = [\": \".join(value) for value in zip(unknown_undefined, result)]\n",
    "    return \", \".join(result)"
   ],
   "metadata": {
    "collapsed": false,
    "pycharm": {
     "name": "#%%\n"
    }
   }
  },
  {
   "cell_type": "code",
   "execution_count": 36,
   "outputs": [
    {
     "name": "stdout",
     "output_type": "stream",
     "text": [
      "unknown: 0, Unknown: 0, undefined: 0, Undefined: 0, none: 0, None: 0\n"
     ]
    }
   ],
   "source": [
    "print(count_unknown_undefined_transactions(col='t_dat'))"
   ],
   "metadata": {
    "collapsed": false,
    "pycharm": {
     "name": "#%%\n"
    }
   }
  },
  {
   "cell_type": "code",
   "execution_count": 20,
   "outputs": [
    {
     "data": {
      "text/plain": "count    3.178832e+07\nmean     2.782927e-02\nstd      1.918113e-02\nmin      1.694915e-05\n25%      1.581356e-02\n50%      2.540678e-02\n75%      3.388136e-02\nmax      5.915254e-01\nName: price, dtype: float64"
     },
     "execution_count": 20,
     "metadata": {},
     "output_type": "execute_result"
    }
   ],
   "source": [
    "transactions['price'].describe()"
   ],
   "metadata": {
    "collapsed": false,
    "pycharm": {
     "name": "#%%\n"
    }
   }
  },
  {
   "cell_type": "code",
   "execution_count": 24,
   "outputs": [
    {
     "data": {
      "text/plain": "1.694915254237288e-05"
     },
     "execution_count": 24,
     "metadata": {},
     "output_type": "execute_result"
    }
   ],
   "source": [
    "# value_counts = transactions['price'].value_counts()\n",
    "# value_counts.sort_index()\n",
    "transactions['price'].min()"
   ],
   "metadata": {
    "collapsed": false,
    "pycharm": {
     "name": "#%%\n"
    }
   }
  },
  {
   "cell_type": "code",
   "execution_count": 25,
   "outputs": [
    {
     "data": {
      "text/plain": "0.5915254237288136"
     },
     "execution_count": 25,
     "metadata": {},
     "output_type": "execute_result"
    }
   ],
   "source": [
    "transactions['price'].max()"
   ],
   "metadata": {
    "collapsed": false,
    "pycharm": {
     "name": "#%%\n"
    }
   }
  },
  {
   "cell_type": "code",
   "execution_count": 37,
   "outputs": [
    {
     "name": "stdout",
     "output_type": "stream",
     "text": [
      "unknown: 0, Unknown: 0, undefined: 0, Undefined: 0, none: 0, None: 0\n"
     ]
    }
   ],
   "source": [
    "print(count_unknown_undefined_transactions(col='price'))"
   ],
   "metadata": {
    "collapsed": false,
    "pycharm": {
     "name": "#%%\n"
    }
   }
  },
  {
   "cell_type": "code",
   "execution_count": 42,
   "outputs": [
    {
     "data": {
      "text/plain": "count                                              31788324\nunique                                              1362281\ntop       be1981ab818cf4ef6765b2ecaea7a2cbf14ccd6e8a7ee9...\nfreq                                                   1895\nName: customer_id, dtype: object"
     },
     "execution_count": 42,
     "metadata": {},
     "output_type": "execute_result"
    }
   ],
   "source": [
    "transactions['customer_id'].describe()"
   ],
   "metadata": {
    "collapsed": false,
    "pycharm": {
     "name": "#%%\n"
    }
   }
  },
  {
   "cell_type": "code",
   "execution_count": 48,
   "outputs": [
    {
     "name": "stdout",
     "output_type": "stream",
     "text": [
      "Mean purchases per user: 23.334630667241193\n"
     ]
    }
   ],
   "source": [
    "mean_purchases_per_user = transactions['customer_id'].count() / transactions['customer_id'].nunique()\n",
    "print('Mean # transactions per user:', mean_purchases_per_user)"
   ],
   "metadata": {
    "collapsed": false,
    "pycharm": {
     "name": "#%%\n"
    }
   }
  },
  {
   "cell_type": "code",
   "execution_count": 54,
   "outputs": [
    {
     "name": "stdout",
     "output_type": "stream",
     "text": [
      "min # transactions 1, min # transactions 1895\n"
     ]
    }
   ],
   "source": [
    "print(f'min # transactions {transactions[\"customer_id\"].value_counts().min()}, min # transactions {transactions[\"customer_id\"].value_counts().max()}')"
   ],
   "metadata": {
    "collapsed": false,
    "pycharm": {
     "name": "#%%\n"
    }
   }
  },
  {
   "cell_type": "code",
   "execution_count": 58,
   "outputs": [
    {
     "name": "stdout",
     "output_type": "stream",
     "text": [
      "[0, 100, 200, 300, 400, 500, 600, 700, 800, 900, 1000, 1100, 1200, 1300, 1400, 1500, 1600, 1700, 1800]\n"
     ]
    }
   ],
   "source": [
    "result = []\n",
    "for i in range(0, 1900, 100):\n",
    "    result.append(i)\n",
    "print(result)"
   ],
   "metadata": {
    "collapsed": false,
    "pycharm": {
     "name": "#%%\n"
    }
   }
  },
  {
   "cell_type": "code",
   "execution_count": 64,
   "outputs": [
    {
     "name": "stdout",
     "output_type": "stream",
     "text": [
      "1                NaN\n",
      "2                NaN\n",
      "3                NaN\n",
      "4                NaN\n",
      "5                NaN\n",
      "            ...     \n",
      "681     (0.0, 100.0]\n",
      "684     (0.0, 100.0]\n",
      "685     (0.0, 100.0]\n",
      "686     (0.0, 100.0]\n",
      "1895    (0.0, 100.0]\n",
      "Name: customer_id, Length: 747, dtype: category\n",
      "Categories (18, interval[int64, right]): [(0, 100] < (100, 200] < (200, 300] < (300, 400] ... (1400, 1500] < (1500, 1600] < (1600, 1700] < (1700, 1800]]\n"
     ]
    }
   ],
   "source": [
    "bins = pd.cut(transactions['customer_id'].value_counts().value_counts(), bins=result)\n",
    "print(bins)"
   ],
   "metadata": {
    "collapsed": false,
    "pycharm": {
     "name": "#%%\n"
    }
   }
  },
  {
   "cell_type": "code",
   "execution_count": 63,
   "outputs": [
    {
     "data": {
      "text/plain": "1       131514\n2       127441\n3        95686\n4        82082\n5        64635\n         ...  \n681          1\n684          1\n685          1\n686          1\n1895         1\nName: customer_id, Length: 747, dtype: int64"
     },
     "execution_count": 63,
     "metadata": {},
     "output_type": "execute_result"
    }
   ],
   "source": [
    "transactions['customer_id'].value_counts().value_counts()"
   ],
   "metadata": {
    "collapsed": false,
    "pycharm": {
     "name": "#%%\n"
    }
   }
  },
  {
   "cell_type": "code",
   "execution_count": 66,
   "outputs": [
    {
     "data": {
      "text/plain": "<AxesSubplot:>"
     },
     "execution_count": 66,
     "metadata": {},
     "output_type": "execute_result"
    },
    {
     "data": {
      "text/plain": "<Figure size 640x480 with 1 Axes>",
      "image/png": "[encoded data removed]"
     },
     "metadata": {},
     "output_type": "display_data"
    }
   ],
   "source": [
    "# bins = pd.cut(transactions['customer_id'].value_counts().value_counts(), bins=result)\n",
    "transactions['customer_id'].value_counts().value_counts().plot.bar(xticks=[])"
   ],
   "metadata": {
    "collapsed": false,
    "pycharm": {
     "name": "#%%\n"
    }
   }
  },
  {
   "cell_type": "code",
   "execution_count": 73,
   "outputs": [
    {
     "data": {
      "text/plain": "count    1.362281e+06\nmean     2.333463e+01\nstd      3.924225e+01\nmin      1.000000e+00\n25%      3.000000e+00\n50%      9.000000e+00\n75%      2.700000e+01\nmax      1.895000e+03\nName: customer_id, dtype: float64"
     },
     "execution_count": 73,
     "metadata": {},
     "output_type": "execute_result"
    }
   ],
   "source": [
    "transactions['customer_id'].value_counts().describe()"
   ],
   "metadata": {
    "collapsed": false,
    "pycharm": {
     "name": "#%%\n"
    }
   }
  },
  {
   "cell_type": "code",
   "execution_count": 19,
   "outputs": [
    {
     "name": "stderr",
     "output_type": "stream",
     "text": [
      "/tmp/ipykernel_66140/518155450.py:1: FutureWarning: The series.append method is deprecated and will be removed from pandas in a future version. Use pandas.concat instead.\n",
      "  occ = customers['customer_id'].append(transactions['customer_id']).value_counts()\n"
     ]
    },
    {
     "name": "stdout",
     "output_type": "stream",
     "text": [
      "Index(['be1981ab818cf4ef6765b2ecaea7a2cbf14ccd6e8a7ee985513d9e8e53c6d91b',\n",
      "       'b4db5e5259234574edfff958e170fe3a5e13b6f146752ca066abca3c156acc71',\n",
      "       '49beaacac0c7801c2ce2d189efe525fe80b5d37e46ed05b50a4cd88e34d0748f',\n",
      "       'a65f77281a528bf5c1e9f270141d601d116e1df33bf9df512f495ee06647a9cc',\n",
      "       'cd04ec2726dd58a8c753e0d6423e57716fd9ebcf2f14ed6012e7e5bea016b4d6',\n",
      "       '55d15396193dfd45836af3a6269a079efea339e875eff42cc0c228b002548a9d',\n",
      "       'c140410d72a41ee5e2e3ba3d7f5a860f337f1b5e41c27cf9bda5517c8774f8fa',\n",
      "       '8df45859ccd71ef1e48e2ee9d1c65d5728c31c46ae957d659fa4e5c3af6cc076',\n",
      "       '03d0011487606c37c1b1ed147fc72f285a50c05f00b9712e0fc3da400c864296',\n",
      "       '6cc121e5cc202d2bf344ffe795002bdbf87178054bcda2e57161f0ef810a4b55',\n",
      "       ...\n",
      "       '8f722caf098ff12d7da4272bb8b30df08f79603d7d08ad44f6a5483679c93acf',\n",
      "       'dd458c15e8332278214431a458a038140bfe51b6dadadc21f5ccb2cc03ba3730',\n",
      "       'de87e2c4e6d34487db6cd8c1bd0edc83f3e99299e4ec7242413babf645f51359',\n",
      "       'dd457afc1f864a0ddc017c0d99e46f1bbfef5fa41e808af44ef0c8ce2a8e5883',\n",
      "       '8d10c88a2f02405b480fefd5dce1fcb93dd53cf765aff31e2d685953ef04c0c1',\n",
      "       '0eb0de0537cdc512508c2b5a8d03fa4f0feae7e2500b38039100f37cb1e7dc51',\n",
      "       '8d0e9fb93010dd7946455e5e9d07ec320e98bfa19ba93ed0e69269c3fc77c057',\n",
      "       '0eaff62552cbdcbab338760495de78131b9b02b4c237fac2d91bf3500e41ce19',\n",
      "       '327f6d2f9f227039590106f7bf59692f9aedddf8624b353dd49c345678b2017c',\n",
      "       '8d0c613810c26cc16984cfab9d023975eb93ff8cd2cc2e8aa044c98c5c9a3276'],\n",
      "      dtype='object', length=1362281)\n"
     ]
    }
   ],
   "source": [
    "occ = customers['customer_id'].append(transactions['customer_id']).value_counts()\n",
    "users = occ[occ > 1].index\n",
    "print(users)"
   ],
   "metadata": {
    "collapsed": false,
    "pycharm": {
     "name": "#%%\n"
    }
   }
  },
  {
   "cell_type": "code",
   "execution_count": 21,
   "outputs": [
    {
     "name": "stdout",
     "output_type": "stream",
     "text": [
      "0.7069345034184171% of customers has no transaction\n"
     ]
    }
   ],
   "source": [
    "print(f\"{(customers[~customers['customer_id'].isin(transactions['customer_id'])].shape[0] / customers.shape[0])*100}% of customers has no transaction\")"
   ],
   "metadata": {
    "collapsed": false,
    "pycharm": {
     "name": "#%%\n"
    }
   }
  },
  {
   "cell_type": "code",
   "execution_count": 39,
   "outputs": [
    {
     "name": "stdout",
     "output_type": "stream",
     "text": [
      "unknown: 0, Unknown: 0, undefined: 0, Undefined: 0, none: 0, None: 0\n"
     ]
    }
   ],
   "source": [
    "print(count_unknown_undefined_transactions(col='customer_id'))"
   ],
   "metadata": {
    "collapsed": false,
    "pycharm": {
     "name": "#%%\n"
    }
   }
  },
  {
   "cell_type": "code",
   "execution_count": 40,
   "outputs": [
    {
     "name": "stdout",
     "output_type": "stream",
     "text": [
      "unknown: 0, Unknown: 0, undefined: 0, Undefined: 0, none: 0, None: 0\n"
     ]
    }
   ],
   "source": [
    "print(count_unknown_undefined_transactions(col='article_id'))"
   ],
   "metadata": {
    "collapsed": false,
    "pycharm": {
     "name": "#%%\n"
    }
   }
  },
  {
   "cell_type": "code",
   "execution_count": 10,
   "outputs": [
    {
     "data": {
      "text/plain": "count    104547.000000\nmean        304.057735\nstd         791.266060\nmin           1.000000\n25%          14.000000\n50%          65.000000\n75%         286.000000\nmax       50287.000000\nName: article_id, dtype: float64"
     },
     "execution_count": 10,
     "metadata": {},
     "output_type": "execute_result"
    }
   ],
   "source": [
    "transactions['article_id'].value_counts().describe()"
   ],
   "metadata": {
    "collapsed": false,
    "pycharm": {
     "name": "#%%\n"
    }
   }
  },
  {
   "cell_type": "code",
   "execution_count": 19,
   "outputs": [
    {
     "data": {
      "text/plain": "706016001    50287\n706016002    35043\n372860001    31718\n610776002    30199\n759871002    26329\n             ...  \n520736002        1\n619777003        1\n586904003        1\n512385003        1\n533261032        1\nName: article_id, Length: 104547, dtype: int64"
     },
     "execution_count": 19,
     "metadata": {},
     "output_type": "execute_result"
    }
   ],
   "source": [
    "transactions['article_id'].value_counts()"
   ],
   "metadata": {
    "collapsed": false,
    "pycharm": {
     "name": "#%%\n"
    }
   }
  },
  {
   "cell_type": "code",
   "execution_count": 20,
   "outputs": [
    {
     "name": "stdout",
     "output_type": "stream",
     "text": [
      "0.9427526482348259% of articles has no transaction\n"
     ]
    }
   ],
   "source": [
    "print(f\"{(articles[~articles['article_id'].isin(transactions['article_id'])].shape[0] / articles.shape[0])*100}% of articles has no transaction\")"
   ],
   "metadata": {
    "collapsed": false,
    "pycharm": {
     "name": "#%%\n"
    }
   }
  },
  {
   "cell_type": "code",
   "execution_count": 41,
   "outputs": [
    {
     "name": "stdout",
     "output_type": "stream",
     "text": [
      "unknown: 0, Unknown: 0, undefined: 0, Undefined: 0, none: 0, None: 0\n"
     ]
    }
   ],
   "source": [
    "print(count_unknown_undefined_transactions(col='sales_channel_id'))"
   ],
   "metadata": {
    "collapsed": false,
    "pycharm": {
     "name": "#%%\n"
    }
   }
  },
  {
   "cell_type": "code",
   "execution_count": 5,
   "outputs": [
    {
     "data": {
      "text/plain": "104547"
     },
     "execution_count": 5,
     "metadata": {},
     "output_type": "execute_result"
    }
   ],
   "source": [
    "transactions['article_id'].nunique()"
   ],
   "metadata": {
    "collapsed": false,
    "pycharm": {
     "name": "#%%\n"
    }
   }
  },
  {
   "cell_type": "code",
   "execution_count": 8,
   "outputs": [
    {
     "data": {
      "text/plain": "2"
     },
     "execution_count": 8,
     "metadata": {},
     "output_type": "execute_result"
    }
   ],
   "source": [
    "transactions['sales_channel_id'].nunique()"
   ],
   "metadata": {
    "collapsed": false,
    "pycharm": {
     "name": "#%%\n"
    }
   }
  }
 ],
 "metadata": {
  "kernelspec": {
   "display_name": "Python 3",
   "language": "python",
   "name": "python3"
  },
  "language_info": {
   "codemirror_mode": {
    "name": "ipython",
    "version": 2
   },
   "file_extension": ".py",
   "mimetype": "text/x-python",
   "name": "python",
   "nbconvert_exporter": "python",
   "pygments_lexer": "ipython2",
   "version": "2.7.6"
  }
 },
 "nbformat": 4,
 "nbformat_minor": 0
}