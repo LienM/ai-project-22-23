{
  "nbformat": 4,
  "nbformat_minor": 0,
  "metadata": {
    "colab": {
      "provenance": []
    },
    "kernelspec": {
      "name": "python3",
      "display_name": "Python 3"
    },
    "language_info": {
      "name": "python"
    }
  },
  "cells": [
    {
      "cell_type": "markdown",
      "source": [
        "Download dataset from kaggle"
      ],
      "metadata": {
        "id": "SvArVM5a_2sQ"
      }
    },
    {
      "cell_type": "code",
      "execution_count": null,
      "metadata": {
        "id": "M06v1Et49oiT"
      },
      "outputs": [],
      "source": [
        "!mkdir ~/.kaggle/\n",
        "!cp kaggle.json ~/.kaggle/kaggle.json\n",
        "!mkdir data\n",
        "%cd data\n",
        "!kaggle competitions download -c h-and-m-personalized-fashion-recommendations\n",
        "!unzip h-and-m-personalized-fashion-recommendations.zip\n",
        "!rm -r images/\n",
        "!rm h-and-m-personalized-fashion-recommendations.zip\n",
        "%cd ../"
      ]
    },
    {
      "cell_type": "code",
      "source": [
        "import pandas as pd\n",
        "import matplotlib.pyplot as plt\n",
        "import datetime"
      ],
      "metadata": {
        "id": "-_wXFvXkC-jG"
      },
      "execution_count": 19,
      "outputs": []
    },
    {
      "cell_type": "code",
      "source": [
        "articles_file = \"data/articles.csv\"\n",
        "customers_file = \"data/customers.csv\"\n",
        "transactions_file = \"data/transactions_train.csv\""
      ],
      "metadata": {
        "id": "ZMvrWHS7Cchy"
      },
      "execution_count": 7,
      "outputs": []
    },
    {
      "cell_type": "code",
      "source": [
        "articles = pd.read_csv(articles_file)\n",
        "customers = pd.read_csv(customers_file)\n",
        "transactions = pd.read_csv(transactions_file)"
      ],
      "metadata": {
        "id": "7dX0TTQhC9el"
      },
      "execution_count": 10,
      "outputs": []
    },
    {
      "cell_type": "code",
      "source": [
        "transactions = transactions[[\"customer_id\", \"article_id\", \"t_dat\"]]"
      ],
      "metadata": {
        "id": "5ZFa7z5RIZt0"
      },
      "execution_count": 22,
      "outputs": []
    },
    {
      "cell_type": "code",
      "source": [
        "x = []\n",
        "y = []\n",
        "plt.close()\n",
        "\n",
        "for n_weeks in range(1, 60):\n",
        "  x.append(n_weeks)\n",
        "  last_day = transactions['t_dat'].max()\n",
        "  last_day_date = [int(i) for i in last_day.split('-')]\n",
        "  last_day_date = datetime.date(last_day_date[0], last_day_date[1], last_day_date[2])\n",
        "  min_date = last_day_date - datetime.timedelta(weeks=n_weeks)\n",
        "  min_date = min_date.strftime('%Y-%m-%d')\n",
        "  df_view = transactions['t_dat'] >= min_date\n",
        "  active_customers = transactions[df_view][\"customer_id\"].unique()\n",
        "  y.append(len(active_customers)/len(customers))\n",
        "\n",
        "plt.plot(x, y)\n",
        "plt.show()"
      ],
      "metadata": {
        "colab": {
          "base_uri": "https://localhost:8080/",
          "height": 265
        },
        "id": "DNmZRijDC8_a",
        "outputId": "79209c61-edbb-4ce2-ac99-0cdae00281e4"
      },
      "execution_count": 26,
      "outputs": [
        {
          "output_type": "display_data",
          "data": {
            "text/plain": [
              "<Figure size 432x288 with 1 Axes>"
            ],
            "image/png": "[encoded data removed]"
          },
          "metadata": {
            "needs_background": "light"
          }
        }
      ]
    },
    {
      "cell_type": "code",
      "source": [
        "print(f\"during  the last 52 weeks, {y[51]*100}% of customers have at least one purchase\")"
      ],
      "metadata": {
        "colab": {
          "base_uri": "https://localhost:8080/"
        },
        "id": "DzIXurKCU6hC",
        "outputId": "11f98ddc-f3ef-43f3-9747-0453e898d5ee"
      },
      "execution_count": 27,
      "outputs": [
        {
          "output_type": "stream",
          "name": "stdout",
          "text": [
            "during  the last 52 weeks, 72.41300893599032% of customers have at least one purchase\n"
          ]
        }
      ]
    },
    {
      "cell_type": "code",
      "source": [
        "first_purchases = transactions.sort_values(by=\"t_dat\").groupby('customer_id').first()\n",
        "first_purchase_counts = first_purchases[\"article_id\"].value_counts()\n",
        "top_first_purchases = first_purchase_counts[:20].index"
      ],
      "metadata": {
        "id": "wC1jApTnXIaN"
      },
      "execution_count": 41,
      "outputs": []
    },
    {
      "cell_type": "code",
      "source": [
        "print(top_first_purchases)"
      ],
      "metadata": {
        "colab": {
          "base_uri": "https://localhost:8080/"
        },
        "id": "KotK1_b4Xo0x",
        "outputId": "a1af0ab8-0c13-40b2-b81e-389f1e2772bf"
      },
      "execution_count": 42,
      "outputs": [
        {
          "output_type": "stream",
          "name": "stdout",
          "text": [
            "Int64Index([399223001, 568601006, 706016001, 706016002, 372860001, 399256001,\n",
            "            610776002, 539723005, 573716012, 484398001, 673396002, 507909001,\n",
            "            673677002, 507910001, 562245001, 539723001, 464297007, 579541001,\n",
            "            608776002, 562245018],\n",
            "           dtype='int64')\n"
          ]
        }
      ]
    }
  ]
}