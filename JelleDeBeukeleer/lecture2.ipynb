{
 "cells": [
  {
   "cell_type": "markdown",
   "metadata": {},
   "source": [
    "# Lecture 2: Introduction to Feature Engineering"
   ]
  },
  {
   "cell_type": "markdown",
   "metadata": {},
   "source": [
    "## Setup"
   ]
  },
  {
   "cell_type": "code",
   "execution_count": 1,
   "metadata": {
    "pycharm": {
     "is_executing": false
    }
   },
   "outputs": [],
   "source": [
    "import numpy as np \n",
    "import pandas as pd\n",
    "import random\n",
    "from sklearn.linear_model import LogisticRegression\n",
    "from sklearn.model_selection import train_test_split\n",
    "from sklearn.metrics import classification_report\n",
    "from sklearn import preprocessing"
   ]
  },
  {
   "cell_type": "code",
   "execution_count": 2,
   "metadata": {
    "pycharm": {
     "is_executing": false
    }
   },
   "outputs": [],
   "source": [
    "articles = pd.read_csv('../data/articles.csv')\n",
    "customers = pd.read_csv('../data/customers.csv')\n",
    "sample_submisison = pd.read_csv('../data/sample_submission.csv')\n",
    "transactions = pd.read_csv('../data/transactions_train.csv')"
   ]
  },
  {
   "cell_type": "markdown",
   "metadata": {},
   "source": [
    "## The H&M Dataset"
   ]
  },
  {
   "cell_type": "code",
   "execution_count": 3,
   "metadata": {
    "pycharm": {
     "is_executing": false
    }
   },
   "outputs": [
    {
     "name": "stdout",
     "text": [
      "<class 'pandas.core.frame.DataFrame'>\nRangeIndex: 105542 entries, 0 to 105541\nData columns (total 25 columns):\n #   Column                        Non-Null Count   Dtype \n---  ------                        --------------   ----- \n 0   article_id                    105542 non-null  int64 \n 1   product_code                  105542 non-null  int64 \n 2   prod_name                     105542 non-null  object\n 3   product_type_no               105542 non-null  int64 \n 4   product_type_name             105542 non-null  object\n 5   product_group_name            105542 non-null  object\n 6   graphical_appearance_no       105542 non-null  int64 \n 7   graphical_appearance_name     105542 non-null  object\n 8   colour_group_code             105542 non-null  int64 \n 9   colour_group_name             105542 non-null  object\n 10  perceived_colour_value_id     105542 non-null  int64 \n 11  perceived_colour_value_name   105542 non-null  object\n 12  perceived_colour_master_id    105542 non-null  int64 \n 13  perceived_colour_master_name  105542 non-null  object\n 14  department_no                 105542 non-null  int64 \n 15  department_name               105542 non-null  object\n 16  index_code                    105542 non-null  object\n 17  index_name                    105542 non-null  object\n 18  index_group_no                105542 non-null  int64 \n 19  index_group_name              105542 non-null  object\n 20  section_no                    105542 non-null  int64 \n 21  section_name                  105542 non-null  object\n 22  garment_group_no              105542 non-null  int64 \n 23  garment_group_name            105542 non-null  object\n 24  detail_desc                   105126 non-null  object\ndtypes: int64(11), object(14)\nmemory usage: 20.1+ MB\n"
     ],
     "output_type": "stream"
    }
   ],
   "source": [
    "articles.info()"
   ]
  },
  {
   "cell_type": "code",
   "execution_count": 4,
   "metadata": {
    "pycharm": {
     "is_executing": false
    }
   },
   "outputs": [
    {
     "name": "stdout",
     "text": [
      "<class 'pandas.core.frame.DataFrame'>\nRangeIndex: 1371980 entries, 0 to 1371979\nData columns (total 7 columns):\n #   Column                  Non-Null Count    Dtype  \n---  ------                  --------------    -----  \n 0   customer_id             1371980 non-null  object \n 1   FN                      476930 non-null   float64\n 2   Active                  464404 non-null   float64\n 3   club_member_status      1365918 non-null  object \n 4   fashion_news_frequency  1355971 non-null  object \n 5   age                     1356119 non-null  float64\n 6   postal_code             1371980 non-null  object \ndtypes: float64(3), object(4)\nmemory usage: 73.3+ MB\n"
     ],
     "output_type": "stream"
    }
   ],
   "source": [
    "customers.info()"
   ]
  },
  {
   "cell_type": "code",
   "execution_count": 5,
   "metadata": {
    "pycharm": {
     "is_executing": false
    }
   },
   "outputs": [
    {
     "name": "stdout",
     "text": [
      "<class 'pandas.core.frame.DataFrame'>\nRangeIndex: 31788324 entries, 0 to 31788323\nData columns (total 5 columns):\n #   Column            Dtype  \n---  ------            -----  \n 0   t_dat             object \n 1   customer_id       object \n 2   article_id        int64  \n 3   price             float64\n 4   sales_channel_id  int64  \ndtypes: float64(1), int64(2), object(2)\nmemory usage: 1.2+ GB\n"
     ],
     "output_type": "stream"
    }
   ],
   "source": [
    "transactions.info()"
   ]
  },
  {
   "cell_type": "code",
   "execution_count": 6,
   "metadata": {
    "pycharm": {
     "is_executing": false
    }
   },
   "outputs": [],
   "source": [
    "# X = transactions.merge(customers, how='inner', on='customer_id')\n",
    "# X = X.merge(articles, how='inner', on='article_id')"
   ]
  },
  {
   "cell_type": "markdown",
   "metadata": {},
   "source": [
    "### Creating Samples \n",
    "If you would rather work with samples instead of the whole dataset (while prototyping your code). You can use the code below:"
   ]
  },
  {
   "cell_type": "code",
   "execution_count": 7,
   "metadata": {
    "pycharm": {
     "is_executing": false
    }
   },
   "outputs": [
    {
     "name": "stdout",
     "text": [
      "0.001\n",
      "0.01\n",
      "0.05\n"
     ],
     "output_type": "stream"
    }
   ],
   "source": [
    "# Adapted from: https://www.kaggle.com/code/paweljankiewicz/hm-create-dataset-samples\n",
    "# This extracts three sampled datasets, containing 0.1%, 1% and 5% of all users and their transactions, and the associated articles.\n",
    "for sample_repr, sample in [(\"01\", 0.001), (\"1\", 0.01), (\"5\", 0.05)]:\n",
    "    print(sample)\n",
    "    customers_sample = customers.sample(int(customers.shape[0]*sample), replace=False)\n",
    "    customers_sample_ids = set(customers_sample[\"customer_id\"])\n",
    "    transactions_sample = transactions[transactions[\"customer_id\"].isin(customers_sample_ids)]\n",
    "    articles_sample_ids = set(transactions_sample[\"article_id\"])\n",
    "    articles_sample = articles[articles[\"article_id\"].isin(articles_sample_ids)]\n",
    "    customers_sample.to_csv(f\"../data/customers_sample{sample_repr}.csv.gz\", index=False)\n",
    "    transactions_sample.to_csv(f\"../data/transactions_sample{sample_repr}.csv.gz\", index=False)\n",
    "    articles_sample.to_csv(f\"../data/articles_sample{sample_repr}.csv.gz\", index=False)"
   ]
  },
  {
   "cell_type": "code",
   "execution_count": 8,
   "metadata": {
    "pycharm": {
     "is_executing": false
    }
   },
   "outputs": [],
   "source": [
    "articles_sample = pd.read_csv('../data/articles_sample01.csv.gz')\n",
    "customers_sample = pd.read_csv('../data/customers_sample01.csv.gz')\n",
    "transactions_sample = pd.read_csv('../data/transactions_sample01.csv.gz')"
   ]
  },
  {
   "cell_type": "code",
   "execution_count": 9,
   "metadata": {
    "pycharm": {
     "is_executing": false
    }
   },
   "outputs": [
    {
     "name": "stdout",
     "text": [
      "<class 'pandas.core.frame.DataFrame'>\nRangeIndex: 1371 entries, 0 to 1370\nData columns (total 7 columns):\n #   Column                  Non-Null Count  Dtype  \n---  ------                  --------------  -----  \n 0   customer_id             1371 non-null   object \n 1   FN                      478 non-null    float64\n 2   Active                  469 non-null    float64\n 3   club_member_status      1362 non-null   object \n 4   fashion_news_frequency  1352 non-null   object \n 5   age                     1347 non-null   float64\n 6   postal_code             1371 non-null   object \ndtypes: float64(3), object(4)\nmemory usage: 75.1+ KB\n"
     ],
     "output_type": "stream"
    }
   ],
   "source": [
    "customers_sample.info()"
   ]
  },
  {
   "cell_type": "code",
   "execution_count": 10,
   "metadata": {
    "pycharm": {
     "is_executing": false
    }
   },
   "outputs": [
    {
     "name": "stdout",
     "text": [
      "<class 'pandas.core.frame.DataFrame'>\nRangeIndex: 32655 entries, 0 to 32654\nData columns (total 5 columns):\n #   Column            Non-Null Count  Dtype  \n---  ------            --------------  -----  \n 0   t_dat             32655 non-null  object \n 1   customer_id       32655 non-null  object \n 2   article_id        32655 non-null  int64  \n 3   price             32655 non-null  float64\n 4   sales_channel_id  32655 non-null  int64  \ndtypes: float64(1), int64(2), object(2)\nmemory usage: 1.2+ MB\n"
     ],
     "output_type": "stream"
    }
   ],
   "source": [
    "transactions_sample.info()"
   ]
  },
  {
   "cell_type": "markdown",
   "metadata": {},
   "source": [
    "## A Simplified Task: Binary Classification\n",
    "\n",
    "The task of predicting which 12 items users are most likely to buy in the next week is difficult to translate to a traditional classification machine learning setting. \n",
    "To obtain the 12 items a user is most likely to buy, we need to make predictions for all items (or the ones selected by a baseline) and select the 12 that have the highest predicted scores.\n",
    "\n",
    "In this assignment, we'll consider a simplified task: Predict whether a user ordered a single item or not, based on the features of the user and the item. \n",
    "We provide a baseline logistic regression model below, but haven't done much feature preprocessing or engineering!\n",
    "Initially, it is always best to focus your efforts on getting your features in the right shape and setting up the right validation scheme and baselines.\n",
    "Once you are sure that your features add value and your validation scheme is correct, then you typically move on to trying more elaborate models."
   ]
  },
  {
   "cell_type": "markdown",
   "metadata": {},
   "source": [
    "### Creating the Dataset"
   ]
  },
  {
   "cell_type": "code",
   "execution_count": 11,
   "metadata": {
    "pycharm": {
     "is_executing": false
    }
   },
   "outputs": [],
   "source": [
    "# If you'd rather use a sample. Uncomment the following code:\n",
    "transactions = transactions_sample\n",
    "customers = customers_sample\n",
    "articles = articles_sample"
   ]
  },
  {
   "cell_type": "code",
   "execution_count": 12,
   "metadata": {
    "pycharm": {
     "is_executing": false
    }
   },
   "outputs": [],
   "source": [
    "transactions['ordered'] = 1"
   ]
  },
  {
   "cell_type": "markdown",
   "metadata": {},
   "source": [
    "The problem setting is an example of a \"PU learning\" problem, i.e. only positives are labeled, everything else is unlabeled (and can be either positive or negative). \n",
    "Of course, we cannot train a classifier with just positive samples: The classifier will just learn that everything is positive.\n",
    "Therefore, we need to manually generate negative samples.\n",
    "\n",
    "Below, we use a simple random negative sampling strategy.\n",
    "We want to create a balanced dataset, meaning that we have just as many positives as negatives.\n",
    "This makes sure that the classifier will not benefit from predicting the positive/negative class more often than the other.\n",
    "Realistically, the amount of positive samples is of course many times smaller than the amount of unlabeled, possibly negative instances.\n",
    "\n",
    "\n",
    "If you want to try your hand at a more complex negative sampling strategy, you may want to check out this blog as a starting point: https://medium.com/mlearning-ai/overview-negative-sampling-on-recommendation-systems-230a051c6cd7.\n",
    "\n"
   ]
  },
  {
   "cell_type": "code",
   "execution_count": 13,
   "metadata": {
    "pycharm": {
     "is_executing": false
    }
   },
   "outputs": [
    {
     "data": {
      "text/plain": "        t_dat                                        customer_id  article_id  \\\n0  2018-09-20  01271359dce99de537d6a3fca3c4dfd3732b455ec5085d...   640182001   \n1  2018-09-20  01271359dce99de537d6a3fca3c4dfd3732b455ec5085d...   633685001   \n2  2018-09-20  01271359dce99de537d6a3fca3c4dfd3732b455ec5085d...   522561002   \n3  2018-09-20  01271359dce99de537d6a3fca3c4dfd3732b455ec5085d...   608483002   \n4  2018-09-20  0cc7e8c8bcbf1aade96932a0a5e0ce0efc37ee82e17c63...   456163021   \n\n      price  sales_channel_id  ordered  \n0  0.035576                 2        1  \n1  0.067780                 2        1  \n2  0.084729                 2        1  \n3  0.013542                 2        1  \n4  0.028797                 2        1  ",
      "text/html": "<div>\n<style scoped>\n    .dataframe tbody tr th:only-of-type {\n        vertical-align: middle;\n    }\n\n    .dataframe tbody tr th {\n        vertical-align: top;\n    }\n\n    .dataframe thead th {\n        text-align: right;\n    }\n</style>\n<table border=\"1\" class=\"dataframe\">\n  <thead>\n    <tr style=\"text-align: right;\">\n      <th></th>\n      <th>t_dat</th>\n      <th>customer_id</th>\n      <th>article_id</th>\n      <th>price</th>\n      <th>sales_channel_id</th>\n      <th>ordered</th>\n    </tr>\n  </thead>\n  <tbody>\n    <tr>\n      <th>0</th>\n      <td>2018-09-20</td>\n      <td>01271359dce99de537d6a3fca3c4dfd3732b455ec5085d...</td>\n      <td>640182001</td>\n      <td>0.035576</td>\n      <td>2</td>\n      <td>1</td>\n    </tr>\n    <tr>\n      <th>1</th>\n      <td>2018-09-20</td>\n      <td>01271359dce99de537d6a3fca3c4dfd3732b455ec5085d...</td>\n      <td>633685001</td>\n      <td>0.067780</td>\n      <td>2</td>\n      <td>1</td>\n    </tr>\n    <tr>\n      <th>2</th>\n      <td>2018-09-20</td>\n      <td>01271359dce99de537d6a3fca3c4dfd3732b455ec5085d...</td>\n      <td>522561002</td>\n      <td>0.084729</td>\n      <td>2</td>\n      <td>1</td>\n    </tr>\n    <tr>\n      <th>3</th>\n      <td>2018-09-20</td>\n      <td>01271359dce99de537d6a3fca3c4dfd3732b455ec5085d...</td>\n      <td>608483002</td>\n      <td>0.013542</td>\n      <td>2</td>\n      <td>1</td>\n    </tr>\n    <tr>\n      <th>4</th>\n      <td>2018-09-20</td>\n      <td>0cc7e8c8bcbf1aade96932a0a5e0ce0efc37ee82e17c63...</td>\n      <td>456163021</td>\n      <td>0.028797</td>\n      <td>2</td>\n      <td>1</td>\n    </tr>\n  </tbody>\n</table>\n</div>"
     },
     "metadata": {},
     "output_type": "execute_result",
     "execution_count": 13
    }
   ],
   "source": [
    "transactions.head()"
   ]
  },
  {
   "cell_type": "code",
   "execution_count": 14,
   "metadata": {
    "pycharm": {
     "is_executing": false
    }
   },
   "outputs": [],
   "source": [
    "# What's happening here? \n",
    "# We're creating negative samples. I.e. we're creating transactions that didn't actually occur.\n",
    "# First, we need to know which interactions did occur:\n",
    "positive_pairs = list(map(tuple, transactions[['customer_id', 'article_id']].drop_duplicates().values))"
   ]
  },
  {
   "cell_type": "code",
   "execution_count": 15,
   "metadata": {
    "pycharm": {
     "is_executing": false
    }
   },
   "outputs": [
    {
     "data": {
      "text/plain": "        t_dat                                        customer_id  article_id  \\\n0  2018-09-20  01271359dce99de537d6a3fca3c4dfd3732b455ec5085d...   640182001   \n1  2018-09-20  01271359dce99de537d6a3fca3c4dfd3732b455ec5085d...   633685001   \n2  2018-09-20  01271359dce99de537d6a3fca3c4dfd3732b455ec5085d...   522561002   \n3  2018-09-20  01271359dce99de537d6a3fca3c4dfd3732b455ec5085d...   608483002   \n4  2018-09-20  0cc7e8c8bcbf1aade96932a0a5e0ce0efc37ee82e17c63...   456163021   \n\n      price  sales_channel_id  ordered  \n0  0.035576                 2        1  \n1  0.067780                 2        1  \n2  0.084729                 2        1  \n3  0.013542                 2        1  \n4  0.028797                 2        1  ",
      "text/html": "<div>\n<style scoped>\n    .dataframe tbody tr th:only-of-type {\n        vertical-align: middle;\n    }\n\n    .dataframe tbody tr th {\n        vertical-align: top;\n    }\n\n    .dataframe thead th {\n        text-align: right;\n    }\n</style>\n<table border=\"1\" class=\"dataframe\">\n  <thead>\n    <tr style=\"text-align: right;\">\n      <th></th>\n      <th>t_dat</th>\n      <th>customer_id</th>\n      <th>article_id</th>\n      <th>price</th>\n      <th>sales_channel_id</th>\n      <th>ordered</th>\n    </tr>\n  </thead>\n  <tbody>\n    <tr>\n      <th>0</th>\n      <td>2018-09-20</td>\n      <td>01271359dce99de537d6a3fca3c4dfd3732b455ec5085d...</td>\n      <td>640182001</td>\n      <td>0.035576</td>\n      <td>2</td>\n      <td>1</td>\n    </tr>\n    <tr>\n      <th>1</th>\n      <td>2018-09-20</td>\n      <td>01271359dce99de537d6a3fca3c4dfd3732b455ec5085d...</td>\n      <td>633685001</td>\n      <td>0.067780</td>\n      <td>2</td>\n      <td>1</td>\n    </tr>\n    <tr>\n      <th>2</th>\n      <td>2018-09-20</td>\n      <td>01271359dce99de537d6a3fca3c4dfd3732b455ec5085d...</td>\n      <td>522561002</td>\n      <td>0.084729</td>\n      <td>2</td>\n      <td>1</td>\n    </tr>\n    <tr>\n      <th>3</th>\n      <td>2018-09-20</td>\n      <td>01271359dce99de537d6a3fca3c4dfd3732b455ec5085d...</td>\n      <td>608483002</td>\n      <td>0.013542</td>\n      <td>2</td>\n      <td>1</td>\n    </tr>\n    <tr>\n      <th>4</th>\n      <td>2018-09-20</td>\n      <td>0cc7e8c8bcbf1aade96932a0a5e0ce0efc37ee82e17c63...</td>\n      <td>456163021</td>\n      <td>0.028797</td>\n      <td>2</td>\n      <td>1</td>\n    </tr>\n  </tbody>\n</table>\n</div>"
     },
     "metadata": {},
     "output_type": "execute_result",
     "execution_count": 15
    }
   ],
   "source": [
    "# Then we need to know what every synthetic transaction should contain: a date, a customer_id, an article_id, price, sales_channel_id. We will set ordered = 0, as these transactions didn't really occur.\n",
    "transactions.head()"
   ]
  },
  {
   "cell_type": "code",
   "execution_count": 16,
   "metadata": {
    "pycharm": {
     "is_executing": false
    }
   },
   "outputs": [],
   "source": [
    "# Extract real values\n",
    "real_dates = transactions[\"t_dat\"].unique()\n",
    "real_customers = transactions[\"customer_id\"].unique()\n",
    "real_articles = transactions[\"article_id\"].unique()\n",
    "real_channels = transactions[\"sales_channel_id\"].unique()\n",
    "article_and_price = transactions[[\"article_id\",\"price\"]].drop_duplicates(\"article_id\").set_index(\"article_id\").squeeze()"
   ]
  },
  {
   "cell_type": "code",
   "execution_count": 17,
   "metadata": {
    "pycharm": {
     "is_executing": false
    }
   },
   "outputs": [
    {
     "name": "stdout",
     "text": [
      "32655\n"
     ],
     "output_type": "stream"
    }
   ],
   "source": [
    "# How many negatives do we need to sample?\n",
    "num_neg_pos = transactions.shape[0]\n",
    "print(num_neg_pos)"
   ]
  },
  {
   "cell_type": "code",
   "execution_count": 18,
   "metadata": {
    "pycharm": {
     "is_executing": false
    }
   },
   "outputs": [],
   "source": [
    "# Sampling negatives by selecting random users, articles, dates and sales channel:\n",
    "# Note: This is quite naive. Some articles may not even have been available at the date we are sampling.\n",
    "random.seed(42)\n",
    "\n",
    "# Afterwards, we need to remove potential duplicates, so we'll sample too many.\n",
    "num_neg_samples = int(num_neg_pos * 1.1)\n",
    "\n",
    "# Sample each of the independent attributes.\n",
    "neg_dates = np.random.choice(real_dates, size=num_neg_samples)\n",
    "neg_articles = np.random.choice(real_articles, size=num_neg_samples)\n",
    "neg_customers = np.random.choice(real_customers, size=num_neg_samples)\n",
    "neg_channels = np.random.choice(real_channels, size=num_neg_samples)\n",
    "ordered = np.array([0] * num_neg_samples)\n",
    "# Assign to every article a real price.\n",
    "neg_prices = article_and_price[neg_articles].values"
   ]
  },
  {
   "cell_type": "code",
   "execution_count": 19,
   "metadata": {
    "pycharm": {
     "is_executing": false
    }
   },
   "outputs": [],
   "source": [
    "neg_transactions = pd.DataFrame([neg_dates, neg_customers, neg_articles, neg_prices, neg_channels, ordered], index=transactions.columns).T"
   ]
  },
  {
   "cell_type": "code",
   "execution_count": 20,
   "metadata": {
    "pycharm": {
     "is_executing": false
    }
   },
   "outputs": [
    {
     "data": {
      "text/plain": "        t_dat                                        customer_id article_id  \\\n0  2019-02-16  d7658aaee939414d31bab252cc8505b6b7201e73e07e01...  785090001   \n1  2020-07-22  b39ccfdf7b780e3e619180edd366781df92e0346b22ec3...  790006003   \n2  2020-03-10  2cac4e7ad9c4680545474ea76b5b4f2defd041d169cca7...  583534014   \n3  2018-12-30  5ca77d0884911fb41fdb582dbda9319301c623736f1729...  656763006   \n4  2018-11-07  8003a273320ab206fc4418ce89174bc4f47193c6165ce1...  324502001   \n\n       price sales_channel_id ordered  \n0  0.0355763                2       0  \n1  0.0948983                2       0  \n2  0.0169322                1       0  \n3  0.0173898                1       0  \n4  0.0101525                2       0  ",
      "text/html": "<div>\n<style scoped>\n    .dataframe tbody tr th:only-of-type {\n        vertical-align: middle;\n    }\n\n    .dataframe tbody tr th {\n        vertical-align: top;\n    }\n\n    .dataframe thead th {\n        text-align: right;\n    }\n</style>\n<table border=\"1\" class=\"dataframe\">\n  <thead>\n    <tr style=\"text-align: right;\">\n      <th></th>\n      <th>t_dat</th>\n      <th>customer_id</th>\n      <th>article_id</th>\n      <th>price</th>\n      <th>sales_channel_id</th>\n      <th>ordered</th>\n    </tr>\n  </thead>\n  <tbody>\n    <tr>\n      <th>0</th>\n      <td>2019-02-16</td>\n      <td>d7658aaee939414d31bab252cc8505b6b7201e73e07e01...</td>\n      <td>785090001</td>\n      <td>0.0355763</td>\n      <td>2</td>\n      <td>0</td>\n    </tr>\n    <tr>\n      <th>1</th>\n      <td>2020-07-22</td>\n      <td>b39ccfdf7b780e3e619180edd366781df92e0346b22ec3...</td>\n      <td>790006003</td>\n      <td>0.0948983</td>\n      <td>2</td>\n      <td>0</td>\n    </tr>\n    <tr>\n      <th>2</th>\n      <td>2020-03-10</td>\n      <td>2cac4e7ad9c4680545474ea76b5b4f2defd041d169cca7...</td>\n      <td>583534014</td>\n      <td>0.0169322</td>\n      <td>1</td>\n      <td>0</td>\n    </tr>\n    <tr>\n      <th>3</th>\n      <td>2018-12-30</td>\n      <td>5ca77d0884911fb41fdb582dbda9319301c623736f1729...</td>\n      <td>656763006</td>\n      <td>0.0173898</td>\n      <td>1</td>\n      <td>0</td>\n    </tr>\n    <tr>\n      <th>4</th>\n      <td>2018-11-07</td>\n      <td>8003a273320ab206fc4418ce89174bc4f47193c6165ce1...</td>\n      <td>324502001</td>\n      <td>0.0101525</td>\n      <td>2</td>\n      <td>0</td>\n    </tr>\n  </tbody>\n</table>\n</div>"
     },
     "metadata": {},
     "output_type": "execute_result",
     "execution_count": 20
    }
   ],
   "source": [
    "# Result:\n",
    "neg_transactions.head()"
   ]
  },
  {
   "cell_type": "code",
   "execution_count": 21,
   "metadata": {
    "pycharm": {
     "is_executing": false
    }
   },
   "outputs": [
    {
     "data": {
      "text/plain": "(35920, 6)"
     },
     "metadata": {},
     "output_type": "execute_result",
     "execution_count": 21
    }
   ],
   "source": [
    "neg_transactions.shape"
   ]
  },
  {
   "cell_type": "code",
   "execution_count": 22,
   "metadata": {
    "pycharm": {
     "is_executing": false
    }
   },
   "outputs": [],
   "source": [
    "# Remove random negative samples that actually coincide with positives\n",
    "df = neg_transactions[\n",
    "    ~neg_transactions.set_index([\"customer_id\", \"article_id\"]).index.isin(positive_pairs)\n",
    "]\n",
    "\n",
    "# Remove any excess\n",
    "chosen_neg_transactions = df.sample(num_neg_pos)"
   ]
  },
  {
   "cell_type": "code",
   "execution_count": 23,
   "metadata": {
    "pycharm": {
     "is_executing": false,
     "name": "#%% \n"
    }
   },
   "outputs": [],
   "source": [
    "# Concat the negative samples to the positive samples:\n",
    "transactions = pd.concat([transactions, chosen_neg_transactions])\n",
    "transactions = transactions.merge(customers, how=\"inner\", on='customer_id')\n",
    "transactions = transactions.merge(articles, how=\"inner\", on='article_id')"
   ]
  },
  {
   "cell_type": "code",
   "execution_count": 24,
   "metadata": {
    "pycharm": {
     "is_executing": false
    }
   },
   "outputs": [
    {
     "name": "stdout",
     "text": [
      "<class 'pandas.core.frame.DataFrame'>\nInt64Index: 65310 entries, 0 to 65309\nData columns (total 36 columns):\n #   Column                        Non-Null Count  Dtype  \n---  ------                        --------------  -----  \n 0   t_dat                         65310 non-null  object \n 1   customer_id                   65310 non-null  object \n 2   article_id                    65310 non-null  object \n 3   price                         65310 non-null  object \n 4   sales_channel_id              65310 non-null  object \n 5   ordered                       65310 non-null  object \n 6   FN                            26050 non-null  float64\n 7   Active                        25689 non-null  float64\n 8   club_member_status            65087 non-null  object \n 9   fashion_news_frequency        64684 non-null  object \n 10  age                           64650 non-null  float64\n 11  postal_code                   65310 non-null  object \n 12  product_code                  65310 non-null  int64  \n 13  prod_name                     65310 non-null  object \n 14  product_type_no               65310 non-null  int64  \n 15  product_type_name             65310 non-null  object \n 16  product_group_name            65310 non-null  object \n 17  graphical_appearance_no       65310 non-null  int64  \n 18  graphical_appearance_name     65310 non-null  object \n 19  colour_group_code             65310 non-null  int64  \n 20  colour_group_name             65310 non-null  object \n 21  perceived_colour_value_id     65310 non-null  int64  \n 22  perceived_colour_value_name   65310 non-null  object \n 23  perceived_colour_master_id    65310 non-null  int64  \n 24  perceived_colour_master_name  65310 non-null  object \n 25  department_no                 65310 non-null  int64  \n 26  department_name               65310 non-null  object \n 27  index_code                    65310 non-null  object \n 28  index_name                    65310 non-null  object \n 29  index_group_no                65310 non-null  int64  \n 30  index_group_name              65310 non-null  object \n 31  section_no                    65310 non-null  int64  \n 32  section_name                  65310 non-null  object \n 33  garment_group_no              65310 non-null  int64  \n 34  garment_group_name            65310 non-null  object \n 35  detail_desc                   65046 non-null  object \ndtypes: float64(3), int64(10), object(23)\nmemory usage: 18.4+ MB\n"
     ],
     "output_type": "stream"
    }
   ],
   "source": [
    "transactions.info()"
   ]
  },
  {
   "cell_type": "markdown",
   "metadata": {},
   "source": [
    "### Basic Preprocessing\n",
    "Some very basic preprocessing."
   ]
  },
  {
   "cell_type": "code",
   "execution_count": 25,
   "metadata": {
    "pycharm": {
     "is_executing": false
    }
   },
   "outputs": [
    {
     "data": {
      "text/plain": "                                         customer_id   age article_id  \\\n0  01271359dce99de537d6a3fca3c4dfd3732b455ec5085d...  30.0  640182001   \n1  cc2909d3a827ff04e00466ea9da55ae50df1f7fc604d68...  57.0  640182001   \n2  cc2909d3a827ff04e00466ea9da55ae50df1f7fc604d68...  57.0  640182001   \n3  01271359dce99de537d6a3fca3c4dfd3732b455ec5085d...  30.0  633685001   \n4  ad65fce358652df068d272c5a3916bd5e8e083fa265dac...  18.0  633685001   \n\n  sales_channel_id      price ordered  product_type_no  garment_group_no  \\\n0                2  0.0355763       1              265              1013   \n1                2  0.0304915       1              265              1013   \n2                2  0.0304915       1              265              1013   \n3                2  0.0677797       1              265              1013   \n4                2  0.0677797       0              265              1013   \n\n  perceived_colour_value_name  \n0                       Light  \n1                       Light  \n2                       Light  \n3                 Dusty Light  \n4                 Dusty Light  ",
      "text/html": "<div>\n<style scoped>\n    .dataframe tbody tr th:only-of-type {\n        vertical-align: middle;\n    }\n\n    .dataframe tbody tr th {\n        vertical-align: top;\n    }\n\n    .dataframe thead th {\n        text-align: right;\n    }\n</style>\n<table border=\"1\" class=\"dataframe\">\n  <thead>\n    <tr style=\"text-align: right;\">\n      <th></th>\n      <th>customer_id</th>\n      <th>age</th>\n      <th>article_id</th>\n      <th>sales_channel_id</th>\n      <th>price</th>\n      <th>ordered</th>\n      <th>product_type_no</th>\n      <th>garment_group_no</th>\n      <th>perceived_colour_value_name</th>\n    </tr>\n  </thead>\n  <tbody>\n    <tr>\n      <th>0</th>\n      <td>01271359dce99de537d6a3fca3c4dfd3732b455ec5085d...</td>\n      <td>30.0</td>\n      <td>640182001</td>\n      <td>2</td>\n      <td>0.0355763</td>\n      <td>1</td>\n      <td>265</td>\n      <td>1013</td>\n      <td>Light</td>\n    </tr>\n    <tr>\n      <th>1</th>\n      <td>cc2909d3a827ff04e00466ea9da55ae50df1f7fc604d68...</td>\n      <td>57.0</td>\n      <td>640182001</td>\n      <td>2</td>\n      <td>0.0304915</td>\n      <td>1</td>\n      <td>265</td>\n      <td>1013</td>\n      <td>Light</td>\n    </tr>\n    <tr>\n      <th>2</th>\n      <td>cc2909d3a827ff04e00466ea9da55ae50df1f7fc604d68...</td>\n      <td>57.0</td>\n      <td>640182001</td>\n      <td>2</td>\n      <td>0.0304915</td>\n      <td>1</td>\n      <td>265</td>\n      <td>1013</td>\n      <td>Light</td>\n    </tr>\n    <tr>\n      <th>3</th>\n      <td>01271359dce99de537d6a3fca3c4dfd3732b455ec5085d...</td>\n      <td>30.0</td>\n      <td>633685001</td>\n      <td>2</td>\n      <td>0.0677797</td>\n      <td>1</td>\n      <td>265</td>\n      <td>1013</td>\n      <td>Dusty Light</td>\n    </tr>\n    <tr>\n      <th>4</th>\n      <td>ad65fce358652df068d272c5a3916bd5e8e083fa265dac...</td>\n      <td>18.0</td>\n      <td>633685001</td>\n      <td>2</td>\n      <td>0.0677797</td>\n      <td>0</td>\n      <td>265</td>\n      <td>1013</td>\n      <td>Dusty Light</td>\n    </tr>\n  </tbody>\n</table>\n</div>"
     },
     "metadata": {},
     "output_type": "execute_result",
     "execution_count": 25
    }
   ],
   "source": [
    "# adding features: product_type (labeled), garment_group_no (labeled), combined with perceived_colour_value_name \n",
    "\n",
    "# I'm dropping a lot of columns, use them in your engineering tasks!\n",
    "transactions_processed = transactions[['customer_id', 'age', 'article_id', 'sales_channel_id', 'price', 'ordered', 'product_type_no', 'garment_group_no', 'perceived_colour_value_name']].copy()\n",
    "transactions_processed.head()"
   ]
  },
  {
   "cell_type": "code",
   "execution_count": 26,
   "metadata": {
    "pycharm": {
     "is_executing": false
    }
   },
   "outputs": [],
   "source": [
    "# Does it make sense to label encode?\n",
    "# Label encoding the customer and article IDs:\n",
    "customer_encoder = preprocessing.LabelEncoder()\n",
    "p_type_encoder = preprocessing.LabelEncoder()\n",
    "group_no_encoder = preprocessing.LabelEncoder()\n",
    "color_name_encoder = preprocessing.LabelEncoder()\n",
    "article_encoder = preprocessing.LabelEncoder()"
   ]
  },
  {
   "cell_type": "code",
   "execution_count": 27,
   "metadata": {
    "pycharm": {
     "is_executing": false
    }
   },
   "outputs": [],
   "source": [
    "transactions_processed['customer_id'] = customer_encoder.fit_transform(transactions_processed['customer_id'])\n",
    "transactions_processed['article_id'] = article_encoder.fit_transform(transactions_processed['article_id'])\n",
    "transactions_processed['garment_group_no'] = group_no_encoder.fit_transform(transactions_processed['garment_group_no'])\n",
    "transactions_processed['product_type_no'] = p_type_encoder.fit_transform(transactions_processed['product_type_no'])\n",
    "transactions_processed['perceived_colour_value_name'] = color_name_encoder.fit_transform(transactions_processed['perceived_colour_value_name'])"
   ]
  },
  {
   "cell_type": "code",
   "execution_count": 28,
   "metadata": {
    "pycharm": {
     "is_executing": false
    }
   },
   "outputs": [
    {
     "data": {
      "text/plain": "array(['00bc9ab2554d0a51845fe034c2abb092897c8599cbf6726e0964969b04a79ec8'],\n      dtype=object)"
     },
     "metadata": {},
     "output_type": "execute_result",
     "execution_count": 28
    }
   ],
   "source": [
    "# If you want to go back to the original encoding:\n",
    "customer_encoder.inverse_transform([2])"
   ]
  },
  {
   "cell_type": "code",
   "execution_count": 29,
   "metadata": {
    "pycharm": {
     "is_executing": false
    }
   },
   "outputs": [
    {
     "data": {
      "text/plain": "   customer_id   age  article_id sales_channel_id      price ordered  \\\n0            4  30.0        4182                2  0.0355763       1   \n1         1102  57.0        4182                2  0.0304915       1   \n2         1102  57.0        4182                2  0.0304915       1   \n3            4  30.0        3876                2  0.0677797       1   \n4          927  18.0        3876                2  0.0677797       0   \n\n   product_type_no  garment_group_no  perceived_colour_value_name  \n0               53                11                            3  \n1               53                11                            3  \n2               53                11                            3  \n3               53                11                            2  \n4               53                11                            2  ",
      "text/html": "<div>\n<style scoped>\n    .dataframe tbody tr th:only-of-type {\n        vertical-align: middle;\n    }\n\n    .dataframe tbody tr th {\n        vertical-align: top;\n    }\n\n    .dataframe thead th {\n        text-align: right;\n    }\n</style>\n<table border=\"1\" class=\"dataframe\">\n  <thead>\n    <tr style=\"text-align: right;\">\n      <th></th>\n      <th>customer_id</th>\n      <th>age</th>\n      <th>article_id</th>\n      <th>sales_channel_id</th>\n      <th>price</th>\n      <th>ordered</th>\n      <th>product_type_no</th>\n      <th>garment_group_no</th>\n      <th>perceived_colour_value_name</th>\n    </tr>\n  </thead>\n  <tbody>\n    <tr>\n      <th>0</th>\n      <td>4</td>\n      <td>30.0</td>\n      <td>4182</td>\n      <td>2</td>\n      <td>0.0355763</td>\n      <td>1</td>\n      <td>53</td>\n      <td>11</td>\n      <td>3</td>\n    </tr>\n    <tr>\n      <th>1</th>\n      <td>1102</td>\n      <td>57.0</td>\n      <td>4182</td>\n      <td>2</td>\n      <td>0.0304915</td>\n      <td>1</td>\n      <td>53</td>\n      <td>11</td>\n      <td>3</td>\n    </tr>\n    <tr>\n      <th>2</th>\n      <td>1102</td>\n      <td>57.0</td>\n      <td>4182</td>\n      <td>2</td>\n      <td>0.0304915</td>\n      <td>1</td>\n      <td>53</td>\n      <td>11</td>\n      <td>3</td>\n    </tr>\n    <tr>\n      <th>3</th>\n      <td>4</td>\n      <td>30.0</td>\n      <td>3876</td>\n      <td>2</td>\n      <td>0.0677797</td>\n      <td>1</td>\n      <td>53</td>\n      <td>11</td>\n      <td>2</td>\n    </tr>\n    <tr>\n      <th>4</th>\n      <td>927</td>\n      <td>18.0</td>\n      <td>3876</td>\n      <td>2</td>\n      <td>0.0677797</td>\n      <td>0</td>\n      <td>53</td>\n      <td>11</td>\n      <td>2</td>\n    </tr>\n  </tbody>\n</table>\n</div>"
     },
     "metadata": {},
     "output_type": "execute_result",
     "execution_count": 29
    }
   ],
   "source": [
    "transactions_processed.head()"
   ]
  },
  {
   "cell_type": "code",
   "execution_count": 30,
   "metadata": {
    "pycharm": {
     "is_executing": false
    }
   },
   "outputs": [
    {
     "data": {
      "text/plain": "False"
     },
     "metadata": {},
     "output_type": "execute_result",
     "execution_count": 30
    }
   ],
   "source": [
    "# Can you come up with a NaN strategy that makes sense for each column in the dataset?\n",
    "# Imputing all NaN values with zeros:\n",
    "transactions_processed = transactions_processed.fillna(0)\n",
    "transactions_processed.isnull().values.any()"
   ]
  },
  {
   "cell_type": "code",
   "execution_count": 31,
   "metadata": {
    "pycharm": {
     "is_executing": false
    }
   },
   "outputs": [],
   "source": [
    "# Does it make sense to one-hot encode?\n",
    "# One-hot-encoding sales_channel_id:\n",
    "transactions_processed = pd.get_dummies(transactions_processed, columns=['sales_channel_id'])"
   ]
  },
  {
   "cell_type": "code",
   "execution_count": 32,
   "metadata": {
    "pycharm": {
     "is_executing": false
    }
   },
   "outputs": [
    {
     "data": {
      "text/plain": "   customer_id   age  article_id     price  ordered  product_type_no  \\\n0            4  30.0        4182  0.035576        1               53   \n1         1102  57.0        4182  0.030492        1               53   \n2         1102  57.0        4182  0.030492        1               53   \n3            4  30.0        3876  0.067780        1               53   \n4          927  18.0        3876  0.067780        0               53   \n\n   garment_group_no  perceived_colour_value_name  sales_channel_id_1  \\\n0                11                            3                   0   \n1                11                            3                   0   \n2                11                            3                   0   \n3                11                            2                   0   \n4                11                            2                   0   \n\n   sales_channel_id_2  \n0                   1  \n1                   1  \n2                   1  \n3                   1  \n4                   1  ",
      "text/html": "<div>\n<style scoped>\n    .dataframe tbody tr th:only-of-type {\n        vertical-align: middle;\n    }\n\n    .dataframe tbody tr th {\n        vertical-align: top;\n    }\n\n    .dataframe thead th {\n        text-align: right;\n    }\n</style>\n<table border=\"1\" class=\"dataframe\">\n  <thead>\n    <tr style=\"text-align: right;\">\n      <th></th>\n      <th>customer_id</th>\n      <th>age</th>\n      <th>article_id</th>\n      <th>price</th>\n      <th>ordered</th>\n      <th>product_type_no</th>\n      <th>garment_group_no</th>\n      <th>perceived_colour_value_name</th>\n      <th>sales_channel_id_1</th>\n      <th>sales_channel_id_2</th>\n    </tr>\n  </thead>\n  <tbody>\n    <tr>\n      <th>0</th>\n      <td>4</td>\n      <td>30.0</td>\n      <td>4182</td>\n      <td>0.035576</td>\n      <td>1</td>\n      <td>53</td>\n      <td>11</td>\n      <td>3</td>\n      <td>0</td>\n      <td>1</td>\n    </tr>\n    <tr>\n      <th>1</th>\n      <td>1102</td>\n      <td>57.0</td>\n      <td>4182</td>\n      <td>0.030492</td>\n      <td>1</td>\n      <td>53</td>\n      <td>11</td>\n      <td>3</td>\n      <td>0</td>\n      <td>1</td>\n    </tr>\n    <tr>\n      <th>2</th>\n      <td>1102</td>\n      <td>57.0</td>\n      <td>4182</td>\n      <td>0.030492</td>\n      <td>1</td>\n      <td>53</td>\n      <td>11</td>\n      <td>3</td>\n      <td>0</td>\n      <td>1</td>\n    </tr>\n    <tr>\n      <th>3</th>\n      <td>4</td>\n      <td>30.0</td>\n      <td>3876</td>\n      <td>0.067780</td>\n      <td>1</td>\n      <td>53</td>\n      <td>11</td>\n      <td>2</td>\n      <td>0</td>\n      <td>1</td>\n    </tr>\n    <tr>\n      <th>4</th>\n      <td>927</td>\n      <td>18.0</td>\n      <td>3876</td>\n      <td>0.067780</td>\n      <td>0</td>\n      <td>53</td>\n      <td>11</td>\n      <td>2</td>\n      <td>0</td>\n      <td>1</td>\n    </tr>\n  </tbody>\n</table>\n</div>"
     },
     "metadata": {},
     "output_type": "execute_result",
     "execution_count": 32
    }
   ],
   "source": [
    "transactions_processed.head()"
   ]
  },
  {
   "cell_type": "code",
   "execution_count": 33,
   "metadata": {
    "pycharm": {
     "is_executing": false
    }
   },
   "outputs": [],
   "source": [
    "# Creating a Train / Test Split:\n",
    "X_train, X_test, y_train, y_test = train_test_split(transactions_processed.drop('ordered', axis=1), transactions_processed['ordered'], test_size=0.10, random_state=42)"
   ]
  },
  {
   "cell_type": "code",
   "execution_count": 34,
   "metadata": {
    "pycharm": {
     "is_executing": false
    }
   },
   "outputs": [
    {
     "data": {
      "text/plain": "       customer_id   age  article_id     price  product_type_no  \\\n63853          126  23.0       15674  0.016932                2   \n63826         1154  28.0        2820  0.012186                2   \n61318          400  33.0       10693  0.050831                3   \n21913          219  57.0       10358  0.022017               53   \n49861          254  23.0        6470  0.010153               84   \n\n       garment_group_no  perceived_colour_value_name  sales_channel_id_1  \\\n63853                15                            3                   0   \n63826                15                            3                   0   \n61318                16                            1                   0   \n21913                11                            2                   0   \n49861                 1                            1                   1   \n\n       sales_channel_id_2  \n63853                   1  \n63826                   1  \n61318                   1  \n21913                   1  \n49861                   0  ",
      "text/html": "<div>\n<style scoped>\n    .dataframe tbody tr th:only-of-type {\n        vertical-align: middle;\n    }\n\n    .dataframe tbody tr th {\n        vertical-align: top;\n    }\n\n    .dataframe thead th {\n        text-align: right;\n    }\n</style>\n<table border=\"1\" class=\"dataframe\">\n  <thead>\n    <tr style=\"text-align: right;\">\n      <th></th>\n      <th>customer_id</th>\n      <th>age</th>\n      <th>article_id</th>\n      <th>price</th>\n      <th>product_type_no</th>\n      <th>garment_group_no</th>\n      <th>perceived_colour_value_name</th>\n      <th>sales_channel_id_1</th>\n      <th>sales_channel_id_2</th>\n    </tr>\n  </thead>\n  <tbody>\n    <tr>\n      <th>63853</th>\n      <td>126</td>\n      <td>23.0</td>\n      <td>15674</td>\n      <td>0.016932</td>\n      <td>2</td>\n      <td>15</td>\n      <td>3</td>\n      <td>0</td>\n      <td>1</td>\n    </tr>\n    <tr>\n      <th>63826</th>\n      <td>1154</td>\n      <td>28.0</td>\n      <td>2820</td>\n      <td>0.012186</td>\n      <td>2</td>\n      <td>15</td>\n      <td>3</td>\n      <td>0</td>\n      <td>1</td>\n    </tr>\n    <tr>\n      <th>61318</th>\n      <td>400</td>\n      <td>33.0</td>\n      <td>10693</td>\n      <td>0.050831</td>\n      <td>3</td>\n      <td>16</td>\n      <td>1</td>\n      <td>0</td>\n      <td>1</td>\n    </tr>\n    <tr>\n      <th>21913</th>\n      <td>219</td>\n      <td>57.0</td>\n      <td>10358</td>\n      <td>0.022017</td>\n      <td>53</td>\n      <td>11</td>\n      <td>2</td>\n      <td>0</td>\n      <td>1</td>\n    </tr>\n    <tr>\n      <th>49861</th>\n      <td>254</td>\n      <td>23.0</td>\n      <td>6470</td>\n      <td>0.010153</td>\n      <td>84</td>\n      <td>1</td>\n      <td>1</td>\n      <td>1</td>\n      <td>0</td>\n    </tr>\n  </tbody>\n</table>\n</div>"
     },
     "metadata": {},
     "output_type": "execute_result",
     "execution_count": 34
    }
   ],
   "source": [
    "X_train.head()"
   ]
  },
  {
   "cell_type": "code",
   "execution_count": 35,
   "metadata": {
    "pycharm": {
     "is_executing": false
    }
   },
   "outputs": [
    {
     "data": {
      "text/plain": "63853    1\n63826    0\n61318    0\n21913    1\n49861    1\nName: ordered, dtype: int64"
     },
     "metadata": {},
     "output_type": "execute_result",
     "execution_count": 35
    }
   ],
   "source": [
    "y_train.head()"
   ]
  },
  {
   "cell_type": "markdown",
   "metadata": {},
   "source": [
    "## Baseline Model"
   ]
  },
  {
   "cell_type": "code",
   "execution_count": null,
   "metadata": {
    "pycharm": {
     "is_executing": true
    }
   },
   "outputs": [],
   "source": [
    "# Will take a few minutes to run, if you're using the whole dataset:\n",
    "baseline = LogisticRegression(random_state=42)\n",
    "baseline = baseline.fit(X_train, y_train)"
   ]
  },
  {
   "cell_type": "code",
   "execution_count": null,
   "metadata": {
    "pycharm": {
     "is_executing": true
    }
   },
   "outputs": [],
   "source": [
    "baseline.predict_proba(X_test)"
   ]
  },
  {
   "cell_type": "code",
   "execution_count": null,
   "metadata": {
    "pycharm": {
     "is_executing": true
    },
    "scrolled": true
   },
   "outputs": [],
   "source": [
    "y_test"
   ]
  },
  {
   "cell_type": "code",
   "execution_count": null,
   "metadata": {
    "pycharm": {
     "is_executing": true
    }
   },
   "outputs": [],
   "source": [
    "# Mean Accuracy:\n",
    "baseline.score(X_test, y_test)\n",
    "# As you can seen, the accuracy is ~0.51. In other words, the classifier predicts correctly 51% of the time whether a customer did or din't buy an item.\n",
    "# Can you improve this baseline logistic regression model by doing better preprocessing and generating new features?\n",
    "# Also think about my steps! Did it make sense to include the article and customer ids? (And things like that)"
   ]
  },
  {
   "cell_type": "code",
   "execution_count": null,
   "metadata": {
    "pycharm": {
     "is_executing": true
    }
   },
   "outputs": [],
   "source": [
    "# Classification Metrics:\n",
    "predictions = baseline.predict(X_test)\n",
    "print(classification_report(y_test, predictions))"
   ]
  },
  {
   "cell_type": "code",
   "execution_count": null,
   "metadata": {
    "pycharm": {
     "is_executing": true
    }
   },
   "outputs": [],
   "source": [
    "predictions"
   ]
  },
  {
   "cell_type": "markdown",
   "metadata": {},
   "source": [
    "## Assignment: Feature engineering\n",
    "**TODO:** \n",
    "- In groups (of 2-3 students), think about (a few) features that can be engineered (preprocess and generate new features). Divide the work!\n",
    "- Do these engineered features improve the baseline model?\n",
    "- Add your thoughts & results to a slide deck for discussion next week (again, 1 slide per person).\n"
   ]
  },
  {
   "cell_type": "code",
   "execution_count": null,
   "metadata": {
    "pycharm": {
     "is_executing": true
    }
   },
   "outputs": [],
   "source": []
  }
 ],
 "metadata": {
  "kernelspec": {
   "display_name": "Python 3 (ipykernel)",
   "language": "python",
   "name": "python3"
  },
  "language_info": {
   "codemirror_mode": {
    "name": "ipython",
    "version": 3
   },
   "file_extension": ".py",
   "mimetype": "text/x-python",
   "name": "python",
   "nbconvert_exporter": "python",
   "pygments_lexer": "ipython3",
   "version": "3.9.6"
  },
  "vscode": {
   "interpreter": {
    "hash": "aee8b7b246df8f9039afb4144a1f6fd8d2ca17a180786b69acc140d282b71a49"
   }
  },
  "pycharm": {
   "stem_cell": {
    "cell_type": "raw",
    "source": [],
    "metadata": {
     "collapsed": false
    }
   }
  }
 },
 "nbformat": 4,
 "nbformat_minor": 1
}