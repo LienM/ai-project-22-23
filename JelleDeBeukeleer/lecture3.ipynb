{
 "cells": [
  {
   "cell_type": "code",
   "execution_count": 5,
   "metadata": {
    "id": "FrHHEI6CsDGY"
   },
   "outputs": [],
   "source": [
    "%ls"
   ]
  },
  {
   "cell_type": "code",
   "execution_count": 8,
   "metadata": {
    "id": "Ju5PUxqPZlNx",
    "pycharm": {
     "is_executing": false
    }
   },
   "outputs": [],
   "source": [
    "import json\n",
    "import math\n",
    "import copy\n",
    "\n",
    "import matplotlib.pyplot as plt\n",
    "import pandas as pd\n",
    "import seaborn as sns"
   ]
  },
  {
   "cell_type": "code",
   "execution_count": 47,
   "metadata": {
    "id": "zRGDqmCUbFJz",
    "pycharm": {
     "is_executing": false
    }
   },
   "outputs": [],
   "source": [
    "# file names to be analyzed\n",
    "\n",
    "articles_file = \"../data/articles.csv\"\n",
    "customers_file = \"../data/customers.csv\"\n",
    "transactions_file = \"../data/transactions_train.csv\""
   ]
  },
  {
   "cell_type": "code",
   "execution_count": 54,
   "metadata": {
    "id": "CtRFI1Xvam-a",
    "pycharm": {
     "is_executing": false
    }
   },
   "outputs": [],
   "source": [
    "articles = pd.read_csv(articles_file)\n",
    "customers = pd.read_csv(customers_file)\n",
    "transactions = pd.read_csv(transactions_file)"
   ]
  },
  {
   "cell_type": "markdown",
   "metadata": {
    "id": "gCLC-hjCbfDr"
   },
   "source": [
    "Articles analysis first"
   ]
  },
  {
   "cell_type": "code",
   "execution_count": 12,
   "metadata": {
    "colab": {
     "base_uri": "https://localhost:8080/"
    },
    "id": "nsT_5ixFhuW9",
    "outputId": "2369a97c-38d1-457d-bb8e-1bf9963a675f"
   },
   "outputs": [
    {
     "name": "stdout",
     "output_type": "stream",
     "text": [
      "<class 'pandas.core.frame.DataFrame'>\n",
      "RangeIndex: 105542 entries, 0 to 105541\n",
      "Data columns (total 25 columns):\n",
      " #   Column                        Non-Null Count   Dtype \n",
      "---  ------                        --------------   ----- \n",
      " 0   article_id                    105542 non-null  int64 \n",
      " 1   product_code                  105542 non-null  int64 \n",
      " 2   prod_name                     105542 non-null  object\n",
      " 3   product_type_no               105542 non-null  int64 \n",
      " 4   product_type_name             105542 non-null  object\n",
      " 5   product_group_name            105542 non-null  object\n",
      " 6   graphical_appearance_no       105542 non-null  int64 \n",
      " 7   graphical_appearance_name     105542 non-null  object\n",
      " 8   colour_group_code             105542 non-null  int64 \n",
      " 9   colour_group_name             105542 non-null  object\n",
      " 10  perceived_colour_value_id     105542 non-null  int64 \n",
      " 11  perceived_colour_value_name   105542 non-null  object\n",
      " 12  perceived_colour_master_id    105542 non-null  int64 \n",
      " 13  perceived_colour_master_name  105542 non-null  object\n",
      " 14  department_no                 105542 non-null  int64 \n",
      " 15  department_name               105542 non-null  object\n",
      " 16  index_code                    105542 non-null  object\n",
      " 17  index_name                    105542 non-null  object\n",
      " 18  index_group_no                105542 non-null  int64 \n",
      " 19  index_group_name              105542 non-null  object\n",
      " 20  section_no                    105542 non-null  int64 \n",
      " 21  section_name                  105542 non-null  object\n",
      " 22  garment_group_no              105542 non-null  int64 \n",
      " 23  garment_group_name            105542 non-null  object\n",
      " 24  detail_desc                   105126 non-null  object\n",
      "dtypes: int64(11), object(14)\n",
      "memory usage: 20.1+ MB\n"
     ]
    }
   ],
   "source": [
    "articles = pd.read_csv(articles_file)\n",
    "articles.info()"
   ]
  },
  {
   "cell_type": "code",
   "execution_count": 6,
   "metadata": {
    "id": "y0e_2S6cbnSh",
    "pycharm": {
     "is_executing": false
    }
   },
   "outputs": [
    {
     "name": "stdout",
     "output_type": "stream",
     "text": [
      "article_id                        0\n",
      "product_code                      0\n",
      "prod_name                         0\n",
      "product_type_no                   0\n",
      "product_type_name                 0\n",
      "product_group_name                0\n",
      "graphical_appearance_no           0\n",
      "graphical_appearance_name         0\n",
      "colour_group_code                 0\n",
      "colour_group_name                 0\n",
      "perceived_colour_value_id         0\n",
      "perceived_colour_value_name       0\n",
      "perceived_colour_master_id        0\n",
      "perceived_colour_master_name      0\n",
      "department_no                     0\n",
      "department_name                   0\n",
      "index_code                        0\n",
      "index_name                        0\n",
      "index_group_no                    0\n",
      "index_group_name                  0\n",
      "section_no                        0\n",
      "section_name                      0\n",
      "garment_group_no                  0\n",
      "garment_group_name                0\n",
      "detail_desc                     416\n",
      "dtype: int64\n"
     ]
    }
   ],
   "source": [
    "# check all columns for non-values, result is empty descriptions\n",
    "articles.isna().sum()"
   ]
  },
  {
   "cell_type": "code",
   "execution_count": 11,
   "metadata": {
    "id": "Z1UNX8s3puMq",
    "pycharm": {
     "is_executing": false
    }
   },
   "outputs": [
    {
     "name": "stdout",
     "output_type": "stream",
     "text": [
      "article_id has only unique_values: True\n",
      "product_code has only unique_values: False\n",
      "prod_name has only unique_values: False\n"
     ]
    }
   ],
   "source": [
    "for col_name in ['article_id', \"product_code\", 'prod_name']:\n",
    "  print(col_name, 'has only unique_values:', \n",
    "        articles[col_name].nunique() == articles.shape[0])"
   ]
  },
  {
   "cell_type": "code",
   "execution_count": null,
   "metadata": {
    "id": "WXKL6eNYqVZK"
   },
   "outputs": [],
   "source": [
    "# product_code and prod_name have recurring values\n",
    "print(articles['product_code'].nunique())\n",
    "print(articles['prod_name'].nunique())"
   ]
  },
  {
   "cell_type": "code",
   "execution_count": null,
   "metadata": {
    "id": "1_DtePSOcWUj"
   },
   "outputs": [],
   "source": [
    "articles[\"detail_desc\"]"
   ]
  },
  {
   "cell_type": "markdown",
   "metadata": {
    "id": "MCbUVl5fceQb"
   },
   "source": [
    "Descriptions are fairly brief, but non-values could be replaced by empty string for e.g. embeddings. If absolutely necessary, a model could be trained to generate descriptions based on images"
   ]
  },
  {
   "cell_type": "markdown",
   "metadata": {
    "id": "sA5_u99HsuTe"
   },
   "source": [
    "When checking the description length, there is a large range of possibilities, longer descriptions generally hold more information"
   ]
  },
  {
   "cell_type": "code",
   "execution_count": 31,
   "metadata": {
    "colab": {
     "base_uri": "https://localhost:8080/",
     "height": 618
    },
    "id": "QGq0l8njrULm",
    "outputId": "822a6601-ecf6-4491-a9c1-e1c3c43e0ba9"
   },
   "outputs": [
    {
     "name": "stderr",
     "output_type": "stream",
     "text": [
      "<ipython-input-31-84ac1f71931a>:7: SettingWithCopyWarning: \n",
      "A value is trying to be set on a copy of a slice from a DataFrame.\n",
      "Try using .loc[row_indexer,col_indexer] = value instead\n",
      "\n",
      "See the caveats in the documentation: https://pandas.pydata.org/pandas-docs/stable/user_guide/indexing.html#returning-a-view-versus-a-copy\n",
      "  article_splits['detail_desc'] = article_splits['detail_desc'].apply(lambda x: desc_length(x))\n",
      "<ipython-input-31-84ac1f71931a>:8: SettingWithCopyWarning: \n",
      "A value is trying to be set on a copy of a slice from a DataFrame\n",
      "\n",
      "See the caveats in the documentation: https://pandas.pydata.org/pandas-docs/stable/user_guide/indexing.html#returning-a-view-versus-a-copy\n",
      "  article_splits.sort_values(by=['detail_desc'], inplace=True)\n"
     ]
    },
    {
     "name": "stdout",
     "output_type": "stream",
     "text": [
      "2\n",
      "121\n",
      "19     4313\n",
      "18     4242\n",
      "16     4225\n",
      "20     4131\n",
      "23     3972\n",
      "       ... \n",
      "121       1\n",
      "117       1\n",
      "111       1\n",
      "98        1\n",
      "116       1\n",
      "Name: detail_desc, Length: 105, dtype: int64\n"
     ]
    },
    {
     "data": {
      "text/plain": [
       "<matplotlib.axes._subplots.AxesSubplot at 0x28cb096b670>"
      ]
     },
     "execution_count": 31,
     "metadata": {},
     "output_type": "execute_result"
    },
    {
     "data": {
      "image/png": "[encoded data removed]",
      "text/plain": [
       "<Figure size 432x288 with 1 Axes>"
      ]
     },
     "metadata": {
      "needs_background": "light"
     },
     "output_type": "display_data"
    }
   ],
   "source": [
    "# consider description word counts, single word descriptions offer very little value\n",
    "def desc_length(desc: str):\n",
    "  return len(desc.split())\n",
    "\n",
    "plt.locator_params(axis='x', nbins=10)\n",
    "article_splits = articles.dropna(axis=0, subset=['detail_desc'])\n",
    "article_splits['detail_desc'] = article_splits['detail_desc'].apply(lambda x: desc_length(x))\n",
    "article_splits.sort_values(by=['detail_desc'], inplace=True)\n",
    "print(min(article_splits['detail_desc']))\n",
    "print(max(article_splits['detail_desc']))\n",
    "print(article_splits['detail_desc'].value_counts())\n",
    "vc = article_splits['detail_desc'].value_counts().sort_index()\n",
    "vc.plot.bar()"
   ]
  },
  {
   "cell_type": "markdown",
   "metadata": {
    "id": "mgJ2I99Idg_C"
   },
   "source": [
    "Paired data should generally be identical due to redundancy, to check this columns should have an equal amount of unique values"
   ]
  },
  {
   "cell_type": "code",
   "execution_count": 32,
   "metadata": {
    "id": "TCzYU8DidmMC"
   },
   "outputs": [
    {
     "name": "stdout",
     "output_type": "stream",
     "text": [
      "product_type_no      132\n",
      "product_type_name    132\n",
      "dtype: int64\n",
      "graphical_appearance_no      30\n",
      "graphical_appearance_name    30\n",
      "dtype: int64\n",
      "colour_group_code    50\n",
      "colour_group_name    50\n",
      "dtype: int64\n",
      "perceived_colour_value_id      8\n",
      "perceived_colour_value_name    8\n",
      "dtype: int64\n",
      "perceived_colour_master_id      20\n",
      "perceived_colour_master_name    20\n",
      "dtype: int64\n",
      "department_no      299\n",
      "department_name    299\n",
      "dtype: int64\n",
      "index_code    10\n",
      "index_name    10\n",
      "dtype: int64\n",
      "index_group_no      5\n",
      "index_group_name    5\n",
      "dtype: int64\n",
      "section_no      57\n",
      "section_name    57\n",
      "dtype: int64\n",
      "garment_group_no      21\n",
      "garment_group_name    21\n",
      "dtype: int64\n"
     ]
    }
   ],
   "source": [
    "print(articles[['product_type_no', 'product_type_name']].drop_duplicates().count())\n",
    "print(articles[['graphical_appearance_no', 'graphical_appearance_name']].drop_duplicates().count())\n",
    "print(articles[['colour_group_code', 'colour_group_name']].drop_duplicates().count())\n",
    "print(articles[['perceived_colour_value_id', 'perceived_colour_value_name']].drop_duplicates().count())\n",
    "print(articles[['perceived_colour_master_id', 'perceived_colour_master_name']].drop_duplicates().count())\n",
    "print(articles[['department_no', 'department_name']].drop_duplicates().count())\n",
    "print(articles[['index_code', 'index_name']].drop_duplicates().count())\n",
    "print(articles[['index_group_no', 'index_group_name']].drop_duplicates().count())\n",
    "print(articles[['section_no', 'section_name']].drop_duplicates().count())\n",
    "print(articles[['garment_group_no', 'garment_group_name']].drop_duplicates().count())"
   ]
  },
  {
   "cell_type": "markdown",
   "metadata": {
    "id": "4wuIHfNkmNGt"
   },
   "source": [
    "Check for empty strings, these are similar to non-values, but indicate mistakes in the data"
   ]
  },
  {
   "cell_type": "code",
   "execution_count": 33,
   "metadata": {
    "id": "DrGBtLxymTTC"
   },
   "outputs": [
    {
     "name": "stdout",
     "output_type": "stream",
     "text": [
      "empty values in product_type_name : 0\n",
      "empty values in graphical_appearance_name : 0\n",
      "empty values in colour_group_name : 0\n",
      "empty values in perceived_colour_value_name : 0\n",
      "empty values in perceived_colour_master_name : 0\n",
      "empty values in department_name : 0\n",
      "empty values in index_name : 0\n",
      "empty values in index_group_name : 0\n",
      "empty values in section_name : 0\n",
      "empty values in garment_group_name : 0\n"
     ]
    }
   ],
   "source": [
    "for name in ['product_type_name', 'graphical_appearance_name', 'colour_group_name', 'perceived_colour_value_name',\n",
    "             'perceived_colour_master_name', 'department_name', 'index_name', 'index_group_name', 'section_name',\n",
    "             'garment_group_name']:\n",
    "             print('empty values in', name, \":\", articles[name][articles[name]==''].count())\n",
    "\n",
    "# data seems to be clean going from this"
   ]
  },
  {
   "cell_type": "markdown",
   "metadata": {
    "id": "ejc-5y3grY_E"
   },
   "source": [
    "customer analysis"
   ]
  },
  {
   "cell_type": "code",
   "execution_count": 34,
   "metadata": {
    "colab": {
     "base_uri": "https://localhost:8080/"
    },
    "id": "L7bBvRcnrcCq",
    "outputId": "304b7c6a-ae65-427b-d3c0-4226736dac08"
   },
   "outputs": [
    {
     "name": "stdout",
     "output_type": "stream",
     "text": [
      "<class 'pandas.core.frame.DataFrame'>\n",
      "RangeIndex: 1371980 entries, 0 to 1371979\n",
      "Data columns (total 7 columns):\n",
      " #   Column                  Non-Null Count    Dtype  \n",
      "---  ------                  --------------    -----  \n",
      " 0   customer_id             1371980 non-null  object \n",
      " 1   FN                      476930 non-null   float64\n",
      " 2   Active                  464404 non-null   float64\n",
      " 3   club_member_status      1365918 non-null  object \n",
      " 4   fashion_news_frequency  1355971 non-null  object \n",
      " 5   age                     1356119 non-null  float64\n",
      " 6   postal_code             1371980 non-null  object \n",
      "dtypes: float64(3), object(4)\n",
      "memory usage: 73.3+ MB\n"
     ]
    }
   ],
   "source": [
    "customers = pd.read_csv(customers_file)\n",
    "customers.info()"
   ]
  },
  {
   "cell_type": "markdown",
   "metadata": {
    "id": "fhj5MohJr9c8"
   },
   "source": [
    "Checking for null values first"
   ]
  },
  {
   "cell_type": "code",
   "execution_count": 41,
   "metadata": {
    "colab": {
     "base_uri": "https://localhost:8080/"
    },
    "id": "WChXOeXir9Ex",
    "outputId": "c8c39bc8-9c1c-469d-fcf9-aacb45f81cb0"
   },
   "outputs": [
    {
     "name": "stdout",
     "output_type": "stream",
     "text": [
      "customer_id                    0\n",
      "FN                        895050\n",
      "Active                    907576\n",
      "club_member_status          6062\n",
      "fashion_news_frequency     16009\n",
      "age                        15861\n",
      "postal_code                    0\n",
      "dtype: int64\n",
      "customer_id               0.000000\n",
      "FN                        1.876690\n",
      "Active                    1.954281\n",
      "club_member_status        0.004438\n",
      "fashion_news_frequency    0.011806\n",
      "age                       0.011696\n",
      "postal_code               0.000000\n",
      "dtype: float64\n"
     ]
    }
   ],
   "source": [
    "print(customers.isna().sum())\n",
    "print(customers.isna().sum()/customers.count())"
   ]
  },
  {
   "cell_type": "markdown",
   "metadata": {
    "id": "nfW_T6Y7sMEU"
   },
   "source": [
    "Data here seems considerably more messy, over half of customers have no FN or activity status"
   ]
  },
  {
   "cell_type": "code",
   "execution_count": 42,
   "metadata": {},
   "outputs": [
    {
     "data": {
      "text/plain": [
       "0    NaN\n",
       "4    1.0\n",
       "Name: FN, dtype: float64"
      ]
     },
     "execution_count": 42,
     "metadata": {},
     "output_type": "execute_result"
    }
   ],
   "source": [
    "# Inspecting FN values\n",
    "customers['FN'].drop_duplicates()"
   ]
  },
  {
   "cell_type": "markdown",
   "metadata": {
    "id": "29c10ZL7ryGq"
   },
   "source": [
    "looking at general age distribution, for this NaN should be ignored"
   ]
  },
  {
   "cell_type": "code",
   "execution_count": 44,
   "metadata": {
    "colab": {
     "base_uri": "https://localhost:8080/",
     "height": 412
    },
    "id": "JJtols4DsZ3y",
    "outputId": "23db0649-f0c6-49ec-884b-dd920b5bf717"
   },
   "outputs": [
    {
     "name": "stdout",
     "output_type": "stream",
     "text": [
      "3\n",
      "19\n"
     ]
    },
    {
     "name": "stderr",
     "output_type": "stream",
     "text": [
      "<ipython-input-44-3543a3bdfaae>:6: SettingWithCopyWarning: \n",
      "A value is trying to be set on a copy of a slice from a DataFrame.\n",
      "Try using .loc[row_indexer,col_indexer] = value instead\n",
      "\n",
      "See the caveats in the documentation: https://pandas.pydata.org/pandas-docs/stable/user_guide/indexing.html#returning-a-view-versus-a-copy\n",
      "  aged_customers['age'] = aged_customers['age'].apply(lambda x: batch_age(x))\n"
     ]
    },
    {
     "data": {
      "text/plain": [
       "<matplotlib.axes._subplots.AxesSubplot at 0x28ca8a3c490>"
      ]
     },
     "execution_count": 44,
     "metadata": {},
     "output_type": "execute_result"
    },
    {
     "data": {
      "image/png": "[encoded data removed]",
      "text/plain": [
       "<Figure size 432x288 with 1 Axes>"
      ]
     },
     "metadata": {
      "needs_background": "light"
     },
     "output_type": "display_data"
    }
   ],
   "source": [
    "# batch ages for\n",
    "def batch_age(x: int, batch_width: int = 5):\n",
    "  return math.floor(x/batch_width)\n",
    "\n",
    "aged_customers = customers.dropna(axis=0, subset=['age'])\n",
    "aged_customers['age'] = aged_customers['age'].apply(lambda x: batch_age(x))\n",
    "print(min(aged_customers['age']))\n",
    "print(max(aged_customers['age']))\n",
    "aged_customers['age'].value_counts().sort_index().plot.bar(title=\"age in batches of 5 years\")"
   ]
  },
  {
   "cell_type": "markdown",
   "metadata": {
    "id": "_UcQXSR9wgQL"
   },
   "source": [
    "Even when batched, it is apparent that there are significant portions of the space that do not have any entries, if this expands to the full dataset, we might not be able to use age-based features equally well at all times"
   ]
  },
  {
   "cell_type": "markdown",
   "metadata": {
    "id": "DarpVOEfzYSU"
   },
   "source": [
    "Transactions analysis"
   ]
  },
  {
   "cell_type": "code",
   "execution_count": 55,
   "metadata": {
    "colab": {
     "base_uri": "https://localhost:8080/"
    },
    "id": "VSuLhpO6zbO6",
    "outputId": "44623641-579d-4428-f2cd-ddcabc896c11"
   },
   "outputs": [
    {
     "name": "stdout",
     "output_type": "stream",
     "text": [
      "<class 'pandas.core.frame.DataFrame'>\n",
      "RangeIndex: 31788324 entries, 0 to 31788323\n",
      "Data columns (total 5 columns):\n",
      " #   Column            Dtype  \n",
      "---  ------            -----  \n",
      " 0   t_dat             object \n",
      " 1   customer_id       object \n",
      " 2   article_id        int64  \n",
      " 3   price             float64\n",
      " 4   sales_channel_id  int64  \n",
      "dtypes: float64(1), int64(2), object(2)\n",
      "memory usage: 1.2+ GB\n",
      "None\n"
     ]
    }
   ],
   "source": [
    "transactions = pd.read_csv(transactions_file)\n",
    "print(transactions.info())"
   ]
  },
  {
   "cell_type": "code",
   "execution_count": 56,
   "metadata": {
    "colab": {
     "base_uri": "https://localhost:8080/"
    },
    "id": "re2J_eKczo9j",
    "outputId": "88654ccf-274c-4481-f71d-1647f533234d"
   },
   "outputs": [
    {
     "name": "stdout",
     "output_type": "stream",
     "text": [
      "t_dat               0\n",
      "customer_id         0\n",
      "article_id          0\n",
      "price               0\n",
      "sales_channel_id    0\n",
      "dtype: int64\n"
     ]
    }
   ],
   "source": [
    "print(transactions.isna().sum())"
   ]
  },
  {
   "cell_type": "markdown",
   "metadata": {
    "id": "51xdWc8Dzspc"
   },
   "source": [
    "Considerably more clean data, ordered can be ignored as this is artificial data"
   ]
  },
  {
   "cell_type": "code",
   "execution_count": 57,
   "metadata": {
    "colab": {
     "base_uri": "https://localhost:8080/"
    },
    "id": "tGYNlB5E0BF9",
    "outputId": "c0d3b727-29f7-45bb-f69c-9fa82cfbfba6"
   },
   "outputs": [
    {
     "name": "stdout",
     "output_type": "stream",
     "text": [
      "9699 customers have not bought anything\n"
     ]
    }
   ],
   "source": [
    "unique_customers = customers['customer_id']\n",
    "unique_buying_customers = transactions['customer_id'].drop_duplicates()\n",
    "print(unique_customers.count() - unique_buying_customers.count(), \"customers have not bought anything\")"
   ]
  },
  {
   "cell_type": "markdown",
   "metadata": {
    "id": "II6SAd5g18bG"
   },
   "source": [
    "Customers that have never bought anything are a special case, generally people will only make an account the moment they want to buy something. It is not possible to provide a properly personalized set of recommendations for these customers, meaning we might have to resort to recently popular items"
   ]
  },
  {
   "cell_type": "code",
   "execution_count": null,
   "metadata": {
    "colab": {
     "base_uri": "https://localhost:8080/"
    },
    "id": "Cepn6A632hf9",
    "outputId": "e3bbe881-22bc-4641-9f5d-662f618d548a"
   },
   "outputs": [
    {
     "name": "stdout",
     "output_type": "stream",
     "text": [
      "0 articles have never been bought\n"
     ]
    }
   ],
   "source": [
    "unique_articles = articles['article_id']\n",
    "unique_bought_articles = transactions['article_id'].drop_duplicates()\n",
    "print(unique_articles.count() - unique_bought_articles.count(), \"articles have never been bought\")"
   ]
  },
  {
   "cell_type": "markdown",
   "metadata": {
    "id": "06iU8p6Y20jf"
   },
   "source": [
    "The other side of the equation would be articles that nobody buys, as we need a different approach from buying behavior to determine similar items"
   ]
  },
  {
   "cell_type": "markdown",
   "metadata": {
    "id": "SRhxsnSstCQW"
   },
   "source": [
    "Checking whether people tend to buy the same thing twice, some customers do, and the amount of times they do so varies. This might be depending on for instance the type of clothing bought"
   ]
  },
  {
   "cell_type": "code",
   "execution_count": 35,
   "metadata": {
    "colab": {
     "base_uri": "https://localhost:8080/",
     "height": 511
    },
    "id": "kh6TNU36tW_2",
    "outputId": "2b7b9b33-37e8-4e1f-cb80-04389554041f"
   },
   "outputs": [
    {
     "name": "stdout",
     "output_type": "stream",
     "text": [
      "customer_id\n",
      "003a5fe0262e869317000bb40926dd19d450a52e938244c0a66d5ae71058c7c7     7\n",
      "0117b860a8a11a81eaa1c6825c6af18725c5406223c02cac2518a793e3e7778b     7\n",
      "01580afe0d488ebe9339c0599beff0b3cb8e3eae988bd033ac917b9b7833542e    12\n",
      "019db1566c30e1fe94ed2013daac827c05d91ca83eb7fc37378d42f6a911b1d3     2\n",
      "020cf64547618c64d765e382f2b0a7c64afbf827d280d4c1d0991d26284cd179     1\n",
      "                                                                    ..\n",
      "fdc53a7ef3a228d6101c8463d2c2bd2ed5eb126ec0461f8e5745f869d9d6befa    15\n",
      "fe3882a8267fa5531ea15da8f82a1bf77ceb06aa43345c77208021c86f072688     3\n",
      "fedd455c59bda34f591fdb223394337471605304d1297e760869d09c7251431a     1\n",
      "feeea1067411a83c80df6f3f0f3d9eaaed9e6bc6e95c823f0d5de98f906f9126    11\n",
      "ffe29026e0f2f2ef492830b24cc76f445fd89a70488892428200f0b0226934d8     2\n",
      "Length: 645, dtype: int64\n"
     ]
    },
    {
     "data": {
      "text/plain": [
       "<matplotlib.axes._subplots.AxesSubplot at 0x7fe197bdd910>"
      ]
     },
     "execution_count": 35,
     "metadata": {},
     "output_type": "execute_result"
    },
    {
     "data": {
      "image/png": "[encoded data removed]",
      "text/plain": [
       "<Figure size 432x288 with 1 Axes>"
      ]
     },
     "metadata": {
      "needs_background": "light"
     },
     "output_type": "display_data"
    }
   ],
   "source": [
    "t_frame = transactions.groupby(by=['customer_id', 'article_id'])\n",
    "t_list = t_frame.size()[t_frame.size() > 1]\n",
    "print(t_list.groupby(['customer_id']).count())\n",
    "t_list.groupby(['customer_id']).count().value_counts().plot.bar()"
   ]
  }
 ],
 "metadata": {
  "colab": {
   "collapsed_sections": [],
   "provenance": []
  },
  "kernelspec": {
   "display_name": "Python 3",
   "language": "python",
   "name": "python3"
  },
  "language_info": {
   "codemirror_mode": {
    "name": "ipython",
    "version": 3
   },
   "file_extension": ".py",
   "mimetype": "text/x-python",
   "name": "python",
   "nbconvert_exporter": "python",
   "pygments_lexer": "ipython3",
   "version": "3.8.3"
  },
  "pycharm": {
   "stem_cell": {
    "cell_type": "raw",
    "metadata": {
     "collapsed": false
    },
    "source": []
   }
  },
  "vscode": {
   "interpreter": {
    "hash": "a5df50660a97b5af7363c5236e5c65c0e4e723f1de24d1339fa95aedc27d2d41"
   }
  }
 },
 "nbformat": 4,
 "nbformat_minor": 1
}
