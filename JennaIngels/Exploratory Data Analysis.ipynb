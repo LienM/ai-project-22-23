{
 "cells": [
  {
   "cell_type": "markdown",
   "metadata": {},
   "source": [
    "# Exploratory Data Analysis\n",
    "I was not being particularly careful with my intermediate variables and I ended up reaching a point where this notebook started using more than 10 GB of RAM. This is probably not an ideal situation, therefore I do not recommend you run this all at once. I suppose having to pick and choose which code blocks to run may not be convenient. On the other hand, I am not entirely sure anyone will be running this anyhow so while I will keep it in mind for the future, I will be leaving it like this, this time."
   ]
  },
  {
   "cell_type": "code",
   "execution_count": 1,
   "metadata": {},
   "outputs": [],
   "source": [
    "import pandas as pd"
   ]
  },
  {
   "cell_type": "code",
   "execution_count": 2,
   "metadata": {},
   "outputs": [],
   "source": [
    "import matplotlib.pyplot as plt"
   ]
  },
  {
   "cell_type": "code",
   "execution_count": 3,
   "metadata": {
    "scrolled": false
   },
   "outputs": [
    {
     "data": {
      "text/html": [
       "<div>\n",
       "<style scoped>\n",
       "    .dataframe tbody tr th:only-of-type {\n",
       "        vertical-align: middle;\n",
       "    }\n",
       "\n",
       "    .dataframe tbody tr th {\n",
       "        vertical-align: top;\n",
       "    }\n",
       "\n",
       "    .dataframe thead th {\n",
       "        text-align: right;\n",
       "    }\n",
       "</style>\n",
       "<table border=\"1\" class=\"dataframe\">\n",
       "  <thead>\n",
       "    <tr style=\"text-align: right;\">\n",
       "      <th></th>\n",
       "      <th>article_id</th>\n",
       "      <th>product_code</th>\n",
       "      <th>prod_name</th>\n",
       "      <th>product_type_no</th>\n",
       "      <th>product_type_name</th>\n",
       "      <th>product_group_name</th>\n",
       "      <th>graphical_appearance_no</th>\n",
       "      <th>graphical_appearance_name</th>\n",
       "      <th>colour_group_code</th>\n",
       "      <th>colour_group_name</th>\n",
       "      <th>...</th>\n",
       "      <th>department_name</th>\n",
       "      <th>index_code</th>\n",
       "      <th>index_name</th>\n",
       "      <th>index_group_no</th>\n",
       "      <th>index_group_name</th>\n",
       "      <th>section_no</th>\n",
       "      <th>section_name</th>\n",
       "      <th>garment_group_no</th>\n",
       "      <th>garment_group_name</th>\n",
       "      <th>detail_desc</th>\n",
       "    </tr>\n",
       "  </thead>\n",
       "  <tbody>\n",
       "    <tr>\n",
       "      <th>0</th>\n",
       "      <td>108775015</td>\n",
       "      <td>108775</td>\n",
       "      <td>Strap top</td>\n",
       "      <td>253</td>\n",
       "      <td>Vest top</td>\n",
       "      <td>Garment Upper body</td>\n",
       "      <td>1010016</td>\n",
       "      <td>Solid</td>\n",
       "      <td>9</td>\n",
       "      <td>Black</td>\n",
       "      <td>...</td>\n",
       "      <td>Jersey Basic</td>\n",
       "      <td>A</td>\n",
       "      <td>Ladieswear</td>\n",
       "      <td>1</td>\n",
       "      <td>Ladieswear</td>\n",
       "      <td>16</td>\n",
       "      <td>Womens Everyday Basics</td>\n",
       "      <td>1002</td>\n",
       "      <td>Jersey Basic</td>\n",
       "      <td>Jersey top with narrow shoulder straps.</td>\n",
       "    </tr>\n",
       "    <tr>\n",
       "      <th>1</th>\n",
       "      <td>108775044</td>\n",
       "      <td>108775</td>\n",
       "      <td>Strap top</td>\n",
       "      <td>253</td>\n",
       "      <td>Vest top</td>\n",
       "      <td>Garment Upper body</td>\n",
       "      <td>1010016</td>\n",
       "      <td>Solid</td>\n",
       "      <td>10</td>\n",
       "      <td>White</td>\n",
       "      <td>...</td>\n",
       "      <td>Jersey Basic</td>\n",
       "      <td>A</td>\n",
       "      <td>Ladieswear</td>\n",
       "      <td>1</td>\n",
       "      <td>Ladieswear</td>\n",
       "      <td>16</td>\n",
       "      <td>Womens Everyday Basics</td>\n",
       "      <td>1002</td>\n",
       "      <td>Jersey Basic</td>\n",
       "      <td>Jersey top with narrow shoulder straps.</td>\n",
       "    </tr>\n",
       "    <tr>\n",
       "      <th>2</th>\n",
       "      <td>108775051</td>\n",
       "      <td>108775</td>\n",
       "      <td>Strap top (1)</td>\n",
       "      <td>253</td>\n",
       "      <td>Vest top</td>\n",
       "      <td>Garment Upper body</td>\n",
       "      <td>1010017</td>\n",
       "      <td>Stripe</td>\n",
       "      <td>11</td>\n",
       "      <td>Off White</td>\n",
       "      <td>...</td>\n",
       "      <td>Jersey Basic</td>\n",
       "      <td>A</td>\n",
       "      <td>Ladieswear</td>\n",
       "      <td>1</td>\n",
       "      <td>Ladieswear</td>\n",
       "      <td>16</td>\n",
       "      <td>Womens Everyday Basics</td>\n",
       "      <td>1002</td>\n",
       "      <td>Jersey Basic</td>\n",
       "      <td>Jersey top with narrow shoulder straps.</td>\n",
       "    </tr>\n",
       "    <tr>\n",
       "      <th>3</th>\n",
       "      <td>110065001</td>\n",
       "      <td>110065</td>\n",
       "      <td>OP T-shirt (Idro)</td>\n",
       "      <td>306</td>\n",
       "      <td>Bra</td>\n",
       "      <td>Underwear</td>\n",
       "      <td>1010016</td>\n",
       "      <td>Solid</td>\n",
       "      <td>9</td>\n",
       "      <td>Black</td>\n",
       "      <td>...</td>\n",
       "      <td>Clean Lingerie</td>\n",
       "      <td>B</td>\n",
       "      <td>Lingeries/Tights</td>\n",
       "      <td>1</td>\n",
       "      <td>Ladieswear</td>\n",
       "      <td>61</td>\n",
       "      <td>Womens Lingerie</td>\n",
       "      <td>1017</td>\n",
       "      <td>Under-, Nightwear</td>\n",
       "      <td>Microfibre T-shirt bra with underwired, moulde...</td>\n",
       "    </tr>\n",
       "    <tr>\n",
       "      <th>4</th>\n",
       "      <td>110065002</td>\n",
       "      <td>110065</td>\n",
       "      <td>OP T-shirt (Idro)</td>\n",
       "      <td>306</td>\n",
       "      <td>Bra</td>\n",
       "      <td>Underwear</td>\n",
       "      <td>1010016</td>\n",
       "      <td>Solid</td>\n",
       "      <td>10</td>\n",
       "      <td>White</td>\n",
       "      <td>...</td>\n",
       "      <td>Clean Lingerie</td>\n",
       "      <td>B</td>\n",
       "      <td>Lingeries/Tights</td>\n",
       "      <td>1</td>\n",
       "      <td>Ladieswear</td>\n",
       "      <td>61</td>\n",
       "      <td>Womens Lingerie</td>\n",
       "      <td>1017</td>\n",
       "      <td>Under-, Nightwear</td>\n",
       "      <td>Microfibre T-shirt bra with underwired, moulde...</td>\n",
       "    </tr>\n",
       "  </tbody>\n",
       "</table>\n",
       "<p>5 rows × 25 columns</p>\n",
       "</div>"
      ],
      "text/plain": [
       "   article_id  product_code          prod_name  product_type_no  \\\n",
       "0   108775015        108775          Strap top              253   \n",
       "1   108775044        108775          Strap top              253   \n",
       "2   108775051        108775      Strap top (1)              253   \n",
       "3   110065001        110065  OP T-shirt (Idro)              306   \n",
       "4   110065002        110065  OP T-shirt (Idro)              306   \n",
       "\n",
       "  product_type_name  product_group_name  graphical_appearance_no  \\\n",
       "0          Vest top  Garment Upper body                  1010016   \n",
       "1          Vest top  Garment Upper body                  1010016   \n",
       "2          Vest top  Garment Upper body                  1010017   \n",
       "3               Bra           Underwear                  1010016   \n",
       "4               Bra           Underwear                  1010016   \n",
       "\n",
       "  graphical_appearance_name  colour_group_code colour_group_name  ...  \\\n",
       "0                     Solid                  9             Black  ...   \n",
       "1                     Solid                 10             White  ...   \n",
       "2                    Stripe                 11         Off White  ...   \n",
       "3                     Solid                  9             Black  ...   \n",
       "4                     Solid                 10             White  ...   \n",
       "\n",
       "   department_name index_code        index_name index_group_no  \\\n",
       "0     Jersey Basic          A        Ladieswear              1   \n",
       "1     Jersey Basic          A        Ladieswear              1   \n",
       "2     Jersey Basic          A        Ladieswear              1   \n",
       "3   Clean Lingerie          B  Lingeries/Tights              1   \n",
       "4   Clean Lingerie          B  Lingeries/Tights              1   \n",
       "\n",
       "   index_group_name section_no            section_name garment_group_no  \\\n",
       "0        Ladieswear         16  Womens Everyday Basics             1002   \n",
       "1        Ladieswear         16  Womens Everyday Basics             1002   \n",
       "2        Ladieswear         16  Womens Everyday Basics             1002   \n",
       "3        Ladieswear         61         Womens Lingerie             1017   \n",
       "4        Ladieswear         61         Womens Lingerie             1017   \n",
       "\n",
       "   garment_group_name                                        detail_desc  \n",
       "0        Jersey Basic            Jersey top with narrow shoulder straps.  \n",
       "1        Jersey Basic            Jersey top with narrow shoulder straps.  \n",
       "2        Jersey Basic            Jersey top with narrow shoulder straps.  \n",
       "3   Under-, Nightwear  Microfibre T-shirt bra with underwired, moulde...  \n",
       "4   Under-, Nightwear  Microfibre T-shirt bra with underwired, moulde...  \n",
       "\n",
       "[5 rows x 25 columns]"
      ]
     },
     "execution_count": 3,
     "metadata": {},
     "output_type": "execute_result"
    }
   ],
   "source": [
    "# import article information\n",
    "articles_dataframe = pd.read_csv(\"data/articles.csv\")\n",
    "articles_dataframe.head()"
   ]
  },
  {
   "cell_type": "code",
   "execution_count": 4,
   "metadata": {},
   "outputs": [
    {
     "data": {
      "text/html": [
       "<div>\n",
       "<style scoped>\n",
       "    .dataframe tbody tr th:only-of-type {\n",
       "        vertical-align: middle;\n",
       "    }\n",
       "\n",
       "    .dataframe tbody tr th {\n",
       "        vertical-align: top;\n",
       "    }\n",
       "\n",
       "    .dataframe thead th {\n",
       "        text-align: right;\n",
       "    }\n",
       "</style>\n",
       "<table border=\"1\" class=\"dataframe\">\n",
       "  <thead>\n",
       "    <tr style=\"text-align: right;\">\n",
       "      <th></th>\n",
       "      <th>customer_id</th>\n",
       "      <th>FN</th>\n",
       "      <th>Active</th>\n",
       "      <th>club_member_status</th>\n",
       "      <th>fashion_news_frequency</th>\n",
       "      <th>age</th>\n",
       "      <th>postal_code</th>\n",
       "    </tr>\n",
       "  </thead>\n",
       "  <tbody>\n",
       "    <tr>\n",
       "      <th>0</th>\n",
       "      <td>00000dbacae5abe5e23885899a1fa44253a17956c6d1c3...</td>\n",
       "      <td>NaN</td>\n",
       "      <td>NaN</td>\n",
       "      <td>ACTIVE</td>\n",
       "      <td>NONE</td>\n",
       "      <td>49.0</td>\n",
       "      <td>52043ee2162cf5aa7ee79974281641c6f11a68d276429a...</td>\n",
       "    </tr>\n",
       "    <tr>\n",
       "      <th>1</th>\n",
       "      <td>0000423b00ade91418cceaf3b26c6af3dd342b51fd051e...</td>\n",
       "      <td>NaN</td>\n",
       "      <td>NaN</td>\n",
       "      <td>ACTIVE</td>\n",
       "      <td>NONE</td>\n",
       "      <td>25.0</td>\n",
       "      <td>2973abc54daa8a5f8ccfe9362140c63247c5eee03f1d93...</td>\n",
       "    </tr>\n",
       "    <tr>\n",
       "      <th>2</th>\n",
       "      <td>000058a12d5b43e67d225668fa1f8d618c13dc232df0ca...</td>\n",
       "      <td>NaN</td>\n",
       "      <td>NaN</td>\n",
       "      <td>ACTIVE</td>\n",
       "      <td>NONE</td>\n",
       "      <td>24.0</td>\n",
       "      <td>64f17e6a330a85798e4998f62d0930d14db8db1c054af6...</td>\n",
       "    </tr>\n",
       "    <tr>\n",
       "      <th>3</th>\n",
       "      <td>00005ca1c9ed5f5146b52ac8639a40ca9d57aeff4d1bd2...</td>\n",
       "      <td>NaN</td>\n",
       "      <td>NaN</td>\n",
       "      <td>ACTIVE</td>\n",
       "      <td>NONE</td>\n",
       "      <td>54.0</td>\n",
       "      <td>5d36574f52495e81f019b680c843c443bd343d5ca5b1c2...</td>\n",
       "    </tr>\n",
       "    <tr>\n",
       "      <th>4</th>\n",
       "      <td>00006413d8573cd20ed7128e53b7b13819fe5cfc2d801f...</td>\n",
       "      <td>1.0</td>\n",
       "      <td>1.0</td>\n",
       "      <td>ACTIVE</td>\n",
       "      <td>Regularly</td>\n",
       "      <td>52.0</td>\n",
       "      <td>25fa5ddee9aac01b35208d01736e57942317d756b32ddd...</td>\n",
       "    </tr>\n",
       "  </tbody>\n",
       "</table>\n",
       "</div>"
      ],
      "text/plain": [
       "                                         customer_id   FN  Active  \\\n",
       "0  00000dbacae5abe5e23885899a1fa44253a17956c6d1c3...  NaN     NaN   \n",
       "1  0000423b00ade91418cceaf3b26c6af3dd342b51fd051e...  NaN     NaN   \n",
       "2  000058a12d5b43e67d225668fa1f8d618c13dc232df0ca...  NaN     NaN   \n",
       "3  00005ca1c9ed5f5146b52ac8639a40ca9d57aeff4d1bd2...  NaN     NaN   \n",
       "4  00006413d8573cd20ed7128e53b7b13819fe5cfc2d801f...  1.0     1.0   \n",
       "\n",
       "  club_member_status fashion_news_frequency   age  \\\n",
       "0             ACTIVE                   NONE  49.0   \n",
       "1             ACTIVE                   NONE  25.0   \n",
       "2             ACTIVE                   NONE  24.0   \n",
       "3             ACTIVE                   NONE  54.0   \n",
       "4             ACTIVE              Regularly  52.0   \n",
       "\n",
       "                                         postal_code  \n",
       "0  52043ee2162cf5aa7ee79974281641c6f11a68d276429a...  \n",
       "1  2973abc54daa8a5f8ccfe9362140c63247c5eee03f1d93...  \n",
       "2  64f17e6a330a85798e4998f62d0930d14db8db1c054af6...  \n",
       "3  5d36574f52495e81f019b680c843c443bd343d5ca5b1c2...  \n",
       "4  25fa5ddee9aac01b35208d01736e57942317d756b32ddd...  "
      ]
     },
     "execution_count": 4,
     "metadata": {},
     "output_type": "execute_result"
    }
   ],
   "source": [
    "# import customer information\n",
    "customers_dataframe = pd.read_csv(\"data/customers.csv\")\n",
    "customers_dataframe.head()"
   ]
  },
  {
   "cell_type": "code",
   "execution_count": 5,
   "metadata": {},
   "outputs": [
    {
     "data": {
      "text/html": [
       "<div>\n",
       "<style scoped>\n",
       "    .dataframe tbody tr th:only-of-type {\n",
       "        vertical-align: middle;\n",
       "    }\n",
       "\n",
       "    .dataframe tbody tr th {\n",
       "        vertical-align: top;\n",
       "    }\n",
       "\n",
       "    .dataframe thead th {\n",
       "        text-align: right;\n",
       "    }\n",
       "</style>\n",
       "<table border=\"1\" class=\"dataframe\">\n",
       "  <thead>\n",
       "    <tr style=\"text-align: right;\">\n",
       "      <th></th>\n",
       "      <th>t_dat</th>\n",
       "      <th>customer_id</th>\n",
       "      <th>article_id</th>\n",
       "      <th>price</th>\n",
       "      <th>sales_channel_id</th>\n",
       "    </tr>\n",
       "  </thead>\n",
       "  <tbody>\n",
       "    <tr>\n",
       "      <th>0</th>\n",
       "      <td>2018-09-20</td>\n",
       "      <td>000058a12d5b43e67d225668fa1f8d618c13dc232df0ca...</td>\n",
       "      <td>663713001</td>\n",
       "      <td>0.050831</td>\n",
       "      <td>2</td>\n",
       "    </tr>\n",
       "    <tr>\n",
       "      <th>1</th>\n",
       "      <td>2018-09-20</td>\n",
       "      <td>000058a12d5b43e67d225668fa1f8d618c13dc232df0ca...</td>\n",
       "      <td>541518023</td>\n",
       "      <td>0.030492</td>\n",
       "      <td>2</td>\n",
       "    </tr>\n",
       "    <tr>\n",
       "      <th>2</th>\n",
       "      <td>2018-09-20</td>\n",
       "      <td>00007d2de826758b65a93dd24ce629ed66842531df6699...</td>\n",
       "      <td>505221004</td>\n",
       "      <td>0.015237</td>\n",
       "      <td>2</td>\n",
       "    </tr>\n",
       "    <tr>\n",
       "      <th>3</th>\n",
       "      <td>2018-09-20</td>\n",
       "      <td>00007d2de826758b65a93dd24ce629ed66842531df6699...</td>\n",
       "      <td>685687003</td>\n",
       "      <td>0.016932</td>\n",
       "      <td>2</td>\n",
       "    </tr>\n",
       "    <tr>\n",
       "      <th>4</th>\n",
       "      <td>2018-09-20</td>\n",
       "      <td>00007d2de826758b65a93dd24ce629ed66842531df6699...</td>\n",
       "      <td>685687004</td>\n",
       "      <td>0.016932</td>\n",
       "      <td>2</td>\n",
       "    </tr>\n",
       "  </tbody>\n",
       "</table>\n",
       "</div>"
      ],
      "text/plain": [
       "        t_dat                                        customer_id  article_id  \\\n",
       "0  2018-09-20  000058a12d5b43e67d225668fa1f8d618c13dc232df0ca...   663713001   \n",
       "1  2018-09-20  000058a12d5b43e67d225668fa1f8d618c13dc232df0ca...   541518023   \n",
       "2  2018-09-20  00007d2de826758b65a93dd24ce629ed66842531df6699...   505221004   \n",
       "3  2018-09-20  00007d2de826758b65a93dd24ce629ed66842531df6699...   685687003   \n",
       "4  2018-09-20  00007d2de826758b65a93dd24ce629ed66842531df6699...   685687004   \n",
       "\n",
       "      price  sales_channel_id  \n",
       "0  0.050831                 2  \n",
       "1  0.030492                 2  \n",
       "2  0.015237                 2  \n",
       "3  0.016932                 2  \n",
       "4  0.016932                 2  "
      ]
     },
     "execution_count": 5,
     "metadata": {},
     "output_type": "execute_result"
    }
   ],
   "source": [
    "# import transaction information\n",
    "transactions_dataframe = pd.read_csv(\"data/transactions_train.csv\")\n",
    "transactions_dataframe.head()"
   ]
  },
  {
   "cell_type": "markdown",
   "metadata": {},
   "source": [
    "# Article Data Individual Column Exploration"
   ]
  },
  {
   "cell_type": "code",
   "execution_count": 6,
   "metadata": {},
   "outputs": [
    {
     "data": {
      "text/plain": [
       "0"
      ]
     },
     "execution_count": 6,
     "metadata": {},
     "output_type": "execute_result"
    }
   ],
   "source": [
    "# Verify article ids\n",
    "articles_dataframe[\"article_id\"].isna().sum()"
   ]
  },
  {
   "cell_type": "code",
   "execution_count": 90,
   "metadata": {},
   "outputs": [
    {
     "data": {
      "text/plain": [
       "True"
      ]
     },
     "execution_count": 90,
     "metadata": {},
     "output_type": "execute_result"
    }
   ],
   "source": [
    "# Verify unique article ids\n",
    "articles_dataframe[\"article_id\"].nunique() == articles_dataframe.shape[0]"
   ]
  },
  {
   "cell_type": "code",
   "execution_count": 7,
   "metadata": {},
   "outputs": [
    {
     "data": {
      "text/plain": [
       "0"
      ]
     },
     "execution_count": 7,
     "metadata": {},
     "output_type": "execute_result"
    }
   ],
   "source": [
    "# Verify article product codes\n",
    "articles_dataframe[\"product_code\"].isna().sum()"
   ]
  },
  {
   "cell_type": "code",
   "execution_count": 8,
   "metadata": {},
   "outputs": [
    {
     "data": {
      "text/plain": [
       "0"
      ]
     },
     "execution_count": 8,
     "metadata": {},
     "output_type": "execute_result"
    }
   ],
   "source": [
    "# Verify article product names\n",
    "articles_dataframe[\"prod_name\"].isna().sum()"
   ]
  },
  {
   "cell_type": "code",
   "execution_count": 47,
   "metadata": {
    "scrolled": false
   },
   "outputs": [
    {
     "data": {
      "text/plain": [
       "count              105542\n",
       "unique              45875\n",
       "top       Dragonfly dress\n",
       "freq                   98\n",
       "Name: prod_name, dtype: object"
      ]
     },
     "execution_count": 47,
     "metadata": {},
     "output_type": "execute_result"
    }
   ],
   "source": [
    "# Describe article product names\n",
    "articles_dataframe[\"prod_name\"].describe()"
   ]
  },
  {
   "cell_type": "code",
   "execution_count": 9,
   "metadata": {},
   "outputs": [
    {
     "data": {
      "text/plain": [
       "0"
      ]
     },
     "execution_count": 9,
     "metadata": {},
     "output_type": "execute_result"
    }
   ],
   "source": [
    "# Verify article product type numbers\n",
    "articles_dataframe[\"product_type_no\"].isna().sum()"
   ]
  },
  {
   "cell_type": "code",
   "execution_count": 10,
   "metadata": {},
   "outputs": [
    {
     "data": {
      "text/plain": [
       "0"
      ]
     },
     "execution_count": 10,
     "metadata": {},
     "output_type": "execute_result"
    }
   ],
   "source": [
    "# Verify article product type names\n",
    "articles_dataframe[\"product_type_name\"].isna().sum()"
   ]
  },
  {
   "cell_type": "code",
   "execution_count": 45,
   "metadata": {
    "scrolled": false
   },
   "outputs": [
    {
     "data": {
      "text/plain": [
       "count       105542\n",
       "unique         131\n",
       "top       Trousers\n",
       "freq         11169\n",
       "Name: product_type_name, dtype: object"
      ]
     },
     "execution_count": 45,
     "metadata": {},
     "output_type": "execute_result"
    }
   ],
   "source": [
    "# Describe article product types\n",
    "articles_dataframe[\"product_type_name\"].describe()"
   ]
  },
  {
   "cell_type": "code",
   "execution_count": 46,
   "metadata": {},
   "outputs": [
    {
     "data": {
      "text/plain": [
       "array(['Vest top', 'Bra', 'Underwear Tights', 'Socks', 'Leggings/Tights',\n",
       "       'Sweater', 'Top', 'Trousers', 'Hair clip', 'Umbrella',\n",
       "       'Pyjama jumpsuit/playsuit', 'Bodysuit', 'Hair string', 'Unknown',\n",
       "       'Hoodie', 'Sleep Bag', 'Hair/alice band', 'Belt', 'Boots',\n",
       "       'Bikini top', 'Swimwear bottom', 'Underwear bottom', 'Swimsuit',\n",
       "       'Skirt', 'T-shirt', 'Dress', 'Hat/beanie', 'Kids Underwear top',\n",
       "       'Shorts', 'Shirt', 'Cap/peaked', 'Pyjama set', 'Sneakers',\n",
       "       'Sunglasses', 'Cardigan', 'Gloves', 'Earring', 'Bag', 'Blazer',\n",
       "       'Other shoe', 'Jumpsuit/Playsuit', 'Sandals', 'Jacket', 'Costumes',\n",
       "       'Robe', 'Scarf', 'Coat', 'Other accessories', 'Polo shirt',\n",
       "       'Slippers', 'Night gown', 'Alice band', 'Straw hat', 'Hat/brim',\n",
       "       'Tailored Waistcoat', 'Necklace', 'Ballerinas', 'Tie',\n",
       "       'Pyjama bottom', 'Felt hat', 'Bracelet', 'Blouse',\n",
       "       'Outdoor overall', 'Watch', 'Underwear body', 'Beanie', 'Giftbox',\n",
       "       'Sleeping sack', 'Dungarees', 'Outdoor trousers', 'Wallet',\n",
       "       'Swimwear set', 'Swimwear top', 'Flat shoe', 'Garment Set', 'Ring',\n",
       "       'Waterbottle', 'Wedge', 'Long John', 'Outdoor Waistcoat', 'Pumps',\n",
       "       'Flip flop', 'Braces', 'Bootie', 'Fine cosmetics',\n",
       "       'Heeled sandals', 'Nipple covers', 'Chem. cosmetics', 'Soft Toys',\n",
       "       'Hair ties', 'Underwear corset', 'Bra extender', 'Underdress',\n",
       "       'Underwear set', 'Sarong', 'Leg warmers', 'Blanket', 'Hairband',\n",
       "       'Tote bag', 'Weekend/Gym bag', 'Cushion', 'Backpack', 'Earrings',\n",
       "       'Bucket hat', 'Flat shoes', 'Heels', 'Cap', 'Shoulder bag',\n",
       "       'Side table', 'Accessories set', 'Headband', 'Baby Bib',\n",
       "       'Keychain', 'Dog Wear', 'Washing bag', 'Sewing kit',\n",
       "       'Cross-body bag', 'Moccasins', 'Towel', 'Wood balls',\n",
       "       'Zipper head', 'Mobile case', 'Pre-walkers', 'Toy', 'Marker pen',\n",
       "       'Bumbag', 'Dog wear', 'Eyeglasses', 'Wireless earphone case',\n",
       "       'Stain remover spray', 'Clothing mist'], dtype=object)"
      ]
     },
     "execution_count": 46,
     "metadata": {},
     "output_type": "execute_result"
    }
   ],
   "source": [
    "# Check different article product types\n",
    "articles_dataframe[\"product_type_name\"].unique()"
   ]
  },
  {
   "cell_type": "code",
   "execution_count": 11,
   "metadata": {},
   "outputs": [
    {
     "data": {
      "text/plain": [
       "0"
      ]
     },
     "execution_count": 11,
     "metadata": {},
     "output_type": "execute_result"
    }
   ],
   "source": [
    "# Verify article product group names\n",
    "articles_dataframe[\"product_group_name\"].isna().sum()"
   ]
  },
  {
   "cell_type": "code",
   "execution_count": 44,
   "metadata": {
    "scrolled": false
   },
   "outputs": [
    {
     "data": {
      "text/plain": [
       "count                 105542\n",
       "unique                    19\n",
       "top       Garment Upper body\n",
       "freq                   42741\n",
       "Name: product_group_name, dtype: object"
      ]
     },
     "execution_count": 44,
     "metadata": {},
     "output_type": "execute_result"
    }
   ],
   "source": [
    "# Describe article product groups\n",
    "articles_dataframe[\"product_group_name\"].describe()"
   ]
  },
  {
   "cell_type": "code",
   "execution_count": 43,
   "metadata": {},
   "outputs": [
    {
     "data": {
      "text/plain": [
       "array(['Garment Upper body', 'Underwear', 'Socks & Tights',\n",
       "       'Garment Lower body', 'Accessories', 'Items', 'Nightwear',\n",
       "       'Unknown', 'Underwear/nightwear', 'Shoes', 'Swimwear',\n",
       "       'Garment Full body', 'Cosmetic', 'Interior textile', 'Bags',\n",
       "       'Furniture', 'Garment and Shoe care', 'Fun', 'Stationery'],\n",
       "      dtype=object)"
      ]
     },
     "execution_count": 43,
     "metadata": {},
     "output_type": "execute_result"
    }
   ],
   "source": [
    "# Check different article product groups\n",
    "articles_dataframe[\"product_group_name\"].unique()"
   ]
  },
  {
   "cell_type": "code",
   "execution_count": 12,
   "metadata": {},
   "outputs": [
    {
     "data": {
      "text/plain": [
       "0"
      ]
     },
     "execution_count": 12,
     "metadata": {},
     "output_type": "execute_result"
    }
   ],
   "source": [
    "# Verify article graphical appearance id\n",
    "articles_dataframe[\"graphical_appearance_no\"].isna().sum()"
   ]
  },
  {
   "cell_type": "code",
   "execution_count": 14,
   "metadata": {},
   "outputs": [
    {
     "data": {
      "text/plain": [
       "0"
      ]
     },
     "execution_count": 14,
     "metadata": {},
     "output_type": "execute_result"
    }
   ],
   "source": [
    "# Verify article graphical appearance name\n",
    "articles_dataframe[\"graphical_appearance_name\"].isna().sum()"
   ]
  },
  {
   "cell_type": "code",
   "execution_count": 41,
   "metadata": {
    "scrolled": false
   },
   "outputs": [
    {
     "data": {
      "text/plain": [
       "count     105542\n",
       "unique        30\n",
       "top        Solid\n",
       "freq       49747\n",
       "Name: graphical_appearance_name, dtype: object"
      ]
     },
     "execution_count": 41,
     "metadata": {},
     "output_type": "execute_result"
    }
   ],
   "source": [
    "# Describe article graphical appearances\n",
    "articles_dataframe[\"graphical_appearance_name\"].describe()"
   ]
  },
  {
   "cell_type": "code",
   "execution_count": 42,
   "metadata": {},
   "outputs": [
    {
     "data": {
      "text/plain": [
       "array(['Solid', 'Stripe', 'All over pattern', 'Melange', 'Transparent',\n",
       "       'Metallic', 'Application/3D', 'Denim', 'Colour blocking', 'Dot',\n",
       "       'Other structure', 'Contrast', 'Treatment', 'Check', 'Chambray',\n",
       "       'Front print', 'Glittering/Metallic', 'Mixed solid/pattern',\n",
       "       'Placement print', 'Other pattern', 'Neps', 'Embroidery', 'Lace',\n",
       "       'Jacquard', 'Unknown', 'Argyle', 'Slub', 'Mesh', 'Sequin',\n",
       "       'Hologram'], dtype=object)"
      ]
     },
     "execution_count": 42,
     "metadata": {},
     "output_type": "execute_result"
    }
   ],
   "source": [
    "# Check different graphical appearances\n",
    "articles_dataframe[\"graphical_appearance_name\"].unique()"
   ]
  },
  {
   "cell_type": "code",
   "execution_count": 15,
   "metadata": {},
   "outputs": [
    {
     "data": {
      "text/plain": [
       "0"
      ]
     },
     "execution_count": 15,
     "metadata": {},
     "output_type": "execute_result"
    }
   ],
   "source": [
    "# Verify article colour group code\n",
    "articles_dataframe[\"colour_group_code\"].isna().sum()"
   ]
  },
  {
   "cell_type": "code",
   "execution_count": 16,
   "metadata": {},
   "outputs": [
    {
     "data": {
      "text/plain": [
       "0"
      ]
     },
     "execution_count": 16,
     "metadata": {},
     "output_type": "execute_result"
    }
   ],
   "source": [
    "# Verify article colour group name\n",
    "articles_dataframe[\"colour_group_name\"].isna().sum()"
   ]
  },
  {
   "cell_type": "code",
   "execution_count": 38,
   "metadata": {
    "scrolled": false
   },
   "outputs": [
    {
     "data": {
      "text/plain": [
       "count     105542\n",
       "unique        50\n",
       "top        Black\n",
       "freq       22670\n",
       "Name: colour_group_name, dtype: object"
      ]
     },
     "execution_count": 38,
     "metadata": {},
     "output_type": "execute_result"
    }
   ],
   "source": [
    "# Describe article colour groups\n",
    "articles_dataframe[\"colour_group_name\"].describe()"
   ]
  },
  {
   "cell_type": "code",
   "execution_count": 39,
   "metadata": {},
   "outputs": [
    {
     "data": {
      "text/plain": [
       "array(['Black', 'White', 'Off White', 'Light Beige', 'Beige', 'Grey',\n",
       "       'Light Blue', 'Light Grey', 'Dark Blue', 'Dark Grey', 'Pink',\n",
       "       'Dark Red', 'Greyish Beige', 'Light Orange', 'Silver', 'Gold',\n",
       "       'Light Pink', 'Dark Pink', 'Yellowish Brown', 'Blue',\n",
       "       'Light Turquoise', 'Yellow', 'Greenish Khaki', 'Dark Yellow',\n",
       "       'Other Pink', 'Dark Purple', 'Red', 'Transparent', 'Dark Green',\n",
       "       'Other Red', 'Turquoise', 'Dark Orange', 'Other', 'Orange',\n",
       "       'Dark Beige', 'Other Yellow', 'Light Green', 'Other Orange',\n",
       "       'Purple', 'Light Red', 'Light Yellow', 'Green', 'Light Purple',\n",
       "       'Dark Turquoise', 'Other Purple', 'Bronze/Copper',\n",
       "       'Other Turquoise', 'Other Green', 'Other Blue', 'Unknown'],\n",
       "      dtype=object)"
      ]
     },
     "execution_count": 39,
     "metadata": {},
     "output_type": "execute_result"
    }
   ],
   "source": [
    "# Check different article colour groups\n",
    "articles_dataframe[\"colour_group_name\"].unique()"
   ]
  },
  {
   "cell_type": "code",
   "execution_count": 17,
   "metadata": {},
   "outputs": [
    {
     "data": {
      "text/plain": [
       "0"
      ]
     },
     "execution_count": 17,
     "metadata": {},
     "output_type": "execute_result"
    }
   ],
   "source": [
    "# Verify article department name\n",
    "articles_dataframe[\"department_name\"].isna().sum()"
   ]
  },
  {
   "cell_type": "code",
   "execution_count": 36,
   "metadata": {
    "scrolled": false
   },
   "outputs": [
    {
     "data": {
      "text/plain": [
       "count     105542\n",
       "unique       250\n",
       "top       Jersey\n",
       "freq        4604\n",
       "Name: department_name, dtype: object"
      ]
     },
     "execution_count": 36,
     "metadata": {},
     "output_type": "execute_result"
    }
   ],
   "source": [
    "# Describe article departments\n",
    "articles_dataframe[\"department_name\"].describe()"
   ]
  },
  {
   "cell_type": "code",
   "execution_count": 37,
   "metadata": {},
   "outputs": [
    {
     "data": {
      "text/plain": [
       "array(['Jersey Basic', 'Clean Lingerie', 'Tights basic', 'Baby basics',\n",
       "       'Casual Lingerie', 'Jersey', 'EQ & Special Collections',\n",
       "       'Hair Accessories', 'Other items', 'Baby Nightwear',\n",
       "       'Men Sport Woven', 'Men Sport Bottoms', 'Kids Boy Denim',\n",
       "       'Shopbasket Socks', 'Socks', 'UW', 'Young Girl Jersey Basic',\n",
       "       'Jacket Street', 'Belts', 'Divided Shoes', 'Swimwear',\n",
       "       'Underwear Jersey', 'Basic 1', 'Tops Knitwear DS', 'Men Sport Acc',\n",
       "       'Kids Boy Jersey Basic', 'Young Girl UW/NW', 'Shirt', 'Nightwear',\n",
       "       'Trouser', 'Small Accessories', 'Sunglasses', 'Gloves/Hats',\n",
       "       'Knit & Woven', 'Basics', 'Accessories', 'Jewellery',\n",
       "       'Jersey Fancy DS', 'Trousers DS', 'Bags', 'Blazer S&T', 'Knitwear',\n",
       "       'Woven bottoms', 'Shorts', 'Dresses DS', 'Expressive Lingerie',\n",
       "       'Kids Girl UW/NW', 'Young Boy Jersey Basic', 'Kids Girl S&T',\n",
       "       'Young Girl S&T', 'Shoes / Boots inactive from s5', 'Nursing',\n",
       "       'Jersey Fancy', 'Shoes', 'Functional Lingerie', 'Men Sport Tops',\n",
       "       'Other Accessories', 'Young Boy Trouser', 'Outdoor/Blazers DS',\n",
       "       'Mama Lingerie', 'Socks Bin', 'Denim Other Garments',\n",
       "       'Everyday Waredrobe Denim', 'Trousers', 'Denim Trousers',\n",
       "       'Outdoor/Blazers', 'Young Boy Denim', 'Scarves', 'Dresses',\n",
       "       'Skirts', 'Kids Girl Jersey Basic', 'Baby Socks',\n",
       "       'Trousers & Skirt', 'Young Boy Shirt', 'Kids Girl Big Acc',\n",
       "       'Young Girl Denim', 'Flats', 'Baby Toys/Acc', 'Projects Dresses',\n",
       "       'Denim shorts', 'Jersey inactive from s1', 'Promotion/Other/Offer',\n",
       "       'Bags & Items', 'Small Bags', 'Trouser S&T', 'Shirt S&T',\n",
       "       'Woven Tops', 'Denim trousers', 'Young Girl Knitwear', 'Outwear',\n",
       "       'Knitwear inactive from s1', 'Projects Woven Tops',\n",
       "       'Projects Jersey & Knitwear',\n",
       "       'Denim wardrobe H&M man inactive from S.6', 'Baby Boy Outdoor',\n",
       "       'Premium Quality', 'Woven inactive from s1', 'Tops woven DS',\n",
       "       'Newborn', 'Skirt', 'Jersey License', 'Jewellery Extended',\n",
       "       'Light Basic Jersey', 'Suit Extended inactive from s1',\n",
       "       'Young Boy UW/NW', 'Tops Knitwear', 'Kids Boy Socks',\n",
       "       'Young Boy Socks', 'Outdoor inactive from s1',\n",
       "       'Kids Girl Swimwear', 'Young Girl Swimwear', 'Ladies Sport Bras',\n",
       "       'Ladies Sport Bottoms', 'Jersey fancy', 'Blazer', 'Baby Boy Woven',\n",
       "       'Kids Boy Swimwear', 'Young boy Swimwear',\n",
       "       'Kids Dress-up/Football', 'Sneakers small girl inactive from s2',\n",
       "       'Tops Woven', 'Blouse', 'Shorts DS', 'Boots', 'Kids Boy Big Acc',\n",
       "       'Boys Small Acc & Bags', 'Woven top', 'Young Girl Dresses',\n",
       "       'Knitwear Basic', 'Sneakers', 'Dress', 'Baby Girl Woven',\n",
       "       'Baby Girl Jersey Fancy', 'Jacket Casual', 'Kids Boy UW/NW',\n",
       "       'Ladies Sport Acc', 'Kids Girl Jersey Fancy', 'Baby Exclusive',\n",
       "       'Young Boy Shorts', 'EQ Divided Basics', 'Shorts & Skirts',\n",
       "       'Promotion/ Other /Offer', 'Kids Boy Trouser', 'Tops Fancy Jersey',\n",
       "       'Kids Girl Knitwear', 'Kids Boy Jersey Fancy', 'Heels',\n",
       "       'Woven Premium', 'Blouse & Dress', 'Kids Girl Trouser',\n",
       "       'Kids Girl Dresses', 'Projects Woven Bottoms',\n",
       "       'Conscious Exclusive', 'Shoes Other', 'Kids Girl Outdoor',\n",
       "       'Skirts DS', 'Young Girl Jersey Fancy', 'Young Boy Outdoor',\n",
       "       'Young Girl Outdoor', 'Woven Occasion', 'Kids Boy Outdoor',\n",
       "       'Young Boy Jersey Fancy', 'Kids Boy Shoes', 'Ladies Sport Woven',\n",
       "       'Bottoms Girls', 'Tops Girls', 'Young Girl Big Acc',\n",
       "       'Young Boy Shoes', 'Young Boy Knitwear', 'Suit', 'Kids Girl Shoes',\n",
       "       'Jacket Smart', 'Projects', 'Kids Boy Knitwear',\n",
       "       'Woven bottoms inactive from S.7', 'Jersey/Knitwear Premium',\n",
       "       'Sneakers big girl inactive from s2', 'Suit jacket',\n",
       "       'Kids Boy Shirt', 'Jacket', 'Kids Girl Denim',\n",
       "       'Young Girl Trouser', 'Girls Small Acc/Bags',\n",
       "       'Shirt Extended inactive from s1', 'Tops Boys',\n",
       "       'Baby Girl Knitwear', 'Baby Shoes', 'Jackets', 'Jersey Occasion',\n",
       "       'Young Boy Big Acc', 'Kids Girl License', 'Baby Boy Jersey Fancy',\n",
       "       'Bottoms Boys', 'Local relevance', 'Dress-up Boys',\n",
       "       'Small Acc. Jewellery & Other', 'Baby Boy Knitwear',\n",
       "       'Equatorial Assortment', 'Loungewear', 'Studio Collection',\n",
       "       'Woven', 'Outwear & Blazers',\n",
       "       'Underwear Jersey Fancy inactive from s1', 'Special Collection',\n",
       "       'Take Care External', 'Equatorial', 'Divided+',\n",
       "       'OL Extended Sizes', 'Campaigns', 'Underwear Woven',\n",
       "       'Heavy Basic Jersey', 'EQ H&M Man', 'Young Girl Shoes', 'AK Other',\n",
       "       'Kids Boy Shorts', 'Bottoms', 'Shopbasket Lingerie',\n",
       "       'Kids Boy License', 'Baby Girl Outdoor',\n",
       "       'Promotion / Other / Offer', 'Divided+ inactive from s.1',\n",
       "       'Tops & Bottoms Other', 'Take care', 'Girls Local Relevance',\n",
       "       'AK Dresses & Outdoor', 'Limited Edition',\n",
       "       'AK Tops Jersey & Woven', 'AK Tops Knitwear', 'Divided Swimwear',\n",
       "       'AK Bottoms', 'Girls Projects', 'On Demand', 'Test Ladies',\n",
       "       'Socks Wall', 'Jersey inactive from S.6', 'Boys Local Relevance',\n",
       "       'License', 'Price Items', 'Asia Assortment', 'Accessories Boys',\n",
       "       'Read & React', 'EQ Ladies Denim', 'Small Accessories Extended',\n",
       "       'Baby Boy Local Relevance', 'Kids Girl Exclusive',\n",
       "       'Baby Girl Local Relevance', 'EQ Divided Blue',\n",
       "       'Kids Boy Exclusive', 'Accessories Other', 'Blanks'], dtype=object)"
      ]
     },
     "execution_count": 37,
     "metadata": {},
     "output_type": "execute_result"
    }
   ],
   "source": [
    "# Check different article departments\n",
    "articles_dataframe[\"department_name\"].unique()"
   ]
  },
  {
   "cell_type": "code",
   "execution_count": 18,
   "metadata": {},
   "outputs": [
    {
     "data": {
      "text/plain": [
       "0"
      ]
     },
     "execution_count": 18,
     "metadata": {},
     "output_type": "execute_result"
    }
   ],
   "source": [
    "# Verify article index code\n",
    "articles_dataframe[\"index_code\"].isna().sum()"
   ]
  },
  {
   "cell_type": "code",
   "execution_count": 19,
   "metadata": {},
   "outputs": [
    {
     "data": {
      "text/plain": [
       "0"
      ]
     },
     "execution_count": 19,
     "metadata": {},
     "output_type": "execute_result"
    }
   ],
   "source": [
    "# Verify article index name\n",
    "articles_dataframe[\"index_name\"].isna().sum()"
   ]
  },
  {
   "cell_type": "code",
   "execution_count": 35,
   "metadata": {
    "scrolled": false
   },
   "outputs": [
    {
     "data": {
      "text/plain": [
       "count         105542\n",
       "unique            10\n",
       "top       Ladieswear\n",
       "freq           26001\n",
       "Name: index_name, dtype: object"
      ]
     },
     "execution_count": 35,
     "metadata": {},
     "output_type": "execute_result"
    }
   ],
   "source": [
    "# Describe article indexes\n",
    "articles_dataframe[\"index_name\"].describe()"
   ]
  },
  {
   "cell_type": "code",
   "execution_count": 34,
   "metadata": {},
   "outputs": [
    {
     "data": {
      "text/plain": [
       "array(['Ladieswear', 'Lingeries/Tights', 'Baby Sizes 50-98', 'Menswear',\n",
       "       'Ladies Accessories', 'Sport', 'Children Sizes 92-140', 'Divided',\n",
       "       'Children Sizes 134-170', 'Children Accessories, Swimwear'],\n",
       "      dtype=object)"
      ]
     },
     "execution_count": 34,
     "metadata": {},
     "output_type": "execute_result"
    }
   ],
   "source": [
    "# Check different article indexes\n",
    "articles_dataframe[\"index_name\"].unique()"
   ]
  },
  {
   "cell_type": "code",
   "execution_count": 20,
   "metadata": {},
   "outputs": [
    {
     "data": {
      "text/plain": [
       "0"
      ]
     },
     "execution_count": 20,
     "metadata": {},
     "output_type": "execute_result"
    }
   ],
   "source": [
    "# Verify article index group id\n",
    "articles_dataframe[\"index_group_no\"].isna().sum()"
   ]
  },
  {
   "cell_type": "code",
   "execution_count": 21,
   "metadata": {},
   "outputs": [
    {
     "data": {
      "text/plain": [
       "0"
      ]
     },
     "execution_count": 21,
     "metadata": {},
     "output_type": "execute_result"
    }
   ],
   "source": [
    "# Verify article index group name\n",
    "articles_dataframe[\"index_group_name\"].isna().sum()"
   ]
  },
  {
   "cell_type": "code",
   "execution_count": 28,
   "metadata": {
    "scrolled": false
   },
   "outputs": [
    {
     "data": {
      "text/plain": [
       "count         105542\n",
       "unique             5\n",
       "top       Ladieswear\n",
       "freq           39737\n",
       "Name: index_group_name, dtype: object"
      ]
     },
     "execution_count": 28,
     "metadata": {},
     "output_type": "execute_result"
    }
   ],
   "source": [
    "# Describe article index groups\n",
    "articles_dataframe[\"index_group_name\"].describe()"
   ]
  },
  {
   "cell_type": "code",
   "execution_count": 29,
   "metadata": {},
   "outputs": [
    {
     "data": {
      "text/plain": [
       "array(['Ladieswear', 'Baby/Children', 'Menswear', 'Sport', 'Divided'],\n",
       "      dtype=object)"
      ]
     },
     "execution_count": 29,
     "metadata": {},
     "output_type": "execute_result"
    }
   ],
   "source": [
    "# Check different article index groups\n",
    "articles_dataframe[\"index_group_name\"].unique()"
   ]
  },
  {
   "cell_type": "code",
   "execution_count": 22,
   "metadata": {},
   "outputs": [
    {
     "data": {
      "text/plain": [
       "0"
      ]
     },
     "execution_count": 22,
     "metadata": {},
     "output_type": "execute_result"
    }
   ],
   "source": [
    "# Verify article section number\n",
    "articles_dataframe[\"section_no\"].isna().sum()"
   ]
  },
  {
   "cell_type": "code",
   "execution_count": 23,
   "metadata": {},
   "outputs": [
    {
     "data": {
      "text/plain": [
       "0"
      ]
     },
     "execution_count": 23,
     "metadata": {},
     "output_type": "execute_result"
    }
   ],
   "source": [
    "# Verify article section name\n",
    "articles_dataframe[\"section_name\"].isna().sum()"
   ]
  },
  {
   "cell_type": "code",
   "execution_count": 31,
   "metadata": {
    "scrolled": false
   },
   "outputs": [
    {
     "data": {
      "text/plain": [
       "count                         105542\n",
       "unique                            56\n",
       "top       Womens Everyday Collection\n",
       "freq                            7295\n",
       "Name: section_name, dtype: object"
      ]
     },
     "execution_count": 31,
     "metadata": {},
     "output_type": "execute_result"
    }
   ],
   "source": [
    "# Describe article sections\n",
    "articles_dataframe[\"section_name\"].describe()"
   ]
  },
  {
   "cell_type": "code",
   "execution_count": 30,
   "metadata": {},
   "outputs": [
    {
     "data": {
      "text/plain": [
       "array(['Womens Everyday Basics', 'Womens Lingerie',\n",
       "       'Womens Nightwear, Socks & Tigh', 'Baby Essentials & Complements',\n",
       "       'Men Underwear', 'Mama', 'Womens Small accessories',\n",
       "       'Men H&M Sport', 'Kids Boy', 'Divided Basics',\n",
       "       'Girls Underwear & Basics', 'Mens Outerwear',\n",
       "       'Womens Big accessories', 'Divided Accessories',\n",
       "       'Womens Swimwear, beachwear', 'Divided Selected',\n",
       "       'Boys Underwear & Basics', 'Contemporary Street',\n",
       "       'Contemporary Casual', 'Men Accessories', 'Men Suits & Tailoring',\n",
       "       'Womens Everyday Collection', 'Men Shoes', 'Young Boy', 'H&M+',\n",
       "       'Divided Collection', 'Ladies Denim', 'Contemporary Smart',\n",
       "       'Womens Trend', 'Kids Outerwear', 'Young Girl', 'Womens Shoes',\n",
       "       'Womens Tailoring', 'Divided Projects', 'Denim Men', 'Men Other',\n",
       "       'Womens Jackets', 'Men Other 2', 'Baby Boy', 'Womens Casual',\n",
       "       'Kids Accessories, Swimwear & D', 'Ladies H&M Sport',\n",
       "       'Kids & Baby Shoes', 'Baby Girl', 'Kids Girl',\n",
       "       'Divided Complements Other', 'Womens Premium',\n",
       "       'Special Collections', 'Kids Sports', 'Men Project', 'Men Edition',\n",
       "       'Collaborations', 'Divided Asia keys', 'EQ Divided',\n",
       "       'Kids Local Relevance', 'Ladies Other'], dtype=object)"
      ]
     },
     "execution_count": 30,
     "metadata": {},
     "output_type": "execute_result"
    }
   ],
   "source": [
    "# Check different article sections\n",
    "articles_dataframe[\"section_name\"].unique()"
   ]
  },
  {
   "cell_type": "code",
   "execution_count": 24,
   "metadata": {},
   "outputs": [
    {
     "data": {
      "text/plain": [
       "0"
      ]
     },
     "execution_count": 24,
     "metadata": {},
     "output_type": "execute_result"
    }
   ],
   "source": [
    "# Verify article garment group number\n",
    "articles_dataframe[\"garment_group_no\"].isna().sum()"
   ]
  },
  {
   "cell_type": "code",
   "execution_count": 25,
   "metadata": {},
   "outputs": [
    {
     "data": {
      "text/plain": [
       "0"
      ]
     },
     "execution_count": 25,
     "metadata": {},
     "output_type": "execute_result"
    }
   ],
   "source": [
    "# Verify article garment group name\n",
    "articles_dataframe[\"garment_group_name\"].isna().sum()"
   ]
  },
  {
   "cell_type": "code",
   "execution_count": 32,
   "metadata": {
    "scrolled": false
   },
   "outputs": [
    {
     "data": {
      "text/plain": [
       "count           105542\n",
       "unique              21\n",
       "top       Jersey Fancy\n",
       "freq             21445\n",
       "Name: garment_group_name, dtype: object"
      ]
     },
     "execution_count": 32,
     "metadata": {},
     "output_type": "execute_result"
    }
   ],
   "source": [
    "# Describe article garment groups\n",
    "articles_dataframe[\"garment_group_name\"].describe()"
   ]
  },
  {
   "cell_type": "code",
   "execution_count": 33,
   "metadata": {},
   "outputs": [
    {
     "data": {
      "text/plain": [
       "array(['Jersey Basic', 'Under-, Nightwear', 'Socks and Tights',\n",
       "       'Jersey Fancy', 'Accessories', 'Trousers Denim', 'Outdoor',\n",
       "       'Shoes', 'Swimwear', 'Knitwear', 'Shirts', 'Trousers', 'Dressed',\n",
       "       'Shorts', 'Dresses Ladies', 'Skirts', 'Special Offers', 'Blouses',\n",
       "       'Unknown', 'Woven/Jersey/Knitted mix Baby', 'Dresses/Skirts girls'],\n",
       "      dtype=object)"
      ]
     },
     "execution_count": 33,
     "metadata": {},
     "output_type": "execute_result"
    }
   ],
   "source": [
    "# Check different article garment groups\n",
    "articles_dataframe[\"garment_group_name\"].unique()"
   ]
  },
  {
   "cell_type": "code",
   "execution_count": 26,
   "metadata": {},
   "outputs": [
    {
     "data": {
      "text/plain": [
       "416"
      ]
     },
     "execution_count": 26,
     "metadata": {},
     "output_type": "execute_result"
    }
   ],
   "source": [
    "# Verify article detail desc\n",
    "articles_dataframe[\"detail_desc\"].isna().sum()"
   ]
  },
  {
   "cell_type": "markdown",
   "metadata": {},
   "source": [
    "# Customer Data Individual Column Exploration"
   ]
  },
  {
   "cell_type": "code",
   "execution_count": 48,
   "metadata": {},
   "outputs": [
    {
     "data": {
      "text/plain": [
       "0"
      ]
     },
     "execution_count": 48,
     "metadata": {},
     "output_type": "execute_result"
    }
   ],
   "source": [
    "# Verify no missing user ids\n",
    "customers_dataframe[\"customer_id\"].isna().sum()"
   ]
  },
  {
   "cell_type": "code",
   "execution_count": 49,
   "metadata": {},
   "outputs": [
    {
     "data": {
      "text/plain": [
       "True"
      ]
     },
     "execution_count": 49,
     "metadata": {},
     "output_type": "execute_result"
    }
   ],
   "source": [
    "# Verify unique user ids\n",
    "customers_dataframe[\"customer_id\"].nunique() == customers_dataframe.shape[0]"
   ]
  },
  {
   "cell_type": "code",
   "execution_count": 50,
   "metadata": {},
   "outputs": [
    {
     "data": {
      "text/plain": [
       "count    476930.0\n",
       "mean          1.0\n",
       "std           0.0\n",
       "min           1.0\n",
       "25%           1.0\n",
       "50%           1.0\n",
       "75%           1.0\n",
       "max           1.0\n",
       "Name: FN, dtype: float64"
      ]
     },
     "execution_count": 50,
     "metadata": {},
     "output_type": "execute_result"
    }
   ],
   "source": [
    "# Verify FN is only 1.0 or NaN\n",
    "customers_dataframe[\"FN\"].describe()"
   ]
  },
  {
   "cell_type": "code",
   "execution_count": 51,
   "metadata": {},
   "outputs": [
    {
     "data": {
      "text/plain": [
       "895050"
      ]
     },
     "execution_count": 51,
     "metadata": {},
     "output_type": "execute_result"
    }
   ],
   "source": [
    "# Count NaN FN\n",
    "customers_dataframe[\"FN\"].isna().sum()"
   ]
  },
  {
   "cell_type": "code",
   "execution_count": 52,
   "metadata": {},
   "outputs": [
    {
     "data": {
      "text/plain": [
       "count    464404.0\n",
       "mean          1.0\n",
       "std           0.0\n",
       "min           1.0\n",
       "25%           1.0\n",
       "50%           1.0\n",
       "75%           1.0\n",
       "max           1.0\n",
       "Name: Active, dtype: float64"
      ]
     },
     "execution_count": 52,
     "metadata": {},
     "output_type": "execute_result"
    }
   ],
   "source": [
    "# Verify Active is only 1.0 or NaN\n",
    "customers_dataframe[\"Active\"].describe()"
   ]
  },
  {
   "cell_type": "code",
   "execution_count": 53,
   "metadata": {},
   "outputs": [
    {
     "data": {
      "text/plain": [
       "907576"
      ]
     },
     "execution_count": 53,
     "metadata": {},
     "output_type": "execute_result"
    }
   ],
   "source": [
    "# Count NaN FN\n",
    "customers_dataframe[\"Active\"].isna().sum()"
   ]
  },
  {
   "cell_type": "code",
   "execution_count": 56,
   "metadata": {},
   "outputs": [
    {
     "data": {
      "text/plain": [
       "count     1365918\n",
       "unique          3\n",
       "top        ACTIVE\n",
       "freq      1272491\n",
       "Name: club_member_status, dtype: object"
      ]
     },
     "execution_count": 56,
     "metadata": {},
     "output_type": "execute_result"
    }
   ],
   "source": [
    "# Describe club member status\n",
    "customers_dataframe[\"club_member_status\"].describe()"
   ]
  },
  {
   "cell_type": "code",
   "execution_count": 57,
   "metadata": {},
   "outputs": [
    {
     "data": {
      "text/plain": [
       "6062"
      ]
     },
     "execution_count": 57,
     "metadata": {},
     "output_type": "execute_result"
    }
   ],
   "source": [
    "# Count NaN club member status\n",
    "customers_dataframe[\"club_member_status\"].isna().sum()"
   ]
  },
  {
   "cell_type": "code",
   "execution_count": 58,
   "metadata": {},
   "outputs": [
    {
     "data": {
      "text/plain": [
       "array(['ACTIVE', nan, 'PRE-CREATE', 'LEFT CLUB'], dtype=object)"
      ]
     },
     "execution_count": 58,
     "metadata": {},
     "output_type": "execute_result"
    }
   ],
   "source": [
    "# Show club member status unique values\n",
    "customers_dataframe[\"club_member_status\"].unique()"
   ]
  },
  {
   "cell_type": "code",
   "execution_count": 59,
   "metadata": {},
   "outputs": [
    {
     "data": {
      "text/plain": [
       "count     1355971\n",
       "unique          4\n",
       "top          NONE\n",
       "freq       877711\n",
       "Name: fashion_news_frequency, dtype: object"
      ]
     },
     "execution_count": 59,
     "metadata": {},
     "output_type": "execute_result"
    }
   ],
   "source": [
    "# Describe fashion news frequency\n",
    "customers_dataframe[\"fashion_news_frequency\"].describe()"
   ]
  },
  {
   "cell_type": "code",
   "execution_count": 60,
   "metadata": {},
   "outputs": [
    {
     "data": {
      "text/plain": [
       "16009"
      ]
     },
     "execution_count": 60,
     "metadata": {},
     "output_type": "execute_result"
    }
   ],
   "source": [
    "# Count NaN fashion news frequency\n",
    "customers_dataframe[\"fashion_news_frequency\"].isna().sum()"
   ]
  },
  {
   "cell_type": "code",
   "execution_count": 61,
   "metadata": {},
   "outputs": [
    {
     "data": {
      "text/plain": [
       "array(['NONE', 'Regularly', nan, 'Monthly', 'None'], dtype=object)"
      ]
     },
     "execution_count": 61,
     "metadata": {},
     "output_type": "execute_result"
    }
   ],
   "source": [
    "# Show club member status unique values\n",
    "customers_dataframe[\"fashion_news_frequency\"].unique()"
   ]
  },
  {
   "cell_type": "code",
   "execution_count": 62,
   "metadata": {},
   "outputs": [
    {
     "data": {
      "text/plain": [
       "15861"
      ]
     },
     "execution_count": 62,
     "metadata": {},
     "output_type": "execute_result"
    }
   ],
   "source": [
    "# Count NaN of age column\n",
    "customers_dataframe[\"age\"].isna().sum()"
   ]
  },
  {
   "cell_type": "code",
   "execution_count": 63,
   "metadata": {},
   "outputs": [
    {
     "data": {
      "text/plain": [
       "count    1.356119e+06\n",
       "mean     3.638696e+01\n",
       "std      1.431363e+01\n",
       "min      1.600000e+01\n",
       "25%      2.400000e+01\n",
       "50%      3.200000e+01\n",
       "75%      4.900000e+01\n",
       "max      9.900000e+01\n",
       "Name: age, dtype: float64"
      ]
     },
     "execution_count": 63,
     "metadata": {},
     "output_type": "execute_result"
    }
   ],
   "source": [
    "# Describe age column\n",
    "customers_dataframe[\"age\"].describe()"
   ]
  },
  {
   "cell_type": "code",
   "execution_count": 71,
   "metadata": {},
   "outputs": [
    {
     "data": {
      "text/plain": [
       "<AxesSubplot:ylabel='Frequency'>"
      ]
     },
     "execution_count": 71,
     "metadata": {},
     "output_type": "execute_result"
    },
    {
     "data": {
      "image/png": "[encoded data removed]",
      "text/plain": [
       "<Figure size 432x288 with 1 Axes>"
      ]
     },
     "metadata": {
      "needs_background": "light"
     },
     "output_type": "display_data"
    }
   ],
   "source": [
    "# Age column histogram\n",
    "customers_dataframe[\"age\"].plot.hist(bins=20)"
   ]
  },
  {
   "cell_type": "markdown",
   "metadata": {},
   "source": [
    "# Transaction Data Individual Column Exploration"
   ]
  },
  {
   "cell_type": "code",
   "execution_count": 72,
   "metadata": {},
   "outputs": [
    {
     "data": {
      "text/plain": [
       "0"
      ]
     },
     "execution_count": 72,
     "metadata": {},
     "output_type": "execute_result"
    }
   ],
   "source": [
    "# Check for NaN dates\n",
    "transactions_dataframe[\"t_dat\"].isna().sum()"
   ]
  },
  {
   "cell_type": "code",
   "execution_count": 73,
   "metadata": {},
   "outputs": [
    {
     "data": {
      "text/plain": [
       "count       31788324\n",
       "unique           734\n",
       "top       2019-09-28\n",
       "freq          198622\n",
       "Name: t_dat, dtype: object"
      ]
     },
     "execution_count": 73,
     "metadata": {},
     "output_type": "execute_result"
    }
   ],
   "source": [
    "# Describe transaction dates\n",
    "transactions_dataframe[\"t_dat\"].describe()"
   ]
  },
  {
   "cell_type": "code",
   "execution_count": 74,
   "metadata": {},
   "outputs": [
    {
     "data": {
      "text/plain": [
       "min    2018-09-20\n",
       "max    2020-09-22\n",
       "Name: t_dat, dtype: object"
      ]
     },
     "execution_count": 74,
     "metadata": {},
     "output_type": "execute_result"
    }
   ],
   "source": [
    "# Check first and last transaction date\n",
    "transactions_dataframe[\"t_dat\"].agg([\"min\", \"max\"])"
   ]
  },
  {
   "cell_type": "code",
   "execution_count": 78,
   "metadata": {},
   "outputs": [
    {
     "data": {
      "text/plain": [
       "<AxesSubplot:>"
      ]
     },
     "execution_count": 78,
     "metadata": {},
     "output_type": "execute_result"
    },
    {
     "data": {
      "image/png": "[encoded data removed]",
      "text/plain": [
       "<Figure size 432x288 with 1 Axes>"
      ]
     },
     "metadata": {
      "needs_background": "light"
     },
     "output_type": "display_data"
    }
   ],
   "source": [
    "# Plot histogram for transactions\n",
    "\n",
    "# Get unique months\n",
    "month_data = transactions_dataframe[\"t_dat\"].map(lambda x : x[0:7])\n",
    "month_data.value_counts().sort_index().plot.bar()"
   ]
  },
  {
   "cell_type": "code",
   "execution_count": 79,
   "metadata": {},
   "outputs": [
    {
     "data": {
      "text/plain": [
       "0"
      ]
     },
     "execution_count": 79,
     "metadata": {},
     "output_type": "execute_result"
    }
   ],
   "source": [
    "# Verify no empty customer ids\n",
    "transactions_dataframe[\"customer_id\"].isna().sum()"
   ]
  },
  {
   "cell_type": "code",
   "execution_count": 80,
   "metadata": {},
   "outputs": [
    {
     "data": {
      "text/plain": [
       "0"
      ]
     },
     "execution_count": 80,
     "metadata": {},
     "output_type": "execute_result"
    }
   ],
   "source": [
    "# Verify no empty article ids\n",
    "transactions_dataframe[\"article_id\"].isna().sum()"
   ]
  },
  {
   "cell_type": "code",
   "execution_count": 81,
   "metadata": {},
   "outputs": [
    {
     "data": {
      "text/plain": [
       "0"
      ]
     },
     "execution_count": 81,
     "metadata": {},
     "output_type": "execute_result"
    }
   ],
   "source": [
    "# Verify no empty prices\n",
    "transactions_dataframe[\"price\"].isna().sum()"
   ]
  },
  {
   "cell_type": "code",
   "execution_count": 84,
   "metadata": {},
   "outputs": [
    {
     "data": {
      "text/plain": [
       "count    3.178832e+07\n",
       "mean     2.782927e-02\n",
       "std      1.918113e-02\n",
       "min      1.694915e-05\n",
       "25%      1.581356e-02\n",
       "50%      2.540678e-02\n",
       "75%      3.388136e-02\n",
       "max      5.915254e-01\n",
       "Name: price, dtype: float64"
      ]
     },
     "execution_count": 84,
     "metadata": {},
     "output_type": "execute_result"
    }
   ],
   "source": [
    "# Describe prices\n",
    "transactions_dataframe[\"price\"].describe()"
   ]
  },
  {
   "cell_type": "code",
   "execution_count": 86,
   "metadata": {},
   "outputs": [
    {
     "data": {
      "text/plain": [
       "<AxesSubplot:ylabel='Frequency'>"
      ]
     },
     "execution_count": 86,
     "metadata": {},
     "output_type": "execute_result"
    },
    {
     "data": {
      "image/png": "[encoded data removed]",
      "text/plain": [
       "<Figure size 432x288 with 1 Axes>"
      ]
     },
     "metadata": {
      "needs_background": "light"
     },
     "output_type": "display_data"
    }
   ],
   "source": [
    "# Price histogram\n",
    "transactions_dataframe[\"price\"].plot.hist(bins=30)"
   ]
  },
  {
   "cell_type": "code",
   "execution_count": 83,
   "metadata": {},
   "outputs": [
    {
     "data": {
      "text/plain": [
       "0"
      ]
     },
     "execution_count": 83,
     "metadata": {},
     "output_type": "execute_result"
    }
   ],
   "source": [
    "# Verify no empty sale channels\n",
    "transactions_dataframe[\"sales_channel_id\"].isna().sum()"
   ]
  },
  {
   "cell_type": "code",
   "execution_count": 88,
   "metadata": {},
   "outputs": [
    {
     "data": {
      "text/plain": [
       "array([2, 1], dtype=int64)"
      ]
     },
     "execution_count": 88,
     "metadata": {},
     "output_type": "execute_result"
    }
   ],
   "source": [
    "# Describe sale channels\n",
    "transactions_dataframe[\"sales_channel_id\"].unique()"
   ]
  },
  {
   "cell_type": "markdown",
   "metadata": {},
   "source": [
    "# Explore Data Integrity Between Columns"
   ]
  },
  {
   "cell_type": "code",
   "execution_count": 117,
   "metadata": {
    "scrolled": false
   },
   "outputs": [
    {
     "data": {
      "text/html": [
       "<div>\n",
       "<style scoped>\n",
       "    .dataframe tbody tr th:only-of-type {\n",
       "        vertical-align: middle;\n",
       "    }\n",
       "\n",
       "    .dataframe tbody tr th {\n",
       "        vertical-align: top;\n",
       "    }\n",
       "\n",
       "    .dataframe thead th {\n",
       "        text-align: right;\n",
       "    }\n",
       "</style>\n",
       "<table border=\"1\" class=\"dataframe\">\n",
       "  <thead>\n",
       "    <tr style=\"text-align: right;\">\n",
       "      <th></th>\n",
       "      <th>article_id</th>\n",
       "      <th>product_code</th>\n",
       "      <th>prod_name</th>\n",
       "      <th>product_type_no</th>\n",
       "      <th>product_type_name</th>\n",
       "      <th>product_group_name</th>\n",
       "      <th>graphical_appearance_no</th>\n",
       "      <th>graphical_appearance_name</th>\n",
       "      <th>colour_group_code</th>\n",
       "      <th>colour_group_name</th>\n",
       "      <th>...</th>\n",
       "      <th>department_name</th>\n",
       "      <th>index_code</th>\n",
       "      <th>index_name</th>\n",
       "      <th>index_group_no</th>\n",
       "      <th>index_group_name</th>\n",
       "      <th>section_no</th>\n",
       "      <th>section_name</th>\n",
       "      <th>garment_group_no</th>\n",
       "      <th>garment_group_name</th>\n",
       "      <th>detail_desc</th>\n",
       "    </tr>\n",
       "  </thead>\n",
       "  <tbody>\n",
       "    <tr>\n",
       "      <th>0</th>\n",
       "      <td>108775015</td>\n",
       "      <td>108775</td>\n",
       "      <td>Strap top</td>\n",
       "      <td>253</td>\n",
       "      <td>Vest top</td>\n",
       "      <td>Garment Upper body</td>\n",
       "      <td>1010016</td>\n",
       "      <td>Solid</td>\n",
       "      <td>9</td>\n",
       "      <td>Black</td>\n",
       "      <td>...</td>\n",
       "      <td>Jersey Basic</td>\n",
       "      <td>A</td>\n",
       "      <td>Ladieswear</td>\n",
       "      <td>1</td>\n",
       "      <td>Ladieswear</td>\n",
       "      <td>16</td>\n",
       "      <td>Womens Everyday Basics</td>\n",
       "      <td>1002</td>\n",
       "      <td>Jersey Basic</td>\n",
       "      <td>Jersey top with narrow shoulder straps.</td>\n",
       "    </tr>\n",
       "    <tr>\n",
       "      <th>2</th>\n",
       "      <td>108775051</td>\n",
       "      <td>108775</td>\n",
       "      <td>Strap top (1)</td>\n",
       "      <td>253</td>\n",
       "      <td>Vest top</td>\n",
       "      <td>Garment Upper body</td>\n",
       "      <td>1010017</td>\n",
       "      <td>Stripe</td>\n",
       "      <td>11</td>\n",
       "      <td>Off White</td>\n",
       "      <td>...</td>\n",
       "      <td>Jersey Basic</td>\n",
       "      <td>A</td>\n",
       "      <td>Ladieswear</td>\n",
       "      <td>1</td>\n",
       "      <td>Ladieswear</td>\n",
       "      <td>16</td>\n",
       "      <td>Womens Everyday Basics</td>\n",
       "      <td>1002</td>\n",
       "      <td>Jersey Basic</td>\n",
       "      <td>Jersey top with narrow shoulder straps.</td>\n",
       "    </tr>\n",
       "    <tr>\n",
       "      <th>46</th>\n",
       "      <td>146706001</td>\n",
       "      <td>146706</td>\n",
       "      <td>Tanktop body white 3PACK</td>\n",
       "      <td>256</td>\n",
       "      <td>Bodysuit</td>\n",
       "      <td>Garment Upper body</td>\n",
       "      <td>1010016</td>\n",
       "      <td>Solid</td>\n",
       "      <td>10</td>\n",
       "      <td>White</td>\n",
       "      <td>...</td>\n",
       "      <td>Baby basics</td>\n",
       "      <td>G</td>\n",
       "      <td>Baby Sizes 50-98</td>\n",
       "      <td>4</td>\n",
       "      <td>Baby/Children</td>\n",
       "      <td>44</td>\n",
       "      <td>Baby Essentials &amp; Complements</td>\n",
       "      <td>1002</td>\n",
       "      <td>Jersey Basic</td>\n",
       "      <td>Sleeveless bodysuits in soft organic cotton je...</td>\n",
       "    </tr>\n",
       "    <tr>\n",
       "      <th>48</th>\n",
       "      <td>146706005</td>\n",
       "      <td>146706</td>\n",
       "      <td>3P TANKTOP BODY</td>\n",
       "      <td>256</td>\n",
       "      <td>Bodysuit</td>\n",
       "      <td>Garment Upper body</td>\n",
       "      <td>1010016</td>\n",
       "      <td>Solid</td>\n",
       "      <td>6</td>\n",
       "      <td>Light Grey</td>\n",
       "      <td>...</td>\n",
       "      <td>Baby basics</td>\n",
       "      <td>G</td>\n",
       "      <td>Baby Sizes 50-98</td>\n",
       "      <td>4</td>\n",
       "      <td>Baby/Children</td>\n",
       "      <td>44</td>\n",
       "      <td>Baby Essentials &amp; Complements</td>\n",
       "      <td>1002</td>\n",
       "      <td>Jersey Basic</td>\n",
       "      <td>Sleeveless bodysuits in soft organic cotton je...</td>\n",
       "    </tr>\n",
       "    <tr>\n",
       "      <th>70</th>\n",
       "      <td>156610001</td>\n",
       "      <td>156610</td>\n",
       "      <td>Connor pants</td>\n",
       "      <td>272</td>\n",
       "      <td>Trousers</td>\n",
       "      <td>Garment Lower body</td>\n",
       "      <td>1010016</td>\n",
       "      <td>Solid</td>\n",
       "      <td>9</td>\n",
       "      <td>Black</td>\n",
       "      <td>...</td>\n",
       "      <td>Men Sport Woven</td>\n",
       "      <td>S</td>\n",
       "      <td>Sport</td>\n",
       "      <td>26</td>\n",
       "      <td>Sport</td>\n",
       "      <td>22</td>\n",
       "      <td>Men H&amp;M Sport</td>\n",
       "      <td>1005</td>\n",
       "      <td>Jersey Fancy</td>\n",
       "      <td>Sports trousers in fast-drying fabric made fro...</td>\n",
       "    </tr>\n",
       "  </tbody>\n",
       "</table>\n",
       "<p>5 rows × 25 columns</p>\n",
       "</div>"
      ],
      "text/plain": [
       "    article_id  product_code                 prod_name  product_type_no  \\\n",
       "0    108775015        108775                 Strap top              253   \n",
       "2    108775051        108775             Strap top (1)              253   \n",
       "46   146706001        146706  Tanktop body white 3PACK              256   \n",
       "48   146706005        146706           3P TANKTOP BODY              256   \n",
       "70   156610001        156610              Connor pants              272   \n",
       "\n",
       "   product_type_name  product_group_name  graphical_appearance_no  \\\n",
       "0           Vest top  Garment Upper body                  1010016   \n",
       "2           Vest top  Garment Upper body                  1010017   \n",
       "46          Bodysuit  Garment Upper body                  1010016   \n",
       "48          Bodysuit  Garment Upper body                  1010016   \n",
       "70          Trousers  Garment Lower body                  1010016   \n",
       "\n",
       "   graphical_appearance_name  colour_group_code colour_group_name  ...  \\\n",
       "0                      Solid                  9             Black  ...   \n",
       "2                     Stripe                 11         Off White  ...   \n",
       "46                     Solid                 10             White  ...   \n",
       "48                     Solid                  6        Light Grey  ...   \n",
       "70                     Solid                  9             Black  ...   \n",
       "\n",
       "    department_name index_code        index_name index_group_no  \\\n",
       "0      Jersey Basic          A        Ladieswear              1   \n",
       "2      Jersey Basic          A        Ladieswear              1   \n",
       "46      Baby basics          G  Baby Sizes 50-98              4   \n",
       "48      Baby basics          G  Baby Sizes 50-98              4   \n",
       "70  Men Sport Woven          S             Sport             26   \n",
       "\n",
       "    index_group_name section_no                   section_name  \\\n",
       "0         Ladieswear         16         Womens Everyday Basics   \n",
       "2         Ladieswear         16         Womens Everyday Basics   \n",
       "46     Baby/Children         44  Baby Essentials & Complements   \n",
       "48     Baby/Children         44  Baby Essentials & Complements   \n",
       "70             Sport         22                  Men H&M Sport   \n",
       "\n",
       "   garment_group_no  garment_group_name  \\\n",
       "0              1002        Jersey Basic   \n",
       "2              1002        Jersey Basic   \n",
       "46             1002        Jersey Basic   \n",
       "48             1002        Jersey Basic   \n",
       "70             1005        Jersey Fancy   \n",
       "\n",
       "                                          detail_desc  \n",
       "0             Jersey top with narrow shoulder straps.  \n",
       "2             Jersey top with narrow shoulder straps.  \n",
       "46  Sleeveless bodysuits in soft organic cotton je...  \n",
       "48  Sleeveless bodysuits in soft organic cotton je...  \n",
       "70  Sports trousers in fast-drying fabric made fro...  \n",
       "\n",
       "[5 rows x 25 columns]"
      ]
     },
     "execution_count": 117,
     "metadata": {},
     "output_type": "execute_result"
    }
   ],
   "source": [
    "# Verify product code is equivalent to product name (Know it's not the case because such contradiction exists in the head)\n",
    "duplicated_product_listing_series = articles_dataframe.loc[:, [\"product_code\", \"prod_name\"]].duplicated()\n",
    "dataframe_without_duplicate_listings = articles_dataframe.loc[~duplicated_product_listing_series]\n",
    "series_with_duplicated_product_codes = dataframe_without_duplicate_listings.duplicated(subset=[\"product_code\"], keep=False)\n",
    "dataframe_with_duplicated_product_codes = dataframe_without_duplicate_listings.loc[series_with_duplicated_product_codes]\n",
    "dataframe_with_duplicated_product_codes.head()"
   ]
  },
  {
   "cell_type": "code",
   "execution_count": 120,
   "metadata": {},
   "outputs": [
    {
     "data": {
      "text/html": [
       "<div>\n",
       "<style scoped>\n",
       "    .dataframe tbody tr th:only-of-type {\n",
       "        vertical-align: middle;\n",
       "    }\n",
       "\n",
       "    .dataframe tbody tr th {\n",
       "        vertical-align: top;\n",
       "    }\n",
       "\n",
       "    .dataframe thead th {\n",
       "        text-align: right;\n",
       "    }\n",
       "</style>\n",
       "<table border=\"1\" class=\"dataframe\">\n",
       "  <thead>\n",
       "    <tr style=\"text-align: right;\">\n",
       "      <th></th>\n",
       "      <th>article_id</th>\n",
       "      <th>product_code</th>\n",
       "      <th>prod_name</th>\n",
       "      <th>product_type_no</th>\n",
       "      <th>product_type_name</th>\n",
       "      <th>product_group_name</th>\n",
       "      <th>graphical_appearance_no</th>\n",
       "      <th>graphical_appearance_name</th>\n",
       "      <th>colour_group_code</th>\n",
       "      <th>colour_group_name</th>\n",
       "      <th>...</th>\n",
       "      <th>department_name</th>\n",
       "      <th>index_code</th>\n",
       "      <th>index_name</th>\n",
       "      <th>index_group_no</th>\n",
       "      <th>index_group_name</th>\n",
       "      <th>section_no</th>\n",
       "      <th>section_name</th>\n",
       "      <th>garment_group_no</th>\n",
       "      <th>garment_group_name</th>\n",
       "      <th>detail_desc</th>\n",
       "    </tr>\n",
       "  </thead>\n",
       "  <tbody>\n",
       "  </tbody>\n",
       "</table>\n",
       "<p>0 rows × 25 columns</p>\n",
       "</div>"
      ],
      "text/plain": [
       "Empty DataFrame\n",
       "Columns: [article_id, product_code, prod_name, product_type_no, product_type_name, product_group_name, graphical_appearance_no, graphical_appearance_name, colour_group_code, colour_group_name, perceived_colour_value_id, perceived_colour_value_name, perceived_colour_master_id, perceived_colour_master_name, department_no, department_name, index_code, index_name, index_group_no, index_group_name, section_no, section_name, garment_group_no, garment_group_name, detail_desc]\n",
       "Index: []\n",
       "\n",
       "[0 rows x 25 columns]"
      ]
     },
     "execution_count": 120,
     "metadata": {},
     "output_type": "execute_result"
    }
   ],
   "source": [
    "# Repeat the above for every other (id, name) pair in the articles.csv data (product_type)\n",
    "duplicated_product_type_listing_series = articles_dataframe.loc[:, [\"product_type_no\", \"product_type_name\"]].duplicated()\n",
    "dataframe_without_duplicate_type_listings = articles_dataframe.loc[~duplicated_product_type_listing_series]\n",
    "series_with_duplicated_product_type_codes = dataframe_without_duplicate_type_listings.duplicated(subset=[\"product_type_no\"], keep=False)\n",
    "dataframe_with_duplicated_product_type_codes = dataframe_without_duplicate_type_listings.loc[series_with_duplicated_product_type_codes]\n",
    "dataframe_with_duplicated_product_type_codes.head()"
   ]
  },
  {
   "cell_type": "code",
   "execution_count": 121,
   "metadata": {},
   "outputs": [
    {
     "data": {
      "text/html": [
       "<div>\n",
       "<style scoped>\n",
       "    .dataframe tbody tr th:only-of-type {\n",
       "        vertical-align: middle;\n",
       "    }\n",
       "\n",
       "    .dataframe tbody tr th {\n",
       "        vertical-align: top;\n",
       "    }\n",
       "\n",
       "    .dataframe thead th {\n",
       "        text-align: right;\n",
       "    }\n",
       "</style>\n",
       "<table border=\"1\" class=\"dataframe\">\n",
       "  <thead>\n",
       "    <tr style=\"text-align: right;\">\n",
       "      <th></th>\n",
       "      <th>article_id</th>\n",
       "      <th>product_code</th>\n",
       "      <th>prod_name</th>\n",
       "      <th>product_type_no</th>\n",
       "      <th>product_type_name</th>\n",
       "      <th>product_group_name</th>\n",
       "      <th>graphical_appearance_no</th>\n",
       "      <th>graphical_appearance_name</th>\n",
       "      <th>colour_group_code</th>\n",
       "      <th>colour_group_name</th>\n",
       "      <th>...</th>\n",
       "      <th>department_name</th>\n",
       "      <th>index_code</th>\n",
       "      <th>index_name</th>\n",
       "      <th>index_group_no</th>\n",
       "      <th>index_group_name</th>\n",
       "      <th>section_no</th>\n",
       "      <th>section_name</th>\n",
       "      <th>garment_group_no</th>\n",
       "      <th>garment_group_name</th>\n",
       "      <th>detail_desc</th>\n",
       "    </tr>\n",
       "  </thead>\n",
       "  <tbody>\n",
       "  </tbody>\n",
       "</table>\n",
       "<p>0 rows × 25 columns</p>\n",
       "</div>"
      ],
      "text/plain": [
       "Empty DataFrame\n",
       "Columns: [article_id, product_code, prod_name, product_type_no, product_type_name, product_group_name, graphical_appearance_no, graphical_appearance_name, colour_group_code, colour_group_name, perceived_colour_value_id, perceived_colour_value_name, perceived_colour_master_id, perceived_colour_master_name, department_no, department_name, index_code, index_name, index_group_no, index_group_name, section_no, section_name, garment_group_no, garment_group_name, detail_desc]\n",
       "Index: []\n",
       "\n",
       "[0 rows x 25 columns]"
      ]
     },
     "execution_count": 121,
     "metadata": {},
     "output_type": "execute_result"
    }
   ],
   "source": [
    "# Repeat the above for every other (id, name) pair in the articles.csv data (graphical appearance)\n",
    "duplicated_appearance_listing_series = articles_dataframe.loc[:, [\"graphical_appearance_no\", \"graphical_appearance_name\"]].duplicated()\n",
    "dataframe_without_duplicate_appearance_listings = articles_dataframe.loc[~duplicated_appearance_listing_series]\n",
    "series_with_duplicated_appearance_codes = dataframe_without_duplicate_appearance_listings.duplicated(subset=[\"graphical_appearance_no\"], keep=False)\n",
    "dataframe_with_duplicated_appearance_codes = dataframe_without_duplicate_appearance_listings.loc[series_with_duplicated_appearance_codes]\n",
    "dataframe_with_duplicated_appearance_codes.head()"
   ]
  },
  {
   "cell_type": "code",
   "execution_count": 122,
   "metadata": {},
   "outputs": [
    {
     "data": {
      "text/html": [
       "<div>\n",
       "<style scoped>\n",
       "    .dataframe tbody tr th:only-of-type {\n",
       "        vertical-align: middle;\n",
       "    }\n",
       "\n",
       "    .dataframe tbody tr th {\n",
       "        vertical-align: top;\n",
       "    }\n",
       "\n",
       "    .dataframe thead th {\n",
       "        text-align: right;\n",
       "    }\n",
       "</style>\n",
       "<table border=\"1\" class=\"dataframe\">\n",
       "  <thead>\n",
       "    <tr style=\"text-align: right;\">\n",
       "      <th></th>\n",
       "      <th>article_id</th>\n",
       "      <th>product_code</th>\n",
       "      <th>prod_name</th>\n",
       "      <th>product_type_no</th>\n",
       "      <th>product_type_name</th>\n",
       "      <th>product_group_name</th>\n",
       "      <th>graphical_appearance_no</th>\n",
       "      <th>graphical_appearance_name</th>\n",
       "      <th>colour_group_code</th>\n",
       "      <th>colour_group_name</th>\n",
       "      <th>...</th>\n",
       "      <th>department_name</th>\n",
       "      <th>index_code</th>\n",
       "      <th>index_name</th>\n",
       "      <th>index_group_no</th>\n",
       "      <th>index_group_name</th>\n",
       "      <th>section_no</th>\n",
       "      <th>section_name</th>\n",
       "      <th>garment_group_no</th>\n",
       "      <th>garment_group_name</th>\n",
       "      <th>detail_desc</th>\n",
       "    </tr>\n",
       "  </thead>\n",
       "  <tbody>\n",
       "  </tbody>\n",
       "</table>\n",
       "<p>0 rows × 25 columns</p>\n",
       "</div>"
      ],
      "text/plain": [
       "Empty DataFrame\n",
       "Columns: [article_id, product_code, prod_name, product_type_no, product_type_name, product_group_name, graphical_appearance_no, graphical_appearance_name, colour_group_code, colour_group_name, perceived_colour_value_id, perceived_colour_value_name, perceived_colour_master_id, perceived_colour_master_name, department_no, department_name, index_code, index_name, index_group_no, index_group_name, section_no, section_name, garment_group_no, garment_group_name, detail_desc]\n",
       "Index: []\n",
       "\n",
       "[0 rows x 25 columns]"
      ]
     },
     "execution_count": 122,
     "metadata": {},
     "output_type": "execute_result"
    }
   ],
   "source": [
    "# Repeat the above for every other (id, name) pair in the articles.csv data (colour groups)\n",
    "duplicated_colour_listing_series = articles_dataframe.loc[:, [\"colour_group_code\", \"colour_group_name\"]].duplicated()\n",
    "dataframe_without_duplicate_colour_listings = articles_dataframe.loc[~duplicated_colour_listing_series]\n",
    "series_with_duplicated_product_colour_codes = dataframe_without_duplicate_colour_listings.duplicated(subset=[\"colour_group_code\"], keep=False)\n",
    "dataframe_with_duplicated_colour_codes = dataframe_without_duplicate_colour_listings.loc[series_with_duplicated_product_colour_codes]\n",
    "dataframe_with_duplicated_colour_codes.head()"
   ]
  },
  {
   "cell_type": "code",
   "execution_count": 123,
   "metadata": {},
   "outputs": [
    {
     "data": {
      "text/html": [
       "<div>\n",
       "<style scoped>\n",
       "    .dataframe tbody tr th:only-of-type {\n",
       "        vertical-align: middle;\n",
       "    }\n",
       "\n",
       "    .dataframe tbody tr th {\n",
       "        vertical-align: top;\n",
       "    }\n",
       "\n",
       "    .dataframe thead th {\n",
       "        text-align: right;\n",
       "    }\n",
       "</style>\n",
       "<table border=\"1\" class=\"dataframe\">\n",
       "  <thead>\n",
       "    <tr style=\"text-align: right;\">\n",
       "      <th></th>\n",
       "      <th>article_id</th>\n",
       "      <th>product_code</th>\n",
       "      <th>prod_name</th>\n",
       "      <th>product_type_no</th>\n",
       "      <th>product_type_name</th>\n",
       "      <th>product_group_name</th>\n",
       "      <th>graphical_appearance_no</th>\n",
       "      <th>graphical_appearance_name</th>\n",
       "      <th>colour_group_code</th>\n",
       "      <th>colour_group_name</th>\n",
       "      <th>...</th>\n",
       "      <th>department_name</th>\n",
       "      <th>index_code</th>\n",
       "      <th>index_name</th>\n",
       "      <th>index_group_no</th>\n",
       "      <th>index_group_name</th>\n",
       "      <th>section_no</th>\n",
       "      <th>section_name</th>\n",
       "      <th>garment_group_no</th>\n",
       "      <th>garment_group_name</th>\n",
       "      <th>detail_desc</th>\n",
       "    </tr>\n",
       "  </thead>\n",
       "  <tbody>\n",
       "  </tbody>\n",
       "</table>\n",
       "<p>0 rows × 25 columns</p>\n",
       "</div>"
      ],
      "text/plain": [
       "Empty DataFrame\n",
       "Columns: [article_id, product_code, prod_name, product_type_no, product_type_name, product_group_name, graphical_appearance_no, graphical_appearance_name, colour_group_code, colour_group_name, perceived_colour_value_id, perceived_colour_value_name, perceived_colour_master_id, perceived_colour_master_name, department_no, department_name, index_code, index_name, index_group_no, index_group_name, section_no, section_name, garment_group_no, garment_group_name, detail_desc]\n",
       "Index: []\n",
       "\n",
       "[0 rows x 25 columns]"
      ]
     },
     "execution_count": 123,
     "metadata": {},
     "output_type": "execute_result"
    }
   ],
   "source": [
    "# Repeat the above for every other (id, name) pair in the articles.csv data (index)\n",
    "duplicated_index_listing_series = articles_dataframe.loc[:, [\"index_code\", \"index_name\"]].duplicated()\n",
    "dataframe_without_duplicate_index_listings = articles_dataframe.loc[~duplicated_index_listing_series]\n",
    "series_with_duplicated_index_codes = dataframe_without_duplicate_index_listings.duplicated(subset=[\"index_code\"], keep=False)\n",
    "dataframe_with_duplicated_index_codes = dataframe_without_duplicate_index_listings.loc[series_with_duplicated_index_codes]\n",
    "dataframe_with_duplicated_index_codes.head()"
   ]
  },
  {
   "cell_type": "code",
   "execution_count": 124,
   "metadata": {},
   "outputs": [
    {
     "data": {
      "text/html": [
       "<div>\n",
       "<style scoped>\n",
       "    .dataframe tbody tr th:only-of-type {\n",
       "        vertical-align: middle;\n",
       "    }\n",
       "\n",
       "    .dataframe tbody tr th {\n",
       "        vertical-align: top;\n",
       "    }\n",
       "\n",
       "    .dataframe thead th {\n",
       "        text-align: right;\n",
       "    }\n",
       "</style>\n",
       "<table border=\"1\" class=\"dataframe\">\n",
       "  <thead>\n",
       "    <tr style=\"text-align: right;\">\n",
       "      <th></th>\n",
       "      <th>article_id</th>\n",
       "      <th>product_code</th>\n",
       "      <th>prod_name</th>\n",
       "      <th>product_type_no</th>\n",
       "      <th>product_type_name</th>\n",
       "      <th>product_group_name</th>\n",
       "      <th>graphical_appearance_no</th>\n",
       "      <th>graphical_appearance_name</th>\n",
       "      <th>colour_group_code</th>\n",
       "      <th>colour_group_name</th>\n",
       "      <th>...</th>\n",
       "      <th>department_name</th>\n",
       "      <th>index_code</th>\n",
       "      <th>index_name</th>\n",
       "      <th>index_group_no</th>\n",
       "      <th>index_group_name</th>\n",
       "      <th>section_no</th>\n",
       "      <th>section_name</th>\n",
       "      <th>garment_group_no</th>\n",
       "      <th>garment_group_name</th>\n",
       "      <th>detail_desc</th>\n",
       "    </tr>\n",
       "  </thead>\n",
       "  <tbody>\n",
       "  </tbody>\n",
       "</table>\n",
       "<p>0 rows × 25 columns</p>\n",
       "</div>"
      ],
      "text/plain": [
       "Empty DataFrame\n",
       "Columns: [article_id, product_code, prod_name, product_type_no, product_type_name, product_group_name, graphical_appearance_no, graphical_appearance_name, colour_group_code, colour_group_name, perceived_colour_value_id, perceived_colour_value_name, perceived_colour_master_id, perceived_colour_master_name, department_no, department_name, index_code, index_name, index_group_no, index_group_name, section_no, section_name, garment_group_no, garment_group_name, detail_desc]\n",
       "Index: []\n",
       "\n",
       "[0 rows x 25 columns]"
      ]
     },
     "execution_count": 124,
     "metadata": {},
     "output_type": "execute_result"
    }
   ],
   "source": [
    "# Repeat the above for every other (id, name) pair in the articles.csv data (index group)\n",
    "duplicated_index_group_listing_series = articles_dataframe.loc[:, [\"index_group_no\", \"index_group_name\"]].duplicated()\n",
    "dataframe_without_duplicate_index_group_listings = articles_dataframe.loc[~duplicated_index_group_listing_series]\n",
    "series_with_duplicated_index_group_codes = dataframe_without_duplicate_index_group_listings.duplicated(subset=[\"index_group_no\"], keep=False)\n",
    "dataframe_with_duplicated_index_group_codes = dataframe_without_duplicate_index_group_listings.loc[series_with_duplicated_index_group_codes]\n",
    "dataframe_with_duplicated_index_group_codes.head()"
   ]
  },
  {
   "cell_type": "code",
   "execution_count": 126,
   "metadata": {},
   "outputs": [
    {
     "data": {
      "text/html": [
       "<div>\n",
       "<style scoped>\n",
       "    .dataframe tbody tr th:only-of-type {\n",
       "        vertical-align: middle;\n",
       "    }\n",
       "\n",
       "    .dataframe tbody tr th {\n",
       "        vertical-align: top;\n",
       "    }\n",
       "\n",
       "    .dataframe thead th {\n",
       "        text-align: right;\n",
       "    }\n",
       "</style>\n",
       "<table border=\"1\" class=\"dataframe\">\n",
       "  <thead>\n",
       "    <tr style=\"text-align: right;\">\n",
       "      <th></th>\n",
       "      <th>article_id</th>\n",
       "      <th>product_code</th>\n",
       "      <th>prod_name</th>\n",
       "      <th>product_type_no</th>\n",
       "      <th>product_type_name</th>\n",
       "      <th>product_group_name</th>\n",
       "      <th>graphical_appearance_no</th>\n",
       "      <th>graphical_appearance_name</th>\n",
       "      <th>colour_group_code</th>\n",
       "      <th>colour_group_name</th>\n",
       "      <th>...</th>\n",
       "      <th>department_name</th>\n",
       "      <th>index_code</th>\n",
       "      <th>index_name</th>\n",
       "      <th>index_group_no</th>\n",
       "      <th>index_group_name</th>\n",
       "      <th>section_no</th>\n",
       "      <th>section_name</th>\n",
       "      <th>garment_group_no</th>\n",
       "      <th>garment_group_name</th>\n",
       "      <th>detail_desc</th>\n",
       "    </tr>\n",
       "  </thead>\n",
       "  <tbody>\n",
       "  </tbody>\n",
       "</table>\n",
       "<p>0 rows × 25 columns</p>\n",
       "</div>"
      ],
      "text/plain": [
       "Empty DataFrame\n",
       "Columns: [article_id, product_code, prod_name, product_type_no, product_type_name, product_group_name, graphical_appearance_no, graphical_appearance_name, colour_group_code, colour_group_name, perceived_colour_value_id, perceived_colour_value_name, perceived_colour_master_id, perceived_colour_master_name, department_no, department_name, index_code, index_name, index_group_no, index_group_name, section_no, section_name, garment_group_no, garment_group_name, detail_desc]\n",
       "Index: []\n",
       "\n",
       "[0 rows x 25 columns]"
      ]
     },
     "execution_count": 126,
     "metadata": {},
     "output_type": "execute_result"
    }
   ],
   "source": [
    "# Repeat the above for every other (id, name) pair in the articles.csv data (section)\n",
    "duplicated_product_section_listing_series = articles_dataframe.loc[:, [\"section_no\", \"section_name\"]].duplicated()\n",
    "dataframe_without_duplicate_section_listings = articles_dataframe.loc[~duplicated_product_section_listing_series]\n",
    "series_with_duplicated_section_codes = dataframe_without_duplicate_section_listings.duplicated(subset=[\"section_no\"], keep=False)\n",
    "dataframe_with_duplicated_section_codes = dataframe_without_duplicate_section_listings.loc[series_with_duplicated_section_codes]\n",
    "dataframe_with_duplicated_section_codes.head()"
   ]
  },
  {
   "cell_type": "code",
   "execution_count": 127,
   "metadata": {},
   "outputs": [
    {
     "data": {
      "text/html": [
       "<div>\n",
       "<style scoped>\n",
       "    .dataframe tbody tr th:only-of-type {\n",
       "        vertical-align: middle;\n",
       "    }\n",
       "\n",
       "    .dataframe tbody tr th {\n",
       "        vertical-align: top;\n",
       "    }\n",
       "\n",
       "    .dataframe thead th {\n",
       "        text-align: right;\n",
       "    }\n",
       "</style>\n",
       "<table border=\"1\" class=\"dataframe\">\n",
       "  <thead>\n",
       "    <tr style=\"text-align: right;\">\n",
       "      <th></th>\n",
       "      <th>article_id</th>\n",
       "      <th>product_code</th>\n",
       "      <th>prod_name</th>\n",
       "      <th>product_type_no</th>\n",
       "      <th>product_type_name</th>\n",
       "      <th>product_group_name</th>\n",
       "      <th>graphical_appearance_no</th>\n",
       "      <th>graphical_appearance_name</th>\n",
       "      <th>colour_group_code</th>\n",
       "      <th>colour_group_name</th>\n",
       "      <th>...</th>\n",
       "      <th>department_name</th>\n",
       "      <th>index_code</th>\n",
       "      <th>index_name</th>\n",
       "      <th>index_group_no</th>\n",
       "      <th>index_group_name</th>\n",
       "      <th>section_no</th>\n",
       "      <th>section_name</th>\n",
       "      <th>garment_group_no</th>\n",
       "      <th>garment_group_name</th>\n",
       "      <th>detail_desc</th>\n",
       "    </tr>\n",
       "  </thead>\n",
       "  <tbody>\n",
       "  </tbody>\n",
       "</table>\n",
       "<p>0 rows × 25 columns</p>\n",
       "</div>"
      ],
      "text/plain": [
       "Empty DataFrame\n",
       "Columns: [article_id, product_code, prod_name, product_type_no, product_type_name, product_group_name, graphical_appearance_no, graphical_appearance_name, colour_group_code, colour_group_name, perceived_colour_value_id, perceived_colour_value_name, perceived_colour_master_id, perceived_colour_master_name, department_no, department_name, index_code, index_name, index_group_no, index_group_name, section_no, section_name, garment_group_no, garment_group_name, detail_desc]\n",
       "Index: []\n",
       "\n",
       "[0 rows x 25 columns]"
      ]
     },
     "execution_count": 127,
     "metadata": {},
     "output_type": "execute_result"
    }
   ],
   "source": [
    "# Repeat the above for every other (id, name) pair in the articles.csv data (garment groups)\n",
    "duplicated_product_garment_group_listing_series = articles_dataframe.loc[:, [\"garment_group_no\", \"garment_group_name\"]].duplicated()\n",
    "dataframe_without_duplicate_garment_group_listings = articles_dataframe.loc[~duplicated_product_garment_group_listing_series]\n",
    "series_with_duplicated_garment_group_codes = dataframe_without_duplicate_garment_group_listings.duplicated(subset=[\"garment_group_no\"], keep=False)\n",
    "dataframe_with_duplicated_garment_group_codes = dataframe_without_duplicate_garment_group_listings.loc[series_with_duplicated_garment_group_codes]\n",
    "dataframe_with_duplicated_garment_group_codes.head()"
   ]
  },
  {
   "cell_type": "code",
   "execution_count": 136,
   "metadata": {},
   "outputs": [
    {
     "data": {
      "text/plain": [
       "count            416\n",
       "unique             5\n",
       "top       Ladieswear\n",
       "freq             214\n",
       "Name: index_group_name, dtype: object"
      ]
     },
     "execution_count": 136,
     "metadata": {},
     "output_type": "execute_result"
    }
   ],
   "source": [
    "# Check if there is a particular index group without descriptions\n",
    "articles_dataframe.loc[:, \"detail_desc\"].isna()\n",
    "articles_dataframe.loc[articles_dataframe.loc[:, \"detail_desc\"].isna()][\"index_group_name\"].describe()"
   ]
  },
  {
   "cell_type": "code",
   "execution_count": 140,
   "metadata": {},
   "outputs": [
    {
     "data": {
      "text/plain": [
       "<AxesSubplot:>"
      ]
     },
     "execution_count": 140,
     "metadata": {},
     "output_type": "execute_result"
    },
    {
     "data": {
      "image/png": "[encoded data removed]",
      "text/plain": [
       "<Figure size 432x288 with 1 Axes>"
      ]
     },
     "metadata": {
      "needs_background": "light"
     },
     "output_type": "display_data"
    }
   ],
   "source": [
    "# Someone on this kaggle thread's linked thread\n",
    "# https://www.kaggle.com/competitions/h-and-m-personalized-fashion-recommendations/discussion/307001 \n",
    "# mentioned that there are no offline sales in the month of april 2020\n",
    "# Verify this\n",
    "\n",
    "# Plot histogram for transactions with sales_channel_id == 2 (representing online sales)\n",
    "\n",
    "# Get unique months\n",
    "type_two_transactions_dataframe = transactions_dataframe.loc[transactions_dataframe[\"sales_channel_id\"] == 2]\n",
    "type_two_month_data = type_two_transactions_dataframe[\"t_dat\"].map(lambda x : x[0:7])\n",
    "type_two_month_data.value_counts().sort_index().plot.bar()"
   ]
  },
  {
   "cell_type": "code",
   "execution_count": 153,
   "metadata": {},
   "outputs": [
    {
     "data": {
      "text/plain": [
       "<AxesSubplot:>"
      ]
     },
     "execution_count": 153,
     "metadata": {},
     "output_type": "execute_result"
    },
    {
     "data": {
      "image/png": "[encoded data removed]",
      "text/plain": [
       "<Figure size 432x288 with 1 Axes>"
      ]
     },
     "metadata": {
      "needs_background": "light"
     },
     "output_type": "display_data"
    }
   ],
   "source": [
    "# Someone on this kaggle thread's linked thread\n",
    "# https://www.kaggle.com/competitions/h-and-m-personalized-fashion-recommendations/discussion/307001 \n",
    "# mentioned that there are no offline sales in the month of april 2020\n",
    "# Verify this\n",
    "\n",
    "# Plot histogram for transactions with sales_channel_id == 1 (representing offline sales)\n",
    "\n",
    "# Get unique months\n",
    "type_one_transactions_dataframe = transactions_dataframe.loc[transactions_dataframe[\"sales_channel_id\"] == 1]\n",
    "type_one_month_data = type_one_transactions_dataframe[\"t_dat\"].map(lambda x : x[0:7])\n",
    "type_one_month_data.value_counts().sort_index().plot.bar()"
   ]
  },
  {
   "cell_type": "code",
   "execution_count": 156,
   "metadata": {},
   "outputs": [
    {
     "data": {
      "text/plain": [
       "<AxesSubplot:>"
      ]
     },
     "execution_count": 156,
     "metadata": {},
     "output_type": "execute_result"
    },
    {
     "data": {
      "image/png": "[encoded data removed]",
      "text/plain": [
       "<Figure size 432x288 with 1 Axes>"
      ]
     },
     "metadata": {
      "needs_background": "light"
     },
     "output_type": "display_data"
    }
   ],
   "source": [
    "# Offline sales in april 2020 are indeed missing\n",
    "# Offline sales in march 2020 are pretty low as well, plot the offline sales per day in march to see if the data is skewed\n",
    "type_one_march_data = type_one_transactions_dataframe[\"t_dat\"].loc[type_one_month_data == \"2020-03\"]\n",
    "type_one_march_data.value_counts().sort_index().plot.bar()"
   ]
  },
  {
   "cell_type": "code",
   "execution_count": 157,
   "metadata": {},
   "outputs": [
    {
     "data": {
      "text/plain": [
       "<AxesSubplot:>"
      ]
     },
     "execution_count": 157,
     "metadata": {},
     "output_type": "execute_result"
    },
    {
     "data": {
      "image/png": "[encoded data removed]",
      "text/plain": [
       "<Figure size 432x288 with 1 Axes>"
      ]
     },
     "metadata": {
      "needs_background": "light"
     },
     "output_type": "display_data"
    }
   ],
   "source": [
    "# For good measure check may as well\n",
    "type_one_may_data = type_one_transactions_dataframe[\"t_dat\"].loc[type_one_month_data == \"2020-05\"]\n",
    "type_one_may_data.value_counts().sort_index().plot.bar()"
   ]
  },
  {
   "cell_type": "code",
   "execution_count": 158,
   "metadata": {},
   "outputs": [
    {
     "data": {
      "text/plain": [
       "<AxesSubplot:>"
      ]
     },
     "execution_count": 158,
     "metadata": {},
     "output_type": "execute_result"
    },
    {
     "data": {
      "image/png": "[encoded data removed]",
      "text/plain": [
       "<Figure size 432x288 with 1 Axes>"
      ]
     },
     "metadata": {
      "needs_background": "light"
     },
     "output_type": "display_data"
    }
   ],
   "source": [
    "# Do the same with the online transactions\n",
    "type_two_march_data = type_two_transactions_dataframe[\"t_dat\"].loc[type_two_month_data == \"2020-03\"]\n",
    "type_two_march_data.value_counts().sort_index().plot.bar()"
   ]
  },
  {
   "cell_type": "code",
   "execution_count": 159,
   "metadata": {},
   "outputs": [
    {
     "data": {
      "text/plain": [
       "<AxesSubplot:>"
      ]
     },
     "execution_count": 159,
     "metadata": {},
     "output_type": "execute_result"
    },
    {
     "data": {
      "image/png": "[encoded data removed]",
      "text/plain": [
       "<Figure size 432x288 with 1 Axes>"
      ]
     },
     "metadata": {
      "needs_background": "light"
     },
     "output_type": "display_data"
    }
   ],
   "source": [
    "# This time also do april\n",
    "type_two_april_data = type_two_transactions_dataframe[\"t_dat\"].loc[type_two_month_data == \"2020-04\"]\n",
    "type_two_april_data.value_counts().sort_index().plot.bar()"
   ]
  },
  {
   "cell_type": "code",
   "execution_count": 160,
   "metadata": {},
   "outputs": [
    {
     "data": {
      "text/plain": [
       "<AxesSubplot:>"
      ]
     },
     "execution_count": 160,
     "metadata": {},
     "output_type": "execute_result"
    },
    {
     "data": {
      "image/png": "[encoded data removed]",
      "text/plain": [
       "<Figure size 432x288 with 1 Axes>"
      ]
     },
     "metadata": {
      "needs_background": "light"
     },
     "output_type": "display_data"
    }
   ],
   "source": [
    "# Finally, may\n",
    "type_two_may_data = type_two_transactions_dataframe[\"t_dat\"].loc[type_two_month_data == \"2020-05\"]\n",
    "type_two_may_data.value_counts().sort_index().plot.bar()"
   ]
  },
  {
   "cell_type": "code",
   "execution_count": 172,
   "metadata": {},
   "outputs": [
    {
     "data": {
      "text/plain": [
       "2018-09-22     9900\n",
       "2018-12-24    14860\n",
       "2018-12-25    14756\n",
       "2018-12-31    11438\n",
       "2019-09-21     7945\n",
       "2019-11-23    14691\n",
       "2019-12-05    14258\n",
       "2019-12-06    14292\n",
       "2019-12-07    13235\n",
       "2019-12-24    13173\n",
       "2019-12-25    13591\n",
       "2019-12-31    10088\n",
       "2020-01-01    12469\n",
       "2020-08-15    14537\n",
       "Name: t_dat, dtype: int64"
      ]
     },
     "execution_count": 172,
     "metadata": {},
     "output_type": "execute_result"
    }
   ],
   "source": [
    "# Was there a day on which the website got very few sales?\n",
    "type_two_value_counts = type_two_transactions_dataframe[\"t_dat\"].value_counts()\n",
    "type_two_value_counts.loc[value_counts < 15000].sort_index()"
   ]
  },
  {
   "cell_type": "code",
   "execution_count": 170,
   "metadata": {},
   "outputs": [
    {
     "data": {
      "text/plain": [
       "<AxesSubplot:>"
      ]
     },
     "execution_count": 170,
     "metadata": {},
     "output_type": "execute_result"
    },
    {
     "data": {
      "image/png": "[encoded data removed]",
      "text/plain": [
       "<Figure size 432x288 with 1 Axes>"
      ]
     },
     "metadata": {
      "needs_background": "light"
     },
     "output_type": "display_data"
    }
   ],
   "source": [
    "# Seems like around the fall equinox the online sales dropped to its lowest point, spooky\n",
    "full_value_counts = transactions_dataframe[\"t_dat\"].value_counts()\n",
    "full_value_counts.loc[full_value_counts < 25000].sort_index().plot.bar()"
   ]
  },
  {
   "cell_type": "code",
   "execution_count": 175,
   "metadata": {},
   "outputs": [
    {
     "data": {
      "text/plain": [
       "31489"
      ]
     },
     "execution_count": 175,
     "metadata": {},
     "output_type": "execute_result"
    }
   ],
   "source": [
    "# Sales are low on 2018-09-22 and 2019-09-21 but not on 2020-09-21 even though it is just barely within the \n",
    "# date range\n",
    "\n",
    "# The data collection started on 2018-09-20 which could possibly explain why sales were low that day\n",
    "# But doesn't explain 2020-09-21\n",
    "# Possibly the start of a new collection?\n",
    "\n",
    "# Out of sheer curiosity check how many sales there were on 2020-09-20, 2020-09-21 and 2020-09-22\n",
    "specific_day_sales_1 = transactions_dataframe[\"t_dat\"][transactions_dataframe[\"t_dat\"] == \"2020-09-20\"]\n",
    "specific_day_sales_1.count()"
   ]
  },
  {
   "cell_type": "code",
   "execution_count": 176,
   "metadata": {},
   "outputs": [
    {
     "data": {
      "text/plain": [
       "32130"
      ]
     },
     "execution_count": 176,
     "metadata": {},
     "output_type": "execute_result"
    }
   ],
   "source": [
    "specific_day_sales_2 = transactions_dataframe[\"t_dat\"][transactions_dataframe[\"t_dat\"] == \"2020-09-21\"]\n",
    "specific_day_sales_2.count()"
   ]
  },
  {
   "cell_type": "code",
   "execution_count": 177,
   "metadata": {},
   "outputs": [
    {
     "data": {
      "text/plain": [
       "32866"
      ]
     },
     "execution_count": 177,
     "metadata": {},
     "output_type": "execute_result"
    }
   ],
   "source": [
    "specific_day_sales_3 = transactions_dataframe[\"t_dat\"][transactions_dataframe[\"t_dat\"] == \"2020-09-22\"]\n",
    "specific_day_sales_3.count()"
   ]
  },
  {
   "cell_type": "code",
   "execution_count": 180,
   "metadata": {},
   "outputs": [
    {
     "data": {
      "text/plain": [
       "24462"
      ]
     },
     "execution_count": 180,
     "metadata": {},
     "output_type": "execute_result"
    }
   ],
   "source": [
    "# Total sales seem fine but check online only too\n",
    "specific_day_online_sales_1 = type_two_transactions_dataframe[\"t_dat\"][transactions_dataframe[\"t_dat\"] == \"2020-09-20\"]\n",
    "specific_day_online_sales_1.count()"
   ]
  },
  {
   "cell_type": "code",
   "execution_count": 179,
   "metadata": {},
   "outputs": [
    {
     "data": {
      "text/plain": [
       "24706"
      ]
     },
     "execution_count": 179,
     "metadata": {},
     "output_type": "execute_result"
    }
   ],
   "source": [
    "specific_day_online_sales_2 = type_two_transactions_dataframe[\"t_dat\"][transactions_dataframe[\"t_dat\"] == \"2020-09-21\"]\n",
    "specific_day_online_sales_2.count()"
   ]
  },
  {
   "cell_type": "code",
   "execution_count": 178,
   "metadata": {},
   "outputs": [
    {
     "data": {
      "text/plain": [
       "23408"
      ]
     },
     "execution_count": 178,
     "metadata": {},
     "output_type": "execute_result"
    }
   ],
   "source": [
    "specific_day_online_sales_3 = type_two_transactions_dataframe[\"t_dat\"][transactions_dataframe[\"t_dat\"] == \"2020-09-22\"]\n",
    "specific_day_online_sales_3.count()"
   ]
  },
  {
   "cell_type": "code",
   "execution_count": 6,
   "metadata": {},
   "outputs": [
    {
     "data": {
      "text/html": [
       "<div>\n",
       "<style scoped>\n",
       "    .dataframe tbody tr th:only-of-type {\n",
       "        vertical-align: middle;\n",
       "    }\n",
       "\n",
       "    .dataframe tbody tr th {\n",
       "        vertical-align: top;\n",
       "    }\n",
       "\n",
       "    .dataframe thead th {\n",
       "        text-align: right;\n",
       "    }\n",
       "</style>\n",
       "<table border=\"1\" class=\"dataframe\">\n",
       "  <thead>\n",
       "    <tr style=\"text-align: right;\">\n",
       "      <th></th>\n",
       "      <th>t_dat</th>\n",
       "      <th>customer_id</th>\n",
       "      <th>article_id</th>\n",
       "      <th>price</th>\n",
       "      <th>sales_channel_id</th>\n",
       "      <th>product_code</th>\n",
       "      <th>prod_name</th>\n",
       "      <th>product_type_no</th>\n",
       "      <th>product_type_name</th>\n",
       "      <th>product_group_name</th>\n",
       "      <th>...</th>\n",
       "      <th>department_name</th>\n",
       "      <th>index_code</th>\n",
       "      <th>index_name</th>\n",
       "      <th>index_group_no</th>\n",
       "      <th>index_group_name</th>\n",
       "      <th>section_no</th>\n",
       "      <th>section_name</th>\n",
       "      <th>garment_group_no</th>\n",
       "      <th>garment_group_name</th>\n",
       "      <th>detail_desc</th>\n",
       "    </tr>\n",
       "  </thead>\n",
       "  <tbody>\n",
       "    <tr>\n",
       "      <th>0</th>\n",
       "      <td>2018-09-20</td>\n",
       "      <td>000058a12d5b43e67d225668fa1f8d618c13dc232df0ca...</td>\n",
       "      <td>663713001</td>\n",
       "      <td>0.050831</td>\n",
       "      <td>2</td>\n",
       "      <td>663713</td>\n",
       "      <td>Atlanta Push Body Harlow</td>\n",
       "      <td>283</td>\n",
       "      <td>Underwear body</td>\n",
       "      <td>Underwear</td>\n",
       "      <td>...</td>\n",
       "      <td>Expressive Lingerie</td>\n",
       "      <td>B</td>\n",
       "      <td>Lingeries/Tights</td>\n",
       "      <td>1</td>\n",
       "      <td>Ladieswear</td>\n",
       "      <td>61</td>\n",
       "      <td>Womens Lingerie</td>\n",
       "      <td>1017</td>\n",
       "      <td>Under-, Nightwear</td>\n",
       "      <td>Lace push-up body with underwired, moulded, pa...</td>\n",
       "    </tr>\n",
       "    <tr>\n",
       "      <th>1</th>\n",
       "      <td>2018-09-20</td>\n",
       "      <td>000058a12d5b43e67d225668fa1f8d618c13dc232df0ca...</td>\n",
       "      <td>541518023</td>\n",
       "      <td>0.030492</td>\n",
       "      <td>2</td>\n",
       "      <td>541518</td>\n",
       "      <td>Rae Push (Melbourne) 2p</td>\n",
       "      <td>306</td>\n",
       "      <td>Bra</td>\n",
       "      <td>Underwear</td>\n",
       "      <td>...</td>\n",
       "      <td>Casual Lingerie</td>\n",
       "      <td>B</td>\n",
       "      <td>Lingeries/Tights</td>\n",
       "      <td>1</td>\n",
       "      <td>Ladieswear</td>\n",
       "      <td>61</td>\n",
       "      <td>Womens Lingerie</td>\n",
       "      <td>1017</td>\n",
       "      <td>Under-, Nightwear</td>\n",
       "      <td>Lace push-up bras with underwired, moulded, pa...</td>\n",
       "    </tr>\n",
       "    <tr>\n",
       "      <th>2</th>\n",
       "      <td>2018-09-20</td>\n",
       "      <td>00007d2de826758b65a93dd24ce629ed66842531df6699...</td>\n",
       "      <td>505221004</td>\n",
       "      <td>0.015237</td>\n",
       "      <td>2</td>\n",
       "      <td>505221</td>\n",
       "      <td>Inca Jumper</td>\n",
       "      <td>252</td>\n",
       "      <td>Sweater</td>\n",
       "      <td>Garment Upper body</td>\n",
       "      <td>...</td>\n",
       "      <td>Tops Knitwear DS</td>\n",
       "      <td>D</td>\n",
       "      <td>Divided</td>\n",
       "      <td>2</td>\n",
       "      <td>Divided</td>\n",
       "      <td>58</td>\n",
       "      <td>Divided Selected</td>\n",
       "      <td>1003</td>\n",
       "      <td>Knitwear</td>\n",
       "      <td>Jumper in rib-knit cotton with hard-worn detai...</td>\n",
       "    </tr>\n",
       "    <tr>\n",
       "      <th>3</th>\n",
       "      <td>2018-09-20</td>\n",
       "      <td>00007d2de826758b65a93dd24ce629ed66842531df6699...</td>\n",
       "      <td>685687003</td>\n",
       "      <td>0.016932</td>\n",
       "      <td>2</td>\n",
       "      <td>685687</td>\n",
       "      <td>W YODA KNIT OL OFFER</td>\n",
       "      <td>252</td>\n",
       "      <td>Sweater</td>\n",
       "      <td>Garment Upper body</td>\n",
       "      <td>...</td>\n",
       "      <td>Campaigns</td>\n",
       "      <td>A</td>\n",
       "      <td>Ladieswear</td>\n",
       "      <td>1</td>\n",
       "      <td>Ladieswear</td>\n",
       "      <td>15</td>\n",
       "      <td>Womens Everyday Collection</td>\n",
       "      <td>1023</td>\n",
       "      <td>Special Offers</td>\n",
       "      <td>V-neck knitted jumper with long sleeves and ri...</td>\n",
       "    </tr>\n",
       "    <tr>\n",
       "      <th>4</th>\n",
       "      <td>2018-09-20</td>\n",
       "      <td>00007d2de826758b65a93dd24ce629ed66842531df6699...</td>\n",
       "      <td>685687004</td>\n",
       "      <td>0.016932</td>\n",
       "      <td>2</td>\n",
       "      <td>685687</td>\n",
       "      <td>W YODA KNIT OL OFFER</td>\n",
       "      <td>252</td>\n",
       "      <td>Sweater</td>\n",
       "      <td>Garment Upper body</td>\n",
       "      <td>...</td>\n",
       "      <td>Campaigns</td>\n",
       "      <td>A</td>\n",
       "      <td>Ladieswear</td>\n",
       "      <td>1</td>\n",
       "      <td>Ladieswear</td>\n",
       "      <td>15</td>\n",
       "      <td>Womens Everyday Collection</td>\n",
       "      <td>1023</td>\n",
       "      <td>Special Offers</td>\n",
       "      <td>V-neck knitted jumper with long sleeves and ri...</td>\n",
       "    </tr>\n",
       "  </tbody>\n",
       "</table>\n",
       "<p>5 rows × 29 columns</p>\n",
       "</div>"
      ],
      "text/plain": [
       "        t_dat                                        customer_id  article_id  \\\n",
       "0  2018-09-20  000058a12d5b43e67d225668fa1f8d618c13dc232df0ca...   663713001   \n",
       "1  2018-09-20  000058a12d5b43e67d225668fa1f8d618c13dc232df0ca...   541518023   \n",
       "2  2018-09-20  00007d2de826758b65a93dd24ce629ed66842531df6699...   505221004   \n",
       "3  2018-09-20  00007d2de826758b65a93dd24ce629ed66842531df6699...   685687003   \n",
       "4  2018-09-20  00007d2de826758b65a93dd24ce629ed66842531df6699...   685687004   \n",
       "\n",
       "      price  sales_channel_id  product_code                 prod_name  \\\n",
       "0  0.050831                 2        663713  Atlanta Push Body Harlow   \n",
       "1  0.030492                 2        541518   Rae Push (Melbourne) 2p   \n",
       "2  0.015237                 2        505221               Inca Jumper   \n",
       "3  0.016932                 2        685687      W YODA KNIT OL OFFER   \n",
       "4  0.016932                 2        685687      W YODA KNIT OL OFFER   \n",
       "\n",
       "   product_type_no product_type_name  product_group_name  ...  \\\n",
       "0              283    Underwear body           Underwear  ...   \n",
       "1              306               Bra           Underwear  ...   \n",
       "2              252           Sweater  Garment Upper body  ...   \n",
       "3              252           Sweater  Garment Upper body  ...   \n",
       "4              252           Sweater  Garment Upper body  ...   \n",
       "\n",
       "       department_name index_code        index_name index_group_no  \\\n",
       "0  Expressive Lingerie          B  Lingeries/Tights              1   \n",
       "1      Casual Lingerie          B  Lingeries/Tights              1   \n",
       "2     Tops Knitwear DS          D           Divided              2   \n",
       "3            Campaigns          A        Ladieswear              1   \n",
       "4            Campaigns          A        Ladieswear              1   \n",
       "\n",
       "   index_group_name section_no                section_name garment_group_no  \\\n",
       "0        Ladieswear         61             Womens Lingerie             1017   \n",
       "1        Ladieswear         61             Womens Lingerie             1017   \n",
       "2           Divided         58            Divided Selected             1003   \n",
       "3        Ladieswear         15  Womens Everyday Collection             1023   \n",
       "4        Ladieswear         15  Womens Everyday Collection             1023   \n",
       "\n",
       "   garment_group_name                                        detail_desc  \n",
       "0   Under-, Nightwear  Lace push-up body with underwired, moulded, pa...  \n",
       "1   Under-, Nightwear  Lace push-up bras with underwired, moulded, pa...  \n",
       "2            Knitwear  Jumper in rib-knit cotton with hard-worn detai...  \n",
       "3      Special Offers  V-neck knitted jumper with long sleeves and ri...  \n",
       "4      Special Offers  V-neck knitted jumper with long sleeves and ri...  \n",
       "\n",
       "[5 rows x 29 columns]"
      ]
     },
     "execution_count": 6,
     "metadata": {},
     "output_type": "execute_result"
    }
   ],
   "source": [
    "# Distribution of the five index group names in transactions\n",
    "\n",
    "# Begin by joining transactions with articles on column article_id\n",
    "left_join_transactions_articles = transactions_dataframe.join(articles_dataframe.set_index(\"article_id\"), on=\"article_id\", how=\"left\")\n",
    "left_join_transactions_articles.head()"
   ]
  },
  {
   "cell_type": "code",
   "execution_count": 184,
   "metadata": {},
   "outputs": [
    {
     "data": {
      "text/plain": [
       "<AxesSubplot:>"
      ]
     },
     "execution_count": 184,
     "metadata": {},
     "output_type": "execute_result"
    },
    {
     "data": {
      "image/png": "[encoded data removed]",
      "text/plain": [
       "<Figure size 432x288 with 1 Axes>"
      ]
     },
     "metadata": {
      "needs_background": "light"
     },
     "output_type": "display_data"
    }
   ],
   "source": [
    "# Plot value_counts for index_group_name\n",
    "left_join_transactions_articles[\"index_group_name\"].value_counts().plot.bar()"
   ]
  },
  {
   "cell_type": "code",
   "execution_count": 187,
   "metadata": {},
   "outputs": [
    {
     "data": {
      "text/plain": [
       "<AxesSubplot:>"
      ]
     },
     "execution_count": 187,
     "metadata": {},
     "output_type": "execute_result"
    },
    {
     "data": {
      "image/png": "[encoded data removed]",
      "text/plain": [
       "<Figure size 432x288 with 1 Axes>"
      ]
     },
     "metadata": {
      "needs_background": "light"
     },
     "output_type": "display_data"
    }
   ],
   "source": [
    "# Is there a difference when considering online vs in person shopping (in person)\n",
    "left_join_transactions_articles_offline = left_join_transactions_articles.loc[left_join_transactions_articles[\"sales_channel_id\"] == 1]\n",
    "left_join_transactions_articles_offline[\"index_group_name\"].value_counts().plot.bar()"
   ]
  },
  {
   "cell_type": "code",
   "execution_count": 188,
   "metadata": {},
   "outputs": [
    {
     "data": {
      "text/plain": [
       "<AxesSubplot:>"
      ]
     },
     "execution_count": 188,
     "metadata": {},
     "output_type": "execute_result"
    },
    {
     "data": {
      "image/png": "[encoded data removed]",
      "text/plain": [
       "<Figure size 432x288 with 1 Axes>"
      ]
     },
     "metadata": {
      "needs_background": "light"
     },
     "output_type": "display_data"
    }
   ],
   "source": [
    "# Is there a difference when considering online vs in person shopping (online)\n",
    "left_join_transactions_articles_online = left_join_transactions_articles.loc[left_join_transactions_articles[\"sales_channel_id\"] == 2]\n",
    "left_join_transactions_articles_online[\"index_group_name\"].value_counts().plot.bar()"
   ]
  },
  {
   "cell_type": "markdown",
   "metadata": {},
   "source": [
    "This is where I had to reset the notebook because my laptop ran out of RAM"
   ]
  },
  {
   "cell_type": "code",
   "execution_count": 7,
   "metadata": {},
   "outputs": [
    {
     "data": {
      "text/plain": [
       "0"
      ]
     },
     "execution_count": 7,
     "metadata": {},
     "output_type": "execute_result"
    }
   ],
   "source": [
    "# Use the left join result to check if any transactions list articles not in the database\n",
    "left_join_transactions_articles[\"article_id\"].isna().sum()"
   ]
  },
  {
   "cell_type": "code",
   "execution_count": 11,
   "metadata": {},
   "outputs": [
    {
     "data": {
      "image/png": "[encoded data removed]",
      "text/plain": [
       "<Figure size 432x288 with 1 Axes>"
      ]
     },
     "metadata": {
      "needs_background": "light"
     },
     "output_type": "display_data"
    }
   ],
   "source": [
    "# Is there a difference in sold articles between online and offline\n",
    "sales_channel_product_type = pd.concat([left_join_transactions_articles.loc[left_join_transactions_articles[\"sales_channel_id\"] == 1][\"product_type_name\"].value_counts().rename(\"offline\"), \n",
    "                                        left_join_transactions_articles.loc[left_join_transactions_articles[\"sales_channel_id\"] == 2][\"product_type_name\"].value_counts().rename(\"online\")], axis=1)\n",
    "sales_channel_product_type.loc[sales_channel_product_type[\"online\"] > 500000].sort_values(\"online\").plot.bar()\n",
    "del sales_channel_product_type"
   ]
  },
  {
   "cell_type": "code",
   "execution_count": 50,
   "metadata": {},
   "outputs": [
    {
     "data": {
      "text/plain": [
       "0           3\n",
       "1           3\n",
       "2           3\n",
       "3           3\n",
       "4           3\n",
       "           ..\n",
       "31788319    3\n",
       "31788320    3\n",
       "31788321    3\n",
       "31788322    3\n",
       "31788323    3\n",
       "Name: quarter, Length: 31788324, dtype: object"
      ]
     },
     "execution_count": 50,
     "metadata": {},
     "output_type": "execute_result"
    }
   ],
   "source": [
    "# Check 8 most popular product types per quarter\n",
    "left_join_transactions_articles[\"quarter\"] = left_join_transactions_articles[\"t_dat\"].map(lambda x : str((int(x[5:7]) - 1) // 3 + 1))\n",
    "left_join_transactions_articles[\"quarter\"]"
   ]
  },
  {
   "cell_type": "code",
   "execution_count": 51,
   "metadata": {},
   "outputs": [
    {
     "data": {
      "text/plain": [
       "count     31788324\n",
       "unique           4\n",
       "top              2\n",
       "freq       9410179\n",
       "Name: quarter, dtype: object"
      ]
     },
     "execution_count": 51,
     "metadata": {},
     "output_type": "execute_result"
    }
   ],
   "source": [
    "left_join_transactions_articles[\"quarter\"].describe()"
   ]
  },
  {
   "cell_type": "code",
   "execution_count": 58,
   "metadata": {},
   "outputs": [
    {
     "data": {
      "text/plain": [
       "<AxesSubplot:xlabel='quarter,product_type_name'>"
      ]
     },
     "execution_count": 58,
     "metadata": {},
     "output_type": "execute_result"
    },
    {
     "data": {
      "image/png": "[encoded data removed]",
      "text/plain": [
       "<Figure size 432x288 with 1 Axes>"
      ]
     },
     "metadata": {
      "needs_background": "light"
     },
     "output_type": "display_data"
    }
   ],
   "source": [
    "left_join_transactions_articles.loc[:, [\"quarter\", \"product_type_name\"]].groupby([\"quarter\", \"product_type_name\"], as_index=False).size().sort_values(by=[\"quarter\", \"size\"], ascending=[True, False]).groupby(\"quarter\").head(8).set_index([\"quarter\", \"product_type_name\"]).rename(columns={\"size\": \"Quantity\"}).plot.bar(y=\"Quantity\")"
   ]
  },
  {
   "cell_type": "code",
   "execution_count": 20,
   "metadata": {},
   "outputs": [],
   "source": [
    "del left_join_transactions_articles"
   ]
  },
  {
   "cell_type": "code",
   "execution_count": 21,
   "metadata": {},
   "outputs": [
    {
     "data": {
      "text/html": [
       "<div>\n",
       "<style scoped>\n",
       "    .dataframe tbody tr th:only-of-type {\n",
       "        vertical-align: middle;\n",
       "    }\n",
       "\n",
       "    .dataframe tbody tr th {\n",
       "        vertical-align: top;\n",
       "    }\n",
       "\n",
       "    .dataframe thead th {\n",
       "        text-align: right;\n",
       "    }\n",
       "</style>\n",
       "<table border=\"1\" class=\"dataframe\">\n",
       "  <thead>\n",
       "    <tr style=\"text-align: right;\">\n",
       "      <th></th>\n",
       "      <th>t_dat</th>\n",
       "      <th>customer_id</th>\n",
       "      <th>article_id</th>\n",
       "      <th>price</th>\n",
       "      <th>sales_channel_id</th>\n",
       "      <th>FN</th>\n",
       "      <th>Active</th>\n",
       "      <th>club_member_status</th>\n",
       "      <th>fashion_news_frequency</th>\n",
       "      <th>age</th>\n",
       "      <th>postal_code</th>\n",
       "    </tr>\n",
       "  </thead>\n",
       "  <tbody>\n",
       "    <tr>\n",
       "      <th>0</th>\n",
       "      <td>2018-09-20</td>\n",
       "      <td>000058a12d5b43e67d225668fa1f8d618c13dc232df0ca...</td>\n",
       "      <td>663713001</td>\n",
       "      <td>0.050831</td>\n",
       "      <td>2</td>\n",
       "      <td>NaN</td>\n",
       "      <td>NaN</td>\n",
       "      <td>ACTIVE</td>\n",
       "      <td>NONE</td>\n",
       "      <td>24.0</td>\n",
       "      <td>64f17e6a330a85798e4998f62d0930d14db8db1c054af6...</td>\n",
       "    </tr>\n",
       "    <tr>\n",
       "      <th>1</th>\n",
       "      <td>2018-09-20</td>\n",
       "      <td>000058a12d5b43e67d225668fa1f8d618c13dc232df0ca...</td>\n",
       "      <td>541518023</td>\n",
       "      <td>0.030492</td>\n",
       "      <td>2</td>\n",
       "      <td>NaN</td>\n",
       "      <td>NaN</td>\n",
       "      <td>ACTIVE</td>\n",
       "      <td>NONE</td>\n",
       "      <td>24.0</td>\n",
       "      <td>64f17e6a330a85798e4998f62d0930d14db8db1c054af6...</td>\n",
       "    </tr>\n",
       "    <tr>\n",
       "      <th>2</th>\n",
       "      <td>2018-09-20</td>\n",
       "      <td>00007d2de826758b65a93dd24ce629ed66842531df6699...</td>\n",
       "      <td>505221004</td>\n",
       "      <td>0.015237</td>\n",
       "      <td>2</td>\n",
       "      <td>1.0</td>\n",
       "      <td>1.0</td>\n",
       "      <td>ACTIVE</td>\n",
       "      <td>Regularly</td>\n",
       "      <td>32.0</td>\n",
       "      <td>8d6f45050876d059c830a0fe63f1a4c022de279bb68ce3...</td>\n",
       "    </tr>\n",
       "    <tr>\n",
       "      <th>3</th>\n",
       "      <td>2018-09-20</td>\n",
       "      <td>00007d2de826758b65a93dd24ce629ed66842531df6699...</td>\n",
       "      <td>685687003</td>\n",
       "      <td>0.016932</td>\n",
       "      <td>2</td>\n",
       "      <td>1.0</td>\n",
       "      <td>1.0</td>\n",
       "      <td>ACTIVE</td>\n",
       "      <td>Regularly</td>\n",
       "      <td>32.0</td>\n",
       "      <td>8d6f45050876d059c830a0fe63f1a4c022de279bb68ce3...</td>\n",
       "    </tr>\n",
       "    <tr>\n",
       "      <th>4</th>\n",
       "      <td>2018-09-20</td>\n",
       "      <td>00007d2de826758b65a93dd24ce629ed66842531df6699...</td>\n",
       "      <td>685687004</td>\n",
       "      <td>0.016932</td>\n",
       "      <td>2</td>\n",
       "      <td>1.0</td>\n",
       "      <td>1.0</td>\n",
       "      <td>ACTIVE</td>\n",
       "      <td>Regularly</td>\n",
       "      <td>32.0</td>\n",
       "      <td>8d6f45050876d059c830a0fe63f1a4c022de279bb68ce3...</td>\n",
       "    </tr>\n",
       "  </tbody>\n",
       "</table>\n",
       "</div>"
      ],
      "text/plain": [
       "        t_dat                                        customer_id  article_id  \\\n",
       "0  2018-09-20  000058a12d5b43e67d225668fa1f8d618c13dc232df0ca...   663713001   \n",
       "1  2018-09-20  000058a12d5b43e67d225668fa1f8d618c13dc232df0ca...   541518023   \n",
       "2  2018-09-20  00007d2de826758b65a93dd24ce629ed66842531df6699...   505221004   \n",
       "3  2018-09-20  00007d2de826758b65a93dd24ce629ed66842531df6699...   685687003   \n",
       "4  2018-09-20  00007d2de826758b65a93dd24ce629ed66842531df6699...   685687004   \n",
       "\n",
       "      price  sales_channel_id   FN  Active club_member_status  \\\n",
       "0  0.050831                 2  NaN     NaN             ACTIVE   \n",
       "1  0.030492                 2  NaN     NaN             ACTIVE   \n",
       "2  0.015237                 2  1.0     1.0             ACTIVE   \n",
       "3  0.016932                 2  1.0     1.0             ACTIVE   \n",
       "4  0.016932                 2  1.0     1.0             ACTIVE   \n",
       "\n",
       "  fashion_news_frequency   age  \\\n",
       "0                   NONE  24.0   \n",
       "1                   NONE  24.0   \n",
       "2              Regularly  32.0   \n",
       "3              Regularly  32.0   \n",
       "4              Regularly  32.0   \n",
       "\n",
       "                                         postal_code  \n",
       "0  64f17e6a330a85798e4998f62d0930d14db8db1c054af6...  \n",
       "1  64f17e6a330a85798e4998f62d0930d14db8db1c054af6...  \n",
       "2  8d6f45050876d059c830a0fe63f1a4c022de279bb68ce3...  \n",
       "3  8d6f45050876d059c830a0fe63f1a4c022de279bb68ce3...  \n",
       "4  8d6f45050876d059c830a0fe63f1a4c022de279bb68ce3...  "
      ]
     },
     "execution_count": 21,
     "metadata": {},
     "output_type": "execute_result"
    }
   ],
   "source": [
    "# Do a left join between transactions and customers to ensure there are no transactions containing customers\n",
    "# not in the database\n",
    "left_join_transactions_customers = transactions_dataframe.join(customers_dataframe.set_index(\"customer_id\"), on=\"customer_id\", how=\"left\")\n",
    "left_join_transactions_customers.head()"
   ]
  },
  {
   "cell_type": "code",
   "execution_count": 22,
   "metadata": {},
   "outputs": [
    {
     "data": {
      "text/plain": [
       "0"
      ]
     },
     "execution_count": 22,
     "metadata": {},
     "output_type": "execute_result"
    }
   ],
   "source": [
    "left_join_transactions_customers[\"customer_id\"].isna().sum()"
   ]
  },
  {
   "cell_type": "code",
   "execution_count": 23,
   "metadata": {},
   "outputs": [
    {
     "data": {
      "text/plain": [
       "<AxesSubplot:ylabel='Frequency'>"
      ]
     },
     "execution_count": 23,
     "metadata": {},
     "output_type": "execute_result"
    },
    {
     "data": {
      "image/png": "[encoded data removed]",
      "text/plain": [
       "<Figure size 432x288 with 1 Axes>"
      ]
     },
     "metadata": {
      "needs_background": "light"
     },
     "output_type": "display_data"
    }
   ],
   "source": [
    "# Investigating the correlation between age and price and sales_channel might be interesting\n",
    "pd.concat([left_join_transactions_customers.loc[left_join_transactions_customers[\"sales_channel_id\"] == 1][\"age\"].rename(\"offline\"), \n",
    "           left_join_transactions_customers.loc[left_join_transactions_customers[\"sales_channel_id\"] == 2][\"age\"].rename(\"online\")], axis=1).plot.hist(bins=40, alpha=0.5)"
   ]
  },
  {
   "cell_type": "code",
   "execution_count": 24,
   "metadata": {},
   "outputs": [
    {
     "data": {
      "text/html": [
       "<div>\n",
       "<style scoped>\n",
       "    .dataframe tbody tr th:only-of-type {\n",
       "        vertical-align: middle;\n",
       "    }\n",
       "\n",
       "    .dataframe tbody tr th {\n",
       "        vertical-align: top;\n",
       "    }\n",
       "\n",
       "    .dataframe thead th {\n",
       "        text-align: right;\n",
       "    }\n",
       "</style>\n",
       "<table border=\"1\" class=\"dataframe\">\n",
       "  <thead>\n",
       "    <tr style=\"text-align: right;\">\n",
       "      <th></th>\n",
       "      <th>count</th>\n",
       "      <th>mean</th>\n",
       "      <th>std</th>\n",
       "      <th>min</th>\n",
       "      <th>25%</th>\n",
       "      <th>50%</th>\n",
       "      <th>75%</th>\n",
       "      <th>max</th>\n",
       "    </tr>\n",
       "    <tr>\n",
       "      <th>age</th>\n",
       "      <th></th>\n",
       "      <th></th>\n",
       "      <th></th>\n",
       "      <th></th>\n",
       "      <th></th>\n",
       "      <th></th>\n",
       "      <th></th>\n",
       "      <th></th>\n",
       "    </tr>\n",
       "  </thead>\n",
       "  <tbody>\n",
       "    <tr>\n",
       "      <th>16.0</th>\n",
       "      <td>1531.0</td>\n",
       "      <td>0.022137</td>\n",
       "      <td>0.013567</td>\n",
       "      <td>0.001475</td>\n",
       "      <td>0.013542</td>\n",
       "      <td>0.018627</td>\n",
       "      <td>0.030492</td>\n",
       "      <td>0.167797</td>\n",
       "    </tr>\n",
       "    <tr>\n",
       "      <th>17.0</th>\n",
       "      <td>58698.0</td>\n",
       "      <td>0.022795</td>\n",
       "      <td>0.013005</td>\n",
       "      <td>0.000695</td>\n",
       "      <td>0.013542</td>\n",
       "      <td>0.022017</td>\n",
       "      <td>0.030492</td>\n",
       "      <td>0.252542</td>\n",
       "    </tr>\n",
       "    <tr>\n",
       "      <th>18.0</th>\n",
       "      <td>202326.0</td>\n",
       "      <td>0.023312</td>\n",
       "      <td>0.013859</td>\n",
       "      <td>0.000441</td>\n",
       "      <td>0.013542</td>\n",
       "      <td>0.022017</td>\n",
       "      <td>0.030492</td>\n",
       "      <td>0.303390</td>\n",
       "    </tr>\n",
       "    <tr>\n",
       "      <th>19.0</th>\n",
       "      <td>428847.0</td>\n",
       "      <td>0.023801</td>\n",
       "      <td>0.014529</td>\n",
       "      <td>0.000424</td>\n",
       "      <td>0.013542</td>\n",
       "      <td>0.022017</td>\n",
       "      <td>0.030492</td>\n",
       "      <td>0.273051</td>\n",
       "    </tr>\n",
       "    <tr>\n",
       "      <th>20.0</th>\n",
       "      <td>780751.0</td>\n",
       "      <td>0.024524</td>\n",
       "      <td>0.015151</td>\n",
       "      <td>0.000203</td>\n",
       "      <td>0.013542</td>\n",
       "      <td>0.022017</td>\n",
       "      <td>0.033881</td>\n",
       "      <td>0.422034</td>\n",
       "    </tr>\n",
       "    <tr>\n",
       "      <th>...</th>\n",
       "      <td>...</td>\n",
       "      <td>...</td>\n",
       "      <td>...</td>\n",
       "      <td>...</td>\n",
       "      <td>...</td>\n",
       "      <td>...</td>\n",
       "      <td>...</td>\n",
       "      <td>...</td>\n",
       "    </tr>\n",
       "    <tr>\n",
       "      <th>95.0</th>\n",
       "      <td>140.0</td>\n",
       "      <td>0.027269</td>\n",
       "      <td>0.014382</td>\n",
       "      <td>0.005068</td>\n",
       "      <td>0.016932</td>\n",
       "      <td>0.025407</td>\n",
       "      <td>0.033881</td>\n",
       "      <td>0.101678</td>\n",
       "    </tr>\n",
       "    <tr>\n",
       "      <th>96.0</th>\n",
       "      <td>31.0</td>\n",
       "      <td>0.021197</td>\n",
       "      <td>0.009376</td>\n",
       "      <td>0.008458</td>\n",
       "      <td>0.016932</td>\n",
       "      <td>0.016932</td>\n",
       "      <td>0.025407</td>\n",
       "      <td>0.046102</td>\n",
       "    </tr>\n",
       "    <tr>\n",
       "      <th>97.0</th>\n",
       "      <td>38.0</td>\n",
       "      <td>0.028645</td>\n",
       "      <td>0.015785</td>\n",
       "      <td>0.008458</td>\n",
       "      <td>0.016932</td>\n",
       "      <td>0.025407</td>\n",
       "      <td>0.033881</td>\n",
       "      <td>0.084729</td>\n",
       "    </tr>\n",
       "    <tr>\n",
       "      <th>98.0</th>\n",
       "      <td>99.0</td>\n",
       "      <td>0.033850</td>\n",
       "      <td>0.022657</td>\n",
       "      <td>0.005068</td>\n",
       "      <td>0.016932</td>\n",
       "      <td>0.030492</td>\n",
       "      <td>0.042356</td>\n",
       "      <td>0.135576</td>\n",
       "    </tr>\n",
       "    <tr>\n",
       "      <th>99.0</th>\n",
       "      <td>98.0</td>\n",
       "      <td>0.024298</td>\n",
       "      <td>0.013366</td>\n",
       "      <td>0.003051</td>\n",
       "      <td>0.014093</td>\n",
       "      <td>0.022864</td>\n",
       "      <td>0.033881</td>\n",
       "      <td>0.061000</td>\n",
       "    </tr>\n",
       "  </tbody>\n",
       "</table>\n",
       "<p>84 rows × 8 columns</p>\n",
       "</div>"
      ],
      "text/plain": [
       "         count      mean       std       min       25%       50%       75%  \\\n",
       "age                                                                          \n",
       "16.0    1531.0  0.022137  0.013567  0.001475  0.013542  0.018627  0.030492   \n",
       "17.0   58698.0  0.022795  0.013005  0.000695  0.013542  0.022017  0.030492   \n",
       "18.0  202326.0  0.023312  0.013859  0.000441  0.013542  0.022017  0.030492   \n",
       "19.0  428847.0  0.023801  0.014529  0.000424  0.013542  0.022017  0.030492   \n",
       "20.0  780751.0  0.024524  0.015151  0.000203  0.013542  0.022017  0.033881   \n",
       "...        ...       ...       ...       ...       ...       ...       ...   \n",
       "95.0     140.0  0.027269  0.014382  0.005068  0.016932  0.025407  0.033881   \n",
       "96.0      31.0  0.021197  0.009376  0.008458  0.016932  0.016932  0.025407   \n",
       "97.0      38.0  0.028645  0.015785  0.008458  0.016932  0.025407  0.033881   \n",
       "98.0      99.0  0.033850  0.022657  0.005068  0.016932  0.030492  0.042356   \n",
       "99.0      98.0  0.024298  0.013366  0.003051  0.014093  0.022864  0.033881   \n",
       "\n",
       "           max  \n",
       "age             \n",
       "16.0  0.167797  \n",
       "17.0  0.252542  \n",
       "18.0  0.303390  \n",
       "19.0  0.273051  \n",
       "20.0  0.422034  \n",
       "...        ...  \n",
       "95.0  0.101678  \n",
       "96.0  0.046102  \n",
       "97.0  0.084729  \n",
       "98.0  0.135576  \n",
       "99.0  0.061000  \n",
       "\n",
       "[84 rows x 8 columns]"
      ]
     },
     "execution_count": 24,
     "metadata": {},
     "output_type": "execute_result"
    }
   ],
   "source": [
    "left_join_transactions_customers.groupby(\"age\")[\"price\"].describe()"
   ]
  },
  {
   "cell_type": "code",
   "execution_count": 25,
   "metadata": {},
   "outputs": [
    {
     "data": {
      "text/plain": [
       "<AxesSubplot:xlabel='age'>"
      ]
     },
     "execution_count": 25,
     "metadata": {},
     "output_type": "execute_result"
    },
    {
     "data": {
      "image/png": "[encoded data removed]",
      "text/plain": [
       "<Figure size 432x288 with 1 Axes>"
      ]
     },
     "metadata": {
      "needs_background": "light"
     },
     "output_type": "display_data"
    }
   ],
   "source": [
    "left_join_transactions_customers.groupby(pd.cut(left_join_transactions_customers[\"age\"], 20))[\"price\"].mean().plot.bar()"
   ]
  },
  {
   "cell_type": "code",
   "execution_count": 26,
   "metadata": {},
   "outputs": [
    {
     "data": {
      "text/plain": [
       "age\n",
       "16.0    0.022137\n",
       "17.0    0.022795\n",
       "18.0    0.023312\n",
       "19.0    0.023801\n",
       "20.0    0.024524\n",
       "          ...   \n",
       "95.0    0.027269\n",
       "96.0    0.021197\n",
       "97.0    0.028645\n",
       "98.0    0.033850\n",
       "99.0    0.024298\n",
       "Name: price, Length: 84, dtype: float64"
      ]
     },
     "execution_count": 26,
     "metadata": {},
     "output_type": "execute_result"
    }
   ],
   "source": [
    "left_join_transactions_customers.groupby(\"age\")[\"price\"].mean()"
   ]
  },
  {
   "cell_type": "code",
   "execution_count": 55,
   "metadata": {},
   "outputs": [
    {
     "data": {
      "text/plain": [
       "customer_id               2\n",
       "FN                        2\n",
       "Active                    1\n",
       "club_member_status        2\n",
       "fashion_news_frequency    2\n",
       "age                       2\n",
       "postal_code               2\n",
       "dtype: int64"
      ]
     },
     "execution_count": 55,
     "metadata": {},
     "output_type": "execute_result"
    }
   ],
   "source": [
    "customers_dataframe.loc[customers_dataframe[\"fashion_news_frequency\"] == \"None\"].count()"
   ]
  },
  {
   "cell_type": "code",
   "execution_count": null,
   "metadata": {},
   "outputs": [],
   "source": []
  }
 ],
 "metadata": {
  "kernelspec": {
   "display_name": "Python 3 (ipykernel)",
   "language": "python",
   "name": "python3"
  },
  "language_info": {
   "codemirror_mode": {
    "name": "ipython",
    "version": 3
   },
   "file_extension": ".py",
   "mimetype": "text/x-python",
   "name": "python",
   "nbconvert_exporter": "python",
   "pygments_lexer": "ipython3",
   "version": "3.9.7"
  }
 },
 "nbformat": 4,
 "nbformat_minor": 4
}
