{
 "cells": [
  {
   "cell_type": "markdown",
   "id": "7adaeed1",
   "metadata": {},
   "source": [
    "# Time\n",
    "Objectives:\n",
    "- Compare various cut-off points for the data\n",
    "\n",
    "Method:\n",
    "- Using the last week of the data as verification,\n",
    "- Plot an estimate of the expected score\n",
    "- By trying to predict what customers bought that week using the previous weeks as information\n"
   ]
  },
  {
   "cell_type": "code",
   "execution_count": 1,
   "id": "8d75830a",
   "metadata": {},
   "outputs": [],
   "source": [
    "import numpy as np \n",
    "import pandas as pd\n",
    "import random\n",
    "from sklearn.model_selection import train_test_split\n",
    "from sklearn.metrics import classification_report\n",
    "from sklearn import preprocessing\n",
    "import time"
   ]
  },
  {
   "cell_type": "code",
   "execution_count": 2,
   "id": "3a8d3320",
   "metadata": {},
   "outputs": [],
   "source": [
    "transactions = pd.read_csv('./data/transactions_train.csv')"
   ]
  },
  {
   "cell_type": "markdown",
   "id": "1dba497b",
   "metadata": {},
   "source": [
    "Replace customer ids with label encoding for space preservation purposes."
   ]
  },
  {
   "cell_type": "code",
   "execution_count": 3,
   "id": "836ef65e",
   "metadata": {},
   "outputs": [],
   "source": [
    "def encode_transactions_customers(transactions_df):\n",
    "    customers = pd.read_csv('./data/customers.csv')\n",
    "    customer_encoder = preprocessing.LabelEncoder()\n",
    "    customer_encoder.fit(customers['customer_id'])\n",
    "    transactions['customer_id'] = customer_encoder.transform(transactions['customer_id'])\n",
    "    np.save('customer_ids.npy', customer_encoder.classes_) \n",
    "    return customer_encoder"
   ]
  },
  {
   "cell_type": "code",
   "execution_count": 4,
   "id": "535b1c84",
   "metadata": {},
   "outputs": [],
   "source": [
    "customer_encoder = encode_transactions_customers(transactions)"
   ]
  },
  {
   "cell_type": "code",
   "execution_count": 5,
   "id": "0c51ad8e",
   "metadata": {},
   "outputs": [],
   "source": [
    "transactions['purchased'] = 1"
   ]
  },
  {
   "cell_type": "markdown",
   "id": "53aecf7b",
   "metadata": {},
   "source": [
    "Transform string dates into weeks with the start of week 0 being the week for the final calculation (meaning everything in the data becomes a negative week)"
   ]
  },
  {
   "cell_type": "code",
   "execution_count": 6,
   "id": "c5515a8c",
   "metadata": {},
   "outputs": [],
   "source": [
    "def transform_string_dates_to_int(transactions_df):\n",
    "    import datetime\n",
    "\n",
    "    lookup = dict()\n",
    "    def str_dat_to_weeks_int(datestring):\n",
    "        return lookup.setdefault(datestring, (datetime.datetime.strptime(datestring, \"%Y-%m-%d\") - datetime.datetime(2020, 9, 23)).days//7)\n",
    "    \n",
    "    transactions_df[\"t_dat\"] = transactions_df[\"t_dat\"].map(str_dat_to_weeks_int)\n"
   ]
  },
  {
   "cell_type": "code",
   "execution_count": 7,
   "id": "6bd2c916",
   "metadata": {},
   "outputs": [],
   "source": [
    "transform_string_dates_to_int(transactions)"
   ]
  },
  {
   "cell_type": "markdown",
   "id": "c8e79330",
   "metadata": {},
   "source": [
    "Drop all transactions which happened more than 20 weeks before the end of the data collection period"
   ]
  },
  {
   "cell_type": "code",
   "execution_count": 8,
   "id": "12e1ab89",
   "metadata": {},
   "outputs": [],
   "source": [
    "transactions.drop(transactions[transactions[\"t_dat\"] < -21].index, inplace=True)"
   ]
  },
  {
   "cell_type": "markdown",
   "id": "31c989b0",
   "metadata": {},
   "source": [
    "Perform random negative sampling, most of this code is copied from the 2nd lecture"
   ]
  },
  {
   "cell_type": "code",
   "execution_count": 9,
   "id": "f2c8a676",
   "metadata": {},
   "outputs": [],
   "source": [
    "def generate_negative_samples_np_version(transactions_df, num_neg_pos):\n",
    "    real_dates = transactions[\"t_dat\"].unique()\n",
    "    real_customers = transactions[\"customer_id\"].unique()\n",
    "    real_articles = transactions[\"article_id\"].unique()\n",
    "    real_channels = transactions[\"sales_channel_id\"].unique()\n",
    "    article_and_price = transactions[[\"article_id\",\"price\"]].drop_duplicates(\"article_id\").set_index(\"article_id\").squeeze()\n",
    "\n",
    "    random.seed(42)\n",
    "    num_neg_samples = int(num_neg_pos * 1.1)\n",
    "\n",
    "    neg_dates = np.random.choice(real_dates, size=num_neg_samples)\n",
    "    neg_articles = np.random.choice(real_articles, size=num_neg_samples)\n",
    "    neg_customers = np.random.choice(real_customers, size=num_neg_samples)\n",
    "    neg_channels = np.random.choice(real_channels, size=num_neg_samples)\n",
    "    ordered = np.array([0] * num_neg_samples)\n",
    "\n",
    "    neg_prices = article_and_price[neg_articles].values\n",
    "    \n",
    "    return np.column_stack((neg_dates, neg_customers, neg_articles, neg_prices, neg_channels, ordered))\n",
    "    \n",
    "def generate_negative_samples(transactions_df):\n",
    "    num_neg_pos = transactions_df.shape[0]\n",
    "    positive_pairs = list(map(tuple, transactions_df[['customer_id', 'article_id']].drop_duplicates().values))\n",
    "    neg_transactions = pd.DataFrame(generate_negative_samples_np_version(transactions_df, num_neg_pos), columns=transactions_df.columns)\n",
    "    duplicate_indexes = neg_transactions[[\"customer_id\", \"article_id\"]].apply(tuple, 1).isin(positive_pairs)\n",
    "    neg_transactions = neg_transactions[~duplicate_indexes]\n",
    "    return neg_transactions.sample(num_neg_pos)\n",
    "\n",
    "def negative_sampling(transactions_df):\n",
    "    transactions_df = pd.concat([transactions_df, generate_negative_samples(transactions_df)])\n",
    "    transactions_df.reset_index(drop=True, inplace=True)\n",
    "    return transactions_df"
   ]
  },
  {
   "cell_type": "code",
   "execution_count": 10,
   "id": "80eec622",
   "metadata": {},
   "outputs": [],
   "source": [
    "transactions = negative_sampling(transactions)"
   ]
  },
  {
   "cell_type": "code",
   "execution_count": 11,
   "id": "8364c64b",
   "metadata": {},
   "outputs": [],
   "source": [
    "transactions.to_feather('./data/negativesampled.feather')"
   ]
  },
  {
   "cell_type": "markdown",
   "id": "5633388d",
   "metadata": {},
   "source": [
    "This is intended as a checkpoint for if I need to reset the jupyter notebook kernel for whatever reason. "
   ]
  },
  {
   "cell_type": "code",
   "execution_count": 12,
   "id": "86d97c15",
   "metadata": {},
   "outputs": [],
   "source": [
    "articles = pd.read_csv('./data/articles.csv')"
   ]
  },
  {
   "cell_type": "code",
   "execution_count": 13,
   "id": "b5f42da1",
   "metadata": {},
   "outputs": [],
   "source": [
    "transactions = pd.read_feather(\"./data/negativesampled.feather\")"
   ]
  },
  {
   "cell_type": "code",
   "execution_count": 14,
   "id": "df586f9e",
   "metadata": {},
   "outputs": [],
   "source": [
    "customers = pd.read_csv('./data/customers.csv')"
   ]
  },
  {
   "cell_type": "code",
   "execution_count": 15,
   "id": "16d3b561",
   "metadata": {},
   "outputs": [],
   "source": [
    "customer_encoder = preprocessing.LabelEncoder()\n",
    "customer_encoder.classes_ = np.load(\"customer_ids.npy\", allow_pickle=True)"
   ]
  },
  {
   "cell_type": "markdown",
   "id": "5c499d39",
   "metadata": {},
   "source": [
    "Apply the label encoding to the customer table so it can be joined with transactions"
   ]
  },
  {
   "cell_type": "code",
   "execution_count": 16,
   "id": "df8501e3",
   "metadata": {},
   "outputs": [],
   "source": [
    "customers['customer_id'] = customer_encoder.transform(customers['customer_id'])"
   ]
  },
  {
   "cell_type": "code",
   "execution_count": 17,
   "id": "a4096f15",
   "metadata": {},
   "outputs": [],
   "source": [
    "zip_encoder = preprocessing.LabelEncoder()\n",
    "customers[\"postal_code\"] = zip_encoder.fit_transform(customers[\"postal_code\"])"
   ]
  },
  {
   "cell_type": "code",
   "execution_count": 18,
   "id": "40f0e087",
   "metadata": {},
   "outputs": [],
   "source": [
    "def correct_types_and_merge_transactions(transactions_df, customers_df, articles_df):\n",
    "    customers_df[\"age\"] = customers_df[\"age\"].fillna(25)\n",
    "    customers_df[\"age\"] = customers_df[\"age\"].astype(int)\n",
    "    articles_df[['article_id', 'product_code', 'product_type_no','graphical_appearance_no','colour_group_code',\n",
    "       'perceived_colour_value_id', 'perceived_colour_master_id', 'department_no',\n",
    "       'index_group_no', 'section_no', 'garment_group_no']] = articles_df[['article_id', 'product_code',\n",
    "       'product_type_no','graphical_appearance_no','colour_group_code',\n",
    "       'perceived_colour_value_id', 'perceived_colour_master_id', 'department_no',\n",
    "       'index_group_no', 'section_no', 'garment_group_no']].astype(int)\n",
    "    transactions_df[['t_dat', 'customer_id', 'article_id', 'sales_channel_id', 'purchased']] = transactions_df[['t_dat', 'customer_id', 'article_id', 'sales_channel_id', 'purchased']].astype(int)\n",
    "\n",
    "    transactions_df = transactions_df.merge(customers_df[[\"customer_id\", \"age\", \"postal_code\"]], how=\"inner\", on='customer_id')\n",
    "    transactions_df = transactions_df.merge(articles_df[[\"article_id\", \"product_code\", \"product_type_no\", \"graphical_appearance_no\", \"colour_group_code\", \"department_no\", \"index_group_no\", \"section_no\", \"garment_group_no\"]], how=\"inner\", on='article_id')\n",
    "    return transactions_df"
   ]
  },
  {
   "cell_type": "code",
   "execution_count": 19,
   "id": "d7422747",
   "metadata": {},
   "outputs": [],
   "source": [
    "transactions = correct_types_and_merge_transactions(transactions, customers, articles)"
   ]
  },
  {
   "cell_type": "code",
   "execution_count": 20,
   "id": "32984d46",
   "metadata": {},
   "outputs": [],
   "source": [
    "def split_time_train_test(transactions_df):\n",
    "    train = transactions_df[transactions_df[\"t_dat\"] < -1]\n",
    "    test = transactions_df[transactions_df[\"t_dat\"] == -1]\n",
    "    X_train = train.drop(['purchased', \"price\", \"sales_channel_id\"], axis=1)\n",
    "    X_test = test.drop(['purchased', \"price\", \"sales_channel_id\"], axis=1)\n",
    "    y_train = train['purchased']\n",
    "    y_test = test['purchased']\n",
    "    return train, test, X_train, X_test, y_train, y_test"
   ]
  },
  {
   "cell_type": "markdown",
   "id": "cd9268f0",
   "metadata": {},
   "source": [
    "Calculate the popular items which I will be using as candidates for the submission."
   ]
  },
  {
   "cell_type": "code",
   "execution_count": 21,
   "id": "fb9997ea",
   "metadata": {},
   "outputs": [],
   "source": [
    "def get_popular_items(transaction_df):\n",
    "    popular_all_time = transaction_df[(transaction_df[\"purchased\"] == 1)][[\"article_id\", \"purchased\"]].groupby(\"article_id\").count().sort_values(ascending=False, by=\"purchased\").head(24).index.to_series().reset_index(drop=True)\n",
    "    popular_by_month = transaction_df[(transaction_df[\"purchased\"] == 1) & (transaction_df[\"t_dat\"] >= -5)][[\"article_id\", \"purchased\"]].groupby(\"article_id\").count().sort_values(ascending=False, by=\"purchased\").head(48).index.to_series().reset_index(drop=True)\n",
    "    popular_by_month2 = popular_by_month[~popular_by_month.isin(popular_all_time)]\n",
    "    popular_by_month2 = popular_by_month2.reset_index(drop=True).head(24)\n",
    "    popular_candidates = pd.DataFrame(pd.concat([popular_all_time, popular_by_month2])).astype(int).reset_index(drop=True)\n",
    "    return popular_candidates, popular_by_month"
   ]
  },
  {
   "cell_type": "markdown",
   "id": "4e85eb5d",
   "metadata": {},
   "source": [
    "Generate dataframe with all active customers and the candidates"
   ]
  },
  {
   "cell_type": "code",
   "execution_count": 22,
   "id": "46e9286d",
   "metadata": {},
   "outputs": [],
   "source": [
    "def generate_ranker_input_df(transactions_df, candidates, customers_df, articles_df):\n",
    "    return pd.DataFrame(data={\"t_dat\": -1}, index=[0]).merge(transactions_df[transactions_df[\"t_dat\"] == -1][[\"customer_id\"]].drop_duplicates(subset=\"customer_id\"), how=\"cross\").merge(candidates, how=\"cross\").merge(customers_df[[\"customer_id\", \"age\", \"postal_code\"]], how=\"inner\", on=\"customer_id\").merge(articles_df[[\"article_id\", \"product_code\", \"product_type_no\", \"graphical_appearance_no\", \"colour_group_code\", \"department_no\", \"index_group_no\", \"section_no\", \"garment_group_no\"]], how=\"inner\", on=\"article_id\")"
   ]
  },
  {
   "cell_type": "markdown",
   "id": "d5e5a526",
   "metadata": {},
   "source": [
    "Functions to perform predictions and calculate MAPS@12"
   ]
  },
  {
   "cell_type": "code",
   "execution_count": 23,
   "id": "b6e44175",
   "metadata": {},
   "outputs": [],
   "source": [
    "# Copied from the radekosmulski notebook\n",
    "def generate_ranking(df):\n",
    "    return df.sort_values(by=[\"customer_id\", \"p1\"], ascending=[True, False]).groupby(\"customer_id\")[\"article_id\"].apply(list).to_dict()"
   ]
  },
  {
   "cell_type": "code",
   "execution_count": 33,
   "id": "147249d4",
   "metadata": {},
   "outputs": [],
   "source": [
    "def predict_and_compare(df, classifier, filler_candidates, test, test_dictionary):\n",
    "    predictions = classifier.predict_proba(df)\n",
    "    df[[\"p0\", \"p1\"]] = predictions\n",
    "    ranking = generate_ranking(df)\n",
    "    \n",
    "    # Copied from the radekosmulski notebook\n",
    "    preds = dict()\n",
    "    for c_id in test[\"customer_id\"].unique():\n",
    "        pred = ranking.get(c_id, filler_candidates)\n",
    "        preds[c_id] = pred[:12]\n",
    "        \n",
    "    score = 0\n",
    "    for c_id in test_dictionary.keys():\n",
    "        sum_pk = 0\n",
    "        matches = 0\n",
    "        for i, pred in enumerate(preds[c_id]):\n",
    "            if pred in test_dictionary[c_id]:\n",
    "                matches += 1\n",
    "                sum_pk += matches / (i + 1)\n",
    "        score += sum_pk / min(len(test_dictionary[c_id]), 12)\n",
    "    \n",
    "    df.drop(['p0', 'p1'], inplace=True, axis=1)\n",
    "    return score / len(test_dictionary.keys())"
   ]
  },
  {
   "cell_type": "code",
   "execution_count": null,
   "id": "3c5c957b",
   "metadata": {},
   "outputs": [],
   "source": [
    "def generate_dictionary_for_test(test):\n",
    "    return test[test[\"purchased\"] == 1].groupby(\"customer_id\")[\"article_id\"].apply(list).to_dict()\n",
    "\n",
    "train, test, X_train, X_test, y_train, y_test = split_time_train_test(transactions)\n",
    "test_dictionary = generate_dictionary_for_test(test)"
   ]
  },
  {
   "cell_type": "markdown",
   "id": "222bc88a",
   "metadata": {},
   "source": [
    "Let's start with lightgbm binary classifier"
   ]
  },
  {
   "cell_type": "code",
   "execution_count": 25,
   "id": "dd342ff7",
   "metadata": {},
   "outputs": [],
   "source": [
    "# copying from https://github.com/microsoft/LightGBM/blob/master/examples/python-guide/simple_example.py\n",
    "# combined with https://github.com/angelotc/LightGBM-binary-classification-example/blob/master/CCData.ipynb\n",
    "\n",
    "import lightgbm as lgb\n",
    "\n",
    "def train_gbm_ranker(X_train, y_train):\n",
    "\n",
    "    gbm = lgb.LGBMClassifier(learning_rate = 0.1, metric = 'l1', \n",
    "                            n_estimators = 20)\n",
    "    gbm.fit(X_train, y_train)\n",
    "    \n",
    "    return gbm"
   ]
  },
  {
   "cell_type": "code",
   "execution_count": 35,
   "id": "0f942ec8",
   "metadata": {},
   "outputs": [
    {
     "name": "stdout",
     "output_type": "stream",
     "text": [
      "20 0.011884599539763056\n",
      "19 0.012155082372425732\n",
      "18 0.012550403435548103\n",
      "17 0.012512951966410193\n",
      "16 0.012567048532942729\n",
      "15 0.012646112745567203\n",
      "14 0.012483823045969598\n",
      "13 0.012750144604283616\n",
      "12 0.014106720041945646\n",
      "11 0.015559004789626775\n",
      "10 0.013823753386237002\n",
      "9 0.01605835771146556\n",
      "8 0.015704649391829754\n",
      "7 0.012175888744169014\n",
      "6 0.014131687688037584\n",
      "5 0.014285654838937876\n",
      "4 0.013807108288842376\n",
      "3 0.014422976892443541\n",
      "2 0.017202708157346105\n",
      "1 0.022716396669316012\n"
     ]
    }
   ],
   "source": [
    "week_limit = 20\n",
    "start_week = -1\n",
    "scores = dict()\n",
    "while week_limit > 0:\n",
    "    temp_transactions = transactions.drop(transactions[transactions[\"t_dat\"] < start_week - week_limit].index)\n",
    "    train, test, X_train, X_test, y_train, y_test = split_time_train_test(temp_transactions)\n",
    "    popular_candidates, popular_last_week = get_popular_items(train)\n",
    "    ranker_input = generate_ranker_input_df(temp_transactions, popular_candidates, customers, articles)\n",
    "    model = train_gbm_ranker(X_train, y_train)\n",
    "    score = predict_and_compare(ranker_input, model, popular_last_week, test, test_dictionary)\n",
    "    scores[week_limit] = score\n",
    "    print(week_limit, score)\n",
    "    week_limit -= 1"
   ]
  },
  {
   "cell_type": "code",
   "execution_count": 37,
   "id": "32b09cdc",
   "metadata": {},
   "outputs": [
    {
     "data": {
      "text/plain": [
       "[<matplotlib.lines.Line2D at 0x2dc5ad04460>]"
      ]
     },
     "execution_count": 37,
     "metadata": {},
     "output_type": "execute_result"
    },
    {
     "data": {
      "image/png": "[encoded data removed]",
      "text/plain": [
       "<Figure size 432x288 with 1 Axes>"
      ]
     },
     "metadata": {
      "needs_background": "light"
     },
     "output_type": "display_data"
    }
   ],
   "source": [
    "import matplotlib.pyplot as plt\n",
    "\n",
    "plt.plot(range(1, 21), [scores[i] for i in range(1, 21)])"
   ]
  },
  {
   "cell_type": "code",
   "execution_count": null,
   "id": "86765384",
   "metadata": {},
   "outputs": [],
   "source": []
  }
 ],
 "metadata": {
  "kernelspec": {
   "display_name": "Python 3 (ipykernel)",
   "language": "python",
   "name": "python3"
  },
  "language_info": {
   "codemirror_mode": {
    "name": "ipython",
    "version": 3
   },
   "file_extension": ".py",
   "mimetype": "text/x-python",
   "name": "python",
   "nbconvert_exporter": "python",
   "pygments_lexer": "ipython3",
   "version": "3.9.7"
  }
 },
 "nbformat": 4,
 "nbformat_minor": 5
}
