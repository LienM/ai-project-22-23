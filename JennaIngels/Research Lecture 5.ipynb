{
 "cells": [
  {
   "cell_type": "code",
   "execution_count": 1,
   "id": "8d75830a",
   "metadata": {},
   "outputs": [],
   "source": [
    "import numpy as np \n",
    "import pandas as pd\n",
    "import random\n",
    "from sklearn.linear_model import LogisticRegression\n",
    "from sklearn.model_selection import train_test_split\n",
    "from sklearn.metrics import classification_report\n",
    "from sklearn import preprocessing"
   ]
  },
  {
   "cell_type": "code",
   "execution_count": 2,
   "id": "fef9b1f4",
   "metadata": {},
   "outputs": [],
   "source": [
    "import time"
   ]
  },
  {
   "cell_type": "code",
   "execution_count": 3,
   "id": "3a8d3320",
   "metadata": {},
   "outputs": [],
   "source": [
    "transactions = pd.read_csv('./data/transactions_train.csv')\n",
    "articles = pd.read_csv('./data/articles.csv')\n",
    "customers = pd.read_csv('./data/customers.csv')"
   ]
  },
  {
   "cell_type": "code",
   "execution_count": 4,
   "id": "0c51ad8e",
   "metadata": {},
   "outputs": [],
   "source": [
    "transactions['purchased'] = 1"
   ]
  },
  {
   "cell_type": "markdown",
   "id": "53aecf7b",
   "metadata": {},
   "source": [
    "Transform string dates into weeks with the start of week 0 being the week for the final calculation (meaning everything in the data becomes a negative week)"
   ]
  },
  {
   "cell_type": "code",
   "execution_count": 9,
   "id": "c5515a8c",
   "metadata": {},
   "outputs": [
    {
     "name": "stdout",
     "output_type": "stream",
     "text": [
      "-20\n",
      "{'2020-05-10': -20}\n"
     ]
    }
   ],
   "source": [
    "import datetime\n",
    "\n",
    "lookup = dict()\n",
    "def str_dat_to_weeks_int(datestring):\n",
    "    return lookup.setdefault(datestring, (datetime.datetime.strptime(datestring, \"%Y-%m-%d\") - datetime.datetime(2020, 9, 23)).days//7)\n",
    "\n",
    "print(str_dat_to_weeks_int(\"2020-05-10\"))\n",
    "print(lookup)"
   ]
  },
  {
   "cell_type": "code",
   "execution_count": 10,
   "id": "6bd2c916",
   "metadata": {},
   "outputs": [],
   "source": [
    "transactions[\"t_dat\"] = transactions[\"t_dat\"].map(str_dat_to_weeks_int)"
   ]
  },
  {
   "cell_type": "code",
   "execution_count": 16,
   "id": "9a314630",
   "metadata": {},
   "outputs": [],
   "source": [
    "del lookup"
   ]
  },
  {
   "cell_type": "markdown",
   "id": "1dba497b",
   "metadata": {},
   "source": [
    "Replace customer and article ids with label encoding. Article id is perhaps not necessary but I like it being parallel"
   ]
  },
  {
   "cell_type": "code",
   "execution_count": 14,
   "id": "836ef65e",
   "metadata": {},
   "outputs": [],
   "source": [
    "customer_encoder = preprocessing.LabelEncoder()\n",
    "article_encoder = preprocessing.LabelEncoder()\n",
    "\n",
    "customer_encoder.fit(customers['customer_id'])\n",
    "article_encoder.fit(articles['article_id'])\n",
    "\n",
    "transactions['customer_id'] = customer_encoder.transform(transactions['customer_id'])\n",
    "transactions['article_id'] = article_encoder.transform(transactions['article_id'])\n",
    "\n",
    "del articles\n",
    "del customers"
   ]
  },
  {
   "cell_type": "code",
   "execution_count": 29,
   "id": "535b1c84",
   "metadata": {},
   "outputs": [],
   "source": [
    "np.save('customer_ids.npy', customer_encoder.classes_)\n",
    "np.save('article_ids.npy', article_encoder.classes_)"
   ]
  },
  {
   "cell_type": "markdown",
   "id": "c8e79330",
   "metadata": {},
   "source": [
    "Drop all transactions which happened more than 20 weeks before the end of the data collection period"
   ]
  },
  {
   "cell_type": "code",
   "execution_count": 11,
   "id": "12e1ab89",
   "metadata": {},
   "outputs": [],
   "source": [
    "transactions.drop(transactions[transactions[\"t_dat\"] < -20].index, inplace=True)"
   ]
  },
  {
   "cell_type": "markdown",
   "id": "31c989b0",
   "metadata": {},
   "source": [
    "Perform random negative sampling, most of this code is copied from the 2nd lecture"
   ]
  },
  {
   "cell_type": "code",
   "execution_count": 15,
   "id": "f2c8a676",
   "metadata": {},
   "outputs": [],
   "source": [
    "positive_pairs = list(map(tuple, transactions[['customer_id', 'article_id']].drop_duplicates().values))"
   ]
  },
  {
   "cell_type": "code",
   "execution_count": 17,
   "id": "7e691237",
   "metadata": {},
   "outputs": [],
   "source": [
    "real_dates = transactions[\"t_dat\"].unique()\n",
    "real_customers = transactions[\"customer_id\"].unique()\n",
    "real_articles = transactions[\"article_id\"].unique()\n",
    "real_channels = transactions[\"sales_channel_id\"].unique()\n",
    "article_and_price = transactions[[\"article_id\",\"price\"]].drop_duplicates(\"article_id\").set_index(\"article_id\").squeeze()"
   ]
  },
  {
   "cell_type": "code",
   "execution_count": 18,
   "id": "7c0f8442",
   "metadata": {},
   "outputs": [],
   "source": [
    "num_neg_pos = transactions.shape[0]"
   ]
  },
  {
   "cell_type": "code",
   "execution_count": 19,
   "id": "5d1ca6a6",
   "metadata": {},
   "outputs": [],
   "source": [
    "random.seed(42)\n",
    "num_neg_samples = int(num_neg_pos * 1.1)\n",
    "\n",
    "neg_dates = np.random.choice(real_dates, size=num_neg_samples)\n",
    "neg_articles = np.random.choice(real_articles, size=num_neg_samples)\n",
    "neg_customers = np.random.choice(real_customers, size=num_neg_samples)\n",
    "neg_channels = np.random.choice(real_channels, size=num_neg_samples)\n",
    "ordered = np.array([0] * num_neg_samples)\n",
    "\n",
    "neg_prices = article_and_price[neg_articles].values"
   ]
  },
  {
   "cell_type": "code",
   "execution_count": 20,
   "id": "c2ded3e9",
   "metadata": {},
   "outputs": [],
   "source": [
    "del real_dates\n",
    "del real_customers\n",
    "del real_articles\n",
    "del real_channels\n",
    "del article_and_price\n",
    "del num_neg_samples"
   ]
  },
  {
   "cell_type": "code",
   "execution_count": 21,
   "id": "5fd555e2",
   "metadata": {},
   "outputs": [],
   "source": [
    "t_columns = transactions.columns"
   ]
  },
  {
   "cell_type": "code",
   "execution_count": 22,
   "id": "d46baac4",
   "metadata": {},
   "outputs": [],
   "source": [
    "np_frame = np.column_stack((neg_dates, neg_customers, neg_articles, neg_prices, neg_channels, ordered))"
   ]
  },
  {
   "cell_type": "code",
   "execution_count": 23,
   "id": "21598a3a",
   "metadata": {},
   "outputs": [],
   "source": [
    "neg_transactions = pd.DataFrame(np_frame, columns=t_columns)"
   ]
  },
  {
   "cell_type": "code",
   "execution_count": 24,
   "id": "9a27240d",
   "metadata": {},
   "outputs": [],
   "source": [
    "del t_columns\n",
    "del np_frame"
   ]
  },
  {
   "cell_type": "code",
   "execution_count": 25,
   "id": "6b98d73a",
   "metadata": {},
   "outputs": [],
   "source": [
    "duplicate_indexes = neg_transactions[[\"customer_id\", \"article_id\"]].apply(tuple, 1).isin(positive_pairs)"
   ]
  },
  {
   "cell_type": "code",
   "execution_count": 26,
   "id": "38737e23",
   "metadata": {},
   "outputs": [],
   "source": [
    "neg_transactions = neg_transactions[~duplicate_indexes]\n",
    "\n",
    "chosen_neg_transactions = neg_transactions.sample(num_neg_pos)\n",
    "del neg_transactions"
   ]
  },
  {
   "cell_type": "code",
   "execution_count": 27,
   "id": "504d969c",
   "metadata": {},
   "outputs": [],
   "source": [
    "transactions = pd.concat([transactions, chosen_neg_transactions])"
   ]
  },
  {
   "cell_type": "code",
   "execution_count": 28,
   "id": "7a7a9968",
   "metadata": {},
   "outputs": [
    {
     "data": {
      "text/html": [
       "<div>\n",
       "<style scoped>\n",
       "    .dataframe tbody tr th:only-of-type {\n",
       "        vertical-align: middle;\n",
       "    }\n",
       "\n",
       "    .dataframe tbody tr th {\n",
       "        vertical-align: top;\n",
       "    }\n",
       "\n",
       "    .dataframe thead th {\n",
       "        text-align: right;\n",
       "    }\n",
       "</style>\n",
       "<table border=\"1\" class=\"dataframe\">\n",
       "  <thead>\n",
       "    <tr style=\"text-align: right;\">\n",
       "      <th></th>\n",
       "      <th>t_dat</th>\n",
       "      <th>customer_id</th>\n",
       "      <th>article_id</th>\n",
       "      <th>price</th>\n",
       "      <th>sales_channel_id</th>\n",
       "      <th>purchased</th>\n",
       "    </tr>\n",
       "  </thead>\n",
       "  <tbody>\n",
       "    <tr>\n",
       "      <th>25414130</th>\n",
       "      <td>-20.0</td>\n",
       "      <td>47.0</td>\n",
       "      <td>70099.0</td>\n",
       "      <td>0.050831</td>\n",
       "      <td>2.0</td>\n",
       "      <td>1.0</td>\n",
       "    </tr>\n",
       "    <tr>\n",
       "      <th>25414131</th>\n",
       "      <td>-20.0</td>\n",
       "      <td>47.0</td>\n",
       "      <td>70976.0</td>\n",
       "      <td>0.025407</td>\n",
       "      <td>2.0</td>\n",
       "      <td>1.0</td>\n",
       "    </tr>\n",
       "    <tr>\n",
       "      <th>25414132</th>\n",
       "      <td>-20.0</td>\n",
       "      <td>66.0</td>\n",
       "      <td>91569.0</td>\n",
       "      <td>0.027441</td>\n",
       "      <td>2.0</td>\n",
       "      <td>1.0</td>\n",
       "    </tr>\n",
       "    <tr>\n",
       "      <th>25414133</th>\n",
       "      <td>-20.0</td>\n",
       "      <td>66.0</td>\n",
       "      <td>47295.0</td>\n",
       "      <td>0.015237</td>\n",
       "      <td>2.0</td>\n",
       "      <td>1.0</td>\n",
       "    </tr>\n",
       "    <tr>\n",
       "      <th>25414134</th>\n",
       "      <td>-20.0</td>\n",
       "      <td>66.0</td>\n",
       "      <td>92621.0</td>\n",
       "      <td>0.019814</td>\n",
       "      <td>2.0</td>\n",
       "      <td>1.0</td>\n",
       "    </tr>\n",
       "    <tr>\n",
       "      <th>...</th>\n",
       "      <td>...</td>\n",
       "      <td>...</td>\n",
       "      <td>...</td>\n",
       "      <td>...</td>\n",
       "      <td>...</td>\n",
       "      <td>...</td>\n",
       "    </tr>\n",
       "    <tr>\n",
       "      <th>1270157</th>\n",
       "      <td>-8.0</td>\n",
       "      <td>761104.0</td>\n",
       "      <td>71645.0</td>\n",
       "      <td>0.015237</td>\n",
       "      <td>1.0</td>\n",
       "      <td>0.0</td>\n",
       "    </tr>\n",
       "    <tr>\n",
       "      <th>3259023</th>\n",
       "      <td>-1.0</td>\n",
       "      <td>113194.0</td>\n",
       "      <td>86596.0</td>\n",
       "      <td>0.009458</td>\n",
       "      <td>2.0</td>\n",
       "      <td>0.0</td>\n",
       "    </tr>\n",
       "    <tr>\n",
       "      <th>6720473</th>\n",
       "      <td>-15.0</td>\n",
       "      <td>1113267.0</td>\n",
       "      <td>86411.0</td>\n",
       "      <td>0.042356</td>\n",
       "      <td>2.0</td>\n",
       "      <td>0.0</td>\n",
       "    </tr>\n",
       "    <tr>\n",
       "      <th>6960047</th>\n",
       "      <td>-12.0</td>\n",
       "      <td>748058.0</td>\n",
       "      <td>101298.0</td>\n",
       "      <td>0.025407</td>\n",
       "      <td>2.0</td>\n",
       "      <td>0.0</td>\n",
       "    </tr>\n",
       "    <tr>\n",
       "      <th>3867433</th>\n",
       "      <td>-8.0</td>\n",
       "      <td>47524.0</td>\n",
       "      <td>58329.0</td>\n",
       "      <td>0.012915</td>\n",
       "      <td>1.0</td>\n",
       "      <td>0.0</td>\n",
       "    </tr>\n",
       "  </tbody>\n",
       "</table>\n",
       "<p>12748388 rows × 6 columns</p>\n",
       "</div>"
      ],
      "text/plain": [
       "          t_dat  customer_id  article_id     price  sales_channel_id  \\\n",
       "25414130  -20.0         47.0     70099.0  0.050831               2.0   \n",
       "25414131  -20.0         47.0     70976.0  0.025407               2.0   \n",
       "25414132  -20.0         66.0     91569.0  0.027441               2.0   \n",
       "25414133  -20.0         66.0     47295.0  0.015237               2.0   \n",
       "25414134  -20.0         66.0     92621.0  0.019814               2.0   \n",
       "...         ...          ...         ...       ...               ...   \n",
       "1270157    -8.0     761104.0     71645.0  0.015237               1.0   \n",
       "3259023    -1.0     113194.0     86596.0  0.009458               2.0   \n",
       "6720473   -15.0    1113267.0     86411.0  0.042356               2.0   \n",
       "6960047   -12.0     748058.0    101298.0  0.025407               2.0   \n",
       "3867433    -8.0      47524.0     58329.0  0.012915               1.0   \n",
       "\n",
       "          purchased  \n",
       "25414130        1.0  \n",
       "25414131        1.0  \n",
       "25414132        1.0  \n",
       "25414133        1.0  \n",
       "25414134        1.0  \n",
       "...             ...  \n",
       "1270157         0.0  \n",
       "3259023         0.0  \n",
       "6720473         0.0  \n",
       "6960047         0.0  \n",
       "3867433         0.0  \n",
       "\n",
       "[12748388 rows x 6 columns]"
      ]
     },
     "execution_count": 28,
     "metadata": {},
     "output_type": "execute_result"
    }
   ],
   "source": [
    "transactions"
   ]
  },
  {
   "cell_type": "code",
   "execution_count": 30,
   "id": "80eec622",
   "metadata": {},
   "outputs": [],
   "source": [
    "transactions.reset_index(inplace=True)\n",
    "transactions.drop(\"index\", axis=1, inplace=True)"
   ]
  },
  {
   "cell_type": "code",
   "execution_count": 31,
   "id": "d1646af0",
   "metadata": {},
   "outputs": [
    {
     "name": "stdout",
     "output_type": "stream",
     "text": [
      "          t_dat  customer_id  article_id     price  sales_channel_id  \\\n",
      "0         -20.0         47.0     70099.0  0.050831               2.0   \n",
      "1         -20.0         47.0     70976.0  0.025407               2.0   \n",
      "2         -20.0         66.0     91569.0  0.027441               2.0   \n",
      "3         -20.0         66.0     47295.0  0.015237               2.0   \n",
      "4         -20.0         66.0     92621.0  0.019814               2.0   \n",
      "...         ...          ...         ...       ...               ...   \n",
      "12748383   -8.0     761104.0     71645.0  0.015237               1.0   \n",
      "12748384   -1.0     113194.0     86596.0  0.009458               2.0   \n",
      "12748385  -15.0    1113267.0     86411.0  0.042356               2.0   \n",
      "12748386  -12.0     748058.0    101298.0  0.025407               2.0   \n",
      "12748387   -8.0      47524.0     58329.0  0.012915               1.0   \n",
      "\n",
      "          purchased  \n",
      "0               1.0  \n",
      "1               1.0  \n",
      "2               1.0  \n",
      "3               1.0  \n",
      "4               1.0  \n",
      "...             ...  \n",
      "12748383        0.0  \n",
      "12748384        0.0  \n",
      "12748385        0.0  \n",
      "12748386        0.0  \n",
      "12748387        0.0  \n",
      "\n",
      "[12748388 rows x 6 columns]\n"
     ]
    }
   ],
   "source": [
    "print(transactions)"
   ]
  },
  {
   "cell_type": "code",
   "execution_count": 32,
   "id": "8364c64b",
   "metadata": {},
   "outputs": [],
   "source": [
    "transactions.to_feather('./data/negativesampled.feather')"
   ]
  },
  {
   "cell_type": "code",
   "execution_count": 33,
   "id": "fb8457a5",
   "metadata": {},
   "outputs": [],
   "source": [
    "del num_neg_pos\n",
    "del neg_dates\n",
    "del neg_articles\n",
    "del neg_customers\n",
    "del neg_channels\n",
    "del ordered\n",
    "del neg_prices\n",
    "del chosen_neg_transactions\n",
    "del duplicate_indexes"
   ]
  },
  {
   "cell_type": "markdown",
   "id": "5633388d",
   "metadata": {},
   "source": [
    "This is intended as a checkpoint for if I need to reset the kernel for whatever reason. "
   ]
  },
  {
   "cell_type": "code",
   "execution_count": 3,
   "id": "86d97c15",
   "metadata": {},
   "outputs": [],
   "source": [
    "articles = pd.read_csv('./data/articles.csv')"
   ]
  },
  {
   "cell_type": "code",
   "execution_count": 4,
   "id": "b5f42da1",
   "metadata": {},
   "outputs": [],
   "source": [
    "transactions = pd.read_feather(\"./data/negativesampled.feather\")"
   ]
  },
  {
   "cell_type": "code",
   "execution_count": 5,
   "id": "df586f9e",
   "metadata": {},
   "outputs": [],
   "source": [
    "customers = pd.read_csv('./data/customers.csv')"
   ]
  },
  {
   "cell_type": "code",
   "execution_count": 6,
   "id": "16d3b561",
   "metadata": {},
   "outputs": [],
   "source": [
    "customer_encoder = preprocessing.LabelEncoder()\n",
    "customer_encoder.classes_ = np.load(\"customer_ids.npy\", allow_pickle=True)"
   ]
  },
  {
   "cell_type": "code",
   "execution_count": 7,
   "id": "319a8544",
   "metadata": {},
   "outputs": [],
   "source": [
    "article_encoder = preprocessing.LabelEncoder()\n",
    "article_encoder.classes_ = np.load(\"article_ids.npy\", allow_pickle=True)"
   ]
  },
  {
   "cell_type": "markdown",
   "id": "5042f447",
   "metadata": {},
   "source": [
    "I decided to use an age of 25 as a default for those users without one"
   ]
  },
  {
   "cell_type": "code",
   "execution_count": 8,
   "id": "d165cf15",
   "metadata": {},
   "outputs": [],
   "source": [
    "customers[\"age\"] = customers[\"age\"].fillna(25)"
   ]
  },
  {
   "cell_type": "markdown",
   "id": "5c499d39",
   "metadata": {},
   "source": [
    "Apply the label encoding to the customer and article tables so they can be joined with transactions"
   ]
  },
  {
   "cell_type": "code",
   "execution_count": 9,
   "id": "df8501e3",
   "metadata": {},
   "outputs": [],
   "source": [
    "customers['customer_id'] = customer_encoder.transform(customers['customer_id'])"
   ]
  },
  {
   "cell_type": "code",
   "execution_count": 10,
   "id": "b4af4929",
   "metadata": {},
   "outputs": [],
   "source": [
    "articles['article_id'] = article_encoder.transform(articles['article_id'])"
   ]
  },
  {
   "cell_type": "code",
   "execution_count": 11,
   "id": "a4096f15",
   "metadata": {},
   "outputs": [],
   "source": [
    "zip_encoder = preprocessing.LabelEncoder()\n",
    "customers[\"postal_code\"] = zip_encoder.fit_transform(customers[\"postal_code\"])"
   ]
  },
  {
   "cell_type": "code",
   "execution_count": 14,
   "id": "01e879e2",
   "metadata": {},
   "outputs": [
    {
     "data": {
      "text/html": [
       "<div>\n",
       "<style scoped>\n",
       "    .dataframe tbody tr th:only-of-type {\n",
       "        vertical-align: middle;\n",
       "    }\n",
       "\n",
       "    .dataframe tbody tr th {\n",
       "        vertical-align: top;\n",
       "    }\n",
       "\n",
       "    .dataframe thead th {\n",
       "        text-align: right;\n",
       "    }\n",
       "</style>\n",
       "<table border=\"1\" class=\"dataframe\">\n",
       "  <thead>\n",
       "    <tr style=\"text-align: right;\">\n",
       "      <th></th>\n",
       "      <th>customer_id</th>\n",
       "      <th>FN</th>\n",
       "      <th>Active</th>\n",
       "      <th>club_member_status</th>\n",
       "      <th>fashion_news_frequency</th>\n",
       "      <th>age</th>\n",
       "      <th>postal_code</th>\n",
       "    </tr>\n",
       "  </thead>\n",
       "  <tbody>\n",
       "    <tr>\n",
       "      <th>0</th>\n",
       "      <td>0</td>\n",
       "      <td>NaN</td>\n",
       "      <td>NaN</td>\n",
       "      <td>ACTIVE</td>\n",
       "      <td>NONE</td>\n",
       "      <td>49.0</td>\n",
       "      <td>112978</td>\n",
       "    </tr>\n",
       "    <tr>\n",
       "      <th>1</th>\n",
       "      <td>1</td>\n",
       "      <td>NaN</td>\n",
       "      <td>NaN</td>\n",
       "      <td>ACTIVE</td>\n",
       "      <td>NONE</td>\n",
       "      <td>25.0</td>\n",
       "      <td>57312</td>\n",
       "    </tr>\n",
       "    <tr>\n",
       "      <th>2</th>\n",
       "      <td>2</td>\n",
       "      <td>NaN</td>\n",
       "      <td>NaN</td>\n",
       "      <td>ACTIVE</td>\n",
       "      <td>NONE</td>\n",
       "      <td>24.0</td>\n",
       "      <td>139156</td>\n",
       "    </tr>\n",
       "    <tr>\n",
       "      <th>3</th>\n",
       "      <td>3</td>\n",
       "      <td>NaN</td>\n",
       "      <td>NaN</td>\n",
       "      <td>ACTIVE</td>\n",
       "      <td>NONE</td>\n",
       "      <td>54.0</td>\n",
       "      <td>128529</td>\n",
       "    </tr>\n",
       "    <tr>\n",
       "      <th>4</th>\n",
       "      <td>4</td>\n",
       "      <td>1.0</td>\n",
       "      <td>1.0</td>\n",
       "      <td>ACTIVE</td>\n",
       "      <td>Regularly</td>\n",
       "      <td>52.0</td>\n",
       "      <td>52371</td>\n",
       "    </tr>\n",
       "  </tbody>\n",
       "</table>\n",
       "</div>"
      ],
      "text/plain": [
       "   customer_id   FN  Active club_member_status fashion_news_frequency   age  \\\n",
       "0            0  NaN     NaN             ACTIVE                   NONE  49.0   \n",
       "1            1  NaN     NaN             ACTIVE                   NONE  25.0   \n",
       "2            2  NaN     NaN             ACTIVE                   NONE  24.0   \n",
       "3            3  NaN     NaN             ACTIVE                   NONE  54.0   \n",
       "4            4  1.0     1.0             ACTIVE              Regularly  52.0   \n",
       "\n",
       "   postal_code  \n",
       "0       112978  \n",
       "1        57312  \n",
       "2       139156  \n",
       "3       128529  \n",
       "4        52371  "
      ]
     },
     "execution_count": 14,
     "metadata": {},
     "output_type": "execute_result"
    }
   ],
   "source": [
    "customers.head()"
   ]
  },
  {
   "cell_type": "code",
   "execution_count": 12,
   "id": "133b0c3b",
   "metadata": {},
   "outputs": [],
   "source": [
    "customers[\"age\"] = customers[\"age\"].astype(int)"
   ]
  },
  {
   "cell_type": "code",
   "execution_count": 13,
   "id": "2bdf10ff",
   "metadata": {},
   "outputs": [],
   "source": [
    "articles[['article_id', 'product_code', 'product_type_no','graphical_appearance_no','colour_group_code',\n",
    "       'perceived_colour_value_id', 'perceived_colour_master_id', 'department_no',\n",
    "       'index_group_no', 'section_no', 'garment_group_no']] = articles[['article_id', 'product_code', 'product_type_no','graphical_appearance_no','colour_group_code',\n",
    "       'perceived_colour_value_id', 'perceived_colour_master_id', 'department_no',\n",
    "       'index_group_no', 'section_no', 'garment_group_no']].astype(int)"
   ]
  },
  {
   "cell_type": "code",
   "execution_count": 19,
   "id": "9ba43b96",
   "metadata": {},
   "outputs": [
    {
     "data": {
      "text/plain": [
       "article_id                       int32\n",
       "product_code                     int32\n",
       "prod_name                       object\n",
       "product_type_no                  int32\n",
       "product_type_name               object\n",
       "product_group_name              object\n",
       "graphical_appearance_no          int32\n",
       "graphical_appearance_name       object\n",
       "colour_group_code                int32\n",
       "colour_group_name               object\n",
       "perceived_colour_value_id        int32\n",
       "perceived_colour_value_name     object\n",
       "perceived_colour_master_id       int32\n",
       "perceived_colour_master_name    object\n",
       "department_no                    int32\n",
       "department_name                 object\n",
       "index_code                      object\n",
       "index_name                      object\n",
       "index_group_no                   int32\n",
       "index_group_name                object\n",
       "section_no                       int32\n",
       "section_name                    object\n",
       "garment_group_no                 int32\n",
       "garment_group_name              object\n",
       "detail_desc                     object\n",
       "dtype: object"
      ]
     },
     "execution_count": 19,
     "metadata": {},
     "output_type": "execute_result"
    }
   ],
   "source": [
    "articles.dtypes"
   ]
  },
  {
   "cell_type": "code",
   "execution_count": 14,
   "id": "d7422747",
   "metadata": {},
   "outputs": [],
   "source": [
    "transactions[['t_dat', 'customer_id', 'article_id', 'sales_channel_id', 'purchased']] = transactions[['t_dat', 'customer_id', 'article_id', 'sales_channel_id', 'purchased']].astype(int)"
   ]
  },
  {
   "cell_type": "code",
   "execution_count": 18,
   "id": "199e0be1",
   "metadata": {},
   "outputs": [
    {
     "data": {
      "text/plain": [
       "t_dat                 int32\n",
       "customer_id           int32\n",
       "article_id            int32\n",
       "price               float64\n",
       "sales_channel_id      int32\n",
       "purchased             int32\n",
       "dtype: object"
      ]
     },
     "execution_count": 18,
     "metadata": {},
     "output_type": "execute_result"
    }
   ],
   "source": [
    "transactions.dtypes"
   ]
  },
  {
   "cell_type": "code",
   "execution_count": 15,
   "id": "40f0e087",
   "metadata": {},
   "outputs": [],
   "source": [
    "transactions = transactions.merge(customers[[\"customer_id\", \"age\", \"postal_code\"]], how=\"inner\", on='customer_id')"
   ]
  },
  {
   "cell_type": "code",
   "execution_count": 16,
   "id": "092f6cfa",
   "metadata": {},
   "outputs": [],
   "source": [
    "transactions = transactions.merge(articles[[\"article_id\", \"product_code\", \"product_type_no\", \"graphical_appearance_no\", \"colour_group_code\", \"department_no\", \"index_group_no\", \"section_no\", \"garment_group_no\"]], how=\"inner\", on='article_id')"
   ]
  },
  {
   "cell_type": "code",
   "execution_count": 17,
   "id": "cd91d37b",
   "metadata": {},
   "outputs": [
    {
     "data": {
      "text/html": [
       "<div>\n",
       "<style scoped>\n",
       "    .dataframe tbody tr th:only-of-type {\n",
       "        vertical-align: middle;\n",
       "    }\n",
       "\n",
       "    .dataframe tbody tr th {\n",
       "        vertical-align: top;\n",
       "    }\n",
       "\n",
       "    .dataframe thead th {\n",
       "        text-align: right;\n",
       "    }\n",
       "</style>\n",
       "<table border=\"1\" class=\"dataframe\">\n",
       "  <thead>\n",
       "    <tr style=\"text-align: right;\">\n",
       "      <th></th>\n",
       "      <th>t_dat</th>\n",
       "      <th>customer_id</th>\n",
       "      <th>article_id</th>\n",
       "      <th>price</th>\n",
       "      <th>sales_channel_id</th>\n",
       "      <th>purchased</th>\n",
       "      <th>age</th>\n",
       "      <th>postal_code</th>\n",
       "      <th>product_code</th>\n",
       "      <th>product_type_no</th>\n",
       "      <th>graphical_appearance_no</th>\n",
       "      <th>colour_group_code</th>\n",
       "      <th>department_no</th>\n",
       "      <th>index_group_no</th>\n",
       "      <th>section_no</th>\n",
       "      <th>garment_group_no</th>\n",
       "    </tr>\n",
       "  </thead>\n",
       "  <tbody>\n",
       "    <tr>\n",
       "      <th>0</th>\n",
       "      <td>-20</td>\n",
       "      <td>47</td>\n",
       "      <td>70099</td>\n",
       "      <td>0.050831</td>\n",
       "      <td>2</td>\n",
       "      <td>1</td>\n",
       "      <td>25</td>\n",
       "      <td>220995</td>\n",
       "      <td>759423</td>\n",
       "      <td>265</td>\n",
       "      <td>1010016</td>\n",
       "      <td>10</td>\n",
       "      <td>1313</td>\n",
       "      <td>1</td>\n",
       "      <td>11</td>\n",
       "      <td>1013</td>\n",
       "    </tr>\n",
       "    <tr>\n",
       "      <th>1</th>\n",
       "      <td>-7</td>\n",
       "      <td>32476</td>\n",
       "      <td>70099</td>\n",
       "      <td>0.044051</td>\n",
       "      <td>1</td>\n",
       "      <td>1</td>\n",
       "      <td>57</td>\n",
       "      <td>6312</td>\n",
       "      <td>759423</td>\n",
       "      <td>265</td>\n",
       "      <td>1010016</td>\n",
       "      <td>10</td>\n",
       "      <td>1313</td>\n",
       "      <td>1</td>\n",
       "      <td>11</td>\n",
       "      <td>1013</td>\n",
       "    </tr>\n",
       "    <tr>\n",
       "      <th>2</th>\n",
       "      <td>-20</td>\n",
       "      <td>65542</td>\n",
       "      <td>70099</td>\n",
       "      <td>0.045746</td>\n",
       "      <td>2</td>\n",
       "      <td>1</td>\n",
       "      <td>50</td>\n",
       "      <td>322223</td>\n",
       "      <td>759423</td>\n",
       "      <td>265</td>\n",
       "      <td>1010016</td>\n",
       "      <td>10</td>\n",
       "      <td>1313</td>\n",
       "      <td>1</td>\n",
       "      <td>11</td>\n",
       "      <td>1013</td>\n",
       "    </tr>\n",
       "    <tr>\n",
       "      <th>3</th>\n",
       "      <td>-10</td>\n",
       "      <td>164841</td>\n",
       "      <td>70099</td>\n",
       "      <td>0.050831</td>\n",
       "      <td>2</td>\n",
       "      <td>1</td>\n",
       "      <td>22</td>\n",
       "      <td>182018</td>\n",
       "      <td>759423</td>\n",
       "      <td>265</td>\n",
       "      <td>1010016</td>\n",
       "      <td>10</td>\n",
       "      <td>1313</td>\n",
       "      <td>1</td>\n",
       "      <td>11</td>\n",
       "      <td>1013</td>\n",
       "    </tr>\n",
       "    <tr>\n",
       "      <th>4</th>\n",
       "      <td>-20</td>\n",
       "      <td>282648</td>\n",
       "      <td>70099</td>\n",
       "      <td>0.045746</td>\n",
       "      <td>2</td>\n",
       "      <td>1</td>\n",
       "      <td>61</td>\n",
       "      <td>283888</td>\n",
       "      <td>759423</td>\n",
       "      <td>265</td>\n",
       "      <td>1010016</td>\n",
       "      <td>10</td>\n",
       "      <td>1313</td>\n",
       "      <td>1</td>\n",
       "      <td>11</td>\n",
       "      <td>1013</td>\n",
       "    </tr>\n",
       "    <tr>\n",
       "      <th>...</th>\n",
       "      <td>...</td>\n",
       "      <td>...</td>\n",
       "      <td>...</td>\n",
       "      <td>...</td>\n",
       "      <td>...</td>\n",
       "      <td>...</td>\n",
       "      <td>...</td>\n",
       "      <td>...</td>\n",
       "      <td>...</td>\n",
       "      <td>...</td>\n",
       "      <td>...</td>\n",
       "      <td>...</td>\n",
       "      <td>...</td>\n",
       "      <td>...</td>\n",
       "      <td>...</td>\n",
       "      <td>...</td>\n",
       "    </tr>\n",
       "    <tr>\n",
       "      <th>12748383</th>\n",
       "      <td>-15</td>\n",
       "      <td>526329</td>\n",
       "      <td>96221</td>\n",
       "      <td>0.022864</td>\n",
       "      <td>2</td>\n",
       "      <td>0</td>\n",
       "      <td>62</td>\n",
       "      <td>61034</td>\n",
       "      <td>869489</td>\n",
       "      <td>275</td>\n",
       "      <td>1010016</td>\n",
       "      <td>43</td>\n",
       "      <td>8713</td>\n",
       "      <td>4</td>\n",
       "      <td>77</td>\n",
       "      <td>1014</td>\n",
       "    </tr>\n",
       "    <tr>\n",
       "      <th>12748384</th>\n",
       "      <td>-2</td>\n",
       "      <td>100674</td>\n",
       "      <td>96221</td>\n",
       "      <td>0.022864</td>\n",
       "      <td>2</td>\n",
       "      <td>0</td>\n",
       "      <td>71</td>\n",
       "      <td>149415</td>\n",
       "      <td>869489</td>\n",
       "      <td>275</td>\n",
       "      <td>1010016</td>\n",
       "      <td>43</td>\n",
       "      <td>8713</td>\n",
       "      <td>4</td>\n",
       "      <td>77</td>\n",
       "      <td>1014</td>\n",
       "    </tr>\n",
       "    <tr>\n",
       "      <th>12748385</th>\n",
       "      <td>-2</td>\n",
       "      <td>439208</td>\n",
       "      <td>96221</td>\n",
       "      <td>0.022864</td>\n",
       "      <td>1</td>\n",
       "      <td>0</td>\n",
       "      <td>25</td>\n",
       "      <td>289245</td>\n",
       "      <td>869489</td>\n",
       "      <td>275</td>\n",
       "      <td>1010016</td>\n",
       "      <td>43</td>\n",
       "      <td>8713</td>\n",
       "      <td>4</td>\n",
       "      <td>77</td>\n",
       "      <td>1014</td>\n",
       "    </tr>\n",
       "    <tr>\n",
       "      <th>12748386</th>\n",
       "      <td>-19</td>\n",
       "      <td>732170</td>\n",
       "      <td>96221</td>\n",
       "      <td>0.022864</td>\n",
       "      <td>2</td>\n",
       "      <td>0</td>\n",
       "      <td>50</td>\n",
       "      <td>130375</td>\n",
       "      <td>869489</td>\n",
       "      <td>275</td>\n",
       "      <td>1010016</td>\n",
       "      <td>43</td>\n",
       "      <td>8713</td>\n",
       "      <td>4</td>\n",
       "      <td>77</td>\n",
       "      <td>1014</td>\n",
       "    </tr>\n",
       "    <tr>\n",
       "      <th>12748387</th>\n",
       "      <td>-12</td>\n",
       "      <td>865362</td>\n",
       "      <td>96221</td>\n",
       "      <td>0.022864</td>\n",
       "      <td>2</td>\n",
       "      <td>0</td>\n",
       "      <td>53</td>\n",
       "      <td>213824</td>\n",
       "      <td>869489</td>\n",
       "      <td>275</td>\n",
       "      <td>1010016</td>\n",
       "      <td>43</td>\n",
       "      <td>8713</td>\n",
       "      <td>4</td>\n",
       "      <td>77</td>\n",
       "      <td>1014</td>\n",
       "    </tr>\n",
       "  </tbody>\n",
       "</table>\n",
       "<p>12748388 rows × 16 columns</p>\n",
       "</div>"
      ],
      "text/plain": [
       "          t_dat  customer_id  article_id     price  sales_channel_id  \\\n",
       "0           -20           47       70099  0.050831                 2   \n",
       "1            -7        32476       70099  0.044051                 1   \n",
       "2           -20        65542       70099  0.045746                 2   \n",
       "3           -10       164841       70099  0.050831                 2   \n",
       "4           -20       282648       70099  0.045746                 2   \n",
       "...         ...          ...         ...       ...               ...   \n",
       "12748383    -15       526329       96221  0.022864                 2   \n",
       "12748384     -2       100674       96221  0.022864                 2   \n",
       "12748385     -2       439208       96221  0.022864                 1   \n",
       "12748386    -19       732170       96221  0.022864                 2   \n",
       "12748387    -12       865362       96221  0.022864                 2   \n",
       "\n",
       "          purchased  age  postal_code  product_code  product_type_no  \\\n",
       "0                 1   25       220995        759423              265   \n",
       "1                 1   57         6312        759423              265   \n",
       "2                 1   50       322223        759423              265   \n",
       "3                 1   22       182018        759423              265   \n",
       "4                 1   61       283888        759423              265   \n",
       "...             ...  ...          ...           ...              ...   \n",
       "12748383          0   62        61034        869489              275   \n",
       "12748384          0   71       149415        869489              275   \n",
       "12748385          0   25       289245        869489              275   \n",
       "12748386          0   50       130375        869489              275   \n",
       "12748387          0   53       213824        869489              275   \n",
       "\n",
       "          graphical_appearance_no  colour_group_code  department_no  \\\n",
       "0                         1010016                 10           1313   \n",
       "1                         1010016                 10           1313   \n",
       "2                         1010016                 10           1313   \n",
       "3                         1010016                 10           1313   \n",
       "4                         1010016                 10           1313   \n",
       "...                           ...                ...            ...   \n",
       "12748383                  1010016                 43           8713   \n",
       "12748384                  1010016                 43           8713   \n",
       "12748385                  1010016                 43           8713   \n",
       "12748386                  1010016                 43           8713   \n",
       "12748387                  1010016                 43           8713   \n",
       "\n",
       "          index_group_no  section_no  garment_group_no  \n",
       "0                      1          11              1013  \n",
       "1                      1          11              1013  \n",
       "2                      1          11              1013  \n",
       "3                      1          11              1013  \n",
       "4                      1          11              1013  \n",
       "...                  ...         ...               ...  \n",
       "12748383               4          77              1014  \n",
       "12748384               4          77              1014  \n",
       "12748385               4          77              1014  \n",
       "12748386               4          77              1014  \n",
       "12748387               4          77              1014  \n",
       "\n",
       "[12748388 rows x 16 columns]"
      ]
     },
     "execution_count": 17,
     "metadata": {},
     "output_type": "execute_result"
    }
   ],
   "source": [
    "transactions"
   ]
  },
  {
   "cell_type": "markdown",
   "id": "d89725ae",
   "metadata": {},
   "source": [
    "The first time I wrote and ran this notebook, somehow a bunch of ids I would prefer to be integers for data usage reasons were turned into strings, so the cell below was a stopgap fix.\n",
    "\n",
    "This time they turned into floats which is probably fine because I don't think the numbers get large enough for the floating point precision to go lower than 1"
   ]
  },
  {
   "cell_type": "code",
   "execution_count": 108,
   "id": "fcdd74f1",
   "metadata": {},
   "outputs": [
    {
     "data": {
      "text/plain": [
       "dtype('int32')"
      ]
     },
     "execution_count": 108,
     "metadata": {},
     "output_type": "execute_result"
    }
   ],
   "source": [
    "transactions[\"customer_id\"].dtype"
   ]
  },
  {
   "cell_type": "code",
   "execution_count": 109,
   "id": "a71343a4",
   "metadata": {},
   "outputs": [],
   "source": [
    "transactions[\"customer_id\"] = transactions[\"customer_id\"].astype(int)\n",
    "transactions[\"article_id\"] = transactions[\"article_id\"].astype(int)\n",
    "transactions[\"t_dat\"] = transactions[\"t_dat\"].astype(int)\n",
    "transactions[\"sales_channel_id\"] = transactions[\"sales_channel_id\"].astype(int)\n",
    "transactions[\"purchased\"] = transactions[\"purchased\"].astype(int)\n",
    "transactions[\"product_code\"] = transactions[\"product_code\"].astype(int)\n",
    "transactions[\"product_type_no\"] = transactions[\"product_type_no\"].astype(int)\n",
    "transactions[\"graphical_appearance_no\"] = transactions[\"graphical_appearance_no\"].astype(int)\n",
    "transactions[\"colour_group_code\"] = transactions[\"colour_group_code\"].astype(int)\n",
    "transactions[\"department_no\"] = transactions[\"department_no\"].astype(int)\n",
    "transactions[\"index_group_no\"] = transactions[\"index_group_no\"].astype(int)\n",
    "transactions[\"section_no\"] = transactions[\"section_no\"].astype(int)\n",
    "transactions[\"garment_group_no\"] = transactions[\"garment_group_no\"].astype(int)\n",
    "transactions[\"age\"] = transactions[\"age\"].astype(int)\n",
    "transactions[\"postal_code\"] = transactions[\"postal_code\"].astype(int)\n",
    "transactions[\"price\"] = transactions[\"price\"].astype(float)"
   ]
  },
  {
   "cell_type": "markdown",
   "id": "a14c43dc",
   "metadata": {},
   "source": [
    "I'm not entirely sure why I split the data into training and validation sets. I suppose it just feels like a good habit to have even if I'm very much not actually using the validation data since it's easier to upload the output to kaggle"
   ]
  },
  {
   "cell_type": "code",
   "execution_count": 17,
   "id": "32984d46",
   "metadata": {},
   "outputs": [],
   "source": [
    "X_train, X_test, y_train, y_test = train_test_split(transactions.drop(['purchased', \"price\", 'sales_channel_id'], axis=1), transactions['purchased'], test_size=0.10, random_state=42)"
   ]
  },
  {
   "cell_type": "markdown",
   "id": "222bc88a",
   "metadata": {},
   "source": [
    "Let's start with lightgbm binary classifier"
   ]
  },
  {
   "cell_type": "code",
   "execution_count": 19,
   "id": "dd342ff7",
   "metadata": {},
   "outputs": [
    {
     "name": "stdout",
     "output_type": "stream",
     "text": [
      "Starting training...\n",
      "Training until validation scores don't improve for 5 rounds\n",
      "Did not meet early stopping. Best iteration is:\n",
      "[20]\tvalid_0's auc: 0.813333\tvalid_0's binary_logloss: 0.541055\tvalid_0's l1: 0.387631\n",
      "Saving model...\n"
     ]
    }
   ],
   "source": [
    "# copying from https://github.com/microsoft/LightGBM/blob/master/examples/python-guide/simple_example.py\n",
    "# combined with https://github.com/angelotc/LightGBM-binary-classification-example/blob/master/CCData.ipynb\n",
    "\n",
    "import lightgbm as lgb\n",
    "print('Starting training...')\n",
    "\n",
    "gbm = lgb.LGBMClassifier(learning_rate = 0.1, metric = 'l1', \n",
    "                        n_estimators = 20)\n",
    "gbm.fit(X_train, y_train,\n",
    "        eval_set=[(X_test, y_test)],\n",
    "        eval_metric=['auc', 'binary_logloss'],\n",
    "        callbacks=[lgb.early_stopping(stopping_rounds=5)])\n",
    "\n",
    "print('Saving model...')"
   ]
  },
  {
   "cell_type": "code",
   "execution_count": 20,
   "id": "bd986bfb",
   "metadata": {},
   "outputs": [
    {
     "data": {
      "text/plain": [
       "<lightgbm.basic.Booster at 0x18494972970>"
      ]
     },
     "execution_count": 20,
     "metadata": {},
     "output_type": "execute_result"
    }
   ],
   "source": [
    "# save model to file\n",
    "gbm.booster_.save_model('./data/model_lgbm_binary.txt')"
   ]
  },
  {
   "cell_type": "markdown",
   "id": "cd9268f0",
   "metadata": {},
   "source": [
    "I somewhat stupidly forgot to calculate the most popular items before appending the random negative samples to my transactions table, so this is a silly workaround"
   ]
  },
  {
   "cell_type": "code",
   "execution_count": 18,
   "id": "fb9997ea",
   "metadata": {
    "scrolled": true
   },
   "outputs": [
    {
     "data": {
      "text/plain": [
       "0     53892\n",
       "1      1714\n",
       "2     67522\n",
       "3     22648\n",
       "4     24837\n",
       "5     70221\n",
       "6      1713\n",
       "7     24836\n",
       "8     90082\n",
       "9     22655\n",
       "10     3091\n",
       "11    75912\n",
       "12    81746\n",
       "13    67052\n",
       "14    80056\n",
       "15    84990\n",
       "16    63596\n",
       "17    81825\n",
       "18    91737\n",
       "19    47295\n",
       "20    83396\n",
       "21    87467\n",
       "22    70234\n",
       "23    70320\n",
       "Name: article_id, dtype: int64"
      ]
     },
     "execution_count": 18,
     "metadata": {},
     "output_type": "execute_result"
    }
   ],
   "source": [
    "popular_all_time = transactions[transactions[\"purchased\"] == 1][[\"article_id\", \"purchased\"]].groupby(\"article_id\").count().sort_values(ascending=False, by=\"purchased\").head(24).index.to_series().reset_index(drop=True)\n",
    "popular_all_time"
   ]
  },
  {
   "cell_type": "markdown",
   "id": "a227cbe1",
   "metadata": {},
   "source": [
    "Generating twice as many popular items for the month as I want so I have spares in case there are duplicates"
   ]
  },
  {
   "cell_type": "code",
   "execution_count": 19,
   "id": "e773dc26",
   "metadata": {
    "scrolled": true
   },
   "outputs": [
    {
     "data": {
      "text/plain": [
       "0      67522\n",
       "1     103793\n",
       "2     103796\n",
       "3     104045\n",
       "4      67543\n",
       "5      53892\n",
       "6     101718\n",
       "7       3091\n",
       "8     103108\n",
       "9      94674\n",
       "10    104553\n",
       "11    104072\n",
       "12     91737\n",
       "13     56694\n",
       "14     42626\n",
       "15     57063\n",
       "16    101367\n",
       "17    103795\n",
       "18     94656\n",
       "19     92135\n",
       "20     94657\n",
       "21     95217\n",
       "22    103794\n",
       "23     71110\n",
       "24     97518\n",
       "25     95251\n",
       "26     75912\n",
       "27     71101\n",
       "28     71107\n",
       "29    105146\n",
       "30        73\n",
       "31    101729\n",
       "32    103668\n",
       "33     79488\n",
       "34     53894\n",
       "35     95789\n",
       "36     95499\n",
       "37    100937\n",
       "38     67539\n",
       "39     99394\n",
       "40     46382\n",
       "41     72734\n",
       "42    104157\n",
       "43    104947\n",
       "44     18586\n",
       "45      3520\n",
       "46     75438\n",
       "47    100938\n",
       "Name: article_id, dtype: int64"
      ]
     },
     "execution_count": 19,
     "metadata": {},
     "output_type": "execute_result"
    }
   ],
   "source": [
    "popular_by_month = transactions[(transactions[\"purchased\"] == 1) & (transactions[\"t_dat\"] >= -4)][[\"article_id\", \"purchased\"]].groupby(\"article_id\").count().sort_values(ascending=False, by=\"purchased\").head(48).index.to_series().reset_index(drop=True)\n",
    "popular_by_month"
   ]
  },
  {
   "cell_type": "code",
   "execution_count": 20,
   "id": "a044c274",
   "metadata": {
    "scrolled": true
   },
   "outputs": [],
   "source": [
    "popular_by_month2 = popular_by_month[~popular_by_month.isin(popular_all_time)]\n",
    "popular_by_month2 = popular_by_month2.reset_index(drop=True).head(24)"
   ]
  },
  {
   "cell_type": "markdown",
   "id": "f189cc72",
   "metadata": {},
   "source": [
    "Merge popular by month and popular \"all time\""
   ]
  },
  {
   "cell_type": "code",
   "execution_count": 21,
   "id": "a6438263",
   "metadata": {},
   "outputs": [],
   "source": [
    "popular_candidates = pd.DataFrame(pd.concat([popular_all_time, popular_by_month2])).astype(int).reset_index(drop=True)"
   ]
  },
  {
   "cell_type": "markdown",
   "id": "49b7db1b",
   "metadata": {},
   "source": [
    "Put everything that needs to be ranked into a single dataframe and hope it fits into memory"
   ]
  },
  {
   "cell_type": "code",
   "execution_count": 32,
   "id": "e210bdf6",
   "metadata": {},
   "outputs": [
    {
     "data": {
      "text/html": [
       "<div>\n",
       "<style scoped>\n",
       "    .dataframe tbody tr th:only-of-type {\n",
       "        vertical-align: middle;\n",
       "    }\n",
       "\n",
       "    .dataframe tbody tr th {\n",
       "        vertical-align: top;\n",
       "    }\n",
       "\n",
       "    .dataframe thead th {\n",
       "        text-align: right;\n",
       "    }\n",
       "</style>\n",
       "<table border=\"1\" class=\"dataframe\">\n",
       "  <thead>\n",
       "    <tr style=\"text-align: right;\">\n",
       "      <th></th>\n",
       "      <th>customer_id</th>\n",
       "    </tr>\n",
       "  </thead>\n",
       "  <tbody>\n",
       "    <tr>\n",
       "      <th>0</th>\n",
       "      <td>47</td>\n",
       "    </tr>\n",
       "    <tr>\n",
       "      <th>1</th>\n",
       "      <td>32476</td>\n",
       "    </tr>\n",
       "    <tr>\n",
       "      <th>2</th>\n",
       "      <td>65542</td>\n",
       "    </tr>\n",
       "    <tr>\n",
       "      <th>3</th>\n",
       "      <td>164841</td>\n",
       "    </tr>\n",
       "    <tr>\n",
       "      <th>4</th>\n",
       "      <td>282648</td>\n",
       "    </tr>\n",
       "    <tr>\n",
       "      <th>...</th>\n",
       "      <td>...</td>\n",
       "    </tr>\n",
       "    <tr>\n",
       "      <th>10394747</th>\n",
       "      <td>418992</td>\n",
       "    </tr>\n",
       "    <tr>\n",
       "      <th>10406633</th>\n",
       "      <td>184898</td>\n",
       "    </tr>\n",
       "    <tr>\n",
       "      <th>10800687</th>\n",
       "      <td>934227</td>\n",
       "    </tr>\n",
       "    <tr>\n",
       "      <th>10858768</th>\n",
       "      <td>1075374</td>\n",
       "    </tr>\n",
       "    <tr>\n",
       "      <th>10864046</th>\n",
       "      <td>332373</td>\n",
       "    </tr>\n",
       "  </tbody>\n",
       "</table>\n",
       "<p>659008 rows × 1 columns</p>\n",
       "</div>"
      ],
      "text/plain": [
       "          customer_id\n",
       "0                  47\n",
       "1               32476\n",
       "2               65542\n",
       "3              164841\n",
       "4              282648\n",
       "...               ...\n",
       "10394747       418992\n",
       "10406633       184898\n",
       "10800687       934227\n",
       "10858768      1075374\n",
       "10864046       332373\n",
       "\n",
       "[659008 rows x 1 columns]"
      ]
     },
     "execution_count": 32,
     "metadata": {},
     "output_type": "execute_result"
    }
   ],
   "source": [
    "transactions[[\"customer_id\"]].drop_duplicates(subset=\"customer_id\")"
   ]
  },
  {
   "cell_type": "code",
   "execution_count": 22,
   "id": "46e9286d",
   "metadata": {},
   "outputs": [],
   "source": [
    "ranker_input = pd.DataFrame(data={\"t_dat\": 0}, index=[0]).merge(transactions[[\"customer_id\"]].drop_duplicates(subset=\"customer_id\"), how=\"cross\").merge(popular_candidates, how=\"cross\").merge(customers[[\"customer_id\", \"age\", \"postal_code\"]], how=\"inner\", on=\"customer_id\").merge(articles[[\"article_id\", \"product_code\", \"product_type_no\", \"graphical_appearance_no\", \"colour_group_code\", \"department_no\", \"index_group_no\", \"section_no\", \"garment_group_no\"]], how=\"inner\", on=\"article_id\")"
   ]
  },
  {
   "cell_type": "code",
   "execution_count": 35,
   "id": "6e706c92",
   "metadata": {},
   "outputs": [
    {
     "data": {
      "text/html": [
       "<div>\n",
       "<style scoped>\n",
       "    .dataframe tbody tr th:only-of-type {\n",
       "        vertical-align: middle;\n",
       "    }\n",
       "\n",
       "    .dataframe tbody tr th {\n",
       "        vertical-align: top;\n",
       "    }\n",
       "\n",
       "    .dataframe thead th {\n",
       "        text-align: right;\n",
       "    }\n",
       "</style>\n",
       "<table border=\"1\" class=\"dataframe\">\n",
       "  <thead>\n",
       "    <tr style=\"text-align: right;\">\n",
       "      <th></th>\n",
       "      <th>t_dat</th>\n",
       "      <th>customer_id</th>\n",
       "      <th>article_id</th>\n",
       "      <th>age</th>\n",
       "      <th>postal_code</th>\n",
       "      <th>product_code</th>\n",
       "      <th>product_type_no</th>\n",
       "      <th>graphical_appearance_no</th>\n",
       "      <th>colour_group_code</th>\n",
       "      <th>department_no</th>\n",
       "      <th>index_group_no</th>\n",
       "      <th>section_no</th>\n",
       "      <th>garment_group_no</th>\n",
       "    </tr>\n",
       "  </thead>\n",
       "  <tbody>\n",
       "    <tr>\n",
       "      <th>0</th>\n",
       "      <td>0</td>\n",
       "      <td>47</td>\n",
       "      <td>53892</td>\n",
       "      <td>25</td>\n",
       "      <td>220995</td>\n",
       "      <td>706016</td>\n",
       "      <td>272</td>\n",
       "      <td>1010016</td>\n",
       "      <td>9</td>\n",
       "      <td>1747</td>\n",
       "      <td>2</td>\n",
       "      <td>53</td>\n",
       "      <td>1009</td>\n",
       "    </tr>\n",
       "    <tr>\n",
       "      <th>1</th>\n",
       "      <td>0</td>\n",
       "      <td>32476</td>\n",
       "      <td>53892</td>\n",
       "      <td>57</td>\n",
       "      <td>6312</td>\n",
       "      <td>706016</td>\n",
       "      <td>272</td>\n",
       "      <td>1010016</td>\n",
       "      <td>9</td>\n",
       "      <td>1747</td>\n",
       "      <td>2</td>\n",
       "      <td>53</td>\n",
       "      <td>1009</td>\n",
       "    </tr>\n",
       "    <tr>\n",
       "      <th>2</th>\n",
       "      <td>0</td>\n",
       "      <td>65542</td>\n",
       "      <td>53892</td>\n",
       "      <td>50</td>\n",
       "      <td>322223</td>\n",
       "      <td>706016</td>\n",
       "      <td>272</td>\n",
       "      <td>1010016</td>\n",
       "      <td>9</td>\n",
       "      <td>1747</td>\n",
       "      <td>2</td>\n",
       "      <td>53</td>\n",
       "      <td>1009</td>\n",
       "    </tr>\n",
       "    <tr>\n",
       "      <th>3</th>\n",
       "      <td>0</td>\n",
       "      <td>164841</td>\n",
       "      <td>53892</td>\n",
       "      <td>22</td>\n",
       "      <td>182018</td>\n",
       "      <td>706016</td>\n",
       "      <td>272</td>\n",
       "      <td>1010016</td>\n",
       "      <td>9</td>\n",
       "      <td>1747</td>\n",
       "      <td>2</td>\n",
       "      <td>53</td>\n",
       "      <td>1009</td>\n",
       "    </tr>\n",
       "    <tr>\n",
       "      <th>4</th>\n",
       "      <td>0</td>\n",
       "      <td>282648</td>\n",
       "      <td>53892</td>\n",
       "      <td>61</td>\n",
       "      <td>283888</td>\n",
       "      <td>706016</td>\n",
       "      <td>272</td>\n",
       "      <td>1010016</td>\n",
       "      <td>9</td>\n",
       "      <td>1747</td>\n",
       "      <td>2</td>\n",
       "      <td>53</td>\n",
       "      <td>1009</td>\n",
       "    </tr>\n",
       "    <tr>\n",
       "      <th>...</th>\n",
       "      <td>...</td>\n",
       "      <td>...</td>\n",
       "      <td>...</td>\n",
       "      <td>...</td>\n",
       "      <td>...</td>\n",
       "      <td>...</td>\n",
       "      <td>...</td>\n",
       "      <td>...</td>\n",
       "      <td>...</td>\n",
       "      <td>...</td>\n",
       "      <td>...</td>\n",
       "      <td>...</td>\n",
       "      <td>...</td>\n",
       "    </tr>\n",
       "    <tr>\n",
       "      <th>31632379</th>\n",
       "      <td>0</td>\n",
       "      <td>418992</td>\n",
       "      <td>71107</td>\n",
       "      <td>35</td>\n",
       "      <td>40269</td>\n",
       "      <td>762846</td>\n",
       "      <td>259</td>\n",
       "      <td>1010016</td>\n",
       "      <td>13</td>\n",
       "      <td>1515</td>\n",
       "      <td>1</td>\n",
       "      <td>11</td>\n",
       "      <td>1010</td>\n",
       "    </tr>\n",
       "    <tr>\n",
       "      <th>31632380</th>\n",
       "      <td>0</td>\n",
       "      <td>184898</td>\n",
       "      <td>71107</td>\n",
       "      <td>38</td>\n",
       "      <td>126518</td>\n",
       "      <td>762846</td>\n",
       "      <td>259</td>\n",
       "      <td>1010016</td>\n",
       "      <td>13</td>\n",
       "      <td>1515</td>\n",
       "      <td>1</td>\n",
       "      <td>11</td>\n",
       "      <td>1010</td>\n",
       "    </tr>\n",
       "    <tr>\n",
       "      <th>31632381</th>\n",
       "      <td>0</td>\n",
       "      <td>934227</td>\n",
       "      <td>71107</td>\n",
       "      <td>41</td>\n",
       "      <td>130191</td>\n",
       "      <td>762846</td>\n",
       "      <td>259</td>\n",
       "      <td>1010016</td>\n",
       "      <td>13</td>\n",
       "      <td>1515</td>\n",
       "      <td>1</td>\n",
       "      <td>11</td>\n",
       "      <td>1010</td>\n",
       "    </tr>\n",
       "    <tr>\n",
       "      <th>31632382</th>\n",
       "      <td>0</td>\n",
       "      <td>1075374</td>\n",
       "      <td>71107</td>\n",
       "      <td>27</td>\n",
       "      <td>223897</td>\n",
       "      <td>762846</td>\n",
       "      <td>259</td>\n",
       "      <td>1010016</td>\n",
       "      <td>13</td>\n",
       "      <td>1515</td>\n",
       "      <td>1</td>\n",
       "      <td>11</td>\n",
       "      <td>1010</td>\n",
       "    </tr>\n",
       "    <tr>\n",
       "      <th>31632383</th>\n",
       "      <td>0</td>\n",
       "      <td>332373</td>\n",
       "      <td>71107</td>\n",
       "      <td>48</td>\n",
       "      <td>153687</td>\n",
       "      <td>762846</td>\n",
       "      <td>259</td>\n",
       "      <td>1010016</td>\n",
       "      <td>13</td>\n",
       "      <td>1515</td>\n",
       "      <td>1</td>\n",
       "      <td>11</td>\n",
       "      <td>1010</td>\n",
       "    </tr>\n",
       "  </tbody>\n",
       "</table>\n",
       "<p>31632384 rows × 13 columns</p>\n",
       "</div>"
      ],
      "text/plain": [
       "          t_dat  customer_id  article_id  age  postal_code  product_code  \\\n",
       "0             0           47       53892   25       220995        706016   \n",
       "1             0        32476       53892   57         6312        706016   \n",
       "2             0        65542       53892   50       322223        706016   \n",
       "3             0       164841       53892   22       182018        706016   \n",
       "4             0       282648       53892   61       283888        706016   \n",
       "...         ...          ...         ...  ...          ...           ...   \n",
       "31632379      0       418992       71107   35        40269        762846   \n",
       "31632380      0       184898       71107   38       126518        762846   \n",
       "31632381      0       934227       71107   41       130191        762846   \n",
       "31632382      0      1075374       71107   27       223897        762846   \n",
       "31632383      0       332373       71107   48       153687        762846   \n",
       "\n",
       "          product_type_no  graphical_appearance_no  colour_group_code  \\\n",
       "0                     272                  1010016                  9   \n",
       "1                     272                  1010016                  9   \n",
       "2                     272                  1010016                  9   \n",
       "3                     272                  1010016                  9   \n",
       "4                     272                  1010016                  9   \n",
       "...                   ...                      ...                ...   \n",
       "31632379              259                  1010016                 13   \n",
       "31632380              259                  1010016                 13   \n",
       "31632381              259                  1010016                 13   \n",
       "31632382              259                  1010016                 13   \n",
       "31632383              259                  1010016                 13   \n",
       "\n",
       "          department_no  index_group_no  section_no  garment_group_no  \n",
       "0                  1747               2          53              1009  \n",
       "1                  1747               2          53              1009  \n",
       "2                  1747               2          53              1009  \n",
       "3                  1747               2          53              1009  \n",
       "4                  1747               2          53              1009  \n",
       "...                 ...             ...         ...               ...  \n",
       "31632379           1515               1          11              1010  \n",
       "31632380           1515               1          11              1010  \n",
       "31632381           1515               1          11              1010  \n",
       "31632382           1515               1          11              1010  \n",
       "31632383           1515               1          11              1010  \n",
       "\n",
       "[31632384 rows x 13 columns]"
      ]
     },
     "execution_count": 35,
     "metadata": {},
     "output_type": "execute_result"
    }
   ],
   "source": [
    "ranker_input"
   ]
  },
  {
   "cell_type": "markdown",
   "id": "a8d8a1bf",
   "metadata": {},
   "source": [
    "This is from when I messed up and my equivalent to ranker_input was too big for my memory but I'm leaving it here in case I need it again at some point"
   ]
  },
  {
   "cell_type": "code",
   "execution_count": 262,
   "id": "10ac4212",
   "metadata": {},
   "outputs": [],
   "source": [
    "f = open(\"./data/test_output.csv\", \"w\")\n",
    "f.write(\"customer_id,prediction\\n\")\n",
    "f.close()\n",
    "\n",
    "for index, row in customers.groupby(np.arange(len(customers)) // 100):\n",
    "    curr_row_in = unsold_article_id_labels.merge(row[[\"customer_id\", \"age\", \"postal_code\"]], how=\"cross\")\n",
    "    curr_row_probs = gbm.predict_proba(curr_row_in[[\"customer_id\", \"article_id\", \"age\", \"postal_code\"]], num_iteration=gbm.best_iteration_)\n",
    "    curr_row_in[[\"probability_0\", \"probability_1\"]] = curr_row_probs\n",
    "    curr_row_in[\"customer_id\"] = customer_encoder.inverse_transform(curr_row_in[\"customer_id\"])\n",
    "    curr_row_in[\"article_id\"] = article_encoder.inverse_transform(curr_row_in[\"article_id\"])\n",
    "    ordering = curr_row_in.sort_values(by=[\"customer_id\", \"probability_1\"], ascending=[True, False]).set_index(\"customer_id\").groupby(\"customer_id\")[\"article_id\"].apply(lambda x : \" \".join([\"0\" + str(i) for i in x[:12]]))\n",
    "    ordering.to_csv(\"./data/test_output.csv\", mode=\"a\", header=False)"
   ]
  },
  {
   "cell_type": "code",
   "execution_count": 252,
   "id": "c85be73b",
   "metadata": {},
   "outputs": [],
   "source": [
    "f.close()"
   ]
  },
  {
   "cell_type": "markdown",
   "id": "8adcb5e0",
   "metadata": {},
   "source": [
    "Perform the predictions"
   ]
  },
  {
   "cell_type": "code",
   "execution_count": 26,
   "id": "da6f977f",
   "metadata": {},
   "outputs": [],
   "source": [
    "predictions = gbm.predict_proba(ranker_input, num_iteration=gbm.best_iteration_)"
   ]
  },
  {
   "cell_type": "code",
   "execution_count": 27,
   "id": "c5621d6d",
   "metadata": {},
   "outputs": [],
   "source": [
    "output_test = ranker_input\n",
    "output_test[[\"probability_0\", \"probability_1\"]] = predictions"
   ]
  },
  {
   "cell_type": "code",
   "execution_count": 28,
   "id": "3b2d4be2",
   "metadata": {},
   "outputs": [],
   "source": [
    "output_test['article_id'] = article_encoder.inverse_transform(output_test[\"article_id\"])"
   ]
  },
  {
   "cell_type": "markdown",
   "id": "1f41c38f",
   "metadata": {},
   "source": [
    "Copying this from the radekosmulski notebook"
   ]
  },
  {
   "cell_type": "code",
   "execution_count": 29,
   "id": "2f9b7dee",
   "metadata": {},
   "outputs": [],
   "source": [
    "ranking_dict = output_test.sort_values(by=[\"customer_id\", \"probability_1\"], ascending=[True, False]).groupby(\"customer_id\")[\"article_id\"].apply(list).to_dict()"
   ]
  },
  {
   "cell_type": "code",
   "execution_count": 30,
   "id": "1e73cdc5",
   "metadata": {},
   "outputs": [],
   "source": [
    "sub = pd.read_csv('data/sample_submission.csv')"
   ]
  },
  {
   "cell_type": "code",
   "execution_count": 32,
   "id": "00c3c0a0",
   "metadata": {},
   "outputs": [],
   "source": [
    "pop_candidate_array = article_encoder.inverse_transform(popular_by_month.values)"
   ]
  },
  {
   "cell_type": "code",
   "execution_count": 34,
   "id": "0e0ff93b",
   "metadata": {},
   "outputs": [],
   "source": [
    "preds = []\n",
    "for c_id in customer_encoder.transform(sub.customer_id):\n",
    "    pred = ranking_dict.get(c_id, pop_candidate_array)\n",
    "    preds.append(pred[:12])"
   ]
  },
  {
   "cell_type": "code",
   "execution_count": 36,
   "id": "e3d7ee44",
   "metadata": {},
   "outputs": [],
   "source": [
    "preds = [' '.join(['0' + str(p) for p in ps]) for ps in preds]\n",
    "sub.prediction = preds"
   ]
  },
  {
   "cell_type": "code",
   "execution_count": 37,
   "id": "8c93263f",
   "metadata": {},
   "outputs": [],
   "source": [
    "sub.to_csv('./data/model_lgbm_binary.csv', index=False)"
   ]
  },
  {
   "cell_type": "code",
   "execution_count": 38,
   "id": "ac785efa",
   "metadata": {},
   "outputs": [],
   "source": [
    "ranker_input['article_id'] = article_encoder.transform(ranker_input[\"article_id\"])"
   ]
  },
  {
   "cell_type": "markdown",
   "id": "fec94fe4",
   "metadata": {},
   "source": [
    "Next up is the ranker"
   ]
  },
  {
   "cell_type": "code",
   "execution_count": 39,
   "id": "e355477a",
   "metadata": {},
   "outputs": [],
   "source": [
    "ranker_input.drop(['probability_0', 'probability_1'], inplace=True, axis=1)"
   ]
  },
  {
   "cell_type": "code",
   "execution_count": 40,
   "id": "aa537196",
   "metadata": {},
   "outputs": [
    {
     "data": {
      "text/html": [
       "<div>\n",
       "<style scoped>\n",
       "    .dataframe tbody tr th:only-of-type {\n",
       "        vertical-align: middle;\n",
       "    }\n",
       "\n",
       "    .dataframe tbody tr th {\n",
       "        vertical-align: top;\n",
       "    }\n",
       "\n",
       "    .dataframe thead th {\n",
       "        text-align: right;\n",
       "    }\n",
       "</style>\n",
       "<table border=\"1\" class=\"dataframe\">\n",
       "  <thead>\n",
       "    <tr style=\"text-align: right;\">\n",
       "      <th></th>\n",
       "      <th>t_dat</th>\n",
       "      <th>customer_id</th>\n",
       "      <th>article_id</th>\n",
       "      <th>age</th>\n",
       "      <th>postal_code</th>\n",
       "      <th>product_code</th>\n",
       "      <th>product_type_no</th>\n",
       "      <th>graphical_appearance_no</th>\n",
       "      <th>colour_group_code</th>\n",
       "      <th>department_no</th>\n",
       "      <th>index_group_no</th>\n",
       "      <th>section_no</th>\n",
       "      <th>garment_group_no</th>\n",
       "    </tr>\n",
       "  </thead>\n",
       "  <tbody>\n",
       "    <tr>\n",
       "      <th>0</th>\n",
       "      <td>0</td>\n",
       "      <td>47</td>\n",
       "      <td>53892</td>\n",
       "      <td>25</td>\n",
       "      <td>220995</td>\n",
       "      <td>706016</td>\n",
       "      <td>272</td>\n",
       "      <td>1010016</td>\n",
       "      <td>9</td>\n",
       "      <td>1747</td>\n",
       "      <td>2</td>\n",
       "      <td>53</td>\n",
       "      <td>1009</td>\n",
       "    </tr>\n",
       "    <tr>\n",
       "      <th>1</th>\n",
       "      <td>0</td>\n",
       "      <td>32476</td>\n",
       "      <td>53892</td>\n",
       "      <td>57</td>\n",
       "      <td>6312</td>\n",
       "      <td>706016</td>\n",
       "      <td>272</td>\n",
       "      <td>1010016</td>\n",
       "      <td>9</td>\n",
       "      <td>1747</td>\n",
       "      <td>2</td>\n",
       "      <td>53</td>\n",
       "      <td>1009</td>\n",
       "    </tr>\n",
       "    <tr>\n",
       "      <th>2</th>\n",
       "      <td>0</td>\n",
       "      <td>65542</td>\n",
       "      <td>53892</td>\n",
       "      <td>50</td>\n",
       "      <td>322223</td>\n",
       "      <td>706016</td>\n",
       "      <td>272</td>\n",
       "      <td>1010016</td>\n",
       "      <td>9</td>\n",
       "      <td>1747</td>\n",
       "      <td>2</td>\n",
       "      <td>53</td>\n",
       "      <td>1009</td>\n",
       "    </tr>\n",
       "    <tr>\n",
       "      <th>3</th>\n",
       "      <td>0</td>\n",
       "      <td>164841</td>\n",
       "      <td>53892</td>\n",
       "      <td>22</td>\n",
       "      <td>182018</td>\n",
       "      <td>706016</td>\n",
       "      <td>272</td>\n",
       "      <td>1010016</td>\n",
       "      <td>9</td>\n",
       "      <td>1747</td>\n",
       "      <td>2</td>\n",
       "      <td>53</td>\n",
       "      <td>1009</td>\n",
       "    </tr>\n",
       "    <tr>\n",
       "      <th>4</th>\n",
       "      <td>0</td>\n",
       "      <td>282648</td>\n",
       "      <td>53892</td>\n",
       "      <td>61</td>\n",
       "      <td>283888</td>\n",
       "      <td>706016</td>\n",
       "      <td>272</td>\n",
       "      <td>1010016</td>\n",
       "      <td>9</td>\n",
       "      <td>1747</td>\n",
       "      <td>2</td>\n",
       "      <td>53</td>\n",
       "      <td>1009</td>\n",
       "    </tr>\n",
       "    <tr>\n",
       "      <th>...</th>\n",
       "      <td>...</td>\n",
       "      <td>...</td>\n",
       "      <td>...</td>\n",
       "      <td>...</td>\n",
       "      <td>...</td>\n",
       "      <td>...</td>\n",
       "      <td>...</td>\n",
       "      <td>...</td>\n",
       "      <td>...</td>\n",
       "      <td>...</td>\n",
       "      <td>...</td>\n",
       "      <td>...</td>\n",
       "      <td>...</td>\n",
       "    </tr>\n",
       "    <tr>\n",
       "      <th>31632379</th>\n",
       "      <td>0</td>\n",
       "      <td>418992</td>\n",
       "      <td>71107</td>\n",
       "      <td>35</td>\n",
       "      <td>40269</td>\n",
       "      <td>762846</td>\n",
       "      <td>259</td>\n",
       "      <td>1010016</td>\n",
       "      <td>13</td>\n",
       "      <td>1515</td>\n",
       "      <td>1</td>\n",
       "      <td>11</td>\n",
       "      <td>1010</td>\n",
       "    </tr>\n",
       "    <tr>\n",
       "      <th>31632380</th>\n",
       "      <td>0</td>\n",
       "      <td>184898</td>\n",
       "      <td>71107</td>\n",
       "      <td>38</td>\n",
       "      <td>126518</td>\n",
       "      <td>762846</td>\n",
       "      <td>259</td>\n",
       "      <td>1010016</td>\n",
       "      <td>13</td>\n",
       "      <td>1515</td>\n",
       "      <td>1</td>\n",
       "      <td>11</td>\n",
       "      <td>1010</td>\n",
       "    </tr>\n",
       "    <tr>\n",
       "      <th>31632381</th>\n",
       "      <td>0</td>\n",
       "      <td>934227</td>\n",
       "      <td>71107</td>\n",
       "      <td>41</td>\n",
       "      <td>130191</td>\n",
       "      <td>762846</td>\n",
       "      <td>259</td>\n",
       "      <td>1010016</td>\n",
       "      <td>13</td>\n",
       "      <td>1515</td>\n",
       "      <td>1</td>\n",
       "      <td>11</td>\n",
       "      <td>1010</td>\n",
       "    </tr>\n",
       "    <tr>\n",
       "      <th>31632382</th>\n",
       "      <td>0</td>\n",
       "      <td>1075374</td>\n",
       "      <td>71107</td>\n",
       "      <td>27</td>\n",
       "      <td>223897</td>\n",
       "      <td>762846</td>\n",
       "      <td>259</td>\n",
       "      <td>1010016</td>\n",
       "      <td>13</td>\n",
       "      <td>1515</td>\n",
       "      <td>1</td>\n",
       "      <td>11</td>\n",
       "      <td>1010</td>\n",
       "    </tr>\n",
       "    <tr>\n",
       "      <th>31632383</th>\n",
       "      <td>0</td>\n",
       "      <td>332373</td>\n",
       "      <td>71107</td>\n",
       "      <td>48</td>\n",
       "      <td>153687</td>\n",
       "      <td>762846</td>\n",
       "      <td>259</td>\n",
       "      <td>1010016</td>\n",
       "      <td>13</td>\n",
       "      <td>1515</td>\n",
       "      <td>1</td>\n",
       "      <td>11</td>\n",
       "      <td>1010</td>\n",
       "    </tr>\n",
       "  </tbody>\n",
       "</table>\n",
       "<p>31632384 rows × 13 columns</p>\n",
       "</div>"
      ],
      "text/plain": [
       "          t_dat  customer_id  article_id  age  postal_code  product_code  \\\n",
       "0             0           47       53892   25       220995        706016   \n",
       "1             0        32476       53892   57         6312        706016   \n",
       "2             0        65542       53892   50       322223        706016   \n",
       "3             0       164841       53892   22       182018        706016   \n",
       "4             0       282648       53892   61       283888        706016   \n",
       "...         ...          ...         ...  ...          ...           ...   \n",
       "31632379      0       418992       71107   35        40269        762846   \n",
       "31632380      0       184898       71107   38       126518        762846   \n",
       "31632381      0       934227       71107   41       130191        762846   \n",
       "31632382      0      1075374       71107   27       223897        762846   \n",
       "31632383      0       332373       71107   48       153687        762846   \n",
       "\n",
       "          product_type_no  graphical_appearance_no  colour_group_code  \\\n",
       "0                     272                  1010016                  9   \n",
       "1                     272                  1010016                  9   \n",
       "2                     272                  1010016                  9   \n",
       "3                     272                  1010016                  9   \n",
       "4                     272                  1010016                  9   \n",
       "...                   ...                      ...                ...   \n",
       "31632379              259                  1010016                 13   \n",
       "31632380              259                  1010016                 13   \n",
       "31632381              259                  1010016                 13   \n",
       "31632382              259                  1010016                 13   \n",
       "31632383              259                  1010016                 13   \n",
       "\n",
       "          department_no  index_group_no  section_no  garment_group_no  \n",
       "0                  1747               2          53              1009  \n",
       "1                  1747               2          53              1009  \n",
       "2                  1747               2          53              1009  \n",
       "3                  1747               2          53              1009  \n",
       "4                  1747               2          53              1009  \n",
       "...                 ...             ...         ...               ...  \n",
       "31632379           1515               1          11              1010  \n",
       "31632380           1515               1          11              1010  \n",
       "31632381           1515               1          11              1010  \n",
       "31632382           1515               1          11              1010  \n",
       "31632383           1515               1          11              1010  \n",
       "\n",
       "[31632384 rows x 13 columns]"
      ]
     },
     "execution_count": 40,
     "metadata": {},
     "output_type": "execute_result"
    }
   ],
   "source": [
    "ranker_input"
   ]
  },
  {
   "cell_type": "code",
   "execution_count": 41,
   "id": "bbb745e0",
   "metadata": {},
   "outputs": [
    {
     "name": "stdout",
     "output_type": "stream",
     "text": [
      "Starting training...\n",
      "Training until validation scores don't improve for 5 rounds\n",
      "Early stopping, best iteration is:\n",
      "[1]\tvalid_0's auc: 0.778104\tvalid_0's binary_logloss: 5.37591\tvalid_0's l1: 0.522243\n",
      "Saving model...\n"
     ]
    }
   ],
   "source": [
    "# copying from https://github.com/microsoft/LightGBM/blob/master/examples/python-guide/simple_example.py\n",
    "# combined with https://github.com/angelotc/LightGBM-binary-classification-example/blob/master/CCData.ipynb\n",
    "# and this one https://github.com/radekosmulski/personalized_fashion_recs/blob/main/03c_Basic_Model_Submission.ipynb\n",
    "\n",
    "\n",
    "\n",
    "train_baskets = X_train.groupby(['t_dat', 'customer_id'])['article_id'].count().values\n",
    "train_baskets_test = X_test.groupby(['t_dat', 'customer_id'])['article_id'].count().values\n",
    "\n",
    "print('Starting training...')\n",
    "\n",
    "gbm = lgb.LGBMRanker(learning_rate = 0.1, metric = 'l1', \n",
    "                        n_estimators = 20)\n",
    "gbm.fit(X_train, y_train,\n",
    "        eval_set=[(X_test, y_test)],\n",
    "        group=train_baskets,\n",
    "        eval_group=[train_baskets_test],\n",
    "        eval_metric=['auc', 'binary_logloss'],\n",
    "        callbacks=[lgb.early_stopping(stopping_rounds=5)])\n",
    "\n",
    "print('Saving model...')"
   ]
  },
  {
   "cell_type": "code",
   "execution_count": 42,
   "id": "d1e0c770",
   "metadata": {},
   "outputs": [
    {
     "data": {
      "text/plain": [
       "<lightgbm.basic.Booster at 0x184dfe85070>"
      ]
     },
     "execution_count": 42,
     "metadata": {},
     "output_type": "execute_result"
    }
   ],
   "source": [
    "# save model to file\n",
    "gbm.booster_.save_model('./data/model_lgbm_ranker.txt')"
   ]
  },
  {
   "cell_type": "code",
   "execution_count": 43,
   "id": "d3d022da",
   "metadata": {},
   "outputs": [],
   "source": [
    "predictions = gbm.predict(ranker_input, num_iteration=gbm.best_iteration_)"
   ]
  },
  {
   "cell_type": "code",
   "execution_count": 46,
   "id": "0cf8f10d",
   "metadata": {},
   "outputs": [],
   "source": [
    "output_test = ranker_input\n",
    "output_test[\"probability_1\"] = predictions"
   ]
  },
  {
   "cell_type": "code",
   "execution_count": 47,
   "id": "6a85c959",
   "metadata": {},
   "outputs": [],
   "source": [
    "output_test['article_id'] = article_encoder.inverse_transform(output_test[\"article_id\"])"
   ]
  },
  {
   "cell_type": "markdown",
   "id": "08c558fc",
   "metadata": {},
   "source": [
    "Copying this from the radekosmulski notebook"
   ]
  },
  {
   "cell_type": "code",
   "execution_count": 48,
   "id": "5d135b58",
   "metadata": {},
   "outputs": [],
   "source": [
    "ranking_dict = output_test.sort_values(by=[\"customer_id\", \"probability_1\"], ascending=[True, False]).groupby(\"customer_id\")[\"article_id\"].apply(list).to_dict()"
   ]
  },
  {
   "cell_type": "code",
   "execution_count": 49,
   "id": "ee2a8167",
   "metadata": {},
   "outputs": [],
   "source": [
    "sub = pd.read_csv('data/sample_submission.csv')"
   ]
  },
  {
   "cell_type": "code",
   "execution_count": 50,
   "id": "3879dfad",
   "metadata": {},
   "outputs": [],
   "source": [
    "pop_candidate_array = article_encoder.inverse_transform(popular_by_month.values)"
   ]
  },
  {
   "cell_type": "code",
   "execution_count": 51,
   "id": "c5ced5e6",
   "metadata": {},
   "outputs": [],
   "source": [
    "preds = []\n",
    "for c_id in customer_encoder.transform(sub.customer_id):\n",
    "    pred = ranking_dict.get(c_id, pop_candidate_array)\n",
    "    preds.append(pred[:12])"
   ]
  },
  {
   "cell_type": "code",
   "execution_count": 53,
   "id": "87005b19",
   "metadata": {},
   "outputs": [],
   "source": [
    "preds = [' '.join(['0' + str(p) for p in ps]) for ps in preds]\n",
    "sub.prediction = preds"
   ]
  },
  {
   "cell_type": "code",
   "execution_count": 55,
   "id": "026d9e7b",
   "metadata": {},
   "outputs": [],
   "source": [
    "sub.to_csv('./data/model_lgbm_ranker.csv', index=False)"
   ]
  },
  {
   "cell_type": "code",
   "execution_count": 146,
   "id": "24052e56",
   "metadata": {},
   "outputs": [],
   "source": [
    "ranker_input['article_id'] = article_encoder.transform(ranker_input[\"article_id\"])"
   ]
  },
  {
   "cell_type": "markdown",
   "id": "6a7ef844",
   "metadata": {},
   "source": [
    "Logistic regression time, referencing https://towardsdatascience.com/logistic-regression-using-python-sklearn-numpy-mnist-handwriting-recognition-matplotlib-a6b31e2b166a"
   ]
  },
  {
   "cell_type": "code",
   "execution_count": 69,
   "id": "83cd49b9",
   "metadata": {},
   "outputs": [],
   "source": [
    "ranker_input.drop(['probability_1'], inplace=True, axis=1)"
   ]
  },
  {
   "cell_type": "code",
   "execution_count": 81,
   "id": "c3e44fa0",
   "metadata": {},
   "outputs": [],
   "source": [
    "LG = LogisticRegression(random_state=42)"
   ]
  },
  {
   "cell_type": "code",
   "execution_count": 153,
   "id": "da44ced1",
   "metadata": {},
   "outputs": [],
   "source": [
    "LG = LG.fit(X_train, y_train)"
   ]
  },
  {
   "cell_type": "code",
   "execution_count": 154,
   "id": "2338db16",
   "metadata": {},
   "outputs": [],
   "source": [
    "predictions = LG.predict_proba(ranker_input)"
   ]
  },
  {
   "cell_type": "code",
   "execution_count": 157,
   "id": "350e2f1d",
   "metadata": {},
   "outputs": [],
   "source": [
    "output_test = ranker_input\n",
    "output_test[[\"probability0\", \"probability_1\"]] = predictions"
   ]
  },
  {
   "cell_type": "code",
   "execution_count": 158,
   "id": "8f6c51b7",
   "metadata": {},
   "outputs": [],
   "source": [
    "output_test['article_id'] = article_encoder.inverse_transform(output_test[\"article_id\"])"
   ]
  },
  {
   "cell_type": "markdown",
   "id": "c770005d",
   "metadata": {},
   "source": [
    "Copying this from the radekosmulski notebook"
   ]
  },
  {
   "cell_type": "code",
   "execution_count": 159,
   "id": "9ffa51e5",
   "metadata": {},
   "outputs": [],
   "source": [
    "ranking_dict = output_test.sort_values(by=[\"customer_id\", \"probability_1\"], ascending=[True, False]).groupby(\"customer_id\")[\"article_id\"].apply(list).to_dict()"
   ]
  },
  {
   "cell_type": "code",
   "execution_count": 160,
   "id": "117c88ba",
   "metadata": {},
   "outputs": [],
   "source": [
    "sub = pd.read_csv('data/sample_submission.csv')"
   ]
  },
  {
   "cell_type": "code",
   "execution_count": 161,
   "id": "4c30af69",
   "metadata": {},
   "outputs": [],
   "source": [
    "pop_candidate_array = article_encoder.inverse_transform(popular_by_month.values)"
   ]
  },
  {
   "cell_type": "code",
   "execution_count": 162,
   "id": "82970521",
   "metadata": {},
   "outputs": [],
   "source": [
    "preds = []\n",
    "for c_id in customer_encoder.transform(sub.customer_id):\n",
    "    pred = ranking_dict.get(c_id, pop_candidate_array)\n",
    "    preds.append(pred[:12])"
   ]
  },
  {
   "cell_type": "code",
   "execution_count": 163,
   "id": "e7fd1597",
   "metadata": {},
   "outputs": [],
   "source": [
    "preds = [' '.join(['0' + str(p) for p in ps]) for ps in preds]\n",
    "sub.prediction = preds"
   ]
  },
  {
   "cell_type": "code",
   "execution_count": 164,
   "id": "9fd96a86",
   "metadata": {},
   "outputs": [],
   "source": [
    "sub.to_csv('./data/model_logistic_regression.csv', index=False)"
   ]
  },
  {
   "cell_type": "code",
   "execution_count": 165,
   "id": "0b3fc73e",
   "metadata": {},
   "outputs": [],
   "source": [
    "ranker_input['article_id'] = article_encoder.transform(ranker_input[\"article_id\"])"
   ]
  },
  {
   "cell_type": "markdown",
   "id": "7a762521",
   "metadata": {},
   "source": [
    "Naive Bayes time"
   ]
  },
  {
   "cell_type": "code",
   "execution_count": 169,
   "id": "c9114123",
   "metadata": {},
   "outputs": [],
   "source": [
    "ranker_input.drop(['probability0', 'probability_1'], inplace=True, axis=1)"
   ]
  },
  {
   "cell_type": "code",
   "execution_count": 170,
   "id": "12c97b94",
   "metadata": {},
   "outputs": [],
   "source": [
    "from sklearn.naive_bayes import GaussianNB"
   ]
  },
  {
   "cell_type": "code",
   "execution_count": 186,
   "id": "4840d80b",
   "metadata": {},
   "outputs": [],
   "source": [
    "GNB = GaussianNB()"
   ]
  },
  {
   "cell_type": "code",
   "execution_count": 187,
   "id": "80fd811a",
   "metadata": {},
   "outputs": [],
   "source": [
    "GNB = GNB.fit(X_train, y_train)"
   ]
  },
  {
   "cell_type": "code",
   "execution_count": 188,
   "id": "e22e8ba9",
   "metadata": {},
   "outputs": [],
   "source": [
    "predictions = GNB.predict_proba(ranker_input)"
   ]
  },
  {
   "cell_type": "code",
   "execution_count": 189,
   "id": "79470d75",
   "metadata": {},
   "outputs": [
    {
     "data": {
      "text/plain": [
       "array([[0.09133772, 0.90866228],\n",
       "       [0.09943939, 0.90056061],\n",
       "       [0.09170467, 0.90829533],\n",
       "       ...,\n",
       "       [0.05959371, 0.94040629],\n",
       "       [0.05870154, 0.94129846],\n",
       "       [0.05997718, 0.94002282]])"
      ]
     },
     "execution_count": 189,
     "metadata": {},
     "output_type": "execute_result"
    }
   ],
   "source": [
    "predictions"
   ]
  },
  {
   "cell_type": "code",
   "execution_count": 190,
   "id": "6ed2481e",
   "metadata": {},
   "outputs": [],
   "source": [
    "output_test = ranker_input\n",
    "output_test[[\"probability0\", \"probability_1\"]] = predictions"
   ]
  },
  {
   "cell_type": "code",
   "execution_count": 191,
   "id": "21bfcd7f",
   "metadata": {},
   "outputs": [],
   "source": [
    "output_test['article_id'] = article_encoder.inverse_transform(output_test[\"article_id\"])"
   ]
  },
  {
   "cell_type": "markdown",
   "id": "c3b597ac",
   "metadata": {},
   "source": [
    "Copying this from the radekosmulski notebook"
   ]
  },
  {
   "cell_type": "code",
   "execution_count": 192,
   "id": "98ef2051",
   "metadata": {},
   "outputs": [],
   "source": [
    "ranking_dict = output_test.sort_values(by=[\"customer_id\", \"probability_1\"], ascending=[True, False]).groupby(\"customer_id\")[\"article_id\"].apply(list).to_dict()"
   ]
  },
  {
   "cell_type": "code",
   "execution_count": 193,
   "id": "ebf244d8",
   "metadata": {},
   "outputs": [],
   "source": [
    "sub = pd.read_csv('data/sample_submission.csv')"
   ]
  },
  {
   "cell_type": "code",
   "execution_count": 194,
   "id": "f4b593ef",
   "metadata": {},
   "outputs": [],
   "source": [
    "pop_candidate_array = article_encoder.inverse_transform(popular_by_month.values)"
   ]
  },
  {
   "cell_type": "code",
   "execution_count": 195,
   "id": "1bee25a2",
   "metadata": {},
   "outputs": [],
   "source": [
    "preds = []\n",
    "for c_id in customer_encoder.transform(sub.customer_id):\n",
    "    pred = ranking_dict.get(c_id, pop_candidate_array)\n",
    "    preds.append(pred[:12])"
   ]
  },
  {
   "cell_type": "code",
   "execution_count": 196,
   "id": "c558b6c0",
   "metadata": {},
   "outputs": [],
   "source": [
    "preds = [' '.join(['0' + str(p) for p in ps]) for ps in preds]\n",
    "sub.prediction = preds"
   ]
  },
  {
   "cell_type": "code",
   "execution_count": 197,
   "id": "37f1c385",
   "metadata": {},
   "outputs": [],
   "source": [
    "sub.to_csv('./data/model_naive_bayes.csv', index=False)"
   ]
  },
  {
   "cell_type": "code",
   "execution_count": 198,
   "id": "3ed5c970",
   "metadata": {},
   "outputs": [],
   "source": [
    "ranker_input['article_id'] = article_encoder.transform(ranker_input[\"article_id\"])"
   ]
  },
  {
   "cell_type": "markdown",
   "id": "9aa342d2",
   "metadata": {},
   "source": [
    "Random Forest time"
   ]
  },
  {
   "cell_type": "code",
   "execution_count": 44,
   "id": "6667b2e5",
   "metadata": {},
   "outputs": [],
   "source": [
    "ranker_input.drop(['probability0', 'probability_1'], inplace=True, axis=1)"
   ]
  },
  {
   "cell_type": "code",
   "execution_count": 23,
   "id": "27178c69",
   "metadata": {},
   "outputs": [],
   "source": [
    "from sklearn.ensemble import RandomForestClassifier"
   ]
  },
  {
   "cell_type": "code",
   "execution_count": 45,
   "id": "c4939c51",
   "metadata": {},
   "outputs": [],
   "source": [
    "RFC = RandomForestClassifier(n_estimators=20, max_depth=10, random_state=42)"
   ]
  },
  {
   "cell_type": "code",
   "execution_count": 46,
   "id": "8723941c",
   "metadata": {},
   "outputs": [],
   "source": [
    "RFC = RFC.fit(X_train, y_train)"
   ]
  },
  {
   "cell_type": "code",
   "execution_count": 47,
   "id": "7bdb8afe",
   "metadata": {},
   "outputs": [],
   "source": [
    "predictions = RFC.predict_proba(ranker_input)"
   ]
  },
  {
   "cell_type": "code",
   "execution_count": 48,
   "id": "b5c2c0de",
   "metadata": {},
   "outputs": [
    {
     "data": {
      "text/plain": [
       "array([[0.38622072, 0.61377928],\n",
       "       [0.40414821, 0.59585179],\n",
       "       [0.38622072, 0.61377928],\n",
       "       ...,\n",
       "       [0.50358896, 0.49641104],\n",
       "       [0.50358896, 0.49641104],\n",
       "       [0.50358896, 0.49641104]])"
      ]
     },
     "execution_count": 48,
     "metadata": {},
     "output_type": "execute_result"
    }
   ],
   "source": [
    "predictions"
   ]
  },
  {
   "cell_type": "code",
   "execution_count": 49,
   "id": "ec566620",
   "metadata": {},
   "outputs": [],
   "source": [
    "output_test = ranker_input\n",
    "output_test[[\"probability0\", \"probability_1\"]] = predictions"
   ]
  },
  {
   "cell_type": "code",
   "execution_count": 50,
   "id": "858eee64",
   "metadata": {},
   "outputs": [],
   "source": [
    "output_test['article_id'] = article_encoder.inverse_transform(output_test[\"article_id\"])"
   ]
  },
  {
   "cell_type": "markdown",
   "id": "501c1b03",
   "metadata": {},
   "source": [
    "Copying this from the radekosmulski notebook"
   ]
  },
  {
   "cell_type": "code",
   "execution_count": 51,
   "id": "1bdb0147",
   "metadata": {},
   "outputs": [],
   "source": [
    "ranking_dict = output_test.sort_values(by=[\"customer_id\", \"probability_1\"], ascending=[True, False]).groupby(\"customer_id\")[\"article_id\"].apply(list).to_dict()"
   ]
  },
  {
   "cell_type": "code",
   "execution_count": 52,
   "id": "f1a9a7a8",
   "metadata": {},
   "outputs": [],
   "source": [
    "sub = pd.read_csv('data/sample_submission.csv')"
   ]
  },
  {
   "cell_type": "code",
   "execution_count": 53,
   "id": "da422003",
   "metadata": {},
   "outputs": [],
   "source": [
    "pop_candidate_array = article_encoder.inverse_transform(popular_by_month.values)"
   ]
  },
  {
   "cell_type": "code",
   "execution_count": 54,
   "id": "08e393e8",
   "metadata": {},
   "outputs": [],
   "source": [
    "preds = []\n",
    "for c_id in customer_encoder.transform(sub.customer_id):\n",
    "    pred = ranking_dict.get(c_id, pop_candidate_array)\n",
    "    preds.append(pred[:12])"
   ]
  },
  {
   "cell_type": "code",
   "execution_count": 55,
   "id": "882a9ce0",
   "metadata": {},
   "outputs": [],
   "source": [
    "preds = [' '.join(['0' + str(p) for p in ps]) for ps in preds]\n",
    "sub.prediction = preds"
   ]
  },
  {
   "cell_type": "code",
   "execution_count": 56,
   "id": "8d5f9728",
   "metadata": {},
   "outputs": [],
   "source": [
    "sub.to_csv('./data/model_random_forest.csv', index=False)"
   ]
  },
  {
   "cell_type": "code",
   "execution_count": 57,
   "id": "e3e06c6d",
   "metadata": {},
   "outputs": [],
   "source": [
    "ranker_input['article_id'] = article_encoder.transform(ranker_input[\"article_id\"])"
   ]
  },
  {
   "cell_type": "markdown",
   "id": "1406fba7",
   "metadata": {},
   "source": [
    "Finally Scikit implementation of gradient boosting"
   ]
  },
  {
   "cell_type": "code",
   "execution_count": null,
   "id": "31a9bbbd",
   "metadata": {},
   "outputs": [],
   "source": [
    "ranker_input.drop(['probability0', 'probability_1'], inplace=True, axis=1)"
   ]
  },
  {
   "cell_type": "code",
   "execution_count": 26,
   "id": "b900e0fb",
   "metadata": {},
   "outputs": [],
   "source": [
    "from sklearn.ensemble import GradientBoostingClassifier"
   ]
  },
  {
   "cell_type": "code",
   "execution_count": 31,
   "id": "c6d62edb",
   "metadata": {},
   "outputs": [],
   "source": [
    "GBC = GradientBoostingClassifier(n_estimators=20, random_state=42, n_iter_no_change=5)"
   ]
  },
  {
   "cell_type": "code",
   "execution_count": 32,
   "id": "3f6771b8",
   "metadata": {},
   "outputs": [],
   "source": [
    "GBC = GBC.fit(X_train, y_train)"
   ]
  },
  {
   "cell_type": "code",
   "execution_count": 33,
   "id": "5fb2f9a4",
   "metadata": {},
   "outputs": [],
   "source": [
    "predictions = GBC.predict_proba(ranker_input)"
   ]
  },
  {
   "cell_type": "code",
   "execution_count": 34,
   "id": "66dc9fed",
   "metadata": {},
   "outputs": [
    {
     "data": {
      "text/plain": [
       "array([[0.44175174, 0.55824826],\n",
       "       [0.44175174, 0.55824826],\n",
       "       [0.44175174, 0.55824826],\n",
       "       ...,\n",
       "       [0.54499219, 0.45500781],\n",
       "       [0.54499219, 0.45500781],\n",
       "       [0.54499219, 0.45500781]])"
      ]
     },
     "execution_count": 34,
     "metadata": {},
     "output_type": "execute_result"
    }
   ],
   "source": [
    "predictions"
   ]
  },
  {
   "cell_type": "code",
   "execution_count": 35,
   "id": "8ba9c7c4",
   "metadata": {},
   "outputs": [],
   "source": [
    "output_test = ranker_input\n",
    "output_test[[\"probability0\", \"probability_1\"]] = predictions"
   ]
  },
  {
   "cell_type": "code",
   "execution_count": 36,
   "id": "fc0c5ebc",
   "metadata": {},
   "outputs": [],
   "source": [
    "output_test['article_id'] = article_encoder.inverse_transform(output_test[\"article_id\"])"
   ]
  },
  {
   "cell_type": "markdown",
   "id": "434bf793",
   "metadata": {},
   "source": [
    "Copying this from the radekosmulski notebook"
   ]
  },
  {
   "cell_type": "code",
   "execution_count": 37,
   "id": "502adf18",
   "metadata": {},
   "outputs": [],
   "source": [
    "ranking_dict = output_test.sort_values(by=[\"customer_id\", \"probability_1\"], ascending=[True, False]).groupby(\"customer_id\")[\"article_id\"].apply(list).to_dict()"
   ]
  },
  {
   "cell_type": "code",
   "execution_count": 38,
   "id": "08222da1",
   "metadata": {},
   "outputs": [],
   "source": [
    "sub = pd.read_csv('data/sample_submission.csv')"
   ]
  },
  {
   "cell_type": "code",
   "execution_count": 39,
   "id": "c1ed52f0",
   "metadata": {},
   "outputs": [],
   "source": [
    "pop_candidate_array = article_encoder.inverse_transform(popular_by_month.values)"
   ]
  },
  {
   "cell_type": "code",
   "execution_count": 40,
   "id": "339411a8",
   "metadata": {},
   "outputs": [],
   "source": [
    "preds = []\n",
    "for c_id in customer_encoder.transform(sub.customer_id):\n",
    "    pred = ranking_dict.get(c_id, pop_candidate_array)\n",
    "    preds.append(pred[:12])"
   ]
  },
  {
   "cell_type": "code",
   "execution_count": 41,
   "id": "6f6c1c32",
   "metadata": {},
   "outputs": [],
   "source": [
    "preds = [' '.join(['0' + str(p) for p in ps]) for ps in preds]\n",
    "sub.prediction = preds"
   ]
  },
  {
   "cell_type": "code",
   "execution_count": 42,
   "id": "832fe133",
   "metadata": {},
   "outputs": [],
   "source": [
    "sub.to_csv('./data/model_sklearn_gradient.csv', index=False)"
   ]
  },
  {
   "cell_type": "code",
   "execution_count": 43,
   "id": "147249d4",
   "metadata": {},
   "outputs": [],
   "source": [
    "ranker_input['article_id'] = article_encoder.transform(ranker_input[\"article_id\"])"
   ]
  },
  {
   "cell_type": "code",
   "execution_count": null,
   "id": "a95c7bab",
   "metadata": {},
   "outputs": [],
   "source": []
  }
 ],
 "metadata": {
  "kernelspec": {
   "display_name": "Python 3 (ipykernel)",
   "language": "python",
   "name": "python3"
  },
  "language_info": {
   "codemirror_mode": {
    "name": "ipython",
    "version": 3
   },
   "file_extension": ".py",
   "mimetype": "text/x-python",
   "name": "python",
   "nbconvert_exporter": "python",
   "pygments_lexer": "ipython3",
   "version": "3.9.7"
  }
 },
 "nbformat": 4,
 "nbformat_minor": 5
}
