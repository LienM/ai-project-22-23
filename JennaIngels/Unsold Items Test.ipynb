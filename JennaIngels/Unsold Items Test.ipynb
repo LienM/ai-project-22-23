{
 "cells": [
  {
   "cell_type": "markdown",
   "id": "5b8bea4d",
   "metadata": {},
   "source": [
    "# Unsold items test\n",
    "Objectives:\n",
    "- Implement code to go from transactions data to recommendations\n",
    "- Test if the 995 never sold items are part of the validation data on the leaderboard\n",
    "\n",
    "Remark:\n",
    "- While I added comments later on for clarity, I don't intend to refactor the code to match the improvements I made in later experiments.\n",
    "- I used the full dataset for this experiment, which made RAM a bigger issue than it became in future experiments\n",
    "\n",
    "Method:\n",
    "- Train LightGBM on the entire transaction dataset with random negative samples\n",
    "- Have LightGBM rank 995 never sold items for all customers and return the top 12 per customer as a submission\n",
    "\n",
    "Additional Remark:\n",
    "- LightGBM has basically not learned anything about the data I made it rank, so I said I assigned them at random during my final presentation for simplicity's sake.\n",
    "- While not actually random, it is definitely not expected behaviour\n",
    "- I believe that using random assignments would have basically the same result."
   ]
  },
  {
   "cell_type": "code",
   "execution_count": 2,
   "id": "8d75830a",
   "metadata": {},
   "outputs": [],
   "source": [
    "import numpy as np \n",
    "import pandas as pd\n",
    "import random\n",
    "from sklearn.linear_model import LogisticRegression\n",
    "from sklearn.model_selection import train_test_split\n",
    "from sklearn.metrics import classification_report\n",
    "from sklearn import preprocessing"
   ]
  },
  {
   "cell_type": "code",
   "execution_count": 3,
   "id": "fef9b1f4",
   "metadata": {},
   "outputs": [],
   "source": [
    "import time"
   ]
  },
  {
   "cell_type": "code",
   "execution_count": 3,
   "id": "3a8d3320",
   "metadata": {},
   "outputs": [],
   "source": [
    "transactions = pd.read_csv('./data/transactions_train.csv')\n",
    "articles = pd.read_csv('./data/articles.csv')\n",
    "customers = pd.read_csv('./data/customers.csv')"
   ]
  },
  {
   "cell_type": "code",
   "execution_count": 4,
   "id": "0c51ad8e",
   "metadata": {},
   "outputs": [],
   "source": [
    "transactions['purchased'] = 1"
   ]
  },
  {
   "cell_type": "markdown",
   "id": "6d0de47f",
   "metadata": {},
   "source": [
    "I used a label encoder in order to save space because the customer ID was treated as a string by Pandas, which takes up more space than an integer. I also used one on articles for symmetry, but as this ended up making writing the submission files more complicated for no actual gain, so that was removed from later experiments."
   ]
  },
  {
   "cell_type": "code",
   "execution_count": 5,
   "id": "836ef65e",
   "metadata": {},
   "outputs": [],
   "source": [
    "customer_encoder = preprocessing.LabelEncoder()\n",
    "article_encoder = preprocessing.LabelEncoder()\n",
    "\n",
    "customer_encoder.fit(customers['customer_id'])\n",
    "article_encoder.fit(articles['article_id'])\n",
    "\n",
    "transactions['customer_id'] = customer_encoder.transform(transactions['customer_id'])\n",
    "transactions['article_id'] = article_encoder.transform(transactions['article_id'])\n",
    "\n",
    "del articles\n",
    "del customers"
   ]
  },
  {
   "cell_type": "markdown",
   "id": "8ce78134",
   "metadata": {},
   "source": [
    "Negative sampling code below is copied from the TA notebook on feature engineering. I made some changes to the code to try to reduce the amount of temporary copies that were made during operations in order to conserve RAM. "
   ]
  },
  {
   "cell_type": "code",
   "execution_count": 6,
   "id": "f2c8a676",
   "metadata": {},
   "outputs": [],
   "source": [
    "positive_pairs = list(map(tuple, transactions[['customer_id', 'article_id']].drop_duplicates().values))"
   ]
  },
  {
   "cell_type": "code",
   "execution_count": 7,
   "id": "7e691237",
   "metadata": {},
   "outputs": [],
   "source": [
    "real_dates = transactions[\"t_dat\"].unique()\n",
    "real_customers = transactions[\"customer_id\"].unique()\n",
    "real_articles = transactions[\"article_id\"].unique()\n",
    "real_channels = transactions[\"sales_channel_id\"].unique()\n",
    "article_and_price = transactions[[\"article_id\",\"price\"]].drop_duplicates(\"article_id\").set_index(\"article_id\").squeeze()"
   ]
  },
  {
   "cell_type": "code",
   "execution_count": 8,
   "id": "7c0f8442",
   "metadata": {},
   "outputs": [],
   "source": [
    "num_neg_pos = transactions.shape[0]"
   ]
  },
  {
   "cell_type": "code",
   "execution_count": 9,
   "id": "5d1ca6a6",
   "metadata": {},
   "outputs": [],
   "source": [
    "random.seed(time.time())\n",
    "num_neg_samples = int(num_neg_pos * 1.1)\n",
    "\n",
    "neg_dates = np.random.choice(real_dates, size=num_neg_samples)\n",
    "neg_articles = np.random.choice(real_articles, size=num_neg_samples)\n",
    "neg_customers = np.random.choice(real_customers, size=num_neg_samples)\n",
    "neg_channels = np.random.choice(real_channels, size=num_neg_samples)\n",
    "ordered = np.array([0] * num_neg_samples)\n",
    "\n",
    "neg_prices = article_and_price[neg_articles].values"
   ]
  },
  {
   "cell_type": "markdown",
   "id": "a99173d9",
   "metadata": {},
   "source": [
    "In order to free up RAM, I often used the python del keyword in this version. In later versions I instead used function scopes to accomplish much the same.\n",
    "\n",
    "Although, as can be seen below, occasionally I would accidentally run a block with del commands twice and it would throw errors. This is entirely avoided by using functions."
   ]
  },
  {
   "cell_type": "code",
   "execution_count": 56,
   "id": "c2ded3e9",
   "metadata": {},
   "outputs": [
    {
     "ename": "NameError",
     "evalue": "name 'real_dates' is not defined",
     "output_type": "error",
     "traceback": [
      "\u001B[1;31m---------------------------------------------------------------------------\u001B[0m",
      "\u001B[1;31mNameError\u001B[0m                                 Traceback (most recent call last)",
      "\u001B[1;32m~\\AppData\\Local\\Temp/ipykernel_12420/4275039536.py\u001B[0m in \u001B[0;36m<module>\u001B[1;34m\u001B[0m\n\u001B[1;32m----> 1\u001B[1;33m \u001B[1;32mdel\u001B[0m \u001B[0mreal_dates\u001B[0m\u001B[1;33m\u001B[0m\u001B[1;33m\u001B[0m\u001B[0m\n\u001B[0m\u001B[0;32m      2\u001B[0m \u001B[1;32mdel\u001B[0m \u001B[0mreal_customers\u001B[0m\u001B[1;33m\u001B[0m\u001B[1;33m\u001B[0m\u001B[0m\n\u001B[0;32m      3\u001B[0m \u001B[1;32mdel\u001B[0m \u001B[0mreal_articles\u001B[0m\u001B[1;33m\u001B[0m\u001B[1;33m\u001B[0m\u001B[0m\n\u001B[0;32m      4\u001B[0m \u001B[1;32mdel\u001B[0m \u001B[0mreal_channels\u001B[0m\u001B[1;33m\u001B[0m\u001B[1;33m\u001B[0m\u001B[0m\n\u001B[0;32m      5\u001B[0m \u001B[1;32mdel\u001B[0m \u001B[0marticle_and_price\u001B[0m\u001B[1;33m\u001B[0m\u001B[1;33m\u001B[0m\u001B[0m\n",
      "\u001B[1;31mNameError\u001B[0m: name 'real_dates' is not defined"
     ]
    }
   ],
   "source": [
    "del real_dates\n",
    "del real_customers\n",
    "del real_articles\n",
    "del real_channels\n",
    "del article_and_price\n",
    "del num_neg_samples"
   ]
  },
  {
   "cell_type": "code",
   "execution_count": 22,
   "id": "5fd555e2",
   "metadata": {},
   "outputs": [],
   "source": [
    "t_columns = transactions.columns"
   ]
  },
  {
   "cell_type": "code",
   "execution_count": 21,
   "id": "d46baac4",
   "metadata": {},
   "outputs": [],
   "source": [
    "np_frame = np.column_stack((neg_dates, neg_customers, neg_articles, neg_prices, neg_channels, ordered))"
   ]
  },
  {
   "cell_type": "code",
   "execution_count": 23,
   "id": "21598a3a",
   "metadata": {},
   "outputs": [],
   "source": [
    "neg_transactions = pd.DataFrame(np_frame, columns=t_columns)"
   ]
  },
  {
   "cell_type": "code",
   "execution_count": 55,
   "id": "9a27240d",
   "metadata": {},
   "outputs": [],
   "source": [
    "del t_columns\n",
    "del np_frame"
   ]
  },
  {
   "cell_type": "code",
   "execution_count": 16,
   "id": "6b98d73a",
   "metadata": {},
   "outputs": [],
   "source": [
    "duplicate_indexes = neg_transactions[[\"customer_id\", \"article_id\"]].apply(tuple, 1).isin(positive_pairs)"
   ]
  },
  {
   "cell_type": "code",
   "execution_count": 24,
   "id": "38737e23",
   "metadata": {},
   "outputs": [
    {
     "name": "stdout",
     "output_type": "stream",
     "text": [
      "               t_dat customer_id article_id     price sales_channel_id  \\\n",
      "0         2020-02-28      306311      80236  0.030492                1   \n",
      "1         2019-12-22      475992      76399  0.167797                2   \n",
      "2         2019-06-22      653787      30294  0.022864                2   \n",
      "3         2019-05-30      121804      10542  0.049136                2   \n",
      "4         2018-10-14      396444      54582   0.06778                2   \n",
      "...              ...         ...        ...       ...              ...   \n",
      "34967151  2020-04-19      487036      65823  0.020051                1   \n",
      "34967152  2020-05-10      119595      36033  0.011847                1   \n",
      "34967153  2020-03-12      702870      37449  0.022017                1   \n",
      "34967154  2020-03-26      252703      64582  0.013542                1   \n",
      "34967155  2019-11-24     1367633      56919  0.020322                1   \n",
      "\n",
      "         purchased  \n",
      "0                0  \n",
      "1                0  \n",
      "2                0  \n",
      "3                0  \n",
      "4                0  \n",
      "...            ...  \n",
      "34967151         0  \n",
      "34967152         0  \n",
      "34967153         0  \n",
      "34967154         0  \n",
      "34967155         0  \n",
      "\n",
      "[34960439 rows x 6 columns]\n"
     ]
    }
   ],
   "source": [
    "neg_transactions = neg_transactions[~duplicate_indexes]\n",
    "\n",
    "chosen_neg_transactions = neg_transactions.sample(num_neg_pos)\n",
    "del neg_transactions"
   ]
  },
  {
   "cell_type": "code",
   "execution_count": 25,
   "id": "504d969c",
   "metadata": {},
   "outputs": [],
   "source": [
    "transactions = pd.concat([transactions, chosen_neg_transactions])"
   ]
  },
  {
   "cell_type": "code",
   "execution_count": 27,
   "id": "535b1c84",
   "metadata": {},
   "outputs": [],
   "source": [
    "np.save('customer_ids.npy', customer_encoder.classes_)\n",
    "np.save('article_ids.npy', article_encoder.classes_)"
   ]
  },
  {
   "cell_type": "code",
   "execution_count": 30,
   "id": "7a7a9968",
   "metadata": {},
   "outputs": [
    {
     "name": "stdout",
     "output_type": "stream",
     "text": [
      "Collecting pyarrowNote: you may need to restart the kernel to use updated packages.\n",
      "\n",
      "  Downloading pyarrow-10.0.0-cp39-cp39-win_amd64.whl (20.0 MB)\n",
      "Requirement already satisfied: numpy>=1.16.6 in c:\\users\\jenna\\anaconda3\\lib\\site-packages (from pyarrow) (1.20.3)\n",
      "Installing collected packages: pyarrow\n",
      "Successfully installed pyarrow-10.0.0\n"
     ]
    }
   ],
   "source": [
    "pip install pyarrow"
   ]
  },
  {
   "cell_type": "code",
   "execution_count": 36,
   "id": "80eec622",
   "metadata": {},
   "outputs": [],
   "source": [
    "transactions.reset_index(inplace=True)"
   ]
  },
  {
   "cell_type": "markdown",
   "id": "9a431537",
   "metadata": {},
   "source": [
    "I converted the t_dat string into an integer based on the amount of days passed since a certain date. This saved RAM, but:\n",
    "\n",
    "- I really should have done it before adding negative samples as doing it afterwards meant replacing twice the strings (This change was made in future experiments, but it simply took too long to generate the negative samples on the full dataset to rerun it so it was left as is)\n",
    "- Days are not actually useful for this task as we want predictions per week. This meant that I ended up disregarding the entire column in the end anyway."
   ]
  },
  {
   "cell_type": "code",
   "execution_count": 47,
   "id": "c5515a8c",
   "metadata": {},
   "outputs": [
    {
     "name": "stdout",
     "output_type": "stream",
     "text": [
      "0\n"
     ]
    }
   ],
   "source": [
    "import datetime\n",
    "def str_dat_to_days_int(datestring):\n",
    "    return (datetime.datetime.strptime(datestring, \"%Y-%m-%d\") - datetime.datetime(2018, 9, 1)).days\n",
    "\n",
    "print(str_dat_to_days_int(\"2018-09-01\"))"
   ]
  },
  {
   "cell_type": "code",
   "execution_count": 49,
   "id": "6bd2c916",
   "metadata": {},
   "outputs": [],
   "source": [
    "transactions[\"t_dat\"] = transactions[\"t_dat\"].map(str_dat_to_days_int)"
   ]
  },
  {
   "cell_type": "code",
   "execution_count": 40,
   "id": "be499cf0",
   "metadata": {},
   "outputs": [],
   "source": [
    "transactions.drop(\"index\", axis=1, inplace=True)"
   ]
  },
  {
   "cell_type": "code",
   "execution_count": 52,
   "id": "9e47cbea",
   "metadata": {},
   "outputs": [],
   "source": [
    "transactions = pd.get_dummies(transactions, columns=['sales_channel_id'])"
   ]
  },
  {
   "cell_type": "code",
   "execution_count": 50,
   "id": "d1646af0",
   "metadata": {},
   "outputs": [
    {
     "name": "stdout",
     "output_type": "stream",
     "text": [
      "          t_dat customer_id article_id     price sales_channel_id purchased\n",
      "0            19           2      40179  0.050831                2         1\n",
      "1            19           2      10520  0.030492                2         1\n",
      "2            19           7       6387  0.015237                2         1\n",
      "3            19           7      46304  0.016932                2         1\n",
      "4            19           7      46305  0.016932                2         1\n",
      "...         ...         ...        ...       ...              ...       ...\n",
      "63576643    713      631853      47686  0.025407                2         0\n",
      "63576644    436     1289675      17418  0.050831                2         0\n",
      "63576645    434     1176635       5672  0.015237                1         0\n",
      "63576646    538     1189258       5751  0.020322                1         0\n",
      "63576647    620      718504      40287  0.016932                1         0\n",
      "\n",
      "[63576648 rows x 6 columns]\n"
     ]
    }
   ],
   "source": [
    "print(transactions)"
   ]
  },
  {
   "cell_type": "code",
   "execution_count": 53,
   "id": "8364c64b",
   "metadata": {},
   "outputs": [],
   "source": [
    "transactions.to_feather('./data/negativesampled.feather')"
   ]
  },
  {
   "cell_type": "code",
   "execution_count": 39,
   "id": "fb8457a5",
   "metadata": {},
   "outputs": [],
   "source": [
    "del num_neg_pos\n",
    "del neg_dates\n",
    "del neg_articles\n",
    "del neg_customers\n",
    "del neg_channels\n",
    "del ordered\n",
    "del neg_prices\n",
    "del chosen_neg_transactions\n",
    "del duplicate_indexes"
   ]
  },
  {
   "cell_type": "markdown",
   "id": "d12a827f",
   "metadata": {},
   "source": [
    "The checkpoint that is also present in future experiments."
   ]
  },
  {
   "cell_type": "code",
   "execution_count": null,
   "id": "86d97c15",
   "metadata": {},
   "outputs": [],
   "source": [
    "articles = pd.read_csv('./data/articles.csv')"
   ]
  },
  {
   "cell_type": "code",
   "execution_count": 4,
   "id": "b5f42da1",
   "metadata": {},
   "outputs": [],
   "source": [
    "transactions = pd.read_feather(\"./data/negativesampled.feather\")"
   ]
  },
  {
   "cell_type": "code",
   "execution_count": 5,
   "id": "df586f9e",
   "metadata": {},
   "outputs": [],
   "source": [
    "customers = pd.read_csv('./data/customers.csv')"
   ]
  },
  {
   "cell_type": "code",
   "execution_count": 6,
   "id": "d165cf15",
   "metadata": {},
   "outputs": [],
   "source": [
    "customers[\"age\"] = customers[\"age\"].fillna(25)"
   ]
  },
  {
   "cell_type": "code",
   "execution_count": 9,
   "id": "16d3b561",
   "metadata": {},
   "outputs": [],
   "source": [
    "customer_encoder = preprocessing.LabelEncoder()\n",
    "customer_encoder.classes_ = np.load(\"customer_ids.npy\", allow_pickle=True)"
   ]
  },
  {
   "cell_type": "code",
   "execution_count": 47,
   "id": "319a8544",
   "metadata": {},
   "outputs": [],
   "source": [
    "article_encoder = preprocessing.LabelEncoder()\n",
    "article_encoder.classes_ = np.load(\"article_ids.npy\", allow_pickle=True)"
   ]
  },
  {
   "cell_type": "code",
   "execution_count": 10,
   "id": "df8501e3",
   "metadata": {},
   "outputs": [],
   "source": [
    "customers['customer_id'] = customer_encoder.transform(customers['customer_id'])"
   ]
  },
  {
   "cell_type": "code",
   "execution_count": 11,
   "id": "a4096f15",
   "metadata": {},
   "outputs": [],
   "source": [
    "zip_encoder = preprocessing.LabelEncoder()\n",
    "customers[\"postal_code\"] = zip_encoder.fit_transform(customers[\"postal_code\"])"
   ]
  },
  {
   "cell_type": "code",
   "execution_count": 12,
   "id": "01e879e2",
   "metadata": {},
   "outputs": [
    {
     "data": {
      "text/html": [
       "<div>\n",
       "<style scoped>\n",
       "    .dataframe tbody tr th:only-of-type {\n",
       "        vertical-align: middle;\n",
       "    }\n",
       "\n",
       "    .dataframe tbody tr th {\n",
       "        vertical-align: top;\n",
       "    }\n",
       "\n",
       "    .dataframe thead th {\n",
       "        text-align: right;\n",
       "    }\n",
       "</style>\n",
       "<table border=\"1\" class=\"dataframe\">\n",
       "  <thead>\n",
       "    <tr style=\"text-align: right;\">\n",
       "      <th></th>\n",
       "      <th>customer_id</th>\n",
       "      <th>FN</th>\n",
       "      <th>Active</th>\n",
       "      <th>club_member_status</th>\n",
       "      <th>fashion_news_frequency</th>\n",
       "      <th>age</th>\n",
       "      <th>postal_code</th>\n",
       "    </tr>\n",
       "  </thead>\n",
       "  <tbody>\n",
       "    <tr>\n",
       "      <th>0</th>\n",
       "      <td>0</td>\n",
       "      <td>NaN</td>\n",
       "      <td>NaN</td>\n",
       "      <td>ACTIVE</td>\n",
       "      <td>NONE</td>\n",
       "      <td>49.0</td>\n",
       "      <td>112978</td>\n",
       "    </tr>\n",
       "    <tr>\n",
       "      <th>1</th>\n",
       "      <td>1</td>\n",
       "      <td>NaN</td>\n",
       "      <td>NaN</td>\n",
       "      <td>ACTIVE</td>\n",
       "      <td>NONE</td>\n",
       "      <td>25.0</td>\n",
       "      <td>57312</td>\n",
       "    </tr>\n",
       "    <tr>\n",
       "      <th>2</th>\n",
       "      <td>2</td>\n",
       "      <td>NaN</td>\n",
       "      <td>NaN</td>\n",
       "      <td>ACTIVE</td>\n",
       "      <td>NONE</td>\n",
       "      <td>24.0</td>\n",
       "      <td>139156</td>\n",
       "    </tr>\n",
       "    <tr>\n",
       "      <th>3</th>\n",
       "      <td>3</td>\n",
       "      <td>NaN</td>\n",
       "      <td>NaN</td>\n",
       "      <td>ACTIVE</td>\n",
       "      <td>NONE</td>\n",
       "      <td>54.0</td>\n",
       "      <td>128529</td>\n",
       "    </tr>\n",
       "    <tr>\n",
       "      <th>4</th>\n",
       "      <td>4</td>\n",
       "      <td>1.0</td>\n",
       "      <td>1.0</td>\n",
       "      <td>ACTIVE</td>\n",
       "      <td>Regularly</td>\n",
       "      <td>52.0</td>\n",
       "      <td>52371</td>\n",
       "    </tr>\n",
       "  </tbody>\n",
       "</table>\n",
       "</div>"
      ],
      "text/plain": [
       "   customer_id   FN  Active club_member_status fashion_news_frequency   age  \\\n",
       "0            0  NaN     NaN             ACTIVE                   NONE  49.0   \n",
       "1            1  NaN     NaN             ACTIVE                   NONE  25.0   \n",
       "2            2  NaN     NaN             ACTIVE                   NONE  24.0   \n",
       "3            3  NaN     NaN             ACTIVE                   NONE  54.0   \n",
       "4            4  1.0     1.0             ACTIVE              Regularly  52.0   \n",
       "\n",
       "   postal_code  \n",
       "0       112978  \n",
       "1        57312  \n",
       "2       139156  \n",
       "3       128529  \n",
       "4        52371  "
      ]
     },
     "execution_count": 12,
     "metadata": {},
     "output_type": "execute_result"
    }
   ],
   "source": [
    "customers.head()"
   ]
  },
  {
   "cell_type": "code",
   "execution_count": 13,
   "id": "40f0e087",
   "metadata": {},
   "outputs": [],
   "source": [
    "transactions = transactions.merge(customers[[\"customer_id\", \"age\", \"postal_code\"]], how=\"inner\", on='customer_id')"
   ]
  },
  {
   "cell_type": "code",
   "execution_count": 14,
   "id": "cd91d37b",
   "metadata": {},
   "outputs": [
    {
     "data": {
      "text/html": [
       "<div>\n",
       "<style scoped>\n",
       "    .dataframe tbody tr th:only-of-type {\n",
       "        vertical-align: middle;\n",
       "    }\n",
       "\n",
       "    .dataframe tbody tr th {\n",
       "        vertical-align: top;\n",
       "    }\n",
       "\n",
       "    .dataframe thead th {\n",
       "        text-align: right;\n",
       "    }\n",
       "</style>\n",
       "<table border=\"1\" class=\"dataframe\">\n",
       "  <thead>\n",
       "    <tr style=\"text-align: right;\">\n",
       "      <th></th>\n",
       "      <th>t_dat</th>\n",
       "      <th>customer_id</th>\n",
       "      <th>article_id</th>\n",
       "      <th>price</th>\n",
       "      <th>purchased</th>\n",
       "      <th>sales_channel_id_1</th>\n",
       "      <th>sales_channel_id_2</th>\n",
       "      <th>age</th>\n",
       "      <th>postal_code</th>\n",
       "    </tr>\n",
       "  </thead>\n",
       "  <tbody>\n",
       "    <tr>\n",
       "      <th>0</th>\n",
       "      <td>19</td>\n",
       "      <td>2</td>\n",
       "      <td>40179</td>\n",
       "      <td>0.050831</td>\n",
       "      <td>1</td>\n",
       "      <td>0</td>\n",
       "      <td>1</td>\n",
       "      <td>24.0</td>\n",
       "      <td>139156</td>\n",
       "    </tr>\n",
       "    <tr>\n",
       "      <th>1</th>\n",
       "      <td>19</td>\n",
       "      <td>2</td>\n",
       "      <td>10520</td>\n",
       "      <td>0.030492</td>\n",
       "      <td>1</td>\n",
       "      <td>0</td>\n",
       "      <td>1</td>\n",
       "      <td>24.0</td>\n",
       "      <td>139156</td>\n",
       "    </tr>\n",
       "    <tr>\n",
       "      <th>2</th>\n",
       "      <td>23</td>\n",
       "      <td>2</td>\n",
       "      <td>40179</td>\n",
       "      <td>0.050831</td>\n",
       "      <td>1</td>\n",
       "      <td>0</td>\n",
       "      <td>1</td>\n",
       "      <td>24.0</td>\n",
       "      <td>139156</td>\n",
       "    </tr>\n",
       "    <tr>\n",
       "      <th>3</th>\n",
       "      <td>181</td>\n",
       "      <td>2</td>\n",
       "      <td>18197</td>\n",
       "      <td>0.013542</td>\n",
       "      <td>1</td>\n",
       "      <td>0</td>\n",
       "      <td>1</td>\n",
       "      <td>24.0</td>\n",
       "      <td>139156</td>\n",
       "    </tr>\n",
       "    <tr>\n",
       "      <th>4</th>\n",
       "      <td>520</td>\n",
       "      <td>2</td>\n",
       "      <td>59458</td>\n",
       "      <td>0.025407</td>\n",
       "      <td>1</td>\n",
       "      <td>0</td>\n",
       "      <td>1</td>\n",
       "      <td>24.0</td>\n",
       "      <td>139156</td>\n",
       "    </tr>\n",
       "  </tbody>\n",
       "</table>\n",
       "</div>"
      ],
      "text/plain": [
       "   t_dat  customer_id  article_id     price  purchased  sales_channel_id_1  \\\n",
       "0     19            2       40179  0.050831          1                   0   \n",
       "1     19            2       10520  0.030492          1                   0   \n",
       "2     23            2       40179  0.050831          1                   0   \n",
       "3    181            2       18197  0.013542          1                   0   \n",
       "4    520            2       59458  0.025407          1                   0   \n",
       "\n",
       "   sales_channel_id_2   age  postal_code  \n",
       "0                   1  24.0       139156  \n",
       "1                   1  24.0       139156  \n",
       "2                   1  24.0       139156  \n",
       "3                   1  24.0       139156  \n",
       "4                   1  24.0       139156  "
      ]
     },
     "execution_count": 14,
     "metadata": {},
     "output_type": "execute_result"
    }
   ],
   "source": [
    "transactions.head()"
   ]
  },
  {
   "cell_type": "code",
   "execution_count": 15,
   "id": "2255b4d7",
   "metadata": {},
   "outputs": [],
   "source": [
    "del customers"
   ]
  },
  {
   "cell_type": "code",
   "execution_count": 16,
   "id": "a71343a4",
   "metadata": {},
   "outputs": [],
   "source": [
    "transactions[\"customer_id\"] = transactions[\"customer_id\"].astype(int)\n",
    "transactions[\"article_id\"] = transactions[\"article_id\"].astype(int)\n",
    "transactions[\"price\"] = transactions[\"price\"].astype(float)"
   ]
  },
  {
   "cell_type": "code",
   "execution_count": 217,
   "id": "32984d46",
   "metadata": {},
   "outputs": [],
   "source": [
    "X_train, X_test, y_train, y_test = train_test_split(transactions.drop(['purchased', \"price\", \"t_dat\", \"sales_channel_id_1\", \"sales_channel_id_2\"], axis=1), transactions['purchased'], test_size=0.10, random_state=42)"
   ]
  },
  {
   "cell_type": "code",
   "execution_count": 68,
   "id": "6c6a8df3",
   "metadata": {},
   "outputs": [
    {
     "name": "stdout",
     "output_type": "stream",
     "text": [
      "Collecting lightgbmNote: you may need to restart the kernel to use updated packages.\n",
      "\n",
      "  Downloading lightgbm-3.3.3-py3-none-win_amd64.whl (1.0 MB)\n",
      "Requirement already satisfied: numpy in c:\\users\\jenna\\anaconda3\\lib\\site-packages (from lightgbm) (1.20.3)\n",
      "Requirement already satisfied: scipy in c:\\users\\jenna\\anaconda3\\lib\\site-packages (from lightgbm) (1.7.1)\n",
      "Requirement already satisfied: scikit-learn!=0.22.0 in c:\\users\\jenna\\anaconda3\\lib\\site-packages (from lightgbm) (0.24.2)\n",
      "Requirement already satisfied: wheel in c:\\users\\jenna\\anaconda3\\lib\\site-packages (from lightgbm) (0.37.0)\n",
      "Requirement already satisfied: threadpoolctl>=2.0.0 in c:\\users\\jenna\\anaconda3\\lib\\site-packages (from scikit-learn!=0.22.0->lightgbm) (2.2.0)\n",
      "Requirement already satisfied: joblib>=0.11 in c:\\users\\jenna\\anaconda3\\lib\\site-packages (from scikit-learn!=0.22.0->lightgbm) (1.1.0)\n",
      "Installing collected packages: lightgbm\n",
      "Successfully installed lightgbm-3.3.3\n"
     ]
    }
   ],
   "source": [
    "pip install lightgbm"
   ]
  },
  {
   "cell_type": "code",
   "execution_count": 218,
   "id": "dd342ff7",
   "metadata": {},
   "outputs": [
    {
     "name": "stdout",
     "output_type": "stream",
     "text": [
      "Starting training...\n",
      "Training until validation scores don't improve for 5 rounds\n",
      "Did not meet early stopping. Best iteration is:\n",
      "[20]\tvalid_0's auc: 0.642498\tvalid_0's binary_logloss: 0.659975\tvalid_0's l1: 0.474221\n",
      "Saving model...\n"
     ]
    }
   ],
   "source": [
    "# copying from https://github.com/microsoft/LightGBM/blob/master/examples/python-guide/simple_example.py\n",
    "# combined with https://github.com/angelotc/LightGBM-binary-classification-example/blob/master/CCData.ipynb\n",
    "\n",
    "import lightgbm as lgb\n",
    "print('Starting training...')\n",
    "\n",
    "gbm = lgb.LGBMClassifier(learning_rate = 0.1, metric = 'l1', \n",
    "                        n_estimators = 20)\n",
    "gbm.fit(X_train, y_train,\n",
    "        eval_set=[(X_test, y_test)],\n",
    "        eval_metric=['auc', 'binary_logloss'],\n",
    "        callbacks=[lgb.early_stopping(stopping_rounds=5)])\n",
    "\n",
    "print('Saving model...')"
   ]
  },
  {
   "cell_type": "code",
   "execution_count": 219,
   "id": "bd986bfb",
   "metadata": {},
   "outputs": [
    {
     "data": {
      "text/plain": [
       "<lightgbm.basic.Booster at 0x1f4b535dc40>"
      ]
     },
     "execution_count": 219,
     "metadata": {},
     "output_type": "execute_result"
    }
   ],
   "source": [
    "# save model to file\n",
    "gbm.booster_.save_model('./data/model.txt')"
   ]
  },
  {
   "cell_type": "code",
   "execution_count": 20,
   "id": "1e6eccd7",
   "metadata": {},
   "outputs": [],
   "source": [
    "customers = pd.read_csv('./data/customers.csv')"
   ]
  },
  {
   "cell_type": "code",
   "execution_count": 21,
   "id": "989601f5",
   "metadata": {},
   "outputs": [],
   "source": [
    "articles = pd.read_csv(\"./data/articles.csv\")"
   ]
  },
  {
   "cell_type": "code",
   "execution_count": 22,
   "id": "fb9997ea",
   "metadata": {},
   "outputs": [],
   "source": [
    "original_transactions = pd.read_csv(\"./data/transactions_train.csv\")"
   ]
  },
  {
   "cell_type": "code",
   "execution_count": 33,
   "id": "e0cef39d",
   "metadata": {},
   "outputs": [],
   "source": [
    "unsold_article_ids = articles[\"article_id\"][~articles[\"article_id\"].isin(original_transactions[\"article_id\"])]"
   ]
  },
  {
   "cell_type": "code",
   "execution_count": 54,
   "id": "f4b76dfa",
   "metadata": {},
   "outputs": [],
   "source": [
    "customers[\"customer_id\"] = customer_encoder.transform(customers[\"customer_id\"])"
   ]
  },
  {
   "cell_type": "code",
   "execution_count": 56,
   "id": "60dabebc",
   "metadata": {},
   "outputs": [],
   "source": [
    "customers[\"postal_code\"] = zip_encoder.transform(customers[\"postal_code\"])"
   ]
  },
  {
   "cell_type": "code",
   "execution_count": 57,
   "id": "7bc32e0a",
   "metadata": {},
   "outputs": [],
   "source": [
    "customers[\"age\"] = customers[\"age\"].fillna(25)"
   ]
  },
  {
   "cell_type": "code",
   "execution_count": 58,
   "id": "fcc5a78e",
   "metadata": {},
   "outputs": [
    {
     "name": "stdout",
     "output_type": "stream",
     "text": [
      "   customer_id   age  postal_code\n",
      "0            0  49.0       112978\n",
      "1            1  25.0        57312\n",
      "2            2  24.0       139156\n",
      "3            3  54.0       128529\n",
      "4            4  52.0        52371\n",
      "5            5  25.0        61034\n",
      "6            6  20.0       350802\n",
      "7            7  32.0       194979\n",
      "8            8  20.0        61034\n",
      "9            9  20.0        61034\n"
     ]
    }
   ],
   "source": [
    "print(customers.iloc[:10][[\"customer_id\", \"age\", \"postal_code\"]])"
   ]
  },
  {
   "cell_type": "code",
   "execution_count": 67,
   "id": "1ee87c12",
   "metadata": {},
   "outputs": [],
   "source": [
    "sales_channels = pd.DataFrame([[0, 1], [1, 0]], columns=[\"sales_channel_id_1\", \"sales_channel_id_2\"])"
   ]
  },
  {
   "cell_type": "code",
   "execution_count": 68,
   "id": "2faa7342",
   "metadata": {},
   "outputs": [
    {
     "data": {
      "text/html": [
       "<div>\n",
       "<style scoped>\n",
       "    .dataframe tbody tr th:only-of-type {\n",
       "        vertical-align: middle;\n",
       "    }\n",
       "\n",
       "    .dataframe tbody tr th {\n",
       "        vertical-align: top;\n",
       "    }\n",
       "\n",
       "    .dataframe thead th {\n",
       "        text-align: right;\n",
       "    }\n",
       "</style>\n",
       "<table border=\"1\" class=\"dataframe\">\n",
       "  <thead>\n",
       "    <tr style=\"text-align: right;\">\n",
       "      <th></th>\n",
       "      <th>sales_channel_id_1</th>\n",
       "      <th>sales_channel_id_2</th>\n",
       "    </tr>\n",
       "  </thead>\n",
       "  <tbody>\n",
       "    <tr>\n",
       "      <th>0</th>\n",
       "      <td>0</td>\n",
       "      <td>1</td>\n",
       "    </tr>\n",
       "    <tr>\n",
       "      <th>1</th>\n",
       "      <td>1</td>\n",
       "      <td>0</td>\n",
       "    </tr>\n",
       "  </tbody>\n",
       "</table>\n",
       "</div>"
      ],
      "text/plain": [
       "   sales_channel_id_1  sales_channel_id_2\n",
       "0                   0                   1\n",
       "1                   1                   0"
      ]
     },
     "execution_count": 68,
     "metadata": {},
     "output_type": "execute_result"
    }
   ],
   "source": [
    "sales_channels.head()"
   ]
  },
  {
   "cell_type": "code",
   "execution_count": 61,
   "id": "8279de9a",
   "metadata": {},
   "outputs": [],
   "source": [
    "unsold_article_id_labels = pd.DataFrame(article_encoder.transform(unsold_article_ids), columns=[\"article_id\"])"
   ]
  },
  {
   "cell_type": "code",
   "execution_count": 62,
   "id": "d51e2136",
   "metadata": {},
   "outputs": [
    {
     "data": {
      "text/html": [
       "<div>\n",
       "<style scoped>\n",
       "    .dataframe tbody tr th:only-of-type {\n",
       "        vertical-align: middle;\n",
       "    }\n",
       "\n",
       "    .dataframe tbody tr th {\n",
       "        vertical-align: top;\n",
       "    }\n",
       "\n",
       "    .dataframe thead th {\n",
       "        text-align: right;\n",
       "    }\n",
       "</style>\n",
       "<table border=\"1\" class=\"dataframe\">\n",
       "  <thead>\n",
       "    <tr style=\"text-align: right;\">\n",
       "      <th></th>\n",
       "      <th>article_id</th>\n",
       "    </tr>\n",
       "  </thead>\n",
       "  <tbody>\n",
       "    <tr>\n",
       "      <th>0</th>\n",
       "      <td>159</td>\n",
       "    </tr>\n",
       "    <tr>\n",
       "      <th>1</th>\n",
       "      <td>718</td>\n",
       "    </tr>\n",
       "    <tr>\n",
       "      <th>2</th>\n",
       "      <td>2106</td>\n",
       "    </tr>\n",
       "    <tr>\n",
       "      <th>3</th>\n",
       "      <td>2708</td>\n",
       "    </tr>\n",
       "    <tr>\n",
       "      <th>4</th>\n",
       "      <td>3682</td>\n",
       "    </tr>\n",
       "    <tr>\n",
       "      <th>...</th>\n",
       "      <td>...</td>\n",
       "    </tr>\n",
       "    <tr>\n",
       "      <th>990</th>\n",
       "      <td>105529</td>\n",
       "    </tr>\n",
       "    <tr>\n",
       "      <th>991</th>\n",
       "      <td>105533</td>\n",
       "    </tr>\n",
       "    <tr>\n",
       "      <th>992</th>\n",
       "      <td>105535</td>\n",
       "    </tr>\n",
       "    <tr>\n",
       "      <th>993</th>\n",
       "      <td>105540</td>\n",
       "    </tr>\n",
       "    <tr>\n",
       "      <th>994</th>\n",
       "      <td>105541</td>\n",
       "    </tr>\n",
       "  </tbody>\n",
       "</table>\n",
       "<p>995 rows × 1 columns</p>\n",
       "</div>"
      ],
      "text/plain": [
       "     article_id\n",
       "0           159\n",
       "1           718\n",
       "2          2106\n",
       "3          2708\n",
       "4          3682\n",
       "..          ...\n",
       "990      105529\n",
       "991      105533\n",
       "992      105535\n",
       "993      105540\n",
       "994      105541\n",
       "\n",
       "[995 rows x 1 columns]"
      ]
     },
     "execution_count": 62,
     "metadata": {},
     "output_type": "execute_result"
    }
   ],
   "source": [
    "unsold_article_id_labels"
   ]
  },
  {
   "cell_type": "code",
   "execution_count": 223,
   "id": "46e9286d",
   "metadata": {},
   "outputs": [
    {
     "ename": "MemoryError",
     "evalue": "Unable to allocate 10.2 GiB for an array with shape (1365120100,) and data type int64",
     "output_type": "error",
     "traceback": [
      "\u001B[1;31m---------------------------------------------------------------------------\u001B[0m",
      "\u001B[1;31mMemoryError\u001B[0m                               Traceback (most recent call last)",
      "\u001B[1;32m~\\AppData\\Local\\Temp/ipykernel_21988/3007095033.py\u001B[0m in \u001B[0;36m<module>\u001B[1;34m\u001B[0m\n\u001B[1;32m----> 1\u001B[1;33m \u001B[0mtest_input\u001B[0m \u001B[1;33m=\u001B[0m \u001B[0mcustomers\u001B[0m\u001B[1;33m[\u001B[0m\u001B[1;33m[\u001B[0m\u001B[1;34m\"customer_id\"\u001B[0m\u001B[1;33m,\u001B[0m \u001B[1;34m\"age\"\u001B[0m\u001B[1;33m,\u001B[0m \u001B[1;34m\"postal_code\"\u001B[0m\u001B[1;33m]\u001B[0m\u001B[1;33m]\u001B[0m\u001B[1;33m.\u001B[0m\u001B[0mmerge\u001B[0m\u001B[1;33m(\u001B[0m\u001B[0munsold_article_id_labels\u001B[0m\u001B[1;33m,\u001B[0m \u001B[0mhow\u001B[0m\u001B[1;33m=\u001B[0m\u001B[1;34m\"cross\"\u001B[0m\u001B[1;33m)\u001B[0m \u001B[1;31m# .merge(sales_channels, how=\"cross\")\u001B[0m\u001B[1;33m\u001B[0m\u001B[1;33m\u001B[0m\u001B[0m\n\u001B[0m",
      "\u001B[1;32m~\\anaconda3\\lib\\site-packages\\pandas\\core\\frame.py\u001B[0m in \u001B[0;36mmerge\u001B[1;34m(self, right, how, on, left_on, right_on, left_index, right_index, sort, suffixes, copy, indicator, validate)\u001B[0m\n\u001B[0;32m   9188\u001B[0m         \u001B[1;32mfrom\u001B[0m \u001B[0mpandas\u001B[0m\u001B[1;33m.\u001B[0m\u001B[0mcore\u001B[0m\u001B[1;33m.\u001B[0m\u001B[0mreshape\u001B[0m\u001B[1;33m.\u001B[0m\u001B[0mmerge\u001B[0m \u001B[1;32mimport\u001B[0m \u001B[0mmerge\u001B[0m\u001B[1;33m\u001B[0m\u001B[1;33m\u001B[0m\u001B[0m\n\u001B[0;32m   9189\u001B[0m \u001B[1;33m\u001B[0m\u001B[0m\n\u001B[1;32m-> 9190\u001B[1;33m         return merge(\n\u001B[0m\u001B[0;32m   9191\u001B[0m             \u001B[0mself\u001B[0m\u001B[1;33m,\u001B[0m\u001B[1;33m\u001B[0m\u001B[1;33m\u001B[0m\u001B[0m\n\u001B[0;32m   9192\u001B[0m             \u001B[0mright\u001B[0m\u001B[1;33m,\u001B[0m\u001B[1;33m\u001B[0m\u001B[1;33m\u001B[0m\u001B[0m\n",
      "\u001B[1;32m~\\anaconda3\\lib\\site-packages\\pandas\\core\\reshape\\merge.py\u001B[0m in \u001B[0;36mmerge\u001B[1;34m(left, right, how, on, left_on, right_on, left_index, right_index, sort, suffixes, copy, indicator, validate)\u001B[0m\n\u001B[0;32m    119\u001B[0m         \u001B[0mvalidate\u001B[0m\u001B[1;33m=\u001B[0m\u001B[0mvalidate\u001B[0m\u001B[1;33m,\u001B[0m\u001B[1;33m\u001B[0m\u001B[1;33m\u001B[0m\u001B[0m\n\u001B[0;32m    120\u001B[0m     )\n\u001B[1;32m--> 121\u001B[1;33m     \u001B[1;32mreturn\u001B[0m \u001B[0mop\u001B[0m\u001B[1;33m.\u001B[0m\u001B[0mget_result\u001B[0m\u001B[1;33m(\u001B[0m\u001B[1;33m)\u001B[0m\u001B[1;33m\u001B[0m\u001B[1;33m\u001B[0m\u001B[0m\n\u001B[0m\u001B[0;32m    122\u001B[0m \u001B[1;33m\u001B[0m\u001B[0m\n\u001B[0;32m    123\u001B[0m \u001B[1;33m\u001B[0m\u001B[0m\n",
      "\u001B[1;32m~\\anaconda3\\lib\\site-packages\\pandas\\core\\reshape\\merge.py\u001B[0m in \u001B[0;36mget_result\u001B[1;34m(self)\u001B[0m\n\u001B[0;32m    713\u001B[0m             \u001B[0mself\u001B[0m\u001B[1;33m.\u001B[0m\u001B[0mleft\u001B[0m\u001B[1;33m,\u001B[0m \u001B[0mself\u001B[0m\u001B[1;33m.\u001B[0m\u001B[0mright\u001B[0m \u001B[1;33m=\u001B[0m \u001B[0mself\u001B[0m\u001B[1;33m.\u001B[0m\u001B[0m_indicator_pre_merge\u001B[0m\u001B[1;33m(\u001B[0m\u001B[0mself\u001B[0m\u001B[1;33m.\u001B[0m\u001B[0mleft\u001B[0m\u001B[1;33m,\u001B[0m \u001B[0mself\u001B[0m\u001B[1;33m.\u001B[0m\u001B[0mright\u001B[0m\u001B[1;33m)\u001B[0m\u001B[1;33m\u001B[0m\u001B[1;33m\u001B[0m\u001B[0m\n\u001B[0;32m    714\u001B[0m \u001B[1;33m\u001B[0m\u001B[0m\n\u001B[1;32m--> 715\u001B[1;33m         \u001B[0mjoin_index\u001B[0m\u001B[1;33m,\u001B[0m \u001B[0mleft_indexer\u001B[0m\u001B[1;33m,\u001B[0m \u001B[0mright_indexer\u001B[0m \u001B[1;33m=\u001B[0m \u001B[0mself\u001B[0m\u001B[1;33m.\u001B[0m\u001B[0m_get_join_info\u001B[0m\u001B[1;33m(\u001B[0m\u001B[1;33m)\u001B[0m\u001B[1;33m\u001B[0m\u001B[1;33m\u001B[0m\u001B[0m\n\u001B[0m\u001B[0;32m    716\u001B[0m \u001B[1;33m\u001B[0m\u001B[0m\n\u001B[0;32m    717\u001B[0m         llabels, rlabels = _items_overlap_with_suffix(\n",
      "\u001B[1;32m~\\anaconda3\\lib\\site-packages\\pandas\\core\\reshape\\merge.py\u001B[0m in \u001B[0;36m_get_join_info\u001B[1;34m(self)\u001B[0m\n\u001B[0;32m    964\u001B[0m             )\n\u001B[0;32m    965\u001B[0m         \u001B[1;32melse\u001B[0m\u001B[1;33m:\u001B[0m\u001B[1;33m\u001B[0m\u001B[1;33m\u001B[0m\u001B[0m\n\u001B[1;32m--> 966\u001B[1;33m             \u001B[1;33m(\u001B[0m\u001B[0mleft_indexer\u001B[0m\u001B[1;33m,\u001B[0m \u001B[0mright_indexer\u001B[0m\u001B[1;33m)\u001B[0m \u001B[1;33m=\u001B[0m \u001B[0mself\u001B[0m\u001B[1;33m.\u001B[0m\u001B[0m_get_join_indexers\u001B[0m\u001B[1;33m(\u001B[0m\u001B[1;33m)\u001B[0m\u001B[1;33m\u001B[0m\u001B[1;33m\u001B[0m\u001B[0m\n\u001B[0m\u001B[0;32m    967\u001B[0m \u001B[1;33m\u001B[0m\u001B[0m\n\u001B[0;32m    968\u001B[0m             \u001B[1;32mif\u001B[0m \u001B[0mself\u001B[0m\u001B[1;33m.\u001B[0m\u001B[0mright_index\u001B[0m\u001B[1;33m:\u001B[0m\u001B[1;33m\u001B[0m\u001B[1;33m\u001B[0m\u001B[0m\n",
      "\u001B[1;32m~\\anaconda3\\lib\\site-packages\\pandas\\core\\reshape\\merge.py\u001B[0m in \u001B[0;36m_get_join_indexers\u001B[1;34m(self)\u001B[0m\n\u001B[0;32m    938\u001B[0m         \u001B[1;34m\"\"\"return the join indexers\"\"\"\u001B[0m\u001B[1;33m\u001B[0m\u001B[1;33m\u001B[0m\u001B[0m\n\u001B[0;32m    939\u001B[0m         \u001B[1;31m# Both returned ndarrays are np.intp\u001B[0m\u001B[1;33m\u001B[0m\u001B[1;33m\u001B[0m\u001B[0m\n\u001B[1;32m--> 940\u001B[1;33m         return get_join_indexers(\n\u001B[0m\u001B[0;32m    941\u001B[0m             \u001B[0mself\u001B[0m\u001B[1;33m.\u001B[0m\u001B[0mleft_join_keys\u001B[0m\u001B[1;33m,\u001B[0m \u001B[0mself\u001B[0m\u001B[1;33m.\u001B[0m\u001B[0mright_join_keys\u001B[0m\u001B[1;33m,\u001B[0m \u001B[0msort\u001B[0m\u001B[1;33m=\u001B[0m\u001B[0mself\u001B[0m\u001B[1;33m.\u001B[0m\u001B[0msort\u001B[0m\u001B[1;33m,\u001B[0m \u001B[0mhow\u001B[0m\u001B[1;33m=\u001B[0m\u001B[0mself\u001B[0m\u001B[1;33m.\u001B[0m\u001B[0mhow\u001B[0m\u001B[1;33m\u001B[0m\u001B[1;33m\u001B[0m\u001B[0m\n\u001B[0;32m    942\u001B[0m         )\n",
      "\u001B[1;32m~\\anaconda3\\lib\\site-packages\\pandas\\core\\reshape\\merge.py\u001B[0m in \u001B[0;36mget_join_indexers\u001B[1;34m(left_keys, right_keys, sort, how, **kwargs)\u001B[0m\n\u001B[0;32m   1504\u001B[0m \u001B[1;33m\u001B[0m\u001B[0m\n\u001B[0;32m   1505\u001B[0m     \u001B[1;31m# error: Cannot call function of unknown type\u001B[0m\u001B[1;33m\u001B[0m\u001B[1;33m\u001B[0m\u001B[0m\n\u001B[1;32m-> 1506\u001B[1;33m     \u001B[1;32mreturn\u001B[0m \u001B[0mjoin_func\u001B[0m\u001B[1;33m(\u001B[0m\u001B[0mlkey\u001B[0m\u001B[1;33m,\u001B[0m \u001B[0mrkey\u001B[0m\u001B[1;33m,\u001B[0m \u001B[0mcount\u001B[0m\u001B[1;33m,\u001B[0m \u001B[1;33m**\u001B[0m\u001B[0mkwargs\u001B[0m\u001B[1;33m)\u001B[0m  \u001B[1;31m# type: ignore[operator]\u001B[0m\u001B[1;33m\u001B[0m\u001B[1;33m\u001B[0m\u001B[0m\n\u001B[0m\u001B[0;32m   1507\u001B[0m \u001B[1;33m\u001B[0m\u001B[0m\n\u001B[0;32m   1508\u001B[0m \u001B[1;33m\u001B[0m\u001B[0m\n",
      "\u001B[1;32m~\\anaconda3\\lib\\site-packages\\pandas\\_libs\\join.pyx\u001B[0m in \u001B[0;36mpandas._libs.join.inner_join\u001B[1;34m()\u001B[0m\n",
      "\u001B[1;31mMemoryError\u001B[0m: Unable to allocate 10.2 GiB for an array with shape (1365120100,) and data type int64"
     ]
    }
   ],
   "source": [
    "test_input = customers[[\"customer_id\", \"age\", \"postal_code\"]].merge(unsold_article_id_labels, how=\"cross\") # .merge(sales_channels, how=\"cross\")"
   ]
  },
  {
   "cell_type": "markdown",
   "id": "d21bef2b",
   "metadata": {},
   "source": [
    "I lied in my presentation: I said I assigned articles to customers at random but I actually did try to use LightGBM. \n",
    "\n",
    "As LightGBM had no information about the unsold articles at all, however, not even the information from the articles table as I ended up not merging it into the transactions table due to RAM space, the behaviour of LightGBM is entirely unpredictable so my assumption was that random assignment would've had a similar result. (Perhaps better or worse depending on the roll of the dice)\n",
    "\n",
    "Additionally, as seen above, I tried making a pandas dataframe with all 995 unsold items for all customers in order to be able to use vectorised functions on all customers at the same time. (Which I did do in future notebooks, although with less items per customer) This didn't end up working as the amount of RAM required was too high, so I split the customers table up in 100 smaller tables. This worked but it takes quite a while to run."
   ]
  },
  {
   "cell_type": "code",
   "execution_count": 262,
   "id": "10ac4212",
   "metadata": {},
   "outputs": [],
   "source": [
    "f = open(\"./data/test_output.csv\", \"w\")\n",
    "f.write(\"customer_id,prediction\\n\")\n",
    "f.close()\n",
    "\n",
    "for index, row in customers.groupby(np.arange(len(customers)) // 100):\n",
    "    curr_row_in = unsold_article_id_labels.merge(row[[\"customer_id\", \"age\", \"postal_code\"]], how=\"cross\")\n",
    "    curr_row_probs = gbm.predict_proba(curr_row_in[[\"customer_id\", \"article_id\", \"age\", \"postal_code\"]], num_iteration=gbm.best_iteration_)\n",
    "    curr_row_in[[\"probability_0\", \"probability_1\"]] = curr_row_probs\n",
    "    curr_row_in[\"customer_id\"] = customer_encoder.inverse_transform(curr_row_in[\"customer_id\"])\n",
    "    curr_row_in[\"article_id\"] = article_encoder.inverse_transform(curr_row_in[\"article_id\"])\n",
    "    ordering = curr_row_in.sort_values(by=[\"customer_id\", \"probability_1\"], ascending=[True, False]).set_index(\"customer_id\").groupby(\"customer_id\")[\"article_id\"].apply(lambda x : \" \".join([\"0\" + str(i) for i in x[:12]]))\n",
    "    ordering.to_csv(\"./data/test_output.csv\", mode=\"a\", header=False)"
   ]
  },
  {
   "cell_type": "code",
   "execution_count": 252,
   "id": "c85be73b",
   "metadata": {},
   "outputs": [],
   "source": [
    "f.close()"
   ]
  },
  {
   "cell_type": "markdown",
   "id": "e28a87fe",
   "metadata": {},
   "source": [
    "Everything below this were quick experiments in order to try to figure out how to write everything to the output format."
   ]
  },
  {
   "cell_type": "code",
   "execution_count": 107,
   "id": "7bcb410b",
   "metadata": {},
   "outputs": [],
   "source": [
    "test_input = customers.iloc[:100][[\"customer_id\", \"age\", \"postal_code\"]].merge(pd.DataFrame(article_encoder.transform(articles[\"article_id\"].iloc[:100]), columns=[\"article_id\"]), how=\"cross\").merge(sales_channels, how=\"cross\")"
   ]
  },
  {
   "cell_type": "code",
   "execution_count": null,
   "id": "0e20a6a9",
   "metadata": {},
   "outputs": [],
   "source": [
    "test_input"
   ]
  },
  {
   "cell_type": "code",
   "execution_count": null,
   "id": "da6f977f",
   "metadata": {},
   "outputs": [],
   "source": [
    "predictions = gbm.predict_proba(test_input[[\"customer_id\", \"article_id\", \"sales_channel_id_1\", \"sales_channel_id_2\", \"age\", \"postal_code\"]], num_iteration=gbm.best_iteration_)"
   ]
  },
  {
   "cell_type": "code",
   "execution_count": null,
   "id": "c5621d6d",
   "metadata": {},
   "outputs": [],
   "source": [
    "output_test = test_input\n",
    "output_test[[\"probability_0\", \"probability_1\"]] = predictions"
   ]
  },
  {
   "cell_type": "code",
   "execution_count": 189,
   "id": "e9e7e5f3",
   "metadata": {},
   "outputs": [
    {
     "data": {
      "text/html": [
       "<div>\n",
       "<style scoped>\n",
       "    .dataframe tbody tr th:only-of-type {\n",
       "        vertical-align: middle;\n",
       "    }\n",
       "\n",
       "    .dataframe tbody tr th {\n",
       "        vertical-align: top;\n",
       "    }\n",
       "\n",
       "    .dataframe thead th {\n",
       "        text-align: right;\n",
       "    }\n",
       "</style>\n",
       "<table border=\"1\" class=\"dataframe\">\n",
       "  <thead>\n",
       "    <tr style=\"text-align: right;\">\n",
       "      <th></th>\n",
       "      <th>customer_id</th>\n",
       "      <th>age</th>\n",
       "      <th>postal_code</th>\n",
       "      <th>article_id</th>\n",
       "      <th>sales_channel_id_1</th>\n",
       "      <th>sales_channel_id_2</th>\n",
       "      <th>probability_0</th>\n",
       "      <th>probability_1</th>\n",
       "    </tr>\n",
       "  </thead>\n",
       "  <tbody>\n",
       "    <tr>\n",
       "      <th>0</th>\n",
       "      <td>0</td>\n",
       "      <td>49.0</td>\n",
       "      <td>112978</td>\n",
       "      <td>159</td>\n",
       "      <td>0</td>\n",
       "      <td>1</td>\n",
       "      <td>0.338363</td>\n",
       "      <td>0.661637</td>\n",
       "    </tr>\n",
       "    <tr>\n",
       "      <th>1</th>\n",
       "      <td>0</td>\n",
       "      <td>49.0</td>\n",
       "      <td>112978</td>\n",
       "      <td>159</td>\n",
       "      <td>1</td>\n",
       "      <td>0</td>\n",
       "      <td>0.369113</td>\n",
       "      <td>0.630887</td>\n",
       "    </tr>\n",
       "    <tr>\n",
       "      <th>2</th>\n",
       "      <td>0</td>\n",
       "      <td>49.0</td>\n",
       "      <td>112978</td>\n",
       "      <td>718</td>\n",
       "      <td>0</td>\n",
       "      <td>1</td>\n",
       "      <td>0.379727</td>\n",
       "      <td>0.620273</td>\n",
       "    </tr>\n",
       "    <tr>\n",
       "      <th>3</th>\n",
       "      <td>0</td>\n",
       "      <td>49.0</td>\n",
       "      <td>112978</td>\n",
       "      <td>718</td>\n",
       "      <td>1</td>\n",
       "      <td>0</td>\n",
       "      <td>0.503652</td>\n",
       "      <td>0.496348</td>\n",
       "    </tr>\n",
       "    <tr>\n",
       "      <th>4</th>\n",
       "      <td>0</td>\n",
       "      <td>49.0</td>\n",
       "      <td>112978</td>\n",
       "      <td>2106</td>\n",
       "      <td>0</td>\n",
       "      <td>1</td>\n",
       "      <td>0.379727</td>\n",
       "      <td>0.620273</td>\n",
       "    </tr>\n",
       "    <tr>\n",
       "      <th>...</th>\n",
       "      <td>...</td>\n",
       "      <td>...</td>\n",
       "      <td>...</td>\n",
       "      <td>...</td>\n",
       "      <td>...</td>\n",
       "      <td>...</td>\n",
       "      <td>...</td>\n",
       "      <td>...</td>\n",
       "    </tr>\n",
       "    <tr>\n",
       "      <th>198995</th>\n",
       "      <td>99</td>\n",
       "      <td>25.0</td>\n",
       "      <td>298089</td>\n",
       "      <td>105535</td>\n",
       "      <td>1</td>\n",
       "      <td>0</td>\n",
       "      <td>0.775617</td>\n",
       "      <td>0.224383</td>\n",
       "    </tr>\n",
       "    <tr>\n",
       "      <th>198996</th>\n",
       "      <td>99</td>\n",
       "      <td>25.0</td>\n",
       "      <td>298089</td>\n",
       "      <td>105540</td>\n",
       "      <td>0</td>\n",
       "      <td>1</td>\n",
       "      <td>0.504717</td>\n",
       "      <td>0.495283</td>\n",
       "    </tr>\n",
       "    <tr>\n",
       "      <th>198997</th>\n",
       "      <td>99</td>\n",
       "      <td>25.0</td>\n",
       "      <td>298089</td>\n",
       "      <td>105540</td>\n",
       "      <td>1</td>\n",
       "      <td>0</td>\n",
       "      <td>0.775617</td>\n",
       "      <td>0.224383</td>\n",
       "    </tr>\n",
       "    <tr>\n",
       "      <th>198998</th>\n",
       "      <td>99</td>\n",
       "      <td>25.0</td>\n",
       "      <td>298089</td>\n",
       "      <td>105541</td>\n",
       "      <td>0</td>\n",
       "      <td>1</td>\n",
       "      <td>0.504717</td>\n",
       "      <td>0.495283</td>\n",
       "    </tr>\n",
       "    <tr>\n",
       "      <th>198999</th>\n",
       "      <td>99</td>\n",
       "      <td>25.0</td>\n",
       "      <td>298089</td>\n",
       "      <td>105541</td>\n",
       "      <td>1</td>\n",
       "      <td>0</td>\n",
       "      <td>0.775617</td>\n",
       "      <td>0.224383</td>\n",
       "    </tr>\n",
       "  </tbody>\n",
       "</table>\n",
       "<p>199000 rows × 8 columns</p>\n",
       "</div>"
      ],
      "text/plain": [
       "        customer_id   age  postal_code  article_id  sales_channel_id_1  \\\n",
       "0                 0  49.0       112978         159                   0   \n",
       "1                 0  49.0       112978         159                   1   \n",
       "2                 0  49.0       112978         718                   0   \n",
       "3                 0  49.0       112978         718                   1   \n",
       "4                 0  49.0       112978        2106                   0   \n",
       "...             ...   ...          ...         ...                 ...   \n",
       "198995           99  25.0       298089      105535                   1   \n",
       "198996           99  25.0       298089      105540                   0   \n",
       "198997           99  25.0       298089      105540                   1   \n",
       "198998           99  25.0       298089      105541                   0   \n",
       "198999           99  25.0       298089      105541                   1   \n",
       "\n",
       "        sales_channel_id_2  probability_0  probability_1  \n",
       "0                        1       0.338363       0.661637  \n",
       "1                        0       0.369113       0.630887  \n",
       "2                        1       0.379727       0.620273  \n",
       "3                        0       0.503652       0.496348  \n",
       "4                        1       0.379727       0.620273  \n",
       "...                    ...            ...            ...  \n",
       "198995                   0       0.775617       0.224383  \n",
       "198996                   1       0.504717       0.495283  \n",
       "198997                   0       0.775617       0.224383  \n",
       "198998                   1       0.504717       0.495283  \n",
       "198999                   0       0.775617       0.224383  \n",
       "\n",
       "[199000 rows x 8 columns]"
      ]
     },
     "execution_count": 189,
     "metadata": {},
     "output_type": "execute_result"
    }
   ],
   "source": [
    "output_test"
   ]
  },
  {
   "cell_type": "code",
   "execution_count": 190,
   "id": "1bf2b9a2",
   "metadata": {},
   "outputs": [
    {
     "data": {
      "text/html": [
       "<div>\n",
       "<style scoped>\n",
       "    .dataframe tbody tr th:only-of-type {\n",
       "        vertical-align: middle;\n",
       "    }\n",
       "\n",
       "    .dataframe tbody tr th {\n",
       "        vertical-align: top;\n",
       "    }\n",
       "\n",
       "    .dataframe thead th {\n",
       "        text-align: right;\n",
       "    }\n",
       "</style>\n",
       "<table border=\"1\" class=\"dataframe\">\n",
       "  <thead>\n",
       "    <tr style=\"text-align: right;\">\n",
       "      <th></th>\n",
       "      <th>customer_id</th>\n",
       "      <th>age</th>\n",
       "      <th>postal_code</th>\n",
       "      <th>article_id</th>\n",
       "      <th>sales_channel_id_1</th>\n",
       "      <th>sales_channel_id_2</th>\n",
       "      <th>probability_0</th>\n",
       "      <th>probability_1</th>\n",
       "    </tr>\n",
       "  </thead>\n",
       "  <tbody>\n",
       "    <tr>\n",
       "      <th>0</th>\n",
       "      <td>0</td>\n",
       "      <td>49.0</td>\n",
       "      <td>112978</td>\n",
       "      <td>159</td>\n",
       "      <td>0</td>\n",
       "      <td>1</td>\n",
       "      <td>0.338363</td>\n",
       "      <td>0.661637</td>\n",
       "    </tr>\n",
       "    <tr>\n",
       "      <th>120</th>\n",
       "      <td>0</td>\n",
       "      <td>49.0</td>\n",
       "      <td>112978</td>\n",
       "      <td>55062</td>\n",
       "      <td>0</td>\n",
       "      <td>1</td>\n",
       "      <td>0.363310</td>\n",
       "      <td>0.636690</td>\n",
       "    </tr>\n",
       "    <tr>\n",
       "      <th>122</th>\n",
       "      <td>0</td>\n",
       "      <td>49.0</td>\n",
       "      <td>112978</td>\n",
       "      <td>55516</td>\n",
       "      <td>0</td>\n",
       "      <td>1</td>\n",
       "      <td>0.363310</td>\n",
       "      <td>0.636690</td>\n",
       "    </tr>\n",
       "    <tr>\n",
       "      <th>124</th>\n",
       "      <td>0</td>\n",
       "      <td>49.0</td>\n",
       "      <td>112978</td>\n",
       "      <td>56747</td>\n",
       "      <td>0</td>\n",
       "      <td>1</td>\n",
       "      <td>0.363310</td>\n",
       "      <td>0.636690</td>\n",
       "    </tr>\n",
       "    <tr>\n",
       "      <th>126</th>\n",
       "      <td>0</td>\n",
       "      <td>49.0</td>\n",
       "      <td>112978</td>\n",
       "      <td>57792</td>\n",
       "      <td>0</td>\n",
       "      <td>1</td>\n",
       "      <td>0.363310</td>\n",
       "      <td>0.636690</td>\n",
       "    </tr>\n",
       "    <tr>\n",
       "      <th>...</th>\n",
       "      <td>...</td>\n",
       "      <td>...</td>\n",
       "      <td>...</td>\n",
       "      <td>...</td>\n",
       "      <td>...</td>\n",
       "      <td>...</td>\n",
       "      <td>...</td>\n",
       "      <td>...</td>\n",
       "    </tr>\n",
       "    <tr>\n",
       "      <th>197142</th>\n",
       "      <td>99</td>\n",
       "      <td>25.0</td>\n",
       "      <td>298089</td>\n",
       "      <td>59936</td>\n",
       "      <td>0</td>\n",
       "      <td>1</td>\n",
       "      <td>0.327937</td>\n",
       "      <td>0.672063</td>\n",
       "    </tr>\n",
       "    <tr>\n",
       "      <th>197144</th>\n",
       "      <td>99</td>\n",
       "      <td>25.0</td>\n",
       "      <td>298089</td>\n",
       "      <td>60249</td>\n",
       "      <td>0</td>\n",
       "      <td>1</td>\n",
       "      <td>0.327937</td>\n",
       "      <td>0.672063</td>\n",
       "    </tr>\n",
       "    <tr>\n",
       "      <th>197146</th>\n",
       "      <td>99</td>\n",
       "      <td>25.0</td>\n",
       "      <td>298089</td>\n",
       "      <td>60303</td>\n",
       "      <td>0</td>\n",
       "      <td>1</td>\n",
       "      <td>0.327937</td>\n",
       "      <td>0.672063</td>\n",
       "    </tr>\n",
       "    <tr>\n",
       "      <th>197182</th>\n",
       "      <td>99</td>\n",
       "      <td>25.0</td>\n",
       "      <td>298089</td>\n",
       "      <td>67411</td>\n",
       "      <td>0</td>\n",
       "      <td>1</td>\n",
       "      <td>0.342268</td>\n",
       "      <td>0.657732</td>\n",
       "    </tr>\n",
       "    <tr>\n",
       "      <th>197184</th>\n",
       "      <td>99</td>\n",
       "      <td>25.0</td>\n",
       "      <td>298089</td>\n",
       "      <td>67978</td>\n",
       "      <td>0</td>\n",
       "      <td>1</td>\n",
       "      <td>0.342268</td>\n",
       "      <td>0.657732</td>\n",
       "    </tr>\n",
       "  </tbody>\n",
       "</table>\n",
       "<p>1200 rows × 8 columns</p>\n",
       "</div>"
      ],
      "text/plain": [
       "        customer_id   age  postal_code  article_id  sales_channel_id_1  \\\n",
       "0                 0  49.0       112978         159                   0   \n",
       "120               0  49.0       112978       55062                   0   \n",
       "122               0  49.0       112978       55516                   0   \n",
       "124               0  49.0       112978       56747                   0   \n",
       "126               0  49.0       112978       57792                   0   \n",
       "...             ...   ...          ...         ...                 ...   \n",
       "197142           99  25.0       298089       59936                   0   \n",
       "197144           99  25.0       298089       60249                   0   \n",
       "197146           99  25.0       298089       60303                   0   \n",
       "197182           99  25.0       298089       67411                   0   \n",
       "197184           99  25.0       298089       67978                   0   \n",
       "\n",
       "        sales_channel_id_2  probability_0  probability_1  \n",
       "0                        1       0.338363       0.661637  \n",
       "120                      1       0.363310       0.636690  \n",
       "122                      1       0.363310       0.636690  \n",
       "124                      1       0.363310       0.636690  \n",
       "126                      1       0.363310       0.636690  \n",
       "...                    ...            ...            ...  \n",
       "197142                   1       0.327937       0.672063  \n",
       "197144                   1       0.327937       0.672063  \n",
       "197146                   1       0.327937       0.672063  \n",
       "197182                   1       0.342268       0.657732  \n",
       "197184                   1       0.342268       0.657732  \n",
       "\n",
       "[1200 rows x 8 columns]"
      ]
     },
     "execution_count": 190,
     "metadata": {},
     "output_type": "execute_result"
    }
   ],
   "source": [
    "output_test.sort_values(by=[\"customer_id\", \"probability_1\"], ascending=[True, False]).groupby(\"customer_id\").head(12)"
   ]
  },
  {
   "cell_type": "code",
   "execution_count": 215,
   "id": "2f9b7dee",
   "metadata": {},
   "outputs": [],
   "source": [
    "output_test.sort_values(by=[\"customer_id\", \"probability_1\"], ascending=[True, False]).set_index(\"customer_id\").groupby(\"customer_id\")[\"article_id\"].apply(lambda x : \" \".join([str(i) for i in x[:12]])).to_csv(\"./data/test_output.csv\")"
   ]
  },
  {
   "cell_type": "code",
   "execution_count": 195,
   "id": "080dc286",
   "metadata": {},
   "outputs": [
    {
     "name": "stdout",
     "output_type": "stream",
     "text": [
      "acc: 0.6388222720133886\n",
      "null: 0.500201410423481\n"
     ]
    }
   ],
   "source": [
    "y_pred = gbm.predict(X_test, num_iteration=gbm.best_iteration_)\n",
    "# eval\n",
    "from sklearn.metrics import accuracy_score\n",
    "\n",
    "print(\"acc:\", accuracy_score(y_test, y_pred))\n",
    "print(\"null:\", max(y_test.mean(), 1 - y_test.mean()))"
   ]
  },
  {
   "cell_type": "code",
   "execution_count": 113,
   "id": "2e12389f",
   "metadata": {},
   "outputs": [
    {
     "data": {
      "text/plain": [
       "array([[0.30441123, 0.69558877],\n",
       "       [0.30441123, 0.69558877],\n",
       "       [0.30441123, 0.69558877],\n",
       "       ...,\n",
       "       [0.30441123, 0.69558877],\n",
       "       [0.30441123, 0.69558877],\n",
       "       [0.30441123, 0.69558877]])"
      ]
     },
     "execution_count": 113,
     "metadata": {},
     "output_type": "execute_result"
    }
   ],
   "source": [
    "predictions"
   ]
  },
  {
   "cell_type": "code",
   "execution_count": 99,
   "id": "57553913",
   "metadata": {},
   "outputs": [
    {
     "data": {
      "text/plain": [
       "array([1, 1, 1, ..., 1, 1, 1], dtype=int64)"
      ]
     },
     "execution_count": 99,
     "metadata": {},
     "output_type": "execute_result"
    }
   ],
   "source": [
    "gbm.predict(test_input.iloc[:, 0:6], num_iteration=gbm.best_iteration_)"
   ]
  },
  {
   "cell_type": "code",
   "execution_count": 114,
   "id": "d62cef06",
   "metadata": {},
   "outputs": [
    {
     "data": {
      "text/html": [
       "<div>\n",
       "<style scoped>\n",
       "    .dataframe tbody tr th:only-of-type {\n",
       "        vertical-align: middle;\n",
       "    }\n",
       "\n",
       "    .dataframe tbody tr th {\n",
       "        vertical-align: top;\n",
       "    }\n",
       "\n",
       "    .dataframe thead th {\n",
       "        text-align: right;\n",
       "    }\n",
       "</style>\n",
       "<table border=\"1\" class=\"dataframe\">\n",
       "  <thead>\n",
       "    <tr style=\"text-align: right;\">\n",
       "      <th></th>\n",
       "      <th>t_dat</th>\n",
       "      <th>customer_id</th>\n",
       "      <th>article_id</th>\n",
       "      <th>price</th>\n",
       "      <th>sales_channel_id</th>\n",
       "    </tr>\n",
       "  </thead>\n",
       "  <tbody>\n",
       "    <tr>\n",
       "      <th>0</th>\n",
       "      <td>2018-09-20</td>\n",
       "      <td>000058a12d5b43e67d225668fa1f8d618c13dc232df0ca...</td>\n",
       "      <td>663713001</td>\n",
       "      <td>0.050831</td>\n",
       "      <td>2</td>\n",
       "    </tr>\n",
       "    <tr>\n",
       "      <th>1</th>\n",
       "      <td>2018-09-20</td>\n",
       "      <td>000058a12d5b43e67d225668fa1f8d618c13dc232df0ca...</td>\n",
       "      <td>541518023</td>\n",
       "      <td>0.030492</td>\n",
       "      <td>2</td>\n",
       "    </tr>\n",
       "    <tr>\n",
       "      <th>2</th>\n",
       "      <td>2018-09-20</td>\n",
       "      <td>00007d2de826758b65a93dd24ce629ed66842531df6699...</td>\n",
       "      <td>505221004</td>\n",
       "      <td>0.015237</td>\n",
       "      <td>2</td>\n",
       "    </tr>\n",
       "    <tr>\n",
       "      <th>3</th>\n",
       "      <td>2018-09-20</td>\n",
       "      <td>00007d2de826758b65a93dd24ce629ed66842531df6699...</td>\n",
       "      <td>685687003</td>\n",
       "      <td>0.016932</td>\n",
       "      <td>2</td>\n",
       "    </tr>\n",
       "    <tr>\n",
       "      <th>4</th>\n",
       "      <td>2018-09-20</td>\n",
       "      <td>00007d2de826758b65a93dd24ce629ed66842531df6699...</td>\n",
       "      <td>685687004</td>\n",
       "      <td>0.016932</td>\n",
       "      <td>2</td>\n",
       "    </tr>\n",
       "  </tbody>\n",
       "</table>\n",
       "</div>"
      ],
      "text/plain": [
       "        t_dat                                        customer_id  article_id  \\\n",
       "0  2018-09-20  000058a12d5b43e67d225668fa1f8d618c13dc232df0ca...   663713001   \n",
       "1  2018-09-20  000058a12d5b43e67d225668fa1f8d618c13dc232df0ca...   541518023   \n",
       "2  2018-09-20  00007d2de826758b65a93dd24ce629ed66842531df6699...   505221004   \n",
       "3  2018-09-20  00007d2de826758b65a93dd24ce629ed66842531df6699...   685687003   \n",
       "4  2018-09-20  00007d2de826758b65a93dd24ce629ed66842531df6699...   685687004   \n",
       "\n",
       "      price  sales_channel_id  \n",
       "0  0.050831                 2  \n",
       "1  0.030492                 2  \n",
       "2  0.015237                 2  \n",
       "3  0.016932                 2  \n",
       "4  0.016932                 2  "
      ]
     },
     "execution_count": 114,
     "metadata": {},
     "output_type": "execute_result"
    }
   ],
   "source": [
    "original_transactions.head()"
   ]
  },
  {
   "cell_type": "code",
   "execution_count": 141,
   "id": "96d0781f",
   "metadata": {},
   "outputs": [],
   "source": [
    "test = original_transactions.iloc[0].copy()"
   ]
  },
  {
   "cell_type": "code",
   "execution_count": 145,
   "id": "0c0fc720",
   "metadata": {},
   "outputs": [
    {
     "data": {
      "text/plain": [
       "t_dat               2018-09-20\n",
       "customer_id                  2\n",
       "article_id               40179\n",
       "price                 0.050831\n",
       "sales_channel_id             2\n",
       "Name: 0, dtype: object"
      ]
     },
     "execution_count": 145,
     "metadata": {},
     "output_type": "execute_result"
    }
   ],
   "source": [
    "test"
   ]
  },
  {
   "cell_type": "code",
   "execution_count": 143,
   "id": "641c7a24",
   "metadata": {},
   "outputs": [],
   "source": [
    "test[\"customer_id\"] = customer_encoder.transform([test[\"customer_id\"]])[0]"
   ]
  },
  {
   "cell_type": "code",
   "execution_count": 144,
   "id": "32f1efed",
   "metadata": {},
   "outputs": [],
   "source": [
    "test[\"article_id\"] = article_encoder.transform([test[\"article_id\"]])[0]"
   ]
  },
  {
   "cell_type": "code",
   "execution_count": 171,
   "id": "24b10761",
   "metadata": {},
   "outputs": [],
   "source": [
    "test[\"sales_channel_id_1\"] = 0\n",
    "test[\"sales_channel_id_2\"] = 1"
   ]
  },
  {
   "cell_type": "code",
   "execution_count": 172,
   "id": "333c6ab9",
   "metadata": {},
   "outputs": [
    {
     "data": {
      "text/html": [
       "<div>\n",
       "<style scoped>\n",
       "    .dataframe tbody tr th:only-of-type {\n",
       "        vertical-align: middle;\n",
       "    }\n",
       "\n",
       "    .dataframe tbody tr th {\n",
       "        vertical-align: top;\n",
       "    }\n",
       "\n",
       "    .dataframe thead th {\n",
       "        text-align: right;\n",
       "    }\n",
       "</style>\n",
       "<table border=\"1\" class=\"dataframe\">\n",
       "  <thead>\n",
       "    <tr style=\"text-align: right;\">\n",
       "      <th></th>\n",
       "      <th>customer_id</th>\n",
       "      <th>age</th>\n",
       "      <th>postal_code</th>\n",
       "      <th>t_dat</th>\n",
       "      <th>article_id</th>\n",
       "      <th>price</th>\n",
       "      <th>sales_channel_id</th>\n",
       "      <th>sales_channel_id_1</th>\n",
       "      <th>sales_channel_id_2</th>\n",
       "    </tr>\n",
       "  </thead>\n",
       "  <tbody>\n",
       "    <tr>\n",
       "      <th>0</th>\n",
       "      <td>2</td>\n",
       "      <td>24.0</td>\n",
       "      <td>139156</td>\n",
       "      <td>2018-09-20</td>\n",
       "      <td>40179</td>\n",
       "      <td>0.050831</td>\n",
       "      <td>2</td>\n",
       "      <td>0</td>\n",
       "      <td>1</td>\n",
       "    </tr>\n",
       "  </tbody>\n",
       "</table>\n",
       "</div>"
      ],
      "text/plain": [
       "   customer_id   age  postal_code       t_dat  article_id     price  \\\n",
       "0            2  24.0       139156  2018-09-20       40179  0.050831   \n",
       "\n",
       "   sales_channel_id  sales_channel_id_1  sales_channel_id_2  \n",
       "0                 2                   0                   1  "
      ]
     },
     "execution_count": 172,
     "metadata": {},
     "output_type": "execute_result"
    }
   ],
   "source": [
    "customers.loc[:, [\"customer_id\", \"age\", \"postal_code\"]].merge(pd.DataFrame([test]), how=\"inner\", on=[\"customer_id\"])"
   ]
  },
  {
   "cell_type": "code",
   "execution_count": 176,
   "id": "6a8cbfd2",
   "metadata": {},
   "outputs": [
    {
     "data": {
      "text/plain": [
       "array([[0.4121713, 0.5878287]])"
      ]
     },
     "execution_count": 176,
     "metadata": {},
     "output_type": "execute_result"
    }
   ],
   "source": [
    "gbm.predict_proba((customers.loc[:, [\"customer_id\", \"age\", \"postal_code\"]].merge(pd.DataFrame([test]), how=\"inner\", on=[\"customer_id\"]))[[\"customer_id\", \"article_id\", \"sales_channel_id_1\", \"sales_channel_id_2\", \"age\", \"postal_code\"]], num_iteration=gbm.best_iteration_)"
   ]
  },
  {
   "cell_type": "code",
   "execution_count": 167,
   "id": "609e477b",
   "metadata": {},
   "outputs": [
    {
     "data": {
      "text/plain": [
       "array([[0.44837599, 0.55162401],\n",
       "       [0.55952529, 0.44047471],\n",
       "       [0.67486458, 0.32513542],\n",
       "       ...,\n",
       "       [0.41193002, 0.58806998],\n",
       "       [0.32793732, 0.67206268],\n",
       "       [0.60403309, 0.39596691]])"
      ]
     },
     "execution_count": 167,
     "metadata": {},
     "output_type": "execute_result"
    }
   ],
   "source": [
    "gbm.predict_proba(X_test, num_iteration=gbm.best_iteration_)"
   ]
  },
  {
   "cell_type": "code",
   "execution_count": 168,
   "id": "98795aa0",
   "metadata": {},
   "outputs": [
    {
     "data": {
      "text/html": [
       "<div>\n",
       "<style scoped>\n",
       "    .dataframe tbody tr th:only-of-type {\n",
       "        vertical-align: middle;\n",
       "    }\n",
       "\n",
       "    .dataframe tbody tr th {\n",
       "        vertical-align: top;\n",
       "    }\n",
       "\n",
       "    .dataframe thead th {\n",
       "        text-align: right;\n",
       "    }\n",
       "</style>\n",
       "<table border=\"1\" class=\"dataframe\">\n",
       "  <thead>\n",
       "    <tr style=\"text-align: right;\">\n",
       "      <th></th>\n",
       "      <th>customer_id</th>\n",
       "      <th>article_id</th>\n",
       "      <th>sales_channel_id_1</th>\n",
       "      <th>sales_channel_id_2</th>\n",
       "      <th>age</th>\n",
       "      <th>postal_code</th>\n",
       "    </tr>\n",
       "  </thead>\n",
       "  <tbody>\n",
       "    <tr>\n",
       "      <th>23488218</th>\n",
       "      <td>301642</td>\n",
       "      <td>10290</td>\n",
       "      <td>0</td>\n",
       "      <td>1</td>\n",
       "      <td>27.0</td>\n",
       "      <td>106051</td>\n",
       "    </tr>\n",
       "    <tr>\n",
       "      <th>10759766</th>\n",
       "      <td>152611</td>\n",
       "      <td>49595</td>\n",
       "      <td>1</td>\n",
       "      <td>0</td>\n",
       "      <td>50.0</td>\n",
       "      <td>115578</td>\n",
       "    </tr>\n",
       "    <tr>\n",
       "      <th>38409516</th>\n",
       "      <td>1186968</td>\n",
       "      <td>99711</td>\n",
       "      <td>0</td>\n",
       "      <td>1</td>\n",
       "      <td>29.0</td>\n",
       "      <td>61034</td>\n",
       "    </tr>\n",
       "    <tr>\n",
       "      <th>24628014</th>\n",
       "      <td>190384</td>\n",
       "      <td>6011</td>\n",
       "      <td>1</td>\n",
       "      <td>0</td>\n",
       "      <td>27.0</td>\n",
       "      <td>147592</td>\n",
       "    </tr>\n",
       "    <tr>\n",
       "      <th>46965121</th>\n",
       "      <td>1040473</td>\n",
       "      <td>67735</td>\n",
       "      <td>0</td>\n",
       "      <td>1</td>\n",
       "      <td>54.0</td>\n",
       "      <td>230454</td>\n",
       "    </tr>\n",
       "    <tr>\n",
       "      <th>...</th>\n",
       "      <td>...</td>\n",
       "      <td>...</td>\n",
       "      <td>...</td>\n",
       "      <td>...</td>\n",
       "      <td>...</td>\n",
       "      <td>...</td>\n",
       "    </tr>\n",
       "    <tr>\n",
       "      <th>30568173</th>\n",
       "      <td>843573</td>\n",
       "      <td>58880</td>\n",
       "      <td>1</td>\n",
       "      <td>0</td>\n",
       "      <td>47.0</td>\n",
       "      <td>164138</td>\n",
       "    </tr>\n",
       "    <tr>\n",
       "      <th>34746913</th>\n",
       "      <td>1122520</td>\n",
       "      <td>72978</td>\n",
       "      <td>1</td>\n",
       "      <td>0</td>\n",
       "      <td>27.0</td>\n",
       "      <td>125945</td>\n",
       "    </tr>\n",
       "    <tr>\n",
       "      <th>46100043</th>\n",
       "      <td>877043</td>\n",
       "      <td>40342</td>\n",
       "      <td>0</td>\n",
       "      <td>1</td>\n",
       "      <td>55.0</td>\n",
       "      <td>24205</td>\n",
       "    </tr>\n",
       "    <tr>\n",
       "      <th>5582956</th>\n",
       "      <td>1107626</td>\n",
       "      <td>58961</td>\n",
       "      <td>0</td>\n",
       "      <td>1</td>\n",
       "      <td>24.0</td>\n",
       "      <td>133015</td>\n",
       "    </tr>\n",
       "    <tr>\n",
       "      <th>35870758</th>\n",
       "      <td>1162430</td>\n",
       "      <td>90830</td>\n",
       "      <td>1</td>\n",
       "      <td>0</td>\n",
       "      <td>49.0</td>\n",
       "      <td>282985</td>\n",
       "    </tr>\n",
       "  </tbody>\n",
       "</table>\n",
       "<p>6357665 rows × 6 columns</p>\n",
       "</div>"
      ],
      "text/plain": [
       "          customer_id  article_id  sales_channel_id_1  sales_channel_id_2  \\\n",
       "23488218       301642       10290                   0                   1   \n",
       "10759766       152611       49595                   1                   0   \n",
       "38409516      1186968       99711                   0                   1   \n",
       "24628014       190384        6011                   1                   0   \n",
       "46965121      1040473       67735                   0                   1   \n",
       "...               ...         ...                 ...                 ...   \n",
       "30568173       843573       58880                   1                   0   \n",
       "34746913      1122520       72978                   1                   0   \n",
       "46100043       877043       40342                   0                   1   \n",
       "5582956       1107626       58961                   0                   1   \n",
       "35870758      1162430       90830                   1                   0   \n",
       "\n",
       "           age  postal_code  \n",
       "23488218  27.0       106051  \n",
       "10759766  50.0       115578  \n",
       "38409516  29.0        61034  \n",
       "24628014  27.0       147592  \n",
       "46965121  54.0       230454  \n",
       "...        ...          ...  \n",
       "30568173  47.0       164138  \n",
       "34746913  27.0       125945  \n",
       "46100043  55.0        24205  \n",
       "5582956   24.0       133015  \n",
       "35870758  49.0       282985  \n",
       "\n",
       "[6357665 rows x 6 columns]"
      ]
     },
     "execution_count": 168,
     "metadata": {},
     "output_type": "execute_result"
    }
   ],
   "source": [
    "X_test"
   ]
  },
  {
   "cell_type": "code",
   "execution_count": 175,
   "id": "805a9e7b",
   "metadata": {},
   "outputs": [
    {
     "data": {
      "text/plain": [
       "array([[0.30441123, 0.69558877]])"
      ]
     },
     "execution_count": 175,
     "metadata": {},
     "output_type": "execute_result"
    }
   ],
   "source": [
    "gbm.predict_proba([X_test[[\"customer_id\", \"age\", \"postal_code\", \"article_id\", \"sales_channel_id_1\", \"sales_channel_id_2\"]].iloc[0]], num_iteration=gbm.best_iteration_)"
   ]
  }
 ],
 "metadata": {
  "kernelspec": {
   "display_name": "Python 3 (ipykernel)",
   "language": "python",
   "name": "python3"
  },
  "language_info": {
   "codemirror_mode": {
    "name": "ipython",
    "version": 3
   },
   "file_extension": ".py",
   "mimetype": "text/x-python",
   "name": "python",
   "nbconvert_exporter": "python",
   "pygments_lexer": "ipython3",
   "version": "3.9.7"
  }
 },
 "nbformat": 4,
 "nbformat_minor": 5
}
