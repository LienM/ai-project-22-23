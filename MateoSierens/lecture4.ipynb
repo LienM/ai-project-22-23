{
 "cells": [
  {
   "cell_type": "markdown",
   "id": "3a5242aa",
   "metadata": {},
   "source": [
    "# Lecture 4: Algorithms and Hyperparameter tuning"
   ]
  },
  {
   "cell_type": "code",
   "execution_count": 1,
   "id": "9b2cd73b",
   "metadata": {},
   "outputs": [],
   "source": [
    "import numpy as np \n",
    "import pandas as pd\n",
    "import random\n",
    "from sklearn.linear_model import LogisticRegression\n",
    "from sklearn.model_selection import train_test_split\n",
    "from sklearn.metrics import classification_report\n",
    "from sklearn import preprocessing\n",
    "from sklearn.base import BaseEstimator, TransformerMixin"
   ]
  },
  {
   "cell_type": "code",
   "execution_count": 2,
   "id": "c5473af6",
   "metadata": {},
   "outputs": [],
   "source": [
    "transactions = pd.read_csv('../data/transactions_train.csv', dtype={\"article_id\": \"str\"})\n",
    "customers = pd.read_csv('../data/customers.csv')\n",
    "articles = pd.read_csv('../data/articles.csv', dtype={\"article_id\": \"str\"})"
   ]
  },
  {
   "cell_type": "markdown",
   "id": "326c73d1",
   "metadata": {},
   "source": [
    "### MAP @ k\n",
    "Reliable MAP@k function from https://github.com/benhamner/Metrics/blob/master/Python/ml_metrics/average_precision.py, also discussed in the Kaggle discussion stated above."
   ]
  },
  {
   "cell_type": "code",
   "execution_count": 3,
   "id": "2070b168",
   "metadata": {},
   "outputs": [],
   "source": [
    "import numpy as np\n",
    "\n",
    "def apk(actual, predicted, k=10):\n",
    "    \"\"\"\n",
    "    Computes the average precision at k.\n",
    "    This function computes the average prescision at k between two lists of\n",
    "    items.\n",
    "    Parameters\n",
    "    ----------\n",
    "    actual : list\n",
    "             A list of elements that are to be predicted (order doesn't matter)\n",
    "    predicted : list\n",
    "                A list of predicted elements (order does matter)\n",
    "    k : int, optional\n",
    "        The maximum number of predicted elements\n",
    "    Returns\n",
    "    -------\n",
    "    score : double\n",
    "            The average precision at k over the input lists\n",
    "    \"\"\"\n",
    "    if len(predicted)>k:\n",
    "        predicted = predicted[:k]\n",
    "\n",
    "    score = 0.0\n",
    "    num_hits = 0.0\n",
    "\n",
    "    for i,p in enumerate(predicted):\n",
    "        if p in actual and p not in predicted[:i]:\n",
    "            num_hits += 1.0\n",
    "            score += num_hits / (i+1.0)\n",
    "\n",
    "    if not actual:\n",
    "        return 0.0\n",
    "\n",
    "    return score / min(len(actual), k)\n",
    "\n",
    "def mapk(actual, predicted, k=10):\n",
    "    \"\"\"\n",
    "    Computes the mean average precision at k.\n",
    "    This function computes the mean average prescision at k between two lists\n",
    "    of lists of items.\n",
    "    Parameters\n",
    "    ----------\n",
    "    actual : list\n",
    "             A list of lists of elements that are to be predicted \n",
    "             (order doesn't matter in the lists)\n",
    "    predicted : list\n",
    "                A list of lists of predicted elements\n",
    "                (order matters in the lists)\n",
    "    k : int, optional\n",
    "        The maximum number of predicted elements\n",
    "    Returns\n",
    "    -------\n",
    "    score : double\n",
    "            The mean average precision at k over the input lists\n",
    "    \"\"\"\n",
    "    return np.mean([apk(a,p,k) for a,p in zip(actual, predicted)])"
   ]
  },
  {
   "cell_type": "markdown",
   "id": "d90abbd0",
   "metadata": {},
   "source": [
    "## Preprocessing data\n",
    "In the end we need to create predictions for every user. To do this, a lot of data will be needed, more than a random sample. My local machine only has 16 GB of RAM available, and the csv's together already add up to 4+ GB. Loading this in pandas DataFrames only expands this number, because some of the types are not ideal. \n",
    "\n",
    "Besides that, other preprocessing can be done on the data that can be usefull. Instead of finding the best methods myself, one of the top discussions on Kaggle has created a good starting point: https://www.kaggle.com/competitions/h-and-m-personalized-fashion-recommendations/discussion/309220\n",
    "His code is bundled in a repo on GitHub: https://github.com/radekosmulski/personalized_fashion_recs"
   ]
  },
  {
   "cell_type": "markdown",
   "id": "b1b9694d",
   "metadata": {},
   "source": [
    "### Transactions"
   ]
  },
  {
   "cell_type": "code",
   "execution_count": 4,
   "id": "c335fc5b",
   "metadata": {},
   "outputs": [],
   "source": [
    "# https://www.kaggle.com/c/h-and-m-personalized-fashion-recommendations/discussion/308635\n",
    "def customer_hex_id_to_int(series):\n",
    "    return series.str[-16:].apply(hex_id_to_int)\n",
    "\n",
    "def hex_id_to_int(str):\n",
    "    return int(str[-16:], 16)\n",
    "\n",
    "def article_id_str_to_int(series):\n",
    "    return series.astype('int32')\n",
    "\n",
    "def article_id_int_to_str(series):\n",
    "    return '0' + series.astype('str')\n",
    "\n",
    "class Categorize(BaseEstimator, TransformerMixin):\n",
    "    def __init__(self, min_examples=0):\n",
    "        self.min_examples = min_examples\n",
    "        self.categories = []\n",
    "        \n",
    "    def fit(self, X):\n",
    "        for i in range(X.shape[1]):\n",
    "            vc = X.iloc[:, i].value_counts()\n",
    "            self.categories.append(vc[vc > self.min_examples].index.tolist())\n",
    "        return self\n",
    "\n",
    "    def transform(self, X):\n",
    "        data = {X.columns[i]: pd.Categorical(X.iloc[:, i], categories=self.categories[i]).codes for i in range(X.shape[1])}\n",
    "        return pd.DataFrame(data=data)"
   ]
  },
  {
   "cell_type": "code",
   "execution_count": 5,
   "id": "6a400021",
   "metadata": {},
   "outputs": [
    {
     "name": "stdout",
     "output_type": "stream",
     "text": [
      "<class 'pandas.core.frame.DataFrame'>\n",
      "RangeIndex: 31788324 entries, 0 to 31788323\n",
      "Data columns (total 5 columns):\n",
      " #   Column            Dtype  \n",
      "---  ------            -----  \n",
      " 0   t_dat             object \n",
      " 1   customer_id       object \n",
      " 2   article_id        object \n",
      " 3   price             float64\n",
      " 4   sales_channel_id  int64  \n",
      "dtypes: float64(1), int64(1), object(3)\n",
      "memory usage: 8.0 GB\n"
     ]
    }
   ],
   "source": [
    "transactions.info(memory_usage='deep')"
   ]
  },
  {
   "cell_type": "code",
   "execution_count": 6,
   "id": "ee5d287d",
   "metadata": {},
   "outputs": [
    {
     "name": "stdout",
     "output_type": "stream",
     "text": [
      "<class 'pandas.core.frame.DataFrame'>\n",
      "RangeIndex: 31788324 entries, 0 to 31788323\n",
      "Data columns (total 6 columns):\n",
      " #   Column            Dtype         \n",
      "---  ------            -----         \n",
      " 0   t_dat             datetime64[ns]\n",
      " 1   customer_id       uint64        \n",
      " 2   article_id        int32         \n",
      " 3   price             float32       \n",
      " 4   sales_channel_id  int8          \n",
      " 5   week              int8          \n",
      "dtypes: datetime64[ns](1), float32(1), int32(1), int8(2), uint64(1)\n",
      "memory usage: 788.2 MB\n"
     ]
    }
   ],
   "source": [
    "# transform customer ids to ints\n",
    "transactions['customer_id'] = customer_hex_id_to_int(transactions['customer_id'])\n",
    "\n",
    "# read transaction dates as datetime format, add column that describes week\n",
    "transactions.t_dat = pd.to_datetime(transactions.t_dat, format='%Y-%m-%d')\n",
    "transactions['week'] = 104 - (transactions.t_dat.max() - transactions.t_dat).dt.days // 7\n",
    "\n",
    "# article ids stored as int\n",
    "transactions.article_id = article_id_str_to_int(transactions.article_id)\n",
    "articles.article_id = article_id_str_to_int(articles.article_id)\n",
    "\n",
    "# store other columns in smaller datatypes\n",
    "transactions.week = transactions.week.astype('int8')\n",
    "transactions.sales_channel_id = transactions.sales_channel_id.astype('int8')\n",
    "transactions.price = transactions.price.astype('float32')\n",
    "\n",
    "transactions.info(memory_usage='deep')"
   ]
  },
  {
   "cell_type": "markdown",
   "id": "6e3e4977",
   "metadata": {},
   "source": [
    "### Customers"
   ]
  },
  {
   "cell_type": "code",
   "execution_count": 7,
   "id": "cc5c0fd0",
   "metadata": {},
   "outputs": [
    {
     "name": "stdout",
     "output_type": "stream",
     "text": [
      "<class 'pandas.core.frame.DataFrame'>\n",
      "RangeIndex: 1371980 entries, 0 to 1371979\n",
      "Data columns (total 7 columns):\n",
      " #   Column                  Non-Null Count    Dtype  \n",
      "---  ------                  --------------    -----  \n",
      " 0   customer_id             1371980 non-null  object \n",
      " 1   FN                      476930 non-null   float64\n",
      " 2   Active                  464404 non-null   float64\n",
      " 3   club_member_status      1365918 non-null  object \n",
      " 4   fashion_news_frequency  1355971 non-null  object \n",
      " 5   age                     1356119 non-null  float64\n",
      " 6   postal_code             1371980 non-null  object \n",
      "dtypes: float64(3), object(4)\n",
      "memory usage: 512.3 MB\n"
     ]
    }
   ],
   "source": [
    "customers.info(memory_usage='deep')"
   ]
  },
  {
   "cell_type": "code",
   "execution_count": 8,
   "id": "f7c6ac58",
   "metadata": {},
   "outputs": [],
   "source": [
    "# customer ids as int\n",
    "customers.customer_id = customer_hex_id_to_int(customers.customer_id)\n",
    "\n",
    "# fill columns that have NaN entries, store the values in small ints\n",
    "for col in ['FN', 'Active', 'age']:\n",
    "    customers[col].fillna(-1, inplace=True)\n",
    "    customers[col] = customers[col].astype('int8')"
   ]
  },
  {
   "cell_type": "code",
   "execution_count": 9,
   "id": "95362d75",
   "metadata": {},
   "outputs": [],
   "source": [
    "# transform objects to integer value\n",
    "customers.club_member_status = Categorize().fit_transform(customers[['club_member_status']]).club_member_status\n",
    "customers.postal_code = Categorize().fit_transform(customers[['postal_code']]).postal_code\n",
    "customers.fashion_news_frequency = Categorize().fit_transform(customers[['fashion_news_frequency']]).fashion_news_frequency"
   ]
  },
  {
   "cell_type": "code",
   "execution_count": 10,
   "id": "3b910a34",
   "metadata": {},
   "outputs": [
    {
     "name": "stdout",
     "output_type": "stream",
     "text": [
      "<class 'pandas.core.frame.DataFrame'>\n",
      "RangeIndex: 1371980 entries, 0 to 1371979\n",
      "Data columns (total 7 columns):\n",
      " #   Column                  Non-Null Count    Dtype \n",
      "---  ------                  --------------    ----- \n",
      " 0   customer_id             1371980 non-null  uint64\n",
      " 1   FN                      1371980 non-null  int8  \n",
      " 2   Active                  1371980 non-null  int8  \n",
      " 3   club_member_status      1371980 non-null  int8  \n",
      " 4   fashion_news_frequency  1371980 non-null  int8  \n",
      " 5   age                     1371980 non-null  int8  \n",
      " 6   postal_code             1371980 non-null  int32 \n",
      "dtypes: int32(1), int8(5), uint64(1)\n",
      "memory usage: 22.2 MB\n"
     ]
    }
   ],
   "source": [
    "customers.info(memory_usage='deep')"
   ]
  },
  {
   "cell_type": "markdown",
   "id": "fedc7cbc",
   "metadata": {},
   "source": [
    "### Articles"
   ]
  },
  {
   "cell_type": "code",
   "execution_count": 11,
   "id": "8dcdeb6b",
   "metadata": {},
   "outputs": [
    {
     "name": "stdout",
     "output_type": "stream",
     "text": [
      "<class 'pandas.core.frame.DataFrame'>\n",
      "RangeIndex: 105542 entries, 0 to 105541\n",
      "Data columns (total 25 columns):\n",
      " #   Column                        Non-Null Count   Dtype \n",
      "---  ------                        --------------   ----- \n",
      " 0   article_id                    105542 non-null  int32 \n",
      " 1   product_code                  105542 non-null  int64 \n",
      " 2   prod_name                     105542 non-null  object\n",
      " 3   product_type_no               105542 non-null  int64 \n",
      " 4   product_type_name             105542 non-null  object\n",
      " 5   product_group_name            105542 non-null  object\n",
      " 6   graphical_appearance_no       105542 non-null  int64 \n",
      " 7   graphical_appearance_name     105542 non-null  object\n",
      " 8   colour_group_code             105542 non-null  int64 \n",
      " 9   colour_group_name             105542 non-null  object\n",
      " 10  perceived_colour_value_id     105542 non-null  int64 \n",
      " 11  perceived_colour_value_name   105542 non-null  object\n",
      " 12  perceived_colour_master_id    105542 non-null  int64 \n",
      " 13  perceived_colour_master_name  105542 non-null  object\n",
      " 14  department_no                 105542 non-null  int64 \n",
      " 15  department_name               105542 non-null  object\n",
      " 16  index_code                    105542 non-null  object\n",
      " 17  index_name                    105542 non-null  object\n",
      " 18  index_group_no                105542 non-null  int64 \n",
      " 19  index_group_name              105542 non-null  object\n",
      " 20  section_no                    105542 non-null  int64 \n",
      " 21  section_name                  105542 non-null  object\n",
      " 22  garment_group_no              105542 non-null  int64 \n",
      " 23  garment_group_name            105542 non-null  object\n",
      " 24  detail_desc                   105126 non-null  object\n",
      "dtypes: int32(1), int64(10), object(14)\n",
      "memory usage: 117.2 MB\n"
     ]
    }
   ],
   "source": [
    "articles.info(memory_usage='deep')"
   ]
  },
  {
   "cell_type": "code",
   "execution_count": 12,
   "id": "0a4dc27b",
   "metadata": {},
   "outputs": [],
   "source": [
    "# convert columns that have object dtype to int using categorizer\n",
    "for col in articles.columns:\n",
    "    if articles[col].dtype == 'object':\n",
    "        articles[col] = Categorize().fit_transform(articles[[col]])[col]"
   ]
  },
  {
   "cell_type": "code",
   "execution_count": 13,
   "id": "f8ceed1e",
   "metadata": {},
   "outputs": [],
   "source": [
    "# smaller ints can be used as well\n",
    "for col in articles.columns:\n",
    "    if articles[col].dtype == 'int64':\n",
    "        articles[col] = articles[col].astype('int32')"
   ]
  },
  {
   "cell_type": "code",
   "execution_count": 14,
   "id": "91587f62",
   "metadata": {},
   "outputs": [
    {
     "name": "stdout",
     "output_type": "stream",
     "text": [
      "<class 'pandas.core.frame.DataFrame'>\n",
      "RangeIndex: 105542 entries, 0 to 105541\n",
      "Data columns (total 25 columns):\n",
      " #   Column                        Non-Null Count   Dtype\n",
      "---  ------                        --------------   -----\n",
      " 0   article_id                    105542 non-null  int32\n",
      " 1   product_code                  105542 non-null  int32\n",
      " 2   prod_name                     105542 non-null  int32\n",
      " 3   product_type_no               105542 non-null  int32\n",
      " 4   product_type_name             105542 non-null  int16\n",
      " 5   product_group_name            105542 non-null  int8 \n",
      " 6   graphical_appearance_no       105542 non-null  int32\n",
      " 7   graphical_appearance_name     105542 non-null  int8 \n",
      " 8   colour_group_code             105542 non-null  int32\n",
      " 9   colour_group_name             105542 non-null  int8 \n",
      " 10  perceived_colour_value_id     105542 non-null  int32\n",
      " 11  perceived_colour_value_name   105542 non-null  int8 \n",
      " 12  perceived_colour_master_id    105542 non-null  int32\n",
      " 13  perceived_colour_master_name  105542 non-null  int8 \n",
      " 14  department_no                 105542 non-null  int32\n",
      " 15  department_name               105542 non-null  int16\n",
      " 16  index_code                    105542 non-null  int8 \n",
      " 17  index_name                    105542 non-null  int8 \n",
      " 18  index_group_no                105542 non-null  int32\n",
      " 19  index_group_name              105542 non-null  int8 \n",
      " 20  section_no                    105542 non-null  int32\n",
      " 21  section_name                  105542 non-null  int8 \n",
      " 22  garment_group_no              105542 non-null  int32\n",
      " 23  garment_group_name            105542 non-null  int8 \n",
      " 24  detail_desc                   105542 non-null  int32\n",
      "dtypes: int16(2), int32(13), int8(10)\n",
      "memory usage: 6.6 MB\n"
     ]
    }
   ],
   "source": [
    "articles.info(memory_usage=\"deep\")"
   ]
  },
  {
   "cell_type": "markdown",
   "id": "5a3543b9",
   "metadata": {},
   "source": [
    "## Saving preprocessed data"
   ]
  },
  {
   "cell_type": "code",
   "execution_count": 15,
   "id": "178e2e8a",
   "metadata": {},
   "outputs": [],
   "source": [
    "transactions.sort_values(['t_dat', 'customer_id'], inplace=True)"
   ]
  },
  {
   "cell_type": "code",
   "execution_count": 16,
   "id": "ae0695b0",
   "metadata": {},
   "outputs": [
    {
     "name": "stdout",
     "output_type": "stream",
     "text": [
      "<class 'pandas.core.frame.DataFrame'>\n",
      "Int64Index: 31788324 entries, 25784 to 31780475\n",
      "Data columns (total 6 columns):\n",
      " #   Column            Dtype         \n",
      "---  ------            -----         \n",
      " 0   t_dat             datetime64[ns]\n",
      " 1   customer_id       uint64        \n",
      " 2   article_id        int32         \n",
      " 3   price             float32       \n",
      " 4   sales_channel_id  int8          \n",
      " 5   week              int8          \n",
      "dtypes: datetime64[ns](1), float32(1), int32(1), int8(2), uint64(1)\n",
      "memory usage: 1.0 GB\n"
     ]
    }
   ],
   "source": [
    "transactions.info()"
   ]
  },
  {
   "cell_type": "markdown",
   "id": "1fa3ebc2",
   "metadata": {},
   "source": [
    "Parquet is a column oriented file format for efficient storage and retrieval: https://parquet.apache.org/"
   ]
  },
  {
   "cell_type": "code",
   "execution_count": 17,
   "id": "65aee3e1",
   "metadata": {},
   "outputs": [],
   "source": [
    "transactions.to_parquet('../data/transactions_train.parquet')\n",
    "customers.to_parquet('../data/customers.parquet')\n",
    "articles.to_parquet('../data/articles.parquet')"
   ]
  },
  {
   "cell_type": "markdown",
   "id": "d23dce7e",
   "metadata": {},
   "source": [
    "For experimenting it is faster and easier to just use a sample."
   ]
  },
  {
   "cell_type": "code",
   "execution_count": 18,
   "id": "63ecf13d",
   "metadata": {},
   "outputs": [],
   "source": [
    "sample = 0.05\n",
    "customers_sample = customers.sample(frac=sample, replace=False)\n",
    "customers_sample_ids = set(customers_sample['customer_id'])\n",
    "transactions_sample = transactions[transactions[\"customer_id\"].isin(customers_sample_ids)]\n",
    "articles_sample_ids = set(transactions_sample[\"article_id\"])\n",
    "articles_sample = articles[articles[\"article_id\"].isin(articles_sample_ids)]\n",
    "\n",
    "customers_sample.to_parquet(f'../data/customers_sample_{sample}.parquet', index=False)\n",
    "transactions_sample.to_parquet(f'../data/transactions_train_sample_{sample}.parquet', index=False)\n",
    "articles_sample.to_parquet(f'../data/articles_train_sample_{sample}.parquet', index=False)"
   ]
  },
  {
   "cell_type": "markdown",
   "id": "d8ec0738",
   "metadata": {},
   "source": [
    "## First experiment\n",
    "The first experiment will be very basic, it will only look at popularity and use random negative samples."
   ]
  },
  {
   "cell_type": "code",
   "execution_count": 19,
   "id": "59463415",
   "metadata": {},
   "outputs": [],
   "source": [
    "# load compressed tables from parquet files\n",
    "transactions = pd.read_parquet('../data/transactions_train.parquet')\n",
    "customers = pd.read_parquet('../data/customers.parquet')\n",
    "articles = pd.read_parquet('../data/articles.parquet')"
   ]
  },
  {
   "cell_type": "code",
   "execution_count": 20,
   "id": "ae24a96e",
   "metadata": {},
   "outputs": [],
   "source": [
    "# use last 8 weeks (+- 2 months) as data\n",
    "transactions = transactions[transactions.week > transactions.week.max() - 8]"
   ]
  },
  {
   "cell_type": "markdown",
   "id": "381ac7cc",
   "metadata": {},
   "source": [
    "### Generate negative samples"
   ]
  },
  {
   "cell_type": "code",
   "execution_count": 21,
   "id": "7cdf43a5",
   "metadata": {},
   "outputs": [],
   "source": [
    "transactions['ordered'] = 1\n",
    "\n",
    "# drop weeks, add them again after negative sampling\n",
    "transactions = transactions.drop(columns=\"week\").reindex()"
   ]
  },
  {
   "cell_type": "code",
   "execution_count": 22,
   "id": "f5aad14f",
   "metadata": {},
   "outputs": [],
   "source": [
    "positive_pairs = list(map(tuple, transactions[['customer_id', 'article_id']].drop_duplicates().values))"
   ]
  },
  {
   "cell_type": "code",
   "execution_count": 23,
   "id": "014c33bf",
   "metadata": {},
   "outputs": [],
   "source": [
    "real_dates = transactions[\"t_dat\"].unique()\n",
    "real_customers = transactions[\"customer_id\"].unique()\n",
    "real_articles = transactions[\"article_id\"].unique()\n",
    "real_channels = transactions[\"sales_channel_id\"].unique()\n",
    "article_and_price = transactions[[\"article_id\",\"price\"]].drop_duplicates(\"article_id\").set_index(\"article_id\").squeeze()"
   ]
  },
  {
   "cell_type": "code",
   "execution_count": 24,
   "id": "0c38a066",
   "metadata": {},
   "outputs": [
    {
     "name": "stdout",
     "output_type": "stream",
     "text": [
      "2173875\n"
     ]
    }
   ],
   "source": [
    "num_neg_pos = transactions.shape[0]\n",
    "print(num_neg_pos)"
   ]
  },
  {
   "cell_type": "code",
   "execution_count": 25,
   "id": "b3a41d9c",
   "metadata": {},
   "outputs": [],
   "source": [
    "# Sampling negatives by selecting random users, articles, dates and sales channel:\n",
    "# Note: This is quite naive. Some articles may not even have been available at the date we are sampling.\n",
    "random.seed(42)\n",
    "\n",
    "# Afterwards, we need to remove potential duplicates, so we'll sample too many.\n",
    "num_neg_samples = int(num_neg_pos * 1.1)\n",
    "\n",
    "# Sample each of the independent attributes.\n",
    "neg_dates = np.random.choice(real_dates, size=num_neg_samples)\n",
    "neg_articles = np.random.choice(real_articles, size=num_neg_samples)\n",
    "neg_customers = np.random.choice(real_customers, size=num_neg_samples)\n",
    "neg_channels = np.random.choice(real_channels, size=num_neg_samples)\n",
    "ordered = np.array([0] * num_neg_samples)\n",
    "# Assign to every article a real price.\n",
    "neg_prices = article_and_price[neg_articles].values"
   ]
  },
  {
   "cell_type": "code",
   "execution_count": 26,
   "id": "cd9da419",
   "metadata": {},
   "outputs": [],
   "source": [
    "neg_transactions = pd.DataFrame([neg_dates, neg_customers, neg_articles, neg_prices, neg_channels, ordered], index=transactions.columns).T"
   ]
  },
  {
   "cell_type": "code",
   "execution_count": 27,
   "id": "28c0c63d",
   "metadata": {
    "scrolled": true
   },
   "outputs": [],
   "source": [
    "# Remove random negative samples that actually coincide with positives\n",
    "df = neg_transactions[\n",
    "    ~neg_transactions.set_index([\"customer_id\", \"article_id\"]).index.isin(positive_pairs)\n",
    "]\n",
    "\n",
    "# Remove any excess\n",
    "chosen_neg_transactions = df.sample(num_neg_pos)"
   ]
  },
  {
   "cell_type": "code",
   "execution_count": 28,
   "id": "294a8bdf",
   "metadata": {},
   "outputs": [],
   "source": [
    "transactions = pd.concat([transactions, chosen_neg_transactions])\n",
    "transactions = transactions.merge(customers, how=\"inner\", on='customer_id')\n",
    "transactions = transactions.merge(articles, how=\"inner\", on='article_id')"
   ]
  },
  {
   "cell_type": "code",
   "execution_count": 29,
   "id": "1870d96c",
   "metadata": {},
   "outputs": [],
   "source": [
    "# reinstall weeks\n",
    "transactions['week'] = 104 - (transactions.t_dat.max() - transactions.t_dat).dt.days // 7"
   ]
  },
  {
   "cell_type": "code",
   "execution_count": 30,
   "id": "a258199c",
   "metadata": {},
   "outputs": [],
   "source": [
    "# last week in transactions as validation\n",
    "test_week = transactions.week.max()"
   ]
  },
  {
   "cell_type": "code",
   "execution_count": 31,
   "id": "103877e7",
   "metadata": {},
   "outputs": [
    {
     "data": {
      "text/plain": [
       "False"
      ]
     },
     "execution_count": 31,
     "metadata": {},
     "output_type": "execute_result"
    }
   ],
   "source": [
    "transactions.isnull().values.any()"
   ]
  },
  {
   "cell_type": "markdown",
   "id": "b701e36e",
   "metadata": {},
   "source": [
    "## Adding popularity"
   ]
  },
  {
   "cell_type": "code",
   "execution_count": 32,
   "id": "59483014",
   "metadata": {},
   "outputs": [],
   "source": [
    "sales = transactions[transactions[\"ordered\"] == 1]\n",
    "sales = sales[\"article_id\"].value_counts().rename_axis(\"article_id\").reset_index(name=\"sales\")"
   ]
  },
  {
   "cell_type": "code",
   "execution_count": 33,
   "id": "20b18718",
   "metadata": {},
   "outputs": [
    {
     "data": {
      "text/html": [
       "<div>\n",
       "<style scoped>\n",
       "    .dataframe tbody tr th:only-of-type {\n",
       "        vertical-align: middle;\n",
       "    }\n",
       "\n",
       "    .dataframe tbody tr th {\n",
       "        vertical-align: top;\n",
       "    }\n",
       "\n",
       "    .dataframe thead th {\n",
       "        text-align: right;\n",
       "    }\n",
       "</style>\n",
       "<table border=\"1\" class=\"dataframe\">\n",
       "  <thead>\n",
       "    <tr style=\"text-align: right;\">\n",
       "      <th></th>\n",
       "      <th>article_id</th>\n",
       "      <th>sales</th>\n",
       "    </tr>\n",
       "  </thead>\n",
       "  <tbody>\n",
       "    <tr>\n",
       "      <th>0</th>\n",
       "      <td>751471001</td>\n",
       "      <td>4223</td>\n",
       "    </tr>\n",
       "    <tr>\n",
       "      <th>1</th>\n",
       "      <td>706016001</td>\n",
       "      <td>3719</td>\n",
       "    </tr>\n",
       "    <tr>\n",
       "      <th>2</th>\n",
       "      <td>918292001</td>\n",
       "      <td>3681</td>\n",
       "    </tr>\n",
       "    <tr>\n",
       "      <th>3</th>\n",
       "      <td>448509014</td>\n",
       "      <td>3035</td>\n",
       "    </tr>\n",
       "    <tr>\n",
       "      <th>4</th>\n",
       "      <td>751471043</td>\n",
       "      <td>2939</td>\n",
       "    </tr>\n",
       "  </tbody>\n",
       "</table>\n",
       "</div>"
      ],
      "text/plain": [
       "   article_id  sales\n",
       "0   751471001   4223\n",
       "1   706016001   3719\n",
       "2   918292001   3681\n",
       "3   448509014   3035\n",
       "4   751471043   2939"
      ]
     },
     "execution_count": 33,
     "metadata": {},
     "output_type": "execute_result"
    }
   ],
   "source": [
    "sales.head()"
   ]
  },
  {
   "cell_type": "code",
   "execution_count": 34,
   "id": "d51aab23",
   "metadata": {},
   "outputs": [
    {
     "data": {
      "text/html": [
       "<div>\n",
       "<style scoped>\n",
       "    .dataframe tbody tr th:only-of-type {\n",
       "        vertical-align: middle;\n",
       "    }\n",
       "\n",
       "    .dataframe tbody tr th {\n",
       "        vertical-align: top;\n",
       "    }\n",
       "\n",
       "    .dataframe thead th {\n",
       "        text-align: right;\n",
       "    }\n",
       "</style>\n",
       "<table border=\"1\" class=\"dataframe\">\n",
       "  <thead>\n",
       "    <tr style=\"text-align: right;\">\n",
       "      <th></th>\n",
       "      <th>t_dat</th>\n",
       "      <th>customer_id</th>\n",
       "      <th>article_id</th>\n",
       "      <th>price</th>\n",
       "      <th>sales_channel_id</th>\n",
       "      <th>ordered</th>\n",
       "      <th>FN</th>\n",
       "      <th>Active</th>\n",
       "      <th>club_member_status</th>\n",
       "      <th>fashion_news_frequency</th>\n",
       "      <th>...</th>\n",
       "      <th>index_name</th>\n",
       "      <th>index_group_no</th>\n",
       "      <th>index_group_name</th>\n",
       "      <th>section_no</th>\n",
       "      <th>section_name</th>\n",
       "      <th>garment_group_no</th>\n",
       "      <th>garment_group_name</th>\n",
       "      <th>detail_desc</th>\n",
       "      <th>week</th>\n",
       "      <th>sales</th>\n",
       "    </tr>\n",
       "  </thead>\n",
       "  <tbody>\n",
       "    <tr>\n",
       "      <th>0</th>\n",
       "      <td>2020-07-29</td>\n",
       "      <td>1152192358796555</td>\n",
       "      <td>720125042</td>\n",
       "      <td>0.018627</td>\n",
       "      <td>1</td>\n",
       "      <td>1</td>\n",
       "      <td>-1</td>\n",
       "      <td>-1</td>\n",
       "      <td>0</td>\n",
       "      <td>0</td>\n",
       "      <td>...</td>\n",
       "      <td>9</td>\n",
       "      <td>26</td>\n",
       "      <td>4</td>\n",
       "      <td>5</td>\n",
       "      <td>21</td>\n",
       "      <td>1005</td>\n",
       "      <td>0</td>\n",
       "      <td>313</td>\n",
       "      <td>97</td>\n",
       "      <td>274</td>\n",
       "    </tr>\n",
       "    <tr>\n",
       "      <th>1</th>\n",
       "      <td>2020-08-01</td>\n",
       "      <td>110467586107431407</td>\n",
       "      <td>720125042</td>\n",
       "      <td>0.018627</td>\n",
       "      <td>1</td>\n",
       "      <td>1</td>\n",
       "      <td>-1</td>\n",
       "      <td>-1</td>\n",
       "      <td>0</td>\n",
       "      <td>0</td>\n",
       "      <td>...</td>\n",
       "      <td>9</td>\n",
       "      <td>26</td>\n",
       "      <td>4</td>\n",
       "      <td>5</td>\n",
       "      <td>21</td>\n",
       "      <td>1005</td>\n",
       "      <td>0</td>\n",
       "      <td>313</td>\n",
       "      <td>97</td>\n",
       "      <td>274</td>\n",
       "    </tr>\n",
       "    <tr>\n",
       "      <th>2</th>\n",
       "      <td>2020-07-29</td>\n",
       "      <td>165750356110826866</td>\n",
       "      <td>720125042</td>\n",
       "      <td>0.018627</td>\n",
       "      <td>1</td>\n",
       "      <td>1</td>\n",
       "      <td>1</td>\n",
       "      <td>1</td>\n",
       "      <td>0</td>\n",
       "      <td>1</td>\n",
       "      <td>...</td>\n",
       "      <td>9</td>\n",
       "      <td>26</td>\n",
       "      <td>4</td>\n",
       "      <td>5</td>\n",
       "      <td>21</td>\n",
       "      <td>1005</td>\n",
       "      <td>0</td>\n",
       "      <td>313</td>\n",
       "      <td>97</td>\n",
       "      <td>274</td>\n",
       "    </tr>\n",
       "    <tr>\n",
       "      <th>3</th>\n",
       "      <td>2020-07-29</td>\n",
       "      <td>506862778488049559</td>\n",
       "      <td>720125042</td>\n",
       "      <td>0.017712</td>\n",
       "      <td>1</td>\n",
       "      <td>1</td>\n",
       "      <td>1</td>\n",
       "      <td>1</td>\n",
       "      <td>0</td>\n",
       "      <td>1</td>\n",
       "      <td>...</td>\n",
       "      <td>9</td>\n",
       "      <td>26</td>\n",
       "      <td>4</td>\n",
       "      <td>5</td>\n",
       "      <td>21</td>\n",
       "      <td>1005</td>\n",
       "      <td>0</td>\n",
       "      <td>313</td>\n",
       "      <td>97</td>\n",
       "      <td>274</td>\n",
       "    </tr>\n",
       "    <tr>\n",
       "      <th>4</th>\n",
       "      <td>2020-08-01</td>\n",
       "      <td>1477115507390776780</td>\n",
       "      <td>720125042</td>\n",
       "      <td>0.018627</td>\n",
       "      <td>1</td>\n",
       "      <td>1</td>\n",
       "      <td>1</td>\n",
       "      <td>1</td>\n",
       "      <td>0</td>\n",
       "      <td>1</td>\n",
       "      <td>...</td>\n",
       "      <td>9</td>\n",
       "      <td>26</td>\n",
       "      <td>4</td>\n",
       "      <td>5</td>\n",
       "      <td>21</td>\n",
       "      <td>1005</td>\n",
       "      <td>0</td>\n",
       "      <td>313</td>\n",
       "      <td>97</td>\n",
       "      <td>274</td>\n",
       "    </tr>\n",
       "  </tbody>\n",
       "</table>\n",
       "<p>5 rows × 38 columns</p>\n",
       "</div>"
      ],
      "text/plain": [
       "       t_dat          customer_id article_id     price sales_channel_id  \\\n",
       "0 2020-07-29     1152192358796555  720125042  0.018627                1   \n",
       "1 2020-08-01   110467586107431407  720125042  0.018627                1   \n",
       "2 2020-07-29   165750356110826866  720125042  0.018627                1   \n",
       "3 2020-07-29   506862778488049559  720125042  0.017712                1   \n",
       "4 2020-08-01  1477115507390776780  720125042  0.018627                1   \n",
       "\n",
       "  ordered  FN  Active  club_member_status  fashion_news_frequency  ...  \\\n",
       "0       1  -1      -1                   0                       0  ...   \n",
       "1       1  -1      -1                   0                       0  ...   \n",
       "2       1   1       1                   0                       1  ...   \n",
       "3       1   1       1                   0                       1  ...   \n",
       "4       1   1       1                   0                       1  ...   \n",
       "\n",
       "   index_name  index_group_no  index_group_name  section_no  section_name  \\\n",
       "0           9              26                 4           5            21   \n",
       "1           9              26                 4           5            21   \n",
       "2           9              26                 4           5            21   \n",
       "3           9              26                 4           5            21   \n",
       "4           9              26                 4           5            21   \n",
       "\n",
       "   garment_group_no  garment_group_name  detail_desc  week  sales  \n",
       "0              1005                   0          313    97    274  \n",
       "1              1005                   0          313    97    274  \n",
       "2              1005                   0          313    97    274  \n",
       "3              1005                   0          313    97    274  \n",
       "4              1005                   0          313    97    274  \n",
       "\n",
       "[5 rows x 38 columns]"
      ]
     },
     "execution_count": 34,
     "metadata": {},
     "output_type": "execute_result"
    }
   ],
   "source": [
    "transactions = transactions.merge(sales, how=\"inner\", on='article_id')\n",
    "transactions.head()"
   ]
  },
  {
   "cell_type": "code",
   "execution_count": 35,
   "id": "798bdd8d",
   "metadata": {},
   "outputs": [
    {
     "name": "stdout",
     "output_type": "stream",
     "text": [
      "<class 'pandas.core.frame.DataFrame'>\n",
      "Int64Index: 4347750 entries, 0 to 4347749\n",
      "Data columns (total 38 columns):\n",
      " #   Column                        Dtype         \n",
      "---  ------                        -----         \n",
      " 0   t_dat                         datetime64[ns]\n",
      " 1   customer_id                   object        \n",
      " 2   article_id                    object        \n",
      " 3   price                         object        \n",
      " 4   sales_channel_id              object        \n",
      " 5   ordered                       object        \n",
      " 6   FN                            int8          \n",
      " 7   Active                        int8          \n",
      " 8   club_member_status            int8          \n",
      " 9   fashion_news_frequency        int8          \n",
      " 10  age                           int8          \n",
      " 11  postal_code                   int32         \n",
      " 12  product_code                  int32         \n",
      " 13  prod_name                     int32         \n",
      " 14  product_type_no               int32         \n",
      " 15  product_type_name             int16         \n",
      " 16  product_group_name            int8          \n",
      " 17  graphical_appearance_no       int32         \n",
      " 18  graphical_appearance_name     int8          \n",
      " 19  colour_group_code             int32         \n",
      " 20  colour_group_name             int8          \n",
      " 21  perceived_colour_value_id     int32         \n",
      " 22  perceived_colour_value_name   int8          \n",
      " 23  perceived_colour_master_id    int32         \n",
      " 24  perceived_colour_master_name  int8          \n",
      " 25  department_no                 int32         \n",
      " 26  department_name               int16         \n",
      " 27  index_code                    int8          \n",
      " 28  index_name                    int8          \n",
      " 29  index_group_no                int32         \n",
      " 30  index_group_name              int8          \n",
      " 31  section_no                    int32         \n",
      " 32  section_name                  int8          \n",
      " 33  garment_group_no              int32         \n",
      " 34  garment_group_name            int8          \n",
      " 35  detail_desc                   int32         \n",
      " 36  week                          int64         \n",
      " 37  sales                         int64         \n",
      "dtypes: datetime64[ns](1), int16(2), int32(13), int64(2), int8(15), object(5)\n",
      "memory usage: 592.9+ MB\n"
     ]
    }
   ],
   "source": [
    "transactions.info()"
   ]
  },
  {
   "cell_type": "markdown",
   "id": "d836624c",
   "metadata": {},
   "source": [
    "We need to recast the dtypes for the first columns"
   ]
  },
  {
   "cell_type": "code",
   "execution_count": 36,
   "id": "a1fa6ccb",
   "metadata": {
    "scrolled": false
   },
   "outputs": [],
   "source": [
    "# article ids stored as int\n",
    "transactions.article_id = article_id_str_to_int(transactions.article_id)\n",
    "transactions.ordered = transactions.ordered.astype('int8')\n",
    "\n",
    "# store other columns in smaller datatypes\n",
    "transactions.week = transactions.week.astype('int8')\n",
    "transactions.sales_channel_id = transactions.sales_channel_id.astype('int8')\n",
    "transactions.price = transactions.price.astype('float32')"
   ]
  },
  {
   "cell_type": "code",
   "execution_count": 37,
   "id": "161ceb56",
   "metadata": {
    "scrolled": true
   },
   "outputs": [
    {
     "name": "stdout",
     "output_type": "stream",
     "text": [
      "<class 'pandas.core.frame.DataFrame'>\n",
      "Int64Index: 4347750 entries, 0 to 4347749\n",
      "Data columns (total 38 columns):\n",
      " #   Column                        Dtype         \n",
      "---  ------                        -----         \n",
      " 0   t_dat                         datetime64[ns]\n",
      " 1   customer_id                   object        \n",
      " 2   article_id                    int32         \n",
      " 3   price                         float32       \n",
      " 4   sales_channel_id              int8          \n",
      " 5   ordered                       int8          \n",
      " 6   FN                            int8          \n",
      " 7   Active                        int8          \n",
      " 8   club_member_status            int8          \n",
      " 9   fashion_news_frequency        int8          \n",
      " 10  age                           int8          \n",
      " 11  postal_code                   int32         \n",
      " 12  product_code                  int32         \n",
      " 13  prod_name                     int32         \n",
      " 14  product_type_no               int32         \n",
      " 15  product_type_name             int16         \n",
      " 16  product_group_name            int8          \n",
      " 17  graphical_appearance_no       int32         \n",
      " 18  graphical_appearance_name     int8          \n",
      " 19  colour_group_code             int32         \n",
      " 20  colour_group_name             int8          \n",
      " 21  perceived_colour_value_id     int32         \n",
      " 22  perceived_colour_value_name   int8          \n",
      " 23  perceived_colour_master_id    int32         \n",
      " 24  perceived_colour_master_name  int8          \n",
      " 25  department_no                 int32         \n",
      " 26  department_name               int16         \n",
      " 27  index_code                    int8          \n",
      " 28  index_name                    int8          \n",
      " 29  index_group_no                int32         \n",
      " 30  index_group_name              int8          \n",
      " 31  section_no                    int32         \n",
      " 32  section_name                  int8          \n",
      " 33  garment_group_no              int32         \n",
      " 34  garment_group_name            int8          \n",
      " 35  detail_desc                   int32         \n",
      " 36  week                          int8          \n",
      " 37  sales                         int64         \n",
      "dtypes: datetime64[ns](1), float32(1), int16(2), int32(14), int64(1), int8(18), object(1)\n",
      "memory usage: 472.7+ MB\n"
     ]
    }
   ],
   "source": [
    "transactions.info()"
   ]
  },
  {
   "cell_type": "code",
   "execution_count": 38,
   "id": "3e42ef5d",
   "metadata": {},
   "outputs": [
    {
     "data": {
      "text/html": [
       "<div>\n",
       "<style scoped>\n",
       "    .dataframe tbody tr th:only-of-type {\n",
       "        vertical-align: middle;\n",
       "    }\n",
       "\n",
       "    .dataframe tbody tr th {\n",
       "        vertical-align: top;\n",
       "    }\n",
       "\n",
       "    .dataframe thead th {\n",
       "        text-align: right;\n",
       "    }\n",
       "</style>\n",
       "<table border=\"1\" class=\"dataframe\">\n",
       "  <thead>\n",
       "    <tr style=\"text-align: right;\">\n",
       "      <th></th>\n",
       "      <th>t_dat</th>\n",
       "      <th>customer_id</th>\n",
       "      <th>article_id</th>\n",
       "      <th>price</th>\n",
       "      <th>sales_channel_id</th>\n",
       "      <th>ordered</th>\n",
       "      <th>FN</th>\n",
       "      <th>Active</th>\n",
       "      <th>club_member_status</th>\n",
       "      <th>fashion_news_frequency</th>\n",
       "      <th>...</th>\n",
       "      <th>index_name</th>\n",
       "      <th>index_group_no</th>\n",
       "      <th>index_group_name</th>\n",
       "      <th>section_no</th>\n",
       "      <th>section_name</th>\n",
       "      <th>garment_group_no</th>\n",
       "      <th>garment_group_name</th>\n",
       "      <th>detail_desc</th>\n",
       "      <th>week</th>\n",
       "      <th>sales</th>\n",
       "    </tr>\n",
       "  </thead>\n",
       "  <tbody>\n",
       "    <tr>\n",
       "      <th>0</th>\n",
       "      <td>2020-07-29</td>\n",
       "      <td>1152192358796555</td>\n",
       "      <td>720125042</td>\n",
       "      <td>0.018627</td>\n",
       "      <td>1</td>\n",
       "      <td>1</td>\n",
       "      <td>-1</td>\n",
       "      <td>-1</td>\n",
       "      <td>0</td>\n",
       "      <td>0</td>\n",
       "      <td>...</td>\n",
       "      <td>9</td>\n",
       "      <td>26</td>\n",
       "      <td>4</td>\n",
       "      <td>5</td>\n",
       "      <td>21</td>\n",
       "      <td>1005</td>\n",
       "      <td>0</td>\n",
       "      <td>313</td>\n",
       "      <td>97</td>\n",
       "      <td>274</td>\n",
       "    </tr>\n",
       "    <tr>\n",
       "      <th>1</th>\n",
       "      <td>2020-08-01</td>\n",
       "      <td>110467586107431407</td>\n",
       "      <td>720125042</td>\n",
       "      <td>0.018627</td>\n",
       "      <td>1</td>\n",
       "      <td>1</td>\n",
       "      <td>-1</td>\n",
       "      <td>-1</td>\n",
       "      <td>0</td>\n",
       "      <td>0</td>\n",
       "      <td>...</td>\n",
       "      <td>9</td>\n",
       "      <td>26</td>\n",
       "      <td>4</td>\n",
       "      <td>5</td>\n",
       "      <td>21</td>\n",
       "      <td>1005</td>\n",
       "      <td>0</td>\n",
       "      <td>313</td>\n",
       "      <td>97</td>\n",
       "      <td>274</td>\n",
       "    </tr>\n",
       "    <tr>\n",
       "      <th>2</th>\n",
       "      <td>2020-07-29</td>\n",
       "      <td>165750356110826866</td>\n",
       "      <td>720125042</td>\n",
       "      <td>0.018627</td>\n",
       "      <td>1</td>\n",
       "      <td>1</td>\n",
       "      <td>1</td>\n",
       "      <td>1</td>\n",
       "      <td>0</td>\n",
       "      <td>1</td>\n",
       "      <td>...</td>\n",
       "      <td>9</td>\n",
       "      <td>26</td>\n",
       "      <td>4</td>\n",
       "      <td>5</td>\n",
       "      <td>21</td>\n",
       "      <td>1005</td>\n",
       "      <td>0</td>\n",
       "      <td>313</td>\n",
       "      <td>97</td>\n",
       "      <td>274</td>\n",
       "    </tr>\n",
       "    <tr>\n",
       "      <th>3</th>\n",
       "      <td>2020-07-29</td>\n",
       "      <td>506862778488049559</td>\n",
       "      <td>720125042</td>\n",
       "      <td>0.017712</td>\n",
       "      <td>1</td>\n",
       "      <td>1</td>\n",
       "      <td>1</td>\n",
       "      <td>1</td>\n",
       "      <td>0</td>\n",
       "      <td>1</td>\n",
       "      <td>...</td>\n",
       "      <td>9</td>\n",
       "      <td>26</td>\n",
       "      <td>4</td>\n",
       "      <td>5</td>\n",
       "      <td>21</td>\n",
       "      <td>1005</td>\n",
       "      <td>0</td>\n",
       "      <td>313</td>\n",
       "      <td>97</td>\n",
       "      <td>274</td>\n",
       "    </tr>\n",
       "    <tr>\n",
       "      <th>4</th>\n",
       "      <td>2020-08-01</td>\n",
       "      <td>1477115507390776780</td>\n",
       "      <td>720125042</td>\n",
       "      <td>0.018627</td>\n",
       "      <td>1</td>\n",
       "      <td>1</td>\n",
       "      <td>1</td>\n",
       "      <td>1</td>\n",
       "      <td>0</td>\n",
       "      <td>1</td>\n",
       "      <td>...</td>\n",
       "      <td>9</td>\n",
       "      <td>26</td>\n",
       "      <td>4</td>\n",
       "      <td>5</td>\n",
       "      <td>21</td>\n",
       "      <td>1005</td>\n",
       "      <td>0</td>\n",
       "      <td>313</td>\n",
       "      <td>97</td>\n",
       "      <td>274</td>\n",
       "    </tr>\n",
       "  </tbody>\n",
       "</table>\n",
       "<p>5 rows × 38 columns</p>\n",
       "</div>"
      ],
      "text/plain": [
       "       t_dat          customer_id  article_id     price  sales_channel_id  \\\n",
       "0 2020-07-29     1152192358796555   720125042  0.018627                 1   \n",
       "1 2020-08-01   110467586107431407   720125042  0.018627                 1   \n",
       "2 2020-07-29   165750356110826866   720125042  0.018627                 1   \n",
       "3 2020-07-29   506862778488049559   720125042  0.017712                 1   \n",
       "4 2020-08-01  1477115507390776780   720125042  0.018627                 1   \n",
       "\n",
       "   ordered  FN  Active  club_member_status  fashion_news_frequency  ...  \\\n",
       "0        1  -1      -1                   0                       0  ...   \n",
       "1        1  -1      -1                   0                       0  ...   \n",
       "2        1   1       1                   0                       1  ...   \n",
       "3        1   1       1                   0                       1  ...   \n",
       "4        1   1       1                   0                       1  ...   \n",
       "\n",
       "   index_name  index_group_no  index_group_name  section_no  section_name  \\\n",
       "0           9              26                 4           5            21   \n",
       "1           9              26                 4           5            21   \n",
       "2           9              26                 4           5            21   \n",
       "3           9              26                 4           5            21   \n",
       "4           9              26                 4           5            21   \n",
       "\n",
       "   garment_group_no  garment_group_name  detail_desc  week  sales  \n",
       "0              1005                   0          313    97    274  \n",
       "1              1005                   0          313    97    274  \n",
       "2              1005                   0          313    97    274  \n",
       "3              1005                   0          313    97    274  \n",
       "4              1005                   0          313    97    274  \n",
       "\n",
       "[5 rows x 38 columns]"
      ]
     },
     "execution_count": 38,
     "metadata": {},
     "output_type": "execute_result"
    }
   ],
   "source": [
    "transactions.head()"
   ]
  },
  {
   "cell_type": "markdown",
   "id": "043f47ee",
   "metadata": {},
   "source": [
    "## Ranking with LightGBM\n",
    "Using the notebook linked before"
   ]
  },
  {
   "cell_type": "code",
   "execution_count": 39,
   "id": "94237fb6",
   "metadata": {},
   "outputs": [],
   "source": [
    "train = transactions[transactions.week != test_week]\n",
    "test = transactions[transactions.week==test_week].drop_duplicates(['customer_id', 'article_id', 'sales_channel_id']).copy()"
   ]
  },
  {
   "cell_type": "code",
   "execution_count": 40,
   "id": "b7eda14f",
   "metadata": {},
   "outputs": [],
   "source": [
    "train_baskets = train.groupby(['week', 'customer_id'])['article_id'].count().values"
   ]
  },
  {
   "cell_type": "code",
   "execution_count": 41,
   "id": "b021e5c1",
   "metadata": {},
   "outputs": [],
   "source": [
    "columns_to_use = ['article_id', 'product_type_no', 'graphical_appearance_no', 'colour_group_code', 'perceived_colour_value_id',\n",
    "'perceived_colour_master_id', 'department_no', 'index_code',\n",
    "'index_group_no', 'section_no', 'garment_group_no', 'FN', 'Active',\n",
    "'club_member_status', 'fashion_news_frequency', 'age', 'postal_code', 'sales']"
   ]
  },
  {
   "cell_type": "code",
   "execution_count": 42,
   "id": "e87413a1",
   "metadata": {},
   "outputs": [],
   "source": [
    "train_X = train[columns_to_use]\n",
    "train_y = train[\"ordered\"]"
   ]
  },
  {
   "cell_type": "code",
   "execution_count": 43,
   "id": "9c0c685f",
   "metadata": {},
   "outputs": [],
   "source": [
    "test_X = test[columns_to_use]"
   ]
  },
  {
   "cell_type": "code",
   "execution_count": 44,
   "id": "19e7de43",
   "metadata": {},
   "outputs": [],
   "source": [
    "from lightgbm.sklearn import LGBMRanker"
   ]
  },
  {
   "cell_type": "code",
   "execution_count": 45,
   "id": "d4a61d1c",
   "metadata": {},
   "outputs": [],
   "source": [
    "ranker = LGBMRanker(\n",
    "    objective=\"lambdarank\",\n",
    "    metric=\"ndcg\",\n",
    "    boosting_type=\"dart\",\n",
    "    n_estimators=1,\n",
    "    importance_type='gain',\n",
    "    verbose=10\n",
    ")"
   ]
  },
  {
   "cell_type": "code",
   "execution_count": 46,
   "id": "58c74e7a",
   "metadata": {},
   "outputs": [
    {
     "name": "stdout",
     "output_type": "stream",
     "text": [
      "[LightGBM] [Debug] Dataset::GetMultiBinFromAllFeatures: sparse rate 0.107649\n",
      "[LightGBM] [Debug] init for col-wise cost 0.000048 seconds, init for row-wise cost 0.071825 seconds\n",
      "[LightGBM] [Warning] Auto-choosing row-wise multi-threading, the overhead of testing was 0.026927 seconds.\n",
      "You can set `force_row_wise=true` to remove the overhead.\n",
      "And if memory is not enough, you can set `force_col_wise=true`.\n",
      "[LightGBM] [Debug] Using Dense Multi-Val Bin\n",
      "[LightGBM] [Info] Total Bins 1383\n",
      "[LightGBM] [Info] Number of data points in the train set: 3834644, number of used features: 18\n",
      "[LightGBM] [Debug] Trained a tree with leaves = 31 and depth = 8\n"
     ]
    }
   ],
   "source": [
    "ranker = ranker.fit(\n",
    "    train_X,\n",
    "    train_y,\n",
    "    group=train_baskets,\n",
    ")"
   ]
  },
  {
   "cell_type": "code",
   "execution_count": 47,
   "id": "f025b845",
   "metadata": {},
   "outputs": [
    {
     "name": "stdout",
     "output_type": "stream",
     "text": [
      "age 0.5301524925443378\n",
      "section_no 0.3390833933632354\n",
      "index_group_no 0.069997281983742\n",
      "product_type_no 0.020967243183457215\n",
      "club_member_status 0.012541724514553869\n",
      "Active 0.010002704398664426\n",
      "department_no 0.008918801745346384\n",
      "index_code 0.008336358266662907\n",
      "perceived_colour_master_id 0.0\n",
      "graphical_appearance_no 0.0\n",
      "colour_group_code 0.0\n",
      "perceived_colour_value_id 0.0\n",
      "sales 0.0\n",
      "postal_code 0.0\n",
      "garment_group_no 0.0\n",
      "FN 0.0\n",
      "fashion_news_frequency 0.0\n",
      "article_id 0.0\n"
     ]
    }
   ],
   "source": [
    "for i in ranker.feature_importances_.argsort()[::-1]:\n",
    "    print(columns_to_use[i], ranker.feature_importances_[i]/ranker.feature_importances_.sum())"
   ]
  },
  {
   "cell_type": "code",
   "execution_count": 48,
   "id": "b2f93ad7",
   "metadata": {},
   "outputs": [],
   "source": [
    "test['preds'] = ranker.predict(test_X)\n",
    "\n",
    "predictions = test.groupby('customer_id').article_id.apply(list).reset_index()\n",
    "predictions = predictions.rename({'article_id':'prediction'},axis=1)\n",
    "# predictions['prediction'] =\\\n",
    "#     predictions.prediction.apply(lambda x: ' '.join(['0'+str(k) for k in x]))"
   ]
  },
  {
   "cell_type": "code",
   "execution_count": 49,
   "id": "e5f0bdef",
   "metadata": {},
   "outputs": [
    {
     "data": {
      "text/html": [
       "<div>\n",
       "<style scoped>\n",
       "    .dataframe tbody tr th:only-of-type {\n",
       "        vertical-align: middle;\n",
       "    }\n",
       "\n",
       "    .dataframe tbody tr th {\n",
       "        vertical-align: top;\n",
       "    }\n",
       "\n",
       "    .dataframe thead th {\n",
       "        text-align: right;\n",
       "    }\n",
       "</style>\n",
       "<table border=\"1\" class=\"dataframe\">\n",
       "  <thead>\n",
       "    <tr style=\"text-align: right;\">\n",
       "      <th></th>\n",
       "      <th>customer_id</th>\n",
       "      <th>prediction</th>\n",
       "    </tr>\n",
       "  </thead>\n",
       "  <tbody>\n",
       "    <tr>\n",
       "      <th>0</th>\n",
       "      <td>28847241659200</td>\n",
       "      <td>[517729044, 399201002]</td>\n",
       "    </tr>\n",
       "    <tr>\n",
       "      <th>1</th>\n",
       "      <td>41318098387474</td>\n",
       "      <td>[599580041]</td>\n",
       "    </tr>\n",
       "    <tr>\n",
       "      <th>2</th>\n",
       "      <td>690285180337957</td>\n",
       "      <td>[864371001]</td>\n",
       "    </tr>\n",
       "    <tr>\n",
       "      <th>3</th>\n",
       "      <td>745180086074610</td>\n",
       "      <td>[896897001, 762741001]</td>\n",
       "    </tr>\n",
       "    <tr>\n",
       "      <th>4</th>\n",
       "      <td>805095543045062</td>\n",
       "      <td>[636207010, 762287009]</td>\n",
       "    </tr>\n",
       "    <tr>\n",
       "      <th>...</th>\n",
       "      <td>...</td>\n",
       "      <td>...</td>\n",
       "    </tr>\n",
       "    <tr>\n",
       "      <th>227922</th>\n",
       "      <td>18446566209623725451</td>\n",
       "      <td>[831446001, 859399001]</td>\n",
       "    </tr>\n",
       "    <tr>\n",
       "      <th>227923</th>\n",
       "      <td>18446571879212697038</td>\n",
       "      <td>[761018017]</td>\n",
       "    </tr>\n",
       "    <tr>\n",
       "      <th>227924</th>\n",
       "      <td>18446662237889060501</td>\n",
       "      <td>[887181002, 300024006]</td>\n",
       "    </tr>\n",
       "    <tr>\n",
       "      <th>227925</th>\n",
       "      <td>18446705133201055310</td>\n",
       "      <td>[762015008]</td>\n",
       "    </tr>\n",
       "    <tr>\n",
       "      <th>227926</th>\n",
       "      <td>18446737527580148316</td>\n",
       "      <td>[547780040, 763988001, 547780001, 763988003]</td>\n",
       "    </tr>\n",
       "  </tbody>\n",
       "</table>\n",
       "<p>227927 rows × 2 columns</p>\n",
       "</div>"
      ],
      "text/plain": [
       "                 customer_id                                    prediction\n",
       "0             28847241659200                        [517729044, 399201002]\n",
       "1             41318098387474                                   [599580041]\n",
       "2            690285180337957                                   [864371001]\n",
       "3            745180086074610                        [896897001, 762741001]\n",
       "4            805095543045062                        [636207010, 762287009]\n",
       "...                      ...                                           ...\n",
       "227922  18446566209623725451                        [831446001, 859399001]\n",
       "227923  18446571879212697038                                   [761018017]\n",
       "227924  18446662237889060501                        [887181002, 300024006]\n",
       "227925  18446705133201055310                                   [762015008]\n",
       "227926  18446737527580148316  [547780040, 763988001, 547780001, 763988003]\n",
       "\n",
       "[227927 rows x 2 columns]"
      ]
     },
     "execution_count": 49,
     "metadata": {},
     "output_type": "execute_result"
    }
   ],
   "source": [
    "predictions"
   ]
  },
  {
   "cell_type": "code",
   "execution_count": 50,
   "id": "732a2067",
   "metadata": {},
   "outputs": [],
   "source": [
    "all_predictions = customers.copy().merge(predictions, how=\"left\", on=\"customer_id\")[[\"customer_id\", \"prediction\"]]"
   ]
  },
  {
   "cell_type": "code",
   "execution_count": 51,
   "id": "5220d4c7",
   "metadata": {},
   "outputs": [],
   "source": [
    "all_predictions['prediction'] = all_predictions['prediction'].apply(lambda d: d if isinstance(d, list) else [])"
   ]
  },
  {
   "cell_type": "code",
   "execution_count": 52,
   "id": "2b265481",
   "metadata": {},
   "outputs": [
    {
     "data": {
      "text/html": [
       "<div>\n",
       "<style scoped>\n",
       "    .dataframe tbody tr th:only-of-type {\n",
       "        vertical-align: middle;\n",
       "    }\n",
       "\n",
       "    .dataframe tbody tr th {\n",
       "        vertical-align: top;\n",
       "    }\n",
       "\n",
       "    .dataframe thead th {\n",
       "        text-align: right;\n",
       "    }\n",
       "</style>\n",
       "<table border=\"1\" class=\"dataframe\">\n",
       "  <thead>\n",
       "    <tr style=\"text-align: right;\">\n",
       "      <th></th>\n",
       "      <th>customer_id</th>\n",
       "      <th>prediction</th>\n",
       "    </tr>\n",
       "  </thead>\n",
       "  <tbody>\n",
       "    <tr>\n",
       "      <th>0</th>\n",
       "      <td>6883939031699146327</td>\n",
       "      <td>[636935006, 676990004, 795675005]</td>\n",
       "    </tr>\n",
       "    <tr>\n",
       "      <th>1</th>\n",
       "      <td>11246327431398957306</td>\n",
       "      <td>[]</td>\n",
       "    </tr>\n",
       "    <tr>\n",
       "      <th>2</th>\n",
       "      <td>18439897732908966680</td>\n",
       "      <td>[]</td>\n",
       "    </tr>\n",
       "    <tr>\n",
       "      <th>3</th>\n",
       "      <td>18352672461570950206</td>\n",
       "      <td>[]</td>\n",
       "    </tr>\n",
       "    <tr>\n",
       "      <th>4</th>\n",
       "      <td>18162778555210377306</td>\n",
       "      <td>[723926002, 586796003, 634591002, 861167003]</td>\n",
       "    </tr>\n",
       "  </tbody>\n",
       "</table>\n",
       "</div>"
      ],
      "text/plain": [
       "            customer_id                                    prediction\n",
       "0   6883939031699146327             [636935006, 676990004, 795675005]\n",
       "1  11246327431398957306                                            []\n",
       "2  18439897732908966680                                            []\n",
       "3  18352672461570950206                                            []\n",
       "4  18162778555210377306  [723926002, 586796003, 634591002, 861167003]"
      ]
     },
     "execution_count": 52,
     "metadata": {},
     "output_type": "execute_result"
    }
   ],
   "source": [
    "all_predictions.head()"
   ]
  },
  {
   "cell_type": "code",
   "execution_count": 53,
   "id": "03c56608",
   "metadata": {},
   "outputs": [],
   "source": [
    "fill = random.sample(articles.article_id.tolist(), 12)"
   ]
  },
  {
   "cell_type": "code",
   "execution_count": 54,
   "id": "17c32461",
   "metadata": {},
   "outputs": [],
   "source": [
    "all_predictions['prediction'] =\\\n",
    "    all_predictions.prediction.apply(lambda x: (x + fill)[:12])"
   ]
  },
  {
   "cell_type": "code",
   "execution_count": 55,
   "id": "b40ea775",
   "metadata": {},
   "outputs": [],
   "source": [
    "all_predictions['prediction'] =\\\n",
    "    all_predictions.prediction.apply(lambda x: ' '.join(['0'+str(k) for k in x]))"
   ]
  },
  {
   "cell_type": "code",
   "execution_count": 56,
   "id": "3f3d63b7",
   "metadata": {},
   "outputs": [],
   "source": [
    "all_predictions[\"customer_id\"] = pd.read_csv('../data/customers.csv')[\"customer_id\"]"
   ]
  },
  {
   "cell_type": "code",
   "execution_count": 57,
   "id": "b4bdb53d",
   "metadata": {},
   "outputs": [
    {
     "data": {
      "text/html": [
       "<div>\n",
       "<style scoped>\n",
       "    .dataframe tbody tr th:only-of-type {\n",
       "        vertical-align: middle;\n",
       "    }\n",
       "\n",
       "    .dataframe tbody tr th {\n",
       "        vertical-align: top;\n",
       "    }\n",
       "\n",
       "    .dataframe thead th {\n",
       "        text-align: right;\n",
       "    }\n",
       "</style>\n",
       "<table border=\"1\" class=\"dataframe\">\n",
       "  <thead>\n",
       "    <tr style=\"text-align: right;\">\n",
       "      <th></th>\n",
       "      <th>customer_id</th>\n",
       "      <th>prediction</th>\n",
       "    </tr>\n",
       "  </thead>\n",
       "  <tbody>\n",
       "    <tr>\n",
       "      <th>0</th>\n",
       "      <td>00000dbacae5abe5e23885899a1fa44253a17956c6d1c3...</td>\n",
       "      <td>0636935006 0676990004 0795675005 0813476001 05...</td>\n",
       "    </tr>\n",
       "    <tr>\n",
       "      <th>1</th>\n",
       "      <td>0000423b00ade91418cceaf3b26c6af3dd342b51fd051e...</td>\n",
       "      <td>0813476001 0563577007 0452717006 0873108001 06...</td>\n",
       "    </tr>\n",
       "    <tr>\n",
       "      <th>2</th>\n",
       "      <td>000058a12d5b43e67d225668fa1f8d618c13dc232df0ca...</td>\n",
       "      <td>0813476001 0563577007 0452717006 0873108001 06...</td>\n",
       "    </tr>\n",
       "    <tr>\n",
       "      <th>3</th>\n",
       "      <td>00005ca1c9ed5f5146b52ac8639a40ca9d57aeff4d1bd2...</td>\n",
       "      <td>0813476001 0563577007 0452717006 0873108001 06...</td>\n",
       "    </tr>\n",
       "    <tr>\n",
       "      <th>4</th>\n",
       "      <td>00006413d8573cd20ed7128e53b7b13819fe5cfc2d801f...</td>\n",
       "      <td>0723926002 0586796003 0634591002 0861167003 08...</td>\n",
       "    </tr>\n",
       "    <tr>\n",
       "      <th>...</th>\n",
       "      <td>...</td>\n",
       "      <td>...</td>\n",
       "    </tr>\n",
       "    <tr>\n",
       "      <th>1371975</th>\n",
       "      <td>ffffbbf78b6eaac697a8a5dfbfd2bfa8113ee5b403e474...</td>\n",
       "      <td>0897080002 0911880002 0697082013 0813476001 05...</td>\n",
       "    </tr>\n",
       "    <tr>\n",
       "      <th>1371976</th>\n",
       "      <td>ffffcd5046a6143d29a04fb8c424ce494a76e5cdf4fab5...</td>\n",
       "      <td>0813476001 0563577007 0452717006 0873108001 06...</td>\n",
       "    </tr>\n",
       "    <tr>\n",
       "      <th>1371977</th>\n",
       "      <td>ffffcf35913a0bee60e8741cb2b4e78b8a98ee5ff2e6a1...</td>\n",
       "      <td>0822895001 0813476001 0563577007 0452717006 08...</td>\n",
       "    </tr>\n",
       "    <tr>\n",
       "      <th>1371978</th>\n",
       "      <td>ffffd7744cebcf3aca44ae7049d2a94b87074c3d4ffe38...</td>\n",
       "      <td>0813476001 0563577007 0452717006 0873108001 06...</td>\n",
       "    </tr>\n",
       "    <tr>\n",
       "      <th>1371979</th>\n",
       "      <td>ffffd9ac14e89946416d80e791d064701994755c3ab686...</td>\n",
       "      <td>0813476001 0563577007 0452717006 0873108001 06...</td>\n",
       "    </tr>\n",
       "  </tbody>\n",
       "</table>\n",
       "<p>1371980 rows × 2 columns</p>\n",
       "</div>"
      ],
      "text/plain": [
       "                                               customer_id  \\\n",
       "0        00000dbacae5abe5e23885899a1fa44253a17956c6d1c3...   \n",
       "1        0000423b00ade91418cceaf3b26c6af3dd342b51fd051e...   \n",
       "2        000058a12d5b43e67d225668fa1f8d618c13dc232df0ca...   \n",
       "3        00005ca1c9ed5f5146b52ac8639a40ca9d57aeff4d1bd2...   \n",
       "4        00006413d8573cd20ed7128e53b7b13819fe5cfc2d801f...   \n",
       "...                                                    ...   \n",
       "1371975  ffffbbf78b6eaac697a8a5dfbfd2bfa8113ee5b403e474...   \n",
       "1371976  ffffcd5046a6143d29a04fb8c424ce494a76e5cdf4fab5...   \n",
       "1371977  ffffcf35913a0bee60e8741cb2b4e78b8a98ee5ff2e6a1...   \n",
       "1371978  ffffd7744cebcf3aca44ae7049d2a94b87074c3d4ffe38...   \n",
       "1371979  ffffd9ac14e89946416d80e791d064701994755c3ab686...   \n",
       "\n",
       "                                                prediction  \n",
       "0        0636935006 0676990004 0795675005 0813476001 05...  \n",
       "1        0813476001 0563577007 0452717006 0873108001 06...  \n",
       "2        0813476001 0563577007 0452717006 0873108001 06...  \n",
       "3        0813476001 0563577007 0452717006 0873108001 06...  \n",
       "4        0723926002 0586796003 0634591002 0861167003 08...  \n",
       "...                                                    ...  \n",
       "1371975  0897080002 0911880002 0697082013 0813476001 05...  \n",
       "1371976  0813476001 0563577007 0452717006 0873108001 06...  \n",
       "1371977  0822895001 0813476001 0563577007 0452717006 08...  \n",
       "1371978  0813476001 0563577007 0452717006 0873108001 06...  \n",
       "1371979  0813476001 0563577007 0452717006 0873108001 06...  \n",
       "\n",
       "[1371980 rows x 2 columns]"
      ]
     },
     "execution_count": 57,
     "metadata": {},
     "output_type": "execute_result"
    }
   ],
   "source": [
    "all_predictions"
   ]
  },
  {
   "cell_type": "code",
   "execution_count": 60,
   "id": "5e42e99f",
   "metadata": {},
   "outputs": [],
   "source": [
    "all_predictions.to_csv(\"../data/sub_experiment1.csv\", index=False)"
   ]
  },
  {
   "cell_type": "code",
   "execution_count": null,
   "id": "89751cc1",
   "metadata": {},
   "outputs": [],
   "source": []
  }
 ],
 "metadata": {
  "kernelspec": {
   "display_name": "Python 3 (ipykernel)",
   "language": "python",
   "name": "python3"
  },
  "language_info": {
   "codemirror_mode": {
    "name": "ipython",
    "version": 3
   },
   "file_extension": ".py",
   "mimetype": "text/x-python",
   "name": "python",
   "nbconvert_exporter": "python",
   "pygments_lexer": "ipython3",
   "version": "3.10.6"
  }
 },
 "nbformat": 4,
 "nbformat_minor": 5
}
