{
  "cells": [
    {
      "cell_type": "markdown",
      "metadata": {
        "id": "jW9vxjqavyYV"
      },
      "source": [
        "# Lecture 2: Introduction to Feature Engineering"
      ]
    },
    {
      "cell_type": "markdown",
      "metadata": {
        "id": "omklg6LPvyYb"
      },
      "source": [
        "## Setup"
      ]
    },
    {
      "cell_type": "code",
      "execution_count": null,
      "metadata": {
        "pycharm": {
          "is_executing": true
        },
        "id": "BmzkW7zyvyYc"
      },
      "outputs": [],
      "source": [
        "import numpy as np \n",
        "import pandas as pd\n",
        "import random\n",
        "from sklearn.linear_model import LogisticRegression\n",
        "from sklearn.model_selection import train_test_split\n",
        "from sklearn.metrics import classification_report\n",
        "from sklearn import preprocessing"
      ]
    },
    {
      "cell_type": "code",
      "execution_count": null,
      "metadata": {
        "pycharm": {
          "is_executing": true
        },
        "id": "XTUOvVMavyYf"
      },
      "outputs": [],
      "source": [
        "articles = pd.read_csv('articles_sample5.csv.gz')\n",
        "customers = pd.read_csv('customers_sample5.csv.gz')\n",
        "# sample_submisison = pd.read_csv('../data/sample_submission.csv')\n",
        "transactions = pd.read_csv('transactions_sample5.csv.gz')"
      ]
    },
    {
      "cell_type": "markdown",
      "metadata": {
        "id": "-Hv8s78EvyYg"
      },
      "source": [
        "## The H&M Dataset"
      ]
    },
    {
      "cell_type": "code",
      "execution_count": null,
      "metadata": {
        "pycharm": {
          "is_executing": true
        },
        "colab": {
          "base_uri": "https://localhost:8080/"
        },
        "id": "yvD3gkjMvyYg",
        "outputId": "d68441bd-d4eb-4a56-94b1-79f8f3a34bc5"
      },
      "outputs": [
        {
          "output_type": "stream",
          "name": "stdout",
          "text": [
            "<class 'pandas.core.frame.DataFrame'>\n",
            "RangeIndex: 77001 entries, 0 to 77000\n",
            "Data columns (total 25 columns):\n",
            " #   Column                        Non-Null Count  Dtype \n",
            "---  ------                        --------------  ----- \n",
            " 0   article_id                    77001 non-null  int64 \n",
            " 1   product_code                  77001 non-null  int64 \n",
            " 2   prod_name                     77001 non-null  object\n",
            " 3   product_type_no               77001 non-null  int64 \n",
            " 4   product_type_name             77001 non-null  object\n",
            " 5   product_group_name            77001 non-null  object\n",
            " 6   graphical_appearance_no       77001 non-null  int64 \n",
            " 7   graphical_appearance_name     77001 non-null  object\n",
            " 8   colour_group_code             77001 non-null  int64 \n",
            " 9   colour_group_name             77001 non-null  object\n",
            " 10  perceived_colour_value_id     77001 non-null  int64 \n",
            " 11  perceived_colour_value_name   77001 non-null  object\n",
            " 12  perceived_colour_master_id    77001 non-null  int64 \n",
            " 13  perceived_colour_master_name  77001 non-null  object\n",
            " 14  department_no                 77001 non-null  int64 \n",
            " 15  department_name               77001 non-null  object\n",
            " 16  index_code                    77001 non-null  object\n",
            " 17  index_name                    77001 non-null  object\n",
            " 18  index_group_no                77001 non-null  int64 \n",
            " 19  index_group_name              77001 non-null  object\n",
            " 20  section_no                    77001 non-null  int64 \n",
            " 21  section_name                  77001 non-null  object\n",
            " 22  garment_group_no              77001 non-null  int64 \n",
            " 23  garment_group_name            77001 non-null  object\n",
            " 24  detail_desc                   76705 non-null  object\n",
            "dtypes: int64(11), object(14)\n",
            "memory usage: 14.7+ MB\n"
          ]
        }
      ],
      "source": [
        "articles.info()"
      ]
    },
    {
      "cell_type": "code",
      "execution_count": null,
      "metadata": {
        "pycharm": {
          "is_executing": true
        },
        "colab": {
          "base_uri": "https://localhost:8080/"
        },
        "id": "ShFADDrbvyYi",
        "outputId": "96a99e83-531a-4477-ed2b-0f4d0bb8dd56"
      },
      "outputs": [
        {
          "output_type": "stream",
          "name": "stdout",
          "text": [
            "<class 'pandas.core.frame.DataFrame'>\n",
            "RangeIndex: 68599 entries, 0 to 68598\n",
            "Data columns (total 7 columns):\n",
            " #   Column                  Non-Null Count  Dtype  \n",
            "---  ------                  --------------  -----  \n",
            " 0   customer_id             68599 non-null  object \n",
            " 1   FN                      23810 non-null  float64\n",
            " 2   Active                  23205 non-null  float64\n",
            " 3   club_member_status      68272 non-null  object \n",
            " 4   fashion_news_frequency  67797 non-null  object \n",
            " 5   age                     67769 non-null  float64\n",
            " 6   postal_code             68599 non-null  object \n",
            "dtypes: float64(3), object(4)\n",
            "memory usage: 3.7+ MB\n"
          ]
        }
      ],
      "source": [
        "customers.info()"
      ]
    },
    {
      "cell_type": "code",
      "execution_count": null,
      "metadata": {
        "pycharm": {
          "is_executing": true
        },
        "colab": {
          "base_uri": "https://localhost:8080/"
        },
        "id": "UHF385o7vyYj",
        "outputId": "764d96bf-1f3c-43f3-ce58-57bae16db4ad"
      },
      "outputs": [
        {
          "output_type": "stream",
          "name": "stdout",
          "text": [
            "<class 'pandas.core.frame.DataFrame'>\n",
            "RangeIndex: 1585334 entries, 0 to 1585333\n",
            "Data columns (total 5 columns):\n",
            " #   Column            Non-Null Count    Dtype  \n",
            "---  ------            --------------    -----  \n",
            " 0   t_dat             1585334 non-null  object \n",
            " 1   customer_id       1585334 non-null  object \n",
            " 2   article_id        1585334 non-null  int64  \n",
            " 3   price             1585334 non-null  float64\n",
            " 4   sales_channel_id  1585334 non-null  int64  \n",
            "dtypes: float64(1), int64(2), object(2)\n",
            "memory usage: 60.5+ MB\n"
          ]
        }
      ],
      "source": [
        "transactions.info()"
      ]
    },
    {
      "cell_type": "code",
      "execution_count": null,
      "metadata": {
        "pycharm": {
          "is_executing": true
        },
        "id": "V2xJWPw2vyYk"
      },
      "outputs": [],
      "source": [
        "# X = transactions.merge(customers, how='inner', on='customer_id')\n",
        "# X = X.merge(articles, how='inner', on='article_id')"
      ]
    },
    {
      "cell_type": "markdown",
      "metadata": {
        "id": "9Rri_qXcvyYk"
      },
      "source": [
        "### Creating Samples \n",
        "If you would rather work with samples instead of the whole dataset (while prototyping your code). You can use the code below:"
      ]
    },
    {
      "cell_type": "code",
      "execution_count": null,
      "metadata": {
        "pycharm": {
          "is_executing": true
        },
        "id": "nFzzlZIfvyYl"
      },
      "outputs": [],
      "source": [
        "# Adapted from: https://www.kaggle.com/code/paweljankiewicz/hm-create-dataset-samples\n",
        "# This extracts three sampled datasets, containing 0.1%, 1% and 5% of all users and their transactions, and the associated articles.\n",
        "# for sample_repr, sample in [(\"01\", 0.001), (\"1\", 0.01), (\"5\", 0.05)]:\n",
        "#     print(sample)\n",
        "#     customers_sample = customers.sample(int(customers.shape[0]*sample), replace=False)\n",
        "#     customers_sample_ids = set(customers_sample[\"customer_id\"])\n",
        "#     transactions_sample = transactions[transactions[\"customer_id\"].isin(customers_sample_ids)]\n",
        "#     articles_sample_ids = set(transactions_sample[\"article_id\"])\n",
        "#     articles_sample = articles[articles[\"article_id\"].isin(articles_sample_ids)]\n",
        "#     customers_sample.to_csv(f\"../data/customers_sample{sample_repr}.csv.gz\", index=False)\n",
        "#     transactions_sample.to_csv(f\"../data/transactions_sample{sample_repr}.csv.gz\", index=False)\n",
        "#     articles_sample.to_csv(f\"../data/articles_sample{sample_repr}.csv.gz\", index=False)"
      ]
    },
    {
      "cell_type": "code",
      "execution_count": null,
      "metadata": {
        "pycharm": {
          "is_executing": true
        },
        "id": "09i92cnDvyYm"
      },
      "outputs": [],
      "source": [
        "# articles_sample = pd.read_csv('../data/articles_sample01.csv.gz')\n",
        "# customers_sample = pd.read_csv('../data/customers_sample01.csv.gz')\n",
        "# transactions_sample = pd.read_csv('../data/transactions_sample01.csv.gz')"
      ]
    },
    {
      "cell_type": "code",
      "execution_count": null,
      "metadata": {
        "pycharm": {
          "is_executing": true
        },
        "id": "G1gKFsZcvyYm"
      },
      "outputs": [],
      "source": [
        "# customers_sample.info()"
      ]
    },
    {
      "cell_type": "code",
      "execution_count": null,
      "metadata": {
        "pycharm": {
          "is_executing": true
        },
        "id": "Fe0ANrtavyYm"
      },
      "outputs": [],
      "source": [
        "# transactions_sample.info()"
      ]
    },
    {
      "cell_type": "markdown",
      "metadata": {
        "id": "J1hlfA0ivyYn"
      },
      "source": [
        "## A Simplified Task: Binary Classification\n",
        "\n",
        "The task of predicting which 12 items users are most likely to buy in the next week is difficult to translate to a traditional classification machine learning setting. \n",
        "To obtain the 12 items a user is most likely to buy, we need to make predictions for all items (or the ones selected by a baseline) and select the 12 that have the highest predicted scores.\n",
        "\n",
        "In this assignment, we'll consider a simplified task: Predict whether a user ordered a single item or not, based on the features of the user and the item. \n",
        "We provide a baseline logistic regression model below, but haven't done much feature preprocessing or engineering!\n",
        "Initially, it is always best to focus your efforts on getting your features in the right shape and setting up the right validation scheme and baselines.\n",
        "Once you are sure that your features add value and your validation scheme is correct, then you typically move on to trying more elaborate models."
      ]
    },
    {
      "cell_type": "markdown",
      "metadata": {
        "id": "kbRPdumvvyYn"
      },
      "source": [
        "### Creating the Dataset"
      ]
    },
    {
      "cell_type": "code",
      "execution_count": null,
      "metadata": {
        "pycharm": {
          "is_executing": true
        },
        "id": "f8lJ1mcMvyYn"
      },
      "outputs": [],
      "source": [
        "# If you'd rather use a sample. Uncomment the following code:\n",
        "# transactions = transactions_sample\n",
        "# customers = customers_sample\n",
        "# articles = articles_sample"
      ]
    },
    {
      "cell_type": "code",
      "execution_count": null,
      "metadata": {
        "pycharm": {
          "is_executing": true
        },
        "id": "tlIyx66UvyYo"
      },
      "outputs": [],
      "source": [
        "transactions['ordered'] = 1"
      ]
    },
    {
      "cell_type": "markdown",
      "metadata": {
        "id": "IxDQotQCvyYo"
      },
      "source": [
        "The problem setting is an example of a \"PU learning\" problem, i.e. only positives are labeled, everything else is unlabeled (and can be either positive or negative). \n",
        "Of course, we cannot train a classifier with just positive samples: The classifier will just learn that everything is positive.\n",
        "Therefore, we need to manually generate negative samples.\n",
        "\n",
        "Below, we use a simple random negative sampling strategy.\n",
        "We want to create a balanced dataset, meaning that we have just as many positives as negatives.\n",
        "This makes sure that the classifier will not benefit from predicting the positive/negative class more often than the other.\n",
        "Realistically, the amount of positive samples is of course many times smaller than the amount of unlabeled, possibly negative instances.\n",
        "\n",
        "\n",
        "If you want to try your hand at a more complex negative sampling strategy, you may want to check out this blog as a starting point: https://medium.com/mlearning-ai/overview-negative-sampling-on-recommendation-systems-230a051c6cd7.\n",
        "\n"
      ]
    },
    {
      "cell_type": "code",
      "execution_count": null,
      "metadata": {
        "pycharm": {
          "is_executing": true
        },
        "colab": {
          "base_uri": "https://localhost:8080/",
          "height": 206
        },
        "id": "xahhRRjvvyYo",
        "outputId": "d9e33dbc-0bfb-4fed-95fa-bee6f8bec8ea"
      },
      "outputs": [
        {
          "output_type": "execute_result",
          "data": {
            "text/plain": [
              "        t_dat                                        customer_id  article_id  \\\n",
              "0  2018-09-20  0021da829b898f82269fc51feded4eac2129058ee95bd7...   649356002   \n",
              "1  2018-09-20  0021da829b898f82269fc51feded4eac2129058ee95bd7...   579941002   \n",
              "2  2018-09-20  0021da829b898f82269fc51feded4eac2129058ee95bd7...   629760002   \n",
              "3  2018-09-20  0021da829b898f82269fc51feded4eac2129058ee95bd7...   625229004   \n",
              "4  2018-09-20  004888668b9458668aa3234d17337671673599f7f84d36...   662857005   \n",
              "\n",
              "      price  sales_channel_id  ordered  \n",
              "0  0.027441                 1        1  \n",
              "1  0.019814                 1        1  \n",
              "2  0.015237                 1        1  \n",
              "3  0.019814                 1        1  \n",
              "4  0.042356                 1        1  "
            ],
            "text/html": [
              "\n",
              "  <div id=\"df-88f7a0be-cbe1-4794-b839-d98ee73fbba1\">\n",
              "    <div class=\"colab-df-container\">\n",
              "      <div>\n",
              "<style scoped>\n",
              "    .dataframe tbody tr th:only-of-type {\n",
              "        vertical-align: middle;\n",
              "    }\n",
              "\n",
              "    .dataframe tbody tr th {\n",
              "        vertical-align: top;\n",
              "    }\n",
              "\n",
              "    .dataframe thead th {\n",
              "        text-align: right;\n",
              "    }\n",
              "</style>\n",
              "<table border=\"1\" class=\"dataframe\">\n",
              "  <thead>\n",
              "    <tr style=\"text-align: right;\">\n",
              "      <th></th>\n",
              "      <th>t_dat</th>\n",
              "      <th>customer_id</th>\n",
              "      <th>article_id</th>\n",
              "      <th>price</th>\n",
              "      <th>sales_channel_id</th>\n",
              "      <th>ordered</th>\n",
              "    </tr>\n",
              "  </thead>\n",
              "  <tbody>\n",
              "    <tr>\n",
              "      <th>0</th>\n",
              "      <td>2018-09-20</td>\n",
              "      <td>0021da829b898f82269fc51feded4eac2129058ee95bd7...</td>\n",
              "      <td>649356002</td>\n",
              "      <td>0.027441</td>\n",
              "      <td>1</td>\n",
              "      <td>1</td>\n",
              "    </tr>\n",
              "    <tr>\n",
              "      <th>1</th>\n",
              "      <td>2018-09-20</td>\n",
              "      <td>0021da829b898f82269fc51feded4eac2129058ee95bd7...</td>\n",
              "      <td>579941002</td>\n",
              "      <td>0.019814</td>\n",
              "      <td>1</td>\n",
              "      <td>1</td>\n",
              "    </tr>\n",
              "    <tr>\n",
              "      <th>2</th>\n",
              "      <td>2018-09-20</td>\n",
              "      <td>0021da829b898f82269fc51feded4eac2129058ee95bd7...</td>\n",
              "      <td>629760002</td>\n",
              "      <td>0.015237</td>\n",
              "      <td>1</td>\n",
              "      <td>1</td>\n",
              "    </tr>\n",
              "    <tr>\n",
              "      <th>3</th>\n",
              "      <td>2018-09-20</td>\n",
              "      <td>0021da829b898f82269fc51feded4eac2129058ee95bd7...</td>\n",
              "      <td>625229004</td>\n",
              "      <td>0.019814</td>\n",
              "      <td>1</td>\n",
              "      <td>1</td>\n",
              "    </tr>\n",
              "    <tr>\n",
              "      <th>4</th>\n",
              "      <td>2018-09-20</td>\n",
              "      <td>004888668b9458668aa3234d17337671673599f7f84d36...</td>\n",
              "      <td>662857005</td>\n",
              "      <td>0.042356</td>\n",
              "      <td>1</td>\n",
              "      <td>1</td>\n",
              "    </tr>\n",
              "  </tbody>\n",
              "</table>\n",
              "</div>\n",
              "      <button class=\"colab-df-convert\" onclick=\"convertToInteractive('df-88f7a0be-cbe1-4794-b839-d98ee73fbba1')\"\n",
              "              title=\"Convert this dataframe to an interactive table.\"\n",
              "              style=\"display:none;\">\n",
              "        \n",
              "  <svg xmlns=\"http://www.w3.org/2000/svg\" height=\"24px\"viewBox=\"0 0 24 24\"\n",
              "       width=\"24px\">\n",
              "    <path d=\"M0 0h24v24H0V0z\" fill=\"none\"/>\n",
              "    <path d=\"M18.56 5.44l.94 2.06.94-2.06 2.06-.94-2.06-.94-.94-2.06-.94 2.06-2.06.94zm-11 1L8.5 8.5l.94-2.06 2.06-.94-2.06-.94L8.5 2.5l-.94 2.06-2.06.94zm10 10l.94 2.06.94-2.06 2.06-.94-2.06-.94-.94-2.06-.94 2.06-2.06.94z\"/><path d=\"M17.41 7.96l-1.37-1.37c-.4-.4-.92-.59-1.43-.59-.52 0-1.04.2-1.43.59L10.3 9.45l-7.72 7.72c-.78.78-.78 2.05 0 2.83L4 21.41c.39.39.9.59 1.41.59.51 0 1.02-.2 1.41-.59l7.78-7.78 2.81-2.81c.8-.78.8-2.07 0-2.86zM5.41 20L4 18.59l7.72-7.72 1.47 1.35L5.41 20z\"/>\n",
              "  </svg>\n",
              "      </button>\n",
              "      \n",
              "  <style>\n",
              "    .colab-df-container {\n",
              "      display:flex;\n",
              "      flex-wrap:wrap;\n",
              "      gap: 12px;\n",
              "    }\n",
              "\n",
              "    .colab-df-convert {\n",
              "      background-color: #E8F0FE;\n",
              "      border: none;\n",
              "      border-radius: 50%;\n",
              "      cursor: pointer;\n",
              "      display: none;\n",
              "      fill: #1967D2;\n",
              "      height: 32px;\n",
              "      padding: 0 0 0 0;\n",
              "      width: 32px;\n",
              "    }\n",
              "\n",
              "    .colab-df-convert:hover {\n",
              "      background-color: #E2EBFA;\n",
              "      box-shadow: 0px 1px 2px rgba(60, 64, 67, 0.3), 0px 1px 3px 1px rgba(60, 64, 67, 0.15);\n",
              "      fill: #174EA6;\n",
              "    }\n",
              "\n",
              "    [theme=dark] .colab-df-convert {\n",
              "      background-color: #3B4455;\n",
              "      fill: #D2E3FC;\n",
              "    }\n",
              "\n",
              "    [theme=dark] .colab-df-convert:hover {\n",
              "      background-color: #434B5C;\n",
              "      box-shadow: 0px 1px 3px 1px rgba(0, 0, 0, 0.15);\n",
              "      filter: drop-shadow(0px 1px 2px rgba(0, 0, 0, 0.3));\n",
              "      fill: #FFFFFF;\n",
              "    }\n",
              "  </style>\n",
              "\n",
              "      <script>\n",
              "        const buttonEl =\n",
              "          document.querySelector('#df-88f7a0be-cbe1-4794-b839-d98ee73fbba1 button.colab-df-convert');\n",
              "        buttonEl.style.display =\n",
              "          google.colab.kernel.accessAllowed ? 'block' : 'none';\n",
              "\n",
              "        async function convertToInteractive(key) {\n",
              "          const element = document.querySelector('#df-88f7a0be-cbe1-4794-b839-d98ee73fbba1');\n",
              "          const dataTable =\n",
              "            await google.colab.kernel.invokeFunction('convertToInteractive',\n",
              "                                                     [key], {});\n",
              "          if (!dataTable) return;\n",
              "\n",
              "          const docLinkHtml = 'Like what you see? Visit the ' +\n",
              "            '<a target=\"_blank\" href=https://colab.research.google.com/notebooks/data_table.ipynb>data table notebook</a>'\n",
              "            + ' to learn more about interactive tables.';\n",
              "          element.innerHTML = '';\n",
              "          dataTable['output_type'] = 'display_data';\n",
              "          await google.colab.output.renderOutput(dataTable, element);\n",
              "          const docLink = document.createElement('div');\n",
              "          docLink.innerHTML = docLinkHtml;\n",
              "          element.appendChild(docLink);\n",
              "        }\n",
              "      </script>\n",
              "    </div>\n",
              "  </div>\n",
              "  "
            ]
          },
          "metadata": {},
          "execution_count": 13
        }
      ],
      "source": [
        "transactions.head()"
      ]
    },
    {
      "cell_type": "code",
      "execution_count": null,
      "metadata": {
        "pycharm": {
          "is_executing": true
        },
        "id": "x-c3I2NKvyYo"
      },
      "outputs": [],
      "source": [
        "# What's happening here? \n",
        "# We're creating negative samples. I.e. we're creating transactions that didn't actually occur.\n",
        "# First, we need to know which interactions did occur:\n",
        "positive_pairs = list(map(tuple, transactions[['customer_id', 'article_id']].drop_duplicates().values))"
      ]
    },
    {
      "cell_type": "code",
      "execution_count": null,
      "metadata": {
        "pycharm": {
          "is_executing": true
        },
        "colab": {
          "base_uri": "https://localhost:8080/",
          "height": 206
        },
        "id": "0tRLLn2MvyYp",
        "outputId": "c8075b53-b478-4989-bcc5-04869fb0e0e6"
      },
      "outputs": [
        {
          "output_type": "execute_result",
          "data": {
            "text/plain": [
              "        t_dat                                        customer_id  article_id  \\\n",
              "0  2018-09-20  0021da829b898f82269fc51feded4eac2129058ee95bd7...   649356002   \n",
              "1  2018-09-20  0021da829b898f82269fc51feded4eac2129058ee95bd7...   579941002   \n",
              "2  2018-09-20  0021da829b898f82269fc51feded4eac2129058ee95bd7...   629760002   \n",
              "3  2018-09-20  0021da829b898f82269fc51feded4eac2129058ee95bd7...   625229004   \n",
              "4  2018-09-20  004888668b9458668aa3234d17337671673599f7f84d36...   662857005   \n",
              "\n",
              "      price  sales_channel_id  ordered  \n",
              "0  0.027441                 1        1  \n",
              "1  0.019814                 1        1  \n",
              "2  0.015237                 1        1  \n",
              "3  0.019814                 1        1  \n",
              "4  0.042356                 1        1  "
            ],
            "text/html": [
              "\n",
              "  <div id=\"df-670180c6-80ff-4f06-a514-ba6a9efd9d06\">\n",
              "    <div class=\"colab-df-container\">\n",
              "      <div>\n",
              "<style scoped>\n",
              "    .dataframe tbody tr th:only-of-type {\n",
              "        vertical-align: middle;\n",
              "    }\n",
              "\n",
              "    .dataframe tbody tr th {\n",
              "        vertical-align: top;\n",
              "    }\n",
              "\n",
              "    .dataframe thead th {\n",
              "        text-align: right;\n",
              "    }\n",
              "</style>\n",
              "<table border=\"1\" class=\"dataframe\">\n",
              "  <thead>\n",
              "    <tr style=\"text-align: right;\">\n",
              "      <th></th>\n",
              "      <th>t_dat</th>\n",
              "      <th>customer_id</th>\n",
              "      <th>article_id</th>\n",
              "      <th>price</th>\n",
              "      <th>sales_channel_id</th>\n",
              "      <th>ordered</th>\n",
              "    </tr>\n",
              "  </thead>\n",
              "  <tbody>\n",
              "    <tr>\n",
              "      <th>0</th>\n",
              "      <td>2018-09-20</td>\n",
              "      <td>0021da829b898f82269fc51feded4eac2129058ee95bd7...</td>\n",
              "      <td>649356002</td>\n",
              "      <td>0.027441</td>\n",
              "      <td>1</td>\n",
              "      <td>1</td>\n",
              "    </tr>\n",
              "    <tr>\n",
              "      <th>1</th>\n",
              "      <td>2018-09-20</td>\n",
              "      <td>0021da829b898f82269fc51feded4eac2129058ee95bd7...</td>\n",
              "      <td>579941002</td>\n",
              "      <td>0.019814</td>\n",
              "      <td>1</td>\n",
              "      <td>1</td>\n",
              "    </tr>\n",
              "    <tr>\n",
              "      <th>2</th>\n",
              "      <td>2018-09-20</td>\n",
              "      <td>0021da829b898f82269fc51feded4eac2129058ee95bd7...</td>\n",
              "      <td>629760002</td>\n",
              "      <td>0.015237</td>\n",
              "      <td>1</td>\n",
              "      <td>1</td>\n",
              "    </tr>\n",
              "    <tr>\n",
              "      <th>3</th>\n",
              "      <td>2018-09-20</td>\n",
              "      <td>0021da829b898f82269fc51feded4eac2129058ee95bd7...</td>\n",
              "      <td>625229004</td>\n",
              "      <td>0.019814</td>\n",
              "      <td>1</td>\n",
              "      <td>1</td>\n",
              "    </tr>\n",
              "    <tr>\n",
              "      <th>4</th>\n",
              "      <td>2018-09-20</td>\n",
              "      <td>004888668b9458668aa3234d17337671673599f7f84d36...</td>\n",
              "      <td>662857005</td>\n",
              "      <td>0.042356</td>\n",
              "      <td>1</td>\n",
              "      <td>1</td>\n",
              "    </tr>\n",
              "  </tbody>\n",
              "</table>\n",
              "</div>\n",
              "      <button class=\"colab-df-convert\" onclick=\"convertToInteractive('df-670180c6-80ff-4f06-a514-ba6a9efd9d06')\"\n",
              "              title=\"Convert this dataframe to an interactive table.\"\n",
              "              style=\"display:none;\">\n",
              "        \n",
              "  <svg xmlns=\"http://www.w3.org/2000/svg\" height=\"24px\"viewBox=\"0 0 24 24\"\n",
              "       width=\"24px\">\n",
              "    <path d=\"M0 0h24v24H0V0z\" fill=\"none\"/>\n",
              "    <path d=\"M18.56 5.44l.94 2.06.94-2.06 2.06-.94-2.06-.94-.94-2.06-.94 2.06-2.06.94zm-11 1L8.5 8.5l.94-2.06 2.06-.94-2.06-.94L8.5 2.5l-.94 2.06-2.06.94zm10 10l.94 2.06.94-2.06 2.06-.94-2.06-.94-.94-2.06-.94 2.06-2.06.94z\"/><path d=\"M17.41 7.96l-1.37-1.37c-.4-.4-.92-.59-1.43-.59-.52 0-1.04.2-1.43.59L10.3 9.45l-7.72 7.72c-.78.78-.78 2.05 0 2.83L4 21.41c.39.39.9.59 1.41.59.51 0 1.02-.2 1.41-.59l7.78-7.78 2.81-2.81c.8-.78.8-2.07 0-2.86zM5.41 20L4 18.59l7.72-7.72 1.47 1.35L5.41 20z\"/>\n",
              "  </svg>\n",
              "      </button>\n",
              "      \n",
              "  <style>\n",
              "    .colab-df-container {\n",
              "      display:flex;\n",
              "      flex-wrap:wrap;\n",
              "      gap: 12px;\n",
              "    }\n",
              "\n",
              "    .colab-df-convert {\n",
              "      background-color: #E8F0FE;\n",
              "      border: none;\n",
              "      border-radius: 50%;\n",
              "      cursor: pointer;\n",
              "      display: none;\n",
              "      fill: #1967D2;\n",
              "      height: 32px;\n",
              "      padding: 0 0 0 0;\n",
              "      width: 32px;\n",
              "    }\n",
              "\n",
              "    .colab-df-convert:hover {\n",
              "      background-color: #E2EBFA;\n",
              "      box-shadow: 0px 1px 2px rgba(60, 64, 67, 0.3), 0px 1px 3px 1px rgba(60, 64, 67, 0.15);\n",
              "      fill: #174EA6;\n",
              "    }\n",
              "\n",
              "    [theme=dark] .colab-df-convert {\n",
              "      background-color: #3B4455;\n",
              "      fill: #D2E3FC;\n",
              "    }\n",
              "\n",
              "    [theme=dark] .colab-df-convert:hover {\n",
              "      background-color: #434B5C;\n",
              "      box-shadow: 0px 1px 3px 1px rgba(0, 0, 0, 0.15);\n",
              "      filter: drop-shadow(0px 1px 2px rgba(0, 0, 0, 0.3));\n",
              "      fill: #FFFFFF;\n",
              "    }\n",
              "  </style>\n",
              "\n",
              "      <script>\n",
              "        const buttonEl =\n",
              "          document.querySelector('#df-670180c6-80ff-4f06-a514-ba6a9efd9d06 button.colab-df-convert');\n",
              "        buttonEl.style.display =\n",
              "          google.colab.kernel.accessAllowed ? 'block' : 'none';\n",
              "\n",
              "        async function convertToInteractive(key) {\n",
              "          const element = document.querySelector('#df-670180c6-80ff-4f06-a514-ba6a9efd9d06');\n",
              "          const dataTable =\n",
              "            await google.colab.kernel.invokeFunction('convertToInteractive',\n",
              "                                                     [key], {});\n",
              "          if (!dataTable) return;\n",
              "\n",
              "          const docLinkHtml = 'Like what you see? Visit the ' +\n",
              "            '<a target=\"_blank\" href=https://colab.research.google.com/notebooks/data_table.ipynb>data table notebook</a>'\n",
              "            + ' to learn more about interactive tables.';\n",
              "          element.innerHTML = '';\n",
              "          dataTable['output_type'] = 'display_data';\n",
              "          await google.colab.output.renderOutput(dataTable, element);\n",
              "          const docLink = document.createElement('div');\n",
              "          docLink.innerHTML = docLinkHtml;\n",
              "          element.appendChild(docLink);\n",
              "        }\n",
              "      </script>\n",
              "    </div>\n",
              "  </div>\n",
              "  "
            ]
          },
          "metadata": {},
          "execution_count": 15
        }
      ],
      "source": [
        "# Then we need to know what every synthetic transaction should contain: a date, a customer_id, an article_id, price, sales_channel_id. We will set ordered = 0, as these transactions didn't really occur.\n",
        "transactions.head()"
      ]
    },
    {
      "cell_type": "code",
      "execution_count": null,
      "metadata": {
        "pycharm": {
          "is_executing": true
        },
        "id": "tAFesq8EvyYp"
      },
      "outputs": [],
      "source": [
        "# Extract real values\n",
        "real_dates = transactions[\"t_dat\"].unique()\n",
        "real_customers = transactions[\"customer_id\"].unique()\n",
        "real_articles = transactions[\"article_id\"].unique()\n",
        "real_channels = transactions[\"sales_channel_id\"].unique()\n",
        "article_and_price = transactions[[\"article_id\",\"price\"]].drop_duplicates(\"article_id\").set_index(\"article_id\").squeeze()"
      ]
    },
    {
      "cell_type": "code",
      "execution_count": null,
      "metadata": {
        "pycharm": {
          "is_executing": true
        },
        "colab": {
          "base_uri": "https://localhost:8080/"
        },
        "id": "gxv8LbXDvyYp",
        "outputId": "c161f281-3587-4baf-e13e-e0e618c2b993"
      },
      "outputs": [
        {
          "output_type": "stream",
          "name": "stdout",
          "text": [
            "1585334\n"
          ]
        }
      ],
      "source": [
        "# How many negatives do we need to sample?\n",
        "num_neg_pos = transactions.shape[0]\n",
        "print(num_neg_pos)"
      ]
    },
    {
      "cell_type": "code",
      "execution_count": null,
      "metadata": {
        "pycharm": {
          "is_executing": true
        },
        "id": "GdBLrZQCvyYq"
      },
      "outputs": [],
      "source": [
        "# Sampling negatives by selecting random users, articles, dates and sales channel:\n",
        "# Note: This is quite naive. Some articles may not even have been available at the date we are sampling.\n",
        "random.seed(42)\n",
        "\n",
        "# Afterwards, we need to remove potential duplicates, so we'll sample too many.\n",
        "num_neg_samples = int(num_neg_pos * 1.1)\n",
        "\n",
        "# Sample each of the independent attributes.\n",
        "neg_dates = np.random.choice(real_dates, size=num_neg_samples)\n",
        "neg_articles = np.random.choice(real_articles, size=num_neg_samples)\n",
        "neg_customers = np.random.choice(real_customers, size=num_neg_samples)\n",
        "neg_channels = np.random.choice(real_channels, size=num_neg_samples)\n",
        "ordered = np.array([0] * num_neg_samples)\n",
        "# Assign to every article a real price.\n",
        "neg_prices = article_and_price[neg_articles].values"
      ]
    },
    {
      "cell_type": "code",
      "execution_count": null,
      "metadata": {
        "pycharm": {
          "is_executing": true
        },
        "id": "l4ETxvBPvyYq"
      },
      "outputs": [],
      "source": [
        "neg_transactions = pd.DataFrame([neg_dates, neg_customers, neg_articles, neg_prices, neg_channels, ordered], index=transactions.columns).T"
      ]
    },
    {
      "cell_type": "code",
      "execution_count": null,
      "metadata": {
        "pycharm": {
          "is_executing": true
        },
        "colab": {
          "base_uri": "https://localhost:8080/",
          "height": 206
        },
        "id": "FVX4QtbRvyYq",
        "outputId": "9dd38d2b-2074-4a4c-a714-0bd48c5c970c"
      },
      "outputs": [
        {
          "output_type": "execute_result",
          "data": {
            "text/plain": [
              "        t_dat                                        customer_id article_id  \\\n",
              "0  2019-06-10  8ec48266c60fb104df24c8e9637760de9ad1416de4d304...  730048001   \n",
              "1  2019-08-19  b87a66430e43d2faa27ea1a4ea8b7086d47e7ff4b5af01...  576396001   \n",
              "2  2019-01-07  f70d96cb02b6a4ef871dd6f209b6020cd5c4a67e3586fe...  819022001   \n",
              "3  2020-04-26  35713ac634ac2913946f35a3b250773c6f2cab337d6ad3...  922753001   \n",
              "4  2019-12-13  989bd07a42a143ed34194a789e8f7ce8b1d13b28afca02...  827704004   \n",
              "\n",
              "      price sales_channel_id ordered  \n",
              "0  0.022017                1       0  \n",
              "1  0.022017                1       0  \n",
              "2  0.025407                2       0  \n",
              "3  0.016932                1       0  \n",
              "4  0.027102                1       0  "
            ],
            "text/html": [
              "\n",
              "  <div id=\"df-a02c198d-383d-4cb1-9115-b74b530cd197\">\n",
              "    <div class=\"colab-df-container\">\n",
              "      <div>\n",
              "<style scoped>\n",
              "    .dataframe tbody tr th:only-of-type {\n",
              "        vertical-align: middle;\n",
              "    }\n",
              "\n",
              "    .dataframe tbody tr th {\n",
              "        vertical-align: top;\n",
              "    }\n",
              "\n",
              "    .dataframe thead th {\n",
              "        text-align: right;\n",
              "    }\n",
              "</style>\n",
              "<table border=\"1\" class=\"dataframe\">\n",
              "  <thead>\n",
              "    <tr style=\"text-align: right;\">\n",
              "      <th></th>\n",
              "      <th>t_dat</th>\n",
              "      <th>customer_id</th>\n",
              "      <th>article_id</th>\n",
              "      <th>price</th>\n",
              "      <th>sales_channel_id</th>\n",
              "      <th>ordered</th>\n",
              "    </tr>\n",
              "  </thead>\n",
              "  <tbody>\n",
              "    <tr>\n",
              "      <th>0</th>\n",
              "      <td>2019-06-10</td>\n",
              "      <td>8ec48266c60fb104df24c8e9637760de9ad1416de4d304...</td>\n",
              "      <td>730048001</td>\n",
              "      <td>0.022017</td>\n",
              "      <td>1</td>\n",
              "      <td>0</td>\n",
              "    </tr>\n",
              "    <tr>\n",
              "      <th>1</th>\n",
              "      <td>2019-08-19</td>\n",
              "      <td>b87a66430e43d2faa27ea1a4ea8b7086d47e7ff4b5af01...</td>\n",
              "      <td>576396001</td>\n",
              "      <td>0.022017</td>\n",
              "      <td>1</td>\n",
              "      <td>0</td>\n",
              "    </tr>\n",
              "    <tr>\n",
              "      <th>2</th>\n",
              "      <td>2019-01-07</td>\n",
              "      <td>f70d96cb02b6a4ef871dd6f209b6020cd5c4a67e3586fe...</td>\n",
              "      <td>819022001</td>\n",
              "      <td>0.025407</td>\n",
              "      <td>2</td>\n",
              "      <td>0</td>\n",
              "    </tr>\n",
              "    <tr>\n",
              "      <th>3</th>\n",
              "      <td>2020-04-26</td>\n",
              "      <td>35713ac634ac2913946f35a3b250773c6f2cab337d6ad3...</td>\n",
              "      <td>922753001</td>\n",
              "      <td>0.016932</td>\n",
              "      <td>1</td>\n",
              "      <td>0</td>\n",
              "    </tr>\n",
              "    <tr>\n",
              "      <th>4</th>\n",
              "      <td>2019-12-13</td>\n",
              "      <td>989bd07a42a143ed34194a789e8f7ce8b1d13b28afca02...</td>\n",
              "      <td>827704004</td>\n",
              "      <td>0.027102</td>\n",
              "      <td>1</td>\n",
              "      <td>0</td>\n",
              "    </tr>\n",
              "  </tbody>\n",
              "</table>\n",
              "</div>\n",
              "      <button class=\"colab-df-convert\" onclick=\"convertToInteractive('df-a02c198d-383d-4cb1-9115-b74b530cd197')\"\n",
              "              title=\"Convert this dataframe to an interactive table.\"\n",
              "              style=\"display:none;\">\n",
              "        \n",
              "  <svg xmlns=\"http://www.w3.org/2000/svg\" height=\"24px\"viewBox=\"0 0 24 24\"\n",
              "       width=\"24px\">\n",
              "    <path d=\"M0 0h24v24H0V0z\" fill=\"none\"/>\n",
              "    <path d=\"M18.56 5.44l.94 2.06.94-2.06 2.06-.94-2.06-.94-.94-2.06-.94 2.06-2.06.94zm-11 1L8.5 8.5l.94-2.06 2.06-.94-2.06-.94L8.5 2.5l-.94 2.06-2.06.94zm10 10l.94 2.06.94-2.06 2.06-.94-2.06-.94-.94-2.06-.94 2.06-2.06.94z\"/><path d=\"M17.41 7.96l-1.37-1.37c-.4-.4-.92-.59-1.43-.59-.52 0-1.04.2-1.43.59L10.3 9.45l-7.72 7.72c-.78.78-.78 2.05 0 2.83L4 21.41c.39.39.9.59 1.41.59.51 0 1.02-.2 1.41-.59l7.78-7.78 2.81-2.81c.8-.78.8-2.07 0-2.86zM5.41 20L4 18.59l7.72-7.72 1.47 1.35L5.41 20z\"/>\n",
              "  </svg>\n",
              "      </button>\n",
              "      \n",
              "  <style>\n",
              "    .colab-df-container {\n",
              "      display:flex;\n",
              "      flex-wrap:wrap;\n",
              "      gap: 12px;\n",
              "    }\n",
              "\n",
              "    .colab-df-convert {\n",
              "      background-color: #E8F0FE;\n",
              "      border: none;\n",
              "      border-radius: 50%;\n",
              "      cursor: pointer;\n",
              "      display: none;\n",
              "      fill: #1967D2;\n",
              "      height: 32px;\n",
              "      padding: 0 0 0 0;\n",
              "      width: 32px;\n",
              "    }\n",
              "\n",
              "    .colab-df-convert:hover {\n",
              "      background-color: #E2EBFA;\n",
              "      box-shadow: 0px 1px 2px rgba(60, 64, 67, 0.3), 0px 1px 3px 1px rgba(60, 64, 67, 0.15);\n",
              "      fill: #174EA6;\n",
              "    }\n",
              "\n",
              "    [theme=dark] .colab-df-convert {\n",
              "      background-color: #3B4455;\n",
              "      fill: #D2E3FC;\n",
              "    }\n",
              "\n",
              "    [theme=dark] .colab-df-convert:hover {\n",
              "      background-color: #434B5C;\n",
              "      box-shadow: 0px 1px 3px 1px rgba(0, 0, 0, 0.15);\n",
              "      filter: drop-shadow(0px 1px 2px rgba(0, 0, 0, 0.3));\n",
              "      fill: #FFFFFF;\n",
              "    }\n",
              "  </style>\n",
              "\n",
              "      <script>\n",
              "        const buttonEl =\n",
              "          document.querySelector('#df-a02c198d-383d-4cb1-9115-b74b530cd197 button.colab-df-convert');\n",
              "        buttonEl.style.display =\n",
              "          google.colab.kernel.accessAllowed ? 'block' : 'none';\n",
              "\n",
              "        async function convertToInteractive(key) {\n",
              "          const element = document.querySelector('#df-a02c198d-383d-4cb1-9115-b74b530cd197');\n",
              "          const dataTable =\n",
              "            await google.colab.kernel.invokeFunction('convertToInteractive',\n",
              "                                                     [key], {});\n",
              "          if (!dataTable) return;\n",
              "\n",
              "          const docLinkHtml = 'Like what you see? Visit the ' +\n",
              "            '<a target=\"_blank\" href=https://colab.research.google.com/notebooks/data_table.ipynb>data table notebook</a>'\n",
              "            + ' to learn more about interactive tables.';\n",
              "          element.innerHTML = '';\n",
              "          dataTable['output_type'] = 'display_data';\n",
              "          await google.colab.output.renderOutput(dataTable, element);\n",
              "          const docLink = document.createElement('div');\n",
              "          docLink.innerHTML = docLinkHtml;\n",
              "          element.appendChild(docLink);\n",
              "        }\n",
              "      </script>\n",
              "    </div>\n",
              "  </div>\n",
              "  "
            ]
          },
          "metadata": {},
          "execution_count": 20
        }
      ],
      "source": [
        "# Result:\n",
        "neg_transactions.head()"
      ]
    },
    {
      "cell_type": "code",
      "execution_count": null,
      "metadata": {
        "pycharm": {
          "is_executing": true
        },
        "colab": {
          "base_uri": "https://localhost:8080/"
        },
        "id": "tmFt2Q5FvyYr",
        "outputId": "4f238dfc-c659-4cb7-94a1-251132c2a92c"
      },
      "outputs": [
        {
          "output_type": "execute_result",
          "data": {
            "text/plain": [
              "(1743867, 6)"
            ]
          },
          "metadata": {},
          "execution_count": 21
        }
      ],
      "source": [
        "neg_transactions.shape"
      ]
    },
    {
      "cell_type": "code",
      "execution_count": null,
      "metadata": {
        "pycharm": {
          "is_executing": true
        },
        "id": "uXeibdaPvyYr"
      },
      "outputs": [],
      "source": [
        "# Remove random negative samples that actually coincide with positives\n",
        "df = neg_transactions[\n",
        "    ~neg_transactions.set_index([\"customer_id\", \"article_id\"]).index.isin(positive_pairs)\n",
        "]\n",
        "\n",
        "# Remove any excess\n",
        "chosen_neg_transactions = df.sample(num_neg_pos)"
      ]
    },
    {
      "cell_type": "code",
      "execution_count": null,
      "metadata": {
        "pycharm": {
          "is_executing": true
        },
        "id": "yvlFNxU_vyYr"
      },
      "outputs": [],
      "source": [
        "# Concat the negative samples to the positive samples:\n",
        "transactions = pd.concat([transactions, chosen_neg_transactions])\n",
        "transactions = transactions.merge(customers, how=\"inner\", on='customer_id')\n",
        "transactions = transactions.merge(articles, how=\"inner\", on='article_id')"
      ]
    },
    {
      "cell_type": "code",
      "execution_count": null,
      "metadata": {
        "pycharm": {
          "is_executing": true
        },
        "colab": {
          "base_uri": "https://localhost:8080/"
        },
        "id": "4rubdf4NvyYr",
        "outputId": "3fb5814b-0851-41f6-f14f-5a9463880da9"
      },
      "outputs": [
        {
          "output_type": "stream",
          "name": "stdout",
          "text": [
            "<class 'pandas.core.frame.DataFrame'>\n",
            "Int64Index: 3170668 entries, 0 to 3170667\n",
            "Data columns (total 36 columns):\n",
            " #   Column                        Dtype  \n",
            "---  ------                        -----  \n",
            " 0   t_dat                         object \n",
            " 1   customer_id                   object \n",
            " 2   article_id                    object \n",
            " 3   price                         object \n",
            " 4   sales_channel_id              object \n",
            " 5   ordered                       object \n",
            " 6   FN                            float64\n",
            " 7   Active                        float64\n",
            " 8   club_member_status            object \n",
            " 9   fashion_news_frequency        object \n",
            " 10  age                           float64\n",
            " 11  postal_code                   object \n",
            " 12  product_code                  int64  \n",
            " 13  prod_name                     object \n",
            " 14  product_type_no               int64  \n",
            " 15  product_type_name             object \n",
            " 16  product_group_name            object \n",
            " 17  graphical_appearance_no       int64  \n",
            " 18  graphical_appearance_name     object \n",
            " 19  colour_group_code             int64  \n",
            " 20  colour_group_name             object \n",
            " 21  perceived_colour_value_id     int64  \n",
            " 22  perceived_colour_value_name   object \n",
            " 23  perceived_colour_master_id    int64  \n",
            " 24  perceived_colour_master_name  object \n",
            " 25  department_no                 int64  \n",
            " 26  department_name               object \n",
            " 27  index_code                    object \n",
            " 28  index_name                    object \n",
            " 29  index_group_no                int64  \n",
            " 30  index_group_name              object \n",
            " 31  section_no                    int64  \n",
            " 32  section_name                  object \n",
            " 33  garment_group_no              int64  \n",
            " 34  garment_group_name            object \n",
            " 35  detail_desc                   object \n",
            "dtypes: float64(3), int64(10), object(23)\n",
            "memory usage: 895.0+ MB\n"
          ]
        }
      ],
      "source": [
        "transactions.info()"
      ]
    },
    {
      "cell_type": "markdown",
      "metadata": {
        "id": "XuHzAdc1vyYr"
      },
      "source": [
        "### Basic Preprocessing\n",
        "Some very basic preprocessing."
      ]
    },
    {
      "cell_type": "code",
      "execution_count": null,
      "metadata": {
        "pycharm": {
          "is_executing": true
        },
        "colab": {
          "base_uri": "https://localhost:8080/"
        },
        "id": "DTi-XEr_vyYs",
        "outputId": "9f54257b-63eb-4c15-c6c5-6081bc31fd7c"
      },
      "outputs": [
        {
          "output_type": "execute_result",
          "data": {
            "text/plain": [
              "                                         customer_id   age article_id  \\\n",
              "0  0021da829b898f82269fc51feded4eac2129058ee95bd7...  41.0  649356002   \n",
              "1  30715fdcf3a118b192dadc87c7e486600fe75c5220cec4...  25.0  649356002   \n",
              "2  6760968bb5134b4fab2c466b659aeaa05a25658adfe872...  27.0  649356002   \n",
              "3  bd98d959ff637fbdef53211ab414ff53343dfbbba5605c...  47.0  649356002   \n",
              "4  1b35dae03781a752ce6b250219d2513ba19e7d0b04586c...  43.0  649356002   \n",
              "\n",
              "  sales_channel_id     price ordered  \n",
              "0                1  0.027441       1  \n",
              "1                1  0.027441       0  \n",
              "2                2  0.027441       0  \n",
              "3                1  0.030492       1  \n",
              "4                1   0.02439       1  "
            ],
            "text/html": [
              "\n",
              "  <div id=\"df-3b12858c-1cb2-4d31-a31b-d7e4c4cf857a\">\n",
              "    <div class=\"colab-df-container\">\n",
              "      <div>\n",
              "<style scoped>\n",
              "    .dataframe tbody tr th:only-of-type {\n",
              "        vertical-align: middle;\n",
              "    }\n",
              "\n",
              "    .dataframe tbody tr th {\n",
              "        vertical-align: top;\n",
              "    }\n",
              "\n",
              "    .dataframe thead th {\n",
              "        text-align: right;\n",
              "    }\n",
              "</style>\n",
              "<table border=\"1\" class=\"dataframe\">\n",
              "  <thead>\n",
              "    <tr style=\"text-align: right;\">\n",
              "      <th></th>\n",
              "      <th>customer_id</th>\n",
              "      <th>age</th>\n",
              "      <th>article_id</th>\n",
              "      <th>sales_channel_id</th>\n",
              "      <th>price</th>\n",
              "      <th>ordered</th>\n",
              "    </tr>\n",
              "  </thead>\n",
              "  <tbody>\n",
              "    <tr>\n",
              "      <th>0</th>\n",
              "      <td>0021da829b898f82269fc51feded4eac2129058ee95bd7...</td>\n",
              "      <td>41.0</td>\n",
              "      <td>649356002</td>\n",
              "      <td>1</td>\n",
              "      <td>0.027441</td>\n",
              "      <td>1</td>\n",
              "    </tr>\n",
              "    <tr>\n",
              "      <th>1</th>\n",
              "      <td>30715fdcf3a118b192dadc87c7e486600fe75c5220cec4...</td>\n",
              "      <td>25.0</td>\n",
              "      <td>649356002</td>\n",
              "      <td>1</td>\n",
              "      <td>0.027441</td>\n",
              "      <td>0</td>\n",
              "    </tr>\n",
              "    <tr>\n",
              "      <th>2</th>\n",
              "      <td>6760968bb5134b4fab2c466b659aeaa05a25658adfe872...</td>\n",
              "      <td>27.0</td>\n",
              "      <td>649356002</td>\n",
              "      <td>2</td>\n",
              "      <td>0.027441</td>\n",
              "      <td>0</td>\n",
              "    </tr>\n",
              "    <tr>\n",
              "      <th>3</th>\n",
              "      <td>bd98d959ff637fbdef53211ab414ff53343dfbbba5605c...</td>\n",
              "      <td>47.0</td>\n",
              "      <td>649356002</td>\n",
              "      <td>1</td>\n",
              "      <td>0.030492</td>\n",
              "      <td>1</td>\n",
              "    </tr>\n",
              "    <tr>\n",
              "      <th>4</th>\n",
              "      <td>1b35dae03781a752ce6b250219d2513ba19e7d0b04586c...</td>\n",
              "      <td>43.0</td>\n",
              "      <td>649356002</td>\n",
              "      <td>1</td>\n",
              "      <td>0.02439</td>\n",
              "      <td>1</td>\n",
              "    </tr>\n",
              "  </tbody>\n",
              "</table>\n",
              "</div>\n",
              "      <button class=\"colab-df-convert\" onclick=\"convertToInteractive('df-3b12858c-1cb2-4d31-a31b-d7e4c4cf857a')\"\n",
              "              title=\"Convert this dataframe to an interactive table.\"\n",
              "              style=\"display:none;\">\n",
              "        \n",
              "  <svg xmlns=\"http://www.w3.org/2000/svg\" height=\"24px\"viewBox=\"0 0 24 24\"\n",
              "       width=\"24px\">\n",
              "    <path d=\"M0 0h24v24H0V0z\" fill=\"none\"/>\n",
              "    <path d=\"M18.56 5.44l.94 2.06.94-2.06 2.06-.94-2.06-.94-.94-2.06-.94 2.06-2.06.94zm-11 1L8.5 8.5l.94-2.06 2.06-.94-2.06-.94L8.5 2.5l-.94 2.06-2.06.94zm10 10l.94 2.06.94-2.06 2.06-.94-2.06-.94-.94-2.06-.94 2.06-2.06.94z\"/><path d=\"M17.41 7.96l-1.37-1.37c-.4-.4-.92-.59-1.43-.59-.52 0-1.04.2-1.43.59L10.3 9.45l-7.72 7.72c-.78.78-.78 2.05 0 2.83L4 21.41c.39.39.9.59 1.41.59.51 0 1.02-.2 1.41-.59l7.78-7.78 2.81-2.81c.8-.78.8-2.07 0-2.86zM5.41 20L4 18.59l7.72-7.72 1.47 1.35L5.41 20z\"/>\n",
              "  </svg>\n",
              "      </button>\n",
              "      \n",
              "  <style>\n",
              "    .colab-df-container {\n",
              "      display:flex;\n",
              "      flex-wrap:wrap;\n",
              "      gap: 12px;\n",
              "    }\n",
              "\n",
              "    .colab-df-convert {\n",
              "      background-color: #E8F0FE;\n",
              "      border: none;\n",
              "      border-radius: 50%;\n",
              "      cursor: pointer;\n",
              "      display: none;\n",
              "      fill: #1967D2;\n",
              "      height: 32px;\n",
              "      padding: 0 0 0 0;\n",
              "      width: 32px;\n",
              "    }\n",
              "\n",
              "    .colab-df-convert:hover {\n",
              "      background-color: #E2EBFA;\n",
              "      box-shadow: 0px 1px 2px rgba(60, 64, 67, 0.3), 0px 1px 3px 1px rgba(60, 64, 67, 0.15);\n",
              "      fill: #174EA6;\n",
              "    }\n",
              "\n",
              "    [theme=dark] .colab-df-convert {\n",
              "      background-color: #3B4455;\n",
              "      fill: #D2E3FC;\n",
              "    }\n",
              "\n",
              "    [theme=dark] .colab-df-convert:hover {\n",
              "      background-color: #434B5C;\n",
              "      box-shadow: 0px 1px 3px 1px rgba(0, 0, 0, 0.15);\n",
              "      filter: drop-shadow(0px 1px 2px rgba(0, 0, 0, 0.3));\n",
              "      fill: #FFFFFF;\n",
              "    }\n",
              "  </style>\n",
              "\n",
              "      <script>\n",
              "        const buttonEl =\n",
              "          document.querySelector('#df-3b12858c-1cb2-4d31-a31b-d7e4c4cf857a button.colab-df-convert');\n",
              "        buttonEl.style.display =\n",
              "          google.colab.kernel.accessAllowed ? 'block' : 'none';\n",
              "\n",
              "        async function convertToInteractive(key) {\n",
              "          const element = document.querySelector('#df-3b12858c-1cb2-4d31-a31b-d7e4c4cf857a');\n",
              "          const dataTable =\n",
              "            await google.colab.kernel.invokeFunction('convertToInteractive',\n",
              "                                                     [key], {});\n",
              "          if (!dataTable) return;\n",
              "\n",
              "          const docLinkHtml = 'Like what you see? Visit the ' +\n",
              "            '<a target=\"_blank\" href=https://colab.research.google.com/notebooks/data_table.ipynb>data table notebook</a>'\n",
              "            + ' to learn more about interactive tables.';\n",
              "          element.innerHTML = '';\n",
              "          dataTable['output_type'] = 'display_data';\n",
              "          await google.colab.output.renderOutput(dataTable, element);\n",
              "          const docLink = document.createElement('div');\n",
              "          docLink.innerHTML = docLinkHtml;\n",
              "          element.appendChild(docLink);\n",
              "        }\n",
              "      </script>\n",
              "    </div>\n",
              "  </div>\n",
              "  "
            ]
          },
          "metadata": {},
          "execution_count": 25
        }
      ],
      "source": [
        "# I'm dropping a lot of columns, use them in your engineering tasks!\n",
        "transactions_processed = transactions[['customer_id', 'age', 'article_id', 'sales_channel_id', 'price', 'ordered']].copy()\n",
        "transactions_processed.head()"
      ]
    },
    {
      "cell_type": "code",
      "execution_count": null,
      "metadata": {
        "pycharm": {
          "is_executing": true
        },
        "id": "lL4U0kK7vyYs"
      },
      "outputs": [],
      "source": [
        "# Does it make sense to label encode?\n",
        "# Label encoding the customer and article IDs:\n",
        "customer_encoder = preprocessing.LabelEncoder()\n",
        "article_encoder = preprocessing.LabelEncoder()"
      ]
    },
    {
      "cell_type": "code",
      "execution_count": null,
      "metadata": {
        "pycharm": {
          "is_executing": true
        },
        "id": "plAVR1HtvyYs"
      },
      "outputs": [],
      "source": [
        "transactions_processed['customer_id'] = customer_encoder.fit_transform(transactions_processed['customer_id'])\n",
        "transactions_processed['article_id'] = article_encoder.fit_transform(transactions_processed['article_id'])"
      ]
    },
    {
      "cell_type": "code",
      "execution_count": null,
      "metadata": {
        "pycharm": {
          "is_executing": true
        },
        "colab": {
          "base_uri": "https://localhost:8080/"
        },
        "id": "0fHa78ZRvyYs",
        "outputId": "694788db-db49-48d7-de7f-6ad65901dc54"
      },
      "outputs": [
        {
          "output_type": "execute_result",
          "data": {
            "text/plain": [
              "array(['0002b7a7ab270a638fcb2eb5899c58696db24d9d954ddb43683dd6b0ffa292f0'],\n",
              "      dtype=object)"
            ]
          },
          "metadata": {},
          "execution_count": 28
        }
      ],
      "source": [
        "# If you want to go back to the original encoding:\n",
        "customer_encoder.inverse_transform([2])"
      ]
    },
    {
      "cell_type": "code",
      "execution_count": null,
      "metadata": {
        "pycharm": {
          "is_executing": true
        },
        "colab": {
          "base_uri": "https://localhost:8080/"
        },
        "id": "Mu9eoMOCvyYt",
        "outputId": "7fc796ee-9220-48f3-de80-b35ee1e73124"
      },
      "outputs": [
        {
          "output_type": "execute_result",
          "data": {
            "text/plain": [
              "   customer_id   age  article_id sales_channel_id     price ordered\n",
              "0           36  41.0       23268                1  0.027441       1\n",
              "1        12830  25.0       23268                1  0.027441       0\n",
              "2        27495  27.0       23268                2  0.027441       0\n",
              "3        50300  47.0       23268                1  0.030492       1\n",
              "4         7105  43.0       23268                1   0.02439       1"
            ],
            "text/html": [
              "\n",
              "  <div id=\"df-62cede5c-05a2-4675-a339-de0613f5e4d2\">\n",
              "    <div class=\"colab-df-container\">\n",
              "      <div>\n",
              "<style scoped>\n",
              "    .dataframe tbody tr th:only-of-type {\n",
              "        vertical-align: middle;\n",
              "    }\n",
              "\n",
              "    .dataframe tbody tr th {\n",
              "        vertical-align: top;\n",
              "    }\n",
              "\n",
              "    .dataframe thead th {\n",
              "        text-align: right;\n",
              "    }\n",
              "</style>\n",
              "<table border=\"1\" class=\"dataframe\">\n",
              "  <thead>\n",
              "    <tr style=\"text-align: right;\">\n",
              "      <th></th>\n",
              "      <th>customer_id</th>\n",
              "      <th>age</th>\n",
              "      <th>article_id</th>\n",
              "      <th>sales_channel_id</th>\n",
              "      <th>price</th>\n",
              "      <th>ordered</th>\n",
              "    </tr>\n",
              "  </thead>\n",
              "  <tbody>\n",
              "    <tr>\n",
              "      <th>0</th>\n",
              "      <td>36</td>\n",
              "      <td>41.0</td>\n",
              "      <td>23268</td>\n",
              "      <td>1</td>\n",
              "      <td>0.027441</td>\n",
              "      <td>1</td>\n",
              "    </tr>\n",
              "    <tr>\n",
              "      <th>1</th>\n",
              "      <td>12830</td>\n",
              "      <td>25.0</td>\n",
              "      <td>23268</td>\n",
              "      <td>1</td>\n",
              "      <td>0.027441</td>\n",
              "      <td>0</td>\n",
              "    </tr>\n",
              "    <tr>\n",
              "      <th>2</th>\n",
              "      <td>27495</td>\n",
              "      <td>27.0</td>\n",
              "      <td>23268</td>\n",
              "      <td>2</td>\n",
              "      <td>0.027441</td>\n",
              "      <td>0</td>\n",
              "    </tr>\n",
              "    <tr>\n",
              "      <th>3</th>\n",
              "      <td>50300</td>\n",
              "      <td>47.0</td>\n",
              "      <td>23268</td>\n",
              "      <td>1</td>\n",
              "      <td>0.030492</td>\n",
              "      <td>1</td>\n",
              "    </tr>\n",
              "    <tr>\n",
              "      <th>4</th>\n",
              "      <td>7105</td>\n",
              "      <td>43.0</td>\n",
              "      <td>23268</td>\n",
              "      <td>1</td>\n",
              "      <td>0.02439</td>\n",
              "      <td>1</td>\n",
              "    </tr>\n",
              "  </tbody>\n",
              "</table>\n",
              "</div>\n",
              "      <button class=\"colab-df-convert\" onclick=\"convertToInteractive('df-62cede5c-05a2-4675-a339-de0613f5e4d2')\"\n",
              "              title=\"Convert this dataframe to an interactive table.\"\n",
              "              style=\"display:none;\">\n",
              "        \n",
              "  <svg xmlns=\"http://www.w3.org/2000/svg\" height=\"24px\"viewBox=\"0 0 24 24\"\n",
              "       width=\"24px\">\n",
              "    <path d=\"M0 0h24v24H0V0z\" fill=\"none\"/>\n",
              "    <path d=\"M18.56 5.44l.94 2.06.94-2.06 2.06-.94-2.06-.94-.94-2.06-.94 2.06-2.06.94zm-11 1L8.5 8.5l.94-2.06 2.06-.94-2.06-.94L8.5 2.5l-.94 2.06-2.06.94zm10 10l.94 2.06.94-2.06 2.06-.94-2.06-.94-.94-2.06-.94 2.06-2.06.94z\"/><path d=\"M17.41 7.96l-1.37-1.37c-.4-.4-.92-.59-1.43-.59-.52 0-1.04.2-1.43.59L10.3 9.45l-7.72 7.72c-.78.78-.78 2.05 0 2.83L4 21.41c.39.39.9.59 1.41.59.51 0 1.02-.2 1.41-.59l7.78-7.78 2.81-2.81c.8-.78.8-2.07 0-2.86zM5.41 20L4 18.59l7.72-7.72 1.47 1.35L5.41 20z\"/>\n",
              "  </svg>\n",
              "      </button>\n",
              "      \n",
              "  <style>\n",
              "    .colab-df-container {\n",
              "      display:flex;\n",
              "      flex-wrap:wrap;\n",
              "      gap: 12px;\n",
              "    }\n",
              "\n",
              "    .colab-df-convert {\n",
              "      background-color: #E8F0FE;\n",
              "      border: none;\n",
              "      border-radius: 50%;\n",
              "      cursor: pointer;\n",
              "      display: none;\n",
              "      fill: #1967D2;\n",
              "      height: 32px;\n",
              "      padding: 0 0 0 0;\n",
              "      width: 32px;\n",
              "    }\n",
              "\n",
              "    .colab-df-convert:hover {\n",
              "      background-color: #E2EBFA;\n",
              "      box-shadow: 0px 1px 2px rgba(60, 64, 67, 0.3), 0px 1px 3px 1px rgba(60, 64, 67, 0.15);\n",
              "      fill: #174EA6;\n",
              "    }\n",
              "\n",
              "    [theme=dark] .colab-df-convert {\n",
              "      background-color: #3B4455;\n",
              "      fill: #D2E3FC;\n",
              "    }\n",
              "\n",
              "    [theme=dark] .colab-df-convert:hover {\n",
              "      background-color: #434B5C;\n",
              "      box-shadow: 0px 1px 3px 1px rgba(0, 0, 0, 0.15);\n",
              "      filter: drop-shadow(0px 1px 2px rgba(0, 0, 0, 0.3));\n",
              "      fill: #FFFFFF;\n",
              "    }\n",
              "  </style>\n",
              "\n",
              "      <script>\n",
              "        const buttonEl =\n",
              "          document.querySelector('#df-62cede5c-05a2-4675-a339-de0613f5e4d2 button.colab-df-convert');\n",
              "        buttonEl.style.display =\n",
              "          google.colab.kernel.accessAllowed ? 'block' : 'none';\n",
              "\n",
              "        async function convertToInteractive(key) {\n",
              "          const element = document.querySelector('#df-62cede5c-05a2-4675-a339-de0613f5e4d2');\n",
              "          const dataTable =\n",
              "            await google.colab.kernel.invokeFunction('convertToInteractive',\n",
              "                                                     [key], {});\n",
              "          if (!dataTable) return;\n",
              "\n",
              "          const docLinkHtml = 'Like what you see? Visit the ' +\n",
              "            '<a target=\"_blank\" href=https://colab.research.google.com/notebooks/data_table.ipynb>data table notebook</a>'\n",
              "            + ' to learn more about interactive tables.';\n",
              "          element.innerHTML = '';\n",
              "          dataTable['output_type'] = 'display_data';\n",
              "          await google.colab.output.renderOutput(dataTable, element);\n",
              "          const docLink = document.createElement('div');\n",
              "          docLink.innerHTML = docLinkHtml;\n",
              "          element.appendChild(docLink);\n",
              "        }\n",
              "      </script>\n",
              "    </div>\n",
              "  </div>\n",
              "  "
            ]
          },
          "metadata": {},
          "execution_count": 29
        }
      ],
      "source": [
        "transactions_processed.head()"
      ]
    },
    {
      "cell_type": "code",
      "execution_count": null,
      "metadata": {
        "pycharm": {
          "is_executing": true
        },
        "colab": {
          "base_uri": "https://localhost:8080/"
        },
        "id": "kUMZ7eGJvyYt",
        "outputId": "a74ecd98-f89f-4b72-dbfc-a38f9076b1b3"
      },
      "outputs": [
        {
          "output_type": "execute_result",
          "data": {
            "text/plain": [
              "False"
            ]
          },
          "metadata": {},
          "execution_count": 30
        }
      ],
      "source": [
        "# Can you come up with a NaN strategy that makes sense for each column in the dataset?\n",
        "# Imputing all NaN values with zeros:\n",
        "transactions_processed = transactions_processed.fillna(0)\n",
        "transactions_processed.isnull().values.any()"
      ]
    },
    {
      "cell_type": "code",
      "execution_count": null,
      "metadata": {
        "pycharm": {
          "is_executing": true
        },
        "id": "ykf5oh2XvyYt"
      },
      "outputs": [],
      "source": [
        "# Does it make sense to one-hot encode?\n",
        "# One-hot-encoding sales_channel_id:\n",
        "transactions_processed = pd.get_dummies(transactions_processed, columns=['sales_channel_id'])"
      ]
    },
    {
      "cell_type": "code",
      "execution_count": null,
      "metadata": {
        "pycharm": {
          "is_executing": true
        },
        "colab": {
          "base_uri": "https://localhost:8080/"
        },
        "id": "b_FmOzOovyYt",
        "outputId": "e84eacc6-40c1-4ec2-9e21-c51a3b33fc65"
      },
      "outputs": [
        {
          "output_type": "execute_result",
          "data": {
            "text/plain": [
              "   customer_id   age  article_id     price  ordered  sales_channel_id_1  \\\n",
              "0           36  41.0       23268  0.027441        1                   1   \n",
              "1        12830  25.0       23268  0.027441        0                   1   \n",
              "2        27495  27.0       23268  0.027441        0                   0   \n",
              "3        50300  47.0       23268  0.030492        1                   1   \n",
              "4         7105  43.0       23268  0.024390        1                   1   \n",
              "\n",
              "   sales_channel_id_2  \n",
              "0                   0  \n",
              "1                   0  \n",
              "2                   1  \n",
              "3                   0  \n",
              "4                   0  "
            ],
            "text/html": [
              "\n",
              "  <div id=\"df-f16c223f-a7ff-4153-b9b7-c1f3a424f88a\">\n",
              "    <div class=\"colab-df-container\">\n",
              "      <div>\n",
              "<style scoped>\n",
              "    .dataframe tbody tr th:only-of-type {\n",
              "        vertical-align: middle;\n",
              "    }\n",
              "\n",
              "    .dataframe tbody tr th {\n",
              "        vertical-align: top;\n",
              "    }\n",
              "\n",
              "    .dataframe thead th {\n",
              "        text-align: right;\n",
              "    }\n",
              "</style>\n",
              "<table border=\"1\" class=\"dataframe\">\n",
              "  <thead>\n",
              "    <tr style=\"text-align: right;\">\n",
              "      <th></th>\n",
              "      <th>customer_id</th>\n",
              "      <th>age</th>\n",
              "      <th>article_id</th>\n",
              "      <th>price</th>\n",
              "      <th>ordered</th>\n",
              "      <th>sales_channel_id_1</th>\n",
              "      <th>sales_channel_id_2</th>\n",
              "    </tr>\n",
              "  </thead>\n",
              "  <tbody>\n",
              "    <tr>\n",
              "      <th>0</th>\n",
              "      <td>36</td>\n",
              "      <td>41.0</td>\n",
              "      <td>23268</td>\n",
              "      <td>0.027441</td>\n",
              "      <td>1</td>\n",
              "      <td>1</td>\n",
              "      <td>0</td>\n",
              "    </tr>\n",
              "    <tr>\n",
              "      <th>1</th>\n",
              "      <td>12830</td>\n",
              "      <td>25.0</td>\n",
              "      <td>23268</td>\n",
              "      <td>0.027441</td>\n",
              "      <td>0</td>\n",
              "      <td>1</td>\n",
              "      <td>0</td>\n",
              "    </tr>\n",
              "    <tr>\n",
              "      <th>2</th>\n",
              "      <td>27495</td>\n",
              "      <td>27.0</td>\n",
              "      <td>23268</td>\n",
              "      <td>0.027441</td>\n",
              "      <td>0</td>\n",
              "      <td>0</td>\n",
              "      <td>1</td>\n",
              "    </tr>\n",
              "    <tr>\n",
              "      <th>3</th>\n",
              "      <td>50300</td>\n",
              "      <td>47.0</td>\n",
              "      <td>23268</td>\n",
              "      <td>0.030492</td>\n",
              "      <td>1</td>\n",
              "      <td>1</td>\n",
              "      <td>0</td>\n",
              "    </tr>\n",
              "    <tr>\n",
              "      <th>4</th>\n",
              "      <td>7105</td>\n",
              "      <td>43.0</td>\n",
              "      <td>23268</td>\n",
              "      <td>0.024390</td>\n",
              "      <td>1</td>\n",
              "      <td>1</td>\n",
              "      <td>0</td>\n",
              "    </tr>\n",
              "  </tbody>\n",
              "</table>\n",
              "</div>\n",
              "      <button class=\"colab-df-convert\" onclick=\"convertToInteractive('df-f16c223f-a7ff-4153-b9b7-c1f3a424f88a')\"\n",
              "              title=\"Convert this dataframe to an interactive table.\"\n",
              "              style=\"display:none;\">\n",
              "        \n",
              "  <svg xmlns=\"http://www.w3.org/2000/svg\" height=\"24px\"viewBox=\"0 0 24 24\"\n",
              "       width=\"24px\">\n",
              "    <path d=\"M0 0h24v24H0V0z\" fill=\"none\"/>\n",
              "    <path d=\"M18.56 5.44l.94 2.06.94-2.06 2.06-.94-2.06-.94-.94-2.06-.94 2.06-2.06.94zm-11 1L8.5 8.5l.94-2.06 2.06-.94-2.06-.94L8.5 2.5l-.94 2.06-2.06.94zm10 10l.94 2.06.94-2.06 2.06-.94-2.06-.94-.94-2.06-.94 2.06-2.06.94z\"/><path d=\"M17.41 7.96l-1.37-1.37c-.4-.4-.92-.59-1.43-.59-.52 0-1.04.2-1.43.59L10.3 9.45l-7.72 7.72c-.78.78-.78 2.05 0 2.83L4 21.41c.39.39.9.59 1.41.59.51 0 1.02-.2 1.41-.59l7.78-7.78 2.81-2.81c.8-.78.8-2.07 0-2.86zM5.41 20L4 18.59l7.72-7.72 1.47 1.35L5.41 20z\"/>\n",
              "  </svg>\n",
              "      </button>\n",
              "      \n",
              "  <style>\n",
              "    .colab-df-container {\n",
              "      display:flex;\n",
              "      flex-wrap:wrap;\n",
              "      gap: 12px;\n",
              "    }\n",
              "\n",
              "    .colab-df-convert {\n",
              "      background-color: #E8F0FE;\n",
              "      border: none;\n",
              "      border-radius: 50%;\n",
              "      cursor: pointer;\n",
              "      display: none;\n",
              "      fill: #1967D2;\n",
              "      height: 32px;\n",
              "      padding: 0 0 0 0;\n",
              "      width: 32px;\n",
              "    }\n",
              "\n",
              "    .colab-df-convert:hover {\n",
              "      background-color: #E2EBFA;\n",
              "      box-shadow: 0px 1px 2px rgba(60, 64, 67, 0.3), 0px 1px 3px 1px rgba(60, 64, 67, 0.15);\n",
              "      fill: #174EA6;\n",
              "    }\n",
              "\n",
              "    [theme=dark] .colab-df-convert {\n",
              "      background-color: #3B4455;\n",
              "      fill: #D2E3FC;\n",
              "    }\n",
              "\n",
              "    [theme=dark] .colab-df-convert:hover {\n",
              "      background-color: #434B5C;\n",
              "      box-shadow: 0px 1px 3px 1px rgba(0, 0, 0, 0.15);\n",
              "      filter: drop-shadow(0px 1px 2px rgba(0, 0, 0, 0.3));\n",
              "      fill: #FFFFFF;\n",
              "    }\n",
              "  </style>\n",
              "\n",
              "      <script>\n",
              "        const buttonEl =\n",
              "          document.querySelector('#df-f16c223f-a7ff-4153-b9b7-c1f3a424f88a button.colab-df-convert');\n",
              "        buttonEl.style.display =\n",
              "          google.colab.kernel.accessAllowed ? 'block' : 'none';\n",
              "\n",
              "        async function convertToInteractive(key) {\n",
              "          const element = document.querySelector('#df-f16c223f-a7ff-4153-b9b7-c1f3a424f88a');\n",
              "          const dataTable =\n",
              "            await google.colab.kernel.invokeFunction('convertToInteractive',\n",
              "                                                     [key], {});\n",
              "          if (!dataTable) return;\n",
              "\n",
              "          const docLinkHtml = 'Like what you see? Visit the ' +\n",
              "            '<a target=\"_blank\" href=https://colab.research.google.com/notebooks/data_table.ipynb>data table notebook</a>'\n",
              "            + ' to learn more about interactive tables.';\n",
              "          element.innerHTML = '';\n",
              "          dataTable['output_type'] = 'display_data';\n",
              "          await google.colab.output.renderOutput(dataTable, element);\n",
              "          const docLink = document.createElement('div');\n",
              "          docLink.innerHTML = docLinkHtml;\n",
              "          element.appendChild(docLink);\n",
              "        }\n",
              "      </script>\n",
              "    </div>\n",
              "  </div>\n",
              "  "
            ]
          },
          "metadata": {},
          "execution_count": 32
        }
      ],
      "source": [
        "transactions_processed.head()"
      ]
    },
    {
      "cell_type": "code",
      "execution_count": null,
      "metadata": {
        "pycharm": {
          "is_executing": true
        },
        "id": "78KhpSUSvyYu"
      },
      "outputs": [],
      "source": [
        "# Creating a Train / Test Split:\n",
        "X_train, X_test, y_train, y_test = train_test_split(transactions_processed.drop('ordered', axis=1), transactions_processed['ordered'], test_size=0.10, random_state=42)"
      ]
    },
    {
      "cell_type": "code",
      "execution_count": null,
      "metadata": {
        "pycharm": {
          "is_executing": true
        },
        "colab": {
          "base_uri": "https://localhost:8080/"
        },
        "id": "7Q6XMspdvyYu",
        "outputId": "85312ec5-0119-4333-eb91-2a354dc2d7a0"
      },
      "outputs": [
        {
          "output_type": "execute_result",
          "data": {
            "text/plain": [
              "         customer_id   age  article_id     price  sales_channel_id_1  \\\n",
              "750811         54275  23.0       64435  0.016932                   1   \n",
              "247514         53170  23.0        2497  0.033881                   1   \n",
              "555616         22270  25.0       28580  0.025407                   0   \n",
              "2432041        47180  33.0       45435  0.008458                   0   \n",
              "2245626        40898  45.0       25849  0.011847                   0   \n",
              "\n",
              "         sales_channel_id_2  \n",
              "750811                    0  \n",
              "247514                    0  \n",
              "555616                    1  \n",
              "2432041                   1  \n",
              "2245626                   1  "
            ],
            "text/html": [
              "\n",
              "  <div id=\"df-6ca6b540-8f1a-4595-b6c1-140ffba22f4d\">\n",
              "    <div class=\"colab-df-container\">\n",
              "      <div>\n",
              "<style scoped>\n",
              "    .dataframe tbody tr th:only-of-type {\n",
              "        vertical-align: middle;\n",
              "    }\n",
              "\n",
              "    .dataframe tbody tr th {\n",
              "        vertical-align: top;\n",
              "    }\n",
              "\n",
              "    .dataframe thead th {\n",
              "        text-align: right;\n",
              "    }\n",
              "</style>\n",
              "<table border=\"1\" class=\"dataframe\">\n",
              "  <thead>\n",
              "    <tr style=\"text-align: right;\">\n",
              "      <th></th>\n",
              "      <th>customer_id</th>\n",
              "      <th>age</th>\n",
              "      <th>article_id</th>\n",
              "      <th>price</th>\n",
              "      <th>sales_channel_id_1</th>\n",
              "      <th>sales_channel_id_2</th>\n",
              "    </tr>\n",
              "  </thead>\n",
              "  <tbody>\n",
              "    <tr>\n",
              "      <th>750811</th>\n",
              "      <td>54275</td>\n",
              "      <td>23.0</td>\n",
              "      <td>64435</td>\n",
              "      <td>0.016932</td>\n",
              "      <td>1</td>\n",
              "      <td>0</td>\n",
              "    </tr>\n",
              "    <tr>\n",
              "      <th>247514</th>\n",
              "      <td>53170</td>\n",
              "      <td>23.0</td>\n",
              "      <td>2497</td>\n",
              "      <td>0.033881</td>\n",
              "      <td>1</td>\n",
              "      <td>0</td>\n",
              "    </tr>\n",
              "    <tr>\n",
              "      <th>555616</th>\n",
              "      <td>22270</td>\n",
              "      <td>25.0</td>\n",
              "      <td>28580</td>\n",
              "      <td>0.025407</td>\n",
              "      <td>0</td>\n",
              "      <td>1</td>\n",
              "    </tr>\n",
              "    <tr>\n",
              "      <th>2432041</th>\n",
              "      <td>47180</td>\n",
              "      <td>33.0</td>\n",
              "      <td>45435</td>\n",
              "      <td>0.008458</td>\n",
              "      <td>0</td>\n",
              "      <td>1</td>\n",
              "    </tr>\n",
              "    <tr>\n",
              "      <th>2245626</th>\n",
              "      <td>40898</td>\n",
              "      <td>45.0</td>\n",
              "      <td>25849</td>\n",
              "      <td>0.011847</td>\n",
              "      <td>0</td>\n",
              "      <td>1</td>\n",
              "    </tr>\n",
              "  </tbody>\n",
              "</table>\n",
              "</div>\n",
              "      <button class=\"colab-df-convert\" onclick=\"convertToInteractive('df-6ca6b540-8f1a-4595-b6c1-140ffba22f4d')\"\n",
              "              title=\"Convert this dataframe to an interactive table.\"\n",
              "              style=\"display:none;\">\n",
              "        \n",
              "  <svg xmlns=\"http://www.w3.org/2000/svg\" height=\"24px\"viewBox=\"0 0 24 24\"\n",
              "       width=\"24px\">\n",
              "    <path d=\"M0 0h24v24H0V0z\" fill=\"none\"/>\n",
              "    <path d=\"M18.56 5.44l.94 2.06.94-2.06 2.06-.94-2.06-.94-.94-2.06-.94 2.06-2.06.94zm-11 1L8.5 8.5l.94-2.06 2.06-.94-2.06-.94L8.5 2.5l-.94 2.06-2.06.94zm10 10l.94 2.06.94-2.06 2.06-.94-2.06-.94-.94-2.06-.94 2.06-2.06.94z\"/><path d=\"M17.41 7.96l-1.37-1.37c-.4-.4-.92-.59-1.43-.59-.52 0-1.04.2-1.43.59L10.3 9.45l-7.72 7.72c-.78.78-.78 2.05 0 2.83L4 21.41c.39.39.9.59 1.41.59.51 0 1.02-.2 1.41-.59l7.78-7.78 2.81-2.81c.8-.78.8-2.07 0-2.86zM5.41 20L4 18.59l7.72-7.72 1.47 1.35L5.41 20z\"/>\n",
              "  </svg>\n",
              "      </button>\n",
              "      \n",
              "  <style>\n",
              "    .colab-df-container {\n",
              "      display:flex;\n",
              "      flex-wrap:wrap;\n",
              "      gap: 12px;\n",
              "    }\n",
              "\n",
              "    .colab-df-convert {\n",
              "      background-color: #E8F0FE;\n",
              "      border: none;\n",
              "      border-radius: 50%;\n",
              "      cursor: pointer;\n",
              "      display: none;\n",
              "      fill: #1967D2;\n",
              "      height: 32px;\n",
              "      padding: 0 0 0 0;\n",
              "      width: 32px;\n",
              "    }\n",
              "\n",
              "    .colab-df-convert:hover {\n",
              "      background-color: #E2EBFA;\n",
              "      box-shadow: 0px 1px 2px rgba(60, 64, 67, 0.3), 0px 1px 3px 1px rgba(60, 64, 67, 0.15);\n",
              "      fill: #174EA6;\n",
              "    }\n",
              "\n",
              "    [theme=dark] .colab-df-convert {\n",
              "      background-color: #3B4455;\n",
              "      fill: #D2E3FC;\n",
              "    }\n",
              "\n",
              "    [theme=dark] .colab-df-convert:hover {\n",
              "      background-color: #434B5C;\n",
              "      box-shadow: 0px 1px 3px 1px rgba(0, 0, 0, 0.15);\n",
              "      filter: drop-shadow(0px 1px 2px rgba(0, 0, 0, 0.3));\n",
              "      fill: #FFFFFF;\n",
              "    }\n",
              "  </style>\n",
              "\n",
              "      <script>\n",
              "        const buttonEl =\n",
              "          document.querySelector('#df-6ca6b540-8f1a-4595-b6c1-140ffba22f4d button.colab-df-convert');\n",
              "        buttonEl.style.display =\n",
              "          google.colab.kernel.accessAllowed ? 'block' : 'none';\n",
              "\n",
              "        async function convertToInteractive(key) {\n",
              "          const element = document.querySelector('#df-6ca6b540-8f1a-4595-b6c1-140ffba22f4d');\n",
              "          const dataTable =\n",
              "            await google.colab.kernel.invokeFunction('convertToInteractive',\n",
              "                                                     [key], {});\n",
              "          if (!dataTable) return;\n",
              "\n",
              "          const docLinkHtml = 'Like what you see? Visit the ' +\n",
              "            '<a target=\"_blank\" href=https://colab.research.google.com/notebooks/data_table.ipynb>data table notebook</a>'\n",
              "            + ' to learn more about interactive tables.';\n",
              "          element.innerHTML = '';\n",
              "          dataTable['output_type'] = 'display_data';\n",
              "          await google.colab.output.renderOutput(dataTable, element);\n",
              "          const docLink = document.createElement('div');\n",
              "          docLink.innerHTML = docLinkHtml;\n",
              "          element.appendChild(docLink);\n",
              "        }\n",
              "      </script>\n",
              "    </div>\n",
              "  </div>\n",
              "  "
            ]
          },
          "metadata": {},
          "execution_count": 34
        }
      ],
      "source": [
        "X_train.head()"
      ]
    },
    {
      "cell_type": "code",
      "execution_count": null,
      "metadata": {
        "pycharm": {
          "is_executing": true
        },
        "colab": {
          "base_uri": "https://localhost:8080/"
        },
        "id": "lADu_rYlvyYu",
        "outputId": "7cfbdf0d-e9ed-42e5-b83f-1838e3cee4cc"
      },
      "outputs": [
        {
          "output_type": "execute_result",
          "data": {
            "text/plain": [
              "750811     1\n",
              "247514     1\n",
              "555616     1\n",
              "2432041    1\n",
              "2245626    0\n",
              "Name: ordered, dtype: int64"
            ]
          },
          "metadata": {},
          "execution_count": 35
        }
      ],
      "source": [
        "y_train.head()"
      ]
    },
    {
      "cell_type": "markdown",
      "metadata": {
        "id": "L-PfaaFUvyYu"
      },
      "source": [
        "## Baseline Model"
      ]
    },
    {
      "cell_type": "code",
      "execution_count": null,
      "metadata": {
        "pycharm": {
          "is_executing": true
        },
        "id": "KqpakaxOvyYu"
      },
      "outputs": [],
      "source": [
        "# Will take a few minutes to run, if you're using the whole dataset:\n",
        "baseline = LogisticRegression(random_state=42)\n",
        "baseline = baseline.fit(X_train, y_train)"
      ]
    },
    {
      "cell_type": "code",
      "execution_count": null,
      "metadata": {
        "pycharm": {
          "is_executing": true
        },
        "colab": {
          "base_uri": "https://localhost:8080/"
        },
        "id": "SXtbtJzrvyYu",
        "outputId": "2886ac07-afc7-4be2-9af9-752187758495"
      },
      "outputs": [
        {
          "output_type": "execute_result",
          "data": {
            "text/plain": [
              "array([[0.51111775, 0.48888225],\n",
              "       [0.50408743, 0.49591257],\n",
              "       [0.51062711, 0.48937289],\n",
              "       ...,\n",
              "       [0.5054505 , 0.4945495 ],\n",
              "       [0.49855868, 0.50144132],\n",
              "       [0.4809243 , 0.5190757 ]])"
            ]
          },
          "metadata": {},
          "execution_count": 37
        }
      ],
      "source": [
        "baseline.predict_proba(X_test)"
      ]
    },
    {
      "cell_type": "code",
      "execution_count": null,
      "metadata": {
        "pycharm": {
          "is_executing": true
        },
        "scrolled": true,
        "colab": {
          "base_uri": "https://localhost:8080/"
        },
        "id": "iA2YQxzNvyYv",
        "outputId": "418d6f79-b50b-4519-83b5-a62929f983d0"
      },
      "outputs": [
        {
          "output_type": "execute_result",
          "data": {
            "text/plain": [
              "1144932    1\n",
              "573054     1\n",
              "422719     0\n",
              "669009     1\n",
              "3059264    0\n",
              "          ..\n",
              "2896010    1\n",
              "2804002    0\n",
              "2285802    0\n",
              "1192463    1\n",
              "2048768    0\n",
              "Name: ordered, Length: 317067, dtype: int64"
            ]
          },
          "metadata": {},
          "execution_count": 38
        }
      ],
      "source": [
        "y_test"
      ]
    },
    {
      "cell_type": "code",
      "execution_count": null,
      "metadata": {
        "pycharm": {
          "is_executing": true
        },
        "colab": {
          "base_uri": "https://localhost:8080/"
        },
        "id": "I6A0LJgrvyYv",
        "outputId": "8661913f-67ed-494d-9d77-c6d9cf303e90"
      },
      "outputs": [
        {
          "output_type": "execute_result",
          "data": {
            "text/plain": [
              "0.5092519877502232"
            ]
          },
          "metadata": {},
          "execution_count": 39
        }
      ],
      "source": [
        "# Mean Accuracy:\n",
        "baseline.score(X_test, y_test)\n",
        "# As you can seen, the accuracy is ~0.51. In other words, the classifier predicts correctly 51% of the time whether a customer did or din't buy an item.\n",
        "# Can you improve this baseline logistic regression model by doing better preprocessing and generating new features?\n",
        "# Also think about my steps! Did it make sense to include the article and customer ids? (And things like that)"
      ]
    },
    {
      "cell_type": "code",
      "execution_count": null,
      "metadata": {
        "pycharm": {
          "is_executing": true
        },
        "colab": {
          "base_uri": "https://localhost:8080/"
        },
        "id": "OPYlECRhvyYv",
        "outputId": "92cd16b3-5429-4e8f-8aaa-34fb0b1e0689"
      },
      "outputs": [
        {
          "output_type": "stream",
          "name": "stdout",
          "text": [
            "              precision    recall  f1-score   support\n",
            "\n",
            "           0       0.51      0.45      0.48    158593\n",
            "           1       0.51      0.57      0.54    158474\n",
            "\n",
            "    accuracy                           0.51    317067\n",
            "   macro avg       0.51      0.51      0.51    317067\n",
            "weighted avg       0.51      0.51      0.51    317067\n",
            "\n"
          ]
        }
      ],
      "source": [
        "# Classification Metrics:\n",
        "predictions = baseline.predict(X_test)\n",
        "print(classification_report(y_test, predictions))"
      ]
    },
    {
      "cell_type": "code",
      "execution_count": null,
      "metadata": {
        "pycharm": {
          "is_executing": true
        },
        "colab": {
          "base_uri": "https://localhost:8080/"
        },
        "id": "utE52jpmvyYv",
        "outputId": "88bdad53-2456-4cc6-d02c-bf0555cf0583"
      },
      "outputs": [
        {
          "output_type": "execute_result",
          "data": {
            "text/plain": [
              "array([0, 0, 0, ..., 0, 1, 1])"
            ]
          },
          "metadata": {},
          "execution_count": 41
        }
      ],
      "source": [
        "predictions"
      ]
    },
    {
      "cell_type": "markdown",
      "metadata": {
        "id": "CDiDpcxAvyYw"
      },
      "source": [
        "## Assignment: Feature engineering\n",
        "**TODO:** \n",
        "- In groups (of 2-3 students), think about (a few) features that can be engineered (preprocess and generate new features). Divide the work!\n",
        "- Do these engineered features improve the baseline model?\n",
        "- Add your thoughts & results to a slide deck for discussion next week (again, 1 slide per person).\n"
      ]
    },
    {
      "cell_type": "markdown",
      "source": [
        "Make a dataframe to learn the popularity of each bought item."
      ],
      "metadata": {
        "id": "OQYQZzDewcit"
      }
    },
    {
      "cell_type": "code",
      "execution_count": null,
      "metadata": {
        "pycharm": {
          "is_executing": true
        },
        "id": "AQIqE5SNvyYw"
      },
      "outputs": [],
      "source": [
        "popularity = transactions.loc[transactions[\"ordered\"] == 1][[\"article_id\"]]\n",
        "popularity = popularity[\"article_id\"].value_counts().rename_axis(\"article_id\").reset_index(name=\"count\")"
      ]
    },
    {
      "cell_type": "markdown",
      "source": [
        "A list with key words in the description. I use this to get a feature with material type."
      ],
      "metadata": {
        "id": "pMZdc6opxIVg"
      }
    },
    {
      "cell_type": "code",
      "source": [
        "materials = [\"nylon\", \"cotton\", \"Microfibre\", \"jeans\", \"silicone\", \"synthetic\", \"wool\", \"plastic\", \"silk\", \"leather\", \"lace\"]"
      ],
      "metadata": {
        "id": "X3qw3IDAxTit"
      },
      "execution_count": null,
      "outputs": []
    },
    {
      "cell_type": "markdown",
      "source": [
        "Make a dataframe with all the features. Add the popularity."
      ],
      "metadata": {
        "id": "iQHKz9aSxS8v"
      }
    },
    {
      "cell_type": "code",
      "source": [
        "transactions_processed = transactions[['customer_id', 'article_id', 'sales_channel_id', 'price', 'ordered', \"age\", \"detail_desc\", \"graphical_appearance_no\", \"colour_group_code\", \"t_dat\"]].copy()\n",
        "transactions_processed = transactions_processed.merge(popularity, how=\"inner\", on='article_id')\n"
      ],
      "metadata": {
        "id": "qgMe5qcMxOhc"
      },
      "execution_count": null,
      "outputs": []
    },
    {
      "cell_type": "markdown",
      "source": [
        "Get the month the item is bought and the popularity in that month."
      ],
      "metadata": {
        "id": "WoDTn3Tbxt7R"
      }
    },
    {
      "cell_type": "code",
      "source": [
        "transactions_processed[\"t_dat\"] = pd.to_datetime(transactions_processed[\"t_dat\"])\n",
        "transactions_processed[\"t_dat\"] = transactions_processed[\"t_dat\"].dt.month"
      ],
      "metadata": {
        "id": "kiLBvPWSxuSG"
      },
      "execution_count": null,
      "outputs": []
    },
    {
      "cell_type": "code",
      "source": [
        "for i in range(1,13):\n",
        "  month_date = transactions_processed.loc[transactions_processed[\"t_dat\"] == (i)][[\"article_id\", \"ordered\"]]\n",
        "  month_pop = month_date.loc[month_date[\"ordered\"] == 1][[\"article_id\"]]\n",
        "  month_pop = month_pop[\"article_id\"].value_counts().rename_axis(\"article_id\").reset_index(name=f\"month{i}_pop\")\n",
        "  transactions_processed = transactions_processed.merge(month_pop, how=\"inner\", on='article_id')"
      ],
      "metadata": {
        "id": "RUTbo9y60pq-"
      },
      "execution_count": null,
      "outputs": []
    },
    {
      "cell_type": "markdown",
      "source": [
        "Bin the age and price."
      ],
      "metadata": {
        "id": "_iFrjYm6yqfL"
      }
    },
    {
      "cell_type": "code",
      "source": [
        "transactions_processed[\"age_bin\"] = pd.cut(transactions_processed['age'], [0, 21, 35,45, 55, 65, 200], labels=['21', '35', '45', '55','65', '200'], right=False)\n",
        "transactions_processed[\"price_bin\"] = pd.cut(transactions_processed['price'], [0, 0.02, 0.04, 0.06,0.08,1], labels=[0,  0.02,  0.04,0.06,0.08], right=False)"
      ],
      "metadata": {
        "id": "4PKtJ6j1yq8Y"
      },
      "execution_count": null,
      "outputs": []
    },
    {
      "cell_type": "markdown",
      "source": [
        "Make a column for each material type. "
      ],
      "metadata": {
        "id": "YdvWRfw2yw_6"
      }
    },
    {
      "cell_type": "code",
      "source": [
        "count = 0\n",
        "for material in materials:\n",
        "  transactions_processed[material] = [1 if material in str(a) else 0 for a in transactions_processed[\"detail_desc\"]]\n",
        "\n"
      ],
      "metadata": {
        "id": "yWBbK5coy23_"
      },
      "execution_count": null,
      "outputs": []
    },
    {
      "cell_type": "markdown",
      "source": [
        "Drop procesed columns."
      ],
      "metadata": {
        "id": "RKY0OWPAzG2b"
      }
    },
    {
      "cell_type": "code",
      "source": [
        "transactions_processed = transactions_processed.drop(\"detail_desc\", axis=1)\n",
        "transactions_processed = transactions_processed.drop(\"age\", axis=1)\n",
        "transactions_processed = transactions_processed.drop(\"price\", axis=1)\n",
        "transactions_processed = transactions_processed.drop(\"t_dat\", axis=1)\n",
        "\n",
        "transactions_processed.head()"
      ],
      "metadata": {
        "colab": {
          "base_uri": "https://localhost:8080/",
          "height": 299
        },
        "id": "KOf7DxYdzCSX",
        "outputId": "d7308d35-b871-4578-b740-9d46924d8e61"
      },
      "execution_count": null,
      "outputs": [
        {
          "output_type": "execute_result",
          "data": {
            "text/plain": [
              "                                         customer_id article_id  \\\n",
              "0  004888668b9458668aa3234d17337671673599f7f84d36...  372860001   \n",
              "1  1297a1eba28727ea40a7c652d54edb570e5560742c143b...  372860001   \n",
              "2  16501613daf68dad9dc9bd34880b12efe4f473196b9f33...  372860001   \n",
              "3  1aa1dfb041052ea08cd666e5509de21bf26efa6406bfd2...  372860001   \n",
              "4  1aa1dfb041052ea08cd666e5509de21bf26efa6406bfd2...  372860001   \n",
              "\n",
              "  sales_channel_id ordered  graphical_appearance_no  colour_group_code  count  \\\n",
              "0                2       1                  1010016                  9   1511   \n",
              "1                1       1                  1010016                  9   1511   \n",
              "2                1       1                  1010016                  9   1511   \n",
              "3                1       1                  1010016                  9   1511   \n",
              "4                1       1                  1010016                  9   1511   \n",
              "\n",
              "   month1_pop  month2_pop  month3_pop  ...  cotton  Microfibre  jeans  \\\n",
              "0         124         132         142  ...       1           0      0   \n",
              "1         124         132         142  ...       1           0      0   \n",
              "2         124         132         142  ...       1           0      0   \n",
              "3         124         132         142  ...       1           0      0   \n",
              "4         124         132         142  ...       1           0      0   \n",
              "\n",
              "   silicone  synthetic  wool  plastic  silk  leather lace  \n",
              "0         0          0     0        0     0        0    0  \n",
              "1         0          0     0        0     0        0    0  \n",
              "2         0          0     0        0     0        0    0  \n",
              "3         0          0     0        0     0        0    0  \n",
              "4         0          0     0        0     0        0    0  \n",
              "\n",
              "[5 rows x 32 columns]"
            ],
            "text/html": [
              "\n",
              "  <div id=\"df-bf393c25-82fa-42e1-9909-b0361097183a\">\n",
              "    <div class=\"colab-df-container\">\n",
              "      <div>\n",
              "<style scoped>\n",
              "    .dataframe tbody tr th:only-of-type {\n",
              "        vertical-align: middle;\n",
              "    }\n",
              "\n",
              "    .dataframe tbody tr th {\n",
              "        vertical-align: top;\n",
              "    }\n",
              "\n",
              "    .dataframe thead th {\n",
              "        text-align: right;\n",
              "    }\n",
              "</style>\n",
              "<table border=\"1\" class=\"dataframe\">\n",
              "  <thead>\n",
              "    <tr style=\"text-align: right;\">\n",
              "      <th></th>\n",
              "      <th>customer_id</th>\n",
              "      <th>article_id</th>\n",
              "      <th>sales_channel_id</th>\n",
              "      <th>ordered</th>\n",
              "      <th>graphical_appearance_no</th>\n",
              "      <th>colour_group_code</th>\n",
              "      <th>count</th>\n",
              "      <th>month1_pop</th>\n",
              "      <th>month2_pop</th>\n",
              "      <th>month3_pop</th>\n",
              "      <th>...</th>\n",
              "      <th>cotton</th>\n",
              "      <th>Microfibre</th>\n",
              "      <th>jeans</th>\n",
              "      <th>silicone</th>\n",
              "      <th>synthetic</th>\n",
              "      <th>wool</th>\n",
              "      <th>plastic</th>\n",
              "      <th>silk</th>\n",
              "      <th>leather</th>\n",
              "      <th>lace</th>\n",
              "    </tr>\n",
              "  </thead>\n",
              "  <tbody>\n",
              "    <tr>\n",
              "      <th>0</th>\n",
              "      <td>004888668b9458668aa3234d17337671673599f7f84d36...</td>\n",
              "      <td>372860001</td>\n",
              "      <td>2</td>\n",
              "      <td>1</td>\n",
              "      <td>1010016</td>\n",
              "      <td>9</td>\n",
              "      <td>1511</td>\n",
              "      <td>124</td>\n",
              "      <td>132</td>\n",
              "      <td>142</td>\n",
              "      <td>...</td>\n",
              "      <td>1</td>\n",
              "      <td>0</td>\n",
              "      <td>0</td>\n",
              "      <td>0</td>\n",
              "      <td>0</td>\n",
              "      <td>0</td>\n",
              "      <td>0</td>\n",
              "      <td>0</td>\n",
              "      <td>0</td>\n",
              "      <td>0</td>\n",
              "    </tr>\n",
              "    <tr>\n",
              "      <th>1</th>\n",
              "      <td>1297a1eba28727ea40a7c652d54edb570e5560742c143b...</td>\n",
              "      <td>372860001</td>\n",
              "      <td>1</td>\n",
              "      <td>1</td>\n",
              "      <td>1010016</td>\n",
              "      <td>9</td>\n",
              "      <td>1511</td>\n",
              "      <td>124</td>\n",
              "      <td>132</td>\n",
              "      <td>142</td>\n",
              "      <td>...</td>\n",
              "      <td>1</td>\n",
              "      <td>0</td>\n",
              "      <td>0</td>\n",
              "      <td>0</td>\n",
              "      <td>0</td>\n",
              "      <td>0</td>\n",
              "      <td>0</td>\n",
              "      <td>0</td>\n",
              "      <td>0</td>\n",
              "      <td>0</td>\n",
              "    </tr>\n",
              "    <tr>\n",
              "      <th>2</th>\n",
              "      <td>16501613daf68dad9dc9bd34880b12efe4f473196b9f33...</td>\n",
              "      <td>372860001</td>\n",
              "      <td>1</td>\n",
              "      <td>1</td>\n",
              "      <td>1010016</td>\n",
              "      <td>9</td>\n",
              "      <td>1511</td>\n",
              "      <td>124</td>\n",
              "      <td>132</td>\n",
              "      <td>142</td>\n",
              "      <td>...</td>\n",
              "      <td>1</td>\n",
              "      <td>0</td>\n",
              "      <td>0</td>\n",
              "      <td>0</td>\n",
              "      <td>0</td>\n",
              "      <td>0</td>\n",
              "      <td>0</td>\n",
              "      <td>0</td>\n",
              "      <td>0</td>\n",
              "      <td>0</td>\n",
              "    </tr>\n",
              "    <tr>\n",
              "      <th>3</th>\n",
              "      <td>1aa1dfb041052ea08cd666e5509de21bf26efa6406bfd2...</td>\n",
              "      <td>372860001</td>\n",
              "      <td>1</td>\n",
              "      <td>1</td>\n",
              "      <td>1010016</td>\n",
              "      <td>9</td>\n",
              "      <td>1511</td>\n",
              "      <td>124</td>\n",
              "      <td>132</td>\n",
              "      <td>142</td>\n",
              "      <td>...</td>\n",
              "      <td>1</td>\n",
              "      <td>0</td>\n",
              "      <td>0</td>\n",
              "      <td>0</td>\n",
              "      <td>0</td>\n",
              "      <td>0</td>\n",
              "      <td>0</td>\n",
              "      <td>0</td>\n",
              "      <td>0</td>\n",
              "      <td>0</td>\n",
              "    </tr>\n",
              "    <tr>\n",
              "      <th>4</th>\n",
              "      <td>1aa1dfb041052ea08cd666e5509de21bf26efa6406bfd2...</td>\n",
              "      <td>372860001</td>\n",
              "      <td>1</td>\n",
              "      <td>1</td>\n",
              "      <td>1010016</td>\n",
              "      <td>9</td>\n",
              "      <td>1511</td>\n",
              "      <td>124</td>\n",
              "      <td>132</td>\n",
              "      <td>142</td>\n",
              "      <td>...</td>\n",
              "      <td>1</td>\n",
              "      <td>0</td>\n",
              "      <td>0</td>\n",
              "      <td>0</td>\n",
              "      <td>0</td>\n",
              "      <td>0</td>\n",
              "      <td>0</td>\n",
              "      <td>0</td>\n",
              "      <td>0</td>\n",
              "      <td>0</td>\n",
              "    </tr>\n",
              "  </tbody>\n",
              "</table>\n",
              "<p>5 rows × 32 columns</p>\n",
              "</div>\n",
              "      <button class=\"colab-df-convert\" onclick=\"convertToInteractive('df-bf393c25-82fa-42e1-9909-b0361097183a')\"\n",
              "              title=\"Convert this dataframe to an interactive table.\"\n",
              "              style=\"display:none;\">\n",
              "        \n",
              "  <svg xmlns=\"http://www.w3.org/2000/svg\" height=\"24px\"viewBox=\"0 0 24 24\"\n",
              "       width=\"24px\">\n",
              "    <path d=\"M0 0h24v24H0V0z\" fill=\"none\"/>\n",
              "    <path d=\"M18.56 5.44l.94 2.06.94-2.06 2.06-.94-2.06-.94-.94-2.06-.94 2.06-2.06.94zm-11 1L8.5 8.5l.94-2.06 2.06-.94-2.06-.94L8.5 2.5l-.94 2.06-2.06.94zm10 10l.94 2.06.94-2.06 2.06-.94-2.06-.94-.94-2.06-.94 2.06-2.06.94z\"/><path d=\"M17.41 7.96l-1.37-1.37c-.4-.4-.92-.59-1.43-.59-.52 0-1.04.2-1.43.59L10.3 9.45l-7.72 7.72c-.78.78-.78 2.05 0 2.83L4 21.41c.39.39.9.59 1.41.59.51 0 1.02-.2 1.41-.59l7.78-7.78 2.81-2.81c.8-.78.8-2.07 0-2.86zM5.41 20L4 18.59l7.72-7.72 1.47 1.35L5.41 20z\"/>\n",
              "  </svg>\n",
              "      </button>\n",
              "      \n",
              "  <style>\n",
              "    .colab-df-container {\n",
              "      display:flex;\n",
              "      flex-wrap:wrap;\n",
              "      gap: 12px;\n",
              "    }\n",
              "\n",
              "    .colab-df-convert {\n",
              "      background-color: #E8F0FE;\n",
              "      border: none;\n",
              "      border-radius: 50%;\n",
              "      cursor: pointer;\n",
              "      display: none;\n",
              "      fill: #1967D2;\n",
              "      height: 32px;\n",
              "      padding: 0 0 0 0;\n",
              "      width: 32px;\n",
              "    }\n",
              "\n",
              "    .colab-df-convert:hover {\n",
              "      background-color: #E2EBFA;\n",
              "      box-shadow: 0px 1px 2px rgba(60, 64, 67, 0.3), 0px 1px 3px 1px rgba(60, 64, 67, 0.15);\n",
              "      fill: #174EA6;\n",
              "    }\n",
              "\n",
              "    [theme=dark] .colab-df-convert {\n",
              "      background-color: #3B4455;\n",
              "      fill: #D2E3FC;\n",
              "    }\n",
              "\n",
              "    [theme=dark] .colab-df-convert:hover {\n",
              "      background-color: #434B5C;\n",
              "      box-shadow: 0px 1px 3px 1px rgba(0, 0, 0, 0.15);\n",
              "      filter: drop-shadow(0px 1px 2px rgba(0, 0, 0, 0.3));\n",
              "      fill: #FFFFFF;\n",
              "    }\n",
              "  </style>\n",
              "\n",
              "      <script>\n",
              "        const buttonEl =\n",
              "          document.querySelector('#df-bf393c25-82fa-42e1-9909-b0361097183a button.colab-df-convert');\n",
              "        buttonEl.style.display =\n",
              "          google.colab.kernel.accessAllowed ? 'block' : 'none';\n",
              "\n",
              "        async function convertToInteractive(key) {\n",
              "          const element = document.querySelector('#df-bf393c25-82fa-42e1-9909-b0361097183a');\n",
              "          const dataTable =\n",
              "            await google.colab.kernel.invokeFunction('convertToInteractive',\n",
              "                                                     [key], {});\n",
              "          if (!dataTable) return;\n",
              "\n",
              "          const docLinkHtml = 'Like what you see? Visit the ' +\n",
              "            '<a target=\"_blank\" href=https://colab.research.google.com/notebooks/data_table.ipynb>data table notebook</a>'\n",
              "            + ' to learn more about interactive tables.';\n",
              "          element.innerHTML = '';\n",
              "          dataTable['output_type'] = 'display_data';\n",
              "          await google.colab.output.renderOutput(dataTable, element);\n",
              "          const docLink = document.createElement('div');\n",
              "          docLink.innerHTML = docLinkHtml;\n",
              "          element.appendChild(docLink);\n",
              "        }\n",
              "      </script>\n",
              "    </div>\n",
              "  </div>\n",
              "  "
            ]
          },
          "metadata": {},
          "execution_count": 50
        }
      ]
    },
    {
      "cell_type": "markdown",
      "source": [
        "Encode columns in labels."
      ],
      "metadata": {
        "id": "wU8evOu_zStE"
      }
    },
    {
      "cell_type": "code",
      "source": [
        "from pandas.core import aggregation\n",
        "customer_encoder = preprocessing.LabelEncoder()\n",
        "article_encoder = preprocessing.LabelEncoder()\n",
        "age_encoder = preprocessing.LabelEncoder()\n",
        "transactions_processed['customer_id'] = customer_encoder.fit_transform(transactions_processed['customer_id'])\n",
        "transactions_processed['article_id'] = article_encoder.fit_transform(transactions_processed['article_id'])\n",
        "transactions_processed['age_bin'] = age_encoder.fit_transform(transactions_processed['age_bin'])\n"
      ],
      "metadata": {
        "id": "Ozu4H-TvzPj-"
      },
      "execution_count": null,
      "outputs": []
    },
    {
      "cell_type": "markdown",
      "source": [
        "Preprocess."
      ],
      "metadata": {
        "id": "3T4EkxNnzXqK"
      }
    },
    {
      "cell_type": "code",
      "source": [
        "transactions_processed = transactions_processed.fillna(0)\n",
        "transactions_processed.isnull().values.any()\n",
        "transactions_processed = pd.get_dummies(transactions_processed, columns=['sales_channel_id', 'graphical_appearance_no', 'price_bin', \"colour_group_code\"])"
      ],
      "metadata": {
        "id": "nRXscAkUzX-B"
      },
      "execution_count": null,
      "outputs": []
    },
    {
      "cell_type": "markdown",
      "source": [
        "Test the features"
      ],
      "metadata": {
        "id": "sLsqLzgxzupK"
      }
    },
    {
      "cell_type": "code",
      "source": [
        "X_train, X_test, y_train, y_test = train_test_split(transactions_processed.drop('ordered', axis=1), transactions_processed['ordered'], test_size=0.10, random_state=42)\n",
        "engineered = LogisticRegression(random_state=42)\n",
        "engineered = engineered.fit(X_train, y_train)\n",
        "engineered.score(X_test, y_test)"
      ],
      "metadata": {
        "colab": {
          "base_uri": "https://localhost:8080/"
        },
        "id": "uYaGn6Glzch8",
        "outputId": "26d06a36-15a7-43a9-ad20-b0f9c85996ba"
      },
      "execution_count": null,
      "outputs": [
        {
          "output_type": "stream",
          "name": "stderr",
          "text": [
            "/usr/local/lib/python3.7/dist-packages/sklearn/linear_model/_logistic.py:818: ConvergenceWarning: lbfgs failed to converge (status=1):\n",
            "STOP: TOTAL NO. of ITERATIONS REACHED LIMIT.\n",
            "\n",
            "Increase the number of iterations (max_iter) or scale the data as shown in:\n",
            "    https://scikit-learn.org/stable/modules/preprocessing.html\n",
            "Please also refer to the documentation for alternative solver options:\n",
            "    https://scikit-learn.org/stable/modules/linear_model.html#logistic-regression\n",
            "  extra_warning_msg=_LOGISTIC_SOLVER_CONVERGENCE_MSG,\n"
          ]
        },
        {
          "output_type": "execute_result",
          "data": {
            "text/plain": [
              "0.9005122486671081"
            ]
          },
          "metadata": {},
          "execution_count": 53
        }
      ]
    },
    {
      "cell_type": "code",
      "source": [],
      "metadata": {
        "id": "-EIYONSQ5p-8"
      },
      "execution_count": null,
      "outputs": []
    }
  ],
  "metadata": {
    "kernelspec": {
      "display_name": "Python 3 (ipykernel)",
      "language": "python",
      "name": "python3"
    },
    "language_info": {
      "codemirror_mode": {
        "name": "ipython",
        "version": 3
      },
      "file_extension": ".py",
      "mimetype": "text/x-python",
      "name": "python",
      "nbconvert_exporter": "python",
      "pygments_lexer": "ipython3",
      "version": "3.9.6"
    },
    "vscode": {
      "interpreter": {
        "hash": "aee8b7b246df8f9039afb4144a1f6fd8d2ca17a180786b69acc140d282b71a49"
      }
    },
    "colab": {
      "provenance": []
    }
  },
  "nbformat": 4,
  "nbformat_minor": 0
}