{
 "cells": [
  {
   "cell_type": "markdown",
   "id": "2b2a2a22",
   "metadata": {},
   "source": [
    "This code is based on [https://github.com/radekosmulski/personalized_fashion_recs](https://github.com/radekosmulski/personalized_fashion_recs).\n",
    "Comments explaining the original notebook code were added by me and Arno Troch.\n",
    "\n",
    "Original notebook Kaggle score: 0.02087\n",
    "Final score (with parameters currently in the first code cell): 0.02161\n",
    "\n",
    "run final_preprocess.ipynb before running this notebook.\n",
    "\n",
    "Most code for my feature generation is in helper_feature_generation.py. Ranking copied from original notebook has been moved to helper_ranking.py.\n",
    "\n",
    "Original notebook summary:\n",
    "- group transaction data by week\n",
    "- use last x weeks as training data\n",
    "- candidate and negative sample generation are identical\n",
    "    - two methods:\n",
    "        - 12 Bestselling items of last week\n",
    "        - Items bought by the user in the last week when he made a purchase\n",
    "    - if one of the negative samples already occurred as a sample (positive or negative), remove negatives until one sample is left\n",
    "- main feature: bestseller_rank: How well did this item sell in the week before this purchase, if it was in top 12?\n",
    "- LightLGBM ranker\n",
    "\n",
    "Additions (throughout the entire course):\n",
    "- (optional) Different preprocessing:  make more assumptions about data, like users without age being the average age\n",
    "- (optional) use last x weeks of this and previous year as training data\n",
    "- Calculate bestseller_rank beyond 12\n",
    "- Feature: If a transaction occurred multiple times as positive and/or negative sample, keep track of how often it occurred\n",
    "- Feature: for each sample, check how often the customer bought a product with the same feature(s) (colour_group_code, garment_type_no, ...).\n",
    "    - Multiple features can be added to the training data, based on different article features (e.g. training data gets a feature counting how often the same colour was purchased, and one for how often the garment type was purchased)\n",
    "    - A combination of article features can be used for one training data feature (e.g. how often did this user buy articles with the same colour and garment type)\n",
    "    - These features can be calculated based on the entire dataset rather than the training set\n",
    "        - If a transaction occurs in week x, this only takes purchases from before week x into account\n",
    "    - Additionally, new features can be added to training data by ranking article features based on the feature described above\n",
    "        - Example: if a users favourite colour is blue, then a transaction of this user buying a blue item will have value 1\n",
    "        - this feature can also be generated for each article feature, and can also use combinations of article features.\n",
    "- More candidate and negative sample generations: Each week, check the users favourite value of an article feature (e.g. colour), and pick the article with that value that was bestselling last week\n",
    "    - Based on the ranking feature described above: candidates/samples can be added for each article feature, and/or combinations of article features.\n",
    "\n",
    "Additions since lecture 6:\n",
    "    Added options to make new features on only rank or count instead of both\n",
    "    Added simplified_colour_group_name to final_preprocessing.ipynb (e.g. Light Red -> Red, Other Turquoise -> Turquoise)\n",
    "    graphs (generated in graphs.py rather than this notebook)\n",
    "\n",
    "Notebook can need up to 32GB of ram. If that's too much, go to the first code cell and lower transactionBackXWeeks of put fewer things in article_features and columns_to_use."
   ]
  },
  {
   "cell_type": "markdown",
   "source": [
    "### Set global variables"
   ],
   "metadata": {
    "collapsed": false
   }
  },
  {
   "cell_type": "code",
   "execution_count": 1,
   "id": "edc4660e",
   "metadata": {},
   "outputs": [],
   "source": [
    "# Lecture 6\n",
    "# TODO: select better features\n",
    "# Generate new features based on these article_id columns\n",
    "# For each of these columns, two features will be generated:\n",
    "# For each transaction (both actual transactions and negative samples), count how often a user has already bought an item with the same value for this column.\n",
    "# Additionally, what rank does the feature have? e.g. If the user has bought more blue items than any other colour, the rank will be one. If his next favourite is red, transactions with a red item will have value 2.\n",
    "article_features = [\"product_type_no\"]\n",
    "\n",
    "# Add features based on user purchase history, based on article_features\n",
    "# If True:\n",
    "# how often did the user buy items where article_features[x] matches this transaction?\n",
    "use_count = True\n",
    "# the value of article_features[x] is the y-th favourite value of this article feature for this customer.\n",
    "use_rank = True\n",
    "\n",
    "# If True, then for each possible pair that can be made with elements from article_features, two new features will be made (as explained at article values: count and rank)\n",
    "# Example: if article_features contains colour and garment type, then a transaction for blue trousers will have new features with values that say how often the user already bought any blue trousers,\n",
    "# and how it ranks on his list of favourite clothing type/colour combinations.\n",
    "do_combinations_of_features = False\n",
    "\n",
    "#Lecture 6\n",
    "# Should candidates be added based on user purchase history? If True, then if a user likes blue, the most popular blue item of last week will be added as negative sample\n",
    "add_history_candidates = False\n",
    "LGBMBoostingType = 'dart'\n",
    "preprocess = '-1'  # '-1' uses preprocessing from original notebook, 'edited' uses slightly different preprocessing. You should probably use '-1'\n",
    "# If a negative sample did not appear in a bestseller list, this is what the NaN is fil led with. Normal values are between 1-12. If None, will use actual bestseller rank even beyond 12.\n",
    "# (Bestseller is a rank of how well an item sold in a certain week, with 1 meaning it was the most sold item)\n",
    "# TODO: I assumed setting bestsellerFiller to None would get better results, but it makes them much worse. Is this an implementation error?\n",
    "bestsellerFiller = 999\n",
    "transactionBackXWeeks = 10  # Size of training+test sets: this many weeks before test set\n",
    "# Lecture 6\n",
    "# TODO: featuresBackXWeeks does not actually work, features are always calculated on the entire dataset.\n",
    "featuresBackXWeeks = 999  # How much data to use to calculate features based on user history. If set to more weeks than available in dataset, uses entire dataset\n",
    "prevYear = ''  # if \"SkipYear\": uses training data as explained in transactionBackXWeeks + the same weeks of the previous year. Not recommended.\n",
    "assert LGBMBoostingType in ['gbdt','dart','goss','rf']\n",
    "assert preprocess in ['-1','edited']\n",
    "assert prevYear in [\"\",\"SkipYear\"]\n",
    "\n",
    "# Columns to use for training\n",
    "# Useful because including garment_type_name and garment_type_no would be redundant\n",
    "# Later on in the code, additional columns will be added if new features are generated\n",
    "columns_to_use = ['article_id', 'product_type_no', 'graphical_appearance_no', 'colour_group_code', 'perceived_colour_value_id',\n",
    "'perceived_colour_master_id', 'department_no', 'index_code',\n",
    "'index_group_no', 'section_no', 'garment_group_no', 'FN', 'Active',\n",
    "'club_member_status', 'fashion_news_frequency', 'age', 'postal_code', 'bestseller_rank','importance',\"simplified_colour_group_name\"]"
   ]
  },
  {
   "cell_type": "markdown",
   "source": [
    "### Imports"
   ],
   "metadata": {
    "collapsed": false
   }
  },
  {
   "cell_type": "code",
   "execution_count": 2,
   "id": "ad823629",
   "metadata": {},
   "outputs": [
    {
     "name": "stderr",
     "output_type": "stream",
     "text": [
      "C:\\Users\\robbe\\PycharmProjects\\ai-project-22-23\\venv\\lib\\site-packages\\nbformat\\__init__.py:92: MissingIDFieldWarning: Code cell is missing an id field, this will become a hard error in future nbformat versions. You may want to use `normalize()` on your notebooks before validations (available since nbformat 5.1.4). Previous versions of nbformat are fixing this issue transparently, and will stop doing so in the future.\n",
      "  validate(nb)\n"
     ]
    }
   ],
   "source": [
    "%run helper_functions.ipynb"
   ]
  },
  {
   "cell_type": "code",
   "execution_count": 3,
   "id": "5687e28c",
   "metadata": {},
   "outputs": [],
   "source": [
    "import pandas as pd\n",
    "from helper_feature_generation import get_purchase_rank_df_of_attributes, get_purchase_count_df_of_attributes, add_features_to_data\n",
    "import itertools\n",
    "import time\n"
   ]
  },
  {
   "cell_type": "markdown",
   "source": [
    "### Load preprocessed data\n",
    "\n",
    "The only preprocessing done up to this point is filling missing values and optimizing data size (e.g. customer id from string to int)"
   ],
   "metadata": {
    "collapsed": false
   }
  },
  {
   "cell_type": "code",
   "execution_count": 4,
   "id": "13fc4a82",
   "metadata": {},
   "outputs": [],
   "source": [
    "transactions = pd.read_parquet(f'../../data/transactions_train_{preprocess}.parquet')\n",
    "transactions=transactions.drop(columns=\"t_dat\")\n",
    "# Backup is made because some features use the full dataset for calculations\n",
    "transactions_full = pd.read_parquet(f'../../data/transactions_train_{preprocess}.parquet')\n",
    "transactions_full=transactions_full.drop(columns=\"t_dat\")\n",
    "transactions_full = transactions_full[transactions_full.week > transactions_full.week.max() - transactionBackXWeeks]\n",
    "customers = pd.read_parquet(f'../../data/customers_{preprocess}.parquet')\n",
    "articles = pd.read_parquet(f'../../data/articles_{preprocess}.parquet')"
   ]
  },
  {
   "cell_type": "markdown",
   "source": [
    "### Further process data\n",
    "\n",
    "##### mean price per item per week"
   ],
   "metadata": {
    "collapsed": false
   }
  },
  {
   "cell_type": "code",
   "execution_count": 5,
   "id": "7115a01b",
   "metadata": {},
   "outputs": [
    {
     "data": {
      "text/plain": "   week  article_id     price\n0     0   108775015  0.008373\n1     0   108775044  0.008374\n2     0   108775051  0.005023\n3     0   110065001  0.024983\n4     0   110065002  0.024650",
      "text/html": "<div>\n<style scoped>\n    .dataframe tbody tr th:only-of-type {\n        vertical-align: middle;\n    }\n\n    .dataframe tbody tr th {\n        vertical-align: top;\n    }\n\n    .dataframe thead th {\n        text-align: right;\n    }\n</style>\n<table border=\"1\" class=\"dataframe\">\n  <thead>\n    <tr style=\"text-align: right;\">\n      <th></th>\n      <th>week</th>\n      <th>article_id</th>\n      <th>price</th>\n    </tr>\n  </thead>\n  <tbody>\n    <tr>\n      <th>0</th>\n      <td>0</td>\n      <td>108775015</td>\n      <td>0.008373</td>\n    </tr>\n    <tr>\n      <th>1</th>\n      <td>0</td>\n      <td>108775044</td>\n      <td>0.008374</td>\n    </tr>\n    <tr>\n      <th>2</th>\n      <td>0</td>\n      <td>108775051</td>\n      <td>0.005023</td>\n    </tr>\n    <tr>\n      <th>3</th>\n      <td>0</td>\n      <td>110065001</td>\n      <td>0.024983</td>\n    </tr>\n    <tr>\n      <th>4</th>\n      <td>0</td>\n      <td>110065002</td>\n      <td>0.024650</td>\n    </tr>\n  </tbody>\n</table>\n</div>"
     },
     "execution_count": 5,
     "metadata": {},
     "output_type": "execute_result"
    }
   ],
   "source": [
    "# mean price PER ITEM PER WEEK\n",
    "mean_price = transactions \\\n",
    "    .groupby(['week', 'article_id'])['price'].mean()\n",
    "mean_price.reset_index().head()"
   ]
  },
  {
   "cell_type": "markdown",
   "source": [
    "##### select training data from transactions"
   ],
   "metadata": {
    "collapsed": false
   }
  },
  {
   "cell_type": "code",
   "execution_count": 6,
   "id": "36a4cad3",
   "metadata": {},
   "outputs": [],
   "source": [
    "# 1 week for testing is most suitable because the competition requires a model to be good at predicting just 1 week\n",
    "test_week = transactions.week.max() + 1\n",
    "# Unless you really want to test training on transactionBackXWeeks and transactionBackXWeeks of last year, just read the else\n",
    "if prevYear == 'SkipYear':\n",
    "    # Starting from final week in dataset, select past transactionBackXWeeks weeks\n",
    "    transactions3 = transactions[transactions.week > transactions.week.max() - transactionBackXWeeks]\n",
    "    # Starting from final week in dataset but a year earlier, select past transactionBackXWeeks weeks\n",
    "    transactions2 = transactions[(transactions.week.max()-52>=transactions.week) & (transactions.week >transactions.week.max() - transactionBackXWeeks-52)] # EDITED\n",
    "    print(transactions3['week'].unique())\n",
    "    print(transactions2['week'].unique())\n",
    "    # training data now consists of transactionBackXWeeks of current year and last year\n",
    "    transactions = pd.concat([transactions3,transactions2])\n",
    "else:\n",
    "    # Starting from final week in dataset, select past transactionBackXWeeks weeks as training data\n",
    "    transactions = transactions[transactions.week > transactions.week.max() - transactionBackXWeeks]\n",
    "\n",
    "min_week = transactions[\"week\"].min()"
   ]
  },
  {
   "cell_type": "code",
   "execution_count": 7,
   "outputs": [
    {
     "data": {
      "text/plain": "              customer_id  article_id     price  sales_channel_id  week\n29030503  272412481300040   778064028  0.008458                 1    95\n29030504  272412481300040   816592008  0.016932                 1    95\n29030505  272412481300040   621381021  0.033881                 1    95\n29030506  272412481300040   817477003  0.025407                 1    95\n29030507  272412481300040   899088002  0.025407                 1    95",
      "text/html": "<div>\n<style scoped>\n    .dataframe tbody tr th:only-of-type {\n        vertical-align: middle;\n    }\n\n    .dataframe tbody tr th {\n        vertical-align: top;\n    }\n\n    .dataframe thead th {\n        text-align: right;\n    }\n</style>\n<table border=\"1\" class=\"dataframe\">\n  <thead>\n    <tr style=\"text-align: right;\">\n      <th></th>\n      <th>customer_id</th>\n      <th>article_id</th>\n      <th>price</th>\n      <th>sales_channel_id</th>\n      <th>week</th>\n    </tr>\n  </thead>\n  <tbody>\n    <tr>\n      <th>29030503</th>\n      <td>272412481300040</td>\n      <td>778064028</td>\n      <td>0.008458</td>\n      <td>1</td>\n      <td>95</td>\n    </tr>\n    <tr>\n      <th>29030504</th>\n      <td>272412481300040</td>\n      <td>816592008</td>\n      <td>0.016932</td>\n      <td>1</td>\n      <td>95</td>\n    </tr>\n    <tr>\n      <th>29030505</th>\n      <td>272412481300040</td>\n      <td>621381021</td>\n      <td>0.033881</td>\n      <td>1</td>\n      <td>95</td>\n    </tr>\n    <tr>\n      <th>29030506</th>\n      <td>272412481300040</td>\n      <td>817477003</td>\n      <td>0.025407</td>\n      <td>1</td>\n      <td>95</td>\n    </tr>\n    <tr>\n      <th>29030507</th>\n      <td>272412481300040</td>\n      <td>899088002</td>\n      <td>0.025407</td>\n      <td>1</td>\n      <td>95</td>\n    </tr>\n  </tbody>\n</table>\n</div>"
     },
     "execution_count": 7,
     "metadata": {},
     "output_type": "execute_result"
    }
   ],
   "source": [
    "transactions.head()"
   ],
   "metadata": {
    "collapsed": false
   }
  },
  {
   "cell_type": "markdown",
   "source": [
    "##### Most common sales channel per item per week\n",
    "\n",
    "used to get sales_channel_id for candidates and negative samples"
   ],
   "metadata": {
    "collapsed": false
   }
  },
  {
   "cell_type": "code",
   "execution_count": 8,
   "outputs": [
    {
     "name": "stdout",
     "output_type": "stream",
     "text": [
      "1\n",
      "2\n"
     ]
    },
    {
     "data": {
      "text/plain": "    week  article_id  sales_channel_id\n0     96   108775015                 1\n1     96   108775044                 2\n2     96   110065001                 1\n3     96   110065002                 1\n4     96   111565001                 1\n..   ...         ...               ...\n95    96   228257001                 1\n96    96   228257002                 1\n97    96   228257003                 1\n98    96   228257004                 1\n99    96   228257008                 1\n\n[100 rows x 3 columns]",
      "text/html": "<div>\n<style scoped>\n    .dataframe tbody tr th:only-of-type {\n        vertical-align: middle;\n    }\n\n    .dataframe tbody tr th {\n        vertical-align: top;\n    }\n\n    .dataframe thead th {\n        text-align: right;\n    }\n</style>\n<table border=\"1\" class=\"dataframe\">\n  <thead>\n    <tr style=\"text-align: right;\">\n      <th></th>\n      <th>week</th>\n      <th>article_id</th>\n      <th>sales_channel_id</th>\n    </tr>\n  </thead>\n  <tbody>\n    <tr>\n      <th>0</th>\n      <td>96</td>\n      <td>108775015</td>\n      <td>1</td>\n    </tr>\n    <tr>\n      <th>1</th>\n      <td>96</td>\n      <td>108775044</td>\n      <td>2</td>\n    </tr>\n    <tr>\n      <th>2</th>\n      <td>96</td>\n      <td>110065001</td>\n      <td>1</td>\n    </tr>\n    <tr>\n      <th>3</th>\n      <td>96</td>\n      <td>110065002</td>\n      <td>1</td>\n    </tr>\n    <tr>\n      <th>4</th>\n      <td>96</td>\n      <td>111565001</td>\n      <td>1</td>\n    </tr>\n    <tr>\n      <th>...</th>\n      <td>...</td>\n      <td>...</td>\n      <td>...</td>\n    </tr>\n    <tr>\n      <th>95</th>\n      <td>96</td>\n      <td>228257001</td>\n      <td>1</td>\n    </tr>\n    <tr>\n      <th>96</th>\n      <td>96</td>\n      <td>228257002</td>\n      <td>1</td>\n    </tr>\n    <tr>\n      <th>97</th>\n      <td>96</td>\n      <td>228257003</td>\n      <td>1</td>\n    </tr>\n    <tr>\n      <th>98</th>\n      <td>96</td>\n      <td>228257004</td>\n      <td>1</td>\n    </tr>\n    <tr>\n      <th>99</th>\n      <td>96</td>\n      <td>228257008</td>\n      <td>1</td>\n    </tr>\n  </tbody>\n</table>\n<p>100 rows × 3 columns</p>\n</div>"
     },
     "execution_count": 8,
     "metadata": {},
     "output_type": "execute_result"
    }
   ],
   "source": [
    "# Lecture 6\n",
    "# Get for each week, for each article, through which sales_channel_id it was most commonly purchased\n",
    "most_common_sales_channel_id_per_item_per_week = transactions\\\n",
    "    .groupby(['week',\"article_id\"])['sales_channel_id'].value_counts() \\\n",
    "    .groupby(['week',\"article_id\"]).rank(method='dense', ascending=False) \\\n",
    "    .groupby(['week',\"article_id\"]).head(1).rename('temp').astype('int64').reset_index()\n",
    "most_common_sales_channel_id_per_item_per_week=most_common_sales_channel_id_per_item_per_week.drop(columns=[\"temp\"])\n",
    "# Probably not needed\n",
    "most_common_sales_channel_id_per_item_per_week = most_common_sales_channel_id_per_item_per_week.drop_duplicates(subset=[\"week\",\"article_id\"])\n",
    "print(most_common_sales_channel_id_per_item_per_week[\"sales_channel_id\"].min())\n",
    "print(most_common_sales_channel_id_per_item_per_week[\"sales_channel_id\"].max())\n",
    "# TODO: check if this is correct, I do think I need this because I also add 1 to week for some other thing that I merge this with\n",
    "most_common_sales_channel_id_per_item_per_week.week += 1\n",
    "most_common_sales_channel_id_per_item_per_week.head(100)"
   ],
   "metadata": {
    "collapsed": false
   }
  },
  {
   "cell_type": "markdown",
   "source": [
    "##### Rank items by sales\n",
    "\n",
    "bestseller_rank is calculated for each week, based on sales of only that week."
   ],
   "metadata": {
    "collapsed": false
   }
  },
  {
   "cell_type": "code",
   "execution_count": 9,
   "id": "203292d9",
   "metadata": {},
   "outputs": [
    {
     "data": {
      "text/plain": "    week  article_id  bestseller_rank  product_code  prod_name  \\\n0     95   760084003                1        760084       1134   \n1     95   866731001                2        866731       3609   \n2     95   600886001                3        600886       1424   \n3     95   706016001                4        706016        172   \n4     95   372860002                5        372860      19652   \n..   ...         ...              ...           ...        ...   \n95    95   878013001               75        878013       1011   \n96    95   720125040               76        720125         99   \n97    95   610776071               77        610776         46   \n98    95   852174003               77        852174       3280   \n99    95   684209019               78        684209        272   \n\n    product_type_no  product_type_name  product_group_name  \\\n0               272                  0                   1   \n1               273                 15                   1   \n2                59                 20                   6   \n3               272                  0                   1   \n4               302                 14                   7   \n..              ...                ...                 ...   \n95              265                  1                   2   \n96              273                 15                   1   \n97              255                  3                   0   \n98              306                 13                   4   \n99              298                 31                   6   \n\n    graphical_appearance_no  graphical_appearance_name  ...  index_name  \\\n0                   1010016                          0  ...           1   \n1                   1010016                          0  ...           9   \n2                   1010016                          0  ...           7   \n3                   1010016                          0  ...           1   \n4                   1010016                          0  ...           7   \n..                      ...                        ...  ...         ...   \n95                  1010001                          1  ...           0   \n96                  1010005                          8  ...           9   \n97                  1010001                          1  ...           0   \n98                  1010016                          0  ...           9   \n99                  1010017                          3  ...           7   \n\n    index_group_no  index_group_name  section_no  section_name  \\\n0                2                 2          53             1   \n1               26                 4           5            21   \n2                1                 0          60            22   \n3                2                 2          53             1   \n4                1                 0          62            31   \n..             ...               ...         ...           ...   \n95               1                 0          15             0   \n96              26                 4           5            21   \n97               1                 0          16            30   \n98              26                 4           5            21   \n99               1                 0          60            22   \n\n    garment_group_no  garment_group_name  detail_desc  \\\n0               1009                   5          847   \n1               1005                   0         3130   \n2               1018                  12          420   \n3               1009                   5           30   \n4               1021                  13          157   \n..               ...                 ...          ...   \n95              1013                   8         3544   \n96              1005                   0          313   \n97              1002                   2           60   \n98              1005                   0         3945   \n99              1018                  12          378   \n\n    simplified_colour_group_name     price  \n0                              0  0.025094  \n1                              0  0.024919  \n2                              0  0.022980  \n3                              0  0.033197  \n4                              2  0.013193  \n..                           ...       ...  \n95                             0  0.049460  \n96                             0  0.023239  \n97                             2  0.008110  \n98                             2  0.024849  \n99                             1  0.022544  \n\n[100 rows x 29 columns]",
      "text/html": "<div>\n<style scoped>\n    .dataframe tbody tr th:only-of-type {\n        vertical-align: middle;\n    }\n\n    .dataframe tbody tr th {\n        vertical-align: top;\n    }\n\n    .dataframe thead th {\n        text-align: right;\n    }\n</style>\n<table border=\"1\" class=\"dataframe\">\n  <thead>\n    <tr style=\"text-align: right;\">\n      <th></th>\n      <th>week</th>\n      <th>article_id</th>\n      <th>bestseller_rank</th>\n      <th>product_code</th>\n      <th>prod_name</th>\n      <th>product_type_no</th>\n      <th>product_type_name</th>\n      <th>product_group_name</th>\n      <th>graphical_appearance_no</th>\n      <th>graphical_appearance_name</th>\n      <th>...</th>\n      <th>index_name</th>\n      <th>index_group_no</th>\n      <th>index_group_name</th>\n      <th>section_no</th>\n      <th>section_name</th>\n      <th>garment_group_no</th>\n      <th>garment_group_name</th>\n      <th>detail_desc</th>\n      <th>simplified_colour_group_name</th>\n      <th>price</th>\n    </tr>\n  </thead>\n  <tbody>\n    <tr>\n      <th>0</th>\n      <td>95</td>\n      <td>760084003</td>\n      <td>1</td>\n      <td>760084</td>\n      <td>1134</td>\n      <td>272</td>\n      <td>0</td>\n      <td>1</td>\n      <td>1010016</td>\n      <td>0</td>\n      <td>...</td>\n      <td>1</td>\n      <td>2</td>\n      <td>2</td>\n      <td>53</td>\n      <td>1</td>\n      <td>1009</td>\n      <td>5</td>\n      <td>847</td>\n      <td>0</td>\n      <td>0.025094</td>\n    </tr>\n    <tr>\n      <th>1</th>\n      <td>95</td>\n      <td>866731001</td>\n      <td>2</td>\n      <td>866731</td>\n      <td>3609</td>\n      <td>273</td>\n      <td>15</td>\n      <td>1</td>\n      <td>1010016</td>\n      <td>0</td>\n      <td>...</td>\n      <td>9</td>\n      <td>26</td>\n      <td>4</td>\n      <td>5</td>\n      <td>21</td>\n      <td>1005</td>\n      <td>0</td>\n      <td>3130</td>\n      <td>0</td>\n      <td>0.024919</td>\n    </tr>\n    <tr>\n      <th>2</th>\n      <td>95</td>\n      <td>600886001</td>\n      <td>3</td>\n      <td>600886</td>\n      <td>1424</td>\n      <td>59</td>\n      <td>20</td>\n      <td>6</td>\n      <td>1010016</td>\n      <td>0</td>\n      <td>...</td>\n      <td>7</td>\n      <td>1</td>\n      <td>0</td>\n      <td>60</td>\n      <td>22</td>\n      <td>1018</td>\n      <td>12</td>\n      <td>420</td>\n      <td>0</td>\n      <td>0.022980</td>\n    </tr>\n    <tr>\n      <th>3</th>\n      <td>95</td>\n      <td>706016001</td>\n      <td>4</td>\n      <td>706016</td>\n      <td>172</td>\n      <td>272</td>\n      <td>0</td>\n      <td>1</td>\n      <td>1010016</td>\n      <td>0</td>\n      <td>...</td>\n      <td>1</td>\n      <td>2</td>\n      <td>2</td>\n      <td>53</td>\n      <td>1</td>\n      <td>1009</td>\n      <td>5</td>\n      <td>30</td>\n      <td>0</td>\n      <td>0.033197</td>\n    </tr>\n    <tr>\n      <th>4</th>\n      <td>95</td>\n      <td>372860002</td>\n      <td>5</td>\n      <td>372860</td>\n      <td>19652</td>\n      <td>302</td>\n      <td>14</td>\n      <td>7</td>\n      <td>1010016</td>\n      <td>0</td>\n      <td>...</td>\n      <td>7</td>\n      <td>1</td>\n      <td>0</td>\n      <td>62</td>\n      <td>31</td>\n      <td>1021</td>\n      <td>13</td>\n      <td>157</td>\n      <td>2</td>\n      <td>0.013193</td>\n    </tr>\n    <tr>\n      <th>...</th>\n      <td>...</td>\n      <td>...</td>\n      <td>...</td>\n      <td>...</td>\n      <td>...</td>\n      <td>...</td>\n      <td>...</td>\n      <td>...</td>\n      <td>...</td>\n      <td>...</td>\n      <td>...</td>\n      <td>...</td>\n      <td>...</td>\n      <td>...</td>\n      <td>...</td>\n      <td>...</td>\n      <td>...</td>\n      <td>...</td>\n      <td>...</td>\n      <td>...</td>\n      <td>...</td>\n    </tr>\n    <tr>\n      <th>95</th>\n      <td>95</td>\n      <td>878013001</td>\n      <td>75</td>\n      <td>878013</td>\n      <td>1011</td>\n      <td>265</td>\n      <td>1</td>\n      <td>2</td>\n      <td>1010001</td>\n      <td>1</td>\n      <td>...</td>\n      <td>0</td>\n      <td>1</td>\n      <td>0</td>\n      <td>15</td>\n      <td>0</td>\n      <td>1013</td>\n      <td>8</td>\n      <td>3544</td>\n      <td>0</td>\n      <td>0.049460</td>\n    </tr>\n    <tr>\n      <th>96</th>\n      <td>95</td>\n      <td>720125040</td>\n      <td>76</td>\n      <td>720125</td>\n      <td>99</td>\n      <td>273</td>\n      <td>15</td>\n      <td>1</td>\n      <td>1010005</td>\n      <td>8</td>\n      <td>...</td>\n      <td>9</td>\n      <td>26</td>\n      <td>4</td>\n      <td>5</td>\n      <td>21</td>\n      <td>1005</td>\n      <td>0</td>\n      <td>313</td>\n      <td>0</td>\n      <td>0.023239</td>\n    </tr>\n    <tr>\n      <th>97</th>\n      <td>95</td>\n      <td>610776071</td>\n      <td>77</td>\n      <td>610776</td>\n      <td>46</td>\n      <td>255</td>\n      <td>3</td>\n      <td>0</td>\n      <td>1010001</td>\n      <td>1</td>\n      <td>...</td>\n      <td>0</td>\n      <td>1</td>\n      <td>0</td>\n      <td>16</td>\n      <td>30</td>\n      <td>1002</td>\n      <td>2</td>\n      <td>60</td>\n      <td>2</td>\n      <td>0.008110</td>\n    </tr>\n    <tr>\n      <th>98</th>\n      <td>95</td>\n      <td>852174003</td>\n      <td>77</td>\n      <td>852174</td>\n      <td>3280</td>\n      <td>306</td>\n      <td>13</td>\n      <td>4</td>\n      <td>1010016</td>\n      <td>0</td>\n      <td>...</td>\n      <td>9</td>\n      <td>26</td>\n      <td>4</td>\n      <td>5</td>\n      <td>21</td>\n      <td>1005</td>\n      <td>0</td>\n      <td>3945</td>\n      <td>2</td>\n      <td>0.024849</td>\n    </tr>\n    <tr>\n      <th>99</th>\n      <td>95</td>\n      <td>684209019</td>\n      <td>78</td>\n      <td>684209</td>\n      <td>272</td>\n      <td>298</td>\n      <td>31</td>\n      <td>6</td>\n      <td>1010017</td>\n      <td>3</td>\n      <td>...</td>\n      <td>7</td>\n      <td>1</td>\n      <td>0</td>\n      <td>60</td>\n      <td>22</td>\n      <td>1018</td>\n      <td>12</td>\n      <td>378</td>\n      <td>1</td>\n      <td>0.022544</td>\n    </tr>\n  </tbody>\n</table>\n<p>100 rows × 29 columns</p>\n</div>"
     },
     "execution_count": 9,
     "metadata": {},
     "output_type": "execute_result"
    }
   ],
   "source": [
    "# Final result of this cell contains for each week in transactions (training data, not full dataset) all articles that were sold, ranked by which ones sold best, their average price in that week, and all data normally included in the articles table.\n",
    "\n",
    "# Ranks for each week which items sold best\n",
    "# Lecture 6\n",
    "sales_nohead = transactions \\\n",
    "    .groupby('week')['article_id'].value_counts() \\\n",
    "    .groupby('week').rank(method='dense', ascending=False) \\\n",
    "    .groupby('week').head(9999999999999).rename('bestseller_rank').astype('int64').reset_index()\n",
    "\n",
    "# Add article columns, e.g. garment_type_name\n",
    "sales_nohead = pd.merge(sales_nohead,articles,how=\"left\",on=[\"article_id\"])\n",
    "# Add average price of product in week\n",
    "sales_nohead = pd.merge(sales_nohead,mean_price,how=\"left\",on=[\"week\",\"article_id\"])\n",
    "sales_nohead.head(100)"
   ]
  },
  {
   "cell_type": "code",
   "execution_count": 10,
   "outputs": [
    {
     "data": {
      "text/plain": "Index(['article_id', 'product_code', 'prod_name', 'product_type_no',\n       'product_type_name', 'product_group_name', 'graphical_appearance_no',\n       'graphical_appearance_name', 'colour_group_code', 'colour_group_name',\n       'perceived_colour_value_id', 'perceived_colour_value_name',\n       'perceived_colour_master_id', 'perceived_colour_master_name',\n       'department_no', 'department_name', 'index_code', 'index_name',\n       'index_group_no', 'index_group_name', 'section_no', 'section_name',\n       'garment_group_no', 'garment_group_name', 'detail_desc',\n       'simplified_colour_group_name'],\n      dtype='object')"
     },
     "execution_count": 10,
     "metadata": {},
     "output_type": "execute_result"
    }
   ],
   "source": [
    "articles.columns"
   ],
   "metadata": {
    "collapsed": false
   }
  },
  {
   "cell_type": "code",
   "execution_count": 11,
   "outputs": [
    {
     "data": {
      "text/plain": "Index(['week', 'article_id', 'bestseller_rank', 'product_code', 'prod_name',\n       'product_type_no', 'product_type_name', 'product_group_name',\n       'graphical_appearance_no', 'graphical_appearance_name',\n       'colour_group_code', 'colour_group_name', 'perceived_colour_value_id',\n       'perceived_colour_value_name', 'perceived_colour_master_id',\n       'perceived_colour_master_name', 'department_no', 'department_name',\n       'index_code', 'index_name', 'index_group_no', 'index_group_name',\n       'section_no', 'section_name', 'garment_group_no', 'garment_group_name',\n       'detail_desc', 'simplified_colour_group_name', 'price'],\n      dtype='object')"
     },
     "execution_count": 11,
     "metadata": {},
     "output_type": "execute_result"
    }
   ],
   "source": [
    "sales_nohead.columns"
   ],
   "metadata": {
    "collapsed": false
   }
  },
  {
   "cell_type": "markdown",
   "source": [
    "### Generate new features"
   ],
   "metadata": {
    "collapsed": false
   }
  },
  {
   "cell_type": "code",
   "execution_count": 12,
   "id": "2ef902e0",
   "metadata": {},
   "outputs": [],
   "source": [
    "all_new_features = add_features_to_data(article_features,do_combinations_of_features,columns_to_use,transactions_full,featuresBackXWeeks,articles,min_week,test_week,use_count=use_count,use_rank=use_rank,verbose=False)"
   ]
  },
  {
   "cell_type": "code",
   "execution_count": 13,
   "outputs": [],
   "source": [
    "try:\n",
    "    all_new_features[0][0].head()\n",
    "except IndexError:\n",
    "    pass"
   ],
   "metadata": {
    "collapsed": false
   }
  },
  {
   "cell_type": "code",
   "execution_count": 14,
   "id": "476cb56f",
   "metadata": {},
   "outputs": [
    {
     "data": {
      "text/plain": "      customer_id  garment_group_no  amount_of_garment_group_no\n0  28847241659200              1005                           1\n1  28847241659200              1007                           1\n2  28847241659200              1009                           1\n3  28847241659200              1010                           2\n4  41318098387474              1013                           1",
      "text/html": "<div>\n<style scoped>\n    .dataframe tbody tr th:only-of-type {\n        vertical-align: middle;\n    }\n\n    .dataframe tbody tr th {\n        vertical-align: top;\n    }\n\n    .dataframe thead th {\n        text-align: right;\n    }\n</style>\n<table border=\"1\" class=\"dataframe\">\n  <thead>\n    <tr style=\"text-align: right;\">\n      <th></th>\n      <th>customer_id</th>\n      <th>garment_group_no</th>\n      <th>amount_of_garment_group_no</th>\n    </tr>\n  </thead>\n  <tbody>\n    <tr>\n      <th>0</th>\n      <td>28847241659200</td>\n      <td>1005</td>\n      <td>1</td>\n    </tr>\n    <tr>\n      <th>1</th>\n      <td>28847241659200</td>\n      <td>1007</td>\n      <td>1</td>\n    </tr>\n    <tr>\n      <th>2</th>\n      <td>28847241659200</td>\n      <td>1009</td>\n      <td>1</td>\n    </tr>\n    <tr>\n      <th>3</th>\n      <td>28847241659200</td>\n      <td>1010</td>\n      <td>2</td>\n    </tr>\n    <tr>\n      <th>4</th>\n      <td>41318098387474</td>\n      <td>1013</td>\n      <td>1</td>\n    </tr>\n  </tbody>\n</table>\n</div>"
     },
     "execution_count": 14,
     "metadata": {},
     "output_type": "execute_result"
    }
   ],
   "source": [
    "# Example application of get_purchase_rank_df_of_attributes\n",
    "# Assuming output is deterministic, you can see that customer 28847241659200 bought 2 articles from garment_group_no 1010 (as seen in amount_of_garment_group_no),\n",
    "# making it his favourite garment_group_no (as seen inn column amount_of_garment_group_no_rank)\n",
    "temp2 = get_purchase_count_df_of_attributes(transactions,articles,[\"garment_group_no\"],\"amount_of_garment_group_no\")\n",
    "temp2.head()"
   ]
  },
  {
   "cell_type": "code",
   "execution_count": 15,
   "id": "2655d034",
   "metadata": {},
   "outputs": [
    {
     "data": {
      "text/plain": "      customer_id  garment_group_no  amount_of_garment_group_no  \\\n0  28847241659200              1005                           1   \n1  28847241659200              1007                           1   \n2  28847241659200              1009                           1   \n3  28847241659200              1010                           2   \n4  41318098387474              1013                           1   \n\n   amount_of_garment_group_no_rank  \n0                              2.0  \n1                              2.0  \n2                              2.0  \n3                              1.0  \n4                              1.0  ",
      "text/html": "<div>\n<style scoped>\n    .dataframe tbody tr th:only-of-type {\n        vertical-align: middle;\n    }\n\n    .dataframe tbody tr th {\n        vertical-align: top;\n    }\n\n    .dataframe thead th {\n        text-align: right;\n    }\n</style>\n<table border=\"1\" class=\"dataframe\">\n  <thead>\n    <tr style=\"text-align: right;\">\n      <th></th>\n      <th>customer_id</th>\n      <th>garment_group_no</th>\n      <th>amount_of_garment_group_no</th>\n      <th>amount_of_garment_group_no_rank</th>\n    </tr>\n  </thead>\n  <tbody>\n    <tr>\n      <th>0</th>\n      <td>28847241659200</td>\n      <td>1005</td>\n      <td>1</td>\n      <td>2.0</td>\n    </tr>\n    <tr>\n      <th>1</th>\n      <td>28847241659200</td>\n      <td>1007</td>\n      <td>1</td>\n      <td>2.0</td>\n    </tr>\n    <tr>\n      <th>2</th>\n      <td>28847241659200</td>\n      <td>1009</td>\n      <td>1</td>\n      <td>2.0</td>\n    </tr>\n    <tr>\n      <th>3</th>\n      <td>28847241659200</td>\n      <td>1010</td>\n      <td>2</td>\n      <td>1.0</td>\n    </tr>\n    <tr>\n      <th>4</th>\n      <td>41318098387474</td>\n      <td>1013</td>\n      <td>1</td>\n      <td>1.0</td>\n    </tr>\n  </tbody>\n</table>\n</div>"
     },
     "execution_count": 15,
     "metadata": {},
     "output_type": "execute_result"
    }
   ],
   "source": [
    "# Example application of get_purchase_rank_df_of_attributes\n",
    "# Assuming output is deterministic, you can see that customer 28847241659200 bought 2 articles from garment_group_no 1010 (as seen in amount_of_garment_group_no),\n",
    "# making it his favourite garment_group_no (as seen inn column amount_of_garment_group_no_rank)\n",
    "temp2 = get_purchase_rank_df_of_attributes(transactions,articles,[\"garment_group_no\"],\"amount_of_garment_group_no\")\n",
    "temp2.head()"
   ]
  },
  {
   "cell_type": "code",
   "execution_count": 16,
   "id": "3df00645",
   "metadata": {},
   "outputs": [
    {
     "data": {
      "text/plain": "              customer_id  article_id     price  sales_channel_id  week\n29030503  272412481300040   778064028  0.008458                 1    95\n29030504  272412481300040   816592008  0.016932                 1    95\n29030505  272412481300040   621381021  0.033881                 1    95\n29030506  272412481300040   817477003  0.025407                 1    95\n29030507  272412481300040   899088002  0.025407                 1    95",
      "text/html": "<div>\n<style scoped>\n    .dataframe tbody tr th:only-of-type {\n        vertical-align: middle;\n    }\n\n    .dataframe tbody tr th {\n        vertical-align: top;\n    }\n\n    .dataframe thead th {\n        text-align: right;\n    }\n</style>\n<table border=\"1\" class=\"dataframe\">\n  <thead>\n    <tr style=\"text-align: right;\">\n      <th></th>\n      <th>customer_id</th>\n      <th>article_id</th>\n      <th>price</th>\n      <th>sales_channel_id</th>\n      <th>week</th>\n    </tr>\n  </thead>\n  <tbody>\n    <tr>\n      <th>29030503</th>\n      <td>272412481300040</td>\n      <td>778064028</td>\n      <td>0.008458</td>\n      <td>1</td>\n      <td>95</td>\n    </tr>\n    <tr>\n      <th>29030504</th>\n      <td>272412481300040</td>\n      <td>816592008</td>\n      <td>0.016932</td>\n      <td>1</td>\n      <td>95</td>\n    </tr>\n    <tr>\n      <th>29030505</th>\n      <td>272412481300040</td>\n      <td>621381021</td>\n      <td>0.033881</td>\n      <td>1</td>\n      <td>95</td>\n    </tr>\n    <tr>\n      <th>29030506</th>\n      <td>272412481300040</td>\n      <td>817477003</td>\n      <td>0.025407</td>\n      <td>1</td>\n      <td>95</td>\n    </tr>\n    <tr>\n      <th>29030507</th>\n      <td>272412481300040</td>\n      <td>899088002</td>\n      <td>0.025407</td>\n      <td>1</td>\n      <td>95</td>\n    </tr>\n  </tbody>\n</table>\n</div>"
     },
     "execution_count": 16,
     "metadata": {},
     "output_type": "execute_result"
    }
   ],
   "source": [
    "transactions.head()"
   ]
  },
  {
   "cell_type": "markdown",
   "id": "56263b7a",
   "metadata": {},
   "source": [
    "# Generating candidates"
   ]
  },
  {
   "cell_type": "markdown",
   "id": "dbd43fcd",
   "metadata": {},
   "source": [
    "### Last purchase candidates\n",
    "From original notebook [https://github.com/radekosmulski/personalized_fashion_recs/blob/main/03c_Basic_Model_Submission.ipynb](https://github.com/radekosmulski/personalized_fashion_recs/blob/main/03c_Basic_Model_Submission.ipynb)\n",
    "Candidate or negative sample for week X: item that the customer bought in the last week < x when he made a purchase"
   ]
  },
  {
   "cell_type": "code",
   "execution_count": 17,
   "id": "ca3b5729",
   "metadata": {},
   "outputs": [],
   "source": [
    "# Final result of cell:\n",
    "# Candidate for week X: item bought in previous purchase week\n",
    "\n",
    "c2weeks = transactions.groupby('customer_id')['week'].unique()\n",
    "\n",
    "c2weeks2shifted_weeks = {}\n",
    "\n",
    "for c_id, weeks in c2weeks.items():\n",
    "    c2weeks2shifted_weeks[c_id] = {}\n",
    "    for i in range(weeks.shape[0]-1):\n",
    "        c2weeks2shifted_weeks[c_id][weeks[i]] = weeks[i+1]\n",
    "    c2weeks2shifted_weeks[c_id][weeks[-1]] = test_week\n",
    "\n",
    "candidates_last_purchase = transactions.copy()\n",
    "\n",
    "weeks = []\n",
    "for i, (c_id, week) in enumerate(zip(transactions['customer_id'], transactions['week'])):\n",
    "    weeks.append(c2weeks2shifted_weeks[c_id][week])\n",
    "\n",
    "# Candidate for week X: item bought in previous purchase week\n",
    "candidates_last_purchase.week=weeks"
   ]
  },
  {
   "cell_type": "code",
   "execution_count": 18,
   "id": "9a29c86f",
   "metadata": {},
   "outputs": [
    {
     "name": "stdout",
     "output_type": "stream",
     "text": [
      "                   customer_id  article_id     price  sales_channel_id  week\n",
      "29030503       272412481300040   778064028  0.008458                 1    96\n",
      "29030504       272412481300040   816592008  0.016932                 1    96\n",
      "29030505       272412481300040   621381021  0.033881                 1    96\n",
      "29030506       272412481300040   817477003  0.025407                 1    96\n",
      "29030507       272412481300040   899088002  0.025407                 1    96\n",
      "...                        ...         ...       ...               ...   ...\n",
      "31774722  18439937050817258297   891591003  0.084729                 2   105\n",
      "31774723  18439937050817258297   869706005  0.084729                 2   105\n",
      "31779097  18440902715633436014   918894002  0.016932                 1   105\n",
      "31779098  18440902715633436014   761269001  0.016932                 1   105\n",
      "31780475  18443633011701112574   914868002  0.033881                 1   105\n",
      "\n",
      "[2762872 rows x 5 columns]\n"
     ]
    }
   ],
   "source": [
    "print(candidates_last_purchase)"
   ]
  },
  {
   "cell_type": "markdown",
   "id": "4077cf9c",
   "metadata": {},
   "source": [
    "### Bestsellers candidates"
   ]
  },
  {
   "cell_type": "code",
   "execution_count": 19,
   "id": "07eb3b56",
   "metadata": {},
   "outputs": [
    {
     "data": {
      "text/plain": "              customer_id  article_id     price  sales_channel_id  week\n29030503  272412481300040   778064028  0.008458                 1    96\n29030504  272412481300040   816592008  0.016932                 1    96\n29030505  272412481300040   621381021  0.033881                 1    96\n29030506  272412481300040   817477003  0.025407                 1    96\n29030507  272412481300040   899088002  0.025407                 1    96",
      "text/html": "<div>\n<style scoped>\n    .dataframe tbody tr th:only-of-type {\n        vertical-align: middle;\n    }\n\n    .dataframe tbody tr th {\n        vertical-align: top;\n    }\n\n    .dataframe thead th {\n        text-align: right;\n    }\n</style>\n<table border=\"1\" class=\"dataframe\">\n  <thead>\n    <tr style=\"text-align: right;\">\n      <th></th>\n      <th>customer_id</th>\n      <th>article_id</th>\n      <th>price</th>\n      <th>sales_channel_id</th>\n      <th>week</th>\n    </tr>\n  </thead>\n  <tbody>\n    <tr>\n      <th>29030503</th>\n      <td>272412481300040</td>\n      <td>778064028</td>\n      <td>0.008458</td>\n      <td>1</td>\n      <td>96</td>\n    </tr>\n    <tr>\n      <th>29030504</th>\n      <td>272412481300040</td>\n      <td>816592008</td>\n      <td>0.016932</td>\n      <td>1</td>\n      <td>96</td>\n    </tr>\n    <tr>\n      <th>29030505</th>\n      <td>272412481300040</td>\n      <td>621381021</td>\n      <td>0.033881</td>\n      <td>1</td>\n      <td>96</td>\n    </tr>\n    <tr>\n      <th>29030506</th>\n      <td>272412481300040</td>\n      <td>817477003</td>\n      <td>0.025407</td>\n      <td>1</td>\n      <td>96</td>\n    </tr>\n    <tr>\n      <th>29030507</th>\n      <td>272412481300040</td>\n      <td>899088002</td>\n      <td>0.025407</td>\n      <td>1</td>\n      <td>96</td>\n    </tr>\n  </tbody>\n</table>\n</div>"
     },
     "execution_count": 19,
     "metadata": {},
     "output_type": "execute_result"
    }
   ],
   "source": [
    "candidates_last_purchase.head()"
   ]
  },
  {
   "cell_type": "code",
   "execution_count": 20,
   "id": "72e132a4",
   "metadata": {},
   "outputs": [
    {
     "data": {
      "text/plain": "              customer_id  article_id     price  sales_channel_id  week\n29030503  272412481300040   778064028  0.008458                 1    95\n29030504  272412481300040   816592008  0.016932                 1    95\n29030505  272412481300040   621381021  0.033881                 1    95\n29030506  272412481300040   817477003  0.025407                 1    95\n29030507  272412481300040   899088002  0.025407                 1    95",
      "text/html": "<div>\n<style scoped>\n    .dataframe tbody tr th:only-of-type {\n        vertical-align: middle;\n    }\n\n    .dataframe tbody tr th {\n        vertical-align: top;\n    }\n\n    .dataframe thead th {\n        text-align: right;\n    }\n</style>\n<table border=\"1\" class=\"dataframe\">\n  <thead>\n    <tr style=\"text-align: right;\">\n      <th></th>\n      <th>customer_id</th>\n      <th>article_id</th>\n      <th>price</th>\n      <th>sales_channel_id</th>\n      <th>week</th>\n    </tr>\n  </thead>\n  <tbody>\n    <tr>\n      <th>29030503</th>\n      <td>272412481300040</td>\n      <td>778064028</td>\n      <td>0.008458</td>\n      <td>1</td>\n      <td>95</td>\n    </tr>\n    <tr>\n      <th>29030504</th>\n      <td>272412481300040</td>\n      <td>816592008</td>\n      <td>0.016932</td>\n      <td>1</td>\n      <td>95</td>\n    </tr>\n    <tr>\n      <th>29030505</th>\n      <td>272412481300040</td>\n      <td>621381021</td>\n      <td>0.033881</td>\n      <td>1</td>\n      <td>95</td>\n    </tr>\n    <tr>\n      <th>29030506</th>\n      <td>272412481300040</td>\n      <td>817477003</td>\n      <td>0.025407</td>\n      <td>1</td>\n      <td>95</td>\n    </tr>\n    <tr>\n      <th>29030507</th>\n      <td>272412481300040</td>\n      <td>899088002</td>\n      <td>0.025407</td>\n      <td>1</td>\n      <td>95</td>\n    </tr>\n  </tbody>\n</table>\n</div>"
     },
     "execution_count": 20,
     "metadata": {},
     "output_type": "execute_result"
    }
   ],
   "source": [
    "transactions.head()"
   ]
  },
  {
   "cell_type": "code",
   "execution_count": 21,
   "id": "47f568db",
   "metadata": {},
   "outputs": [
    {
     "data": {
      "text/plain": "week  article_id\n95    760084003     1\n      866731001     2\n      600886001     3\n      706016001     4\n      372860002     5\nName: bestseller_rank, dtype: int8"
     },
     "execution_count": 21,
     "metadata": {},
     "output_type": "execute_result"
    }
   ],
   "source": [
    "# Bestseller rank is important because it is merged into dataframes that need it, but after that it can be removed from this dataframe.\n",
    "# For each week, list of ranked 12 bestsellers\n",
    "sales = transactions \\\n",
    "    .groupby('week')['article_id'].value_counts() \\\n",
    "    .groupby('week').rank(method='dense', ascending=False) \\\n",
    "    .groupby('week').head(12).rename('bestseller_rank').astype('int8')\n",
    "sales.head()"
   ]
  },
  {
   "cell_type": "code",
   "execution_count": 22,
   "id": "4d25be79",
   "metadata": {},
   "outputs": [
    {
     "data": {
      "text/plain": "               customer_id  sales_channel_id  week\n29030503   272412481300040                 1    95\n29064059  1456826891333599                 1    95\n29067103  2133687643102426                 2    95\n29027487  6010692573790711                 1    95\n29046403  6171059100114610                 2    95",
      "text/html": "<div>\n<style scoped>\n    .dataframe tbody tr th:only-of-type {\n        vertical-align: middle;\n    }\n\n    .dataframe tbody tr th {\n        vertical-align: top;\n    }\n\n    .dataframe thead th {\n        text-align: right;\n    }\n</style>\n<table border=\"1\" class=\"dataframe\">\n  <thead>\n    <tr style=\"text-align: right;\">\n      <th></th>\n      <th>customer_id</th>\n      <th>sales_channel_id</th>\n      <th>week</th>\n    </tr>\n  </thead>\n  <tbody>\n    <tr>\n      <th>29030503</th>\n      <td>272412481300040</td>\n      <td>1</td>\n      <td>95</td>\n    </tr>\n    <tr>\n      <th>29064059</th>\n      <td>1456826891333599</td>\n      <td>1</td>\n      <td>95</td>\n    </tr>\n    <tr>\n      <th>29067103</th>\n      <td>2133687643102426</td>\n      <td>2</td>\n      <td>95</td>\n    </tr>\n    <tr>\n      <th>29027487</th>\n      <td>6010692573790711</td>\n      <td>1</td>\n      <td>95</td>\n    </tr>\n    <tr>\n      <th>29046403</th>\n      <td>6171059100114610</td>\n      <td>2</td>\n      <td>95</td>\n    </tr>\n  </tbody>\n</table>\n</div>"
     },
     "execution_count": 22,
     "metadata": {},
     "output_type": "execute_result"
    }
   ],
   "source": [
    "# For each week: buy bestselling items of previous week\n",
    "bestsellers_previous_week = pd.merge(sales, mean_price, on=['week', 'article_id']).reset_index()\n",
    "bestsellers_previous_week.week += 1\n",
    "# Per week list of customers that bought ANYTHING\n",
    "unique_transactions = transactions \\\n",
    "    .groupby(['week', 'customer_id']) \\\n",
    "    .head(1) \\\n",
    "    .drop(columns=['article_id', 'price']) \\\n",
    "    .copy()\n",
    "unique_transactions.head()"
   ]
  },
  {
   "cell_type": "code",
   "execution_count": 23,
   "id": "514b77a3",
   "metadata": {},
   "outputs": [],
   "source": [
    "\n",
    "# Per week list of customers that bought ANYTHING\n",
    "# MERGE\n",
    "# For each week: buy bestselling items of previous week\n",
    "\n",
    "# Per week, per customer that bought anything, the 12 bestsellers from THE (general, not per customer) previous week\n",
    "candidates_bestsellers = pd.merge(\n",
    "    unique_transactions,\n",
    "    bestsellers_previous_week,\n",
    "    on='week',\n",
    ")\n",
    "\n",
    "# unique_transactions = Per week list of customers that bought ANYTHING\n",
    "# For each customer that bought anything and that we want to make a prediction for, keep customer id once and set week to test_week, because that is the week we need predictions for\n",
    "test_set_transactions = unique_transactions.drop_duplicates('customer_id').reset_index(drop=True)\n",
    "test_set_transactions.week = test_week\n",
    "\n",
    "\n",
    "# For each customer that bought anything and that we want to make a prediction for, keep customer id once and set week to test_week, because that is the week we need predictions for\n",
    "# MERGE\n",
    "# For each week: buy bestselling items of previous week\n",
    "\n",
    "# Result: For each customer for whom we want to predict something, 12 bestselling items of testweek-1 as candidates\n",
    "candidates_bestsellers_test_week = pd.merge(\n",
    "    test_set_transactions,\n",
    "    bestsellers_previous_week,\n",
    "    on='week'\n",
    ")\n",
    "\n",
    "# Per week, per customer that bought anything, the 12 bestsellers from THE (general, not per customer) previous week\n",
    "# Result: For each customer for whom we want to predict something, 12 bestselling items of testweek-1 as candidates\n",
    "candidates_bestsellers = pd.concat([candidates_bestsellers, candidates_bestsellers_test_week])\n",
    "candidates_bestsellers.drop(columns='bestseller_rank', inplace=True)"
   ]
  },
  {
   "cell_type": "markdown",
   "source": [
    "### history-based candidates"
   ],
   "metadata": {
    "collapsed": false
   }
  },
  {
   "cell_type": "code",
   "execution_count": 24,
   "outputs": [],
   "source": [
    "# Lecture 6\n",
    "# Objective of this cell: for each feature based on purchase count of article with certain features, get most liked feature, look up bestselling item with that feature of last week, add it as negative sample.\n",
    "all_history_based_suggestions = pd.DataFrame()\n",
    "for feature_df_partial_columns in all_new_features:\n",
    "    # Dataframe: per week: customer_id, article features, purchase counts of article features, ranks of article features\n",
    "    feature_df = feature_df_partial_columns[0].copy(deep=True)\n",
    "    # List of strings: Column names on which the new features are based\n",
    "    partial_columns = feature_df_partial_columns[1]\n",
    "\n",
    "    # Get name of column containing rank (where 1 means favourite). Probably a cleaner way to do this\n",
    "    feature_df_columns = list(feature_df.columns)\n",
    "    rank_column = None\n",
    "    # For each column in the df, check if the column name contains \"_rank\"\n",
    "    for column_name in feature_df_columns:\n",
    "        if \"_rank\" in column_name:\n",
    "            rank_column = column_name\n",
    "            break\n",
    "\n",
    "    # Only keep attributes that the customer actually prefers\n",
    "    feature_df = feature_df[feature_df[rank_column] == 1]\n",
    "    # Too many negative samples is probably bad, so if attributes are tied for favourite, break tie randomly (should still be deterministic because drop_duplicates keeps topmost rows)\n",
    "    # Result: for each week, for each customer, one favourite partial_columns\n",
    "    feature_df = feature_df.drop_duplicates(subset=[\"customer_id\",\"week\"])\n",
    "\n",
    "    # Get all sales for relevant weeks (sales_nohead is only training set), but don't copy unused columns\n",
    "    sales_selected_feature = sales_nohead[[\"week\",\"article_id\",\"price\"]+partial_columns].copy(deep=True)\n",
    "\n",
    "    # I want to give customers recommendations based on the previous week, otherwise I would be taking future data into account, including the actual purchases the user will make in the future.\n",
    "    # By adding one to each week, this means that week now means \"What was popular last week?\"\n",
    "    sales_selected_feature.week += 1\n",
    "\n",
    "    # If the same feature value (e.g. \"blue\" for colour) appears multiple times in a week, drop duplicates\n",
    "    # This keeps the first row where the value appears, which is the bestselling one (sales_nohead is sorted on bestselling)\n",
    "    sales_selected_feature = sales_selected_feature.drop_duplicates(subset=partial_columns+[\"week\"])\n",
    "\n",
    "    # For each week: For each customer + his favourite value, merge with the most popular item with that value (of last week)\n",
    "    feature_df = pd.merge(feature_df,sales_selected_feature,on=[\"week\"]+partial_columns,how=\"left\")\n",
    "\n",
    "    # These are negative samples. If it turns out the user did actually buy it, the negative sample will be removed later on\n",
    "    feature_df[\"purchased\"] = 0\n",
    "\n",
    "    # Add sales channel by picking most common one for that article last week\n",
    "    # TODO: check if correct: The  \"last week\" part was week += 1, which has also been done on the second df. Is this correct?\n",
    "    feature_df = pd.merge(feature_df,most_common_sales_channel_id_per_item_per_week,on=[\"week\",\"article_id\"],how=\"left\")\n",
    "\n",
    "    # Drop columns not immediately needed anymore\n",
    "    feature_df = feature_df[[\"customer_id\",\"article_id\",\"price\",\"sales_channel_id\",\"week\",\"purchased\"]]\n",
    "\n",
    "    if all_history_based_suggestions.empty:\n",
    "        all_history_based_suggestions= feature_df.copy(deep=True)\n",
    "    else:\n",
    "        all_history_based_suggestions = pd.concat([all_history_based_suggestions,feature_df])"
   ],
   "metadata": {
    "collapsed": false
   }
  },
  {
   "cell_type": "code",
   "execution_count": 25,
   "outputs": [],
   "source": [
    "try:\n",
    "    sales_selected_feature.head()\n",
    "except NameError:\n",
    "    pass"
   ],
   "metadata": {
    "collapsed": false
   }
  },
  {
   "cell_type": "markdown",
   "source": [
    "### Combine candidates"
   ],
   "metadata": {
    "collapsed": false
   }
  },
  {
   "cell_type": "code",
   "execution_count": 26,
   "outputs": [],
   "source": [
    "\n",
    "# Combining transactions and candidates / negative examples\n",
    "transactions['purchased'] = 1\n",
    "\n",
    "# candidates_last_purchase: Candidate for week X: item bought in previous purchase week, negative samples\n",
    "# candidates_bestsellers: voor elke customer waarvoor we iets kunnen voorspellen, geven we de 12 bestseller van testweek-1 als candidate voor testweek, negative samples\n",
    "# transactions: letterlijk gewoon transactions, positive samples\n",
    "# Lecture 6\n",
    "if add_history_candidates:\n",
    "    data = pd.concat([transactions, candidates_last_purchase, candidates_bestsellers,all_history_based_suggestions])\n",
    "else:\n",
    "    data = pd.concat([transactions, candidates_last_purchase, candidates_bestsellers])\n",
    "# For real transactions, purchased was 1 (positive sample). This sets the value to 0 for negative samples\n",
    "data.purchased.fillna(0, inplace=True)"
   ],
   "metadata": {
    "collapsed": false
   }
  },
  {
   "cell_type": "code",
   "execution_count": 27,
   "id": "d18073a2",
   "metadata": {},
   "outputs": [
    {
     "data": {
      "text/plain": "              customer_id  article_id     price  sales_channel_id  week  \\\n29030503  272412481300040   778064028  0.008458                 1    95   \n29030504  272412481300040   816592008  0.016932                 1    95   \n29030505  272412481300040   621381021  0.033881                 1    95   \n29030506  272412481300040   817477003  0.025407                 1    95   \n29030507  272412481300040   899088002  0.025407                 1    95   \n\n          purchased  \n29030503        1.0  \n29030504        1.0  \n29030505        1.0  \n29030506        1.0  \n29030507        1.0  ",
      "text/html": "<div>\n<style scoped>\n    .dataframe tbody tr th:only-of-type {\n        vertical-align: middle;\n    }\n\n    .dataframe tbody tr th {\n        vertical-align: top;\n    }\n\n    .dataframe thead th {\n        text-align: right;\n    }\n</style>\n<table border=\"1\" class=\"dataframe\">\n  <thead>\n    <tr style=\"text-align: right;\">\n      <th></th>\n      <th>customer_id</th>\n      <th>article_id</th>\n      <th>price</th>\n      <th>sales_channel_id</th>\n      <th>week</th>\n      <th>purchased</th>\n    </tr>\n  </thead>\n  <tbody>\n    <tr>\n      <th>29030503</th>\n      <td>272412481300040</td>\n      <td>778064028</td>\n      <td>0.008458</td>\n      <td>1</td>\n      <td>95</td>\n      <td>1.0</td>\n    </tr>\n    <tr>\n      <th>29030504</th>\n      <td>272412481300040</td>\n      <td>816592008</td>\n      <td>0.016932</td>\n      <td>1</td>\n      <td>95</td>\n      <td>1.0</td>\n    </tr>\n    <tr>\n      <th>29030505</th>\n      <td>272412481300040</td>\n      <td>621381021</td>\n      <td>0.033881</td>\n      <td>1</td>\n      <td>95</td>\n      <td>1.0</td>\n    </tr>\n    <tr>\n      <th>29030506</th>\n      <td>272412481300040</td>\n      <td>817477003</td>\n      <td>0.025407</td>\n      <td>1</td>\n      <td>95</td>\n      <td>1.0</td>\n    </tr>\n    <tr>\n      <th>29030507</th>\n      <td>272412481300040</td>\n      <td>899088002</td>\n      <td>0.025407</td>\n      <td>1</td>\n      <td>95</td>\n      <td>1.0</td>\n    </tr>\n  </tbody>\n</table>\n</div>"
     },
     "execution_count": 27,
     "metadata": {},
     "output_type": "execute_result"
    }
   ],
   "source": [
    "data.head()"
   ]
  },
  {
   "cell_type": "markdown",
   "source": [
    "### Count duplicate samples"
   ],
   "metadata": {
    "collapsed": false
   }
  },
  {
   "cell_type": "code",
   "execution_count": 28,
   "id": "91827ebd",
   "metadata": {},
   "outputs": [
    {
     "name": "stdout",
     "output_type": "stream",
     "text": [
      "                   customer_id  article_id  week  importance\n",
      "0               28847241659200   372860002    96           1\n",
      "1               28847241659200   448509014   105           1\n",
      "2               28847241659200   547780003    96           1\n",
      "3               28847241659200   600886001    96           1\n",
      "4               28847241659200   610776002    96           1\n",
      "...                        ...         ...   ...         ...\n",
      "18253744  18446737527580148316   923758001   104           1\n",
      "18253745  18446737527580148316   923758001   105           1\n",
      "18253746  18446737527580148316   924243001   104           1\n",
      "18253747  18446737527580148316   924243001   105           1\n",
      "18253748  18446737527580148316   924243002   105           1\n",
      "\n",
      "[18253749 rows x 4 columns]\n",
      "0\n",
      "74\n",
      "1.0362430205433415\n",
      "1\n"
     ]
    },
    {
     "data": {
      "text/plain": "       customer_id  article_id     price  sales_channel_id  week  purchased  \\\n0  272412481300040   778064028  0.008458                 1    95        1.0   \n1  272412481300040   816592008  0.016932                 1    95        1.0   \n2  272412481300040   621381021  0.033881                 1    95        1.0   \n3  272412481300040   817477003  0.025407                 1    95        1.0   \n4  272412481300040   899088002  0.025407                 1    95        1.0   \n\n   importance  \n0           1  \n1           1  \n2           1  \n3           1  \n4           1  ",
      "text/html": "<div>\n<style scoped>\n    .dataframe tbody tr th:only-of-type {\n        vertical-align: middle;\n    }\n\n    .dataframe tbody tr th {\n        vertical-align: top;\n    }\n\n    .dataframe thead th {\n        text-align: right;\n    }\n</style>\n<table border=\"1\" class=\"dataframe\">\n  <thead>\n    <tr style=\"text-align: right;\">\n      <th></th>\n      <th>customer_id</th>\n      <th>article_id</th>\n      <th>price</th>\n      <th>sales_channel_id</th>\n      <th>week</th>\n      <th>purchased</th>\n      <th>importance</th>\n    </tr>\n  </thead>\n  <tbody>\n    <tr>\n      <th>0</th>\n      <td>272412481300040</td>\n      <td>778064028</td>\n      <td>0.008458</td>\n      <td>1</td>\n      <td>95</td>\n      <td>1.0</td>\n      <td>1</td>\n    </tr>\n    <tr>\n      <th>1</th>\n      <td>272412481300040</td>\n      <td>816592008</td>\n      <td>0.016932</td>\n      <td>1</td>\n      <td>95</td>\n      <td>1.0</td>\n      <td>1</td>\n    </tr>\n    <tr>\n      <th>2</th>\n      <td>272412481300040</td>\n      <td>621381021</td>\n      <td>0.033881</td>\n      <td>1</td>\n      <td>95</td>\n      <td>1.0</td>\n      <td>1</td>\n    </tr>\n    <tr>\n      <th>3</th>\n      <td>272412481300040</td>\n      <td>817477003</td>\n      <td>0.025407</td>\n      <td>1</td>\n      <td>95</td>\n      <td>1.0</td>\n      <td>1</td>\n    </tr>\n    <tr>\n      <th>4</th>\n      <td>272412481300040</td>\n      <td>899088002</td>\n      <td>0.025407</td>\n      <td>1</td>\n      <td>95</td>\n      <td>1.0</td>\n      <td>1</td>\n    </tr>\n  </tbody>\n</table>\n</div>"
     },
     "execution_count": 28,
     "metadata": {},
     "output_type": "execute_result"
    }
   ],
   "source": [
    "# For each week: look for every time that a customer bought OR got recommended an item (column importance), and if bought only keep row with purchased 1 (this automatically happens because of the order of concats in the previous cell)\n",
    "# Note: candidates for week 105 are all purchased = 0\n",
    "temp = data.groupby(['customer_id', 'article_id', 'week']).size().reset_index(name=\"importance\")\n",
    "print(temp)\n",
    "data.drop_duplicates(['customer_id', 'article_id', 'week'], inplace=True)\n",
    "\n",
    "data = pd.merge(\n",
    "    data,\n",
    "    temp,\n",
    "    on=['customer_id', 'article_id', 'week']\n",
    ")\n",
    "\n",
    "data.purchased.mean()\n",
    "print(data[\"importance\"].isna().sum())\n",
    "print(data[\"importance\"].max())\n",
    "print(data[\"importance\"].mean())\n",
    "print(data[\"importance\"].min())\n",
    "\n",
    "data.head()"
   ]
  },
  {
   "cell_type": "markdown",
   "id": "22588375",
   "metadata": {},
   "source": []
  },
  {
   "cell_type": "code",
   "execution_count": 29,
   "id": "d315fe74",
   "metadata": {},
   "outputs": [
    {
     "data": {
      "text/plain": "week  article_id\n95    760084003     1\n      866731001     2\n      600886001     3\n      706016001     4\n      372860002     5\nName: bestseller_rank, dtype: int8"
     },
     "execution_count": 29,
     "metadata": {},
     "output_type": "execute_result"
    }
   ],
   "source": [
    "sales.head()"
   ]
  },
  {
   "cell_type": "code",
   "execution_count": 30,
   "id": "6cbea6d7",
   "metadata": {},
   "outputs": [
    {
     "data": {
      "text/plain": "   week  article_id  bestseller_rank     price\n0    96   760084003                1  0.025094\n1    96   866731001                2  0.024919\n2    96   600886001                3  0.022980\n3    96   706016001                4  0.033197\n4    96   372860002                5  0.013193",
      "text/html": "<div>\n<style scoped>\n    .dataframe tbody tr th:only-of-type {\n        vertical-align: middle;\n    }\n\n    .dataframe tbody tr th {\n        vertical-align: top;\n    }\n\n    .dataframe thead th {\n        text-align: right;\n    }\n</style>\n<table border=\"1\" class=\"dataframe\">\n  <thead>\n    <tr style=\"text-align: right;\">\n      <th></th>\n      <th>week</th>\n      <th>article_id</th>\n      <th>bestseller_rank</th>\n      <th>price</th>\n    </tr>\n  </thead>\n  <tbody>\n    <tr>\n      <th>0</th>\n      <td>96</td>\n      <td>760084003</td>\n      <td>1</td>\n      <td>0.025094</td>\n    </tr>\n    <tr>\n      <th>1</th>\n      <td>96</td>\n      <td>866731001</td>\n      <td>2</td>\n      <td>0.024919</td>\n    </tr>\n    <tr>\n      <th>2</th>\n      <td>96</td>\n      <td>600886001</td>\n      <td>3</td>\n      <td>0.022980</td>\n    </tr>\n    <tr>\n      <th>3</th>\n      <td>96</td>\n      <td>706016001</td>\n      <td>4</td>\n      <td>0.033197</td>\n    </tr>\n    <tr>\n      <th>4</th>\n      <td>96</td>\n      <td>372860002</td>\n      <td>5</td>\n      <td>0.013193</td>\n    </tr>\n  </tbody>\n</table>\n</div>"
     },
     "execution_count": 30,
     "metadata": {},
     "output_type": "execute_result"
    }
   ],
   "source": [
    "bestsellers_previous_week.head()"
   ]
  },
  {
   "cell_type": "markdown",
   "id": "ac183274",
   "metadata": {},
   "source": [
    "### Add bestseller information"
   ]
  },
  {
   "cell_type": "code",
   "execution_count": 31,
   "id": "f28957eb",
   "metadata": {},
   "outputs": [],
   "source": [
    "# For real transactions: bestseller unknown, check candidates to check if there is a bestseller rank. If not, fill with fillna later on.\n",
    "# Lecture 6\n",
    "# Using sales_nohead is supposed to give the true bestseller rank for any item, even if not top 12\n",
    "# TODO: does sales_nohead contain all info needed for this?\n",
    "if bestsellerFiller is None:\n",
    "    full_bestsellers_previous_week = sales_nohead.copy(deep=True)\n",
    "    full_bestsellers_previous_week.week += 1\n",
    "    data = pd.merge(\n",
    "        data,\n",
    "        sales_nohead[['week', 'article_id', 'bestseller_rank']],\n",
    "        on=['week', 'article_id'],\n",
    "        how='left'\n",
    "    )\n",
    "else:\n",
    "    data = pd.merge(\n",
    "    data,\n",
    "    bestsellers_previous_week[['week', 'article_id', 'bestseller_rank']],\n",
    "    on=['week', 'article_id'],\n",
    "    how='left'\n",
    ")"
   ]
  },
  {
   "cell_type": "code",
   "execution_count": 32,
   "id": "c46f8fe0",
   "metadata": {},
   "outputs": [
    {
     "data": {
      "text/plain": "       customer_id  article_id     price  sales_channel_id  week  purchased  \\\n0  272412481300040   778064028  0.008458                 1    95        1.0   \n1  272412481300040   816592008  0.016932                 1    95        1.0   \n2  272412481300040   621381021  0.033881                 1    95        1.0   \n3  272412481300040   817477003  0.025407                 1    95        1.0   \n4  272412481300040   899088002  0.025407                 1    95        1.0   \n\n   importance  bestseller_rank  \n0           1              NaN  \n1           1              NaN  \n2           1              NaN  \n3           1              NaN  \n4           1              NaN  ",
      "text/html": "<div>\n<style scoped>\n    .dataframe tbody tr th:only-of-type {\n        vertical-align: middle;\n    }\n\n    .dataframe tbody tr th {\n        vertical-align: top;\n    }\n\n    .dataframe thead th {\n        text-align: right;\n    }\n</style>\n<table border=\"1\" class=\"dataframe\">\n  <thead>\n    <tr style=\"text-align: right;\">\n      <th></th>\n      <th>customer_id</th>\n      <th>article_id</th>\n      <th>price</th>\n      <th>sales_channel_id</th>\n      <th>week</th>\n      <th>purchased</th>\n      <th>importance</th>\n      <th>bestseller_rank</th>\n    </tr>\n  </thead>\n  <tbody>\n    <tr>\n      <th>0</th>\n      <td>272412481300040</td>\n      <td>778064028</td>\n      <td>0.008458</td>\n      <td>1</td>\n      <td>95</td>\n      <td>1.0</td>\n      <td>1</td>\n      <td>NaN</td>\n    </tr>\n    <tr>\n      <th>1</th>\n      <td>272412481300040</td>\n      <td>816592008</td>\n      <td>0.016932</td>\n      <td>1</td>\n      <td>95</td>\n      <td>1.0</td>\n      <td>1</td>\n      <td>NaN</td>\n    </tr>\n    <tr>\n      <th>2</th>\n      <td>272412481300040</td>\n      <td>621381021</td>\n      <td>0.033881</td>\n      <td>1</td>\n      <td>95</td>\n      <td>1.0</td>\n      <td>1</td>\n      <td>NaN</td>\n    </tr>\n    <tr>\n      <th>3</th>\n      <td>272412481300040</td>\n      <td>817477003</td>\n      <td>0.025407</td>\n      <td>1</td>\n      <td>95</td>\n      <td>1.0</td>\n      <td>1</td>\n      <td>NaN</td>\n    </tr>\n    <tr>\n      <th>4</th>\n      <td>272412481300040</td>\n      <td>899088002</td>\n      <td>0.025407</td>\n      <td>1</td>\n      <td>95</td>\n      <td>1.0</td>\n      <td>1</td>\n      <td>NaN</td>\n    </tr>\n  </tbody>\n</table>\n</div>"
     },
     "execution_count": 32,
     "metadata": {},
     "output_type": "execute_result"
    }
   ],
   "source": [
    "data.head()"
   ]
  },
  {
   "cell_type": "code",
   "execution_count": 33,
   "id": "3e7d3d8a",
   "metadata": {},
   "outputs": [],
   "source": [
    "# Remove first week because it lacks bestsellers_previous_week\n",
    "data = data[data.week != data.week.min()]  # Presumably to make sure no data of an incomplete week is included?\n",
    "# If no bestseller: sold very poorly (default bestsellerFiller is 999, which means there are 998 better selling items)\n",
    "if bestsellerFiller is not None:\n",
    "    data.bestseller_rank.fillna(bestsellerFiller, inplace=True)\n",
    "else:\n",
    "    # https://datatofish.com/count-nan-pandas-dataframe/\n",
    "    print(data.isna().sum().sum())"
   ]
  },
  {
   "cell_type": "markdown",
   "source": [
    "### Merge data\n",
    "Combine data from articles, customers, custom features..."
   ],
   "metadata": {
    "collapsed": false
   }
  },
  {
   "cell_type": "code",
   "execution_count": 34,
   "id": "b5fdc9dc",
   "metadata": {},
   "outputs": [],
   "source": [
    "# Per customer per week all transactions/candidates\n",
    "\n",
    "# Add article info to each row\n",
    "data = pd.merge(data, articles, on='article_id', how='left')\n",
    "# Add customer info to each row\n",
    "data = pd.merge(data, customers, on='customer_id', how='left')"
   ]
  },
  {
   "cell_type": "code",
   "execution_count": 35,
   "id": "9e3a737a",
   "metadata": {},
   "outputs": [],
   "source": [
    "# Sort by week, then customer\n",
    "data.sort_values(['week', 'customer_id'], inplace=True)\n",
    "data.reset_index(drop=True, inplace=True)"
   ]
  },
  {
   "cell_type": "code",
   "execution_count": 36,
   "id": "14328601",
   "metadata": {},
   "outputs": [
    {
     "data": {
      "text/plain": "      customer_id  article_id     price  sales_channel_id  week  purchased  \\\n0  28847241659200   887770001  0.016932                 1    96        1.0   \n1  28847241659200   762846001  0.025407                 1    96        0.0   \n2  28847241659200   829308001  0.033881                 1    96        0.0   \n3  28847241659200   760084003  0.025094                 1    96        0.0   \n4  28847241659200   866731001  0.024919                 1    96        0.0   \n\n   importance  bestseller_rank  product_code  prod_name  ...  \\\n0           1            999.0        887770        727  ...   \n1           1            999.0        762846        472  ...   \n2           1            999.0        829308      11402  ...   \n3           1              1.0        760084       1134  ...   \n4           1              2.0        866731       3609  ...   \n\n   garment_group_no  garment_group_name  detail_desc  \\\n0              1010                   6         3692   \n1              1010                   6          492   \n2              1005                   0         9082   \n3              1009                   5          847   \n4              1005                   0         3130   \n\n   simplified_colour_group_name  FN  Active  club_member_status  \\\n0                             0   1       1                   0   \n1                             2   1       1                   0   \n2                             0   1       1                   0   \n3                             0   1       1                   0   \n4                             0   1       1                   0   \n\n   fashion_news_frequency  age  postal_code  \n0                       1   21        57896  \n1                       1   21        57896  \n2                       1   21        57896  \n3                       1   21        57896  \n4                       1   21        57896  \n\n[5 rows x 39 columns]",
      "text/html": "<div>\n<style scoped>\n    .dataframe tbody tr th:only-of-type {\n        vertical-align: middle;\n    }\n\n    .dataframe tbody tr th {\n        vertical-align: top;\n    }\n\n    .dataframe thead th {\n        text-align: right;\n    }\n</style>\n<table border=\"1\" class=\"dataframe\">\n  <thead>\n    <tr style=\"text-align: right;\">\n      <th></th>\n      <th>customer_id</th>\n      <th>article_id</th>\n      <th>price</th>\n      <th>sales_channel_id</th>\n      <th>week</th>\n      <th>purchased</th>\n      <th>importance</th>\n      <th>bestseller_rank</th>\n      <th>product_code</th>\n      <th>prod_name</th>\n      <th>...</th>\n      <th>garment_group_no</th>\n      <th>garment_group_name</th>\n      <th>detail_desc</th>\n      <th>simplified_colour_group_name</th>\n      <th>FN</th>\n      <th>Active</th>\n      <th>club_member_status</th>\n      <th>fashion_news_frequency</th>\n      <th>age</th>\n      <th>postal_code</th>\n    </tr>\n  </thead>\n  <tbody>\n    <tr>\n      <th>0</th>\n      <td>28847241659200</td>\n      <td>887770001</td>\n      <td>0.016932</td>\n      <td>1</td>\n      <td>96</td>\n      <td>1.0</td>\n      <td>1</td>\n      <td>999.0</td>\n      <td>887770</td>\n      <td>727</td>\n      <td>...</td>\n      <td>1010</td>\n      <td>6</td>\n      <td>3692</td>\n      <td>0</td>\n      <td>1</td>\n      <td>1</td>\n      <td>0</td>\n      <td>1</td>\n      <td>21</td>\n      <td>57896</td>\n    </tr>\n    <tr>\n      <th>1</th>\n      <td>28847241659200</td>\n      <td>762846001</td>\n      <td>0.025407</td>\n      <td>1</td>\n      <td>96</td>\n      <td>0.0</td>\n      <td>1</td>\n      <td>999.0</td>\n      <td>762846</td>\n      <td>472</td>\n      <td>...</td>\n      <td>1010</td>\n      <td>6</td>\n      <td>492</td>\n      <td>2</td>\n      <td>1</td>\n      <td>1</td>\n      <td>0</td>\n      <td>1</td>\n      <td>21</td>\n      <td>57896</td>\n    </tr>\n    <tr>\n      <th>2</th>\n      <td>28847241659200</td>\n      <td>829308001</td>\n      <td>0.033881</td>\n      <td>1</td>\n      <td>96</td>\n      <td>0.0</td>\n      <td>1</td>\n      <td>999.0</td>\n      <td>829308</td>\n      <td>11402</td>\n      <td>...</td>\n      <td>1005</td>\n      <td>0</td>\n      <td>9082</td>\n      <td>0</td>\n      <td>1</td>\n      <td>1</td>\n      <td>0</td>\n      <td>1</td>\n      <td>21</td>\n      <td>57896</td>\n    </tr>\n    <tr>\n      <th>3</th>\n      <td>28847241659200</td>\n      <td>760084003</td>\n      <td>0.025094</td>\n      <td>1</td>\n      <td>96</td>\n      <td>0.0</td>\n      <td>1</td>\n      <td>1.0</td>\n      <td>760084</td>\n      <td>1134</td>\n      <td>...</td>\n      <td>1009</td>\n      <td>5</td>\n      <td>847</td>\n      <td>0</td>\n      <td>1</td>\n      <td>1</td>\n      <td>0</td>\n      <td>1</td>\n      <td>21</td>\n      <td>57896</td>\n    </tr>\n    <tr>\n      <th>4</th>\n      <td>28847241659200</td>\n      <td>866731001</td>\n      <td>0.024919</td>\n      <td>1</td>\n      <td>96</td>\n      <td>0.0</td>\n      <td>1</td>\n      <td>2.0</td>\n      <td>866731</td>\n      <td>3609</td>\n      <td>...</td>\n      <td>1005</td>\n      <td>0</td>\n      <td>3130</td>\n      <td>0</td>\n      <td>1</td>\n      <td>1</td>\n      <td>0</td>\n      <td>1</td>\n      <td>21</td>\n      <td>57896</td>\n    </tr>\n  </tbody>\n</table>\n<p>5 rows × 39 columns</p>\n</div>"
     },
     "execution_count": 36,
     "metadata": {},
     "output_type": "execute_result"
    }
   ],
   "source": [
    "data.head()"
   ]
  },
  {
   "cell_type": "code",
   "execution_count": 37,
   "id": "a9b151ea",
   "metadata": {},
   "outputs": [
    {
     "name": "stdout",
     "output_type": "stream",
     "text": [
      "['product_type_no']\n"
     ]
    }
   ],
   "source": [
    "# lecture 6\n",
    "for feature_df_partial_columns in all_new_features:\n",
    "    print(feature_df_partial_columns[1])\n",
    "    # merge new features into training data\n",
    "    data = pd.merge(data,feature_df_partial_columns[0],on=([\"customer_id\",\"week\"] + feature_df_partial_columns[1]),how=\"left\")"
   ]
  },
  {
   "cell_type": "code",
   "execution_count": 38,
   "id": "d83b869d",
   "metadata": {},
   "outputs": [
    {
     "data": {
      "text/plain": "             customer_id  article_id     price  sales_channel_id  week  \\\n11381612  28847241659200   925246001  0.128797                 2   105   \n11381613  28847241659200   924243001  0.041535                 1   105   \n11381614  28847241659200   924243002  0.041877                 1   105   \n11381615  28847241659200   918522001  0.041435                 1   105   \n11381616  28847241659200   923758001  0.033462                 1   105   \n\n          purchased  importance  bestseller_rank  product_code  prod_name  \\\n11381612        0.0           1            999.0        925246      25454   \n11381613        0.0           1              1.0        924243      19190   \n11381614        0.0           1              2.0        924243      19190   \n11381615        0.0           1              3.0        918522      26372   \n11381616        0.0           1              4.0        923758      19359   \n\n          ...  detail_desc  simplified_colour_group_name  FN  Active  \\\n11381612  ...        27855                             0   1       1   \n11381613  ...        13007                             5   1       1   \n11381614  ...        13007                             0   1       1   \n11381615  ...        28633                             2   1       1   \n11381616  ...        27869                             2   1       1   \n\n          club_member_status  fashion_news_frequency  age  postal_code  \\\n11381612                   0                       1   21        57896   \n11381613                   0                       1   21        57896   \n11381614                   0                       1   21        57896   \n11381615                   0                       1   21        57896   \n11381616                   0                       1   21        57896   \n\n          amount_of_(product_type_no)  amount_of_(product_type_no)_rank  \n11381612                          NaN                               NaN  \n11381613                          NaN                               NaN  \n11381614                          NaN                               NaN  \n11381615                          NaN                               NaN  \n11381616                          NaN                               NaN  \n\n[5 rows x 41 columns]",
      "text/html": "<div>\n<style scoped>\n    .dataframe tbody tr th:only-of-type {\n        vertical-align: middle;\n    }\n\n    .dataframe tbody tr th {\n        vertical-align: top;\n    }\n\n    .dataframe thead th {\n        text-align: right;\n    }\n</style>\n<table border=\"1\" class=\"dataframe\">\n  <thead>\n    <tr style=\"text-align: right;\">\n      <th></th>\n      <th>customer_id</th>\n      <th>article_id</th>\n      <th>price</th>\n      <th>sales_channel_id</th>\n      <th>week</th>\n      <th>purchased</th>\n      <th>importance</th>\n      <th>bestseller_rank</th>\n      <th>product_code</th>\n      <th>prod_name</th>\n      <th>...</th>\n      <th>detail_desc</th>\n      <th>simplified_colour_group_name</th>\n      <th>FN</th>\n      <th>Active</th>\n      <th>club_member_status</th>\n      <th>fashion_news_frequency</th>\n      <th>age</th>\n      <th>postal_code</th>\n      <th>amount_of_(product_type_no)</th>\n      <th>amount_of_(product_type_no)_rank</th>\n    </tr>\n  </thead>\n  <tbody>\n    <tr>\n      <th>11381612</th>\n      <td>28847241659200</td>\n      <td>925246001</td>\n      <td>0.128797</td>\n      <td>2</td>\n      <td>105</td>\n      <td>0.0</td>\n      <td>1</td>\n      <td>999.0</td>\n      <td>925246</td>\n      <td>25454</td>\n      <td>...</td>\n      <td>27855</td>\n      <td>0</td>\n      <td>1</td>\n      <td>1</td>\n      <td>0</td>\n      <td>1</td>\n      <td>21</td>\n      <td>57896</td>\n      <td>NaN</td>\n      <td>NaN</td>\n    </tr>\n    <tr>\n      <th>11381613</th>\n      <td>28847241659200</td>\n      <td>924243001</td>\n      <td>0.041535</td>\n      <td>1</td>\n      <td>105</td>\n      <td>0.0</td>\n      <td>1</td>\n      <td>1.0</td>\n      <td>924243</td>\n      <td>19190</td>\n      <td>...</td>\n      <td>13007</td>\n      <td>5</td>\n      <td>1</td>\n      <td>1</td>\n      <td>0</td>\n      <td>1</td>\n      <td>21</td>\n      <td>57896</td>\n      <td>NaN</td>\n      <td>NaN</td>\n    </tr>\n    <tr>\n      <th>11381614</th>\n      <td>28847241659200</td>\n      <td>924243002</td>\n      <td>0.041877</td>\n      <td>1</td>\n      <td>105</td>\n      <td>0.0</td>\n      <td>1</td>\n      <td>2.0</td>\n      <td>924243</td>\n      <td>19190</td>\n      <td>...</td>\n      <td>13007</td>\n      <td>0</td>\n      <td>1</td>\n      <td>1</td>\n      <td>0</td>\n      <td>1</td>\n      <td>21</td>\n      <td>57896</td>\n      <td>NaN</td>\n      <td>NaN</td>\n    </tr>\n    <tr>\n      <th>11381615</th>\n      <td>28847241659200</td>\n      <td>918522001</td>\n      <td>0.041435</td>\n      <td>1</td>\n      <td>105</td>\n      <td>0.0</td>\n      <td>1</td>\n      <td>3.0</td>\n      <td>918522</td>\n      <td>26372</td>\n      <td>...</td>\n      <td>28633</td>\n      <td>2</td>\n      <td>1</td>\n      <td>1</td>\n      <td>0</td>\n      <td>1</td>\n      <td>21</td>\n      <td>57896</td>\n      <td>NaN</td>\n      <td>NaN</td>\n    </tr>\n    <tr>\n      <th>11381616</th>\n      <td>28847241659200</td>\n      <td>923758001</td>\n      <td>0.033462</td>\n      <td>1</td>\n      <td>105</td>\n      <td>0.0</td>\n      <td>1</td>\n      <td>4.0</td>\n      <td>923758</td>\n      <td>19359</td>\n      <td>...</td>\n      <td>27869</td>\n      <td>2</td>\n      <td>1</td>\n      <td>1</td>\n      <td>0</td>\n      <td>1</td>\n      <td>21</td>\n      <td>57896</td>\n      <td>NaN</td>\n      <td>NaN</td>\n    </tr>\n  </tbody>\n</table>\n<p>5 rows × 41 columns</p>\n</div>"
     },
     "execution_count": 38,
     "metadata": {},
     "output_type": "execute_result"
    }
   ],
   "source": [
    "# Don't train on last week because it is the test set\n",
    "train = data[data.week != test_week]\n",
    "# final week, drop duplicate candidates\n",
    "test = data[data.week==test_week].drop_duplicates(['customer_id', 'article_id', 'sales_channel_id']).copy()\n",
    "test.head()"
   ]
  },
  {
   "cell_type": "code",
   "execution_count": 39,
   "id": "71d57fc8",
   "metadata": {},
   "outputs": [
    {
     "name": "stdout",
     "output_type": "stream",
     "text": [
      "                   customer_id  article_id     price  sales_channel_id  week  \\\n",
      "0               28847241659200   887770001  0.016932                 1    96   \n",
      "1               28847241659200   762846001  0.025407                 1    96   \n",
      "2               28847241659200   829308001  0.033881                 1    96   \n",
      "3               28847241659200   760084003  0.025094                 1    96   \n",
      "4               28847241659200   866731001  0.024919                 1    96   \n",
      "...                        ...         ...       ...               ...   ...   \n",
      "11381596  18446737527580148316   547780001  0.023712                 2   104   \n",
      "11381597  18446737527580148316   763988001  0.023712                 2   104   \n",
      "11381598  18446737527580148316   763988003  0.023712                 2   104   \n",
      "11381599  18446737527580148316   547780040  0.023712                 2   104   \n",
      "11381600  18446737527580148316   909370001  0.032947                 2   104   \n",
      "\n",
      "          purchased  importance  bestseller_rank  product_code  prod_name  \\\n",
      "0               1.0           1            999.0        887770        727   \n",
      "1               0.0           1            999.0        762846        472   \n",
      "2               0.0           1            999.0        829308      11402   \n",
      "3               0.0           1              1.0        760084       1134   \n",
      "4               0.0           1              2.0        866731       3609   \n",
      "...             ...         ...              ...           ...        ...   \n",
      "11381596        1.0           1            999.0        547780       1272   \n",
      "11381597        1.0           1            999.0        763988       1204   \n",
      "11381598        1.0           1            999.0        763988       1204   \n",
      "11381599        1.0           1            999.0        547780       1272   \n",
      "11381600        0.0           1              1.0        909370      23319   \n",
      "\n",
      "          ...  detail_desc  simplified_colour_group_name  FN  Active  \\\n",
      "0         ...         3692                             0   1       1   \n",
      "1         ...          492                             2   1       1   \n",
      "2         ...         9082                             0   1       1   \n",
      "3         ...          847                             0   1       1   \n",
      "4         ...         3130                             0   1       1   \n",
      "...       ...          ...                           ...  ..     ...   \n",
      "11381596  ...          271                             0   1       1   \n",
      "11381597  ...         1107                             0   1       1   \n",
      "11381598  ...         1107                             0   1       1   \n",
      "11381599  ...          271                             9   1       1   \n",
      "11381600  ...        28617                             2   1       1   \n",
      "\n",
      "          club_member_status  fashion_news_frequency  age  postal_code  \\\n",
      "0                          0                       1   21        57896   \n",
      "1                          0                       1   21        57896   \n",
      "2                          0                       1   21        57896   \n",
      "3                          0                       1   21        57896   \n",
      "4                          0                       1   21        57896   \n",
      "...                      ...                     ...  ...          ...   \n",
      "11381596                   0                       1   60        96323   \n",
      "11381597                   0                       1   60        96323   \n",
      "11381598                   0                       1   60        96323   \n",
      "11381599                   0                       1   60        96323   \n",
      "11381600                   0                       1   60        96323   \n",
      "\n",
      "          amount_of_(product_type_no)  amount_of_(product_type_no)_rank  \n",
      "0                                 NaN                               NaN  \n",
      "1                                 1.0                               1.0  \n",
      "2                                 1.0                               1.0  \n",
      "3                                 NaN                               NaN  \n",
      "4                                 1.0                               1.0  \n",
      "...                               ...                               ...  \n",
      "11381596                          NaN                               NaN  \n",
      "11381597                          NaN                               NaN  \n",
      "11381598                          NaN                               NaN  \n",
      "11381599                          NaN                               NaN  \n",
      "11381600                          NaN                               NaN  \n",
      "\n",
      "[3392165 rows x 41 columns]\n",
      "[15 23 16 ... 14 19 16]\n",
      "12\n",
      "155\n",
      "678433\n"
     ]
    }
   ],
   "source": [
    "# NaN values in output of amount_of_(<article_feature>)_rank are fine: it simply indicates that the user never bought anything with the same value of <article_feature>\n",
    "print(train.groupby(['week', 'customer_id']).head())\n",
    "train_baskets = train.groupby(['week', 'customer_id'])['article_id'].count().values\n",
    "print(train_baskets)\n",
    "print(train_baskets.min())\n",
    "print(train_baskets.max())\n",
    "print(len(train_baskets))"
   ]
  },
  {
   "cell_type": "code",
   "execution_count": 40,
   "id": "562146df",
   "metadata": {},
   "outputs": [],
   "source": [
    "train_X = train[columns_to_use]\n",
    "train_y = train['purchased']\n",
    "\n",
    "test_X = test[columns_to_use]"
   ]
  },
  {
   "cell_type": "markdown",
   "id": "a8b26b0a",
   "metadata": {},
   "source": [
    "# Model training and predicting\n",
    "\n",
    "Outputs feature importance according to the ranker.\n",
    "Output is placed in ../../data/subs/submissionRobbeLauwers.csv.gz\n",
    "The generated .csv and .csv.gz files have identical contents."
   ]
  },
  {
   "cell_type": "code",
   "execution_count": 41,
   "id": "245ce774",
   "metadata": {},
   "outputs": [
    {
     "name": "stdout",
     "output_type": "stream",
     "text": [
      "[LightGBM] [Debug] Dataset::GetMultiBinFromSparseFeatures: sparse rate 0.927889\n",
      "[LightGBM] [Debug] Dataset::GetMultiBinFromAllFeatures: sparse rate 0.280571\n",
      "[LightGBM] [Debug] init for col-wise cost 0.145653 seconds, init for row-wise cost 0.804081 seconds\n",
      "[LightGBM] [Warning] Auto-choosing row-wise multi-threading, the overhead of testing was 0.208775 seconds.\n",
      "You can set `force_row_wise=true` to remove the overhead.\n",
      "And if memory is not enough, you can set `force_col_wise=true`.\n",
      "[LightGBM] [Debug] Using Sparse Multi-Val Bin\n",
      "[LightGBM] [Info] Total Bins 1152\n",
      "[LightGBM] [Info] Number of data points in the train set: 11381612, number of used features: 22\n",
      "[LightGBM] [Debug] Trained a tree with leaves = 31 and depth = 12\n",
      "bestseller_rank 0.9604403506788891\n",
      "importance 0.036971804559252246\n",
      "amount_of_(product_type_no) 0.001637227192831389\n",
      "article_id 0.00015870698383350083\n",
      "amount_of_(product_type_no)_rank 0.0001467072690398273\n",
      "product_type_no 0.00013880261359649527\n",
      "age 0.00013229501127365838\n",
      "index_code 9.827203708556033e-05\n",
      "garment_group_no 8.471655218285679e-05\n",
      "postal_code 6.0475840437066565e-05\n",
      "club_member_status 5.6055472101054936e-05\n",
      "colour_group_code 4.2834217042732315e-05\n",
      "department_no 3.175157243447362e-05\n",
      "FN 0.0\n",
      "simplified_colour_group_name 0.0\n",
      "section_no 0.0\n",
      "Active 0.0\n",
      "perceived_colour_master_id 0.0\n",
      "perceived_colour_value_id 0.0\n",
      "graphical_appearance_no 0.0\n",
      "fashion_news_frequency 0.0\n",
      "index_group_no 0.0\n",
      "Done\n",
      "submissionRobbeLauwers\n"
     ]
    }
   ],
   "source": [
    "from helper_ranking import rank\n",
    "rank(train_X,train_y,test_X,test,train_baskets,columns_to_use,LGBMBoostingType,bestsellers_previous_week)"
   ]
  }
 ],
 "metadata": {
  "kernelspec": {
   "display_name": "Python 3 (ipykernel)",
   "language": "python",
   "name": "python3"
  },
  "language_info": {
   "codemirror_mode": {
    "name": "ipython",
    "version": 3
   },
   "file_extension": ".py",
   "mimetype": "text/x-python",
   "name": "python",
   "nbconvert_exporter": "python",
   "pygments_lexer": "ipython3",
   "version": "3.10.8"
  }
 },
 "nbformat": 4,
 "nbformat_minor": 5
}
