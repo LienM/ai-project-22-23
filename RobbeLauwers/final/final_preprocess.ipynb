{
 "cells": [
  {
   "cell_type": "markdown",
   "source": [
    "This code is from [https://github.com/radekosmulski/personalized_fashion_recs](https://github.com/radekosmulski/personalized_fashion_recs) with some preprocessing changes/options. Cells that either gave general comments on the competition or ran a code cell only to view a variable have been removed.\n",
    "\n",
    "Added since lecture 6: simplified_colour_group_name (e.g. Light Red -> Red, Other Turquoise -> Turquoise)"
   ],
   "metadata": {
    "collapsed": false
   }
  },
  {
   "cell_type": "code",
   "execution_count": 76,
   "outputs": [],
   "source": [
    "# -1 fills customer na values with -1\n",
    "# edited instead fills them with zeros, or in case of age with the median\n",
    "fillna_values = '-1'  # '-1' or 'edited'\n",
    "assert fillna_values in ['-1','edited']"
   ],
   "metadata": {
    "collapsed": false
   }
  },
  {
   "cell_type": "code",
   "execution_count": 77,
   "outputs": [],
   "source": [
    "# EDITED: the original code fetched this through\n",
    "# !wget https://raw.githubusercontent.com/benhamner/Metrics/master/Python/ml_metrics/average_precision.py\n",
    "# But windows doesn't have wget, so I copy-pasted it.\n",
    "\n",
    "import numpy as np\n",
    "\n",
    "def apk(actual, predicted, k=12):\n",
    "    \"\"\"\n",
    "    Computes the average precision at k.\n",
    "\n",
    "    This function computes the average prescision at k between two lists of\n",
    "    items.\n",
    "\n",
    "    Parameters\n",
    "    ----------\n",
    "    actual : list\n",
    "             A list of elements that are to be predicted (order doesn't matter)\n",
    "    predicted : list\n",
    "                A list of predicted elements (order does matter)\n",
    "    k : int, optional\n",
    "        The maximum number of predicted elements\n",
    "\n",
    "    Returns\n",
    "    -------\n",
    "    score : double\n",
    "            The average precision at k over the input lists\n",
    "\n",
    "    \"\"\"\n",
    "    if len(predicted)>k:\n",
    "        predicted = predicted[:k]\n",
    "\n",
    "    score = 0.0\n",
    "    num_hits = 0.0\n",
    "\n",
    "    for i,p in enumerate(predicted):\n",
    "        if p in actual and p not in predicted[:i]:\n",
    "            num_hits += 1.0\n",
    "            score += num_hits / (i+1.0)\n",
    "\n",
    "    if not actual:\n",
    "        return 0.0\n",
    "\n",
    "    return score / min(len(actual), k)\n",
    "\n",
    "# EDITED: k=10 to k=12\n",
    "def mapk(actual, predicted, k=12):\n",
    "    \"\"\"\n",
    "    Computes the mean average precision at k.\n",
    "\n",
    "    This function computes the mean average precision at k between two lists\n",
    "    of lists of items.\n",
    "\n",
    "    Parameters\n",
    "    ----------\n",
    "    actual : list\n",
    "             A list of lists of elements that are to be predicted\n",
    "             (order doesn't matter in the lists)\n",
    "    predicted : list\n",
    "                A list of lists of predicted elements\n",
    "                (order matters in the lists)\n",
    "    k : int, optional\n",
    "        The maximum number of predicted elements\n",
    "\n",
    "    Returns\n",
    "    -------\n",
    "    score : double\n",
    "            The mean average precision at k over the input lists\n",
    "\n",
    "    \"\"\"\n",
    "    return np.mean([apk(a,p,k) for a,p in zip(actual, predicted)])"
   ],
   "metadata": {
    "collapsed": false
   }
  },
  {
   "cell_type": "code",
   "execution_count": 78,
   "id": "5d3ac989",
   "metadata": {},
   "outputs": [],
   "source": [
    "# helper functions\n",
    "from sklearn.base import BaseEstimator, TransformerMixin\n",
    "import numpy as np\n",
    "\n",
    "# https://www.kaggle.com/c/h-and-m-personalized-fashion-recommendations/discussion/308635\n",
    "def customer_hex_id_to_int(series):\n",
    "    return series.str[-16:].apply(hex_id_to_int)\n",
    "\n",
    "def hex_id_to_int(str):\n",
    "    return int(str[-16:], 16)\n",
    "\n",
    "def article_id_str_to_int(series):\n",
    "    return series.astype('int32')\n",
    "\n",
    "def article_id_int_to_str(series):\n",
    "    return '0' + series.astype('str')\n",
    "\n",
    "class Categorize(BaseEstimator, TransformerMixin):\n",
    "    def __init__(self, min_examples=0):\n",
    "        self.min_examples = min_examples\n",
    "        self.categories = []\n",
    "        \n",
    "    def fit(self, X):\n",
    "        for i in range(X.shape[1]):\n",
    "            vc = X.iloc[:, i].value_counts()\n",
    "            self.categories.append(vc[vc > self.min_examples].index.tolist())\n",
    "        return self\n",
    "\n",
    "    def transform(self, X):\n",
    "        data = {X.columns[i]: pd.Categorical(X.iloc[:, i], categories=self.categories[i]).codes for i in range(X.shape[1])}\n",
    "        return pd.DataFrame(data=data)"
   ]
  },
  {
   "cell_type": "code",
   "execution_count": 79,
   "id": "94cd3410",
   "metadata": {},
   "outputs": [
    {
     "name": "stdout",
     "output_type": "stream",
     "text": [
      "Index(['article_id', 'product_code', 'prod_name', 'product_type_no',\n",
      "       'product_type_name', 'product_group_name', 'graphical_appearance_no',\n",
      "       'graphical_appearance_name', 'colour_group_code', 'colour_group_name',\n",
      "       'perceived_colour_value_id', 'perceived_colour_value_name',\n",
      "       'perceived_colour_master_id', 'perceived_colour_master_name',\n",
      "       'department_no', 'department_name', 'index_code', 'index_name',\n",
      "       'index_group_no', 'index_group_name', 'section_no', 'section_name',\n",
      "       'garment_group_no', 'garment_group_name', 'detail_desc'],\n",
      "      dtype='object')\n",
      "['Dark' 'Light' 'Dusty Light' 'Medium Dusty' 'Bright' 'Medium' 'Undefined'\n",
      " 'Unknown']\n"
     ]
    }
   ],
   "source": [
    "import pandas as pd\n",
    "\n",
    "transactions = pd.read_csv('../../data/transactions_train.csv', dtype={\"article_id\": \"str\"})\n",
    "customers = pd.read_csv('../../data/customers.csv')\n",
    "articles = pd.read_csv('../../data/articles.csv', dtype={\"article_id\": \"str\"})\n",
    "print(articles.columns)\n",
    "print(articles[\"perceived_colour_value_name\"].unique())"
   ]
  },
  {
   "cell_type": "code",
   "execution_count": 80,
   "outputs": [
    {
     "name": "stdout",
     "output_type": "stream",
     "text": [
      "['Dark' 'Light' 'Dusty Light' 'Medium Dusty' 'Bright' 'Medium' 'Undefined'\n",
      " 'Unknown']\n",
      "['Black' 'White' 'Beige' 'Grey' 'Blue' 'Pink' 'Lilac Purple' 'Red' 'Mole'\n",
      " 'Orange' 'Metal' 'Brown' 'Turquoise' 'Yellow' 'Khaki green' 'Green'\n",
      " 'undefined' 'Unknown' 'Yellowish Green' 'Bluish Green']\n",
      "['Black' 'White' 'Off White' 'Light Beige' 'Beige' 'Grey' 'Light Blue'\n",
      " 'Light Grey' 'Dark Blue' 'Dark Grey' 'Pink' 'Dark Red' 'Greyish Beige'\n",
      " 'Light Orange' 'Silver' 'Gold' 'Light Pink' 'Dark Pink' 'Yellowish Brown'\n",
      " 'Blue' 'Light Turquoise' 'Yellow' 'Greenish Khaki' 'Dark Yellow'\n",
      " 'Other Pink' 'Dark Purple' 'Red' 'Transparent' 'Dark Green' 'Other Red'\n",
      " 'Turquoise' 'Dark Orange' 'Other' 'Orange' 'Dark Beige' 'Other Yellow'\n",
      " 'Light Green' 'Other Orange' 'Purple' 'Light Red' 'Light Yellow' 'Green'\n",
      " 'Light Purple' 'Dark Turquoise' 'Other Purple' 'Bronze/Copper'\n",
      " 'Other Turquoise' 'Other Green' 'Other Blue' 'Unknown']\n",
      "['Solid' 'Stripe' 'All over pattern' 'Melange' 'Transparent' 'Metallic'\n",
      " 'Application/3D' 'Denim' 'Colour blocking' 'Dot' 'Other structure'\n",
      " 'Contrast' 'Treatment' 'Check' 'Chambray' 'Front print'\n",
      " 'Glittering/Metallic' 'Mixed solid/pattern' 'Placement print'\n",
      " 'Other pattern' 'Neps' 'Embroidery' 'Lace' 'Jacquard' 'Unknown' 'Argyle'\n",
      " 'Slub' 'Mesh' 'Sequin' 'Hologram']\n",
      "['Jersey Basic' 'Under-, Nightwear' 'Socks and Tights' 'Jersey Fancy'\n",
      " 'Accessories' 'Trousers Denim' 'Outdoor' 'Shoes' 'Swimwear' 'Knitwear'\n",
      " 'Shirts' 'Trousers' 'Dressed' 'Shorts' 'Dresses Ladies' 'Skirts'\n",
      " 'Special Offers' 'Blouses' 'Unknown' 'Woven/Jersey/Knitted mix Baby'\n",
      " 'Dresses/Skirts girls']\n"
     ]
    }
   ],
   "source": [
    "print(articles[\"perceived_colour_value_name\"].unique())\n",
    "print(articles[\"perceived_colour_master_name\"].unique())\n",
    "print(articles[\"colour_group_name\"].unique())\n",
    "print(articles[\"graphical_appearance_name\"].unique())\n",
    "print(articles[\"garment_group_name\"].unique())"
   ],
   "metadata": {
    "collapsed": false
   }
  },
  {
   "cell_type": "code",
   "execution_count": 81,
   "outputs": [
    {
     "data": {
      "text/plain": "      colour_group_name  colour_group_code\n0                 Black                  9\n1                 White                 10\n2             Off White                 11\n5           Light Beige                 12\n7                 Beige                 13\n11                 Grey                  7\n12           Light Blue                 71\n14           Light Grey                  6\n15            Dark Blue                 73\n16            Dark Grey                  8\n20                 Pink                 52\n25             Dark Red                 43\n29        Greyish Beige                 15\n30         Light Orange                 31\n31               Silver                  3\n32                 Gold                  5\n38           Light Pink                 51\n60            Dark Pink                 53\n61      Yellowish Brown                 17\n69                 Blue                 72\n90      Light Turquoise                 81\n94               Yellow                 22\n100      Greenish Khaki                 19\n105         Dark Yellow                 23\n127          Other Pink                 50\n128         Dark Purple                 63\n130                 Red                 42\n140         Transparent                  2\n166          Dark Green                 93\n214           Other Red                 40\n215           Turquoise                 82\n236         Dark Orange                 33\n257               Other                  1\n271              Orange                 32\n275          Dark Beige                 14\n281        Other Yellow                 20\n306         Light Green                 91\n358        Other Orange                 30\n406              Purple                 62\n473           Light Red                 41\n518        Light Yellow                 21\n557               Green                 92\n1347       Light Purple                 61\n1490     Dark Turquoise                 83\n1677       Other Purple                 60\n1685      Bronze/Copper                  4\n3332    Other Turquoise                 80\n3360        Other Green                 90\n5114         Other Blue                 70\n21238           Unknown                 -1",
      "text/html": "<div>\n<style scoped>\n    .dataframe tbody tr th:only-of-type {\n        vertical-align: middle;\n    }\n\n    .dataframe tbody tr th {\n        vertical-align: top;\n    }\n\n    .dataframe thead th {\n        text-align: right;\n    }\n</style>\n<table border=\"1\" class=\"dataframe\">\n  <thead>\n    <tr style=\"text-align: right;\">\n      <th></th>\n      <th>colour_group_name</th>\n      <th>colour_group_code</th>\n    </tr>\n  </thead>\n  <tbody>\n    <tr>\n      <th>0</th>\n      <td>Black</td>\n      <td>9</td>\n    </tr>\n    <tr>\n      <th>1</th>\n      <td>White</td>\n      <td>10</td>\n    </tr>\n    <tr>\n      <th>2</th>\n      <td>Off White</td>\n      <td>11</td>\n    </tr>\n    <tr>\n      <th>5</th>\n      <td>Light Beige</td>\n      <td>12</td>\n    </tr>\n    <tr>\n      <th>7</th>\n      <td>Beige</td>\n      <td>13</td>\n    </tr>\n    <tr>\n      <th>11</th>\n      <td>Grey</td>\n      <td>7</td>\n    </tr>\n    <tr>\n      <th>12</th>\n      <td>Light Blue</td>\n      <td>71</td>\n    </tr>\n    <tr>\n      <th>14</th>\n      <td>Light Grey</td>\n      <td>6</td>\n    </tr>\n    <tr>\n      <th>15</th>\n      <td>Dark Blue</td>\n      <td>73</td>\n    </tr>\n    <tr>\n      <th>16</th>\n      <td>Dark Grey</td>\n      <td>8</td>\n    </tr>\n    <tr>\n      <th>20</th>\n      <td>Pink</td>\n      <td>52</td>\n    </tr>\n    <tr>\n      <th>25</th>\n      <td>Dark Red</td>\n      <td>43</td>\n    </tr>\n    <tr>\n      <th>29</th>\n      <td>Greyish Beige</td>\n      <td>15</td>\n    </tr>\n    <tr>\n      <th>30</th>\n      <td>Light Orange</td>\n      <td>31</td>\n    </tr>\n    <tr>\n      <th>31</th>\n      <td>Silver</td>\n      <td>3</td>\n    </tr>\n    <tr>\n      <th>32</th>\n      <td>Gold</td>\n      <td>5</td>\n    </tr>\n    <tr>\n      <th>38</th>\n      <td>Light Pink</td>\n      <td>51</td>\n    </tr>\n    <tr>\n      <th>60</th>\n      <td>Dark Pink</td>\n      <td>53</td>\n    </tr>\n    <tr>\n      <th>61</th>\n      <td>Yellowish Brown</td>\n      <td>17</td>\n    </tr>\n    <tr>\n      <th>69</th>\n      <td>Blue</td>\n      <td>72</td>\n    </tr>\n    <tr>\n      <th>90</th>\n      <td>Light Turquoise</td>\n      <td>81</td>\n    </tr>\n    <tr>\n      <th>94</th>\n      <td>Yellow</td>\n      <td>22</td>\n    </tr>\n    <tr>\n      <th>100</th>\n      <td>Greenish Khaki</td>\n      <td>19</td>\n    </tr>\n    <tr>\n      <th>105</th>\n      <td>Dark Yellow</td>\n      <td>23</td>\n    </tr>\n    <tr>\n      <th>127</th>\n      <td>Other Pink</td>\n      <td>50</td>\n    </tr>\n    <tr>\n      <th>128</th>\n      <td>Dark Purple</td>\n      <td>63</td>\n    </tr>\n    <tr>\n      <th>130</th>\n      <td>Red</td>\n      <td>42</td>\n    </tr>\n    <tr>\n      <th>140</th>\n      <td>Transparent</td>\n      <td>2</td>\n    </tr>\n    <tr>\n      <th>166</th>\n      <td>Dark Green</td>\n      <td>93</td>\n    </tr>\n    <tr>\n      <th>214</th>\n      <td>Other Red</td>\n      <td>40</td>\n    </tr>\n    <tr>\n      <th>215</th>\n      <td>Turquoise</td>\n      <td>82</td>\n    </tr>\n    <tr>\n      <th>236</th>\n      <td>Dark Orange</td>\n      <td>33</td>\n    </tr>\n    <tr>\n      <th>257</th>\n      <td>Other</td>\n      <td>1</td>\n    </tr>\n    <tr>\n      <th>271</th>\n      <td>Orange</td>\n      <td>32</td>\n    </tr>\n    <tr>\n      <th>275</th>\n      <td>Dark Beige</td>\n      <td>14</td>\n    </tr>\n    <tr>\n      <th>281</th>\n      <td>Other Yellow</td>\n      <td>20</td>\n    </tr>\n    <tr>\n      <th>306</th>\n      <td>Light Green</td>\n      <td>91</td>\n    </tr>\n    <tr>\n      <th>358</th>\n      <td>Other Orange</td>\n      <td>30</td>\n    </tr>\n    <tr>\n      <th>406</th>\n      <td>Purple</td>\n      <td>62</td>\n    </tr>\n    <tr>\n      <th>473</th>\n      <td>Light Red</td>\n      <td>41</td>\n    </tr>\n    <tr>\n      <th>518</th>\n      <td>Light Yellow</td>\n      <td>21</td>\n    </tr>\n    <tr>\n      <th>557</th>\n      <td>Green</td>\n      <td>92</td>\n    </tr>\n    <tr>\n      <th>1347</th>\n      <td>Light Purple</td>\n      <td>61</td>\n    </tr>\n    <tr>\n      <th>1490</th>\n      <td>Dark Turquoise</td>\n      <td>83</td>\n    </tr>\n    <tr>\n      <th>1677</th>\n      <td>Other Purple</td>\n      <td>60</td>\n    </tr>\n    <tr>\n      <th>1685</th>\n      <td>Bronze/Copper</td>\n      <td>4</td>\n    </tr>\n    <tr>\n      <th>3332</th>\n      <td>Other Turquoise</td>\n      <td>80</td>\n    </tr>\n    <tr>\n      <th>3360</th>\n      <td>Other Green</td>\n      <td>90</td>\n    </tr>\n    <tr>\n      <th>5114</th>\n      <td>Other Blue</td>\n      <td>70</td>\n    </tr>\n    <tr>\n      <th>21238</th>\n      <td>Unknown</td>\n      <td>-1</td>\n    </tr>\n  </tbody>\n</table>\n</div>"
     },
     "execution_count": 81,
     "metadata": {},
     "output_type": "execute_result"
    }
   ],
   "source": [
    "# This cell and the two below conatin some unfinished code that could be used to convert \"dark colour\" into \"colour\"\n",
    "selected_columns = articles[[\"colour_group_name\",'colour_group_code']]\n",
    "selected_columns = selected_columns.drop_duplicates([\"colour_group_name\",'colour_group_code'])\n",
    "selected_columns.head(50)"
   ],
   "metadata": {
    "collapsed": false
   }
  },
  {
   "cell_type": "code",
   "execution_count": 82,
   "outputs": [
    {
     "data": {
      "text/plain": "['Black',\n 'White',\n 'Off White',\n 'Light Beige',\n 'Beige',\n 'Grey',\n 'Light Blue',\n 'Light Grey',\n 'Dark Blue',\n 'Dark Grey',\n 'Pink',\n 'Dark Red',\n 'Greyish Beige',\n 'Light Orange',\n 'Silver',\n 'Gold',\n 'Light Pink',\n 'Dark Pink',\n 'Yellowish Brown',\n 'Blue',\n 'Light Turquoise',\n 'Yellow',\n 'Greenish Khaki',\n 'Dark Yellow',\n 'Other Pink',\n 'Dark Purple',\n 'Red',\n 'Transparent',\n 'Dark Green',\n 'Other Red',\n 'Turquoise',\n 'Dark Orange',\n 'Other',\n 'Orange',\n 'Dark Beige',\n 'Other Yellow',\n 'Light Green',\n 'Other Orange',\n 'Purple',\n 'Light Red',\n 'Light Yellow',\n 'Green',\n 'Light Purple',\n 'Dark Turquoise',\n 'Other Purple',\n 'Bronze/Copper',\n 'Other Turquoise',\n 'Other Green',\n 'Other Blue',\n 'Unknown']"
     },
     "execution_count": 82,
     "metadata": {},
     "output_type": "execute_result"
    }
   ],
   "source": [
    "selected_list = selected_columns[\"colour_group_name\"].tolist()\n",
    "selected_list"
   ],
   "metadata": {
    "collapsed": false
   }
  },
  {
   "cell_type": "code",
   "execution_count": 83,
   "outputs": [
    {
     "name": "stdout",
     "output_type": "stream",
     "text": [
      "50\n"
     ]
    }
   ],
   "source": [
    "print(len(selected_list))"
   ],
   "metadata": {
    "collapsed": false
   }
  },
  {
   "cell_type": "code",
   "execution_count": 84,
   "outputs": [
    {
     "name": "stdout",
     "output_type": "stream",
     "text": [
      "['Black', 'White', 'White', 'Beige', 'Beige', 'Grey', 'Blue', 'Grey', 'Blue', 'Grey', 'Pink', 'Red', 'Beige', 'Orange', 'Silver', 'Gold', 'Pink', 'Pink', 'Brown', 'Blue', 'Turquoise', 'Yellow', 'Khaki', 'Yellow', 'Pink', 'Purple', 'Red', 'Transparent', 'Green', 'Red', 'Turquoise', 'Orange', 'Other', 'Orange', 'Beige', 'Yellow', 'Green', 'Orange', 'Purple', 'Red', 'Yellow', 'Green', 'Purple', 'Turquoise', 'Purple', 'Bronze/Copper', 'Turquoise', 'Green', 'Blue', 'Unknown']\n"
     ]
    },
    {
     "data": {
      "text/plain": "      colour_group_name  colour_group_code simplified_colour_group_name\n0                 Black                  9                        Black\n1                 White                 10                        White\n2             Off White                 11                        White\n5           Light Beige                 12                        Beige\n7                 Beige                 13                        Beige\n11                 Grey                  7                         Grey\n12           Light Blue                 71                         Blue\n14           Light Grey                  6                         Grey\n15            Dark Blue                 73                         Blue\n16            Dark Grey                  8                         Grey\n20                 Pink                 52                         Pink\n25             Dark Red                 43                          Red\n29        Greyish Beige                 15                        Beige\n30         Light Orange                 31                       Orange\n31               Silver                  3                       Silver\n32                 Gold                  5                         Gold\n38           Light Pink                 51                         Pink\n60            Dark Pink                 53                         Pink\n61      Yellowish Brown                 17                        Brown\n69                 Blue                 72                         Blue\n90      Light Turquoise                 81                    Turquoise\n94               Yellow                 22                       Yellow\n100      Greenish Khaki                 19                        Khaki\n105         Dark Yellow                 23                       Yellow\n127          Other Pink                 50                         Pink\n128         Dark Purple                 63                       Purple\n130                 Red                 42                          Red\n140         Transparent                  2                  Transparent\n166          Dark Green                 93                        Green\n214           Other Red                 40                          Red\n215           Turquoise                 82                    Turquoise\n236         Dark Orange                 33                       Orange\n257               Other                  1                        Other\n271              Orange                 32                       Orange\n275          Dark Beige                 14                        Beige\n281        Other Yellow                 20                       Yellow\n306         Light Green                 91                        Green\n358        Other Orange                 30                       Orange\n406              Purple                 62                       Purple\n473           Light Red                 41                          Red\n518        Light Yellow                 21                       Yellow\n557               Green                 92                        Green\n1347       Light Purple                 61                       Purple\n1490     Dark Turquoise                 83                    Turquoise\n1677       Other Purple                 60                       Purple\n1685      Bronze/Copper                  4                Bronze/Copper\n3332    Other Turquoise                 80                    Turquoise\n3360        Other Green                 90                        Green\n5114         Other Blue                 70                         Blue\n21238           Unknown                 -1                      Unknown",
      "text/html": "<div>\n<style scoped>\n    .dataframe tbody tr th:only-of-type {\n        vertical-align: middle;\n    }\n\n    .dataframe tbody tr th {\n        vertical-align: top;\n    }\n\n    .dataframe thead th {\n        text-align: right;\n    }\n</style>\n<table border=\"1\" class=\"dataframe\">\n  <thead>\n    <tr style=\"text-align: right;\">\n      <th></th>\n      <th>colour_group_name</th>\n      <th>colour_group_code</th>\n      <th>simplified_colour_group_name</th>\n    </tr>\n  </thead>\n  <tbody>\n    <tr>\n      <th>0</th>\n      <td>Black</td>\n      <td>9</td>\n      <td>Black</td>\n    </tr>\n    <tr>\n      <th>1</th>\n      <td>White</td>\n      <td>10</td>\n      <td>White</td>\n    </tr>\n    <tr>\n      <th>2</th>\n      <td>Off White</td>\n      <td>11</td>\n      <td>White</td>\n    </tr>\n    <tr>\n      <th>5</th>\n      <td>Light Beige</td>\n      <td>12</td>\n      <td>Beige</td>\n    </tr>\n    <tr>\n      <th>7</th>\n      <td>Beige</td>\n      <td>13</td>\n      <td>Beige</td>\n    </tr>\n    <tr>\n      <th>11</th>\n      <td>Grey</td>\n      <td>7</td>\n      <td>Grey</td>\n    </tr>\n    <tr>\n      <th>12</th>\n      <td>Light Blue</td>\n      <td>71</td>\n      <td>Blue</td>\n    </tr>\n    <tr>\n      <th>14</th>\n      <td>Light Grey</td>\n      <td>6</td>\n      <td>Grey</td>\n    </tr>\n    <tr>\n      <th>15</th>\n      <td>Dark Blue</td>\n      <td>73</td>\n      <td>Blue</td>\n    </tr>\n    <tr>\n      <th>16</th>\n      <td>Dark Grey</td>\n      <td>8</td>\n      <td>Grey</td>\n    </tr>\n    <tr>\n      <th>20</th>\n      <td>Pink</td>\n      <td>52</td>\n      <td>Pink</td>\n    </tr>\n    <tr>\n      <th>25</th>\n      <td>Dark Red</td>\n      <td>43</td>\n      <td>Red</td>\n    </tr>\n    <tr>\n      <th>29</th>\n      <td>Greyish Beige</td>\n      <td>15</td>\n      <td>Beige</td>\n    </tr>\n    <tr>\n      <th>30</th>\n      <td>Light Orange</td>\n      <td>31</td>\n      <td>Orange</td>\n    </tr>\n    <tr>\n      <th>31</th>\n      <td>Silver</td>\n      <td>3</td>\n      <td>Silver</td>\n    </tr>\n    <tr>\n      <th>32</th>\n      <td>Gold</td>\n      <td>5</td>\n      <td>Gold</td>\n    </tr>\n    <tr>\n      <th>38</th>\n      <td>Light Pink</td>\n      <td>51</td>\n      <td>Pink</td>\n    </tr>\n    <tr>\n      <th>60</th>\n      <td>Dark Pink</td>\n      <td>53</td>\n      <td>Pink</td>\n    </tr>\n    <tr>\n      <th>61</th>\n      <td>Yellowish Brown</td>\n      <td>17</td>\n      <td>Brown</td>\n    </tr>\n    <tr>\n      <th>69</th>\n      <td>Blue</td>\n      <td>72</td>\n      <td>Blue</td>\n    </tr>\n    <tr>\n      <th>90</th>\n      <td>Light Turquoise</td>\n      <td>81</td>\n      <td>Turquoise</td>\n    </tr>\n    <tr>\n      <th>94</th>\n      <td>Yellow</td>\n      <td>22</td>\n      <td>Yellow</td>\n    </tr>\n    <tr>\n      <th>100</th>\n      <td>Greenish Khaki</td>\n      <td>19</td>\n      <td>Khaki</td>\n    </tr>\n    <tr>\n      <th>105</th>\n      <td>Dark Yellow</td>\n      <td>23</td>\n      <td>Yellow</td>\n    </tr>\n    <tr>\n      <th>127</th>\n      <td>Other Pink</td>\n      <td>50</td>\n      <td>Pink</td>\n    </tr>\n    <tr>\n      <th>128</th>\n      <td>Dark Purple</td>\n      <td>63</td>\n      <td>Purple</td>\n    </tr>\n    <tr>\n      <th>130</th>\n      <td>Red</td>\n      <td>42</td>\n      <td>Red</td>\n    </tr>\n    <tr>\n      <th>140</th>\n      <td>Transparent</td>\n      <td>2</td>\n      <td>Transparent</td>\n    </tr>\n    <tr>\n      <th>166</th>\n      <td>Dark Green</td>\n      <td>93</td>\n      <td>Green</td>\n    </tr>\n    <tr>\n      <th>214</th>\n      <td>Other Red</td>\n      <td>40</td>\n      <td>Red</td>\n    </tr>\n    <tr>\n      <th>215</th>\n      <td>Turquoise</td>\n      <td>82</td>\n      <td>Turquoise</td>\n    </tr>\n    <tr>\n      <th>236</th>\n      <td>Dark Orange</td>\n      <td>33</td>\n      <td>Orange</td>\n    </tr>\n    <tr>\n      <th>257</th>\n      <td>Other</td>\n      <td>1</td>\n      <td>Other</td>\n    </tr>\n    <tr>\n      <th>271</th>\n      <td>Orange</td>\n      <td>32</td>\n      <td>Orange</td>\n    </tr>\n    <tr>\n      <th>275</th>\n      <td>Dark Beige</td>\n      <td>14</td>\n      <td>Beige</td>\n    </tr>\n    <tr>\n      <th>281</th>\n      <td>Other Yellow</td>\n      <td>20</td>\n      <td>Yellow</td>\n    </tr>\n    <tr>\n      <th>306</th>\n      <td>Light Green</td>\n      <td>91</td>\n      <td>Green</td>\n    </tr>\n    <tr>\n      <th>358</th>\n      <td>Other Orange</td>\n      <td>30</td>\n      <td>Orange</td>\n    </tr>\n    <tr>\n      <th>406</th>\n      <td>Purple</td>\n      <td>62</td>\n      <td>Purple</td>\n    </tr>\n    <tr>\n      <th>473</th>\n      <td>Light Red</td>\n      <td>41</td>\n      <td>Red</td>\n    </tr>\n    <tr>\n      <th>518</th>\n      <td>Light Yellow</td>\n      <td>21</td>\n      <td>Yellow</td>\n    </tr>\n    <tr>\n      <th>557</th>\n      <td>Green</td>\n      <td>92</td>\n      <td>Green</td>\n    </tr>\n    <tr>\n      <th>1347</th>\n      <td>Light Purple</td>\n      <td>61</td>\n      <td>Purple</td>\n    </tr>\n    <tr>\n      <th>1490</th>\n      <td>Dark Turquoise</td>\n      <td>83</td>\n      <td>Turquoise</td>\n    </tr>\n    <tr>\n      <th>1677</th>\n      <td>Other Purple</td>\n      <td>60</td>\n      <td>Purple</td>\n    </tr>\n    <tr>\n      <th>1685</th>\n      <td>Bronze/Copper</td>\n      <td>4</td>\n      <td>Bronze/Copper</td>\n    </tr>\n    <tr>\n      <th>3332</th>\n      <td>Other Turquoise</td>\n      <td>80</td>\n      <td>Turquoise</td>\n    </tr>\n    <tr>\n      <th>3360</th>\n      <td>Other Green</td>\n      <td>90</td>\n      <td>Green</td>\n    </tr>\n    <tr>\n      <th>5114</th>\n      <td>Other Blue</td>\n      <td>70</td>\n      <td>Blue</td>\n    </tr>\n    <tr>\n      <th>21238</th>\n      <td>Unknown</td>\n      <td>-1</td>\n      <td>Unknown</td>\n    </tr>\n  </tbody>\n</table>\n</div>"
     },
     "execution_count": 84,
     "metadata": {},
     "output_type": "execute_result"
    }
   ],
   "source": [
    "simplified_list = []\n",
    "for full_colour in selected_list:\n",
    "    done = False\n",
    "    if len(full_colour.split(\" \")) > 1:\n",
    "        if full_colour.split(\" \")[1] in full_colour:\n",
    "            simplified_list.append(full_colour.split(\" \")[1])\n",
    "            done = True\n",
    "    if not done:\n",
    "        simplified_list.append(full_colour)\n",
    "\n",
    "print(simplified_list)\n",
    "\n",
    "selected_columns = selected_columns.assign(simplified_colour_group_name = simplified_list)\n",
    "selected_columns.head(70)"
   ],
   "metadata": {
    "collapsed": false
   }
  },
  {
   "cell_type": "code",
   "execution_count": 85,
   "outputs": [],
   "source": [
    "articles = pd.merge(articles,selected_columns[[\"colour_group_name\",\"simplified_colour_group_name\"]],on=[\"colour_group_name\"],how=\"left\")"
   ],
   "metadata": {
    "collapsed": false
   }
  },
  {
   "cell_type": "code",
   "execution_count": 86,
   "outputs": [
    {
     "data": {
      "text/plain": "   article_id  product_code          prod_name  product_type_no  \\\n0  0108775015        108775          Strap top              253   \n1  0108775044        108775          Strap top              253   \n2  0108775051        108775      Strap top (1)              253   \n3  0110065001        110065  OP T-shirt (Idro)              306   \n4  0110065002        110065  OP T-shirt (Idro)              306   \n\n  product_type_name  product_group_name  graphical_appearance_no  \\\n0          Vest top  Garment Upper body                  1010016   \n1          Vest top  Garment Upper body                  1010016   \n2          Vest top  Garment Upper body                  1010017   \n3               Bra           Underwear                  1010016   \n4               Bra           Underwear                  1010016   \n\n  graphical_appearance_name  colour_group_code colour_group_name  ...  \\\n0                     Solid                  9             Black  ...   \n1                     Solid                 10             White  ...   \n2                    Stripe                 11         Off White  ...   \n3                     Solid                  9             Black  ...   \n4                     Solid                 10             White  ...   \n\n   index_code        index_name  index_group_no index_group_name  section_no  \\\n0           A        Ladieswear               1       Ladieswear          16   \n1           A        Ladieswear               1       Ladieswear          16   \n2           A        Ladieswear               1       Ladieswear          16   \n3           B  Lingeries/Tights               1       Ladieswear          61   \n4           B  Lingeries/Tights               1       Ladieswear          61   \n\n             section_name garment_group_no garment_group_name  \\\n0  Womens Everyday Basics             1002       Jersey Basic   \n1  Womens Everyday Basics             1002       Jersey Basic   \n2  Womens Everyday Basics             1002       Jersey Basic   \n3         Womens Lingerie             1017  Under-, Nightwear   \n4         Womens Lingerie             1017  Under-, Nightwear   \n\n                                         detail_desc  \\\n0            Jersey top with narrow shoulder straps.   \n1            Jersey top with narrow shoulder straps.   \n2            Jersey top with narrow shoulder straps.   \n3  Microfibre T-shirt bra with underwired, moulde...   \n4  Microfibre T-shirt bra with underwired, moulde...   \n\n  simplified_colour_group_name  \n0                        Black  \n1                        White  \n2                        White  \n3                        Black  \n4                        White  \n\n[5 rows x 26 columns]",
      "text/html": "<div>\n<style scoped>\n    .dataframe tbody tr th:only-of-type {\n        vertical-align: middle;\n    }\n\n    .dataframe tbody tr th {\n        vertical-align: top;\n    }\n\n    .dataframe thead th {\n        text-align: right;\n    }\n</style>\n<table border=\"1\" class=\"dataframe\">\n  <thead>\n    <tr style=\"text-align: right;\">\n      <th></th>\n      <th>article_id</th>\n      <th>product_code</th>\n      <th>prod_name</th>\n      <th>product_type_no</th>\n      <th>product_type_name</th>\n      <th>product_group_name</th>\n      <th>graphical_appearance_no</th>\n      <th>graphical_appearance_name</th>\n      <th>colour_group_code</th>\n      <th>colour_group_name</th>\n      <th>...</th>\n      <th>index_code</th>\n      <th>index_name</th>\n      <th>index_group_no</th>\n      <th>index_group_name</th>\n      <th>section_no</th>\n      <th>section_name</th>\n      <th>garment_group_no</th>\n      <th>garment_group_name</th>\n      <th>detail_desc</th>\n      <th>simplified_colour_group_name</th>\n    </tr>\n  </thead>\n  <tbody>\n    <tr>\n      <th>0</th>\n      <td>0108775015</td>\n      <td>108775</td>\n      <td>Strap top</td>\n      <td>253</td>\n      <td>Vest top</td>\n      <td>Garment Upper body</td>\n      <td>1010016</td>\n      <td>Solid</td>\n      <td>9</td>\n      <td>Black</td>\n      <td>...</td>\n      <td>A</td>\n      <td>Ladieswear</td>\n      <td>1</td>\n      <td>Ladieswear</td>\n      <td>16</td>\n      <td>Womens Everyday Basics</td>\n      <td>1002</td>\n      <td>Jersey Basic</td>\n      <td>Jersey top with narrow shoulder straps.</td>\n      <td>Black</td>\n    </tr>\n    <tr>\n      <th>1</th>\n      <td>0108775044</td>\n      <td>108775</td>\n      <td>Strap top</td>\n      <td>253</td>\n      <td>Vest top</td>\n      <td>Garment Upper body</td>\n      <td>1010016</td>\n      <td>Solid</td>\n      <td>10</td>\n      <td>White</td>\n      <td>...</td>\n      <td>A</td>\n      <td>Ladieswear</td>\n      <td>1</td>\n      <td>Ladieswear</td>\n      <td>16</td>\n      <td>Womens Everyday Basics</td>\n      <td>1002</td>\n      <td>Jersey Basic</td>\n      <td>Jersey top with narrow shoulder straps.</td>\n      <td>White</td>\n    </tr>\n    <tr>\n      <th>2</th>\n      <td>0108775051</td>\n      <td>108775</td>\n      <td>Strap top (1)</td>\n      <td>253</td>\n      <td>Vest top</td>\n      <td>Garment Upper body</td>\n      <td>1010017</td>\n      <td>Stripe</td>\n      <td>11</td>\n      <td>Off White</td>\n      <td>...</td>\n      <td>A</td>\n      <td>Ladieswear</td>\n      <td>1</td>\n      <td>Ladieswear</td>\n      <td>16</td>\n      <td>Womens Everyday Basics</td>\n      <td>1002</td>\n      <td>Jersey Basic</td>\n      <td>Jersey top with narrow shoulder straps.</td>\n      <td>White</td>\n    </tr>\n    <tr>\n      <th>3</th>\n      <td>0110065001</td>\n      <td>110065</td>\n      <td>OP T-shirt (Idro)</td>\n      <td>306</td>\n      <td>Bra</td>\n      <td>Underwear</td>\n      <td>1010016</td>\n      <td>Solid</td>\n      <td>9</td>\n      <td>Black</td>\n      <td>...</td>\n      <td>B</td>\n      <td>Lingeries/Tights</td>\n      <td>1</td>\n      <td>Ladieswear</td>\n      <td>61</td>\n      <td>Womens Lingerie</td>\n      <td>1017</td>\n      <td>Under-, Nightwear</td>\n      <td>Microfibre T-shirt bra with underwired, moulde...</td>\n      <td>Black</td>\n    </tr>\n    <tr>\n      <th>4</th>\n      <td>0110065002</td>\n      <td>110065</td>\n      <td>OP T-shirt (Idro)</td>\n      <td>306</td>\n      <td>Bra</td>\n      <td>Underwear</td>\n      <td>1010016</td>\n      <td>Solid</td>\n      <td>10</td>\n      <td>White</td>\n      <td>...</td>\n      <td>B</td>\n      <td>Lingeries/Tights</td>\n      <td>1</td>\n      <td>Ladieswear</td>\n      <td>61</td>\n      <td>Womens Lingerie</td>\n      <td>1017</td>\n      <td>Under-, Nightwear</td>\n      <td>Microfibre T-shirt bra with underwired, moulde...</td>\n      <td>White</td>\n    </tr>\n  </tbody>\n</table>\n<p>5 rows × 26 columns</p>\n</div>"
     },
     "execution_count": 86,
     "metadata": {},
     "output_type": "execute_result"
    }
   ],
   "source": [
    "articles.head()"
   ],
   "metadata": {
    "collapsed": false
   }
  },
  {
   "cell_type": "code",
   "execution_count": 87,
   "id": "b0ef4c75",
   "metadata": {},
   "outputs": [],
   "source": [
    "transactions['customer_id'] = customer_hex_id_to_int(transactions['customer_id'])"
   ]
  },
  {
   "cell_type": "code",
   "execution_count": 88,
   "id": "0d9a0cca",
   "metadata": {},
   "outputs": [],
   "source": [
    "transactions.t_dat = pd.to_datetime(transactions.t_dat, format='%Y-%m-%d')"
   ]
  },
  {
   "cell_type": "code",
   "execution_count": 89,
   "id": "2bfae010",
   "metadata": {},
   "outputs": [
    {
     "name": "stdout",
     "output_type": "stream",
     "text": [
      "104\n",
      "0\n"
     ]
    }
   ],
   "source": [
    "transactions['week'] = (104 - (transactions.t_dat.max() - transactions.t_dat).dt.days // 7).astype(np.int8)\n",
    "print(transactions[\"week\"].max())\n",
    "print(transactions[\"week\"].min())"
   ]
  },
  {
   "cell_type": "markdown",
   "id": "b094879d",
   "metadata": {},
   "source": [
    "Let's do something about the `article_id` (both here and on `articles`) and let's take a closer look at `price`, `sales_channel_id` and `week`."
   ]
  },
  {
   "cell_type": "code",
   "execution_count": 90,
   "id": "7390ff52",
   "metadata": {},
   "outputs": [],
   "source": [
    "transactions.article_id = article_id_str_to_int(transactions.article_id)\n",
    "articles.article_id = article_id_str_to_int(articles.article_id)\n",
    "\n",
    "transactions.week = transactions.week.astype('int8')  # EDITED: added astype\n",
    "transactions.sales_channel_id = transactions.sales_channel_id.astype('int8')\n",
    "transactions.price = transactions.price.astype('float32')"
   ]
  },
  {
   "cell_type": "code",
   "execution_count": 91,
   "id": "10623914",
   "metadata": {},
   "outputs": [
    {
     "name": "stdout",
     "output_type": "stream",
     "text": [
      "<class 'pandas.core.frame.DataFrame'>\n",
      "RangeIndex: 31788324 entries, 0 to 31788323\n",
      "Data columns (total 5 columns):\n",
      " #   Column            Dtype  \n",
      "---  ------            -----  \n",
      " 0   customer_id       uint64 \n",
      " 1   article_id        int32  \n",
      " 2   price             float32\n",
      " 3   sales_channel_id  int8   \n",
      " 4   week              int8   \n",
      "dtypes: float32(1), int32(1), int8(2), uint64(1)\n",
      "memory usage: 545.7 MB\n"
     ]
    }
   ],
   "source": [
    "transactions.drop(columns='t_dat').info(memory_usage='deep')"
   ]
  },
  {
   "cell_type": "markdown",
   "id": "f874dac4",
   "metadata": {},
   "source": [
    "Well, this is interesting. There are very few unique `t_dat` values hence despite it being a scary `datetime64` it takes up very little memory!\n",
    "\n",
    "Keeping it for convenience is definitely the way to go.\n",
    "\n",
    "Let's take a brief look at the `customers` and `articles` dfs."
   ]
  },
  {
   "cell_type": "code",
   "execution_count": 92,
   "outputs": [
    {
     "data": {
      "text/plain": "array(['ACTIVE', nan, 'PRE-CREATE', 'LEFT CLUB'], dtype=object)"
     },
     "execution_count": 92,
     "metadata": {},
     "output_type": "execute_result"
    }
   ],
   "source": [
    "customers['club_member_status'].unique()"
   ],
   "metadata": {
    "collapsed": false
   }
  },
  {
   "cell_type": "code",
   "execution_count": 93,
   "id": "61bf9df5",
   "metadata": {},
   "outputs": [
    {
     "name": "stdout",
     "output_type": "stream",
     "text": [
      "-1\n"
     ]
    }
   ],
   "source": [
    "customers.customer_id = customer_hex_id_to_int(customers.customer_id)\n",
    "print(fillna_values)\n",
    "if fillna_values == '-1':\n",
    "    customers['fashion_news_frequency'] = customers['fashion_news_frequency'].replace('none','NONE')  # EDITED: added this\n",
    "    for col in ['FN', 'Active', 'age']:\n",
    "        customers[col].fillna(-1, inplace=True)\n",
    "        customers[col] = customers[col].astype('int8')\n",
    "# EDITED: added alternate preprocessing\n",
    "elif fillna_values == 'edited':\n",
    "    articles['detail_desc'] = articles['detail_desc'].fillna(\"\")\n",
    "    customers['FN'] = customers['FN'].fillna(0)\n",
    "    customers['Active'] = customers['Active'].fillna(0)\n",
    "    customers['age'] = customers['age'].fillna(int(customers['age'].mean()))\n",
    "    customers['fashion_news_frequency'] = customers['fashion_news_frequency'].fillna('NONE')\n",
    "    customers['fashion_news_frequency'] = customers['fashion_news_frequency'].replace('none','NONE')\n",
    "    customers['club_member_status'] = customers['club_member_status'].fillna('PRE-CREATE')\n",
    "else:\n",
    "    exit(1)\n"
   ]
  },
  {
   "cell_type": "code",
   "execution_count": 94,
   "id": "758411dd",
   "metadata": {},
   "outputs": [],
   "source": [
    "# TODO: check out how Categorize works\n",
    "customers.club_member_status = Categorize().fit_transform(customers[['club_member_status']]).club_member_status\n",
    "customers.postal_code = Categorize().fit_transform(customers[['postal_code']]).postal_code\n",
    "customers.fashion_news_frequency = Categorize().fit_transform(customers[['fashion_news_frequency']]).fashion_news_frequency"
   ]
  },
  {
   "cell_type": "code",
   "execution_count": 95,
   "id": "6cb4fc65",
   "metadata": {},
   "outputs": [],
   "source": [
    "# TODO: check out how Categorize works\n",
    "for col in articles.columns:\n",
    "    if articles[col].dtype == 'object':\n",
    "        articles[col] = Categorize().fit_transform(articles[[col]])[col]"
   ]
  },
  {
   "cell_type": "code",
   "execution_count": 96,
   "id": "b3596527",
   "metadata": {},
   "outputs": [],
   "source": [
    "for col in articles.columns:\n",
    "    if articles[col].dtype == 'int64':\n",
    "        articles[col] = articles[col].astype('int32')"
   ]
  },
  {
   "cell_type": "markdown",
   "id": "dc411fb5",
   "metadata": {},
   "source": [
    "And this concludes our raw data preparation step! Let's now write everything back to disk."
   ]
  },
  {
   "cell_type": "code",
   "execution_count": 97,
   "id": "86f4e1b3",
   "metadata": {},
   "outputs": [],
   "source": [
    "transactions.sort_values(['t_dat', 'customer_id'], inplace=True)"
   ]
  },
  {
   "cell_type": "code",
   "execution_count": 98,
   "id": "682b1125",
   "metadata": {},
   "outputs": [
    {
     "name": "stdout",
     "output_type": "stream",
     "text": [
      "CPU times: total: 2 s\n",
      "Wall time: 3.15 s\n"
     ]
    }
   ],
   "source": [
    "%%time\n",
    "\n",
    "transactions.to_parquet(f'../../data/transactions_train_{fillna_values}.parquet')\n",
    "customers.to_parquet(f'../../data/customers_{fillna_values}.parquet')\n",
    "articles.to_parquet(f'../../data/articles_{fillna_values}.parquet')"
   ]
  },
  {
   "cell_type": "markdown",
   "id": "930753b7",
   "metadata": {},
   "source": [
    "Let's also generate a sample we will be able to use to speed up development."
   ]
  },
  {
   "cell_type": "code",
   "execution_count": 99,
   "id": "3fd97303",
   "metadata": {},
   "outputs": [],
   "source": [
    "# %%time\n",
    "# # let's create a 5% sample of the entirity of the data to speed up dev\n",
    "#\n",
    "# sample = 0.05\n",
    "# customers_sample = customers.sample(frac=sample, replace=False)\n",
    "# customers_sample_ids = set(customers_sample['customer_id'])\n",
    "# transactions_sample = transactions[transactions[\"customer_id\"].isin(customers_sample_ids)]\n",
    "# articles_sample_ids = set(transactions_sample[\"article_id\"])\n",
    "# articles_sample = articles[articles[\"article_id\"].isin(articles_sample_ids)]\n",
    "#\n",
    "# customers_sample.to_parquet(f'../../data/customers_sample_{sample}_{fillna_values}.parquet', index=False)\n",
    "# transactions_sample.to_parquet(f'../../data/transactions_train_sample_{sample}_{fillna_values}.parquet', index=False)\n",
    "# articles_sample.to_parquet(f'../../data/articles_train_sample_{sample}_{fillna_values.parquet}.parquet', index=False)"
   ]
  },
  {
   "cell_type": "markdown",
   "id": "554f8dc2",
   "metadata": {},
   "source": [
    "## Evaluation"
   ]
  },
  {
   "cell_type": "code",
   "execution_count": 100,
   "id": "3cc90c53",
   "metadata": {},
   "outputs": [],
   "source": [
    "from collections import defaultdict\n",
    "\n",
    "val_week_purchases_by_cust = defaultdict(list)\n",
    "\n",
    "val_week_purchases_by_cust.update(\n",
    "    transactions[transactions.week == transactions.week.max()] \\\n",
    "        .groupby('customer_id')['article_id'] \\\n",
    "        .apply(list) \\\n",
    "        .to_dict()\n",
    ")\n",
    "\n",
    "pd.to_pickle(dict(val_week_purchases_by_cust), '../../data/val_week_purchases_by_cust.pkl')\n",
    "\n",
    "sample_sub = pd.read_csv('../../data/sample_submission.csv')\n",
    "valid_gt = customer_hex_id_to_int(sample_sub.customer_id) \\\n",
    "    .map(val_week_purchases_by_cust) \\\n",
    "    .apply(lambda xx: ' '.join('0' + str(x) for x in xx))\n",
    "\n",
    "sample_sub.prediction = valid_gt\n",
    "sample_sub.to_parquet(f'../../data/validation_ground_truth_{fillna_values}.parquet', index=False)"
   ]
  },
  {
   "cell_type": "code",
   "execution_count": 101,
   "id": "73bdc7fc",
   "metadata": {},
   "outputs": [
    {
     "name": "stdout",
     "output_type": "stream",
     "text": [
      "Done\n"
     ]
    }
   ],
   "source": [
    "\n",
    "def calculate_apk(list_of_preds, list_of_gts):\n",
    "    # for fast validation this can be changed to operate on dicts of {'cust_id_int': [art_id_int, ...]}\n",
    "    # using 'data/val_week_purchases_by_cust.pkl'\n",
    "    apks = []\n",
    "    for preds, gt in zip(list_of_preds, list_of_gts):\n",
    "        apks.append(apk(gt, preds, k=12))\n",
    "    return np.mean(apks)\n",
    "\n",
    "def eval_sub(sub_csv, skip_cust_with_no_purchases=True):\n",
    "    sub=pd.read_csv(sub_csv)\n",
    "    validation_set=pd.read_parquet('../../data/validation_ground_truth.parquet')\n",
    "\n",
    "    apks = []\n",
    "\n",
    "    no_purchases_pattern = []\n",
    "    for pred, gt in zip(sub.prediction.str.split(), validation_set.prediction.str.split()):\n",
    "        if skip_cust_with_no_purchases and (gt == no_purchases_pattern): continue\n",
    "        apks.append(mapk(gt, pred, k=12))  # Changed to mapk, was apk\n",
    "    return np.mean(apks)\n",
    "\n",
    "print(\"Done\")"
   ]
  }
 ],
 "metadata": {
  "kernelspec": {
   "display_name": "Python 3 (ipykernel)",
   "language": "python",
   "name": "python3"
  },
  "language_info": {
   "codemirror_mode": {
    "name": "ipython",
    "version": 3
   },
   "file_extension": ".py",
   "mimetype": "text/x-python",
   "name": "python",
   "nbconvert_exporter": "python",
   "pygments_lexer": "ipython3",
   "version": "3.7.7"
  }
 },
 "nbformat": 4,
 "nbformat_minor": 5
}
