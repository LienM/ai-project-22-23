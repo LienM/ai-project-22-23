{
 "cells": [
  {
   "cell_type": "markdown",
   "source": [
    "# Lecture 2: EDA"
   ],
   "metadata": {
    "collapsed": false
   }
  },
  {
   "cell_type": "code",
   "execution_count": 65,
   "metadata": {
    "collapsed": true
   },
   "outputs": [],
   "source": [
    "import json\n",
    "\n",
    "import matplotlib.pyplot as plt\n",
    "import pandas as pd\n",
    "import seaborn as sns"
   ]
  },
  {
   "cell_type": "code",
   "execution_count": 66,
   "outputs": [],
   "source": [
    "articles = pd.read_csv('../data/articles.csv')\n",
    "customers = pd.read_csv('../data/customers.csv')\n",
    "transactions = pd.read_csv('../data/transactions_train.csv')\n",
    "dataset_dict = {\"articles\":articles,'customers':customers,'transactions':transactions}"
   ],
   "metadata": {
    "collapsed": false
   }
  },
  {
   "cell_type": "code",
   "execution_count": 67,
   "outputs": [
    {
     "name": "stdout",
     "output_type": "stream",
     "text": [
      "Columns containing empty cells:\n",
      "[['articles', 'detail_desc'], ['customers', 'FN'], ['customers', 'Active'], ['customers', 'club_member_status'], ['customers', 'fashion_news_frequency'], ['customers', 'age']]\n"
     ]
    }
   ],
   "source": [
    "have_na_values = []\n",
    "for name,datafile in dataset_dict.items():\n",
    "    for column in datafile.columns:\n",
    "        if datafile[column].isna().sum() > 0:\n",
    "            have_na_values.append([name,column])\n",
    "print(\"Columns containing empty cells:\")\n",
    "print(have_na_values)"
   ],
   "metadata": {
    "collapsed": false
   }
  },
  {
   "cell_type": "code",
   "execution_count": 68,
   "outputs": [
    {
     "name": "stdout",
     "output_type": "stream",
     "text": [
      "0.39% of articles, detail_desc has missing values\n",
      "65.24% of customers, FN has missing values\n",
      "66.15% of customers, Active has missing values\n",
      "0.44% of customers, club_member_status has missing values\n",
      "1.17% of customers, fashion_news_frequency has missing values\n",
      "1.16% of customers, age has missing values\n"
     ]
    }
   ],
   "source": [
    "for datafile_key, column in have_na_values:\n",
    "    print(str(round(dataset_dict[datafile_key][column].isna().sum()/dataset_dict[datafile_key].shape[0]*100,2)) + '% of ' + datafile_key + ', ' + str(column) + ' has missing values')"
   ],
   "metadata": {
    "collapsed": false
   }
  },
  {
   "cell_type": "markdown",
   "source": [
    "Some detailed article descriptions missing seems okay to me."
   ],
   "metadata": {
    "collapsed": false
   }
  },
  {
   "cell_type": "code",
   "execution_count": 69,
   "outputs": [
    {
     "name": "stdout",
     "output_type": "stream",
     "text": [
      "Unique values in customer['FN'] : [nan  1.]\n",
      "Unique values in customer['Active'] : [nan  1.]\n"
     ]
    }
   ],
   "source": [
    "print(\"Unique values in customer['FN'] : \"  + str(customers['FN'].unique()))\n",
    "print(\"Unique values in customer['Active'] : \"  + str(customers['Active'].unique()))"
   ],
   "metadata": {
    "collapsed": false
   }
  },
  {
   "cell_type": "code",
   "execution_count": 70,
   "outputs": [
    {
     "name": "stdout",
     "output_type": "stream",
     "text": [
      "total customer count: 1371980\n",
      "customer count where FN is 1 or missing: 1371980\n",
      "customer count where Active is 1 or missing: 1371980\n"
     ]
    }
   ],
   "source": [
    "print(\"total customer count: \" + str(customers.shape[0]))\n",
    "print('customer count where FN is 1 or missing: ' + str(customers[(customers['FN'] == 1) | customers['FN'].isna()].shape[0]))\n",
    "print('customer count where Active is 1 or missing: ' + str(customers[(customers['Active'] == 1) | customers['Active'].isna()].shape[0]))"
   ],
   "metadata": {
    "collapsed": false
   }
  },
  {
   "cell_type": "markdown",
   "source": [
    "FN indicates if the customer follows fashion news. The missing values seem intended: 1 means that the user follows FN, missing value means he doesn't. There are no other values. Similarly, 'active' also seems to be a binary value where an empty value is used instead of zero. Again, no other values are present. In both cases, the missing values can be replaced by 0."
   ],
   "metadata": {
    "collapsed": false
   }
  },
  {
   "cell_type": "markdown",
   "source": [
    "The missing ages could be replaced by the mean of the other ages."
   ],
   "metadata": {
    "collapsed": false
   }
  },
  {
   "cell_type": "code",
   "execution_count": 71,
   "outputs": [
    {
     "name": "stdout",
     "output_type": "stream",
     "text": [
      "Unique values in customer['club_member_status'] : ['ACTIVE' nan 'PRE-CREATE' 'LEFT CLUB']\n",
      "Unique values in customer['fashion_news_frequency'] : ['NONE' 'Regularly' nan 'Monthly' 'None']\n"
     ]
    }
   ],
   "source": [
    "print(\"Unique values in customer['club_member_status'] : \"  + str(customers['club_member_status'].unique()))\n",
    "print(\"Unique values in customer['fashion_news_frequency'] : \"  + str(customers['fashion_news_frequency'].unique()))"
   ],
   "metadata": {
    "collapsed": false
   }
  },
  {
   "cell_type": "markdown",
   "source": [
    "My first assumption was that a missing club member status was intentional to indicate the user was not a member. However, only 0.44% of users is missing a value. While the missing values are probably not intentional, I think it's safe to assume that if H&M can not tell that a user is a club member, he probably doesn't get any club benefits (or whatever being club member actually means) and is functionally not a club member. Either replace missing values by 'PRE-CREATE' or add new value and contact users about their member status.\n",
    "If H&M doesn't know if a user is receiving fashion news, I would assume that the user is not being sent news and the missing value can be replaced by 'NONE'.\n",
    "\n",
    "Additionally, the 'None' and 'NONE' values in fashion_news_frequency should be merged into just 'NONE'"
   ],
   "metadata": {
    "collapsed": false
   }
  },
  {
   "cell_type": "code",
   "execution_count": 72,
   "outputs": [
    {
     "name": "stdout",
     "output_type": "stream",
     "text": [
      "articles, article_id: \"959461001\" occurs 1 times, which is 0.0009474900987284683% of the time\n",
      "\t At least 1000 ties.\n",
      "articles, product_code: \"959461\" occurs 1 times, which is 0.0009474900987284683% of the time\n",
      "\t At least 1000 ties.\n",
      "articles, prod_name: \"Lounge dress\" occurs 1 times, which is 0.0009474900987284683% of the time\n",
      "\t At least 1000 ties.\n",
      "articles, product_type_no: \"483\" occurs 1 times, which is 0.0009474900987284683% of the time\n",
      "\t Exactly 12 ties.\n",
      "articles, product_type_name: \"Clothing mist\" occurs 1 times, which is 0.0009474900987284683% of the time\n",
      "\t Exactly 12 ties.\n",
      "articles, product_group_name: \"Fun\" occurs 2 times, which is 0.0018949801974569365% of the time\n",
      "\t No ties\n",
      "articles, graphical_appearance_no: \"1010029\" occurs 8 times, which is 0.007579920789827746% of the time\n",
      "\t No ties\n",
      "articles, graphical_appearance_name: \"Hologram\" occurs 8 times, which is 0.007579920789827746% of the time\n",
      "\t No ties\n",
      "articles, colour_group_code: \"80\" occurs 14 times, which is 0.013264861382198555% of the time\n",
      "\t No ties\n",
      "articles, colour_group_name: \"Other Turquoise\" occurs 14 times, which is 0.013264861382198555% of the time\n",
      "\t No ties\n",
      "articles, perceived_colour_value_id: \"-1\" occurs 28 times, which is 0.02652972276439711% of the time\n",
      "\t No ties\n",
      "articles, perceived_colour_value_name: \"Unknown\" occurs 28 times, which is 0.02652972276439711% of the time\n",
      "\t No ties\n",
      "articles, perceived_colour_master_id: \"16\" occurs 3 times, which is 0.002842470296185405% of the time\n",
      "\t No ties\n",
      "articles, perceived_colour_master_name: \"Bluish Green\" occurs 3 times, which is 0.002842470296185405% of the time\n",
      "\t No ties\n",
      "articles, department_no: \"3931\" occurs 1 times, which is 0.0009474900987284683% of the time\n",
      "\t Exactly 6 ties.\n",
      "articles, department_name: \"Kids Boy License\" occurs 1 times, which is 0.0009474900987284683% of the time\n",
      "\t Exactly 6 ties.\n",
      "articles, index_code: \"S\" occurs 3392 times, which is 3.2138864148869644% of the time\n",
      "\t No ties\n",
      "articles, index_name: \"Sport\" occurs 3392 times, which is 3.2138864148869644% of the time\n",
      "\t No ties\n",
      "articles, index_group_no: \"26\" occurs 3392 times, which is 3.2138864148869644% of the time\n",
      "\t No ties\n",
      "articles, index_group_name: \"Sport\" occurs 3392 times, which is 3.2138864148869644% of the time\n",
      "\t No ties\n",
      "articles, section_no: \"17\" occurs 1 times, which is 0.0009474900987284683% of the time\n",
      "\t No ties\n",
      "articles, section_name: \"Ladies Other\" occurs 4 times, which is 0.003789960394913873% of the time\n",
      "\t No ties\n",
      "articles, garment_group_no: \"1008\" occurs 908 times, which is 0.8603210096454492% of the time\n",
      "\t No ties\n",
      "articles, garment_group_name: \"Dressed\" occurs 908 times, which is 0.8603210096454492% of the time\n",
      "\t No ties\n",
      "articles, detail_desc: \"Calf-length dress in ribbed jersey made from a cotton blend. Low-cut V-neck at the back, dropped shoulders and long, wide sleeves that taper to the cuffs. Unlined.\" occurs 1 times, which is 0.0009474900987284683% of the time\n",
      "\t At least 1000 ties.\n",
      "customers, customer_id: \"ffffd9ac14e89946416d80e791d064701994755c3ab686a1eaf3458c36f52241\" occurs 1 times, which is 7.288735987405064e-05% of the time\n",
      "\t At least 1000 ties.\n",
      "customers, FN: \"1.0\" occurs 476930 times, which is 34.76216854473097% of the time\n",
      "\t No ties\n",
      "customers, Active: \"1.0\" occurs 464404 times, which is 33.849181474948615% of the time\n",
      "\t No ties\n",
      "customers, club_member_status: \"LEFT CLUB\" occurs 467 times, which is 0.03403839706118165% of the time\n",
      "\t No ties\n",
      "customers, fashion_news_frequency: \"None\" occurs 2 times, which is 0.00014577471974810128% of the time\n",
      "\t No ties\n",
      "customers, age: \"94.0\" occurs 3 times, which is 0.00021866207962215194% of the time\n",
      "\t Exactly 2 ties.\n",
      "customers, postal_code: \"0a1a03306fb2f62164c2a439b38c0caa64b40deaae868799ccb93ac69444b79d\" occurs 1 times, which is 7.288735987405064e-05% of the time\n",
      "\t At least 1000 ties.\n",
      "transactions, t_dat: \"2020-01-01\" occurs 12760 times, which is 0.04014052455234821% of the time\n",
      "\t No ties\n",
      "transactions, customer_id: \"268eaa31a07d6f2f4f060bfcf32a660f3ea3dbb21ef14cd09fc2545f4e0b5c10\" occurs 1 times, which is 3.1458091341965687e-06% of the time\n",
      "\t At least 1000 ties.\n",
      "transactions, article_id: \"533261032\" occurs 1 times, which is 3.1458091341965687e-06% of the time\n",
      "\t At least 1000 ties.\n",
      "transactions, price: \"0.2503898305084746\" occurs 1 times, which is 3.1458091341965687e-06% of the time\n",
      "\t At least 1000 ties.\n",
      "transactions, sales_channel_id: \"1\" occurs 9408462 times, which is 29.59722569834132% of the time\n",
      "\t No ties\n"
     ]
    }
   ],
   "source": [
    "# https://stackoverflow.com/a/49966702\n",
    "for name, datafile in dataset_dict.items():\n",
    "    for column in datafile.columns:\n",
    "        counts = datafile[column].value_counts()\n",
    "        lowest_count = counts.values[-1]\n",
    "        lowest_key = counts.keys()[-1]\n",
    "        print( str(name) + ', ' + str(column) + ': \"' + str(lowest_key) + '\" occurs ' + str(lowest_count) + ' times, which is ' + str((lowest_count/datafile[column].shape[0])*100) + '% of the time')\n",
    "        ties = 1\n",
    "        index = -2\n",
    "        try:\n",
    "            while counts.values[index] == lowest_count and ties < 1000:\n",
    "                ties += 1\n",
    "                index -= 1\n",
    "        except IndexError:\n",
    "            pass\n",
    "        if ties > 1:\n",
    "            if ties == 1000:\n",
    "                print('\\t At least ' + str(ties) + ' ties.')\n",
    "            else:\n",
    "                print('\\t Exactly ' + str(ties) + ' ties.')\n",
    "        else:\n",
    "            print('\\t No ties')"
   ],
   "metadata": {
    "collapsed": false
   }
  },
  {
   "cell_type": "markdown",
   "source": [
    "Knowing the least common values isn't very interesting for most columns: it makes sense that unique values like IDs each occur only once, and it makes sense that binary values like customer FN have a commonly occurring least-common value without ties. I will discuss a few of the more interesting ones. These are the ones where least-occurring could be caused by a typo, like product_type_name in articles."
   ],
   "metadata": {
    "collapsed": false
   }
  },
  {
   "cell_type": "code",
   "execution_count": 73,
   "outputs": [],
   "source": [
    "def get_lowest_ties(datafile_name, column_name):\n",
    "    print('Least occurring in ' + datafile_name + ', ' +  column_name + ': ')\n",
    "    counts = dataset_dict[datafile_name][column_name].value_counts()\n",
    "    lowest_count = counts.values[-1]\n",
    "    ties = 1\n",
    "    index = -1\n",
    "    try:\n",
    "        while counts.values[index] == lowest_count and ties < 1000:\n",
    "            print(\"\\t \" + str(counts.keys()[index]))\n",
    "            index -= 1\n",
    "    except IndexError:\n",
    "        pass"
   ],
   "metadata": {
    "collapsed": false
   }
  },
  {
   "cell_type": "code",
   "execution_count": 74,
   "outputs": [
    {
     "name": "stdout",
     "output_type": "stream",
     "text": [
      "Least occurring in articles, product_type_name: \n",
      "\t Clothing mist\n",
      "\t Blanket\n",
      "\t Cushion\n",
      "\t Headband\n",
      "\t Keychain\n",
      "\t Washing bag\n",
      "\t Sewing kit\n",
      "\t Towel\n",
      "\t Wood balls\n",
      "\t Bra extender\n",
      "\t Pre-walkers\n",
      "\t Bumbag\n"
     ]
    }
   ],
   "source": [
    "get_lowest_ties('articles','product_type_name')"
   ],
   "metadata": {
    "collapsed": false
   }
  },
  {
   "cell_type": "markdown",
   "source": [
    "Least common product categories actually just contain niche things. Capitalisation is consistent."
   ],
   "metadata": {
    "collapsed": false
   }
  },
  {
   "cell_type": "code",
   "execution_count": 75,
   "outputs": [
    {
     "name": "stdout",
     "output_type": "stream",
     "text": [
      "Both articles in the 'Fun' category: \n",
      "[['HLW MASK OWN'\n",
      "  'Scary glow-in-the-dark fancy dress mask in plastic foam in the shape of a skull with holes for the eyes and an elastic strap with a hook and loop fastening at the back.']\n",
      " ['HLW Bucket'\n",
      "  'Plastic bucket in a spooky shape with a handle at the top.']]\n"
     ]
    }
   ],
   "source": [
    "table = dataset_dict['articles']\n",
    "print(\"Both articles in the 'Fun' category: \")\n",
    "print(table[table['product_group_name'] == 'Fun'][['prod_name','detail_desc']].values)"
   ],
   "metadata": {
    "collapsed": false
   }
  },
  {
   "cell_type": "code",
   "execution_count": 76,
   "outputs": [
    {
     "name": "stdout",
     "output_type": "stream",
     "text": [
      "True\n",
      "False\n",
      "False\n",
      "False\n",
      "False\n"
     ]
    }
   ],
   "source": [
    "print(str('Bluish Green' in dataset_dict['articles']['perceived_colour_master_name'].values))\n",
    "print(str('Blueish Green' in dataset_dict['articles']['perceived_colour_master_name'].values))\n",
    "print(str('blueish green' in dataset_dict['articles']['perceived_colour_master_name'].values))\n",
    "print(str('Blueish green' in dataset_dict['articles']['perceived_colour_master_name'].values))\n",
    "print(str('Blue Green' in dataset_dict['articles']['perceived_colour_master_name'].values))"
   ],
   "metadata": {
    "collapsed": false
   }
  },
  {
   "cell_type": "markdown",
   "source": [
    "Bluish is apparently correctly spelled, and there are no other \"perceived_colour_master_name\"s with a similar name (that I could come up with at least)"
   ],
   "metadata": {
    "collapsed": false
   }
  },
  {
   "cell_type": "markdown",
   "source": [
    "According to [a comment by the competition organizer](https://www.kaggle.com/c/h-and-m-personalized-fashion-recommendations/discussion/306016#1680549), the provided transaction price values do not represent any real currency. [In the same thread](https://www.kaggle.com/c/h-and-m-personalized-fashion-recommendations/discussion/306016#1680549), it is explained that the price has been scaled for privacy reasons. According to [a users Kaggle post](https://www.kaggle.com/competitions/h-and-m-personalized-fashion-recommendations/discussion/310496), the prices in the dataset are the true prices in euros divided by 590. This could be the scaling referred to by the organizers."
   ],
   "metadata": {
    "collapsed": false
   }
  },
  {
   "cell_type": "code",
   "execution_count": 77,
   "outputs": [
    {
     "data": {
      "text/plain": "Fraction(1, 59000)"
     },
     "execution_count": 77,
     "metadata": {},
     "output_type": "execute_result"
    }
   ],
   "source": [
    "# From https://www.kaggle.com/competitions/h-and-m-personalized-fashion-recommendations/discussion/310496#1709991\n",
    "from fractions import Fraction\n",
    "import numpy as np\n",
    "smallest_price_diff = min(np.diff(np.sort(transactions.price.unique())))\n",
    "Fraction(smallest_price_diff).limit_denominator()"
   ],
   "metadata": {
    "collapsed": false
   }
  },
  {
   "cell_type": "markdown",
   "source": [
    "Smallest price difference is 1/59000 -> 1/59000 is 1 cent -> 59000 cents is 1 unit\n",
    "    -> 590 euros is one unit"
   ],
   "metadata": {
    "collapsed": false
   }
  },
  {
   "cell_type": "markdown",
   "source": [
    "While I did not analyze the images, it seems some of them are [mislabeled](https://www.kaggle.com/competitions/h-and-m-personalized-fashion-recommendations/discussion/324232). If you want to analyze images without using the ~30GB dataset, consider using [decreased resolution images posted on the Kaggle forums](https://www.kaggle.com/competitions/h-and-m-personalized-fashion-recommendations/discussion/306152). When you want to find the image matching an article id, make sure to [read the article id correctly](https://www.kaggle.com/competitions/h-and-m-personalized-fashion-recommendations/discussion/307390) (don't remove leading zeros)."
   ],
   "metadata": {
    "collapsed": false
   }
  }
 ],
 "metadata": {
  "kernelspec": {
   "display_name": "Python 3",
   "language": "python",
   "name": "python3"
  },
  "language_info": {
   "codemirror_mode": {
    "name": "ipython",
    "version": 2
   },
   "file_extension": ".py",
   "mimetype": "text/x-python",
   "name": "python",
   "nbconvert_exporter": "python",
   "pygments_lexer": "ipython2",
   "version": "2.7.6"
  }
 },
 "nbformat": 4,
 "nbformat_minor": 0
}
