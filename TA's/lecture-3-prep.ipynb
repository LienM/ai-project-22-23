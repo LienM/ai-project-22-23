{
 "cells": [
  {
   "cell_type": "code",
   "execution_count": 1,
   "metadata": {},
   "outputs": [],
   "source": [
    "import json\n",
    "\n",
    "import matplotlib.pyplot as plt\n",
    "import pandas as pd\n",
    "import seaborn as sns"
   ]
  },
  {
   "cell_type": "code",
   "execution_count": 2,
   "metadata": {},
   "outputs": [],
   "source": [
    "with open(\"../data-last-fm/lfm-360-gender.json\") as json_data:\n",
    "    album_data = json.load(json_data)"
   ]
  },
  {
   "cell_type": "code",
   "execution_count": 3,
   "metadata": {},
   "outputs": [],
   "source": [
    "artist_gender = pd.Series(album_data)"
   ]
  },
  {
   "cell_type": "code",
   "execution_count": 4,
   "metadata": {},
   "outputs": [
    {
     "data": {
      "text/plain": [
       "b3ae82c2-e60b-4551-a76d-6620f1b456aa    Female\n",
       "ff6e677f-91dd-4986-a174-8db0474b1799      Male\n",
       "8688124b-dcff-4a39-9f30-4825d445014f      Male\n",
       "c995a379-60b9-404b-bd97-a7e2de0751d3      Male\n",
       "0fb62639-4143-443b-8779-6867a1d08230    Female\n",
       "dtype: object"
      ]
     },
     "execution_count": 4,
     "metadata": {},
     "output_type": "execute_result"
    }
   ],
   "source": [
    "artist_gender.head()"
   ]
  },
  {
   "cell_type": "code",
   "execution_count": 5,
   "metadata": {},
   "outputs": [],
   "source": [
    "user_profiles = pd.read_csv(\n",
    "    \"../data-last-fm/lastfm-dataset-360K/usersha1-profile.tsv\",\n",
    "    delimiter=\"\\t\", \n",
    "    header=None, \n",
    "    names=[\"user_id\", \"gender\", \"age\", \"country\", \"date_of_signup\"]\n",
    "    )"
   ]
  },
  {
   "cell_type": "code",
   "execution_count": 6,
   "metadata": {},
   "outputs": [
    {
     "data": {
      "text/html": [
       "<div>\n",
       "<style scoped>\n",
       "    .dataframe tbody tr th:only-of-type {\n",
       "        vertical-align: middle;\n",
       "    }\n",
       "\n",
       "    .dataframe tbody tr th {\n",
       "        vertical-align: top;\n",
       "    }\n",
       "\n",
       "    .dataframe thead th {\n",
       "        text-align: right;\n",
       "    }\n",
       "</style>\n",
       "<table border=\"1\" class=\"dataframe\">\n",
       "  <thead>\n",
       "    <tr style=\"text-align: right;\">\n",
       "      <th></th>\n",
       "      <th>user_id</th>\n",
       "      <th>gender</th>\n",
       "      <th>age</th>\n",
       "      <th>country</th>\n",
       "      <th>date_of_signup</th>\n",
       "    </tr>\n",
       "  </thead>\n",
       "  <tbody>\n",
       "    <tr>\n",
       "      <th>0</th>\n",
       "      <td>00000c289a1829a808ac09c00daf10bc3c4e223b</td>\n",
       "      <td>f</td>\n",
       "      <td>22.0</td>\n",
       "      <td>Germany</td>\n",
       "      <td>Feb 1, 2007</td>\n",
       "    </tr>\n",
       "    <tr>\n",
       "      <th>1</th>\n",
       "      <td>00001411dc427966b17297bf4d69e7e193135d89</td>\n",
       "      <td>f</td>\n",
       "      <td>NaN</td>\n",
       "      <td>Canada</td>\n",
       "      <td>Dec 4, 2007</td>\n",
       "    </tr>\n",
       "    <tr>\n",
       "      <th>2</th>\n",
       "      <td>00004d2ac9316e22dc007ab2243d6fcb239e707d</td>\n",
       "      <td>NaN</td>\n",
       "      <td>NaN</td>\n",
       "      <td>Germany</td>\n",
       "      <td>Sep 1, 2006</td>\n",
       "    </tr>\n",
       "    <tr>\n",
       "      <th>3</th>\n",
       "      <td>000063d3fe1cf2ba248b9e3c3f0334845a27a6bf</td>\n",
       "      <td>m</td>\n",
       "      <td>19.0</td>\n",
       "      <td>Mexico</td>\n",
       "      <td>Apr 28, 2008</td>\n",
       "    </tr>\n",
       "    <tr>\n",
       "      <th>4</th>\n",
       "      <td>00007a47085b9aab8af55f52ec8846ac479ac4fe</td>\n",
       "      <td>m</td>\n",
       "      <td>28.0</td>\n",
       "      <td>United States</td>\n",
       "      <td>Jan 27, 2006</td>\n",
       "    </tr>\n",
       "  </tbody>\n",
       "</table>\n",
       "</div>"
      ],
      "text/plain": [
       "                                    user_id gender   age        country  \\\n",
       "0  00000c289a1829a808ac09c00daf10bc3c4e223b      f  22.0        Germany   \n",
       "1  00001411dc427966b17297bf4d69e7e193135d89      f   NaN         Canada   \n",
       "2  00004d2ac9316e22dc007ab2243d6fcb239e707d    NaN   NaN        Germany   \n",
       "3  000063d3fe1cf2ba248b9e3c3f0334845a27a6bf      m  19.0         Mexico   \n",
       "4  00007a47085b9aab8af55f52ec8846ac479ac4fe      m  28.0  United States   \n",
       "\n",
       "  date_of_signup  \n",
       "0    Feb 1, 2007  \n",
       "1    Dec 4, 2007  \n",
       "2    Sep 1, 2006  \n",
       "3   Apr 28, 2008  \n",
       "4   Jan 27, 2006  "
      ]
     },
     "execution_count": 6,
     "metadata": {},
     "output_type": "execute_result"
    }
   ],
   "source": [
    "user_profiles.head()"
   ]
  },
  {
   "cell_type": "code",
   "execution_count": 7,
   "metadata": {},
   "outputs": [],
   "source": [
    "plays = pd.read_csv(\n",
    "    \"../data-last-fm/lastfm-dataset-360K/usersha1-artmbid-artname-plays.tsv\",\n",
    "    delimiter=\"\\t\",\n",
    "    header=None,\n",
    "    names=[\"user_id\", \"artist_id\", \"artist-name\", \"plays\"])"
   ]
  },
  {
   "cell_type": "code",
   "execution_count": 8,
   "metadata": {},
   "outputs": [
    {
     "data": {
      "text/html": [
       "<div>\n",
       "<style scoped>\n",
       "    .dataframe tbody tr th:only-of-type {\n",
       "        vertical-align: middle;\n",
       "    }\n",
       "\n",
       "    .dataframe tbody tr th {\n",
       "        vertical-align: top;\n",
       "    }\n",
       "\n",
       "    .dataframe thead th {\n",
       "        text-align: right;\n",
       "    }\n",
       "</style>\n",
       "<table border=\"1\" class=\"dataframe\">\n",
       "  <thead>\n",
       "    <tr style=\"text-align: right;\">\n",
       "      <th></th>\n",
       "      <th>user_id</th>\n",
       "      <th>artist_id</th>\n",
       "      <th>artist-name</th>\n",
       "      <th>plays</th>\n",
       "    </tr>\n",
       "  </thead>\n",
       "  <tbody>\n",
       "    <tr>\n",
       "      <th>0</th>\n",
       "      <td>00000c289a1829a808ac09c00daf10bc3c4e223b</td>\n",
       "      <td>3bd73256-3905-4f3a-97e2-8b341527f805</td>\n",
       "      <td>betty blowtorch</td>\n",
       "      <td>2137</td>\n",
       "    </tr>\n",
       "    <tr>\n",
       "      <th>1</th>\n",
       "      <td>00000c289a1829a808ac09c00daf10bc3c4e223b</td>\n",
       "      <td>f2fb0ff0-5679-42ec-a55c-15109ce6e320</td>\n",
       "      <td>die Ärzte</td>\n",
       "      <td>1099</td>\n",
       "    </tr>\n",
       "    <tr>\n",
       "      <th>2</th>\n",
       "      <td>00000c289a1829a808ac09c00daf10bc3c4e223b</td>\n",
       "      <td>b3ae82c2-e60b-4551-a76d-6620f1b456aa</td>\n",
       "      <td>melissa etheridge</td>\n",
       "      <td>897</td>\n",
       "    </tr>\n",
       "    <tr>\n",
       "      <th>3</th>\n",
       "      <td>00000c289a1829a808ac09c00daf10bc3c4e223b</td>\n",
       "      <td>3d6bbeb7-f90e-4d10-b440-e153c0d10b53</td>\n",
       "      <td>elvenking</td>\n",
       "      <td>717</td>\n",
       "    </tr>\n",
       "    <tr>\n",
       "      <th>4</th>\n",
       "      <td>00000c289a1829a808ac09c00daf10bc3c4e223b</td>\n",
       "      <td>bbd2ffd7-17f4-4506-8572-c1ea58c3f9a8</td>\n",
       "      <td>juliette &amp; the licks</td>\n",
       "      <td>706</td>\n",
       "    </tr>\n",
       "  </tbody>\n",
       "</table>\n",
       "</div>"
      ],
      "text/plain": [
       "                                    user_id  \\\n",
       "0  00000c289a1829a808ac09c00daf10bc3c4e223b   \n",
       "1  00000c289a1829a808ac09c00daf10bc3c4e223b   \n",
       "2  00000c289a1829a808ac09c00daf10bc3c4e223b   \n",
       "3  00000c289a1829a808ac09c00daf10bc3c4e223b   \n",
       "4  00000c289a1829a808ac09c00daf10bc3c4e223b   \n",
       "\n",
       "                              artist_id           artist-name  plays  \n",
       "0  3bd73256-3905-4f3a-97e2-8b341527f805       betty blowtorch   2137  \n",
       "1  f2fb0ff0-5679-42ec-a55c-15109ce6e320             die Ärzte   1099  \n",
       "2  b3ae82c2-e60b-4551-a76d-6620f1b456aa     melissa etheridge    897  \n",
       "3  3d6bbeb7-f90e-4d10-b440-e153c0d10b53             elvenking    717  \n",
       "4  bbd2ffd7-17f4-4506-8572-c1ea58c3f9a8  juliette & the licks    706  "
      ]
     },
     "execution_count": 8,
     "metadata": {},
     "output_type": "execute_result"
    }
   ],
   "source": [
    "plays.head()"
   ]
  },
  {
   "cell_type": "markdown",
   "metadata": {},
   "source": [
    "# Individual Columns"
   ]
  },
  {
   "cell_type": "markdown",
   "metadata": {},
   "source": [
    "## Do these values make sense? (Use Domain Knowledge)"
   ]
  },
  {
   "cell_type": "markdown",
   "metadata": {},
   "source": [
    "### Age"
   ]
  },
  {
   "cell_type": "code",
   "execution_count": 9,
   "metadata": {},
   "outputs": [
    {
     "name": "stdout",
     "output_type": "stream",
     "text": [
      "Total number of users is 359347. 20.84336310029025% have no age.\n"
     ]
    }
   ],
   "source": [
    "# How many users have no age?\n",
    "na_users = user_profiles[\"age\"].isna().sum()\n",
    "print(f\"Total number of users is {user_profiles.shape[0]}. {na_users/user_profiles.shape[0]*100}% have no age.\")"
   ]
  },
  {
   "cell_type": "code",
   "execution_count": 10,
   "metadata": {},
   "outputs": [
    {
     "data": {
      "text/plain": [
       "count    284447.000000\n",
       "mean         25.098046\n",
       "std          21.665742\n",
       "min       -1337.000000\n",
       "25%          20.000000\n",
       "50%          23.000000\n",
       "75%          28.000000\n",
       "max        1002.000000\n",
       "Name: age, dtype: float64"
      ]
     },
     "execution_count": 10,
     "metadata": {},
     "output_type": "execute_result"
    }
   ],
   "source": [
    "# Ages should be between 12-100 realistically.\n",
    "# Note: Describe ignores NaN values\n",
    "user_profiles[\"age\"].describe()"
   ]
  },
  {
   "cell_type": "code",
   "execution_count": 11,
   "metadata": {},
   "outputs": [],
   "source": [
    "# Note: It's OK for EDA code to be messy"
   ]
  },
  {
   "cell_type": "code",
   "execution_count": 12,
   "metadata": {},
   "outputs": [
    {
     "data": {
      "text/plain": [
       "<AxesSubplot:>"
      ]
     },
     "execution_count": 12,
     "metadata": {},
     "output_type": "execute_result"
    },
    {
     "data": {
      "image/png": "[encoded data removed]",
      "text/plain": [
       "<Figure size 432x288 with 1 Axes>"
      ]
     },
     "metadata": {
      "needs_background": "light"
     },
     "output_type": "display_data"
    }
   ],
   "source": [
    "# How many users that are older than 100 are in the dataset?\n",
    "user_profiles[user_profiles[\"age\"] > 100][\"age\"].value_counts().plot.bar()"
   ]
  },
  {
   "cell_type": "code",
   "execution_count": 13,
   "metadata": {},
   "outputs": [
    {
     "data": {
      "text/plain": [
       "<AxesSubplot:>"
      ]
     },
     "execution_count": 13,
     "metadata": {},
     "output_type": "execute_result"
    },
    {
     "data": {
      "image/png": "[encoded data removed]",
      "text/plain": [
       "<Figure size 432x288 with 1 Axes>"
      ]
     },
     "metadata": {
      "needs_background": "light"
     },
     "output_type": "display_data"
    }
   ],
   "source": [
    "# Can minors create accounts?\n",
    "user_profiles[user_profiles[\"age\"] < 18][\"age\"].value_counts().plot.bar()"
   ]
  },
  {
   "cell_type": "code",
   "execution_count": 14,
   "metadata": {},
   "outputs": [],
   "source": [
    "user_profiles[\"unrealistic_age\"] = user_profiles[\"age\"].map(lambda x: True if (-2000 < x < 7) or (x > 109) else False)"
   ]
  },
  {
   "cell_type": "code",
   "execution_count": 15,
   "metadata": {},
   "outputs": [
    {
     "data": {
      "text/html": [
       "<div>\n",
       "<style scoped>\n",
       "    .dataframe tbody tr th:only-of-type {\n",
       "        vertical-align: middle;\n",
       "    }\n",
       "\n",
       "    .dataframe tbody tr th {\n",
       "        vertical-align: top;\n",
       "    }\n",
       "\n",
       "    .dataframe thead th {\n",
       "        text-align: right;\n",
       "    }\n",
       "</style>\n",
       "<table border=\"1\" class=\"dataframe\">\n",
       "  <thead>\n",
       "    <tr style=\"text-align: right;\">\n",
       "      <th></th>\n",
       "      <th>user_id</th>\n",
       "      <th>gender</th>\n",
       "      <th>age</th>\n",
       "      <th>country</th>\n",
       "      <th>date_of_signup</th>\n",
       "      <th>unrealistic_age</th>\n",
       "    </tr>\n",
       "  </thead>\n",
       "  <tbody>\n",
       "    <tr>\n",
       "      <th>268</th>\n",
       "      <td>002f3405370e016672eefea0fda8448df252344e</td>\n",
       "      <td>f</td>\n",
       "      <td>2.0</td>\n",
       "      <td>Belgium</td>\n",
       "      <td>Dec 31, 2007</td>\n",
       "      <td>True</td>\n",
       "    </tr>\n",
       "    <tr>\n",
       "      <th>468</th>\n",
       "      <td>0054e7082b91d7ccbe0e7b1b3b72a7c18a22932f</td>\n",
       "      <td>m</td>\n",
       "      <td>-1337.0</td>\n",
       "      <td>United Kingdom</td>\n",
       "      <td>Aug 7, 2008</td>\n",
       "      <td>True</td>\n",
       "    </tr>\n",
       "    <tr>\n",
       "      <th>753</th>\n",
       "      <td>008a54ca792d90dae28bf06a4419c804701039d4</td>\n",
       "      <td>NaN</td>\n",
       "      <td>2.0</td>\n",
       "      <td>Mexico</td>\n",
       "      <td>Mar 18, 2007</td>\n",
       "      <td>True</td>\n",
       "    </tr>\n",
       "    <tr>\n",
       "      <th>856</th>\n",
       "      <td>009e420e12cb44fa4e6b58d31009334618061454</td>\n",
       "      <td>NaN</td>\n",
       "      <td>3.0</td>\n",
       "      <td>Germany</td>\n",
       "      <td>Jan 9, 2008</td>\n",
       "      <td>True</td>\n",
       "    </tr>\n",
       "    <tr>\n",
       "      <th>863</th>\n",
       "      <td>00a08fcaea5156ecb65ab04483e8702ae7434715</td>\n",
       "      <td>NaN</td>\n",
       "      <td>1.0</td>\n",
       "      <td>United States</td>\n",
       "      <td>Sep 9, 2008</td>\n",
       "      <td>True</td>\n",
       "    </tr>\n",
       "    <tr>\n",
       "      <th>...</th>\n",
       "      <td>...</td>\n",
       "      <td>...</td>\n",
       "      <td>...</td>\n",
       "      <td>...</td>\n",
       "      <td>...</td>\n",
       "      <td>...</td>\n",
       "    </tr>\n",
       "    <tr>\n",
       "      <th>357598</th>\n",
       "      <td>fec09168337e8e7630a9dd28bc2d4d04c713c16b</td>\n",
       "      <td>NaN</td>\n",
       "      <td>1.0</td>\n",
       "      <td>Mexico</td>\n",
       "      <td>Jul 2, 2008</td>\n",
       "      <td>True</td>\n",
       "    </tr>\n",
       "    <tr>\n",
       "      <th>357688</th>\n",
       "      <td>fed141cb516f21ca3bffb58680cfac0ba90a3b41</td>\n",
       "      <td>m</td>\n",
       "      <td>-1337.0</td>\n",
       "      <td>Canada</td>\n",
       "      <td>Mar 29, 2008</td>\n",
       "      <td>True</td>\n",
       "    </tr>\n",
       "    <tr>\n",
       "      <th>357918</th>\n",
       "      <td>fef83ce188436cb07dc7efe3d66854222ac94290</td>\n",
       "      <td>m</td>\n",
       "      <td>-1337.0</td>\n",
       "      <td>Mexico</td>\n",
       "      <td>Feb 26, 2009</td>\n",
       "      <td>True</td>\n",
       "    </tr>\n",
       "    <tr>\n",
       "      <th>358320</th>\n",
       "      <td>ff415666259a4a0c16650528038954c69f9f4dd8</td>\n",
       "      <td>m</td>\n",
       "      <td>1.0</td>\n",
       "      <td>Italy</td>\n",
       "      <td>Jun 8, 2008</td>\n",
       "      <td>True</td>\n",
       "    </tr>\n",
       "    <tr>\n",
       "      <th>359150</th>\n",
       "      <td>ffd9266f5411933f70cb9262711c1c5afbc71289</td>\n",
       "      <td>m</td>\n",
       "      <td>1.0</td>\n",
       "      <td>United Kingdom</td>\n",
       "      <td>Nov 16, 2008</td>\n",
       "      <td>True</td>\n",
       "    </tr>\n",
       "  </tbody>\n",
       "</table>\n",
       "<p>1046 rows × 6 columns</p>\n",
       "</div>"
      ],
      "text/plain": [
       "                                         user_id gender     age  \\\n",
       "268     002f3405370e016672eefea0fda8448df252344e      f     2.0   \n",
       "468     0054e7082b91d7ccbe0e7b1b3b72a7c18a22932f      m -1337.0   \n",
       "753     008a54ca792d90dae28bf06a4419c804701039d4    NaN     2.0   \n",
       "856     009e420e12cb44fa4e6b58d31009334618061454    NaN     3.0   \n",
       "863     00a08fcaea5156ecb65ab04483e8702ae7434715    NaN     1.0   \n",
       "...                                          ...    ...     ...   \n",
       "357598  fec09168337e8e7630a9dd28bc2d4d04c713c16b    NaN     1.0   \n",
       "357688  fed141cb516f21ca3bffb58680cfac0ba90a3b41      m -1337.0   \n",
       "357918  fef83ce188436cb07dc7efe3d66854222ac94290      m -1337.0   \n",
       "358320  ff415666259a4a0c16650528038954c69f9f4dd8      m     1.0   \n",
       "359150  ffd9266f5411933f70cb9262711c1c5afbc71289      m     1.0   \n",
       "\n",
       "               country date_of_signup  unrealistic_age  \n",
       "268            Belgium   Dec 31, 2007             True  \n",
       "468     United Kingdom    Aug 7, 2008             True  \n",
       "753             Mexico   Mar 18, 2007             True  \n",
       "856            Germany    Jan 9, 2008             True  \n",
       "863      United States    Sep 9, 2008             True  \n",
       "...                ...            ...              ...  \n",
       "357598          Mexico    Jul 2, 2008             True  \n",
       "357688          Canada   Mar 29, 2008             True  \n",
       "357918          Mexico   Feb 26, 2009             True  \n",
       "358320           Italy    Jun 8, 2008             True  \n",
       "359150  United Kingdom   Nov 16, 2008             True  \n",
       "\n",
       "[1046 rows x 6 columns]"
      ]
     },
     "execution_count": 15,
     "metadata": {},
     "output_type": "execute_result"
    }
   ],
   "source": [
    "user_profiles[user_profiles[\"unrealistic_age\"]]"
   ]
  },
  {
   "cell_type": "markdown",
   "metadata": {},
   "source": [
    "### Gender"
   ]
  },
  {
   "cell_type": "code",
   "execution_count": 16,
   "metadata": {},
   "outputs": [
    {
     "name": "stdout",
     "output_type": "stream",
     "text": [
      "9.12071062232327% have no gender.\n"
     ]
    }
   ],
   "source": [
    "na_gender = user_profiles[\"gender\"].isna().sum()\n",
    "print(f\"{na_gender/user_profiles.shape[0]*100}% have no gender.\")"
   ]
  },
  {
   "cell_type": "code",
   "execution_count": 17,
   "metadata": {},
   "outputs": [
    {
     "data": {
      "text/plain": [
       "count     326572\n",
       "unique         2\n",
       "top            m\n",
       "freq      241642\n",
       "Name: gender, dtype: object"
      ]
     },
     "execution_count": 17,
     "metadata": {},
     "output_type": "execute_result"
    }
   ],
   "source": [
    "user_profiles[\"gender\"].describe()"
   ]
  },
  {
   "cell_type": "markdown",
   "metadata": {},
   "source": [
    "### Country"
   ]
  },
  {
   "cell_type": "code",
   "execution_count": 18,
   "metadata": {},
   "outputs": [
    {
     "data": {
      "text/plain": [
       "count            359347\n",
       "unique              239\n",
       "top       United States\n",
       "freq              67044\n",
       "Name: country, dtype: object"
      ]
     },
     "execution_count": 18,
     "metadata": {},
     "output_type": "execute_result"
    }
   ],
   "source": [
    "user_profiles[\"country\"].describe()"
   ]
  },
  {
   "cell_type": "code",
   "execution_count": 19,
   "metadata": {},
   "outputs": [
    {
     "data": {
      "text/plain": [
       "0"
      ]
     },
     "execution_count": 19,
     "metadata": {},
     "output_type": "execute_result"
    }
   ],
   "source": [
    "user_profiles[\"country\"].isna().sum()"
   ]
  },
  {
   "cell_type": "code",
   "execution_count": 20,
   "metadata": {},
   "outputs": [
    {
     "data": {
      "text/plain": [
       "United States         67044\n",
       "Germany               31651\n",
       "United Kingdom        29902\n",
       "Poland                20987\n",
       "Russian Federation    19833\n",
       "                      ...  \n",
       "Marshall Islands          4\n",
       "Palau                     3\n",
       "Benin                     3\n",
       "Liberia                   3\n",
       "Gambia                    3\n",
       "Name: country, Length: 239, dtype: int64"
      ]
     },
     "execution_count": 20,
     "metadata": {},
     "output_type": "execute_result"
    }
   ],
   "source": [
    "user_profiles[\"country\"].value_counts()"
   ]
  },
  {
   "cell_type": "markdown",
   "metadata": {},
   "source": [
    "### Date of Signup"
   ]
  },
  {
   "cell_type": "code",
   "execution_count": 21,
   "metadata": {},
   "outputs": [
    {
     "data": {
      "text/plain": [
       "0"
      ]
     },
     "execution_count": 21,
     "metadata": {},
     "output_type": "execute_result"
    }
   ],
   "source": [
    "user_profiles[\"date_of_signup\"].isna().sum()"
   ]
  },
  {
   "cell_type": "code",
   "execution_count": 22,
   "metadata": {},
   "outputs": [
    {
     "data": {
      "text/plain": [
       "count           359347\n",
       "unique            2298\n",
       "top       Jan 24, 2008\n",
       "freq               569\n",
       "Name: date_of_signup, dtype: object"
      ]
     },
     "execution_count": 22,
     "metadata": {},
     "output_type": "execute_result"
    }
   ],
   "source": [
    "user_profiles[\"date_of_signup\"].describe()"
   ]
  },
  {
   "cell_type": "code",
   "execution_count": 23,
   "metadata": {},
   "outputs": [
    {
     "data": {
      "text/plain": [
       "min    Apr 1, 2003\n",
       "max    Sep 9, 2009\n",
       "Name: date_of_signup, dtype: object"
      ]
     },
     "execution_count": 23,
     "metadata": {},
     "output_type": "execute_result"
    }
   ],
   "source": [
    "user_profiles[\"date_of_signup\"].agg([\"min\", \"max\"])"
   ]
  },
  {
   "cell_type": "code",
   "execution_count": 24,
   "metadata": {},
   "outputs": [],
   "source": [
    "user_profiles[\"year_of_signup\"] = user_profiles[\"date_of_signup\"].map(lambda x: x[-4:])"
   ]
  },
  {
   "cell_type": "code",
   "execution_count": 25,
   "metadata": {},
   "outputs": [
    {
     "data": {
      "text/plain": [
       "<AxesSubplot:>"
      ]
     },
     "execution_count": 25,
     "metadata": {},
     "output_type": "execute_result"
    },
    {
     "data": {
      "image/png": "[encoded data removed]",
      "text/plain": [
       "<Figure size 432x288 with 1 Axes>"
      ]
     },
     "metadata": {
      "needs_background": "light"
     },
     "output_type": "display_data"
    }
   ],
   "source": [
    "user_profiles[\"year_of_signup\"].value_counts().plot.bar()"
   ]
  },
  {
   "cell_type": "code",
   "execution_count": 26,
   "metadata": {},
   "outputs": [
    {
     "data": {
      "text/plain": [
       "True"
      ]
     },
     "execution_count": 26,
     "metadata": {},
     "output_type": "execute_result"
    }
   ],
   "source": [
    "# Each value should be unique\n",
    "user_profiles[\"user_id\"].nunique() == user_profiles.shape[0]"
   ]
  },
  {
   "cell_type": "code",
   "execution_count": 27,
   "metadata": {},
   "outputs": [],
   "source": [
    "# Check if all user_ids are hexadecimal strings of 40 characters\n",
    "user_id_matches = user_profiles[\"user_id\"].str.fullmatch(\"^[a-f0-9]{40}$\")"
   ]
  },
  {
   "cell_type": "code",
   "execution_count": 28,
   "metadata": {},
   "outputs": [
    {
     "data": {
      "text/html": [
       "<div>\n",
       "<style scoped>\n",
       "    .dataframe tbody tr th:only-of-type {\n",
       "        vertical-align: middle;\n",
       "    }\n",
       "\n",
       "    .dataframe tbody tr th {\n",
       "        vertical-align: top;\n",
       "    }\n",
       "\n",
       "    .dataframe thead th {\n",
       "        text-align: right;\n",
       "    }\n",
       "</style>\n",
       "<table border=\"1\" class=\"dataframe\">\n",
       "  <thead>\n",
       "    <tr style=\"text-align: right;\">\n",
       "      <th></th>\n",
       "      <th>user_id</th>\n",
       "      <th>gender</th>\n",
       "      <th>age</th>\n",
       "      <th>country</th>\n",
       "      <th>date_of_signup</th>\n",
       "      <th>unrealistic_age</th>\n",
       "      <th>year_of_signup</th>\n",
       "    </tr>\n",
       "  </thead>\n",
       "  <tbody>\n",
       "  </tbody>\n",
       "</table>\n",
       "</div>"
      ],
      "text/plain": [
       "Empty DataFrame\n",
       "Columns: [user_id, gender, age, country, date_of_signup, unrealistic_age, year_of_signup]\n",
       "Index: []"
      ]
     },
     "execution_count": 28,
     "metadata": {},
     "output_type": "execute_result"
    }
   ],
   "source": [
    "user_profiles[~user_id_matches]"
   ]
  },
  {
   "cell_type": "markdown",
   "metadata": {},
   "source": [
    "## Plays"
   ]
  },
  {
   "cell_type": "code",
   "execution_count": 29,
   "metadata": {},
   "outputs": [
    {
     "data": {
      "text/html": [
       "<div>\n",
       "<style scoped>\n",
       "    .dataframe tbody tr th:only-of-type {\n",
       "        vertical-align: middle;\n",
       "    }\n",
       "\n",
       "    .dataframe tbody tr th {\n",
       "        vertical-align: top;\n",
       "    }\n",
       "\n",
       "    .dataframe thead th {\n",
       "        text-align: right;\n",
       "    }\n",
       "</style>\n",
       "<table border=\"1\" class=\"dataframe\">\n",
       "  <thead>\n",
       "    <tr style=\"text-align: right;\">\n",
       "      <th></th>\n",
       "      <th>user_id</th>\n",
       "      <th>artist_id</th>\n",
       "      <th>artist-name</th>\n",
       "      <th>plays</th>\n",
       "    </tr>\n",
       "  </thead>\n",
       "  <tbody>\n",
       "    <tr>\n",
       "      <th>0</th>\n",
       "      <td>00000c289a1829a808ac09c00daf10bc3c4e223b</td>\n",
       "      <td>3bd73256-3905-4f3a-97e2-8b341527f805</td>\n",
       "      <td>betty blowtorch</td>\n",
       "      <td>2137</td>\n",
       "    </tr>\n",
       "    <tr>\n",
       "      <th>1</th>\n",
       "      <td>00000c289a1829a808ac09c00daf10bc3c4e223b</td>\n",
       "      <td>f2fb0ff0-5679-42ec-a55c-15109ce6e320</td>\n",
       "      <td>die Ärzte</td>\n",
       "      <td>1099</td>\n",
       "    </tr>\n",
       "    <tr>\n",
       "      <th>2</th>\n",
       "      <td>00000c289a1829a808ac09c00daf10bc3c4e223b</td>\n",
       "      <td>b3ae82c2-e60b-4551-a76d-6620f1b456aa</td>\n",
       "      <td>melissa etheridge</td>\n",
       "      <td>897</td>\n",
       "    </tr>\n",
       "    <tr>\n",
       "      <th>3</th>\n",
       "      <td>00000c289a1829a808ac09c00daf10bc3c4e223b</td>\n",
       "      <td>3d6bbeb7-f90e-4d10-b440-e153c0d10b53</td>\n",
       "      <td>elvenking</td>\n",
       "      <td>717</td>\n",
       "    </tr>\n",
       "    <tr>\n",
       "      <th>4</th>\n",
       "      <td>00000c289a1829a808ac09c00daf10bc3c4e223b</td>\n",
       "      <td>bbd2ffd7-17f4-4506-8572-c1ea58c3f9a8</td>\n",
       "      <td>juliette &amp; the licks</td>\n",
       "      <td>706</td>\n",
       "    </tr>\n",
       "  </tbody>\n",
       "</table>\n",
       "</div>"
      ],
      "text/plain": [
       "                                    user_id  \\\n",
       "0  00000c289a1829a808ac09c00daf10bc3c4e223b   \n",
       "1  00000c289a1829a808ac09c00daf10bc3c4e223b   \n",
       "2  00000c289a1829a808ac09c00daf10bc3c4e223b   \n",
       "3  00000c289a1829a808ac09c00daf10bc3c4e223b   \n",
       "4  00000c289a1829a808ac09c00daf10bc3c4e223b   \n",
       "\n",
       "                              artist_id           artist-name  plays  \n",
       "0  3bd73256-3905-4f3a-97e2-8b341527f805       betty blowtorch   2137  \n",
       "1  f2fb0ff0-5679-42ec-a55c-15109ce6e320             die Ärzte   1099  \n",
       "2  b3ae82c2-e60b-4551-a76d-6620f1b456aa     melissa etheridge    897  \n",
       "3  3d6bbeb7-f90e-4d10-b440-e153c0d10b53             elvenking    717  \n",
       "4  bbd2ffd7-17f4-4506-8572-c1ea58c3f9a8  juliette & the licks    706  "
      ]
     },
     "execution_count": 29,
     "metadata": {},
     "output_type": "execute_result"
    }
   ],
   "source": [
    "plays.head()"
   ]
  },
  {
   "cell_type": "code",
   "execution_count": 30,
   "metadata": {},
   "outputs": [
    {
     "data": {
      "text/plain": [
       "0"
      ]
     },
     "execution_count": 30,
     "metadata": {},
     "output_type": "execute_result"
    }
   ],
   "source": [
    "# Are there any missing user IDs?\n",
    "plays[\"user_id\"].isna().sum()"
   ]
  },
  {
   "cell_type": "code",
   "execution_count": 31,
   "metadata": {},
   "outputs": [
    {
     "data": {
      "text/plain": [
       "226137"
      ]
     },
     "execution_count": 31,
     "metadata": {},
     "output_type": "execute_result"
    }
   ],
   "source": [
    "# Any missing artist IDs?\n",
    "plays[\"artist_id\"].isna().sum()"
   ]
  },
  {
   "cell_type": "code",
   "execution_count": 32,
   "metadata": {},
   "outputs": [
    {
     "data": {
      "text/plain": [
       "204"
      ]
     },
     "execution_count": 32,
     "metadata": {},
     "output_type": "execute_result"
    }
   ],
   "source": [
    "# Missing artist names? \n",
    "plays[\"artist-name\"].isna().sum()"
   ]
  },
  {
   "cell_type": "code",
   "execution_count": 33,
   "metadata": {},
   "outputs": [
    {
     "data": {
      "text/plain": [
       "array(['3f0bdf7f-3f40-4795-8b91-1fde13192b09', nan], dtype=object)"
      ]
     },
     "execution_count": 33,
     "metadata": {},
     "output_type": "execute_result"
    }
   ],
   "source": [
    "# Which artists don't have an artist name?\n",
    "plays[plays[\"artist-name\"].isna()][\"artist_id\"].unique()"
   ]
  },
  {
   "cell_type": "code",
   "execution_count": 34,
   "metadata": {},
   "outputs": [
    {
     "data": {
      "text/html": [
       "<div>\n",
       "<style scoped>\n",
       "    .dataframe tbody tr th:only-of-type {\n",
       "        vertical-align: middle;\n",
       "    }\n",
       "\n",
       "    .dataframe tbody tr th {\n",
       "        vertical-align: top;\n",
       "    }\n",
       "\n",
       "    .dataframe thead th {\n",
       "        text-align: right;\n",
       "    }\n",
       "</style>\n",
       "<table border=\"1\" class=\"dataframe\">\n",
       "  <thead>\n",
       "    <tr style=\"text-align: right;\">\n",
       "      <th></th>\n",
       "      <th>user_id</th>\n",
       "      <th>artist_id</th>\n",
       "      <th>artist-name</th>\n",
       "      <th>plays</th>\n",
       "    </tr>\n",
       "  </thead>\n",
       "  <tbody>\n",
       "    <tr>\n",
       "      <th>15257652</th>\n",
       "      <td>dec 27, 2008</td>\n",
       "      <td>fee8e811-a2dc-4c09-8484-3c2aca38c3f9</td>\n",
       "      <td>orange range</td>\n",
       "      <td>450</td>\n",
       "    </tr>\n",
       "    <tr>\n",
       "      <th>15257653</th>\n",
       "      <td>dec 27, 2008</td>\n",
       "      <td>ffa25bb8-a082-4b47-aa4c-9ef48df98dc6</td>\n",
       "      <td>bonnie pink</td>\n",
       "      <td>405</td>\n",
       "    </tr>\n",
       "    <tr>\n",
       "      <th>15257654</th>\n",
       "      <td>dec 27, 2008</td>\n",
       "      <td>18191eea-369f-42e8-96ab-c1c24e4d0011</td>\n",
       "      <td>いきものがかり</td>\n",
       "      <td>343</td>\n",
       "    </tr>\n",
       "    <tr>\n",
       "      <th>15257655</th>\n",
       "      <td>dec 27, 2008</td>\n",
       "      <td>b3710b68-6b04-49e1-a3a6-a679f16243b4</td>\n",
       "      <td>loveholic</td>\n",
       "      <td>330</td>\n",
       "    </tr>\n",
       "    <tr>\n",
       "      <th>15257656</th>\n",
       "      <td>dec 27, 2008</td>\n",
       "      <td>031037c3-67be-459f-bd50-b51760501f38</td>\n",
       "      <td>se7en</td>\n",
       "      <td>308</td>\n",
       "    </tr>\n",
       "    <tr>\n",
       "      <th>...</th>\n",
       "      <td>...</td>\n",
       "      <td>...</td>\n",
       "      <td>...</td>\n",
       "      <td>...</td>\n",
       "    </tr>\n",
       "    <tr>\n",
       "      <th>17535650</th>\n",
       "      <td>sep 20, 2008</td>\n",
       "      <td>7ffd711a-b34d-4739-8aab-25e045c246da</td>\n",
       "      <td>turbostaat</td>\n",
       "      <td>12</td>\n",
       "    </tr>\n",
       "    <tr>\n",
       "      <th>17535651</th>\n",
       "      <td>sep 20, 2008</td>\n",
       "      <td>9201190d-409f-426b-9339-9bd7492443e2</td>\n",
       "      <td>cuba missouri</td>\n",
       "      <td>11</td>\n",
       "    </tr>\n",
       "    <tr>\n",
       "      <th>17535652</th>\n",
       "      <td>sep 20, 2008</td>\n",
       "      <td>e7cf7ff9-ed2f-4315-aca8-bcbd3b2bfa71</td>\n",
       "      <td>little man tate</td>\n",
       "      <td>11</td>\n",
       "    </tr>\n",
       "    <tr>\n",
       "      <th>17535653</th>\n",
       "      <td>sep 20, 2008</td>\n",
       "      <td>f6f2326f-6b25-4170-b89d-e235b25508e8</td>\n",
       "      <td>sigur rós</td>\n",
       "      <td>10</td>\n",
       "    </tr>\n",
       "    <tr>\n",
       "      <th>17535654</th>\n",
       "      <td>sep 20, 2008</td>\n",
       "      <td>40f5d9e4-2de7-4f2d-ad41-e31a9a9fea27</td>\n",
       "      <td>the smiths</td>\n",
       "      <td>10</td>\n",
       "    </tr>\n",
       "  </tbody>\n",
       "</table>\n",
       "<p>86 rows × 4 columns</p>\n",
       "</div>"
      ],
      "text/plain": [
       "               user_id                             artist_id      artist-name  \\\n",
       "15257652  dec 27, 2008  fee8e811-a2dc-4c09-8484-3c2aca38c3f9     orange range   \n",
       "15257653  dec 27, 2008  ffa25bb8-a082-4b47-aa4c-9ef48df98dc6      bonnie pink   \n",
       "15257654  dec 27, 2008  18191eea-369f-42e8-96ab-c1c24e4d0011          いきものがかり   \n",
       "15257655  dec 27, 2008  b3710b68-6b04-49e1-a3a6-a679f16243b4        loveholic   \n",
       "15257656  dec 27, 2008  031037c3-67be-459f-bd50-b51760501f38            se7en   \n",
       "...                ...                                   ...              ...   \n",
       "17535650  sep 20, 2008  7ffd711a-b34d-4739-8aab-25e045c246da       turbostaat   \n",
       "17535651  sep 20, 2008  9201190d-409f-426b-9339-9bd7492443e2    cuba missouri   \n",
       "17535652  sep 20, 2008  e7cf7ff9-ed2f-4315-aca8-bcbd3b2bfa71  little man tate   \n",
       "17535653  sep 20, 2008  f6f2326f-6b25-4170-b89d-e235b25508e8        sigur rós   \n",
       "17535654  sep 20, 2008  40f5d9e4-2de7-4f2d-ad41-e31a9a9fea27       the smiths   \n",
       "\n",
       "          plays  \n",
       "15257652    450  \n",
       "15257653    405  \n",
       "15257654    343  \n",
       "15257655    330  \n",
       "15257656    308  \n",
       "...         ...  \n",
       "17535650     12  \n",
       "17535651     11  \n",
       "17535652     11  \n",
       "17535653     10  \n",
       "17535654     10  \n",
       "\n",
       "[86 rows x 4 columns]"
      ]
     },
     "execution_count": 34,
     "metadata": {},
     "output_type": "execute_result"
    }
   ],
   "source": [
    "# Check if all user_ids are hexadecimal strings of 40 characters\n",
    "user_id_matches = plays[\"user_id\"].str.fullmatch(\"^[a-f0-9]{40}$\")\n",
    "plays[~user_id_matches]"
   ]
  },
  {
   "cell_type": "code",
   "execution_count": 35,
   "metadata": {},
   "outputs": [
    {
     "data": {
      "text/html": [
       "<div>\n",
       "<style scoped>\n",
       "    .dataframe tbody tr th:only-of-type {\n",
       "        vertical-align: middle;\n",
       "    }\n",
       "\n",
       "    .dataframe tbody tr th {\n",
       "        vertical-align: top;\n",
       "    }\n",
       "\n",
       "    .dataframe thead th {\n",
       "        text-align: right;\n",
       "    }\n",
       "</style>\n",
       "<table border=\"1\" class=\"dataframe\">\n",
       "  <thead>\n",
       "    <tr style=\"text-align: right;\">\n",
       "      <th></th>\n",
       "      <th>user_id</th>\n",
       "      <th>artist_id</th>\n",
       "      <th>artist-name</th>\n",
       "      <th>plays</th>\n",
       "    </tr>\n",
       "  </thead>\n",
       "  <tbody>\n",
       "    <tr>\n",
       "      <th>15257652</th>\n",
       "      <td>dec 27, 2008</td>\n",
       "      <td>fee8e811-a2dc-4c09-8484-3c2aca38c3f9</td>\n",
       "      <td>orange range</td>\n",
       "      <td>450</td>\n",
       "    </tr>\n",
       "    <tr>\n",
       "      <th>15257653</th>\n",
       "      <td>dec 27, 2008</td>\n",
       "      <td>ffa25bb8-a082-4b47-aa4c-9ef48df98dc6</td>\n",
       "      <td>bonnie pink</td>\n",
       "      <td>405</td>\n",
       "    </tr>\n",
       "    <tr>\n",
       "      <th>15257654</th>\n",
       "      <td>dec 27, 2008</td>\n",
       "      <td>18191eea-369f-42e8-96ab-c1c24e4d0011</td>\n",
       "      <td>いきものがかり</td>\n",
       "      <td>343</td>\n",
       "    </tr>\n",
       "    <tr>\n",
       "      <th>15257655</th>\n",
       "      <td>dec 27, 2008</td>\n",
       "      <td>b3710b68-6b04-49e1-a3a6-a679f16243b4</td>\n",
       "      <td>loveholic</td>\n",
       "      <td>330</td>\n",
       "    </tr>\n",
       "    <tr>\n",
       "      <th>15257656</th>\n",
       "      <td>dec 27, 2008</td>\n",
       "      <td>031037c3-67be-459f-bd50-b51760501f38</td>\n",
       "      <td>se7en</td>\n",
       "      <td>308</td>\n",
       "    </tr>\n",
       "    <tr>\n",
       "      <th>...</th>\n",
       "      <td>...</td>\n",
       "      <td>...</td>\n",
       "      <td>...</td>\n",
       "      <td>...</td>\n",
       "    </tr>\n",
       "    <tr>\n",
       "      <th>17535650</th>\n",
       "      <td>sep 20, 2008</td>\n",
       "      <td>7ffd711a-b34d-4739-8aab-25e045c246da</td>\n",
       "      <td>turbostaat</td>\n",
       "      <td>12</td>\n",
       "    </tr>\n",
       "    <tr>\n",
       "      <th>17535651</th>\n",
       "      <td>sep 20, 2008</td>\n",
       "      <td>9201190d-409f-426b-9339-9bd7492443e2</td>\n",
       "      <td>cuba missouri</td>\n",
       "      <td>11</td>\n",
       "    </tr>\n",
       "    <tr>\n",
       "      <th>17535652</th>\n",
       "      <td>sep 20, 2008</td>\n",
       "      <td>e7cf7ff9-ed2f-4315-aca8-bcbd3b2bfa71</td>\n",
       "      <td>little man tate</td>\n",
       "      <td>11</td>\n",
       "    </tr>\n",
       "    <tr>\n",
       "      <th>17535653</th>\n",
       "      <td>sep 20, 2008</td>\n",
       "      <td>f6f2326f-6b25-4170-b89d-e235b25508e8</td>\n",
       "      <td>sigur rós</td>\n",
       "      <td>10</td>\n",
       "    </tr>\n",
       "    <tr>\n",
       "      <th>17535654</th>\n",
       "      <td>sep 20, 2008</td>\n",
       "      <td>40f5d9e4-2de7-4f2d-ad41-e31a9a9fea27</td>\n",
       "      <td>the smiths</td>\n",
       "      <td>10</td>\n",
       "    </tr>\n",
       "  </tbody>\n",
       "</table>\n",
       "<p>86 rows × 4 columns</p>\n",
       "</div>"
      ],
      "text/plain": [
       "               user_id                             artist_id      artist-name  \\\n",
       "15257652  dec 27, 2008  fee8e811-a2dc-4c09-8484-3c2aca38c3f9     orange range   \n",
       "15257653  dec 27, 2008  ffa25bb8-a082-4b47-aa4c-9ef48df98dc6      bonnie pink   \n",
       "15257654  dec 27, 2008  18191eea-369f-42e8-96ab-c1c24e4d0011          いきものがかり   \n",
       "15257655  dec 27, 2008  b3710b68-6b04-49e1-a3a6-a679f16243b4        loveholic   \n",
       "15257656  dec 27, 2008  031037c3-67be-459f-bd50-b51760501f38            se7en   \n",
       "...                ...                                   ...              ...   \n",
       "17535650  sep 20, 2008  7ffd711a-b34d-4739-8aab-25e045c246da       turbostaat   \n",
       "17535651  sep 20, 2008  9201190d-409f-426b-9339-9bd7492443e2    cuba missouri   \n",
       "17535652  sep 20, 2008  e7cf7ff9-ed2f-4315-aca8-bcbd3b2bfa71  little man tate   \n",
       "17535653  sep 20, 2008  f6f2326f-6b25-4170-b89d-e235b25508e8        sigur rós   \n",
       "17535654  sep 20, 2008  40f5d9e4-2de7-4f2d-ad41-e31a9a9fea27       the smiths   \n",
       "\n",
       "          plays  \n",
       "15257652    450  \n",
       "15257653    405  \n",
       "15257654    343  \n",
       "15257655    330  \n",
       "15257656    308  \n",
       "...         ...  \n",
       "17535650     12  \n",
       "17535651     11  \n",
       "17535652     11  \n",
       "17535653     10  \n",
       "17535654     10  \n",
       "\n",
       "[86 rows x 4 columns]"
      ]
     },
     "execution_count": 35,
     "metadata": {},
     "output_type": "execute_result"
    }
   ],
   "source": [
    "# Check if all user_ids are hexadecimal strings of 40 characters\n",
    "user_id_matches = plays[\"user_id\"].str.fullmatch(\"^[a-f0-9]{40}$\")\n",
    "plays[~user_id_matches]"
   ]
  },
  {
   "cell_type": "code",
   "execution_count": 36,
   "metadata": {},
   "outputs": [
    {
     "data": {
      "text/html": [
       "<div>\n",
       "<style scoped>\n",
       "    .dataframe tbody tr th:only-of-type {\n",
       "        vertical-align: middle;\n",
       "    }\n",
       "\n",
       "    .dataframe tbody tr th {\n",
       "        vertical-align: top;\n",
       "    }\n",
       "\n",
       "    .dataframe thead th {\n",
       "        text-align: right;\n",
       "    }\n",
       "</style>\n",
       "<table border=\"1\" class=\"dataframe\">\n",
       "  <thead>\n",
       "    <tr style=\"text-align: right;\">\n",
       "      <th></th>\n",
       "      <th>user_id</th>\n",
       "      <th>artist_id</th>\n",
       "      <th>artist-name</th>\n",
       "      <th>plays</th>\n",
       "    </tr>\n",
       "  </thead>\n",
       "  <tbody>\n",
       "    <tr>\n",
       "      <th>15225</th>\n",
       "      <td>003686d963ca60c0363ad4865b5db55411f6cad6</td>\n",
       "      <td>94144c85-c5ee-4ec6-85cd-15e48b16ffea</td>\n",
       "      <td>clipz</td>\n",
       "      <td>308</td>\n",
       "    </tr>\n",
       "    <tr>\n",
       "      <th>25114</th>\n",
       "      <td>005c1d5e5bce39d9b41d2a16d8a178d4a2b4052f</td>\n",
       "      <td>febd11c8-76b7-43bd-a4b9-d22776c3d0f3</td>\n",
       "      <td>al-fatnujah</td>\n",
       "      <td>61</td>\n",
       "    </tr>\n",
       "    <tr>\n",
       "      <th>36801</th>\n",
       "      <td>0088cc547a3877d043fe12721a7eae745c45b5f7</td>\n",
       "      <td>1e69316c-14fa-42ba-88f2-06f6743632f</td>\n",
       "      <td>alexander rybak</td>\n",
       "      <td>80</td>\n",
       "    </tr>\n",
       "    <tr>\n",
       "      <th>37212</th>\n",
       "      <td>008ac985db5b498e91c286ba539e0395451ae930</td>\n",
       "      <td>1e69316c-14fa-42ba-88f2-06f6743632f</td>\n",
       "      <td>alexander rybak</td>\n",
       "      <td>87</td>\n",
       "    </tr>\n",
       "    <tr>\n",
       "      <th>58036</th>\n",
       "      <td>00d1ddc76d20955fe34d7cfe91fac338fd7912cb</td>\n",
       "      <td>4a945ad5-5f21-449d-ac51-fac9d6b8c118</td>\n",
       "      <td>matrix and futurebound</td>\n",
       "      <td>31</td>\n",
       "    </tr>\n",
       "    <tr>\n",
       "      <th>...</th>\n",
       "      <td>...</td>\n",
       "      <td>...</td>\n",
       "      <td>...</td>\n",
       "      <td>...</td>\n",
       "    </tr>\n",
       "    <tr>\n",
       "      <th>17504188</th>\n",
       "      <td>ff84ae0662dbac665ac8d73242ee0e4f0a4f0ae8</td>\n",
       "      <td>6409a09d-826f-43a7-90dc-9650a848742c</td>\n",
       "      <td>dsound</td>\n",
       "      <td>618</td>\n",
       "    </tr>\n",
       "    <tr>\n",
       "      <th>17506801</th>\n",
       "      <td>ff8e577b766ae845967aa4ecfbbeab6ffbdb5345</td>\n",
       "      <td>8a527c65-35dc-4984-84ac-fab0a6d8ae5</td>\n",
       "      <td>g.g. anderson</td>\n",
       "      <td>231</td>\n",
       "    </tr>\n",
       "    <tr>\n",
       "      <th>17527607</th>\n",
       "      <td>ffdfb831fc30cb1e4c9e7072ace4be315f6267fd</td>\n",
       "      <td>1e69316c-14fa-42ba-88f2-06f6743632f</td>\n",
       "      <td>alexander rybak</td>\n",
       "      <td>151</td>\n",
       "    </tr>\n",
       "    <tr>\n",
       "      <th>17528397</th>\n",
       "      <td>ffe405098f3e2d8e72c3c723fcb422db523a70fc</td>\n",
       "      <td>e2b294b7-f705-4317-a96b-fd94da3719e5</td>\n",
       "      <td>mstislav rostropovich</td>\n",
       "      <td>186</td>\n",
       "    </tr>\n",
       "    <tr>\n",
       "      <th>17535055</th>\n",
       "      <td>fffcf52d27aa7ea75f99d4bff654fa08fcedc4b6</td>\n",
       "      <td>081d201a-1240-4364-b7d1-21e0e45b81c</td>\n",
       "      <td>jehan barbur</td>\n",
       "      <td>313</td>\n",
       "    </tr>\n",
       "  </tbody>\n",
       "</table>\n",
       "<p>2358 rows × 4 columns</p>\n",
       "</div>"
      ],
      "text/plain": [
       "                                           user_id  \\\n",
       "15225     003686d963ca60c0363ad4865b5db55411f6cad6   \n",
       "25114     005c1d5e5bce39d9b41d2a16d8a178d4a2b4052f   \n",
       "36801     0088cc547a3877d043fe12721a7eae745c45b5f7   \n",
       "37212     008ac985db5b498e91c286ba539e0395451ae930   \n",
       "58036     00d1ddc76d20955fe34d7cfe91fac338fd7912cb   \n",
       "...                                            ...   \n",
       "17504188  ff84ae0662dbac665ac8d73242ee0e4f0a4f0ae8   \n",
       "17506801  ff8e577b766ae845967aa4ecfbbeab6ffbdb5345   \n",
       "17527607  ffdfb831fc30cb1e4c9e7072ace4be315f6267fd   \n",
       "17528397  ffe405098f3e2d8e72c3c723fcb422db523a70fc   \n",
       "17535055  fffcf52d27aa7ea75f99d4bff654fa08fcedc4b6   \n",
       "\n",
       "                                      artist_id             artist-name  plays  \n",
       "15225     94144c85-c5ee-4ec6-85cd-15e48b16ffea                    clipz    308  \n",
       "25114     febd11c8-76b7-43bd-a4b9-d22776c3d0f3              al-fatnujah     61  \n",
       "36801       1e69316c-14fa-42ba-88f2-06f6743632f         alexander rybak     80  \n",
       "37212       1e69316c-14fa-42ba-88f2-06f6743632f         alexander rybak     87  \n",
       "58036     4a945ad5-5f21-449d-ac51-fac9d6b8c118   matrix and futurebound     31  \n",
       "...                                         ...                     ...    ...  \n",
       "17504188  6409a09d-826f-43a7-90dc-9650a848742c                   dsound    618  \n",
       "17506801    8a527c65-35dc-4984-84ac-fab0a6d8ae5           g.g. anderson    231  \n",
       "17527607    1e69316c-14fa-42ba-88f2-06f6743632f         alexander rybak    151  \n",
       "17528397  e2b294b7-f705-4317-a96b-fd94da3719e5    mstislav rostropovich    186  \n",
       "17535055    081d201a-1240-4364-b7d1-21e0e45b81c            jehan barbur    313  \n",
       "\n",
       "[2358 rows x 4 columns]"
      ]
     },
     "execution_count": 36,
     "metadata": {},
     "output_type": "execute_result"
    }
   ],
   "source": [
    "# Perform a regex check on artist_ids\n",
    "artist_id_matches = plays[\"artist_id\"].str.fullmatch(\n",
    "    \"^[a-f0-9]{8}-[a-f0-9]{4}-[a-f0-9]{4}-[a-f0-9]{4}-[a-f0-9]{12}$\")\n",
    "# Pandas doesn't like NaNs, so we fill them with a True value to exclude them here\n",
    "plays[~artist_id_matches.fillna(True)]"
   ]
  },
  {
   "cell_type": "code",
   "execution_count": 49,
   "metadata": {},
   "outputs": [
    {
     "data": {
      "text/plain": [
       "array(['94144c85-c5ee-4ec6-85cd-15e48b16ffea ',\n",
       "       'febd11c8-76b7-43bd-a4b9-d22776c3d0f3 ',\n",
       "       '1e69316c-14fa-42ba-88f2-06f6743632f', ...,\n",
       "       '1e69316c-14fa-42ba-88f2-06f6743632f',\n",
       "       'e2b294b7-f705-4317-a96b-fd94da3719e5 ',\n",
       "       '081d201a-1240-4364-b7d1-21e0e45b81c'], dtype=object)"
      ]
     },
     "execution_count": 49,
     "metadata": {},
     "output_type": "execute_result"
    }
   ],
   "source": [
    "plays[~artist_id_matches.fillna(True)][\"artist_id\"].values"
   ]
  },
  {
   "cell_type": "code",
   "execution_count": 37,
   "metadata": {},
   "outputs": [],
   "source": [
    "# Can we fill in the missing values for artist ID?\n",
    "artist_name_to_id_index = plays[[\"artist_id\", \"artist-name\"]].dropna(\n",
    ").drop_duplicates().set_index(\"artist-name\")[\"artist_id\"].to_dict()"
   ]
  },
  {
   "cell_type": "code",
   "execution_count": 112,
   "metadata": {},
   "outputs": [],
   "source": [
    "plays[\"artist_id_filled\"] = plays[\"artist-name\"].map(lambda x: artist_name_to_id_index.get(x))"
   ]
  },
  {
   "cell_type": "code",
   "execution_count": 113,
   "metadata": {},
   "outputs": [
    {
     "data": {
      "text/html": [
       "<div>\n",
       "<style scoped>\n",
       "    .dataframe tbody tr th:only-of-type {\n",
       "        vertical-align: middle;\n",
       "    }\n",
       "\n",
       "    .dataframe tbody tr th {\n",
       "        vertical-align: top;\n",
       "    }\n",
       "\n",
       "    .dataframe thead th {\n",
       "        text-align: right;\n",
       "    }\n",
       "</style>\n",
       "<table border=\"1\" class=\"dataframe\">\n",
       "  <thead>\n",
       "    <tr style=\"text-align: right;\">\n",
       "      <th></th>\n",
       "      <th>user_id</th>\n",
       "      <th>artist_id</th>\n",
       "      <th>artist-name</th>\n",
       "      <th>plays</th>\n",
       "      <th>artist_gender</th>\n",
       "      <th>artist_id_filled</th>\n",
       "    </tr>\n",
       "  </thead>\n",
       "  <tbody>\n",
       "    <tr>\n",
       "      <th>158</th>\n",
       "      <td>000063d3fe1cf2ba248b9e3c3f0334845a27a6bf</td>\n",
       "      <td>NaN</td>\n",
       "      <td>rock universal</td>\n",
       "      <td>14</td>\n",
       "      <td>None</td>\n",
       "      <td>None</td>\n",
       "    </tr>\n",
       "    <tr>\n",
       "      <th>241</th>\n",
       "      <td>00007a47085b9aab8af55f52ec8846ac479ac4fe</td>\n",
       "      <td>NaN</td>\n",
       "      <td>apes &amp; androids</td>\n",
       "      <td>67</td>\n",
       "      <td>None</td>\n",
       "      <td>None</td>\n",
       "    </tr>\n",
       "    <tr>\n",
       "      <th>441</th>\n",
       "      <td>0000f687d4fe9c1ed49620fbc5ed5b0d7798ea20</td>\n",
       "      <td>NaN</td>\n",
       "      <td>fondo flamenco</td>\n",
       "      <td>3</td>\n",
       "      <td>None</td>\n",
       "      <td>None</td>\n",
       "    </tr>\n",
       "    <tr>\n",
       "      <th>499</th>\n",
       "      <td>0001399387da41d557219578fb08b12afa25ab67</td>\n",
       "      <td>NaN</td>\n",
       "      <td>id software</td>\n",
       "      <td>31</td>\n",
       "      <td>None</td>\n",
       "      <td>f34a6780-93cc-4a01-83bd-84777895fba2</td>\n",
       "    </tr>\n",
       "    <tr>\n",
       "      <th>605</th>\n",
       "      <td>0001a57568309b287363e72dc682e9a170ba6dc2</td>\n",
       "      <td>NaN</td>\n",
       "      <td>haircut 100</td>\n",
       "      <td>83</td>\n",
       "      <td>None</td>\n",
       "      <td>bbb94ad0-3bb7-42af-99cd-e92f5a42c4c5</td>\n",
       "    </tr>\n",
       "    <tr>\n",
       "      <th>...</th>\n",
       "      <td>...</td>\n",
       "      <td>...</td>\n",
       "      <td>...</td>\n",
       "      <td>...</td>\n",
       "      <td>...</td>\n",
       "      <td>...</td>\n",
       "    </tr>\n",
       "    <tr>\n",
       "      <th>17535374</th>\n",
       "      <td>fffe454af08a58c7bafe77491b586711f6b5e6f1</td>\n",
       "      <td>NaN</td>\n",
       "      <td>eric clapton and steve winwood</td>\n",
       "      <td>26</td>\n",
       "      <td>None</td>\n",
       "      <td>None</td>\n",
       "    </tr>\n",
       "    <tr>\n",
       "      <th>17535407</th>\n",
       "      <td>fffe7823f67b433b45f22056467db921c1d3d7d0</td>\n",
       "      <td>NaN</td>\n",
       "      <td>big city beats</td>\n",
       "      <td>52</td>\n",
       "      <td>None</td>\n",
       "      <td>None</td>\n",
       "    </tr>\n",
       "    <tr>\n",
       "      <th>17535458</th>\n",
       "      <td>fffe8637bd8234309e871409c7ebef99a720afc1</td>\n",
       "      <td>NaN</td>\n",
       "      <td>suzanina</td>\n",
       "      <td>45</td>\n",
       "      <td>None</td>\n",
       "      <td>None</td>\n",
       "    </tr>\n",
       "    <tr>\n",
       "      <th>17535486</th>\n",
       "      <td>fffe8c7f952d9b960a56ed4dcb40a415d924b224</td>\n",
       "      <td>NaN</td>\n",
       "      <td>bionic commando</td>\n",
       "      <td>235</td>\n",
       "      <td>None</td>\n",
       "      <td>None</td>\n",
       "    </tr>\n",
       "    <tr>\n",
       "      <th>17535637</th>\n",
       "      <td>sep 20, 2008</td>\n",
       "      <td>NaN</td>\n",
       "      <td>beachy head</td>\n",
       "      <td>15</td>\n",
       "      <td>None</td>\n",
       "      <td>None</td>\n",
       "    </tr>\n",
       "  </tbody>\n",
       "</table>\n",
       "<p>228495 rows × 6 columns</p>\n",
       "</div>"
      ],
      "text/plain": [
       "                                           user_id artist_id  \\\n",
       "158       000063d3fe1cf2ba248b9e3c3f0334845a27a6bf       NaN   \n",
       "241       00007a47085b9aab8af55f52ec8846ac479ac4fe       NaN   \n",
       "441       0000f687d4fe9c1ed49620fbc5ed5b0d7798ea20       NaN   \n",
       "499       0001399387da41d557219578fb08b12afa25ab67       NaN   \n",
       "605       0001a57568309b287363e72dc682e9a170ba6dc2       NaN   \n",
       "...                                            ...       ...   \n",
       "17535374  fffe454af08a58c7bafe77491b586711f6b5e6f1       NaN   \n",
       "17535407  fffe7823f67b433b45f22056467db921c1d3d7d0       NaN   \n",
       "17535458  fffe8637bd8234309e871409c7ebef99a720afc1       NaN   \n",
       "17535486  fffe8c7f952d9b960a56ed4dcb40a415d924b224       NaN   \n",
       "17535637                              sep 20, 2008       NaN   \n",
       "\n",
       "                             artist-name  plays artist_gender  \\\n",
       "158                       rock universal     14          None   \n",
       "241                      apes & androids     67          None   \n",
       "441                       fondo flamenco      3          None   \n",
       "499                          id software     31          None   \n",
       "605                          haircut 100     83          None   \n",
       "...                                  ...    ...           ...   \n",
       "17535374  eric clapton and steve winwood     26          None   \n",
       "17535407                  big city beats     52          None   \n",
       "17535458                        suzanina     45          None   \n",
       "17535486                 bionic commando    235          None   \n",
       "17535637                     beachy head     15          None   \n",
       "\n",
       "                              artist_id_filled  \n",
       "158                                       None  \n",
       "241                                       None  \n",
       "441                                       None  \n",
       "499       f34a6780-93cc-4a01-83bd-84777895fba2  \n",
       "605       bbb94ad0-3bb7-42af-99cd-e92f5a42c4c5  \n",
       "...                                        ...  \n",
       "17535374                                  None  \n",
       "17535407                                  None  \n",
       "17535458                                  None  \n",
       "17535486                                  None  \n",
       "17535637                                  None  \n",
       "\n",
       "[228495 rows x 6 columns]"
      ]
     },
     "execution_count": 113,
     "metadata": {},
     "output_type": "execute_result"
    }
   ],
   "source": [
    "plays[~artist_id_matches.fillna(False)]"
   ]
  },
  {
   "cell_type": "code",
   "execution_count": 39,
   "metadata": {},
   "outputs": [],
   "source": [
    "valid_plays = plays.dropna(axis=0, subset=[\"artist-name\"])"
   ]
  },
  {
   "cell_type": "code",
   "execution_count": 40,
   "metadata": {},
   "outputs": [],
   "source": [
    "artist_popularity = valid_plays.groupby(\"artist-name\")[\"plays\"].sum().sort_values(ascending=False)"
   ]
  },
  {
   "cell_type": "code",
   "execution_count": 41,
   "metadata": {},
   "outputs": [
    {
     "data": {
      "text/plain": [
       "artist-name\n",
       "the beatles              30466827\n",
       "radiohead                27426234\n",
       "coldplay                 16686772\n",
       "pink floyd               15943557\n",
       "metallica                15481852\n",
       "muse                     15451683\n",
       "nine inch nails          14075619\n",
       "red hot chili peppers    13547741\n",
       "linkin park              12836638\n",
       "system of a down         11917336\n",
       "Name: plays, dtype: int64"
      ]
     },
     "execution_count": 41,
     "metadata": {},
     "output_type": "execute_result"
    }
   ],
   "source": [
    "artist_popularity.head(10)"
   ]
  },
  {
   "cell_type": "code",
   "execution_count": 47,
   "metadata": {},
   "outputs": [
    {
     "data": {
      "text/plain": [
       "<AxesSubplot:>"
      ]
     },
     "execution_count": 47,
     "metadata": {},
     "output_type": "execute_result"
    },
    {
     "data": {
      "image/png": "[encoded data removed]",
      "text/plain": [
       "<Figure size 432x288 with 1 Axes>"
      ]
     },
     "metadata": {
      "needs_background": "light"
     },
     "output_type": "display_data"
    }
   ],
   "source": [
    "sns.lineplot(data=artist_popularity[0:1000].values)"
   ]
  },
  {
   "cell_type": "code",
   "execution_count": 48,
   "metadata": {},
   "outputs": [
    {
     "data": {
      "text/plain": [
       "<AxesSubplot:>"
      ]
     },
     "execution_count": 48,
     "metadata": {},
     "output_type": "execute_result"
    },
    {
     "data": {
      "image/png": "[encoded data removed]",
      "text/plain": [
       "<Figure size 432x288 with 1 Axes>"
      ]
     },
     "metadata": {
      "needs_background": "light"
     },
     "output_type": "display_data"
    }
   ],
   "source": [
    "sns.lineplot(data=artist_popularity[1000:10000].values)"
   ]
  },
  {
   "cell_type": "code",
   "execution_count": 65,
   "metadata": {},
   "outputs": [],
   "source": [
    "artist_gender_dict = artist_gender.to_dict()"
   ]
  },
  {
   "cell_type": "code",
   "execution_count": 70,
   "metadata": {},
   "outputs": [
    {
     "data": {
      "text/plain": [
       "artist_gender\n",
       "Female            1478652\n",
       "Male              4067935\n",
       "Not applicable        299\n",
       "Other                6123\n",
       "dtype: int64"
      ]
     },
     "execution_count": 70,
     "metadata": {},
     "output_type": "execute_result"
    }
   ],
   "source": [
    "plays.groupby(\"artist_gender\").size()"
   ]
  },
  {
   "cell_type": "code",
   "execution_count": 72,
   "metadata": {},
   "outputs": [
    {
     "data": {
      "text/html": [
       "<div>\n",
       "<style scoped>\n",
       "    .dataframe tbody tr th:only-of-type {\n",
       "        vertical-align: middle;\n",
       "    }\n",
       "\n",
       "    .dataframe tbody tr th {\n",
       "        vertical-align: top;\n",
       "    }\n",
       "\n",
       "    .dataframe thead th {\n",
       "        text-align: right;\n",
       "    }\n",
       "</style>\n",
       "<table border=\"1\" class=\"dataframe\">\n",
       "  <thead>\n",
       "    <tr style=\"text-align: right;\">\n",
       "      <th></th>\n",
       "      <th>plays</th>\n",
       "    </tr>\n",
       "    <tr>\n",
       "      <th>artist_gender</th>\n",
       "      <th></th>\n",
       "    </tr>\n",
       "  </thead>\n",
       "  <tbody>\n",
       "    <tr>\n",
       "      <th>Female</th>\n",
       "      <td>277953818</td>\n",
       "    </tr>\n",
       "    <tr>\n",
       "      <th>Male</th>\n",
       "      <td>739667949</td>\n",
       "    </tr>\n",
       "    <tr>\n",
       "      <th>Not applicable</th>\n",
       "      <td>55019</td>\n",
       "    </tr>\n",
       "    <tr>\n",
       "      <th>Other</th>\n",
       "      <td>1156543</td>\n",
       "    </tr>\n",
       "  </tbody>\n",
       "</table>\n",
       "</div>"
      ],
      "text/plain": [
       "                    plays\n",
       "artist_gender            \n",
       "Female          277953818\n",
       "Male            739667949\n",
       "Not applicable      55019\n",
       "Other             1156543"
      ]
     },
     "execution_count": 72,
     "metadata": {},
     "output_type": "execute_result"
    }
   ],
   "source": [
    "plays.groupby(\"artist_gender\").sum()"
   ]
  },
  {
   "cell_type": "code",
   "execution_count": 68,
   "metadata": {},
   "outputs": [
    {
     "data": {
      "text/html": [
       "<div>\n",
       "<style scoped>\n",
       "    .dataframe tbody tr th:only-of-type {\n",
       "        vertical-align: middle;\n",
       "    }\n",
       "\n",
       "    .dataframe tbody tr th {\n",
       "        vertical-align: top;\n",
       "    }\n",
       "\n",
       "    .dataframe thead th {\n",
       "        text-align: right;\n",
       "    }\n",
       "</style>\n",
       "<table border=\"1\" class=\"dataframe\">\n",
       "  <thead>\n",
       "    <tr style=\"text-align: right;\">\n",
       "      <th></th>\n",
       "      <th>user_id</th>\n",
       "      <th>artist_id</th>\n",
       "      <th>artist-name</th>\n",
       "      <th>plays</th>\n",
       "      <th>artist_gender</th>\n",
       "    </tr>\n",
       "  </thead>\n",
       "  <tbody>\n",
       "    <tr>\n",
       "      <th>0</th>\n",
       "      <td>00000c289a1829a808ac09c00daf10bc3c4e223b</td>\n",
       "      <td>3bd73256-3905-4f3a-97e2-8b341527f805</td>\n",
       "      <td>betty blowtorch</td>\n",
       "      <td>2137</td>\n",
       "      <td>None</td>\n",
       "    </tr>\n",
       "    <tr>\n",
       "      <th>1</th>\n",
       "      <td>00000c289a1829a808ac09c00daf10bc3c4e223b</td>\n",
       "      <td>f2fb0ff0-5679-42ec-a55c-15109ce6e320</td>\n",
       "      <td>die Ärzte</td>\n",
       "      <td>1099</td>\n",
       "      <td>None</td>\n",
       "    </tr>\n",
       "    <tr>\n",
       "      <th>2</th>\n",
       "      <td>00000c289a1829a808ac09c00daf10bc3c4e223b</td>\n",
       "      <td>b3ae82c2-e60b-4551-a76d-6620f1b456aa</td>\n",
       "      <td>melissa etheridge</td>\n",
       "      <td>897</td>\n",
       "      <td>Female</td>\n",
       "    </tr>\n",
       "    <tr>\n",
       "      <th>3</th>\n",
       "      <td>00000c289a1829a808ac09c00daf10bc3c4e223b</td>\n",
       "      <td>3d6bbeb7-f90e-4d10-b440-e153c0d10b53</td>\n",
       "      <td>elvenking</td>\n",
       "      <td>717</td>\n",
       "      <td>None</td>\n",
       "    </tr>\n",
       "    <tr>\n",
       "      <th>4</th>\n",
       "      <td>00000c289a1829a808ac09c00daf10bc3c4e223b</td>\n",
       "      <td>bbd2ffd7-17f4-4506-8572-c1ea58c3f9a8</td>\n",
       "      <td>juliette &amp; the licks</td>\n",
       "      <td>706</td>\n",
       "      <td>None</td>\n",
       "    </tr>\n",
       "    <tr>\n",
       "      <th>...</th>\n",
       "      <td>...</td>\n",
       "      <td>...</td>\n",
       "      <td>...</td>\n",
       "      <td>...</td>\n",
       "      <td>...</td>\n",
       "    </tr>\n",
       "    <tr>\n",
       "      <th>17535650</th>\n",
       "      <td>sep 20, 2008</td>\n",
       "      <td>7ffd711a-b34d-4739-8aab-25e045c246da</td>\n",
       "      <td>turbostaat</td>\n",
       "      <td>12</td>\n",
       "      <td>None</td>\n",
       "    </tr>\n",
       "    <tr>\n",
       "      <th>17535651</th>\n",
       "      <td>sep 20, 2008</td>\n",
       "      <td>9201190d-409f-426b-9339-9bd7492443e2</td>\n",
       "      <td>cuba missouri</td>\n",
       "      <td>11</td>\n",
       "      <td>None</td>\n",
       "    </tr>\n",
       "    <tr>\n",
       "      <th>17535652</th>\n",
       "      <td>sep 20, 2008</td>\n",
       "      <td>e7cf7ff9-ed2f-4315-aca8-bcbd3b2bfa71</td>\n",
       "      <td>little man tate</td>\n",
       "      <td>11</td>\n",
       "      <td>None</td>\n",
       "    </tr>\n",
       "    <tr>\n",
       "      <th>17535653</th>\n",
       "      <td>sep 20, 2008</td>\n",
       "      <td>f6f2326f-6b25-4170-b89d-e235b25508e8</td>\n",
       "      <td>sigur rós</td>\n",
       "      <td>10</td>\n",
       "      <td>None</td>\n",
       "    </tr>\n",
       "    <tr>\n",
       "      <th>17535654</th>\n",
       "      <td>sep 20, 2008</td>\n",
       "      <td>40f5d9e4-2de7-4f2d-ad41-e31a9a9fea27</td>\n",
       "      <td>the smiths</td>\n",
       "      <td>10</td>\n",
       "      <td>None</td>\n",
       "    </tr>\n",
       "  </tbody>\n",
       "</table>\n",
       "<p>17535655 rows × 5 columns</p>\n",
       "</div>"
      ],
      "text/plain": [
       "                                           user_id  \\\n",
       "0         00000c289a1829a808ac09c00daf10bc3c4e223b   \n",
       "1         00000c289a1829a808ac09c00daf10bc3c4e223b   \n",
       "2         00000c289a1829a808ac09c00daf10bc3c4e223b   \n",
       "3         00000c289a1829a808ac09c00daf10bc3c4e223b   \n",
       "4         00000c289a1829a808ac09c00daf10bc3c4e223b   \n",
       "...                                            ...   \n",
       "17535650                              sep 20, 2008   \n",
       "17535651                              sep 20, 2008   \n",
       "17535652                              sep 20, 2008   \n",
       "17535653                              sep 20, 2008   \n",
       "17535654                              sep 20, 2008   \n",
       "\n",
       "                                     artist_id           artist-name  plays  \\\n",
       "0         3bd73256-3905-4f3a-97e2-8b341527f805       betty blowtorch   2137   \n",
       "1         f2fb0ff0-5679-42ec-a55c-15109ce6e320             die Ärzte   1099   \n",
       "2         b3ae82c2-e60b-4551-a76d-6620f1b456aa     melissa etheridge    897   \n",
       "3         3d6bbeb7-f90e-4d10-b440-e153c0d10b53             elvenking    717   \n",
       "4         bbd2ffd7-17f4-4506-8572-c1ea58c3f9a8  juliette & the licks    706   \n",
       "...                                        ...                   ...    ...   \n",
       "17535650  7ffd711a-b34d-4739-8aab-25e045c246da            turbostaat     12   \n",
       "17535651  9201190d-409f-426b-9339-9bd7492443e2         cuba missouri     11   \n",
       "17535652  e7cf7ff9-ed2f-4315-aca8-bcbd3b2bfa71       little man tate     11   \n",
       "17535653  f6f2326f-6b25-4170-b89d-e235b25508e8             sigur rós     10   \n",
       "17535654  40f5d9e4-2de7-4f2d-ad41-e31a9a9fea27            the smiths     10   \n",
       "\n",
       "         artist_gender  \n",
       "0                 None  \n",
       "1                 None  \n",
       "2               Female  \n",
       "3                 None  \n",
       "4                 None  \n",
       "...                ...  \n",
       "17535650          None  \n",
       "17535651          None  \n",
       "17535652          None  \n",
       "17535653          None  \n",
       "17535654          None  \n",
       "\n",
       "[17535655 rows x 5 columns]"
      ]
     },
     "execution_count": 68,
     "metadata": {},
     "output_type": "execute_result"
    }
   ],
   "source": [
    "plays"
   ]
  },
  {
   "cell_type": "code",
   "execution_count": 52,
   "metadata": {},
   "outputs": [],
   "source": [
    "user_activity = valid_plays.groupby(\"user_id\")[\"plays\"].sum().sort_values(ascending=False)"
   ]
  },
  {
   "cell_type": "code",
   "execution_count": 56,
   "metadata": {},
   "outputs": [
    {
     "data": {
      "text/plain": [
       "<AxesSubplot:>"
      ]
     },
     "execution_count": 56,
     "metadata": {},
     "output_type": "execute_result"
    },
    {
     "data": {
      "image/png": "[encoded data removed]",
      "text/plain": [
       "<Figure size 432x288 with 1 Axes>"
      ]
     },
     "metadata": {
      "needs_background": "light"
     },
     "output_type": "display_data"
    }
   ],
   "source": [
    "sns.lineplot(data=user_activity[:1000].values)"
   ]
  },
  {
   "cell_type": "code",
   "execution_count": 55,
   "metadata": {},
   "outputs": [
    {
     "data": {
      "text/plain": [
       "<AxesSubplot:>"
      ]
     },
     "execution_count": 55,
     "metadata": {},
     "output_type": "execute_result"
    },
    {
     "data": {
      "image/png": "[encoded data removed]",
      "text/plain": [
       "<Figure size 432x288 with 1 Axes>"
      ]
     },
     "metadata": {
      "needs_background": "light"
     },
     "output_type": "display_data"
    }
   ],
   "source": [
    "sns.lineplot(data=user_activity[1000:10000].values)"
   ]
  },
  {
   "cell_type": "code",
   "execution_count": 75,
   "metadata": {},
   "outputs": [
    {
     "data": {
      "text/plain": [
       "count    1.753566e+07\n",
       "mean     2.151932e+02\n",
       "std      6.144815e+02\n",
       "min      0.000000e+00\n",
       "25%      3.500000e+01\n",
       "50%      9.400000e+01\n",
       "75%      2.240000e+02\n",
       "max      4.191570e+05\n",
       "Name: plays, dtype: float64"
      ]
     },
     "execution_count": 75,
     "metadata": {},
     "output_type": "execute_result"
    }
   ],
   "source": [
    "plays[\"plays\"].describe()"
   ]
  },
  {
   "cell_type": "code",
   "execution_count": 74,
   "metadata": {},
   "outputs": [
    {
     "data": {
      "text/plain": [
       "<AxesSubplot:xlabel='plays', ylabel='Count'>"
      ]
     },
     "execution_count": 74,
     "metadata": {},
     "output_type": "execute_result"
    },
    {
     "data": {
      "image/png": "[encoded data removed]",
      "text/plain": [
       "<Figure size 432x288 with 1 Axes>"
      ]
     },
     "metadata": {
      "needs_background": "light"
     },
     "output_type": "display_data"
    }
   ],
   "source": [
    "sns.histplot(data=plays, x=\"plays\", bins=100)"
   ]
  },
  {
   "cell_type": "code",
   "execution_count": 78,
   "metadata": {},
   "outputs": [],
   "source": [
    "quant99 = plays[\"plays\"].quantile(0.99)"
   ]
  },
  {
   "cell_type": "code",
   "execution_count": 79,
   "metadata": {},
   "outputs": [
    {
     "data": {
      "text/plain": [
       "<AxesSubplot:xlabel='plays', ylabel='Count'>"
      ]
     },
     "execution_count": 79,
     "metadata": {},
     "output_type": "execute_result"
    },
    {
     "data": {
      "image/png": "[encoded data removed]",
      "text/plain": [
       "<Figure size 432x288 with 1 Axes>"
      ]
     },
     "metadata": {
      "needs_background": "light"
     },
     "output_type": "display_data"
    }
   ],
   "source": [
    "sns.histplot(data=plays[plays[\"plays\"] < quant99], x=\"plays\", bins=100)"
   ]
  },
  {
   "cell_type": "code",
   "execution_count": 80,
   "metadata": {},
   "outputs": [
    {
     "data": {
      "text/plain": [
       "<AxesSubplot:xlabel='plays', ylabel='Count'>"
      ]
     },
     "execution_count": 80,
     "metadata": {},
     "output_type": "execute_result"
    },
    {
     "data": {
      "image/png": "[encoded data removed]",
      "text/plain": [
       "<Figure size 432x288 with 1 Axes>"
      ]
     },
     "metadata": {
      "needs_background": "light"
     },
     "output_type": "display_data"
    }
   ],
   "source": [
    "sns.histplot(data=plays[plays[\"plays\"] < quant99], x=\"plays\", bins=100, hue=\"artist_gender\")"
   ]
  },
  {
   "cell_type": "code",
   "execution_count": 85,
   "metadata": {},
   "outputs": [
    {
     "data": {
      "text/html": [
       "<div>\n",
       "<style scoped>\n",
       "    .dataframe tbody tr th:only-of-type {\n",
       "        vertical-align: middle;\n",
       "    }\n",
       "\n",
       "    .dataframe tbody tr th {\n",
       "        vertical-align: top;\n",
       "    }\n",
       "\n",
       "    .dataframe thead th {\n",
       "        text-align: right;\n",
       "    }\n",
       "</style>\n",
       "<table border=\"1\" class=\"dataframe\">\n",
       "  <thead>\n",
       "    <tr style=\"text-align: right;\">\n",
       "      <th></th>\n",
       "      <th>user_id</th>\n",
       "      <th>gender</th>\n",
       "      <th>age</th>\n",
       "      <th>country</th>\n",
       "      <th>date_of_signup</th>\n",
       "      <th>unrealistic_age</th>\n",
       "      <th>year_of_signup</th>\n",
       "    </tr>\n",
       "  </thead>\n",
       "  <tbody>\n",
       "    <tr>\n",
       "      <th>0</th>\n",
       "      <td>00000c289a1829a808ac09c00daf10bc3c4e223b</td>\n",
       "      <td>f</td>\n",
       "      <td>22.0</td>\n",
       "      <td>Germany</td>\n",
       "      <td>Feb 1, 2007</td>\n",
       "      <td>False</td>\n",
       "      <td>2007</td>\n",
       "    </tr>\n",
       "    <tr>\n",
       "      <th>1</th>\n",
       "      <td>00001411dc427966b17297bf4d69e7e193135d89</td>\n",
       "      <td>f</td>\n",
       "      <td>NaN</td>\n",
       "      <td>Canada</td>\n",
       "      <td>Dec 4, 2007</td>\n",
       "      <td>False</td>\n",
       "      <td>2007</td>\n",
       "    </tr>\n",
       "    <tr>\n",
       "      <th>2</th>\n",
       "      <td>00004d2ac9316e22dc007ab2243d6fcb239e707d</td>\n",
       "      <td>NaN</td>\n",
       "      <td>NaN</td>\n",
       "      <td>Germany</td>\n",
       "      <td>Sep 1, 2006</td>\n",
       "      <td>False</td>\n",
       "      <td>2006</td>\n",
       "    </tr>\n",
       "    <tr>\n",
       "      <th>3</th>\n",
       "      <td>000063d3fe1cf2ba248b9e3c3f0334845a27a6bf</td>\n",
       "      <td>m</td>\n",
       "      <td>19.0</td>\n",
       "      <td>Mexico</td>\n",
       "      <td>Apr 28, 2008</td>\n",
       "      <td>False</td>\n",
       "      <td>2008</td>\n",
       "    </tr>\n",
       "    <tr>\n",
       "      <th>4</th>\n",
       "      <td>00007a47085b9aab8af55f52ec8846ac479ac4fe</td>\n",
       "      <td>m</td>\n",
       "      <td>28.0</td>\n",
       "      <td>United States</td>\n",
       "      <td>Jan 27, 2006</td>\n",
       "      <td>False</td>\n",
       "      <td>2006</td>\n",
       "    </tr>\n",
       "    <tr>\n",
       "      <th>...</th>\n",
       "      <td>...</td>\n",
       "      <td>...</td>\n",
       "      <td>...</td>\n",
       "      <td>...</td>\n",
       "      <td>...</td>\n",
       "      <td>...</td>\n",
       "      <td>...</td>\n",
       "    </tr>\n",
       "    <tr>\n",
       "      <th>359342</th>\n",
       "      <td>fffe7823f67b433b45f22056467db921c1d3d7d0</td>\n",
       "      <td>m</td>\n",
       "      <td>25.0</td>\n",
       "      <td>Germany</td>\n",
       "      <td>Jun 24, 2006</td>\n",
       "      <td>False</td>\n",
       "      <td>2006</td>\n",
       "    </tr>\n",
       "    <tr>\n",
       "      <th>359343</th>\n",
       "      <td>fffe8637bd8234309e871409c7ebef99a720afc1</td>\n",
       "      <td>m</td>\n",
       "      <td>25.0</td>\n",
       "      <td>Brazil</td>\n",
       "      <td>Sep 9, 2007</td>\n",
       "      <td>False</td>\n",
       "      <td>2007</td>\n",
       "    </tr>\n",
       "    <tr>\n",
       "      <th>359344</th>\n",
       "      <td>fffe8c7f952d9b960a56ed4dcb40a415d924b224</td>\n",
       "      <td>m</td>\n",
       "      <td>20.0</td>\n",
       "      <td>United States</td>\n",
       "      <td>Aug 8, 2007</td>\n",
       "      <td>False</td>\n",
       "      <td>2007</td>\n",
       "    </tr>\n",
       "    <tr>\n",
       "      <th>359345</th>\n",
       "      <td>ffff9af9ae04d263dae91cb838b1f3a6725f5ffb</td>\n",
       "      <td>m</td>\n",
       "      <td>20.0</td>\n",
       "      <td>Russian Federation</td>\n",
       "      <td>Dec 3, 2005</td>\n",
       "      <td>False</td>\n",
       "      <td>2005</td>\n",
       "    </tr>\n",
       "    <tr>\n",
       "      <th>359346</th>\n",
       "      <td>ffff9ef87a7d9494ada2f9ade4b9ff637c0759ac</td>\n",
       "      <td>m</td>\n",
       "      <td>21.0</td>\n",
       "      <td>Belgium</td>\n",
       "      <td>Nov 25, 2008</td>\n",
       "      <td>False</td>\n",
       "      <td>2008</td>\n",
       "    </tr>\n",
       "  </tbody>\n",
       "</table>\n",
       "<p>359347 rows × 7 columns</p>\n",
       "</div>"
      ],
      "text/plain": [
       "                                         user_id gender   age  \\\n",
       "0       00000c289a1829a808ac09c00daf10bc3c4e223b      f  22.0   \n",
       "1       00001411dc427966b17297bf4d69e7e193135d89      f   NaN   \n",
       "2       00004d2ac9316e22dc007ab2243d6fcb239e707d    NaN   NaN   \n",
       "3       000063d3fe1cf2ba248b9e3c3f0334845a27a6bf      m  19.0   \n",
       "4       00007a47085b9aab8af55f52ec8846ac479ac4fe      m  28.0   \n",
       "...                                          ...    ...   ...   \n",
       "359342  fffe7823f67b433b45f22056467db921c1d3d7d0      m  25.0   \n",
       "359343  fffe8637bd8234309e871409c7ebef99a720afc1      m  25.0   \n",
       "359344  fffe8c7f952d9b960a56ed4dcb40a415d924b224      m  20.0   \n",
       "359345  ffff9af9ae04d263dae91cb838b1f3a6725f5ffb      m  20.0   \n",
       "359346  ffff9ef87a7d9494ada2f9ade4b9ff637c0759ac      m  21.0   \n",
       "\n",
       "                   country date_of_signup  unrealistic_age year_of_signup  \n",
       "0                  Germany    Feb 1, 2007            False           2007  \n",
       "1                   Canada    Dec 4, 2007            False           2007  \n",
       "2                  Germany    Sep 1, 2006            False           2006  \n",
       "3                   Mexico   Apr 28, 2008            False           2008  \n",
       "4            United States   Jan 27, 2006            False           2006  \n",
       "...                    ...            ...              ...            ...  \n",
       "359342             Germany   Jun 24, 2006            False           2006  \n",
       "359343              Brazil    Sep 9, 2007            False           2007  \n",
       "359344       United States    Aug 8, 2007            False           2007  \n",
       "359345  Russian Federation    Dec 3, 2005            False           2005  \n",
       "359346             Belgium   Nov 25, 2008            False           2008  \n",
       "\n",
       "[359347 rows x 7 columns]"
      ]
     },
     "execution_count": 85,
     "metadata": {},
     "output_type": "execute_result"
    }
   ],
   "source": [
    "user_profiles"
   ]
  },
  {
   "cell_type": "code",
   "execution_count": 89,
   "metadata": {},
   "outputs": [],
   "source": [
    "selected_users = user_profiles[\n",
    "    (user_profiles[\"age\"] > 0) &\n",
    "    (user_profiles[\"age\"] < 100) &\n",
    "    (user_profiles[\"country\"].isin([\"United States\", \"Germany\", \"United Kingdom\", \"Poland\", \"Russian Federation\"]))\n",
    "]"
   ]
  },
  {
   "cell_type": "code",
   "execution_count": 90,
   "metadata": {},
   "outputs": [
    {
     "data": {
      "text/plain": [
       "<AxesSubplot:xlabel='age', ylabel='country'>"
      ]
     },
     "execution_count": 90,
     "metadata": {},
     "output_type": "execute_result"
    },
    {
     "data": {
      "image/png": "[encoded data removed]",
      "text/plain": [
       "<Figure size 432x288 with 1 Axes>"
      ]
     },
     "metadata": {
      "needs_background": "light"
     },
     "output_type": "display_data"
    }
   ],
   "source": [
    "sns.scatterplot(data=selected_users, x=\"age\", y=\"country\")"
   ]
  },
  {
   "cell_type": "code",
   "execution_count": 92,
   "metadata": {},
   "outputs": [],
   "source": [
    "merged_df = pd.merge(plays, user_profiles, on=\"user_id\")"
   ]
  },
  {
   "cell_type": "code",
   "execution_count": 95,
   "metadata": {},
   "outputs": [],
   "source": [
    "most_popular_artist_by_country = merged_df.groupby([\"country\"])[\"artist-name\"].agg(pd.Series.mode)"
   ]
  },
  {
   "cell_type": "code",
   "execution_count": 102,
   "metadata": {},
   "outputs": [
    {
     "data": {
      "text/plain": [
       "country\n",
       "Afghanistan                                                  radiohead\n",
       "Albania                                                      metallica\n",
       "Algeria                                           [[unknown], rihanna]\n",
       "American Samoa                                               radiohead\n",
       "Andorra                                                     obrint pas\n",
       "                                           ...                        \n",
       "Wallis and Futuna                                          the beatles\n",
       "Western Sahara                                               radiohead\n",
       "Yemen                                                 system of a down\n",
       "Zambia               [bob dylan, bob marley & the wailers, coldplay...\n",
       "Zimbabwe                                                      coldplay\n",
       "Name: artist-name, Length: 239, dtype: object"
      ]
     },
     "execution_count": 102,
     "metadata": {},
     "output_type": "execute_result"
    }
   ],
   "source": [
    "most_popular_artist_by_country"
   ]
  },
  {
   "cell_type": "code",
   "execution_count": 110,
   "metadata": {},
   "outputs": [
    {
     "data": {
      "text/plain": [
       "country\n",
       "Uruguay                   the beatles\n",
       "Belgium                     radiohead\n",
       "United States             the beatles\n",
       "Nigeria                          akon\n",
       "Netherlands                  coldplay\n",
       "Japan                     the beatles\n",
       "Philippines               eraserheads\n",
       "Canada                      radiohead\n",
       "Spain                        coldplay\n",
       "France                      radiohead\n",
       "Germany                     die Ärzte\n",
       "Morocco                      coldplay\n",
       "Algeria          [[unknown], rihanna]\n",
       "Name: artist-name, dtype: object"
      ]
     },
     "execution_count": 110,
     "metadata": {},
     "output_type": "execute_result"
    }
   ],
   "source": [
    "most_popular_artist_by_country[\n",
    "    [\"Uruguay\", \"Belgium\", \"United States\", \"Nigeria\", \"Netherlands\", \"Japan\", \n",
    "    \"Philippines\", \"Canada\", \"Spain\", \"France\", \"Germany\", \"Morocco\", \"Algeria\"]\n",
    "    ]"
   ]
  },
  {
   "cell_type": "code",
   "execution_count": null,
   "metadata": {},
   "outputs": [],
   "source": []
  }
 ],
 "metadata": {
  "kernelspec": {
   "display_name": "Python 3.9.10 ('recpack')",
   "language": "python",
   "name": "python3"
  },
  "language_info": {
   "codemirror_mode": {
    "name": "ipython",
    "version": 3
   },
   "file_extension": ".py",
   "mimetype": "text/x-python",
   "name": "python",
   "nbconvert_exporter": "python",
   "pygments_lexer": "ipython3",
   "version": "3.9.10"
  },
  "orig_nbformat": 4,
  "vscode": {
   "interpreter": {
    "hash": "a5df50660a97b5af7363c5236e5c65c0e4e723f1de24d1339fa95aedc27d2d41"
   }
  }
 },
 "nbformat": 4,
 "nbformat_minor": 2
}
