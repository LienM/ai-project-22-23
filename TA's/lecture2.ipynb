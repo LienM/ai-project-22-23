{
 "cells": [
  {
   "cell_type": "markdown",
   "metadata": {},
   "source": [
    "# Lecture 2: Introduction to Feature Engineering"
   ]
  },
  {
   "cell_type": "markdown",
   "metadata": {},
   "source": [
    "## Setup"
   ]
  },
  {
   "cell_type": "code",
   "execution_count": 228,
   "metadata": {
    "pycharm": {
     "is_executing": true
    }
   },
   "outputs": [],
   "source": [
    "import numpy as np \n",
    "import pandas as pd\n",
    "import random\n",
    "from random import choices\n",
    "from sklearn.linear_model import LogisticRegression\n",
    "from sklearn.model_selection import train_test_split\n",
    "from sklearn.metrics import classification_report\n",
    "from sklearn import preprocessing"
   ]
  },
  {
   "cell_type": "code",
   "execution_count": 229,
   "metadata": {
    "pycharm": {
     "is_executing": true
    }
   },
   "outputs": [],
   "source": [
    "articles = pd.read_csv('../data/articles.csv')\n",
    "customers = pd.read_csv('../data/customers.csv')\n",
    "sample_submisison = pd.read_csv('../data/sample_submission.csv')\n",
    "transactions = pd.read_csv('../data/transactions_train.csv')"
   ]
  },
  {
   "cell_type": "markdown",
   "metadata": {},
   "source": [
    "## The H&M Dataset"
   ]
  },
  {
   "cell_type": "code",
   "execution_count": 4,
   "metadata": {
    "pycharm": {
     "is_executing": true
    }
   },
   "outputs": [
    {
     "name": "stdout",
     "output_type": "stream",
     "text": [
      "<class 'pandas.core.frame.DataFrame'>\n",
      "RangeIndex: 105542 entries, 0 to 105541\n",
      "Data columns (total 25 columns):\n",
      " #   Column                        Non-Null Count   Dtype \n",
      "---  ------                        --------------   ----- \n",
      " 0   article_id                    105542 non-null  int64 \n",
      " 1   product_code                  105542 non-null  int64 \n",
      " 2   prod_name                     105542 non-null  object\n",
      " 3   product_type_no               105542 non-null  int64 \n",
      " 4   product_type_name             105542 non-null  object\n",
      " 5   product_group_name            105542 non-null  object\n",
      " 6   graphical_appearance_no       105542 non-null  int64 \n",
      " 7   graphical_appearance_name     105542 non-null  object\n",
      " 8   colour_group_code             105542 non-null  int64 \n",
      " 9   colour_group_name             105542 non-null  object\n",
      " 10  perceived_colour_value_id     105542 non-null  int64 \n",
      " 11  perceived_colour_value_name   105542 non-null  object\n",
      " 12  perceived_colour_master_id    105542 non-null  int64 \n",
      " 13  perceived_colour_master_name  105542 non-null  object\n",
      " 14  department_no                 105542 non-null  int64 \n",
      " 15  department_name               105542 non-null  object\n",
      " 16  index_code                    105542 non-null  object\n",
      " 17  index_name                    105542 non-null  object\n",
      " 18  index_group_no                105542 non-null  int64 \n",
      " 19  index_group_name              105542 non-null  object\n",
      " 20  section_no                    105542 non-null  int64 \n",
      " 21  section_name                  105542 non-null  object\n",
      " 22  garment_group_no              105542 non-null  int64 \n",
      " 23  garment_group_name            105542 non-null  object\n",
      " 24  detail_desc                   105126 non-null  object\n",
      "dtypes: int64(11), object(14)\n",
      "memory usage: 20.1+ MB\n"
     ]
    }
   ],
   "source": [
    "articles.info()"
   ]
  },
  {
   "cell_type": "code",
   "execution_count": 5,
   "metadata": {
    "pycharm": {
     "is_executing": true
    }
   },
   "outputs": [
    {
     "name": "stdout",
     "output_type": "stream",
     "text": [
      "<class 'pandas.core.frame.DataFrame'>\n",
      "RangeIndex: 1371980 entries, 0 to 1371979\n",
      "Data columns (total 7 columns):\n",
      " #   Column                  Non-Null Count    Dtype  \n",
      "---  ------                  --------------    -----  \n",
      " 0   customer_id             1371980 non-null  object \n",
      " 1   FN                      476930 non-null   float64\n",
      " 2   Active                  464404 non-null   float64\n",
      " 3   club_member_status      1365918 non-null  object \n",
      " 4   fashion_news_frequency  1355971 non-null  object \n",
      " 5   age                     1356119 non-null  float64\n",
      " 6   postal_code             1371980 non-null  object \n",
      "dtypes: float64(3), object(4)\n",
      "memory usage: 73.3+ MB\n"
     ]
    }
   ],
   "source": [
    "customers.info()"
   ]
  },
  {
   "cell_type": "code",
   "execution_count": 6,
   "metadata": {
    "pycharm": {
     "is_executing": true
    }
   },
   "outputs": [
    {
     "name": "stdout",
     "output_type": "stream",
     "text": [
      "<class 'pandas.core.frame.DataFrame'>\n",
      "RangeIndex: 31788324 entries, 0 to 31788323\n",
      "Data columns (total 5 columns):\n",
      " #   Column            Dtype  \n",
      "---  ------            -----  \n",
      " 0   t_dat             object \n",
      " 1   customer_id       object \n",
      " 2   article_id        int64  \n",
      " 3   price             float64\n",
      " 4   sales_channel_id  int64  \n",
      "dtypes: float64(1), int64(2), object(2)\n",
      "memory usage: 1.2+ GB\n"
     ]
    }
   ],
   "source": [
    "transactions.info()"
   ]
  },
  {
   "cell_type": "code",
   "execution_count": 7,
   "metadata": {
    "pycharm": {
     "is_executing": true
    }
   },
   "outputs": [],
   "source": [
    "X = transactions.merge(customers, how='inner', on='customer_id')\n",
    "X = X.merge(articles, how='inner', on='article_id')"
   ]
  },
  {
   "cell_type": "markdown",
   "metadata": {},
   "source": [
    "### Creating Samples \n",
    "If you would rather work with samples instead of the whole dataset (while prototyping your code). You can use the code below:"
   ]
  },
  {
   "cell_type": "code",
   "execution_count": 9,
   "metadata": {
    "pycharm": {
     "is_executing": true
    }
   },
   "outputs": [
    {
     "name": "stdout",
     "output_type": "stream",
     "text": [
      "0.001\n",
      "0.01\n",
      "0.05\n"
     ]
    }
   ],
   "source": [
    "# Adapted from: https://www.kaggle.com/code/paweljankiewicz/hm-create-dataset-samples\n",
    "for sample_repr, sample in [(\"01\", 0.001), (\"1\", 0.01), (\"5\", 0.05)]:\n",
    "    print(sample)\n",
    "    customers_sample = customers.sample(int(customers.shape[0]*sample), replace=False)\n",
    "    customers_sample_ids = set(customers_sample[\"customer_id\"])\n",
    "    transactions_sample = transactions[transactions[\"customer_id\"].isin(customers_sample_ids)]\n",
    "    articles_sample_ids = set(transactions_sample[\"article_id\"])\n",
    "    articles_sample = articles[articles[\"article_id\"].isin(articles_sample_ids)]\n",
    "    customers_sample.to_csv(f\"../data/customers_sample{sample_repr}.csv.gz\", index=False)\n",
    "    transactions_sample.to_csv(f\"../data/transactions_sample{sample_repr}.csv.gz\", index=False)\n",
    "    articles_sample.to_csv(f\"../data/articles_sample{sample_repr}.csv.gz\", index=False)"
   ]
  },
  {
   "cell_type": "code",
   "execution_count": 10,
   "metadata": {
    "pycharm": {
     "is_executing": true
    }
   },
   "outputs": [],
   "source": [
    "articles_sample = pd.read_csv('../data/articles_sample01.csv.gz')\n",
    "customers_sample = pd.read_csv('../data/customers_sample01.csv.gz')\n",
    "transactions_sample = pd.read_csv('../data/transactions_sample01.csv.gz')"
   ]
  },
  {
   "cell_type": "code",
   "execution_count": 11,
   "metadata": {
    "pycharm": {
     "is_executing": true
    }
   },
   "outputs": [
    {
     "name": "stdout",
     "output_type": "stream",
     "text": [
      "<class 'pandas.core.frame.DataFrame'>\n",
      "RangeIndex: 1371 entries, 0 to 1370\n",
      "Data columns (total 7 columns):\n",
      " #   Column                  Non-Null Count  Dtype  \n",
      "---  ------                  --------------  -----  \n",
      " 0   customer_id             1371 non-null   object \n",
      " 1   FN                      471 non-null    float64\n",
      " 2   Active                  454 non-null    float64\n",
      " 3   club_member_status      1366 non-null   object \n",
      " 4   fashion_news_frequency  1350 non-null   object \n",
      " 5   age                     1360 non-null   float64\n",
      " 6   postal_code             1371 non-null   object \n",
      "dtypes: float64(3), object(4)\n",
      "memory usage: 75.1+ KB\n"
     ]
    }
   ],
   "source": [
    "customers_sample.info()"
   ]
  },
  {
   "cell_type": "code",
   "execution_count": 12,
   "metadata": {
    "pycharm": {
     "is_executing": true
    }
   },
   "outputs": [
    {
     "name": "stdout",
     "output_type": "stream",
     "text": [
      "<class 'pandas.core.frame.DataFrame'>\n",
      "RangeIndex: 30285 entries, 0 to 30284\n",
      "Data columns (total 6 columns):\n",
      " #   Column            Non-Null Count  Dtype  \n",
      "---  ------            --------------  -----  \n",
      " 0   t_dat             30285 non-null  object \n",
      " 1   customer_id       30285 non-null  object \n",
      " 2   article_id        30285 non-null  int64  \n",
      " 3   price             30285 non-null  float64\n",
      " 4   sales_channel_id  30285 non-null  int64  \n",
      " 5   Ordered           30285 non-null  int64  \n",
      "dtypes: float64(1), int64(3), object(2)\n",
      "memory usage: 1.4+ MB\n"
     ]
    }
   ],
   "source": [
    "transactions_sample.info()"
   ]
  },
  {
   "cell_type": "markdown",
   "metadata": {},
   "source": [
    "## A Simplified Task: Binary Classification\n",
    "\n",
    "In this assignment, we'll consider a simplified task: predict whether a user ordered an item or not. We provide a baseline logistic regression model below, but haven't done much feature preprocessing or engineering!"
   ]
  },
  {
   "cell_type": "markdown",
   "metadata": {},
   "source": [
    "### Creating the Dataset"
   ]
  },
  {
   "cell_type": "code",
   "execution_count": 230,
   "metadata": {
    "pycharm": {
     "is_executing": true
    }
   },
   "outputs": [],
   "source": [
    "# If you'd rather use a sample. Uncomment the following code:\n",
    "# transactions = transactions_sample\n",
    "# customers = customers_sample\n",
    "# articles = articles_sample"
   ]
  },
  {
   "cell_type": "code",
   "execution_count": 231,
   "metadata": {},
   "outputs": [],
   "source": [
    "transactions['Ordered'] = 1"
   ]
  },
  {
   "cell_type": "code",
   "execution_count": 232,
   "metadata": {
    "pycharm": {
     "is_executing": true
    }
   },
   "outputs": [],
   "source": [
    "# What's happening here? \n",
    "# We're creating negative samples. I.e. we're creating transactions that didn't actually occur.\n",
    "# Get real article transactions:\n",
    "transaction_articles = transactions.drop(labels=['t_dat','customer_id', 'Ordered', 'sales_channel_id'], axis=1)\n",
    "transaction_articles = transaction_articles.drop_duplicates(subset=['article_id'])\n",
    "transaction_articles.head()\n",
    "# Sampling random users, articles and sales channel:\n",
    "random.seed(42)\n",
    "customer_ids = customers['customer_id'].unique().tolist()\n",
    "rand_customers = choices(customer_ids, k=len(transactions))\n",
    "article_ids = articles['article_id'].unique().tolist()\n",
    "rand_articles = choices(article_ids, k=len(transactions))\n",
    "rand_channels = choices([1, 2], k=len(transactions))\n",
    "# Inserting the random users, articles and channels in a transactions_rand dataframe\n",
    "transactions_rand = transactions.copy()\n",
    "transactions_rand.drop(['price'], axis=1, inplace=True)\n",
    "transactions_rand['customer_id'] = rand_customers \n",
    "transactions_rand['article_id'] = rand_articles\n",
    "transactions_rand['sales_channel_id'] = rand_channels\n",
    "# Merge the random users with actual pricing from random articles, takes a while to run (merging 38M with 3.8M rows):\n",
    "transactions_rand = transactions_rand.merge(transaction_articles, on='article_id', how='left')\n",
    "transactions_rand['Ordered'] = 0"
   ]
  },
  {
   "cell_type": "code",
   "execution_count": 233,
   "metadata": {},
   "outputs": [
    {
     "data": {
      "text/html": [
       "<div>\n",
       "<style scoped>\n",
       "    .dataframe tbody tr th:only-of-type {\n",
       "        vertical-align: middle;\n",
       "    }\n",
       "\n",
       "    .dataframe tbody tr th {\n",
       "        vertical-align: top;\n",
       "    }\n",
       "\n",
       "    .dataframe thead th {\n",
       "        text-align: right;\n",
       "    }\n",
       "</style>\n",
       "<table border=\"1\" class=\"dataframe\">\n",
       "  <thead>\n",
       "    <tr style=\"text-align: right;\">\n",
       "      <th></th>\n",
       "      <th>t_dat</th>\n",
       "      <th>customer_id</th>\n",
       "      <th>article_id</th>\n",
       "      <th>sales_channel_id</th>\n",
       "      <th>Ordered</th>\n",
       "      <th>price</th>\n",
       "    </tr>\n",
       "  </thead>\n",
       "  <tbody>\n",
       "    <tr>\n",
       "      <th>0</th>\n",
       "      <td>2018-09-20</td>\n",
       "      <td>a3be039dc4d68548eb226632e04f0e416a506cf8f093d2...</td>\n",
       "      <td>625877003</td>\n",
       "      <td>2</td>\n",
       "      <td>0</td>\n",
       "      <td>0.026627</td>\n",
       "    </tr>\n",
       "    <tr>\n",
       "      <th>1</th>\n",
       "      <td>2018-09-20</td>\n",
       "      <td>06700bc2885980aab8135d9361ebd92fc20611302cfcc5...</td>\n",
       "      <td>658223002</td>\n",
       "      <td>2</td>\n",
       "      <td>0</td>\n",
       "      <td>0.033881</td>\n",
       "    </tr>\n",
       "    <tr>\n",
       "      <th>2</th>\n",
       "      <td>2018-09-20</td>\n",
       "      <td>46912c337e710d870acbc985206d0240f1796aa7b9f987...</td>\n",
       "      <td>715247001</td>\n",
       "      <td>2</td>\n",
       "      <td>0</td>\n",
       "      <td>0.020322</td>\n",
       "    </tr>\n",
       "    <tr>\n",
       "      <th>3</th>\n",
       "      <td>2018-09-20</td>\n",
       "      <td>393a0770d70bbfc1306fd8aaa01639226e326f439b96f7...</td>\n",
       "      <td>516000071</td>\n",
       "      <td>1</td>\n",
       "      <td>0</td>\n",
       "      <td>0.016932</td>\n",
       "    </tr>\n",
       "    <tr>\n",
       "      <th>4</th>\n",
       "      <td>2018-09-20</td>\n",
       "      <td>bc8df8bd2c22d849460e2a8b287b93b796b4d0c2094f31...</td>\n",
       "      <td>889319001</td>\n",
       "      <td>2</td>\n",
       "      <td>0</td>\n",
       "      <td>0.050831</td>\n",
       "    </tr>\n",
       "  </tbody>\n",
       "</table>\n",
       "</div>"
      ],
      "text/plain": [
       "        t_dat                                        customer_id  article_id  \\\n",
       "0  2018-09-20  a3be039dc4d68548eb226632e04f0e416a506cf8f093d2...   625877003   \n",
       "1  2018-09-20  06700bc2885980aab8135d9361ebd92fc20611302cfcc5...   658223002   \n",
       "2  2018-09-20  46912c337e710d870acbc985206d0240f1796aa7b9f987...   715247001   \n",
       "3  2018-09-20  393a0770d70bbfc1306fd8aaa01639226e326f439b96f7...   516000071   \n",
       "4  2018-09-20  bc8df8bd2c22d849460e2a8b287b93b796b4d0c2094f31...   889319001   \n",
       "\n",
       "   sales_channel_id  Ordered     price  \n",
       "0                 2        0  0.026627  \n",
       "1                 2        0  0.033881  \n",
       "2                 2        0  0.020322  \n",
       "3                 1        0  0.016932  \n",
       "4                 2        0  0.050831  "
      ]
     },
     "execution_count": 233,
     "metadata": {},
     "output_type": "execute_result"
    }
   ],
   "source": [
    "# Result:\n",
    "transactions_rand.head()"
   ]
  },
  {
   "cell_type": "code",
   "execution_count": 234,
   "metadata": {
    "pycharm": {
     "is_executing": true
    }
   },
   "outputs": [],
   "source": [
    "# Concat the negative samples to the positive samples:\n",
    "transactions = pd.concat([transactions, transactions_rand])\n",
    "transactions = transactions.merge(customers, how=\"inner\", on='customer_id')\n",
    "transactions = transactions.merge(articles, how=\"inner\", on='article_id')"
   ]
  },
  {
   "cell_type": "code",
   "execution_count": 235,
   "metadata": {},
   "outputs": [
    {
     "name": "stdout",
     "output_type": "stream",
     "text": [
      "<class 'pandas.core.frame.DataFrame'>\n",
      "Int64Index: 63576648 entries, 0 to 63576647\n",
      "Data columns (total 36 columns):\n",
      " #   Column                        Dtype  \n",
      "---  ------                        -----  \n",
      " 0   t_dat                         object \n",
      " 1   customer_id                   object \n",
      " 2   article_id                    int64  \n",
      " 3   price                         float64\n",
      " 4   sales_channel_id              int64  \n",
      " 5   Ordered                       int64  \n",
      " 6   FN                            float64\n",
      " 7   Active                        float64\n",
      " 8   club_member_status            object \n",
      " 9   fashion_news_frequency        object \n",
      " 10  age                           float64\n",
      " 11  postal_code                   object \n",
      " 12  product_code                  int64  \n",
      " 13  prod_name                     object \n",
      " 14  product_type_no               int64  \n",
      " 15  product_type_name             object \n",
      " 16  product_group_name            object \n",
      " 17  graphical_appearance_no       int64  \n",
      " 18  graphical_appearance_name     object \n",
      " 19  colour_group_code             int64  \n",
      " 20  colour_group_name             object \n",
      " 21  perceived_colour_value_id     int64  \n",
      " 22  perceived_colour_value_name   object \n",
      " 23  perceived_colour_master_id    int64  \n",
      " 24  perceived_colour_master_name  object \n",
      " 25  department_no                 int64  \n",
      " 26  department_name               object \n",
      " 27  index_code                    object \n",
      " 28  index_name                    object \n",
      " 29  index_group_no                int64  \n",
      " 30  index_group_name              object \n",
      " 31  section_no                    int64  \n",
      " 32  section_name                  object \n",
      " 33  garment_group_no              int64  \n",
      " 34  garment_group_name            object \n",
      " 35  detail_desc                   object \n",
      "dtypes: float64(4), int64(13), object(19)\n",
      "memory usage: 17.5+ GB\n"
     ]
    }
   ],
   "source": [
    "transactions.info()"
   ]
  },
  {
   "cell_type": "markdown",
   "metadata": {},
   "source": [
    "### Basic Preprocessing\n",
    "Some very basic preprocessing."
   ]
  },
  {
   "cell_type": "code",
   "execution_count": 236,
   "metadata": {},
   "outputs": [
    {
     "data": {
      "text/html": [
       "<div>\n",
       "<style scoped>\n",
       "    .dataframe tbody tr th:only-of-type {\n",
       "        vertical-align: middle;\n",
       "    }\n",
       "\n",
       "    .dataframe tbody tr th {\n",
       "        vertical-align: top;\n",
       "    }\n",
       "\n",
       "    .dataframe thead th {\n",
       "        text-align: right;\n",
       "    }\n",
       "</style>\n",
       "<table border=\"1\" class=\"dataframe\">\n",
       "  <thead>\n",
       "    <tr style=\"text-align: right;\">\n",
       "      <th></th>\n",
       "      <th>customer_id</th>\n",
       "      <th>age</th>\n",
       "      <th>article_id</th>\n",
       "      <th>sales_channel_id</th>\n",
       "      <th>price</th>\n",
       "      <th>Ordered</th>\n",
       "    </tr>\n",
       "  </thead>\n",
       "  <tbody>\n",
       "    <tr>\n",
       "      <th>0</th>\n",
       "      <td>000058a12d5b43e67d225668fa1f8d618c13dc232df0ca...</td>\n",
       "      <td>24.0</td>\n",
       "      <td>663713001</td>\n",
       "      <td>2</td>\n",
       "      <td>0.050831</td>\n",
       "      <td>1</td>\n",
       "    </tr>\n",
       "    <tr>\n",
       "      <th>1</th>\n",
       "      <td>000058a12d5b43e67d225668fa1f8d618c13dc232df0ca...</td>\n",
       "      <td>24.0</td>\n",
       "      <td>663713001</td>\n",
       "      <td>2</td>\n",
       "      <td>0.050831</td>\n",
       "      <td>1</td>\n",
       "    </tr>\n",
       "    <tr>\n",
       "      <th>2</th>\n",
       "      <td>1385e5f3a2d3dbd21237f91faf81254a6d96de31b07b0b...</td>\n",
       "      <td>25.0</td>\n",
       "      <td>663713001</td>\n",
       "      <td>2</td>\n",
       "      <td>0.050831</td>\n",
       "      <td>1</td>\n",
       "    </tr>\n",
       "    <tr>\n",
       "      <th>3</th>\n",
       "      <td>1385e5f3a2d3dbd21237f91faf81254a6d96de31b07b0b...</td>\n",
       "      <td>25.0</td>\n",
       "      <td>663713001</td>\n",
       "      <td>2</td>\n",
       "      <td>0.050831</td>\n",
       "      <td>1</td>\n",
       "    </tr>\n",
       "    <tr>\n",
       "      <th>4</th>\n",
       "      <td>217bd772e946a013afd4482a4faa7bd1949c1b4b9a0632...</td>\n",
       "      <td>35.0</td>\n",
       "      <td>663713001</td>\n",
       "      <td>2</td>\n",
       "      <td>0.050831</td>\n",
       "      <td>0</td>\n",
       "    </tr>\n",
       "  </tbody>\n",
       "</table>\n",
       "</div>"
      ],
      "text/plain": [
       "                                         customer_id   age  article_id  \\\n",
       "0  000058a12d5b43e67d225668fa1f8d618c13dc232df0ca...  24.0   663713001   \n",
       "1  000058a12d5b43e67d225668fa1f8d618c13dc232df0ca...  24.0   663713001   \n",
       "2  1385e5f3a2d3dbd21237f91faf81254a6d96de31b07b0b...  25.0   663713001   \n",
       "3  1385e5f3a2d3dbd21237f91faf81254a6d96de31b07b0b...  25.0   663713001   \n",
       "4  217bd772e946a013afd4482a4faa7bd1949c1b4b9a0632...  35.0   663713001   \n",
       "\n",
       "   sales_channel_id     price  Ordered  \n",
       "0                 2  0.050831        1  \n",
       "1                 2  0.050831        1  \n",
       "2                 2  0.050831        1  \n",
       "3                 2  0.050831        1  \n",
       "4                 2  0.050831        0  "
      ]
     },
     "execution_count": 236,
     "metadata": {},
     "output_type": "execute_result"
    }
   ],
   "source": [
    "# I'm dropping a lot of columns, use them in your engineering tasks!\n",
    "transactions_processed = transactions[['customer_id', 'age', 'article_id', 'sales_channel_id', 'price', 'Ordered']].copy()\n",
    "transactions_processed.head()"
   ]
  },
  {
   "cell_type": "code",
   "execution_count": 237,
   "metadata": {},
   "outputs": [],
   "source": [
    "# Does it make sense to label encode?\n",
    "# Label encoding the customer and article IDs:\n",
    "customer_encoder = preprocessing.LabelEncoder()\n",
    "article_encoder = preprocessing.LabelEncoder()"
   ]
  },
  {
   "cell_type": "code",
   "execution_count": 238,
   "metadata": {},
   "outputs": [],
   "source": [
    "transactions_processed['customer_id'] = customer_encoder.fit_transform(transactions_processed['customer_id'])\n",
    "transactions_processed['article_id'] = article_encoder.fit_transform(transactions_processed['article_id'])"
   ]
  },
  {
   "cell_type": "code",
   "execution_count": 239,
   "metadata": {},
   "outputs": [
    {
     "data": {
      "text/plain": [
       "array(['000058a12d5b43e67d225668fa1f8d618c13dc232df0cad8ffe7ad4a1091e318'],\n",
       "      dtype=object)"
      ]
     },
     "execution_count": 239,
     "metadata": {},
     "output_type": "execute_result"
    }
   ],
   "source": [
    "# If you want to go back to the original encoding:\n",
    "customer_encoder.inverse_transform([2])"
   ]
  },
  {
   "cell_type": "code",
   "execution_count": 240,
   "metadata": {},
   "outputs": [
    {
     "data": {
      "text/html": [
       "<div>\n",
       "<style scoped>\n",
       "    .dataframe tbody tr th:only-of-type {\n",
       "        vertical-align: middle;\n",
       "    }\n",
       "\n",
       "    .dataframe tbody tr th {\n",
       "        vertical-align: top;\n",
       "    }\n",
       "\n",
       "    .dataframe thead th {\n",
       "        text-align: right;\n",
       "    }\n",
       "</style>\n",
       "<table border=\"1\" class=\"dataframe\">\n",
       "  <thead>\n",
       "    <tr style=\"text-align: right;\">\n",
       "      <th></th>\n",
       "      <th>customer_id</th>\n",
       "      <th>age</th>\n",
       "      <th>article_id</th>\n",
       "      <th>sales_channel_id</th>\n",
       "      <th>price</th>\n",
       "      <th>Ordered</th>\n",
       "    </tr>\n",
       "  </thead>\n",
       "  <tbody>\n",
       "    <tr>\n",
       "      <th>0</th>\n",
       "      <td>2</td>\n",
       "      <td>24.0</td>\n",
       "      <td>40179</td>\n",
       "      <td>2</td>\n",
       "      <td>0.050831</td>\n",
       "      <td>1</td>\n",
       "    </tr>\n",
       "    <tr>\n",
       "      <th>1</th>\n",
       "      <td>2</td>\n",
       "      <td>24.0</td>\n",
       "      <td>40179</td>\n",
       "      <td>2</td>\n",
       "      <td>0.050831</td>\n",
       "      <td>1</td>\n",
       "    </tr>\n",
       "    <tr>\n",
       "      <th>2</th>\n",
       "      <td>104641</td>\n",
       "      <td>25.0</td>\n",
       "      <td>40179</td>\n",
       "      <td>2</td>\n",
       "      <td>0.050831</td>\n",
       "      <td>1</td>\n",
       "    </tr>\n",
       "    <tr>\n",
       "      <th>3</th>\n",
       "      <td>104641</td>\n",
       "      <td>25.0</td>\n",
       "      <td>40179</td>\n",
       "      <td>2</td>\n",
       "      <td>0.050831</td>\n",
       "      <td>1</td>\n",
       "    </tr>\n",
       "    <tr>\n",
       "      <th>4</th>\n",
       "      <td>179831</td>\n",
       "      <td>35.0</td>\n",
       "      <td>40179</td>\n",
       "      <td>2</td>\n",
       "      <td>0.050831</td>\n",
       "      <td>0</td>\n",
       "    </tr>\n",
       "  </tbody>\n",
       "</table>\n",
       "</div>"
      ],
      "text/plain": [
       "   customer_id   age  article_id  sales_channel_id     price  Ordered\n",
       "0            2  24.0       40179                 2  0.050831        1\n",
       "1            2  24.0       40179                 2  0.050831        1\n",
       "2       104641  25.0       40179                 2  0.050831        1\n",
       "3       104641  25.0       40179                 2  0.050831        1\n",
       "4       179831  35.0       40179                 2  0.050831        0"
      ]
     },
     "execution_count": 240,
     "metadata": {},
     "output_type": "execute_result"
    }
   ],
   "source": [
    "transactions_processed.head()"
   ]
  },
  {
   "cell_type": "code",
   "execution_count": 241,
   "metadata": {},
   "outputs": [
    {
     "data": {
      "text/plain": [
       "False"
      ]
     },
     "execution_count": 241,
     "metadata": {},
     "output_type": "execute_result"
    }
   ],
   "source": [
    "# Can you come up with a NaN strategy that makes sense for each column in the dataset?\n",
    "# Imputing all NaN values with zeros:\n",
    "transactions_processed = transactions_processed.fillna(0)\n",
    "transactions_processed.isnull().values.any()"
   ]
  },
  {
   "cell_type": "code",
   "execution_count": 242,
   "metadata": {},
   "outputs": [],
   "source": [
    "# Does it make sense to one-hot encode?\n",
    "# One-hot-encoding sales_channel_id:\n",
    "transactions_processed = pd.get_dummies(transactions_processed, columns=['sales_channel_id'])"
   ]
  },
  {
   "cell_type": "code",
   "execution_count": 243,
   "metadata": {},
   "outputs": [
    {
     "data": {
      "text/html": [
       "<div>\n",
       "<style scoped>\n",
       "    .dataframe tbody tr th:only-of-type {\n",
       "        vertical-align: middle;\n",
       "    }\n",
       "\n",
       "    .dataframe tbody tr th {\n",
       "        vertical-align: top;\n",
       "    }\n",
       "\n",
       "    .dataframe thead th {\n",
       "        text-align: right;\n",
       "    }\n",
       "</style>\n",
       "<table border=\"1\" class=\"dataframe\">\n",
       "  <thead>\n",
       "    <tr style=\"text-align: right;\">\n",
       "      <th></th>\n",
       "      <th>customer_id</th>\n",
       "      <th>age</th>\n",
       "      <th>article_id</th>\n",
       "      <th>price</th>\n",
       "      <th>Ordered</th>\n",
       "      <th>sales_channel_id_1</th>\n",
       "      <th>sales_channel_id_2</th>\n",
       "    </tr>\n",
       "  </thead>\n",
       "  <tbody>\n",
       "    <tr>\n",
       "      <th>0</th>\n",
       "      <td>2</td>\n",
       "      <td>24.0</td>\n",
       "      <td>40179</td>\n",
       "      <td>0.050831</td>\n",
       "      <td>1</td>\n",
       "      <td>0</td>\n",
       "      <td>1</td>\n",
       "    </tr>\n",
       "    <tr>\n",
       "      <th>1</th>\n",
       "      <td>2</td>\n",
       "      <td>24.0</td>\n",
       "      <td>40179</td>\n",
       "      <td>0.050831</td>\n",
       "      <td>1</td>\n",
       "      <td>0</td>\n",
       "      <td>1</td>\n",
       "    </tr>\n",
       "    <tr>\n",
       "      <th>2</th>\n",
       "      <td>104641</td>\n",
       "      <td>25.0</td>\n",
       "      <td>40179</td>\n",
       "      <td>0.050831</td>\n",
       "      <td>1</td>\n",
       "      <td>0</td>\n",
       "      <td>1</td>\n",
       "    </tr>\n",
       "    <tr>\n",
       "      <th>3</th>\n",
       "      <td>104641</td>\n",
       "      <td>25.0</td>\n",
       "      <td>40179</td>\n",
       "      <td>0.050831</td>\n",
       "      <td>1</td>\n",
       "      <td>0</td>\n",
       "      <td>1</td>\n",
       "    </tr>\n",
       "    <tr>\n",
       "      <th>4</th>\n",
       "      <td>179831</td>\n",
       "      <td>35.0</td>\n",
       "      <td>40179</td>\n",
       "      <td>0.050831</td>\n",
       "      <td>0</td>\n",
       "      <td>0</td>\n",
       "      <td>1</td>\n",
       "    </tr>\n",
       "  </tbody>\n",
       "</table>\n",
       "</div>"
      ],
      "text/plain": [
       "   customer_id   age  article_id     price  Ordered  sales_channel_id_1  \\\n",
       "0            2  24.0       40179  0.050831        1                   0   \n",
       "1            2  24.0       40179  0.050831        1                   0   \n",
       "2       104641  25.0       40179  0.050831        1                   0   \n",
       "3       104641  25.0       40179  0.050831        1                   0   \n",
       "4       179831  35.0       40179  0.050831        0                   0   \n",
       "\n",
       "   sales_channel_id_2  \n",
       "0                   1  \n",
       "1                   1  \n",
       "2                   1  \n",
       "3                   1  \n",
       "4                   1  "
      ]
     },
     "execution_count": 243,
     "metadata": {},
     "output_type": "execute_result"
    }
   ],
   "source": [
    "transactions_processed.head()"
   ]
  },
  {
   "cell_type": "code",
   "execution_count": 244,
   "metadata": {},
   "outputs": [],
   "source": [
    "# Creating a Train / Test Split:\n",
    "X_train, X_test, y_train, y_test = train_test_split(transactions_processed.drop('Ordered', axis=1), transactions_processed['Ordered'], test_size=0.10, random_state=42)"
   ]
  },
  {
   "cell_type": "code",
   "execution_count": 245,
   "metadata": {},
   "outputs": [
    {
     "data": {
      "text/html": [
       "<div>\n",
       "<style scoped>\n",
       "    .dataframe tbody tr th:only-of-type {\n",
       "        vertical-align: middle;\n",
       "    }\n",
       "\n",
       "    .dataframe tbody tr th {\n",
       "        vertical-align: top;\n",
       "    }\n",
       "\n",
       "    .dataframe thead th {\n",
       "        text-align: right;\n",
       "    }\n",
       "</style>\n",
       "<table border=\"1\" class=\"dataframe\">\n",
       "  <thead>\n",
       "    <tr style=\"text-align: right;\">\n",
       "      <th></th>\n",
       "      <th>customer_id</th>\n",
       "      <th>age</th>\n",
       "      <th>article_id</th>\n",
       "      <th>price</th>\n",
       "      <th>sales_channel_id_1</th>\n",
       "      <th>sales_channel_id_2</th>\n",
       "    </tr>\n",
       "  </thead>\n",
       "  <tbody>\n",
       "    <tr>\n",
       "      <th>50994939</th>\n",
       "      <td>611343</td>\n",
       "      <td>43.0</td>\n",
       "      <td>59247</td>\n",
       "      <td>0.025407</td>\n",
       "      <td>0</td>\n",
       "      <td>1</td>\n",
       "    </tr>\n",
       "    <tr>\n",
       "      <th>37464744</th>\n",
       "      <td>550827</td>\n",
       "      <td>38.0</td>\n",
       "      <td>68787</td>\n",
       "      <td>0.030492</td>\n",
       "      <td>1</td>\n",
       "      <td>0</td>\n",
       "    </tr>\n",
       "    <tr>\n",
       "      <th>56984818</th>\n",
       "      <td>529348</td>\n",
       "      <td>25.0</td>\n",
       "      <td>30111</td>\n",
       "      <td>0.005068</td>\n",
       "      <td>0</td>\n",
       "      <td>1</td>\n",
       "    </tr>\n",
       "    <tr>\n",
       "      <th>17084271</th>\n",
       "      <td>902421</td>\n",
       "      <td>26.0</td>\n",
       "      <td>22112</td>\n",
       "      <td>0.028847</td>\n",
       "      <td>0</td>\n",
       "      <td>1</td>\n",
       "    </tr>\n",
       "    <tr>\n",
       "      <th>24488913</th>\n",
       "      <td>23646</td>\n",
       "      <td>34.0</td>\n",
       "      <td>67655</td>\n",
       "      <td>0.025407</td>\n",
       "      <td>0</td>\n",
       "      <td>1</td>\n",
       "    </tr>\n",
       "  </tbody>\n",
       "</table>\n",
       "</div>"
      ],
      "text/plain": [
       "          customer_id   age  article_id     price  sales_channel_id_1  \\\n",
       "50994939       611343  43.0       59247  0.025407                   0   \n",
       "37464744       550827  38.0       68787  0.030492                   1   \n",
       "56984818       529348  25.0       30111  0.005068                   0   \n",
       "17084271       902421  26.0       22112  0.028847                   0   \n",
       "24488913        23646  34.0       67655  0.025407                   0   \n",
       "\n",
       "          sales_channel_id_2  \n",
       "50994939                   1  \n",
       "37464744                   0  \n",
       "56984818                   1  \n",
       "17084271                   1  \n",
       "24488913                   1  "
      ]
     },
     "execution_count": 245,
     "metadata": {},
     "output_type": "execute_result"
    }
   ],
   "source": [
    "X_train.head()"
   ]
  },
  {
   "cell_type": "code",
   "execution_count": 246,
   "metadata": {},
   "outputs": [
    {
     "data": {
      "text/plain": [
       "50994939    1\n",
       "37464744    0\n",
       "56984818    0\n",
       "17084271    1\n",
       "24488913    1\n",
       "Name: Ordered, dtype: int64"
      ]
     },
     "execution_count": 246,
     "metadata": {},
     "output_type": "execute_result"
    }
   ],
   "source": [
    "y_train.head()"
   ]
  },
  {
   "cell_type": "markdown",
   "metadata": {},
   "source": [
    "## Baseline Model"
   ]
  },
  {
   "cell_type": "code",
   "execution_count": 247,
   "metadata": {
    "pycharm": {
     "is_executing": true
    }
   },
   "outputs": [],
   "source": [
    "# Will take a few minutes to run, if you're using the whole dataset:\n",
    "baseline = LogisticRegression(random_state=42)\n",
    "baseline = baseline.fit(X_train, y_train)"
   ]
  },
  {
   "cell_type": "code",
   "execution_count": 248,
   "metadata": {},
   "outputs": [
    {
     "data": {
      "text/plain": [
       "array([[0.5086429 , 0.4913571 ],\n",
       "       [0.48976052, 0.51023948],\n",
       "       [0.48813922, 0.51186078],\n",
       "       ...,\n",
       "       [0.49463131, 0.50536869],\n",
       "       [0.49886859, 0.50113141],\n",
       "       [0.49621575, 0.50378425]])"
      ]
     },
     "execution_count": 248,
     "metadata": {},
     "output_type": "execute_result"
    }
   ],
   "source": [
    "baseline.predict_proba(X_test)"
   ]
  },
  {
   "cell_type": "code",
   "execution_count": 249,
   "metadata": {
    "scrolled": true
   },
   "outputs": [
    {
     "data": {
      "text/plain": [
       "23488218    1\n",
       "10759766    1\n",
       "38409516    1\n",
       "24628014    0\n",
       "46965121    0\n",
       "           ..\n",
       "30568173    1\n",
       "34746913    0\n",
       "46100043    0\n",
       "5582956     0\n",
       "35870758    1\n",
       "Name: Ordered, Length: 6357665, dtype: int64"
      ]
     },
     "execution_count": 249,
     "metadata": {},
     "output_type": "execute_result"
    }
   ],
   "source": [
    "y_test"
   ]
  },
  {
   "cell_type": "code",
   "execution_count": 250,
   "metadata": {},
   "outputs": [
    {
     "data": {
      "text/plain": [
       "0.51008727260716"
      ]
     },
     "execution_count": 250,
     "metadata": {},
     "output_type": "execute_result"
    }
   ],
   "source": [
    "# Mean Accuracy:\n",
    "baseline.score(X_test, y_test)\n",
    "# As you can seen, the accuracy is ~0.51. In other words, the classifier predicts correctly 51% of the time whether a customer did or din't buy an item.\n",
    "# Can you improve this baseline logistic regression model by doing better preprocessing and generating new features?"
   ]
  },
  {
   "cell_type": "code",
   "execution_count": 251,
   "metadata": {},
   "outputs": [
    {
     "name": "stdout",
     "output_type": "stream",
     "text": [
      "              precision    recall  f1-score   support\n",
      "\n",
      "           0       0.51      0.39      0.44   3179718\n",
      "           1       0.51      0.63      0.56   3177947\n",
      "\n",
      "    accuracy                           0.51   6357665\n",
      "   macro avg       0.51      0.51      0.50   6357665\n",
      "weighted avg       0.51      0.51      0.50   6357665\n",
      "\n"
     ]
    }
   ],
   "source": [
    "# Classification Metrics:\n",
    "predictions = baseline.predict(X_test)\n",
    "print(classification_report(y_test, predictions))"
   ]
  },
  {
   "cell_type": "code",
   "execution_count": 252,
   "metadata": {},
   "outputs": [
    {
     "data": {
      "text/plain": [
       "array([0, 1, 1, ..., 1, 1, 1])"
      ]
     },
     "execution_count": 252,
     "metadata": {},
     "output_type": "execute_result"
    }
   ],
   "source": [
    "predictions"
   ]
  },
  {
   "cell_type": "markdown",
   "metadata": {},
   "source": [
    "## Assignment: Feature engineering\n",
    "**TODO:** \n",
    "- In groups (of 2-3 students), think about (a few) features that can be engineered (preprocess and generate new features). Divide the work!\n",
    "- Do these engineered features improve the baseline model?\n",
    "- Add your thoughts & results to a slide deck for discussion next week (again, 1 slide per person).\n"
   ]
  },
  {
   "cell_type": "code",
   "execution_count": null,
   "metadata": {
    "pycharm": {
     "is_executing": true
    }
   },
   "outputs": [],
   "source": []
  }
 ],
 "metadata": {
  "kernelspec": {
   "display_name": "Python 3 (ipykernel)",
   "language": "python",
   "name": "python3"
  },
  "language_info": {
   "codemirror_mode": {
    "name": "ipython",
    "version": 3
   },
   "file_extension": ".py",
   "mimetype": "text/x-python",
   "name": "python",
   "nbconvert_exporter": "python",
   "pygments_lexer": "ipython3",
   "version": "3.9.6"
  }
 },
 "nbformat": 4,
 "nbformat_minor": 1
}