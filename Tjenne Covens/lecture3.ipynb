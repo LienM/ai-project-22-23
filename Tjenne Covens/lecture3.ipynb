{
 "cells": [
  {
   "cell_type": "markdown",
   "metadata": {
    "id": "h1AOE4QgLK8v"
   },
   "source": [
    "# Lecture 2: Introduction to Feature Engineering"
   ]
  },
  {
   "cell_type": "code",
   "source": [
    "from google.colab import drive\n",
    "drive.mount('/content/drive/')"
   ],
   "metadata": {
    "colab": {
     "base_uri": "https://localhost:8080/"
    },
    "id": "qKzNyXiyTZEJ",
    "outputId": "3d13dc37-f8dc-4c5c-8836-a369b04084f3"
   },
   "execution_count": 5,
   "outputs": [
    {
     "output_type": "stream",
     "name": "stdout",
     "text": [
      "Mounted at /content/drive/\n"
     ]
    }
   ]
  },
  {
   "cell_type": "markdown",
   "metadata": {
    "id": "yHSfIUADLK8z"
   },
   "source": [
    "## Setup"
   ]
  },
  {
   "cell_type": "code",
   "execution_count": 6,
   "metadata": {
    "pycharm": {
     "is_executing": true
    },
    "scrolled": true,
    "id": "wgE9UIXELK81"
   },
   "outputs": [],
   "source": [
    "import numpy as np \n",
    "import pandas as pd\n",
    "import random\n",
    "from sklearn.linear_model import LogisticRegression\n",
    "from sklearn.model_selection import train_test_split\n",
    "from sklearn.metrics import classification_report\n",
    "from sklearn import preprocessing\n",
    "import zipfile\n",
    "import io\n",
    "import zipfile\n",
    "\n"
   ]
  },
  {
   "cell_type": "code",
   "execution_count": 8,
   "metadata": {
    "pycharm": {
     "is_executing": true
    },
    "scrolled": true,
    "id": "RMt597MMLK84"
   },
   "outputs": [],
   "source": [
    "articles = pd.read_csv('drive/MyDrive/ai_project_data/articles.csv.zip')\n",
    "customers = pd.read_csv('drive/MyDrive/ai_project_data/customers.csv.zip')\n",
    "# sample_submisison = pd.read_csv('drive/MyDrive/ai_project_data/sample_submission.csv')\n",
    "transactions = pd.read_csv('drive/MyDrive/ai_project_data/transactions_train.csv.zip')"
   ]
  },
  {
   "cell_type": "markdown",
   "metadata": {
    "id": "cVTWyHW4LK85"
   },
   "source": [
    "## The H&M Dataset"
   ]
  },
  {
   "cell_type": "code",
   "execution_count": null,
   "metadata": {
    "pycharm": {
     "is_executing": true
    },
    "scrolled": true,
    "id": "kpEiMZwaLK87"
   },
   "outputs": [],
   "source": [
    "# articles.info"
   ]
  },
  {
   "cell_type": "code",
   "execution_count": null,
   "metadata": {
    "pycharm": {
     "is_executing": true
    },
    "scrolled": true,
    "id": "0GCOEcAtLK87"
   },
   "outputs": [],
   "source": [
    "# customers.info()"
   ]
  },
  {
   "cell_type": "code",
   "execution_count": null,
   "metadata": {
    "pycharm": {
     "is_executing": true
    },
    "scrolled": true,
    "id": "slDjdeC7LK89"
   },
   "outputs": [],
   "source": [
    "# transactions.info()"
   ]
  },
  {
   "cell_type": "code",
   "execution_count": null,
   "metadata": {
    "pycharm": {
     "is_executing": true
    },
    "scrolled": true,
    "id": "p87ZFt1pLK8-"
   },
   "outputs": [],
   "source": [
    "# X = transactions.merge(customers, how='inner', on='customer_id')\n",
    "# X = X.merge(articles, how='inner', on='article_id')"
   ]
  },
  {
   "cell_type": "markdown",
   "metadata": {
    "id": "q9DYGI3TLK8_"
   },
   "source": [
    "### Creating Samples \n",
    "If you would rather work with samples instead of the whole dataset (while prototyping your code). You can use the code below:"
   ]
  },
  {
   "cell_type": "code",
   "execution_count": 9,
   "metadata": {
    "pycharm": {
     "is_executing": true
    },
    "scrolled": true,
    "id": "9lwSAHyULK9B",
    "colab": {
     "base_uri": "https://localhost:8080/"
    },
    "outputId": "bbe40600-d167-43a7-be02-219c42423452"
   },
   "outputs": [
    {
     "output_type": "stream",
     "name": "stdout",
     "text": [
      "0.001\n",
      "0.01\n",
      "0.05\n"
     ]
    }
   ],
   "source": [
    "# Adapted from: https://www.kaggle.com/code/paweljankiewicz/hm-create-dataset-samples\n",
    "# This extracts three sampled datasets, containing 0.1%, 1% and 5% of all users and their transactions, and the associated articles.\n",
    "for sample_repr, sample in [(\"01\", 0.001), (\"1\", 0.01), (\"5\", 0.05)]:\n",
    "    print(sample)\n",
    "    customers_sample = customers.sample(int(customers.shape[0]*sample), replace=False)\n",
    "    customers_sample_ids = set(customers_sample[\"customer_id\"])\n",
    "    transactions_sample = transactions[transactions[\"customer_id\"].isin(customers_sample_ids)]\n",
    "    articles_sample_ids = set(transactions_sample[\"article_id\"])\n",
    "    articles_sample = articles[articles[\"article_id\"].isin(articles_sample_ids)]\n",
    "    customers_sample.to_csv(f\"customers_sample{sample_repr}.csv.gz\", index=False)\n",
    "    transactions_sample.to_csv(f\"transactions_sample{sample_repr}.csv.gz\", index=False)\n",
    "    articles_sample.to_csv(f\"articles_sample{sample_repr}.csv.gz\", index=False)"
   ]
  },
  {
   "cell_type": "code",
   "execution_count": 11,
   "metadata": {
    "pycharm": {
     "is_executing": true
    },
    "scrolled": true,
    "id": "iEJISiSTLK9D"
   },
   "outputs": [],
   "source": [
    "articles = pd.read_csv('articles_sample5.csv.gz')\n",
    "customers = pd.read_csv('customers_sample5.csv.gz')\n",
    "transactions = pd.read_csv('transactions_sample5.csv.gz')"
   ]
  },
  {
   "cell_type": "code",
   "execution_count": null,
   "metadata": {
    "pycharm": {
     "is_executing": true
    },
    "scrolled": true,
    "id": "PqNlmqqPLK9E"
   },
   "outputs": [],
   "source": [
    "# customers_sample.info()"
   ]
  },
  {
   "cell_type": "code",
   "execution_count": null,
   "metadata": {
    "pycharm": {
     "is_executing": true
    },
    "scrolled": true,
    "id": "JQpWrUgtLK9E"
   },
   "outputs": [],
   "source": [
    "# transactions_sample.info()"
   ]
  },
  {
   "cell_type": "markdown",
   "metadata": {
    "id": "aUl6EIU6LK9F"
   },
   "source": [
    "## A Simplified Task: Binary Classification\n",
    "\n",
    "The task of predicting which 12 items users are most likely to buy in the next week is difficult to translate to a traditional classification machine learning setting. \n",
    "To obtain the 12 items a user is most likely to buy, we need to make predictions for all items (or the ones selected by a baseline) and select the 12 that have the highest predicted scores.\n",
    "\n",
    "In this assignment, we'll consider a simplified task: Predict whether a user ordered a single item or not, based on the features of the user and the item. \n",
    "We provide a baseline logistic regression model below, but haven't done much feature preprocessing or engineering!\n",
    "Initially, it is always best to focus your efforts on getting your features in the right shape and setting up the right validation scheme and baselines.\n",
    "Once you are sure that your features add value and your validation scheme is correct, then you typically move on to trying more elaborate models."
   ]
  },
  {
   "cell_type": "markdown",
   "metadata": {
    "id": "92Dwn6xBLK9G"
   },
   "source": [
    "### Creating the Dataset"
   ]
  },
  {
   "cell_type": "code",
   "execution_count": 83,
   "metadata": {
    "pycharm": {
     "is_executing": true
    },
    "scrolled": true,
    "id": "YNlVAHg6LK9G"
   },
   "outputs": [],
   "source": [
    "# If you'd rather use a sample. Uncomment the following code:\n",
    "# transactions = transactions_sample\n",
    "# customers = customers_sample\n",
    "# articles = articles_sample"
   ]
  },
  {
   "cell_type": "code",
   "execution_count": 84,
   "metadata": {
    "pycharm": {
     "is_executing": true
    },
    "scrolled": true,
    "id": "ALCQYZwoLK9H"
   },
   "outputs": [],
   "source": [
    "transactions['ordered'] = 1"
   ]
  },
  {
   "cell_type": "markdown",
   "metadata": {
    "id": "mWB8FQciLK9I"
   },
   "source": [
    "The problem setting is an example of a \"PU learning\" problem, i.e. only positives are labeled, everything else is unlabeled (and can be either positive or negative). \n",
    "Of course, we cannot train a classifier with just positive samples: The classifier will just learn that everything is positive.\n",
    "Therefore, we need to manually generate negative samples.\n",
    "\n",
    "Below, we use a simple random negative sampling strategy.\n",
    "We want to create a balanced dataset, meaning that we have just as many positives as negatives.\n",
    "This makes sure that the classifier will not benefit from predicting the positive/negative class more often than the other.\n",
    "Realistically, the amount of positive samples is of course many times smaller than the amount of unlabeled, possibly negative instances.\n",
    "\n",
    "\n",
    "If you want to try your hand at a more complex negative sampling strategy, you may want to check out this blog as a starting point: https://medium.com/mlearning-ai/overview-negative-sampling-on-recommendation-systems-230a051c6cd7.\n",
    "\n"
   ]
  },
  {
   "cell_type": "code",
   "execution_count": 85,
   "metadata": {
    "pycharm": {
     "is_executing": true
    },
    "scrolled": true,
    "id": "D2jUIjTULK9J",
    "colab": {
     "base_uri": "https://localhost:8080/",
     "height": 206
    },
    "outputId": "acc0028d-da64-488b-8aaa-53f105b5a5c5"
   },
   "outputs": [
    {
     "output_type": "execute_result",
     "data": {
      "text/plain": [
       "        t_dat                                        customer_id  article_id  \\\n",
       "0  2018-09-20  003ac6eff3ca20cbe4e14a106a5e28b7551616005de8f9...   617322003   \n",
       "1  2018-09-20  003ac6eff3ca20cbe4e14a106a5e28b7551616005de8f9...   617322003   \n",
       "2  2018-09-20  003ac6eff3ca20cbe4e14a106a5e28b7551616005de8f9...   620405001   \n",
       "3  2018-09-20  003ac6eff3ca20cbe4e14a106a5e28b7551616005de8f9...   678239001   \n",
       "4  2018-09-20  00401a367c5ac085cb9d4b77c56f3edcabf25153615db9...   613456009   \n",
       "\n",
       "      price  sales_channel_id  ordered  \n",
       "0  0.033881                 1        1  \n",
       "1  0.018627                 1        1  \n",
       "2  0.018627                 1        1  \n",
       "3  0.025407                 1        1  \n",
       "4  0.016932                 2        1  "
      ],
      "text/html": [
       "\n",
       "  <div id=\"df-c347cb1e-55bb-49db-ad67-be42770e8f24\">\n",
       "    <div class=\"colab-df-container\">\n",
       "      <div>\n",
       "<style scoped>\n",
       "    .dataframe tbody tr th:only-of-type {\n",
       "        vertical-align: middle;\n",
       "    }\n",
       "\n",
       "    .dataframe tbody tr th {\n",
       "        vertical-align: top;\n",
       "    }\n",
       "\n",
       "    .dataframe thead th {\n",
       "        text-align: right;\n",
       "    }\n",
       "</style>\n",
       "<table border=\"1\" class=\"dataframe\">\n",
       "  <thead>\n",
       "    <tr style=\"text-align: right;\">\n",
       "      <th></th>\n",
       "      <th>t_dat</th>\n",
       "      <th>customer_id</th>\n",
       "      <th>article_id</th>\n",
       "      <th>price</th>\n",
       "      <th>sales_channel_id</th>\n",
       "      <th>ordered</th>\n",
       "    </tr>\n",
       "  </thead>\n",
       "  <tbody>\n",
       "    <tr>\n",
       "      <th>0</th>\n",
       "      <td>2018-09-20</td>\n",
       "      <td>003ac6eff3ca20cbe4e14a106a5e28b7551616005de8f9...</td>\n",
       "      <td>617322003</td>\n",
       "      <td>0.033881</td>\n",
       "      <td>1</td>\n",
       "      <td>1</td>\n",
       "    </tr>\n",
       "    <tr>\n",
       "      <th>1</th>\n",
       "      <td>2018-09-20</td>\n",
       "      <td>003ac6eff3ca20cbe4e14a106a5e28b7551616005de8f9...</td>\n",
       "      <td>617322003</td>\n",
       "      <td>0.018627</td>\n",
       "      <td>1</td>\n",
       "      <td>1</td>\n",
       "    </tr>\n",
       "    <tr>\n",
       "      <th>2</th>\n",
       "      <td>2018-09-20</td>\n",
       "      <td>003ac6eff3ca20cbe4e14a106a5e28b7551616005de8f9...</td>\n",
       "      <td>620405001</td>\n",
       "      <td>0.018627</td>\n",
       "      <td>1</td>\n",
       "      <td>1</td>\n",
       "    </tr>\n",
       "    <tr>\n",
       "      <th>3</th>\n",
       "      <td>2018-09-20</td>\n",
       "      <td>003ac6eff3ca20cbe4e14a106a5e28b7551616005de8f9...</td>\n",
       "      <td>678239001</td>\n",
       "      <td>0.025407</td>\n",
       "      <td>1</td>\n",
       "      <td>1</td>\n",
       "    </tr>\n",
       "    <tr>\n",
       "      <th>4</th>\n",
       "      <td>2018-09-20</td>\n",
       "      <td>00401a367c5ac085cb9d4b77c56f3edcabf25153615db9...</td>\n",
       "      <td>613456009</td>\n",
       "      <td>0.016932</td>\n",
       "      <td>2</td>\n",
       "      <td>1</td>\n",
       "    </tr>\n",
       "  </tbody>\n",
       "</table>\n",
       "</div>\n",
       "      <button class=\"colab-df-convert\" onclick=\"convertToInteractive('df-c347cb1e-55bb-49db-ad67-be42770e8f24')\"\n",
       "              title=\"Convert this dataframe to an interactive table.\"\n",
       "              style=\"display:none;\">\n",
       "        \n",
       "  <svg xmlns=\"http://www.w3.org/2000/svg\" height=\"24px\"viewBox=\"0 0 24 24\"\n",
       "       width=\"24px\">\n",
       "    <path d=\"M0 0h24v24H0V0z\" fill=\"none\"/>\n",
       "    <path d=\"M18.56 5.44l.94 2.06.94-2.06 2.06-.94-2.06-.94-.94-2.06-.94 2.06-2.06.94zm-11 1L8.5 8.5l.94-2.06 2.06-.94-2.06-.94L8.5 2.5l-.94 2.06-2.06.94zm10 10l.94 2.06.94-2.06 2.06-.94-2.06-.94-.94-2.06-.94 2.06-2.06.94z\"/><path d=\"M17.41 7.96l-1.37-1.37c-.4-.4-.92-.59-1.43-.59-.52 0-1.04.2-1.43.59L10.3 9.45l-7.72 7.72c-.78.78-.78 2.05 0 2.83L4 21.41c.39.39.9.59 1.41.59.51 0 1.02-.2 1.41-.59l7.78-7.78 2.81-2.81c.8-.78.8-2.07 0-2.86zM5.41 20L4 18.59l7.72-7.72 1.47 1.35L5.41 20z\"/>\n",
       "  </svg>\n",
       "      </button>\n",
       "      \n",
       "  <style>\n",
       "    .colab-df-container {\n",
       "      display:flex;\n",
       "      flex-wrap:wrap;\n",
       "      gap: 12px;\n",
       "    }\n",
       "\n",
       "    .colab-df-convert {\n",
       "      background-color: #E8F0FE;\n",
       "      border: none;\n",
       "      border-radius: 50%;\n",
       "      cursor: pointer;\n",
       "      display: none;\n",
       "      fill: #1967D2;\n",
       "      height: 32px;\n",
       "      padding: 0 0 0 0;\n",
       "      width: 32px;\n",
       "    }\n",
       "\n",
       "    .colab-df-convert:hover {\n",
       "      background-color: #E2EBFA;\n",
       "      box-shadow: 0px 1px 2px rgba(60, 64, 67, 0.3), 0px 1px 3px 1px rgba(60, 64, 67, 0.15);\n",
       "      fill: #174EA6;\n",
       "    }\n",
       "\n",
       "    [theme=dark] .colab-df-convert {\n",
       "      background-color: #3B4455;\n",
       "      fill: #D2E3FC;\n",
       "    }\n",
       "\n",
       "    [theme=dark] .colab-df-convert:hover {\n",
       "      background-color: #434B5C;\n",
       "      box-shadow: 0px 1px 3px 1px rgba(0, 0, 0, 0.15);\n",
       "      filter: drop-shadow(0px 1px 2px rgba(0, 0, 0, 0.3));\n",
       "      fill: #FFFFFF;\n",
       "    }\n",
       "  </style>\n",
       "\n",
       "      <script>\n",
       "        const buttonEl =\n",
       "          document.querySelector('#df-c347cb1e-55bb-49db-ad67-be42770e8f24 button.colab-df-convert');\n",
       "        buttonEl.style.display =\n",
       "          google.colab.kernel.accessAllowed ? 'block' : 'none';\n",
       "\n",
       "        async function convertToInteractive(key) {\n",
       "          const element = document.querySelector('#df-c347cb1e-55bb-49db-ad67-be42770e8f24');\n",
       "          const dataTable =\n",
       "            await google.colab.kernel.invokeFunction('convertToInteractive',\n",
       "                                                     [key], {});\n",
       "          if (!dataTable) return;\n",
       "\n",
       "          const docLinkHtml = 'Like what you see? Visit the ' +\n",
       "            '<a target=\"_blank\" href=https://colab.research.google.com/notebooks/data_table.ipynb>data table notebook</a>'\n",
       "            + ' to learn more about interactive tables.';\n",
       "          element.innerHTML = '';\n",
       "          dataTable['output_type'] = 'display_data';\n",
       "          await google.colab.output.renderOutput(dataTable, element);\n",
       "          const docLink = document.createElement('div');\n",
       "          docLink.innerHTML = docLinkHtml;\n",
       "          element.appendChild(docLink);\n",
       "        }\n",
       "      </script>\n",
       "    </div>\n",
       "  </div>\n",
       "  "
      ]
     },
     "metadata": {},
     "execution_count": 85
    }
   ],
   "source": [
    "transactions.head()"
   ]
  },
  {
   "cell_type": "code",
   "execution_count": 86,
   "metadata": {
    "pycharm": {
     "is_executing": true
    },
    "scrolled": true,
    "id": "27CR0XM3LK9J"
   },
   "outputs": [],
   "source": [
    "# What's happening here? \n",
    "# We're creating negative samples. I.e. we're creating transactions that didn't actually occur.\n",
    "# First, we need to know which interactions did occur:\n",
    "positive_pairs = list(map(tuple, transactions[['customer_id', 'article_id']].drop_duplicates().values))"
   ]
  },
  {
   "cell_type": "code",
   "execution_count": 87,
   "metadata": {
    "pycharm": {
     "is_executing": true
    },
    "scrolled": true,
    "id": "-eoMxiAzLK9J",
    "colab": {
     "base_uri": "https://localhost:8080/",
     "height": 206
    },
    "outputId": "ff5b3b9f-384c-4ffa-b208-723af453e0b9"
   },
   "outputs": [
    {
     "output_type": "execute_result",
     "data": {
      "text/plain": [
       "        t_dat                                        customer_id  article_id  \\\n",
       "0  2018-09-20  003ac6eff3ca20cbe4e14a106a5e28b7551616005de8f9...   617322003   \n",
       "1  2018-09-20  003ac6eff3ca20cbe4e14a106a5e28b7551616005de8f9...   617322003   \n",
       "2  2018-09-20  003ac6eff3ca20cbe4e14a106a5e28b7551616005de8f9...   620405001   \n",
       "3  2018-09-20  003ac6eff3ca20cbe4e14a106a5e28b7551616005de8f9...   678239001   \n",
       "4  2018-09-20  00401a367c5ac085cb9d4b77c56f3edcabf25153615db9...   613456009   \n",
       "\n",
       "      price  sales_channel_id  ordered  \n",
       "0  0.033881                 1        1  \n",
       "1  0.018627                 1        1  \n",
       "2  0.018627                 1        1  \n",
       "3  0.025407                 1        1  \n",
       "4  0.016932                 2        1  "
      ],
      "text/html": [
       "\n",
       "  <div id=\"df-840b54a0-c83a-417c-a148-b858e19cb9b9\">\n",
       "    <div class=\"colab-df-container\">\n",
       "      <div>\n",
       "<style scoped>\n",
       "    .dataframe tbody tr th:only-of-type {\n",
       "        vertical-align: middle;\n",
       "    }\n",
       "\n",
       "    .dataframe tbody tr th {\n",
       "        vertical-align: top;\n",
       "    }\n",
       "\n",
       "    .dataframe thead th {\n",
       "        text-align: right;\n",
       "    }\n",
       "</style>\n",
       "<table border=\"1\" class=\"dataframe\">\n",
       "  <thead>\n",
       "    <tr style=\"text-align: right;\">\n",
       "      <th></th>\n",
       "      <th>t_dat</th>\n",
       "      <th>customer_id</th>\n",
       "      <th>article_id</th>\n",
       "      <th>price</th>\n",
       "      <th>sales_channel_id</th>\n",
       "      <th>ordered</th>\n",
       "    </tr>\n",
       "  </thead>\n",
       "  <tbody>\n",
       "    <tr>\n",
       "      <th>0</th>\n",
       "      <td>2018-09-20</td>\n",
       "      <td>003ac6eff3ca20cbe4e14a106a5e28b7551616005de8f9...</td>\n",
       "      <td>617322003</td>\n",
       "      <td>0.033881</td>\n",
       "      <td>1</td>\n",
       "      <td>1</td>\n",
       "    </tr>\n",
       "    <tr>\n",
       "      <th>1</th>\n",
       "      <td>2018-09-20</td>\n",
       "      <td>003ac6eff3ca20cbe4e14a106a5e28b7551616005de8f9...</td>\n",
       "      <td>617322003</td>\n",
       "      <td>0.018627</td>\n",
       "      <td>1</td>\n",
       "      <td>1</td>\n",
       "    </tr>\n",
       "    <tr>\n",
       "      <th>2</th>\n",
       "      <td>2018-09-20</td>\n",
       "      <td>003ac6eff3ca20cbe4e14a106a5e28b7551616005de8f9...</td>\n",
       "      <td>620405001</td>\n",
       "      <td>0.018627</td>\n",
       "      <td>1</td>\n",
       "      <td>1</td>\n",
       "    </tr>\n",
       "    <tr>\n",
       "      <th>3</th>\n",
       "      <td>2018-09-20</td>\n",
       "      <td>003ac6eff3ca20cbe4e14a106a5e28b7551616005de8f9...</td>\n",
       "      <td>678239001</td>\n",
       "      <td>0.025407</td>\n",
       "      <td>1</td>\n",
       "      <td>1</td>\n",
       "    </tr>\n",
       "    <tr>\n",
       "      <th>4</th>\n",
       "      <td>2018-09-20</td>\n",
       "      <td>00401a367c5ac085cb9d4b77c56f3edcabf25153615db9...</td>\n",
       "      <td>613456009</td>\n",
       "      <td>0.016932</td>\n",
       "      <td>2</td>\n",
       "      <td>1</td>\n",
       "    </tr>\n",
       "  </tbody>\n",
       "</table>\n",
       "</div>\n",
       "      <button class=\"colab-df-convert\" onclick=\"convertToInteractive('df-840b54a0-c83a-417c-a148-b858e19cb9b9')\"\n",
       "              title=\"Convert this dataframe to an interactive table.\"\n",
       "              style=\"display:none;\">\n",
       "        \n",
       "  <svg xmlns=\"http://www.w3.org/2000/svg\" height=\"24px\"viewBox=\"0 0 24 24\"\n",
       "       width=\"24px\">\n",
       "    <path d=\"M0 0h24v24H0V0z\" fill=\"none\"/>\n",
       "    <path d=\"M18.56 5.44l.94 2.06.94-2.06 2.06-.94-2.06-.94-.94-2.06-.94 2.06-2.06.94zm-11 1L8.5 8.5l.94-2.06 2.06-.94-2.06-.94L8.5 2.5l-.94 2.06-2.06.94zm10 10l.94 2.06.94-2.06 2.06-.94-2.06-.94-.94-2.06-.94 2.06-2.06.94z\"/><path d=\"M17.41 7.96l-1.37-1.37c-.4-.4-.92-.59-1.43-.59-.52 0-1.04.2-1.43.59L10.3 9.45l-7.72 7.72c-.78.78-.78 2.05 0 2.83L4 21.41c.39.39.9.59 1.41.59.51 0 1.02-.2 1.41-.59l7.78-7.78 2.81-2.81c.8-.78.8-2.07 0-2.86zM5.41 20L4 18.59l7.72-7.72 1.47 1.35L5.41 20z\"/>\n",
       "  </svg>\n",
       "      </button>\n",
       "      \n",
       "  <style>\n",
       "    .colab-df-container {\n",
       "      display:flex;\n",
       "      flex-wrap:wrap;\n",
       "      gap: 12px;\n",
       "    }\n",
       "\n",
       "    .colab-df-convert {\n",
       "      background-color: #E8F0FE;\n",
       "      border: none;\n",
       "      border-radius: 50%;\n",
       "      cursor: pointer;\n",
       "      display: none;\n",
       "      fill: #1967D2;\n",
       "      height: 32px;\n",
       "      padding: 0 0 0 0;\n",
       "      width: 32px;\n",
       "    }\n",
       "\n",
       "    .colab-df-convert:hover {\n",
       "      background-color: #E2EBFA;\n",
       "      box-shadow: 0px 1px 2px rgba(60, 64, 67, 0.3), 0px 1px 3px 1px rgba(60, 64, 67, 0.15);\n",
       "      fill: #174EA6;\n",
       "    }\n",
       "\n",
       "    [theme=dark] .colab-df-convert {\n",
       "      background-color: #3B4455;\n",
       "      fill: #D2E3FC;\n",
       "    }\n",
       "\n",
       "    [theme=dark] .colab-df-convert:hover {\n",
       "      background-color: #434B5C;\n",
       "      box-shadow: 0px 1px 3px 1px rgba(0, 0, 0, 0.15);\n",
       "      filter: drop-shadow(0px 1px 2px rgba(0, 0, 0, 0.3));\n",
       "      fill: #FFFFFF;\n",
       "    }\n",
       "  </style>\n",
       "\n",
       "      <script>\n",
       "        const buttonEl =\n",
       "          document.querySelector('#df-840b54a0-c83a-417c-a148-b858e19cb9b9 button.colab-df-convert');\n",
       "        buttonEl.style.display =\n",
       "          google.colab.kernel.accessAllowed ? 'block' : 'none';\n",
       "\n",
       "        async function convertToInteractive(key) {\n",
       "          const element = document.querySelector('#df-840b54a0-c83a-417c-a148-b858e19cb9b9');\n",
       "          const dataTable =\n",
       "            await google.colab.kernel.invokeFunction('convertToInteractive',\n",
       "                                                     [key], {});\n",
       "          if (!dataTable) return;\n",
       "\n",
       "          const docLinkHtml = 'Like what you see? Visit the ' +\n",
       "            '<a target=\"_blank\" href=https://colab.research.google.com/notebooks/data_table.ipynb>data table notebook</a>'\n",
       "            + ' to learn more about interactive tables.';\n",
       "          element.innerHTML = '';\n",
       "          dataTable['output_type'] = 'display_data';\n",
       "          await google.colab.output.renderOutput(dataTable, element);\n",
       "          const docLink = document.createElement('div');\n",
       "          docLink.innerHTML = docLinkHtml;\n",
       "          element.appendChild(docLink);\n",
       "        }\n",
       "      </script>\n",
       "    </div>\n",
       "  </div>\n",
       "  "
      ]
     },
     "metadata": {},
     "execution_count": 87
    }
   ],
   "source": [
    "# Then we need to know what every synthetic transaction should contain: a date, a customer_id, an article_id, price, sales_channel_id. We will set ordered = 0, as these transactions didn't really occur.\n",
    "transactions.head()"
   ]
  },
  {
   "cell_type": "code",
   "execution_count": 88,
   "metadata": {
    "pycharm": {
     "is_executing": true
    },
    "scrolled": true,
    "id": "psdx9AHkLK9J"
   },
   "outputs": [],
   "source": [
    "# Extract real values\n",
    "real_dates = transactions[\"t_dat\"].unique()\n",
    "real_customers = transactions[\"customer_id\"].unique()\n",
    "real_articles = transactions[\"article_id\"].unique()\n",
    "real_channels = transactions[\"sales_channel_id\"].unique()\n",
    "article_and_price = transactions[[\"article_id\",\"price\"]].drop_duplicates(\"article_id\").set_index(\"article_id\").squeeze()"
   ]
  },
  {
   "cell_type": "code",
   "execution_count": 89,
   "metadata": {
    "pycharm": {
     "is_executing": true
    },
    "scrolled": true,
    "id": "lHqKAbgELK9K",
    "colab": {
     "base_uri": "https://localhost:8080/"
    },
    "outputId": "e0500056-966a-4ca7-9094-3ba688333ef3"
   },
   "outputs": [
    {
     "output_type": "stream",
     "name": "stdout",
     "text": [
      "1587856\n"
     ]
    }
   ],
   "source": [
    "# How many negatives do we need to sample?\n",
    "num_neg_pos = transactions.shape[0]\n",
    "print(num_neg_pos)"
   ]
  },
  {
   "cell_type": "code",
   "execution_count": 90,
   "metadata": {
    "pycharm": {
     "is_executing": true
    },
    "scrolled": true,
    "id": "bru7kQMOLK9K"
   },
   "outputs": [],
   "source": [
    "# Sampling negatives by selecting random users, articles, dates and sales channel:\n",
    "# Note: This is quite naive. Some articles may not even have been available at the date we are sampling.\n",
    "random.seed(42)\n",
    "\n",
    "# Afterwards, we need to remove potential duplicates, so we'll sample too many.\n",
    "num_neg_samples = int(num_neg_pos * 1.1)\n",
    "\n",
    "# Sample each of the independent attributes.\n",
    "neg_dates = np.random.choice(real_dates, size=num_neg_samples)\n",
    "neg_articles = np.random.choice(real_articles, size=num_neg_samples)\n",
    "neg_customers = np.random.choice(real_customers, size=num_neg_samples)\n",
    "neg_channels = np.random.choice(real_channels, size=num_neg_samples)\n",
    "ordered = np.array([0] * num_neg_samples)\n",
    "# Assign to every article a real price.\n",
    "neg_prices = article_and_price[neg_articles].values"
   ]
  },
  {
   "cell_type": "code",
   "execution_count": 91,
   "metadata": {
    "pycharm": {
     "is_executing": true
    },
    "scrolled": true,
    "id": "fuiKzMmnLK9L"
   },
   "outputs": [],
   "source": [
    "neg_transactions = pd.DataFrame([neg_dates, neg_customers, neg_articles, neg_prices, neg_channels, ordered], index=transactions.columns).T"
   ]
  },
  {
   "cell_type": "code",
   "execution_count": 92,
   "metadata": {
    "pycharm": {
     "is_executing": true
    },
    "scrolled": true,
    "id": "ooRt64NnLK9M",
    "colab": {
     "base_uri": "https://localhost:8080/",
     "height": 206
    },
    "outputId": "2d40c69a-4730-4b78-e9ff-058844280efd"
   },
   "outputs": [
    {
     "output_type": "execute_result",
     "data": {
      "text/plain": [
       "        t_dat                                        customer_id article_id  \\\n",
       "0  2019-08-11  2d1f0dd2f7d90a2561e37581ff1b8f30d8853cbbd8e36f...  620081008   \n",
       "1  2019-05-25  ab0079bb476dc7e63056a5dfaf9eddb4b0f3db0a70fa43...  718543001   \n",
       "2  2020-06-25  64757fae796f8a8993e20740a4d7cbe229839ce0333db9...  554867001   \n",
       "3  2019-10-06  29c0b67358a1a6bca3c7760ac05c9026333ab1f638394d...  443860037   \n",
       "4  2019-07-23  75044bd505b2587c7f8dbafa6371ac0d7dfaa65cbf3445...  605230002   \n",
       "\n",
       "      price sales_channel_id ordered  \n",
       "0  0.025407                1       0  \n",
       "1  0.033881                2       0  \n",
       "2  0.042356                1       0  \n",
       "3  0.050831                1       0  \n",
       "4  0.040661                1       0  "
      ],
      "text/html": [
       "\n",
       "  <div id=\"df-d59312da-6298-4fc3-9b97-8d85b85a0272\">\n",
       "    <div class=\"colab-df-container\">\n",
       "      <div>\n",
       "<style scoped>\n",
       "    .dataframe tbody tr th:only-of-type {\n",
       "        vertical-align: middle;\n",
       "    }\n",
       "\n",
       "    .dataframe tbody tr th {\n",
       "        vertical-align: top;\n",
       "    }\n",
       "\n",
       "    .dataframe thead th {\n",
       "        text-align: right;\n",
       "    }\n",
       "</style>\n",
       "<table border=\"1\" class=\"dataframe\">\n",
       "  <thead>\n",
       "    <tr style=\"text-align: right;\">\n",
       "      <th></th>\n",
       "      <th>t_dat</th>\n",
       "      <th>customer_id</th>\n",
       "      <th>article_id</th>\n",
       "      <th>price</th>\n",
       "      <th>sales_channel_id</th>\n",
       "      <th>ordered</th>\n",
       "    </tr>\n",
       "  </thead>\n",
       "  <tbody>\n",
       "    <tr>\n",
       "      <th>0</th>\n",
       "      <td>2019-08-11</td>\n",
       "      <td>2d1f0dd2f7d90a2561e37581ff1b8f30d8853cbbd8e36f...</td>\n",
       "      <td>620081008</td>\n",
       "      <td>0.025407</td>\n",
       "      <td>1</td>\n",
       "      <td>0</td>\n",
       "    </tr>\n",
       "    <tr>\n",
       "      <th>1</th>\n",
       "      <td>2019-05-25</td>\n",
       "      <td>ab0079bb476dc7e63056a5dfaf9eddb4b0f3db0a70fa43...</td>\n",
       "      <td>718543001</td>\n",
       "      <td>0.033881</td>\n",
       "      <td>2</td>\n",
       "      <td>0</td>\n",
       "    </tr>\n",
       "    <tr>\n",
       "      <th>2</th>\n",
       "      <td>2020-06-25</td>\n",
       "      <td>64757fae796f8a8993e20740a4d7cbe229839ce0333db9...</td>\n",
       "      <td>554867001</td>\n",
       "      <td>0.042356</td>\n",
       "      <td>1</td>\n",
       "      <td>0</td>\n",
       "    </tr>\n",
       "    <tr>\n",
       "      <th>3</th>\n",
       "      <td>2019-10-06</td>\n",
       "      <td>29c0b67358a1a6bca3c7760ac05c9026333ab1f638394d...</td>\n",
       "      <td>443860037</td>\n",
       "      <td>0.050831</td>\n",
       "      <td>1</td>\n",
       "      <td>0</td>\n",
       "    </tr>\n",
       "    <tr>\n",
       "      <th>4</th>\n",
       "      <td>2019-07-23</td>\n",
       "      <td>75044bd505b2587c7f8dbafa6371ac0d7dfaa65cbf3445...</td>\n",
       "      <td>605230002</td>\n",
       "      <td>0.040661</td>\n",
       "      <td>1</td>\n",
       "      <td>0</td>\n",
       "    </tr>\n",
       "  </tbody>\n",
       "</table>\n",
       "</div>\n",
       "      <button class=\"colab-df-convert\" onclick=\"convertToInteractive('df-d59312da-6298-4fc3-9b97-8d85b85a0272')\"\n",
       "              title=\"Convert this dataframe to an interactive table.\"\n",
       "              style=\"display:none;\">\n",
       "        \n",
       "  <svg xmlns=\"http://www.w3.org/2000/svg\" height=\"24px\"viewBox=\"0 0 24 24\"\n",
       "       width=\"24px\">\n",
       "    <path d=\"M0 0h24v24H0V0z\" fill=\"none\"/>\n",
       "    <path d=\"M18.56 5.44l.94 2.06.94-2.06 2.06-.94-2.06-.94-.94-2.06-.94 2.06-2.06.94zm-11 1L8.5 8.5l.94-2.06 2.06-.94-2.06-.94L8.5 2.5l-.94 2.06-2.06.94zm10 10l.94 2.06.94-2.06 2.06-.94-2.06-.94-.94-2.06-.94 2.06-2.06.94z\"/><path d=\"M17.41 7.96l-1.37-1.37c-.4-.4-.92-.59-1.43-.59-.52 0-1.04.2-1.43.59L10.3 9.45l-7.72 7.72c-.78.78-.78 2.05 0 2.83L4 21.41c.39.39.9.59 1.41.59.51 0 1.02-.2 1.41-.59l7.78-7.78 2.81-2.81c.8-.78.8-2.07 0-2.86zM5.41 20L4 18.59l7.72-7.72 1.47 1.35L5.41 20z\"/>\n",
       "  </svg>\n",
       "      </button>\n",
       "      \n",
       "  <style>\n",
       "    .colab-df-container {\n",
       "      display:flex;\n",
       "      flex-wrap:wrap;\n",
       "      gap: 12px;\n",
       "    }\n",
       "\n",
       "    .colab-df-convert {\n",
       "      background-color: #E8F0FE;\n",
       "      border: none;\n",
       "      border-radius: 50%;\n",
       "      cursor: pointer;\n",
       "      display: none;\n",
       "      fill: #1967D2;\n",
       "      height: 32px;\n",
       "      padding: 0 0 0 0;\n",
       "      width: 32px;\n",
       "    }\n",
       "\n",
       "    .colab-df-convert:hover {\n",
       "      background-color: #E2EBFA;\n",
       "      box-shadow: 0px 1px 2px rgba(60, 64, 67, 0.3), 0px 1px 3px 1px rgba(60, 64, 67, 0.15);\n",
       "      fill: #174EA6;\n",
       "    }\n",
       "\n",
       "    [theme=dark] .colab-df-convert {\n",
       "      background-color: #3B4455;\n",
       "      fill: #D2E3FC;\n",
       "    }\n",
       "\n",
       "    [theme=dark] .colab-df-convert:hover {\n",
       "      background-color: #434B5C;\n",
       "      box-shadow: 0px 1px 3px 1px rgba(0, 0, 0, 0.15);\n",
       "      filter: drop-shadow(0px 1px 2px rgba(0, 0, 0, 0.3));\n",
       "      fill: #FFFFFF;\n",
       "    }\n",
       "  </style>\n",
       "\n",
       "      <script>\n",
       "        const buttonEl =\n",
       "          document.querySelector('#df-d59312da-6298-4fc3-9b97-8d85b85a0272 button.colab-df-convert');\n",
       "        buttonEl.style.display =\n",
       "          google.colab.kernel.accessAllowed ? 'block' : 'none';\n",
       "\n",
       "        async function convertToInteractive(key) {\n",
       "          const element = document.querySelector('#df-d59312da-6298-4fc3-9b97-8d85b85a0272');\n",
       "          const dataTable =\n",
       "            await google.colab.kernel.invokeFunction('convertToInteractive',\n",
       "                                                     [key], {});\n",
       "          if (!dataTable) return;\n",
       "\n",
       "          const docLinkHtml = 'Like what you see? Visit the ' +\n",
       "            '<a target=\"_blank\" href=https://colab.research.google.com/notebooks/data_table.ipynb>data table notebook</a>'\n",
       "            + ' to learn more about interactive tables.';\n",
       "          element.innerHTML = '';\n",
       "          dataTable['output_type'] = 'display_data';\n",
       "          await google.colab.output.renderOutput(dataTable, element);\n",
       "          const docLink = document.createElement('div');\n",
       "          docLink.innerHTML = docLinkHtml;\n",
       "          element.appendChild(docLink);\n",
       "        }\n",
       "      </script>\n",
       "    </div>\n",
       "  </div>\n",
       "  "
      ]
     },
     "metadata": {},
     "execution_count": 92
    }
   ],
   "source": [
    "# Result:\n",
    "neg_transactions.head()"
   ]
  },
  {
   "cell_type": "code",
   "execution_count": 93,
   "metadata": {
    "pycharm": {
     "is_executing": true
    },
    "scrolled": true,
    "id": "-d7S1n3SLK9M",
    "colab": {
     "base_uri": "https://localhost:8080/"
    },
    "outputId": "1a6c174a-4fd1-46b6-cb1e-fa7f021464e6"
   },
   "outputs": [
    {
     "output_type": "execute_result",
     "data": {
      "text/plain": [
       "(1746641, 6)"
      ]
     },
     "metadata": {},
     "execution_count": 93
    }
   ],
   "source": [
    "neg_transactions.shape"
   ]
  },
  {
   "cell_type": "code",
   "execution_count": 94,
   "metadata": {
    "pycharm": {
     "is_executing": true
    },
    "scrolled": true,
    "id": "ZGsB-ZSTLK9M"
   },
   "outputs": [],
   "source": [
    "# Remove random negative samples that actually coincide with positives\n",
    "df = neg_transactions[\n",
    "    ~neg_transactions.set_index([\"customer_id\", \"article_id\"]).index.isin(positive_pairs)\n",
    "]\n",
    "\n",
    "# Remove any excess\n",
    "chosen_neg_transactions = df.sample(num_neg_pos)"
   ]
  },
  {
   "cell_type": "code",
   "execution_count": 95,
   "metadata": {
    "pycharm": {
     "is_executing": true
    },
    "scrolled": true,
    "id": "7bZUeuZfLK9N"
   },
   "outputs": [],
   "source": [
    "# Concat the negative samples to the positive samples:\n",
    "transactions = pd.concat([transactions, chosen_neg_transactions])\n",
    "transactions = transactions.merge(customers, how=\"inner\", on='customer_id')\n",
    "transactions = transactions.merge(articles, how=\"inner\", on='article_id')"
   ]
  },
  {
   "cell_type": "code",
   "execution_count": 96,
   "metadata": {
    "pycharm": {
     "is_executing": true
    },
    "scrolled": true,
    "id": "2j1lLMhfLK9N",
    "colab": {
     "base_uri": "https://localhost:8080/"
    },
    "outputId": "6f44e27f-35b8-4a5d-cd1c-23d0f1090eca"
   },
   "outputs": [
    {
     "output_type": "stream",
     "name": "stdout",
     "text": [
      "<class 'pandas.core.frame.DataFrame'>\n",
      "Int64Index: 3175712 entries, 0 to 3175711\n",
      "Data columns (total 36 columns):\n",
      " #   Column                        Dtype  \n",
      "---  ------                        -----  \n",
      " 0   t_dat                         object \n",
      " 1   customer_id                   object \n",
      " 2   article_id                    object \n",
      " 3   price                         object \n",
      " 4   sales_channel_id              object \n",
      " 5   ordered                       object \n",
      " 6   FN                            float64\n",
      " 7   Active                        float64\n",
      " 8   club_member_status            object \n",
      " 9   fashion_news_frequency        object \n",
      " 10  age                           float64\n",
      " 11  postal_code                   object \n",
      " 12  product_code                  int64  \n",
      " 13  prod_name                     object \n",
      " 14  product_type_no               int64  \n",
      " 15  product_type_name             object \n",
      " 16  product_group_name            object \n",
      " 17  graphical_appearance_no       int64  \n",
      " 18  graphical_appearance_name     object \n",
      " 19  colour_group_code             int64  \n",
      " 20  colour_group_name             object \n",
      " 21  perceived_colour_value_id     int64  \n",
      " 22  perceived_colour_value_name   object \n",
      " 23  perceived_colour_master_id    int64  \n",
      " 24  perceived_colour_master_name  object \n",
      " 25  department_no                 int64  \n",
      " 26  department_name               object \n",
      " 27  index_code                    object \n",
      " 28  index_name                    object \n",
      " 29  index_group_no                int64  \n",
      " 30  index_group_name              object \n",
      " 31  section_no                    int64  \n",
      " 32  section_name                  object \n",
      " 33  garment_group_no              int64  \n",
      " 34  garment_group_name            object \n",
      " 35  detail_desc                   object \n",
      "dtypes: float64(3), int64(10), object(23)\n",
      "memory usage: 896.5+ MB\n"
     ]
    }
   ],
   "source": [
    "transactions.info()"
   ]
  },
  {
   "cell_type": "markdown",
   "metadata": {
    "id": "vKg3dTWALK9N"
   },
   "source": [
    "### Basic Preprocessing\n",
    "Some very basic preprocessing."
   ]
  },
  {
   "cell_type": "code",
   "execution_count": 97,
   "metadata": {
    "pycharm": {
     "is_executing": true
    },
    "scrolled": true,
    "id": "yWnb0QhGLK9O",
    "colab": {
     "base_uri": "https://localhost:8080/",
     "height": 270
    },
    "outputId": "4589a16d-a227-421a-9408-cbad073e14aa"
   },
   "outputs": [
    {
     "output_type": "execute_result",
     "data": {
      "text/plain": [
       "                                         customer_id   age article_id  \\\n",
       "0  003ac6eff3ca20cbe4e14a106a5e28b7551616005de8f9...  27.0  617322003   \n",
       "1  003ac6eff3ca20cbe4e14a106a5e28b7551616005de8f9...  27.0  617322003   \n",
       "2  54c8227e06a0fcce2fdc7fb674b60e5c81697f12e781f5...  32.0  617322003   \n",
       "3  84d5c6f9ebbacfd9c9257cfe4f4ed71793265b2e082b57...  29.0  617322003   \n",
       "4  bf4d3ef3035d2164b6ec9402b37324303cb11cd51ce809...  62.0  617322003   \n",
       "\n",
       "  sales_channel_id     price ordered  \n",
       "0                1  0.033881       1  \n",
       "1                1  0.018627       1  \n",
       "2                1  0.027102       1  \n",
       "3                2  0.022017       1  \n",
       "4                2  0.022017       1  "
      ],
      "text/html": [
       "\n",
       "  <div id=\"df-7fb09223-5d77-4b22-81c3-d2de0b79bf4a\">\n",
       "    <div class=\"colab-df-container\">\n",
       "      <div>\n",
       "<style scoped>\n",
       "    .dataframe tbody tr th:only-of-type {\n",
       "        vertical-align: middle;\n",
       "    }\n",
       "\n",
       "    .dataframe tbody tr th {\n",
       "        vertical-align: top;\n",
       "    }\n",
       "\n",
       "    .dataframe thead th {\n",
       "        text-align: right;\n",
       "    }\n",
       "</style>\n",
       "<table border=\"1\" class=\"dataframe\">\n",
       "  <thead>\n",
       "    <tr style=\"text-align: right;\">\n",
       "      <th></th>\n",
       "      <th>customer_id</th>\n",
       "      <th>age</th>\n",
       "      <th>article_id</th>\n",
       "      <th>sales_channel_id</th>\n",
       "      <th>price</th>\n",
       "      <th>ordered</th>\n",
       "    </tr>\n",
       "  </thead>\n",
       "  <tbody>\n",
       "    <tr>\n",
       "      <th>0</th>\n",
       "      <td>003ac6eff3ca20cbe4e14a106a5e28b7551616005de8f9...</td>\n",
       "      <td>27.0</td>\n",
       "      <td>617322003</td>\n",
       "      <td>1</td>\n",
       "      <td>0.033881</td>\n",
       "      <td>1</td>\n",
       "    </tr>\n",
       "    <tr>\n",
       "      <th>1</th>\n",
       "      <td>003ac6eff3ca20cbe4e14a106a5e28b7551616005de8f9...</td>\n",
       "      <td>27.0</td>\n",
       "      <td>617322003</td>\n",
       "      <td>1</td>\n",
       "      <td>0.018627</td>\n",
       "      <td>1</td>\n",
       "    </tr>\n",
       "    <tr>\n",
       "      <th>2</th>\n",
       "      <td>54c8227e06a0fcce2fdc7fb674b60e5c81697f12e781f5...</td>\n",
       "      <td>32.0</td>\n",
       "      <td>617322003</td>\n",
       "      <td>1</td>\n",
       "      <td>0.027102</td>\n",
       "      <td>1</td>\n",
       "    </tr>\n",
       "    <tr>\n",
       "      <th>3</th>\n",
       "      <td>84d5c6f9ebbacfd9c9257cfe4f4ed71793265b2e082b57...</td>\n",
       "      <td>29.0</td>\n",
       "      <td>617322003</td>\n",
       "      <td>2</td>\n",
       "      <td>0.022017</td>\n",
       "      <td>1</td>\n",
       "    </tr>\n",
       "    <tr>\n",
       "      <th>4</th>\n",
       "      <td>bf4d3ef3035d2164b6ec9402b37324303cb11cd51ce809...</td>\n",
       "      <td>62.0</td>\n",
       "      <td>617322003</td>\n",
       "      <td>2</td>\n",
       "      <td>0.022017</td>\n",
       "      <td>1</td>\n",
       "    </tr>\n",
       "  </tbody>\n",
       "</table>\n",
       "</div>\n",
       "      <button class=\"colab-df-convert\" onclick=\"convertToInteractive('df-7fb09223-5d77-4b22-81c3-d2de0b79bf4a')\"\n",
       "              title=\"Convert this dataframe to an interactive table.\"\n",
       "              style=\"display:none;\">\n",
       "        \n",
       "  <svg xmlns=\"http://www.w3.org/2000/svg\" height=\"24px\"viewBox=\"0 0 24 24\"\n",
       "       width=\"24px\">\n",
       "    <path d=\"M0 0h24v24H0V0z\" fill=\"none\"/>\n",
       "    <path d=\"M18.56 5.44l.94 2.06.94-2.06 2.06-.94-2.06-.94-.94-2.06-.94 2.06-2.06.94zm-11 1L8.5 8.5l.94-2.06 2.06-.94-2.06-.94L8.5 2.5l-.94 2.06-2.06.94zm10 10l.94 2.06.94-2.06 2.06-.94-2.06-.94-.94-2.06-.94 2.06-2.06.94z\"/><path d=\"M17.41 7.96l-1.37-1.37c-.4-.4-.92-.59-1.43-.59-.52 0-1.04.2-1.43.59L10.3 9.45l-7.72 7.72c-.78.78-.78 2.05 0 2.83L4 21.41c.39.39.9.59 1.41.59.51 0 1.02-.2 1.41-.59l7.78-7.78 2.81-2.81c.8-.78.8-2.07 0-2.86zM5.41 20L4 18.59l7.72-7.72 1.47 1.35L5.41 20z\"/>\n",
       "  </svg>\n",
       "      </button>\n",
       "      \n",
       "  <style>\n",
       "    .colab-df-container {\n",
       "      display:flex;\n",
       "      flex-wrap:wrap;\n",
       "      gap: 12px;\n",
       "    }\n",
       "\n",
       "    .colab-df-convert {\n",
       "      background-color: #E8F0FE;\n",
       "      border: none;\n",
       "      border-radius: 50%;\n",
       "      cursor: pointer;\n",
       "      display: none;\n",
       "      fill: #1967D2;\n",
       "      height: 32px;\n",
       "      padding: 0 0 0 0;\n",
       "      width: 32px;\n",
       "    }\n",
       "\n",
       "    .colab-df-convert:hover {\n",
       "      background-color: #E2EBFA;\n",
       "      box-shadow: 0px 1px 2px rgba(60, 64, 67, 0.3), 0px 1px 3px 1px rgba(60, 64, 67, 0.15);\n",
       "      fill: #174EA6;\n",
       "    }\n",
       "\n",
       "    [theme=dark] .colab-df-convert {\n",
       "      background-color: #3B4455;\n",
       "      fill: #D2E3FC;\n",
       "    }\n",
       "\n",
       "    [theme=dark] .colab-df-convert:hover {\n",
       "      background-color: #434B5C;\n",
       "      box-shadow: 0px 1px 3px 1px rgba(0, 0, 0, 0.15);\n",
       "      filter: drop-shadow(0px 1px 2px rgba(0, 0, 0, 0.3));\n",
       "      fill: #FFFFFF;\n",
       "    }\n",
       "  </style>\n",
       "\n",
       "      <script>\n",
       "        const buttonEl =\n",
       "          document.querySelector('#df-7fb09223-5d77-4b22-81c3-d2de0b79bf4a button.colab-df-convert');\n",
       "        buttonEl.style.display =\n",
       "          google.colab.kernel.accessAllowed ? 'block' : 'none';\n",
       "\n",
       "        async function convertToInteractive(key) {\n",
       "          const element = document.querySelector('#df-7fb09223-5d77-4b22-81c3-d2de0b79bf4a');\n",
       "          const dataTable =\n",
       "            await google.colab.kernel.invokeFunction('convertToInteractive',\n",
       "                                                     [key], {});\n",
       "          if (!dataTable) return;\n",
       "\n",
       "          const docLinkHtml = 'Like what you see? Visit the ' +\n",
       "            '<a target=\"_blank\" href=https://colab.research.google.com/notebooks/data_table.ipynb>data table notebook</a>'\n",
       "            + ' to learn more about interactive tables.';\n",
       "          element.innerHTML = '';\n",
       "          dataTable['output_type'] = 'display_data';\n",
       "          await google.colab.output.renderOutput(dataTable, element);\n",
       "          const docLink = document.createElement('div');\n",
       "          docLink.innerHTML = docLinkHtml;\n",
       "          element.appendChild(docLink);\n",
       "        }\n",
       "      </script>\n",
       "    </div>\n",
       "  </div>\n",
       "  "
      ]
     },
     "metadata": {},
     "execution_count": 97
    }
   ],
   "source": [
    "# I'm dropping a lot of columns, use them in your engineering tasks!\n",
    "transactions_processed = transactions[['customer_id', 'age', 'article_id', 'sales_channel_id', 'price', 'ordered']].copy()\n",
    "transactions_processed.head()"
   ]
  },
  {
   "cell_type": "code",
   "execution_count": 98,
   "metadata": {
    "pycharm": {
     "is_executing": true
    },
    "scrolled": true,
    "id": "G33mvXOjLK9O"
   },
   "outputs": [],
   "source": [
    "# Does it make sense to label encode?\n",
    "# Label encoding the customer and article IDs:\n",
    "customer_encoder = preprocessing.LabelEncoder()\n",
    "article_encoder = preprocessing.LabelEncoder()"
   ]
  },
  {
   "cell_type": "code",
   "execution_count": 99,
   "metadata": {
    "pycharm": {
     "is_executing": true
    },
    "scrolled": true,
    "id": "EB4L74PALK9O"
   },
   "outputs": [],
   "source": [
    "transactions_processed['customer_id'] = customer_encoder.fit_transform(transactions_processed['customer_id'])\n",
    "transactions_processed['article_id'] = article_encoder.fit_transform(transactions_processed['article_id'])"
   ]
  },
  {
   "cell_type": "code",
   "execution_count": 100,
   "metadata": {
    "pycharm": {
     "is_executing": true
    },
    "scrolled": true,
    "id": "4WA61I5MLK9P",
    "colab": {
     "base_uri": "https://localhost:8080/"
    },
    "outputId": "0f456dbf-24bd-4337-d54b-807f30f4e717"
   },
   "outputs": [
    {
     "output_type": "execute_result",
     "data": {
      "text/plain": [
       "array(['0002e6a17e3a75600888cac019846a600c9c6fe2bc1565613c6fa6c13f727071'],\n",
       "      dtype=object)"
      ]
     },
     "metadata": {},
     "execution_count": 100
    }
   ],
   "source": [
    "# If you want to go back to the original encoding:\n",
    "customer_encoder.inverse_transform([2])"
   ]
  },
  {
   "cell_type": "code",
   "execution_count": 101,
   "metadata": {
    "pycharm": {
     "is_executing": true
    },
    "scrolled": true,
    "id": "_HDNQG4NLK9P",
    "colab": {
     "base_uri": "https://localhost:8080/",
     "height": 270
    },
    "outputId": "42735a03-c73f-4208-8bcc-40a0a56bd5d6"
   },
   "outputs": [
    {
     "output_type": "execute_result",
     "data": {
      "text/plain": [
       "   customer_id   age  article_id sales_channel_id     price ordered\n",
       "0           57  27.0       16154                1  0.033881       1\n",
       "1           57  27.0       16154                1  0.018627       1\n",
       "2        22500  32.0       16154                1  0.027102       1\n",
       "3        35361  29.0       16154                2  0.022017       1\n",
       "4        51087  62.0       16154                2  0.022017       1"
      ],
      "text/html": [
       "\n",
       "  <div id=\"df-28a35445-ef17-4ee5-979d-9c59d444201d\">\n",
       "    <div class=\"colab-df-container\">\n",
       "      <div>\n",
       "<style scoped>\n",
       "    .dataframe tbody tr th:only-of-type {\n",
       "        vertical-align: middle;\n",
       "    }\n",
       "\n",
       "    .dataframe tbody tr th {\n",
       "        vertical-align: top;\n",
       "    }\n",
       "\n",
       "    .dataframe thead th {\n",
       "        text-align: right;\n",
       "    }\n",
       "</style>\n",
       "<table border=\"1\" class=\"dataframe\">\n",
       "  <thead>\n",
       "    <tr style=\"text-align: right;\">\n",
       "      <th></th>\n",
       "      <th>customer_id</th>\n",
       "      <th>age</th>\n",
       "      <th>article_id</th>\n",
       "      <th>sales_channel_id</th>\n",
       "      <th>price</th>\n",
       "      <th>ordered</th>\n",
       "    </tr>\n",
       "  </thead>\n",
       "  <tbody>\n",
       "    <tr>\n",
       "      <th>0</th>\n",
       "      <td>57</td>\n",
       "      <td>27.0</td>\n",
       "      <td>16154</td>\n",
       "      <td>1</td>\n",
       "      <td>0.033881</td>\n",
       "      <td>1</td>\n",
       "    </tr>\n",
       "    <tr>\n",
       "      <th>1</th>\n",
       "      <td>57</td>\n",
       "      <td>27.0</td>\n",
       "      <td>16154</td>\n",
       "      <td>1</td>\n",
       "      <td>0.018627</td>\n",
       "      <td>1</td>\n",
       "    </tr>\n",
       "    <tr>\n",
       "      <th>2</th>\n",
       "      <td>22500</td>\n",
       "      <td>32.0</td>\n",
       "      <td>16154</td>\n",
       "      <td>1</td>\n",
       "      <td>0.027102</td>\n",
       "      <td>1</td>\n",
       "    </tr>\n",
       "    <tr>\n",
       "      <th>3</th>\n",
       "      <td>35361</td>\n",
       "      <td>29.0</td>\n",
       "      <td>16154</td>\n",
       "      <td>2</td>\n",
       "      <td>0.022017</td>\n",
       "      <td>1</td>\n",
       "    </tr>\n",
       "    <tr>\n",
       "      <th>4</th>\n",
       "      <td>51087</td>\n",
       "      <td>62.0</td>\n",
       "      <td>16154</td>\n",
       "      <td>2</td>\n",
       "      <td>0.022017</td>\n",
       "      <td>1</td>\n",
       "    </tr>\n",
       "  </tbody>\n",
       "</table>\n",
       "</div>\n",
       "      <button class=\"colab-df-convert\" onclick=\"convertToInteractive('df-28a35445-ef17-4ee5-979d-9c59d444201d')\"\n",
       "              title=\"Convert this dataframe to an interactive table.\"\n",
       "              style=\"display:none;\">\n",
       "        \n",
       "  <svg xmlns=\"http://www.w3.org/2000/svg\" height=\"24px\"viewBox=\"0 0 24 24\"\n",
       "       width=\"24px\">\n",
       "    <path d=\"M0 0h24v24H0V0z\" fill=\"none\"/>\n",
       "    <path d=\"M18.56 5.44l.94 2.06.94-2.06 2.06-.94-2.06-.94-.94-2.06-.94 2.06-2.06.94zm-11 1L8.5 8.5l.94-2.06 2.06-.94-2.06-.94L8.5 2.5l-.94 2.06-2.06.94zm10 10l.94 2.06.94-2.06 2.06-.94-2.06-.94-.94-2.06-.94 2.06-2.06.94z\"/><path d=\"M17.41 7.96l-1.37-1.37c-.4-.4-.92-.59-1.43-.59-.52 0-1.04.2-1.43.59L10.3 9.45l-7.72 7.72c-.78.78-.78 2.05 0 2.83L4 21.41c.39.39.9.59 1.41.59.51 0 1.02-.2 1.41-.59l7.78-7.78 2.81-2.81c.8-.78.8-2.07 0-2.86zM5.41 20L4 18.59l7.72-7.72 1.47 1.35L5.41 20z\"/>\n",
       "  </svg>\n",
       "      </button>\n",
       "      \n",
       "  <style>\n",
       "    .colab-df-container {\n",
       "      display:flex;\n",
       "      flex-wrap:wrap;\n",
       "      gap: 12px;\n",
       "    }\n",
       "\n",
       "    .colab-df-convert {\n",
       "      background-color: #E8F0FE;\n",
       "      border: none;\n",
       "      border-radius: 50%;\n",
       "      cursor: pointer;\n",
       "      display: none;\n",
       "      fill: #1967D2;\n",
       "      height: 32px;\n",
       "      padding: 0 0 0 0;\n",
       "      width: 32px;\n",
       "    }\n",
       "\n",
       "    .colab-df-convert:hover {\n",
       "      background-color: #E2EBFA;\n",
       "      box-shadow: 0px 1px 2px rgba(60, 64, 67, 0.3), 0px 1px 3px 1px rgba(60, 64, 67, 0.15);\n",
       "      fill: #174EA6;\n",
       "    }\n",
       "\n",
       "    [theme=dark] .colab-df-convert {\n",
       "      background-color: #3B4455;\n",
       "      fill: #D2E3FC;\n",
       "    }\n",
       "\n",
       "    [theme=dark] .colab-df-convert:hover {\n",
       "      background-color: #434B5C;\n",
       "      box-shadow: 0px 1px 3px 1px rgba(0, 0, 0, 0.15);\n",
       "      filter: drop-shadow(0px 1px 2px rgba(0, 0, 0, 0.3));\n",
       "      fill: #FFFFFF;\n",
       "    }\n",
       "  </style>\n",
       "\n",
       "      <script>\n",
       "        const buttonEl =\n",
       "          document.querySelector('#df-28a35445-ef17-4ee5-979d-9c59d444201d button.colab-df-convert');\n",
       "        buttonEl.style.display =\n",
       "          google.colab.kernel.accessAllowed ? 'block' : 'none';\n",
       "\n",
       "        async function convertToInteractive(key) {\n",
       "          const element = document.querySelector('#df-28a35445-ef17-4ee5-979d-9c59d444201d');\n",
       "          const dataTable =\n",
       "            await google.colab.kernel.invokeFunction('convertToInteractive',\n",
       "                                                     [key], {});\n",
       "          if (!dataTable) return;\n",
       "\n",
       "          const docLinkHtml = 'Like what you see? Visit the ' +\n",
       "            '<a target=\"_blank\" href=https://colab.research.google.com/notebooks/data_table.ipynb>data table notebook</a>'\n",
       "            + ' to learn more about interactive tables.';\n",
       "          element.innerHTML = '';\n",
       "          dataTable['output_type'] = 'display_data';\n",
       "          await google.colab.output.renderOutput(dataTable, element);\n",
       "          const docLink = document.createElement('div');\n",
       "          docLink.innerHTML = docLinkHtml;\n",
       "          element.appendChild(docLink);\n",
       "        }\n",
       "      </script>\n",
       "    </div>\n",
       "  </div>\n",
       "  "
      ]
     },
     "metadata": {},
     "execution_count": 101
    }
   ],
   "source": [
    "transactions_processed.head()"
   ]
  },
  {
   "cell_type": "code",
   "execution_count": 102,
   "metadata": {
    "pycharm": {
     "is_executing": true
    },
    "scrolled": true,
    "id": "Z5JTEYLzLK9P",
    "colab": {
     "base_uri": "https://localhost:8080/"
    },
    "outputId": "8390e760-00c0-4677-d73e-30ae2e713f88"
   },
   "outputs": [
    {
     "output_type": "execute_result",
     "data": {
      "text/plain": [
       "False"
      ]
     },
     "metadata": {},
     "execution_count": 102
    }
   ],
   "source": [
    "# Can you come up with a NaN strategy that makes sense for each column in the dataset?\n",
    "# Imputing all NaN values with zeros:\n",
    "transactions_processed = transactions_processed.fillna(0)\n",
    "transactions_processed.isnull().values.any()"
   ]
  },
  {
   "cell_type": "code",
   "execution_count": 103,
   "metadata": {
    "pycharm": {
     "is_executing": true
    },
    "scrolled": true,
    "id": "UiIteZ6lLK9Q"
   },
   "outputs": [],
   "source": [
    "# Does it make sense to one-hot encode?\n",
    "# One-hot-encoding sales_channel_id:\n",
    "transactions_processed = pd.get_dummies(transactions_processed, columns=['sales_channel_id'])"
   ]
  },
  {
   "cell_type": "code",
   "execution_count": 104,
   "metadata": {
    "pycharm": {
     "is_executing": true
    },
    "scrolled": true,
    "id": "ql_NEqJ3LK9Q",
    "colab": {
     "base_uri": "https://localhost:8080/",
     "height": 270
    },
    "outputId": "82e43765-72a3-4713-f66d-3e697b5a683e"
   },
   "outputs": [
    {
     "output_type": "execute_result",
     "data": {
      "text/plain": [
       "   customer_id   age  article_id     price  ordered  sales_channel_id_1  \\\n",
       "0           57  27.0       16154  0.033881        1                   1   \n",
       "1           57  27.0       16154  0.018627        1                   1   \n",
       "2        22500  32.0       16154  0.027102        1                   1   \n",
       "3        35361  29.0       16154  0.022017        1                   0   \n",
       "4        51087  62.0       16154  0.022017        1                   0   \n",
       "\n",
       "   sales_channel_id_2  \n",
       "0                   0  \n",
       "1                   0  \n",
       "2                   0  \n",
       "3                   1  \n",
       "4                   1  "
      ],
      "text/html": [
       "\n",
       "  <div id=\"df-d836daca-e740-4a8a-b211-4916f1145f69\">\n",
       "    <div class=\"colab-df-container\">\n",
       "      <div>\n",
       "<style scoped>\n",
       "    .dataframe tbody tr th:only-of-type {\n",
       "        vertical-align: middle;\n",
       "    }\n",
       "\n",
       "    .dataframe tbody tr th {\n",
       "        vertical-align: top;\n",
       "    }\n",
       "\n",
       "    .dataframe thead th {\n",
       "        text-align: right;\n",
       "    }\n",
       "</style>\n",
       "<table border=\"1\" class=\"dataframe\">\n",
       "  <thead>\n",
       "    <tr style=\"text-align: right;\">\n",
       "      <th></th>\n",
       "      <th>customer_id</th>\n",
       "      <th>age</th>\n",
       "      <th>article_id</th>\n",
       "      <th>price</th>\n",
       "      <th>ordered</th>\n",
       "      <th>sales_channel_id_1</th>\n",
       "      <th>sales_channel_id_2</th>\n",
       "    </tr>\n",
       "  </thead>\n",
       "  <tbody>\n",
       "    <tr>\n",
       "      <th>0</th>\n",
       "      <td>57</td>\n",
       "      <td>27.0</td>\n",
       "      <td>16154</td>\n",
       "      <td>0.033881</td>\n",
       "      <td>1</td>\n",
       "      <td>1</td>\n",
       "      <td>0</td>\n",
       "    </tr>\n",
       "    <tr>\n",
       "      <th>1</th>\n",
       "      <td>57</td>\n",
       "      <td>27.0</td>\n",
       "      <td>16154</td>\n",
       "      <td>0.018627</td>\n",
       "      <td>1</td>\n",
       "      <td>1</td>\n",
       "      <td>0</td>\n",
       "    </tr>\n",
       "    <tr>\n",
       "      <th>2</th>\n",
       "      <td>22500</td>\n",
       "      <td>32.0</td>\n",
       "      <td>16154</td>\n",
       "      <td>0.027102</td>\n",
       "      <td>1</td>\n",
       "      <td>1</td>\n",
       "      <td>0</td>\n",
       "    </tr>\n",
       "    <tr>\n",
       "      <th>3</th>\n",
       "      <td>35361</td>\n",
       "      <td>29.0</td>\n",
       "      <td>16154</td>\n",
       "      <td>0.022017</td>\n",
       "      <td>1</td>\n",
       "      <td>0</td>\n",
       "      <td>1</td>\n",
       "    </tr>\n",
       "    <tr>\n",
       "      <th>4</th>\n",
       "      <td>51087</td>\n",
       "      <td>62.0</td>\n",
       "      <td>16154</td>\n",
       "      <td>0.022017</td>\n",
       "      <td>1</td>\n",
       "      <td>0</td>\n",
       "      <td>1</td>\n",
       "    </tr>\n",
       "  </tbody>\n",
       "</table>\n",
       "</div>\n",
       "      <button class=\"colab-df-convert\" onclick=\"convertToInteractive('df-d836daca-e740-4a8a-b211-4916f1145f69')\"\n",
       "              title=\"Convert this dataframe to an interactive table.\"\n",
       "              style=\"display:none;\">\n",
       "        \n",
       "  <svg xmlns=\"http://www.w3.org/2000/svg\" height=\"24px\"viewBox=\"0 0 24 24\"\n",
       "       width=\"24px\">\n",
       "    <path d=\"M0 0h24v24H0V0z\" fill=\"none\"/>\n",
       "    <path d=\"M18.56 5.44l.94 2.06.94-2.06 2.06-.94-2.06-.94-.94-2.06-.94 2.06-2.06.94zm-11 1L8.5 8.5l.94-2.06 2.06-.94-2.06-.94L8.5 2.5l-.94 2.06-2.06.94zm10 10l.94 2.06.94-2.06 2.06-.94-2.06-.94-.94-2.06-.94 2.06-2.06.94z\"/><path d=\"M17.41 7.96l-1.37-1.37c-.4-.4-.92-.59-1.43-.59-.52 0-1.04.2-1.43.59L10.3 9.45l-7.72 7.72c-.78.78-.78 2.05 0 2.83L4 21.41c.39.39.9.59 1.41.59.51 0 1.02-.2 1.41-.59l7.78-7.78 2.81-2.81c.8-.78.8-2.07 0-2.86zM5.41 20L4 18.59l7.72-7.72 1.47 1.35L5.41 20z\"/>\n",
       "  </svg>\n",
       "      </button>\n",
       "      \n",
       "  <style>\n",
       "    .colab-df-container {\n",
       "      display:flex;\n",
       "      flex-wrap:wrap;\n",
       "      gap: 12px;\n",
       "    }\n",
       "\n",
       "    .colab-df-convert {\n",
       "      background-color: #E8F0FE;\n",
       "      border: none;\n",
       "      border-radius: 50%;\n",
       "      cursor: pointer;\n",
       "      display: none;\n",
       "      fill: #1967D2;\n",
       "      height: 32px;\n",
       "      padding: 0 0 0 0;\n",
       "      width: 32px;\n",
       "    }\n",
       "\n",
       "    .colab-df-convert:hover {\n",
       "      background-color: #E2EBFA;\n",
       "      box-shadow: 0px 1px 2px rgba(60, 64, 67, 0.3), 0px 1px 3px 1px rgba(60, 64, 67, 0.15);\n",
       "      fill: #174EA6;\n",
       "    }\n",
       "\n",
       "    [theme=dark] .colab-df-convert {\n",
       "      background-color: #3B4455;\n",
       "      fill: #D2E3FC;\n",
       "    }\n",
       "\n",
       "    [theme=dark] .colab-df-convert:hover {\n",
       "      background-color: #434B5C;\n",
       "      box-shadow: 0px 1px 3px 1px rgba(0, 0, 0, 0.15);\n",
       "      filter: drop-shadow(0px 1px 2px rgba(0, 0, 0, 0.3));\n",
       "      fill: #FFFFFF;\n",
       "    }\n",
       "  </style>\n",
       "\n",
       "      <script>\n",
       "        const buttonEl =\n",
       "          document.querySelector('#df-d836daca-e740-4a8a-b211-4916f1145f69 button.colab-df-convert');\n",
       "        buttonEl.style.display =\n",
       "          google.colab.kernel.accessAllowed ? 'block' : 'none';\n",
       "\n",
       "        async function convertToInteractive(key) {\n",
       "          const element = document.querySelector('#df-d836daca-e740-4a8a-b211-4916f1145f69');\n",
       "          const dataTable =\n",
       "            await google.colab.kernel.invokeFunction('convertToInteractive',\n",
       "                                                     [key], {});\n",
       "          if (!dataTable) return;\n",
       "\n",
       "          const docLinkHtml = 'Like what you see? Visit the ' +\n",
       "            '<a target=\"_blank\" href=https://colab.research.google.com/notebooks/data_table.ipynb>data table notebook</a>'\n",
       "            + ' to learn more about interactive tables.';\n",
       "          element.innerHTML = '';\n",
       "          dataTable['output_type'] = 'display_data';\n",
       "          await google.colab.output.renderOutput(dataTable, element);\n",
       "          const docLink = document.createElement('div');\n",
       "          docLink.innerHTML = docLinkHtml;\n",
       "          element.appendChild(docLink);\n",
       "        }\n",
       "      </script>\n",
       "    </div>\n",
       "  </div>\n",
       "  "
      ]
     },
     "metadata": {},
     "execution_count": 104
    }
   ],
   "source": [
    "transactions_processed.head()"
   ]
  },
  {
   "cell_type": "code",
   "execution_count": 105,
   "metadata": {
    "pycharm": {
     "is_executing": true
    },
    "scrolled": true,
    "id": "NNBUze4qLK9Q"
   },
   "outputs": [],
   "source": [
    "# Creating a Train / Test Split:\n",
    "X_train, X_test, y_train, y_test = train_test_split(transactions_processed.drop('ordered', axis=1), transactions_processed['ordered'], test_size=0.10, random_state=42)"
   ]
  },
  {
   "cell_type": "code",
   "execution_count": 106,
   "metadata": {
    "pycharm": {
     "is_executing": true
    },
    "scrolled": true,
    "id": "FJaedraQLK9R",
    "colab": {
     "base_uri": "https://localhost:8080/",
     "height": 270
    },
    "outputId": "56f8f82a-9b76-4413-a1d1-7b203cb10061"
   },
   "outputs": [
    {
     "output_type": "execute_result",
     "data": {
      "text/plain": [
       "         customer_id   age  article_id     price  sales_channel_id_1  \\\n",
       "590008         10288  26.0       41521  0.050831                   0   \n",
       "2505359        11492  19.0       73763  0.013542                   0   \n",
       "3081145        53802  36.0       48934  0.067780                   0   \n",
       "795365         20685  28.0       66390  0.016932                   0   \n",
       "2292090          267  49.0       60495  0.047441                   0   \n",
       "\n",
       "         sales_channel_id_2  \n",
       "590008                    1  \n",
       "2505359                   1  \n",
       "3081145                   1  \n",
       "795365                    1  \n",
       "2292090                   1  "
      ],
      "text/html": [
       "\n",
       "  <div id=\"df-a9e489e1-55a7-4cb2-8e0a-b827d8ee2e01\">\n",
       "    <div class=\"colab-df-container\">\n",
       "      <div>\n",
       "<style scoped>\n",
       "    .dataframe tbody tr th:only-of-type {\n",
       "        vertical-align: middle;\n",
       "    }\n",
       "\n",
       "    .dataframe tbody tr th {\n",
       "        vertical-align: top;\n",
       "    }\n",
       "\n",
       "    .dataframe thead th {\n",
       "        text-align: right;\n",
       "    }\n",
       "</style>\n",
       "<table border=\"1\" class=\"dataframe\">\n",
       "  <thead>\n",
       "    <tr style=\"text-align: right;\">\n",
       "      <th></th>\n",
       "      <th>customer_id</th>\n",
       "      <th>age</th>\n",
       "      <th>article_id</th>\n",
       "      <th>price</th>\n",
       "      <th>sales_channel_id_1</th>\n",
       "      <th>sales_channel_id_2</th>\n",
       "    </tr>\n",
       "  </thead>\n",
       "  <tbody>\n",
       "    <tr>\n",
       "      <th>590008</th>\n",
       "      <td>10288</td>\n",
       "      <td>26.0</td>\n",
       "      <td>41521</td>\n",
       "      <td>0.050831</td>\n",
       "      <td>0</td>\n",
       "      <td>1</td>\n",
       "    </tr>\n",
       "    <tr>\n",
       "      <th>2505359</th>\n",
       "      <td>11492</td>\n",
       "      <td>19.0</td>\n",
       "      <td>73763</td>\n",
       "      <td>0.013542</td>\n",
       "      <td>0</td>\n",
       "      <td>1</td>\n",
       "    </tr>\n",
       "    <tr>\n",
       "      <th>3081145</th>\n",
       "      <td>53802</td>\n",
       "      <td>36.0</td>\n",
       "      <td>48934</td>\n",
       "      <td>0.067780</td>\n",
       "      <td>0</td>\n",
       "      <td>1</td>\n",
       "    </tr>\n",
       "    <tr>\n",
       "      <th>795365</th>\n",
       "      <td>20685</td>\n",
       "      <td>28.0</td>\n",
       "      <td>66390</td>\n",
       "      <td>0.016932</td>\n",
       "      <td>0</td>\n",
       "      <td>1</td>\n",
       "    </tr>\n",
       "    <tr>\n",
       "      <th>2292090</th>\n",
       "      <td>267</td>\n",
       "      <td>49.0</td>\n",
       "      <td>60495</td>\n",
       "      <td>0.047441</td>\n",
       "      <td>0</td>\n",
       "      <td>1</td>\n",
       "    </tr>\n",
       "  </tbody>\n",
       "</table>\n",
       "</div>\n",
       "      <button class=\"colab-df-convert\" onclick=\"convertToInteractive('df-a9e489e1-55a7-4cb2-8e0a-b827d8ee2e01')\"\n",
       "              title=\"Convert this dataframe to an interactive table.\"\n",
       "              style=\"display:none;\">\n",
       "        \n",
       "  <svg xmlns=\"http://www.w3.org/2000/svg\" height=\"24px\"viewBox=\"0 0 24 24\"\n",
       "       width=\"24px\">\n",
       "    <path d=\"M0 0h24v24H0V0z\" fill=\"none\"/>\n",
       "    <path d=\"M18.56 5.44l.94 2.06.94-2.06 2.06-.94-2.06-.94-.94-2.06-.94 2.06-2.06.94zm-11 1L8.5 8.5l.94-2.06 2.06-.94-2.06-.94L8.5 2.5l-.94 2.06-2.06.94zm10 10l.94 2.06.94-2.06 2.06-.94-2.06-.94-.94-2.06-.94 2.06-2.06.94z\"/><path d=\"M17.41 7.96l-1.37-1.37c-.4-.4-.92-.59-1.43-.59-.52 0-1.04.2-1.43.59L10.3 9.45l-7.72 7.72c-.78.78-.78 2.05 0 2.83L4 21.41c.39.39.9.59 1.41.59.51 0 1.02-.2 1.41-.59l7.78-7.78 2.81-2.81c.8-.78.8-2.07 0-2.86zM5.41 20L4 18.59l7.72-7.72 1.47 1.35L5.41 20z\"/>\n",
       "  </svg>\n",
       "      </button>\n",
       "      \n",
       "  <style>\n",
       "    .colab-df-container {\n",
       "      display:flex;\n",
       "      flex-wrap:wrap;\n",
       "      gap: 12px;\n",
       "    }\n",
       "\n",
       "    .colab-df-convert {\n",
       "      background-color: #E8F0FE;\n",
       "      border: none;\n",
       "      border-radius: 50%;\n",
       "      cursor: pointer;\n",
       "      display: none;\n",
       "      fill: #1967D2;\n",
       "      height: 32px;\n",
       "      padding: 0 0 0 0;\n",
       "      width: 32px;\n",
       "    }\n",
       "\n",
       "    .colab-df-convert:hover {\n",
       "      background-color: #E2EBFA;\n",
       "      box-shadow: 0px 1px 2px rgba(60, 64, 67, 0.3), 0px 1px 3px 1px rgba(60, 64, 67, 0.15);\n",
       "      fill: #174EA6;\n",
       "    }\n",
       "\n",
       "    [theme=dark] .colab-df-convert {\n",
       "      background-color: #3B4455;\n",
       "      fill: #D2E3FC;\n",
       "    }\n",
       "\n",
       "    [theme=dark] .colab-df-convert:hover {\n",
       "      background-color: #434B5C;\n",
       "      box-shadow: 0px 1px 3px 1px rgba(0, 0, 0, 0.15);\n",
       "      filter: drop-shadow(0px 1px 2px rgba(0, 0, 0, 0.3));\n",
       "      fill: #FFFFFF;\n",
       "    }\n",
       "  </style>\n",
       "\n",
       "      <script>\n",
       "        const buttonEl =\n",
       "          document.querySelector('#df-a9e489e1-55a7-4cb2-8e0a-b827d8ee2e01 button.colab-df-convert');\n",
       "        buttonEl.style.display =\n",
       "          google.colab.kernel.accessAllowed ? 'block' : 'none';\n",
       "\n",
       "        async function convertToInteractive(key) {\n",
       "          const element = document.querySelector('#df-a9e489e1-55a7-4cb2-8e0a-b827d8ee2e01');\n",
       "          const dataTable =\n",
       "            await google.colab.kernel.invokeFunction('convertToInteractive',\n",
       "                                                     [key], {});\n",
       "          if (!dataTable) return;\n",
       "\n",
       "          const docLinkHtml = 'Like what you see? Visit the ' +\n",
       "            '<a target=\"_blank\" href=https://colab.research.google.com/notebooks/data_table.ipynb>data table notebook</a>'\n",
       "            + ' to learn more about interactive tables.';\n",
       "          element.innerHTML = '';\n",
       "          dataTable['output_type'] = 'display_data';\n",
       "          await google.colab.output.renderOutput(dataTable, element);\n",
       "          const docLink = document.createElement('div');\n",
       "          docLink.innerHTML = docLinkHtml;\n",
       "          element.appendChild(docLink);\n",
       "        }\n",
       "      </script>\n",
       "    </div>\n",
       "  </div>\n",
       "  "
      ]
     },
     "metadata": {},
     "execution_count": 106
    }
   ],
   "source": [
    "X_train.head()"
   ]
  },
  {
   "cell_type": "code",
   "execution_count": 107,
   "metadata": {
    "pycharm": {
     "is_executing": true
    },
    "scrolled": true,
    "id": "PmcPj7BdLK9R",
    "colab": {
     "base_uri": "https://localhost:8080/"
    },
    "outputId": "821b2dc4-2850-4996-f8fc-9d4636300e10"
   },
   "outputs": [
    {
     "output_type": "execute_result",
     "data": {
      "text/plain": [
       "590008     0\n",
       "2505359    0\n",
       "3081145    1\n",
       "795365     1\n",
       "2292090    1\n",
       "Name: ordered, dtype: int64"
      ]
     },
     "metadata": {},
     "execution_count": 107
    }
   ],
   "source": [
    "y_train.head()"
   ]
  },
  {
   "cell_type": "markdown",
   "metadata": {
    "id": "Qxx8BQeTLK9R"
   },
   "source": [
    "## Baseline Model"
   ]
  },
  {
   "cell_type": "code",
   "execution_count": null,
   "metadata": {
    "pycharm": {
     "is_executing": true
    },
    "scrolled": true,
    "id": "fdGGc9SuLK9S"
   },
   "outputs": [],
   "source": [
    "# Will take a few minutes to run, if you're using the whole dataset:\n",
    "# baseline = LogisticRegression(random_state=42)\n",
    "# baseline = baseline.fit(X_train, y_train)"
   ]
  },
  {
   "cell_type": "code",
   "execution_count": null,
   "metadata": {
    "pycharm": {
     "is_executing": true
    },
    "scrolled": true,
    "id": "lBXyh6_uLK9S"
   },
   "outputs": [],
   "source": [
    "# baseline.predict_proba(X_test)"
   ]
  },
  {
   "cell_type": "code",
   "execution_count": null,
   "metadata": {
    "pycharm": {
     "is_executing": true
    },
    "scrolled": true,
    "id": "S9HdqNAGLK9S"
   },
   "outputs": [],
   "source": [
    "# y_test"
   ]
  },
  {
   "cell_type": "code",
   "execution_count": null,
   "metadata": {
    "pycharm": {
     "is_executing": true
    },
    "scrolled": true,
    "id": "rYiMPL4ILK9S"
   },
   "outputs": [],
   "source": [
    "# Mean Accuracy:\n",
    "# baseline.score(X_test, y_test)\n",
    "# As you can seen, the accuracy is ~0.51. In other words, the classifier predicts correctly 51% of the time whether a customer did or din't buy an item.\n",
    "# Can you improve this baseline logistic regression model by doing better preprocessing and generating new features?\n",
    "# Also think about my steps! Did it make sense to include the article and customer ids? (And things like that)"
   ]
  },
  {
   "cell_type": "code",
   "execution_count": null,
   "metadata": {
    "pycharm": {
     "is_executing": true
    },
    "scrolled": true,
    "id": "Dg0JHgYQLK9T"
   },
   "outputs": [],
   "source": [
    "# Classification Metrics:\n",
    "# predictions = baseline.predict(X_test)\n",
    "# print(classification_report(y_test, predictions))"
   ]
  },
  {
   "cell_type": "code",
   "execution_count": null,
   "metadata": {
    "pycharm": {
     "is_executing": true
    },
    "scrolled": true,
    "id": "t0pnyjGcLK9T"
   },
   "outputs": [],
   "source": [
    "# predictions"
   ]
  },
  {
   "cell_type": "markdown",
   "source": [
    "#Assignment EDA\n",
    "\n"
   ],
   "metadata": {
    "id": "58Y71_cuXAEx"
   }
  },
  {
   "cell_type": "markdown",
   "source": [
    "##Customer_age"
   ],
   "metadata": {
    "id": "5FNkiDswmx4k"
   }
  },
  {
   "cell_type": "code",
   "source": [
    "total_customers = customers.shape[0]\n",
    "print(f\"Amount of customers: {total_customers}\")\n",
    "print('\\nBasic age information')\n",
    "print(customers[\"age\"].describe())\n",
    "\n"
   ],
   "metadata": {
    "colab": {
     "base_uri": "https://localhost:8080/"
    },
    "id": "IVGAcmPeXNGY",
    "outputId": "4f20cccd-4e33-4e7b-d224-450fa821e400"
   },
   "execution_count": 45,
   "outputs": [
    {
     "output_type": "stream",
     "name": "stdout",
     "text": [
      "Amount of customers: 68599\n",
      "\n",
      "Basic age information\n",
      "count    67821.000000\n",
      "mean        36.401351\n",
      "std         14.321380\n",
      "min         16.000000\n",
      "25%         24.000000\n",
      "50%         32.000000\n",
      "75%         49.000000\n",
      "max         95.000000\n",
      "Name: age, dtype: float64\n"
     ]
    }
   ]
  },
  {
   "cell_type": "code",
   "source": [
    "# customers with no age\n",
    "customers_no_age = customers[\"age\"].isna().sum()\n",
    "print(f\"Percent of users without an age: {customers_no_age/total_customers}\")"
   ],
   "metadata": {
    "colab": {
     "base_uri": "https://localhost:8080/"
    },
    "id": "bLu81JXRdKQq",
    "outputId": "8300ed79-6682-43f0-cfd3-7949725ce6b7"
   },
   "execution_count": 122,
   "outputs": [
    {
     "output_type": "stream",
     "name": "stdout",
     "text": [
      "Percent of users without an age: 0.01134127319640228\n"
     ]
    }
   ]
  },
  {
   "cell_type": "code",
   "source": [
    "# categroized ages\n",
    "age_df = customers[[\"customer_id\", \"age\"]].copy()\n",
    "bins= [15, 20,29,39,49, 59,69,100]\n",
    "labels = [\"-20\", \"20-29\", \"30-39\", \"40-49\", \"50-59\", \"60-69\", \"+70\"]\n",
    "age_df['age_cat'] = pd.cut(age_df['age'], bins=bins, labels=labels, right=False)\n",
    "age_df[\"age_cat\"].value_counts().plot.bar()"
   ],
   "metadata": {
    "colab": {
     "base_uri": "https://localhost:8080/",
     "height": 301
    },
    "id": "v2zFDHcUXOAy",
    "outputId": "ebb64110-7ba1-44c8-acd3-e8f7e5c40b42"
   },
   "execution_count": 158,
   "outputs": [
    {
     "output_type": "execute_result",
     "data": {
      "text/plain": [
       "<matplotlib.axes._subplots.AxesSubplot at 0x7f1dcaea6c90>"
      ]
     },
     "metadata": {},
     "execution_count": 158
    },
    {
     "output_type": "display_data",
     "data": {
      "text/plain": [
       "<Figure size 432x288 with 1 Axes>"
      ],
      "image/png": "[encoded data removed]"
     },
     "metadata": {
      "needs_background": "light"
     }
    }
   ]
  },
  {
   "cell_type": "markdown",
   "source": [
    "## customer FN"
   ],
   "metadata": {
    "id": "SdFNLC-I4_fg"
   }
  },
  {
   "cell_type": "code",
   "source": [
    "# amount of customers with FN == 1\n",
    "customers[\"FN\"].value_counts()\n"
   ],
   "metadata": {
    "colab": {
     "base_uri": "https://localhost:8080/"
    },
    "id": "pKZvzESC4NZm",
    "outputId": "2600d80f-b483-4740-8226-f2590c047df3"
   },
   "execution_count": 142,
   "outputs": [
    {
     "output_type": "execute_result",
     "data": {
      "text/plain": [
       "1.0    23804\n",
       "Name: FN, dtype: int64"
      ]
     },
     "metadata": {},
     "execution_count": 142
    }
   ]
  },
  {
   "cell_type": "code",
   "source": [
    "# Is FN always filled?\n",
    "customers_no_fn = customers[\"FN\"].isna().sum()\n",
    "print(f\"Percent of users without FN: {customers_no_fn/total_customers}\")"
   ],
   "metadata": {
    "colab": {
     "base_uri": "https://localhost:8080/"
    },
    "id": "O7MAAwDh4nTT",
    "outputId": "3d592f66-5687-4d92-a416-d92a0a73216a"
   },
   "execution_count": 156,
   "outputs": [
    {
     "output_type": "stream",
     "name": "stdout",
     "text": [
      "Percent of users without FN: 0.6529978571116197\n"
     ]
    }
   ]
  },
  {
   "cell_type": "markdown",
   "source": [
    "## Customer cub_member_status"
   ],
   "metadata": {
    "id": "MLTq4vWV5Qd7"
   }
  },
  {
   "cell_type": "code",
   "source": [
    "# Values for club_member_status\n",
    "customers[\"club_member_status\"].value_counts()\n"
   ],
   "metadata": {
    "colab": {
     "base_uri": "https://localhost:8080/"
    },
    "id": "WBsZNvYy5eBF",
    "outputId": "38c01564-8ad8-4025-b3ee-ae9e8c515ed6"
   },
   "execution_count": 144,
   "outputs": [
    {
     "output_type": "execute_result",
     "data": {
      "text/plain": [
       "ACTIVE        63645\n",
       "PRE-CREATE     4635\n",
       "LEFT CLUB        16\n",
       "Name: club_member_status, dtype: int64"
      ]
     },
     "metadata": {},
     "execution_count": 144
    }
   ]
  },
  {
   "cell_type": "code",
   "source": [
    "# Is club_member_status always filled?\n",
    "customer_no_club = customers[\"club_member_status\"].isna().sum()\n",
    "print(f\"Percent of users without club_member_status: {customer_no_club/total_customers}\")"
   ],
   "metadata": {
    "colab": {
     "base_uri": "https://localhost:8080/"
    },
    "id": "8htyhzvW5WWI",
    "outputId": "76516ea2-d1ff-4b05-9603-0c63d7a8e9a0"
   },
   "execution_count": 157,
   "outputs": [
    {
     "output_type": "stream",
     "name": "stdout",
     "text": [
      "Percent of users without club_member_status: 0.004416974008367469\n"
     ]
    }
   ]
  },
  {
   "cell_type": "markdown",
   "source": [
    "## postal code"
   ],
   "metadata": {
    "id": "9xTioBsV6fmC"
   }
  },
  {
   "cell_type": "code",
   "source": [
    "# Length of postal codes?\n",
    "customers[\"postal_code\"].value_counts()"
   ],
   "metadata": {
    "colab": {
     "base_uri": "https://localhost:8080/"
    },
    "id": "Orldd7a46nbG",
    "outputId": "86491db5-7181-4c57-f46f-25ac13aa8c70"
   },
   "execution_count": 146,
   "outputs": [
    {
     "output_type": "execute_result",
     "data": {
      "text/plain": [
       "2c29ae653a9282cce4151bd87643c907644e09541abc28ae87dea0d1f6603b1c    6170\n",
       "cc4ed85e30f4977dae47662ddc468cd2eec11472de6fac5ec985080fd92243c8      16\n",
       "4d22901a97bd952bb92cdd31b38c39b41dd3250a735cabdfac1503eb405b807d      14\n",
       "8537857094470e65f7a610a45fd3064b99dba724d18784bdec702a262a163171       9\n",
       "45dc52765eb24eb8bc8a4a40a682d5e430aed58a9aba44e7f67d9516e54ba0d1       9\n",
       "                                                                    ... \n",
       "219bc392bf7990bf270c3474eb78677df61b650c6eb8e65c72647c0b55bd3d23       1\n",
       "13580ab98efb3d6581d6ad76ac5bba9a7865936ef61b22ca73148dda66568a69       1\n",
       "88417ecb91f58818c798c4b41e3151d8c1385f87c4ce31eb3c90ee04688cdc75       1\n",
       "72aa01b86f7928e0333937ca9e80f4062eed73933ea3d05a1fa0bf43697a3afa       1\n",
       "7109c097142af116fa25095f90b57c6f992fd7177eb2556ef0de0da59e000c0c       1\n",
       "Name: postal_code, Length: 55119, dtype: int64"
      ]
     },
     "metadata": {},
     "execution_count": 146
    }
   ]
  },
  {
   "cell_type": "code",
   "source": [
    "# are all codes 64 integer hexidecimal\n",
    "postal_codes = customers[[\"postal_code\"]].copy()\n",
    "postal_code_matches = postal_codes[\"postal_code\"].str.fullmatch(\"^[a-f0-9]{64}$\")\n",
    "postal_codes[~postal_code_matches]"
   ],
   "metadata": {
    "colab": {
     "base_uri": "https://localhost:8080/",
     "height": 49
    },
    "id": "E5gfr7gY7M3g",
    "outputId": "4ad985bf-4ff8-4c2b-d7d9-cc27ad651a1b"
   },
   "execution_count": 152,
   "outputs": [
    {
     "output_type": "execute_result",
     "data": {
      "text/plain": [
       "Empty DataFrame\n",
       "Columns: [postal_code]\n",
       "Index: []"
      ],
      "text/html": [
       "\n",
       "  <div id=\"df-ebad76b5-d846-42ca-9897-098e1ca945ec\">\n",
       "    <div class=\"colab-df-container\">\n",
       "      <div>\n",
       "<style scoped>\n",
       "    .dataframe tbody tr th:only-of-type {\n",
       "        vertical-align: middle;\n",
       "    }\n",
       "\n",
       "    .dataframe tbody tr th {\n",
       "        vertical-align: top;\n",
       "    }\n",
       "\n",
       "    .dataframe thead th {\n",
       "        text-align: right;\n",
       "    }\n",
       "</style>\n",
       "<table border=\"1\" class=\"dataframe\">\n",
       "  <thead>\n",
       "    <tr style=\"text-align: right;\">\n",
       "      <th></th>\n",
       "      <th>postal_code</th>\n",
       "    </tr>\n",
       "  </thead>\n",
       "  <tbody>\n",
       "  </tbody>\n",
       "</table>\n",
       "</div>\n",
       "      <button class=\"colab-df-convert\" onclick=\"convertToInteractive('df-ebad76b5-d846-42ca-9897-098e1ca945ec')\"\n",
       "              title=\"Convert this dataframe to an interactive table.\"\n",
       "              style=\"display:none;\">\n",
       "        \n",
       "  <svg xmlns=\"http://www.w3.org/2000/svg\" height=\"24px\"viewBox=\"0 0 24 24\"\n",
       "       width=\"24px\">\n",
       "    <path d=\"M0 0h24v24H0V0z\" fill=\"none\"/>\n",
       "    <path d=\"M18.56 5.44l.94 2.06.94-2.06 2.06-.94-2.06-.94-.94-2.06-.94 2.06-2.06.94zm-11 1L8.5 8.5l.94-2.06 2.06-.94-2.06-.94L8.5 2.5l-.94 2.06-2.06.94zm10 10l.94 2.06.94-2.06 2.06-.94-2.06-.94-.94-2.06-.94 2.06-2.06.94z\"/><path d=\"M17.41 7.96l-1.37-1.37c-.4-.4-.92-.59-1.43-.59-.52 0-1.04.2-1.43.59L10.3 9.45l-7.72 7.72c-.78.78-.78 2.05 0 2.83L4 21.41c.39.39.9.59 1.41.59.51 0 1.02-.2 1.41-.59l7.78-7.78 2.81-2.81c.8-.78.8-2.07 0-2.86zM5.41 20L4 18.59l7.72-7.72 1.47 1.35L5.41 20z\"/>\n",
       "  </svg>\n",
       "      </button>\n",
       "      \n",
       "  <style>\n",
       "    .colab-df-container {\n",
       "      display:flex;\n",
       "      flex-wrap:wrap;\n",
       "      gap: 12px;\n",
       "    }\n",
       "\n",
       "    .colab-df-convert {\n",
       "      background-color: #E8F0FE;\n",
       "      border: none;\n",
       "      border-radius: 50%;\n",
       "      cursor: pointer;\n",
       "      display: none;\n",
       "      fill: #1967D2;\n",
       "      height: 32px;\n",
       "      padding: 0 0 0 0;\n",
       "      width: 32px;\n",
       "    }\n",
       "\n",
       "    .colab-df-convert:hover {\n",
       "      background-color: #E2EBFA;\n",
       "      box-shadow: 0px 1px 2px rgba(60, 64, 67, 0.3), 0px 1px 3px 1px rgba(60, 64, 67, 0.15);\n",
       "      fill: #174EA6;\n",
       "    }\n",
       "\n",
       "    [theme=dark] .colab-df-convert {\n",
       "      background-color: #3B4455;\n",
       "      fill: #D2E3FC;\n",
       "    }\n",
       "\n",
       "    [theme=dark] .colab-df-convert:hover {\n",
       "      background-color: #434B5C;\n",
       "      box-shadow: 0px 1px 3px 1px rgba(0, 0, 0, 0.15);\n",
       "      filter: drop-shadow(0px 1px 2px rgba(0, 0, 0, 0.3));\n",
       "      fill: #FFFFFF;\n",
       "    }\n",
       "  </style>\n",
       "\n",
       "      <script>\n",
       "        const buttonEl =\n",
       "          document.querySelector('#df-ebad76b5-d846-42ca-9897-098e1ca945ec button.colab-df-convert');\n",
       "        buttonEl.style.display =\n",
       "          google.colab.kernel.accessAllowed ? 'block' : 'none';\n",
       "\n",
       "        async function convertToInteractive(key) {\n",
       "          const element = document.querySelector('#df-ebad76b5-d846-42ca-9897-098e1ca945ec');\n",
       "          const dataTable =\n",
       "            await google.colab.kernel.invokeFunction('convertToInteractive',\n",
       "                                                     [key], {});\n",
       "          if (!dataTable) return;\n",
       "\n",
       "          const docLinkHtml = 'Like what you see? Visit the ' +\n",
       "            '<a target=\"_blank\" href=https://colab.research.google.com/notebooks/data_table.ipynb>data table notebook</a>'\n",
       "            + ' to learn more about interactive tables.';\n",
       "          element.innerHTML = '';\n",
       "          dataTable['output_type'] = 'display_data';\n",
       "          await google.colab.output.renderOutput(dataTable, element);\n",
       "          const docLink = document.createElement('div');\n",
       "          docLink.innerHTML = docLinkHtml;\n",
       "          element.appendChild(docLink);\n",
       "        }\n",
       "      </script>\n",
       "    </div>\n",
       "  </div>\n",
       "  "
      ]
     },
     "metadata": {},
     "execution_count": 152
    }
   ]
  },
  {
   "cell_type": "code",
   "source": [
    "# are there customers with no postal code?\n",
    "postal_codes[\"postal_code\"].isna().sum()\n"
   ],
   "metadata": {
    "colab": {
     "base_uri": "https://localhost:8080/"
    },
    "id": "d6pEWIwg-AN7",
    "outputId": "3e3facd0-2bb1-441e-f515-6bedc7d3616d"
   },
   "execution_count": 155,
   "outputs": [
    {
     "output_type": "execute_result",
     "data": {
      "text/plain": [
       "0"
      ]
     },
     "metadata": {},
     "execution_count": 155
    }
   ]
  },
  {
   "cell_type": "code",
   "source": [
    "# smallest article id\n",
    "articles[\"article_id\"].min()"
   ],
   "metadata": {
    "colab": {
     "base_uri": "https://localhost:8080/"
    },
    "id": "1cyx7xF2C-9U",
    "outputId": "cca46639-7dc6-4991-e810-932de33c7907"
   },
   "execution_count": 176,
   "outputs": [
    {
     "output_type": "execute_result",
     "data": {
      "text/plain": [
       "108775015"
      ]
     },
     "metadata": {},
     "execution_count": 176
    }
   ]
  },
  {
   "cell_type": "markdown",
   "source": [
    "##Article color"
   ],
   "metadata": {
    "id": "wLh68WdXm8h3"
   }
  },
  {
   "cell_type": "code",
   "source": [
    "# how many colours are there and which one is most frequent?\n",
    "product_colour = articles[[\"article_id\", \"prod_name\", \"colour_group_name\", \"colour_group_code\"]].copy()\n",
    "print(product_colour[\"colour_group_name\"].describe())"
   ],
   "metadata": {
    "colab": {
     "base_uri": "https://localhost:8080/"
    },
    "id": "Ts33qy-Ym8Pi",
    "outputId": "b83fc98e-4148-4375-86cc-0f3de8957b41"
   },
   "execution_count": 163,
   "outputs": [
    {
     "output_type": "stream",
     "name": "stdout",
     "text": [
      "count     76608\n",
      "unique       50\n",
      "top       Black\n",
      "freq      17802\n",
      "Name: colour_group_name, dtype: object\n"
     ]
    }
   ]
  },
  {
   "cell_type": "code",
   "source": [
    "# does every article have a group_colour?\n",
    "product_colour[\"colour_group_name\"].isna().sum()"
   ],
   "metadata": {
    "colab": {
     "base_uri": "https://localhost:8080/"
    },
    "id": "fEa0v7jXpbl6",
    "outputId": "26891131-511e-4b96-fbaf-c6c8b334f39c"
   },
   "execution_count": 109,
   "outputs": [
    {
     "output_type": "execute_result",
     "data": {
      "text/plain": [
       "0"
      ]
     },
     "metadata": {},
     "execution_count": 109
    }
   ]
  },
  {
   "cell_type": "code",
   "source": [
    "product_colour[\"colour_group_code\"].isna().sum()"
   ],
   "metadata": {
    "colab": {
     "base_uri": "https://localhost:8080/"
    },
    "id": "mqys5hH8BAe0",
    "outputId": "716cbcc1-4d11-4f1f-b581-20092d8120d1"
   },
   "execution_count": 161,
   "outputs": [
    {
     "output_type": "execute_result",
     "data": {
      "text/plain": [
       "0"
      ]
     },
     "metadata": {},
     "execution_count": 161
    }
   ]
  },
  {
   "cell_type": "code",
   "source": [
    "# which colour sells most?\n",
    "transactions_colour = transactions[[\"article_id\", \"colour_group_name\"]].copy()\n",
    "print(transactions_colour[\"colour_group_name\"].describe())\n",
    "transactions_colour[\"colour_group_name\"].value_counts()[:10].plot.bar()"
   ],
   "metadata": {
    "colab": {
     "base_uri": "https://localhost:8080/",
     "height": 416
    },
    "id": "EddxNECdn7re",
    "outputId": "6d5346a1-6fc9-4962-89a4-ff8b6ff63054"
   },
   "execution_count": 185,
   "outputs": [
    {
     "output_type": "stream",
     "name": "stdout",
     "text": [
      "count     3175712\n",
      "unique         50\n",
      "top         Black\n",
      "freq       919819\n",
      "Name: colour_group_name, dtype: object\n"
     ]
    },
    {
     "output_type": "execute_result",
     "data": {
      "text/plain": [
       "<matplotlib.axes._subplots.AxesSubplot at 0x7f1d9cbb6490>"
      ]
     },
     "metadata": {},
     "execution_count": 185
    },
    {
     "output_type": "display_data",
     "data": {
      "text/plain": [
       "<Figure size 432x288 with 1 Axes>"
      ],
      "image/png": "[encoded data removed]"
     },
     "metadata": {
      "needs_background": "light"
     }
    }
   ]
  },
  {
   "cell_type": "code",
   "source": [
    "# amount of sales that are black\n",
    "transactions_black = transactions_colour[transactions_colour[\"colour_group_name\"] == \"Black\"].shape[0]\n",
    "print(f\"Percentage of black article sales: {transactions_black/transactions_colour.shape[0]}%\")"
   ],
   "metadata": {
    "colab": {
     "base_uri": "https://localhost:8080/"
    },
    "id": "qa5JbPl-FGcL",
    "outputId": "a85bc326-4ac3-404f-9906-af2ecbb63be1"
   },
   "execution_count": 191,
   "outputs": [
    {
     "output_type": "stream",
     "name": "stdout",
     "text": [
      "Percentage of black article sales: 0.2896418189054927%\n"
     ]
    }
   ]
  },
  {
   "cell_type": "code",
   "source": [
    "# what combination of colour and graphical appearance sells bests?\n",
    "transactions_appearance = transactions[[\"article_id\", \"colour_group_name\", \"graphical_appearance_name\"]].copy()\n",
    "transactions_appearance[\"appearance\"] = (transactions_appearance.colour_group_name.astype(str) + '_' + transactions_appearance.graphical_appearance_name.astype(str))\n",
    "transactions_appearance[\"appearance\"].value_counts()[:10].plot.bar()"
   ],
   "metadata": {
    "colab": {
     "base_uri": "https://localhost:8080/",
     "height": 404
    },
    "id": "Eb50xGsvp-JH",
    "outputId": "9886ce34-f7cf-464d-e0bd-00ef19a1c0ef"
   },
   "execution_count": 184,
   "outputs": [
    {
     "output_type": "execute_result",
     "data": {
      "text/plain": [
       "<matplotlib.axes._subplots.AxesSubplot at 0x7f1dc4ea2a10>"
      ]
     },
     "metadata": {},
     "execution_count": 184
    },
    {
     "output_type": "display_data",
     "data": {
      "text/plain": [
       "<Figure size 432x288 with 1 Axes>"
      ],
      "image/png": "[encoded data removed]"
     },
     "metadata": {
      "needs_background": "light"
     }
    }
   ]
  },
  {
   "cell_type": "code",
   "source": [
    "# amount of sales that are black-solid\n",
    "transactions_black_solid = transactions_appearance[transactions_appearance[\"appearance\"] == \"Black_Solid\"].shape[0]\n",
    "print(f\"Percentage of black-solid article sales: {transactions_black_solid/transactions_colour.shape[0]}%\")"
   ],
   "metadata": {
    "colab": {
     "base_uri": "https://localhost:8080/"
    },
    "id": "06CoP2pgIKF6",
    "outputId": "a4ea0cff-e4bc-4f8a-cdd9-196ba6249f51"
   },
   "execution_count": 193,
   "outputs": [
    {
     "output_type": "stream",
     "name": "stdout",
     "text": [
      "Percentage of black-solid article sales: 0.19120153212885804%\n"
     ]
    }
   ]
  },
  {
   "cell_type": "markdown",
   "source": [
    "##Article description"
   ],
   "metadata": {
    "id": "3DX874_8yf_r"
   }
  },
  {
   "cell_type": "code",
   "source": [
    "# does every article have a description?\n",
    "article_descriptions = articles[[\"detail_desc\"]].copy()\n",
    "article_no_desc = article_descriptions[\"detail_desc\"].isna().sum()\n",
    "print(f\"{article_no_desc} articles do not have a description\")"
   ],
   "metadata": {
    "colab": {
     "base_uri": "https://localhost:8080/"
    },
    "id": "SMBCK4WhynkH",
    "outputId": "df1dce02-6bf0-459d-f29b-55c5b8aa69a5"
   },
   "execution_count": 126,
   "outputs": [
    {
     "output_type": "stream",
     "name": "stdout",
     "text": [
      "296 articles do not have a description\n"
     ]
    }
   ]
  },
  {
   "cell_type": "markdown",
   "source": [
    "## Article price"
   ],
   "metadata": {
    "id": "NxzEwWux1Mw3"
   }
  },
  {
   "cell_type": "code",
   "source": [
    "# does every article have a price?\n",
    "articles_with_price = transactions[[\"article_id\", \"price\"]].copy()\n",
    "articles_with_price[\"price\"].isna().sum()"
   ],
   "metadata": {
    "colab": {
     "base_uri": "https://localhost:8080/"
    },
    "id": "kwuv_wv-1P56",
    "outputId": "f81ffc04-1dca-4fa8-9c12-6ecc4736581e"
   },
   "execution_count": 132,
   "outputs": [
    {
     "output_type": "execute_result",
     "data": {
      "text/plain": [
       "0"
      ]
     },
     "metadata": {},
     "execution_count": 132
    }
   ]
  },
  {
   "cell_type": "code",
   "source": [
    "articles_with_price[\"price\"].max()"
   ],
   "metadata": {
    "colab": {
     "base_uri": "https://localhost:8080/"
    },
    "id": "JxE-3-xo11QG",
    "outputId": "aeb9a965-ac4c-46bd-a806-8c472f3f593d"
   },
   "execution_count": 178,
   "outputs": [
    {
     "output_type": "execute_result",
     "data": {
      "text/plain": [
       "0.5067796610169492"
      ]
     },
     "metadata": {},
     "execution_count": 178
    }
   ]
  },
  {
   "cell_type": "markdown",
   "metadata": {
    "id": "1KZkBngILK9U"
   },
   "source": [
    "## Assignment: Feature engineering\n",
    "**TODO:** \n",
    "- In groups (of 2-3 students), think about (a few) features that can be engineered (preprocess and generate new features). Divide the work!\n",
    "- Do these engineered features improve the baseline model?\n",
    "- Add your thoughts & results to a slide deck for discussion next week (again, 1 slide per person)."
   ]
  },
  {
   "cell_type": "markdown",
   "metadata": {
    "id": "rV6Ju2CnLK9U"
   },
   "source": [
    "# Color-product type #\n",
    "Looks at the interaction between product type and the color of the item\n"
   ]
  },
  {
   "cell_type": "code",
   "source": [
    "transactions_processed = transactions[['customer_id', 'age', 'article_id', 'sales_channel_id', 'price', 'ordered', 'colour_group_code', 'colour_group_name', 'product_type_name']]\n",
    "transactions_processed.head()"
   ],
   "metadata": {
    "colab": {
     "base_uri": "https://localhost:8080/",
     "height": 206
    },
    "id": "mtEx-9DuTPYs",
    "outputId": "501ce3fe-42c6-438b-b421-de46d40ef232"
   },
   "execution_count": null,
   "outputs": [
    {
     "output_type": "execute_result",
     "data": {
      "text/plain": [
       "                                         customer_id   age article_id  \\\n",
       "0  017ddc94fee40ab9a24af073a4c69282b4c04e094d53a9...  28.0  496111020   \n",
       "1  3f5c5f836c9b82e18a84c37b10a986a51f8a6a3d250c10...  40.0  496111020   \n",
       "2  2b3ac8aafad8738d959cfbcc9c53e94d5de06345354965...  28.0  496111020   \n",
       "3  2b3ac8aafad8738d959cfbcc9c53e94d5de06345354965...  28.0  496111020   \n",
       "4  017ddc94fee40ab9a24af073a4c69282b4c04e094d53a9...  28.0  663007003   \n",
       "\n",
       "  sales_channel_id     price ordered  colour_group_code colour_group_name  \\\n",
       "0                1  0.033881       1                 43          Dark Red   \n",
       "1                1  0.027102       1                 43          Dark Red   \n",
       "2                2  0.022017       1                 43          Dark Red   \n",
       "3                2  0.022017       1                 43          Dark Red   \n",
       "4                1  0.042356       1                  9             Black   \n",
       "\n",
       "  product_type_name  \n",
       "0           Sweater  \n",
       "1           Sweater  \n",
       "2           Sweater  \n",
       "3           Sweater  \n",
       "4           Sweater  "
      ],
      "text/html": [
       "\n",
       "  <div id=\"df-0d3a0bee-7d52-4322-ba40-588e57fe9f8d\">\n",
       "    <div class=\"colab-df-container\">\n",
       "      <div>\n",
       "<style scoped>\n",
       "    .dataframe tbody tr th:only-of-type {\n",
       "        vertical-align: middle;\n",
       "    }\n",
       "\n",
       "    .dataframe tbody tr th {\n",
       "        vertical-align: top;\n",
       "    }\n",
       "\n",
       "    .dataframe thead th {\n",
       "        text-align: right;\n",
       "    }\n",
       "</style>\n",
       "<table border=\"1\" class=\"dataframe\">\n",
       "  <thead>\n",
       "    <tr style=\"text-align: right;\">\n",
       "      <th></th>\n",
       "      <th>customer_id</th>\n",
       "      <th>age</th>\n",
       "      <th>article_id</th>\n",
       "      <th>sales_channel_id</th>\n",
       "      <th>price</th>\n",
       "      <th>ordered</th>\n",
       "      <th>colour_group_code</th>\n",
       "      <th>colour_group_name</th>\n",
       "      <th>product_type_name</th>\n",
       "    </tr>\n",
       "  </thead>\n",
       "  <tbody>\n",
       "    <tr>\n",
       "      <th>0</th>\n",
       "      <td>017ddc94fee40ab9a24af073a4c69282b4c04e094d53a9...</td>\n",
       "      <td>28.0</td>\n",
       "      <td>496111020</td>\n",
       "      <td>1</td>\n",
       "      <td>0.033881</td>\n",
       "      <td>1</td>\n",
       "      <td>43</td>\n",
       "      <td>Dark Red</td>\n",
       "      <td>Sweater</td>\n",
       "    </tr>\n",
       "    <tr>\n",
       "      <th>1</th>\n",
       "      <td>3f5c5f836c9b82e18a84c37b10a986a51f8a6a3d250c10...</td>\n",
       "      <td>40.0</td>\n",
       "      <td>496111020</td>\n",
       "      <td>1</td>\n",
       "      <td>0.027102</td>\n",
       "      <td>1</td>\n",
       "      <td>43</td>\n",
       "      <td>Dark Red</td>\n",
       "      <td>Sweater</td>\n",
       "    </tr>\n",
       "    <tr>\n",
       "      <th>2</th>\n",
       "      <td>2b3ac8aafad8738d959cfbcc9c53e94d5de06345354965...</td>\n",
       "      <td>28.0</td>\n",
       "      <td>496111020</td>\n",
       "      <td>2</td>\n",
       "      <td>0.022017</td>\n",
       "      <td>1</td>\n",
       "      <td>43</td>\n",
       "      <td>Dark Red</td>\n",
       "      <td>Sweater</td>\n",
       "    </tr>\n",
       "    <tr>\n",
       "      <th>3</th>\n",
       "      <td>2b3ac8aafad8738d959cfbcc9c53e94d5de06345354965...</td>\n",
       "      <td>28.0</td>\n",
       "      <td>496111020</td>\n",
       "      <td>2</td>\n",
       "      <td>0.022017</td>\n",
       "      <td>1</td>\n",
       "      <td>43</td>\n",
       "      <td>Dark Red</td>\n",
       "      <td>Sweater</td>\n",
       "    </tr>\n",
       "    <tr>\n",
       "      <th>4</th>\n",
       "      <td>017ddc94fee40ab9a24af073a4c69282b4c04e094d53a9...</td>\n",
       "      <td>28.0</td>\n",
       "      <td>663007003</td>\n",
       "      <td>1</td>\n",
       "      <td>0.042356</td>\n",
       "      <td>1</td>\n",
       "      <td>9</td>\n",
       "      <td>Black</td>\n",
       "      <td>Sweater</td>\n",
       "    </tr>\n",
       "  </tbody>\n",
       "</table>\n",
       "</div>\n",
       "      <button class=\"colab-df-convert\" onclick=\"convertToInteractive('df-0d3a0bee-7d52-4322-ba40-588e57fe9f8d')\"\n",
       "              title=\"Convert this dataframe to an interactive table.\"\n",
       "              style=\"display:none;\">\n",
       "        \n",
       "  <svg xmlns=\"http://www.w3.org/2000/svg\" height=\"24px\"viewBox=\"0 0 24 24\"\n",
       "       width=\"24px\">\n",
       "    <path d=\"M0 0h24v24H0V0z\" fill=\"none\"/>\n",
       "    <path d=\"M18.56 5.44l.94 2.06.94-2.06 2.06-.94-2.06-.94-.94-2.06-.94 2.06-2.06.94zm-11 1L8.5 8.5l.94-2.06 2.06-.94-2.06-.94L8.5 2.5l-.94 2.06-2.06.94zm10 10l.94 2.06.94-2.06 2.06-.94-2.06-.94-.94-2.06-.94 2.06-2.06.94z\"/><path d=\"M17.41 7.96l-1.37-1.37c-.4-.4-.92-.59-1.43-.59-.52 0-1.04.2-1.43.59L10.3 9.45l-7.72 7.72c-.78.78-.78 2.05 0 2.83L4 21.41c.39.39.9.59 1.41.59.51 0 1.02-.2 1.41-.59l7.78-7.78 2.81-2.81c.8-.78.8-2.07 0-2.86zM5.41 20L4 18.59l7.72-7.72 1.47 1.35L5.41 20z\"/>\n",
       "  </svg>\n",
       "      </button>\n",
       "      \n",
       "  <style>\n",
       "    .colab-df-container {\n",
       "      display:flex;\n",
       "      flex-wrap:wrap;\n",
       "      gap: 12px;\n",
       "    }\n",
       "\n",
       "    .colab-df-convert {\n",
       "      background-color: #E8F0FE;\n",
       "      border: none;\n",
       "      border-radius: 50%;\n",
       "      cursor: pointer;\n",
       "      display: none;\n",
       "      fill: #1967D2;\n",
       "      height: 32px;\n",
       "      padding: 0 0 0 0;\n",
       "      width: 32px;\n",
       "    }\n",
       "\n",
       "    .colab-df-convert:hover {\n",
       "      background-color: #E2EBFA;\n",
       "      box-shadow: 0px 1px 2px rgba(60, 64, 67, 0.3), 0px 1px 3px 1px rgba(60, 64, 67, 0.15);\n",
       "      fill: #174EA6;\n",
       "    }\n",
       "\n",
       "    [theme=dark] .colab-df-convert {\n",
       "      background-color: #3B4455;\n",
       "      fill: #D2E3FC;\n",
       "    }\n",
       "\n",
       "    [theme=dark] .colab-df-convert:hover {\n",
       "      background-color: #434B5C;\n",
       "      box-shadow: 0px 1px 3px 1px rgba(0, 0, 0, 0.15);\n",
       "      filter: drop-shadow(0px 1px 2px rgba(0, 0, 0, 0.3));\n",
       "      fill: #FFFFFF;\n",
       "    }\n",
       "  </style>\n",
       "\n",
       "      <script>\n",
       "        const buttonEl =\n",
       "          document.querySelector('#df-0d3a0bee-7d52-4322-ba40-588e57fe9f8d button.colab-df-convert');\n",
       "        buttonEl.style.display =\n",
       "          google.colab.kernel.accessAllowed ? 'block' : 'none';\n",
       "\n",
       "        async function convertToInteractive(key) {\n",
       "          const element = document.querySelector('#df-0d3a0bee-7d52-4322-ba40-588e57fe9f8d');\n",
       "          const dataTable =\n",
       "            await google.colab.kernel.invokeFunction('convertToInteractive',\n",
       "                                                     [key], {});\n",
       "          if (!dataTable) return;\n",
       "\n",
       "          const docLinkHtml = 'Like what you see? Visit the ' +\n",
       "            '<a target=\"_blank\" href=https://colab.research.google.com/notebooks/data_table.ipynb>data table notebook</a>'\n",
       "            + ' to learn more about interactive tables.';\n",
       "          element.innerHTML = '';\n",
       "          dataTable['output_type'] = 'display_data';\n",
       "          await google.colab.output.renderOutput(dataTable, element);\n",
       "          const docLink = document.createElement('div');\n",
       "          docLink.innerHTML = docLinkHtml;\n",
       "          element.appendChild(docLink);\n",
       "        }\n",
       "      </script>\n",
       "    </div>\n",
       "  </div>\n",
       "  "
      ]
     },
     "metadata": {},
     "execution_count": 623
    }
   ]
  },
  {
   "cell_type": "code",
   "source": [
    "transactions_processed[\"colour_type\"] = (transactions_processed.colour_group_name.astype(str) + '_' + transactions_processed.product_type_name.astype(str))\n",
    "transactions_processed = transactions_processed.drop(['colour_group_name','product_type_name'], axis=1)\n",
    "colour_type_encoder = preprocessing.LabelEncoder()\n",
    "transactions_processed['colour_type'] = customer_encoder.fit_transform(transactions_processed['colour_type'])\n",
    "\n",
    "transactions_processed.head()"
   ],
   "metadata": {
    "colab": {
     "base_uri": "https://localhost:8080/",
     "height": 310
    },
    "id": "qNM75hU9TW_V",
    "outputId": "57232c96-abb9-4e8d-bafb-a11ef1258237"
   },
   "execution_count": null,
   "outputs": [
    {
     "output_type": "stream",
     "name": "stderr",
     "text": [
      "/usr/local/lib/python3.7/dist-packages/ipykernel_launcher.py:1: SettingWithCopyWarning: \n",
      "A value is trying to be set on a copy of a slice from a DataFrame.\n",
      "Try using .loc[row_indexer,col_indexer] = value instead\n",
      "\n",
      "See the caveats in the documentation: https://pandas.pydata.org/pandas-docs/stable/user_guide/indexing.html#returning-a-view-versus-a-copy\n",
      "  \"\"\"Entry point for launching an IPython kernel.\n"
     ]
    },
    {
     "output_type": "execute_result",
     "data": {
      "text/plain": [
       "                                         customer_id   age article_id  \\\n",
       "0  017ddc94fee40ab9a24af073a4c69282b4c04e094d53a9...  28.0  496111020   \n",
       "1  3f5c5f836c9b82e18a84c37b10a986a51f8a6a3d250c10...  40.0  496111020   \n",
       "2  2b3ac8aafad8738d959cfbcc9c53e94d5de06345354965...  28.0  496111020   \n",
       "3  2b3ac8aafad8738d959cfbcc9c53e94d5de06345354965...  28.0  496111020   \n",
       "4  017ddc94fee40ab9a24af073a4c69282b4c04e094d53a9...  28.0  663007003   \n",
       "\n",
       "  sales_channel_id     price ordered  colour_group_code  colour_type  \n",
       "0                1  0.033881       1                 43          458  \n",
       "1                1  0.027102       1                 43          458  \n",
       "2                2  0.022017       1                 43          458  \n",
       "3                2  0.022017       1                 43          458  \n",
       "4                1  0.042356       1                  9          118  "
      ],
      "text/html": [
       "\n",
       "  <div id=\"df-9553d4d3-661e-443c-9ed8-069c3767c7b3\">\n",
       "    <div class=\"colab-df-container\">\n",
       "      <div>\n",
       "<style scoped>\n",
       "    .dataframe tbody tr th:only-of-type {\n",
       "        vertical-align: middle;\n",
       "    }\n",
       "\n",
       "    .dataframe tbody tr th {\n",
       "        vertical-align: top;\n",
       "    }\n",
       "\n",
       "    .dataframe thead th {\n",
       "        text-align: right;\n",
       "    }\n",
       "</style>\n",
       "<table border=\"1\" class=\"dataframe\">\n",
       "  <thead>\n",
       "    <tr style=\"text-align: right;\">\n",
       "      <th></th>\n",
       "      <th>customer_id</th>\n",
       "      <th>age</th>\n",
       "      <th>article_id</th>\n",
       "      <th>sales_channel_id</th>\n",
       "      <th>price</th>\n",
       "      <th>ordered</th>\n",
       "      <th>colour_group_code</th>\n",
       "      <th>colour_type</th>\n",
       "    </tr>\n",
       "  </thead>\n",
       "  <tbody>\n",
       "    <tr>\n",
       "      <th>0</th>\n",
       "      <td>017ddc94fee40ab9a24af073a4c69282b4c04e094d53a9...</td>\n",
       "      <td>28.0</td>\n",
       "      <td>496111020</td>\n",
       "      <td>1</td>\n",
       "      <td>0.033881</td>\n",
       "      <td>1</td>\n",
       "      <td>43</td>\n",
       "      <td>458</td>\n",
       "    </tr>\n",
       "    <tr>\n",
       "      <th>1</th>\n",
       "      <td>3f5c5f836c9b82e18a84c37b10a986a51f8a6a3d250c10...</td>\n",
       "      <td>40.0</td>\n",
       "      <td>496111020</td>\n",
       "      <td>1</td>\n",
       "      <td>0.027102</td>\n",
       "      <td>1</td>\n",
       "      <td>43</td>\n",
       "      <td>458</td>\n",
       "    </tr>\n",
       "    <tr>\n",
       "      <th>2</th>\n",
       "      <td>2b3ac8aafad8738d959cfbcc9c53e94d5de06345354965...</td>\n",
       "      <td>28.0</td>\n",
       "      <td>496111020</td>\n",
       "      <td>2</td>\n",
       "      <td>0.022017</td>\n",
       "      <td>1</td>\n",
       "      <td>43</td>\n",
       "      <td>458</td>\n",
       "    </tr>\n",
       "    <tr>\n",
       "      <th>3</th>\n",
       "      <td>2b3ac8aafad8738d959cfbcc9c53e94d5de06345354965...</td>\n",
       "      <td>28.0</td>\n",
       "      <td>496111020</td>\n",
       "      <td>2</td>\n",
       "      <td>0.022017</td>\n",
       "      <td>1</td>\n",
       "      <td>43</td>\n",
       "      <td>458</td>\n",
       "    </tr>\n",
       "    <tr>\n",
       "      <th>4</th>\n",
       "      <td>017ddc94fee40ab9a24af073a4c69282b4c04e094d53a9...</td>\n",
       "      <td>28.0</td>\n",
       "      <td>663007003</td>\n",
       "      <td>1</td>\n",
       "      <td>0.042356</td>\n",
       "      <td>1</td>\n",
       "      <td>9</td>\n",
       "      <td>118</td>\n",
       "    </tr>\n",
       "  </tbody>\n",
       "</table>\n",
       "</div>\n",
       "      <button class=\"colab-df-convert\" onclick=\"convertToInteractive('df-9553d4d3-661e-443c-9ed8-069c3767c7b3')\"\n",
       "              title=\"Convert this dataframe to an interactive table.\"\n",
       "              style=\"display:none;\">\n",
       "        \n",
       "  <svg xmlns=\"http://www.w3.org/2000/svg\" height=\"24px\"viewBox=\"0 0 24 24\"\n",
       "       width=\"24px\">\n",
       "    <path d=\"M0 0h24v24H0V0z\" fill=\"none\"/>\n",
       "    <path d=\"M18.56 5.44l.94 2.06.94-2.06 2.06-.94-2.06-.94-.94-2.06-.94 2.06-2.06.94zm-11 1L8.5 8.5l.94-2.06 2.06-.94-2.06-.94L8.5 2.5l-.94 2.06-2.06.94zm10 10l.94 2.06.94-2.06 2.06-.94-2.06-.94-.94-2.06-.94 2.06-2.06.94z\"/><path d=\"M17.41 7.96l-1.37-1.37c-.4-.4-.92-.59-1.43-.59-.52 0-1.04.2-1.43.59L10.3 9.45l-7.72 7.72c-.78.78-.78 2.05 0 2.83L4 21.41c.39.39.9.59 1.41.59.51 0 1.02-.2 1.41-.59l7.78-7.78 2.81-2.81c.8-.78.8-2.07 0-2.86zM5.41 20L4 18.59l7.72-7.72 1.47 1.35L5.41 20z\"/>\n",
       "  </svg>\n",
       "      </button>\n",
       "      \n",
       "  <style>\n",
       "    .colab-df-container {\n",
       "      display:flex;\n",
       "      flex-wrap:wrap;\n",
       "      gap: 12px;\n",
       "    }\n",
       "\n",
       "    .colab-df-convert {\n",
       "      background-color: #E8F0FE;\n",
       "      border: none;\n",
       "      border-radius: 50%;\n",
       "      cursor: pointer;\n",
       "      display: none;\n",
       "      fill: #1967D2;\n",
       "      height: 32px;\n",
       "      padding: 0 0 0 0;\n",
       "      width: 32px;\n",
       "    }\n",
       "\n",
       "    .colab-df-convert:hover {\n",
       "      background-color: #E2EBFA;\n",
       "      box-shadow: 0px 1px 2px rgba(60, 64, 67, 0.3), 0px 1px 3px 1px rgba(60, 64, 67, 0.15);\n",
       "      fill: #174EA6;\n",
       "    }\n",
       "\n",
       "    [theme=dark] .colab-df-convert {\n",
       "      background-color: #3B4455;\n",
       "      fill: #D2E3FC;\n",
       "    }\n",
       "\n",
       "    [theme=dark] .colab-df-convert:hover {\n",
       "      background-color: #434B5C;\n",
       "      box-shadow: 0px 1px 3px 1px rgba(0, 0, 0, 0.15);\n",
       "      filter: drop-shadow(0px 1px 2px rgba(0, 0, 0, 0.3));\n",
       "      fill: #FFFFFF;\n",
       "    }\n",
       "  </style>\n",
       "\n",
       "      <script>\n",
       "        const buttonEl =\n",
       "          document.querySelector('#df-9553d4d3-661e-443c-9ed8-069c3767c7b3 button.colab-df-convert');\n",
       "        buttonEl.style.display =\n",
       "          google.colab.kernel.accessAllowed ? 'block' : 'none';\n",
       "\n",
       "        async function convertToInteractive(key) {\n",
       "          const element = document.querySelector('#df-9553d4d3-661e-443c-9ed8-069c3767c7b3');\n",
       "          const dataTable =\n",
       "            await google.colab.kernel.invokeFunction('convertToInteractive',\n",
       "                                                     [key], {});\n",
       "          if (!dataTable) return;\n",
       "\n",
       "          const docLinkHtml = 'Like what you see? Visit the ' +\n",
       "            '<a target=\"_blank\" href=https://colab.research.google.com/notebooks/data_table.ipynb>data table notebook</a>'\n",
       "            + ' to learn more about interactive tables.';\n",
       "          element.innerHTML = '';\n",
       "          dataTable['output_type'] = 'display_data';\n",
       "          await google.colab.output.renderOutput(dataTable, element);\n",
       "          const docLink = document.createElement('div');\n",
       "          docLink.innerHTML = docLinkHtml;\n",
       "          element.appendChild(docLink);\n",
       "        }\n",
       "      </script>\n",
       "    </div>\n",
       "  </div>\n",
       "  "
      ]
     },
     "metadata": {},
     "execution_count": 624
    }
   ]
  },
  {
   "cell_type": "code",
   "execution_count": null,
   "metadata": {
    "pycharm": {
     "is_executing": true
    },
    "scrolled": true,
    "id": "gaZuR3DsLK9U",
    "colab": {
     "base_uri": "https://localhost:8080/",
     "height": 206
    },
    "outputId": "8c2e2eb2-51c1-4cdd-d0b3-c8459cb40b8b"
   },
   "outputs": [
    {
     "output_type": "execute_result",
     "data": {
      "text/plain": [
       "   customer_id   age  article_id  sales_channel_id     price  ordered  \\\n",
       "0            8  28.0         866                 1  0.033881        1   \n",
       "1          329  40.0         866                 1  0.027102        1   \n",
       "2          223  28.0         866                 2  0.022017        1   \n",
       "3          223  28.0         866                 2  0.022017        1   \n",
       "4            8  28.0        4933                 1  0.042356        1   \n",
       "\n",
       "   colour_group_code  colour_type  \n",
       "0                 43          458  \n",
       "1                 43          458  \n",
       "2                 43          458  \n",
       "3                 43          458  \n",
       "4                  9          118  "
      ],
      "text/html": [
       "\n",
       "  <div id=\"df-20787f8e-af3b-425c-b78c-3f36efa6afef\">\n",
       "    <div class=\"colab-df-container\">\n",
       "      <div>\n",
       "<style scoped>\n",
       "    .dataframe tbody tr th:only-of-type {\n",
       "        vertical-align: middle;\n",
       "    }\n",
       "\n",
       "    .dataframe tbody tr th {\n",
       "        vertical-align: top;\n",
       "    }\n",
       "\n",
       "    .dataframe thead th {\n",
       "        text-align: right;\n",
       "    }\n",
       "</style>\n",
       "<table border=\"1\" class=\"dataframe\">\n",
       "  <thead>\n",
       "    <tr style=\"text-align: right;\">\n",
       "      <th></th>\n",
       "      <th>customer_id</th>\n",
       "      <th>age</th>\n",
       "      <th>article_id</th>\n",
       "      <th>sales_channel_id</th>\n",
       "      <th>price</th>\n",
       "      <th>ordered</th>\n",
       "      <th>colour_group_code</th>\n",
       "      <th>colour_type</th>\n",
       "    </tr>\n",
       "  </thead>\n",
       "  <tbody>\n",
       "    <tr>\n",
       "      <th>0</th>\n",
       "      <td>8</td>\n",
       "      <td>28.0</td>\n",
       "      <td>866</td>\n",
       "      <td>1</td>\n",
       "      <td>0.033881</td>\n",
       "      <td>1</td>\n",
       "      <td>43</td>\n",
       "      <td>458</td>\n",
       "    </tr>\n",
       "    <tr>\n",
       "      <th>1</th>\n",
       "      <td>329</td>\n",
       "      <td>40.0</td>\n",
       "      <td>866</td>\n",
       "      <td>1</td>\n",
       "      <td>0.027102</td>\n",
       "      <td>1</td>\n",
       "      <td>43</td>\n",
       "      <td>458</td>\n",
       "    </tr>\n",
       "    <tr>\n",
       "      <th>2</th>\n",
       "      <td>223</td>\n",
       "      <td>28.0</td>\n",
       "      <td>866</td>\n",
       "      <td>2</td>\n",
       "      <td>0.022017</td>\n",
       "      <td>1</td>\n",
       "      <td>43</td>\n",
       "      <td>458</td>\n",
       "    </tr>\n",
       "    <tr>\n",
       "      <th>3</th>\n",
       "      <td>223</td>\n",
       "      <td>28.0</td>\n",
       "      <td>866</td>\n",
       "      <td>2</td>\n",
       "      <td>0.022017</td>\n",
       "      <td>1</td>\n",
       "      <td>43</td>\n",
       "      <td>458</td>\n",
       "    </tr>\n",
       "    <tr>\n",
       "      <th>4</th>\n",
       "      <td>8</td>\n",
       "      <td>28.0</td>\n",
       "      <td>4933</td>\n",
       "      <td>1</td>\n",
       "      <td>0.042356</td>\n",
       "      <td>1</td>\n",
       "      <td>9</td>\n",
       "      <td>118</td>\n",
       "    </tr>\n",
       "  </tbody>\n",
       "</table>\n",
       "</div>\n",
       "      <button class=\"colab-df-convert\" onclick=\"convertToInteractive('df-20787f8e-af3b-425c-b78c-3f36efa6afef')\"\n",
       "              title=\"Convert this dataframe to an interactive table.\"\n",
       "              style=\"display:none;\">\n",
       "        \n",
       "  <svg xmlns=\"http://www.w3.org/2000/svg\" height=\"24px\"viewBox=\"0 0 24 24\"\n",
       "       width=\"24px\">\n",
       "    <path d=\"M0 0h24v24H0V0z\" fill=\"none\"/>\n",
       "    <path d=\"M18.56 5.44l.94 2.06.94-2.06 2.06-.94-2.06-.94-.94-2.06-.94 2.06-2.06.94zm-11 1L8.5 8.5l.94-2.06 2.06-.94-2.06-.94L8.5 2.5l-.94 2.06-2.06.94zm10 10l.94 2.06.94-2.06 2.06-.94-2.06-.94-.94-2.06-.94 2.06-2.06.94z\"/><path d=\"M17.41 7.96l-1.37-1.37c-.4-.4-.92-.59-1.43-.59-.52 0-1.04.2-1.43.59L10.3 9.45l-7.72 7.72c-.78.78-.78 2.05 0 2.83L4 21.41c.39.39.9.59 1.41.59.51 0 1.02-.2 1.41-.59l7.78-7.78 2.81-2.81c.8-.78.8-2.07 0-2.86zM5.41 20L4 18.59l7.72-7.72 1.47 1.35L5.41 20z\"/>\n",
       "  </svg>\n",
       "      </button>\n",
       "      \n",
       "  <style>\n",
       "    .colab-df-container {\n",
       "      display:flex;\n",
       "      flex-wrap:wrap;\n",
       "      gap: 12px;\n",
       "    }\n",
       "\n",
       "    .colab-df-convert {\n",
       "      background-color: #E8F0FE;\n",
       "      border: none;\n",
       "      border-radius: 50%;\n",
       "      cursor: pointer;\n",
       "      display: none;\n",
       "      fill: #1967D2;\n",
       "      height: 32px;\n",
       "      padding: 0 0 0 0;\n",
       "      width: 32px;\n",
       "    }\n",
       "\n",
       "    .colab-df-convert:hover {\n",
       "      background-color: #E2EBFA;\n",
       "      box-shadow: 0px 1px 2px rgba(60, 64, 67, 0.3), 0px 1px 3px 1px rgba(60, 64, 67, 0.15);\n",
       "      fill: #174EA6;\n",
       "    }\n",
       "\n",
       "    [theme=dark] .colab-df-convert {\n",
       "      background-color: #3B4455;\n",
       "      fill: #D2E3FC;\n",
       "    }\n",
       "\n",
       "    [theme=dark] .colab-df-convert:hover {\n",
       "      background-color: #434B5C;\n",
       "      box-shadow: 0px 1px 3px 1px rgba(0, 0, 0, 0.15);\n",
       "      filter: drop-shadow(0px 1px 2px rgba(0, 0, 0, 0.3));\n",
       "      fill: #FFFFFF;\n",
       "    }\n",
       "  </style>\n",
       "\n",
       "      <script>\n",
       "        const buttonEl =\n",
       "          document.querySelector('#df-20787f8e-af3b-425c-b78c-3f36efa6afef button.colab-df-convert');\n",
       "        buttonEl.style.display =\n",
       "          google.colab.kernel.accessAllowed ? 'block' : 'none';\n",
       "\n",
       "        async function convertToInteractive(key) {\n",
       "          const element = document.querySelector('#df-20787f8e-af3b-425c-b78c-3f36efa6afef');\n",
       "          const dataTable =\n",
       "            await google.colab.kernel.invokeFunction('convertToInteractive',\n",
       "                                                     [key], {});\n",
       "          if (!dataTable) return;\n",
       "\n",
       "          const docLinkHtml = 'Like what you see? Visit the ' +\n",
       "            '<a target=\"_blank\" href=https://colab.research.google.com/notebooks/data_table.ipynb>data table notebook</a>'\n",
       "            + ' to learn more about interactive tables.';\n",
       "          element.innerHTML = '';\n",
       "          dataTable['output_type'] = 'display_data';\n",
       "          await google.colab.output.renderOutput(dataTable, element);\n",
       "          const docLink = document.createElement('div');\n",
       "          docLink.innerHTML = docLinkHtml;\n",
       "          element.appendChild(docLink);\n",
       "        }\n",
       "      </script>\n",
       "    </div>\n",
       "  </div>\n",
       "  "
      ]
     },
     "metadata": {},
     "execution_count": 625
    }
   ],
   "source": [
    "\n",
    "\n",
    "\n",
    "customer_encoder = preprocessing.LabelEncoder()\n",
    "article_encoder = preprocessing.LabelEncoder()\n",
    "transactions_processed['customer_id'] = customer_encoder.fit_transform(transactions_processed['customer_id'])\n",
    "transactions_processed['article_id'] = article_encoder.fit_transform(transactions_processed['article_id'])\n",
    "\n",
    "transactions_processed = transactions_processed.fillna(0)\n",
    "transactions_processed.isnull().values.any()\n",
    "transactions_processed.head()"
   ]
  },
  {
   "cell_type": "code",
   "execution_count": null,
   "metadata": {
    "scrolled": true,
    "id": "litBQkNjLK9U",
    "colab": {
     "base_uri": "https://localhost:8080/",
     "height": 300
    },
    "outputId": "6c3c87d4-d07f-41eb-94cc-9bb05469c4be"
   },
   "outputs": [
    {
     "output_type": "execute_result",
     "data": {
      "text/plain": [
       "   customer_id   age  article_id     price  ordered  colour_group_code  \\\n",
       "0            8  28.0         866  0.033881        1                 43   \n",
       "1          329  40.0         866  0.027102        1                 43   \n",
       "2          223  28.0         866  0.022017        1                 43   \n",
       "3          223  28.0         866  0.022017        1                 43   \n",
       "4            8  28.0        4933  0.042356        1                  9   \n",
       "\n",
       "   sales_channel_id_1  sales_channel_id_2  colour_type_0  colour_type_1  ...  \\\n",
       "0                   1                   0              0              0  ...   \n",
       "1                   1                   0              0              0  ...   \n",
       "2                   0                   1              0              0  ...   \n",
       "3                   0                   1              0              0  ...   \n",
       "4                   1                   0              0              0  ...   \n",
       "\n",
       "   colour_type_1391  colour_type_1392  colour_type_1393  colour_type_1394  \\\n",
       "0                 0                 0                 0                 0   \n",
       "1                 0                 0                 0                 0   \n",
       "2                 0                 0                 0                 0   \n",
       "3                 0                 0                 0                 0   \n",
       "4                 0                 0                 0                 0   \n",
       "\n",
       "   colour_type_1395  colour_type_1396  colour_type_1397  colour_type_1398  \\\n",
       "0                 0                 0                 0                 0   \n",
       "1                 0                 0                 0                 0   \n",
       "2                 0                 0                 0                 0   \n",
       "3                 0                 0                 0                 0   \n",
       "4                 0                 0                 0                 0   \n",
       "\n",
       "   colour_type_1399  colour_type_1400  \n",
       "0                 0                 0  \n",
       "1                 0                 0  \n",
       "2                 0                 0  \n",
       "3                 0                 0  \n",
       "4                 0                 0  \n",
       "\n",
       "[5 rows x 1409 columns]"
      ],
      "text/html": [
       "\n",
       "  <div id=\"df-8a7dc1e9-a3bb-4446-8976-63d75a52210e\">\n",
       "    <div class=\"colab-df-container\">\n",
       "      <div>\n",
       "<style scoped>\n",
       "    .dataframe tbody tr th:only-of-type {\n",
       "        vertical-align: middle;\n",
       "    }\n",
       "\n",
       "    .dataframe tbody tr th {\n",
       "        vertical-align: top;\n",
       "    }\n",
       "\n",
       "    .dataframe thead th {\n",
       "        text-align: right;\n",
       "    }\n",
       "</style>\n",
       "<table border=\"1\" class=\"dataframe\">\n",
       "  <thead>\n",
       "    <tr style=\"text-align: right;\">\n",
       "      <th></th>\n",
       "      <th>customer_id</th>\n",
       "      <th>age</th>\n",
       "      <th>article_id</th>\n",
       "      <th>price</th>\n",
       "      <th>ordered</th>\n",
       "      <th>colour_group_code</th>\n",
       "      <th>sales_channel_id_1</th>\n",
       "      <th>sales_channel_id_2</th>\n",
       "      <th>colour_type_0</th>\n",
       "      <th>colour_type_1</th>\n",
       "      <th>...</th>\n",
       "      <th>colour_type_1391</th>\n",
       "      <th>colour_type_1392</th>\n",
       "      <th>colour_type_1393</th>\n",
       "      <th>colour_type_1394</th>\n",
       "      <th>colour_type_1395</th>\n",
       "      <th>colour_type_1396</th>\n",
       "      <th>colour_type_1397</th>\n",
       "      <th>colour_type_1398</th>\n",
       "      <th>colour_type_1399</th>\n",
       "      <th>colour_type_1400</th>\n",
       "    </tr>\n",
       "  </thead>\n",
       "  <tbody>\n",
       "    <tr>\n",
       "      <th>0</th>\n",
       "      <td>8</td>\n",
       "      <td>28.0</td>\n",
       "      <td>866</td>\n",
       "      <td>0.033881</td>\n",
       "      <td>1</td>\n",
       "      <td>43</td>\n",
       "      <td>1</td>\n",
       "      <td>0</td>\n",
       "      <td>0</td>\n",
       "      <td>0</td>\n",
       "      <td>...</td>\n",
       "      <td>0</td>\n",
       "      <td>0</td>\n",
       "      <td>0</td>\n",
       "      <td>0</td>\n",
       "      <td>0</td>\n",
       "      <td>0</td>\n",
       "      <td>0</td>\n",
       "      <td>0</td>\n",
       "      <td>0</td>\n",
       "      <td>0</td>\n",
       "    </tr>\n",
       "    <tr>\n",
       "      <th>1</th>\n",
       "      <td>329</td>\n",
       "      <td>40.0</td>\n",
       "      <td>866</td>\n",
       "      <td>0.027102</td>\n",
       "      <td>1</td>\n",
       "      <td>43</td>\n",
       "      <td>1</td>\n",
       "      <td>0</td>\n",
       "      <td>0</td>\n",
       "      <td>0</td>\n",
       "      <td>...</td>\n",
       "      <td>0</td>\n",
       "      <td>0</td>\n",
       "      <td>0</td>\n",
       "      <td>0</td>\n",
       "      <td>0</td>\n",
       "      <td>0</td>\n",
       "      <td>0</td>\n",
       "      <td>0</td>\n",
       "      <td>0</td>\n",
       "      <td>0</td>\n",
       "    </tr>\n",
       "    <tr>\n",
       "      <th>2</th>\n",
       "      <td>223</td>\n",
       "      <td>28.0</td>\n",
       "      <td>866</td>\n",
       "      <td>0.022017</td>\n",
       "      <td>1</td>\n",
       "      <td>43</td>\n",
       "      <td>0</td>\n",
       "      <td>1</td>\n",
       "      <td>0</td>\n",
       "      <td>0</td>\n",
       "      <td>...</td>\n",
       "      <td>0</td>\n",
       "      <td>0</td>\n",
       "      <td>0</td>\n",
       "      <td>0</td>\n",
       "      <td>0</td>\n",
       "      <td>0</td>\n",
       "      <td>0</td>\n",
       "      <td>0</td>\n",
       "      <td>0</td>\n",
       "      <td>0</td>\n",
       "    </tr>\n",
       "    <tr>\n",
       "      <th>3</th>\n",
       "      <td>223</td>\n",
       "      <td>28.0</td>\n",
       "      <td>866</td>\n",
       "      <td>0.022017</td>\n",
       "      <td>1</td>\n",
       "      <td>43</td>\n",
       "      <td>0</td>\n",
       "      <td>1</td>\n",
       "      <td>0</td>\n",
       "      <td>0</td>\n",
       "      <td>...</td>\n",
       "      <td>0</td>\n",
       "      <td>0</td>\n",
       "      <td>0</td>\n",
       "      <td>0</td>\n",
       "      <td>0</td>\n",
       "      <td>0</td>\n",
       "      <td>0</td>\n",
       "      <td>0</td>\n",
       "      <td>0</td>\n",
       "      <td>0</td>\n",
       "    </tr>\n",
       "    <tr>\n",
       "      <th>4</th>\n",
       "      <td>8</td>\n",
       "      <td>28.0</td>\n",
       "      <td>4933</td>\n",
       "      <td>0.042356</td>\n",
       "      <td>1</td>\n",
       "      <td>9</td>\n",
       "      <td>1</td>\n",
       "      <td>0</td>\n",
       "      <td>0</td>\n",
       "      <td>0</td>\n",
       "      <td>...</td>\n",
       "      <td>0</td>\n",
       "      <td>0</td>\n",
       "      <td>0</td>\n",
       "      <td>0</td>\n",
       "      <td>0</td>\n",
       "      <td>0</td>\n",
       "      <td>0</td>\n",
       "      <td>0</td>\n",
       "      <td>0</td>\n",
       "      <td>0</td>\n",
       "    </tr>\n",
       "  </tbody>\n",
       "</table>\n",
       "<p>5 rows × 1409 columns</p>\n",
       "</div>\n",
       "      <button class=\"colab-df-convert\" onclick=\"convertToInteractive('df-8a7dc1e9-a3bb-4446-8976-63d75a52210e')\"\n",
       "              title=\"Convert this dataframe to an interactive table.\"\n",
       "              style=\"display:none;\">\n",
       "        \n",
       "  <svg xmlns=\"http://www.w3.org/2000/svg\" height=\"24px\"viewBox=\"0 0 24 24\"\n",
       "       width=\"24px\">\n",
       "    <path d=\"M0 0h24v24H0V0z\" fill=\"none\"/>\n",
       "    <path d=\"M18.56 5.44l.94 2.06.94-2.06 2.06-.94-2.06-.94-.94-2.06-.94 2.06-2.06.94zm-11 1L8.5 8.5l.94-2.06 2.06-.94-2.06-.94L8.5 2.5l-.94 2.06-2.06.94zm10 10l.94 2.06.94-2.06 2.06-.94-2.06-.94-.94-2.06-.94 2.06-2.06.94z\"/><path d=\"M17.41 7.96l-1.37-1.37c-.4-.4-.92-.59-1.43-.59-.52 0-1.04.2-1.43.59L10.3 9.45l-7.72 7.72c-.78.78-.78 2.05 0 2.83L4 21.41c.39.39.9.59 1.41.59.51 0 1.02-.2 1.41-.59l7.78-7.78 2.81-2.81c.8-.78.8-2.07 0-2.86zM5.41 20L4 18.59l7.72-7.72 1.47 1.35L5.41 20z\"/>\n",
       "  </svg>\n",
       "      </button>\n",
       "      \n",
       "  <style>\n",
       "    .colab-df-container {\n",
       "      display:flex;\n",
       "      flex-wrap:wrap;\n",
       "      gap: 12px;\n",
       "    }\n",
       "\n",
       "    .colab-df-convert {\n",
       "      background-color: #E8F0FE;\n",
       "      border: none;\n",
       "      border-radius: 50%;\n",
       "      cursor: pointer;\n",
       "      display: none;\n",
       "      fill: #1967D2;\n",
       "      height: 32px;\n",
       "      padding: 0 0 0 0;\n",
       "      width: 32px;\n",
       "    }\n",
       "\n",
       "    .colab-df-convert:hover {\n",
       "      background-color: #E2EBFA;\n",
       "      box-shadow: 0px 1px 2px rgba(60, 64, 67, 0.3), 0px 1px 3px 1px rgba(60, 64, 67, 0.15);\n",
       "      fill: #174EA6;\n",
       "    }\n",
       "\n",
       "    [theme=dark] .colab-df-convert {\n",
       "      background-color: #3B4455;\n",
       "      fill: #D2E3FC;\n",
       "    }\n",
       "\n",
       "    [theme=dark] .colab-df-convert:hover {\n",
       "      background-color: #434B5C;\n",
       "      box-shadow: 0px 1px 3px 1px rgba(0, 0, 0, 0.15);\n",
       "      filter: drop-shadow(0px 1px 2px rgba(0, 0, 0, 0.3));\n",
       "      fill: #FFFFFF;\n",
       "    }\n",
       "  </style>\n",
       "\n",
       "      <script>\n",
       "        const buttonEl =\n",
       "          document.querySelector('#df-8a7dc1e9-a3bb-4446-8976-63d75a52210e button.colab-df-convert');\n",
       "        buttonEl.style.display =\n",
       "          google.colab.kernel.accessAllowed ? 'block' : 'none';\n",
       "\n",
       "        async function convertToInteractive(key) {\n",
       "          const element = document.querySelector('#df-8a7dc1e9-a3bb-4446-8976-63d75a52210e');\n",
       "          const dataTable =\n",
       "            await google.colab.kernel.invokeFunction('convertToInteractive',\n",
       "                                                     [key], {});\n",
       "          if (!dataTable) return;\n",
       "\n",
       "          const docLinkHtml = 'Like what you see? Visit the ' +\n",
       "            '<a target=\"_blank\" href=https://colab.research.google.com/notebooks/data_table.ipynb>data table notebook</a>'\n",
       "            + ' to learn more about interactive tables.';\n",
       "          element.innerHTML = '';\n",
       "          dataTable['output_type'] = 'display_data';\n",
       "          await google.colab.output.renderOutput(dataTable, element);\n",
       "          const docLink = document.createElement('div');\n",
       "          docLink.innerHTML = docLinkHtml;\n",
       "          element.appendChild(docLink);\n",
       "        }\n",
       "      </script>\n",
       "    </div>\n",
       "  </div>\n",
       "  "
      ]
     },
     "metadata": {},
     "execution_count": 626
    }
   ],
   "source": [
    "transactions_processed = pd.get_dummies(transactions_processed, columns=['sales_channel_id', 'colour_type'])\n",
    "transactions_processed.head()"
   ]
  },
  {
   "cell_type": "code",
   "execution_count": null,
   "metadata": {
    "pycharm": {
     "is_executing": true
    },
    "scrolled": true,
    "id": "QkI43eg6LK9V",
    "colab": {
     "base_uri": "https://localhost:8080/"
    },
    "outputId": "5a4194ea-813f-4f2a-9105-f3ab73b76689"
   },
   "outputs": [
    {
     "output_type": "execute_result",
     "data": {
      "text/plain": [
       "0.6046511627906976"
      ]
     },
     "metadata": {},
     "execution_count": 627
    }
   ],
   "source": [
    "X_train, X_test, y_train, y_test = train_test_split(transactions_processed.drop('ordered', axis=1), transactions_processed['ordered'], test_size=0.10, random_state=42)\n",
    "baseline = LogisticRegression(random_state=42)\n",
    "baseline = baseline.fit(X_train, y_train)\n",
    "baseline.score(X_test, y_test)\n"
   ]
  },
  {
   "cell_type": "markdown",
   "source": [
    "###Populartity\n",
    "Looks at what items are sold within the last 4 months"
   ],
   "metadata": {
    "id": "MzMCD75mqPyu"
   }
  },
  {
   "cell_type": "code",
   "source": [
    "dated_transactions = transactions.loc[transactions[\"ordered\"] == 1][[\"article_id\", \"t_dat\"]]\n",
    "dated_transactions[\"t_dat\"] = pd.to_datetime(dated_transactions[\"t_dat\"])\n",
    "latest_date = dated_transactions[\"t_dat\"].max()\n",
    "dated_transactions[\"transaction_age_months\"] = 12 * (latest_date.year - dated_transactions[\"t_dat\"].dt.year) + (latest_date.month - dated_transactions[\"t_dat\"].dt.month)\n",
    "dated_transactions.head()"
   ],
   "metadata": {
    "colab": {
     "base_uri": "https://localhost:8080/",
     "height": 206
    },
    "id": "MoqKFc94pswn",
    "outputId": "23a7ac51-223e-46c1-d256-0b5e2c07af70"
   },
   "execution_count": null,
   "outputs": [
    {
     "output_type": "execute_result",
     "data": {
      "text/plain": [
       "  article_id      t_dat  transaction_age_months\n",
       "0  496111020 2018-09-20                      24\n",
       "1  496111020 2018-09-29                      24\n",
       "2  496111020 2019-01-03                      20\n",
       "3  496111020 2019-01-03                      20\n",
       "4  663007003 2018-09-24                      24"
      ],
      "text/html": [
       "\n",
       "  <div id=\"df-b97bfd08-d923-45e8-834e-4ad862e2817e\">\n",
       "    <div class=\"colab-df-container\">\n",
       "      <div>\n",
       "<style scoped>\n",
       "    .dataframe tbody tr th:only-of-type {\n",
       "        vertical-align: middle;\n",
       "    }\n",
       "\n",
       "    .dataframe tbody tr th {\n",
       "        vertical-align: top;\n",
       "    }\n",
       "\n",
       "    .dataframe thead th {\n",
       "        text-align: right;\n",
       "    }\n",
       "</style>\n",
       "<table border=\"1\" class=\"dataframe\">\n",
       "  <thead>\n",
       "    <tr style=\"text-align: right;\">\n",
       "      <th></th>\n",
       "      <th>article_id</th>\n",
       "      <th>t_dat</th>\n",
       "      <th>transaction_age_months</th>\n",
       "    </tr>\n",
       "  </thead>\n",
       "  <tbody>\n",
       "    <tr>\n",
       "      <th>0</th>\n",
       "      <td>496111020</td>\n",
       "      <td>2018-09-20</td>\n",
       "      <td>24</td>\n",
       "    </tr>\n",
       "    <tr>\n",
       "      <th>1</th>\n",
       "      <td>496111020</td>\n",
       "      <td>2018-09-29</td>\n",
       "      <td>24</td>\n",
       "    </tr>\n",
       "    <tr>\n",
       "      <th>2</th>\n",
       "      <td>496111020</td>\n",
       "      <td>2019-01-03</td>\n",
       "      <td>20</td>\n",
       "    </tr>\n",
       "    <tr>\n",
       "      <th>3</th>\n",
       "      <td>496111020</td>\n",
       "      <td>2019-01-03</td>\n",
       "      <td>20</td>\n",
       "    </tr>\n",
       "    <tr>\n",
       "      <th>4</th>\n",
       "      <td>663007003</td>\n",
       "      <td>2018-09-24</td>\n",
       "      <td>24</td>\n",
       "    </tr>\n",
       "  </tbody>\n",
       "</table>\n",
       "</div>\n",
       "      <button class=\"colab-df-convert\" onclick=\"convertToInteractive('df-b97bfd08-d923-45e8-834e-4ad862e2817e')\"\n",
       "              title=\"Convert this dataframe to an interactive table.\"\n",
       "              style=\"display:none;\">\n",
       "        \n",
       "  <svg xmlns=\"http://www.w3.org/2000/svg\" height=\"24px\"viewBox=\"0 0 24 24\"\n",
       "       width=\"24px\">\n",
       "    <path d=\"M0 0h24v24H0V0z\" fill=\"none\"/>\n",
       "    <path d=\"M18.56 5.44l.94 2.06.94-2.06 2.06-.94-2.06-.94-.94-2.06-.94 2.06-2.06.94zm-11 1L8.5 8.5l.94-2.06 2.06-.94-2.06-.94L8.5 2.5l-.94 2.06-2.06.94zm10 10l.94 2.06.94-2.06 2.06-.94-2.06-.94-.94-2.06-.94 2.06-2.06.94z\"/><path d=\"M17.41 7.96l-1.37-1.37c-.4-.4-.92-.59-1.43-.59-.52 0-1.04.2-1.43.59L10.3 9.45l-7.72 7.72c-.78.78-.78 2.05 0 2.83L4 21.41c.39.39.9.59 1.41.59.51 0 1.02-.2 1.41-.59l7.78-7.78 2.81-2.81c.8-.78.8-2.07 0-2.86zM5.41 20L4 18.59l7.72-7.72 1.47 1.35L5.41 20z\"/>\n",
       "  </svg>\n",
       "      </button>\n",
       "      \n",
       "  <style>\n",
       "    .colab-df-container {\n",
       "      display:flex;\n",
       "      flex-wrap:wrap;\n",
       "      gap: 12px;\n",
       "    }\n",
       "\n",
       "    .colab-df-convert {\n",
       "      background-color: #E8F0FE;\n",
       "      border: none;\n",
       "      border-radius: 50%;\n",
       "      cursor: pointer;\n",
       "      display: none;\n",
       "      fill: #1967D2;\n",
       "      height: 32px;\n",
       "      padding: 0 0 0 0;\n",
       "      width: 32px;\n",
       "    }\n",
       "\n",
       "    .colab-df-convert:hover {\n",
       "      background-color: #E2EBFA;\n",
       "      box-shadow: 0px 1px 2px rgba(60, 64, 67, 0.3), 0px 1px 3px 1px rgba(60, 64, 67, 0.15);\n",
       "      fill: #174EA6;\n",
       "    }\n",
       "\n",
       "    [theme=dark] .colab-df-convert {\n",
       "      background-color: #3B4455;\n",
       "      fill: #D2E3FC;\n",
       "    }\n",
       "\n",
       "    [theme=dark] .colab-df-convert:hover {\n",
       "      background-color: #434B5C;\n",
       "      box-shadow: 0px 1px 3px 1px rgba(0, 0, 0, 0.15);\n",
       "      filter: drop-shadow(0px 1px 2px rgba(0, 0, 0, 0.3));\n",
       "      fill: #FFFFFF;\n",
       "    }\n",
       "  </style>\n",
       "\n",
       "      <script>\n",
       "        const buttonEl =\n",
       "          document.querySelector('#df-b97bfd08-d923-45e8-834e-4ad862e2817e button.colab-df-convert');\n",
       "        buttonEl.style.display =\n",
       "          google.colab.kernel.accessAllowed ? 'block' : 'none';\n",
       "\n",
       "        async function convertToInteractive(key) {\n",
       "          const element = document.querySelector('#df-b97bfd08-d923-45e8-834e-4ad862e2817e');\n",
       "          const dataTable =\n",
       "            await google.colab.kernel.invokeFunction('convertToInteractive',\n",
       "                                                     [key], {});\n",
       "          if (!dataTable) return;\n",
       "\n",
       "          const docLinkHtml = 'Like what you see? Visit the ' +\n",
       "            '<a target=\"_blank\" href=https://colab.research.google.com/notebooks/data_table.ipynb>data table notebook</a>'\n",
       "            + ' to learn more about interactive tables.';\n",
       "          element.innerHTML = '';\n",
       "          dataTable['output_type'] = 'display_data';\n",
       "          await google.colab.output.renderOutput(dataTable, element);\n",
       "          const docLink = document.createElement('div');\n",
       "          docLink.innerHTML = docLinkHtml;\n",
       "          element.appendChild(docLink);\n",
       "        }\n",
       "      </script>\n",
       "    </div>\n",
       "  </div>\n",
       "  "
      ]
     },
     "metadata": {},
     "execution_count": 628
    }
   ]
  },
  {
   "cell_type": "markdown",
   "source": [
    "Filter out sales that are older than 4 months. "
   ],
   "metadata": {
    "id": "hEBl-wtc-2wO"
   }
  },
  {
   "cell_type": "code",
   "source": [
    "popular_items = dated_transactions.loc[dated_transactions[\"transaction_age_months\"] < 4]\n",
    "popular_items = popular_items[\"article_id\"].value_counts().rename_axis(\"article_id\").reset_index(name=\"count\")"
   ],
   "metadata": {
    "id": "P1BXvX8kptkV"
   },
   "execution_count": null,
   "outputs": []
  },
  {
   "cell_type": "code",
   "source": [
    "transactions_processed = transactions[['customer_id', 'age', 'article_id', 'sales_channel_id', 'price', 'ordered']].copy()\n",
    "transactions_processed = transactions_processed.merge(popular_items, how=\"inner\", on='article_id')\n",
    "transactions_processed.head()"
   ],
   "metadata": {
    "colab": {
     "base_uri": "https://localhost:8080/",
     "height": 206
    },
    "id": "FB0r1bnPp1nq",
    "outputId": "329599ec-e407-4647-9eaa-60edfeb47a4a"
   },
   "execution_count": null,
   "outputs": [
    {
     "output_type": "execute_result",
     "data": {
      "text/plain": [
       "                                         customer_id   age article_id  \\\n",
       "0  017ddc94fee40ab9a24af073a4c69282b4c04e094d53a9...  28.0  179123001   \n",
       "1  017ddc94fee40ab9a24af073a4c69282b4c04e094d53a9...  28.0  179123001   \n",
       "2  017ddc94fee40ab9a24af073a4c69282b4c04e094d53a9...  28.0  179123001   \n",
       "3  74303ec6a09511c0d565953f448f64a07f769033df8f0a...  33.0  179123001   \n",
       "4  1c58bc8c44ee0e1c203c7cadd1cbd234ead302850ae5a9...  38.0  179123001   \n",
       "\n",
       "  sales_channel_id     price ordered  count  \n",
       "0                1  0.016932       1      1  \n",
       "1                1  0.016932       1      1  \n",
       "2                1  0.010153       1      1  \n",
       "3                2  0.016932       1      1  \n",
       "4                1   0.01439       1      1  "
      ],
      "text/html": [
       "\n",
       "  <div id=\"df-b78b9119-8c63-4c0b-8b72-5d3dd1a5555d\">\n",
       "    <div class=\"colab-df-container\">\n",
       "      <div>\n",
       "<style scoped>\n",
       "    .dataframe tbody tr th:only-of-type {\n",
       "        vertical-align: middle;\n",
       "    }\n",
       "\n",
       "    .dataframe tbody tr th {\n",
       "        vertical-align: top;\n",
       "    }\n",
       "\n",
       "    .dataframe thead th {\n",
       "        text-align: right;\n",
       "    }\n",
       "</style>\n",
       "<table border=\"1\" class=\"dataframe\">\n",
       "  <thead>\n",
       "    <tr style=\"text-align: right;\">\n",
       "      <th></th>\n",
       "      <th>customer_id</th>\n",
       "      <th>age</th>\n",
       "      <th>article_id</th>\n",
       "      <th>sales_channel_id</th>\n",
       "      <th>price</th>\n",
       "      <th>ordered</th>\n",
       "      <th>count</th>\n",
       "    </tr>\n",
       "  </thead>\n",
       "  <tbody>\n",
       "    <tr>\n",
       "      <th>0</th>\n",
       "      <td>017ddc94fee40ab9a24af073a4c69282b4c04e094d53a9...</td>\n",
       "      <td>28.0</td>\n",
       "      <td>179123001</td>\n",
       "      <td>1</td>\n",
       "      <td>0.016932</td>\n",
       "      <td>1</td>\n",
       "      <td>1</td>\n",
       "    </tr>\n",
       "    <tr>\n",
       "      <th>1</th>\n",
       "      <td>017ddc94fee40ab9a24af073a4c69282b4c04e094d53a9...</td>\n",
       "      <td>28.0</td>\n",
       "      <td>179123001</td>\n",
       "      <td>1</td>\n",
       "      <td>0.016932</td>\n",
       "      <td>1</td>\n",
       "      <td>1</td>\n",
       "    </tr>\n",
       "    <tr>\n",
       "      <th>2</th>\n",
       "      <td>017ddc94fee40ab9a24af073a4c69282b4c04e094d53a9...</td>\n",
       "      <td>28.0</td>\n",
       "      <td>179123001</td>\n",
       "      <td>1</td>\n",
       "      <td>0.010153</td>\n",
       "      <td>1</td>\n",
       "      <td>1</td>\n",
       "    </tr>\n",
       "    <tr>\n",
       "      <th>3</th>\n",
       "      <td>74303ec6a09511c0d565953f448f64a07f769033df8f0a...</td>\n",
       "      <td>33.0</td>\n",
       "      <td>179123001</td>\n",
       "      <td>2</td>\n",
       "      <td>0.016932</td>\n",
       "      <td>1</td>\n",
       "      <td>1</td>\n",
       "    </tr>\n",
       "    <tr>\n",
       "      <th>4</th>\n",
       "      <td>1c58bc8c44ee0e1c203c7cadd1cbd234ead302850ae5a9...</td>\n",
       "      <td>38.0</td>\n",
       "      <td>179123001</td>\n",
       "      <td>1</td>\n",
       "      <td>0.01439</td>\n",
       "      <td>1</td>\n",
       "      <td>1</td>\n",
       "    </tr>\n",
       "  </tbody>\n",
       "</table>\n",
       "</div>\n",
       "      <button class=\"colab-df-convert\" onclick=\"convertToInteractive('df-b78b9119-8c63-4c0b-8b72-5d3dd1a5555d')\"\n",
       "              title=\"Convert this dataframe to an interactive table.\"\n",
       "              style=\"display:none;\">\n",
       "        \n",
       "  <svg xmlns=\"http://www.w3.org/2000/svg\" height=\"24px\"viewBox=\"0 0 24 24\"\n",
       "       width=\"24px\">\n",
       "    <path d=\"M0 0h24v24H0V0z\" fill=\"none\"/>\n",
       "    <path d=\"M18.56 5.44l.94 2.06.94-2.06 2.06-.94-2.06-.94-.94-2.06-.94 2.06-2.06.94zm-11 1L8.5 8.5l.94-2.06 2.06-.94-2.06-.94L8.5 2.5l-.94 2.06-2.06.94zm10 10l.94 2.06.94-2.06 2.06-.94-2.06-.94-.94-2.06-.94 2.06-2.06.94z\"/><path d=\"M17.41 7.96l-1.37-1.37c-.4-.4-.92-.59-1.43-.59-.52 0-1.04.2-1.43.59L10.3 9.45l-7.72 7.72c-.78.78-.78 2.05 0 2.83L4 21.41c.39.39.9.59 1.41.59.51 0 1.02-.2 1.41-.59l7.78-7.78 2.81-2.81c.8-.78.8-2.07 0-2.86zM5.41 20L4 18.59l7.72-7.72 1.47 1.35L5.41 20z\"/>\n",
       "  </svg>\n",
       "      </button>\n",
       "      \n",
       "  <style>\n",
       "    .colab-df-container {\n",
       "      display:flex;\n",
       "      flex-wrap:wrap;\n",
       "      gap: 12px;\n",
       "    }\n",
       "\n",
       "    .colab-df-convert {\n",
       "      background-color: #E8F0FE;\n",
       "      border: none;\n",
       "      border-radius: 50%;\n",
       "      cursor: pointer;\n",
       "      display: none;\n",
       "      fill: #1967D2;\n",
       "      height: 32px;\n",
       "      padding: 0 0 0 0;\n",
       "      width: 32px;\n",
       "    }\n",
       "\n",
       "    .colab-df-convert:hover {\n",
       "      background-color: #E2EBFA;\n",
       "      box-shadow: 0px 1px 2px rgba(60, 64, 67, 0.3), 0px 1px 3px 1px rgba(60, 64, 67, 0.15);\n",
       "      fill: #174EA6;\n",
       "    }\n",
       "\n",
       "    [theme=dark] .colab-df-convert {\n",
       "      background-color: #3B4455;\n",
       "      fill: #D2E3FC;\n",
       "    }\n",
       "\n",
       "    [theme=dark] .colab-df-convert:hover {\n",
       "      background-color: #434B5C;\n",
       "      box-shadow: 0px 1px 3px 1px rgba(0, 0, 0, 0.15);\n",
       "      filter: drop-shadow(0px 1px 2px rgba(0, 0, 0, 0.3));\n",
       "      fill: #FFFFFF;\n",
       "    }\n",
       "  </style>\n",
       "\n",
       "      <script>\n",
       "        const buttonEl =\n",
       "          document.querySelector('#df-b78b9119-8c63-4c0b-8b72-5d3dd1a5555d button.colab-df-convert');\n",
       "        buttonEl.style.display =\n",
       "          google.colab.kernel.accessAllowed ? 'block' : 'none';\n",
       "\n",
       "        async function convertToInteractive(key) {\n",
       "          const element = document.querySelector('#df-b78b9119-8c63-4c0b-8b72-5d3dd1a5555d');\n",
       "          const dataTable =\n",
       "            await google.colab.kernel.invokeFunction('convertToInteractive',\n",
       "                                                     [key], {});\n",
       "          if (!dataTable) return;\n",
       "\n",
       "          const docLinkHtml = 'Like what you see? Visit the ' +\n",
       "            '<a target=\"_blank\" href=https://colab.research.google.com/notebooks/data_table.ipynb>data table notebook</a>'\n",
       "            + ' to learn more about interactive tables.';\n",
       "          element.innerHTML = '';\n",
       "          dataTable['output_type'] = 'display_data';\n",
       "          await google.colab.output.renderOutput(dataTable, element);\n",
       "          const docLink = document.createElement('div');\n",
       "          docLink.innerHTML = docLinkHtml;\n",
       "          element.appendChild(docLink);\n",
       "        }\n",
       "      </script>\n",
       "    </div>\n",
       "  </div>\n",
       "  "
      ]
     },
     "metadata": {},
     "execution_count": 630
    }
   ]
  },
  {
   "cell_type": "code",
   "source": [
    "customer_encoder = preprocessing.LabelEncoder()\n",
    "article_encoder = preprocessing.LabelEncoder()\n",
    "transactions_processed['customer_id'] = customer_encoder.fit_transform(transactions_processed['customer_id'])\n",
    "transactions_processed['article_id'] = article_encoder.fit_transform(transactions_processed['article_id'])\n",
    "transactions_processed = transactions_processed.fillna(0)\n",
    "transactions_processed.isnull().values.any()\n",
    "transactions_processed.head()"
   ],
   "metadata": {
    "colab": {
     "base_uri": "https://localhost:8080/",
     "height": 206
    },
    "id": "rjnLlPH4p7cd",
    "outputId": "50eea324-74f1-4184-a649-b4edcf14c97f"
   },
   "execution_count": null,
   "outputs": [
    {
     "output_type": "execute_result",
     "data": {
      "text/plain": [
       "   customer_id   age  article_id  sales_channel_id     price  ordered  count\n",
       "0            8  28.0           7                 1  0.016932        1      1\n",
       "1            8  28.0           7                 1  0.016932        1      1\n",
       "2            8  28.0           7                 1  0.010153        1      1\n",
       "3          595  33.0           7                 2  0.016932        1      1\n",
       "4          145  38.0           7                 1  0.014390        1      1"
      ],
      "text/html": [
       "\n",
       "  <div id=\"df-470001b9-5ca2-49c1-8848-2cb5f117d219\">\n",
       "    <div class=\"colab-df-container\">\n",
       "      <div>\n",
       "<style scoped>\n",
       "    .dataframe tbody tr th:only-of-type {\n",
       "        vertical-align: middle;\n",
       "    }\n",
       "\n",
       "    .dataframe tbody tr th {\n",
       "        vertical-align: top;\n",
       "    }\n",
       "\n",
       "    .dataframe thead th {\n",
       "        text-align: right;\n",
       "    }\n",
       "</style>\n",
       "<table border=\"1\" class=\"dataframe\">\n",
       "  <thead>\n",
       "    <tr style=\"text-align: right;\">\n",
       "      <th></th>\n",
       "      <th>customer_id</th>\n",
       "      <th>age</th>\n",
       "      <th>article_id</th>\n",
       "      <th>sales_channel_id</th>\n",
       "      <th>price</th>\n",
       "      <th>ordered</th>\n",
       "      <th>count</th>\n",
       "    </tr>\n",
       "  </thead>\n",
       "  <tbody>\n",
       "    <tr>\n",
       "      <th>0</th>\n",
       "      <td>8</td>\n",
       "      <td>28.0</td>\n",
       "      <td>7</td>\n",
       "      <td>1</td>\n",
       "      <td>0.016932</td>\n",
       "      <td>1</td>\n",
       "      <td>1</td>\n",
       "    </tr>\n",
       "    <tr>\n",
       "      <th>1</th>\n",
       "      <td>8</td>\n",
       "      <td>28.0</td>\n",
       "      <td>7</td>\n",
       "      <td>1</td>\n",
       "      <td>0.016932</td>\n",
       "      <td>1</td>\n",
       "      <td>1</td>\n",
       "    </tr>\n",
       "    <tr>\n",
       "      <th>2</th>\n",
       "      <td>8</td>\n",
       "      <td>28.0</td>\n",
       "      <td>7</td>\n",
       "      <td>1</td>\n",
       "      <td>0.010153</td>\n",
       "      <td>1</td>\n",
       "      <td>1</td>\n",
       "    </tr>\n",
       "    <tr>\n",
       "      <th>3</th>\n",
       "      <td>595</td>\n",
       "      <td>33.0</td>\n",
       "      <td>7</td>\n",
       "      <td>2</td>\n",
       "      <td>0.016932</td>\n",
       "      <td>1</td>\n",
       "      <td>1</td>\n",
       "    </tr>\n",
       "    <tr>\n",
       "      <th>4</th>\n",
       "      <td>145</td>\n",
       "      <td>38.0</td>\n",
       "      <td>7</td>\n",
       "      <td>1</td>\n",
       "      <td>0.014390</td>\n",
       "      <td>1</td>\n",
       "      <td>1</td>\n",
       "    </tr>\n",
       "  </tbody>\n",
       "</table>\n",
       "</div>\n",
       "      <button class=\"colab-df-convert\" onclick=\"convertToInteractive('df-470001b9-5ca2-49c1-8848-2cb5f117d219')\"\n",
       "              title=\"Convert this dataframe to an interactive table.\"\n",
       "              style=\"display:none;\">\n",
       "        \n",
       "  <svg xmlns=\"http://www.w3.org/2000/svg\" height=\"24px\"viewBox=\"0 0 24 24\"\n",
       "       width=\"24px\">\n",
       "    <path d=\"M0 0h24v24H0V0z\" fill=\"none\"/>\n",
       "    <path d=\"M18.56 5.44l.94 2.06.94-2.06 2.06-.94-2.06-.94-.94-2.06-.94 2.06-2.06.94zm-11 1L8.5 8.5l.94-2.06 2.06-.94-2.06-.94L8.5 2.5l-.94 2.06-2.06.94zm10 10l.94 2.06.94-2.06 2.06-.94-2.06-.94-.94-2.06-.94 2.06-2.06.94z\"/><path d=\"M17.41 7.96l-1.37-1.37c-.4-.4-.92-.59-1.43-.59-.52 0-1.04.2-1.43.59L10.3 9.45l-7.72 7.72c-.78.78-.78 2.05 0 2.83L4 21.41c.39.39.9.59 1.41.59.51 0 1.02-.2 1.41-.59l7.78-7.78 2.81-2.81c.8-.78.8-2.07 0-2.86zM5.41 20L4 18.59l7.72-7.72 1.47 1.35L5.41 20z\"/>\n",
       "  </svg>\n",
       "      </button>\n",
       "      \n",
       "  <style>\n",
       "    .colab-df-container {\n",
       "      display:flex;\n",
       "      flex-wrap:wrap;\n",
       "      gap: 12px;\n",
       "    }\n",
       "\n",
       "    .colab-df-convert {\n",
       "      background-color: #E8F0FE;\n",
       "      border: none;\n",
       "      border-radius: 50%;\n",
       "      cursor: pointer;\n",
       "      display: none;\n",
       "      fill: #1967D2;\n",
       "      height: 32px;\n",
       "      padding: 0 0 0 0;\n",
       "      width: 32px;\n",
       "    }\n",
       "\n",
       "    .colab-df-convert:hover {\n",
       "      background-color: #E2EBFA;\n",
       "      box-shadow: 0px 1px 2px rgba(60, 64, 67, 0.3), 0px 1px 3px 1px rgba(60, 64, 67, 0.15);\n",
       "      fill: #174EA6;\n",
       "    }\n",
       "\n",
       "    [theme=dark] .colab-df-convert {\n",
       "      background-color: #3B4455;\n",
       "      fill: #D2E3FC;\n",
       "    }\n",
       "\n",
       "    [theme=dark] .colab-df-convert:hover {\n",
       "      background-color: #434B5C;\n",
       "      box-shadow: 0px 1px 3px 1px rgba(0, 0, 0, 0.15);\n",
       "      filter: drop-shadow(0px 1px 2px rgba(0, 0, 0, 0.3));\n",
       "      fill: #FFFFFF;\n",
       "    }\n",
       "  </style>\n",
       "\n",
       "      <script>\n",
       "        const buttonEl =\n",
       "          document.querySelector('#df-470001b9-5ca2-49c1-8848-2cb5f117d219 button.colab-df-convert');\n",
       "        buttonEl.style.display =\n",
       "          google.colab.kernel.accessAllowed ? 'block' : 'none';\n",
       "\n",
       "        async function convertToInteractive(key) {\n",
       "          const element = document.querySelector('#df-470001b9-5ca2-49c1-8848-2cb5f117d219');\n",
       "          const dataTable =\n",
       "            await google.colab.kernel.invokeFunction('convertToInteractive',\n",
       "                                                     [key], {});\n",
       "          if (!dataTable) return;\n",
       "\n",
       "          const docLinkHtml = 'Like what you see? Visit the ' +\n",
       "            '<a target=\"_blank\" href=https://colab.research.google.com/notebooks/data_table.ipynb>data table notebook</a>'\n",
       "            + ' to learn more about interactive tables.';\n",
       "          element.innerHTML = '';\n",
       "          dataTable['output_type'] = 'display_data';\n",
       "          await google.colab.output.renderOutput(dataTable, element);\n",
       "          const docLink = document.createElement('div');\n",
       "          docLink.innerHTML = docLinkHtml;\n",
       "          element.appendChild(docLink);\n",
       "        }\n",
       "      </script>\n",
       "    </div>\n",
       "  </div>\n",
       "  "
      ]
     },
     "metadata": {},
     "execution_count": 631
    }
   ]
  },
  {
   "cell_type": "code",
   "source": [
    "transactions_processed = pd.get_dummies(transactions_processed, columns=['sales_channel_id'])\n",
    "transactions_processed.head()"
   ],
   "metadata": {
    "colab": {
     "base_uri": "https://localhost:8080/",
     "height": 206
    },
    "id": "MtV09A1ep7-o",
    "outputId": "ff19edd7-f473-42dd-c7dc-1b5337c568ee"
   },
   "execution_count": null,
   "outputs": [
    {
     "output_type": "execute_result",
     "data": {
      "text/plain": [
       "   customer_id   age  article_id     price  ordered  count  \\\n",
       "0            8  28.0           7  0.016932        1      1   \n",
       "1            8  28.0           7  0.016932        1      1   \n",
       "2            8  28.0           7  0.010153        1      1   \n",
       "3          595  33.0           7  0.016932        1      1   \n",
       "4          145  38.0           7  0.014390        1      1   \n",
       "\n",
       "   sales_channel_id_1  sales_channel_id_2  \n",
       "0                   1                   0  \n",
       "1                   1                   0  \n",
       "2                   1                   0  \n",
       "3                   0                   1  \n",
       "4                   1                   0  "
      ],
      "text/html": [
       "\n",
       "  <div id=\"df-0bf29f02-daa2-4171-8a33-5d9d8e242ce1\">\n",
       "    <div class=\"colab-df-container\">\n",
       "      <div>\n",
       "<style scoped>\n",
       "    .dataframe tbody tr th:only-of-type {\n",
       "        vertical-align: middle;\n",
       "    }\n",
       "\n",
       "    .dataframe tbody tr th {\n",
       "        vertical-align: top;\n",
       "    }\n",
       "\n",
       "    .dataframe thead th {\n",
       "        text-align: right;\n",
       "    }\n",
       "</style>\n",
       "<table border=\"1\" class=\"dataframe\">\n",
       "  <thead>\n",
       "    <tr style=\"text-align: right;\">\n",
       "      <th></th>\n",
       "      <th>customer_id</th>\n",
       "      <th>age</th>\n",
       "      <th>article_id</th>\n",
       "      <th>price</th>\n",
       "      <th>ordered</th>\n",
       "      <th>count</th>\n",
       "      <th>sales_channel_id_1</th>\n",
       "      <th>sales_channel_id_2</th>\n",
       "    </tr>\n",
       "  </thead>\n",
       "  <tbody>\n",
       "    <tr>\n",
       "      <th>0</th>\n",
       "      <td>8</td>\n",
       "      <td>28.0</td>\n",
       "      <td>7</td>\n",
       "      <td>0.016932</td>\n",
       "      <td>1</td>\n",
       "      <td>1</td>\n",
       "      <td>1</td>\n",
       "      <td>0</td>\n",
       "    </tr>\n",
       "    <tr>\n",
       "      <th>1</th>\n",
       "      <td>8</td>\n",
       "      <td>28.0</td>\n",
       "      <td>7</td>\n",
       "      <td>0.016932</td>\n",
       "      <td>1</td>\n",
       "      <td>1</td>\n",
       "      <td>1</td>\n",
       "      <td>0</td>\n",
       "    </tr>\n",
       "    <tr>\n",
       "      <th>2</th>\n",
       "      <td>8</td>\n",
       "      <td>28.0</td>\n",
       "      <td>7</td>\n",
       "      <td>0.010153</td>\n",
       "      <td>1</td>\n",
       "      <td>1</td>\n",
       "      <td>1</td>\n",
       "      <td>0</td>\n",
       "    </tr>\n",
       "    <tr>\n",
       "      <th>3</th>\n",
       "      <td>595</td>\n",
       "      <td>33.0</td>\n",
       "      <td>7</td>\n",
       "      <td>0.016932</td>\n",
       "      <td>1</td>\n",
       "      <td>1</td>\n",
       "      <td>0</td>\n",
       "      <td>1</td>\n",
       "    </tr>\n",
       "    <tr>\n",
       "      <th>4</th>\n",
       "      <td>145</td>\n",
       "      <td>38.0</td>\n",
       "      <td>7</td>\n",
       "      <td>0.014390</td>\n",
       "      <td>1</td>\n",
       "      <td>1</td>\n",
       "      <td>1</td>\n",
       "      <td>0</td>\n",
       "    </tr>\n",
       "  </tbody>\n",
       "</table>\n",
       "</div>\n",
       "      <button class=\"colab-df-convert\" onclick=\"convertToInteractive('df-0bf29f02-daa2-4171-8a33-5d9d8e242ce1')\"\n",
       "              title=\"Convert this dataframe to an interactive table.\"\n",
       "              style=\"display:none;\">\n",
       "        \n",
       "  <svg xmlns=\"http://www.w3.org/2000/svg\" height=\"24px\"viewBox=\"0 0 24 24\"\n",
       "       width=\"24px\">\n",
       "    <path d=\"M0 0h24v24H0V0z\" fill=\"none\"/>\n",
       "    <path d=\"M18.56 5.44l.94 2.06.94-2.06 2.06-.94-2.06-.94-.94-2.06-.94 2.06-2.06.94zm-11 1L8.5 8.5l.94-2.06 2.06-.94-2.06-.94L8.5 2.5l-.94 2.06-2.06.94zm10 10l.94 2.06.94-2.06 2.06-.94-2.06-.94-.94-2.06-.94 2.06-2.06.94z\"/><path d=\"M17.41 7.96l-1.37-1.37c-.4-.4-.92-.59-1.43-.59-.52 0-1.04.2-1.43.59L10.3 9.45l-7.72 7.72c-.78.78-.78 2.05 0 2.83L4 21.41c.39.39.9.59 1.41.59.51 0 1.02-.2 1.41-.59l7.78-7.78 2.81-2.81c.8-.78.8-2.07 0-2.86zM5.41 20L4 18.59l7.72-7.72 1.47 1.35L5.41 20z\"/>\n",
       "  </svg>\n",
       "      </button>\n",
       "      \n",
       "  <style>\n",
       "    .colab-df-container {\n",
       "      display:flex;\n",
       "      flex-wrap:wrap;\n",
       "      gap: 12px;\n",
       "    }\n",
       "\n",
       "    .colab-df-convert {\n",
       "      background-color: #E8F0FE;\n",
       "      border: none;\n",
       "      border-radius: 50%;\n",
       "      cursor: pointer;\n",
       "      display: none;\n",
       "      fill: #1967D2;\n",
       "      height: 32px;\n",
       "      padding: 0 0 0 0;\n",
       "      width: 32px;\n",
       "    }\n",
       "\n",
       "    .colab-df-convert:hover {\n",
       "      background-color: #E2EBFA;\n",
       "      box-shadow: 0px 1px 2px rgba(60, 64, 67, 0.3), 0px 1px 3px 1px rgba(60, 64, 67, 0.15);\n",
       "      fill: #174EA6;\n",
       "    }\n",
       "\n",
       "    [theme=dark] .colab-df-convert {\n",
       "      background-color: #3B4455;\n",
       "      fill: #D2E3FC;\n",
       "    }\n",
       "\n",
       "    [theme=dark] .colab-df-convert:hover {\n",
       "      background-color: #434B5C;\n",
       "      box-shadow: 0px 1px 3px 1px rgba(0, 0, 0, 0.15);\n",
       "      filter: drop-shadow(0px 1px 2px rgba(0, 0, 0, 0.3));\n",
       "      fill: #FFFFFF;\n",
       "    }\n",
       "  </style>\n",
       "\n",
       "      <script>\n",
       "        const buttonEl =\n",
       "          document.querySelector('#df-0bf29f02-daa2-4171-8a33-5d9d8e242ce1 button.colab-df-convert');\n",
       "        buttonEl.style.display =\n",
       "          google.colab.kernel.accessAllowed ? 'block' : 'none';\n",
       "\n",
       "        async function convertToInteractive(key) {\n",
       "          const element = document.querySelector('#df-0bf29f02-daa2-4171-8a33-5d9d8e242ce1');\n",
       "          const dataTable =\n",
       "            await google.colab.kernel.invokeFunction('convertToInteractive',\n",
       "                                                     [key], {});\n",
       "          if (!dataTable) return;\n",
       "\n",
       "          const docLinkHtml = 'Like what you see? Visit the ' +\n",
       "            '<a target=\"_blank\" href=https://colab.research.google.com/notebooks/data_table.ipynb>data table notebook</a>'\n",
       "            + ' to learn more about interactive tables.';\n",
       "          element.innerHTML = '';\n",
       "          dataTable['output_type'] = 'display_data';\n",
       "          await google.colab.output.renderOutput(dataTable, element);\n",
       "          const docLink = document.createElement('div');\n",
       "          docLink.innerHTML = docLinkHtml;\n",
       "          element.appendChild(docLink);\n",
       "        }\n",
       "      </script>\n",
       "    </div>\n",
       "  </div>\n",
       "  "
      ]
     },
     "metadata": {},
     "execution_count": 632
    }
   ]
  },
  {
   "cell_type": "code",
   "source": [
    "X_train, X_test, y_train, y_test = train_test_split(transactions_processed.drop('ordered', axis=1), transactions_processed['ordered'], test_size=0.10, random_state=42)\n",
    "baseline = LogisticRegression(random_state=42)\n",
    "baseline = baseline.fit(X_train, y_train)\n",
    "baseline.score(X_test, y_test)"
   ],
   "metadata": {
    "colab": {
     "base_uri": "https://localhost:8080/"
    },
    "id": "jz6nl5_0qMCW",
    "outputId": "f9367929-6ddd-44be-d124-ea2f8946e8ba"
   },
   "execution_count": null,
   "outputs": [
    {
     "output_type": "execute_result",
     "data": {
      "text/plain": [
       "0.6298449612403101"
      ]
     },
     "metadata": {},
     "execution_count": 633
    }
   ]
  },
  {
   "cell_type": "markdown",
   "source": [
    "#Popular product_type by colour\n",
    "Looks at all items that were sold within the last 4 months and then\n",
    "Looks at the interaction between product type and the color of the item"
   ],
   "metadata": {
    "id": "dv4LkJfAsFJF"
   }
  },
  {
   "cell_type": "code",
   "source": [
    "transactions_processed = transactions[['customer_id', 'age', 'article_id', 'sales_channel_id', 'price', 'ordered', 'colour_group_code', 'colour_group_name', 'product_type_name']]\n",
    "transactions_processed.head()"
   ],
   "metadata": {
    "colab": {
     "base_uri": "https://localhost:8080/",
     "height": 206
    },
    "id": "V6eUBhBks8Yb",
    "outputId": "86e80a0e-90cd-4252-a51d-65b7f607f30f"
   },
   "execution_count": null,
   "outputs": [
    {
     "output_type": "execute_result",
     "data": {
      "text/plain": [
       "                                         customer_id   age article_id  \\\n",
       "0  017ddc94fee40ab9a24af073a4c69282b4c04e094d53a9...  28.0  496111020   \n",
       "1  3f5c5f836c9b82e18a84c37b10a986a51f8a6a3d250c10...  40.0  496111020   \n",
       "2  2b3ac8aafad8738d959cfbcc9c53e94d5de06345354965...  28.0  496111020   \n",
       "3  2b3ac8aafad8738d959cfbcc9c53e94d5de06345354965...  28.0  496111020   \n",
       "4  017ddc94fee40ab9a24af073a4c69282b4c04e094d53a9...  28.0  663007003   \n",
       "\n",
       "  sales_channel_id     price ordered  colour_group_code colour_group_name  \\\n",
       "0                1  0.033881       1                 43          Dark Red   \n",
       "1                1  0.027102       1                 43          Dark Red   \n",
       "2                2  0.022017       1                 43          Dark Red   \n",
       "3                2  0.022017       1                 43          Dark Red   \n",
       "4                1  0.042356       1                  9             Black   \n",
       "\n",
       "  product_type_name  \n",
       "0           Sweater  \n",
       "1           Sweater  \n",
       "2           Sweater  \n",
       "3           Sweater  \n",
       "4           Sweater  "
      ],
      "text/html": [
       "\n",
       "  <div id=\"df-b950e75b-7dfc-4c10-8ce3-e03648bcc47b\">\n",
       "    <div class=\"colab-df-container\">\n",
       "      <div>\n",
       "<style scoped>\n",
       "    .dataframe tbody tr th:only-of-type {\n",
       "        vertical-align: middle;\n",
       "    }\n",
       "\n",
       "    .dataframe tbody tr th {\n",
       "        vertical-align: top;\n",
       "    }\n",
       "\n",
       "    .dataframe thead th {\n",
       "        text-align: right;\n",
       "    }\n",
       "</style>\n",
       "<table border=\"1\" class=\"dataframe\">\n",
       "  <thead>\n",
       "    <tr style=\"text-align: right;\">\n",
       "      <th></th>\n",
       "      <th>customer_id</th>\n",
       "      <th>age</th>\n",
       "      <th>article_id</th>\n",
       "      <th>sales_channel_id</th>\n",
       "      <th>price</th>\n",
       "      <th>ordered</th>\n",
       "      <th>colour_group_code</th>\n",
       "      <th>colour_group_name</th>\n",
       "      <th>product_type_name</th>\n",
       "    </tr>\n",
       "  </thead>\n",
       "  <tbody>\n",
       "    <tr>\n",
       "      <th>0</th>\n",
       "      <td>017ddc94fee40ab9a24af073a4c69282b4c04e094d53a9...</td>\n",
       "      <td>28.0</td>\n",
       "      <td>496111020</td>\n",
       "      <td>1</td>\n",
       "      <td>0.033881</td>\n",
       "      <td>1</td>\n",
       "      <td>43</td>\n",
       "      <td>Dark Red</td>\n",
       "      <td>Sweater</td>\n",
       "    </tr>\n",
       "    <tr>\n",
       "      <th>1</th>\n",
       "      <td>3f5c5f836c9b82e18a84c37b10a986a51f8a6a3d250c10...</td>\n",
       "      <td>40.0</td>\n",
       "      <td>496111020</td>\n",
       "      <td>1</td>\n",
       "      <td>0.027102</td>\n",
       "      <td>1</td>\n",
       "      <td>43</td>\n",
       "      <td>Dark Red</td>\n",
       "      <td>Sweater</td>\n",
       "    </tr>\n",
       "    <tr>\n",
       "      <th>2</th>\n",
       "      <td>2b3ac8aafad8738d959cfbcc9c53e94d5de06345354965...</td>\n",
       "      <td>28.0</td>\n",
       "      <td>496111020</td>\n",
       "      <td>2</td>\n",
       "      <td>0.022017</td>\n",
       "      <td>1</td>\n",
       "      <td>43</td>\n",
       "      <td>Dark Red</td>\n",
       "      <td>Sweater</td>\n",
       "    </tr>\n",
       "    <tr>\n",
       "      <th>3</th>\n",
       "      <td>2b3ac8aafad8738d959cfbcc9c53e94d5de06345354965...</td>\n",
       "      <td>28.0</td>\n",
       "      <td>496111020</td>\n",
       "      <td>2</td>\n",
       "      <td>0.022017</td>\n",
       "      <td>1</td>\n",
       "      <td>43</td>\n",
       "      <td>Dark Red</td>\n",
       "      <td>Sweater</td>\n",
       "    </tr>\n",
       "    <tr>\n",
       "      <th>4</th>\n",
       "      <td>017ddc94fee40ab9a24af073a4c69282b4c04e094d53a9...</td>\n",
       "      <td>28.0</td>\n",
       "      <td>663007003</td>\n",
       "      <td>1</td>\n",
       "      <td>0.042356</td>\n",
       "      <td>1</td>\n",
       "      <td>9</td>\n",
       "      <td>Black</td>\n",
       "      <td>Sweater</td>\n",
       "    </tr>\n",
       "  </tbody>\n",
       "</table>\n",
       "</div>\n",
       "      <button class=\"colab-df-convert\" onclick=\"convertToInteractive('df-b950e75b-7dfc-4c10-8ce3-e03648bcc47b')\"\n",
       "              title=\"Convert this dataframe to an interactive table.\"\n",
       "              style=\"display:none;\">\n",
       "        \n",
       "  <svg xmlns=\"http://www.w3.org/2000/svg\" height=\"24px\"viewBox=\"0 0 24 24\"\n",
       "       width=\"24px\">\n",
       "    <path d=\"M0 0h24v24H0V0z\" fill=\"none\"/>\n",
       "    <path d=\"M18.56 5.44l.94 2.06.94-2.06 2.06-.94-2.06-.94-.94-2.06-.94 2.06-2.06.94zm-11 1L8.5 8.5l.94-2.06 2.06-.94-2.06-.94L8.5 2.5l-.94 2.06-2.06.94zm10 10l.94 2.06.94-2.06 2.06-.94-2.06-.94-.94-2.06-.94 2.06-2.06.94z\"/><path d=\"M17.41 7.96l-1.37-1.37c-.4-.4-.92-.59-1.43-.59-.52 0-1.04.2-1.43.59L10.3 9.45l-7.72 7.72c-.78.78-.78 2.05 0 2.83L4 21.41c.39.39.9.59 1.41.59.51 0 1.02-.2 1.41-.59l7.78-7.78 2.81-2.81c.8-.78.8-2.07 0-2.86zM5.41 20L4 18.59l7.72-7.72 1.47 1.35L5.41 20z\"/>\n",
       "  </svg>\n",
       "      </button>\n",
       "      \n",
       "  <style>\n",
       "    .colab-df-container {\n",
       "      display:flex;\n",
       "      flex-wrap:wrap;\n",
       "      gap: 12px;\n",
       "    }\n",
       "\n",
       "    .colab-df-convert {\n",
       "      background-color: #E8F0FE;\n",
       "      border: none;\n",
       "      border-radius: 50%;\n",
       "      cursor: pointer;\n",
       "      display: none;\n",
       "      fill: #1967D2;\n",
       "      height: 32px;\n",
       "      padding: 0 0 0 0;\n",
       "      width: 32px;\n",
       "    }\n",
       "\n",
       "    .colab-df-convert:hover {\n",
       "      background-color: #E2EBFA;\n",
       "      box-shadow: 0px 1px 2px rgba(60, 64, 67, 0.3), 0px 1px 3px 1px rgba(60, 64, 67, 0.15);\n",
       "      fill: #174EA6;\n",
       "    }\n",
       "\n",
       "    [theme=dark] .colab-df-convert {\n",
       "      background-color: #3B4455;\n",
       "      fill: #D2E3FC;\n",
       "    }\n",
       "\n",
       "    [theme=dark] .colab-df-convert:hover {\n",
       "      background-color: #434B5C;\n",
       "      box-shadow: 0px 1px 3px 1px rgba(0, 0, 0, 0.15);\n",
       "      filter: drop-shadow(0px 1px 2px rgba(0, 0, 0, 0.3));\n",
       "      fill: #FFFFFF;\n",
       "    }\n",
       "  </style>\n",
       "\n",
       "      <script>\n",
       "        const buttonEl =\n",
       "          document.querySelector('#df-b950e75b-7dfc-4c10-8ce3-e03648bcc47b button.colab-df-convert');\n",
       "        buttonEl.style.display =\n",
       "          google.colab.kernel.accessAllowed ? 'block' : 'none';\n",
       "\n",
       "        async function convertToInteractive(key) {\n",
       "          const element = document.querySelector('#df-b950e75b-7dfc-4c10-8ce3-e03648bcc47b');\n",
       "          const dataTable =\n",
       "            await google.colab.kernel.invokeFunction('convertToInteractive',\n",
       "                                                     [key], {});\n",
       "          if (!dataTable) return;\n",
       "\n",
       "          const docLinkHtml = 'Like what you see? Visit the ' +\n",
       "            '<a target=\"_blank\" href=https://colab.research.google.com/notebooks/data_table.ipynb>data table notebook</a>'\n",
       "            + ' to learn more about interactive tables.';\n",
       "          element.innerHTML = '';\n",
       "          dataTable['output_type'] = 'display_data';\n",
       "          await google.colab.output.renderOutput(dataTable, element);\n",
       "          const docLink = document.createElement('div');\n",
       "          docLink.innerHTML = docLinkHtml;\n",
       "          element.appendChild(docLink);\n",
       "        }\n",
       "      </script>\n",
       "    </div>\n",
       "  </div>\n",
       "  "
      ]
     },
     "metadata": {},
     "execution_count": 634
    }
   ]
  },
  {
   "cell_type": "code",
   "source": [
    "transactions_processed = transactions_processed.merge(popular_items, how=\"inner\", on='article_id')\n",
    "transactions_processed[\"colour_type\"] = (transactions_processed.colour_group_name.astype(str) + '_' + transactions_processed.product_type_name.astype(str))\n",
    "transactions_processed = transactions_processed.drop(['colour_group_name','product_type_name'], axis=1)\n",
    "colour_type_encoder = preprocessing.LabelEncoder()\n",
    "transactions_processed['colour_type'] = customer_encoder.fit_transform(transactions_processed['colour_type'])\n",
    "transactions_processed.head()"
   ],
   "metadata": {
    "colab": {
     "base_uri": "https://localhost:8080/",
     "height": 206
    },
    "id": "m6CjCpEhsWRr",
    "outputId": "f1fad8a4-ae01-4794-b63f-5568ec7ebc1b"
   },
   "execution_count": null,
   "outputs": [
    {
     "output_type": "execute_result",
     "data": {
      "text/plain": [
       "                                         customer_id   age article_id  \\\n",
       "0  017ddc94fee40ab9a24af073a4c69282b4c04e094d53a9...  28.0  179123001   \n",
       "1  017ddc94fee40ab9a24af073a4c69282b4c04e094d53a9...  28.0  179123001   \n",
       "2  017ddc94fee40ab9a24af073a4c69282b4c04e094d53a9...  28.0  179123001   \n",
       "3  74303ec6a09511c0d565953f448f64a07f769033df8f0a...  33.0  179123001   \n",
       "4  1c58bc8c44ee0e1c203c7cadd1cbd234ead302850ae5a9...  38.0  179123001   \n",
       "\n",
       "  sales_channel_id     price ordered  colour_group_code  count  colour_type  \n",
       "0                1  0.016932       1                  9      1           65  \n",
       "1                1  0.016932       1                  9      1           65  \n",
       "2                1  0.010153       1                  9      1           65  \n",
       "3                2  0.016932       1                  9      1           65  \n",
       "4                1   0.01439       1                  9      1           65  "
      ],
      "text/html": [
       "\n",
       "  <div id=\"df-f38e4cfb-f873-4fea-a26c-e0c178433d4c\">\n",
       "    <div class=\"colab-df-container\">\n",
       "      <div>\n",
       "<style scoped>\n",
       "    .dataframe tbody tr th:only-of-type {\n",
       "        vertical-align: middle;\n",
       "    }\n",
       "\n",
       "    .dataframe tbody tr th {\n",
       "        vertical-align: top;\n",
       "    }\n",
       "\n",
       "    .dataframe thead th {\n",
       "        text-align: right;\n",
       "    }\n",
       "</style>\n",
       "<table border=\"1\" class=\"dataframe\">\n",
       "  <thead>\n",
       "    <tr style=\"text-align: right;\">\n",
       "      <th></th>\n",
       "      <th>customer_id</th>\n",
       "      <th>age</th>\n",
       "      <th>article_id</th>\n",
       "      <th>sales_channel_id</th>\n",
       "      <th>price</th>\n",
       "      <th>ordered</th>\n",
       "      <th>colour_group_code</th>\n",
       "      <th>count</th>\n",
       "      <th>colour_type</th>\n",
       "    </tr>\n",
       "  </thead>\n",
       "  <tbody>\n",
       "    <tr>\n",
       "      <th>0</th>\n",
       "      <td>017ddc94fee40ab9a24af073a4c69282b4c04e094d53a9...</td>\n",
       "      <td>28.0</td>\n",
       "      <td>179123001</td>\n",
       "      <td>1</td>\n",
       "      <td>0.016932</td>\n",
       "      <td>1</td>\n",
       "      <td>9</td>\n",
       "      <td>1</td>\n",
       "      <td>65</td>\n",
       "    </tr>\n",
       "    <tr>\n",
       "      <th>1</th>\n",
       "      <td>017ddc94fee40ab9a24af073a4c69282b4c04e094d53a9...</td>\n",
       "      <td>28.0</td>\n",
       "      <td>179123001</td>\n",
       "      <td>1</td>\n",
       "      <td>0.016932</td>\n",
       "      <td>1</td>\n",
       "      <td>9</td>\n",
       "      <td>1</td>\n",
       "      <td>65</td>\n",
       "    </tr>\n",
       "    <tr>\n",
       "      <th>2</th>\n",
       "      <td>017ddc94fee40ab9a24af073a4c69282b4c04e094d53a9...</td>\n",
       "      <td>28.0</td>\n",
       "      <td>179123001</td>\n",
       "      <td>1</td>\n",
       "      <td>0.010153</td>\n",
       "      <td>1</td>\n",
       "      <td>9</td>\n",
       "      <td>1</td>\n",
       "      <td>65</td>\n",
       "    </tr>\n",
       "    <tr>\n",
       "      <th>3</th>\n",
       "      <td>74303ec6a09511c0d565953f448f64a07f769033df8f0a...</td>\n",
       "      <td>33.0</td>\n",
       "      <td>179123001</td>\n",
       "      <td>2</td>\n",
       "      <td>0.016932</td>\n",
       "      <td>1</td>\n",
       "      <td>9</td>\n",
       "      <td>1</td>\n",
       "      <td>65</td>\n",
       "    </tr>\n",
       "    <tr>\n",
       "      <th>4</th>\n",
       "      <td>1c58bc8c44ee0e1c203c7cadd1cbd234ead302850ae5a9...</td>\n",
       "      <td>38.0</td>\n",
       "      <td>179123001</td>\n",
       "      <td>1</td>\n",
       "      <td>0.01439</td>\n",
       "      <td>1</td>\n",
       "      <td>9</td>\n",
       "      <td>1</td>\n",
       "      <td>65</td>\n",
       "    </tr>\n",
       "  </tbody>\n",
       "</table>\n",
       "</div>\n",
       "      <button class=\"colab-df-convert\" onclick=\"convertToInteractive('df-f38e4cfb-f873-4fea-a26c-e0c178433d4c')\"\n",
       "              title=\"Convert this dataframe to an interactive table.\"\n",
       "              style=\"display:none;\">\n",
       "        \n",
       "  <svg xmlns=\"http://www.w3.org/2000/svg\" height=\"24px\"viewBox=\"0 0 24 24\"\n",
       "       width=\"24px\">\n",
       "    <path d=\"M0 0h24v24H0V0z\" fill=\"none\"/>\n",
       "    <path d=\"M18.56 5.44l.94 2.06.94-2.06 2.06-.94-2.06-.94-.94-2.06-.94 2.06-2.06.94zm-11 1L8.5 8.5l.94-2.06 2.06-.94-2.06-.94L8.5 2.5l-.94 2.06-2.06.94zm10 10l.94 2.06.94-2.06 2.06-.94-2.06-.94-.94-2.06-.94 2.06-2.06.94z\"/><path d=\"M17.41 7.96l-1.37-1.37c-.4-.4-.92-.59-1.43-.59-.52 0-1.04.2-1.43.59L10.3 9.45l-7.72 7.72c-.78.78-.78 2.05 0 2.83L4 21.41c.39.39.9.59 1.41.59.51 0 1.02-.2 1.41-.59l7.78-7.78 2.81-2.81c.8-.78.8-2.07 0-2.86zM5.41 20L4 18.59l7.72-7.72 1.47 1.35L5.41 20z\"/>\n",
       "  </svg>\n",
       "      </button>\n",
       "      \n",
       "  <style>\n",
       "    .colab-df-container {\n",
       "      display:flex;\n",
       "      flex-wrap:wrap;\n",
       "      gap: 12px;\n",
       "    }\n",
       "\n",
       "    .colab-df-convert {\n",
       "      background-color: #E8F0FE;\n",
       "      border: none;\n",
       "      border-radius: 50%;\n",
       "      cursor: pointer;\n",
       "      display: none;\n",
       "      fill: #1967D2;\n",
       "      height: 32px;\n",
       "      padding: 0 0 0 0;\n",
       "      width: 32px;\n",
       "    }\n",
       "\n",
       "    .colab-df-convert:hover {\n",
       "      background-color: #E2EBFA;\n",
       "      box-shadow: 0px 1px 2px rgba(60, 64, 67, 0.3), 0px 1px 3px 1px rgba(60, 64, 67, 0.15);\n",
       "      fill: #174EA6;\n",
       "    }\n",
       "\n",
       "    [theme=dark] .colab-df-convert {\n",
       "      background-color: #3B4455;\n",
       "      fill: #D2E3FC;\n",
       "    }\n",
       "\n",
       "    [theme=dark] .colab-df-convert:hover {\n",
       "      background-color: #434B5C;\n",
       "      box-shadow: 0px 1px 3px 1px rgba(0, 0, 0, 0.15);\n",
       "      filter: drop-shadow(0px 1px 2px rgba(0, 0, 0, 0.3));\n",
       "      fill: #FFFFFF;\n",
       "    }\n",
       "  </style>\n",
       "\n",
       "      <script>\n",
       "        const buttonEl =\n",
       "          document.querySelector('#df-f38e4cfb-f873-4fea-a26c-e0c178433d4c button.colab-df-convert');\n",
       "        buttonEl.style.display =\n",
       "          google.colab.kernel.accessAllowed ? 'block' : 'none';\n",
       "\n",
       "        async function convertToInteractive(key) {\n",
       "          const element = document.querySelector('#df-f38e4cfb-f873-4fea-a26c-e0c178433d4c');\n",
       "          const dataTable =\n",
       "            await google.colab.kernel.invokeFunction('convertToInteractive',\n",
       "                                                     [key], {});\n",
       "          if (!dataTable) return;\n",
       "\n",
       "          const docLinkHtml = 'Like what you see? Visit the ' +\n",
       "            '<a target=\"_blank\" href=https://colab.research.google.com/notebooks/data_table.ipynb>data table notebook</a>'\n",
       "            + ' to learn more about interactive tables.';\n",
       "          element.innerHTML = '';\n",
       "          dataTable['output_type'] = 'display_data';\n",
       "          await google.colab.output.renderOutput(dataTable, element);\n",
       "          const docLink = document.createElement('div');\n",
       "          docLink.innerHTML = docLinkHtml;\n",
       "          element.appendChild(docLink);\n",
       "        }\n",
       "      </script>\n",
       "    </div>\n",
       "  </div>\n",
       "  "
      ]
     },
     "metadata": {},
     "execution_count": 635
    }
   ]
  },
  {
   "cell_type": "code",
   "source": [
    "customer_encoder = preprocessing.LabelEncoder()\n",
    "article_encoder = preprocessing.LabelEncoder()\n",
    "transactions_processed['customer_id'] = customer_encoder.fit_transform(transactions_processed['customer_id'])\n",
    "transactions_processed['article_id'] = article_encoder.fit_transform(transactions_processed['article_id'])\n",
    "transactions_processed = transactions_processed.fillna(0)\n",
    "transactions_processed.isnull().values.any()\n",
    "transactions_processed.head()"
   ],
   "metadata": {
    "colab": {
     "base_uri": "https://localhost:8080/",
     "height": 206
    },
    "id": "KEdw-nhRsW_a",
    "outputId": "9b116bd6-083b-45cf-c400-0a9a012383a9"
   },
   "execution_count": null,
   "outputs": [
    {
     "output_type": "execute_result",
     "data": {
      "text/plain": [
       "   customer_id   age  article_id  sales_channel_id     price  ordered  \\\n",
       "0            8  28.0           7                 1  0.016932        1   \n",
       "1            8  28.0           7                 1  0.016932        1   \n",
       "2            8  28.0           7                 1  0.010153        1   \n",
       "3          595  33.0           7                 2  0.016932        1   \n",
       "4          145  38.0           7                 1  0.014390        1   \n",
       "\n",
       "   colour_group_code  count  colour_type  \n",
       "0                  9      1           65  \n",
       "1                  9      1           65  \n",
       "2                  9      1           65  \n",
       "3                  9      1           65  \n",
       "4                  9      1           65  "
      ],
      "text/html": [
       "\n",
       "  <div id=\"df-0c73ac22-182d-42f2-a638-80c297c005fa\">\n",
       "    <div class=\"colab-df-container\">\n",
       "      <div>\n",
       "<style scoped>\n",
       "    .dataframe tbody tr th:only-of-type {\n",
       "        vertical-align: middle;\n",
       "    }\n",
       "\n",
       "    .dataframe tbody tr th {\n",
       "        vertical-align: top;\n",
       "    }\n",
       "\n",
       "    .dataframe thead th {\n",
       "        text-align: right;\n",
       "    }\n",
       "</style>\n",
       "<table border=\"1\" class=\"dataframe\">\n",
       "  <thead>\n",
       "    <tr style=\"text-align: right;\">\n",
       "      <th></th>\n",
       "      <th>customer_id</th>\n",
       "      <th>age</th>\n",
       "      <th>article_id</th>\n",
       "      <th>sales_channel_id</th>\n",
       "      <th>price</th>\n",
       "      <th>ordered</th>\n",
       "      <th>colour_group_code</th>\n",
       "      <th>count</th>\n",
       "      <th>colour_type</th>\n",
       "    </tr>\n",
       "  </thead>\n",
       "  <tbody>\n",
       "    <tr>\n",
       "      <th>0</th>\n",
       "      <td>8</td>\n",
       "      <td>28.0</td>\n",
       "      <td>7</td>\n",
       "      <td>1</td>\n",
       "      <td>0.016932</td>\n",
       "      <td>1</td>\n",
       "      <td>9</td>\n",
       "      <td>1</td>\n",
       "      <td>65</td>\n",
       "    </tr>\n",
       "    <tr>\n",
       "      <th>1</th>\n",
       "      <td>8</td>\n",
       "      <td>28.0</td>\n",
       "      <td>7</td>\n",
       "      <td>1</td>\n",
       "      <td>0.016932</td>\n",
       "      <td>1</td>\n",
       "      <td>9</td>\n",
       "      <td>1</td>\n",
       "      <td>65</td>\n",
       "    </tr>\n",
       "    <tr>\n",
       "      <th>2</th>\n",
       "      <td>8</td>\n",
       "      <td>28.0</td>\n",
       "      <td>7</td>\n",
       "      <td>1</td>\n",
       "      <td>0.010153</td>\n",
       "      <td>1</td>\n",
       "      <td>9</td>\n",
       "      <td>1</td>\n",
       "      <td>65</td>\n",
       "    </tr>\n",
       "    <tr>\n",
       "      <th>3</th>\n",
       "      <td>595</td>\n",
       "      <td>33.0</td>\n",
       "      <td>7</td>\n",
       "      <td>2</td>\n",
       "      <td>0.016932</td>\n",
       "      <td>1</td>\n",
       "      <td>9</td>\n",
       "      <td>1</td>\n",
       "      <td>65</td>\n",
       "    </tr>\n",
       "    <tr>\n",
       "      <th>4</th>\n",
       "      <td>145</td>\n",
       "      <td>38.0</td>\n",
       "      <td>7</td>\n",
       "      <td>1</td>\n",
       "      <td>0.014390</td>\n",
       "      <td>1</td>\n",
       "      <td>9</td>\n",
       "      <td>1</td>\n",
       "      <td>65</td>\n",
       "    </tr>\n",
       "  </tbody>\n",
       "</table>\n",
       "</div>\n",
       "      <button class=\"colab-df-convert\" onclick=\"convertToInteractive('df-0c73ac22-182d-42f2-a638-80c297c005fa')\"\n",
       "              title=\"Convert this dataframe to an interactive table.\"\n",
       "              style=\"display:none;\">\n",
       "        \n",
       "  <svg xmlns=\"http://www.w3.org/2000/svg\" height=\"24px\"viewBox=\"0 0 24 24\"\n",
       "       width=\"24px\">\n",
       "    <path d=\"M0 0h24v24H0V0z\" fill=\"none\"/>\n",
       "    <path d=\"M18.56 5.44l.94 2.06.94-2.06 2.06-.94-2.06-.94-.94-2.06-.94 2.06-2.06.94zm-11 1L8.5 8.5l.94-2.06 2.06-.94-2.06-.94L8.5 2.5l-.94 2.06-2.06.94zm10 10l.94 2.06.94-2.06 2.06-.94-2.06-.94-.94-2.06-.94 2.06-2.06.94z\"/><path d=\"M17.41 7.96l-1.37-1.37c-.4-.4-.92-.59-1.43-.59-.52 0-1.04.2-1.43.59L10.3 9.45l-7.72 7.72c-.78.78-.78 2.05 0 2.83L4 21.41c.39.39.9.59 1.41.59.51 0 1.02-.2 1.41-.59l7.78-7.78 2.81-2.81c.8-.78.8-2.07 0-2.86zM5.41 20L4 18.59l7.72-7.72 1.47 1.35L5.41 20z\"/>\n",
       "  </svg>\n",
       "      </button>\n",
       "      \n",
       "  <style>\n",
       "    .colab-df-container {\n",
       "      display:flex;\n",
       "      flex-wrap:wrap;\n",
       "      gap: 12px;\n",
       "    }\n",
       "\n",
       "    .colab-df-convert {\n",
       "      background-color: #E8F0FE;\n",
       "      border: none;\n",
       "      border-radius: 50%;\n",
       "      cursor: pointer;\n",
       "      display: none;\n",
       "      fill: #1967D2;\n",
       "      height: 32px;\n",
       "      padding: 0 0 0 0;\n",
       "      width: 32px;\n",
       "    }\n",
       "\n",
       "    .colab-df-convert:hover {\n",
       "      background-color: #E2EBFA;\n",
       "      box-shadow: 0px 1px 2px rgba(60, 64, 67, 0.3), 0px 1px 3px 1px rgba(60, 64, 67, 0.15);\n",
       "      fill: #174EA6;\n",
       "    }\n",
       "\n",
       "    [theme=dark] .colab-df-convert {\n",
       "      background-color: #3B4455;\n",
       "      fill: #D2E3FC;\n",
       "    }\n",
       "\n",
       "    [theme=dark] .colab-df-convert:hover {\n",
       "      background-color: #434B5C;\n",
       "      box-shadow: 0px 1px 3px 1px rgba(0, 0, 0, 0.15);\n",
       "      filter: drop-shadow(0px 1px 2px rgba(0, 0, 0, 0.3));\n",
       "      fill: #FFFFFF;\n",
       "    }\n",
       "  </style>\n",
       "\n",
       "      <script>\n",
       "        const buttonEl =\n",
       "          document.querySelector('#df-0c73ac22-182d-42f2-a638-80c297c005fa button.colab-df-convert');\n",
       "        buttonEl.style.display =\n",
       "          google.colab.kernel.accessAllowed ? 'block' : 'none';\n",
       "\n",
       "        async function convertToInteractive(key) {\n",
       "          const element = document.querySelector('#df-0c73ac22-182d-42f2-a638-80c297c005fa');\n",
       "          const dataTable =\n",
       "            await google.colab.kernel.invokeFunction('convertToInteractive',\n",
       "                                                     [key], {});\n",
       "          if (!dataTable) return;\n",
       "\n",
       "          const docLinkHtml = 'Like what you see? Visit the ' +\n",
       "            '<a target=\"_blank\" href=https://colab.research.google.com/notebooks/data_table.ipynb>data table notebook</a>'\n",
       "            + ' to learn more about interactive tables.';\n",
       "          element.innerHTML = '';\n",
       "          dataTable['output_type'] = 'display_data';\n",
       "          await google.colab.output.renderOutput(dataTable, element);\n",
       "          const docLink = document.createElement('div');\n",
       "          docLink.innerHTML = docLinkHtml;\n",
       "          element.appendChild(docLink);\n",
       "        }\n",
       "      </script>\n",
       "    </div>\n",
       "  </div>\n",
       "  "
      ]
     },
     "metadata": {},
     "execution_count": 636
    }
   ]
  },
  {
   "cell_type": "code",
   "source": [
    "transactions_processed = pd.get_dummies(transactions_processed, columns=['sales_channel_id', 'colour_type'])\n",
    "transactions_processed.head()"
   ],
   "metadata": {
    "colab": {
     "base_uri": "https://localhost:8080/",
     "height": 300
    },
    "id": "CVyGzL2bsW1s",
    "outputId": "2af036ba-79cd-48c8-aed7-7324d8400c10"
   },
   "execution_count": null,
   "outputs": [
    {
     "output_type": "execute_result",
     "data": {
      "text/plain": [
       "   customer_id   age  article_id     price  ordered  colour_group_code  count  \\\n",
       "0            8  28.0           7  0.016932        1                  9      1   \n",
       "1            8  28.0           7  0.016932        1                  9      1   \n",
       "2            8  28.0           7  0.010153        1                  9      1   \n",
       "3          595  33.0           7  0.016932        1                  9      1   \n",
       "4          145  38.0           7  0.014390        1                  9      1   \n",
       "\n",
       "   sales_channel_id_1  sales_channel_id_2  colour_type_0  ...  \\\n",
       "0                   1                   0              0  ...   \n",
       "1                   1                   0              0  ...   \n",
       "2                   1                   0              0  ...   \n",
       "3                   0                   1              0  ...   \n",
       "4                   1                   0              0  ...   \n",
       "\n",
       "   colour_type_728  colour_type_729  colour_type_730  colour_type_731  \\\n",
       "0                0                0                0                0   \n",
       "1                0                0                0                0   \n",
       "2                0                0                0                0   \n",
       "3                0                0                0                0   \n",
       "4                0                0                0                0   \n",
       "\n",
       "   colour_type_732  colour_type_733  colour_type_734  colour_type_735  \\\n",
       "0                0                0                0                0   \n",
       "1                0                0                0                0   \n",
       "2                0                0                0                0   \n",
       "3                0                0                0                0   \n",
       "4                0                0                0                0   \n",
       "\n",
       "   colour_type_736  colour_type_737  \n",
       "0                0                0  \n",
       "1                0                0  \n",
       "2                0                0  \n",
       "3                0                0  \n",
       "4                0                0  \n",
       "\n",
       "[5 rows x 747 columns]"
      ],
      "text/html": [
       "\n",
       "  <div id=\"df-c076e944-5493-4a74-b690-2da9a5d34538\">\n",
       "    <div class=\"colab-df-container\">\n",
       "      <div>\n",
       "<style scoped>\n",
       "    .dataframe tbody tr th:only-of-type {\n",
       "        vertical-align: middle;\n",
       "    }\n",
       "\n",
       "    .dataframe tbody tr th {\n",
       "        vertical-align: top;\n",
       "    }\n",
       "\n",
       "    .dataframe thead th {\n",
       "        text-align: right;\n",
       "    }\n",
       "</style>\n",
       "<table border=\"1\" class=\"dataframe\">\n",
       "  <thead>\n",
       "    <tr style=\"text-align: right;\">\n",
       "      <th></th>\n",
       "      <th>customer_id</th>\n",
       "      <th>age</th>\n",
       "      <th>article_id</th>\n",
       "      <th>price</th>\n",
       "      <th>ordered</th>\n",
       "      <th>colour_group_code</th>\n",
       "      <th>count</th>\n",
       "      <th>sales_channel_id_1</th>\n",
       "      <th>sales_channel_id_2</th>\n",
       "      <th>colour_type_0</th>\n",
       "      <th>...</th>\n",
       "      <th>colour_type_728</th>\n",
       "      <th>colour_type_729</th>\n",
       "      <th>colour_type_730</th>\n",
       "      <th>colour_type_731</th>\n",
       "      <th>colour_type_732</th>\n",
       "      <th>colour_type_733</th>\n",
       "      <th>colour_type_734</th>\n",
       "      <th>colour_type_735</th>\n",
       "      <th>colour_type_736</th>\n",
       "      <th>colour_type_737</th>\n",
       "    </tr>\n",
       "  </thead>\n",
       "  <tbody>\n",
       "    <tr>\n",
       "      <th>0</th>\n",
       "      <td>8</td>\n",
       "      <td>28.0</td>\n",
       "      <td>7</td>\n",
       "      <td>0.016932</td>\n",
       "      <td>1</td>\n",
       "      <td>9</td>\n",
       "      <td>1</td>\n",
       "      <td>1</td>\n",
       "      <td>0</td>\n",
       "      <td>0</td>\n",
       "      <td>...</td>\n",
       "      <td>0</td>\n",
       "      <td>0</td>\n",
       "      <td>0</td>\n",
       "      <td>0</td>\n",
       "      <td>0</td>\n",
       "      <td>0</td>\n",
       "      <td>0</td>\n",
       "      <td>0</td>\n",
       "      <td>0</td>\n",
       "      <td>0</td>\n",
       "    </tr>\n",
       "    <tr>\n",
       "      <th>1</th>\n",
       "      <td>8</td>\n",
       "      <td>28.0</td>\n",
       "      <td>7</td>\n",
       "      <td>0.016932</td>\n",
       "      <td>1</td>\n",
       "      <td>9</td>\n",
       "      <td>1</td>\n",
       "      <td>1</td>\n",
       "      <td>0</td>\n",
       "      <td>0</td>\n",
       "      <td>...</td>\n",
       "      <td>0</td>\n",
       "      <td>0</td>\n",
       "      <td>0</td>\n",
       "      <td>0</td>\n",
       "      <td>0</td>\n",
       "      <td>0</td>\n",
       "      <td>0</td>\n",
       "      <td>0</td>\n",
       "      <td>0</td>\n",
       "      <td>0</td>\n",
       "    </tr>\n",
       "    <tr>\n",
       "      <th>2</th>\n",
       "      <td>8</td>\n",
       "      <td>28.0</td>\n",
       "      <td>7</td>\n",
       "      <td>0.010153</td>\n",
       "      <td>1</td>\n",
       "      <td>9</td>\n",
       "      <td>1</td>\n",
       "      <td>1</td>\n",
       "      <td>0</td>\n",
       "      <td>0</td>\n",
       "      <td>...</td>\n",
       "      <td>0</td>\n",
       "      <td>0</td>\n",
       "      <td>0</td>\n",
       "      <td>0</td>\n",
       "      <td>0</td>\n",
       "      <td>0</td>\n",
       "      <td>0</td>\n",
       "      <td>0</td>\n",
       "      <td>0</td>\n",
       "      <td>0</td>\n",
       "    </tr>\n",
       "    <tr>\n",
       "      <th>3</th>\n",
       "      <td>595</td>\n",
       "      <td>33.0</td>\n",
       "      <td>7</td>\n",
       "      <td>0.016932</td>\n",
       "      <td>1</td>\n",
       "      <td>9</td>\n",
       "      <td>1</td>\n",
       "      <td>0</td>\n",
       "      <td>1</td>\n",
       "      <td>0</td>\n",
       "      <td>...</td>\n",
       "      <td>0</td>\n",
       "      <td>0</td>\n",
       "      <td>0</td>\n",
       "      <td>0</td>\n",
       "      <td>0</td>\n",
       "      <td>0</td>\n",
       "      <td>0</td>\n",
       "      <td>0</td>\n",
       "      <td>0</td>\n",
       "      <td>0</td>\n",
       "    </tr>\n",
       "    <tr>\n",
       "      <th>4</th>\n",
       "      <td>145</td>\n",
       "      <td>38.0</td>\n",
       "      <td>7</td>\n",
       "      <td>0.014390</td>\n",
       "      <td>1</td>\n",
       "      <td>9</td>\n",
       "      <td>1</td>\n",
       "      <td>1</td>\n",
       "      <td>0</td>\n",
       "      <td>0</td>\n",
       "      <td>...</td>\n",
       "      <td>0</td>\n",
       "      <td>0</td>\n",
       "      <td>0</td>\n",
       "      <td>0</td>\n",
       "      <td>0</td>\n",
       "      <td>0</td>\n",
       "      <td>0</td>\n",
       "      <td>0</td>\n",
       "      <td>0</td>\n",
       "      <td>0</td>\n",
       "    </tr>\n",
       "  </tbody>\n",
       "</table>\n",
       "<p>5 rows × 747 columns</p>\n",
       "</div>\n",
       "      <button class=\"colab-df-convert\" onclick=\"convertToInteractive('df-c076e944-5493-4a74-b690-2da9a5d34538')\"\n",
       "              title=\"Convert this dataframe to an interactive table.\"\n",
       "              style=\"display:none;\">\n",
       "        \n",
       "  <svg xmlns=\"http://www.w3.org/2000/svg\" height=\"24px\"viewBox=\"0 0 24 24\"\n",
       "       width=\"24px\">\n",
       "    <path d=\"M0 0h24v24H0V0z\" fill=\"none\"/>\n",
       "    <path d=\"M18.56 5.44l.94 2.06.94-2.06 2.06-.94-2.06-.94-.94-2.06-.94 2.06-2.06.94zm-11 1L8.5 8.5l.94-2.06 2.06-.94-2.06-.94L8.5 2.5l-.94 2.06-2.06.94zm10 10l.94 2.06.94-2.06 2.06-.94-2.06-.94-.94-2.06-.94 2.06-2.06.94z\"/><path d=\"M17.41 7.96l-1.37-1.37c-.4-.4-.92-.59-1.43-.59-.52 0-1.04.2-1.43.59L10.3 9.45l-7.72 7.72c-.78.78-.78 2.05 0 2.83L4 21.41c.39.39.9.59 1.41.59.51 0 1.02-.2 1.41-.59l7.78-7.78 2.81-2.81c.8-.78.8-2.07 0-2.86zM5.41 20L4 18.59l7.72-7.72 1.47 1.35L5.41 20z\"/>\n",
       "  </svg>\n",
       "      </button>\n",
       "      \n",
       "  <style>\n",
       "    .colab-df-container {\n",
       "      display:flex;\n",
       "      flex-wrap:wrap;\n",
       "      gap: 12px;\n",
       "    }\n",
       "\n",
       "    .colab-df-convert {\n",
       "      background-color: #E8F0FE;\n",
       "      border: none;\n",
       "      border-radius: 50%;\n",
       "      cursor: pointer;\n",
       "      display: none;\n",
       "      fill: #1967D2;\n",
       "      height: 32px;\n",
       "      padding: 0 0 0 0;\n",
       "      width: 32px;\n",
       "    }\n",
       "\n",
       "    .colab-df-convert:hover {\n",
       "      background-color: #E2EBFA;\n",
       "      box-shadow: 0px 1px 2px rgba(60, 64, 67, 0.3), 0px 1px 3px 1px rgba(60, 64, 67, 0.15);\n",
       "      fill: #174EA6;\n",
       "    }\n",
       "\n",
       "    [theme=dark] .colab-df-convert {\n",
       "      background-color: #3B4455;\n",
       "      fill: #D2E3FC;\n",
       "    }\n",
       "\n",
       "    [theme=dark] .colab-df-convert:hover {\n",
       "      background-color: #434B5C;\n",
       "      box-shadow: 0px 1px 3px 1px rgba(0, 0, 0, 0.15);\n",
       "      filter: drop-shadow(0px 1px 2px rgba(0, 0, 0, 0.3));\n",
       "      fill: #FFFFFF;\n",
       "    }\n",
       "  </style>\n",
       "\n",
       "      <script>\n",
       "        const buttonEl =\n",
       "          document.querySelector('#df-c076e944-5493-4a74-b690-2da9a5d34538 button.colab-df-convert');\n",
       "        buttonEl.style.display =\n",
       "          google.colab.kernel.accessAllowed ? 'block' : 'none';\n",
       "\n",
       "        async function convertToInteractive(key) {\n",
       "          const element = document.querySelector('#df-c076e944-5493-4a74-b690-2da9a5d34538');\n",
       "          const dataTable =\n",
       "            await google.colab.kernel.invokeFunction('convertToInteractive',\n",
       "                                                     [key], {});\n",
       "          if (!dataTable) return;\n",
       "\n",
       "          const docLinkHtml = 'Like what you see? Visit the ' +\n",
       "            '<a target=\"_blank\" href=https://colab.research.google.com/notebooks/data_table.ipynb>data table notebook</a>'\n",
       "            + ' to learn more about interactive tables.';\n",
       "          element.innerHTML = '';\n",
       "          dataTable['output_type'] = 'display_data';\n",
       "          await google.colab.output.renderOutput(dataTable, element);\n",
       "          const docLink = document.createElement('div');\n",
       "          docLink.innerHTML = docLinkHtml;\n",
       "          element.appendChild(docLink);\n",
       "        }\n",
       "      </script>\n",
       "    </div>\n",
       "  </div>\n",
       "  "
      ]
     },
     "metadata": {},
     "execution_count": 637
    }
   ]
  },
  {
   "cell_type": "code",
   "source": [
    "X_train, X_test, y_train, y_test = train_test_split(transactions_processed.drop('ordered', axis=1), transactions_processed['ordered'], test_size=0.10, random_state=42)\n",
    "baseline = LogisticRegression(random_state=42)\n",
    "baseline = baseline.fit(X_train, y_train)\n",
    "baseline.score(X_test, y_test)"
   ],
   "metadata": {
    "colab": {
     "base_uri": "https://localhost:8080/"
    },
    "id": "gTyd-FT-sWnw",
    "outputId": "d56d29a1-2819-431b-990e-c9487a11abcf"
   },
   "execution_count": null,
   "outputs": [
    {
     "output_type": "stream",
     "name": "stderr",
     "text": [
      "/usr/local/lib/python3.7/dist-packages/sklearn/linear_model/_logistic.py:818: ConvergenceWarning: lbfgs failed to converge (status=1):\n",
      "STOP: TOTAL NO. of ITERATIONS REACHED LIMIT.\n",
      "\n",
      "Increase the number of iterations (max_iter) or scale the data as shown in:\n",
      "    https://scikit-learn.org/stable/modules/preprocessing.html\n",
      "Please also refer to the documentation for alternative solver options:\n",
      "    https://scikit-learn.org/stable/modules/linear_model.html#logistic-regression\n",
      "  extra_warning_msg=_LOGISTIC_SOLVER_CONVERGENCE_MSG,\n"
     ]
    },
    {
     "output_type": "execute_result",
     "data": {
      "text/plain": [
       "0.6253229974160207"
      ]
     },
     "metadata": {},
     "execution_count": 638
    }
   ]
  },
  {
   "cell_type": "markdown",
   "metadata": {
    "id": "4YCNUIpYLK9V"
   },
   "source": []
  },
  {
   "cell_type": "markdown",
   "metadata": {
    "id": "OC0IBEINLK9V"
   },
   "source": []
  }
 ],
 "metadata": {
  "kernelspec": {
   "display_name": "Python 3 (ipykernel)",
   "language": "python",
   "name": "python3"
  },
  "language_info": {
   "codemirror_mode": {
    "name": "ipython",
    "version": 3
   },
   "file_extension": ".py",
   "mimetype": "text/x-python",
   "name": "python",
   "nbconvert_exporter": "python",
   "pygments_lexer": "ipython3",
   "version": "3.8.10"
  },
  "vscode": {
   "interpreter": {
    "hash": "aee8b7b246df8f9039afb4144a1f6fd8d2ca17a180786b69acc140d282b71a49"
   }
  },
  "colab": {
   "provenance": []
  }
 },
 "nbformat": 4,
 "nbformat_minor": 0
}
