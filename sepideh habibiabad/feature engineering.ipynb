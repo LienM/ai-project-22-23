{
 "cells": [
  {
   "cell_type": "code",
   "execution_count": 178,
   "id": "be15c43f",
   "metadata": {},
   "outputs": [],
   "source": [
    "import numpy as np \n",
    "import pandas as pd\n",
    "import random\n",
    "from sklearn.linear_model import LogisticRegression\n",
    "from sklearn.model_selection import train_test_split\n",
    "from sklearn.metrics import classification_report\n",
    "from sklearn import preprocessing"
   ]
  },
  {
   "cell_type": "code",
   "execution_count": 179,
   "id": "8c74796d",
   "metadata": {},
   "outputs": [],
   "source": [
    "articles = pd.read_csv('C:/Users/SepidehHabibiabad/OneDrive - C-Clear Partners BVBA/Desktop/AI project\\AI_project_data/articles.csv')\n",
    "customers = pd.read_csv('C:/Users/SepidehHabibiabad/OneDrive - C-Clear Partners BVBA/Desktop/AI project\\AI_project_data/customers.csv')\n",
    "sample_submisison = pd.read_csv('C:/Users/SepidehHabibiabad/OneDrive - C-Clear Partners BVBA/Desktop/AI project\\AI_project_data/sample_submission.csv')\n",
    "transactions = pd.read_csv('C:/Users/SepidehHabibiabad/OneDrive - C-Clear Partners BVBA/Desktop/AI project\\AI_project_data/transactions_train.csv')"
   ]
  },
  {
   "cell_type": "code",
   "execution_count": 180,
   "id": "a42b78fb",
   "metadata": {},
   "outputs": [
    {
     "name": "stdout",
     "output_type": "stream",
     "text": [
      "0.001\n",
      "0.01\n",
      "0.05\n"
     ]
    }
   ],
   "source": [
    "# Adapted from: https://www.kaggle.com/code/paweljankiewicz/hm-create-dataset-samples\n",
    "# This extracts three sampled datasets, containing 0.1%, 1% and 5% of all users and their transactions, and the associated articles.\n",
    "for sample_repr, sample in [(\"01\", 0.001), (\"1\", 0.01), (\"5\", 0.05)]:\n",
    "    print(sample)\n",
    "    customers_sample = customers.sample(int(customers.shape[0]*sample), replace=False)\n",
    "    customers_sample_ids = set(customers_sample[\"customer_id\"])\n",
    "    transactions_sample = transactions[transactions[\"customer_id\"].isin(customers_sample_ids)]\n",
    "    articles_sample_ids = set(transactions_sample[\"article_id\"])\n",
    "    articles_sample = articles[articles[\"article_id\"].isin(articles_sample_ids)]\n",
    "    customers_sample.to_csv(f\"C:/Users/SepidehHabibiabad/OneDrive - C-Clear Partners BVBA/Desktop/AI project\\AI_project_data/customers_sample{sample_repr}.csv.gz\", index=False)\n",
    "    transactions_sample.to_csv(f\"C:/Users/SepidehHabibiabad/OneDrive - C-Clear Partners BVBA/Desktop/AI project\\AI_project_data/transactions_sample{sample_repr}.csv.gz\", index=False)\n",
    "    articles_sample.to_csv(f\"C:/Users/SepidehHabibiabad/OneDrive - C-Clear Partners BVBA/Desktop/AI project\\AI_project_data/articles_sample{sample_repr}.csv.gz\", index=False)"
   ]
  },
  {
   "cell_type": "code",
   "execution_count": 181,
   "id": "a499456b",
   "metadata": {},
   "outputs": [],
   "source": [
    "articles_sample = pd.read_csv('C:/Users/SepidehHabibiabad/OneDrive - C-Clear Partners BVBA/Desktop/AI project\\AI_project_data/articles_sample01.csv.gz')\n",
    "customers_sample = pd.read_csv('C:/Users/SepidehHabibiabad/OneDrive - C-Clear Partners BVBA/Desktop/AI project\\AI_project_data/customers_sample01.csv.gz')\n",
    "transactions_sample = pd.read_csv('C:/Users/SepidehHabibiabad/OneDrive - C-Clear Partners BVBA/Desktop/AI project\\AI_project_data/transactions_sample01.csv.gz')"
   ]
  },
  {
   "cell_type": "code",
   "execution_count": 182,
   "id": "cc4582a9",
   "metadata": {},
   "outputs": [],
   "source": [
    "transactions = transactions_sample\n",
    "customers = customers_sample\n",
    "articles = articles_sample"
   ]
  },
  {
   "cell_type": "code",
   "execution_count": 183,
   "id": "151d6291",
   "metadata": {},
   "outputs": [],
   "source": [
    "transactions['ordered'] = 1"
   ]
  },
  {
   "cell_type": "code",
   "execution_count": 184,
   "id": "50b9cea2",
   "metadata": {},
   "outputs": [
    {
     "data": {
      "text/html": [
       "<div>\n",
       "<style scoped>\n",
       "    .dataframe tbody tr th:only-of-type {\n",
       "        vertical-align: middle;\n",
       "    }\n",
       "\n",
       "    .dataframe tbody tr th {\n",
       "        vertical-align: top;\n",
       "    }\n",
       "\n",
       "    .dataframe thead th {\n",
       "        text-align: right;\n",
       "    }\n",
       "</style>\n",
       "<table border=\"1\" class=\"dataframe\">\n",
       "  <thead>\n",
       "    <tr style=\"text-align: right;\">\n",
       "      <th></th>\n",
       "      <th>t_dat</th>\n",
       "      <th>customer_id</th>\n",
       "      <th>article_id</th>\n",
       "      <th>price</th>\n",
       "      <th>sales_channel_id</th>\n",
       "      <th>ordered</th>\n",
       "    </tr>\n",
       "  </thead>\n",
       "  <tbody>\n",
       "    <tr>\n",
       "      <th>0</th>\n",
       "      <td>2018-09-20</td>\n",
       "      <td>1c1a0113e8b1fa3196aa815a75ee6fa190b523d614f36d...</td>\n",
       "      <td>501820001</td>\n",
       "      <td>0.016932</td>\n",
       "      <td>2</td>\n",
       "      <td>1</td>\n",
       "    </tr>\n",
       "    <tr>\n",
       "      <th>1</th>\n",
       "      <td>2018-09-20</td>\n",
       "      <td>1c1a0113e8b1fa3196aa815a75ee6fa190b523d614f36d...</td>\n",
       "      <td>635957001</td>\n",
       "      <td>0.042356</td>\n",
       "      <td>2</td>\n",
       "      <td>1</td>\n",
       "    </tr>\n",
       "    <tr>\n",
       "      <th>2</th>\n",
       "      <td>2018-09-20</td>\n",
       "      <td>1c1a0113e8b1fa3196aa815a75ee6fa190b523d614f36d...</td>\n",
       "      <td>585754001</td>\n",
       "      <td>0.025407</td>\n",
       "      <td>2</td>\n",
       "      <td>1</td>\n",
       "    </tr>\n",
       "    <tr>\n",
       "      <th>3</th>\n",
       "      <td>2018-09-20</td>\n",
       "      <td>1c1a0113e8b1fa3196aa815a75ee6fa190b523d614f36d...</td>\n",
       "      <td>501820008</td>\n",
       "      <td>0.016932</td>\n",
       "      <td>2</td>\n",
       "      <td>1</td>\n",
       "    </tr>\n",
       "    <tr>\n",
       "      <th>4</th>\n",
       "      <td>2018-09-20</td>\n",
       "      <td>2eff272a77e099bec5f1d0b75ed8043767c525bc093db4...</td>\n",
       "      <td>562252010</td>\n",
       "      <td>0.025407</td>\n",
       "      <td>1</td>\n",
       "      <td>1</td>\n",
       "    </tr>\n",
       "  </tbody>\n",
       "</table>\n",
       "</div>"
      ],
      "text/plain": [
       "        t_dat                                        customer_id  article_id  \\\n",
       "0  2018-09-20  1c1a0113e8b1fa3196aa815a75ee6fa190b523d614f36d...   501820001   \n",
       "1  2018-09-20  1c1a0113e8b1fa3196aa815a75ee6fa190b523d614f36d...   635957001   \n",
       "2  2018-09-20  1c1a0113e8b1fa3196aa815a75ee6fa190b523d614f36d...   585754001   \n",
       "3  2018-09-20  1c1a0113e8b1fa3196aa815a75ee6fa190b523d614f36d...   501820008   \n",
       "4  2018-09-20  2eff272a77e099bec5f1d0b75ed8043767c525bc093db4...   562252010   \n",
       "\n",
       "      price  sales_channel_id  ordered  \n",
       "0  0.016932                 2        1  \n",
       "1  0.042356                 2        1  \n",
       "2  0.025407                 2        1  \n",
       "3  0.016932                 2        1  \n",
       "4  0.025407                 1        1  "
      ]
     },
     "execution_count": 184,
     "metadata": {},
     "output_type": "execute_result"
    }
   ],
   "source": [
    "transactions.head()"
   ]
  },
  {
   "cell_type": "code",
   "execution_count": 185,
   "id": "a556bd41",
   "metadata": {},
   "outputs": [],
   "source": [
    "positive_pairs = list(map(tuple, transactions[['customer_id', 'article_id']].drop_duplicates().values))"
   ]
  },
  {
   "cell_type": "code",
   "execution_count": 186,
   "id": "48416ffa",
   "metadata": {},
   "outputs": [],
   "source": [
    "real_dates = transactions[\"t_dat\"].unique()\n",
    "real_customers = transactions[\"customer_id\"].unique()\n",
    "real_articles = transactions[\"article_id\"].unique()\n",
    "real_channels = transactions[\"sales_channel_id\"].unique()\n",
    "article_and_price = transactions[[\"article_id\",\"price\"]].drop_duplicates(\"article_id\").set_index(\"article_id\").squeeze()"
   ]
  },
  {
   "cell_type": "code",
   "execution_count": 187,
   "id": "90393e7f",
   "metadata": {},
   "outputs": [
    {
     "name": "stdout",
     "output_type": "stream",
     "text": [
      "32336\n"
     ]
    }
   ],
   "source": [
    "num_neg_pos = transactions.shape[0]\n",
    "print(num_neg_pos)"
   ]
  },
  {
   "cell_type": "code",
   "execution_count": 188,
   "id": "21cc3599",
   "metadata": {},
   "outputs": [],
   "source": [
    "# Sampling negatives by selecting random users, articles, dates and sales channel:\n",
    "# Note: This is quite naive. Some articles may not even have been available at the date we are sampling.\n",
    "random.seed(42)\n",
    "\n",
    "# Afterwards, we need to remove potential duplicates, so we'll sample too many.\n",
    "num_neg_samples = int(num_neg_pos * 1.1)\n",
    "\n",
    "# Sample each of the independent attributes.\n",
    "neg_dates = np.random.choice(real_dates, size=num_neg_samples)\n",
    "neg_articles = np.random.choice(real_articles, size=num_neg_samples)\n",
    "neg_customers = np.random.choice(real_customers, size=num_neg_samples)\n",
    "neg_channels = np.random.choice(real_channels, size=num_neg_samples)\n",
    "ordered = np.array([0] * num_neg_samples)\n",
    "# Assign to every article a real price.\n",
    "neg_prices = article_and_price[neg_articles].values"
   ]
  },
  {
   "cell_type": "code",
   "execution_count": 189,
   "id": "f3c99659",
   "metadata": {},
   "outputs": [],
   "source": [
    "neg_transactions = pd.DataFrame([neg_dates, neg_customers, neg_articles, neg_prices, neg_channels, ordered], index=transactions.columns).T"
   ]
  },
  {
   "cell_type": "code",
   "execution_count": 190,
   "id": "6ea4a54a",
   "metadata": {},
   "outputs": [
    {
     "data": {
      "text/plain": [
       "(35569, 6)"
      ]
     },
     "execution_count": 190,
     "metadata": {},
     "output_type": "execute_result"
    }
   ],
   "source": [
    "neg_transactions.shape"
   ]
  },
  {
   "cell_type": "code",
   "execution_count": 191,
   "id": "ed4ae837",
   "metadata": {},
   "outputs": [],
   "source": [
    "# Remove random negative samples that actually coincide with positives\n",
    "df = neg_transactions[\n",
    "    ~neg_transactions.set_index([\"customer_id\", \"article_id\"]).index.isin(positive_pairs)\n",
    "]\n",
    "\n",
    "# Remove any excess\n",
    "chosen_neg_transactions = df.sample(num_neg_pos)"
   ]
  },
  {
   "cell_type": "code",
   "execution_count": 192,
   "id": "21d6d152",
   "metadata": {},
   "outputs": [],
   "source": [
    "# Concat the negative samples to the positive samples:\n",
    "transactions = pd.concat([transactions, chosen_neg_transactions])\n",
    "transactions = transactions.merge(customers, how=\"inner\", on='customer_id')\n",
    "transactions = transactions.merge(articles, how=\"inner\", on='article_id')"
   ]
  },
  {
   "cell_type": "code",
   "execution_count": 193,
   "id": "54557178",
   "metadata": {},
   "outputs": [],
   "source": [
    "######################################################"
   ]
  },
  {
   "cell_type": "code",
   "execution_count": 207,
   "id": "6cf1a602",
   "metadata": {},
   "outputs": [
    {
     "data": {
      "text/html": [
       "<div>\n",
       "<style scoped>\n",
       "    .dataframe tbody tr th:only-of-type {\n",
       "        vertical-align: middle;\n",
       "    }\n",
       "\n",
       "    .dataframe tbody tr th {\n",
       "        vertical-align: top;\n",
       "    }\n",
       "\n",
       "    .dataframe thead th {\n",
       "        text-align: right;\n",
       "    }\n",
       "</style>\n",
       "<table border=\"1\" class=\"dataframe\">\n",
       "  <thead>\n",
       "    <tr style=\"text-align: right;\">\n",
       "      <th></th>\n",
       "      <th>customer_id</th>\n",
       "      <th>age</th>\n",
       "      <th>article_id</th>\n",
       "      <th>price</th>\n",
       "      <th>t_dat</th>\n",
       "      <th>product_type_no</th>\n",
       "      <th>colour_group_code</th>\n",
       "      <th>ordered</th>\n",
       "    </tr>\n",
       "  </thead>\n",
       "  <tbody>\n",
       "    <tr>\n",
       "      <th>0</th>\n",
       "      <td>1c1a0113e8b1fa3196aa815a75ee6fa190b523d614f36d...</td>\n",
       "      <td>21.0</td>\n",
       "      <td>501820001</td>\n",
       "      <td>0.016932</td>\n",
       "      <td>2018-09-20</td>\n",
       "      <td>252</td>\n",
       "      <td>9</td>\n",
       "      <td>1</td>\n",
       "    </tr>\n",
       "    <tr>\n",
       "      <th>1</th>\n",
       "      <td>7eb7b96c71ef481db8d921aa979316b46d4b6abc7d02e9...</td>\n",
       "      <td>27.0</td>\n",
       "      <td>501820001</td>\n",
       "      <td>0.016932</td>\n",
       "      <td>2018-12-03</td>\n",
       "      <td>252</td>\n",
       "      <td>9</td>\n",
       "      <td>1</td>\n",
       "    </tr>\n",
       "    <tr>\n",
       "      <th>2</th>\n",
       "      <td>d8539d6b469f6d066bb042ce35e5a03a98c5435e6c2347...</td>\n",
       "      <td>51.0</td>\n",
       "      <td>501820001</td>\n",
       "      <td>0.014424</td>\n",
       "      <td>2018-10-24</td>\n",
       "      <td>252</td>\n",
       "      <td>9</td>\n",
       "      <td>1</td>\n",
       "    </tr>\n",
       "    <tr>\n",
       "      <th>3</th>\n",
       "      <td>83f8114468be6f2da069d5332c6965c650e3898712853f...</td>\n",
       "      <td>49.0</td>\n",
       "      <td>501820001</td>\n",
       "      <td>0.016932</td>\n",
       "      <td>2019-06-06</td>\n",
       "      <td>252</td>\n",
       "      <td>9</td>\n",
       "      <td>0</td>\n",
       "    </tr>\n",
       "    <tr>\n",
       "      <th>4</th>\n",
       "      <td>6c03c3a6182af63b34b7c3be86608f292f46f1d85fd05c...</td>\n",
       "      <td>52.0</td>\n",
       "      <td>501820001</td>\n",
       "      <td>0.016932</td>\n",
       "      <td>2020-04-04</td>\n",
       "      <td>252</td>\n",
       "      <td>9</td>\n",
       "      <td>0</td>\n",
       "    </tr>\n",
       "  </tbody>\n",
       "</table>\n",
       "</div>"
      ],
      "text/plain": [
       "                                         customer_id   age article_id  \\\n",
       "0  1c1a0113e8b1fa3196aa815a75ee6fa190b523d614f36d...  21.0  501820001   \n",
       "1  7eb7b96c71ef481db8d921aa979316b46d4b6abc7d02e9...  27.0  501820001   \n",
       "2  d8539d6b469f6d066bb042ce35e5a03a98c5435e6c2347...  51.0  501820001   \n",
       "3  83f8114468be6f2da069d5332c6965c650e3898712853f...  49.0  501820001   \n",
       "4  6c03c3a6182af63b34b7c3be86608f292f46f1d85fd05c...  52.0  501820001   \n",
       "\n",
       "      price       t_dat  product_type_no  colour_group_code ordered  \n",
       "0  0.016932  2018-09-20              252                  9       1  \n",
       "1  0.016932  2018-12-03              252                  9       1  \n",
       "2  0.014424  2018-10-24              252                  9       1  \n",
       "3  0.016932  2019-06-06              252                  9       0  \n",
       "4  0.016932  2020-04-04              252                  9       0  "
      ]
     },
     "execution_count": 207,
     "metadata": {},
     "output_type": "execute_result"
    }
   ],
   "source": [
    "# transactions_processed = transactions[['customer_id', 'age', 'article_id', 'sales_channel_id', 'price', 'ordered']].copy()\n",
    "# transactions_processed.head()\n",
    "transactions_processed = transactions[['customer_id','age','article_id', 'price','t_dat','product_type_no','colour_group_code', 'ordered']].copy()\n",
    "transactions_processed.head()"
   ]
  },
  {
   "cell_type": "code",
   "execution_count": 160,
   "id": "025a9c56",
   "metadata": {},
   "outputs": [],
   "source": [
    "# Does it make sense to label encode?\n",
    "# Label encoding the customer and article IDs:\n",
    "# customer_encoder = preprocessing.LabelEncoder()\n",
    "# article_encoder = preprocessing.LabelEncoder()"
   ]
  },
  {
   "cell_type": "code",
   "execution_count": 161,
   "id": "c731a278",
   "metadata": {},
   "outputs": [],
   "source": [
    "# transactions_processed['customer_id'] = customer_encoder.fit_transform(transactions_processed['customer_id'])\n",
    "# transactions_processed['article_id'] = article_encoder.fit_transform(transactions_processed['article_id'])"
   ]
  },
  {
   "cell_type": "code",
   "execution_count": 162,
   "id": "2e478ee5",
   "metadata": {},
   "outputs": [
    {
     "data": {
      "text/html": [
       "<div>\n",
       "<style scoped>\n",
       "    .dataframe tbody tr th:only-of-type {\n",
       "        vertical-align: middle;\n",
       "    }\n",
       "\n",
       "    .dataframe tbody tr th {\n",
       "        vertical-align: top;\n",
       "    }\n",
       "\n",
       "    .dataframe thead th {\n",
       "        text-align: right;\n",
       "    }\n",
       "</style>\n",
       "<table border=\"1\" class=\"dataframe\">\n",
       "  <thead>\n",
       "    <tr style=\"text-align: right;\">\n",
       "      <th></th>\n",
       "      <th>customer_id</th>\n",
       "      <th>age</th>\n",
       "      <th>article_id</th>\n",
       "      <th>price</th>\n",
       "      <th>t_dat</th>\n",
       "      <th>product_type_no</th>\n",
       "      <th>colour_group_code</th>\n",
       "      <th>ordered</th>\n",
       "    </tr>\n",
       "  </thead>\n",
       "  <tbody>\n",
       "    <tr>\n",
       "      <th>0</th>\n",
       "      <td>03126e45c08e82cd192b32cbddbeba63387e11e5531059...</td>\n",
       "      <td>60.0</td>\n",
       "      <td>378124009</td>\n",
       "      <td>0.06778</td>\n",
       "      <td>2018-09-20</td>\n",
       "      <td>257</td>\n",
       "      <td>73</td>\n",
       "      <td>1</td>\n",
       "    </tr>\n",
       "    <tr>\n",
       "      <th>1</th>\n",
       "      <td>03126e45c08e82cd192b32cbddbeba63387e11e5531059...</td>\n",
       "      <td>60.0</td>\n",
       "      <td>378124009</td>\n",
       "      <td>0.06778</td>\n",
       "      <td>2018-09-20</td>\n",
       "      <td>257</td>\n",
       "      <td>73</td>\n",
       "      <td>1</td>\n",
       "    </tr>\n",
       "    <tr>\n",
       "      <th>2</th>\n",
       "      <td>85ba782ad67573699594bc726588c3606b2471ab01cbaf...</td>\n",
       "      <td>55.0</td>\n",
       "      <td>378124009</td>\n",
       "      <td>0.06778</td>\n",
       "      <td>2020-08-14</td>\n",
       "      <td>257</td>\n",
       "      <td>73</td>\n",
       "      <td>0</td>\n",
       "    </tr>\n",
       "    <tr>\n",
       "      <th>3</th>\n",
       "      <td>1357afdba0b099776afa5663d90b6692b2e44d9973aba0...</td>\n",
       "      <td>34.0</td>\n",
       "      <td>378124009</td>\n",
       "      <td>0.06778</td>\n",
       "      <td>2020-07-19</td>\n",
       "      <td>257</td>\n",
       "      <td>73</td>\n",
       "      <td>0</td>\n",
       "    </tr>\n",
       "    <tr>\n",
       "      <th>4</th>\n",
       "      <td>c6427972db94344f8c2f3f6b4a2b8f49429171341b737c...</td>\n",
       "      <td>20.0</td>\n",
       "      <td>378124009</td>\n",
       "      <td>0.06778</td>\n",
       "      <td>2019-11-04</td>\n",
       "      <td>257</td>\n",
       "      <td>73</td>\n",
       "      <td>0</td>\n",
       "    </tr>\n",
       "  </tbody>\n",
       "</table>\n",
       "</div>"
      ],
      "text/plain": [
       "                                         customer_id   age article_id  \\\n",
       "0  03126e45c08e82cd192b32cbddbeba63387e11e5531059...  60.0  378124009   \n",
       "1  03126e45c08e82cd192b32cbddbeba63387e11e5531059...  60.0  378124009   \n",
       "2  85ba782ad67573699594bc726588c3606b2471ab01cbaf...  55.0  378124009   \n",
       "3  1357afdba0b099776afa5663d90b6692b2e44d9973aba0...  34.0  378124009   \n",
       "4  c6427972db94344f8c2f3f6b4a2b8f49429171341b737c...  20.0  378124009   \n",
       "\n",
       "     price       t_dat  product_type_no  colour_group_code ordered  \n",
       "0  0.06778  2018-09-20              257                 73       1  \n",
       "1  0.06778  2018-09-20              257                 73       1  \n",
       "2  0.06778  2020-08-14              257                 73       0  \n",
       "3  0.06778  2020-07-19              257                 73       0  \n",
       "4  0.06778  2019-11-04              257                 73       0  "
      ]
     },
     "execution_count": 162,
     "metadata": {},
     "output_type": "execute_result"
    }
   ],
   "source": [
    "transactions_processed.head()"
   ]
  },
  {
   "cell_type": "code",
   "execution_count": 208,
   "id": "cbe811b7",
   "metadata": {},
   "outputs": [
    {
     "data": {
      "text/plain": [
       "False"
      ]
     },
     "execution_count": 208,
     "metadata": {},
     "output_type": "execute_result"
    }
   ],
   "source": [
    "transactions_processed['age'].fillna(int((transactions_processed['age'].mean())), inplace=True)\n",
    "transactions_processed = transactions_processed.fillna(0)\n",
    "transactions_processed.isnull().values.any()"
   ]
  },
  {
   "cell_type": "code",
   "execution_count": 196,
   "id": "d0d16a7b",
   "metadata": {},
   "outputs": [],
   "source": [
    "# most product type that has bought by each user\n",
    "mode= transactions_processed.groupby(['customer_id'])['product_type_no'].agg(lambda x: pd.Series.mode(x)[0]) \n",
    "transactions_processed = transactions_processed.merge(mode, how=\"inner\", on='customer_id')"
   ]
  },
  {
   "cell_type": "code",
   "execution_count": 197,
   "id": "4435792b",
   "metadata": {},
   "outputs": [],
   "source": [
    "average = transactions_processed.groupby(['customer_id'])['price'].mean()\n",
    "transactions_processed = transactions_processed.merge(average, how=\"inner\", on='customer_id')"
   ]
  },
  {
   "cell_type": "code",
   "execution_count": 198,
   "id": "580308fb",
   "metadata": {},
   "outputs": [],
   "source": [
    "# favorite color of the costumer\n",
    "favorite_color = transactions_processed.groupby(['customer_id'])['colour_group_code'].agg(lambda x: pd.Series.mode(x)[0]) \n",
    "transactions_processed = transactions_processed.merge(favorite_color, how=\"inner\", on='customer_id')"
   ]
  },
  {
   "cell_type": "code",
   "execution_count": 210,
   "id": "6d9e5f6e",
   "metadata": {},
   "outputs": [],
   "source": [
    "item_date = transactions.loc[transactions[\"ordered\"] == 1][[\"customer_id\", \"article_id\", \"t_dat\"]]\n",
    "item_date['t_dat'] = pd.to_datetime(item_date[\"t_dat\"])\n",
    "item_date['recently_bought'] = item_date['t_dat'].max()\n",
    "item_date['days_difference'] = (item_date['recently_bought'] - item_date['t_dat']).dt.days"
   ]
  },
  {
   "cell_type": "code",
   "execution_count": 212,
   "id": "62bd7bcb",
   "metadata": {},
   "outputs": [],
   "source": [
    "popular_month = item_date.loc[item_date[\"days_difference\"] <= 31]\n",
    "popular_month = last_week_month[\"article_id\"].value_counts().rename_axis(\"article_id\").reset_index(name=\"popular\")\n",
    "transactions_processed = transactions_processed.merge(popular_month, how=\"inner\", on='article_id')"
   ]
  },
  {
   "cell_type": "code",
   "execution_count": 169,
   "id": "9a25cba2",
   "metadata": {},
   "outputs": [],
   "source": []
  },
  {
   "cell_type": "code",
   "execution_count": 213,
   "id": "1459166b",
   "metadata": {},
   "outputs": [],
   "source": [
    "customer_encoder = preprocessing.LabelEncoder()\n",
    "article_encoder = preprocessing.LabelEncoder()\n",
    "transactions_processed['customer_id'] = customer_encoder.fit_transform(transactions_processed['customer_id'])\n",
    "transactions_processed['article_id'] = article_encoder.fit_transform(transactions_processed['article_id'])"
   ]
  },
  {
   "cell_type": "code",
   "execution_count": 214,
   "id": "3a1b3692",
   "metadata": {},
   "outputs": [],
   "source": [
    "transactions_processed = transactions_processed.drop(['t_dat'], axis=1)"
   ]
  },
  {
   "cell_type": "code",
   "execution_count": 215,
   "id": "a9d92461",
   "metadata": {},
   "outputs": [
    {
     "data": {
      "text/html": [
       "<div>\n",
       "<style scoped>\n",
       "    .dataframe tbody tr th:only-of-type {\n",
       "        vertical-align: middle;\n",
       "    }\n",
       "\n",
       "    .dataframe tbody tr th {\n",
       "        vertical-align: top;\n",
       "    }\n",
       "\n",
       "    .dataframe thead th {\n",
       "        text-align: right;\n",
       "    }\n",
       "</style>\n",
       "<table border=\"1\" class=\"dataframe\">\n",
       "  <thead>\n",
       "    <tr style=\"text-align: right;\">\n",
       "      <th></th>\n",
       "      <th>customer_id</th>\n",
       "      <th>age</th>\n",
       "      <th>article_id</th>\n",
       "      <th>price</th>\n",
       "      <th>product_type_no</th>\n",
       "      <th>colour_group_code</th>\n",
       "      <th>ordered</th>\n",
       "      <th>popular</th>\n",
       "    </tr>\n",
       "  </thead>\n",
       "  <tbody>\n",
       "    <tr>\n",
       "      <th>0</th>\n",
       "      <td>78</td>\n",
       "      <td>21.0</td>\n",
       "      <td>223</td>\n",
       "      <td>0.008458</td>\n",
       "      <td>253</td>\n",
       "      <td>9</td>\n",
       "      <td>1</td>\n",
       "      <td>1</td>\n",
       "    </tr>\n",
       "    <tr>\n",
       "      <th>1</th>\n",
       "      <td>378</td>\n",
       "      <td>52.0</td>\n",
       "      <td>223</td>\n",
       "      <td>0.008458</td>\n",
       "      <td>253</td>\n",
       "      <td>9</td>\n",
       "      <td>1</td>\n",
       "      <td>1</td>\n",
       "    </tr>\n",
       "    <tr>\n",
       "      <th>2</th>\n",
       "      <td>420</td>\n",
       "      <td>24.0</td>\n",
       "      <td>223</td>\n",
       "      <td>0.006915</td>\n",
       "      <td>253</td>\n",
       "      <td>9</td>\n",
       "      <td>1</td>\n",
       "      <td>1</td>\n",
       "    </tr>\n",
       "    <tr>\n",
       "      <th>3</th>\n",
       "      <td>552</td>\n",
       "      <td>51.0</td>\n",
       "      <td>223</td>\n",
       "      <td>0.008458</td>\n",
       "      <td>253</td>\n",
       "      <td>9</td>\n",
       "      <td>1</td>\n",
       "      <td>1</td>\n",
       "    </tr>\n",
       "    <tr>\n",
       "      <th>4</th>\n",
       "      <td>664</td>\n",
       "      <td>38.0</td>\n",
       "      <td>223</td>\n",
       "      <td>0.008458</td>\n",
       "      <td>253</td>\n",
       "      <td>9</td>\n",
       "      <td>1</td>\n",
       "      <td>1</td>\n",
       "    </tr>\n",
       "  </tbody>\n",
       "</table>\n",
       "</div>"
      ],
      "text/plain": [
       "   customer_id   age  article_id     price  product_type_no  \\\n",
       "0           78  21.0         223  0.008458              253   \n",
       "1          378  52.0         223  0.008458              253   \n",
       "2          420  24.0         223  0.006915              253   \n",
       "3          552  51.0         223  0.008458              253   \n",
       "4          664  38.0         223  0.008458              253   \n",
       "\n",
       "   colour_group_code  ordered  popular  \n",
       "0                  9        1        1  \n",
       "1                  9        1        1  \n",
       "2                  9        1        1  \n",
       "3                  9        1        1  \n",
       "4                  9        1        1  "
      ]
     },
     "execution_count": 215,
     "metadata": {},
     "output_type": "execute_result"
    }
   ],
   "source": [
    "transactions_processed.head()"
   ]
  },
  {
   "cell_type": "code",
   "execution_count": 216,
   "id": "78c92372",
   "metadata": {},
   "outputs": [],
   "source": [
    "X_train, X_test, y_train, y_test = train_test_split(transactions_processed.drop('ordered', axis=1), transactions_processed['ordered'], test_size=0.10, random_state=42)"
   ]
  },
  {
   "cell_type": "code",
   "execution_count": 217,
   "id": "4b11bd8f",
   "metadata": {},
   "outputs": [
    {
     "data": {
      "text/html": [
       "<div>\n",
       "<style scoped>\n",
       "    .dataframe tbody tr th:only-of-type {\n",
       "        vertical-align: middle;\n",
       "    }\n",
       "\n",
       "    .dataframe tbody tr th {\n",
       "        vertical-align: top;\n",
       "    }\n",
       "\n",
       "    .dataframe thead th {\n",
       "        text-align: right;\n",
       "    }\n",
       "</style>\n",
       "<table border=\"1\" class=\"dataframe\">\n",
       "  <thead>\n",
       "    <tr style=\"text-align: right;\">\n",
       "      <th></th>\n",
       "      <th>customer_id</th>\n",
       "      <th>age</th>\n",
       "      <th>article_id</th>\n",
       "      <th>price</th>\n",
       "      <th>product_type_no</th>\n",
       "      <th>colour_group_code</th>\n",
       "      <th>popular</th>\n",
       "    </tr>\n",
       "  </thead>\n",
       "  <tbody>\n",
       "    <tr>\n",
       "      <th>637</th>\n",
       "      <td>402</td>\n",
       "      <td>26.0</td>\n",
       "      <td>44</td>\n",
       "      <td>0.050831</td>\n",
       "      <td>272</td>\n",
       "      <td>9</td>\n",
       "      <td>1</td>\n",
       "    </tr>\n",
       "    <tr>\n",
       "      <th>1151</th>\n",
       "      <td>0</td>\n",
       "      <td>31.0</td>\n",
       "      <td>21</td>\n",
       "      <td>0.025407</td>\n",
       "      <td>259</td>\n",
       "      <td>10</td>\n",
       "      <td>1</td>\n",
       "    </tr>\n",
       "    <tr>\n",
       "      <th>619</th>\n",
       "      <td>653</td>\n",
       "      <td>28.0</td>\n",
       "      <td>265</td>\n",
       "      <td>0.022864</td>\n",
       "      <td>298</td>\n",
       "      <td>9</td>\n",
       "      <td>1</td>\n",
       "    </tr>\n",
       "    <tr>\n",
       "      <th>1319</th>\n",
       "      <td>283</td>\n",
       "      <td>40.0</td>\n",
       "      <td>20</td>\n",
       "      <td>0.030492</td>\n",
       "      <td>306</td>\n",
       "      <td>10</td>\n",
       "      <td>1</td>\n",
       "    </tr>\n",
       "    <tr>\n",
       "      <th>602</th>\n",
       "      <td>110</td>\n",
       "      <td>33.0</td>\n",
       "      <td>0</td>\n",
       "      <td>0.011288</td>\n",
       "      <td>273</td>\n",
       "      <td>9</td>\n",
       "      <td>1</td>\n",
       "    </tr>\n",
       "  </tbody>\n",
       "</table>\n",
       "</div>"
      ],
      "text/plain": [
       "      customer_id   age  article_id     price  product_type_no  \\\n",
       "637           402  26.0          44  0.050831              272   \n",
       "1151            0  31.0          21  0.025407              259   \n",
       "619           653  28.0         265  0.022864              298   \n",
       "1319          283  40.0          20  0.030492              306   \n",
       "602           110  33.0           0  0.011288              273   \n",
       "\n",
       "      colour_group_code  popular  \n",
       "637                   9        1  \n",
       "1151                 10        1  \n",
       "619                   9        1  \n",
       "1319                 10        1  \n",
       "602                   9        1  "
      ]
     },
     "execution_count": 217,
     "metadata": {},
     "output_type": "execute_result"
    }
   ],
   "source": [
    "X_train.head()"
   ]
  },
  {
   "cell_type": "code",
   "execution_count": 218,
   "id": "5325fee2",
   "metadata": {},
   "outputs": [],
   "source": [
    "baseline = LogisticRegression(random_state=42)\n",
    "baseline = baseline.fit(X_train, y_train)"
   ]
  },
  {
   "cell_type": "code",
   "execution_count": 219,
   "id": "47a3ff33",
   "metadata": {},
   "outputs": [
    {
     "data": {
      "text/plain": [
       "0.7307692307692307"
      ]
     },
     "execution_count": 219,
     "metadata": {},
     "output_type": "execute_result"
    }
   ],
   "source": [
    "baseline.score(X_test, y_test)"
   ]
  },
  {
   "cell_type": "code",
   "execution_count": 206,
   "id": "9b782f7a",
   "metadata": {},
   "outputs": [
    {
     "name": "stdout",
     "output_type": "stream",
     "text": [
      "              precision    recall  f1-score   support\n",
      "\n",
      "           0       0.53      0.45      0.49      3284\n",
      "           1       0.51      0.59      0.55      3184\n",
      "\n",
      "    accuracy                           0.52      6468\n",
      "   macro avg       0.52      0.52      0.52      6468\n",
      "weighted avg       0.52      0.52      0.52      6468\n",
      "\n"
     ]
    }
   ],
   "source": [
    "predictions = baseline.predict(X_test)\n",
    "print(classification_report(y_test, predictions))"
   ]
  },
  {
   "cell_type": "code",
   "execution_count": null,
   "id": "d1d37183",
   "metadata": {},
   "outputs": [],
   "source": []
  },
  {
   "cell_type": "code",
   "execution_count": null,
   "id": "cee205fd",
   "metadata": {},
   "outputs": [],
   "source": []
  },
  {
   "cell_type": "code",
   "execution_count": null,
   "id": "e4115261",
   "metadata": {},
   "outputs": [],
   "source": []
  },
  {
   "cell_type": "code",
   "execution_count": null,
   "id": "f5b52920",
   "metadata": {},
   "outputs": [],
   "source": []
  },
  {
   "cell_type": "code",
   "execution_count": null,
   "id": "0c1fcf0d",
   "metadata": {},
   "outputs": [],
   "source": []
  },
  {
   "cell_type": "code",
   "execution_count": null,
   "id": "0e4c7903",
   "metadata": {},
   "outputs": [],
   "source": []
  },
  {
   "cell_type": "code",
   "execution_count": null,
   "id": "412e2da2",
   "metadata": {},
   "outputs": [],
   "source": []
  },
  {
   "cell_type": "code",
   "execution_count": null,
   "id": "2eb168fe",
   "metadata": {},
   "outputs": [],
   "source": []
  },
  {
   "cell_type": "code",
   "execution_count": null,
   "id": "3dba8229",
   "metadata": {},
   "outputs": [],
   "source": []
  }
 ],
 "metadata": {
  "kernelspec": {
   "display_name": "Python 3 (ipykernel)",
   "language": "python",
   "name": "python3"
  },
  "language_info": {
   "codemirror_mode": {
    "name": "ipython",
    "version": 3
   },
   "file_extension": ".py",
   "mimetype": "text/x-python",
   "name": "python",
   "nbconvert_exporter": "python",
   "pygments_lexer": "ipython3",
   "version": "3.9.12"
  }
 },
 "nbformat": 4,
 "nbformat_minor": 5
}
