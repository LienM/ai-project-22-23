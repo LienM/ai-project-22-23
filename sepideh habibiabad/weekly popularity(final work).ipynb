{
 "cells": [
  {
   "cell_type": "code",
   "execution_count": 1,
   "id": "a497ece2",
   "metadata": {},
   "outputs": [],
   "source": [
    "import matplotlib.pyplot as plt\n",
    "import numpy as np\n",
    "import pandas as pd\n",
    "import seaborn as sns\n",
    "from sklearn import preprocessing\n",
    "from sklearn.cluster import KMeans\n",
    "from datetime import  timedelta\n",
    "from sklearn.metrics import silhouette_score"
   ]
  },
  {
   "cell_type": "markdown",
   "id": "5192ce5c",
   "metadata": {},
   "source": [
    "# Reading the transaction dataset and transformation"
   ]
  },
  {
   "cell_type": "code",
   "execution_count": 2,
   "id": "b1419e92",
   "metadata": {},
   "outputs": [],
   "source": [
    "df_org  = pd.read_csv('C:/Users/sepid/Desktop/H & m/transactions_train.csv',\n",
    "                        usecols= ['t_dat', 'customer_id', 'article_id'], \n",
    "                        dtype={'article_id': 'int32', 't_dat': 'string', 'customer_id': 'string'}) \n",
    "df_org['t_dat'] = pd.to_datetime(df_org['t_dat'])"
   ]
  },
  {
   "cell_type": "code",
   "execution_count": 3,
   "id": "e2d66ad9",
   "metadata": {},
   "outputs": [
    {
     "data": {
      "text/plain": [
       "t_dat          0\n",
       "customer_id    0\n",
       "article_id     0\n",
       "dtype: int64"
      ]
     },
     "execution_count": 3,
     "metadata": {},
     "output_type": "execute_result"
    }
   ],
   "source": [
    "# there are no null values\n",
    "df_org.isna().sum()"
   ]
  },
  {
   "cell_type": "markdown",
   "id": "7957c9b2",
   "metadata": {},
   "source": [
    "in the first part, there is no customer clustering and its recommendation solely on popularity of products."
   ]
  },
  {
   "cell_type": "markdown",
   "id": "31607b2a",
   "metadata": {},
   "source": [
    "# weekly popularity qoutient"
   ]
  },
  {
   "cell_type": "markdown",
   "id": "763c65d0",
   "metadata": {},
   "source": [
    "For popularity, I calculated the weekly purchase amount of every article then divided each to the last week purchse amount. (if no purchase then its 0). then summing them all for each product and we can consider this as a raw rank and based on that we choose 12 best rank."
   ]
  },
  {
   "cell_type": "code",
   "execution_count": 9,
   "id": "5da97317",
   "metadata": {},
   "outputs": [],
   "source": [
    "# Create a copy of the original DataFrame to perform transformations on\n",
    "df = df_org.copy()\n",
    "\n",
    "# Transformation: Convert hexadecimal customer IDs to int64\n",
    "df['customer_id'] = df['customer_id'].apply(lambda x: int(x[-16:],16) ).astype('int64')\n",
    "\n",
    "# Find the maximum purchase date in the dataset which is 2020-09-22 and it is Tuesday\n",
    "last_ts = df['t_dat'].max()\n",
    "\n",
    "# Calculate weekly counts of purchases starting from every Tuesday to the next Tuesday\n",
    "# Create a temporary DataFrame to store the date and its day of the week\n",
    "tmp = df[['t_dat']].copy()\n",
    "tmp['dow'] = tmp['t_dat'].dt.dayofweek\n",
    "\n",
    "# Calculate the last Tuesday's date for each purchase date\n",
    "# for example if it is Thursday it will return 2 days before and if it is Monday it will return date of tomorrow\n",
    "tmp['ldbw'] = tmp['t_dat'] - pd.TimedeltaIndex(tmp['dow'] - 1, unit='D')\n",
    "\n",
    "#calculating the next Tuesday \n",
    "tmp.loc[tmp['dow'] >=2 , 'ldbw'] = tmp.loc[tmp['dow'] >=2 , 'ldbw'] + pd.TimedeltaIndex(np.ones(len(tmp.loc[tmp['dow'] >=2])) * 7, unit='D')\n",
    "\n",
    "# Add the 'ldbw' column to df\n",
    "df['ldbw'] = tmp['ldbw'].values\n",
    "\n",
    "## Count the number of purchases for each product and week (grouping products with lbdw)\n",
    "weekly_sales = df.drop('customer_id', axis=1).groupby(['ldbw', 'article_id']).count().reset_index()\n",
    "weekly_sales = weekly_sales.rename(columns={'t_dat': 'count'})\n",
    "\n",
    "# Merge the weekly sales counts back into the main DataFrame\n",
    "df = df.merge(weekly_sales, on=['ldbw', 'article_id'], how = 'left')\n",
    "# Reset and set the index for 'article_id' for later use\n",
    "weekly_sales = weekly_sales.reset_index().set_index('article_id')\n",
    "\n",
    "# Count the amount of last week's purchases for each product   \n",
    "df = df.merge(\n",
    "    weekly_sales.loc[weekly_sales['ldbw']==last_ts, ['count']],\n",
    "    on='article_id', suffixes=(\"\", \"_targ\"))\n",
    "\n",
    "# Fill missing values with 0 for products that had no purchases in the last week\n",
    "df['count_targ'].fillna(0, inplace=True)\n",
    "del weekly_sales\n",
    "\n",
    "# Calculate the quotient for each product, which is the last week's purchases divided by each week's purchases\n",
    "df['quotient'] = df['count_targ'] / df['count']\n",
    "\n",
    "# Sum all quotients for each product to create a target sales score\n",
    "target_sales = df.drop('customer_id', axis=1).groupby('article_id')['quotient'].sum()\n",
    "\n",
    "# Find the top 12 products with the highest target sales scores for recommendation\n",
    "general_pred = target_sales.nlargest(12).index.tolist()\n",
    "general_pred = ['0' + str(article_id) for article_id in general_pred]\n",
    "general_pred_str =  ' '.join(general_pred)\n",
    "\n",
    "# Read the submission file and concatenate the predicted products for each customer\n",
    "sub  = pd.read_csv('C:/Users/sepid/Desktop/H & m/sample_submission.csv',\n",
    "                    usecols= ['customer_id'], \n",
    "                    dtype={'customer_id': 'string'})\n",
    "sub['prediction'] = general_pred_str\n",
    "sub = sub[['customer_id', 'prediction']]\n",
    "sub.to_csv('C:/Users/sepid/Desktop/H & m/submission_.csv',index=False)\n",
    "# this has public score of 0.00508 and private score of 0.00559"
   ]
  },
  {
   "cell_type": "markdown",
   "id": "131a8944",
   "metadata": {},
   "source": [
    "# weighted weekly popularity "
   ]
  },
  {
   "cell_type": "markdown",
   "id": "b7b4f939",
   "metadata": {},
   "source": [
    "From previous popularity, each article, can have different quotient scores based on having different amount of purchase in different weeks.\n",
    "In this section I considered a weight given to each row of purchase based on the date of the transaction. So the older the purchase is, the smaller the weight it becomes. this weight will be multiplied by quotient and creating new score. then for every customer and every article this new score will be summed up and 12 highest score will be kept and recommended to the customer. if the customer has less than 12 historical purchase, then to fill 12 articles, the rest will be recommended from general recommendation."
   ]
  },
  {
   "cell_type": "code",
   "execution_count": 26,
   "id": "8ba4bad2",
   "metadata": {},
   "outputs": [
    {
     "data": {
      "text/plain": [
       "<function matplotlib.pyplot.show(close=None, block=None)>"
      ]
     },
     "execution_count": 26,
     "metadata": {},
     "output_type": "execute_result"
    },
    {
     "data": {
      "image/png": "[encoded data removed]",
      "text/plain": [
       "<Figure size 640x480 with 1 Axes>"
      ]
     },
     "metadata": {},
     "output_type": "display_data"
    }
   ],
   "source": [
    "# a weightning function is created like the plot below\n",
    "a, b, c, d = 2.5e4, 1.5e5, 2e-1, 1e3\n",
    "x = np.array(range(0, 100))\n",
    "y = a / np.sqrt((x+1)) + b * np.exp(-c * (x+1)) - d\n",
    "plt.plot(x, y)\n",
    "plt.xlabel(\"delta [days]\")\n",
    "plt.ylabel(\"Weight\")\n",
    "plt.show"
   ]
  },
  {
   "cell_type": "code",
   "execution_count": 8,
   "id": "e07dbebf",
   "metadata": {},
   "outputs": [
    {
     "data": {
      "text/html": [
       "<div>\n",
       "<style scoped>\n",
       "    .dataframe tbody tr th:only-of-type {\n",
       "        vertical-align: middle;\n",
       "    }\n",
       "\n",
       "    .dataframe tbody tr th {\n",
       "        vertical-align: top;\n",
       "    }\n",
       "\n",
       "    .dataframe thead th {\n",
       "        text-align: right;\n",
       "    }\n",
       "</style>\n",
       "<table border=\"1\" class=\"dataframe\">\n",
       "  <thead>\n",
       "    <tr style=\"text-align: right;\">\n",
       "      <th></th>\n",
       "      <th>t_dat</th>\n",
       "      <th>customer_id</th>\n",
       "      <th>article_id</th>\n",
       "      <th>ldbw</th>\n",
       "      <th>count</th>\n",
       "      <th>count_targ</th>\n",
       "      <th>quotient</th>\n",
       "      <th>x</th>\n",
       "      <th>dummy_1</th>\n",
       "      <th>y</th>\n",
       "      <th>dummy_0</th>\n",
       "      <th>value</th>\n",
       "    </tr>\n",
       "  </thead>\n",
       "  <tbody>\n",
       "    <tr>\n",
       "      <th>0</th>\n",
       "      <td>2018-09-20</td>\n",
       "      <td>-2680555179758308952</td>\n",
       "      <td>377277001</td>\n",
       "      <td>2018-09-25</td>\n",
       "      <td>25</td>\n",
       "      <td>1</td>\n",
       "      <td>0.04</td>\n",
       "      <td>733</td>\n",
       "      <td>1</td>\n",
       "      <td>0.000000</td>\n",
       "      <td>0</td>\n",
       "      <td>0.000000</td>\n",
       "    </tr>\n",
       "    <tr>\n",
       "      <th>1</th>\n",
       "      <td>2018-09-20</td>\n",
       "      <td>-2680555179758308952</td>\n",
       "      <td>377277001</td>\n",
       "      <td>2018-09-25</td>\n",
       "      <td>25</td>\n",
       "      <td>1</td>\n",
       "      <td>0.04</td>\n",
       "      <td>733</td>\n",
       "      <td>1</td>\n",
       "      <td>0.000000</td>\n",
       "      <td>0</td>\n",
       "      <td>0.000000</td>\n",
       "    </tr>\n",
       "    <tr>\n",
       "      <th>2</th>\n",
       "      <td>2018-09-21</td>\n",
       "      <td>9142220995662993228</td>\n",
       "      <td>377277001</td>\n",
       "      <td>2018-09-25</td>\n",
       "      <td>25</td>\n",
       "      <td>1</td>\n",
       "      <td>0.04</td>\n",
       "      <td>732</td>\n",
       "      <td>1</td>\n",
       "      <td>0.000000</td>\n",
       "      <td>0</td>\n",
       "      <td>0.000000</td>\n",
       "    </tr>\n",
       "    <tr>\n",
       "      <th>3</th>\n",
       "      <td>2018-09-21</td>\n",
       "      <td>-768637430091632237</td>\n",
       "      <td>377277001</td>\n",
       "      <td>2018-09-25</td>\n",
       "      <td>25</td>\n",
       "      <td>1</td>\n",
       "      <td>0.04</td>\n",
       "      <td>732</td>\n",
       "      <td>1</td>\n",
       "      <td>0.000000</td>\n",
       "      <td>0</td>\n",
       "      <td>0.000000</td>\n",
       "    </tr>\n",
       "    <tr>\n",
       "      <th>4</th>\n",
       "      <td>2018-09-23</td>\n",
       "      <td>7630809113904913554</td>\n",
       "      <td>377277001</td>\n",
       "      <td>2018-09-25</td>\n",
       "      <td>25</td>\n",
       "      <td>1</td>\n",
       "      <td>0.04</td>\n",
       "      <td>730</td>\n",
       "      <td>1</td>\n",
       "      <td>0.000000</td>\n",
       "      <td>0</td>\n",
       "      <td>0.000000</td>\n",
       "    </tr>\n",
       "    <tr>\n",
       "      <th>...</th>\n",
       "      <td>...</td>\n",
       "      <td>...</td>\n",
       "      <td>...</td>\n",
       "      <td>...</td>\n",
       "      <td>...</td>\n",
       "      <td>...</td>\n",
       "      <td>...</td>\n",
       "      <td>...</td>\n",
       "      <td>...</td>\n",
       "      <td>...</td>\n",
       "      <td>...</td>\n",
       "      <td>...</td>\n",
       "    </tr>\n",
       "    <tr>\n",
       "      <th>12541131</th>\n",
       "      <td>2020-09-22</td>\n",
       "      <td>5442673980601289540</td>\n",
       "      <td>860135008</td>\n",
       "      <td>2020-09-22</td>\n",
       "      <td>1</td>\n",
       "      <td>1</td>\n",
       "      <td>1.00</td>\n",
       "      <td>1</td>\n",
       "      <td>1</td>\n",
       "      <td>117225.676435</td>\n",
       "      <td>0</td>\n",
       "      <td>117225.676435</td>\n",
       "    </tr>\n",
       "    <tr>\n",
       "      <th>12541132</th>\n",
       "      <td>2020-09-22</td>\n",
       "      <td>5442673980601289540</td>\n",
       "      <td>539060028</td>\n",
       "      <td>2020-09-22</td>\n",
       "      <td>2</td>\n",
       "      <td>2</td>\n",
       "      <td>1.00</td>\n",
       "      <td>1</td>\n",
       "      <td>1</td>\n",
       "      <td>117225.676435</td>\n",
       "      <td>0</td>\n",
       "      <td>117225.676435</td>\n",
       "    </tr>\n",
       "    <tr>\n",
       "      <th>12541133</th>\n",
       "      <td>2020-09-22</td>\n",
       "      <td>5442673980601289540</td>\n",
       "      <td>539060028</td>\n",
       "      <td>2020-09-22</td>\n",
       "      <td>2</td>\n",
       "      <td>2</td>\n",
       "      <td>1.00</td>\n",
       "      <td>1</td>\n",
       "      <td>1</td>\n",
       "      <td>117225.676435</td>\n",
       "      <td>0</td>\n",
       "      <td>117225.676435</td>\n",
       "    </tr>\n",
       "    <tr>\n",
       "      <th>12541134</th>\n",
       "      <td>2020-09-22</td>\n",
       "      <td>-6999381269962475342</td>\n",
       "      <td>810737015</td>\n",
       "      <td>2020-09-22</td>\n",
       "      <td>1</td>\n",
       "      <td>1</td>\n",
       "      <td>1.00</td>\n",
       "      <td>1</td>\n",
       "      <td>1</td>\n",
       "      <td>117225.676435</td>\n",
       "      <td>0</td>\n",
       "      <td>117225.676435</td>\n",
       "    </tr>\n",
       "    <tr>\n",
       "      <th>12541135</th>\n",
       "      <td>2020-09-22</td>\n",
       "      <td>-1420550245643907830</td>\n",
       "      <td>533261032</td>\n",
       "      <td>2020-09-22</td>\n",
       "      <td>1</td>\n",
       "      <td>1</td>\n",
       "      <td>1.00</td>\n",
       "      <td>1</td>\n",
       "      <td>1</td>\n",
       "      <td>117225.676435</td>\n",
       "      <td>0</td>\n",
       "      <td>117225.676435</td>\n",
       "    </tr>\n",
       "  </tbody>\n",
       "</table>\n",
       "<p>12541136 rows × 12 columns</p>\n",
       "</div>"
      ],
      "text/plain": [
       "              t_dat          customer_id  article_id       ldbw  count  \\\n",
       "0        2018-09-20 -2680555179758308952   377277001 2018-09-25     25   \n",
       "1        2018-09-20 -2680555179758308952   377277001 2018-09-25     25   \n",
       "2        2018-09-21  9142220995662993228   377277001 2018-09-25     25   \n",
       "3        2018-09-21  -768637430091632237   377277001 2018-09-25     25   \n",
       "4        2018-09-23  7630809113904913554   377277001 2018-09-25     25   \n",
       "...             ...                  ...         ...        ...    ...   \n",
       "12541131 2020-09-22  5442673980601289540   860135008 2020-09-22      1   \n",
       "12541132 2020-09-22  5442673980601289540   539060028 2020-09-22      2   \n",
       "12541133 2020-09-22  5442673980601289540   539060028 2020-09-22      2   \n",
       "12541134 2020-09-22 -6999381269962475342   810737015 2020-09-22      1   \n",
       "12541135 2020-09-22 -1420550245643907830   533261032 2020-09-22      1   \n",
       "\n",
       "          count_targ  quotient    x  dummy_1              y  dummy_0  \\\n",
       "0                  1      0.04  733        1       0.000000        0   \n",
       "1                  1      0.04  733        1       0.000000        0   \n",
       "2                  1      0.04  732        1       0.000000        0   \n",
       "3                  1      0.04  732        1       0.000000        0   \n",
       "4                  1      0.04  730        1       0.000000        0   \n",
       "...              ...       ...  ...      ...            ...      ...   \n",
       "12541131           1      1.00    1        1  117225.676435        0   \n",
       "12541132           2      1.00    1        1  117225.676435        0   \n",
       "12541133           2      1.00    1        1  117225.676435        0   \n",
       "12541134           1      1.00    1        1  117225.676435        0   \n",
       "12541135           1      1.00    1        1  117225.676435        0   \n",
       "\n",
       "                  value  \n",
       "0              0.000000  \n",
       "1              0.000000  \n",
       "2              0.000000  \n",
       "3              0.000000  \n",
       "4              0.000000  \n",
       "...                 ...  \n",
       "12541131  117225.676435  \n",
       "12541132  117225.676435  \n",
       "12541133  117225.676435  \n",
       "12541134  117225.676435  \n",
       "12541135  117225.676435  \n",
       "\n",
       "[12541136 rows x 12 columns]"
      ]
     },
     "execution_count": 8,
     "metadata": {},
     "output_type": "execute_result"
    }
   ],
   "source": [
    "# Create a copy of the original DataFrame to perform transformations on\n",
    "df = df_org.copy()\n",
    "\n",
    "# Transformation: Convert hexadecimal customer IDs to int64\n",
    "df['customer_id'] = df['customer_id'].apply(lambda x: int(x[-16:],16) ).astype('int64')\n",
    "\n",
    "# Find the maximum purchase date in the dataset which is 2020-09-22 and it is Tuesday\n",
    "last_ts = df['t_dat'].max()\n",
    "\n",
    "# Calculate weekly counts of purchases starting from every Tuesday to the next Tuesday\n",
    "# Create a temporary DataFrame to store the date and its day of the week\n",
    "tmp = df[['t_dat']].copy()\n",
    "tmp['dow'] = tmp['t_dat'].dt.dayofweek\n",
    "\n",
    "# Calculate the last Tuesday's date for each purchase date\n",
    "# for example if it is Thursday it will return 2 days before and if it is Monday it will return date of tomorrow\n",
    "tmp['ldbw'] = tmp['t_dat'] - pd.TimedeltaIndex(tmp['dow'] - 1, unit='D')\n",
    "\n",
    "# calculating the next Tuesday\n",
    "tmp.loc[tmp['dow'] >=2 , 'ldbw'] = tmp.loc[tmp['dow'] >=2 , 'ldbw'] + pd.TimedeltaIndex(np.ones(len(tmp.loc[tmp['dow'] >=2])) * 7, unit='D')\n",
    "\n",
    "# Add the 'ldbw' column to df\n",
    "df['ldbw'] = tmp['ldbw'].values\n",
    "\n",
    "## Count the number of purchases for each product and week (grouping products with lbdw)\n",
    "weekly_sales = df.drop('customer_id', axis=1).groupby(['ldbw', 'article_id']).count().reset_index()\n",
    "weekly_sales = weekly_sales.rename(columns={'t_dat': 'count'})\n",
    "\n",
    "# Merge the weekly sales counts back into the main DataFrame\n",
    "df = df.merge(weekly_sales, on=['ldbw', 'article_id'], how = 'left')\n",
    "# Reset and set the index for 'article_id' for later use\n",
    "weekly_sales = weekly_sales.reset_index().set_index('article_id')\n",
    "\n",
    "# Count the amount of last week's purchases for each product   \n",
    "df = df.merge(\n",
    "    weekly_sales.loc[weekly_sales['ldbw']==last_ts, ['count']],\n",
    "    on='article_id', suffixes=(\"\", \"_targ\"))\n",
    "\n",
    "# Fill missing values with 0 for products that had no purchases in the last week\n",
    "df['count_targ'].fillna(0, inplace=True)\n",
    "del weekly_sales\n",
    "\n",
    "# Calculate the quotient for each product, which is the last week's purchases divided by each week's purchases\n",
    "df['quotient'] = df['count_targ'] / df['count']\n",
    "\n",
    "# Sum all quotients for each product to create a target sales score\n",
    "target_sales = df.drop('customer_id', axis=1).groupby('article_id')['quotient'].sum()\n",
    "\n",
    "# Find the top 12 products with the highest target sales scores for recommendation\n",
    "general_pred = target_sales.nlargest(12).index.tolist()\n",
    "general_pred = ['0' + str(article_id) for article_id in general_pred]\n",
    "general_pred_str =  ' '.join(general_pred)\n",
    "\n",
    "del target_sales\n",
    "# Perform additional calculations based on time intervals\n",
    "\n",
    "tmp = df.copy()\n",
    "# Calculate the days difference between the last date and the purchase date\n",
    "tmp['x'] = ((last_ts - tmp['t_dat']) / np.timedelta64(1, 'D')).astype(int)\n",
    "\n",
    "# If it's the last date of purchase, substitute 0 for 'x' with 1\n",
    "tmp['dummy_1'] = 1 \n",
    "tmp['x'] = tmp[[\"x\", \"dummy_1\"]].max(axis=1)\n",
    "\n",
    "# Calculate a weight ('y') based on the time difference ('x')\n",
    "tmp['y'] = a / np.sqrt((tmp['x']+1)) + b * np.exp(-c*(tmp['x']+1)) - d\n",
    "\n",
    "# Substitute negative weights with 0\n",
    "tmp['dummy_0'] = 0 \n",
    "tmp['y'] = tmp[[\"y\", \"dummy_0\"]].max(axis=1)\n",
    "\n",
    "# Multiply weights by quotients and creating new score \"value\" then aggregate it for each customer and article\n",
    "tmp['value'] = tmp['quotient'] * tmp['y'] \n",
    "tmp = tmp.groupby(['customer_id', 'article_id']).agg({'value': 'sum'})\n",
    "tmp = tmp.reset_index()\n",
    "\n",
    "# Rank the values and select the top 12 recommendations for each customer\n",
    "tmp = tmp.loc[tmp['value'] > 0]\n",
    "tmp['rank'] = tmp.groupby(\"customer_id\")[\"value\"].rank(\"dense\", ascending=False)\n",
    "tmp = tmp.loc[tmp['rank'] <= 12]\n",
    "\n",
    "# Sort values for each customer and create a string of article_ids and keep it in prediction\n",
    "purchase_df = tmp.sort_values(['customer_id', 'value'], ascending = False).reset_index(drop = True)\n",
    "purchase_df['prediction'] = '0' + purchase_df['article_id'].astype(str) + ' '\n",
    "purchase_df = purchase_df.groupby('customer_id').agg({'prediction': sum}).reset_index()\n",
    "purchase_df['prediction'] = purchase_df['prediction'].str.strip()\n",
    "purchase_df = pd.DataFrame(purchase_df)\n",
    "\n",
    "# Read the submission file\n",
    "sub  = pd.read_csv('C:/Users/sepid/Desktop/H & m/sample_submission.csv',\n",
    "                    usecols= ['customer_id'], \n",
    "                    dtype={'customer_id': 'string'})\n",
    "sub['customer_id2'] = sub['customer_id'].apply(lambda x: int(x[-16:],16) ).astype('int64')\n",
    "sub = sub.merge(purchase_df, left_on = 'customer_id2', right_on = 'customer_id', how = 'left',\n",
    "           suffixes = ('', '_ignored'))\n",
    "\n",
    "# Customers with no purchase history will be recommended with the general prediction (top 12 quotients)\n",
    "sub['prediction'] = sub['prediction'].fillna(general_pred_str)\n",
    "\n",
    "# For customers with existing purchase history, if their number of predictions is less than 12,\n",
    "# the rest will be filled with general predictions\n",
    "sub['prediction'] = sub['prediction'] + ' ' +  general_pred_str\n",
    "sub['prediction'] = sub['prediction'].str.strip()\n",
    "sub['prediction'] = sub['prediction'].str[:131]\n",
    "sub = sub[['customer_id', 'prediction']]\n",
    "sub.to_csv('C:/Users/sepid/Desktop/H & m/submission_.csv',index=False)\n",
    "# this has public score of 0.02232 and private score of 0.02249"
   ]
  },
  {
   "cell_type": "markdown",
   "id": "f04005e0",
   "metadata": {},
   "source": [
    "# popularity only with 2 last weeks quotient"
   ]
  },
  {
   "cell_type": "markdown",
   "id": "f3362a17",
   "metadata": {},
   "source": [
    "In this section I examined how the score will be changed if instead of last week I choose the last two weeks for quotient division.\n",
    "(the rest of the code going to be unchanged)"
   ]
  },
  {
   "cell_type": "code",
   "execution_count": 12,
   "id": "1221ab88",
   "metadata": {},
   "outputs": [
    {
     "data": {
      "text/html": [
       "<div>\n",
       "<style scoped>\n",
       "    .dataframe tbody tr th:only-of-type {\n",
       "        vertical-align: middle;\n",
       "    }\n",
       "\n",
       "    .dataframe tbody tr th {\n",
       "        vertical-align: top;\n",
       "    }\n",
       "\n",
       "    .dataframe thead th {\n",
       "        text-align: right;\n",
       "    }\n",
       "</style>\n",
       "<table border=\"1\" class=\"dataframe\">\n",
       "  <thead>\n",
       "    <tr style=\"text-align: right;\">\n",
       "      <th></th>\n",
       "      <th>t_dat</th>\n",
       "      <th>customer_id</th>\n",
       "      <th>article_id</th>\n",
       "      <th>ldbw</th>\n",
       "      <th>count</th>\n",
       "      <th>count_targ1</th>\n",
       "      <th>count_targ2</th>\n",
       "      <th>count_targ</th>\n",
       "      <th>quotient</th>\n",
       "    </tr>\n",
       "  </thead>\n",
       "  <tbody>\n",
       "    <tr>\n",
       "      <th>0</th>\n",
       "      <td>2018-09-20</td>\n",
       "      <td>-232048505547517783</td>\n",
       "      <td>573937001</td>\n",
       "      <td>2018-09-25</td>\n",
       "      <td>213</td>\n",
       "      <td>7</td>\n",
       "      <td>3</td>\n",
       "      <td>10</td>\n",
       "      <td>0.046948</td>\n",
       "    </tr>\n",
       "    <tr>\n",
       "      <th>1</th>\n",
       "      <td>2018-09-20</td>\n",
       "      <td>27523763215971119</td>\n",
       "      <td>573937001</td>\n",
       "      <td>2018-09-25</td>\n",
       "      <td>213</td>\n",
       "      <td>7</td>\n",
       "      <td>3</td>\n",
       "      <td>10</td>\n",
       "      <td>0.046948</td>\n",
       "    </tr>\n",
       "    <tr>\n",
       "      <th>2</th>\n",
       "      <td>2018-09-20</td>\n",
       "      <td>6291940812455747255</td>\n",
       "      <td>573937001</td>\n",
       "      <td>2018-09-25</td>\n",
       "      <td>213</td>\n",
       "      <td>7</td>\n",
       "      <td>3</td>\n",
       "      <td>10</td>\n",
       "      <td>0.046948</td>\n",
       "    </tr>\n",
       "    <tr>\n",
       "      <th>3</th>\n",
       "      <td>2018-09-20</td>\n",
       "      <td>8198980377844517220</td>\n",
       "      <td>573937001</td>\n",
       "      <td>2018-09-25</td>\n",
       "      <td>213</td>\n",
       "      <td>7</td>\n",
       "      <td>3</td>\n",
       "      <td>10</td>\n",
       "      <td>0.046948</td>\n",
       "    </tr>\n",
       "    <tr>\n",
       "      <th>4</th>\n",
       "      <td>2018-09-20</td>\n",
       "      <td>8198980377844517220</td>\n",
       "      <td>573937001</td>\n",
       "      <td>2018-09-25</td>\n",
       "      <td>213</td>\n",
       "      <td>7</td>\n",
       "      <td>3</td>\n",
       "      <td>10</td>\n",
       "      <td>0.046948</td>\n",
       "    </tr>\n",
       "    <tr>\n",
       "      <th>...</th>\n",
       "      <td>...</td>\n",
       "      <td>...</td>\n",
       "      <td>...</td>\n",
       "      <td>...</td>\n",
       "      <td>...</td>\n",
       "      <td>...</td>\n",
       "      <td>...</td>\n",
       "      <td>...</td>\n",
       "      <td>...</td>\n",
       "    </tr>\n",
       "    <tr>\n",
       "      <th>11068946</th>\n",
       "      <td>2020-09-17</td>\n",
       "      <td>5771585948373285519</td>\n",
       "      <td>881049001</td>\n",
       "      <td>2020-09-22</td>\n",
       "      <td>6</td>\n",
       "      <td>6</td>\n",
       "      <td>1</td>\n",
       "      <td>7</td>\n",
       "      <td>1.166667</td>\n",
       "    </tr>\n",
       "    <tr>\n",
       "      <th>11068947</th>\n",
       "      <td>2020-09-17</td>\n",
       "      <td>-8696939418798805323</td>\n",
       "      <td>881049001</td>\n",
       "      <td>2020-09-22</td>\n",
       "      <td>6</td>\n",
       "      <td>6</td>\n",
       "      <td>1</td>\n",
       "      <td>7</td>\n",
       "      <td>1.166667</td>\n",
       "    </tr>\n",
       "    <tr>\n",
       "      <th>11068948</th>\n",
       "      <td>2020-09-18</td>\n",
       "      <td>3899568626620664025</td>\n",
       "      <td>881049001</td>\n",
       "      <td>2020-09-22</td>\n",
       "      <td>6</td>\n",
       "      <td>6</td>\n",
       "      <td>1</td>\n",
       "      <td>7</td>\n",
       "      <td>1.166667</td>\n",
       "    </tr>\n",
       "    <tr>\n",
       "      <th>11068949</th>\n",
       "      <td>2020-09-20</td>\n",
       "      <td>9195727427654827124</td>\n",
       "      <td>881049001</td>\n",
       "      <td>2020-09-22</td>\n",
       "      <td>6</td>\n",
       "      <td>6</td>\n",
       "      <td>1</td>\n",
       "      <td>7</td>\n",
       "      <td>1.166667</td>\n",
       "    </tr>\n",
       "    <tr>\n",
       "      <th>11068950</th>\n",
       "      <td>2020-09-21</td>\n",
       "      <td>-6121245547098232748</td>\n",
       "      <td>881049001</td>\n",
       "      <td>2020-09-22</td>\n",
       "      <td>6</td>\n",
       "      <td>6</td>\n",
       "      <td>1</td>\n",
       "      <td>7</td>\n",
       "      <td>1.166667</td>\n",
       "    </tr>\n",
       "  </tbody>\n",
       "</table>\n",
       "<p>11068951 rows × 9 columns</p>\n",
       "</div>"
      ],
      "text/plain": [
       "              t_dat          customer_id  article_id       ldbw  count  \\\n",
       "0        2018-09-20  -232048505547517783   573937001 2018-09-25    213   \n",
       "1        2018-09-20    27523763215971119   573937001 2018-09-25    213   \n",
       "2        2018-09-20  6291940812455747255   573937001 2018-09-25    213   \n",
       "3        2018-09-20  8198980377844517220   573937001 2018-09-25    213   \n",
       "4        2018-09-20  8198980377844517220   573937001 2018-09-25    213   \n",
       "...             ...                  ...         ...        ...    ...   \n",
       "11068946 2020-09-17  5771585948373285519   881049001 2020-09-22      6   \n",
       "11068947 2020-09-17 -8696939418798805323   881049001 2020-09-22      6   \n",
       "11068948 2020-09-18  3899568626620664025   881049001 2020-09-22      6   \n",
       "11068949 2020-09-20  9195727427654827124   881049001 2020-09-22      6   \n",
       "11068950 2020-09-21 -6121245547098232748   881049001 2020-09-22      6   \n",
       "\n",
       "          count_targ1  count_targ2  count_targ  quotient  \n",
       "0                   7            3          10  0.046948  \n",
       "1                   7            3          10  0.046948  \n",
       "2                   7            3          10  0.046948  \n",
       "3                   7            3          10  0.046948  \n",
       "4                   7            3          10  0.046948  \n",
       "...               ...          ...         ...       ...  \n",
       "11068946            6            1           7  1.166667  \n",
       "11068947            6            1           7  1.166667  \n",
       "11068948            6            1           7  1.166667  \n",
       "11068949            6            1           7  1.166667  \n",
       "11068950            6            1           7  1.166667  \n",
       "\n",
       "[11068951 rows x 9 columns]"
      ]
     },
     "execution_count": 12,
     "metadata": {},
     "output_type": "execute_result"
    }
   ],
   "source": [
    "# Create a copy of the original DataFrame to perform transformations on\n",
    "df = df_org.copy()\n",
    "\n",
    "# Transformation: Convert hexadecimal customer IDs to int64\n",
    "df['customer_id'] = df['customer_id'].apply(lambda x: int(x[-16:],16) ).astype('int64')\n",
    "\n",
    "# Find the maximum purchase date in the dataset which is 2020-09-22 and it is Tuesday\n",
    "last_ts = df['t_dat'].max()\n",
    "\n",
    "#calculating also the tuesday before the last tuesday\n",
    "notLast_ts = last_ts - timedelta(days=7)\n",
    "\n",
    "# Calculate weekly counts of purchases starting from every Tuesday to the next Tuesday\n",
    "# Create a temporary DataFrame to store the date and its day of the week\n",
    "tmp = df[['t_dat']].copy()\n",
    "tmp['dow'] = tmp['t_dat'].dt.dayofweek\n",
    "\n",
    "# Calculate the last Tuesday's date for each purchase date\n",
    "# for example if it is Thursday it will return 2 days before and if it is Monday it will return date of tomorrow\n",
    "tmp['ldbw'] = tmp['t_dat'] - pd.TimedeltaIndex(tmp['dow'] - 1, unit='D')\n",
    "\n",
    "# calculating the next Tuesday\n",
    "tmp.loc[tmp['dow'] >=2 , 'ldbw'] = tmp.loc[tmp['dow'] >=2 , 'ldbw'] + pd.TimedeltaIndex(np.ones(len(tmp.loc[tmp['dow'] >=2])) * 7, unit='D')\n",
    "\n",
    "# Add the 'ldbw' column to df\n",
    "df['ldbw'] = tmp['ldbw'].values\n",
    "\n",
    "## Count the number of purchases for each product and week (grouping products with lbdw)\n",
    "weekly_sales = df.drop('customer_id', axis=1).groupby(['ldbw', 'article_id']).count().reset_index()\n",
    "weekly_sales = weekly_sales.rename(columns={'t_dat': 'count'})\n",
    "\n",
    "# Merge the weekly sales counts back into the main DataFrame\n",
    "df = df.merge(weekly_sales, on=['ldbw', 'article_id'], how = 'left')\n",
    "# Reset and set the index for 'article_id' for later use\n",
    "weekly_sales = weekly_sales.reset_index().set_index('article_id')\n",
    "\n",
    "# Count the amount of last week's purchases for each product   \n",
    "df = df.merge(\n",
    "    weekly_sales.loc[weekly_sales['ldbw']==notLast_ts, ['count']],\n",
    "    on='article_id', suffixes=(\"\", \"_targ\"))\n",
    "\n",
    "# Fill missing values with 0 for products that had no purchases in the last week\n",
    "df['count_targ'].fillna(0, inplace=True)\n",
    "del weekly_sales\n",
    "\n",
    "# Calculate the quotient for each product, which is the last week's purchases divided by each week's purchases\n",
    "df['quotient'] = df['count_targ'] / df['count']\n",
    "\n",
    "# Sum all quotients for each product to create a target sales score\n",
    "target_sales = df.drop('customer_id', axis=1).groupby('article_id')['quotient'].sum()\n",
    "\n",
    "# Find the top 12 products with the highest target sales scores for recommendation\n",
    "general_pred = target_sales.nlargest(12).index.tolist()\n",
    "general_pred = ['0' + str(article_id) for article_id in general_pred]\n",
    "general_pred_str =  ' '.join(general_pred)\n",
    "\n",
    "del target_sales\n",
    "# Perform additional calculations based on time intervals\n",
    "\n",
    "tmp = df.copy()\n",
    "# Calculate the days difference between the last date and the purchase date\n",
    "tmp['x'] = ((last_ts - tmp['t_dat']) / np.timedelta64(1, 'D')).astype(int)\n",
    "\n",
    "# If it's the last date of purchase, substitute 0 for 'x' with 1\n",
    "tmp['dummy_1'] = 1 \n",
    "tmp['x'] = tmp[[\"x\", \"dummy_1\"]].max(axis=1)\n",
    "\n",
    "# Calculate a weight ('y') based on the time difference ('x')\n",
    "tmp['y'] = a / np.sqrt((tmp['x']+1)) + b * np.exp(-c*(tmp['x']+1)) - d\n",
    "\n",
    "# Substitute negative weights with 0\n",
    "tmp['dummy_0'] = 0 \n",
    "tmp['y'] = tmp[[\"y\", \"dummy_0\"]].max(axis=1)\n",
    "\n",
    "# Multiply weights by quotients and creating new score \"value\" then aggregate it for each customer and article\n",
    "tmp['value'] = tmp['quotient'] * tmp['y'] \n",
    "tmp = tmp.groupby(['customer_id', 'article_id']).agg({'value': 'sum'})\n",
    "tmp = tmp.reset_index()\n",
    "\n",
    "# Rank the values and select the top 12 recommendations for each customer\n",
    "tmp = tmp.loc[tmp['value'] > 0]\n",
    "tmp['rank'] = tmp.groupby(\"customer_id\")[\"value\"].rank(\"dense\", ascending=False)\n",
    "tmp = tmp.loc[tmp['rank'] <= 12]\n",
    "\n",
    "# Sort values for each customer and create a string of article_ids and keep it in prediction\n",
    "purchase_df = tmp.sort_values(['customer_id', 'value'], ascending = False).reset_index(drop = True)\n",
    "purchase_df['prediction'] = '0' + purchase_df['article_id'].astype(str) + ' '\n",
    "purchase_df = purchase_df.groupby('customer_id').agg({'prediction': sum}).reset_index()\n",
    "purchase_df['prediction'] = purchase_df['prediction'].str.strip()\n",
    "purchase_df = pd.DataFrame(purchase_df)\n",
    "\n",
    "# Read the submission file\n",
    "sub  = pd.read_csv('C:/Users/sepid/Desktop/H & m/sample_submission.csv',\n",
    "                    usecols= ['customer_id'], \n",
    "                    dtype={'customer_id': 'string'})\n",
    "sub['customer_id2'] = sub['customer_id'].apply(lambda x: int(x[-16:],16) ).astype('int64')\n",
    "sub = sub.merge(purchase_df, left_on = 'customer_id2', right_on = 'customer_id', how = 'left',\n",
    "           suffixes = ('', '_ignored'))\n",
    "\n",
    "# Customers with no purchase history will be recommended with the general prediction (top 12 quotients)\n",
    "sub['prediction'] = sub['prediction'].fillna(general_pred_str)\n",
    "\n",
    "# For customers with existing purchase history, if their number of predictions is less than 12,\n",
    "# the rest will be filled with general predictions\n",
    "sub['prediction'] = sub['prediction'] + ' ' +  general_pred_str\n",
    "sub['prediction'] = sub['prediction'].str.strip()\n",
    "sub['prediction'] = sub['prediction'].str[:131]\n",
    "sub = sub[['customer_id', 'prediction']]\n",
    "sub.to_csv('C:/Users/sepid/Desktop/H & m/submission_.csv',index=False)\n",
    "# this has public score of 0.02228 and private score of 0.02221"
   ]
  },
  {
   "cell_type": "markdown",
   "id": "65d160da",
   "metadata": {},
   "source": [
    "# removing transactions in 2018"
   ]
  },
  {
   "cell_type": "markdown",
   "id": "e5a20fc0",
   "metadata": {},
   "source": [
    "comparing 2 previous popularities,  last week quotinet had better output and it is going to be used for rest of the work.  in this section, I removed 2018 transaction to see how the score changes"
   ]
  },
  {
   "cell_type": "code",
   "execution_count": 12,
   "id": "6ae9b492",
   "metadata": {},
   "outputs": [],
   "source": [
    "df_org1 = df_org[df_org['t_dat']>='2019-01-01'] "
   ]
  },
  {
   "cell_type": "code",
   "execution_count": 5,
   "id": "6ba611c3",
   "metadata": {},
   "outputs": [],
   "source": [
    "df = df_org1.copy()\n",
    "# Transformation: Convert hexadecimal customer IDs to int64\n",
    "df['customer_id'] = df['customer_id'].apply(lambda x: int(x[-16:],16) ).astype('int64')\n",
    "\n",
    "# Find the maximum purchase date in the dataset which is 2020-09-22 and it is Tuesday\n",
    "last_ts = df['t_dat'].max()\n",
    "\n",
    "# Calculate weekly counts of purchases starting from every Tuesday to the next Tuesday\n",
    "# Create a temporary DataFrame to store the date and its day of the week\n",
    "tmp = df[['t_dat']].copy()\n",
    "tmp['dow'] = tmp['t_dat'].dt.dayofweek\n",
    "\n",
    "# Calculate the last Tuesday's date for each purchase date\n",
    "# for example if it is Thursday it will return 2 days before and if it is Monday it will return date of tomorrow\n",
    "tmp['ldbw'] = tmp['t_dat'] - pd.TimedeltaIndex(tmp['dow'] - 1, unit='D')\n",
    "\n",
    "# calculating the next Tuesday\n",
    "tmp.loc[tmp['dow'] >=2 , 'ldbw'] = tmp.loc[tmp['dow'] >=2 , 'ldbw'] + pd.TimedeltaIndex(np.ones(len(tmp.loc[tmp['dow'] >=2])) * 7, unit='D')\n",
    "\n",
    "# Add the 'ldbw' column to df\n",
    "df['ldbw'] = tmp['ldbw'].values\n",
    "\n",
    "## Count the number of purchases for each product and week (grouping products with lbdw)\n",
    "weekly_sales = df.drop('customer_id', axis=1).groupby(['ldbw', 'article_id']).count().reset_index()\n",
    "weekly_sales = weekly_sales.rename(columns={'t_dat': 'count'})\n",
    "\n",
    "# Merge the weekly sales counts back into the main DataFrame\n",
    "df = df.merge(weekly_sales, on=['ldbw', 'article_id'], how = 'left')\n",
    "# Reset and set the index for 'article_id' for later use\n",
    "weekly_sales = weekly_sales.reset_index().set_index('article_id')\n",
    "\n",
    "# Count the amount of last week's purchases for each product   \n",
    "df = df.merge(\n",
    "    weekly_sales.loc[weekly_sales['ldbw']==last_ts, ['count']],\n",
    "    on='article_id', suffixes=(\"\", \"_targ\"))\n",
    "\n",
    "# Fill missing values with 0 for products that had no purchases in the last week\n",
    "df['count_targ'].fillna(0, inplace=True)\n",
    "del weekly_sales\n",
    "\n",
    "# Calculate the quotient for each product, which is the last week's purchases divided by each week's purchases\n",
    "df['quotient'] = df['count_targ'] / df['count']\n",
    "\n",
    "# Sum all quotients for each product to create a target sales score\n",
    "target_sales = df.drop('customer_id', axis=1).groupby('article_id')['quotient'].sum()\n",
    "\n",
    "# Find the top 12 products with the highest target sales scores for recommendation\n",
    "general_pred = target_sales.nlargest(12).index.tolist()\n",
    "general_pred = ['0' + str(article_id) for article_id in general_pred]\n",
    "general_pred_str =  ' '.join(general_pred)\n",
    "\n",
    "del target_sales\n",
    "# Perform additional calculations based on time intervals\n",
    "\n",
    "tmp = df.copy()\n",
    "# Calculate the days difference between the last date and the purchase date\n",
    "tmp['x'] = ((last_ts - tmp['t_dat']) / np.timedelta64(1, 'D')).astype(int)\n",
    "\n",
    "# If it's the last date of purchase, substitute 0 for 'x' with 1\n",
    "tmp['dummy_1'] = 1 \n",
    "tmp['x'] = tmp[[\"x\", \"dummy_1\"]].max(axis=1)\n",
    "\n",
    "# Calculate a weight ('y') based on the time difference ('x')\n",
    "tmp['y'] = a / np.sqrt((tmp['x']+1)) + b * np.exp(-c*(tmp['x']+1)) - d\n",
    "\n",
    "# Substitute negative weights with 0\n",
    "tmp['dummy_0'] = 0 \n",
    "tmp['y'] = tmp[[\"y\", \"dummy_0\"]].max(axis=1)\n",
    "\n",
    "# Multiply weights by quotients and creating new score \"value\" then aggregate it for each customer and article\n",
    "tmp['value'] = tmp['quotient'] * tmp['y'] \n",
    "tmp = tmp.groupby(['customer_id', 'article_id']).agg({'value': 'sum'})\n",
    "tmp = tmp.reset_index()\n",
    "\n",
    "# Rank the values and select the top 12 recommendations for each customer\n",
    "tmp = tmp.loc[tmp['value'] > 0]\n",
    "tmp['rank'] = tmp.groupby(\"customer_id\")[\"value\"].rank(\"dense\", ascending=False)\n",
    "tmp = tmp.loc[tmp['rank'] <= 12]\n",
    "\n",
    "# Sort values for each customer and create a string of article_ids and keep it in prediction\n",
    "purchase_df = tmp.sort_values(['customer_id', 'value'], ascending = False).reset_index(drop = True)\n",
    "purchase_df['prediction'] = '0' + purchase_df['article_id'].astype(str) + ' '\n",
    "purchase_df = purchase_df.groupby('customer_id').agg({'prediction': sum}).reset_index()\n",
    "purchase_df['prediction'] = purchase_df['prediction'].str.strip()\n",
    "purchase_df = pd.DataFrame(purchase_df)\n",
    "\n",
    "# Read the submission file\n",
    "sub  = pd.read_csv('C:/Users/sepid/Desktop/H & m/sample_submission.csv',\n",
    "                    usecols= ['customer_id'], \n",
    "                    dtype={'customer_id': 'string'})\n",
    "sub['customer_id2'] = sub['customer_id'].apply(lambda x: int(x[-16:],16) ).astype('int64')\n",
    "sub = sub.merge(purchase_df, left_on = 'customer_id2', right_on = 'customer_id', how = 'left',\n",
    "           suffixes = ('', '_ignored'))\n",
    "\n",
    "# Customers with no purchase history will be recommended with the general prediction (top 12 quotients)\n",
    "sub['prediction'] = sub['prediction'].fillna(general_pred_str)\n",
    "\n",
    "# For customers with existing purchase history, if their number of predictions is less than 12,\n",
    "# the rest will be filled with general predictions\n",
    "sub['prediction'] = sub['prediction'] + ' ' +  general_pred_str\n",
    "sub['prediction'] = sub['prediction'].str.strip()\n",
    "sub['prediction'] = sub['prediction'].str[:131]\n",
    "sub = sub[['customer_id', 'prediction']]\n",
    "sub.to_csv('C:/Users/sepid/Desktop/H & m/submission_.csv',index=False)\n",
    "# this has public score of 0.02235 and private score of 0.0225"
   ]
  },
  {
   "cell_type": "markdown",
   "id": "bfb248f3",
   "metadata": {},
   "source": [
    "now that we have found our best popularity method we can use it to combine with with clustering method"
   ]
  },
  {
   "cell_type": "markdown",
   "id": "052f3e41",
   "metadata": {},
   "source": [
    "# Reading Customer dataset and transformation"
   ]
  },
  {
   "cell_type": "code",
   "execution_count": 13,
   "id": "2434cb91",
   "metadata": {},
   "outputs": [],
   "source": [
    "customers  = pd.read_csv('C:/Users/sepid/Desktop/H & m/customers.csv')"
   ]
  },
  {
   "cell_type": "code",
   "execution_count": 14,
   "id": "e1bd86e9",
   "metadata": {},
   "outputs": [],
   "source": [
    "# postal code is not really bringing any information about the location of the customer so it can be removed\n",
    "customers = customers.drop(['postal_code'], axis=1)"
   ]
  },
  {
   "cell_type": "code",
   "execution_count": 5,
   "id": "58acc2ab",
   "metadata": {},
   "outputs": [
    {
     "data": {
      "text/plain": [
       "customer_id                    0\n",
       "FN                        895050\n",
       "Active                    907576\n",
       "club_member_status          6062\n",
       "fashion_news_frequency     16009\n",
       "age                        15861\n",
       "dtype: int64"
      ]
     },
     "execution_count": 5,
     "metadata": {},
     "output_type": "execute_result"
    }
   ],
   "source": [
    "customers.isna().sum()"
   ]
  },
  {
   "cell_type": "code",
   "execution_count": 6,
   "id": "0846305c",
   "metadata": {},
   "outputs": [
    {
     "data": {
      "text/plain": [
       "array([49., 25., 24., 54., 52., nan, 20., 32., 29., 31., 56., 75., 41.,\n",
       "       27., 30., 48., 35., 22., 40., 38., 45., 68., 55., 19., 60., 44.,\n",
       "       21., 26., 28., 53., 33., 17., 23., 51., 18., 34., 57., 47., 70.,\n",
       "       50., 63., 58., 43., 67., 72., 42., 39., 79., 71., 59., 36., 62.,\n",
       "       37., 46., 73., 64., 74., 61., 85., 69., 76., 66., 65., 82., 16.,\n",
       "       90., 80., 78., 81., 84., 77., 97., 89., 83., 98., 88., 86., 87.,\n",
       "       93., 91., 99., 96., 94., 92., 95.])"
      ]
     },
     "execution_count": 6,
     "metadata": {},
     "output_type": "execute_result"
    }
   ],
   "source": [
    "customers['age'].unique()"
   ]
  },
  {
   "cell_type": "code",
   "execution_count": 8,
   "id": "e2c278cb",
   "metadata": {},
   "outputs": [
    {
     "name": "stderr",
     "output_type": "stream",
     "text": [
      "C:\\Users\\sepid\\anaconda3\\lib\\site-packages\\seaborn\\distributions.py:2619: FutureWarning: `distplot` is a deprecated function and will be removed in a future version. Please adapt your code to use either `displot` (a figure-level function with similar flexibility) or `histplot` (an axes-level function for histograms).\n",
      "  warnings.warn(msg, FutureWarning)\n"
     ]
    },
    {
     "data": {
      "text/plain": [
       "<AxesSubplot:xlabel='age', ylabel='Density'>"
      ]
     },
     "execution_count": 8,
     "metadata": {},
     "output_type": "execute_result"
    },
    {
     "data": {
      "image/png": "[encoded data removed]",
      "text/plain": [
       "<Figure size 640x480 with 1 Axes>"
      ]
     },
     "metadata": {},
     "output_type": "display_data"
    }
   ],
   "source": [
    "sns.distplot(customers['age'])"
   ]
  },
  {
   "cell_type": "markdown",
   "id": "bd811789",
   "metadata": {},
   "source": [
    "from the histogram of age we can see that distribution is not symmetric so choosing mean to fill NAs is not the best option. for skewed distribution is better to choose mode or median and i preferred to go with mode."
   ]
  },
  {
   "cell_type": "code",
   "execution_count": 15,
   "id": "4cde921a",
   "metadata": {},
   "outputs": [],
   "source": [
    "customers['age'].fillna(int((customers['age'].mode())), inplace=True)"
   ]
  },
  {
   "cell_type": "code",
   "execution_count": 9,
   "id": "68083eaf",
   "metadata": {},
   "outputs": [],
   "source": [
    "customers['FN'] = customers['FN'].fillna(0)\n",
    "customers['Active'] = customers['Active'].fillna(0)"
   ]
  },
  {
   "cell_type": "code",
   "execution_count": 61,
   "id": "a70d22f0",
   "metadata": {},
   "outputs": [
    {
     "data": {
      "text/plain": [
       "array(['NONE', 'Regularly', nan, 'Monthly', 'None'], dtype=object)"
      ]
     },
     "execution_count": 61,
     "metadata": {},
     "output_type": "execute_result"
    }
   ],
   "source": [
    "customers['fashion_news_frequency'].unique()"
   ]
  },
  {
   "cell_type": "markdown",
   "id": "b7e0e5a4",
   "metadata": {},
   "source": [
    "in fashion news none has been mentioned 2 times with lower and upper case so it can be considered both 1 thing also it\n",
    "better to change all string data to digits for easier further work.NA values are filled with None as it is the most\n",
    "mentioned value"
   ]
  },
  {
   "cell_type": "code",
   "execution_count": 16,
   "id": "f4363413",
   "metadata": {},
   "outputs": [],
   "source": [
    "customers['fashion_news_frequency'] = customers['fashion_news_frequency'].replace({np.nan :0,'NONE':0, 'None':0, 'Monthly':1, 'Regularly':2})"
   ]
  },
  {
   "cell_type": "code",
   "execution_count": 11,
   "id": "3fe62d69",
   "metadata": {},
   "outputs": [
    {
     "data": {
      "text/plain": [
       "array(['ACTIVE', nan, 'PRE-CREATE', 'LEFT CLUB'], dtype=object)"
      ]
     },
     "execution_count": 11,
     "metadata": {},
     "output_type": "execute_result"
    }
   ],
   "source": [
    "customers['club_member_status'].unique()"
   ]
  },
  {
   "cell_type": "code",
   "execution_count": 17,
   "id": "bb5bb1d6",
   "metadata": {},
   "outputs": [],
   "source": [
    "customers['club_member_status'] = customers['club_member_status'].replace({np.nan :0, 'PRE-CREATE':1, 'ACTIVE':2, 'LEFT CLUB':3})"
   ]
  },
  {
   "cell_type": "markdown",
   "id": "36332eef",
   "metadata": {},
   "source": [
    "# clustering the customers"
   ]
  },
  {
   "cell_type": "markdown",
   "id": "18cdbc3f",
   "metadata": {},
   "source": [
    "In the first clustering experienceI used all columns to create customer cluster with kmeans."
   ]
  },
  {
   "cell_type": "code",
   "execution_count": 13,
   "id": "a2054594",
   "metadata": {},
   "outputs": [],
   "source": [
    "usecol = ['club_member_status', 'fashion_news_frequency', 'age', 'FN', 'Active']\n",
    "predcol = ['customer_id']"
   ]
  },
  {
   "cell_type": "code",
   "execution_count": 18,
   "id": "6c22450b",
   "metadata": {},
   "outputs": [],
   "source": [
    "scores = []\n",
    "def clustering(df, predcol, usecol, clusters=12):\n",
    "\n",
    "    X = np.array(df[usecol])\n",
    "\n",
    "#norming numbers\n",
    "    nm = preprocessing.StandardScaler()\n",
    "    X = nm.fit_transform(X)\n",
    "\n",
    "#km = KMeans(n_clusters=clusters, random_state=2022)\n",
    "    km = KMeans(n_clusters=clusters, \n",
    "                init='k-means++', \n",
    "                random_state=2022)\n",
    "    km.fit(X)\n",
    "    distortion = km.inertia_\n",
    "\n",
    "    pred = km.labels_\n",
    "    df_pred = pd.DataFrame(pred, columns=['pred'])\n",
    "    df_pred = pd.concat([df, df_pred], axis=1)\n",
    "\n",
    "    df_norm = pd.DataFrame(X, columns=usecol)\n",
    "    #print(df_norm.describe())\n",
    "    \n",
    "    return df_pred, distortion"
   ]
  },
  {
   "cell_type": "code",
   "execution_count": 25,
   "id": "c30ac21d",
   "metadata": {},
   "outputs": [
    {
     "name": "stdout",
     "output_type": "stream",
     "text": [
      "---- K = 2 ----\n"
     ]
    },
    {
     "name": "stderr",
     "output_type": "stream",
     "text": [
      "C:\\Users\\sepid\\anaconda3\\lib\\site-packages\\sklearn\\cluster\\_kmeans.py:1412: FutureWarning: The default value of `n_init` will change from 10 to 'auto' in 1.4. Set the value of `n_init` explicitly to suppress the warning\n",
      "  super()._check_params_vs_input(X, default_n_init=10)\n"
     ]
    },
    {
     "name": "stdout",
     "output_type": "stream",
     "text": [
      "---- K = 3 ----\n"
     ]
    },
    {
     "name": "stderr",
     "output_type": "stream",
     "text": [
      "C:\\Users\\sepid\\anaconda3\\lib\\site-packages\\sklearn\\cluster\\_kmeans.py:1412: FutureWarning: The default value of `n_init` will change from 10 to 'auto' in 1.4. Set the value of `n_init` explicitly to suppress the warning\n",
      "  super()._check_params_vs_input(X, default_n_init=10)\n"
     ]
    },
    {
     "name": "stdout",
     "output_type": "stream",
     "text": [
      "---- K = 4 ----\n"
     ]
    },
    {
     "name": "stderr",
     "output_type": "stream",
     "text": [
      "C:\\Users\\sepid\\anaconda3\\lib\\site-packages\\sklearn\\cluster\\_kmeans.py:1412: FutureWarning: The default value of `n_init` will change from 10 to 'auto' in 1.4. Set the value of `n_init` explicitly to suppress the warning\n",
      "  super()._check_params_vs_input(X, default_n_init=10)\n"
     ]
    },
    {
     "name": "stdout",
     "output_type": "stream",
     "text": [
      "---- K = 5 ----\n"
     ]
    },
    {
     "name": "stderr",
     "output_type": "stream",
     "text": [
      "C:\\Users\\sepid\\anaconda3\\lib\\site-packages\\sklearn\\cluster\\_kmeans.py:1412: FutureWarning: The default value of `n_init` will change from 10 to 'auto' in 1.4. Set the value of `n_init` explicitly to suppress the warning\n",
      "  super()._check_params_vs_input(X, default_n_init=10)\n"
     ]
    },
    {
     "name": "stdout",
     "output_type": "stream",
     "text": [
      "---- K = 6 ----\n"
     ]
    },
    {
     "name": "stderr",
     "output_type": "stream",
     "text": [
      "C:\\Users\\sepid\\anaconda3\\lib\\site-packages\\sklearn\\cluster\\_kmeans.py:1412: FutureWarning: The default value of `n_init` will change from 10 to 'auto' in 1.4. Set the value of `n_init` explicitly to suppress the warning\n",
      "  super()._check_params_vs_input(X, default_n_init=10)\n"
     ]
    },
    {
     "name": "stdout",
     "output_type": "stream",
     "text": [
      "---- K = 7 ----\n"
     ]
    },
    {
     "name": "stderr",
     "output_type": "stream",
     "text": [
      "C:\\Users\\sepid\\anaconda3\\lib\\site-packages\\sklearn\\cluster\\_kmeans.py:1412: FutureWarning: The default value of `n_init` will change from 10 to 'auto' in 1.4. Set the value of `n_init` explicitly to suppress the warning\n",
      "  super()._check_params_vs_input(X, default_n_init=10)\n"
     ]
    },
    {
     "name": "stdout",
     "output_type": "stream",
     "text": [
      "---- K = 8 ----\n"
     ]
    },
    {
     "name": "stderr",
     "output_type": "stream",
     "text": [
      "C:\\Users\\sepid\\anaconda3\\lib\\site-packages\\sklearn\\cluster\\_kmeans.py:1412: FutureWarning: The default value of `n_init` will change from 10 to 'auto' in 1.4. Set the value of `n_init` explicitly to suppress the warning\n",
      "  super()._check_params_vs_input(X, default_n_init=10)\n"
     ]
    },
    {
     "name": "stdout",
     "output_type": "stream",
     "text": [
      "---- K = 9 ----\n"
     ]
    },
    {
     "name": "stderr",
     "output_type": "stream",
     "text": [
      "C:\\Users\\sepid\\anaconda3\\lib\\site-packages\\sklearn\\cluster\\_kmeans.py:1412: FutureWarning: The default value of `n_init` will change from 10 to 'auto' in 1.4. Set the value of `n_init` explicitly to suppress the warning\n",
      "  super()._check_params_vs_input(X, default_n_init=10)\n"
     ]
    },
    {
     "name": "stdout",
     "output_type": "stream",
     "text": [
      "---- K = 10 ----\n"
     ]
    },
    {
     "name": "stderr",
     "output_type": "stream",
     "text": [
      "C:\\Users\\sepid\\anaconda3\\lib\\site-packages\\sklearn\\cluster\\_kmeans.py:1412: FutureWarning: The default value of `n_init` will change from 10 to 'auto' in 1.4. Set the value of `n_init` explicitly to suppress the warning\n",
      "  super()._check_params_vs_input(X, default_n_init=10)\n"
     ]
    },
    {
     "name": "stdout",
     "output_type": "stream",
     "text": [
      "---- K = 11 ----\n"
     ]
    },
    {
     "name": "stderr",
     "output_type": "stream",
     "text": [
      "C:\\Users\\sepid\\anaconda3\\lib\\site-packages\\sklearn\\cluster\\_kmeans.py:1412: FutureWarning: The default value of `n_init` will change from 10 to 'auto' in 1.4. Set the value of `n_init` explicitly to suppress the warning\n",
      "  super()._check_params_vs_input(X, default_n_init=10)\n"
     ]
    }
   ],
   "source": [
    "distortions = []\n",
    "kx = []\n",
    "for k in range(2,12):\n",
    "    print(f'---- K = {k} ----')\n",
    "    dfCustomers, dist = clustering(customers, predcol=predcol, usecol=usecol, clusters=k)\n",
    "    distortions.append(dist)\n",
    "    kx.append(k)"
   ]
  },
  {
   "cell_type": "code",
   "execution_count": 26,
   "id": "10726606",
   "metadata": {},
   "outputs": [
    {
     "data": {
      "text/plain": [
       "<function matplotlib.pyplot.show(close=None, block=None)>"
      ]
     },
     "execution_count": 26,
     "metadata": {},
     "output_type": "execute_result"
    },
    {
     "data": {
      "image/png": "[encoded data removed]",
      "text/plain": [
       "<Figure size 640x480 with 1 Axes>"
      ]
     },
     "metadata": {},
     "output_type": "display_data"
    }
   ],
   "source": [
    "plt.plot(kx, distortions)\n",
    "plt.scatter(kx, distortions)\n",
    "plt.xlabel(\"k: number of clusters\")\n",
    "plt.ylabel(\"Distortion\")\n",
    "plt.show"
   ]
  },
  {
   "cell_type": "markdown",
   "id": "c14655a9",
   "metadata": {},
   "source": [
    "based on the elbow graph, the best number for clusters would be 5"
   ]
  },
  {
   "cell_type": "code",
   "execution_count": 15,
   "id": "b5c130fe",
   "metadata": {},
   "outputs": [
    {
     "name": "stderr",
     "output_type": "stream",
     "text": [
      "C:\\Users\\sepid\\anaconda3\\lib\\site-packages\\sklearn\\cluster\\_kmeans.py:1412: FutureWarning: The default value of `n_init` will change from 10 to 'auto' in 1.4. Set the value of `n_init` explicitly to suppress the warning\n",
      "  super()._check_params_vs_input(X, default_n_init=10)\n",
      "C:\\Users\\sepid\\anaconda3\\lib\\site-packages\\joblib\\externals\\loky\\backend\\context.py:136: UserWarning: Could not find the number of physical cores for the following reason:\n",
      "found 0 physical cores < 1\n",
      "Returning the number of logical cores instead. You can silence this warning by setting LOKY_MAX_CPU_COUNT to the number of cores you want to use.\n",
      "  warnings.warn(\n",
      "  File \"C:\\Users\\sepid\\anaconda3\\lib\\site-packages\\joblib\\externals\\loky\\backend\\context.py\", line 282, in _count_physical_cores\n",
      "    raise ValueError(f\"found {cpu_count_physical} physical cores < 1\")\n"
     ]
    }
   ],
   "source": [
    "dfCustomers, dist = clustering(customers,predcol=predcol, usecol=usecol, clusters=5)"
   ]
  },
  {
   "cell_type": "code",
   "execution_count": 37,
   "id": "21c48e2e",
   "metadata": {},
   "outputs": [
    {
     "data": {
      "text/html": [
       "<div>\n",
       "<style scoped>\n",
       "    .dataframe tbody tr th:only-of-type {\n",
       "        vertical-align: middle;\n",
       "    }\n",
       "\n",
       "    .dataframe tbody tr th {\n",
       "        vertical-align: top;\n",
       "    }\n",
       "\n",
       "    .dataframe thead th {\n",
       "        text-align: right;\n",
       "    }\n",
       "</style>\n",
       "<table border=\"1\" class=\"dataframe\">\n",
       "  <thead>\n",
       "    <tr style=\"text-align: right;\">\n",
       "      <th></th>\n",
       "      <th>customer_id</th>\n",
       "      <th>FN</th>\n",
       "      <th>Active</th>\n",
       "      <th>club_member_status</th>\n",
       "      <th>fashion_news_frequency</th>\n",
       "      <th>age</th>\n",
       "      <th>pred</th>\n",
       "    </tr>\n",
       "  </thead>\n",
       "  <tbody>\n",
       "    <tr>\n",
       "      <th>0</th>\n",
       "      <td>00000dbacae5abe5e23885899a1fa44253a17956c6d1c3...</td>\n",
       "      <td>0.0</td>\n",
       "      <td>0.0</td>\n",
       "      <td>2</td>\n",
       "      <td>0</td>\n",
       "      <td>49.0</td>\n",
       "      <td>4</td>\n",
       "    </tr>\n",
       "    <tr>\n",
       "      <th>1</th>\n",
       "      <td>0000423b00ade91418cceaf3b26c6af3dd342b51fd051e...</td>\n",
       "      <td>0.0</td>\n",
       "      <td>0.0</td>\n",
       "      <td>2</td>\n",
       "      <td>0</td>\n",
       "      <td>25.0</td>\n",
       "      <td>1</td>\n",
       "    </tr>\n",
       "    <tr>\n",
       "      <th>2</th>\n",
       "      <td>000058a12d5b43e67d225668fa1f8d618c13dc232df0ca...</td>\n",
       "      <td>0.0</td>\n",
       "      <td>0.0</td>\n",
       "      <td>2</td>\n",
       "      <td>0</td>\n",
       "      <td>24.0</td>\n",
       "      <td>1</td>\n",
       "    </tr>\n",
       "    <tr>\n",
       "      <th>3</th>\n",
       "      <td>00005ca1c9ed5f5146b52ac8639a40ca9d57aeff4d1bd2...</td>\n",
       "      <td>0.0</td>\n",
       "      <td>0.0</td>\n",
       "      <td>2</td>\n",
       "      <td>0</td>\n",
       "      <td>54.0</td>\n",
       "      <td>4</td>\n",
       "    </tr>\n",
       "    <tr>\n",
       "      <th>4</th>\n",
       "      <td>00006413d8573cd20ed7128e53b7b13819fe5cfc2d801f...</td>\n",
       "      <td>1.0</td>\n",
       "      <td>1.0</td>\n",
       "      <td>2</td>\n",
       "      <td>2</td>\n",
       "      <td>52.0</td>\n",
       "      <td>0</td>\n",
       "    </tr>\n",
       "    <tr>\n",
       "      <th>...</th>\n",
       "      <td>...</td>\n",
       "      <td>...</td>\n",
       "      <td>...</td>\n",
       "      <td>...</td>\n",
       "      <td>...</td>\n",
       "      <td>...</td>\n",
       "      <td>...</td>\n",
       "    </tr>\n",
       "    <tr>\n",
       "      <th>1371975</th>\n",
       "      <td>ffffbbf78b6eaac697a8a5dfbfd2bfa8113ee5b403e474...</td>\n",
       "      <td>0.0</td>\n",
       "      <td>0.0</td>\n",
       "      <td>2</td>\n",
       "      <td>0</td>\n",
       "      <td>24.0</td>\n",
       "      <td>1</td>\n",
       "    </tr>\n",
       "    <tr>\n",
       "      <th>1371976</th>\n",
       "      <td>ffffcd5046a6143d29a04fb8c424ce494a76e5cdf4fab5...</td>\n",
       "      <td>0.0</td>\n",
       "      <td>0.0</td>\n",
       "      <td>2</td>\n",
       "      <td>0</td>\n",
       "      <td>21.0</td>\n",
       "      <td>1</td>\n",
       "    </tr>\n",
       "    <tr>\n",
       "      <th>1371977</th>\n",
       "      <td>ffffcf35913a0bee60e8741cb2b4e78b8a98ee5ff2e6a1...</td>\n",
       "      <td>1.0</td>\n",
       "      <td>1.0</td>\n",
       "      <td>2</td>\n",
       "      <td>2</td>\n",
       "      <td>21.0</td>\n",
       "      <td>3</td>\n",
       "    </tr>\n",
       "    <tr>\n",
       "      <th>1371978</th>\n",
       "      <td>ffffd7744cebcf3aca44ae7049d2a94b87074c3d4ffe38...</td>\n",
       "      <td>1.0</td>\n",
       "      <td>1.0</td>\n",
       "      <td>2</td>\n",
       "      <td>2</td>\n",
       "      <td>18.0</td>\n",
       "      <td>3</td>\n",
       "    </tr>\n",
       "    <tr>\n",
       "      <th>1371979</th>\n",
       "      <td>ffffd9ac14e89946416d80e791d064701994755c3ab686...</td>\n",
       "      <td>0.0</td>\n",
       "      <td>0.0</td>\n",
       "      <td>1</td>\n",
       "      <td>0</td>\n",
       "      <td>65.0</td>\n",
       "      <td>2</td>\n",
       "    </tr>\n",
       "  </tbody>\n",
       "</table>\n",
       "<p>1371980 rows × 7 columns</p>\n",
       "</div>"
      ],
      "text/plain": [
       "                                               customer_id   FN  Active  \\\n",
       "0        00000dbacae5abe5e23885899a1fa44253a17956c6d1c3...  0.0     0.0   \n",
       "1        0000423b00ade91418cceaf3b26c6af3dd342b51fd051e...  0.0     0.0   \n",
       "2        000058a12d5b43e67d225668fa1f8d618c13dc232df0ca...  0.0     0.0   \n",
       "3        00005ca1c9ed5f5146b52ac8639a40ca9d57aeff4d1bd2...  0.0     0.0   \n",
       "4        00006413d8573cd20ed7128e53b7b13819fe5cfc2d801f...  1.0     1.0   \n",
       "...                                                    ...  ...     ...   \n",
       "1371975  ffffbbf78b6eaac697a8a5dfbfd2bfa8113ee5b403e474...  0.0     0.0   \n",
       "1371976  ffffcd5046a6143d29a04fb8c424ce494a76e5cdf4fab5...  0.0     0.0   \n",
       "1371977  ffffcf35913a0bee60e8741cb2b4e78b8a98ee5ff2e6a1...  1.0     1.0   \n",
       "1371978  ffffd7744cebcf3aca44ae7049d2a94b87074c3d4ffe38...  1.0     1.0   \n",
       "1371979  ffffd9ac14e89946416d80e791d064701994755c3ab686...  0.0     0.0   \n",
       "\n",
       "         club_member_status  fashion_news_frequency   age  pred  \n",
       "0                         2                       0  49.0     4  \n",
       "1                         2                       0  25.0     1  \n",
       "2                         2                       0  24.0     1  \n",
       "3                         2                       0  54.0     4  \n",
       "4                         2                       2  52.0     0  \n",
       "...                     ...                     ...   ...   ...  \n",
       "1371975                   2                       0  24.0     1  \n",
       "1371976                   2                       0  21.0     1  \n",
       "1371977                   2                       2  21.0     3  \n",
       "1371978                   2                       2  18.0     3  \n",
       "1371979                   1                       0  65.0     2  \n",
       "\n",
       "[1371980 rows x 7 columns]"
      ]
     },
     "execution_count": 37,
     "metadata": {},
     "output_type": "execute_result"
    }
   ],
   "source": [
    "dfCustomers"
   ]
  },
  {
   "cell_type": "code",
   "execution_count": 16,
   "id": "b52f1dbe",
   "metadata": {},
   "outputs": [],
   "source": [
    "listUniBins = dfCustomers['pred'].unique()"
   ]
  },
  {
   "cell_type": "code",
   "execution_count": 18,
   "id": "f2c2e98b",
   "metadata": {},
   "outputs": [
    {
     "name": "stderr",
     "output_type": "stream",
     "text": [
      "C:\\Users\\sepid\\anaconda3\\lib\\site-packages\\seaborn\\distributions.py:2619: FutureWarning: `distplot` is a deprecated function and will be removed in a future version. Please adapt your code to use either `displot` (a figure-level function with similar flexibility) or `histplot` (an axes-level function for histograms).\n",
      "  warnings.warn(msg, FutureWarning)\n"
     ]
    },
    {
     "data": {
      "text/plain": [
       "<AxesSubplot:xlabel='pred', ylabel='Density'>"
      ]
     },
     "execution_count": 18,
     "metadata": {},
     "output_type": "execute_result"
    },
    {
     "data": {
      "image/png": "[encoded data removed]",
      "text/plain": [
       "<Figure size 640x480 with 1 Axes>"
      ]
     },
     "metadata": {},
     "output_type": "display_data"
    }
   ],
   "source": [
    "sns.distplot(dfCustomers['pred'])"
   ]
  },
  {
   "cell_type": "code",
   "execution_count": 19,
   "id": "9b2051bd",
   "metadata": {},
   "outputs": [
    {
     "data": {
      "text/plain": [
       "574640.1093258426"
      ]
     },
     "execution_count": 19,
     "metadata": {},
     "output_type": "execute_result"
    }
   ],
   "source": [
    "dist"
   ]
  },
  {
   "cell_type": "code",
   "execution_count": 32,
   "id": "d52dbdf3",
   "metadata": {},
   "outputs": [
    {
     "data": {
      "text/plain": [
       "count    516693.000000\n",
       "mean         26.282173\n",
       "std           5.399404\n",
       "min          16.000000\n",
       "25%          22.000000\n",
       "50%          26.000000\n",
       "75%          30.000000\n",
       "max          39.000000\n",
       "Name: age, dtype: float64"
      ]
     },
     "execution_count": 32,
     "metadata": {},
     "output_type": "execute_result"
    }
   ],
   "source": [
    "dfCustomers[dfCustomers['pred']==0]['age'].describe()"
   ]
  },
  {
   "cell_type": "markdown",
   "id": "e3ed6c92",
   "metadata": {},
   "source": [
    "# recommendation based on clusters "
   ]
  },
  {
   "cell_type": "markdown",
   "id": "03d22bb8",
   "metadata": {},
   "source": [
    "popularity that 2018 dataset was removed had highest score so it is chosen as the base to combine it with clustering. in this part, the whole popularity is being done seperately for each customer cluster. In this way, articles have different quotient score in different customer clusters. we can consider it more customized version of recommendation."
   ]
  },
  {
   "cell_type": "code",
   "execution_count": 20,
   "id": "95bf864c",
   "metadata": {},
   "outputs": [
    {
     "name": "stdout",
     "output_type": "stream",
     "text": [
      "The shape of scope transaction for 4 is (4986418, 4). \n",
      "\n",
      "The shape of scope transaction for 1 is (10123659, 4). \n",
      "\n",
      "The shape of scope transaction for 0 is (4567098, 4). \n",
      "\n",
      "The shape of scope transaction for 2 is (528800, 4). \n",
      "\n",
      "The shape of scope transaction for 3 is (7171087, 4). \n",
      "\n"
     ]
    }
   ],
   "source": [
    "for uniBin in listUniBins: \n",
    "    \n",
    "    df = df_org1.copy()\n",
    "    dfCustomersTemp = dfCustomers[dfCustomers['pred'] == uniBin]\n",
    "    dfCustomersTemp = dfCustomersTemp.drop(['pred'], axis=1)\n",
    "    \n",
    "    #\n",
    "    # Transformation: Convert hexadecimal customer IDs to int64\n",
    "    df['customer_id'] = df['customer_id'].apply(lambda x: int(x[-16:],16) ).astype('int64')\n",
    "\n",
    "    # Find the maximum purchase date in the dataset which is 2020-09-22 and it is Tuesday\n",
    "    last_ts = df['t_dat'].max()\n",
    "\n",
    "    # Calculate weekly counts of purchases starting from every Tuesday to the next Tuesday\n",
    "    # Create a temporary DataFrame to store the date and its day of the week\n",
    "    tmp = df[['t_dat']].copy()\n",
    "    tmp['dow'] = tmp['t_dat'].dt.dayofweek\n",
    "\n",
    "    # Calculate the last Tuesday's date for each purchase date\n",
    "    # for example if it is Thursday it will return 2 days before and if it is Monday it will return date of tomorrow\n",
    "    tmp['ldbw'] = tmp['t_dat'] - pd.TimedeltaIndex(tmp['dow'] - 1, unit='D')\n",
    "\n",
    "    # calculating the next Tuesday\n",
    "    tmp.loc[tmp['dow'] >=2 , 'ldbw'] = tmp.loc[tmp['dow'] >=2 , 'ldbw'] + pd.TimedeltaIndex(np.ones(len(tmp.loc[tmp['dow'] >=2])) * 7, unit='D')\n",
    "\n",
    "    # Add the 'ldbw' column to df\n",
    "    df['ldbw'] = tmp['ldbw'].values\n",
    "\n",
    "    ## Count the number of purchases for each product and week (grouping products with lbdw)\n",
    "    weekly_sales = df.drop('customer_id', axis=1).groupby(['ldbw', 'article_id']).count().reset_index()\n",
    "    weekly_sales = weekly_sales.rename(columns={'t_dat': 'count'})\n",
    "\n",
    "    # Merge the weekly sales counts back into the main DataFrame\n",
    "    df = df.merge(weekly_sales, on=['ldbw', 'article_id'], how = 'left')\n",
    "    # Reset and set the index for 'article_id' for later use\n",
    "    weekly_sales = weekly_sales.reset_index().set_index('article_id')\n",
    "\n",
    "    # Count the amount of last week's purchases for each product   \n",
    "    df = df.merge(\n",
    "        weekly_sales.loc[weekly_sales['ldbw']==last_ts, ['count']],\n",
    "        on='article_id', suffixes=(\"\", \"_targ\"))\n",
    "\n",
    "    # Fill missing values with 0 for products that had no purchases in the last week\n",
    "    df['count_targ'].fillna(0, inplace=True)\n",
    "    del weekly_sales\n",
    "\n",
    "    # Calculate the quotient for each product, which is the last week's purchases divided by each week's purchases\n",
    "    df['quotient'] = df['count_targ'] / df['count']\n",
    "\n",
    "    # Sum all quotients for each product to create a target sales score\n",
    "    target_sales = df.drop('customer_id', axis=1).groupby('article_id')['quotient'].sum()\n",
    "\n",
    "    # Find the top 12 products with the highest target sales scores for recommendation\n",
    "    general_pred = target_sales.nlargest(12).index.tolist()\n",
    "    general_pred = ['0' + str(article_id) for article_id in general_pred]\n",
    "    general_pred_str =  ' '.join(general_pred)\n",
    "\n",
    "    del target_sales\n",
    "    # Perform additional calculations based on time intervals\n",
    "\n",
    "    tmp = df.copy()\n",
    "    # Calculate the days difference between the last date and the purchase date\n",
    "    tmp['x'] = ((last_ts - tmp['t_dat']) / np.timedelta64(1, 'D')).astype(int)\n",
    "\n",
    "    # If it's the last date of purchase, substitute 0 for 'x' with 1\n",
    "    tmp['dummy_1'] = 1 \n",
    "    tmp['x'] = tmp[[\"x\", \"dummy_1\"]].max(axis=1)\n",
    "\n",
    "    # Calculate a weight ('y') based on the time difference ('x')\n",
    "    tmp['y'] = a / np.sqrt((tmp['x']+1)) + b * np.exp(-c*(tmp['x']+1)) - d\n",
    "\n",
    "    # Substitute negative weights with 0\n",
    "    tmp['dummy_0'] = 0 \n",
    "    tmp['y'] = tmp[[\"y\", \"dummy_0\"]].max(axis=1)\n",
    "\n",
    "    # Multiply weights by quotients and creating new score \"value\" then aggregate it for each customer and article\n",
    "    tmp['value'] = tmp['quotient'] * tmp['y'] \n",
    "    tmp = tmp.groupby(['customer_id', 'article_id']).agg({'value': 'sum'})\n",
    "    tmp = tmp.reset_index()\n",
    "\n",
    "    # Rank the values and select the top 12 recommendations for each customer\n",
    "    tmp = tmp.loc[tmp['value'] > 0]\n",
    "    tmp['rank'] = tmp.groupby(\"customer_id\")[\"value\"].rank(\"dense\", ascending=False)\n",
    "    tmp = tmp.loc[tmp['rank'] <= 12]\n",
    "\n",
    "    # Sort values for each customer and create a string of article_ids and keep it in prediction\n",
    "    purchase_df = tmp.sort_values(['customer_id', 'value'], ascending = False).reset_index(drop = True)\n",
    "    purchase_df['prediction'] = '0' + purchase_df['article_id'].astype(str) + ' '\n",
    "    purchase_df = purchase_df.groupby('customer_id').agg({'prediction': sum}).reset_index()\n",
    "    purchase_df['prediction'] = purchase_df['prediction'].str.strip()\n",
    "    purchase_df = pd.DataFrame(purchase_df)\n",
    "\n",
    "    # Read the submission file\n",
    "    sub  = pd.read_csv('C:/Users/sepid/Desktop/H & m/sample_submission.csv',\n",
    "                        usecols= ['customer_id'], \n",
    "                        dtype={'customer_id': 'string'})\n",
    "    sub['customer_id2'] = sub['customer_id'].apply(lambda x: int(x[-16:],16) ).astype('int64')\n",
    "    sub = sub.merge(purchase_df, left_on = 'customer_id2', right_on = 'customer_id', how = 'left',\n",
    "               suffixes = ('', '_ignored'))\n",
    "\n",
    "    # Customers with no purchase history will be recommended with the general prediction (top 12 quotients)\n",
    "    sub['prediction'] = sub['prediction'].fillna(general_pred_str)\n",
    "\n",
    "    # For customers with existing purchase history, if their number of predictions is less than 12,\n",
    "    # the rest will be filled with general predictions\n",
    "    sub['prediction'] = sub['prediction'] + ' ' +  general_pred_str\n",
    "    sub['prediction'] = sub['prediction'].str.strip()\n",
    "    sub['prediction'] = sub['prediction'].str[:131]\n",
    "    sub = sub[['customer_id', 'prediction']]\n",
    "    sub.to_csv(f'C:/Users/sepid/Desktop/H & m/unibins/submission_' + str(uniBin) + '.csv',index=False)\n",
    "\n",
    "for i, uniBin in enumerate(listUniBins):\n",
    "    dfTemp  = pd.read_csv(f'C:/Users/sepid/Desktop/H & m/unibins/submission_' + str(uniBin) + '.csv')\n",
    "    if i == 0:\n",
    "        dfSub = dfTemp\n",
    "    else:\n",
    "        dfSub = pd.concat([dfSub, dfTemp], axis=0)\n",
    "dfSub.to_csv(f'C:/Users/sepid/Desktop/H & m/submission_.csv', index=False)\n",
    "# this has public score of 0.02245 and private score of 0.02256"
   ]
  },
  {
   "cell_type": "markdown",
   "id": "7c8a74b5",
   "metadata": {},
   "source": [
    "after doing the same procedure but for whole dataset including 2018 teh score results are:\n",
    "public score of 0.02242 and private score of 0.02255"
   ]
  },
  {
   "cell_type": "markdown",
   "id": "9742679f",
   "metadata": {},
   "source": [
    "with slice difference clusters works better with dataset that 2018 is cut off from"
   ]
  },
  {
   "cell_type": "markdown",
   "id": "e473fca9",
   "metadata": {},
   "source": [
    "now in clustering step, instead of all columns I am going to use only age, fashion frequency newas and club member status and remove FN and Active as they do not seem very informative."
   ]
  },
  {
   "cell_type": "code",
   "execution_count": 19,
   "id": "34624a8e",
   "metadata": {},
   "outputs": [],
   "source": [
    "usecol = ['club_member_status', 'fashion_news_frequency', 'age']\n",
    "predcol = ['customer_id']"
   ]
  },
  {
   "cell_type": "code",
   "execution_count": 20,
   "id": "c8a248c3",
   "metadata": {},
   "outputs": [
    {
     "name": "stderr",
     "output_type": "stream",
     "text": [
      "C:\\Users\\sepid\\anaconda3\\lib\\site-packages\\sklearn\\cluster\\_kmeans.py:1412: FutureWarning: The default value of `n_init` will change from 10 to 'auto' in 1.4. Set the value of `n_init` explicitly to suppress the warning\n",
      "  super()._check_params_vs_input(X, default_n_init=10)\n",
      "C:\\Users\\sepid\\anaconda3\\lib\\site-packages\\joblib\\externals\\loky\\backend\\context.py:136: UserWarning: Could not find the number of physical cores for the following reason:\n",
      "found 0 physical cores < 1\n",
      "Returning the number of logical cores instead. You can silence this warning by setting LOKY_MAX_CPU_COUNT to the number of cores you want to use.\n",
      "  warnings.warn(\n",
      "  File \"C:\\Users\\sepid\\anaconda3\\lib\\site-packages\\joblib\\externals\\loky\\backend\\context.py\", line 282, in _count_physical_cores\n",
      "    raise ValueError(f\"found {cpu_count_physical} physical cores < 1\")\n"
     ]
    }
   ],
   "source": [
    "dfCustomers, dist = clustering(customers,predcol=predcol, usecol=usecol, clusters=5)"
   ]
  },
  {
   "cell_type": "code",
   "execution_count": 21,
   "id": "0d3c91d3",
   "metadata": {},
   "outputs": [
    {
     "data": {
      "text/plain": [
       "465029.34825960983"
      ]
     },
     "execution_count": 21,
     "metadata": {},
     "output_type": "execute_result"
    }
   ],
   "source": [
    "dist"
   ]
  },
  {
   "cell_type": "code",
   "execution_count": 23,
   "id": "e9332b7a",
   "metadata": {},
   "outputs": [],
   "source": [
    "listUniBins = dfCustomers['pred'].unique()"
   ]
  },
  {
   "cell_type": "markdown",
   "id": "a639ad75",
   "metadata": {},
   "source": [
    "comparing elbow scores, new dist has decreased to 465029.34825960983 from 574640.1093258426 which shows better clustering than previous one."
   ]
  },
  {
   "cell_type": "code",
   "execution_count": 24,
   "id": "3fd81165",
   "metadata": {},
   "outputs": [
    {
     "name": "stdout",
     "output_type": "stream",
     "text": [
      "The shape of scope transaction for 3 is (4978006, 4). \n",
      "\n",
      "The shape of scope transaction for 0 is (10100461, 4). \n",
      "\n",
      "The shape of scope transaction for 4 is (4552147, 4). \n",
      "\n",
      "The shape of scope transaction for 2 is (565598, 4). \n",
      "\n",
      "The shape of scope transaction for 1 is (7180850, 4). \n",
      "\n"
     ]
    }
   ],
   "source": [
    "for uniBin in listUniBins: \n",
    "    \n",
    "    df = df_org1.copy()\n",
    "    dfCustomersTemp = dfCustomers[dfCustomers['pred'] == uniBin]\n",
    "    dfCustomersTemp = dfCustomersTemp.drop(['pred'], axis=1)\n",
    "    \n",
    "    #\n",
    "    df = df.merge(dfCustomersTemp[['customer_id', 'age']], on='customer_id', how='inner')\n",
    "    print(f'The shape of scope transaction for {uniBin} is {df.shape}. \\n')\n",
    "\n",
    "    # transformation part\n",
    "    df['customer_id'] = df['customer_id'].apply(lambda x: int(x[-16:],16) ).astype('int64')\n",
    "    # here we get the maximum date of purchase we have which is 2020-09-22 and it is Tuesday\n",
    "    last_ts = df['t_dat'].max()\n",
    "    # as the last date is Tuesday so weekly count of purchases are going to be counted from every Tuesday to the next Tuesday\n",
    "    # for doing so first we nee dto have all dates and their day of week\n",
    "    tmp = df[['t_dat']].copy()\n",
    "    tmp['dow'] = tmp['t_dat'].dt.dayofweek\n",
    "    #in this part every t-dat is taken and find the Tuesday related to the week of that t-dat and saves it in lbdw\n",
    "    # for example if date is Thursday it will return date of 2 days ago which is Tuesday and if it is Monday it will return date of tomorrow\n",
    "    tmp['ldbw'] = tmp['t_dat'] - pd.TimedeltaIndex(tmp['dow'] - 1, unit='D')\n",
    "    #next step is calculating next Tuesday after the one in lbdw\n",
    "    tmp.loc[tmp['dow'] >=2 , 'ldbw'] = tmp.loc[tmp['dow'] >=2 , 'ldbw'] + pd.TimedeltaIndex(np.ones(len(tmp.loc[tmp['dow'] >=2])) * 7, unit='D')\n",
    "    df['ldbw'] = tmp['ldbw'].values\n",
    "    #so basically here we count purchase of articles for each week (grouping products with lbdw)\n",
    "    weekly_sales = df.drop('customer_id', axis=1).groupby(['ldbw', 'article_id']).count().reset_index()\n",
    "    weekly_sales = weekly_sales.rename(columns={'t_dat': 'count'})\n",
    "    df = df.merge(weekly_sales, on=['ldbw', 'article_id'], how = 'left')\n",
    "    weekly_sales = weekly_sales.reset_index().set_index('article_id')\n",
    "    #count_targ is amount of last week purchase of each product    \n",
    "    df = df.merge(\n",
    "        weekly_sales.loc[weekly_sales['ldbw']==last_ts, ['count']],\n",
    "        on='article_id', suffixes=(\"\", \"_targ\"))\n",
    "    # in case of no last week purchase of that product it will be filled with 0\n",
    "    df['count_targ'].fillna(0, inplace=True)\n",
    "    del weekly_sales\n",
    "    # based on last week purchase a quotient is calculated which is divisison of amouunt of last week purchase over each week\n",
    "    df['quotient'] = df['count_targ'] / df['count']\n",
    "    # then all quotients are summed for each article individually\n",
    "    # thisn qoutient can be used as a baseline also\n",
    "    target_sales = df.drop('customer_id', axis=1).groupby('article_id')['quotient'].sum()\n",
    "    # this target sales is each product score and based on that the top 12 can be recommended to the customers with no purchase history\n",
    "    general_pred = target_sales.nlargest(12).index.tolist()\n",
    "    general_pred = ['0' + str(article_id) for article_id in general_pred]\n",
    "    general_pred_str =  ' '.join(general_pred)\n",
    "    del target_sales\n",
    "    purchase_dict = {}\n",
    "    tmp = df.copy()\n",
    "    # here days difference between last date and purchase date of each transiction is calculated\n",
    "    tmp['x'] = ((last_ts - tmp['t_dat']) / np.timedelta64(1, 'D')).astype(int)\n",
    "    # if it it the last date purchase then we substitude 0 x with 1\n",
    "    tmp['dummy_1'] = 1 \n",
    "    tmp['x'] = tmp[[\"x\", \"dummy_1\"]].max(axis=1)\n",
    "    #by using this function, transaction dates closer to last week are given more importance\n",
    "    tmp['y'] = a / np.sqrt((tmp['x']+1)) + b * np.exp(-c*(tmp['x']+1)) - d\n",
    "    # substitution of negative weights by 0\n",
    "    tmp['dummy_0'] = 0 \n",
    "    tmp['y'] = tmp[[\"y\", \"dummy_0\"]].max(axis=1)\n",
    "    # wight are multiplied by qoutients and then aggregated for each customer and article\n",
    "    tmp['value'] = tmp['quotient'] * tmp['y'] \n",
    "    tmp = tmp.groupby(['customer_id', 'article_id']).agg({'value': 'sum'})\n",
    "    tmp = tmp.reset_index()\n",
    "    # we rank the value and then 12 highest ranks for each customer\n",
    "    tmp = tmp.loc[tmp['value'] > 0]\n",
    "    tmp['rank'] = tmp.groupby(\"customer_id\")[\"value\"].rank(\"dense\", ascending=False)\n",
    "    tmp = tmp.loc[tmp['rank'] <= 12]\n",
    "    # values are sorted for each customer\n",
    "    purchase_df = tmp.sort_values(['customer_id', 'value'], ascending = False).reset_index(drop = True)\n",
    "    purchase_df['prediction'] = '0' + purchase_df['article_id'].astype(str) + ' '\n",
    "    purchase_df = purchase_df.groupby('customer_id').agg({'prediction': sum}).reset_index()\n",
    "    purchase_df['prediction'] = purchase_df['prediction'].str.strip()\n",
    "    purchase_df = pd.DataFrame(purchase_df)\n",
    "    # we read the sub file and to each customer we contacenate its related predictions\n",
    "    sub  = pd.read_csv('C:/Users/sepid/Desktop/H & m/sample_submission.csv',\n",
    "                        usecols= ['customer_id'], \n",
    "                        dtype={'customer_id': 'string'})\n",
    "    sub = sub.merge(dfCustomersTemp[['customer_id', 'age']], on='customer_id', how='inner')\n",
    "    sub['customer_id2'] = sub['customer_id'].apply(lambda x: int(x[-16:],16) ).astype('int64')\n",
    "    sub = sub.merge(purchase_df, left_on = 'customer_id2', right_on = 'customer_id', how = 'left',\n",
    "               suffixes = ('', '_ignored'))\n",
    "    # customers with no history will be recommended with general prediction which is top 12 quotinet\n",
    "    sub['prediction'] = sub['prediction'].fillna(general_pred_str)\n",
    "    # and here for customers that they already have purchase history if their number of predictions is less than 12 the rest will be filled with general prediction\n",
    "    sub['prediction'] = sub['prediction'] + ' ' +  general_pred_str\n",
    "    sub['prediction'] = sub['prediction'].str.strip()\n",
    "    sub['prediction'] = sub['prediction'].str[:131]\n",
    "    sub = sub[['customer_id', 'prediction']]\n",
    "    sub.to_csv(f'C:/Users/sepid/Desktop/H & m/unibins/submission_' + str(uniBin) + '.csv',index=False)\n",
    "\n",
    "for i, uniBin in enumerate(listUniBins):\n",
    "    dfTemp  = pd.read_csv(f'C:/Users/sepid/Desktop/H & m/unibins/submission_' + str(uniBin) + '.csv')\n",
    "    if i == 0:\n",
    "        dfSub = dfTemp\n",
    "    else:\n",
    "        dfSub = pd.concat([dfSub, dfTemp], axis=0)\n",
    "dfSub.to_csv(f'C:/Users/sepid/Desktop/H & m/submission_.csv', index=False)\n",
    "# this has public score of 0.02246 and private score of 0.02257"
   ]
  },
  {
   "cell_type": "code",
   "execution_count": 26,
   "id": "a7a3b22d",
   "metadata": {},
   "outputs": [
    {
     "data": {
      "text/plain": [
       "Text(0.5, 0, 'club_member_status')"
      ]
     },
     "execution_count": 26,
     "metadata": {},
     "output_type": "execute_result"
    },
    {
     "data": {
      "image/png": "[encoded data removed]",
      "text/plain": [
       "<Figure size 1000x700 with 1 Axes>"
      ]
     },
     "metadata": {},
     "output_type": "display_data"
    }
   ],
   "source": [
    "df0=dfCustomers[dfCustomers.pred==0]\n",
    "df1=dfCustomers[dfCustomers.pred==1]\n",
    "df2=dfCustomers[dfCustomers.pred==2]\n",
    "df3=dfCustomers[dfCustomers.pred==3]\n",
    "df4=dfCustomers[dfCustomers.pred==4]\n",
    "\n",
    "fig = plt.figure(figsize = (10, 7))\n",
    "ax = plt.axes(projection =\"3d\")\n",
    "\n",
    "ax.scatter3D(df1[\"age\"],df1[\"fashion_news_frequency\"],df1[\"club_member_status\"],color='green')\n",
    "ax.scatter3D(df2[\"age\"],df2[\"fashion_news_frequency\"],df2[\"club_member_status\"],color='blue')\n",
    "ax.scatter3D(df3[\"age\"],df3[\"fashion_news_frequency\"],df3[\"club_member_status\"],color='red')\n",
    "ax.scatter3D(df4[\"age\"],df4[\"fashion_news_frequency\"],df4[\"club_member_status\"],color='yellow')\n",
    "ax.scatter3D(df0[\"age\"],df0[\"fashion_news_frequency\"],df0[\"club_member_status\"],color='black')\n",
    "\n",
    "ax.set_xlabel('age', fontweight ='bold')\n",
    "ax.set_ylabel('fashion_news_frequency', fontweight ='bold')\n",
    "ax.set_zlabel('club_member_status', fontweight ='bold')"
   ]
  },
  {
   "cell_type": "code",
   "execution_count": 27,
   "id": "1969f4e9",
   "metadata": {},
   "outputs": [
    {
     "name": "stderr",
     "output_type": "stream",
     "text": [
      "C:\\Users\\sepid\\anaconda3\\lib\\site-packages\\seaborn\\distributions.py:2619: FutureWarning: `distplot` is a deprecated function and will be removed in a future version. Please adapt your code to use either `displot` (a figure-level function with similar flexibility) or `histplot` (an axes-level function for histograms).\n",
      "  warnings.warn(msg, FutureWarning)\n"
     ]
    },
    {
     "data": {
      "text/plain": [
       "<AxesSubplot:xlabel='pred', ylabel='Density'>"
      ]
     },
     "execution_count": 27,
     "metadata": {},
     "output_type": "execute_result"
    },
    {
     "data": {
      "image/png": "[encoded data removed]",
      "text/plain": [
       "<Figure size 640x480 with 1 Axes>"
      ]
     },
     "metadata": {},
     "output_type": "display_data"
    }
   ],
   "source": [
    "sns.distplot(dfCustomers['pred'])"
   ]
  },
  {
   "cell_type": "markdown",
   "id": "55e004c0",
   "metadata": {},
   "source": [
    "# Age grouping"
   ]
  },
  {
   "cell_type": "markdown",
   "id": "9219353b",
   "metadata": {},
   "source": [
    "here I clustered our customers only with age. instead of kmean I used simple age grouping."
   ]
  },
  {
   "cell_type": "code",
   "execution_count": 29,
   "id": "ec8a16a7",
   "metadata": {},
   "outputs": [
    {
     "data": {
      "text/plain": [
       "16.0"
      ]
     },
     "execution_count": 29,
     "metadata": {},
     "output_type": "execute_result"
    }
   ],
   "source": [
    "customers['age'].min()"
   ]
  },
  {
   "cell_type": "code",
   "execution_count": 30,
   "id": "8773f76d",
   "metadata": {},
   "outputs": [
    {
     "data": {
      "text/plain": [
       "99.0"
      ]
     },
     "execution_count": 30,
     "metadata": {},
     "output_type": "execute_result"
    }
   ],
   "source": [
    "customers['age'].max()"
   ]
  },
  {
   "cell_type": "markdown",
   "id": "4deda596",
   "metadata": {},
   "source": [
    "lets create 3 age groups: from 16 to 30 as first age group then from 30 to 50 the second age groupand from 50 to 99 as the last group"
   ]
  },
  {
   "cell_type": "code",
   "execution_count": 34,
   "id": "54844042",
   "metadata": {},
   "outputs": [],
   "source": [
    "customers['group'] = customers['age'].apply(lambda x : 1 if x<30 else(2 if 30 <= x < 50 else 3))"
   ]
  },
  {
   "cell_type": "code",
   "execution_count": 35,
   "id": "203622da",
   "metadata": {},
   "outputs": [
    {
     "data": {
      "text/html": [
       "<div>\n",
       "<style scoped>\n",
       "    .dataframe tbody tr th:only-of-type {\n",
       "        vertical-align: middle;\n",
       "    }\n",
       "\n",
       "    .dataframe tbody tr th {\n",
       "        vertical-align: top;\n",
       "    }\n",
       "\n",
       "    .dataframe thead th {\n",
       "        text-align: right;\n",
       "    }\n",
       "</style>\n",
       "<table border=\"1\" class=\"dataframe\">\n",
       "  <thead>\n",
       "    <tr style=\"text-align: right;\">\n",
       "      <th></th>\n",
       "      <th>customer_id</th>\n",
       "      <th>FN</th>\n",
       "      <th>Active</th>\n",
       "      <th>club_member_status</th>\n",
       "      <th>fashion_news_frequency</th>\n",
       "      <th>age</th>\n",
       "      <th>group</th>\n",
       "    </tr>\n",
       "  </thead>\n",
       "  <tbody>\n",
       "    <tr>\n",
       "      <th>0</th>\n",
       "      <td>00000dbacae5abe5e23885899a1fa44253a17956c6d1c3...</td>\n",
       "      <td>0.0</td>\n",
       "      <td>0.0</td>\n",
       "      <td>2</td>\n",
       "      <td>0</td>\n",
       "      <td>49.0</td>\n",
       "      <td>2</td>\n",
       "    </tr>\n",
       "    <tr>\n",
       "      <th>1</th>\n",
       "      <td>0000423b00ade91418cceaf3b26c6af3dd342b51fd051e...</td>\n",
       "      <td>0.0</td>\n",
       "      <td>0.0</td>\n",
       "      <td>2</td>\n",
       "      <td>0</td>\n",
       "      <td>25.0</td>\n",
       "      <td>1</td>\n",
       "    </tr>\n",
       "    <tr>\n",
       "      <th>2</th>\n",
       "      <td>000058a12d5b43e67d225668fa1f8d618c13dc232df0ca...</td>\n",
       "      <td>0.0</td>\n",
       "      <td>0.0</td>\n",
       "      <td>2</td>\n",
       "      <td>0</td>\n",
       "      <td>24.0</td>\n",
       "      <td>1</td>\n",
       "    </tr>\n",
       "    <tr>\n",
       "      <th>3</th>\n",
       "      <td>00005ca1c9ed5f5146b52ac8639a40ca9d57aeff4d1bd2...</td>\n",
       "      <td>0.0</td>\n",
       "      <td>0.0</td>\n",
       "      <td>2</td>\n",
       "      <td>0</td>\n",
       "      <td>54.0</td>\n",
       "      <td>3</td>\n",
       "    </tr>\n",
       "    <tr>\n",
       "      <th>4</th>\n",
       "      <td>00006413d8573cd20ed7128e53b7b13819fe5cfc2d801f...</td>\n",
       "      <td>1.0</td>\n",
       "      <td>1.0</td>\n",
       "      <td>2</td>\n",
       "      <td>2</td>\n",
       "      <td>52.0</td>\n",
       "      <td>3</td>\n",
       "    </tr>\n",
       "    <tr>\n",
       "      <th>...</th>\n",
       "      <td>...</td>\n",
       "      <td>...</td>\n",
       "      <td>...</td>\n",
       "      <td>...</td>\n",
       "      <td>...</td>\n",
       "      <td>...</td>\n",
       "      <td>...</td>\n",
       "    </tr>\n",
       "    <tr>\n",
       "      <th>1371975</th>\n",
       "      <td>ffffbbf78b6eaac697a8a5dfbfd2bfa8113ee5b403e474...</td>\n",
       "      <td>0.0</td>\n",
       "      <td>0.0</td>\n",
       "      <td>2</td>\n",
       "      <td>0</td>\n",
       "      <td>24.0</td>\n",
       "      <td>1</td>\n",
       "    </tr>\n",
       "    <tr>\n",
       "      <th>1371976</th>\n",
       "      <td>ffffcd5046a6143d29a04fb8c424ce494a76e5cdf4fab5...</td>\n",
       "      <td>0.0</td>\n",
       "      <td>0.0</td>\n",
       "      <td>2</td>\n",
       "      <td>0</td>\n",
       "      <td>21.0</td>\n",
       "      <td>1</td>\n",
       "    </tr>\n",
       "    <tr>\n",
       "      <th>1371977</th>\n",
       "      <td>ffffcf35913a0bee60e8741cb2b4e78b8a98ee5ff2e6a1...</td>\n",
       "      <td>1.0</td>\n",
       "      <td>1.0</td>\n",
       "      <td>2</td>\n",
       "      <td>2</td>\n",
       "      <td>21.0</td>\n",
       "      <td>1</td>\n",
       "    </tr>\n",
       "    <tr>\n",
       "      <th>1371978</th>\n",
       "      <td>ffffd7744cebcf3aca44ae7049d2a94b87074c3d4ffe38...</td>\n",
       "      <td>1.0</td>\n",
       "      <td>1.0</td>\n",
       "      <td>2</td>\n",
       "      <td>2</td>\n",
       "      <td>18.0</td>\n",
       "      <td>1</td>\n",
       "    </tr>\n",
       "    <tr>\n",
       "      <th>1371979</th>\n",
       "      <td>ffffd9ac14e89946416d80e791d064701994755c3ab686...</td>\n",
       "      <td>0.0</td>\n",
       "      <td>0.0</td>\n",
       "      <td>1</td>\n",
       "      <td>0</td>\n",
       "      <td>65.0</td>\n",
       "      <td>3</td>\n",
       "    </tr>\n",
       "  </tbody>\n",
       "</table>\n",
       "<p>1371980 rows × 7 columns</p>\n",
       "</div>"
      ],
      "text/plain": [
       "                                               customer_id   FN  Active  \\\n",
       "0        00000dbacae5abe5e23885899a1fa44253a17956c6d1c3...  0.0     0.0   \n",
       "1        0000423b00ade91418cceaf3b26c6af3dd342b51fd051e...  0.0     0.0   \n",
       "2        000058a12d5b43e67d225668fa1f8d618c13dc232df0ca...  0.0     0.0   \n",
       "3        00005ca1c9ed5f5146b52ac8639a40ca9d57aeff4d1bd2...  0.0     0.0   \n",
       "4        00006413d8573cd20ed7128e53b7b13819fe5cfc2d801f...  1.0     1.0   \n",
       "...                                                    ...  ...     ...   \n",
       "1371975  ffffbbf78b6eaac697a8a5dfbfd2bfa8113ee5b403e474...  0.0     0.0   \n",
       "1371976  ffffcd5046a6143d29a04fb8c424ce494a76e5cdf4fab5...  0.0     0.0   \n",
       "1371977  ffffcf35913a0bee60e8741cb2b4e78b8a98ee5ff2e6a1...  1.0     1.0   \n",
       "1371978  ffffd7744cebcf3aca44ae7049d2a94b87074c3d4ffe38...  1.0     1.0   \n",
       "1371979  ffffd9ac14e89946416d80e791d064701994755c3ab686...  0.0     0.0   \n",
       "\n",
       "         club_member_status  fashion_news_frequency   age  group  \n",
       "0                         2                       0  49.0      2  \n",
       "1                         2                       0  25.0      1  \n",
       "2                         2                       0  24.0      1  \n",
       "3                         2                       0  54.0      3  \n",
       "4                         2                       2  52.0      3  \n",
       "...                     ...                     ...   ...    ...  \n",
       "1371975                   2                       0  24.0      1  \n",
       "1371976                   2                       0  21.0      1  \n",
       "1371977                   2                       2  21.0      1  \n",
       "1371978                   2                       2  18.0      1  \n",
       "1371979                   1                       0  65.0      3  \n",
       "\n",
       "[1371980 rows x 7 columns]"
      ]
     },
     "execution_count": 35,
     "metadata": {},
     "output_type": "execute_result"
    }
   ],
   "source": [
    "customers"
   ]
  },
  {
   "cell_type": "code",
   "execution_count": 37,
   "id": "a115bdee",
   "metadata": {},
   "outputs": [],
   "source": [
    "dfCustomers = customers.drop(['FN' , 'Active' , 'club_member_status' , 'fashion_news_frequency' , 'age'] , axis=1)"
   ]
  },
  {
   "cell_type": "code",
   "execution_count": 44,
   "id": "4ad0b070",
   "metadata": {},
   "outputs": [],
   "source": [
    "listUniBins = customers['group'].unique()"
   ]
  },
  {
   "cell_type": "markdown",
   "id": "9ccfa466",
   "metadata": {},
   "source": [
    "doing the whole previous steps on age groups on dataset where 2018 is removed we get score:\n",
    "public score of 0.02267 and private score of 0.02264"
   ]
  },
  {
   "cell_type": "markdown",
   "id": "684b7cc4",
   "metadata": {},
   "source": [
    "so far this is the best result"
   ]
  },
  {
   "cell_type": "markdown",
   "id": "7ccd6b62",
   "metadata": {},
   "source": [
    "now lets change the age grouping and instead of 3 make 4 age groups. from 16 to 25, 25 to 35, 35 to 55 and the rest going to be in the same category"
   ]
  },
  {
   "cell_type": "code",
   "execution_count": 49,
   "id": "5760aa08",
   "metadata": {},
   "outputs": [],
   "source": [
    "customers = customers.drop(['group'],axis=1)"
   ]
  },
  {
   "cell_type": "code",
   "execution_count": 51,
   "id": "95a981e5",
   "metadata": {},
   "outputs": [],
   "source": [
    "customers['group'] = customers['age'].apply(lambda x : 1 if x<25 else(2 if 25 <= x < 35 else (3 if 35 <= x < 55 else 4)))"
   ]
  },
  {
   "cell_type": "code",
   "execution_count": 63,
   "id": "c4f30a3e",
   "metadata": {},
   "outputs": [],
   "source": [
    "dfCustomers = customers.drop(['FN' , 'Active' , 'club_member_status' , 'fashion_news_frequency' , 'age'] , axis=1)"
   ]
  },
  {
   "cell_type": "code",
   "execution_count": 64,
   "id": "d3324863",
   "metadata": {},
   "outputs": [],
   "source": [
    "listUniBins = dfCustomers['group'].unique()"
   ]
  },
  {
   "cell_type": "markdown",
   "id": "006d1e49",
   "metadata": {},
   "source": [
    "changing age groups from 3 to 4 decreased the scores:\n",
    "this has public score of 0.02256 and private score of 0.02262\n",
    "so 3 age group was better option"
   ]
  },
  {
   "cell_type": "markdown",
   "id": "4933268c",
   "metadata": {},
   "source": [
    "# clustering with age group"
   ]
  },
  {
   "cell_type": "markdown",
   "id": "ee92aaf1",
   "metadata": {},
   "source": [
    "based on teh result the first grouping was better. now I am going to do clustering on first age grouping combined by other columns"
   ]
  },
  {
   "cell_type": "code",
   "execution_count": 78,
   "id": "1c748b81",
   "metadata": {},
   "outputs": [],
   "source": [
    "customers['group'] = customers['age'].apply(lambda x : 1 if x<30 else(2 if 30 <= x < 50 else 3))"
   ]
  },
  {
   "cell_type": "code",
   "execution_count": 79,
   "id": "a5992dd4",
   "metadata": {},
   "outputs": [
    {
     "data": {
      "text/html": [
       "<div>\n",
       "<style scoped>\n",
       "    .dataframe tbody tr th:only-of-type {\n",
       "        vertical-align: middle;\n",
       "    }\n",
       "\n",
       "    .dataframe tbody tr th {\n",
       "        vertical-align: top;\n",
       "    }\n",
       "\n",
       "    .dataframe thead th {\n",
       "        text-align: right;\n",
       "    }\n",
       "</style>\n",
       "<table border=\"1\" class=\"dataframe\">\n",
       "  <thead>\n",
       "    <tr style=\"text-align: right;\">\n",
       "      <th></th>\n",
       "      <th>customer_id</th>\n",
       "      <th>FN</th>\n",
       "      <th>Active</th>\n",
       "      <th>club_member_status</th>\n",
       "      <th>fashion_news_frequency</th>\n",
       "      <th>age</th>\n",
       "      <th>group</th>\n",
       "    </tr>\n",
       "  </thead>\n",
       "  <tbody>\n",
       "    <tr>\n",
       "      <th>0</th>\n",
       "      <td>00000dbacae5abe5e23885899a1fa44253a17956c6d1c3...</td>\n",
       "      <td>0.0</td>\n",
       "      <td>0.0</td>\n",
       "      <td>2</td>\n",
       "      <td>0</td>\n",
       "      <td>49.0</td>\n",
       "      <td>2</td>\n",
       "    </tr>\n",
       "    <tr>\n",
       "      <th>1</th>\n",
       "      <td>0000423b00ade91418cceaf3b26c6af3dd342b51fd051e...</td>\n",
       "      <td>0.0</td>\n",
       "      <td>0.0</td>\n",
       "      <td>2</td>\n",
       "      <td>0</td>\n",
       "      <td>25.0</td>\n",
       "      <td>1</td>\n",
       "    </tr>\n",
       "    <tr>\n",
       "      <th>2</th>\n",
       "      <td>000058a12d5b43e67d225668fa1f8d618c13dc232df0ca...</td>\n",
       "      <td>0.0</td>\n",
       "      <td>0.0</td>\n",
       "      <td>2</td>\n",
       "      <td>0</td>\n",
       "      <td>24.0</td>\n",
       "      <td>1</td>\n",
       "    </tr>\n",
       "    <tr>\n",
       "      <th>3</th>\n",
       "      <td>00005ca1c9ed5f5146b52ac8639a40ca9d57aeff4d1bd2...</td>\n",
       "      <td>0.0</td>\n",
       "      <td>0.0</td>\n",
       "      <td>2</td>\n",
       "      <td>0</td>\n",
       "      <td>54.0</td>\n",
       "      <td>3</td>\n",
       "    </tr>\n",
       "    <tr>\n",
       "      <th>4</th>\n",
       "      <td>00006413d8573cd20ed7128e53b7b13819fe5cfc2d801f...</td>\n",
       "      <td>1.0</td>\n",
       "      <td>1.0</td>\n",
       "      <td>2</td>\n",
       "      <td>2</td>\n",
       "      <td>52.0</td>\n",
       "      <td>3</td>\n",
       "    </tr>\n",
       "    <tr>\n",
       "      <th>...</th>\n",
       "      <td>...</td>\n",
       "      <td>...</td>\n",
       "      <td>...</td>\n",
       "      <td>...</td>\n",
       "      <td>...</td>\n",
       "      <td>...</td>\n",
       "      <td>...</td>\n",
       "    </tr>\n",
       "    <tr>\n",
       "      <th>1371975</th>\n",
       "      <td>ffffbbf78b6eaac697a8a5dfbfd2bfa8113ee5b403e474...</td>\n",
       "      <td>0.0</td>\n",
       "      <td>0.0</td>\n",
       "      <td>2</td>\n",
       "      <td>0</td>\n",
       "      <td>24.0</td>\n",
       "      <td>1</td>\n",
       "    </tr>\n",
       "    <tr>\n",
       "      <th>1371976</th>\n",
       "      <td>ffffcd5046a6143d29a04fb8c424ce494a76e5cdf4fab5...</td>\n",
       "      <td>0.0</td>\n",
       "      <td>0.0</td>\n",
       "      <td>2</td>\n",
       "      <td>0</td>\n",
       "      <td>21.0</td>\n",
       "      <td>1</td>\n",
       "    </tr>\n",
       "    <tr>\n",
       "      <th>1371977</th>\n",
       "      <td>ffffcf35913a0bee60e8741cb2b4e78b8a98ee5ff2e6a1...</td>\n",
       "      <td>1.0</td>\n",
       "      <td>1.0</td>\n",
       "      <td>2</td>\n",
       "      <td>2</td>\n",
       "      <td>21.0</td>\n",
       "      <td>1</td>\n",
       "    </tr>\n",
       "    <tr>\n",
       "      <th>1371978</th>\n",
       "      <td>ffffd7744cebcf3aca44ae7049d2a94b87074c3d4ffe38...</td>\n",
       "      <td>1.0</td>\n",
       "      <td>1.0</td>\n",
       "      <td>2</td>\n",
       "      <td>2</td>\n",
       "      <td>18.0</td>\n",
       "      <td>1</td>\n",
       "    </tr>\n",
       "    <tr>\n",
       "      <th>1371979</th>\n",
       "      <td>ffffd9ac14e89946416d80e791d064701994755c3ab686...</td>\n",
       "      <td>0.0</td>\n",
       "      <td>0.0</td>\n",
       "      <td>1</td>\n",
       "      <td>0</td>\n",
       "      <td>65.0</td>\n",
       "      <td>3</td>\n",
       "    </tr>\n",
       "  </tbody>\n",
       "</table>\n",
       "<p>1371980 rows × 7 columns</p>\n",
       "</div>"
      ],
      "text/plain": [
       "                                               customer_id   FN  Active  \\\n",
       "0        00000dbacae5abe5e23885899a1fa44253a17956c6d1c3...  0.0     0.0   \n",
       "1        0000423b00ade91418cceaf3b26c6af3dd342b51fd051e...  0.0     0.0   \n",
       "2        000058a12d5b43e67d225668fa1f8d618c13dc232df0ca...  0.0     0.0   \n",
       "3        00005ca1c9ed5f5146b52ac8639a40ca9d57aeff4d1bd2...  0.0     0.0   \n",
       "4        00006413d8573cd20ed7128e53b7b13819fe5cfc2d801f...  1.0     1.0   \n",
       "...                                                    ...  ...     ...   \n",
       "1371975  ffffbbf78b6eaac697a8a5dfbfd2bfa8113ee5b403e474...  0.0     0.0   \n",
       "1371976  ffffcd5046a6143d29a04fb8c424ce494a76e5cdf4fab5...  0.0     0.0   \n",
       "1371977  ffffcf35913a0bee60e8741cb2b4e78b8a98ee5ff2e6a1...  1.0     1.0   \n",
       "1371978  ffffd7744cebcf3aca44ae7049d2a94b87074c3d4ffe38...  1.0     1.0   \n",
       "1371979  ffffd9ac14e89946416d80e791d064701994755c3ab686...  0.0     0.0   \n",
       "\n",
       "         club_member_status  fashion_news_frequency   age  group  \n",
       "0                         2                       0  49.0      2  \n",
       "1                         2                       0  25.0      1  \n",
       "2                         2                       0  24.0      1  \n",
       "3                         2                       0  54.0      3  \n",
       "4                         2                       2  52.0      3  \n",
       "...                     ...                     ...   ...    ...  \n",
       "1371975                   2                       0  24.0      1  \n",
       "1371976                   2                       0  21.0      1  \n",
       "1371977                   2                       2  21.0      1  \n",
       "1371978                   2                       2  18.0      1  \n",
       "1371979                   1                       0  65.0      3  \n",
       "\n",
       "[1371980 rows x 7 columns]"
      ]
     },
     "execution_count": 79,
     "metadata": {},
     "output_type": "execute_result"
    }
   ],
   "source": [
    "customers"
   ]
  },
  {
   "cell_type": "code",
   "execution_count": 80,
   "id": "86ff9741",
   "metadata": {},
   "outputs": [],
   "source": [
    "usecol = ['club_member_status', 'fashion_news_frequency', 'group']\n",
    "predcol = ['customer_id']"
   ]
  },
  {
   "cell_type": "code",
   "execution_count": 81,
   "id": "c6e95f77",
   "metadata": {},
   "outputs": [
    {
     "name": "stdout",
     "output_type": "stream",
     "text": [
      "---- K = 2 ----\n"
     ]
    },
    {
     "name": "stderr",
     "output_type": "stream",
     "text": [
      "C:\\Users\\sepid\\anaconda3\\lib\\site-packages\\sklearn\\cluster\\_kmeans.py:1412: FutureWarning: The default value of `n_init` will change from 10 to 'auto' in 1.4. Set the value of `n_init` explicitly to suppress the warning\n",
      "  super()._check_params_vs_input(X, default_n_init=10)\n"
     ]
    },
    {
     "name": "stdout",
     "output_type": "stream",
     "text": [
      "---- K = 3 ----\n"
     ]
    },
    {
     "name": "stderr",
     "output_type": "stream",
     "text": [
      "C:\\Users\\sepid\\anaconda3\\lib\\site-packages\\sklearn\\cluster\\_kmeans.py:1412: FutureWarning: The default value of `n_init` will change from 10 to 'auto' in 1.4. Set the value of `n_init` explicitly to suppress the warning\n",
      "  super()._check_params_vs_input(X, default_n_init=10)\n"
     ]
    },
    {
     "name": "stdout",
     "output_type": "stream",
     "text": [
      "---- K = 4 ----\n"
     ]
    },
    {
     "name": "stderr",
     "output_type": "stream",
     "text": [
      "C:\\Users\\sepid\\anaconda3\\lib\\site-packages\\sklearn\\cluster\\_kmeans.py:1412: FutureWarning: The default value of `n_init` will change from 10 to 'auto' in 1.4. Set the value of `n_init` explicitly to suppress the warning\n",
      "  super()._check_params_vs_input(X, default_n_init=10)\n"
     ]
    },
    {
     "name": "stdout",
     "output_type": "stream",
     "text": [
      "---- K = 5 ----\n"
     ]
    },
    {
     "name": "stderr",
     "output_type": "stream",
     "text": [
      "C:\\Users\\sepid\\anaconda3\\lib\\site-packages\\sklearn\\cluster\\_kmeans.py:1412: FutureWarning: The default value of `n_init` will change from 10 to 'auto' in 1.4. Set the value of `n_init` explicitly to suppress the warning\n",
      "  super()._check_params_vs_input(X, default_n_init=10)\n"
     ]
    },
    {
     "name": "stdout",
     "output_type": "stream",
     "text": [
      "---- K = 6 ----\n"
     ]
    },
    {
     "name": "stderr",
     "output_type": "stream",
     "text": [
      "C:\\Users\\sepid\\anaconda3\\lib\\site-packages\\sklearn\\cluster\\_kmeans.py:1412: FutureWarning: The default value of `n_init` will change from 10 to 'auto' in 1.4. Set the value of `n_init` explicitly to suppress the warning\n",
      "  super()._check_params_vs_input(X, default_n_init=10)\n"
     ]
    },
    {
     "name": "stdout",
     "output_type": "stream",
     "text": [
      "---- K = 7 ----\n"
     ]
    },
    {
     "name": "stderr",
     "output_type": "stream",
     "text": [
      "C:\\Users\\sepid\\anaconda3\\lib\\site-packages\\sklearn\\cluster\\_kmeans.py:1412: FutureWarning: The default value of `n_init` will change from 10 to 'auto' in 1.4. Set the value of `n_init` explicitly to suppress the warning\n",
      "  super()._check_params_vs_input(X, default_n_init=10)\n"
     ]
    },
    {
     "name": "stdout",
     "output_type": "stream",
     "text": [
      "---- K = 8 ----\n"
     ]
    },
    {
     "name": "stderr",
     "output_type": "stream",
     "text": [
      "C:\\Users\\sepid\\anaconda3\\lib\\site-packages\\sklearn\\cluster\\_kmeans.py:1412: FutureWarning: The default value of `n_init` will change from 10 to 'auto' in 1.4. Set the value of `n_init` explicitly to suppress the warning\n",
      "  super()._check_params_vs_input(X, default_n_init=10)\n"
     ]
    },
    {
     "name": "stdout",
     "output_type": "stream",
     "text": [
      "---- K = 9 ----\n"
     ]
    },
    {
     "name": "stderr",
     "output_type": "stream",
     "text": [
      "C:\\Users\\sepid\\anaconda3\\lib\\site-packages\\sklearn\\cluster\\_kmeans.py:1412: FutureWarning: The default value of `n_init` will change from 10 to 'auto' in 1.4. Set the value of `n_init` explicitly to suppress the warning\n",
      "  super()._check_params_vs_input(X, default_n_init=10)\n"
     ]
    },
    {
     "name": "stdout",
     "output_type": "stream",
     "text": [
      "---- K = 10 ----\n"
     ]
    },
    {
     "name": "stderr",
     "output_type": "stream",
     "text": [
      "C:\\Users\\sepid\\anaconda3\\lib\\site-packages\\sklearn\\cluster\\_kmeans.py:1412: FutureWarning: The default value of `n_init` will change from 10 to 'auto' in 1.4. Set the value of `n_init` explicitly to suppress the warning\n",
      "  super()._check_params_vs_input(X, default_n_init=10)\n"
     ]
    },
    {
     "name": "stdout",
     "output_type": "stream",
     "text": [
      "---- K = 11 ----\n"
     ]
    },
    {
     "name": "stderr",
     "output_type": "stream",
     "text": [
      "C:\\Users\\sepid\\anaconda3\\lib\\site-packages\\sklearn\\cluster\\_kmeans.py:1412: FutureWarning: The default value of `n_init` will change from 10 to 'auto' in 1.4. Set the value of `n_init` explicitly to suppress the warning\n",
      "  super()._check_params_vs_input(X, default_n_init=10)\n"
     ]
    }
   ],
   "source": [
    "distortions = []\n",
    "kx = []\n",
    "for k in range(2,12):\n",
    "    print(f'---- K = {k} ----')\n",
    "    dfCustomers, dist = clustering(customers, predcol=predcol, usecol=usecol, clusters=k)\n",
    "    distortions.append(dist)\n",
    "    kx.append(k)"
   ]
  },
  {
   "cell_type": "code",
   "execution_count": 82,
   "id": "a1da5278",
   "metadata": {},
   "outputs": [
    {
     "data": {
      "text/plain": [
       "<function matplotlib.pyplot.show(close=None, block=None)>"
      ]
     },
     "execution_count": 82,
     "metadata": {},
     "output_type": "execute_result"
    },
    {
     "data": {
      "image/png": "[encoded data removed]",
      "text/plain": [
       "<Figure size 640x480 with 1 Axes>"
      ]
     },
     "metadata": {},
     "output_type": "display_data"
    }
   ],
   "source": [
    "plt.plot(kx, distortions)\n",
    "plt.scatter(kx, distortions)\n",
    "plt.xlabel(\"k: number of clusters\")\n",
    "plt.ylabel(\"Distortion\")\n",
    "plt.show"
   ]
  },
  {
   "cell_type": "code",
   "execution_count": 84,
   "id": "c446d1c1",
   "metadata": {},
   "outputs": [
    {
     "name": "stderr",
     "output_type": "stream",
     "text": [
      "C:\\Users\\sepid\\anaconda3\\lib\\site-packages\\sklearn\\cluster\\_kmeans.py:1412: FutureWarning: The default value of `n_init` will change from 10 to 'auto' in 1.4. Set the value of `n_init` explicitly to suppress the warning\n",
      "  super()._check_params_vs_input(X, default_n_init=10)\n"
     ]
    }
   ],
   "source": [
    "dfCustomers, dist = clustering(customers,predcol=predcol, usecol=usecol, clusters=6)"
   ]
  },
  {
   "cell_type": "code",
   "execution_count": 87,
   "id": "b4f0ecc6",
   "metadata": {},
   "outputs": [],
   "source": [
    "listUniBins = dfCustomers['pred'].unique()"
   ]
  },
  {
   "cell_type": "markdown",
   "id": "13edefda",
   "metadata": {},
   "source": [
    "the result is:\n",
    "this has public score of 0.0225 and private score of 0.02253"
   ]
  },
  {
   "cell_type": "markdown",
   "id": "999c5e44",
   "metadata": {},
   "source": [
    "it works the best when we consider the age only"
   ]
  },
  {
   "cell_type": "code",
   "execution_count": null,
   "id": "18a537c4",
   "metadata": {},
   "outputs": [],
   "source": []
  }
 ],
 "metadata": {
  "kernelspec": {
   "display_name": "Python 3 (ipykernel)",
   "language": "python",
   "name": "python3"
  },
  "language_info": {
   "codemirror_mode": {
    "name": "ipython",
    "version": 3
   },
   "file_extension": ".py",
   "mimetype": "text/x-python",
   "name": "python",
   "nbconvert_exporter": "python",
   "pygments_lexer": "ipython3",
   "version": "3.9.13"
  }
 },
 "nbformat": 4,
 "nbformat_minor": 5
}
